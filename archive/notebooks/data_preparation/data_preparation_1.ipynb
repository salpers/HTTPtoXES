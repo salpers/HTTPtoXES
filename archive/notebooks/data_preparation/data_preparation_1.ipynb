{
 "cells": [
  {
   "cell_type": "code",
   "execution_count": 2,
   "id": "initial_id",
   "metadata": {
    "collapsed": true,
    "ExecuteTime": {
     "end_time": "2024-01-06T10:56:47.339114Z",
     "start_time": "2024-01-06T10:56:46.344659Z"
    }
   },
   "outputs": [],
   "source": [
    "import numpy as np\n",
    "import pandas as pd\n",
    "import matplotlib.pyplot as plt"
   ]
  },
  {
   "cell_type": "markdown",
   "source": [
    "# Load data"
   ],
   "metadata": {
    "collapsed": false
   },
   "id": "9e715500536eebbe"
  },
  {
   "cell_type": "code",
   "execution_count": 37,
   "outputs": [],
   "source": [
    "df_res_hr = pd.read_csv('../../data/recognition_results/hr_data_anonymize_recognition_results.csv')\n",
    "df_r4 = pd.read_csv('../../data/HR-INTERLEAVED/R4/R4.csv')\n",
    "df_r3 = pd.read_csv('../../data/HR-INTERLEAVED/R3/R3.csv')\n",
    "df_r2 = pd.read_csv('../../data/HR-INTERLEAVED/R2/R2.csv')\n",
    "df_r1 = pd.read_csv('../../data/HR-INTERLEAVED/R1/R1.csv')"
   ],
   "metadata": {
    "collapsed": false,
    "ExecuteTime": {
     "end_time": "2024-01-08T10:53:44.987274Z",
     "start_time": "2024-01-08T10:53:44.368389Z"
    }
   },
   "id": "24db572cff27686c"
  },
  {
   "cell_type": "code",
   "execution_count": 39,
   "outputs": [],
   "source": [
    "df_res_hr = pd.read_csv('../../data/recognition_results/ptp_data_anonymize_recognition_results.csv')\n",
    "df_r4 = pd.read_csv('../../data/PTP-INTERLEAVED/R4/R4.csv')"
   ],
   "metadata": {
    "collapsed": false,
    "ExecuteTime": {
     "end_time": "2024-01-08T10:53:52.234182Z",
     "start_time": "2024-01-08T10:53:52.126390Z"
    }
   },
   "id": "c80b2d96e7cc2dd9"
  },
  {
   "cell_type": "code",
   "execution_count": 26,
   "outputs": [
    {
     "data": {
      "text/plain": "      Unnamed: 0.1  Unnamed: 0  \\\n0                0          27   \n1                1          82   \n2                2          86   \n3                3         188   \n4                4         258   \n...            ...         ...   \n3712          3712      224670   \n3713          3713      224675   \n3714          3714      224680   \n3715          3715      224763   \n3716          3716      224786   \n\n                                             FileName  \\\n0     async_2022_08_03-0336_10_cases_10_interval.pcap   \n1     async_2022_08_03-0336_10_cases_10_interval.pcap   \n2     async_2022_08_03-0336_10_cases_10_interval.pcap   \n3     async_2022_08_03-0336_10_cases_10_interval.pcap   \n4     async_2022_08_03-0336_10_cases_10_interval.pcap   \n...                                               ...   \n3712  async_2022_08_03-0336_10_cases_10_interval.pcap   \n3713  async_2022_08_03-0336_10_cases_10_interval.pcap   \n3714  async_2022_08_03-0336_10_cases_10_interval.pcap   \n3715  async_2022_08_03-0336_10_cases_10_interval.pcap   \n3716  async_2022_08_03-0336_10_cases_10_interval.pcap   \n\n                       BusinessActivity  InstanceNumber  \\\n0     order_to_cash_interleaved_10cases            2022   \n1     order_to_cash_interleaved_10cases            2022   \n2     order_to_cash_interleaved_10cases            2022   \n3     order_to_cash_interleaved_10cases            2022   \n4     order_to_cash_interleaved_10cases            2022   \n...                                 ...             ...   \n3712  order_to_cash_interleaved_10cases            2022   \n3713  order_to_cash_interleaved_10cases            2022   \n3714  order_to_cash_interleaved_10cases            2022   \n3715  order_to_cash_interleaved_10cases            2022   \n3716  order_to_cash_interleaved_10cases            2022   \n\n                      sniff_time  frame.number        synthetic_sniff_time  \\\n0     2022-08-03 13:36:21.687676            96  2022-08-04 21:07:16.297676   \n1     2022-08-03 13:36:21.958633           137  2022-08-04 21:52:26.138633   \n2     2022-08-03 13:36:21.960536           145  2022-08-04 21:52:45.170536   \n3     2022-08-03 13:36:22.298610           209  2022-08-04 22:49:06.248610   \n4     2022-08-03 13:36:22.413521           232  2022-08-04 23:08:15.473521   \n...                          ...           ...                         ...   \n3712  2022-08-03 13:38:49.467434        112133  2022-08-21 23:39:41.657434   \n3713  2022-08-03 13:38:49.471018        112135  2022-08-21 23:40:17.501018   \n3714  2022-08-03 13:38:49.471760        112137  2022-08-21 23:40:24.921760   \n3715  2022-08-03 13:38:49.487802        112175  2022-08-21 23:43:05.357802   \n3716  2022-08-03 13:38:49.497468        112188  2022-08-21 23:44:42.027468   \n\n        synthetic_sniff_time_str              session_generalized  ...  \\\n0     2022-08-04 21:07:16.297676   192.168.11.2-192.168.11.10 (1)  ...   \n1     2022-08-04 21:52:26.138633   192.168.11.2-192.168.11.10 (1)  ...   \n2     2022-08-04 21:52:45.170536   192.168.11.2-192.168.11.10 (2)  ...   \n3     2022-08-04 22:49:06.248610    192.168.11.1-192.168.11.2 (7)  ...   \n4     2022-08-04 23:08:15.473521   192.168.11.2-192.168.11.10 (2)  ...   \n...                          ...                              ...  ...   \n3712  2022-08-21 23:39:41.657434    192.168.11.1-192.168.11.2 (4)  ...   \n3713  2022-08-21 23:40:17.501018    192.168.11.1-192.168.11.2 (4)  ...   \n3714  2022-08-21 23:40:24.921760    192.168.11.1-192.168.11.2 (4)  ...   \n3715  2022-08-21 23:43:05.357802    192.168.11.1-192.168.11.2 (4)  ...   \n3716  2022-08-21 23:44:42.027468  192.168.11.2-192.168.11.21 (24)  ...   \n\n                                         MessageType  \\\n0     HttpRequest:POST /xmlrpc/2/common HTTP/1.1\\r\\n   \n1                   HttpResponse:HTTP/1.0 200 OK\\r\\n   \n2     HttpRequest:POST /xmlrpc/2/common HTTP/1.1\\r\\n   \n3                          PgsqlRequest:Simple query   \n4                   HttpResponse:HTTP/1.0 200 OK\\r\\n   \n...                                              ...   \n3712                       PgsqlRequest:Simple query   \n3713                       PgsqlRequest:Simple query   \n3714                       PgsqlRequest:Simple query   \n3715                       PgsqlRequest:Simple query   \n3716                HttpResponse:HTTP/1.0 200 OK\\r\\n   \n\n                                      MessageAttributes query_type  \\\n0     {'': 'POST /xmlrpc/2/common HTTP/1.1\\\\r\\\\n', '...        NaN   \n1     {'': 'HTTP/1.0 200 OK\\\\r\\\\n', '_ws.expert': 'E...        NaN   \n2     {'': 'POST /xmlrpc/2/common HTTP/1.1\\\\r\\\\n', '...        NaN   \n3     {'pgsql.type': 'Simple query', 'pgsql.length':...     INSERT   \n4     {'': 'HTTP/1.0 200 OK\\\\r\\\\n', '_ws.expert': 'E...        NaN   \n...                                                 ...        ...   \n3712  {'pgsql.type': 'Simple query', 'pgsql.length':...     INSERT   \n3713  {'pgsql.type': 'Simple query', 'pgsql.length':...     INSERT   \n3714  {'pgsql.type': 'Simple query', 'pgsql.length':...     INSERT   \n3715  {'pgsql.type': 'Simple query', 'pgsql.length':...     INSERT   \n3716  {'': 'HTTP/1.0 200 OK\\\\r\\\\n', '_ws.expert': 'E...        NaN   \n\n     session_class filter_flag  \\\n0             http        True   \n1             http        True   \n2             http        True   \n3            pgsql        True   \n4             http        True   \n...            ...         ...   \n3712         pgsql        True   \n3713         pgsql        True   \n3714         pgsql        True   \n3715         pgsql        True   \n3716          http        True   \n\n                                                  query  \\\n0                                                   NaN   \n1                                                   NaN   \n2                                                   NaN   \n3     INSERT INTO \"res_users_log\" (\"id\", \"create_uid...   \n4                                                   NaN   \n...                                                 ...   \n3712  INSERT INTO \"account_payment\" (\"id\", \"create_u...   \n3713  INSERT INTO \"mail_followers\" (\"id\", \"partner_i...   \n3714  \\xa                INSERT INTO mail_followers_...   \n3715  INSERT INTO \"mail_message\" (\"id\", \"create_uid\"...   \n3716                                                NaN   \n\n                                           tables  \\\n0                                             NaN   \n1                                             NaN   \n2                                             NaN   \n3                               ['res_users_log']   \n4                                             NaN   \n...                                           ...   \n3712                          ['account_payment']   \n3713                           ['mail_followers']   \n3714  ['mail_followers_mail_message_subtype_rel']   \n3715                             ['mail_message']   \n3716                                          NaN   \n\n                                                  event  \\\n0        HttpRequest:POST /xmlrpc/2/common HTTP/1.1\\r\\n   \n1                      HttpResponse:HTTP/1.0 200 OK\\r\\n   \n2        HttpRequest:POST /xmlrpc/2/common HTTP/1.1\\r\\n   \n3     PgsqlRequest:Simple query:INSERT:['res_users_l...   \n4                      HttpResponse:HTTP/1.0 200 OK\\r\\n   \n...                                                 ...   \n3712  PgsqlRequest:Simple query:INSERT:['account_pay...   \n3713  PgsqlRequest:Simple query:INSERT:['mail_follow...   \n3714  PgsqlRequest:Simple query:INSERT:['mail_follow...   \n3715  PgsqlRequest:Simple query:INSERT:['mail_message']   \n3716                   HttpResponse:HTTP/1.0 200 OK\\r\\n   \n\n                                       event_with_roles noise_event  \n0     End Point (Employee)->Odoo Application: [HttpR...       False  \n1     Odoo Application->End Point (Employee): [HttpR...       False  \n2     End Point (Employee)->Odoo Application: [HttpR...       False  \n3     Odoo Application->db Server/Mail Server: [Pgsq...       False  \n4     Odoo Application->End Point (Employee): [HttpR...       False  \n...                                                 ...         ...  \n3712  Odoo Application->db Server/Mail Server: [Pgsq...       False  \n3713  Odoo Application->db Server/Mail Server: [Pgsq...       False  \n3714  Odoo Application->db Server/Mail Server: [Pgsq...       False  \n3715  Odoo Application->db Server/Mail Server: [Pgsq...       False  \n3716  Odoo Application->End Point (Finance): [HttpRe...       False  \n\n[3717 rows x 22 columns]",
      "text/html": "<div>\n<style scoped>\n    .dataframe tbody tr th:only-of-type {\n        vertical-align: middle;\n    }\n\n    .dataframe tbody tr th {\n        vertical-align: top;\n    }\n\n    .dataframe thead th {\n        text-align: right;\n    }\n</style>\n<table border=\"1\" class=\"dataframe\">\n  <thead>\n    <tr style=\"text-align: right;\">\n      <th></th>\n      <th>Unnamed: 0.1</th>\n      <th>Unnamed: 0</th>\n      <th>FileName</th>\n      <th>BusinessActivity</th>\n      <th>InstanceNumber</th>\n      <th>sniff_time</th>\n      <th>frame.number</th>\n      <th>synthetic_sniff_time</th>\n      <th>synthetic_sniff_time_str</th>\n      <th>session_generalized</th>\n      <th>...</th>\n      <th>MessageType</th>\n      <th>MessageAttributes</th>\n      <th>query_type</th>\n      <th>session_class</th>\n      <th>filter_flag</th>\n      <th>query</th>\n      <th>tables</th>\n      <th>event</th>\n      <th>event_with_roles</th>\n      <th>noise_event</th>\n    </tr>\n  </thead>\n  <tbody>\n    <tr>\n      <th>0</th>\n      <td>0</td>\n      <td>27</td>\n      <td>async_2022_08_03-0336_10_cases_10_interval.pcap</td>\n      <td>order_to_cash_interleaved_10cases</td>\n      <td>2022</td>\n      <td>2022-08-03 13:36:21.687676</td>\n      <td>96</td>\n      <td>2022-08-04 21:07:16.297676</td>\n      <td>2022-08-04 21:07:16.297676</td>\n      <td>192.168.11.2-192.168.11.10 (1)</td>\n      <td>...</td>\n      <td>HttpRequest:POST /xmlrpc/2/common HTTP/1.1\\r\\n</td>\n      <td>{'': 'POST /xmlrpc/2/common HTTP/1.1\\\\r\\\\n', '...</td>\n      <td>NaN</td>\n      <td>http</td>\n      <td>True</td>\n      <td>NaN</td>\n      <td>NaN</td>\n      <td>HttpRequest:POST /xmlrpc/2/common HTTP/1.1\\r\\n</td>\n      <td>End Point (Employee)-&gt;Odoo Application: [HttpR...</td>\n      <td>False</td>\n    </tr>\n    <tr>\n      <th>1</th>\n      <td>1</td>\n      <td>82</td>\n      <td>async_2022_08_03-0336_10_cases_10_interval.pcap</td>\n      <td>order_to_cash_interleaved_10cases</td>\n      <td>2022</td>\n      <td>2022-08-03 13:36:21.958633</td>\n      <td>137</td>\n      <td>2022-08-04 21:52:26.138633</td>\n      <td>2022-08-04 21:52:26.138633</td>\n      <td>192.168.11.2-192.168.11.10 (1)</td>\n      <td>...</td>\n      <td>HttpResponse:HTTP/1.0 200 OK\\r\\n</td>\n      <td>{'': 'HTTP/1.0 200 OK\\\\r\\\\n', '_ws.expert': 'E...</td>\n      <td>NaN</td>\n      <td>http</td>\n      <td>True</td>\n      <td>NaN</td>\n      <td>NaN</td>\n      <td>HttpResponse:HTTP/1.0 200 OK\\r\\n</td>\n      <td>Odoo Application-&gt;End Point (Employee): [HttpR...</td>\n      <td>False</td>\n    </tr>\n    <tr>\n      <th>2</th>\n      <td>2</td>\n      <td>86</td>\n      <td>async_2022_08_03-0336_10_cases_10_interval.pcap</td>\n      <td>order_to_cash_interleaved_10cases</td>\n      <td>2022</td>\n      <td>2022-08-03 13:36:21.960536</td>\n      <td>145</td>\n      <td>2022-08-04 21:52:45.170536</td>\n      <td>2022-08-04 21:52:45.170536</td>\n      <td>192.168.11.2-192.168.11.10 (2)</td>\n      <td>...</td>\n      <td>HttpRequest:POST /xmlrpc/2/common HTTP/1.1\\r\\n</td>\n      <td>{'': 'POST /xmlrpc/2/common HTTP/1.1\\\\r\\\\n', '...</td>\n      <td>NaN</td>\n      <td>http</td>\n      <td>True</td>\n      <td>NaN</td>\n      <td>NaN</td>\n      <td>HttpRequest:POST /xmlrpc/2/common HTTP/1.1\\r\\n</td>\n      <td>End Point (Employee)-&gt;Odoo Application: [HttpR...</td>\n      <td>False</td>\n    </tr>\n    <tr>\n      <th>3</th>\n      <td>3</td>\n      <td>188</td>\n      <td>async_2022_08_03-0336_10_cases_10_interval.pcap</td>\n      <td>order_to_cash_interleaved_10cases</td>\n      <td>2022</td>\n      <td>2022-08-03 13:36:22.298610</td>\n      <td>209</td>\n      <td>2022-08-04 22:49:06.248610</td>\n      <td>2022-08-04 22:49:06.248610</td>\n      <td>192.168.11.1-192.168.11.2 (7)</td>\n      <td>...</td>\n      <td>PgsqlRequest:Simple query</td>\n      <td>{'pgsql.type': 'Simple query', 'pgsql.length':...</td>\n      <td>INSERT</td>\n      <td>pgsql</td>\n      <td>True</td>\n      <td>INSERT INTO \"res_users_log\" (\"id\", \"create_uid...</td>\n      <td>['res_users_log']</td>\n      <td>PgsqlRequest:Simple query:INSERT:['res_users_l...</td>\n      <td>Odoo Application-&gt;db Server/Mail Server: [Pgsq...</td>\n      <td>False</td>\n    </tr>\n    <tr>\n      <th>4</th>\n      <td>4</td>\n      <td>258</td>\n      <td>async_2022_08_03-0336_10_cases_10_interval.pcap</td>\n      <td>order_to_cash_interleaved_10cases</td>\n      <td>2022</td>\n      <td>2022-08-03 13:36:22.413521</td>\n      <td>232</td>\n      <td>2022-08-04 23:08:15.473521</td>\n      <td>2022-08-04 23:08:15.473521</td>\n      <td>192.168.11.2-192.168.11.10 (2)</td>\n      <td>...</td>\n      <td>HttpResponse:HTTP/1.0 200 OK\\r\\n</td>\n      <td>{'': 'HTTP/1.0 200 OK\\\\r\\\\n', '_ws.expert': 'E...</td>\n      <td>NaN</td>\n      <td>http</td>\n      <td>True</td>\n      <td>NaN</td>\n      <td>NaN</td>\n      <td>HttpResponse:HTTP/1.0 200 OK\\r\\n</td>\n      <td>Odoo Application-&gt;End Point (Employee): [HttpR...</td>\n      <td>False</td>\n    </tr>\n    <tr>\n      <th>...</th>\n      <td>...</td>\n      <td>...</td>\n      <td>...</td>\n      <td>...</td>\n      <td>...</td>\n      <td>...</td>\n      <td>...</td>\n      <td>...</td>\n      <td>...</td>\n      <td>...</td>\n      <td>...</td>\n      <td>...</td>\n      <td>...</td>\n      <td>...</td>\n      <td>...</td>\n      <td>...</td>\n      <td>...</td>\n      <td>...</td>\n      <td>...</td>\n      <td>...</td>\n      <td>...</td>\n    </tr>\n    <tr>\n      <th>3712</th>\n      <td>3712</td>\n      <td>224670</td>\n      <td>async_2022_08_03-0336_10_cases_10_interval.pcap</td>\n      <td>order_to_cash_interleaved_10cases</td>\n      <td>2022</td>\n      <td>2022-08-03 13:38:49.467434</td>\n      <td>112133</td>\n      <td>2022-08-21 23:39:41.657434</td>\n      <td>2022-08-21 23:39:41.657434</td>\n      <td>192.168.11.1-192.168.11.2 (4)</td>\n      <td>...</td>\n      <td>PgsqlRequest:Simple query</td>\n      <td>{'pgsql.type': 'Simple query', 'pgsql.length':...</td>\n      <td>INSERT</td>\n      <td>pgsql</td>\n      <td>True</td>\n      <td>INSERT INTO \"account_payment\" (\"id\", \"create_u...</td>\n      <td>['account_payment']</td>\n      <td>PgsqlRequest:Simple query:INSERT:['account_pay...</td>\n      <td>Odoo Application-&gt;db Server/Mail Server: [Pgsq...</td>\n      <td>False</td>\n    </tr>\n    <tr>\n      <th>3713</th>\n      <td>3713</td>\n      <td>224675</td>\n      <td>async_2022_08_03-0336_10_cases_10_interval.pcap</td>\n      <td>order_to_cash_interleaved_10cases</td>\n      <td>2022</td>\n      <td>2022-08-03 13:38:49.471018</td>\n      <td>112135</td>\n      <td>2022-08-21 23:40:17.501018</td>\n      <td>2022-08-21 23:40:17.501018</td>\n      <td>192.168.11.1-192.168.11.2 (4)</td>\n      <td>...</td>\n      <td>PgsqlRequest:Simple query</td>\n      <td>{'pgsql.type': 'Simple query', 'pgsql.length':...</td>\n      <td>INSERT</td>\n      <td>pgsql</td>\n      <td>True</td>\n      <td>INSERT INTO \"mail_followers\" (\"id\", \"partner_i...</td>\n      <td>['mail_followers']</td>\n      <td>PgsqlRequest:Simple query:INSERT:['mail_follow...</td>\n      <td>Odoo Application-&gt;db Server/Mail Server: [Pgsq...</td>\n      <td>False</td>\n    </tr>\n    <tr>\n      <th>3714</th>\n      <td>3714</td>\n      <td>224680</td>\n      <td>async_2022_08_03-0336_10_cases_10_interval.pcap</td>\n      <td>order_to_cash_interleaved_10cases</td>\n      <td>2022</td>\n      <td>2022-08-03 13:38:49.471760</td>\n      <td>112137</td>\n      <td>2022-08-21 23:40:24.921760</td>\n      <td>2022-08-21 23:40:24.921760</td>\n      <td>192.168.11.1-192.168.11.2 (4)</td>\n      <td>...</td>\n      <td>PgsqlRequest:Simple query</td>\n      <td>{'pgsql.type': 'Simple query', 'pgsql.length':...</td>\n      <td>INSERT</td>\n      <td>pgsql</td>\n      <td>True</td>\n      <td>\\xa                INSERT INTO mail_followers_...</td>\n      <td>['mail_followers_mail_message_subtype_rel']</td>\n      <td>PgsqlRequest:Simple query:INSERT:['mail_follow...</td>\n      <td>Odoo Application-&gt;db Server/Mail Server: [Pgsq...</td>\n      <td>False</td>\n    </tr>\n    <tr>\n      <th>3715</th>\n      <td>3715</td>\n      <td>224763</td>\n      <td>async_2022_08_03-0336_10_cases_10_interval.pcap</td>\n      <td>order_to_cash_interleaved_10cases</td>\n      <td>2022</td>\n      <td>2022-08-03 13:38:49.487802</td>\n      <td>112175</td>\n      <td>2022-08-21 23:43:05.357802</td>\n      <td>2022-08-21 23:43:05.357802</td>\n      <td>192.168.11.1-192.168.11.2 (4)</td>\n      <td>...</td>\n      <td>PgsqlRequest:Simple query</td>\n      <td>{'pgsql.type': 'Simple query', 'pgsql.length':...</td>\n      <td>INSERT</td>\n      <td>pgsql</td>\n      <td>True</td>\n      <td>INSERT INTO \"mail_message\" (\"id\", \"create_uid\"...</td>\n      <td>['mail_message']</td>\n      <td>PgsqlRequest:Simple query:INSERT:['mail_message']</td>\n      <td>Odoo Application-&gt;db Server/Mail Server: [Pgsq...</td>\n      <td>False</td>\n    </tr>\n    <tr>\n      <th>3716</th>\n      <td>3716</td>\n      <td>224786</td>\n      <td>async_2022_08_03-0336_10_cases_10_interval.pcap</td>\n      <td>order_to_cash_interleaved_10cases</td>\n      <td>2022</td>\n      <td>2022-08-03 13:38:49.497468</td>\n      <td>112188</td>\n      <td>2022-08-21 23:44:42.027468</td>\n      <td>2022-08-21 23:44:42.027468</td>\n      <td>192.168.11.2-192.168.11.21 (24)</td>\n      <td>...</td>\n      <td>HttpResponse:HTTP/1.0 200 OK\\r\\n</td>\n      <td>{'': 'HTTP/1.0 200 OK\\\\r\\\\n', '_ws.expert': 'E...</td>\n      <td>NaN</td>\n      <td>http</td>\n      <td>True</td>\n      <td>NaN</td>\n      <td>NaN</td>\n      <td>HttpResponse:HTTP/1.0 200 OK\\r\\n</td>\n      <td>Odoo Application-&gt;End Point (Finance): [HttpRe...</td>\n      <td>False</td>\n    </tr>\n  </tbody>\n</table>\n<p>3717 rows × 22 columns</p>\n</div>"
     },
     "execution_count": 26,
     "metadata": {},
     "output_type": "execute_result"
    }
   ],
   "source": [
    "df_r4"
   ],
   "metadata": {
    "collapsed": false,
    "ExecuteTime": {
     "end_time": "2024-01-06T11:03:42.263867Z",
     "start_time": "2024-01-06T11:03:42.230221Z"
    }
   },
   "id": "8d33202b487d02e8"
  },
  {
   "cell_type": "code",
   "execution_count": 27,
   "outputs": [
    {
     "data": {
      "text/plain": "      Unnamed: 0.2  Unnamed: 0.1  Unnamed: 0  \\\n0                0             0           0   \n1                1             1           1   \n2                2             2           2   \n3                3             3           3   \n4                4             4           4   \n...            ...           ...         ...   \n3712          3712          3712        3712   \n3713          3713          3713        3713   \n3714          3714          3714        3714   \n3715          3715          3715        3715   \n3716          3716          3716        3716   \n\n                       BusinessActivity  InstanceNumber  \\\n0     order_to_cash_interleaved_10cases            2022   \n1     order_to_cash_interleaved_10cases            2022   \n2     order_to_cash_interleaved_10cases            2022   \n3     order_to_cash_interleaved_10cases            2022   \n4     order_to_cash_interleaved_10cases            2022   \n...                                 ...             ...   \n3712  order_to_cash_interleaved_10cases            2022   \n3713  order_to_cash_interleaved_10cases            2022   \n3714  order_to_cash_interleaved_10cases            2022   \n3715  order_to_cash_interleaved_10cases            2022   \n3716  order_to_cash_interleaved_10cases            2022   \n\n                      sniff_time  frame.number        synthetic_sniff_time  \\\n0     2022-08-03 13:36:21.687676            96  2022-08-04 21:07:16.297676   \n1     2022-08-03 13:36:21.958633           137  2022-08-04 21:52:26.138633   \n2     2022-08-03 13:36:21.960536           145  2022-08-04 21:52:45.170536   \n3     2022-08-03 13:36:22.298610           209  2022-08-04 22:49:06.248610   \n4     2022-08-03 13:36:22.413521           232  2022-08-04 23:08:15.473521   \n...                          ...           ...                         ...   \n3712  2022-08-03 13:38:49.467434        112133  2022-08-21 23:39:41.657434   \n3713  2022-08-03 13:38:49.471018        112135  2022-08-21 23:40:17.501018   \n3714  2022-08-03 13:38:49.471760        112137  2022-08-21 23:40:24.921760   \n3715  2022-08-03 13:38:49.487802        112175  2022-08-21 23:43:05.357802   \n3716  2022-08-03 13:38:49.497468        112188  2022-08-21 23:44:42.027468   \n\n                                       event_with_roles request_method_call  \\\n0     End Point (Employee)->Odoo Application: [HttpR...             version   \n1     Odoo Application->End Point (Employee): [HttpR...      server_version   \n2     End Point (Employee)->Odoo Application: [HttpR...        authenticate   \n3     Odoo Application->db Server/Mail Server: [Pgsq...                 NaN   \n4     Odoo Application->End Point (Employee): [HttpR...                   2   \n...                                                 ...                 ...   \n3712  Odoo Application->db Server/Mail Server: [Pgsq...                 NaN   \n3713  Odoo Application->db Server/Mail Server: [Pgsq...                 NaN   \n3714  Odoo Application->db Server/Mail Server: [Pgsq...                 NaN   \n3715  Odoo Application->db Server/Mail Server: [Pgsq...                 NaN   \n3716  Odoo Application->End Point (Finance): [HttpRe...                 246   \n\n      ... account_invoice_id stock_move_line_id                 date  \\\n0     ...                NaN                NaN                  NaN   \n1     ...                NaN                NaN                  NaN   \n2     ...                NaN                NaN                  NaN   \n3     ...                NaN                NaN                  NaN   \n4     ...                NaN                NaN                  NaN   \n...   ...                ...                ...                  ...   \n3712  ...                NaN                NaN                  NaN   \n3713  ...                NaN                NaN                  NaN   \n3714  ...                NaN                NaN                  NaN   \n3715  ...                NaN                NaN  2022-08-03 10:17:33   \n3716  ...                NaN                NaN                  NaN   \n\n             real_activity_action  real_single_activity_action real_case_id  \\\n0     CreatePurchaseRequest Start               Activity Start        399.0   \n1                        NoAction                     NoAction          NaN   \n2                        NoAction                     NoAction          NaN   \n3                        NoAction                     NoAction          NaN   \n4                        NoAction                     NoAction          NaN   \n...                           ...                          ...          ...   \n3712                     NoAction                     NoAction          NaN   \n3713                     NoAction                     NoAction          NaN   \n3714                     NoAction                     NoAction          NaN   \n3715                     NoAction                     NoAction          NaN   \n3716            SubmitPayment End                 Activity End        408.0   \n\n     activity_action_classification  \\\n0                    Activity Start   \n1                          NoAction   \n2                          NoAction   \n3                          NoAction   \n4                          NoAction   \n...                             ...   \n3712                       NoAction   \n3713                       NoAction   \n3714                       NoAction   \n3715                       NoAction   \n3716                   Activity End   \n\n      classification_prob_windows_start-41_end-7_action_1  \\\n0     {'CreatePurchaseOrder': 4.038815432072337e-19,...     \n1                                              NoAction     \n2                                              NoAction     \n3                                              NoAction     \n4                                              NoAction     \n...                                                 ...     \n3712                                           NoAction     \n3713                                           NoAction     \n3714                                           NoAction     \n3715                                           NoAction     \n3716  {'CreatePurchaseOrder': 0.008669422427969269, ...     \n\n     classification_prob_windows_start-15_end-15_action_1  \\\n0     {'CreatePurchaseOrder': 1.5320034153018043e-06...     \n1                                              NoAction     \n2                                              NoAction     \n3                                              NoAction     \n4                                              NoAction     \n...                                                 ...     \n3712                                           NoAction     \n3713                                           NoAction     \n3714                                           NoAction     \n3715                                           NoAction     \n3716  {'CreatePurchaseOrder': 0.0026901746045339737,...     \n\n     classification_prob_windows_start-7_end-41_action_1  \n0     {'CreatePurchaseOrder': 0.003931938543839426, ...   \n1                                              NoAction   \n2                                              NoAction   \n3                                              NoAction   \n4                                              NoAction   \n...                                                 ...   \n3712                                           NoAction   \n3713                                           NoAction   \n3714                                           NoAction   \n3715                                           NoAction   \n3716  {'CreatePurchaseOrder': 9.980790392366791e-07,...   \n\n[3717 rows x 68 columns]",
      "text/html": "<div>\n<style scoped>\n    .dataframe tbody tr th:only-of-type {\n        vertical-align: middle;\n    }\n\n    .dataframe tbody tr th {\n        vertical-align: top;\n    }\n\n    .dataframe thead th {\n        text-align: right;\n    }\n</style>\n<table border=\"1\" class=\"dataframe\">\n  <thead>\n    <tr style=\"text-align: right;\">\n      <th></th>\n      <th>Unnamed: 0.2</th>\n      <th>Unnamed: 0.1</th>\n      <th>Unnamed: 0</th>\n      <th>BusinessActivity</th>\n      <th>InstanceNumber</th>\n      <th>sniff_time</th>\n      <th>frame.number</th>\n      <th>synthetic_sniff_time</th>\n      <th>event_with_roles</th>\n      <th>request_method_call</th>\n      <th>...</th>\n      <th>account_invoice_id</th>\n      <th>stock_move_line_id</th>\n      <th>date</th>\n      <th>real_activity_action</th>\n      <th>real_single_activity_action</th>\n      <th>real_case_id</th>\n      <th>activity_action_classification</th>\n      <th>classification_prob_windows_start-41_end-7_action_1</th>\n      <th>classification_prob_windows_start-15_end-15_action_1</th>\n      <th>classification_prob_windows_start-7_end-41_action_1</th>\n    </tr>\n  </thead>\n  <tbody>\n    <tr>\n      <th>0</th>\n      <td>0</td>\n      <td>0</td>\n      <td>0</td>\n      <td>order_to_cash_interleaved_10cases</td>\n      <td>2022</td>\n      <td>2022-08-03 13:36:21.687676</td>\n      <td>96</td>\n      <td>2022-08-04 21:07:16.297676</td>\n      <td>End Point (Employee)-&gt;Odoo Application: [HttpR...</td>\n      <td>version</td>\n      <td>...</td>\n      <td>NaN</td>\n      <td>NaN</td>\n      <td>NaN</td>\n      <td>CreatePurchaseRequest Start</td>\n      <td>Activity Start</td>\n      <td>399.0</td>\n      <td>Activity Start</td>\n      <td>{'CreatePurchaseOrder': 4.038815432072337e-19,...</td>\n      <td>{'CreatePurchaseOrder': 1.5320034153018043e-06...</td>\n      <td>{'CreatePurchaseOrder': 0.003931938543839426, ...</td>\n    </tr>\n    <tr>\n      <th>1</th>\n      <td>1</td>\n      <td>1</td>\n      <td>1</td>\n      <td>order_to_cash_interleaved_10cases</td>\n      <td>2022</td>\n      <td>2022-08-03 13:36:21.958633</td>\n      <td>137</td>\n      <td>2022-08-04 21:52:26.138633</td>\n      <td>Odoo Application-&gt;End Point (Employee): [HttpR...</td>\n      <td>server_version</td>\n      <td>...</td>\n      <td>NaN</td>\n      <td>NaN</td>\n      <td>NaN</td>\n      <td>NoAction</td>\n      <td>NoAction</td>\n      <td>NaN</td>\n      <td>NoAction</td>\n      <td>NoAction</td>\n      <td>NoAction</td>\n      <td>NoAction</td>\n    </tr>\n    <tr>\n      <th>2</th>\n      <td>2</td>\n      <td>2</td>\n      <td>2</td>\n      <td>order_to_cash_interleaved_10cases</td>\n      <td>2022</td>\n      <td>2022-08-03 13:36:21.960536</td>\n      <td>145</td>\n      <td>2022-08-04 21:52:45.170536</td>\n      <td>End Point (Employee)-&gt;Odoo Application: [HttpR...</td>\n      <td>authenticate</td>\n      <td>...</td>\n      <td>NaN</td>\n      <td>NaN</td>\n      <td>NaN</td>\n      <td>NoAction</td>\n      <td>NoAction</td>\n      <td>NaN</td>\n      <td>NoAction</td>\n      <td>NoAction</td>\n      <td>NoAction</td>\n      <td>NoAction</td>\n    </tr>\n    <tr>\n      <th>3</th>\n      <td>3</td>\n      <td>3</td>\n      <td>3</td>\n      <td>order_to_cash_interleaved_10cases</td>\n      <td>2022</td>\n      <td>2022-08-03 13:36:22.298610</td>\n      <td>209</td>\n      <td>2022-08-04 22:49:06.248610</td>\n      <td>Odoo Application-&gt;db Server/Mail Server: [Pgsq...</td>\n      <td>NaN</td>\n      <td>...</td>\n      <td>NaN</td>\n      <td>NaN</td>\n      <td>NaN</td>\n      <td>NoAction</td>\n      <td>NoAction</td>\n      <td>NaN</td>\n      <td>NoAction</td>\n      <td>NoAction</td>\n      <td>NoAction</td>\n      <td>NoAction</td>\n    </tr>\n    <tr>\n      <th>4</th>\n      <td>4</td>\n      <td>4</td>\n      <td>4</td>\n      <td>order_to_cash_interleaved_10cases</td>\n      <td>2022</td>\n      <td>2022-08-03 13:36:22.413521</td>\n      <td>232</td>\n      <td>2022-08-04 23:08:15.473521</td>\n      <td>Odoo Application-&gt;End Point (Employee): [HttpR...</td>\n      <td>2</td>\n      <td>...</td>\n      <td>NaN</td>\n      <td>NaN</td>\n      <td>NaN</td>\n      <td>NoAction</td>\n      <td>NoAction</td>\n      <td>NaN</td>\n      <td>NoAction</td>\n      <td>NoAction</td>\n      <td>NoAction</td>\n      <td>NoAction</td>\n    </tr>\n    <tr>\n      <th>...</th>\n      <td>...</td>\n      <td>...</td>\n      <td>...</td>\n      <td>...</td>\n      <td>...</td>\n      <td>...</td>\n      <td>...</td>\n      <td>...</td>\n      <td>...</td>\n      <td>...</td>\n      <td>...</td>\n      <td>...</td>\n      <td>...</td>\n      <td>...</td>\n      <td>...</td>\n      <td>...</td>\n      <td>...</td>\n      <td>...</td>\n      <td>...</td>\n      <td>...</td>\n      <td>...</td>\n    </tr>\n    <tr>\n      <th>3712</th>\n      <td>3712</td>\n      <td>3712</td>\n      <td>3712</td>\n      <td>order_to_cash_interleaved_10cases</td>\n      <td>2022</td>\n      <td>2022-08-03 13:38:49.467434</td>\n      <td>112133</td>\n      <td>2022-08-21 23:39:41.657434</td>\n      <td>Odoo Application-&gt;db Server/Mail Server: [Pgsq...</td>\n      <td>NaN</td>\n      <td>...</td>\n      <td>NaN</td>\n      <td>NaN</td>\n      <td>NaN</td>\n      <td>NoAction</td>\n      <td>NoAction</td>\n      <td>NaN</td>\n      <td>NoAction</td>\n      <td>NoAction</td>\n      <td>NoAction</td>\n      <td>NoAction</td>\n    </tr>\n    <tr>\n      <th>3713</th>\n      <td>3713</td>\n      <td>3713</td>\n      <td>3713</td>\n      <td>order_to_cash_interleaved_10cases</td>\n      <td>2022</td>\n      <td>2022-08-03 13:38:49.471018</td>\n      <td>112135</td>\n      <td>2022-08-21 23:40:17.501018</td>\n      <td>Odoo Application-&gt;db Server/Mail Server: [Pgsq...</td>\n      <td>NaN</td>\n      <td>...</td>\n      <td>NaN</td>\n      <td>NaN</td>\n      <td>NaN</td>\n      <td>NoAction</td>\n      <td>NoAction</td>\n      <td>NaN</td>\n      <td>NoAction</td>\n      <td>NoAction</td>\n      <td>NoAction</td>\n      <td>NoAction</td>\n    </tr>\n    <tr>\n      <th>3714</th>\n      <td>3714</td>\n      <td>3714</td>\n      <td>3714</td>\n      <td>order_to_cash_interleaved_10cases</td>\n      <td>2022</td>\n      <td>2022-08-03 13:38:49.471760</td>\n      <td>112137</td>\n      <td>2022-08-21 23:40:24.921760</td>\n      <td>Odoo Application-&gt;db Server/Mail Server: [Pgsq...</td>\n      <td>NaN</td>\n      <td>...</td>\n      <td>NaN</td>\n      <td>NaN</td>\n      <td>NaN</td>\n      <td>NoAction</td>\n      <td>NoAction</td>\n      <td>NaN</td>\n      <td>NoAction</td>\n      <td>NoAction</td>\n      <td>NoAction</td>\n      <td>NoAction</td>\n    </tr>\n    <tr>\n      <th>3715</th>\n      <td>3715</td>\n      <td>3715</td>\n      <td>3715</td>\n      <td>order_to_cash_interleaved_10cases</td>\n      <td>2022</td>\n      <td>2022-08-03 13:38:49.487802</td>\n      <td>112175</td>\n      <td>2022-08-21 23:43:05.357802</td>\n      <td>Odoo Application-&gt;db Server/Mail Server: [Pgsq...</td>\n      <td>NaN</td>\n      <td>...</td>\n      <td>NaN</td>\n      <td>NaN</td>\n      <td>2022-08-03 10:17:33</td>\n      <td>NoAction</td>\n      <td>NoAction</td>\n      <td>NaN</td>\n      <td>NoAction</td>\n      <td>NoAction</td>\n      <td>NoAction</td>\n      <td>NoAction</td>\n    </tr>\n    <tr>\n      <th>3716</th>\n      <td>3716</td>\n      <td>3716</td>\n      <td>3716</td>\n      <td>order_to_cash_interleaved_10cases</td>\n      <td>2022</td>\n      <td>2022-08-03 13:38:49.497468</td>\n      <td>112188</td>\n      <td>2022-08-21 23:44:42.027468</td>\n      <td>Odoo Application-&gt;End Point (Finance): [HttpRe...</td>\n      <td>246</td>\n      <td>...</td>\n      <td>NaN</td>\n      <td>NaN</td>\n      <td>NaN</td>\n      <td>SubmitPayment End</td>\n      <td>Activity End</td>\n      <td>408.0</td>\n      <td>Activity End</td>\n      <td>{'CreatePurchaseOrder': 0.008669422427969269, ...</td>\n      <td>{'CreatePurchaseOrder': 0.0026901746045339737,...</td>\n      <td>{'CreatePurchaseOrder': 9.980790392366791e-07,...</td>\n    </tr>\n  </tbody>\n</table>\n<p>3717 rows × 68 columns</p>\n</div>"
     },
     "execution_count": 27,
     "metadata": {},
     "output_type": "execute_result"
    }
   ],
   "source": [
    "df_res_hr"
   ],
   "metadata": {
    "collapsed": false,
    "ExecuteTime": {
     "end_time": "2024-01-06T11:03:44.422654Z",
     "start_time": "2024-01-06T11:03:44.402525Z"
    }
   },
   "id": "14c2690457f5140"
  },
  {
   "cell_type": "markdown",
   "source": [
    "# Create labeled data \n",
    "Append manual labels to recording data frame"
   ],
   "metadata": {
    "collapsed": false
   },
   "id": "4bba07da7505de13"
  },
  {
   "cell_type": "markdown",
   "source": [
    "## Content of  *recognition_results.csv*\n",
    "### label columns\n",
    "- *CaseId* (classification result)\n",
    "- *real_activity_action*\n",
    "- *real_single_activity_action*\n",
    "- *real_case_id*\n",
    "\n",
    "### possible index columns\n",
    "- *frame.number*\n",
    "- *Unnamed: 0_x*\n",
    "- *Unnamed: 0_y*\n",
    "- "
   ],
   "metadata": {
    "collapsed": false
   },
   "id": "5889d7805909171"
  },
  {
   "cell_type": "markdown",
   "source": [
    "## Check for correct indexing by _frame.number_\n",
    "compare content of the joined colums"
   ],
   "metadata": {
    "collapsed": false
   },
   "id": "ebde1050d7fc199a"
  },
  {
   "cell_type": "code",
   "execution_count": 40,
   "outputs": [],
   "source": [
    "# join on frame.number\n",
    "\n",
    "cols = [\"CaseId\", \"real_activity_action\",\"real_single_activity_action\", \"real_case_id\",\"frame.number\",\"synthetic_sniff_time\",\"event_with_roles\"]\n",
    "join_params = {\"on\" : \"frame.number\", \"rsuffix\" : \"_other\"}\n",
    "\n",
    "other = df_res_hr[cols].set_index(\"frame.number\")\n",
    "\n",
    "df_r4_labeled = df_r4.join(other, **join_params)\n",
    "\n",
    "df_r3_labeled = df_r3.join(other, **join_params)\n",
    "\n",
    "df_r2_labeled = df_r2.join(other, **join_params)\n",
    "\n",
    "df_r1_labeled = df_r1.join(other, **join_params)\n",
    "\n",
    "# compare joined fields\n",
    "\n",
    "def compare_cols(row): \n",
    "    if row[\"event_with_roles\"] == row[\"event_with_roles_other\"] and        row[\"synthetic_sniff_time\"] == row[\"synthetic_sniff_time_other\"]:\n",
    "        return True \n",
    "    elif pd.isna(row[\"MessageType_WithRole_other\"] or pd.isna(row[\"synthetic_sniff_time_str_other\"])):\n",
    "        return np.NAN\n",
    "    else: \n",
    "        return False\n",
    "\n",
    "r4_join_fit = df_r4_labeled.apply(lambda x: compare_cols(x), axis=1).all()\n",
    "#r3_join_fit = df_r3_labeled.apply(lambda x: compare_cols(x), axis=1).all()\n",
    "#r2_join_fit = df_r2_labeled.apply(lambda x: compare_cols(x), axis=1).all()\n",
    "#r1_join_fit = df_r1_labeled.apply(lambda x: compare_cols(x), axis=1).all()\n",
    "\n",
    "#display(pd.DataFrame(data={\"data\": [\"r4\", \"r3\", \"r2\", \"r1\", ], \"join_fit\": [r4_join_fit, r3_join_fit, r2_join_fit, r1_join_fit]}))"
   ],
   "metadata": {
    "collapsed": false,
    "ExecuteTime": {
     "end_time": "2024-01-08T10:54:05.869804Z",
     "start_time": "2024-01-08T10:54:05.793166Z"
    }
   },
   "id": "c85b50e50e20c5ef"
  },
  {
   "cell_type": "code",
   "execution_count": 41,
   "outputs": [
    {
     "data": {
      "text/plain": "True"
     },
     "execution_count": 41,
     "metadata": {},
     "output_type": "execute_result"
    }
   ],
   "source": [
    "r4_join_fit"
   ],
   "metadata": {
    "collapsed": false,
    "ExecuteTime": {
     "end_time": "2024-01-08T10:54:06.909485Z",
     "start_time": "2024-01-08T10:54:06.898511Z"
    }
   },
   "id": "156b5a8e5f96eafb"
  },
  {
   "cell_type": "markdown",
   "source": [
    "Indexing by *frame.number* possible for all abstraction levels"
   ],
   "metadata": {
    "collapsed": false
   },
   "id": "f0cfc2d3aae5b202"
  },
  {
   "cell_type": "code",
   "execution_count": 42,
   "outputs": [],
   "source": [
    "df_r4_final = df_r4_labeled.drop([\"event_with_roles_other\",\"synthetic_sniff_time_other\"], axis=1)\n",
    "#df_r3_final = df_r3_labeled.drop([\"MessageType_WithRole_other\",\"synthetic_sniff_time_str_other\"], axis=1)\n",
    "#df_r2_final = df_r2_labeled.drop([\"MessageType_WithRole_other\",\"synthetic_sniff_time_str_other\"], axis=1)\n",
    "#df_r1_final = df_r1_labeled.drop([\"MessageType_WithRole_other\",\"synthetic_sniff_time_str_other\"], axis=1)"
   ],
   "metadata": {
    "collapsed": false,
    "ExecuteTime": {
     "end_time": "2024-01-08T10:54:08.790313Z",
     "start_time": "2024-01-08T10:54:08.772052Z"
    }
   },
   "id": "3ce203267917141b"
  },
  {
   "cell_type": "code",
   "execution_count": 43,
   "outputs": [],
   "source": [
    "df_r4_final.to_csv(\"../../data_v2/p2p_r4_il_raw.csv\")\n",
    "#df_r3_final.to_csv(\"data_mod/HR_IL_R3_labeled.csv\")\n",
    "#df_r2_final.to_csv(\"data_mod/HR_IL_R2_labeled.csv\")\n",
    "#df_r1_final.to_csv(\"data_mod/HR_IL_R1_labeled.csv\")"
   ],
   "metadata": {
    "collapsed": false,
    "ExecuteTime": {
     "end_time": "2024-01-08T10:54:25.281626Z",
     "start_time": "2024-01-08T10:54:25.031508Z"
    }
   },
   "id": "d7522f0480176f02"
  },
  {
   "cell_type": "markdown",
   "source": [
    "### Build evaluation criteria for label discrepance between R1 and R4\n",
    "For the evaluation, we only have labels for R4 data - but we want to assess our model on R1 data. \n",
    "Check by how many packets the *Activity Start* and *Activity End* labels differ in terms of indices\n",
    "Steps: \n",
    "1. Join data from filter step R1 and R4 \n",
    "2. Determine deviation in terms of data packets between a R1 position label and the corresponding R4 position label\n",
    "3. Define a window size (backward for start activity and forward for end activity) on how to evaluate label placements "
   ],
   "metadata": {
    "collapsed": false
   },
   "id": "85ceae21f80cab62"
  },
  {
   "cell_type": "code",
   "execution_count": 205,
   "outputs": [],
   "source": [
    "# load HR data\n",
    "hr_r1 = pd.read_csv(\"data/TRAIN/R1/R1.csv\")\n",
    "hr_r4 = pd.read_csv(\"data/TRAIN/R4/R4.csv\")"
   ],
   "metadata": {
    "collapsed": false,
    "ExecuteTime": {
     "end_time": "2023-12-06T13:45:12.436689Z",
     "start_time": "2023-12-06T13:45:06.984493Z"
    }
   },
   "id": "73fb2bf6ab4b5909"
  },
  {
   "cell_type": "code",
   "execution_count": 206,
   "outputs": [],
   "source": [
    "def position_key(row): \n",
    "    # add instance number and business activity for matching of labels\n",
    "    pos_key = str(row[\"InstanceNumber\"]) + \" \" +  str(row[\"BusinessActivity\"])\n",
    "    if row[\"activityStart\"]:\n",
    "        return [\"position_start\",pos_key, None]\n",
    "    elif row[\"activityEnd\"]:\n",
    "        return [\"position_end\",None, pos_key]\n",
    "    else: \n",
    "        return [\"position_between\", None, None]\n",
    "\n",
    "def mark_activities(df):\n",
    "    # Mark start event of each BusinessActivity Instance\n",
    "    df[\"activityStart\"] = df.groupby([\"BusinessActivity\",\"InstanceNumber\",]).cumcount()==0\n",
    "    # Mark end event of each Business Activity Instance\n",
    "    df[\"activityEnd\"] = df.groupby([\"BusinessActivity\",\"InstanceNumber\",]).cumcount(ascending=False)==0\n",
    "    # Merge start and end columns to form labels\n",
    "    df[[\"task_position\",\"start_pos_key\", \"end_pos_key\"]] = df.apply(lambda row: position_key(row), axis=1, result_type=\"expand\")\n",
    "    df.drop([\"activityStart\",'activityEnd'], axis=1, inplace=True)\n",
    "    \n",
    "mark_activities(hr_r1)\n",
    "mark_activities(hr_r4)"
   ],
   "metadata": {
    "collapsed": false,
    "ExecuteTime": {
     "end_time": "2023-12-06T13:47:06.082894Z",
     "start_time": "2023-12-06T13:46:34.207945Z"
    }
   },
   "id": "90f6c627b105a375"
  },
  {
   "cell_type": "code",
   "execution_count": 207,
   "outputs": [],
   "source": [
    "# add R4 labels to R1 data by merging on the time stamps\n",
    "df_merged = pd.merge(hr_r1, hr_r4, on=\"synthetic_sniff_time_str\", how=\"left\", suffixes=(\"_r1\", \"_r4\"))[[\"start_pos_key_r1\",\"start_pos_key_r4\",\"end_pos_key_r1\",\"end_pos_key_r4\",\"MessageType_WithRole_r1\"]]"
   ],
   "metadata": {
    "collapsed": false,
    "ExecuteTime": {
     "end_time": "2023-12-06T13:47:09.401611Z",
     "start_time": "2023-12-06T13:47:07.474469Z"
    }
   },
   "id": "1a0af507a451a52a"
  },
  {
   "cell_type": "code",
   "execution_count": 237,
   "outputs": [
    {
     "name": "stdout",
     "output_type": "stream",
     "text": [
      "Start indices - avg: -14.10075026795284, std: 56.58982113255329, 5th percentile (left) -27.0\n",
      "End indices   - avg: 16.20150053590568, std: 35.79949100423233, 95th percentile (right) 51.0\n"
     ]
    }
   ],
   "source": [
    "# subtract list of indices of R1 and R4 layer to obtain the index difference\n",
    "start_indices = (df_merged[df_merged[\"start_pos_key_r1\"].notna()].index - df_merged[df_merged[\"start_pos_key_r4\"].notna()].index)\n",
    "end_indices = (df_merged[df_merged[\"end_pos_key_r1\"].notna()].index - df_merged[df_merged[\"end_pos_key_r4\"].notna()].index)\n",
    "print(f\"Start indices - avg: {np.mean(start_indices)}, std: {np.std(start_indices)}, 5th percentile (left) {np.percentile(start_indices,5)}\")\n",
    "print(f\"End indices   - avg: {np.mean(end_indices)}, std: {np.std(end_indices)}, 95th percentile (right) {np.percentile(end_indices,95)}\")"
   ],
   "metadata": {
    "collapsed": false,
    "ExecuteTime": {
     "end_time": "2023-12-06T13:58:05.628669Z",
     "start_time": "2023-12-06T13:58:05.577110Z"
    }
   },
   "id": "60abc1ce892822e6"
  },
  {
   "cell_type": "markdown",
   "source": [
    "For evaluating Start Activity Labels we can use a window size of **27** *R1 events* facing forward from the R4 Start label\n",
    "For evaluating End Activity Labels we can use a window size of **51** *R1 events* facing backwards from the R4 End label"
   ],
   "metadata": {
    "collapsed": false
   },
   "id": "92c5a63b67c4a39a"
  }
 ],
 "metadata": {
  "kernelspec": {
   "display_name": "Python 3",
   "language": "python",
   "name": "python3"
  },
  "language_info": {
   "codemirror_mode": {
    "name": "ipython",
    "version": 2
   },
   "file_extension": ".py",
   "mimetype": "text/x-python",
   "name": "python",
   "nbconvert_exporter": "python",
   "pygments_lexer": "ipython2",
   "version": "2.7.6"
  }
 },
 "nbformat": 4,
 "nbformat_minor": 5
}
