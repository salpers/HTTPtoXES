{
 "cells": [
  {
   "cell_type": "code",
   "execution_count": 78,
   "id": "initial_id",
   "metadata": {
    "collapsed": true,
    "ExecuteTime": {
     "end_time": "2024-01-09T11:51:52.881025Z",
     "start_time": "2024-01-09T11:51:52.862824Z"
    }
   },
   "outputs": [],
   "source": [
    "\n",
    "import pandas as pd\n",
    "import ast"
   ]
  },
  {
   "cell_type": "markdown",
   "source": [
    "## Extract attributes from message data"
   ],
   "metadata": {
    "collapsed": false
   },
   "id": "3749c2b8ead3950d"
  },
  {
   "cell_type": "code",
   "execution_count": 109,
   "outputs": [],
   "source": [
    "cols = [\"InstanceNumber\",\"BusinessActivity\",\"MessageAttributes\",\"frame.number\",\"event_with_roles\"]\n",
    "cols_il = [\"InstanceNumber\",\"BusinessActivity\",\"MessageAttributes\",\"frame.number\",\"event_with_roles\", \"real_single_activity_action\"]\n",
    "\n",
    "df = pd.read_csv('../../data/VALID/R4/R4.csv',usecols=cols, converters={\"MessageAttributes\": ast.literal_eval})\n",
    "\n",
    "df_il = pd.read_csv('../../data_v2/p2p_r4_il_raw.csv',usecols=cols_il, converters={\"MessageAttributes\": ast.literal_eval})"
   ],
   "metadata": {
    "collapsed": false,
    "ExecuteTime": {
     "end_time": "2024-01-09T14:10:41.364268Z",
     "start_time": "2024-01-09T14:10:40.325003Z"
    }
   },
   "id": "e48f657ea95eef7b"
  },
  {
   "cell_type": "code",
   "execution_count": 125,
   "outputs": [],
   "source": [
    "\n",
    "df_og = pd.read_csv('../../data/VALID/R1/R1.csv',)"
   ],
   "metadata": {
    "collapsed": false,
    "ExecuteTime": {
     "end_time": "2024-01-09T15:37:06.912190Z",
     "start_time": "2024-01-09T15:36:57.638067Z"
    }
   },
   "id": "3f4e8ff39498edaa"
  },
  {
   "cell_type": "code",
   "execution_count": 126,
   "outputs": [
    {
     "data": {
      "text/plain": "         Unnamed: 0                      FileName       BusinessActivity  \\\n0                 0  CreatePurchaseRequest_1.pcap  CreatePurchaseRequest   \n1                 1  CreatePurchaseRequest_1.pcap  CreatePurchaseRequest   \n2                 2  CreatePurchaseRequest_1.pcap  CreatePurchaseRequest   \n3                 3  CreatePurchaseRequest_1.pcap  CreatePurchaseRequest   \n4                 4  CreatePurchaseRequest_1.pcap  CreatePurchaseRequest   \n...             ...                           ...                    ...   \n3223978     3223978          SubmitPayment_9.pcap          SubmitPayment   \n3223979     3223979          SubmitPayment_9.pcap          SubmitPayment   \n3223980     3223980          SubmitPayment_9.pcap          SubmitPayment   \n3223981     3223981          SubmitPayment_9.pcap          SubmitPayment   \n3223982     3223982          SubmitPayment_9.pcap          SubmitPayment   \n\n         InstanceNumber                  sniff_time  frame.number  \\\n0                     1  2020-12-21 08:08:39.599660            48   \n1                     1  2020-12-21 08:08:39.600052            49   \n2                     1  2020-12-21 08:08:39.600052            49   \n3                     1  2020-12-21 08:08:39.600052            49   \n4                     1  2020-12-21 08:08:39.600052            49   \n...                 ...                         ...           ...   \n3223978               9  2020-12-21 11:46:49.704720          4993   \n3223979               9  2020-12-21 11:46:49.704720          4993   \n3223980               9  2020-12-21 11:46:49.704810          4994   \n3223981               9  2020-12-21 11:46:49.705430          4995   \n3223982               9  2020-12-21 11:46:49.705430          4995   \n\n               synthetic_sniff_time    synthetic_sniff_time_str  \\\n0        2020-12-21 21:40:04.619660  2020-12-21 21:40:04.619660   \n1        2020-12-21 21:40:08.540052  2020-12-21 21:40:08.540052   \n2        2020-12-21 21:40:08.540052  2020-12-21 21:40:08.540052   \n3        2020-12-21 21:40:08.540052  2020-12-21 21:40:08.540052   \n4        2020-12-21 21:40:08.540052  2020-12-21 21:40:08.540052   \n...                             ...                         ...   \n3223978  2021-01-10 13:47:18.324720  2021-01-10 13:47:18.324720   \n3223979  2021-01-10 13:47:18.324720  2021-01-10 13:47:18.324720   \n3223980  2021-01-10 13:47:19.224810  2021-01-10 13:47:19.224810   \n3223981  2021-01-10 13:47:25.425430  2021-01-10 13:47:25.425430   \n3223982  2021-01-10 13:47:25.425430  2021-01-10 13:47:25.425430   \n\n                   session_generalized HighestLayerProtocol  \\\n0        192.168.11.1-192.168.11.2 (1)                pgsql   \n1        192.168.11.1-192.168.11.2 (1)                pgsql   \n2        192.168.11.1-192.168.11.2 (1)                pgsql   \n3        192.168.11.1-192.168.11.2 (1)                pgsql   \n4        192.168.11.1-192.168.11.2 (1)                pgsql   \n...                                ...                  ...   \n3223978  192.168.11.1-192.168.11.2 (7)                pgsql   \n3223979  192.168.11.1-192.168.11.2 (7)                pgsql   \n3223980  192.168.11.1-192.168.11.2 (3)                pgsql   \n3223981  192.168.11.1-192.168.11.2 (3)                pgsql   \n3223982  192.168.11.1-192.168.11.2 (3)                pgsql   \n\n                                      MessageType_WithRole  \\\n0        Odoo Application->db Server/Mail Server:[Pgsql...   \n1        db Server/Mail Server->Odoo Application:[Pgsql...   \n2        db Server/Mail Server->Odoo Application:[Pgsql...   \n3        db Server/Mail Server->Odoo Application:[Pgsql...   \n4        db Server/Mail Server->Odoo Application:[Pgsql...   \n...                                                    ...   \n3223978  db Server/Mail Server->Odoo Application:[Pgsql...   \n3223979  db Server/Mail Server->Odoo Application:[Pgsql...   \n3223980  Odoo Application->db Server/Mail Server:[Pgsql...   \n3223981  db Server/Mail Server->Odoo Application:[Pgsql...   \n3223982  db Server/Mail Server->Odoo Application:[Pgsql...   \n\n                              MessageType  \\\n0               PgsqlRequest:Simple query   \n1          PgsqlResponse:Parameter status   \n2          PgsqlResponse:Parameter status   \n3        PgsqlResponse:Command completion   \n4           PgsqlResponse:Ready for query   \n...                                   ...   \n3223978     PgsqlResponse:Ready for query   \n3223979  PgsqlResponse:Command completion   \n3223980         PgsqlRequest:Simple query   \n3223981  PgsqlResponse:Command completion   \n3223982     PgsqlResponse:Ready for query   \n\n                                         MessageAttributes  \n0        {'pgsql.type': 'Simple query', 'pgsql.length':...  \n1        {'pgsql.type': 'Parameter status', 'pgsql.leng...  \n2        {'pgsql.type': 'Parameter status', 'pgsql.leng...  \n3        {'pgsql.type': 'Command completion', 'pgsql.le...  \n4        {'pgsql.type': 'Ready for query', 'pgsql.lengt...  \n...                                                    ...  \n3223978  {'pgsql.type': 'Ready for query', 'pgsql.lengt...  \n3223979  {'pgsql.type': 'Command completion', 'pgsql.le...  \n3223980  {'pgsql.type': 'Simple query', 'pgsql.length':...  \n3223981  {'pgsql.type': 'Command completion', 'pgsql.le...  \n3223982  {'pgsql.type': 'Ready for query', 'pgsql.lengt...  \n\n[3223983 rows x 13 columns]",
      "text/html": "<div>\n<style scoped>\n    .dataframe tbody tr th:only-of-type {\n        vertical-align: middle;\n    }\n\n    .dataframe tbody tr th {\n        vertical-align: top;\n    }\n\n    .dataframe thead th {\n        text-align: right;\n    }\n</style>\n<table border=\"1\" class=\"dataframe\">\n  <thead>\n    <tr style=\"text-align: right;\">\n      <th></th>\n      <th>Unnamed: 0</th>\n      <th>FileName</th>\n      <th>BusinessActivity</th>\n      <th>InstanceNumber</th>\n      <th>sniff_time</th>\n      <th>frame.number</th>\n      <th>synthetic_sniff_time</th>\n      <th>synthetic_sniff_time_str</th>\n      <th>session_generalized</th>\n      <th>HighestLayerProtocol</th>\n      <th>MessageType_WithRole</th>\n      <th>MessageType</th>\n      <th>MessageAttributes</th>\n    </tr>\n  </thead>\n  <tbody>\n    <tr>\n      <th>0</th>\n      <td>0</td>\n      <td>CreatePurchaseRequest_1.pcap</td>\n      <td>CreatePurchaseRequest</td>\n      <td>1</td>\n      <td>2020-12-21 08:08:39.599660</td>\n      <td>48</td>\n      <td>2020-12-21 21:40:04.619660</td>\n      <td>2020-12-21 21:40:04.619660</td>\n      <td>192.168.11.1-192.168.11.2 (1)</td>\n      <td>pgsql</td>\n      <td>Odoo Application-&gt;db Server/Mail Server:[Pgsql...</td>\n      <td>PgsqlRequest:Simple query</td>\n      <td>{'pgsql.type': 'Simple query', 'pgsql.length':...</td>\n    </tr>\n    <tr>\n      <th>1</th>\n      <td>1</td>\n      <td>CreatePurchaseRequest_1.pcap</td>\n      <td>CreatePurchaseRequest</td>\n      <td>1</td>\n      <td>2020-12-21 08:08:39.600052</td>\n      <td>49</td>\n      <td>2020-12-21 21:40:08.540052</td>\n      <td>2020-12-21 21:40:08.540052</td>\n      <td>192.168.11.1-192.168.11.2 (1)</td>\n      <td>pgsql</td>\n      <td>db Server/Mail Server-&gt;Odoo Application:[Pgsql...</td>\n      <td>PgsqlResponse:Parameter status</td>\n      <td>{'pgsql.type': 'Parameter status', 'pgsql.leng...</td>\n    </tr>\n    <tr>\n      <th>2</th>\n      <td>2</td>\n      <td>CreatePurchaseRequest_1.pcap</td>\n      <td>CreatePurchaseRequest</td>\n      <td>1</td>\n      <td>2020-12-21 08:08:39.600052</td>\n      <td>49</td>\n      <td>2020-12-21 21:40:08.540052</td>\n      <td>2020-12-21 21:40:08.540052</td>\n      <td>192.168.11.1-192.168.11.2 (1)</td>\n      <td>pgsql</td>\n      <td>db Server/Mail Server-&gt;Odoo Application:[Pgsql...</td>\n      <td>PgsqlResponse:Parameter status</td>\n      <td>{'pgsql.type': 'Parameter status', 'pgsql.leng...</td>\n    </tr>\n    <tr>\n      <th>3</th>\n      <td>3</td>\n      <td>CreatePurchaseRequest_1.pcap</td>\n      <td>CreatePurchaseRequest</td>\n      <td>1</td>\n      <td>2020-12-21 08:08:39.600052</td>\n      <td>49</td>\n      <td>2020-12-21 21:40:08.540052</td>\n      <td>2020-12-21 21:40:08.540052</td>\n      <td>192.168.11.1-192.168.11.2 (1)</td>\n      <td>pgsql</td>\n      <td>db Server/Mail Server-&gt;Odoo Application:[Pgsql...</td>\n      <td>PgsqlResponse:Command completion</td>\n      <td>{'pgsql.type': 'Command completion', 'pgsql.le...</td>\n    </tr>\n    <tr>\n      <th>4</th>\n      <td>4</td>\n      <td>CreatePurchaseRequest_1.pcap</td>\n      <td>CreatePurchaseRequest</td>\n      <td>1</td>\n      <td>2020-12-21 08:08:39.600052</td>\n      <td>49</td>\n      <td>2020-12-21 21:40:08.540052</td>\n      <td>2020-12-21 21:40:08.540052</td>\n      <td>192.168.11.1-192.168.11.2 (1)</td>\n      <td>pgsql</td>\n      <td>db Server/Mail Server-&gt;Odoo Application:[Pgsql...</td>\n      <td>PgsqlResponse:Ready for query</td>\n      <td>{'pgsql.type': 'Ready for query', 'pgsql.lengt...</td>\n    </tr>\n    <tr>\n      <th>...</th>\n      <td>...</td>\n      <td>...</td>\n      <td>...</td>\n      <td>...</td>\n      <td>...</td>\n      <td>...</td>\n      <td>...</td>\n      <td>...</td>\n      <td>...</td>\n      <td>...</td>\n      <td>...</td>\n      <td>...</td>\n      <td>...</td>\n    </tr>\n    <tr>\n      <th>3223978</th>\n      <td>3223978</td>\n      <td>SubmitPayment_9.pcap</td>\n      <td>SubmitPayment</td>\n      <td>9</td>\n      <td>2020-12-21 11:46:49.704720</td>\n      <td>4993</td>\n      <td>2021-01-10 13:47:18.324720</td>\n      <td>2021-01-10 13:47:18.324720</td>\n      <td>192.168.11.1-192.168.11.2 (7)</td>\n      <td>pgsql</td>\n      <td>db Server/Mail Server-&gt;Odoo Application:[Pgsql...</td>\n      <td>PgsqlResponse:Ready for query</td>\n      <td>{'pgsql.type': 'Ready for query', 'pgsql.lengt...</td>\n    </tr>\n    <tr>\n      <th>3223979</th>\n      <td>3223979</td>\n      <td>SubmitPayment_9.pcap</td>\n      <td>SubmitPayment</td>\n      <td>9</td>\n      <td>2020-12-21 11:46:49.704720</td>\n      <td>4993</td>\n      <td>2021-01-10 13:47:18.324720</td>\n      <td>2021-01-10 13:47:18.324720</td>\n      <td>192.168.11.1-192.168.11.2 (7)</td>\n      <td>pgsql</td>\n      <td>db Server/Mail Server-&gt;Odoo Application:[Pgsql...</td>\n      <td>PgsqlResponse:Command completion</td>\n      <td>{'pgsql.type': 'Command completion', 'pgsql.le...</td>\n    </tr>\n    <tr>\n      <th>3223980</th>\n      <td>3223980</td>\n      <td>SubmitPayment_9.pcap</td>\n      <td>SubmitPayment</td>\n      <td>9</td>\n      <td>2020-12-21 11:46:49.704810</td>\n      <td>4994</td>\n      <td>2021-01-10 13:47:19.224810</td>\n      <td>2021-01-10 13:47:19.224810</td>\n      <td>192.168.11.1-192.168.11.2 (3)</td>\n      <td>pgsql</td>\n      <td>Odoo Application-&gt;db Server/Mail Server:[Pgsql...</td>\n      <td>PgsqlRequest:Simple query</td>\n      <td>{'pgsql.type': 'Simple query', 'pgsql.length':...</td>\n    </tr>\n    <tr>\n      <th>3223981</th>\n      <td>3223981</td>\n      <td>SubmitPayment_9.pcap</td>\n      <td>SubmitPayment</td>\n      <td>9</td>\n      <td>2020-12-21 11:46:49.705430</td>\n      <td>4995</td>\n      <td>2021-01-10 13:47:25.425430</td>\n      <td>2021-01-10 13:47:25.425430</td>\n      <td>192.168.11.1-192.168.11.2 (3)</td>\n      <td>pgsql</td>\n      <td>db Server/Mail Server-&gt;Odoo Application:[Pgsql...</td>\n      <td>PgsqlResponse:Command completion</td>\n      <td>{'pgsql.type': 'Command completion', 'pgsql.le...</td>\n    </tr>\n    <tr>\n      <th>3223982</th>\n      <td>3223982</td>\n      <td>SubmitPayment_9.pcap</td>\n      <td>SubmitPayment</td>\n      <td>9</td>\n      <td>2020-12-21 11:46:49.705430</td>\n      <td>4995</td>\n      <td>2021-01-10 13:47:25.425430</td>\n      <td>2021-01-10 13:47:25.425430</td>\n      <td>192.168.11.1-192.168.11.2 (3)</td>\n      <td>pgsql</td>\n      <td>db Server/Mail Server-&gt;Odoo Application:[Pgsql...</td>\n      <td>PgsqlResponse:Ready for query</td>\n      <td>{'pgsql.type': 'Ready for query', 'pgsql.lengt...</td>\n    </tr>\n  </tbody>\n</table>\n<p>3223983 rows × 13 columns</p>\n</div>"
     },
     "execution_count": 126,
     "metadata": {},
     "output_type": "execute_result"
    }
   ],
   "source": [
    "df_og"
   ],
   "metadata": {
    "collapsed": false,
    "ExecuteTime": {
     "end_time": "2024-01-09T15:37:06.928680Z",
     "start_time": "2024-01-09T15:37:06.917782Z"
    }
   },
   "id": "de1414cbcbdc1e79"
  },
  {
   "cell_type": "code",
   "execution_count": 123,
   "outputs": [
    {
     "data": {
      "text/plain": "selective_filter_data\nIsNumber                               262\nversion                                 63\npurchase.requisition_write              38\npurchase.order.line_create              29\npurchase.order_create                   27\npurchase.order_search_read_1            16\npurchase.requisition.line_create        10\nsale.order.line_create                  10\nres.partner_search_read_5               10\nsale.order_create                       10\nproduct.product_search_read_name        10\nsale.order_write                        10\npurchase.requisition_create              9\naccount.payment_create                   8\nstock.move_search_read_1                 8\naccount.invoice_action_invoice_open      8\naccount.invoice.line_create              8\naccount.journal_search_read_1            8\nfaultCode                                8\nstock.move.line_write                    8\naccount.invoice_create                   8\nstock.picking_search_read_1              8\npurchase.order_button_confirm            8\nstock.picking_button_validate            7\npurchase.order_write                     5\nproduct.product_search_read_16           2\nproduct.product_search_read_6            2\nmove_ids_without_package_274             1\npicking_ids_269                          1\nmove_line_ids_268                        1\npicking_ids_268                          1\nmove_ids_without_package_278             1\nmove_line_ids_269                        1\nmove_line_ids_270                        1\nmove_ids_without_package_279             1\npicking_ids_267                          1\npicking_ids_270                          1\nmove_ids_without_package_280             1\nmove_line_ids_271                        1\npicking_ids_271                          1\nmove_ids_without_package_281             1\nmove_ids_without_package_277             1\nmove_line_ids_267                        1\nproduct.product_search_read_19           1\nproduct.product_search_read_30           1\nmove_ids_without_package_276             1\npicking_ids_266                          1\nproduct.product_search_read_23           1\nmove_line_ids_266                        1\nmove_ids_without_package_275             1\npicking_ids_265                          1\nproduct.product_search_read_8            1\nproduct.product_search_read_26           1\nproduct.product_search_read_32           1\npicking_ids_264                          1\nmove_line_ids_265                        1\nmove_line_ids_272                        1\nName: count, dtype: int64"
     },
     "execution_count": 123,
     "metadata": {},
     "output_type": "execute_result"
    }
   ],
   "source": [
    "df_og[\"selective_filter_data\"].value_counts()"
   ],
   "metadata": {
    "collapsed": false,
    "ExecuteTime": {
     "end_time": "2024-01-09T14:12:59.378453Z",
     "start_time": "2024-01-09T14:12:59.358499Z"
    }
   },
   "id": "9b6d216beb9a4778"
  },
  {
   "cell_type": "code",
   "execution_count": 110,
   "outputs": [],
   "source": [
    "df_final = pd.DataFrame(df[[\"InstanceNumber\",\"BusinessActivity\",\"frame.number\",\"event_with_roles\"]])\n",
    "df_final[\"http_file_data\"] = df[\"MessageAttributes\"].apply(lambda x : x.get(\"http.file_data\", None))\n",
    "df_final[\"http_request_in\"] = df[\"MessageAttributes\"].apply(lambda x : x.get(\"http.request_in\", pd.NA)).astype(\"Int64\")\n",
    "\n",
    "df_il_final = pd.DataFrame(df_il[[\"InstanceNumber\",\"BusinessActivity\",\"frame.number\",\"event_with_roles\",\"real_single_activity_action\"]])\n",
    "df_il_final[\"http_file_data\"] = df_il[\"MessageAttributes\"].apply(lambda x : x.get(\"http.file_data\", None))\n",
    "df_il_final[\"http_request_in\"] = df_il[\"MessageAttributes\"].apply(lambda x : x.get(\"http.request_in\", pd.NA)).astype(\"Int64\")"
   ],
   "metadata": {
    "collapsed": false,
    "ExecuteTime": {
     "end_time": "2024-01-09T14:10:41.405515Z",
     "start_time": "2024-01-09T14:10:41.381650Z"
    }
   },
   "id": "bf9bd3cb68584f9d"
  },
  {
   "cell_type": "code",
   "execution_count": 111,
   "outputs": [],
   "source": [
    "from lxml import etree\n",
    "import pandas as pd\n",
    "\n",
    "def parse_http_file_data(row, include_numbers):\n",
    "    \n",
    "    content = row[\"http_file_data\"]\n",
    "\n",
    "    if content is not None:\n",
    "        #print(content)\n",
    "        file_data = []\n",
    "        selective_file_data = None\n",
    "        method_call = None\n",
    "        \n",
    "        content = content.replace(\"\\\\xa\",\"\")\n",
    "        root = etree.fromstring(content)\n",
    "        \n",
    "        method_type = root.find(\".\").tag\n",
    "        \n",
    "        # extract method call\n",
    "        if method_type == \"methodCall\":\n",
    "            method_name = root.find(\".//methodName\")\n",
    "            if method_name is not None:\n",
    "                method_call = method_name.text\n",
    "            \n",
    "        elif method_type == \"methodResponse\":\n",
    "            method_call = \"response\"   \n",
    "\n",
    "        # Extract parameters\n",
    "        params = root.find(\".//params\")        \n",
    "        if params is not None:\n",
    "            file_data = root.find(\".//params\").xpath('.//text()')\n",
    "            # process data \n",
    "            if method_call == \"execute_kw\": \n",
    "                if include_numbers and (file_data[4] == \"search_read\"):\n",
    "                    selective_file_data = \"_\".join([*file_data[3:5],file_data[-1]])\n",
    "                else:                 \n",
    "                    selective_file_data = \"_\".join(file_data[3:5])\n",
    "            elif method_call == \"response\":   \n",
    "                method_call = file_data[0]\n",
    "                if method_call.isdigit():\n",
    "                    selective_file_data = \"IsNumber\"\n",
    "                elif method_call == \"id\": \n",
    "                    if include_numbers:\n",
    "                        if file_data[2] == \"picking_ids\": \n",
    "                            selective_file_data = \"_\".join(file_data[2:4])\n",
    "                        elif file_data[2] == \"move_line_ids\": \n",
    "                            selective_file_data = \"_\".join(file_data[2:4])\n",
    "                        elif file_data[2] == \"move_ids_without_package\": \n",
    "                            selective_file_data = \"_\".join(file_data[2:4])\n",
    "                    else: \n",
    "                        selective_file_data = file_data[2]\n",
    "    \n",
    "            elif method_call ==\"version\": \n",
    "                selective_file_data = \"version\"\n",
    "           \n",
    "        elif method_call == \"response\": \n",
    "            method_call = \"faultCode\"       \n",
    "            selective_file_data = \"faultCode\"\n",
    "\n",
    "        return method_call, file_data, selective_file_data\n",
    "        \n",
    "    return None\n",
    "\n",
    "# Assuming df_final is your DataFrame\n",
    "df_final[[\"method_call\", \"file_data\",\"selective_file_data\"]] = df_final.apply(parse_http_file_data, axis=1, include_numbers = False, result_type=\"expand\")\n",
    "df_il_final[[\"method_call\", \"file_data\",\"selective_file_data\"]] = df_il_final.apply(parse_http_file_data, axis=1,include_numbers = False, result_type=\"expand\")"
   ],
   "metadata": {
    "collapsed": false,
    "ExecuteTime": {
     "end_time": "2024-01-09T14:10:42.427948Z",
     "start_time": "2024-01-09T14:10:41.410762Z"
    }
   },
   "id": "7cf7526199e855c7"
  },
  {
   "cell_type": "markdown",
   "source": [
    "## Response Package Feature"
   ],
   "metadata": {
    "collapsed": false
   },
   "id": "a81e9b776741abd6"
  },
  {
   "cell_type": "code",
   "execution_count": 112,
   "outputs": [],
   "source": [
    "def merge_origin_request(row, df): \n",
    "    if pd.notna(row[\"http_request_in\"]):\n",
    "        instance_number = row[\"InstanceNumber\"]\n",
    "        request_frame = row[\"http_request_in\"]\n",
    "        business_activity = row[\"BusinessActivity\"]\n",
    "        try:\n",
    "            row =  df[(df[\"InstanceNumber\"] == instance_number) & (df[\"frame.number\"] == request_frame) & (df[\"BusinessActivity\"] == business_activity )].iloc[0]\n",
    "            selective_file_data = row[\"selective_file_data\"]\n",
    "            method_call = row[\"method_call\"]\n",
    "            return method_call, selective_file_data\n",
    "        except IndexError: \n",
    "            pass\n",
    "    return None,None\n",
    "    \n",
    "df_final[[\"origin_method\", \"origin_file_data\"]] = df_final.apply(merge_origin_request, axis=1, df = df_final,result_type= \"expand\").fillna(\"\")\n",
    "df_il_final[[\"origin_method\", \"origin_file_data\"]] = df_il_final.apply(merge_origin_request, axis=1, df = df_il_final,result_type= \"expand\").fillna(\"\")"
   ],
   "metadata": {
    "collapsed": false,
    "ExecuteTime": {
     "end_time": "2024-01-09T14:10:46.668168Z",
     "start_time": "2024-01-09T14:10:43.171692Z"
    }
   },
   "id": "3c7422b3f507e6ea"
  },
  {
   "cell_type": "code",
   "execution_count": 113,
   "outputs": [],
   "source": [
    "df_final[\"method_call_2\"] = df_final.apply(lambda x : x[\"method_call\"] +\" \"+ x[\"origin_method\"] if x[\"origin_method\"]!= \"\" else x[\"method_call\"], axis=1)\n",
    "df_il_final[\"method_call_2\"] = df_il_final.apply(lambda x : x[\"method_call\"] +\" \"+ x[\"origin_method\"] if x[\"origin_method\"]!= \"\" else x[\"method_call\"], axis=1)"
   ],
   "metadata": {
    "collapsed": false,
    "ExecuteTime": {
     "end_time": "2024-01-09T14:10:46.790312Z",
     "start_time": "2024-01-09T14:10:46.668103Z"
    }
   },
   "id": "7ab2e092140e02b9"
  },
  {
   "cell_type": "markdown",
   "source": [
    "## Encode Start and End Events"
   ],
   "metadata": {
    "collapsed": false
   },
   "id": "fee29d92f3076cc5"
  },
  {
   "cell_type": "code",
   "execution_count": 100,
   "outputs": [],
   "source": [
    "# Mark start event of each BusinessActivity Instance\n",
    "df_final[\"activityStart\"] = df_final.groupby([\"BusinessActivity\",\"InstanceNumber\",]).cumcount()==0\n",
    "# Mark end event of each Business Activity Instance\n",
    "df_final[\"activityEnd\"] = df_final.groupby([\"BusinessActivity\",\"InstanceNumber\",]).cumcount(ascending=False)==0\n",
    "# Merge start and end columns to form labels\n",
    "df_final[\"task_position\"] = df_final.apply(lambda row: \"position_start\" if row[\"activityStart\"] else (\"position_end\" if row[\"activityEnd\"] else 'position_between'), axis=1)\n",
    "\n",
    "df_final = df_final.drop([\"activityStart\",'activityEnd'], axis=1)"
   ],
   "metadata": {
    "collapsed": false,
    "ExecuteTime": {
     "end_time": "2024-01-09T11:56:13.917034Z",
     "start_time": "2024-01-09T11:56:13.808323Z"
    }
   },
   "id": "6d2055b3bdd48ebb"
  },
  {
   "cell_type": "code",
   "execution_count": 101,
   "outputs": [],
   "source": [
    "df_il_final[\"task_position\"] = df_il_final.apply(lambda row: \"position_start\" if row[\"real_single_activity_action\"] == \"Activity Start\" else (\"position_end\" if row[\"real_single_activity_action\"] == \"Activity End\" else \"position_between\"), axis = 1)\n",
    "df_il_final.drop(\"real_single_activity_action\",axis=1, inplace = True)"
   ],
   "metadata": {
    "collapsed": false,
    "ExecuteTime": {
     "end_time": "2024-01-09T11:56:13.936679Z",
     "start_time": "2024-01-09T11:56:13.925618Z"
    }
   },
   "id": "ea4610ca75c3671a"
  },
  {
   "cell_type": "code",
   "execution_count": 102,
   "outputs": [],
   "source": [
    "df_final.loc[df_final[\"file_data\"].notna(), \"file_data_str\"] = df_final.loc[df_final[\"file_data\"].notna(), \"file_data\"].apply(lambda x : \" \".join(x))\n",
    "\n",
    "df_il_final.loc[df_il_final[\"file_data\"].notna(), \"file_data_str\"] = df_il_final.loc[df_il_final[\"file_data\"].notna(), \"file_data\"].apply(lambda x : \" \".join(x))"
   ],
   "metadata": {
    "collapsed": false,
    "ExecuteTime": {
     "end_time": "2024-01-09T11:56:13.954635Z",
     "start_time": "2024-01-09T11:56:13.938373Z"
    }
   },
   "id": "c875bab487b6e5f6"
  },
  {
   "cell_type": "markdown",
   "source": [
    "### Drop columns"
   ],
   "metadata": {
    "collapsed": false
   },
   "id": "70df545d9eccbc43"
  },
  {
   "cell_type": "code",
   "execution_count": 103,
   "outputs": [],
   "source": [
    "df_final = df_final.drop([\"file_data\",\"http_request_in\",\"http_file_data\"], axis=1)\n",
    "df_il_final = df_il_final.drop([\"file_data\",\"http_request_in\",\"http_file_data\"], axis=1)"
   ],
   "metadata": {
    "collapsed": false,
    "ExecuteTime": {
     "end_time": "2024-01-09T11:56:14.003699Z",
     "start_time": "2024-01-09T11:56:13.992018Z"
    }
   },
   "id": "5779da2cf7086a7c"
  },
  {
   "cell_type": "code",
   "execution_count": 128,
   "outputs": [
    {
     "data": {
      "text/plain": "       InstanceNumber       BusinessActivity  frame.number  \\\n0                   1  CreatePurchaseRequest           119   \n1                   1  CreatePurchaseRequest           153   \n2                   1  CreatePurchaseRequest           161   \n3                   1  CreatePurchaseRequest           224   \n4                   1  CreatePurchaseRequest           245   \n...               ...                    ...           ...   \n26001               9          SubmitPayment          2782   \n26002               9          SubmitPayment          2784   \n26003               9          SubmitPayment          2840   \n26004               9          SubmitPayment          2862   \n26005               9          SubmitPayment          2973   \n\n                                        event_with_roles  \\\n0      End Point (Employee)->Odoo Application: [HttpR...   \n1      Odoo Application->End Point (Employee): [HttpR...   \n2      End Point (Employee)->Odoo Application: [HttpR...   \n3      Odoo Application->db Server/Mail Server: [Pgsq...   \n4      Odoo Application->End Point (Employee): [HttpR...   \n...                                                  ...   \n26001  Odoo Application->db Server/Mail Server: [Pgsq...   \n26002  Odoo Application->db Server/Mail Server: [Pgsq...   \n26003  Odoo Application->db Server/Mail Server: [Pgsq...   \n26004  Odoo Application->End Point (Finance): [HttpRe...   \n26005  Odoo Application->db Server/Mail Server: [Pgsq...   \n\n                                          http_file_data  http_request_in  \\\n0      <?xml version='1.0'?>\\xa<methodCall>\\xa<method...             <NA>   \n1      <?xml version='1.0'?>\\xa<methodResponse>\\xa<pa...              119   \n2      <?xml version='1.0'?>\\xa<methodCall>\\xa<method...             <NA>   \n3                                                   None             <NA>   \n4      <?xml version='1.0'?>\\xa<methodResponse>\\xa<pa...              161   \n...                                                  ...              ...   \n26001                                               None             <NA>   \n26002                                               None             <NA>   \n26003                                               None             <NA>   \n26004  <?xml version='1.0'?>\\xa<methodResponse>\\xa<pa...             2722   \n26005                                               None             <NA>   \n\n          method_call                                          file_data  \\\n0             version                                                 []   \n1      server_version  [server_version, 12.0-20190820, server_version...   \n2        authenticate       [odoo01, user.suername@company.com, PWD1234]   \n3                None                                               None   \n4                   2                                                [2]   \n...               ...                                                ...   \n26001            None                                               None   \n26002            None                                               None   \n26003            None                                               None   \n26004              37                                               [37]   \n26005            None                                               None   \n\n      selective_file_data origin_method        origin_file_data  \\\n0                 version                                         \n1                    None       version                 version   \n2                    None                                         \n3                    None                                         \n4                IsNumber  authenticate                           \n...                   ...           ...                     ...   \n26001                None                                         \n26002                None                                         \n26003                None                                         \n26004            IsNumber    execute_kw  account.payment_create   \n26005                None                                         \n\n                method_call_2  \n0                     version  \n1      server_version version  \n2                authenticate  \n3                        None  \n4              2 authenticate  \n...                       ...  \n26001                    None  \n26002                    None  \n26003                    None  \n26004           37 execute_kw  \n26005                    None  \n\n[26006 rows x 12 columns]",
      "text/html": "<div>\n<style scoped>\n    .dataframe tbody tr th:only-of-type {\n        vertical-align: middle;\n    }\n\n    .dataframe tbody tr th {\n        vertical-align: top;\n    }\n\n    .dataframe thead th {\n        text-align: right;\n    }\n</style>\n<table border=\"1\" class=\"dataframe\">\n  <thead>\n    <tr style=\"text-align: right;\">\n      <th></th>\n      <th>InstanceNumber</th>\n      <th>BusinessActivity</th>\n      <th>frame.number</th>\n      <th>event_with_roles</th>\n      <th>http_file_data</th>\n      <th>http_request_in</th>\n      <th>method_call</th>\n      <th>file_data</th>\n      <th>selective_file_data</th>\n      <th>origin_method</th>\n      <th>origin_file_data</th>\n      <th>method_call_2</th>\n    </tr>\n  </thead>\n  <tbody>\n    <tr>\n      <th>0</th>\n      <td>1</td>\n      <td>CreatePurchaseRequest</td>\n      <td>119</td>\n      <td>End Point (Employee)-&gt;Odoo Application: [HttpR...</td>\n      <td>&lt;?xml version='1.0'?&gt;\\xa&lt;methodCall&gt;\\xa&lt;method...</td>\n      <td>&lt;NA&gt;</td>\n      <td>version</td>\n      <td>[]</td>\n      <td>version</td>\n      <td></td>\n      <td></td>\n      <td>version</td>\n    </tr>\n    <tr>\n      <th>1</th>\n      <td>1</td>\n      <td>CreatePurchaseRequest</td>\n      <td>153</td>\n      <td>Odoo Application-&gt;End Point (Employee): [HttpR...</td>\n      <td>&lt;?xml version='1.0'?&gt;\\xa&lt;methodResponse&gt;\\xa&lt;pa...</td>\n      <td>119</td>\n      <td>server_version</td>\n      <td>[server_version, 12.0-20190820, server_version...</td>\n      <td>None</td>\n      <td>version</td>\n      <td>version</td>\n      <td>server_version version</td>\n    </tr>\n    <tr>\n      <th>2</th>\n      <td>1</td>\n      <td>CreatePurchaseRequest</td>\n      <td>161</td>\n      <td>End Point (Employee)-&gt;Odoo Application: [HttpR...</td>\n      <td>&lt;?xml version='1.0'?&gt;\\xa&lt;methodCall&gt;\\xa&lt;method...</td>\n      <td>&lt;NA&gt;</td>\n      <td>authenticate</td>\n      <td>[odoo01, user.suername@company.com, PWD1234]</td>\n      <td>None</td>\n      <td></td>\n      <td></td>\n      <td>authenticate</td>\n    </tr>\n    <tr>\n      <th>3</th>\n      <td>1</td>\n      <td>CreatePurchaseRequest</td>\n      <td>224</td>\n      <td>Odoo Application-&gt;db Server/Mail Server: [Pgsq...</td>\n      <td>None</td>\n      <td>&lt;NA&gt;</td>\n      <td>None</td>\n      <td>None</td>\n      <td>None</td>\n      <td></td>\n      <td></td>\n      <td>None</td>\n    </tr>\n    <tr>\n      <th>4</th>\n      <td>1</td>\n      <td>CreatePurchaseRequest</td>\n      <td>245</td>\n      <td>Odoo Application-&gt;End Point (Employee): [HttpR...</td>\n      <td>&lt;?xml version='1.0'?&gt;\\xa&lt;methodResponse&gt;\\xa&lt;pa...</td>\n      <td>161</td>\n      <td>2</td>\n      <td>[2]</td>\n      <td>IsNumber</td>\n      <td>authenticate</td>\n      <td></td>\n      <td>2 authenticate</td>\n    </tr>\n    <tr>\n      <th>...</th>\n      <td>...</td>\n      <td>...</td>\n      <td>...</td>\n      <td>...</td>\n      <td>...</td>\n      <td>...</td>\n      <td>...</td>\n      <td>...</td>\n      <td>...</td>\n      <td>...</td>\n      <td>...</td>\n      <td>...</td>\n    </tr>\n    <tr>\n      <th>26001</th>\n      <td>9</td>\n      <td>SubmitPayment</td>\n      <td>2782</td>\n      <td>Odoo Application-&gt;db Server/Mail Server: [Pgsq...</td>\n      <td>None</td>\n      <td>&lt;NA&gt;</td>\n      <td>None</td>\n      <td>None</td>\n      <td>None</td>\n      <td></td>\n      <td></td>\n      <td>None</td>\n    </tr>\n    <tr>\n      <th>26002</th>\n      <td>9</td>\n      <td>SubmitPayment</td>\n      <td>2784</td>\n      <td>Odoo Application-&gt;db Server/Mail Server: [Pgsq...</td>\n      <td>None</td>\n      <td>&lt;NA&gt;</td>\n      <td>None</td>\n      <td>None</td>\n      <td>None</td>\n      <td></td>\n      <td></td>\n      <td>None</td>\n    </tr>\n    <tr>\n      <th>26003</th>\n      <td>9</td>\n      <td>SubmitPayment</td>\n      <td>2840</td>\n      <td>Odoo Application-&gt;db Server/Mail Server: [Pgsq...</td>\n      <td>None</td>\n      <td>&lt;NA&gt;</td>\n      <td>None</td>\n      <td>None</td>\n      <td>None</td>\n      <td></td>\n      <td></td>\n      <td>None</td>\n    </tr>\n    <tr>\n      <th>26004</th>\n      <td>9</td>\n      <td>SubmitPayment</td>\n      <td>2862</td>\n      <td>Odoo Application-&gt;End Point (Finance): [HttpRe...</td>\n      <td>&lt;?xml version='1.0'?&gt;\\xa&lt;methodResponse&gt;\\xa&lt;pa...</td>\n      <td>2722</td>\n      <td>37</td>\n      <td>[37]</td>\n      <td>IsNumber</td>\n      <td>execute_kw</td>\n      <td>account.payment_create</td>\n      <td>37 execute_kw</td>\n    </tr>\n    <tr>\n      <th>26005</th>\n      <td>9</td>\n      <td>SubmitPayment</td>\n      <td>2973</td>\n      <td>Odoo Application-&gt;db Server/Mail Server: [Pgsq...</td>\n      <td>None</td>\n      <td>&lt;NA&gt;</td>\n      <td>None</td>\n      <td>None</td>\n      <td>None</td>\n      <td></td>\n      <td></td>\n      <td>None</td>\n    </tr>\n  </tbody>\n</table>\n<p>26006 rows × 12 columns</p>\n</div>"
     },
     "execution_count": 128,
     "metadata": {},
     "output_type": "execute_result"
    }
   ],
   "source": [
    "df_final"
   ],
   "metadata": {
    "collapsed": false,
    "ExecuteTime": {
     "end_time": "2024-01-10T08:10:39.872109Z",
     "start_time": "2024-01-10T08:10:39.845252Z"
    }
   },
   "id": "4692e0a6085f3cd2"
  },
  {
   "cell_type": "markdown",
   "source": [
    "\n",
    "## Save modified data"
   ],
   "metadata": {
    "collapsed": false
   },
   "id": "b28c08441611bdfd"
  },
  {
   "cell_type": "code",
   "execution_count": 135,
   "outputs": [
    {
     "ename": "KeyError",
     "evalue": "\"['task_position'] not in index\"",
     "output_type": "error",
     "traceback": [
      "\u001B[0;31m---------------------------------------------------------------------------\u001B[0m",
      "\u001B[0;31mKeyError\u001B[0m                                  Traceback (most recent call last)",
      "Cell \u001B[0;32mIn[135], line 1\u001B[0m\n\u001B[0;32m----> 1\u001B[0m df_final \u001B[38;5;241m=\u001B[39m \u001B[43mdf_final\u001B[49m\u001B[43m[\u001B[49m\u001B[43m[\u001B[49m\u001B[38;5;124;43m'\u001B[39;49m\u001B[38;5;124;43mInstanceNumber\u001B[39;49m\u001B[38;5;124;43m'\u001B[39;49m\u001B[43m,\u001B[49m\n\u001B[1;32m      2\u001B[0m \u001B[43m \u001B[49m\u001B[38;5;124;43m'\u001B[39;49m\u001B[38;5;124;43mBusinessActivity\u001B[39;49m\u001B[38;5;124;43m'\u001B[39;49m\u001B[43m,\u001B[49m\n\u001B[1;32m      3\u001B[0m \u001B[43m \u001B[49m\u001B[38;5;124;43m'\u001B[39;49m\u001B[38;5;124;43mframe.number\u001B[39;49m\u001B[38;5;124;43m'\u001B[39;49m\u001B[43m,\u001B[49m\n\u001B[1;32m      4\u001B[0m \u001B[43m \u001B[49m\u001B[38;5;124;43m'\u001B[39;49m\u001B[38;5;124;43mevent_with_roles\u001B[39;49m\u001B[38;5;124;43m'\u001B[39;49m\u001B[43m,\u001B[49m\n\u001B[1;32m      5\u001B[0m \u001B[43m \u001B[49m\u001B[38;5;124;43m'\u001B[39;49m\u001B[38;5;124;43mmethod_call\u001B[39;49m\u001B[38;5;124;43m'\u001B[39;49m\u001B[43m,\u001B[49m\n\u001B[1;32m      6\u001B[0m \u001B[43m \u001B[49m\u001B[38;5;124;43m'\u001B[39;49m\u001B[38;5;124;43mmethod_call_2\u001B[39;49m\u001B[38;5;124;43m'\u001B[39;49m\u001B[43m,\u001B[49m\n\u001B[1;32m      7\u001B[0m \u001B[43m \u001B[49m\u001B[38;5;124;43m'\u001B[39;49m\u001B[38;5;124;43mselective_file_data\u001B[39;49m\u001B[38;5;124;43m'\u001B[39;49m\u001B[43m,\u001B[49m\n\u001B[1;32m      8\u001B[0m \u001B[43m \u001B[49m\u001B[38;5;124;43m'\u001B[39;49m\u001B[38;5;124;43morigin_method\u001B[39;49m\u001B[38;5;124;43m'\u001B[39;49m\u001B[43m,\u001B[49m\n\u001B[1;32m      9\u001B[0m \u001B[43m \u001B[49m\u001B[38;5;124;43m'\u001B[39;49m\u001B[38;5;124;43morigin_file_data\u001B[39;49m\u001B[38;5;124;43m'\u001B[39;49m\u001B[43m,\u001B[49m\n\u001B[1;32m     10\u001B[0m \u001B[43m \u001B[49m\u001B[38;5;124;43m'\u001B[39;49m\u001B[38;5;124;43mtask_position\u001B[39;49m\u001B[38;5;124;43m'\u001B[39;49m\u001B[43m]\u001B[49m\u001B[43m]\u001B[49m\n",
      "File \u001B[0;32m~/git/master_thesis/nw_event_abstraction/venv/lib/python3.9/site-packages/pandas/core/frame.py:3902\u001B[0m, in \u001B[0;36mDataFrame.__getitem__\u001B[0;34m(self, key)\u001B[0m\n\u001B[1;32m   3900\u001B[0m     \u001B[38;5;28;01mif\u001B[39;00m is_iterator(key):\n\u001B[1;32m   3901\u001B[0m         key \u001B[38;5;241m=\u001B[39m \u001B[38;5;28mlist\u001B[39m(key)\n\u001B[0;32m-> 3902\u001B[0m     indexer \u001B[38;5;241m=\u001B[39m \u001B[38;5;28;43mself\u001B[39;49m\u001B[38;5;241;43m.\u001B[39;49m\u001B[43mcolumns\u001B[49m\u001B[38;5;241;43m.\u001B[39;49m\u001B[43m_get_indexer_strict\u001B[49m\u001B[43m(\u001B[49m\u001B[43mkey\u001B[49m\u001B[43m,\u001B[49m\u001B[43m \u001B[49m\u001B[38;5;124;43m\"\u001B[39;49m\u001B[38;5;124;43mcolumns\u001B[39;49m\u001B[38;5;124;43m\"\u001B[39;49m\u001B[43m)\u001B[49m[\u001B[38;5;241m1\u001B[39m]\n\u001B[1;32m   3904\u001B[0m \u001B[38;5;66;03m# take() does not accept boolean indexers\u001B[39;00m\n\u001B[1;32m   3905\u001B[0m \u001B[38;5;28;01mif\u001B[39;00m \u001B[38;5;28mgetattr\u001B[39m(indexer, \u001B[38;5;124m\"\u001B[39m\u001B[38;5;124mdtype\u001B[39m\u001B[38;5;124m\"\u001B[39m, \u001B[38;5;28;01mNone\u001B[39;00m) \u001B[38;5;241m==\u001B[39m \u001B[38;5;28mbool\u001B[39m:\n",
      "File \u001B[0;32m~/git/master_thesis/nw_event_abstraction/venv/lib/python3.9/site-packages/pandas/core/indexes/base.py:6114\u001B[0m, in \u001B[0;36mIndex._get_indexer_strict\u001B[0;34m(self, key, axis_name)\u001B[0m\n\u001B[1;32m   6111\u001B[0m \u001B[38;5;28;01melse\u001B[39;00m:\n\u001B[1;32m   6112\u001B[0m     keyarr, indexer, new_indexer \u001B[38;5;241m=\u001B[39m \u001B[38;5;28mself\u001B[39m\u001B[38;5;241m.\u001B[39m_reindex_non_unique(keyarr)\n\u001B[0;32m-> 6114\u001B[0m \u001B[38;5;28;43mself\u001B[39;49m\u001B[38;5;241;43m.\u001B[39;49m\u001B[43m_raise_if_missing\u001B[49m\u001B[43m(\u001B[49m\u001B[43mkeyarr\u001B[49m\u001B[43m,\u001B[49m\u001B[43m \u001B[49m\u001B[43mindexer\u001B[49m\u001B[43m,\u001B[49m\u001B[43m \u001B[49m\u001B[43maxis_name\u001B[49m\u001B[43m)\u001B[49m\n\u001B[1;32m   6116\u001B[0m keyarr \u001B[38;5;241m=\u001B[39m \u001B[38;5;28mself\u001B[39m\u001B[38;5;241m.\u001B[39mtake(indexer)\n\u001B[1;32m   6117\u001B[0m \u001B[38;5;28;01mif\u001B[39;00m \u001B[38;5;28misinstance\u001B[39m(key, Index):\n\u001B[1;32m   6118\u001B[0m     \u001B[38;5;66;03m# GH 42790 - Preserve name from an Index\u001B[39;00m\n",
      "File \u001B[0;32m~/git/master_thesis/nw_event_abstraction/venv/lib/python3.9/site-packages/pandas/core/indexes/base.py:6178\u001B[0m, in \u001B[0;36mIndex._raise_if_missing\u001B[0;34m(self, key, indexer, axis_name)\u001B[0m\n\u001B[1;32m   6175\u001B[0m     \u001B[38;5;28;01mraise\u001B[39;00m \u001B[38;5;167;01mKeyError\u001B[39;00m(\u001B[38;5;124mf\u001B[39m\u001B[38;5;124m\"\u001B[39m\u001B[38;5;124mNone of [\u001B[39m\u001B[38;5;132;01m{\u001B[39;00mkey\u001B[38;5;132;01m}\u001B[39;00m\u001B[38;5;124m] are in the [\u001B[39m\u001B[38;5;132;01m{\u001B[39;00maxis_name\u001B[38;5;132;01m}\u001B[39;00m\u001B[38;5;124m]\u001B[39m\u001B[38;5;124m\"\u001B[39m)\n\u001B[1;32m   6177\u001B[0m not_found \u001B[38;5;241m=\u001B[39m \u001B[38;5;28mlist\u001B[39m(ensure_index(key)[missing_mask\u001B[38;5;241m.\u001B[39mnonzero()[\u001B[38;5;241m0\u001B[39m]]\u001B[38;5;241m.\u001B[39munique())\n\u001B[0;32m-> 6178\u001B[0m \u001B[38;5;28;01mraise\u001B[39;00m \u001B[38;5;167;01mKeyError\u001B[39;00m(\u001B[38;5;124mf\u001B[39m\u001B[38;5;124m\"\u001B[39m\u001B[38;5;132;01m{\u001B[39;00mnot_found\u001B[38;5;132;01m}\u001B[39;00m\u001B[38;5;124m not in index\u001B[39m\u001B[38;5;124m\"\u001B[39m)\n",
      "\u001B[0;31mKeyError\u001B[0m: \"['task_position'] not in index\""
     ]
    }
   ],
   "source": [
    "df_final = df_final[['InstanceNumber',\n",
    " 'BusinessActivity',\n",
    " 'frame.number',\n",
    " 'event_with_roles',\n",
    " 'method_call',\n",
    " 'method_call_2',\n",
    " 'selective_file_data',\n",
    " 'origin_method',\n",
    " 'origin_file_data',\n",
    " 'task_position']]"
   ],
   "metadata": {
    "collapsed": false,
    "ExecuteTime": {
     "end_time": "2024-01-10T08:23:15.242120Z",
     "start_time": "2024-01-10T08:23:15.099158Z"
    }
   },
   "id": "744d2930617c7817"
  },
  {
   "cell_type": "code",
   "execution_count": 136,
   "outputs": [
    {
     "ename": "TypeError",
     "evalue": "Invalid value '' for dtype Int64",
     "output_type": "error",
     "traceback": [
      "\u001B[0;31m---------------------------------------------------------------------------\u001B[0m",
      "\u001B[0;31mTypeError\u001B[0m                                 Traceback (most recent call last)",
      "File \u001B[0;32m~/git/master_thesis/nw_event_abstraction/venv/lib/python3.9/site-packages/pandas/core/internals/blocks.py:2002\u001B[0m, in \u001B[0;36mExtensionBlock.fillna\u001B[0;34m(self, value, limit, inplace, downcast, using_cow)\u001B[0m\n\u001B[1;32m   2001\u001B[0m \u001B[38;5;28;01mtry\u001B[39;00m:\n\u001B[0;32m-> 2002\u001B[0m     new_values \u001B[38;5;241m=\u001B[39m \u001B[38;5;28;43mself\u001B[39;49m\u001B[38;5;241;43m.\u001B[39;49m\u001B[43mvalues\u001B[49m\u001B[38;5;241;43m.\u001B[39;49m\u001B[43mfillna\u001B[49m\u001B[43m(\u001B[49m\n\u001B[1;32m   2003\u001B[0m \u001B[43m        \u001B[49m\u001B[43mvalue\u001B[49m\u001B[38;5;241;43m=\u001B[39;49m\u001B[43mvalue\u001B[49m\u001B[43m,\u001B[49m\u001B[43m \u001B[49m\u001B[43mmethod\u001B[49m\u001B[38;5;241;43m=\u001B[39;49m\u001B[38;5;28;43;01mNone\u001B[39;49;00m\u001B[43m,\u001B[49m\u001B[43m \u001B[49m\u001B[43mlimit\u001B[49m\u001B[38;5;241;43m=\u001B[39;49m\u001B[43mlimit\u001B[49m\u001B[43m,\u001B[49m\u001B[43m \u001B[49m\u001B[43mcopy\u001B[49m\u001B[38;5;241;43m=\u001B[39;49m\u001B[43mcopy\u001B[49m\n\u001B[1;32m   2004\u001B[0m \u001B[43m    \u001B[49m\u001B[43m)\u001B[49m\n\u001B[1;32m   2005\u001B[0m \u001B[38;5;28;01mexcept\u001B[39;00m \u001B[38;5;167;01mTypeError\u001B[39;00m:\n\u001B[1;32m   2006\u001B[0m     \u001B[38;5;66;03m# 3rd party EA that has not implemented copy keyword yet\u001B[39;00m\n",
      "File \u001B[0;32m~/git/master_thesis/nw_event_abstraction/venv/lib/python3.9/site-packages/pandas/core/arrays/masked.py:244\u001B[0m, in \u001B[0;36mBaseMaskedArray.fillna\u001B[0;34m(self, value, method, limit, copy)\u001B[0m\n\u001B[1;32m    243\u001B[0m             new_values \u001B[38;5;241m=\u001B[39m \u001B[38;5;28mself\u001B[39m[:]\n\u001B[0;32m--> 244\u001B[0m         \u001B[43mnew_values\u001B[49m\u001B[43m[\u001B[49m\u001B[43mmask\u001B[49m\u001B[43m]\u001B[49m \u001B[38;5;241m=\u001B[39m value\n\u001B[1;32m    245\u001B[0m \u001B[38;5;28;01melse\u001B[39;00m:\n",
      "File \u001B[0;32m~/git/master_thesis/nw_event_abstraction/venv/lib/python3.9/site-packages/pandas/core/arrays/masked.py:292\u001B[0m, in \u001B[0;36mBaseMaskedArray.__setitem__\u001B[0;34m(self, key, value)\u001B[0m\n\u001B[1;32m    291\u001B[0m \u001B[38;5;28;01melse\u001B[39;00m:\n\u001B[0;32m--> 292\u001B[0m     value \u001B[38;5;241m=\u001B[39m \u001B[38;5;28;43mself\u001B[39;49m\u001B[38;5;241;43m.\u001B[39;49m\u001B[43m_validate_setitem_value\u001B[49m\u001B[43m(\u001B[49m\u001B[43mvalue\u001B[49m\u001B[43m)\u001B[49m\n\u001B[1;32m    293\u001B[0m     \u001B[38;5;28mself\u001B[39m\u001B[38;5;241m.\u001B[39m_data[key] \u001B[38;5;241m=\u001B[39m value\n",
      "File \u001B[0;32m~/git/master_thesis/nw_event_abstraction/venv/lib/python3.9/site-packages/pandas/core/arrays/masked.py:283\u001B[0m, in \u001B[0;36mBaseMaskedArray._validate_setitem_value\u001B[0;34m(self, value)\u001B[0m\n\u001B[1;32m    279\u001B[0m     \u001B[38;5;66;03m# TODO: unsigned checks\u001B[39;00m\n\u001B[1;32m    280\u001B[0m \n\u001B[1;32m    281\u001B[0m \u001B[38;5;66;03m# Note: without the \"str\" here, the f-string rendering raises in\u001B[39;00m\n\u001B[1;32m    282\u001B[0m \u001B[38;5;66;03m#  py38 builds.\u001B[39;00m\n\u001B[0;32m--> 283\u001B[0m \u001B[38;5;28;01mraise\u001B[39;00m \u001B[38;5;167;01mTypeError\u001B[39;00m(\u001B[38;5;124mf\u001B[39m\u001B[38;5;124m\"\u001B[39m\u001B[38;5;124mInvalid value \u001B[39m\u001B[38;5;124m'\u001B[39m\u001B[38;5;132;01m{\u001B[39;00m\u001B[38;5;28mstr\u001B[39m(value)\u001B[38;5;132;01m}\u001B[39;00m\u001B[38;5;124m'\u001B[39m\u001B[38;5;124m for dtype \u001B[39m\u001B[38;5;132;01m{\u001B[39;00m\u001B[38;5;28mself\u001B[39m\u001B[38;5;241m.\u001B[39mdtype\u001B[38;5;132;01m}\u001B[39;00m\u001B[38;5;124m\"\u001B[39m)\n",
      "\u001B[0;31mTypeError\u001B[0m: Invalid value '' for dtype Int64",
      "\nDuring handling of the above exception, another exception occurred:\n",
      "\u001B[0;31mTypeError\u001B[0m                                 Traceback (most recent call last)",
      "Cell \u001B[0;32mIn[136], line 1\u001B[0m\n\u001B[0;32m----> 1\u001B[0m \u001B[43mdf_il_final\u001B[49m\u001B[38;5;241;43m.\u001B[39;49m\u001B[43mfillna\u001B[49m\u001B[43m(\u001B[49m\u001B[38;5;124;43m\"\u001B[39;49m\u001B[38;5;124;43m\"\u001B[39;49m\u001B[43m)\u001B[49m\u001B[38;5;241m.\u001B[39mto_csv(\u001B[38;5;124m\"\u001B[39m\u001B[38;5;124m../../data_v2/p2p_r4_il_og_mod.csv\u001B[39m\u001B[38;5;124m\"\u001B[39m)\n\u001B[1;32m      2\u001B[0m df_final\u001B[38;5;241m.\u001B[39mfillna(\u001B[38;5;124m\"\u001B[39m\u001B[38;5;124m\"\u001B[39m)\u001B[38;5;241m.\u001B[39mto_csv(\u001B[38;5;124m\"\u001B[39m\u001B[38;5;124m../../data_v2/p2p_r4_train_og_mod.csv\u001B[39m\u001B[38;5;124m\"\u001B[39m)\n",
      "File \u001B[0;32m~/git/master_thesis/nw_event_abstraction/venv/lib/python3.9/site-packages/pandas/core/generic.py:7297\u001B[0m, in \u001B[0;36mNDFrame.fillna\u001B[0;34m(self, value, method, axis, inplace, limit, downcast)\u001B[0m\n\u001B[1;32m   7295\u001B[0m         new_data \u001B[38;5;241m=\u001B[39m result\u001B[38;5;241m.\u001B[39m_mgr\n\u001B[1;32m   7296\u001B[0m     \u001B[38;5;28;01melse\u001B[39;00m:\n\u001B[0;32m-> 7297\u001B[0m         new_data \u001B[38;5;241m=\u001B[39m \u001B[38;5;28;43mself\u001B[39;49m\u001B[38;5;241;43m.\u001B[39;49m\u001B[43m_mgr\u001B[49m\u001B[38;5;241;43m.\u001B[39;49m\u001B[43mfillna\u001B[49m\u001B[43m(\u001B[49m\n\u001B[1;32m   7298\u001B[0m \u001B[43m            \u001B[49m\u001B[43mvalue\u001B[49m\u001B[38;5;241;43m=\u001B[39;49m\u001B[43mvalue\u001B[49m\u001B[43m,\u001B[49m\u001B[43m \u001B[49m\u001B[43mlimit\u001B[49m\u001B[38;5;241;43m=\u001B[39;49m\u001B[43mlimit\u001B[49m\u001B[43m,\u001B[49m\u001B[43m \u001B[49m\u001B[43minplace\u001B[49m\u001B[38;5;241;43m=\u001B[39;49m\u001B[43minplace\u001B[49m\u001B[43m,\u001B[49m\u001B[43m \u001B[49m\u001B[43mdowncast\u001B[49m\u001B[38;5;241;43m=\u001B[39;49m\u001B[43mdowncast\u001B[49m\n\u001B[1;32m   7299\u001B[0m \u001B[43m        \u001B[49m\u001B[43m)\u001B[49m\n\u001B[1;32m   7300\u001B[0m \u001B[38;5;28;01melif\u001B[39;00m \u001B[38;5;28misinstance\u001B[39m(value, ABCDataFrame) \u001B[38;5;129;01mand\u001B[39;00m \u001B[38;5;28mself\u001B[39m\u001B[38;5;241m.\u001B[39mndim \u001B[38;5;241m==\u001B[39m \u001B[38;5;241m2\u001B[39m:\n\u001B[1;32m   7301\u001B[0m     new_data \u001B[38;5;241m=\u001B[39m \u001B[38;5;28mself\u001B[39m\u001B[38;5;241m.\u001B[39mwhere(\u001B[38;5;28mself\u001B[39m\u001B[38;5;241m.\u001B[39mnotna(), value)\u001B[38;5;241m.\u001B[39m_mgr\n",
      "File \u001B[0;32m~/git/master_thesis/nw_event_abstraction/venv/lib/python3.9/site-packages/pandas/core/internals/base.py:173\u001B[0m, in \u001B[0;36mDataManager.fillna\u001B[0;34m(self, value, limit, inplace, downcast)\u001B[0m\n\u001B[1;32m    169\u001B[0m \u001B[38;5;28;01mif\u001B[39;00m limit \u001B[38;5;129;01mis\u001B[39;00m \u001B[38;5;129;01mnot\u001B[39;00m \u001B[38;5;28;01mNone\u001B[39;00m:\n\u001B[1;32m    170\u001B[0m     \u001B[38;5;66;03m# Do this validation even if we go through one of the no-op paths\u001B[39;00m\n\u001B[1;32m    171\u001B[0m     limit \u001B[38;5;241m=\u001B[39m libalgos\u001B[38;5;241m.\u001B[39mvalidate_limit(\u001B[38;5;28;01mNone\u001B[39;00m, limit\u001B[38;5;241m=\u001B[39mlimit)\n\u001B[0;32m--> 173\u001B[0m \u001B[38;5;28;01mreturn\u001B[39;00m \u001B[38;5;28;43mself\u001B[39;49m\u001B[38;5;241;43m.\u001B[39;49m\u001B[43mapply_with_block\u001B[49m\u001B[43m(\u001B[49m\n\u001B[1;32m    174\u001B[0m \u001B[43m    \u001B[49m\u001B[38;5;124;43m\"\u001B[39;49m\u001B[38;5;124;43mfillna\u001B[39;49m\u001B[38;5;124;43m\"\u001B[39;49m\u001B[43m,\u001B[49m\n\u001B[1;32m    175\u001B[0m \u001B[43m    \u001B[49m\u001B[43mvalue\u001B[49m\u001B[38;5;241;43m=\u001B[39;49m\u001B[43mvalue\u001B[49m\u001B[43m,\u001B[49m\n\u001B[1;32m    176\u001B[0m \u001B[43m    \u001B[49m\u001B[43mlimit\u001B[49m\u001B[38;5;241;43m=\u001B[39;49m\u001B[43mlimit\u001B[49m\u001B[43m,\u001B[49m\n\u001B[1;32m    177\u001B[0m \u001B[43m    \u001B[49m\u001B[43minplace\u001B[49m\u001B[38;5;241;43m=\u001B[39;49m\u001B[43minplace\u001B[49m\u001B[43m,\u001B[49m\n\u001B[1;32m    178\u001B[0m \u001B[43m    \u001B[49m\u001B[43mdowncast\u001B[49m\u001B[38;5;241;43m=\u001B[39;49m\u001B[43mdowncast\u001B[49m\u001B[43m,\u001B[49m\n\u001B[1;32m    179\u001B[0m \u001B[43m    \u001B[49m\u001B[43musing_cow\u001B[49m\u001B[38;5;241;43m=\u001B[39;49m\u001B[43musing_copy_on_write\u001B[49m\u001B[43m(\u001B[49m\u001B[43m)\u001B[49m\u001B[43m,\u001B[49m\n\u001B[1;32m    180\u001B[0m \u001B[43m\u001B[49m\u001B[43m)\u001B[49m\n",
      "File \u001B[0;32m~/git/master_thesis/nw_event_abstraction/venv/lib/python3.9/site-packages/pandas/core/internals/managers.py:354\u001B[0m, in \u001B[0;36mBaseBlockManager.apply\u001B[0;34m(self, f, align_keys, **kwargs)\u001B[0m\n\u001B[1;32m    352\u001B[0m         applied \u001B[38;5;241m=\u001B[39m b\u001B[38;5;241m.\u001B[39mapply(f, \u001B[38;5;241m*\u001B[39m\u001B[38;5;241m*\u001B[39mkwargs)\n\u001B[1;32m    353\u001B[0m     \u001B[38;5;28;01melse\u001B[39;00m:\n\u001B[0;32m--> 354\u001B[0m         applied \u001B[38;5;241m=\u001B[39m \u001B[38;5;28;43mgetattr\u001B[39;49m\u001B[43m(\u001B[49m\u001B[43mb\u001B[49m\u001B[43m,\u001B[49m\u001B[43m \u001B[49m\u001B[43mf\u001B[49m\u001B[43m)\u001B[49m\u001B[43m(\u001B[49m\u001B[38;5;241;43m*\u001B[39;49m\u001B[38;5;241;43m*\u001B[39;49m\u001B[43mkwargs\u001B[49m\u001B[43m)\u001B[49m\n\u001B[1;32m    355\u001B[0m     result_blocks \u001B[38;5;241m=\u001B[39m extend_blocks(applied, result_blocks)\n\u001B[1;32m    357\u001B[0m out \u001B[38;5;241m=\u001B[39m \u001B[38;5;28mtype\u001B[39m(\u001B[38;5;28mself\u001B[39m)\u001B[38;5;241m.\u001B[39mfrom_blocks(result_blocks, \u001B[38;5;28mself\u001B[39m\u001B[38;5;241m.\u001B[39maxes)\n",
      "File \u001B[0;32m~/git/master_thesis/nw_event_abstraction/venv/lib/python3.9/site-packages/pandas/core/internals/blocks.py:2008\u001B[0m, in \u001B[0;36mExtensionBlock.fillna\u001B[0;34m(self, value, limit, inplace, downcast, using_cow)\u001B[0m\n\u001B[1;32m   2005\u001B[0m \u001B[38;5;28;01mexcept\u001B[39;00m \u001B[38;5;167;01mTypeError\u001B[39;00m:\n\u001B[1;32m   2006\u001B[0m     \u001B[38;5;66;03m# 3rd party EA that has not implemented copy keyword yet\u001B[39;00m\n\u001B[1;32m   2007\u001B[0m     refs \u001B[38;5;241m=\u001B[39m \u001B[38;5;28;01mNone\u001B[39;00m\n\u001B[0;32m-> 2008\u001B[0m     new_values \u001B[38;5;241m=\u001B[39m \u001B[38;5;28;43mself\u001B[39;49m\u001B[38;5;241;43m.\u001B[39;49m\u001B[43mvalues\u001B[49m\u001B[38;5;241;43m.\u001B[39;49m\u001B[43mfillna\u001B[49m\u001B[43m(\u001B[49m\u001B[43mvalue\u001B[49m\u001B[38;5;241;43m=\u001B[39;49m\u001B[43mvalue\u001B[49m\u001B[43m,\u001B[49m\u001B[43m \u001B[49m\u001B[43mmethod\u001B[49m\u001B[38;5;241;43m=\u001B[39;49m\u001B[38;5;28;43;01mNone\u001B[39;49;00m\u001B[43m,\u001B[49m\u001B[43m \u001B[49m\u001B[43mlimit\u001B[49m\u001B[38;5;241;43m=\u001B[39;49m\u001B[43mlimit\u001B[49m\u001B[43m)\u001B[49m\n\u001B[1;32m   2009\u001B[0m     \u001B[38;5;66;03m# issue the warning *after* retrying, in case the TypeError\u001B[39;00m\n\u001B[1;32m   2010\u001B[0m     \u001B[38;5;66;03m#  was caused by an invalid fill_value\u001B[39;00m\n\u001B[1;32m   2011\u001B[0m     warnings\u001B[38;5;241m.\u001B[39mwarn(\n\u001B[1;32m   2012\u001B[0m         \u001B[38;5;66;03m# GH#53278\u001B[39;00m\n\u001B[1;32m   2013\u001B[0m         \u001B[38;5;124m\"\u001B[39m\u001B[38;5;124mExtensionArray.fillna added a \u001B[39m\u001B[38;5;124m'\u001B[39m\u001B[38;5;124mcopy\u001B[39m\u001B[38;5;124m'\u001B[39m\u001B[38;5;124m keyword in pandas \u001B[39m\u001B[38;5;124m\"\u001B[39m\n\u001B[0;32m   (...)\u001B[0m\n\u001B[1;32m   2019\u001B[0m         stacklevel\u001B[38;5;241m=\u001B[39mfind_stack_level(),\n\u001B[1;32m   2020\u001B[0m     )\n",
      "File \u001B[0;32m~/git/master_thesis/nw_event_abstraction/venv/lib/python3.9/site-packages/pandas/core/arrays/masked.py:244\u001B[0m, in \u001B[0;36mBaseMaskedArray.fillna\u001B[0;34m(self, value, method, limit, copy)\u001B[0m\n\u001B[1;32m    242\u001B[0m         \u001B[38;5;28;01melse\u001B[39;00m:\n\u001B[1;32m    243\u001B[0m             new_values \u001B[38;5;241m=\u001B[39m \u001B[38;5;28mself\u001B[39m[:]\n\u001B[0;32m--> 244\u001B[0m         \u001B[43mnew_values\u001B[49m\u001B[43m[\u001B[49m\u001B[43mmask\u001B[49m\u001B[43m]\u001B[49m \u001B[38;5;241m=\u001B[39m value\n\u001B[1;32m    245\u001B[0m \u001B[38;5;28;01melse\u001B[39;00m:\n\u001B[1;32m    246\u001B[0m     \u001B[38;5;28;01mif\u001B[39;00m copy:\n",
      "File \u001B[0;32m~/git/master_thesis/nw_event_abstraction/venv/lib/python3.9/site-packages/pandas/core/arrays/masked.py:292\u001B[0m, in \u001B[0;36mBaseMaskedArray.__setitem__\u001B[0;34m(self, key, value)\u001B[0m\n\u001B[1;32m    290\u001B[0m     \u001B[38;5;28mself\u001B[39m\u001B[38;5;241m.\u001B[39m_mask[key] \u001B[38;5;241m=\u001B[39m \u001B[38;5;28;01mTrue\u001B[39;00m\n\u001B[1;32m    291\u001B[0m \u001B[38;5;28;01melse\u001B[39;00m:\n\u001B[0;32m--> 292\u001B[0m     value \u001B[38;5;241m=\u001B[39m \u001B[38;5;28;43mself\u001B[39;49m\u001B[38;5;241;43m.\u001B[39;49m\u001B[43m_validate_setitem_value\u001B[49m\u001B[43m(\u001B[49m\u001B[43mvalue\u001B[49m\u001B[43m)\u001B[49m\n\u001B[1;32m    293\u001B[0m     \u001B[38;5;28mself\u001B[39m\u001B[38;5;241m.\u001B[39m_data[key] \u001B[38;5;241m=\u001B[39m value\n\u001B[1;32m    294\u001B[0m     \u001B[38;5;28mself\u001B[39m\u001B[38;5;241m.\u001B[39m_mask[key] \u001B[38;5;241m=\u001B[39m \u001B[38;5;28;01mFalse\u001B[39;00m\n",
      "File \u001B[0;32m~/git/master_thesis/nw_event_abstraction/venv/lib/python3.9/site-packages/pandas/core/arrays/masked.py:283\u001B[0m, in \u001B[0;36mBaseMaskedArray._validate_setitem_value\u001B[0;34m(self, value)\u001B[0m\n\u001B[1;32m    278\u001B[0m         \u001B[38;5;28;01mreturn\u001B[39;00m value\n\u001B[1;32m    279\u001B[0m     \u001B[38;5;66;03m# TODO: unsigned checks\u001B[39;00m\n\u001B[1;32m    280\u001B[0m \n\u001B[1;32m    281\u001B[0m \u001B[38;5;66;03m# Note: without the \"str\" here, the f-string rendering raises in\u001B[39;00m\n\u001B[1;32m    282\u001B[0m \u001B[38;5;66;03m#  py38 builds.\u001B[39;00m\n\u001B[0;32m--> 283\u001B[0m \u001B[38;5;28;01mraise\u001B[39;00m \u001B[38;5;167;01mTypeError\u001B[39;00m(\u001B[38;5;124mf\u001B[39m\u001B[38;5;124m\"\u001B[39m\u001B[38;5;124mInvalid value \u001B[39m\u001B[38;5;124m'\u001B[39m\u001B[38;5;132;01m{\u001B[39;00m\u001B[38;5;28mstr\u001B[39m(value)\u001B[38;5;132;01m}\u001B[39;00m\u001B[38;5;124m'\u001B[39m\u001B[38;5;124m for dtype \u001B[39m\u001B[38;5;132;01m{\u001B[39;00m\u001B[38;5;28mself\u001B[39m\u001B[38;5;241m.\u001B[39mdtype\u001B[38;5;132;01m}\u001B[39;00m\u001B[38;5;124m\"\u001B[39m)\n",
      "\u001B[0;31mTypeError\u001B[0m: Invalid value '' for dtype Int64"
     ]
    }
   ],
   "source": [
    "df_il_final.fillna(\"\").to_csv(\"../../data_v2/p2p_r4_il_og_mod.csv\")\n",
    "df_final.fillna(\"\").to_csv(\"../../data_v2/p2p_r4_train_og_mod.csv\")"
   ],
   "metadata": {
    "collapsed": false,
    "ExecuteTime": {
     "end_time": "2024-01-10T08:23:15.828445Z",
     "start_time": "2024-01-10T08:23:15.496917Z"
    }
   },
   "id": "9d3e7b93db28e2af"
  },
  {
   "cell_type": "code",
   "execution_count": null,
   "outputs": [],
   "source": [],
   "metadata": {
    "collapsed": false
   },
   "id": "8713caa0522ac1f7"
  }
 ],
 "metadata": {
  "kernelspec": {
   "display_name": "Python 3",
   "language": "python",
   "name": "python3"
  },
  "language_info": {
   "codemirror_mode": {
    "name": "ipython",
    "version": 2
   },
   "file_extension": ".py",
   "mimetype": "text/x-python",
   "name": "python",
   "nbconvert_exporter": "python",
   "pygments_lexer": "ipython2",
   "version": "2.7.6"
  }
 },
 "nbformat": 4,
 "nbformat_minor": 5
}
