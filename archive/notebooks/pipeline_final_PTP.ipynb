{
 "cells": [
  {
   "cell_type": "code",
   "execution_count": 2,
   "id": "initial_id",
   "metadata": {
    "collapsed": true,
    "ExecuteTime": {
     "end_time": "2024-04-29T17:36:32.368167Z",
     "start_time": "2024-04-29T17:36:30.265528Z"
    }
   },
   "outputs": [],
   "source": [
    "%load_ext autoreload\n",
    "import ast\n",
    "\n",
    "from event_loop.activity_boundaries import ActivityBoundariesClassifier\n",
    "from event_loop.activity_type import ActivityTypeClassifier\n",
    "from event_loop.event_activity import EventActivityAssignment\n",
    "from event_loop.preprocessing.dataframe import *\n",
    "from sklearn.metrics import classification_report\n",
    "import pandas as pd\n",
    "\n",
    "\n"
   ]
  },
  {
   "cell_type": "code",
   "execution_count": 3,
   "outputs": [],
   "source": [
    "df_train_in = pd.read_csv('../data/VALID/R1/R1.csv', converters={\"MessageAttributes\": ast.literal_eval})\n",
    "# This is the Interleaved Data Set for our pipeline\n",
    "df_il_in = pd.read_csv('../data/PTP-INTERLEAVED/R1/R1.csv', converters={\"MessageAttributes\": ast.literal_eval})\n",
    "\n",
    "# Load start and end events from ground truth data.\n",
    "# Tag according frames in interleaved data for testing\n",
    "df_gt = pd.read_csv(\"../data_v3/ptp_ground_truth.csv\")\n",
    "\n",
    "start_indices = df_gt[\"start\"].tolist()\n",
    "end_indices = df_gt[\"actual_end\"].tolist()\n",
    "\n",
    "df_train = pre_process(df_train_in)\n",
    "df_test = pre_process(df_il_in)\n",
    "\n",
    "df_train = assign_sequence_number(df_train)\n",
    "\n",
    "df_test[\"ActivityAction\"] = df_test[\"frame.number\"].apply(lambda x: \"Activity Start\" if x in start_indices else\n",
    "(\"Activity End\" if x in end_indices else \"NoAction\"))\n",
    "\n",
    "df_train = mark_start_end(df_train)"
   ],
   "metadata": {
    "collapsed": false,
    "ExecuteTime": {
     "end_time": "2024-04-29T17:38:01.128136Z",
     "start_time": "2024-04-29T17:36:32.369618Z"
    }
   },
   "id": "dfc3003b42163a70"
  },
  {
   "cell_type": "code",
   "execution_count": null,
   "outputs": [],
   "source": [
    "%autoreload 2\n",
    "activity_boundaries_classifier = ActivityBoundariesClassifier(df_train, None)\n",
    "\n",
    "activity_type_classifier = ActivityTypeClassifier(df_train)\n",
    "\n",
    "event_activity_model = EventActivityAssignment(df_train,10,[\"sale_order_id\", \"sale_order_line_id\",\"purchase_requisition_id\",\"purchase_requisition_line_id\",])"
   ],
   "metadata": {
    "collapsed": false,
    "ExecuteTime": {
     "start_time": "2024-04-29T17:38:19.896239Z"
    }
   },
   "id": "7c7d5d697eea2f09"
  },
  {
   "cell_type": "markdown",
   "source": [
    "# Event Loop"
   ],
   "metadata": {
    "collapsed": false
   },
   "id": "9c948705b16d83d6"
  },
  {
   "cell_type": "code",
   "execution_count": 8,
   "outputs": [],
   "source": [
    "records = df_il_in.to_dict(\"records\")"
   ],
   "metadata": {
    "collapsed": false,
    "ExecuteTime": {
     "end_time": "2024-04-29T17:38:22.915872Z",
     "start_time": "2024-04-29T17:38:20.876728Z"
    }
   },
   "id": "f16b836c38a7a564"
  },
  {
   "cell_type": "code",
   "execution_count": 29,
   "outputs": [
    {
     "name": "stdout",
     "output_type": "stream",
     "text": [
      "CreatePurchaseRequest\n",
      "CreateCallForTender\n",
      "CreatePurchaseRequest\n",
      "CreateCallForTender\n",
      "CreatePurchaseRequest\n",
      "CreateRfq\n",
      "CreateCallForTender\n",
      "CreateRfq\n",
      "CreatePurchaseRequest\n",
      "BidSelection\n",
      "CreateCallForTender\n",
      "CreateRfq\n",
      "CreatePurchaseRequest\n",
      "CreateRfq\n",
      "BidSelection\n",
      "NO MATCH RES 26090\n",
      "BidSelection\n",
      "CreatePurchaseRequest\n",
      "CreateRfq\n",
      "CreatePurchaseOrder\n",
      "ReceiveGoods\n",
      "CreateCallForTender\n",
      "CreateRfq\n",
      "CreatePurchaseOrder\n",
      "CreatePurchaseRequest\n",
      "NO MATCH RES 44627\n",
      "CreatePurchaseOrder\n",
      "SubmitPayment\n",
      "NO MATCH RES 48564\n",
      "ReceiveGoods\n",
      "BidSelection\n",
      "ReceiveGoods\n",
      "CreatePurchaseOrder\n",
      "CreateRfq\n",
      "SubmitPayment\n",
      "NO MATCH RES 57502\n",
      "BidSelection\n",
      "SubmitPayment\n",
      "CreateRfq\n",
      "CreateRfq\n",
      "CreateCallForTender\n",
      "BidSelection\n",
      "CreatePurchaseOrder\n",
      "BidSelection\n",
      "ReceiveGoods\n",
      "BidSelection\n",
      "CreatePurchaseRequest\n",
      "CreatePurchaseOrder\n",
      "CreatePurchaseOrder\n",
      "SubmitPayment\n",
      "CreateCallForTender\n",
      "CreateRfq\n",
      "CreateRfq\n",
      "SubmitPayment\n",
      "BidSelection\n",
      "SubmitPayment\n",
      "CreateRfq\n",
      "BidSelection\n",
      "ReceiveGoods\n",
      "BidSelection\n",
      "ReceiveGoods\n",
      "CreatePurchaseOrder\n",
      "SubmitPayment\n",
      "ReceiveGoods\n",
      "SubmitPayment\n",
      "CreatePurchaseOrder\n",
      "BidSelection\n",
      "SubmitPayment\n"
     ]
    }
   ],
   "source": [
    "from event_loop.event_activity import *\n",
    "%autoreload 2\n",
    "\n",
    "from event_loop.preprocessing.event import keep_event\n",
    "import time\n",
    "from event_loop.stack import *\n",
    "from event_loop.event import Event\n",
    "\n",
    "\n",
    "EVENT_LOOP_CUTOFF_NO_ACTION = 3\n",
    "EVENT_LOOP_CUTOFF_END_EVENT = 3\n",
    "ENTROPY_THRESHOLD = 0.4 #0.5\n",
    "MAX_WINDOW_SIZE = 10\n",
    "VERBOSE = False\n",
    "SETTING = \"PTP\"\n",
    "\n",
    "# init variables\n",
    "event_buffer: list[Event] = []\n",
    "attribute_buffer: list[dict] = []\n",
    "stacks: list[Stack] = []\n",
    "stacks_out: list[Stack] = []\n",
    "event_loop_index = 0\n",
    "\n",
    "\n",
    "\n",
    "\n",
    "#activity_model_data = get_activity_model_data(MAX_WINDOW_SIZE)\n",
    "\n",
    "\n",
    "processing_times = []\n",
    "buffer_sizes = []\n",
    "\n",
    "for i, event_data in enumerate(records):\n",
    "    buffer_sizes.append(sum([len(stack) for stack in stacks]))\n",
    "    start_time = time.time()\n",
    "    \n",
    "    # Filter Event Stream\n",
    "    if not keep_event(event_data):\n",
    "        # skip event in loop\n",
    "        continue\n",
    "        \n",
    "    # count every not filtered event for event loop index\n",
    "    event_loop_index += 1\n",
    "    \n",
    "    # Extract Features and generate Event Object\n",
    "    event = Event(event_data, event_loop_index, event_buffer, SETTING)\n",
    "    event_buffer.append(event)\n",
    "    \n",
    "    activity_boundaries_classifier.classify_event(event) \n",
    "    activity_action = event.activity_action\n",
    "    \n",
    "    \n",
    "        # Activity Matching\n",
    "    if activity_action == \"Activity Start\": \n",
    "        stacks.append(Stack(SETTING,event))\n",
    "        \n",
    "    if activity_action == \"NoAction\": \n",
    "        if len(stacks) == 1: \n",
    "            stacks[0].append_event(event)\n",
    "        elif event.origin_request_frame: \n",
    "            idx = search_stack_for_request_frame(event.origin_request_frame, stacks)\n",
    "            stacks[idx].append_event(event)\n",
    "        else: \n",
    "            # Check attributes of each stack\n",
    "            \n",
    "            # we can filter out stacks that already have attributes different to the event\n",
    "            exclude_indices =  event_activity_model.exclude_stacks_by_attribute(stacks, event)\n",
    "    \n",
    "            stack_index:int = event_activity_model.check_stack_attributes(stacks, event, exclude_indices)\n",
    "                    \n",
    "            if stack_index == -1:        \n",
    "                stack_index = event_activity_model.assign_to_sequence(event, stacks, 4, exclude_indices)\n",
    "            \n",
    "            # for elements that are not matchable based on 2 sequences we fall back to stream index\n",
    "            if stack_index == -1: \n",
    "                stack_index = search_stream_index(stacks, event, exclude_indices)    \n",
    "            \n",
    "            # fallback - no match add to first stack\n",
    "            if stack_index == -1:\n",
    "                res = next((i for i in range(len(stacks)) if i not in exclude_indices and stacks[i].confidence),-1)\n",
    "                stack_index = res\n",
    "                \n",
    "            stacks[stack_index].append_event(event)\n",
    "            \n",
    "            \n",
    "    if activity_action == \"Activity End\":\n",
    "        stack_index = search_stack_for_request_frame(event.origin_request_frame, stacks)\n",
    "        stacks[stack_index].append_event(event)\n",
    "        \n",
    "        if event.confidence: \n",
    "            if len(stacks) > 1: \n",
    "                stack = stacks.pop(stack_index)\n",
    "                label = activity_type_classifier.classify_stack(stack)\n",
    "                stack.label = label \n",
    "                stacks_out.append(stack)\n",
    "                \n",
    "            else: \n",
    "                event.confidence = False\n",
    "                    \n",
    "    # Loop through all currently open stacks\n",
    "    for idx, stack in enumerate(stacks):\n",
    "        last_event = stack[-1]\n",
    "        # check for non-confident \"No Action\" Classifications. These could be \"Activity End\" Instead\n",
    "        if not last_event.confidence and last_event.activity_action == \"NoAction\":\n",
    "            # If a stack has not been continued for N event loops \n",
    "            if event_loop_index - last_event.event_loop_index > EVENT_LOOP_CUTOFF_NO_ACTION:\n",
    "                label = activity_type_classifier.classify_stack(stack)\n",
    "                stack.label = label \n",
    "                stacks.pop(idx)\n",
    "                stacks_out.append(stack)\n",
    "               \n",
    "                \n",
    "    for idx, stack in enumerate(stacks): \n",
    "        last_event = stack.events[-1]\n",
    "        if not last_event.confidence and last_event.activity_action == \"Activity End\": \n",
    "            if event_loop_index - last_event.event_loop_index > EVENT_LOOP_CUTOFF_END_EVENT: \n",
    "                label = activity_type_classifier.classify_stack(stack)\n",
    "                stack.label = label            \n",
    "                # we are now sure to pop the stack.\n",
    "                stacks.pop(idx)\n",
    "                stacks_out.append(stack)  \n",
    "            \n",
    "                \n",
    "    end_time = time.time()\n",
    "    processing_times.append(end_time - start_time)\n",
    "    \n",
    "for stack in stacks: \n",
    "    label = activity_type_classifier.classify_stack(stack)\n",
    "    stack.label = label      \n",
    "    stacks_out.append(stack)        "
   ],
   "metadata": {
    "collapsed": false,
    "ExecuteTime": {
     "end_time": "2024-04-29T18:00:02.808210Z",
     "start_time": "2024-04-29T17:59:59.667196Z"
    }
   },
   "id": "3259bc6e0274fba4"
  },
  {
   "cell_type": "code",
   "execution_count": 30,
   "outputs": [
    {
     "name": "stdout",
     "output_type": "stream",
     "text": [
      "Accuracy of matching start and end sequences: 0.47619047619047616\n",
      "Overall matching accuracy: 0.7380952380952381\n"
     ]
    }
   ],
   "source": [
    "# create Evaluation Data Frame\n",
    "start = [stack[0].frame_number for stack in stacks_out]\n",
    "end = [stack[-1].frame_number for stack in stacks_out]\n",
    "label = [stack.label for stack in stacks_out]\n",
    "case_id = [stack.case_id[\"id\"] if stack.case_id else -1 for stack in stacks_out]\n",
    "res_df = pd.DataFrame({\"start_pred\":start, \"end_pred\":end,\"label\": label, \"case_id\": case_id})\n",
    "\n",
    "eval_df = df_gt[[\"start\", \"actual_end\",\"activity_name\",\"bp_id\"]].merge(res_df,how=\"left\", left_on =\"start\", right_on = \"start_pred\").fillna(-1)\n",
    "eval_df[\"pred_true\"] = eval_df[\"actual_end\"] == eval_df[\"end_pred\"]\n",
    "eval_df[\"label_true\"] = eval_df[\"activity_name\"] == eval_df[\"label\"]\n",
    "print(f\"Accuracy of matching start and end sequences: {eval_df['pred_true'].mean()}\")\n",
    "\n",
    "eval_df[\"bp_id_norm\"]= eval_df[\"bp_id\"] - eval_df[\"bp_id\"].min() +1\n",
    "\n",
    "eval_df[\"case_id_true\"] = eval_df[\"bp_id_norm\"] == eval_df[\"case_id\"]\n",
    "print(f\"Overall matching accuracy: {0.5 + eval_df['pred_true'].mean()/2}\")"
   ],
   "metadata": {
    "collapsed": false,
    "ExecuteTime": {
     "end_time": "2024-04-29T18:00:03.800946Z",
     "start_time": "2024-04-29T18:00:03.736985Z"
    }
   },
   "id": "58da0b1fe4b3eb66"
  },
  {
   "cell_type": "code",
   "execution_count": 31,
   "outputs": [
    {
     "data": {
      "text/plain": "     start  actual_end          activity_name  bp_id  start_pred  end_pred  \\\n0       96        1322  CreatePurchaseRequest    399          96      1322   \n1     1367        1887    CreateCallForTender    399        1367      1887   \n2     1940        2793  CreatePurchaseRequest    400        1940      2793   \n3     2818       15871              CreateRfq    399        2818     16368   \n4     5563        5965    CreateCallForTender    400        5563      5965   \n..     ...         ...                    ...    ...         ...       ...   \n58  100724      104454          SubmitPayment    406      100724    108703   \n59  101210      105925    CreatePurchaseOrder    408      101210    101734   \n60  106266      108703          SubmitPayment    407      106266    112188   \n61  108727      109696           ReceiveGoods    408      108727    109696   \n62  109758      112188          SubmitPayment    408      109758    110961   \n\n                    label  case_id  pred_true  label_true  bp_id_norm  \\\n0   CreatePurchaseRequest        1       True        True           1   \n1     CreateCallForTender        1       True        True           1   \n2   CreatePurchaseRequest        2       True        True           2   \n3               CreateRfq        1      False        True           1   \n4     CreateCallForTender        2       True        True           2   \n..                    ...      ...        ...         ...         ...   \n58          SubmitPayment        8      False        True           8   \n59           BidSelection       -1      False       False          10   \n60          SubmitPayment        9      False        True           9   \n61           ReceiveGoods       -1       True        True          10   \n62          SubmitPayment       12      False        True          10   \n\n    case_id_true  \n0           True  \n1           True  \n2           True  \n3           True  \n4           True  \n..           ...  \n58          True  \n59         False  \n60          True  \n61         False  \n62         False  \n\n[63 rows x 12 columns]",
      "text/html": "<div>\n<style scoped>\n    .dataframe tbody tr th:only-of-type {\n        vertical-align: middle;\n    }\n\n    .dataframe tbody tr th {\n        vertical-align: top;\n    }\n\n    .dataframe thead th {\n        text-align: right;\n    }\n</style>\n<table border=\"1\" class=\"dataframe\">\n  <thead>\n    <tr style=\"text-align: right;\">\n      <th></th>\n      <th>start</th>\n      <th>actual_end</th>\n      <th>activity_name</th>\n      <th>bp_id</th>\n      <th>start_pred</th>\n      <th>end_pred</th>\n      <th>label</th>\n      <th>case_id</th>\n      <th>pred_true</th>\n      <th>label_true</th>\n      <th>bp_id_norm</th>\n      <th>case_id_true</th>\n    </tr>\n  </thead>\n  <tbody>\n    <tr>\n      <th>0</th>\n      <td>96</td>\n      <td>1322</td>\n      <td>CreatePurchaseRequest</td>\n      <td>399</td>\n      <td>96</td>\n      <td>1322</td>\n      <td>CreatePurchaseRequest</td>\n      <td>1</td>\n      <td>True</td>\n      <td>True</td>\n      <td>1</td>\n      <td>True</td>\n    </tr>\n    <tr>\n      <th>1</th>\n      <td>1367</td>\n      <td>1887</td>\n      <td>CreateCallForTender</td>\n      <td>399</td>\n      <td>1367</td>\n      <td>1887</td>\n      <td>CreateCallForTender</td>\n      <td>1</td>\n      <td>True</td>\n      <td>True</td>\n      <td>1</td>\n      <td>True</td>\n    </tr>\n    <tr>\n      <th>2</th>\n      <td>1940</td>\n      <td>2793</td>\n      <td>CreatePurchaseRequest</td>\n      <td>400</td>\n      <td>1940</td>\n      <td>2793</td>\n      <td>CreatePurchaseRequest</td>\n      <td>2</td>\n      <td>True</td>\n      <td>True</td>\n      <td>2</td>\n      <td>True</td>\n    </tr>\n    <tr>\n      <th>3</th>\n      <td>2818</td>\n      <td>15871</td>\n      <td>CreateRfq</td>\n      <td>399</td>\n      <td>2818</td>\n      <td>16368</td>\n      <td>CreateRfq</td>\n      <td>1</td>\n      <td>False</td>\n      <td>True</td>\n      <td>1</td>\n      <td>True</td>\n    </tr>\n    <tr>\n      <th>4</th>\n      <td>5563</td>\n      <td>5965</td>\n      <td>CreateCallForTender</td>\n      <td>400</td>\n      <td>5563</td>\n      <td>5965</td>\n      <td>CreateCallForTender</td>\n      <td>2</td>\n      <td>True</td>\n      <td>True</td>\n      <td>2</td>\n      <td>True</td>\n    </tr>\n    <tr>\n      <th>...</th>\n      <td>...</td>\n      <td>...</td>\n      <td>...</td>\n      <td>...</td>\n      <td>...</td>\n      <td>...</td>\n      <td>...</td>\n      <td>...</td>\n      <td>...</td>\n      <td>...</td>\n      <td>...</td>\n      <td>...</td>\n    </tr>\n    <tr>\n      <th>58</th>\n      <td>100724</td>\n      <td>104454</td>\n      <td>SubmitPayment</td>\n      <td>406</td>\n      <td>100724</td>\n      <td>108703</td>\n      <td>SubmitPayment</td>\n      <td>8</td>\n      <td>False</td>\n      <td>True</td>\n      <td>8</td>\n      <td>True</td>\n    </tr>\n    <tr>\n      <th>59</th>\n      <td>101210</td>\n      <td>105925</td>\n      <td>CreatePurchaseOrder</td>\n      <td>408</td>\n      <td>101210</td>\n      <td>101734</td>\n      <td>BidSelection</td>\n      <td>-1</td>\n      <td>False</td>\n      <td>False</td>\n      <td>10</td>\n      <td>False</td>\n    </tr>\n    <tr>\n      <th>60</th>\n      <td>106266</td>\n      <td>108703</td>\n      <td>SubmitPayment</td>\n      <td>407</td>\n      <td>106266</td>\n      <td>112188</td>\n      <td>SubmitPayment</td>\n      <td>9</td>\n      <td>False</td>\n      <td>True</td>\n      <td>9</td>\n      <td>True</td>\n    </tr>\n    <tr>\n      <th>61</th>\n      <td>108727</td>\n      <td>109696</td>\n      <td>ReceiveGoods</td>\n      <td>408</td>\n      <td>108727</td>\n      <td>109696</td>\n      <td>ReceiveGoods</td>\n      <td>-1</td>\n      <td>True</td>\n      <td>True</td>\n      <td>10</td>\n      <td>False</td>\n    </tr>\n    <tr>\n      <th>62</th>\n      <td>109758</td>\n      <td>112188</td>\n      <td>SubmitPayment</td>\n      <td>408</td>\n      <td>109758</td>\n      <td>110961</td>\n      <td>SubmitPayment</td>\n      <td>12</td>\n      <td>False</td>\n      <td>True</td>\n      <td>10</td>\n      <td>False</td>\n    </tr>\n  </tbody>\n</table>\n<p>63 rows × 12 columns</p>\n</div>"
     },
     "execution_count": 31,
     "metadata": {},
     "output_type": "execute_result"
    }
   ],
   "source": [
    "eval_df"
   ],
   "metadata": {
    "collapsed": false,
    "ExecuteTime": {
     "end_time": "2024-04-29T18:00:05.939484Z",
     "start_time": "2024-04-29T18:00:05.882416Z"
    }
   },
   "id": "2c1de90e97a433c4"
  },
  {
   "cell_type": "code",
   "execution_count": 32,
   "outputs": [
    {
     "name": "stdout",
     "output_type": "stream",
     "text": [
      "                precision    recall  f1-score   support\n",
      "\n",
      "  Activity End       0.73      0.73      0.73        63\n",
      "Activity Start       1.00      1.00      1.00        63\n",
      "      NoAction       1.00      1.00      1.00      3783\n",
      "\n",
      "      accuracy                           0.99      3909\n",
      "     macro avg       0.91      0.91      0.91      3909\n",
      "  weighted avg       0.99      0.99      0.99      3909\n"
     ]
    }
   ],
   "source": [
    "# We evaluate the Activity Type Classification on a per-event Basis\n",
    "from event_loop.activity_boundaries import extract_labels\n",
    "\n",
    "test_labels = extract_labels(df_test[\"ActivityAction\"])\n",
    "# Create a Dataframe with all events and their frame numbers\n",
    "df_aa_test = pd.DataFrame(df_test[[\"frame.number\", \"ActivityAction\"]])\n",
    "# Set type of every event to no action \n",
    "df_aa_test[\"ActivityAction\"] = \"NoAction\"\n",
    "# Merge Predicted end events by frame number\n",
    "df_aa_test.loc[df_aa_test[\"frame.number\"].isin(eval_df[\"end_pred\"]), \"ActivityAction\"] = \"Activity End\"\n",
    "# Merge predicted start events by frame number\n",
    "df_aa_test.loc[df_aa_test[\"frame.number\"].isin(eval_df[\"start_pred\"]), \"ActivityAction\"] = \"Activity Start\"\n",
    "print(classification_report(test_labels, df_aa_test[\"ActivityAction\"]))"
   ],
   "metadata": {
    "collapsed": false,
    "ExecuteTime": {
     "end_time": "2024-04-29T18:00:08.257786Z",
     "start_time": "2024-04-29T18:00:08.171735Z"
    }
   },
   "id": "d3c782592b291587"
  },
  {
   "cell_type": "code",
   "execution_count": 33,
   "outputs": [
    {
     "name": "stdout",
     "output_type": "stream",
     "text": [
      "                       precision    recall  f1-score   support\n",
      "\n",
      "         BidSelection       0.67      0.80      0.73        10\n",
      "  CreateCallForTender       1.00      0.70      0.82        10\n",
      "  CreatePurchaseOrder       0.56      0.62      0.59         8\n",
      "CreatePurchaseRequest       1.00      0.89      0.94         9\n",
      "            CreateRfq       0.73      0.80      0.76        10\n",
      "         ReceiveGoods       1.00      0.88      0.93         8\n",
      "        SubmitPayment       0.78      0.88      0.82         8\n",
      "\n",
      "             accuracy                           0.79        63\n",
      "            macro avg       0.82      0.79      0.80        63\n",
      "         weighted avg       0.82      0.79      0.80        63\n"
     ]
    }
   ],
   "source": [
    "print(classification_report(eval_df[\"activity_name\"], eval_df[\"label\"]))"
   ],
   "metadata": {
    "collapsed": false,
    "ExecuteTime": {
     "end_time": "2024-04-29T18:00:10.362286Z",
     "start_time": "2024-04-29T18:00:10.296835Z"
    }
   },
   "id": "491b73b322fdccbf"
  },
  {
   "cell_type": "code",
   "execution_count": 34,
   "outputs": [
    {
     "name": "stdout",
     "output_type": "stream",
     "text": [
      "              precision    recall  f1-score   support\n",
      "\n",
      "           1       1.00      0.83      0.91         6\n",
      "           2       1.00      1.00      1.00         6\n",
      "           3       1.00      0.71      0.83         7\n",
      "           4       1.00      1.00      1.00         4\n",
      "           5       0.67      0.67      0.67         6\n",
      "           6       0.71      0.71      0.71         7\n",
      "           7       0.75      0.75      0.75         4\n",
      "           8       0.67      0.40      0.50         5\n",
      "           9       0.75      0.50      0.60         6\n",
      "          10       0.00      0.00       nan         5\n",
      "          11       0.00       nan       nan         0\n",
      "          12       0.00       nan       nan         0\n",
      "\n",
      "    accuracy                           0.66        56\n",
      "   macro avg       0.63      0.66      0.77        56\n",
      "weighted avg       0.76      0.66      0.77        56\n"
     ]
    }
   ],
   "source": [
    "print(classification_report(eval_df[eval_df[\"case_id\"] != -1][\"bp_id_norm\"], eval_df[eval_df[\"case_id\"] != -1][\"case_id\"],zero_division=np.nan))"
   ],
   "metadata": {
    "collapsed": false,
    "ExecuteTime": {
     "end_time": "2024-04-29T18:00:27.654005Z",
     "start_time": "2024-04-29T18:00:27.595161Z"
    }
   },
   "id": "2560db5c116ea7d1"
  },
  {
   "cell_type": "code",
   "execution_count": null,
   "outputs": [],
   "source": [],
   "metadata": {
    "collapsed": false
   },
   "id": "4cbdbd3efa7eff3b"
  }
 ],
 "metadata": {
  "kernelspec": {
   "display_name": "Python 3",
   "language": "python",
   "name": "python3"
  },
  "language_info": {
   "codemirror_mode": {
    "name": "ipython",
    "version": 2
   },
   "file_extension": ".py",
   "mimetype": "text/x-python",
   "name": "python",
   "nbconvert_exporter": "python",
   "pygments_lexer": "ipython2",
   "version": "2.7.6"
  }
 },
 "nbformat": 4,
 "nbformat_minor": 5
}
