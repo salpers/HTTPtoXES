{
 "cells": [
  {
   "cell_type": "markdown",
   "source": [
    "# Pre-Processing\n",
    "\n",
    "Goals of this notebook\n",
    ": - Filter events from R1 abstraction level to R4 \n",
    "- Extract features necessary for classification from raw message attributes \n"
   ],
   "metadata": {
    "collapsed": false
   },
   "id": "89aa77ecde27f5f0"
  },
  {
   "cell_type": "markdown",
   "source": [
    "## Filter\n",
    "**Goal**: Define a filter that filters all events from low R1 abstraction level to R4 abstraction level\n",
    "**Evaluation**: Compare R1 and R4 data for discarded events"
   ],
   "metadata": {
    "collapsed": false
   },
   "id": "4fc371d0afca59a8"
  },
  {
   "cell_type": "code",
   "execution_count": 1,
   "outputs": [],
   "source": [
    "import pandas as pd\n",
    "import re\n",
    "pd.options.mode.chained_assignment = None\n",
    "import ast"
   ],
   "metadata": {
    "collapsed": false,
    "ExecuteTime": {
     "end_time": "2024-02-05T09:45:28.428406Z",
     "start_time": "2024-02-05T09:45:28.108062Z"
    }
   },
   "id": "914cdb73f6ba1334"
  },
  {
   "cell_type": "code",
   "execution_count": 2,
   "outputs": [],
   "source": [
    "# test with IL data \n",
    "df_r4 = pd.read_csv('../../data_v3/hr_il_tagged.csv')\n",
    "df_r1 = pd.read_csv('../../data/HR-INTERLEAVED/R1/R1.csv', converters={\"MessageAttributes\": ast.literal_eval})"
   ],
   "metadata": {
    "collapsed": false,
    "ExecuteTime": {
     "end_time": "2024-02-05T09:45:30.081573Z",
     "start_time": "2024-02-05T09:45:28.627246Z"
    }
   },
   "id": "36c63d725494f5bf"
  },
  {
   "cell_type": "code",
   "execution_count": 3,
   "outputs": [],
   "source": [
    "# test with IL data \n",
    "df_r4 = pd.read_csv('../../data_v3/ptp_il_tagged.csv')\n",
    "df_r1 = pd.read_csv('../../data/PTP-INTERLEAVED/R1/R1.csv', converters={\"MessageAttributes\": ast.literal_eval})"
   ],
   "metadata": {
    "collapsed": false,
    "ExecuteTime": {
     "end_time": "2024-02-05T09:45:34.517732Z",
     "start_time": "2024-02-05T09:45:30.084008Z"
    }
   },
   "id": "c1ce1f2609f9d632"
  },
  {
   "cell_type": "markdown",
   "source": [
    "### Pre-Processing"
   ],
   "metadata": {
    "collapsed": false
   },
   "id": "b51d1517674d1bf3"
  },
  {
   "cell_type": "code",
   "execution_count": 4,
   "outputs": [],
   "source": [
    "df_r1[\"pgsql.query\"] = df_r1[\"MessageAttributes\"].apply(lambda x: x.get(\"pgsql.query\")).str.strip('\\\\xa').str.strip()"
   ],
   "metadata": {
    "collapsed": false,
    "ExecuteTime": {
     "end_time": "2024-02-05T09:45:35.979938Z",
     "start_time": "2024-02-05T09:45:35.894209Z"
    }
   },
   "id": "a9883360c6d10f5c"
  },
  {
   "cell_type": "markdown",
   "source": [
    "### Prerequisites\n",
    "#### check that every frame of R4 is available in R1 "
   ],
   "metadata": {
    "collapsed": false
   },
   "id": "864fa522d0b2014e"
  },
  {
   "cell_type": "code",
   "execution_count": 5,
   "outputs": [
    {
     "name": "stdout",
     "output_type": "stream",
     "text": [
      "Every value from df_r1 is present in df_r4: True\n"
     ]
    }
   ],
   "source": [
    "res = df_r4[\"frame.number\"].isin(df_r1[\"frame.number\"]).all()\n",
    "print(f\"Every value from df_r1 is present in df_r4: {res}\")"
   ],
   "metadata": {
    "collapsed": false,
    "ExecuteTime": {
     "end_time": "2024-02-05T09:45:36.999151Z",
     "start_time": "2024-02-05T09:45:36.931178Z"
    }
   },
   "id": "8686faae57e06a5b"
  },
  {
   "cell_type": "markdown",
   "source": [
    "#### keep_event as evaluation criterion"
   ],
   "metadata": {
    "collapsed": false
   },
   "id": "2819c8dfe971739d"
  },
  {
   "cell_type": "code",
   "execution_count": 6,
   "outputs": [],
   "source": [
    "df_r1[\"keep_event\"] = df_r1[\"frame.number\"].isin(df_r4[\"frame.number\"])"
   ],
   "metadata": {
    "collapsed": false,
    "ExecuteTime": {
     "end_time": "2024-02-05T09:45:37.455221Z",
     "start_time": "2024-02-05T09:45:37.434243Z"
    }
   },
   "id": "a3ea12e0b49a7eea"
  },
  {
   "cell_type": "code",
   "execution_count": 7,
   "outputs": [],
   "source": [
    "df_r1[\"pgsql.query\"] = df_r1[\"MessageAttributes\"].apply(lambda x: x.get(\"pgsql.query\")).str.strip('\\\\xa').str.strip()"
   ],
   "metadata": {
    "collapsed": false,
    "ExecuteTime": {
     "end_time": "2024-02-05T09:45:37.721654Z",
     "start_time": "2024-02-05T09:45:37.691583Z"
    }
   },
   "id": "8f6c78291e96b901"
  },
  {
   "cell_type": "markdown",
   "source": [
    "### Filter by MessageType"
   ],
   "metadata": {
    "collapsed": false
   },
   "id": "4cd26e3dc03d378f"
  },
  {
   "cell_type": "code",
   "execution_count": 8,
   "outputs": [
    {
     "data": {
      "text/plain": "MessageType                                     keep_event\nPgsqlResponse:Data row                          False         45821\nPgsqlResponse:Ready for query                   False         43153\nPgsqlResponse:Command completion                False         42631\nPgsqlRequest:Simple query                       False         39721\nPgsqlResponse:Row description                   False         34325\nPgsqlResponse:Parameter status                  False          9070\nPgsqlRequest:Simple query                       True           2914\nPgsqlResponse:Authentication request            False          1044\nConnection finish (FIN)                         False           944\nConnection establish acknowledge (SYN+ACK)      False           929\nConnection establish request (SYN)              False           926\nPgsqlRequest:Password message                   False           523\nPgsqlRequest:Startup message                    False           523\nPgsqlRequest:SSL request                        False           522\nPgsqlResponse:Backend key data                  False           522\nPgsqlRequest:Termination                        False           517\nHttpResponse:HTTP/1.0 200 OK\\r\\n                True            403\nHttpRequest:POST /xmlrpc/2/object HTTP/1.1\\r\\n  True            273\nHttpRequest:POST /xmlrpc/2/common HTTP/1.1\\r\\n  True            127\nName: count, dtype: int64"
     },
     "execution_count": 8,
     "metadata": {},
     "output_type": "execute_result"
    }
   ],
   "source": [
    "df_r1[[\"MessageType\", \"keep_event\"]].value_counts()"
   ],
   "metadata": {
    "collapsed": false,
    "ExecuteTime": {
     "end_time": "2024-02-05T09:45:38.014530Z",
     "start_time": "2024-02-05T09:45:37.975853Z"
    }
   },
   "id": "7cd74321807b8445"
  },
  {
   "cell_type": "code",
   "execution_count": 9,
   "outputs": [],
   "source": [
    "# Message Types to keep\n",
    "message_type_filter = {\n",
    "    \"HttpRequest:POST /xmlrpc/2/common HTTP/1.1\\\\r\\\\n\",\n",
    "    \"HttpRequest:POST /xmlrpc/2/object HTTP/1.1\\\\r\\\\n\",\n",
    "    \"HttpResponse:HTTP/1.0 200 OK\\\\r\\\\n\",\n",
    "    \"SmtpReassembledMessage\",\n",
    "    \"PgsqlRequest:Simple query\",\n",
    "}"
   ],
   "metadata": {
    "collapsed": false,
    "ExecuteTime": {
     "end_time": "2024-02-05T09:45:38.265904Z",
     "start_time": "2024-02-05T09:45:38.164522Z"
    }
   },
   "id": "6d442d2713b93ad9"
  },
  {
   "cell_type": "code",
   "execution_count": 10,
   "outputs": [],
   "source": [
    "df_r1_filtered = df_r1[df_r1[\"MessageType\"].isin(message_type_filter)]"
   ],
   "metadata": {
    "collapsed": false,
    "ExecuteTime": {
     "end_time": "2024-02-05T09:45:38.387241Z",
     "start_time": "2024-02-05T09:45:38.367876Z"
    }
   },
   "id": "1258f64d6e8d2489"
  },
  {
   "cell_type": "code",
   "execution_count": 11,
   "outputs": [
    {
     "data": {
      "text/plain": "keep_event  MessageType                                   \nFalse       PgsqlRequest:Simple query                         39721\nTrue        PgsqlRequest:Simple query                          2914\n            HttpResponse:HTTP/1.0 200 OK\\r\\n                    403\n            HttpRequest:POST /xmlrpc/2/object HTTP/1.1\\r\\n      273\n            HttpRequest:POST /xmlrpc/2/common HTTP/1.1\\r\\n      127\nName: count, dtype: int64"
     },
     "execution_count": 11,
     "metadata": {},
     "output_type": "execute_result"
    }
   ],
   "source": [
    "df_r1_filtered[[\"keep_event\", \"MessageType\"]].value_counts()"
   ],
   "metadata": {
    "collapsed": false,
    "ExecuteTime": {
     "end_time": "2024-02-05T09:45:38.830065Z",
     "start_time": "2024-02-05T09:45:38.788905Z"
    }
   },
   "id": "28c9c95dc8b1c93a"
  },
  {
   "cell_type": "markdown",
   "source": [
    "check if no keep events = True are dropped"
   ],
   "metadata": {
    "collapsed": false
   },
   "id": "7477fc2145d96beb"
  },
  {
   "cell_type": "code",
   "execution_count": 12,
   "outputs": [
    {
     "data": {
      "text/plain": "keep_event\nFalse    181450\nName: count, dtype: int64"
     },
     "execution_count": 12,
     "metadata": {},
     "output_type": "execute_result"
    }
   ],
   "source": [
    "df_r1.drop(df_r1_filtered.index)[\"keep_event\"].value_counts()"
   ],
   "metadata": {
    "collapsed": false,
    "ExecuteTime": {
     "end_time": "2024-02-05T09:45:40.113933Z",
     "start_time": "2024-02-05T09:45:40.061121Z"
    }
   },
   "id": "37bf4474a6fda48"
  },
  {
   "cell_type": "markdown",
   "source": [
    "the resulting elements in the original dataframe only have keep_events = False. \n",
    "**df_r1_filtered still contains all keep_events**"
   ],
   "metadata": {
    "collapsed": false
   },
   "id": "3c73a20178e4cd1f"
  },
  {
   "cell_type": "markdown",
   "source": [
    "### Extend Filter by *PgsqlRequest:Simple query*"
   ],
   "metadata": {
    "collapsed": false
   },
   "id": "a121346dd25f6d4"
  },
  {
   "cell_type": "code",
   "execution_count": 13,
   "outputs": [],
   "source": [
    "df_r1_psql = df_r1_filtered[df_r1_filtered[\"MessageType\"] == \"PgsqlRequest:Simple query\"]"
   ],
   "metadata": {
    "collapsed": false,
    "ExecuteTime": {
     "end_time": "2024-02-05T09:45:41.644119Z",
     "start_time": "2024-02-05T09:45:41.605443Z"
    }
   },
   "id": "7b680750f68a9cef"
  },
  {
   "cell_type": "code",
   "execution_count": 14,
   "outputs": [],
   "source": [
    "# keep first N \n",
    "df_r1_psql[\"pgsql.query_command_1\"] = df_r1_psql[\"pgsql.query\"].str.split().str[:1].str.join(\" \")\n",
    "df_r1_psql[\"pgsql.query_command_2\"] = df_r1_psql[\"pgsql.query\"].str.split().str[:2].str.join(\" \")\n",
    "df_r1_psql[\"pgsql.query_command_3\"] = df_r1_psql[\"pgsql.query\"].str.split().str[:3].str.join(\" \")\n",
    "\n",
    "\n",
    "def extract_pgsql_target(command):\n",
    "    if command is not None:\n",
    "        match = re.search(r'(?:INSERT INTO|UPDATE)\\s+\"?([^\"\\s]+)', command)\n",
    "        return match.group(1) if match else None\n",
    "    return None\n",
    "\n",
    "\n",
    "df_r1_psql[\"pgsql.target\"] = df_r1_psql[\"pgsql.query\"].apply(extract_pgsql_target)"
   ],
   "metadata": {
    "collapsed": false,
    "ExecuteTime": {
     "end_time": "2024-02-05T09:45:42.458130Z",
     "start_time": "2024-02-05T09:45:41.967981Z"
    }
   },
   "id": "9eaa8deac7209fbb"
  },
  {
   "cell_type": "code",
   "execution_count": 15,
   "outputs": [
    {
     "data": {
      "text/plain": "        Unnamed: 0.1  Unnamed: 0  \\\n188              188         210   \n818              818         878   \n840              840         900   \n845              845         906   \n922              922         986   \n...              ...         ...   \n224517        224517      234374   \n224670        224670      234538   \n224675        224675      234543   \n224680        224680      234548   \n224763        224763      234635   \n\n                                               FileName  \\\n188     async_2022_08_03-0336_10_cases_10_interval.pcap   \n818     async_2022_08_03-0336_10_cases_10_interval.pcap   \n840     async_2022_08_03-0336_10_cases_10_interval.pcap   \n845     async_2022_08_03-0336_10_cases_10_interval.pcap   \n922     async_2022_08_03-0336_10_cases_10_interval.pcap   \n...                                                 ...   \n224517  async_2022_08_03-0336_10_cases_10_interval.pcap   \n224670  async_2022_08_03-0336_10_cases_10_interval.pcap   \n224675  async_2022_08_03-0336_10_cases_10_interval.pcap   \n224680  async_2022_08_03-0336_10_cases_10_interval.pcap   \n224763  async_2022_08_03-0336_10_cases_10_interval.pcap   \n\n                         BusinessActivity  InstanceNumber  \\\n188     order_to_cash_interleaved_10cases            2022   \n818     order_to_cash_interleaved_10cases            2022   \n840     order_to_cash_interleaved_10cases            2022   \n845     order_to_cash_interleaved_10cases            2022   \n922     order_to_cash_interleaved_10cases            2022   \n...                                   ...             ...   \n224517  order_to_cash_interleaved_10cases            2022   \n224670  order_to_cash_interleaved_10cases            2022   \n224675  order_to_cash_interleaved_10cases            2022   \n224680  order_to_cash_interleaved_10cases            2022   \n224763  order_to_cash_interleaved_10cases            2022   \n\n                        sniff_time  frame.number        synthetic_sniff_time  \\\n188     2022-08-03 13:36:22.298610           209  2022-08-04 22:49:06.248610   \n818     2022-08-03 13:36:22.803366           507  2022-08-05 00:13:14.313366   \n840     2022-08-03 13:36:22.849700           518  2022-08-05 00:20:57.699700   \n845     2022-08-03 13:36:23.150949           525  2022-08-05 01:11:10.490949   \n922     2022-08-03 13:36:23.297252           559  2022-08-05 01:35:33.667252   \n...                            ...           ...                         ...   \n224517  2022-08-03 13:38:49.395154        112045  2022-08-21 23:27:38.785154   \n224670  2022-08-03 13:38:49.467434        112133  2022-08-21 23:39:41.657434   \n224675  2022-08-03 13:38:49.471018        112135  2022-08-21 23:40:17.501018   \n224680  2022-08-03 13:38:49.471760        112137  2022-08-21 23:40:24.921760   \n224763  2022-08-03 13:38:49.487802        112175  2022-08-21 23:43:05.357802   \n\n          synthetic_sniff_time_str              session_generalized  \\\n188     2022-08-04 22:49:06.248610    192.168.11.1-192.168.11.2 (7)   \n818     2022-08-05 00:13:14.313366    192.168.11.1-192.168.11.2 (8)   \n840     2022-08-05 00:20:57.699700    192.168.11.1-192.168.11.2 (8)   \n845     2022-08-05 01:11:10.490949    192.168.11.1-192.168.11.2 (8)   \n922     2022-08-05 01:35:33.667252    192.168.11.1-192.168.11.2 (8)   \n...                            ...                              ...   \n224517  2022-08-21 23:27:38.785154  192.168.11.1-192.168.11.2 (190)   \n224670  2022-08-21 23:39:41.657434    192.168.11.1-192.168.11.2 (4)   \n224675  2022-08-21 23:40:17.501018    192.168.11.1-192.168.11.2 (4)   \n224680  2022-08-21 23:40:24.921760    192.168.11.1-192.168.11.2 (4)   \n224763  2022-08-21 23:43:05.357802    192.168.11.1-192.168.11.2 (4)   \n\n       HighestLayerProtocol  \\\n188                   pgsql   \n818                   pgsql   \n840                   pgsql   \n845                   pgsql   \n922                   pgsql   \n...                     ...   \n224517                pgsql   \n224670                pgsql   \n224675                pgsql   \n224680                pgsql   \n224763                pgsql   \n\n                                     MessageType_WithRole  \\\n188     Odoo Application->db Server/Mail Server:[Pgsql...   \n818     Odoo Application->db Server/Mail Server:[Pgsql...   \n840     Odoo Application->db Server/Mail Server:[Pgsql...   \n845     Odoo Application->db Server/Mail Server:[Pgsql...   \n922     Odoo Application->db Server/Mail Server:[Pgsql...   \n...                                                   ...   \n224517  Odoo Application->db Server/Mail Server:[Pgsql...   \n224670  Odoo Application->db Server/Mail Server:[Pgsql...   \n224675  Odoo Application->db Server/Mail Server:[Pgsql...   \n224680  Odoo Application->db Server/Mail Server:[Pgsql...   \n224763  Odoo Application->db Server/Mail Server:[Pgsql...   \n\n                      MessageType  \\\n188     PgsqlRequest:Simple query   \n818     PgsqlRequest:Simple query   \n840     PgsqlRequest:Simple query   \n845     PgsqlRequest:Simple query   \n922     PgsqlRequest:Simple query   \n...                           ...   \n224517  PgsqlRequest:Simple query   \n224670  PgsqlRequest:Simple query   \n224675  PgsqlRequest:Simple query   \n224680  PgsqlRequest:Simple query   \n224763  PgsqlRequest:Simple query   \n\n                                        MessageAttributes  \\\n188     {'pgsql.type': 'Simple query', 'pgsql.length':...   \n818     {'pgsql.type': 'Simple query', 'pgsql.length':...   \n840     {'pgsql.type': 'Simple query', 'pgsql.length':...   \n845     {'pgsql.type': 'Simple query', 'pgsql.length':...   \n922     {'pgsql.type': 'Simple query', 'pgsql.length':...   \n...                                                   ...   \n224517  {'pgsql.type': 'Simple query', 'pgsql.length':...   \n224670  {'pgsql.type': 'Simple query', 'pgsql.length':...   \n224675  {'pgsql.type': 'Simple query', 'pgsql.length':...   \n224680  {'pgsql.type': 'Simple query', 'pgsql.length':...   \n224763  {'pgsql.type': 'Simple query', 'pgsql.length':...   \n\n                                              pgsql.query  keep_event  \\\n188     INSERT INTO \"res_users_log\" (\"id\", \"create_uid...        True   \n818     INSERT INTO \"sale_order\" (\"id\", \"create_uid\", ...        True   \n840     INSERT INTO \"mail_followers\" (\"id\", \"partner_i...        True   \n845     INSERT INTO mail_followers_mail_message_subtyp...        True   \n922     UPDATE \"sale_order\" SET \"currency_rate\"='1.000...        True   \n...                                                   ...         ...   \n224517  INSERT INTO \"mail_message\" (\"id\", \"create_uid\"...        True   \n224670  INSERT INTO \"account_payment\" (\"id\", \"create_u...        True   \n224675  INSERT INTO \"mail_followers\" (\"id\", \"partner_i...        True   \n224680  INSERT INTO mail_followers_mail_message_subtyp...        True   \n224763  INSERT INTO \"mail_message\" (\"id\", \"create_uid\"...        True   \n\n       pgsql.query_command_1 pgsql.query_command_2  \\\n188                   INSERT           INSERT INTO   \n818                   INSERT           INSERT INTO   \n840                   INSERT           INSERT INTO   \n845                   INSERT           INSERT INTO   \n922                   UPDATE   UPDATE \"sale_order\"   \n...                      ...                   ...   \n224517                INSERT           INSERT INTO   \n224670                INSERT           INSERT INTO   \n224675                INSERT           INSERT INTO   \n224680                INSERT           INSERT INTO   \n224763                INSERT           INSERT INTO   \n\n                                    pgsql.query_command_3  \\\n188                           INSERT INTO \"res_users_log\"   \n818                              INSERT INTO \"sale_order\"   \n840                          INSERT INTO \"mail_followers\"   \n845     INSERT INTO mail_followers_mail_message_subtyp...   \n922                               UPDATE \"sale_order\" SET   \n...                                                   ...   \n224517                         INSERT INTO \"mail_message\"   \n224670                      INSERT INTO \"account_payment\"   \n224675                       INSERT INTO \"mail_followers\"   \n224680  INSERT INTO mail_followers_mail_message_subtyp...   \n224763                         INSERT INTO \"mail_message\"   \n\n                                   pgsql.target  \n188                               res_users_log  \n818                                  sale_order  \n840                              mail_followers  \n845     mail_followers_mail_message_subtype_rel  \n922                                  sale_order  \n...                                         ...  \n224517                             mail_message  \n224670                          account_payment  \n224675                           mail_followers  \n224680  mail_followers_mail_message_subtype_rel  \n224763                             mail_message  \n\n[2914 rows x 20 columns]",
      "text/html": "<div>\n<style scoped>\n    .dataframe tbody tr th:only-of-type {\n        vertical-align: middle;\n    }\n\n    .dataframe tbody tr th {\n        vertical-align: top;\n    }\n\n    .dataframe thead th {\n        text-align: right;\n    }\n</style>\n<table border=\"1\" class=\"dataframe\">\n  <thead>\n    <tr style=\"text-align: right;\">\n      <th></th>\n      <th>Unnamed: 0.1</th>\n      <th>Unnamed: 0</th>\n      <th>FileName</th>\n      <th>BusinessActivity</th>\n      <th>InstanceNumber</th>\n      <th>sniff_time</th>\n      <th>frame.number</th>\n      <th>synthetic_sniff_time</th>\n      <th>synthetic_sniff_time_str</th>\n      <th>session_generalized</th>\n      <th>HighestLayerProtocol</th>\n      <th>MessageType_WithRole</th>\n      <th>MessageType</th>\n      <th>MessageAttributes</th>\n      <th>pgsql.query</th>\n      <th>keep_event</th>\n      <th>pgsql.query_command_1</th>\n      <th>pgsql.query_command_2</th>\n      <th>pgsql.query_command_3</th>\n      <th>pgsql.target</th>\n    </tr>\n  </thead>\n  <tbody>\n    <tr>\n      <th>188</th>\n      <td>188</td>\n      <td>210</td>\n      <td>async_2022_08_03-0336_10_cases_10_interval.pcap</td>\n      <td>order_to_cash_interleaved_10cases</td>\n      <td>2022</td>\n      <td>2022-08-03 13:36:22.298610</td>\n      <td>209</td>\n      <td>2022-08-04 22:49:06.248610</td>\n      <td>2022-08-04 22:49:06.248610</td>\n      <td>192.168.11.1-192.168.11.2 (7)</td>\n      <td>pgsql</td>\n      <td>Odoo Application-&gt;db Server/Mail Server:[Pgsql...</td>\n      <td>PgsqlRequest:Simple query</td>\n      <td>{'pgsql.type': 'Simple query', 'pgsql.length':...</td>\n      <td>INSERT INTO \"res_users_log\" (\"id\", \"create_uid...</td>\n      <td>True</td>\n      <td>INSERT</td>\n      <td>INSERT INTO</td>\n      <td>INSERT INTO \"res_users_log\"</td>\n      <td>res_users_log</td>\n    </tr>\n    <tr>\n      <th>818</th>\n      <td>818</td>\n      <td>878</td>\n      <td>async_2022_08_03-0336_10_cases_10_interval.pcap</td>\n      <td>order_to_cash_interleaved_10cases</td>\n      <td>2022</td>\n      <td>2022-08-03 13:36:22.803366</td>\n      <td>507</td>\n      <td>2022-08-05 00:13:14.313366</td>\n      <td>2022-08-05 00:13:14.313366</td>\n      <td>192.168.11.1-192.168.11.2 (8)</td>\n      <td>pgsql</td>\n      <td>Odoo Application-&gt;db Server/Mail Server:[Pgsql...</td>\n      <td>PgsqlRequest:Simple query</td>\n      <td>{'pgsql.type': 'Simple query', 'pgsql.length':...</td>\n      <td>INSERT INTO \"sale_order\" (\"id\", \"create_uid\", ...</td>\n      <td>True</td>\n      <td>INSERT</td>\n      <td>INSERT INTO</td>\n      <td>INSERT INTO \"sale_order\"</td>\n      <td>sale_order</td>\n    </tr>\n    <tr>\n      <th>840</th>\n      <td>840</td>\n      <td>900</td>\n      <td>async_2022_08_03-0336_10_cases_10_interval.pcap</td>\n      <td>order_to_cash_interleaved_10cases</td>\n      <td>2022</td>\n      <td>2022-08-03 13:36:22.849700</td>\n      <td>518</td>\n      <td>2022-08-05 00:20:57.699700</td>\n      <td>2022-08-05 00:20:57.699700</td>\n      <td>192.168.11.1-192.168.11.2 (8)</td>\n      <td>pgsql</td>\n      <td>Odoo Application-&gt;db Server/Mail Server:[Pgsql...</td>\n      <td>PgsqlRequest:Simple query</td>\n      <td>{'pgsql.type': 'Simple query', 'pgsql.length':...</td>\n      <td>INSERT INTO \"mail_followers\" (\"id\", \"partner_i...</td>\n      <td>True</td>\n      <td>INSERT</td>\n      <td>INSERT INTO</td>\n      <td>INSERT INTO \"mail_followers\"</td>\n      <td>mail_followers</td>\n    </tr>\n    <tr>\n      <th>845</th>\n      <td>845</td>\n      <td>906</td>\n      <td>async_2022_08_03-0336_10_cases_10_interval.pcap</td>\n      <td>order_to_cash_interleaved_10cases</td>\n      <td>2022</td>\n      <td>2022-08-03 13:36:23.150949</td>\n      <td>525</td>\n      <td>2022-08-05 01:11:10.490949</td>\n      <td>2022-08-05 01:11:10.490949</td>\n      <td>192.168.11.1-192.168.11.2 (8)</td>\n      <td>pgsql</td>\n      <td>Odoo Application-&gt;db Server/Mail Server:[Pgsql...</td>\n      <td>PgsqlRequest:Simple query</td>\n      <td>{'pgsql.type': 'Simple query', 'pgsql.length':...</td>\n      <td>INSERT INTO mail_followers_mail_message_subtyp...</td>\n      <td>True</td>\n      <td>INSERT</td>\n      <td>INSERT INTO</td>\n      <td>INSERT INTO mail_followers_mail_message_subtyp...</td>\n      <td>mail_followers_mail_message_subtype_rel</td>\n    </tr>\n    <tr>\n      <th>922</th>\n      <td>922</td>\n      <td>986</td>\n      <td>async_2022_08_03-0336_10_cases_10_interval.pcap</td>\n      <td>order_to_cash_interleaved_10cases</td>\n      <td>2022</td>\n      <td>2022-08-03 13:36:23.297252</td>\n      <td>559</td>\n      <td>2022-08-05 01:35:33.667252</td>\n      <td>2022-08-05 01:35:33.667252</td>\n      <td>192.168.11.1-192.168.11.2 (8)</td>\n      <td>pgsql</td>\n      <td>Odoo Application-&gt;db Server/Mail Server:[Pgsql...</td>\n      <td>PgsqlRequest:Simple query</td>\n      <td>{'pgsql.type': 'Simple query', 'pgsql.length':...</td>\n      <td>UPDATE \"sale_order\" SET \"currency_rate\"='1.000...</td>\n      <td>True</td>\n      <td>UPDATE</td>\n      <td>UPDATE \"sale_order\"</td>\n      <td>UPDATE \"sale_order\" SET</td>\n      <td>sale_order</td>\n    </tr>\n    <tr>\n      <th>...</th>\n      <td>...</td>\n      <td>...</td>\n      <td>...</td>\n      <td>...</td>\n      <td>...</td>\n      <td>...</td>\n      <td>...</td>\n      <td>...</td>\n      <td>...</td>\n      <td>...</td>\n      <td>...</td>\n      <td>...</td>\n      <td>...</td>\n      <td>...</td>\n      <td>...</td>\n      <td>...</td>\n      <td>...</td>\n      <td>...</td>\n      <td>...</td>\n      <td>...</td>\n    </tr>\n    <tr>\n      <th>224517</th>\n      <td>224517</td>\n      <td>234374</td>\n      <td>async_2022_08_03-0336_10_cases_10_interval.pcap</td>\n      <td>order_to_cash_interleaved_10cases</td>\n      <td>2022</td>\n      <td>2022-08-03 13:38:49.395154</td>\n      <td>112045</td>\n      <td>2022-08-21 23:27:38.785154</td>\n      <td>2022-08-21 23:27:38.785154</td>\n      <td>192.168.11.1-192.168.11.2 (190)</td>\n      <td>pgsql</td>\n      <td>Odoo Application-&gt;db Server/Mail Server:[Pgsql...</td>\n      <td>PgsqlRequest:Simple query</td>\n      <td>{'pgsql.type': 'Simple query', 'pgsql.length':...</td>\n      <td>INSERT INTO \"mail_message\" (\"id\", \"create_uid\"...</td>\n      <td>True</td>\n      <td>INSERT</td>\n      <td>INSERT INTO</td>\n      <td>INSERT INTO \"mail_message\"</td>\n      <td>mail_message</td>\n    </tr>\n    <tr>\n      <th>224670</th>\n      <td>224670</td>\n      <td>234538</td>\n      <td>async_2022_08_03-0336_10_cases_10_interval.pcap</td>\n      <td>order_to_cash_interleaved_10cases</td>\n      <td>2022</td>\n      <td>2022-08-03 13:38:49.467434</td>\n      <td>112133</td>\n      <td>2022-08-21 23:39:41.657434</td>\n      <td>2022-08-21 23:39:41.657434</td>\n      <td>192.168.11.1-192.168.11.2 (4)</td>\n      <td>pgsql</td>\n      <td>Odoo Application-&gt;db Server/Mail Server:[Pgsql...</td>\n      <td>PgsqlRequest:Simple query</td>\n      <td>{'pgsql.type': 'Simple query', 'pgsql.length':...</td>\n      <td>INSERT INTO \"account_payment\" (\"id\", \"create_u...</td>\n      <td>True</td>\n      <td>INSERT</td>\n      <td>INSERT INTO</td>\n      <td>INSERT INTO \"account_payment\"</td>\n      <td>account_payment</td>\n    </tr>\n    <tr>\n      <th>224675</th>\n      <td>224675</td>\n      <td>234543</td>\n      <td>async_2022_08_03-0336_10_cases_10_interval.pcap</td>\n      <td>order_to_cash_interleaved_10cases</td>\n      <td>2022</td>\n      <td>2022-08-03 13:38:49.471018</td>\n      <td>112135</td>\n      <td>2022-08-21 23:40:17.501018</td>\n      <td>2022-08-21 23:40:17.501018</td>\n      <td>192.168.11.1-192.168.11.2 (4)</td>\n      <td>pgsql</td>\n      <td>Odoo Application-&gt;db Server/Mail Server:[Pgsql...</td>\n      <td>PgsqlRequest:Simple query</td>\n      <td>{'pgsql.type': 'Simple query', 'pgsql.length':...</td>\n      <td>INSERT INTO \"mail_followers\" (\"id\", \"partner_i...</td>\n      <td>True</td>\n      <td>INSERT</td>\n      <td>INSERT INTO</td>\n      <td>INSERT INTO \"mail_followers\"</td>\n      <td>mail_followers</td>\n    </tr>\n    <tr>\n      <th>224680</th>\n      <td>224680</td>\n      <td>234548</td>\n      <td>async_2022_08_03-0336_10_cases_10_interval.pcap</td>\n      <td>order_to_cash_interleaved_10cases</td>\n      <td>2022</td>\n      <td>2022-08-03 13:38:49.471760</td>\n      <td>112137</td>\n      <td>2022-08-21 23:40:24.921760</td>\n      <td>2022-08-21 23:40:24.921760</td>\n      <td>192.168.11.1-192.168.11.2 (4)</td>\n      <td>pgsql</td>\n      <td>Odoo Application-&gt;db Server/Mail Server:[Pgsql...</td>\n      <td>PgsqlRequest:Simple query</td>\n      <td>{'pgsql.type': 'Simple query', 'pgsql.length':...</td>\n      <td>INSERT INTO mail_followers_mail_message_subtyp...</td>\n      <td>True</td>\n      <td>INSERT</td>\n      <td>INSERT INTO</td>\n      <td>INSERT INTO mail_followers_mail_message_subtyp...</td>\n      <td>mail_followers_mail_message_subtype_rel</td>\n    </tr>\n    <tr>\n      <th>224763</th>\n      <td>224763</td>\n      <td>234635</td>\n      <td>async_2022_08_03-0336_10_cases_10_interval.pcap</td>\n      <td>order_to_cash_interleaved_10cases</td>\n      <td>2022</td>\n      <td>2022-08-03 13:38:49.487802</td>\n      <td>112175</td>\n      <td>2022-08-21 23:43:05.357802</td>\n      <td>2022-08-21 23:43:05.357802</td>\n      <td>192.168.11.1-192.168.11.2 (4)</td>\n      <td>pgsql</td>\n      <td>Odoo Application-&gt;db Server/Mail Server:[Pgsql...</td>\n      <td>PgsqlRequest:Simple query</td>\n      <td>{'pgsql.type': 'Simple query', 'pgsql.length':...</td>\n      <td>INSERT INTO \"mail_message\" (\"id\", \"create_uid\"...</td>\n      <td>True</td>\n      <td>INSERT</td>\n      <td>INSERT INTO</td>\n      <td>INSERT INTO \"mail_message\"</td>\n      <td>mail_message</td>\n    </tr>\n  </tbody>\n</table>\n<p>2914 rows × 20 columns</p>\n</div>"
     },
     "execution_count": 15,
     "metadata": {},
     "output_type": "execute_result"
    }
   ],
   "source": [
    "df_r1_psql[df_r1_psql[\"keep_event\"]]"
   ],
   "metadata": {
    "collapsed": false,
    "ExecuteTime": {
     "end_time": "2024-02-05T09:45:42.473682Z",
     "start_time": "2024-02-05T09:45:42.459030Z"
    }
   },
   "id": "9cff8d97eb381294"
  },
  {
   "cell_type": "code",
   "execution_count": 16,
   "outputs": [
    {
     "data": {
      "text/plain": "pgsql.query_command_1  keep_event\nSELECT                 False         33450\nBEGIN                  False          1892\nUPDATE                 True           1867\nDISCARD                False          1664\nROLLBACK               False          1423\nINSERT                 True           1047\nselect                 False           522\nCOMMIT                 False           467\nINSERT                 False           192\nWITH                   False            61\nRELEASE                False            16\nSAVEPOINT              False            16\nSELECT\\xa              False            10\n(SELECT                False             8\nName: count, dtype: int64"
     },
     "execution_count": 16,
     "metadata": {},
     "output_type": "execute_result"
    }
   ],
   "source": [
    "df_r1_psql[[\"pgsql.query_command_1\", \"keep_event\"]].value_counts(dropna=False)"
   ],
   "metadata": {
    "collapsed": false,
    "ExecuteTime": {
     "end_time": "2024-02-05T09:45:44.445820Z",
     "start_time": "2024-02-05T09:45:44.422522Z"
    }
   },
   "id": "8e70db2ea0837996"
  },
  {
   "cell_type": "markdown",
   "source": [
    "UPDATE and INSERT Commands are only commands that are present in both keep_event classes. However, heavily skew towards keeping them. \n",
    "-> Try including them, else wise rollback and try better filter"
   ],
   "metadata": {
    "collapsed": false
   },
   "id": "e67aacc32f2bf234"
  },
  {
   "cell_type": "code",
   "execution_count": 17,
   "outputs": [],
   "source": [
    "filtered_df = df_r1_psql[\n",
    "    df_r1_psql['pgsql.query'].apply(lambda x: str(x).startswith(('UPDATE', 'INSERT')) if x is not None else True)]"
   ],
   "metadata": {
    "collapsed": false,
    "ExecuteTime": {
     "end_time": "2024-02-05T09:45:44.490530Z",
     "start_time": "2024-02-05T09:45:44.458617Z"
    }
   },
   "id": "edf9171de9e011f2"
  },
  {
   "cell_type": "code",
   "execution_count": 18,
   "outputs": [],
   "source": [
    "# Extra Step for Email PTP Filtering\n",
    "filtered_df = filtered_df[filtered_df[\"pgsql.target\"] != \"mail_tracking_value\"]"
   ],
   "metadata": {
    "collapsed": false,
    "ExecuteTime": {
     "end_time": "2024-02-05T09:45:44.490713Z",
     "start_time": "2024-02-05T09:45:44.461997Z"
    }
   },
   "id": "5cd3d41a61487059"
  },
  {
   "cell_type": "code",
   "execution_count": 19,
   "outputs": [
    {
     "data": {
      "text/plain": "keep_event\nTrue    2796\nName: count, dtype: int64"
     },
     "execution_count": 19,
     "metadata": {},
     "output_type": "execute_result"
    }
   ],
   "source": [
    "filtered_df[\"keep_event\"].value_counts()"
   ],
   "metadata": {
    "collapsed": false,
    "ExecuteTime": {
     "end_time": "2024-02-05T09:45:44.695153Z",
     "start_time": "2024-02-05T09:45:44.605493Z"
    }
   },
   "id": "82e88ef0a60cf457"
  },
  {
   "cell_type": "markdown",
   "source": [
    "filtered successful. Included the 15 UPDATE and INSERT Commands that were discard events"
   ],
   "metadata": {
    "collapsed": false
   },
   "id": "2eb1e2f91ceea850"
  },
  {
   "cell_type": "markdown",
   "source": [
    "### Complete Filter Steps"
   ],
   "metadata": {
    "collapsed": false
   },
   "id": "e90a5e24b17ba63c"
  },
  {
   "cell_type": "code",
   "execution_count": 20,
   "outputs": [],
   "source": [
    "# test with IL data \n",
    "\n",
    "df_r4 = pd.read_csv('../../data_v3/ptp_il_tagged.csv')\n",
    "df_r1 = pd.read_csv('../../data/PTP-INTERLEAVED/R1/R1.csv', converters={\"MessageAttributes\": ast.literal_eval})"
   ],
   "metadata": {
    "collapsed": false,
    "ExecuteTime": {
     "end_time": "2024-02-05T09:45:50.562078Z",
     "start_time": "2024-02-05T09:45:45.923768Z"
    }
   },
   "id": "e5150dc94d707bb"
  },
  {
   "cell_type": "code",
   "execution_count": 21,
   "outputs": [],
   "source": [
    "# mark keep events for evaluation\n",
    "df_r1[\"keep_event\"] = df_r1[\"frame.number\"].isin(df_r4[\"frame.number\"])"
   ],
   "metadata": {
    "collapsed": false,
    "ExecuteTime": {
     "end_time": "2024-02-05T09:45:50.567368Z",
     "start_time": "2024-02-05T09:45:50.562911Z"
    }
   },
   "id": "da9526bd0499dfd4"
  },
  {
   "cell_type": "code",
   "execution_count": 22,
   "outputs": [],
   "source": [
    "#1 \n",
    "df_r1[\"pgsql.query\"] = df_r1[\"MessageAttributes\"].apply(lambda x: x.get(\"pgsql.query\")).str.strip(' \\\\xa')\n",
    "df_r1[\"pgsql.target\"] = df_r1[\"pgsql.query\"].apply(extract_pgsql_target)\n",
    "\n",
    "\n",
    "#2 \n",
    "# Message Types to keep\n",
    "message_type_filter = {\n",
    "    \"HttpRequest:POST /xmlrpc/2/common HTTP/1.1\\\\r\\\\n\",\n",
    "    \"HttpRequest:POST /xmlrpc/2/object HTTP/1.1\\\\r\\\\n\",\n",
    "    \"HttpResponse:HTTP/1.0 200 OK\\\\r\\\\n\",\n",
    "    \"SmtpReassembledMessage\",\n",
    "    \"PgsqlRequest:Simple query\",\n",
    "}\n",
    "df_r1_filtered = df_r1[df_r1[\"MessageType\"].isin(message_type_filter)]\n",
    "\n",
    "#3 \n",
    "filtered_df = df_r1_filtered[\n",
    "    df_r1_filtered['pgsql.query'].apply(lambda x: str(x).startswith(('UPDATE', 'INSERT')) if x is not None else True)]\n",
    "\n",
    "\n",
    "# Extra Step for Email PTP Filtering\n",
    "filtered_df = filtered_df[filtered_df[\"pgsql.target\"] != \"mail_tracking_value\"]\n",
    "\n",
    "\n",
    "filtered_df = filtered_df"
   ],
   "metadata": {
    "collapsed": false,
    "ExecuteTime": {
     "end_time": "2024-02-05T09:45:50.748150Z",
     "start_time": "2024-02-05T09:45:50.568597Z"
    }
   },
   "id": "3665ff1a009eca41"
  },
  {
   "cell_type": "code",
   "execution_count": 23,
   "outputs": [
    {
     "data": {
      "text/plain": "        Unnamed: 0.1  Unnamed: 0  \\\n27                27          29   \n82                82          90   \n86                86          97   \n188              188         210   \n258              258         282   \n...              ...         ...   \n224670        224670      234538   \n224675        224675      234543   \n224680        224680      234548   \n224763        224763      234635   \n224786        224786      234659   \n\n                                               FileName  \\\n27      async_2022_08_03-0336_10_cases_10_interval.pcap   \n82      async_2022_08_03-0336_10_cases_10_interval.pcap   \n86      async_2022_08_03-0336_10_cases_10_interval.pcap   \n188     async_2022_08_03-0336_10_cases_10_interval.pcap   \n258     async_2022_08_03-0336_10_cases_10_interval.pcap   \n...                                                 ...   \n224670  async_2022_08_03-0336_10_cases_10_interval.pcap   \n224675  async_2022_08_03-0336_10_cases_10_interval.pcap   \n224680  async_2022_08_03-0336_10_cases_10_interval.pcap   \n224763  async_2022_08_03-0336_10_cases_10_interval.pcap   \n224786  async_2022_08_03-0336_10_cases_10_interval.pcap   \n\n                         BusinessActivity  InstanceNumber  \\\n27      order_to_cash_interleaved_10cases            2022   \n82      order_to_cash_interleaved_10cases            2022   \n86      order_to_cash_interleaved_10cases            2022   \n188     order_to_cash_interleaved_10cases            2022   \n258     order_to_cash_interleaved_10cases            2022   \n...                                   ...             ...   \n224670  order_to_cash_interleaved_10cases            2022   \n224675  order_to_cash_interleaved_10cases            2022   \n224680  order_to_cash_interleaved_10cases            2022   \n224763  order_to_cash_interleaved_10cases            2022   \n224786  order_to_cash_interleaved_10cases            2022   \n\n                        sniff_time  frame.number        synthetic_sniff_time  \\\n27      2022-08-03 13:36:21.687676            96  2022-08-04 21:07:16.297676   \n82      2022-08-03 13:36:21.958633           137  2022-08-04 21:52:26.138633   \n86      2022-08-03 13:36:21.960536           145  2022-08-04 21:52:45.170536   \n188     2022-08-03 13:36:22.298610           209  2022-08-04 22:49:06.248610   \n258     2022-08-03 13:36:22.413521           232  2022-08-04 23:08:15.473521   \n...                            ...           ...                         ...   \n224670  2022-08-03 13:38:49.467434        112133  2022-08-21 23:39:41.657434   \n224675  2022-08-03 13:38:49.471018        112135  2022-08-21 23:40:17.501018   \n224680  2022-08-03 13:38:49.471760        112137  2022-08-21 23:40:24.921760   \n224763  2022-08-03 13:38:49.487802        112175  2022-08-21 23:43:05.357802   \n224786  2022-08-03 13:38:49.497468        112188  2022-08-21 23:44:42.027468   \n\n          synthetic_sniff_time_str              session_generalized  \\\n27      2022-08-04 21:07:16.297676   192.168.11.2-192.168.11.10 (1)   \n82      2022-08-04 21:52:26.138633   192.168.11.2-192.168.11.10 (1)   \n86      2022-08-04 21:52:45.170536   192.168.11.2-192.168.11.10 (2)   \n188     2022-08-04 22:49:06.248610    192.168.11.1-192.168.11.2 (7)   \n258     2022-08-04 23:08:15.473521   192.168.11.2-192.168.11.10 (2)   \n...                            ...                              ...   \n224670  2022-08-21 23:39:41.657434    192.168.11.1-192.168.11.2 (4)   \n224675  2022-08-21 23:40:17.501018    192.168.11.1-192.168.11.2 (4)   \n224680  2022-08-21 23:40:24.921760    192.168.11.1-192.168.11.2 (4)   \n224763  2022-08-21 23:43:05.357802    192.168.11.1-192.168.11.2 (4)   \n224786  2022-08-21 23:44:42.027468  192.168.11.2-192.168.11.21 (24)   \n\n       HighestLayerProtocol  \\\n27                     http   \n82                     http   \n86                     http   \n188                   pgsql   \n258                    http   \n...                     ...   \n224670                pgsql   \n224675                pgsql   \n224680                pgsql   \n224763                pgsql   \n224786                 http   \n\n                                     MessageType_WithRole  \\\n27      End Point (Employee)->Odoo Application:[HttpRe...   \n82      Odoo Application->End Point (Employee):[HttpRe...   \n86      End Point (Employee)->Odoo Application:[HttpRe...   \n188     Odoo Application->db Server/Mail Server:[Pgsql...   \n258     Odoo Application->End Point (Employee):[HttpRe...   \n...                                                   ...   \n224670  Odoo Application->db Server/Mail Server:[Pgsql...   \n224675  Odoo Application->db Server/Mail Server:[Pgsql...   \n224680  Odoo Application->db Server/Mail Server:[Pgsql...   \n224763  Odoo Application->db Server/Mail Server:[Pgsql...   \n224786  Odoo Application->End Point (Finance):[HttpRes...   \n\n                                           MessageType  \\\n27      HttpRequest:POST /xmlrpc/2/common HTTP/1.1\\r\\n   \n82                    HttpResponse:HTTP/1.0 200 OK\\r\\n   \n86      HttpRequest:POST /xmlrpc/2/common HTTP/1.1\\r\\n   \n188                          PgsqlRequest:Simple query   \n258                   HttpResponse:HTTP/1.0 200 OK\\r\\n   \n...                                                ...   \n224670                       PgsqlRequest:Simple query   \n224675                       PgsqlRequest:Simple query   \n224680                       PgsqlRequest:Simple query   \n224763                       PgsqlRequest:Simple query   \n224786                HttpResponse:HTTP/1.0 200 OK\\r\\n   \n\n                                        MessageAttributes  keep_event  \\\n27      {'': 'POST /xmlrpc/2/common HTTP/1.1\\r\\n', '_w...        True   \n82      {'': 'HTTP/1.0 200 OK\\r\\n', '_ws.expert': 'Exp...        True   \n86      {'': 'POST /xmlrpc/2/common HTTP/1.1\\r\\n', '_w...        True   \n188     {'pgsql.type': 'Simple query', 'pgsql.length':...        True   \n258     {'': 'HTTP/1.0 200 OK\\r\\n', '_ws.expert': 'Exp...        True   \n...                                                   ...         ...   \n224670  {'pgsql.type': 'Simple query', 'pgsql.length':...        True   \n224675  {'pgsql.type': 'Simple query', 'pgsql.length':...        True   \n224680  {'pgsql.type': 'Simple query', 'pgsql.length':...        True   \n224763  {'pgsql.type': 'Simple query', 'pgsql.length':...        True   \n224786  {'': 'HTTP/1.0 200 OK\\r\\n', '_ws.expert': 'Exp...        True   \n\n                                              pgsql.query  \\\n27                                                   None   \n82                                                   None   \n86                                                   None   \n188     INSERT INTO \"res_users_log\" (\"id\", \"create_uid...   \n258                                                  None   \n...                                                   ...   \n224670  INSERT INTO \"account_payment\" (\"id\", \"create_u...   \n224675  INSERT INTO \"mail_followers\" (\"id\", \"partner_i...   \n224680  INSERT INTO mail_followers_mail_message_subtyp...   \n224763  INSERT INTO \"mail_message\" (\"id\", \"create_uid\"...   \n224786                                               None   \n\n                                   pgsql.target  \n27                                         None  \n82                                         None  \n86                                         None  \n188                               res_users_log  \n258                                        None  \n...                                         ...  \n224670                          account_payment  \n224675                           mail_followers  \n224680  mail_followers_mail_message_subtype_rel  \n224763                             mail_message  \n224786                                     None  \n\n[3599 rows x 17 columns]",
      "text/html": "<div>\n<style scoped>\n    .dataframe tbody tr th:only-of-type {\n        vertical-align: middle;\n    }\n\n    .dataframe tbody tr th {\n        vertical-align: top;\n    }\n\n    .dataframe thead th {\n        text-align: right;\n    }\n</style>\n<table border=\"1\" class=\"dataframe\">\n  <thead>\n    <tr style=\"text-align: right;\">\n      <th></th>\n      <th>Unnamed: 0.1</th>\n      <th>Unnamed: 0</th>\n      <th>FileName</th>\n      <th>BusinessActivity</th>\n      <th>InstanceNumber</th>\n      <th>sniff_time</th>\n      <th>frame.number</th>\n      <th>synthetic_sniff_time</th>\n      <th>synthetic_sniff_time_str</th>\n      <th>session_generalized</th>\n      <th>HighestLayerProtocol</th>\n      <th>MessageType_WithRole</th>\n      <th>MessageType</th>\n      <th>MessageAttributes</th>\n      <th>keep_event</th>\n      <th>pgsql.query</th>\n      <th>pgsql.target</th>\n    </tr>\n  </thead>\n  <tbody>\n    <tr>\n      <th>27</th>\n      <td>27</td>\n      <td>29</td>\n      <td>async_2022_08_03-0336_10_cases_10_interval.pcap</td>\n      <td>order_to_cash_interleaved_10cases</td>\n      <td>2022</td>\n      <td>2022-08-03 13:36:21.687676</td>\n      <td>96</td>\n      <td>2022-08-04 21:07:16.297676</td>\n      <td>2022-08-04 21:07:16.297676</td>\n      <td>192.168.11.2-192.168.11.10 (1)</td>\n      <td>http</td>\n      <td>End Point (Employee)-&gt;Odoo Application:[HttpRe...</td>\n      <td>HttpRequest:POST /xmlrpc/2/common HTTP/1.1\\r\\n</td>\n      <td>{'': 'POST /xmlrpc/2/common HTTP/1.1\\r\\n', '_w...</td>\n      <td>True</td>\n      <td>None</td>\n      <td>None</td>\n    </tr>\n    <tr>\n      <th>82</th>\n      <td>82</td>\n      <td>90</td>\n      <td>async_2022_08_03-0336_10_cases_10_interval.pcap</td>\n      <td>order_to_cash_interleaved_10cases</td>\n      <td>2022</td>\n      <td>2022-08-03 13:36:21.958633</td>\n      <td>137</td>\n      <td>2022-08-04 21:52:26.138633</td>\n      <td>2022-08-04 21:52:26.138633</td>\n      <td>192.168.11.2-192.168.11.10 (1)</td>\n      <td>http</td>\n      <td>Odoo Application-&gt;End Point (Employee):[HttpRe...</td>\n      <td>HttpResponse:HTTP/1.0 200 OK\\r\\n</td>\n      <td>{'': 'HTTP/1.0 200 OK\\r\\n', '_ws.expert': 'Exp...</td>\n      <td>True</td>\n      <td>None</td>\n      <td>None</td>\n    </tr>\n    <tr>\n      <th>86</th>\n      <td>86</td>\n      <td>97</td>\n      <td>async_2022_08_03-0336_10_cases_10_interval.pcap</td>\n      <td>order_to_cash_interleaved_10cases</td>\n      <td>2022</td>\n      <td>2022-08-03 13:36:21.960536</td>\n      <td>145</td>\n      <td>2022-08-04 21:52:45.170536</td>\n      <td>2022-08-04 21:52:45.170536</td>\n      <td>192.168.11.2-192.168.11.10 (2)</td>\n      <td>http</td>\n      <td>End Point (Employee)-&gt;Odoo Application:[HttpRe...</td>\n      <td>HttpRequest:POST /xmlrpc/2/common HTTP/1.1\\r\\n</td>\n      <td>{'': 'POST /xmlrpc/2/common HTTP/1.1\\r\\n', '_w...</td>\n      <td>True</td>\n      <td>None</td>\n      <td>None</td>\n    </tr>\n    <tr>\n      <th>188</th>\n      <td>188</td>\n      <td>210</td>\n      <td>async_2022_08_03-0336_10_cases_10_interval.pcap</td>\n      <td>order_to_cash_interleaved_10cases</td>\n      <td>2022</td>\n      <td>2022-08-03 13:36:22.298610</td>\n      <td>209</td>\n      <td>2022-08-04 22:49:06.248610</td>\n      <td>2022-08-04 22:49:06.248610</td>\n      <td>192.168.11.1-192.168.11.2 (7)</td>\n      <td>pgsql</td>\n      <td>Odoo Application-&gt;db Server/Mail Server:[Pgsql...</td>\n      <td>PgsqlRequest:Simple query</td>\n      <td>{'pgsql.type': 'Simple query', 'pgsql.length':...</td>\n      <td>True</td>\n      <td>INSERT INTO \"res_users_log\" (\"id\", \"create_uid...</td>\n      <td>res_users_log</td>\n    </tr>\n    <tr>\n      <th>258</th>\n      <td>258</td>\n      <td>282</td>\n      <td>async_2022_08_03-0336_10_cases_10_interval.pcap</td>\n      <td>order_to_cash_interleaved_10cases</td>\n      <td>2022</td>\n      <td>2022-08-03 13:36:22.413521</td>\n      <td>232</td>\n      <td>2022-08-04 23:08:15.473521</td>\n      <td>2022-08-04 23:08:15.473521</td>\n      <td>192.168.11.2-192.168.11.10 (2)</td>\n      <td>http</td>\n      <td>Odoo Application-&gt;End Point (Employee):[HttpRe...</td>\n      <td>HttpResponse:HTTP/1.0 200 OK\\r\\n</td>\n      <td>{'': 'HTTP/1.0 200 OK\\r\\n', '_ws.expert': 'Exp...</td>\n      <td>True</td>\n      <td>None</td>\n      <td>None</td>\n    </tr>\n    <tr>\n      <th>...</th>\n      <td>...</td>\n      <td>...</td>\n      <td>...</td>\n      <td>...</td>\n      <td>...</td>\n      <td>...</td>\n      <td>...</td>\n      <td>...</td>\n      <td>...</td>\n      <td>...</td>\n      <td>...</td>\n      <td>...</td>\n      <td>...</td>\n      <td>...</td>\n      <td>...</td>\n      <td>...</td>\n      <td>...</td>\n    </tr>\n    <tr>\n      <th>224670</th>\n      <td>224670</td>\n      <td>234538</td>\n      <td>async_2022_08_03-0336_10_cases_10_interval.pcap</td>\n      <td>order_to_cash_interleaved_10cases</td>\n      <td>2022</td>\n      <td>2022-08-03 13:38:49.467434</td>\n      <td>112133</td>\n      <td>2022-08-21 23:39:41.657434</td>\n      <td>2022-08-21 23:39:41.657434</td>\n      <td>192.168.11.1-192.168.11.2 (4)</td>\n      <td>pgsql</td>\n      <td>Odoo Application-&gt;db Server/Mail Server:[Pgsql...</td>\n      <td>PgsqlRequest:Simple query</td>\n      <td>{'pgsql.type': 'Simple query', 'pgsql.length':...</td>\n      <td>True</td>\n      <td>INSERT INTO \"account_payment\" (\"id\", \"create_u...</td>\n      <td>account_payment</td>\n    </tr>\n    <tr>\n      <th>224675</th>\n      <td>224675</td>\n      <td>234543</td>\n      <td>async_2022_08_03-0336_10_cases_10_interval.pcap</td>\n      <td>order_to_cash_interleaved_10cases</td>\n      <td>2022</td>\n      <td>2022-08-03 13:38:49.471018</td>\n      <td>112135</td>\n      <td>2022-08-21 23:40:17.501018</td>\n      <td>2022-08-21 23:40:17.501018</td>\n      <td>192.168.11.1-192.168.11.2 (4)</td>\n      <td>pgsql</td>\n      <td>Odoo Application-&gt;db Server/Mail Server:[Pgsql...</td>\n      <td>PgsqlRequest:Simple query</td>\n      <td>{'pgsql.type': 'Simple query', 'pgsql.length':...</td>\n      <td>True</td>\n      <td>INSERT INTO \"mail_followers\" (\"id\", \"partner_i...</td>\n      <td>mail_followers</td>\n    </tr>\n    <tr>\n      <th>224680</th>\n      <td>224680</td>\n      <td>234548</td>\n      <td>async_2022_08_03-0336_10_cases_10_interval.pcap</td>\n      <td>order_to_cash_interleaved_10cases</td>\n      <td>2022</td>\n      <td>2022-08-03 13:38:49.471760</td>\n      <td>112137</td>\n      <td>2022-08-21 23:40:24.921760</td>\n      <td>2022-08-21 23:40:24.921760</td>\n      <td>192.168.11.1-192.168.11.2 (4)</td>\n      <td>pgsql</td>\n      <td>Odoo Application-&gt;db Server/Mail Server:[Pgsql...</td>\n      <td>PgsqlRequest:Simple query</td>\n      <td>{'pgsql.type': 'Simple query', 'pgsql.length':...</td>\n      <td>True</td>\n      <td>INSERT INTO mail_followers_mail_message_subtyp...</td>\n      <td>mail_followers_mail_message_subtype_rel</td>\n    </tr>\n    <tr>\n      <th>224763</th>\n      <td>224763</td>\n      <td>234635</td>\n      <td>async_2022_08_03-0336_10_cases_10_interval.pcap</td>\n      <td>order_to_cash_interleaved_10cases</td>\n      <td>2022</td>\n      <td>2022-08-03 13:38:49.487802</td>\n      <td>112175</td>\n      <td>2022-08-21 23:43:05.357802</td>\n      <td>2022-08-21 23:43:05.357802</td>\n      <td>192.168.11.1-192.168.11.2 (4)</td>\n      <td>pgsql</td>\n      <td>Odoo Application-&gt;db Server/Mail Server:[Pgsql...</td>\n      <td>PgsqlRequest:Simple query</td>\n      <td>{'pgsql.type': 'Simple query', 'pgsql.length':...</td>\n      <td>True</td>\n      <td>INSERT INTO \"mail_message\" (\"id\", \"create_uid\"...</td>\n      <td>mail_message</td>\n    </tr>\n    <tr>\n      <th>224786</th>\n      <td>224786</td>\n      <td>234659</td>\n      <td>async_2022_08_03-0336_10_cases_10_interval.pcap</td>\n      <td>order_to_cash_interleaved_10cases</td>\n      <td>2022</td>\n      <td>2022-08-03 13:38:49.497468</td>\n      <td>112188</td>\n      <td>2022-08-21 23:44:42.027468</td>\n      <td>2022-08-21 23:44:42.027468</td>\n      <td>192.168.11.2-192.168.11.21 (24)</td>\n      <td>http</td>\n      <td>Odoo Application-&gt;End Point (Finance):[HttpRes...</td>\n      <td>HttpResponse:HTTP/1.0 200 OK\\r\\n</td>\n      <td>{'': 'HTTP/1.0 200 OK\\r\\n', '_ws.expert': 'Exp...</td>\n      <td>True</td>\n      <td>None</td>\n      <td>None</td>\n    </tr>\n  </tbody>\n</table>\n<p>3599 rows × 17 columns</p>\n</div>"
     },
     "execution_count": 23,
     "metadata": {},
     "output_type": "execute_result"
    }
   ],
   "source": [
    "filtered_df"
   ],
   "metadata": {
    "collapsed": false,
    "ExecuteTime": {
     "end_time": "2024-02-05T09:45:50.761416Z",
     "start_time": "2024-02-05T09:45:50.756711Z"
    }
   },
   "id": "90714814135a32e9"
  },
  {
   "cell_type": "code",
   "execution_count": 24,
   "outputs": [
    {
     "data": {
      "text/plain": "keep_event\nFalse    221171\nTrue        118\nName: count, dtype: int64"
     },
     "execution_count": 24,
     "metadata": {},
     "output_type": "execute_result"
    }
   ],
   "source": [
    "dropped_values = df_r1.drop(filtered_df.index)\n",
    "dropped_values[\"keep_event\"].value_counts()"
   ],
   "metadata": {
    "collapsed": false,
    "ExecuteTime": {
     "end_time": "2024-02-05T09:45:50.846511Z",
     "start_time": "2024-02-05T09:45:50.760799Z"
    }
   },
   "id": "129037dd3d02be08"
  },
  {
   "cell_type": "markdown",
   "source": [
    "dropped values only contain False keep events. \n",
    "No keep events are kept in the by the filter"
   ],
   "metadata": {
    "collapsed": false
   },
   "id": "a04efda0ab60860e"
  },
  {
   "cell_type": "code",
   "execution_count": 25,
   "outputs": [
    {
     "data": {
      "text/plain": "keep_event\nTrue    3599\nName: count, dtype: int64"
     },
     "execution_count": 25,
     "metadata": {},
     "output_type": "execute_result"
    }
   ],
   "source": [
    "filtered_df[\"keep_event\"].value_counts()"
   ],
   "metadata": {
    "collapsed": false,
    "ExecuteTime": {
     "end_time": "2024-02-05T09:45:50.864272Z",
     "start_time": "2024-02-05T09:45:50.793089Z"
    }
   },
   "id": "1583a1efbe3fca36"
  },
  {
   "cell_type": "markdown",
   "source": [
    "all keep_events are included in the filtered Dataframe\n",
    "The 15 Update and Insert Events are also included. "
   ],
   "metadata": {
    "collapsed": false
   },
   "id": "c96dd7485597205d"
  },
  {
   "cell_type": "markdown",
   "source": [
    "## Feature Engineering\n",
    "**Goal**: Extract Features required for classification from raw message attributes that are available in R1 abstraction level\n",
    "**Evaluation**: Compare with R4 extracted features\n"
   ],
   "metadata": {
    "collapsed": false
   },
   "id": "7c4f20b6b693b4fc"
  },
  {
   "cell_type": "markdown",
   "source": [
    "### Prerequisites\n",
    "The following features are required for classification:\n",
    "\n",
    "event with roles\n",
    ": acb\n",
    "\n",
    "request method call\n",
    ": def\n",
    "\n",
    "selective_filter_data\n",
    ": cde\n",
    "\n",
    "origin_selective_filter_data\n",
    ": def\n"
   ],
   "metadata": {
    "collapsed": false
   },
   "id": "dd4e5f14bfebb06"
  },
  {
   "cell_type": "code",
   "execution_count": 26,
   "outputs": [],
   "source": [
    "# test with IL data \n",
    "\n",
    "df_r4 = pd.read_csv('../../data_v3/ptp_il_tagged.csv')\n",
    "df = filtered_df"
   ],
   "metadata": {
    "collapsed": false,
    "ExecuteTime": {
     "end_time": "2024-02-05T09:45:50.888338Z",
     "start_time": "2024-02-05T09:45:50.796773Z"
    }
   },
   "id": "ac3f09425cf5a12d"
  },
  {
   "cell_type": "markdown",
   "source": [
    "### Feature Extraction"
   ],
   "metadata": {
    "collapsed": false
   },
   "id": "b4cdd57028e78a74"
  },
  {
   "cell_type": "markdown",
   "source": [
    "#### Event with Roles\n",
    "Captures the involved roles as well as the event that takes place"
   ],
   "metadata": {
    "collapsed": false
   },
   "id": "a5d333126115d10e"
  },
  {
   "cell_type": "code",
   "execution_count": 27,
   "outputs": [],
   "source": [
    "# introduce isolated Role Column\n",
    "df[\"roles\"] = df[\"MessageType_WithRole\"].str.split(\":\").str[0]"
   ],
   "metadata": {
    "collapsed": false,
    "ExecuteTime": {
     "end_time": "2024-02-05T09:45:53.100056Z",
     "start_time": "2024-02-05T09:45:53.075713Z"
    }
   },
   "id": "1d6d8b8c91a317d7"
  },
  {
   "cell_type": "code",
   "execution_count": 28,
   "outputs": [],
   "source": [
    "\n",
    "\n",
    "\n",
    "def extract_pgsql_target(command):\n",
    "    \"\"\"\n",
    "    Extracts the target of the pgsql command. \n",
    "    :param command: pgsql query\n",
    "    :return: the target of the pgsql command. \n",
    "    \"\"\"\n",
    "    if command is not None:\n",
    "        match = re.search(r'(?:INSERT INTO|UPDATE)\\s+\"?([^\"\\s]+)', command)\n",
    "        return match.group(1) if match else None\n",
    "    return None\n",
    "\n",
    "\n",
    "# Extract first Keyword from Query\n",
    "df[\"pgsql.query_0\"] = df[\"pgsql.query\"].str.split(\" \").str[0]\n",
    "\n",
    "# Extract target from Query\n",
    "df[\"pgsql.target\"] = df['pgsql.query'].apply(extract_pgsql_target)"
   ],
   "metadata": {
    "collapsed": false,
    "ExecuteTime": {
     "end_time": "2024-02-05T09:45:53.110498Z",
     "start_time": "2024-02-05T09:45:53.098647Z"
    }
   },
   "id": "129cfc873d640989"
  },
  {
   "cell_type": "code",
   "execution_count": 29,
   "outputs": [],
   "source": [
    "def set_event_with_roles(row):\n",
    "    sep = \": \"\n",
    "    res = [row[\"MessageType_WithRole\"]]\n",
    "    if row[\"pgsql.query_0\"]:\n",
    "        res.append(row[\"pgsql.query_0\"])\n",
    "    if row[\"pgsql.target\"]:\n",
    "        res.append(row[\"pgsql.target\"])\n",
    "    return \": \".join(res)\n",
    "\n",
    "\n",
    "\n",
    "\n",
    "df[\"event_with_roles\"] = df.apply(set_event_with_roles, axis=1)"
   ],
   "metadata": {
    "collapsed": false,
    "ExecuteTime": {
     "end_time": "2024-02-05T09:45:53.155312Z",
     "start_time": "2024-02-05T09:45:53.109115Z"
    }
   },
   "id": "99b7942b006edcc6"
  },
  {
   "cell_type": "markdown",
   "source": [
    "#### HTTP Features\n",
    "extract additional features for HTTP requests"
   ],
   "metadata": {
    "collapsed": false
   },
   "id": "440e13f3d588ea7c"
  },
  {
   "cell_type": "code",
   "execution_count": 30,
   "outputs": [],
   "source": [
    "# Extract XML http file data from Message Attributes\n",
    "df[\"http_file_data\"] = df[\"MessageAttributes\"].apply(lambda x: x.get(\"http.file_data\", None))\n",
    "# Only for response packets: Specifies the request packet a response is referring to\n",
    "df[\"http_request_in\"] = df[\"MessageAttributes\"].apply(lambda x: x.get(\"http.request_in\", pd.NA)).astype(\"Int64\")"
   ],
   "metadata": {
    "collapsed": false,
    "ExecuteTime": {
     "end_time": "2024-02-05T09:45:53.666413Z",
     "start_time": "2024-02-05T09:45:53.647120Z"
    }
   },
   "id": "48b59d878911aa3"
  },
  {
   "cell_type": "code",
   "execution_count": 53,
   "outputs": [],
   "source": [
    "from lxml import etree\n",
    "\n",
    "#TODO Adjust\n",
    "setting = \"PTP\"\n",
    "\n",
    "\n",
    "def extract_http_file_data(data):\n",
    "    \n",
    "\n",
    "    if data is not None:\n",
    "        #print(content)\n",
    "        file_data = []\n",
    "        selective_file_data = None\n",
    "        method_call = None\n",
    "\n",
    "        content = data.replace(\"\\\\xa\", \"\")\n",
    "        root = etree.fromstring(content)\n",
    "\n",
    "        method_type = root.find(\".\").tag\n",
    "\n",
    "        # extract method call\n",
    "        if method_type == \"methodCall\":\n",
    "            method_name = root.find(\".//methodName\")\n",
    "            if method_name is not None:\n",
    "                method_call = method_name.text\n",
    "\n",
    "        elif method_type == \"methodResponse\":\n",
    "            method_call = \"response\"\n",
    "\n",
    "            # Extract parameters\n",
    "        params = root.find(\".//params\")\n",
    "        if params is not None:\n",
    "            file_data = root.find(\".//params\").xpath('.//text()')\n",
    "            # process data \n",
    "            if method_call == \"execute_kw\" or method_call == \"id\":\n",
    "                if 'salary_proposed' in file_data:\n",
    "                    selective_file_data = \"_\".join([*file_data[3:5], file_data[-2]])\n",
    "                elif 'search_read' in file_data:\n",
    "                    if setting == \"HR\":\n",
    "                        selective_file_data = \"_\".join([*file_data[3:5], file_data[-1]])\n",
    "                    else: \n",
    "                        selective_file_data = \"_\".join([*file_data[3:5]])\n",
    "                elif 'salary_expected' in file_data:\n",
    "                    selective_file_data = \"_\".join([*file_data[3:5], file_data[6]])\n",
    "                elif 'mail.activity' in file_data:\n",
    "                    selective_file_data = \"_\".join(file_data[3:5]) if 'action_done' in file_data else \"_\".join(\n",
    "                        [*file_data[3:5], file_data[-1]])\n",
    "                elif 'stage_id' in file_data:\n",
    "                    selective_file_data = \"_\".join([*file_data[3:5], *file_data[-2:]])\n",
    "                else:\n",
    "                    selective_file_data = \"_\".join(file_data[3:5])\n",
    "            elif method_call == \"response\":\n",
    "                method_call = file_data[0]\n",
    "                if method_call == \"id\":\n",
    "                    if 'name' in file_data: \n",
    "                        pass\n",
    "                    if 'salary_expected' in file_data: \n",
    "                        selective_file_data = \"salary_expected\"  \n",
    "                        \n",
    "                    else: \n",
    "                        selective_file_data = file_data[2]\n",
    "                    # if 'picking_ids' in file_data: \n",
    "                    #     selective_file_data = \"picking_ids\"\n",
    "                    # if 'move_line_ids' in file_data: \n",
    "                    #     selective_file_data = \"move_line_ids\"\n",
    "                    # if ''\n",
    "                elif method_call.isdigit():\n",
    "                    method_call = \"IsNumber\"\n",
    "                    selective_file_data = \"IsNumber\"\n",
    "                elif method_call == \"server_version\":\n",
    "                    selective_file_data = \"server_version\"\n",
    "                else:\n",
    "                    selective_file_data = \"_\".join(file_data[-2:])\n",
    "\n",
    "\n",
    "            elif method_call == \"version\":\n",
    "                selective_file_data = \"version\"\n",
    "\n",
    "        elif method_call == \"response\":\n",
    "            method_call = \"faultCode\"\n",
    "            selective_file_data = \"faultCode\"\n",
    "\n",
    "        return method_call, file_data, selective_file_data\n",
    "\n",
    "    return \"\",\"\",\"\"\n",
    "\n",
    "\n",
    "#df[[\"request_method_call\", \"file_data\", \"selective_file_data\"]] = df.apply(lambda x: extract_http_file_data(x[\"http_file_data\"]), axis=1,result_type=\"expand\")"
   ],
   "metadata": {
    "collapsed": false,
    "ExecuteTime": {
     "end_time": "2024-02-05T09:53:54.364028Z",
     "start_time": "2024-02-05T09:53:54.312761Z"
    }
   },
   "id": "8d69d2d0a48452a6"
  },
  {
   "cell_type": "code",
   "execution_count": 51,
   "outputs": [
    {
     "data": {
      "text/plain": "      Unnamed: 0.2  Unnamed: 0.1  Unnamed: 0  \\\n4                4             4           4   \n19              19            19          19   \n41              41            41          41   \n46              46            46          46   \n53              53            53          53   \n...            ...           ...         ...   \n3632          3632          3632        3632   \n3651          3651          3651        3651   \n3664          3664          3664        3664   \n3710          3710          3710        3710   \n3716          3716          3716        3716   \n\n                       BusinessActivity  InstanceNumber  \\\n4     order_to_cash_interleaved_10cases            2022   \n19    order_to_cash_interleaved_10cases            2022   \n41    order_to_cash_interleaved_10cases            2022   \n46    order_to_cash_interleaved_10cases            2022   \n53    order_to_cash_interleaved_10cases            2022   \n...                                 ...             ...   \n3632  order_to_cash_interleaved_10cases            2022   \n3651  order_to_cash_interleaved_10cases            2022   \n3664  order_to_cash_interleaved_10cases            2022   \n3710  order_to_cash_interleaved_10cases            2022   \n3716  order_to_cash_interleaved_10cases            2022   \n\n                      sniff_time  frame.number        synthetic_sniff_time  \\\n4     2022-08-03 13:36:22.413521           232  2022-08-04 23:08:15.473521   \n19    2022-08-03 13:36:23.562064           778  2022-08-05 02:19:42.052064   \n41    2022-08-03 13:36:24.112864          1322  2022-08-05 03:51:30.602864   \n46    2022-08-03 13:36:26.451943          1462  2022-08-05 10:21:23.731943   \n53    2022-08-03 13:36:26.669104          1658  2022-08-05 10:57:35.559104   \n...                          ...           ...                         ...   \n3632  2022-08-03 13:38:48.099459        109851  2022-08-21 19:51:40.539459   \n3651  2022-08-03 13:38:48.578463        110583  2022-08-21 21:11:31.058463   \n3664  2022-08-03 13:38:48.816709        110961  2022-08-21 21:51:13.756709   \n3710  2022-08-03 13:38:49.416259        112076  2022-08-21 23:31:09.856259   \n3716  2022-08-03 13:38:49.497468        112188  2022-08-21 23:44:42.027468   \n\n                                       event_with_roles request_method_call  \\\n4     Odoo Application->End Point (Employee): [HttpR...                   2   \n19    Odoo Application->End Point (Employee): [HttpR...                 375   \n41    Odoo Application->End Point (Employee): [HttpR...                 399   \n46    Odoo Application->End Point (Procurement): [Ht...                   2   \n53    Odoo Application->End Point (Procurement): [Ht...                 338   \n...                                                 ...                 ...   \n3632  Odoo Application->End Point (Finance): [HttpRe...                   2   \n3651  Odoo Application->End Point (Finance): [HttpRe...                 253   \n3664  Odoo Application->End Point (Finance): [HttpRe...                 257   \n3710  Odoo Application->End Point (Finance): [HttpRe...                   1   \n3716  Odoo Application->End Point (Finance): [HttpRe...                 246   \n\n      ... account_move_id stock_move_id group_id picking_id  invoice_id  \\\n4     ...             NaN           NaN      NaN        NaN         NaN   \n19    ...             NaN           NaN      NaN        NaN         NaN   \n41    ...             NaN           NaN      NaN        NaN         NaN   \n46    ...             NaN           NaN      NaN        NaN         NaN   \n53    ...             NaN           NaN      NaN        NaN         NaN   \n...   ...             ...           ...      ...        ...         ...   \n3632  ...             NaN           NaN      NaN        NaN         NaN   \n3651  ...             NaN           NaN      NaN        NaN         NaN   \n3664  ...             NaN           NaN      NaN        NaN         NaN   \n3710  ...             NaN           NaN      NaN        NaN         NaN   \n3716  ...             NaN           NaN      NaN        NaN         NaN   \n\n     stock_picking_id account_invoice_id  stock_move_line_id date  \\\n4                 NaN                NaN                 NaN  NaN   \n19                NaN                NaN                 NaN  NaN   \n41                NaN                NaN                 NaN  NaN   \n46                NaN                NaN                 NaN  NaN   \n53                NaN                NaN                 NaN  NaN   \n...               ...                ...                 ...  ...   \n3632              NaN                NaN                 NaN  NaN   \n3651              NaN                NaN                 NaN  NaN   \n3664              NaN                NaN                 NaN  NaN   \n3710              NaN                NaN                 NaN  NaN   \n3716              NaN                NaN                 NaN  NaN   \n\n     real_activity_action  \n4                NoAction  \n19               NoAction  \n41           Activity End  \n46               NoAction  \n53               NoAction  \n...                   ...  \n3632             NoAction  \n3651             NoAction  \n3664             NoAction  \n3710             NoAction  \n3716         Activity End  \n\n[262 rows x 62 columns]",
      "text/html": "<div>\n<style scoped>\n    .dataframe tbody tr th:only-of-type {\n        vertical-align: middle;\n    }\n\n    .dataframe tbody tr th {\n        vertical-align: top;\n    }\n\n    .dataframe thead th {\n        text-align: right;\n    }\n</style>\n<table border=\"1\" class=\"dataframe\">\n  <thead>\n    <tr style=\"text-align: right;\">\n      <th></th>\n      <th>Unnamed: 0.2</th>\n      <th>Unnamed: 0.1</th>\n      <th>Unnamed: 0</th>\n      <th>BusinessActivity</th>\n      <th>InstanceNumber</th>\n      <th>sniff_time</th>\n      <th>frame.number</th>\n      <th>synthetic_sniff_time</th>\n      <th>event_with_roles</th>\n      <th>request_method_call</th>\n      <th>...</th>\n      <th>account_move_id</th>\n      <th>stock_move_id</th>\n      <th>group_id</th>\n      <th>picking_id</th>\n      <th>invoice_id</th>\n      <th>stock_picking_id</th>\n      <th>account_invoice_id</th>\n      <th>stock_move_line_id</th>\n      <th>date</th>\n      <th>real_activity_action</th>\n    </tr>\n  </thead>\n  <tbody>\n    <tr>\n      <th>4</th>\n      <td>4</td>\n      <td>4</td>\n      <td>4</td>\n      <td>order_to_cash_interleaved_10cases</td>\n      <td>2022</td>\n      <td>2022-08-03 13:36:22.413521</td>\n      <td>232</td>\n      <td>2022-08-04 23:08:15.473521</td>\n      <td>Odoo Application-&gt;End Point (Employee): [HttpR...</td>\n      <td>2</td>\n      <td>...</td>\n      <td>NaN</td>\n      <td>NaN</td>\n      <td>NaN</td>\n      <td>NaN</td>\n      <td>NaN</td>\n      <td>NaN</td>\n      <td>NaN</td>\n      <td>NaN</td>\n      <td>NaN</td>\n      <td>NoAction</td>\n    </tr>\n    <tr>\n      <th>19</th>\n      <td>19</td>\n      <td>19</td>\n      <td>19</td>\n      <td>order_to_cash_interleaved_10cases</td>\n      <td>2022</td>\n      <td>2022-08-03 13:36:23.562064</td>\n      <td>778</td>\n      <td>2022-08-05 02:19:42.052064</td>\n      <td>Odoo Application-&gt;End Point (Employee): [HttpR...</td>\n      <td>375</td>\n      <td>...</td>\n      <td>NaN</td>\n      <td>NaN</td>\n      <td>NaN</td>\n      <td>NaN</td>\n      <td>NaN</td>\n      <td>NaN</td>\n      <td>NaN</td>\n      <td>NaN</td>\n      <td>NaN</td>\n      <td>NoAction</td>\n    </tr>\n    <tr>\n      <th>41</th>\n      <td>41</td>\n      <td>41</td>\n      <td>41</td>\n      <td>order_to_cash_interleaved_10cases</td>\n      <td>2022</td>\n      <td>2022-08-03 13:36:24.112864</td>\n      <td>1322</td>\n      <td>2022-08-05 03:51:30.602864</td>\n      <td>Odoo Application-&gt;End Point (Employee): [HttpR...</td>\n      <td>399</td>\n      <td>...</td>\n      <td>NaN</td>\n      <td>NaN</td>\n      <td>NaN</td>\n      <td>NaN</td>\n      <td>NaN</td>\n      <td>NaN</td>\n      <td>NaN</td>\n      <td>NaN</td>\n      <td>NaN</td>\n      <td>Activity End</td>\n    </tr>\n    <tr>\n      <th>46</th>\n      <td>46</td>\n      <td>46</td>\n      <td>46</td>\n      <td>order_to_cash_interleaved_10cases</td>\n      <td>2022</td>\n      <td>2022-08-03 13:36:26.451943</td>\n      <td>1462</td>\n      <td>2022-08-05 10:21:23.731943</td>\n      <td>Odoo Application-&gt;End Point (Procurement): [Ht...</td>\n      <td>2</td>\n      <td>...</td>\n      <td>NaN</td>\n      <td>NaN</td>\n      <td>NaN</td>\n      <td>NaN</td>\n      <td>NaN</td>\n      <td>NaN</td>\n      <td>NaN</td>\n      <td>NaN</td>\n      <td>NaN</td>\n      <td>NoAction</td>\n    </tr>\n    <tr>\n      <th>53</th>\n      <td>53</td>\n      <td>53</td>\n      <td>53</td>\n      <td>order_to_cash_interleaved_10cases</td>\n      <td>2022</td>\n      <td>2022-08-03 13:36:26.669104</td>\n      <td>1658</td>\n      <td>2022-08-05 10:57:35.559104</td>\n      <td>Odoo Application-&gt;End Point (Procurement): [Ht...</td>\n      <td>338</td>\n      <td>...</td>\n      <td>NaN</td>\n      <td>NaN</td>\n      <td>NaN</td>\n      <td>NaN</td>\n      <td>NaN</td>\n      <td>NaN</td>\n      <td>NaN</td>\n      <td>NaN</td>\n      <td>NaN</td>\n      <td>NoAction</td>\n    </tr>\n    <tr>\n      <th>...</th>\n      <td>...</td>\n      <td>...</td>\n      <td>...</td>\n      <td>...</td>\n      <td>...</td>\n      <td>...</td>\n      <td>...</td>\n      <td>...</td>\n      <td>...</td>\n      <td>...</td>\n      <td>...</td>\n      <td>...</td>\n      <td>...</td>\n      <td>...</td>\n      <td>...</td>\n      <td>...</td>\n      <td>...</td>\n      <td>...</td>\n      <td>...</td>\n      <td>...</td>\n      <td>...</td>\n    </tr>\n    <tr>\n      <th>3632</th>\n      <td>3632</td>\n      <td>3632</td>\n      <td>3632</td>\n      <td>order_to_cash_interleaved_10cases</td>\n      <td>2022</td>\n      <td>2022-08-03 13:38:48.099459</td>\n      <td>109851</td>\n      <td>2022-08-21 19:51:40.539459</td>\n      <td>Odoo Application-&gt;End Point (Finance): [HttpRe...</td>\n      <td>2</td>\n      <td>...</td>\n      <td>NaN</td>\n      <td>NaN</td>\n      <td>NaN</td>\n      <td>NaN</td>\n      <td>NaN</td>\n      <td>NaN</td>\n      <td>NaN</td>\n      <td>NaN</td>\n      <td>NaN</td>\n      <td>NoAction</td>\n    </tr>\n    <tr>\n      <th>3651</th>\n      <td>3651</td>\n      <td>3651</td>\n      <td>3651</td>\n      <td>order_to_cash_interleaved_10cases</td>\n      <td>2022</td>\n      <td>2022-08-03 13:38:48.578463</td>\n      <td>110583</td>\n      <td>2022-08-21 21:11:31.058463</td>\n      <td>Odoo Application-&gt;End Point (Finance): [HttpRe...</td>\n      <td>253</td>\n      <td>...</td>\n      <td>NaN</td>\n      <td>NaN</td>\n      <td>NaN</td>\n      <td>NaN</td>\n      <td>NaN</td>\n      <td>NaN</td>\n      <td>NaN</td>\n      <td>NaN</td>\n      <td>NaN</td>\n      <td>NoAction</td>\n    </tr>\n    <tr>\n      <th>3664</th>\n      <td>3664</td>\n      <td>3664</td>\n      <td>3664</td>\n      <td>order_to_cash_interleaved_10cases</td>\n      <td>2022</td>\n      <td>2022-08-03 13:38:48.816709</td>\n      <td>110961</td>\n      <td>2022-08-21 21:51:13.756709</td>\n      <td>Odoo Application-&gt;End Point (Finance): [HttpRe...</td>\n      <td>257</td>\n      <td>...</td>\n      <td>NaN</td>\n      <td>NaN</td>\n      <td>NaN</td>\n      <td>NaN</td>\n      <td>NaN</td>\n      <td>NaN</td>\n      <td>NaN</td>\n      <td>NaN</td>\n      <td>NaN</td>\n      <td>NoAction</td>\n    </tr>\n    <tr>\n      <th>3710</th>\n      <td>3710</td>\n      <td>3710</td>\n      <td>3710</td>\n      <td>order_to_cash_interleaved_10cases</td>\n      <td>2022</td>\n      <td>2022-08-03 13:38:49.416259</td>\n      <td>112076</td>\n      <td>2022-08-21 23:31:09.856259</td>\n      <td>Odoo Application-&gt;End Point (Finance): [HttpRe...</td>\n      <td>1</td>\n      <td>...</td>\n      <td>NaN</td>\n      <td>NaN</td>\n      <td>NaN</td>\n      <td>NaN</td>\n      <td>NaN</td>\n      <td>NaN</td>\n      <td>NaN</td>\n      <td>NaN</td>\n      <td>NaN</td>\n      <td>NoAction</td>\n    </tr>\n    <tr>\n      <th>3716</th>\n      <td>3716</td>\n      <td>3716</td>\n      <td>3716</td>\n      <td>order_to_cash_interleaved_10cases</td>\n      <td>2022</td>\n      <td>2022-08-03 13:38:49.497468</td>\n      <td>112188</td>\n      <td>2022-08-21 23:44:42.027468</td>\n      <td>Odoo Application-&gt;End Point (Finance): [HttpRe...</td>\n      <td>246</td>\n      <td>...</td>\n      <td>NaN</td>\n      <td>NaN</td>\n      <td>NaN</td>\n      <td>NaN</td>\n      <td>NaN</td>\n      <td>NaN</td>\n      <td>NaN</td>\n      <td>NaN</td>\n      <td>NaN</td>\n      <td>Activity End</td>\n    </tr>\n  </tbody>\n</table>\n<p>262 rows × 62 columns</p>\n</div>"
     },
     "execution_count": 51,
     "metadata": {},
     "output_type": "execute_result"
    }
   ],
   "source": [
    "df_r4[df_r4[\"request_method_call\"].fillna(\"\").str.isnumeric()]"
   ],
   "metadata": {
    "collapsed": false,
    "ExecuteTime": {
     "end_time": "2024-02-05T09:50:18.373444Z",
     "start_time": "2024-02-05T09:50:18.347409Z"
    }
   },
   "id": "7c9c17a397cdae9"
  },
  {
   "cell_type": "code",
   "execution_count": 52,
   "outputs": [
    {
     "data": {
      "text/plain": "event_with_roles                                                                                     request_method_call  file_data                                                                                               \nOdoo Application->db Server/Mail Server: [PgsqlRequest:Simple query:UPDATE:['purchase_order']]       NaN                  []                                                                                                          400\nOdoo Application->db Server/Mail Server: [PgsqlRequest:Simple query:INSERT:['mail_message']]         NaN                  []                                                                                                          315\nOdoo Application->db Server/Mail Server: [PgsqlRequest:Simple query:UPDATE:['purchase_order_line']]  NaN                  []                                                                                                          290\nOdoo Application->db Server/Mail Server: [PgsqlRequest:Simple query:UPDATE:['sale_order_line']]      NaN                  []                                                                                                          214\nOdoo Application->db Server/Mail Server: [PgsqlRequest:Simple query:UPDATE:['account_move_line']]    NaN                  []                                                                                                          136\n                                                                                                                                                                                                                                     ... \nEnd Point (Procurement)->Odoo Application: [HttpRequest:POST /xmlrpc/2/object HTTP/1.1\\r\\n]          execute_kw           ['execute_kw', 'odoo01', '2', 'PWD1234', 'purchase.requisition', 'write', '347', 'state', 'done']             1\n                                                                                                                          ['execute_kw', 'odoo01', '2', 'PWD1234', 'purchase.requisition', 'write', '346', 'state', 'open']             1\n                                                                                                                          ['execute_kw', 'odoo01', '2', 'PWD1234', 'purchase.requisition', 'write', '346', 'state', 'ongoing']          1\n                                                                                                                          ['execute_kw', 'odoo01', '2', 'PWD1234', 'purchase.requisition', 'write', '346', 'state', 'in_progress']      1\nEnd Point (Receive Goods)->Odoo Application: [HttpRequest:POST /xmlrpc/2/object HTTP/1.1\\r\\n]        execute_kw           ['execute_kw', 'odoo01', '2', 'PWD1234', 'stock.move.line', 'write', '268', 'qty_done', '3']                  1\nName: count, Length: 441, dtype: int64"
     },
     "execution_count": 52,
     "metadata": {},
     "output_type": "execute_result"
    }
   ],
   "source": [
    "df_r4[[\"event_with_roles\",\"request_method_call\",\"file_data\"]].value_counts(dropna=False)"
   ],
   "metadata": {
    "collapsed": false,
    "ExecuteTime": {
     "end_time": "2024-02-05T09:50:19.975649Z",
     "start_time": "2024-02-05T09:50:19.914123Z"
    }
   },
   "id": "af8b6726c70a53bf"
  },
  {
   "cell_type": "code",
   "execution_count": 36,
   "outputs": [],
   "source": [
    "# # repalce request method call number \n",
    "# def replace_numeric(value):\n",
    "#     return '' if pd.to_numeric(value, errors='coerce') == value else value\n",
    "# \n",
    "# \n",
    "# df[\"request_method_call\"][pd.notnull(pd.to_numeric(df[\"request_method_call\"], errors='coerce'))] = \"\""
   ],
   "metadata": {
    "collapsed": false,
    "ExecuteTime": {
     "end_time": "2024-02-05T09:46:20.266510Z",
     "start_time": "2024-02-05T09:46:20.213828Z"
    }
   },
   "id": "f5f4da2163df1fc2"
  },
  {
   "cell_type": "code",
   "execution_count": 37,
   "outputs": [],
   "source": [
    "def merge_origin_request(row, df):\n",
    "    if pd.notna(row[\"http_request_in\"]):\n",
    "        instance_number = row[\"InstanceNumber\"]\n",
    "        request_frame = row[\"http_request_in\"]\n",
    "        business_activity = row[\"BusinessActivity\"]\n",
    "        try:\n",
    "            row = df[(df[\"InstanceNumber\"] == instance_number) & (df[\"frame.number\"] == request_frame) & (\n",
    "                    df[\"BusinessActivity\"] == business_activity)].iloc[0]\n",
    "            selective_file_data = row[\"selective_file_data\"]\n",
    "            method_call = row[\"request_method_call\"]\n",
    "            return method_call, selective_file_data\n",
    "        except IndexError:\n",
    "            pass\n",
    "    return None, None\n",
    "\n",
    "\n",
    "#df[[\"origin_method\", \"origin_file_data\"]] = df.apply(merge_origin_request, axis=1, df=df, result_type=\"expand\").fillna(\"\")"
   ],
   "metadata": {
    "collapsed": false,
    "ExecuteTime": {
     "end_time": "2024-02-05T09:46:20.769100Z",
     "start_time": "2024-02-05T09:46:20.746254Z"
    }
   },
   "id": "521403a9f137157"
  },
  {
   "cell_type": "code",
   "execution_count": 38,
   "outputs": [
    {
     "data": {
      "text/plain": "        Unnamed: 0.1  Unnamed: 0  \\\n27                27          29   \n82                82          90   \n86                86          97   \n188              188         210   \n258              258         282   \n...              ...         ...   \n224670        224670      234538   \n224675        224675      234543   \n224680        224680      234548   \n224763        224763      234635   \n224786        224786      234659   \n\n                                               FileName  \\\n27      async_2022_08_03-0336_10_cases_10_interval.pcap   \n82      async_2022_08_03-0336_10_cases_10_interval.pcap   \n86      async_2022_08_03-0336_10_cases_10_interval.pcap   \n188     async_2022_08_03-0336_10_cases_10_interval.pcap   \n258     async_2022_08_03-0336_10_cases_10_interval.pcap   \n...                                                 ...   \n224670  async_2022_08_03-0336_10_cases_10_interval.pcap   \n224675  async_2022_08_03-0336_10_cases_10_interval.pcap   \n224680  async_2022_08_03-0336_10_cases_10_interval.pcap   \n224763  async_2022_08_03-0336_10_cases_10_interval.pcap   \n224786  async_2022_08_03-0336_10_cases_10_interval.pcap   \n\n                         BusinessActivity  InstanceNumber  \\\n27      order_to_cash_interleaved_10cases            2022   \n82      order_to_cash_interleaved_10cases            2022   \n86      order_to_cash_interleaved_10cases            2022   \n188     order_to_cash_interleaved_10cases            2022   \n258     order_to_cash_interleaved_10cases            2022   \n...                                   ...             ...   \n224670  order_to_cash_interleaved_10cases            2022   \n224675  order_to_cash_interleaved_10cases            2022   \n224680  order_to_cash_interleaved_10cases            2022   \n224763  order_to_cash_interleaved_10cases            2022   \n224786  order_to_cash_interleaved_10cases            2022   \n\n                        sniff_time  frame.number        synthetic_sniff_time  \\\n27      2022-08-03 13:36:21.687676            96  2022-08-04 21:07:16.297676   \n82      2022-08-03 13:36:21.958633           137  2022-08-04 21:52:26.138633   \n86      2022-08-03 13:36:21.960536           145  2022-08-04 21:52:45.170536   \n188     2022-08-03 13:36:22.298610           209  2022-08-04 22:49:06.248610   \n258     2022-08-03 13:36:22.413521           232  2022-08-04 23:08:15.473521   \n...                            ...           ...                         ...   \n224670  2022-08-03 13:38:49.467434        112133  2022-08-21 23:39:41.657434   \n224675  2022-08-03 13:38:49.471018        112135  2022-08-21 23:40:17.501018   \n224680  2022-08-03 13:38:49.471760        112137  2022-08-21 23:40:24.921760   \n224763  2022-08-03 13:38:49.487802        112175  2022-08-21 23:43:05.357802   \n224786  2022-08-03 13:38:49.497468        112188  2022-08-21 23:44:42.027468   \n\n          synthetic_sniff_time_str              session_generalized  ...  \\\n27      2022-08-04 21:07:16.297676   192.168.11.2-192.168.11.10 (1)  ...   \n82      2022-08-04 21:52:26.138633   192.168.11.2-192.168.11.10 (1)  ...   \n86      2022-08-04 21:52:45.170536   192.168.11.2-192.168.11.10 (2)  ...   \n188     2022-08-04 22:49:06.248610    192.168.11.1-192.168.11.2 (7)  ...   \n258     2022-08-04 23:08:15.473521   192.168.11.2-192.168.11.10 (2)  ...   \n...                            ...                              ...  ...   \n224670  2022-08-21 23:39:41.657434    192.168.11.1-192.168.11.2 (4)  ...   \n224675  2022-08-21 23:40:17.501018    192.168.11.1-192.168.11.2 (4)  ...   \n224680  2022-08-21 23:40:24.921760    192.168.11.1-192.168.11.2 (4)  ...   \n224763  2022-08-21 23:43:05.357802    192.168.11.1-192.168.11.2 (4)  ...   \n224786  2022-08-21 23:44:42.027468  192.168.11.2-192.168.11.21 (24)  ...   \n\n                                           MessageType  \\\n27      HttpRequest:POST /xmlrpc/2/common HTTP/1.1\\r\\n   \n82                    HttpResponse:HTTP/1.0 200 OK\\r\\n   \n86      HttpRequest:POST /xmlrpc/2/common HTTP/1.1\\r\\n   \n188                          PgsqlRequest:Simple query   \n258                   HttpResponse:HTTP/1.0 200 OK\\r\\n   \n...                                                ...   \n224670                       PgsqlRequest:Simple query   \n224675                       PgsqlRequest:Simple query   \n224680                       PgsqlRequest:Simple query   \n224763                       PgsqlRequest:Simple query   \n224786                HttpResponse:HTTP/1.0 200 OK\\r\\n   \n\n                                        MessageAttributes keep_event  \\\n27      {'': 'POST /xmlrpc/2/common HTTP/1.1\\r\\n', '_w...       True   \n82      {'': 'HTTP/1.0 200 OK\\r\\n', '_ws.expert': 'Exp...       True   \n86      {'': 'POST /xmlrpc/2/common HTTP/1.1\\r\\n', '_w...       True   \n188     {'pgsql.type': 'Simple query', 'pgsql.length':...       True   \n258     {'': 'HTTP/1.0 200 OK\\r\\n', '_ws.expert': 'Exp...       True   \n...                                                   ...        ...   \n224670  {'pgsql.type': 'Simple query', 'pgsql.length':...       True   \n224675  {'pgsql.type': 'Simple query', 'pgsql.length':...       True   \n224680  {'pgsql.type': 'Simple query', 'pgsql.length':...       True   \n224763  {'pgsql.type': 'Simple query', 'pgsql.length':...       True   \n224786  {'': 'HTTP/1.0 200 OK\\r\\n', '_ws.expert': 'Exp...       True   \n\n                                              pgsql.query  \\\n27                                                   None   \n82                                                   None   \n86                                                   None   \n188     INSERT INTO \"res_users_log\" (\"id\", \"create_uid...   \n258                                                  None   \n...                                                   ...   \n224670  INSERT INTO \"account_payment\" (\"id\", \"create_u...   \n224675  INSERT INTO \"mail_followers\" (\"id\", \"partner_i...   \n224680  INSERT INTO mail_followers_mail_message_subtyp...   \n224763  INSERT INTO \"mail_message\" (\"id\", \"create_uid\"...   \n224786                                               None   \n\n                                   pgsql.target  \\\n27                                         None   \n82                                         None   \n86                                         None   \n188                               res_users_log   \n258                                        None   \n...                                         ...   \n224670                          account_payment   \n224675                           mail_followers   \n224680  mail_followers_mail_message_subtype_rel   \n224763                             mail_message   \n224786                                     None   \n\n                                          roles pgsql.query_0  \\\n27       End Point (Employee)->Odoo Application          None   \n82       Odoo Application->End Point (Employee)          None   \n86       End Point (Employee)->Odoo Application          None   \n188     Odoo Application->db Server/Mail Server        INSERT   \n258      Odoo Application->End Point (Employee)          None   \n...                                         ...           ...   \n224670  Odoo Application->db Server/Mail Server        INSERT   \n224675  Odoo Application->db Server/Mail Server        INSERT   \n224680  Odoo Application->db Server/Mail Server        INSERT   \n224763  Odoo Application->db Server/Mail Server        INSERT   \n224786    Odoo Application->End Point (Finance)          None   \n\n                                         event_with_roles  \\\n27      End Point (Employee)->Odoo Application:[HttpRe...   \n82      Odoo Application->End Point (Employee):[HttpRe...   \n86      End Point (Employee)->Odoo Application:[HttpRe...   \n188     Odoo Application->db Server/Mail Server:[Pgsql...   \n258     Odoo Application->End Point (Employee):[HttpRe...   \n...                                                   ...   \n224670  Odoo Application->db Server/Mail Server:[Pgsql...   \n224675  Odoo Application->db Server/Mail Server:[Pgsql...   \n224680  Odoo Application->db Server/Mail Server:[Pgsql...   \n224763  Odoo Application->db Server/Mail Server:[Pgsql...   \n224786  Odoo Application->End Point (Finance):[HttpRes...   \n\n                                           http_file_data http_request_in  \n27      <?xml version='1.0'?>\\xa<methodCall>\\xa<method...            <NA>  \n82      <?xml version='1.0'?>\\xa<methodResponse>\\xa<pa...              96  \n86      <?xml version='1.0'?>\\xa<methodCall>\\xa<method...            <NA>  \n188                                                  None            <NA>  \n258     <?xml version='1.0'?>\\xa<methodResponse>\\xa<pa...             145  \n...                                                   ...             ...  \n224670                                               None            <NA>  \n224675                                               None            <NA>  \n224680                                               None            <NA>  \n224763                                               None            <NA>  \n224786  <?xml version='1.0'?>\\xa<methodResponse>\\xa<pa...          112084  \n\n[3599 rows x 22 columns]",
      "text/html": "<div>\n<style scoped>\n    .dataframe tbody tr th:only-of-type {\n        vertical-align: middle;\n    }\n\n    .dataframe tbody tr th {\n        vertical-align: top;\n    }\n\n    .dataframe thead th {\n        text-align: right;\n    }\n</style>\n<table border=\"1\" class=\"dataframe\">\n  <thead>\n    <tr style=\"text-align: right;\">\n      <th></th>\n      <th>Unnamed: 0.1</th>\n      <th>Unnamed: 0</th>\n      <th>FileName</th>\n      <th>BusinessActivity</th>\n      <th>InstanceNumber</th>\n      <th>sniff_time</th>\n      <th>frame.number</th>\n      <th>synthetic_sniff_time</th>\n      <th>synthetic_sniff_time_str</th>\n      <th>session_generalized</th>\n      <th>...</th>\n      <th>MessageType</th>\n      <th>MessageAttributes</th>\n      <th>keep_event</th>\n      <th>pgsql.query</th>\n      <th>pgsql.target</th>\n      <th>roles</th>\n      <th>pgsql.query_0</th>\n      <th>event_with_roles</th>\n      <th>http_file_data</th>\n      <th>http_request_in</th>\n    </tr>\n  </thead>\n  <tbody>\n    <tr>\n      <th>27</th>\n      <td>27</td>\n      <td>29</td>\n      <td>async_2022_08_03-0336_10_cases_10_interval.pcap</td>\n      <td>order_to_cash_interleaved_10cases</td>\n      <td>2022</td>\n      <td>2022-08-03 13:36:21.687676</td>\n      <td>96</td>\n      <td>2022-08-04 21:07:16.297676</td>\n      <td>2022-08-04 21:07:16.297676</td>\n      <td>192.168.11.2-192.168.11.10 (1)</td>\n      <td>...</td>\n      <td>HttpRequest:POST /xmlrpc/2/common HTTP/1.1\\r\\n</td>\n      <td>{'': 'POST /xmlrpc/2/common HTTP/1.1\\r\\n', '_w...</td>\n      <td>True</td>\n      <td>None</td>\n      <td>None</td>\n      <td>End Point (Employee)-&gt;Odoo Application</td>\n      <td>None</td>\n      <td>End Point (Employee)-&gt;Odoo Application:[HttpRe...</td>\n      <td>&lt;?xml version='1.0'?&gt;\\xa&lt;methodCall&gt;\\xa&lt;method...</td>\n      <td>&lt;NA&gt;</td>\n    </tr>\n    <tr>\n      <th>82</th>\n      <td>82</td>\n      <td>90</td>\n      <td>async_2022_08_03-0336_10_cases_10_interval.pcap</td>\n      <td>order_to_cash_interleaved_10cases</td>\n      <td>2022</td>\n      <td>2022-08-03 13:36:21.958633</td>\n      <td>137</td>\n      <td>2022-08-04 21:52:26.138633</td>\n      <td>2022-08-04 21:52:26.138633</td>\n      <td>192.168.11.2-192.168.11.10 (1)</td>\n      <td>...</td>\n      <td>HttpResponse:HTTP/1.0 200 OK\\r\\n</td>\n      <td>{'': 'HTTP/1.0 200 OK\\r\\n', '_ws.expert': 'Exp...</td>\n      <td>True</td>\n      <td>None</td>\n      <td>None</td>\n      <td>Odoo Application-&gt;End Point (Employee)</td>\n      <td>None</td>\n      <td>Odoo Application-&gt;End Point (Employee):[HttpRe...</td>\n      <td>&lt;?xml version='1.0'?&gt;\\xa&lt;methodResponse&gt;\\xa&lt;pa...</td>\n      <td>96</td>\n    </tr>\n    <tr>\n      <th>86</th>\n      <td>86</td>\n      <td>97</td>\n      <td>async_2022_08_03-0336_10_cases_10_interval.pcap</td>\n      <td>order_to_cash_interleaved_10cases</td>\n      <td>2022</td>\n      <td>2022-08-03 13:36:21.960536</td>\n      <td>145</td>\n      <td>2022-08-04 21:52:45.170536</td>\n      <td>2022-08-04 21:52:45.170536</td>\n      <td>192.168.11.2-192.168.11.10 (2)</td>\n      <td>...</td>\n      <td>HttpRequest:POST /xmlrpc/2/common HTTP/1.1\\r\\n</td>\n      <td>{'': 'POST /xmlrpc/2/common HTTP/1.1\\r\\n', '_w...</td>\n      <td>True</td>\n      <td>None</td>\n      <td>None</td>\n      <td>End Point (Employee)-&gt;Odoo Application</td>\n      <td>None</td>\n      <td>End Point (Employee)-&gt;Odoo Application:[HttpRe...</td>\n      <td>&lt;?xml version='1.0'?&gt;\\xa&lt;methodCall&gt;\\xa&lt;method...</td>\n      <td>&lt;NA&gt;</td>\n    </tr>\n    <tr>\n      <th>188</th>\n      <td>188</td>\n      <td>210</td>\n      <td>async_2022_08_03-0336_10_cases_10_interval.pcap</td>\n      <td>order_to_cash_interleaved_10cases</td>\n      <td>2022</td>\n      <td>2022-08-03 13:36:22.298610</td>\n      <td>209</td>\n      <td>2022-08-04 22:49:06.248610</td>\n      <td>2022-08-04 22:49:06.248610</td>\n      <td>192.168.11.1-192.168.11.2 (7)</td>\n      <td>...</td>\n      <td>PgsqlRequest:Simple query</td>\n      <td>{'pgsql.type': 'Simple query', 'pgsql.length':...</td>\n      <td>True</td>\n      <td>INSERT INTO \"res_users_log\" (\"id\", \"create_uid...</td>\n      <td>res_users_log</td>\n      <td>Odoo Application-&gt;db Server/Mail Server</td>\n      <td>INSERT</td>\n      <td>Odoo Application-&gt;db Server/Mail Server:[Pgsql...</td>\n      <td>None</td>\n      <td>&lt;NA&gt;</td>\n    </tr>\n    <tr>\n      <th>258</th>\n      <td>258</td>\n      <td>282</td>\n      <td>async_2022_08_03-0336_10_cases_10_interval.pcap</td>\n      <td>order_to_cash_interleaved_10cases</td>\n      <td>2022</td>\n      <td>2022-08-03 13:36:22.413521</td>\n      <td>232</td>\n      <td>2022-08-04 23:08:15.473521</td>\n      <td>2022-08-04 23:08:15.473521</td>\n      <td>192.168.11.2-192.168.11.10 (2)</td>\n      <td>...</td>\n      <td>HttpResponse:HTTP/1.0 200 OK\\r\\n</td>\n      <td>{'': 'HTTP/1.0 200 OK\\r\\n', '_ws.expert': 'Exp...</td>\n      <td>True</td>\n      <td>None</td>\n      <td>None</td>\n      <td>Odoo Application-&gt;End Point (Employee)</td>\n      <td>None</td>\n      <td>Odoo Application-&gt;End Point (Employee):[HttpRe...</td>\n      <td>&lt;?xml version='1.0'?&gt;\\xa&lt;methodResponse&gt;\\xa&lt;pa...</td>\n      <td>145</td>\n    </tr>\n    <tr>\n      <th>...</th>\n      <td>...</td>\n      <td>...</td>\n      <td>...</td>\n      <td>...</td>\n      <td>...</td>\n      <td>...</td>\n      <td>...</td>\n      <td>...</td>\n      <td>...</td>\n      <td>...</td>\n      <td>...</td>\n      <td>...</td>\n      <td>...</td>\n      <td>...</td>\n      <td>...</td>\n      <td>...</td>\n      <td>...</td>\n      <td>...</td>\n      <td>...</td>\n      <td>...</td>\n      <td>...</td>\n    </tr>\n    <tr>\n      <th>224670</th>\n      <td>224670</td>\n      <td>234538</td>\n      <td>async_2022_08_03-0336_10_cases_10_interval.pcap</td>\n      <td>order_to_cash_interleaved_10cases</td>\n      <td>2022</td>\n      <td>2022-08-03 13:38:49.467434</td>\n      <td>112133</td>\n      <td>2022-08-21 23:39:41.657434</td>\n      <td>2022-08-21 23:39:41.657434</td>\n      <td>192.168.11.1-192.168.11.2 (4)</td>\n      <td>...</td>\n      <td>PgsqlRequest:Simple query</td>\n      <td>{'pgsql.type': 'Simple query', 'pgsql.length':...</td>\n      <td>True</td>\n      <td>INSERT INTO \"account_payment\" (\"id\", \"create_u...</td>\n      <td>account_payment</td>\n      <td>Odoo Application-&gt;db Server/Mail Server</td>\n      <td>INSERT</td>\n      <td>Odoo Application-&gt;db Server/Mail Server:[Pgsql...</td>\n      <td>None</td>\n      <td>&lt;NA&gt;</td>\n    </tr>\n    <tr>\n      <th>224675</th>\n      <td>224675</td>\n      <td>234543</td>\n      <td>async_2022_08_03-0336_10_cases_10_interval.pcap</td>\n      <td>order_to_cash_interleaved_10cases</td>\n      <td>2022</td>\n      <td>2022-08-03 13:38:49.471018</td>\n      <td>112135</td>\n      <td>2022-08-21 23:40:17.501018</td>\n      <td>2022-08-21 23:40:17.501018</td>\n      <td>192.168.11.1-192.168.11.2 (4)</td>\n      <td>...</td>\n      <td>PgsqlRequest:Simple query</td>\n      <td>{'pgsql.type': 'Simple query', 'pgsql.length':...</td>\n      <td>True</td>\n      <td>INSERT INTO \"mail_followers\" (\"id\", \"partner_i...</td>\n      <td>mail_followers</td>\n      <td>Odoo Application-&gt;db Server/Mail Server</td>\n      <td>INSERT</td>\n      <td>Odoo Application-&gt;db Server/Mail Server:[Pgsql...</td>\n      <td>None</td>\n      <td>&lt;NA&gt;</td>\n    </tr>\n    <tr>\n      <th>224680</th>\n      <td>224680</td>\n      <td>234548</td>\n      <td>async_2022_08_03-0336_10_cases_10_interval.pcap</td>\n      <td>order_to_cash_interleaved_10cases</td>\n      <td>2022</td>\n      <td>2022-08-03 13:38:49.471760</td>\n      <td>112137</td>\n      <td>2022-08-21 23:40:24.921760</td>\n      <td>2022-08-21 23:40:24.921760</td>\n      <td>192.168.11.1-192.168.11.2 (4)</td>\n      <td>...</td>\n      <td>PgsqlRequest:Simple query</td>\n      <td>{'pgsql.type': 'Simple query', 'pgsql.length':...</td>\n      <td>True</td>\n      <td>INSERT INTO mail_followers_mail_message_subtyp...</td>\n      <td>mail_followers_mail_message_subtype_rel</td>\n      <td>Odoo Application-&gt;db Server/Mail Server</td>\n      <td>INSERT</td>\n      <td>Odoo Application-&gt;db Server/Mail Server:[Pgsql...</td>\n      <td>None</td>\n      <td>&lt;NA&gt;</td>\n    </tr>\n    <tr>\n      <th>224763</th>\n      <td>224763</td>\n      <td>234635</td>\n      <td>async_2022_08_03-0336_10_cases_10_interval.pcap</td>\n      <td>order_to_cash_interleaved_10cases</td>\n      <td>2022</td>\n      <td>2022-08-03 13:38:49.487802</td>\n      <td>112175</td>\n      <td>2022-08-21 23:43:05.357802</td>\n      <td>2022-08-21 23:43:05.357802</td>\n      <td>192.168.11.1-192.168.11.2 (4)</td>\n      <td>...</td>\n      <td>PgsqlRequest:Simple query</td>\n      <td>{'pgsql.type': 'Simple query', 'pgsql.length':...</td>\n      <td>True</td>\n      <td>INSERT INTO \"mail_message\" (\"id\", \"create_uid\"...</td>\n      <td>mail_message</td>\n      <td>Odoo Application-&gt;db Server/Mail Server</td>\n      <td>INSERT</td>\n      <td>Odoo Application-&gt;db Server/Mail Server:[Pgsql...</td>\n      <td>None</td>\n      <td>&lt;NA&gt;</td>\n    </tr>\n    <tr>\n      <th>224786</th>\n      <td>224786</td>\n      <td>234659</td>\n      <td>async_2022_08_03-0336_10_cases_10_interval.pcap</td>\n      <td>order_to_cash_interleaved_10cases</td>\n      <td>2022</td>\n      <td>2022-08-03 13:38:49.497468</td>\n      <td>112188</td>\n      <td>2022-08-21 23:44:42.027468</td>\n      <td>2022-08-21 23:44:42.027468</td>\n      <td>192.168.11.2-192.168.11.21 (24)</td>\n      <td>...</td>\n      <td>HttpResponse:HTTP/1.0 200 OK\\r\\n</td>\n      <td>{'': 'HTTP/1.0 200 OK\\r\\n', '_ws.expert': 'Exp...</td>\n      <td>True</td>\n      <td>None</td>\n      <td>None</td>\n      <td>Odoo Application-&gt;End Point (Finance)</td>\n      <td>None</td>\n      <td>Odoo Application-&gt;End Point (Finance):[HttpRes...</td>\n      <td>&lt;?xml version='1.0'?&gt;\\xa&lt;methodResponse&gt;\\xa&lt;pa...</td>\n      <td>112084</td>\n    </tr>\n  </tbody>\n</table>\n<p>3599 rows × 22 columns</p>\n</div>"
     },
     "execution_count": 38,
     "metadata": {},
     "output_type": "execute_result"
    }
   ],
   "source": [
    "df"
   ],
   "metadata": {
    "collapsed": false,
    "ExecuteTime": {
     "end_time": "2024-02-05T09:46:21.094065Z",
     "start_time": "2024-02-05T09:46:21.078741Z"
    }
   },
   "id": "adbd99fd31b32c97"
  },
  {
   "cell_type": "markdown",
   "source": [
    "## Complete Pipeline"
   ],
   "metadata": {
    "collapsed": false
   },
   "id": "1ed791d8087979c7"
  },
  {
   "cell_type": "code",
   "execution_count": 39,
   "outputs": [],
   "source": [
    "# test with IL data \n",
    "\n",
    "#df_r4 = pd.read_csv('../../data_v3/hr_il_tagged.csv')\n",
    "df_r1_HR = pd.read_csv('../../data/HR-INTERLEAVED/R1/R1.csv', converters={\"MessageAttributes\": ast.literal_eval})"
   ],
   "metadata": {
    "collapsed": false,
    "ExecuteTime": {
     "end_time": "2024-02-05T09:46:24.585224Z",
     "start_time": "2024-02-05T09:46:23.328929Z"
    }
   },
   "id": "ba41ba6904ee5479"
  },
  {
   "cell_type": "code",
   "execution_count": 40,
   "outputs": [],
   "source": [
    "# test with IL data \n",
    "df_train_in = pd.read_csv('../../data/VALID/R1/R1.csv', converters={\"MessageAttributes\": ast.literal_eval})\n",
    "df_r4 = pd.read_csv('../../data_v3/ptp_il_tagged.csv')\n",
    "df_r1 = pd.read_csv('../../data/PTP-INTERLEAVED/R1/R1.csv', converters={\"MessageAttributes\": ast.literal_eval})"
   ],
   "metadata": {
    "collapsed": false,
    "ExecuteTime": {
     "end_time": "2024-02-05T09:47:40.832764Z",
     "start_time": "2024-02-05T09:46:24.586722Z"
    }
   },
   "id": "d259fc35bd91d219"
  },
  {
   "cell_type": "code",
   "execution_count": 41,
   "outputs": [],
   "source": [
    "# mark keep events for evaluation\n",
    "df_r1[\"keep_event\"] = df_r1[\"frame.number\"].isin(df_r4[\"frame.number\"])"
   ],
   "metadata": {
    "collapsed": false,
    "ExecuteTime": {
     "end_time": "2024-02-05T09:47:40.838698Z",
     "start_time": "2024-02-05T09:47:40.830116Z"
    }
   },
   "id": "18f11214c718db28"
  },
  {
   "cell_type": "code",
   "execution_count": 42,
   "outputs": [],
   "source": [
    "import re\n",
    "\n",
    "\n",
    "def apply_filter(df):\n",
    "    #1 preprocess\n",
    "    df[\"pgsql.query\"] = df[\"MessageAttributes\"].apply(lambda x: x.get(\"pgsql.query\")).str.strip(' \\\\xa')\n",
    "    \n",
    "    df[\"pgsql.target\"] = df[\"pgsql.query\"].apply(extract_pgsql_target)\n",
    "\n",
    "    #2 filter by message type\n",
    "    # Message Types to keep\n",
    "    message_type_filter = {\n",
    "        \"HttpRequest:POST /xmlrpc/2/common HTTP/1.1\\\\r\\\\n\",\n",
    "        \"HttpRequest:POST /xmlrpc/2/object HTTP/1.1\\\\r\\\\n\",\n",
    "        \"HttpResponse:HTTP/1.0 200 OK\\\\r\\\\n\",\n",
    "        \"SmtpReassembledMessage\",\n",
    "        \"PgsqlRequest:Simple query\",\n",
    "    }\n",
    "    df = df[df[\"MessageType\"].isin(message_type_filter)]\n",
    "\n",
    "    #3 keep PGSQL query that are either UPDATE or INSERT\n",
    "    df = df[df['pgsql.query'].apply(lambda x: str(x).startswith(('UPDATE', 'INSERT')) if x is not None else True)]\n",
    "    \n",
    "    # Extra Step for Email PTP Filtering\n",
    "    #df = df[~df[\"pgsql.target\"].isin([\"mail_tracking_value\", \"fetchmail_server\", \"ir_cron\", \"ir_config_parameter\"]) ]\n",
    "    df = df[~df[\"pgsql.target\"].isin([\"fetchmail_server\", \"ir_cron\", \"ir_config_parameter\"]) ]\n",
    "\n",
    "    return df\n",
    "\n",
    "\n",
    "def extract_features(df):\n",
    "    df[\"pgsql.query\"] = df[\"MessageAttributes\"].apply(lambda x: x.get(\"pgsql.query\")).str.strip(' \\\\xa')\n",
    "\n",
    "    # event with roles feature \n",
    "    df[\"roles\"] = df[\"MessageType_WithRole\"].str.split(\":\").str[0]\n",
    "\n",
    "    # Extract first Keyword from Query\n",
    "    df[\"pgsql.query_0\"] = df[\"pgsql.query\"].str.split(\" \").str[0]\n",
    "\n",
    "    # Extract target from Query\n",
    "    df[\"pgsql.target\"] = df['pgsql.query'].apply(extract_pgsql_target)\n",
    "\n",
    "    # Build Event with roles feature\n",
    "    df[\"event_with_roles\"] = df.apply(set_event_with_roles, axis=1)\n",
    "\n",
    "    # Extract XML http file data from Message Attributes\n",
    "    df[\"http_file_data\"] = df[\"MessageAttributes\"].apply(lambda x: x.get(\"http.file_data\", None))\n",
    "    # Only for response packets: Specifies the request packet a response is referring to\n",
    "    df[\"http_request_in\"] = df[\"MessageAttributes\"].apply(lambda x: x.get(\"http.request_in\", pd.NA)).astype(\"Int64\")\n",
    "\n",
    "    # Extract HTTP Features\n",
    "    df[[\"request_method_call\", \"file_data\", \"selective_file_data\"]] = df.apply(lambda x: extract_http_file_data(x[\"http_file_data\"]), axis=1,\n",
    "                                                                               result_type=\"expand\")\n",
    "\n",
    "    #df[\"request_method_call\"][pd.notnull(pd.to_numeric(df[\"request_method_call\"], errors='coerce'))] = \"\"\n",
    "\n",
    "    # Map Origin Requests\n",
    "    df[[\"origin_method\", \"origin_file_data\"]] = df.apply(merge_origin_request, axis=1, df=df,\n",
    "                                                         result_type=\"expand\").fillna(\"\")\n",
    "\n",
    "    # only keep necessary fields \n",
    "\n",
    "    cols = [\"BusinessActivity\",\n",
    "            \"InstanceNumber\",\n",
    "            \"frame.number\",\n",
    "            \"synthetic_sniff_time\",\n",
    "            \"event_with_roles\",\n",
    "            \"request_method_call\",\n",
    "            \"file_data\",\n",
    "            \"selective_file_data\",\n",
    "            \"origin_method\",\n",
    "            \"origin_file_data\"]\n",
    "\n",
    "    return df[cols].fillna(\"\")\n",
    "\n",
    "\n",
    "def pre_process(df):\n",
    "    df = apply_filter(df)\n",
    "    df = extract_features(df)\n",
    "\n",
    "    return df\n"
   ],
   "metadata": {
    "collapsed": false,
    "ExecuteTime": {
     "end_time": "2024-02-05T09:47:40.899315Z",
     "start_time": "2024-02-05T09:47:40.864553Z"
    }
   },
   "id": "384197cf8f4c860a"
  },
  {
   "cell_type": "code",
   "execution_count": 43,
   "outputs": [
    {
     "name": "stdout",
     "output_type": "stream",
     "text": [
      "['odoo01', '2', 'PWD1234', 'sale.order', 'create', 'partner_id', '1', 'partner_invoice_id', '1', 'partner_shipping_id', '1']\n",
      "['odoo01', '2', 'PWD1234', 'sale.order.line', 'create', 'order_id', '375', 'product_id', '6', 'name', 'Office Lamp', 'product_uom_qty', '3', 'price_unit', '2']\n",
      "['odoo01', '2', 'PWD1234', 'purchase.requisition', 'create', 'name', 'Office Lamp_375', 'type_id', '2']\n",
      "['odoo01', '2', 'PWD1234', 'purchase.requisition.line', 'create', 'requisition_id', '338', 'product_id', '6', 'product_qty', '3', 'price_unit', '2']\n",
      "['odoo01', '2', 'PWD1234', 'purchase.requisition', 'write', '338', 'state', 'ongoing']\n",
      "['odoo01', '2', 'PWD1234', 'sale.order', 'create', 'partner_id', '1', 'partner_invoice_id', '1', 'partner_shipping_id', '1']\n",
      "['odoo01', '2', 'PWD1234', 'sale.order.line', 'create', 'order_id', '376', 'product_id', '16', 'name', 'Storage Box', 'product_uom_qty', '3', 'price_unit', '3']\n",
      "['odoo01', '2', 'PWD1234', 'purchase.order', 'create', 'partner_id', '1243', 'requisition_id', '338']\n",
      "['odoo01', '2', 'PWD1234', 'purchase.requisition', 'create', 'name', 'Storage Box_376', 'type_id', '2']\n",
      "['odoo01', '2', 'PWD1234', 'purchase.requisition.line', 'create', 'requisition_id', '339', 'product_id', '16', 'product_qty', '3', 'price_unit', '3']\n",
      "['odoo01', '2', 'PWD1234', 'purchase.requisition', 'write', '339', 'state', 'ongoing']\n",
      "['odoo01', '2', 'PWD1234', 'purchase.order.line', 'create', 'order_id', '978', 'product_uom', '1', 'product_id', '6', 'name', 'Office Lamp', 'product_qty', '3', 'date_planned', '2022-08-03 05:36:34.400530', 'price_unit', '2']\n",
      "['odoo01', '2', 'PWD1234', 'purchase.order', 'create', 'partner_id', '1220', 'requisition_id', '338']\n",
      "['odoo01', '2', 'PWD1234', 'purchase.order', 'create', 'partner_id', '1219', 'requisition_id', '339']\n",
      "['odoo01', '2', 'PWD1234', 'sale.order', 'create', 'partner_id', '1', 'partner_invoice_id', '1', 'partner_shipping_id', '1']\n",
      "['odoo01', '2', 'PWD1234', 'sale.order.line', 'create', 'order_id', '377', 'product_id', '8', 'name', 'Desk Combination', 'product_uom_qty', '2', 'price_unit', '1']\n",
      "['odoo01', '2', 'PWD1234', 'purchase.order.line', 'create', 'order_id', '979', 'product_uom', '1', 'product_id', '6', 'name', 'Office Lamp', 'product_qty', '3', 'date_planned', '2022-08-03 05:36:34.400530', 'price_unit', '2']\n",
      "['odoo01', '2', 'PWD1234', 'purchase.order', 'create', 'partner_id', '1222', 'requisition_id', '338']\n",
      "['odoo01', '2', 'PWD1234', 'purchase.order.line', 'create', 'order_id', '980', 'product_uom', '1', 'product_id', '16', 'name', 'Storage Box', 'product_qty', '3', 'date_planned', '2022-08-03 05:36:40.490444', 'price_unit', '3']\n",
      "['odoo01', '2', 'PWD1234', 'purchase.order', 'create', 'partner_id', '1243', 'requisition_id', '339']\n",
      "['odoo01', '2', 'PWD1234', 'purchase.order.line', 'create', 'order_id', '981', 'product_uom', '1', 'product_id', '6', 'name', 'Office Lamp', 'product_qty', '3', 'date_planned', '2022-08-03 05:36:34.400530', 'price_unit', '2']\n",
      "['odoo01', '2', 'PWD1234', 'purchase.order', 'create', 'partner_id', '1249', 'requisition_id', '338']\n",
      "['odoo01', '2', 'PWD1234', 'purchase.order.line', 'create', 'order_id', '982', 'product_uom', '1', 'product_id', '16', 'name', 'Storage Box', 'product_qty', '3', 'date_planned', '2022-08-03 05:36:40.490444', 'price_unit', '3']\n",
      "['odoo01', '2', 'PWD1234', 'purchase.order', 'create', 'partner_id', '1220', 'requisition_id', '339']\n",
      "['odoo01', '2', 'PWD1234', 'purchase.requisition', 'create', 'name', 'Desk Combination_377', 'type_id', '2']\n",
      "['odoo01', '2', 'PWD1234', 'purchase.requisition.line', 'create', 'requisition_id', '340', 'product_id', '8', 'product_qty', '2', 'price_unit', '1']\n",
      "['odoo01', '2', 'PWD1234', 'purchase.requisition', 'write', '340', 'state', 'ongoing']\n",
      "['odoo01', '2', 'PWD1234', 'purchase.order.line', 'create', 'order_id', '983', 'product_uom', '1', 'product_id', '6', 'name', 'Office Lamp', 'product_qty', '3', 'date_planned', '2022-08-03 05:36:34.400530', 'price_unit', '2']\n",
      "['odoo01', '2', 'PWD1234', 'purchase.requisition', 'write', '338', 'state', 'in_progress']\n",
      "['odoo01', '2', 'PWD1234', 'purchase.order.line', 'create', 'order_id', '984', 'product_uom', '1', 'product_id', '16', 'name', 'Storage Box', 'product_qty', '3', 'date_planned', '2022-08-03 05:36:40.490444', 'price_unit', '3']\n",
      "['odoo01', '2', 'PWD1234', 'purchase.requisition', 'write', '339', 'state', 'in_progress']\n",
      "['odoo01', '2', 'PWD1234', 'sale.order', 'create', 'partner_id', '1', 'partner_invoice_id', '1', 'partner_shipping_id', '1']\n",
      "['odoo01', '2', 'PWD1234', 'sale.order.line', 'create', 'order_id', '378', 'product_id', '26', 'name', 'Desk Stand with Screen', 'product_uom_qty', '2', 'price_unit', '1']\n",
      "['odoo01', '2', 'PWD1234', 'purchase.order', 'create', 'partner_id', '1243', 'requisition_id', '340']\n",
      "['odoo01', '2', 'PWD1234', 'purchase.order.line', 'create', 'order_id', '985', 'product_uom', '1', 'product_id', '8', 'name', 'Desk Combination', 'product_qty', '2', 'date_planned', '2022-08-03 05:36:54.900525', 'price_unit', '1']\n",
      "['odoo01', '2', 'PWD1234', 'purchase.order', 'create', 'partner_id', '1219', 'requisition_id', '340']\n",
      "['odoo01', '2', 'PWD1234', 'purchase.requisition', 'create', 'name', 'Desk Stand with Screen_378', 'type_id', '2']\n",
      "['odoo01', '2', 'PWD1234', 'purchase.requisition', 'write', '339', 'state', 'open']\n",
      "['odoo01', '2', 'PWD1234', 'purchase.requisition.line', 'create', 'requisition_id', '341', 'product_id', '26', 'product_qty', '2', 'price_unit', '1']\n",
      "['odoo01', '2', 'PWD1234', 'purchase.requisition', 'write', '341', 'state', 'ongoing']\n",
      "['odoo01', '2', 'PWD1234', 'purchase.order.line', 'create', 'order_id', '986', 'product_uom', '1', 'product_id', '8', 'name', 'Desk Combination', 'product_qty', '2', 'date_planned', '2022-08-03 05:36:54.900525', 'price_unit', '1']\n",
      "['odoo01', '2', 'PWD1234', 'purchase.requisition', 'write', '340', 'state', 'in_progress']\n",
      "['odoo01', '2', 'PWD1234', 'sale.order', 'create', 'partner_id', '1', 'partner_invoice_id', '1', 'partner_shipping_id', '1']\n",
      "['odoo01', '2', 'PWD1234', 'sale.order.line', 'create', 'order_id', '379', 'product_id', '32', 'name', 'Three-Seat Sofa', 'product_uom_qty', '3', 'price_unit', '3']\n",
      "['odoo01', '2', 'PWD1234', 'purchase.order', 'button_confirm', '982']\n",
      "['odoo01', '2', 'PWD1234', 'purchase.order', 'create', 'partner_id', '1249', 'requisition_id', '341']\n",
      "['odoo01', '2', 'PWD1234', 'purchase.requisition', 'create', 'name', 'Three-Seat Sofa_379', 'type_id', '2']\n",
      "['odoo01', '2', 'PWD1234', 'purchase.requisition', 'write', '338', 'state', 'open']\n",
      "['odoo01', '2', 'PWD1234', 'purchase.requisition.line', 'create', 'requisition_id', '342', 'product_id', '32', 'product_qty', '3', 'price_unit', '3']\n",
      "['odoo01', '2', 'PWD1234', 'purchase.order.line', 'create', 'order_id', '987', 'product_uom', '1', 'product_id', '26', 'name', 'Desk Stand with Screen', 'product_qty', '2', 'date_planned', '2022-08-03 05:37:04.345969', 'price_unit', '1']\n",
      "['odoo01', '2', 'PWD1234', 'purchase.requisition', 'write', '339', 'state', 'done']\n",
      "['odoo01', '2', 'PWD1234', 'purchase.order', 'create', 'partner_id', '1222', 'requisition_id', '341']\n",
      "['odoo01', '2', 'PWD1234', 'sale.order', 'write', '376', 'state', 'done']\n",
      "['odoo01', '2', 'PWD1234', 'purchase.requisition', 'write', '340', 'state', 'open']\n",
      "['odoo01', '2', 'PWD1234', 'purchase.order.line', 'create', 'order_id', '988', 'product_uom', '1', 'product_id', '26', 'name', 'Desk Stand with Screen', 'product_qty', '2', 'date_planned', '2022-08-03 05:37:04.345969', 'price_unit', '1']\n",
      "['odoo01', '2', 'PWD1234', 'purchase.order', 'create', 'partner_id', '1220', 'requisition_id', '341']\n",
      "['odoo01', '2', 'PWD1234', 'sale.order', 'create', 'partner_id', '1', 'partner_invoice_id', '1', 'partner_shipping_id', '1']\n",
      "['odoo01', '2', 'PWD1234', 'sale.order.line', 'create', 'order_id', '380', 'product_id', '23', 'name', 'Corner Desk Black', 'product_uom_qty', '1', 'price_unit', '3']\n",
      "['odoo01', '2', 'PWD1234', 'purchase.order', 'create', 'partner_id', '1243', 'requisition_id', '342']\n",
      "['odoo01', '2', 'PWD1234', 'purchase.order', 'button_confirm', '985']\n",
      "['odoo01', '2', 'PWD1234', 'purchase.order.line', 'create', 'order_id', '989', 'product_uom', '1', 'product_id', '26', 'name', 'Desk Stand with Screen', 'product_qty', '2', 'date_planned', '2022-08-03 05:37:04.345969', 'price_unit', '1']\n",
      "['odoo01', '2', 'PWD1234', 'purchase.order', 'button_confirm', '979']\n",
      "['odoo01', '2', 'PWD1234', 'purchase.requisition', 'write', '341', 'state', 'in_progress']\n",
      "['odoo01', '2', 'PWD1234', 'stock.move.line', 'write', '265', 'qty_done', '3']\n",
      "['odoo01', '2', 'PWD1234', 'stock.picking', 'button_validate', '264']\n",
      "['odoo01', '2', 'PWD1234', 'purchase.requisition', 'create', 'name', 'Corner Desk Black_380', 'type_id', '2']\n",
      "['odoo01', '2', 'PWD1234', 'purchase.order.line', 'create', 'order_id', '990', 'product_uom', '1', 'product_id', '32', 'name', 'Three-Seat Sofa', 'product_qty', '3', 'date_planned', '2022-08-03 05:37:11.990452', 'price_unit', '3']\n",
      "['odoo01', '2', 'PWD1234', 'purchase.requisition.line', 'create', 'requisition_id', '343', 'product_id', '23', 'product_qty', '1', 'price_unit', '3']\n",
      "['odoo01', '2', 'PWD1234', 'purchase.requisition', 'write', '343', 'state', 'ongoing']\n",
      "['odoo01', '2', 'PWD1234', 'purchase.order', 'create', 'partner_id', '1219', 'requisition_id', '342']\n",
      "['odoo01', '2', 'PWD1234', 'purchase.requisition', 'write', '340', 'state', 'done']\n",
      "['odoo01', '2', 'PWD1234', 'sale.order', 'write', '377', 'state', 'done']\n",
      "['odoo01', '2', 'PWD1234', 'purchase.requisition', 'write', '338', 'state', 'done']\n",
      "['odoo01', '2', 'PWD1234', 'sale.order', 'write', '375', 'state', 'done']\n",
      "['odoo01', '2', 'PWD1234', 'purchase.order.line', 'create', 'order_id', '991', 'product_uom', '1', 'product_id', '32', 'name', 'Three-Seat Sofa', 'product_qty', '3', 'date_planned', '2022-08-03 05:37:11.990452', 'price_unit', '3']\n",
      "['odoo01', '2', 'PWD1234', 'purchase.requisition', 'write', '342', 'state', 'in_progress']\n",
      "['odoo01', '2', 'PWD1234', 'sale.order', 'create', 'partner_id', '1', 'partner_invoice_id', '1', 'partner_shipping_id', '1']\n",
      "['odoo01', '2', 'PWD1234', 'sale.order.line', 'create', 'order_id', '381', 'product_id', '30', 'name', 'Four Person Desk', 'product_uom_qty', '2', 'price_unit', '5']\n",
      "['odoo01', '2', 'PWD1234', 'account.invoice', 'create', 'name', 'Storage Box_982', 'date_invoice', '2022-08-03', 'partner_id', '1243', 'currency_id', '2', 'origin', 'PO00982']\n",
      "['odoo01', '2', 'PWD1234', 'account.invoice.line', 'create', 'invoice_id', '246', 'product_id', '16', 'name', 'Storage Box', 'price_unit', '3', 'quantity', '3', 'purchase_line_id', '993', 'account_id', '24', 'purchase_id', '982']\n",
      "['odoo01', '2', 'PWD1234', 'account.invoice', 'action_invoice_open', '246']\n",
      "['odoo01', '2', 'PWD1234', 'stock.move.line', 'write', '266', 'qty_done', '2']\n",
      "['odoo01', '2', 'PWD1234', 'account.payment', 'create', 'payment_type', 'outbound', 'payment_method_id', '2', 'amount', '3', 'currency_id', '2', 'payment_date', '2022-08-03', 'journal_id', '2']\n",
      "['odoo01', '2', 'PWD1234', 'purchase.order', 'create', 'partner_id', '1220', 'requisition_id', '343']\n",
      "['odoo01', '2', 'PWD1234', 'purchase.requisition', 'write', '341', 'state', 'open']\n",
      "['odoo01', '2', 'PWD1234', 'purchase.requisition', 'write', '341', 'state', 'cancel']\n",
      "['odoo01', '2', 'PWD1234', 'sale.order', 'write', '378', 'state', 'cancel']\n",
      "['odoo01', '2', 'PWD1234', 'purchase.order', 'write', '987', 'state', 'cancel']\n",
      "['odoo01', '2', 'PWD1234', 'purchase.order', 'write', '988', 'state', 'cancel']\n",
      "['odoo01', '2', 'PWD1234', 'purchase.requisition.line', 'create', 'requisition_id', '344', 'product_id', '30', 'product_qty', '2', 'price_unit', '5']\n",
      "['odoo01', '2', 'PWD1234', 'purchase.requisition', 'write', '344', 'state', 'ongoing']\n",
      "['odoo01', '2', 'PWD1234', 'purchase.order', 'write', '989', 'state', 'cancel']\n",
      "['odoo01', '2', 'PWD1234', 'stock.move.line', 'write', '267', 'qty_done', '3']\n",
      "['odoo01', '2', 'PWD1234', 'stock.picking', 'button_validate', '266']\n",
      "['odoo01', '2', 'PWD1234', 'purchase.order.line', 'create', 'order_id', '992', 'product_uom', '1', 'product_id', '23', 'name', 'Corner Desk Black', 'product_qty', '1', 'date_planned', '2022-08-03 05:37:25.549102', 'price_unit', '3']\n",
      "['odoo01', '2', 'PWD1234', 'purchase.order', 'create', 'partner_id', '1249', 'requisition_id', '343']\n",
      "['odoo01', '2', 'PWD1234', 'account.invoice', 'create', 'name', 'Desk Combination_985', 'date_invoice', '2022-08-03', 'partner_id', '1243', 'currency_id', '2', 'origin', 'PO00985']\n",
      "['odoo01', '2', 'PWD1234', 'account.invoice.line', 'create', 'invoice_id', '247', 'product_id', '8', 'name', 'Desk Combination', 'price_unit', '1', 'quantity', '2', 'purchase_line_id', '996', 'account_id', '24', 'purchase_id', '985']\n",
      "['odoo01', '2', 'PWD1234', 'account.invoice', 'action_invoice_open', '247']\n",
      "['odoo01', '2', 'PWD1234', 'account.payment', 'create', 'payment_type', 'outbound', 'payment_method_id', '2', 'amount', '1', 'currency_id', '2', 'payment_date', '2022-08-03', 'journal_id', '2']\n",
      "['odoo01', '2', 'PWD1234', 'sale.order', 'create', 'partner_id', '1', 'partner_invoice_id', '1', 'partner_shipping_id', '1']\n",
      "['odoo01', '2', 'PWD1234', 'sale.order.line', 'create', 'order_id', '382', 'product_id', '19', 'name', 'Cabinet with Doors', 'product_uom_qty', '1', 'price_unit', '1']\n",
      "['odoo01', '2', 'PWD1234', 'purchase.order.line', 'create', 'order_id', '993', 'product_uom', '1', 'product_id', '23', 'name', 'Corner Desk Black', 'product_qty', '1', 'date_planned', '2022-08-03 05:37:25.549102', 'price_unit', '3']\n",
      "['odoo01', '2', 'PWD1234', 'account.invoice', 'create', 'name', 'Office Lamp_979', 'date_invoice', '2022-08-03', 'partner_id', '1220', 'currency_id', '2', 'origin', 'PO00979']\n",
      "['odoo01', '2', 'PWD1234', 'purchase.order.line', 'create', 'order_id', '994', 'product_uom', '1', 'product_id', '30', 'name', 'Four Person Desk', 'product_qty', '2', 'date_planned', '2022-08-03 05:37:31.278157', 'price_unit', '5']\n",
      "['odoo01', '2', 'PWD1234', 'account.invoice.line', 'create', 'invoice_id', '248', 'product_id', '6', 'name', 'Office Lamp', 'price_unit', '2', 'quantity', '3', 'purchase_line_id', '990', 'account_id', '24', 'purchase_id', '979']\n",
      "['odoo01', '2', 'PWD1234', 'account.invoice', 'action_invoice_open', '248']\n",
      "['odoo01', '2', 'PWD1234', 'purchase.order', 'create', 'partner_id', '1222', 'requisition_id', '344']\n",
      "['odoo01', '2', 'PWD1234', 'purchase.order.line', 'create', 'order_id', '995', 'product_uom', '1', 'product_id', '23', 'name', 'Corner Desk Black', 'product_qty', '1', 'date_planned', '2022-08-03 05:37:25.549102', 'price_unit', '3']\n",
      "['odoo01', '2', 'PWD1234', 'purchase.requisition', 'write', '343', 'state', 'in_progress']\n",
      "['odoo01', '2', 'PWD1234', 'account.payment', 'create', 'payment_type', 'outbound', 'payment_method_id', '2', 'amount', '2', 'currency_id', '2', 'payment_date', '2022-08-03', 'journal_id', '2']\n",
      "['odoo01', '2', 'PWD1234', 'purchase.order.line', 'create', 'order_id', '996', 'product_uom', '1', 'product_id', '30', 'name', 'Four Person Desk', 'product_qty', '2', 'date_planned', '2022-08-03 05:37:31.278157', 'price_unit', '5']\n",
      "['odoo01', '2', 'PWD1234', 'purchase.requisition', 'write', '344', 'state', 'in_progress']\n",
      "['odoo01', '2', 'PWD1234', 'purchase.requisition', 'create', 'name', 'Cabinet with Doors_382', 'type_id', '2']\n",
      "['odoo01', '2', 'PWD1234', 'purchase.requisition.line', 'create', 'requisition_id', '345', 'product_id', '19', 'product_qty', '1', 'price_unit', '1']\n",
      "['odoo01', '2', 'PWD1234', 'purchase.requisition', 'write', '345', 'state', 'ongoing']\n",
      "['odoo01', '2', 'PWD1234', 'purchase.order', 'button_confirm', '991']\n",
      "['odoo01', '2', 'PWD1234', 'sale.order', 'create', 'partner_id', '1', 'partner_invoice_id', '1', 'partner_shipping_id', '1']\n",
      "['odoo01', '2', 'PWD1234', 'sale.order.line', 'create', 'order_id', '383', 'product_id', '6', 'name', 'Office Lamp', 'product_uom_qty', '1', 'price_unit', '3']\n",
      "['odoo01', '2', 'PWD1234', 'purchase.requisition', 'write', '343', 'state', 'open']\n",
      "['odoo01', '2', 'PWD1234', 'purchase.requisition', 'write', '342', 'state', 'done']\n",
      "['odoo01', '2', 'PWD1234', 'sale.order', 'write', '379', 'state', 'done']\n",
      "['odoo01', '2', 'PWD1234', 'purchase.order', 'create', 'partner_id', '1249', 'requisition_id', '345']\n",
      "['odoo01', '2', 'PWD1234', 'purchase.requisition', 'create', 'name', 'Office Lamp_383', 'type_id', '2']\n",
      "['odoo01', '2', 'PWD1234', 'purchase.requisition.line', 'create', 'requisition_id', '346', 'product_id', '6', 'product_qty', '1', 'price_unit', '3']\n",
      "['odoo01', '2', 'PWD1234', 'purchase.requisition', 'write', '346', 'state', 'ongoing']\n",
      "['odoo01', '2', 'PWD1234', 'purchase.order.line', 'create', 'order_id', '997', 'product_uom', '1', 'product_id', '19', 'name', 'Cabinet with Doors', 'product_qty', '1', 'date_planned', '2022-08-03 05:37:47.146697', 'price_unit', '1']\n",
      "['odoo01', '2', 'PWD1234', 'purchase.requisition', 'write', '344', 'state', 'open']\n",
      "['odoo01', '2', 'PWD1234', 'purchase.order', 'create', 'partner_id', '1222', 'requisition_id', '345']\n",
      "['odoo01', '2', 'PWD1234', 'purchase.order', 'create', 'partner_id', '1220', 'requisition_id', '346']\n",
      "['odoo01', '2', 'PWD1234', 'purchase.requisition', 'write', '344', 'state', 'cancel']\n",
      "['odoo01', '2', 'PWD1234', 'sale.order', 'write', '381', 'state', 'cancel']\n",
      "['odoo01', '2', 'PWD1234', 'stock.move.line', 'write', '268', 'qty_done', '3']\n",
      "['odoo01', '2', 'PWD1234', 'stock.picking', 'button_validate', '267']\n",
      "['odoo01', '2', 'PWD1234', 'purchase.order', 'write', '994', 'state', 'cancel']\n",
      "['odoo01', '2', 'PWD1234', 'sale.order', 'create', 'partner_id', '1', 'partner_invoice_id', '1', 'partner_shipping_id', '1']\n",
      "['odoo01', '2', 'PWD1234', 'purchase.order', 'write', '996', 'state', 'cancel']\n",
      "['odoo01', '2', 'PWD1234', 'purchase.order', 'button_confirm', '995']\n",
      "['odoo01', '2', 'PWD1234', 'sale.order.line', 'create', 'order_id', '384', 'product_id', '16', 'name', 'Storage Box', 'product_uom_qty', '3', 'price_unit', '3']\n",
      "['odoo01', '2', 'PWD1234', 'purchase.order.line', 'create', 'order_id', '998', 'product_uom', '1', 'product_id', '19', 'name', 'Cabinet with Doors', 'product_qty', '1', 'date_planned', '2022-08-03 05:37:47.146697', 'price_unit', '1']\n",
      "['odoo01', '2', 'PWD1234', 'purchase.order.line', 'create', 'order_id', '999', 'product_uom', '1', 'product_id', '6', 'name', 'Office Lamp', 'product_qty', '1', 'date_planned', '2022-08-03 05:37:50.209211', 'price_unit', '3']\n",
      "['odoo01', '2', 'PWD1234', 'purchase.order', 'create', 'partner_id', '1220', 'requisition_id', '345']\n",
      "['odoo01', '2', 'PWD1234', 'purchase.order', 'create', 'partner_id', '1219', 'requisition_id', '346']\n",
      "['odoo01', '2', 'PWD1234', 'purchase.requisition', 'write', '343', 'state', 'done']\n",
      "['odoo01', '2', 'PWD1234', 'sale.order', 'write', '380', 'state', 'done']\n",
      "['odoo01', '2', 'PWD1234', 'account.invoice', 'create', 'name', 'Three-Seat Sofa_991', 'date_invoice', '2022-08-03', 'partner_id', '1219', 'currency_id', '2', 'origin', 'PO00991']\n",
      "['odoo01', '2', 'PWD1234', 'account.invoice.line', 'create', 'invoice_id', '249', 'product_id', '32', 'name', 'Three-Seat Sofa', 'price_unit', '3', 'quantity', '3', 'purchase_line_id', '1002', 'account_id', '24', 'purchase_id', '991']\n",
      "['odoo01', '2', 'PWD1234', 'account.invoice', 'action_invoice_open', '249']\n",
      "['odoo01', '2', 'PWD1234', 'purchase.order.line', 'create', 'order_id', '1001', 'product_uom', '1', 'product_id', '19', 'name', 'Cabinet with Doors', 'product_qty', '1', 'date_planned', '2022-08-03 05:37:47.146697', 'price_unit', '1']\n",
      "['odoo01', '2', 'PWD1234', 'purchase.order.line', 'create', 'order_id', '1000', 'product_uom', '1', 'product_id', '6', 'name', 'Office Lamp', 'product_qty', '1', 'date_planned', '2022-08-03 05:37:50.209211', 'price_unit', '3']\n",
      "['odoo01', '2', 'PWD1234', 'purchase.requisition', 'write', '345', 'state', 'in_progress']\n",
      "['odoo01', '2', 'PWD1234', 'purchase.order', 'create', 'partner_id', '1249', 'requisition_id', '346']\n",
      "['odoo01', '2', 'PWD1234', 'account.payment', 'create', 'payment_type', 'outbound', 'payment_method_id', '2', 'amount', '3', 'currency_id', '2', 'payment_date', '2022-08-03', 'journal_id', '2']\n",
      "['odoo01', '2', 'PWD1234', 'purchase.requisition', 'create', 'name', 'Storage Box_384', 'type_id', '2']\n",
      "['odoo01', '2', 'PWD1234', 'purchase.requisition.line', 'create', 'requisition_id', '347', 'product_id', '16', 'product_qty', '3', 'price_unit', '3']\n",
      "['odoo01', '2', 'PWD1234', 'purchase.requisition', 'write', '347', 'state', 'ongoing']\n",
      "['odoo01', '2', 'PWD1234', 'stock.move.line', 'write', '269', 'qty_done', '1']\n",
      "['odoo01', '2', 'PWD1234', 'stock.picking', 'button_validate', '268']\n",
      "['odoo01', '2', 'PWD1234', 'purchase.order.line', 'create', 'order_id', '1002', 'product_uom', '1', 'product_id', '6', 'name', 'Office Lamp', 'product_qty', '1', 'date_planned', '2022-08-03 05:37:50.209211', 'price_unit', '3']\n",
      "['odoo01', '2', 'PWD1234', 'purchase.order', 'create', 'partner_id', '1222', 'requisition_id', '346']\n",
      "['odoo01', '2', 'PWD1234', 'purchase.order.line', 'create', 'order_id', '1003', 'product_uom', '1', 'product_id', '6', 'name', 'Office Lamp', 'product_qty', '1', 'date_planned', '2022-08-03 05:37:50.209211', 'price_unit', '3']\n",
      "['odoo01', '2', 'PWD1234', 'purchase.requisition', 'write', '346', 'state', 'in_progress']\n",
      "['odoo01', '2', 'PWD1234', 'purchase.requisition', 'write', '345', 'state', 'open']\n",
      "['odoo01', '2', 'PWD1234', 'purchase.order', 'create', 'partner_id', '1219', 'requisition_id', '347']\n",
      "['odoo01', '2', 'PWD1234', 'account.invoice', 'create', 'name', 'Corner Desk Black_995', 'date_invoice', '2022-08-03', 'partner_id', '1219', 'currency_id', '2', 'origin', 'PO00995']\n",
      "['odoo01', '2', 'PWD1234', 'account.invoice.line', 'create', 'invoice_id', '250', 'product_id', '23', 'name', 'Corner Desk Black', 'price_unit', '3', 'quantity', '1', 'purchase_line_id', '1006', 'account_id', '24', 'purchase_id', '995']\n",
      "['odoo01', '2', 'PWD1234', 'account.invoice', 'action_invoice_open', '250']\n",
      "['odoo01', '2', 'PWD1234', 'account.payment', 'create', 'payment_type', 'outbound', 'payment_method_id', '2', 'amount', '3', 'currency_id', '2', 'payment_date', '2022-08-03', 'journal_id', '2']\n",
      "['odoo01', '2', 'PWD1234', 'purchase.order.line', 'create', 'order_id', '1004', 'product_uom', '1', 'product_id', '16', 'name', 'Storage Box', 'product_qty', '3', 'date_planned', '2022-08-03 05:38:08.887529', 'price_unit', '3']\n",
      "['odoo01', '2', 'PWD1234', 'purchase.order', 'create', 'partner_id', '1220', 'requisition_id', '347']\n",
      "['odoo01', '2', 'PWD1234', 'purchase.order', 'button_confirm', '1001']\n",
      "['odoo01', '2', 'PWD1234', 'purchase.order.line', 'create', 'order_id', '1005', 'product_uom', '1', 'product_id', '16', 'name', 'Storage Box', 'product_qty', '3', 'date_planned', '2022-08-03 05:38:08.887529', 'price_unit', '3']\n",
      "['odoo01', '2', 'PWD1234', 'purchase.order', 'create', 'partner_id', '1243', 'requisition_id', '347']\n",
      "['odoo01', '2', 'PWD1234', 'purchase.requisition', 'write', '345', 'state', 'done']\n",
      "['odoo01', '2', 'PWD1234', 'sale.order', 'write', '382', 'state', 'done']\n",
      "['odoo01', '2', 'PWD1234', 'purchase.order.line', 'create', 'order_id', '1006', 'product_uom', '1', 'product_id', '16', 'name', 'Storage Box', 'product_qty', '3', 'date_planned', '2022-08-03 05:38:08.887529', 'price_unit', '3']\n",
      "['odoo01', '2', 'PWD1234', 'purchase.requisition', 'write', '347', 'state', 'in_progress']\n",
      "['odoo01', '2', 'PWD1234', 'purchase.requisition', 'write', '346', 'state', 'open']\n",
      "['odoo01', '2', 'PWD1234', 'stock.move.line', 'write', '270', 'qty_done', '1']\n",
      "['odoo01', '2', 'PWD1234', 'purchase.order', 'button_confirm', '999']\n",
      "['odoo01', '2', 'PWD1234', 'stock.picking', 'button_validate', '269']\n",
      "['odoo01', '2', 'PWD1234', 'purchase.requisition', 'write', '346', 'state', 'done']\n",
      "['odoo01', '2', 'PWD1234', 'sale.order', 'write', '383', 'state', 'done']\n",
      "['odoo01', '2', 'PWD1234', 'purchase.requisition', 'write', '347', 'state', 'open']\n",
      "['odoo01', '2', 'PWD1234', 'stock.move.line', 'write', '271', 'qty_done', '1']\n",
      "['odoo01', '2', 'PWD1234', 'stock.picking', 'button_validate', '270']\n",
      "['odoo01', '2', 'PWD1234', 'purchase.order', 'button_confirm', '1004']\n",
      "['odoo01', '2', 'PWD1234', 'account.invoice', 'create', 'name', 'Cabinet with Doors_1001', 'date_invoice', '2022-08-03', 'partner_id', '1220', 'currency_id', '2', 'origin', 'PO01001']\n",
      "['odoo01', '2', 'PWD1234', 'account.invoice.line', 'create', 'invoice_id', '251', 'product_id', '19', 'name', 'Cabinet with Doors', 'price_unit', '1', 'quantity', '1', 'purchase_line_id', '1011', 'account_id', '24', 'purchase_id', '1001']\n",
      "['odoo01', '2', 'PWD1234', 'account.invoice', 'action_invoice_open', '251']\n",
      "['odoo01', '2', 'PWD1234', 'account.payment', 'create', 'payment_type', 'outbound', 'payment_method_id', '2', 'amount', '1', 'currency_id', '2', 'payment_date', '2022-08-03', 'journal_id', '2']\n",
      "['odoo01', '2', 'PWD1234', 'purchase.requisition', 'write', '347', 'state', 'done']\n",
      "['odoo01', '2', 'PWD1234', 'sale.order', 'write', '384', 'state', 'done']\n",
      "['odoo01', '2', 'PWD1234', 'account.invoice', 'create', 'name', 'Office Lamp_999', 'date_invoice', '2022-08-03', 'partner_id', '1220', 'currency_id', '2', 'origin', 'PO00999']\n",
      "['odoo01', '2', 'PWD1234', 'account.invoice.line', 'create', 'invoice_id', '252', 'product_id', '6', 'name', 'Office Lamp', 'price_unit', '3', 'quantity', '1', 'purchase_line_id', '1010', 'account_id', '24', 'purchase_id', '999']\n",
      "['odoo01', '2', 'PWD1234', 'account.invoice', 'action_invoice_open', '252']\n",
      "['odoo01', '2', 'PWD1234', 'account.payment', 'create', 'payment_type', 'outbound', 'payment_method_id', '2', 'amount', '3', 'currency_id', '2', 'payment_date', '2022-08-03', 'journal_id', '2']\n",
      "['odoo01', '2', 'PWD1234', 'stock.move.line', 'write', '272', 'qty_done', '3']\n",
      "['odoo01', '2', 'PWD1234', 'stock.picking', 'button_validate', '271']\n",
      "['odoo01', '2', 'PWD1234', 'account.invoice', 'create', 'name', 'Storage Box_1004', 'date_invoice', '2022-08-03', 'partner_id', '1219', 'currency_id', '2', 'origin', 'PO01004']\n",
      "['odoo01', '2', 'PWD1234', 'account.invoice.line', 'create', 'invoice_id', '253', 'product_id', '16', 'name', 'Storage Box', 'price_unit', '3', 'quantity', '3', 'purchase_line_id', '1015', 'account_id', '24', 'purchase_id', '1004']\n",
      "['odoo01', '2', 'PWD1234', 'account.invoice', 'action_invoice_open', '253']\n",
      "['odoo01', '2', 'PWD1234', 'account.payment', 'create', 'payment_type', 'outbound', 'payment_method_id', '2', 'amount', '3', 'currency_id', '2', 'payment_date', '2022-08-03', 'journal_id', '2']\n"
     ]
    }
   ],
   "source": [
    "df_r1_pp = pre_process(df_r1)"
   ],
   "metadata": {
    "collapsed": false,
    "ExecuteTime": {
     "end_time": "2024-02-05T09:47:41.611235Z",
     "start_time": "2024-02-05T09:47:40.876629Z"
    }
   },
   "id": "fcf2859d86f76b4e"
  },
  {
   "cell_type": "code",
   "execution_count": 44,
   "outputs": [
    {
     "data": {
      "text/plain": "selective_file_data\n                                       3170\nIsNumber                                262\nserver_version                           64\nversion                                  63\npurchase.requisition_write               38\nname                                     35\npurchase.order.line_create               29\npurchase.order_create                    27\nproduct.product_search_read              20\npurchase.order_search_read               16\nres.partner_search_read                  10\nsale.order_write                         10\ndefault_code                             10\nsale.order.line_create                   10\nsale.order_create                        10\npurchase.requisition.line_create         10\npurchase.requisition_create               9\nfaultCode                                 8\naccount.payment_create                    8\naccount.invoice_action_invoice_open       8\naccount.invoice.line_create               8\naccount.invoice_create                    8\naccount.journal_search_read               8\nmove_line_ids                             8\nstock.move.line_write                     8\nstock.move_search_read                    8\nmove_ids_without_package                  8\nstock.picking_search_read                 8\npicking_ids                               8\npurchase.order_button_confirm             8\nstock.picking_button_validate             7\npurchase.order_write                      5\nName: count, dtype: int64"
     },
     "execution_count": 44,
     "metadata": {},
     "output_type": "execute_result"
    }
   ],
   "source": [
    "df_r1_pp[\"selective_file_data\"].value_counts()"
   ],
   "metadata": {
    "collapsed": false,
    "ExecuteTime": {
     "end_time": "2024-02-05T09:47:41.641560Z",
     "start_time": "2024-02-05T09:47:41.636281Z"
    }
   },
   "id": "d90131c3d1cdb061"
  },
  {
   "cell_type": "code",
   "execution_count": 45,
   "outputs": [
    {
     "name": "stdout",
     "output_type": "stream",
     "text": [
      "['odoo01', '2', 'PWD1234', 'sale.order', 'create', 'partner_id', '1', 'partner_invoice_id', '1', 'partner_shipping_id', '1']\n",
      "['odoo01', '2', 'PWD1234', 'sale.order.line', 'create', 'order_id', '94', 'product_id', '21', 'name', 'Conference Chair', 'product_uom_qty', '1', 'price_unit', '5']\n",
      "['odoo01', '2', 'PWD1234', 'sale.order', 'create', 'partner_id', '1', 'partner_invoice_id', '1', 'partner_shipping_id', '1']\n",
      "['odoo01', '2', 'PWD1234', 'sale.order.line', 'create', 'order_id', '103', 'product_id', '21', 'name', 'Conference Chair', 'product_uom_qty', '3', 'price_unit', '4']\n",
      "['odoo01', '2', 'PWD1234', 'sale.order', 'create', 'partner_id', '1', 'partner_invoice_id', '1', 'partner_shipping_id', '1']\n",
      "['odoo01', '2', 'PWD1234', 'sale.order.line', 'create', 'order_id', '104', 'product_id', '24', 'name', 'Drawer Black', 'product_uom_qty', '1', 'price_unit', '2']\n",
      "['odoo01', '2', 'PWD1234', 'sale.order', 'create', 'partner_id', '1', 'partner_invoice_id', '1', 'partner_shipping_id', '1']\n",
      "['odoo01', '2', 'PWD1234', 'sale.order.line', 'create', 'order_id', '105', 'product_id', '29', 'name', 'Drawer', 'product_uom_qty', '1', 'price_unit', '2']\n",
      "['odoo01', '2', 'PWD1234', 'sale.order', 'create', 'partner_id', '1', 'partner_invoice_id', '1', 'partner_shipping_id', '1']\n",
      "['odoo01', '2', 'PWD1234', 'sale.order.line', 'create', 'order_id', '106', 'product_id', '35', 'name', 'Chair floor protection', 'product_uom_qty', '2', 'price_unit', '4']\n",
      "['odoo01', '2', 'PWD1234', 'sale.order', 'create', 'partner_id', '1', 'partner_invoice_id', '1', 'partner_shipping_id', '1']\n",
      "['odoo01', '2', 'PWD1234', 'sale.order.line', 'create', 'order_id', '107', 'product_id', '24', 'name', 'Drawer Black', 'product_uom_qty', '1', 'price_unit', '2']\n",
      "['odoo01', '2', 'PWD1234', 'sale.order', 'create', 'partner_id', '1', 'partner_invoice_id', '1', 'partner_shipping_id', '1']\n",
      "['odoo01', '2', 'PWD1234', 'sale.order.line', 'create', 'order_id', '108', 'product_id', '33', 'name', 'Cable Management Box', 'product_uom_qty', '2', 'price_unit', '5']\n",
      "['odoo01', '2', 'PWD1234', 'sale.order', 'create', 'partner_id', '1', 'partner_invoice_id', '1', 'partner_shipping_id', '1']\n",
      "['odoo01', '2', 'PWD1234', 'sale.order.line', 'create', 'order_id', '109', 'product_id', '24', 'name', 'Drawer Black', 'product_uom_qty', '1', 'price_unit', '2']\n",
      "['odoo01', '2', 'PWD1234', 'sale.order', 'create', 'partner_id', '1', 'partner_invoice_id', '1', 'partner_shipping_id', '1']\n",
      "['odoo01', '2', 'PWD1234', 'sale.order.line', 'create', 'order_id', '110', 'product_id', '19', 'name', 'Cabinet with Doors', 'product_uom_qty', '2', 'price_unit', '3']\n",
      "['odoo01', '2', 'PWD1234', 'sale.order', 'create', 'partner_id', '1', 'partner_invoice_id', '1', 'partner_shipping_id', '1']\n",
      "['odoo01', '2', 'PWD1234', 'sale.order.line', 'create', 'order_id', '111', 'product_id', '19', 'name', 'Cabinet with Doors', 'product_uom_qty', '3', 'price_unit', '1']\n",
      "['odoo01', '2', 'PWD1234', 'sale.order', 'create', 'partner_id', '1', 'partner_invoice_id', '1', 'partner_shipping_id', '1']\n",
      "['odoo01', '2', 'PWD1234', 'sale.order.line', 'create', 'order_id', '112', 'product_id', '8', 'name', 'Desk Combination', 'product_uom_qty', '2', 'price_unit', '3']\n",
      "['odoo01', '2', 'PWD1234', 'sale.order', 'create', 'partner_id', '1', 'partner_invoice_id', '1', 'partner_shipping_id', '1']\n",
      "['odoo01', '2', 'PWD1234', 'sale.order.line', 'create', 'order_id', '95', 'product_id', '5', 'name', 'Office Chair', 'product_uom_qty', '3', 'price_unit', '3']\n",
      "['odoo01', '2', 'PWD1234', 'sale.order', 'create', 'partner_id', '1', 'partner_invoice_id', '1', 'partner_shipping_id', '1']\n",
      "['odoo01', '2', 'PWD1234', 'sale.order.line', 'create', 'order_id', '113', 'product_id', '29', 'name', 'Drawer', 'product_uom_qty', '2', 'price_unit', '3']\n",
      "['odoo01', '2', 'PWD1234', 'sale.order', 'create', 'partner_id', '1', 'partner_invoice_id', '1', 'partner_shipping_id', '1']\n",
      "['odoo01', '2', 'PWD1234', 'sale.order.line', 'create', 'order_id', '114', 'product_id', '8', 'name', 'Desk Combination', 'product_uom_qty', '1', 'price_unit', '2']\n",
      "['odoo01', '2', 'PWD1234', 'sale.order', 'create', 'partner_id', '1', 'partner_invoice_id', '1', 'partner_shipping_id', '1']\n",
      "['odoo01', '2', 'PWD1234', 'sale.order.line', 'create', 'order_id', '115', 'product_id', '22', 'name', 'Office Chair Black', 'product_uom_qty', '3', 'price_unit', '5']\n",
      "['odoo01', '2', 'PWD1234', 'sale.order', 'create', 'partner_id', '1', 'partner_invoice_id', '1', 'partner_shipping_id', '1']\n",
      "['odoo01', '2', 'PWD1234', 'sale.order.line', 'create', 'order_id', '116', 'product_id', '24', 'name', 'Drawer Black', 'product_uom_qty', '2', 'price_unit', '4']\n",
      "['odoo01', '2', 'PWD1234', 'sale.order', 'create', 'partner_id', '1', 'partner_invoice_id', '1', 'partner_shipping_id', '1']\n",
      "['odoo01', '2', 'PWD1234', 'sale.order.line', 'create', 'order_id', '117', 'product_id', '19', 'name', 'Cabinet with Doors', 'product_uom_qty', '1', 'price_unit', '2']\n",
      "['odoo01', '2', 'PWD1234', 'sale.order', 'create', 'partner_id', '1', 'partner_invoice_id', '1', 'partner_shipping_id', '1']\n",
      "['odoo01', '2', 'PWD1234', 'sale.order.line', 'create', 'order_id', '118', 'product_id', '14', 'name', 'Corner Desk Right Sit', 'product_uom_qty', '1', 'price_unit', '4']\n",
      "['odoo01', '2', 'PWD1234', 'sale.order', 'create', 'partner_id', '1', 'partner_invoice_id', '1', 'partner_shipping_id', '1']\n",
      "['odoo01', '2', 'PWD1234', 'sale.order.line', 'create', 'order_id', '119', 'product_id', '35', 'name', 'Chair floor protection', 'product_uom_qty', '2', 'price_unit', '5']\n",
      "['odoo01', '2', 'PWD1234', 'sale.order', 'create', 'partner_id', '1', 'partner_invoice_id', '1', 'partner_shipping_id', '1']\n",
      "['odoo01', '2', 'PWD1234', 'sale.order.line', 'create', 'order_id', '120', 'product_id', '21', 'name', 'Conference Chair', 'product_uom_qty', '2', 'price_unit', '5']\n",
      "['odoo01', '2', 'PWD1234', 'sale.order', 'create', 'partner_id', '1', 'partner_invoice_id', '1', 'partner_shipping_id', '1']\n",
      "['odoo01', '2', 'PWD1234', 'sale.order.line', 'create', 'order_id', '121', 'product_id', '7', 'name', 'Office Design Software', 'product_uom_qty', '2', 'price_unit', '3']\n",
      "['odoo01', '2', 'PWD1234', 'sale.order', 'create', 'partner_id', '1', 'partner_invoice_id', '1', 'partner_shipping_id', '1']\n",
      "['odoo01', '2', 'PWD1234', 'sale.order.line', 'create', 'order_id', '122', 'product_id', '7', 'name', 'Office Design Software', 'product_uom_qty', '3', 'price_unit', '2']\n",
      "['odoo01', '2', 'PWD1234', 'sale.order', 'create', 'partner_id', '1', 'partner_invoice_id', '1', 'partner_shipping_id', '1']\n",
      "['odoo01', '2', 'PWD1234', 'sale.order.line', 'create', 'order_id', '96', 'product_id', '21', 'name', 'Conference Chair', 'product_uom_qty', '3', 'price_unit', '5']\n",
      "['odoo01', '2', 'PWD1234', 'sale.order', 'create', 'partner_id', '1', 'partner_invoice_id', '1', 'partner_shipping_id', '1']\n",
      "['odoo01', '2', 'PWD1234', 'sale.order.line', 'create', 'order_id', '123', 'product_id', '14', 'name', 'Corner Desk Right Sit', 'product_uom_qty', '2', 'price_unit', '5']\n",
      "['odoo01', '2', 'PWD1234', 'sale.order', 'create', 'partner_id', '1', 'partner_invoice_id', '1', 'partner_shipping_id', '1']\n",
      "['odoo01', '2', 'PWD1234', 'sale.order.line', 'create', 'order_id', '124', 'product_id', '6', 'name', 'Office Lamp', 'product_uom_qty', '2', 'price_unit', '3']\n",
      "['odoo01', '2', 'PWD1234', 'sale.order', 'create', 'partner_id', '1', 'partner_invoice_id', '1', 'partner_shipping_id', '1']\n",
      "['odoo01', '2', 'PWD1234', 'sale.order.line', 'create', 'order_id', '125', 'product_id', '35', 'name', 'Chair floor protection', 'product_uom_qty', '1', 'price_unit', '1']\n",
      "['odoo01', '2', 'PWD1234', 'sale.order', 'create', 'partner_id', '1', 'partner_invoice_id', '1', 'partner_shipping_id', '1']\n",
      "['odoo01', '2', 'PWD1234', 'sale.order.line', 'create', 'order_id', '126', 'product_id', '16', 'name', 'Storage Box', 'product_uom_qty', '3', 'price_unit', '4']\n",
      "['odoo01', '2', 'PWD1234', 'sale.order', 'create', 'partner_id', '1', 'partner_invoice_id', '1', 'partner_shipping_id', '1']\n",
      "['odoo01', '2', 'PWD1234', 'sale.order.line', 'create', 'order_id', '127', 'product_id', '22', 'name', 'Office Chair Black', 'product_uom_qty', '2', 'price_unit', '1']\n",
      "['odoo01', '2', 'PWD1234', 'sale.order', 'create', 'partner_id', '1', 'partner_invoice_id', '1', 'partner_shipping_id', '1']\n",
      "['odoo01', '2', 'PWD1234', 'sale.order.line', 'create', 'order_id', '128', 'product_id', '14', 'name', 'Corner Desk Right Sit', 'product_uom_qty', '3', 'price_unit', '2']\n",
      "['odoo01', '2', 'PWD1234', 'sale.order', 'create', 'partner_id', '1', 'partner_invoice_id', '1', 'partner_shipping_id', '1']\n",
      "['odoo01', '2', 'PWD1234', 'sale.order.line', 'create', 'order_id', '129', 'product_id', '32', 'name', 'Three-Seat Sofa', 'product_uom_qty', '2', 'price_unit', '3']\n",
      "['odoo01', '2', 'PWD1234', 'sale.order', 'create', 'partner_id', '1', 'partner_invoice_id', '1', 'partner_shipping_id', '1']\n",
      "['odoo01', '2', 'PWD1234', 'sale.order.line', 'create', 'order_id', '130', 'product_id', '33', 'name', 'Cable Management Box', 'product_uom_qty', '3', 'price_unit', '1']\n",
      "['odoo01', '2', 'PWD1234', 'sale.order', 'create', 'partner_id', '1', 'partner_invoice_id', '1', 'partner_shipping_id', '1']\n",
      "['odoo01', '2', 'PWD1234', 'sale.order.line', 'create', 'order_id', '131', 'product_id', '19', 'name', 'Cabinet with Doors', 'product_uom_qty', '3', 'price_unit', '4']\n",
      "['odoo01', '2', 'PWD1234', 'sale.order', 'create', 'partner_id', '1', 'partner_invoice_id', '1', 'partner_shipping_id', '1']\n",
      "['odoo01', '2', 'PWD1234', 'sale.order.line', 'create', 'order_id', '132', 'product_id', '32', 'name', 'Three-Seat Sofa', 'product_uom_qty', '2', 'price_unit', '3']\n",
      "['odoo01', '2', 'PWD1234', 'sale.order', 'create', 'partner_id', '1', 'partner_invoice_id', '1', 'partner_shipping_id', '1']\n",
      "['odoo01', '2', 'PWD1234', 'sale.order.line', 'create', 'order_id', '97', 'product_id', '22', 'name', 'Office Chair Black', 'product_uom_qty', '2', 'price_unit', '3']\n",
      "['odoo01', '2', 'PWD1234', 'sale.order', 'create', 'partner_id', '1', 'partner_invoice_id', '1', 'partner_shipping_id', '1']\n",
      "['odoo01', '2', 'PWD1234', 'sale.order.line', 'create', 'order_id', '133', 'product_id', '16', 'name', 'Storage Box', 'product_uom_qty', '1', 'price_unit', '1']\n",
      "['odoo01', '2', 'PWD1234', 'sale.order', 'create', 'partner_id', '1', 'partner_invoice_id', '1', 'partner_shipping_id', '1']\n",
      "['odoo01', '2', 'PWD1234', 'sale.order.line', 'create', 'order_id', '134', 'product_id', '19', 'name', 'Cabinet with Doors', 'product_uom_qty', '1', 'price_unit', '3']\n",
      "['odoo01', '2', 'PWD1234', 'sale.order', 'create', 'partner_id', '1', 'partner_invoice_id', '1', 'partner_shipping_id', '1']\n",
      "['odoo01', '2', 'PWD1234', 'sale.order.line', 'create', 'order_id', '135', 'product_id', '30', 'name', 'Four Person Desk', 'product_uom_qty', '1', 'price_unit', '4']\n",
      "['odoo01', '2', 'PWD1234', 'sale.order', 'create', 'partner_id', '1', 'partner_invoice_id', '1', 'partner_shipping_id', '1']\n",
      "['odoo01', '2', 'PWD1234', 'sale.order.line', 'create', 'order_id', '136', 'product_id', '6', 'name', 'Office Lamp', 'product_uom_qty', '1', 'price_unit', '3']\n",
      "['odoo01', '2', 'PWD1234', 'sale.order', 'create', 'partner_id', '1', 'partner_invoice_id', '1', 'partner_shipping_id', '1']\n",
      "['odoo01', '2', 'PWD1234', 'sale.order.line', 'create', 'order_id', '137', 'product_id', '17', 'name', 'Large Desk', 'product_uom_qty', '3', 'price_unit', '4']\n",
      "['odoo01', '2', 'PWD1234', 'sale.order', 'create', 'partner_id', '1', 'partner_invoice_id', '1', 'partner_shipping_id', '1']\n",
      "['odoo01', '2', 'PWD1234', 'sale.order.line', 'create', 'order_id', '138', 'product_id', '15', 'name', 'Large Cabinet', 'product_uom_qty', '2', 'price_unit', '5']\n",
      "['odoo01', '2', 'PWD1234', 'sale.order', 'create', 'partner_id', '1', 'partner_invoice_id', '1', 'partner_shipping_id', '1']\n",
      "['odoo01', '2', 'PWD1234', 'sale.order.line', 'create', 'order_id', '139', 'product_id', '18', 'name', 'Pedal Bin', 'product_uom_qty', '1', 'price_unit', '2']\n",
      "['odoo01', '2', 'PWD1234', 'sale.order', 'create', 'partner_id', '1', 'partner_invoice_id', '1', 'partner_shipping_id', '1']\n",
      "['odoo01', '2', 'PWD1234', 'sale.order.line', 'create', 'order_id', '140', 'product_id', '18', 'name', 'Pedal Bin', 'product_uom_qty', '2', 'price_unit', '1']\n",
      "['odoo01', '2', 'PWD1234', 'sale.order', 'create', 'partner_id', '1', 'partner_invoice_id', '1', 'partner_shipping_id', '1']\n",
      "['odoo01', '2', 'PWD1234', 'sale.order.line', 'create', 'order_id', '141', 'product_id', '7', 'name', 'Office Design Software', 'product_uom_qty', '2', 'price_unit', '5']\n",
      "['odoo01', '2', 'PWD1234', 'sale.order', 'create', 'partner_id', '1', 'partner_invoice_id', '1', 'partner_shipping_id', '1']\n",
      "['odoo01', '2', 'PWD1234', 'sale.order.line', 'create', 'order_id', '142', 'product_id', '24', 'name', 'Drawer Black', 'product_uom_qty', '1', 'price_unit', '3']\n",
      "['odoo01', '2', 'PWD1234', 'sale.order', 'create', 'partner_id', '1', 'partner_invoice_id', '1', 'partner_shipping_id', '1']\n",
      "['odoo01', '2', 'PWD1234', 'sale.order.line', 'create', 'order_id', '98', 'product_id', '31', 'name', 'Large Meeting Table', 'product_uom_qty', '1', 'price_unit', '1']\n",
      "['odoo01', '2', 'PWD1234', 'sale.order', 'create', 'partner_id', '1', 'partner_invoice_id', '1', 'partner_shipping_id', '1']\n",
      "['odoo01', '2', 'PWD1234', 'sale.order.line', 'create', 'order_id', '143', 'product_id', '7', 'name', 'Office Design Software', 'product_uom_qty', '3', 'price_unit', '5']\n",
      "['odoo01', '2', 'PWD1234', 'sale.order', 'create', 'partner_id', '1', 'partner_invoice_id', '1', 'partner_shipping_id', '1']\n",
      "['odoo01', '2', 'PWD1234', 'sale.order.line', 'create', 'order_id', '144', 'product_id', '16', 'name', 'Storage Box', 'product_uom_qty', '3', 'price_unit', '4']\n",
      "['odoo01', '2', 'PWD1234', 'sale.order', 'create', 'partner_id', '1', 'partner_invoice_id', '1', 'partner_shipping_id', '1']\n",
      "['odoo01', '2', 'PWD1234', 'sale.order.line', 'create', 'order_id', '145', 'product_id', '30', 'name', 'Four Person Desk', 'product_uom_qty', '3', 'price_unit', '3']\n",
      "['odoo01', '2', 'PWD1234', 'sale.order', 'create', 'partner_id', '1', 'partner_invoice_id', '1', 'partner_shipping_id', '1']\n",
      "['odoo01', '2', 'PWD1234', 'sale.order.line', 'create', 'order_id', '146', 'product_id', '14', 'name', 'Corner Desk Right Sit', 'product_uom_qty', '2', 'price_unit', '2']\n",
      "['odoo01', '2', 'PWD1234', 'sale.order', 'create', 'partner_id', '1', 'partner_invoice_id', '1', 'partner_shipping_id', '1']\n",
      "['odoo01', '2', 'PWD1234', 'sale.order.line', 'create', 'order_id', '147', 'product_id', '8', 'name', 'Desk Combination', 'product_uom_qty', '1', 'price_unit', '5']\n",
      "['odoo01', '2', 'PWD1234', 'sale.order', 'create', 'partner_id', '1', 'partner_invoice_id', '1', 'partner_shipping_id', '1']\n",
      "['odoo01', '2', 'PWD1234', 'sale.order.line', 'create', 'order_id', '148', 'product_id', '18', 'name', 'Pedal Bin', 'product_uom_qty', '3', 'price_unit', '5']\n",
      "['odoo01', '2', 'PWD1234', 'sale.order', 'create', 'partner_id', '1', 'partner_invoice_id', '1', 'partner_shipping_id', '1']\n",
      "['odoo01', '2', 'PWD1234', 'sale.order.line', 'create', 'order_id', '149', 'product_id', '24', 'name', 'Drawer Black', 'product_uom_qty', '3', 'price_unit', '5']\n",
      "['odoo01', '2', 'PWD1234', 'sale.order', 'create', 'partner_id', '1', 'partner_invoice_id', '1', 'partner_shipping_id', '1']\n",
      "['odoo01', '2', 'PWD1234', 'sale.order.line', 'create', 'order_id', '150', 'product_id', '15', 'name', 'Large Cabinet', 'product_uom_qty', '2', 'price_unit', '3']\n",
      "['odoo01', '2', 'PWD1234', 'sale.order', 'create', 'partner_id', '1', 'partner_invoice_id', '1', 'partner_shipping_id', '1']\n",
      "['odoo01', '2', 'PWD1234', 'sale.order.line', 'create', 'order_id', '151', 'product_id', '25', 'name', 'Flipover', 'product_uom_qty', '3', 'price_unit', '3']\n",
      "['odoo01', '2', 'PWD1234', 'sale.order', 'create', 'partner_id', '1', 'partner_invoice_id', '1', 'partner_shipping_id', '1']\n",
      "['odoo01', '2', 'PWD1234', 'sale.order.line', 'create', 'order_id', '152', 'product_id', '33', 'name', 'Cable Management Box', 'product_uom_qty', '1', 'price_unit', '1']\n",
      "['odoo01', '2', 'PWD1234', 'sale.order', 'create', 'partner_id', '1', 'partner_invoice_id', '1', 'partner_shipping_id', '1']\n",
      "['odoo01', '2', 'PWD1234', 'sale.order.line', 'create', 'order_id', '99', 'product_id', '24', 'name', 'Drawer Black', 'product_uom_qty', '1', 'price_unit', '1']\n",
      "['odoo01', '2', 'PWD1234', 'sale.order', 'create', 'partner_id', '1', 'partner_invoice_id', '1', 'partner_shipping_id', '1']\n",
      "['odoo01', '2', 'PWD1234', 'sale.order.line', 'create', 'order_id', '153', 'product_id', '7', 'name', 'Office Design Software', 'product_uom_qty', '1', 'price_unit', '1']\n",
      "['odoo01', '2', 'PWD1234', 'sale.order', 'create', 'partner_id', '1', 'partner_invoice_id', '1', 'partner_shipping_id', '1']\n",
      "['odoo01', '2', 'PWD1234', 'sale.order.line', 'create', 'order_id', '154', 'product_id', '25', 'name', 'Flipover', 'product_uom_qty', '3', 'price_unit', '3']\n",
      "['odoo01', '2', 'PWD1234', 'sale.order', 'create', 'partner_id', '1', 'partner_invoice_id', '1', 'partner_shipping_id', '1']\n",
      "['odoo01', '2', 'PWD1234', 'sale.order.line', 'create', 'order_id', '155', 'product_id', '8', 'name', 'Desk Combination', 'product_uom_qty', '3', 'price_unit', '1']\n",
      "['odoo01', '2', 'PWD1234', 'sale.order', 'create', 'partner_id', '1', 'partner_invoice_id', '1', 'partner_shipping_id', '1']\n",
      "['odoo01', '2', 'PWD1234', 'sale.order.line', 'create', 'order_id', '156', 'product_id', '24', 'name', 'Drawer Black', 'product_uom_qty', '3', 'price_unit', '1']\n",
      "['odoo01', '2', 'PWD1234', 'sale.order', 'create', 'partner_id', '1', 'partner_invoice_id', '1', 'partner_shipping_id', '1']\n",
      "['odoo01', '2', 'PWD1234', 'sale.order.line', 'create', 'order_id', '157', 'product_id', '31', 'name', 'Large Meeting Table', 'product_uom_qty', '3', 'price_unit', '5']\n",
      "['odoo01', '2', 'PWD1234', 'sale.order', 'create', 'partner_id', '1', 'partner_invoice_id', '1', 'partner_shipping_id', '1']\n",
      "['odoo01', '2', 'PWD1234', 'sale.order.line', 'create', 'order_id', '158', 'product_id', '14', 'name', 'Corner Desk Right Sit', 'product_uom_qty', '3', 'price_unit', '4']\n",
      "['odoo01', '2', 'PWD1234', 'sale.order', 'create', 'partner_id', '1', 'partner_invoice_id', '1', 'partner_shipping_id', '1']\n",
      "['odoo01', '2', 'PWD1234', 'sale.order.line', 'create', 'order_id', '159', 'product_id', '23', 'name', 'Corner Desk Black', 'product_uom_qty', '1', 'price_unit', '1']\n",
      "['odoo01', '2', 'PWD1234', 'sale.order', 'create', 'partner_id', '1', 'partner_invoice_id', '1', 'partner_shipping_id', '1']\n",
      "['odoo01', '2', 'PWD1234', 'sale.order.line', 'create', 'order_id', '160', 'product_id', '24', 'name', 'Drawer Black', 'product_uom_qty', '2', 'price_unit', '4']\n",
      "['odoo01', '2', 'PWD1234', 'sale.order', 'create', 'partner_id', '1', 'partner_invoice_id', '1', 'partner_shipping_id', '1']\n",
      "['odoo01', '2', 'PWD1234', 'sale.order.line', 'create', 'order_id', '100', 'product_id', '5', 'name', 'Office Chair', 'product_uom_qty', '2', 'price_unit', '1']\n",
      "['odoo01', '2', 'PWD1234', 'sale.order', 'create', 'partner_id', '1', 'partner_invoice_id', '1', 'partner_shipping_id', '1']\n",
      "['odoo01', '2', 'PWD1234', 'sale.order.line', 'create', 'order_id', '101', 'product_id', '25', 'name', 'Flipover', 'product_uom_qty', '3', 'price_unit', '1']\n",
      "['odoo01', '2', 'PWD1234', 'sale.order', 'create', 'partner_id', '1', 'partner_invoice_id', '1', 'partner_shipping_id', '1']\n",
      "['odoo01', '2', 'PWD1234', 'sale.order.line', 'create', 'order_id', '102', 'product_id', '28', 'name', 'Acoustic Bloc Screens', 'product_uom_qty', '1', 'price_unit', '1']\n",
      "['odoo01', '2', 'PWD1234', 'purchase.requisition', 'create', 'name', 'Conference Chair_94', 'type_id', '2']\n",
      "['odoo01', '2', 'PWD1234', 'purchase.requisition.line', 'create', 'requisition_id', '58', 'product_id', '21', 'product_qty', '1', 'price_unit', '5']\n",
      "['odoo01', '2', 'PWD1234', 'purchase.requisition', 'write', '58', 'state', 'ongoing']\n",
      "['odoo01', '2', 'PWD1234', 'purchase.requisition', 'create', 'name', 'Conference Chair_103', 'type_id', '2']\n",
      "['odoo01', '2', 'PWD1234', 'purchase.requisition.line', 'create', 'requisition_id', '67', 'product_id', '21', 'product_qty', '3', 'price_unit', '4']\n",
      "['odoo01', '2', 'PWD1234', 'purchase.requisition', 'write', '67', 'state', 'ongoing']\n",
      "['odoo01', '2', 'PWD1234', 'purchase.requisition', 'create', 'name', 'Drawer Black_104', 'type_id', '2']\n",
      "['odoo01', '2', 'PWD1234', 'purchase.requisition.line', 'create', 'requisition_id', '68', 'product_id', '24', 'product_qty', '1', 'price_unit', '2']\n",
      "['odoo01', '2', 'PWD1234', 'purchase.requisition', 'write', '68', 'state', 'ongoing']\n",
      "['odoo01', '2', 'PWD1234', 'purchase.requisition', 'create', 'name', 'Drawer_105', 'type_id', '2']\n",
      "['odoo01', '2', 'PWD1234', 'purchase.requisition.line', 'create', 'requisition_id', '69', 'product_id', '29', 'product_qty', '1', 'price_unit', '2']\n",
      "['odoo01', '2', 'PWD1234', 'purchase.requisition', 'write', '69', 'state', 'ongoing']\n",
      "['odoo01', '2', 'PWD1234', 'purchase.requisition', 'create', 'name', 'Chair floor protection_106', 'type_id', '2']\n",
      "['odoo01', '2', 'PWD1234', 'purchase.requisition.line', 'create', 'requisition_id', '70', 'product_id', '35', 'product_qty', '2', 'price_unit', '4']\n",
      "['odoo01', '2', 'PWD1234', 'purchase.requisition', 'write', '70', 'state', 'ongoing']\n",
      "['odoo01', '2', 'PWD1234', 'purchase.requisition', 'create', 'name', 'Drawer Black_107', 'type_id', '2']\n",
      "['odoo01', '2', 'PWD1234', 'purchase.requisition.line', 'create', 'requisition_id', '71', 'product_id', '24', 'product_qty', '1', 'price_unit', '2']\n",
      "['odoo01', '2', 'PWD1234', 'purchase.requisition', 'write', '71', 'state', 'ongoing']\n",
      "['odoo01', '2', 'PWD1234', 'purchase.requisition', 'create', 'name', 'Cable Management Box_108', 'type_id', '2']\n",
      "['odoo01', '2', 'PWD1234', 'purchase.requisition.line', 'create', 'requisition_id', '72', 'product_id', '33', 'product_qty', '2', 'price_unit', '5']\n",
      "['odoo01', '2', 'PWD1234', 'purchase.requisition', 'write', '72', 'state', 'ongoing']\n",
      "['odoo01', '2', 'PWD1234', 'purchase.requisition', 'create', 'name', 'Drawer Black_109', 'type_id', '2']\n",
      "['odoo01', '2', 'PWD1234', 'purchase.requisition.line', 'create', 'requisition_id', '73', 'product_id', '24', 'product_qty', '1', 'price_unit', '2']\n",
      "['odoo01', '2', 'PWD1234', 'purchase.requisition', 'write', '73', 'state', 'ongoing']\n",
      "['odoo01', '2', 'PWD1234', 'purchase.requisition', 'create', 'name', 'Cabinet with Doors_110', 'type_id', '2']\n",
      "['odoo01', '2', 'PWD1234', 'purchase.requisition.line', 'create', 'requisition_id', '74', 'product_id', '19', 'product_qty', '2', 'price_unit', '3']\n",
      "['odoo01', '2', 'PWD1234', 'purchase.requisition', 'write', '74', 'state', 'ongoing']\n",
      "['odoo01', '2', 'PWD1234', 'purchase.requisition', 'create', 'name', 'Cabinet with Doors_111', 'type_id', '2']\n",
      "['odoo01', '2', 'PWD1234', 'purchase.requisition.line', 'create', 'requisition_id', '75', 'product_id', '19', 'product_qty', '3', 'price_unit', '1']\n",
      "['odoo01', '2', 'PWD1234', 'purchase.requisition', 'write', '75', 'state', 'ongoing']\n",
      "['odoo01', '2', 'PWD1234', 'purchase.requisition', 'create', 'name', 'Desk Combination_112', 'type_id', '2']\n",
      "['odoo01', '2', 'PWD1234', 'purchase.requisition.line', 'create', 'requisition_id', '76', 'product_id', '8', 'product_qty', '2', 'price_unit', '3']\n",
      "['odoo01', '2', 'PWD1234', 'purchase.requisition', 'write', '76', 'state', 'ongoing']\n",
      "['odoo01', '2', 'PWD1234', 'purchase.requisition', 'create', 'name', 'Office Chair_95', 'type_id', '2']\n",
      "['odoo01', '2', 'PWD1234', 'purchase.requisition.line', 'create', 'requisition_id', '59', 'product_id', '5', 'product_qty', '3', 'price_unit', '3']\n",
      "['odoo01', '2', 'PWD1234', 'purchase.requisition', 'write', '59', 'state', 'ongoing']\n",
      "['odoo01', '2', 'PWD1234', 'purchase.requisition', 'create', 'name', 'Drawer_113', 'type_id', '2']\n",
      "['odoo01', '2', 'PWD1234', 'purchase.requisition.line', 'create', 'requisition_id', '77', 'product_id', '29', 'product_qty', '2', 'price_unit', '3']\n",
      "['odoo01', '2', 'PWD1234', 'purchase.requisition', 'write', '77', 'state', 'ongoing']\n",
      "['odoo01', '2', 'PWD1234', 'purchase.requisition', 'create', 'name', 'Desk Combination_114', 'type_id', '2']\n",
      "['odoo01', '2', 'PWD1234', 'purchase.requisition.line', 'create', 'requisition_id', '78', 'product_id', '8', 'product_qty', '1', 'price_unit', '2']\n",
      "['odoo01', '2', 'PWD1234', 'purchase.requisition', 'write', '78', 'state', 'ongoing']\n",
      "['odoo01', '2', 'PWD1234', 'purchase.requisition', 'create', 'name', 'Office Chair Black_115', 'type_id', '2']\n",
      "['odoo01', '2', 'PWD1234', 'purchase.requisition.line', 'create', 'requisition_id', '79', 'product_id', '22', 'product_qty', '3', 'price_unit', '5']\n",
      "['odoo01', '2', 'PWD1234', 'purchase.requisition', 'write', '79', 'state', 'ongoing']\n",
      "['odoo01', '2', 'PWD1234', 'purchase.requisition', 'create', 'name', 'Drawer Black_116', 'type_id', '2']\n",
      "['odoo01', '2', 'PWD1234', 'purchase.requisition.line', 'create', 'requisition_id', '80', 'product_id', '24', 'product_qty', '2', 'price_unit', '4']\n",
      "['odoo01', '2', 'PWD1234', 'purchase.requisition', 'write', '80', 'state', 'ongoing']\n",
      "['odoo01', '2', 'PWD1234', 'purchase.requisition', 'create', 'name', 'Cabinet with Doors_117', 'type_id', '2']\n",
      "['odoo01', '2', 'PWD1234', 'purchase.requisition.line', 'create', 'requisition_id', '81', 'product_id', '19', 'product_qty', '1', 'price_unit', '2']\n",
      "['odoo01', '2', 'PWD1234', 'purchase.requisition', 'write', '81', 'state', 'ongoing']\n",
      "['odoo01', '2', 'PWD1234', 'purchase.requisition', 'create', 'name', 'Corner Desk Right Sit_118', 'type_id', '2']\n",
      "['odoo01', '2', 'PWD1234', 'purchase.requisition.line', 'create', 'requisition_id', '82', 'product_id', '14', 'product_qty', '1', 'price_unit', '4']\n",
      "['odoo01', '2', 'PWD1234', 'purchase.requisition', 'write', '82', 'state', 'ongoing']\n",
      "['odoo01', '2', 'PWD1234', 'purchase.requisition', 'create', 'name', 'Chair floor protection_119', 'type_id', '2']\n",
      "['odoo01', '2', 'PWD1234', 'purchase.requisition.line', 'create', 'requisition_id', '83', 'product_id', '35', 'product_qty', '2', 'price_unit', '5']\n",
      "['odoo01', '2', 'PWD1234', 'purchase.requisition', 'write', '83', 'state', 'ongoing']\n",
      "['odoo01', '2', 'PWD1234', 'purchase.requisition', 'create', 'name', 'Conference Chair_120', 'type_id', '2']\n",
      "['odoo01', '2', 'PWD1234', 'purchase.requisition.line', 'create', 'requisition_id', '84', 'product_id', '21', 'product_qty', '2', 'price_unit', '5']\n",
      "['odoo01', '2', 'PWD1234', 'purchase.requisition', 'write', '84', 'state', 'ongoing']\n",
      "['odoo01', '2', 'PWD1234', 'purchase.requisition', 'create', 'name', 'Office Design Software_121', 'type_id', '2']\n",
      "['odoo01', '2', 'PWD1234', 'purchase.requisition.line', 'create', 'requisition_id', '85', 'product_id', '7', 'product_qty', '2', 'price_unit', '3']\n",
      "['odoo01', '2', 'PWD1234', 'purchase.requisition', 'write', '85', 'state', 'ongoing']\n",
      "['odoo01', '2', 'PWD1234', 'purchase.requisition', 'create', 'name', 'Office Design Software_122', 'type_id', '2']\n",
      "['odoo01', '2', 'PWD1234', 'purchase.requisition.line', 'create', 'requisition_id', '86', 'product_id', '7', 'product_qty', '3', 'price_unit', '2']\n",
      "['odoo01', '2', 'PWD1234', 'purchase.requisition', 'write', '86', 'state', 'ongoing']\n",
      "['odoo01', '2', 'PWD1234', 'purchase.requisition', 'create', 'name', 'Conference Chair_96', 'type_id', '2']\n",
      "['odoo01', '2', 'PWD1234', 'purchase.requisition.line', 'create', 'requisition_id', '60', 'product_id', '21', 'product_qty', '3', 'price_unit', '5']\n",
      "['odoo01', '2', 'PWD1234', 'purchase.requisition', 'write', '60', 'state', 'ongoing']\n",
      "['odoo01', '2', 'PWD1234', 'purchase.requisition', 'create', 'name', 'Corner Desk Right Sit_123', 'type_id', '2']\n",
      "['odoo01', '2', 'PWD1234', 'purchase.requisition.line', 'create', 'requisition_id', '87', 'product_id', '14', 'product_qty', '2', 'price_unit', '5']\n",
      "['odoo01', '2', 'PWD1234', 'purchase.requisition', 'write', '87', 'state', 'ongoing']\n",
      "['odoo01', '2', 'PWD1234', 'purchase.requisition', 'create', 'name', 'Office Lamp_124', 'type_id', '2']\n",
      "['odoo01', '2', 'PWD1234', 'purchase.requisition.line', 'create', 'requisition_id', '88', 'product_id', '6', 'product_qty', '2', 'price_unit', '3']\n",
      "['odoo01', '2', 'PWD1234', 'purchase.requisition', 'write', '88', 'state', 'ongoing']\n",
      "['odoo01', '2', 'PWD1234', 'purchase.requisition', 'create', 'name', 'Chair floor protection_125', 'type_id', '2']\n",
      "['odoo01', '2', 'PWD1234', 'purchase.requisition.line', 'create', 'requisition_id', '89', 'product_id', '35', 'product_qty', '1', 'price_unit', '1']\n",
      "['odoo01', '2', 'PWD1234', 'purchase.requisition', 'write', '89', 'state', 'ongoing']\n",
      "['odoo01', '2', 'PWD1234', 'purchase.requisition', 'create', 'name', 'Storage Box_126', 'type_id', '2']\n",
      "['odoo01', '2', 'PWD1234', 'purchase.requisition.line', 'create', 'requisition_id', '90', 'product_id', '16', 'product_qty', '3', 'price_unit', '4']\n",
      "['odoo01', '2', 'PWD1234', 'purchase.requisition', 'write', '90', 'state', 'ongoing']\n",
      "['odoo01', '2', 'PWD1234', 'purchase.requisition', 'create', 'name', 'Office Chair Black_127', 'type_id', '2']\n",
      "['odoo01', '2', 'PWD1234', 'purchase.requisition.line', 'create', 'requisition_id', '91', 'product_id', '22', 'product_qty', '2', 'price_unit', '1']\n",
      "['odoo01', '2', 'PWD1234', 'purchase.requisition', 'write', '91', 'state', 'ongoing']\n",
      "['odoo01', '2', 'PWD1234', 'purchase.requisition', 'create', 'name', 'Corner Desk Right Sit_128', 'type_id', '2']\n",
      "['odoo01', '2', 'PWD1234', 'purchase.requisition.line', 'create', 'requisition_id', '92', 'product_id', '14', 'product_qty', '3', 'price_unit', '2']\n",
      "['odoo01', '2', 'PWD1234', 'purchase.requisition', 'write', '92', 'state', 'ongoing']\n",
      "['odoo01', '2', 'PWD1234', 'purchase.requisition', 'create', 'name', 'Three-Seat Sofa_129', 'type_id', '2']\n",
      "['odoo01', '2', 'PWD1234', 'purchase.requisition.line', 'create', 'requisition_id', '93', 'product_id', '32', 'product_qty', '2', 'price_unit', '3']\n",
      "['odoo01', '2', 'PWD1234', 'purchase.requisition', 'write', '93', 'state', 'ongoing']\n",
      "['odoo01', '2', 'PWD1234', 'purchase.requisition', 'create', 'name', 'Cable Management Box_130', 'type_id', '2']\n",
      "['odoo01', '2', 'PWD1234', 'purchase.requisition.line', 'create', 'requisition_id', '94', 'product_id', '33', 'product_qty', '3', 'price_unit', '1']\n",
      "['odoo01', '2', 'PWD1234', 'purchase.requisition', 'write', '94', 'state', 'ongoing']\n",
      "['odoo01', '2', 'PWD1234', 'purchase.requisition', 'create', 'name', 'Cabinet with Doors_131', 'type_id', '2']\n",
      "['odoo01', '2', 'PWD1234', 'purchase.requisition.line', 'create', 'requisition_id', '95', 'product_id', '19', 'product_qty', '3', 'price_unit', '4']\n",
      "['odoo01', '2', 'PWD1234', 'purchase.requisition', 'write', '95', 'state', 'ongoing']\n",
      "['odoo01', '2', 'PWD1234', 'purchase.requisition', 'create', 'name', 'Three-Seat Sofa_132', 'type_id', '2']\n",
      "['odoo01', '2', 'PWD1234', 'purchase.requisition.line', 'create', 'requisition_id', '96', 'product_id', '32', 'product_qty', '2', 'price_unit', '3']\n",
      "['odoo01', '2', 'PWD1234', 'purchase.requisition', 'write', '96', 'state', 'ongoing']\n",
      "['odoo01', '2', 'PWD1234', 'purchase.requisition', 'create', 'name', 'Office Chair Black_97', 'type_id', '2']\n",
      "['odoo01', '2', 'PWD1234', 'purchase.requisition.line', 'create', 'requisition_id', '61', 'product_id', '22', 'product_qty', '2', 'price_unit', '3']\n",
      "['odoo01', '2', 'PWD1234', 'purchase.requisition', 'write', '61', 'state', 'ongoing']\n",
      "['odoo01', '2', 'PWD1234', 'purchase.requisition', 'create', 'name', 'Storage Box_133', 'type_id', '2']\n",
      "['odoo01', '2', 'PWD1234', 'purchase.requisition.line', 'create', 'requisition_id', '97', 'product_id', '16', 'product_qty', '1', 'price_unit', '1']\n",
      "['odoo01', '2', 'PWD1234', 'purchase.requisition', 'write', '97', 'state', 'ongoing']\n",
      "['odoo01', '2', 'PWD1234', 'purchase.requisition', 'create', 'name', 'Cabinet with Doors_134', 'type_id', '2']\n",
      "['odoo01', '2', 'PWD1234', 'purchase.requisition.line', 'create', 'requisition_id', '98', 'product_id', '19', 'product_qty', '1', 'price_unit', '3']\n",
      "['odoo01', '2', 'PWD1234', 'purchase.requisition', 'write', '98', 'state', 'ongoing']\n",
      "['odoo01', '2', 'PWD1234', 'purchase.requisition', 'create', 'name', 'Four Person Desk_135', 'type_id', '2']\n",
      "['odoo01', '2', 'PWD1234', 'purchase.requisition.line', 'create', 'requisition_id', '99', 'product_id', '30', 'product_qty', '1', 'price_unit', '4']\n",
      "['odoo01', '2', 'PWD1234', 'purchase.requisition', 'write', '99', 'state', 'ongoing']\n",
      "['odoo01', '2', 'PWD1234', 'purchase.requisition', 'create', 'name', 'Office Lamp_136', 'type_id', '2']\n",
      "['odoo01', '2', 'PWD1234', 'purchase.requisition.line', 'create', 'requisition_id', '100', 'product_id', '6', 'product_qty', '1', 'price_unit', '3']\n",
      "['odoo01', '2', 'PWD1234', 'purchase.requisition', 'write', '100', 'state', 'ongoing']\n",
      "['odoo01', '2', 'PWD1234', 'purchase.requisition', 'create', 'name', 'Large Desk_137', 'type_id', '2']\n",
      "['odoo01', '2', 'PWD1234', 'purchase.requisition.line', 'create', 'requisition_id', '101', 'product_id', '17', 'product_qty', '3', 'price_unit', '4']\n",
      "['odoo01', '2', 'PWD1234', 'purchase.requisition', 'write', '101', 'state', 'ongoing']\n",
      "['odoo01', '2', 'PWD1234', 'purchase.requisition', 'create', 'name', 'Large Cabinet_138', 'type_id', '2']\n",
      "['odoo01', '2', 'PWD1234', 'purchase.requisition.line', 'create', 'requisition_id', '102', 'product_id', '15', 'product_qty', '2', 'price_unit', '5']\n",
      "['odoo01', '2', 'PWD1234', 'purchase.requisition', 'write', '102', 'state', 'ongoing']\n",
      "['odoo01', '2', 'PWD1234', 'purchase.requisition', 'create', 'name', 'Pedal Bin_139', 'type_id', '2']\n",
      "['odoo01', '2', 'PWD1234', 'purchase.requisition.line', 'create', 'requisition_id', '103', 'product_id', '18', 'product_qty', '1', 'price_unit', '2']\n",
      "['odoo01', '2', 'PWD1234', 'purchase.requisition', 'write', '103', 'state', 'ongoing']\n",
      "['odoo01', '2', 'PWD1234', 'purchase.requisition', 'create', 'name', 'Pedal Bin_140', 'type_id', '2']\n",
      "['odoo01', '2', 'PWD1234', 'purchase.requisition.line', 'create', 'requisition_id', '104', 'product_id', '18', 'product_qty', '2', 'price_unit', '1']\n",
      "['odoo01', '2', 'PWD1234', 'purchase.requisition', 'write', '104', 'state', 'ongoing']\n",
      "['odoo01', '2', 'PWD1234', 'purchase.requisition', 'create', 'name', 'Office Design Software_141', 'type_id', '2']\n",
      "['odoo01', '2', 'PWD1234', 'purchase.requisition.line', 'create', 'requisition_id', '105', 'product_id', '7', 'product_qty', '2', 'price_unit', '5']\n",
      "['odoo01', '2', 'PWD1234', 'purchase.requisition', 'write', '105', 'state', 'ongoing']\n",
      "['odoo01', '2', 'PWD1234', 'purchase.requisition', 'create', 'name', 'Drawer Black_142', 'type_id', '2']\n",
      "['odoo01', '2', 'PWD1234', 'purchase.requisition.line', 'create', 'requisition_id', '106', 'product_id', '24', 'product_qty', '1', 'price_unit', '3']\n",
      "['odoo01', '2', 'PWD1234', 'purchase.requisition', 'write', '106', 'state', 'ongoing']\n",
      "['odoo01', '2', 'PWD1234', 'purchase.requisition', 'create', 'name', 'Large Meeting Table_98', 'type_id', '2']\n",
      "['odoo01', '2', 'PWD1234', 'purchase.requisition.line', 'create', 'requisition_id', '62', 'product_id', '31', 'product_qty', '1', 'price_unit', '1']\n",
      "['odoo01', '2', 'PWD1234', 'purchase.requisition', 'write', '62', 'state', 'ongoing']\n",
      "['odoo01', '2', 'PWD1234', 'purchase.requisition', 'create', 'name', 'Office Design Software_143', 'type_id', '2']\n",
      "['odoo01', '2', 'PWD1234', 'purchase.requisition.line', 'create', 'requisition_id', '107', 'product_id', '7', 'product_qty', '3', 'price_unit', '5']\n",
      "['odoo01', '2', 'PWD1234', 'purchase.requisition', 'write', '107', 'state', 'ongoing']\n",
      "['odoo01', '2', 'PWD1234', 'purchase.requisition', 'create', 'name', 'Storage Box_144', 'type_id', '2']\n",
      "['odoo01', '2', 'PWD1234', 'purchase.requisition.line', 'create', 'requisition_id', '108', 'product_id', '16', 'product_qty', '3', 'price_unit', '4']\n",
      "['odoo01', '2', 'PWD1234', 'purchase.requisition', 'write', '108', 'state', 'ongoing']\n",
      "['odoo01', '2', 'PWD1234', 'purchase.requisition', 'create', 'name', 'Four Person Desk_145', 'type_id', '2']\n",
      "['odoo01', '2', 'PWD1234', 'purchase.requisition.line', 'create', 'requisition_id', '109', 'product_id', '30', 'product_qty', '3', 'price_unit', '3']\n",
      "['odoo01', '2', 'PWD1234', 'purchase.requisition', 'write', '109', 'state', 'ongoing']\n",
      "['odoo01', '2', 'PWD1234', 'purchase.requisition', 'create', 'name', 'Corner Desk Right Sit_146', 'type_id', '2']\n",
      "['odoo01', '2', 'PWD1234', 'purchase.requisition.line', 'create', 'requisition_id', '110', 'product_id', '14', 'product_qty', '2', 'price_unit', '2']\n",
      "['odoo01', '2', 'PWD1234', 'purchase.requisition', 'write', '110', 'state', 'ongoing']\n",
      "['odoo01', '2', 'PWD1234', 'purchase.requisition', 'create', 'name', 'Desk Combination_147', 'type_id', '2']\n",
      "['odoo01', '2', 'PWD1234', 'purchase.requisition.line', 'create', 'requisition_id', '111', 'product_id', '8', 'product_qty', '1', 'price_unit', '5']\n",
      "['odoo01', '2', 'PWD1234', 'purchase.requisition', 'write', '111', 'state', 'ongoing']\n",
      "['odoo01', '2', 'PWD1234', 'purchase.requisition', 'create', 'name', 'Pedal Bin_148', 'type_id', '2']\n",
      "['odoo01', '2', 'PWD1234', 'purchase.requisition.line', 'create', 'requisition_id', '112', 'product_id', '18', 'product_qty', '3', 'price_unit', '5']\n",
      "['odoo01', '2', 'PWD1234', 'purchase.requisition', 'write', '112', 'state', 'ongoing']\n",
      "['odoo01', '2', 'PWD1234', 'purchase.requisition', 'create', 'name', 'Drawer Black_149', 'type_id', '2']\n",
      "['odoo01', '2', 'PWD1234', 'purchase.requisition.line', 'create', 'requisition_id', '113', 'product_id', '24', 'product_qty', '3', 'price_unit', '5']\n",
      "['odoo01', '2', 'PWD1234', 'purchase.requisition', 'write', '113', 'state', 'ongoing']\n",
      "['odoo01', '2', 'PWD1234', 'purchase.requisition', 'create', 'name', 'Large Cabinet_150', 'type_id', '2']\n",
      "['odoo01', '2', 'PWD1234', 'purchase.requisition.line', 'create', 'requisition_id', '114', 'product_id', '15', 'product_qty', '2', 'price_unit', '3']\n",
      "['odoo01', '2', 'PWD1234', 'purchase.requisition', 'write', '114', 'state', 'ongoing']\n",
      "['odoo01', '2', 'PWD1234', 'purchase.requisition.line', 'create', 'requisition_id', '115', 'product_id', '25', 'product_qty', '3', 'price_unit', '3']\n",
      "['odoo01', '2', 'PWD1234', 'purchase.requisition', 'write', '115', 'state', 'ongoing']\n",
      "['odoo01', '2', 'PWD1234', 'purchase.requisition', 'create', 'name', 'Cable Management Box_152', 'type_id', '2']\n",
      "['odoo01', '2', 'PWD1234', 'purchase.requisition.line', 'create', 'requisition_id', '116', 'product_id', '33', 'product_qty', '1', 'price_unit', '1']\n",
      "['odoo01', '2', 'PWD1234', 'purchase.requisition', 'write', '116', 'state', 'ongoing']\n",
      "['odoo01', '2', 'PWD1234', 'purchase.requisition', 'create', 'name', 'Drawer Black_99', 'type_id', '2']\n",
      "['odoo01', '2', 'PWD1234', 'purchase.requisition.line', 'create', 'requisition_id', '63', 'product_id', '24', 'product_qty', '1', 'price_unit', '1']\n",
      "['odoo01', '2', 'PWD1234', 'purchase.requisition', 'write', '63', 'state', 'ongoing']\n",
      "['odoo01', '2', 'PWD1234', 'purchase.requisition', 'create', 'name', 'Office Design Software_153', 'type_id', '2']\n",
      "['odoo01', '2', 'PWD1234', 'purchase.requisition.line', 'create', 'requisition_id', '117', 'product_id', '7', 'product_qty', '1', 'price_unit', '1']\n",
      "['odoo01', '2', 'PWD1234', 'purchase.requisition', 'write', '117', 'state', 'ongoing']\n",
      "['odoo01', '2', 'PWD1234', 'purchase.requisition', 'create', 'name', 'Flipover_154', 'type_id', '2']\n",
      "['odoo01', '2', 'PWD1234', 'purchase.requisition.line', 'create', 'requisition_id', '118', 'product_id', '25', 'product_qty', '3', 'price_unit', '3']\n",
      "['odoo01', '2', 'PWD1234', 'purchase.requisition', 'write', '118', 'state', 'ongoing']\n",
      "['odoo01', '2', 'PWD1234', 'purchase.requisition', 'create', 'name', 'Desk Combination_155', 'type_id', '2']\n",
      "['odoo01', '2', 'PWD1234', 'purchase.requisition.line', 'create', 'requisition_id', '119', 'product_id', '8', 'product_qty', '3', 'price_unit', '1']\n",
      "['odoo01', '2', 'PWD1234', 'purchase.requisition', 'write', '119', 'state', 'ongoing']\n",
      "['odoo01', '2', 'PWD1234', 'purchase.requisition', 'create', 'name', 'Drawer Black_156', 'type_id', '2']\n",
      "['odoo01', '2', 'PWD1234', 'purchase.requisition.line', 'create', 'requisition_id', '120', 'product_id', '24', 'product_qty', '3', 'price_unit', '1']\n",
      "['odoo01', '2', 'PWD1234', 'purchase.requisition', 'write', '120', 'state', 'ongoing']\n",
      "['odoo01', '2', 'PWD1234', 'purchase.requisition', 'create', 'name', 'Large Meeting Table_157', 'type_id', '2']\n",
      "['odoo01', '2', 'PWD1234', 'purchase.requisition.line', 'create', 'requisition_id', '121', 'product_id', '31', 'product_qty', '3', 'price_unit', '5']\n",
      "['odoo01', '2', 'PWD1234', 'purchase.requisition', 'write', '121', 'state', 'ongoing']\n",
      "['odoo01', '2', 'PWD1234', 'purchase.requisition', 'create', 'name', 'Corner Desk Right Sit_158', 'type_id', '2']\n",
      "['odoo01', '2', 'PWD1234', 'purchase.requisition.line', 'create', 'requisition_id', '122', 'product_id', '14', 'product_qty', '3', 'price_unit', '4']\n",
      "['odoo01', '2', 'PWD1234', 'purchase.requisition', 'write', '122', 'state', 'ongoing']\n",
      "['odoo01', '2', 'PWD1234', 'purchase.requisition', 'create', 'name', 'Corner Desk Black_159', 'type_id', '2']\n",
      "['odoo01', '2', 'PWD1234', 'purchase.requisition.line', 'create', 'requisition_id', '123', 'product_id', '23', 'product_qty', '1', 'price_unit', '1']\n",
      "['odoo01', '2', 'PWD1234', 'purchase.requisition', 'write', '123', 'state', 'ongoing']\n",
      "['odoo01', '2', 'PWD1234', 'purchase.requisition', 'create', 'name', 'Drawer Black_160', 'type_id', '2']\n",
      "['odoo01', '2', 'PWD1234', 'purchase.requisition.line', 'create', 'requisition_id', '124', 'product_id', '24', 'product_qty', '2', 'price_unit', '4']\n",
      "['odoo01', '2', 'PWD1234', 'purchase.requisition', 'write', '124', 'state', 'ongoing']\n",
      "['odoo01', '2', 'PWD1234', 'purchase.requisition', 'create', 'name', 'Office Chair_100', 'type_id', '2']\n",
      "['odoo01', '2', 'PWD1234', 'purchase.requisition.line', 'create', 'requisition_id', '64', 'product_id', '5', 'product_qty', '2', 'price_unit', '1']\n",
      "['odoo01', '2', 'PWD1234', 'purchase.requisition', 'write', '64', 'state', 'ongoing']\n",
      "['odoo01', '2', 'PWD1234', 'purchase.requisition', 'create', 'name', 'Flipover_101', 'type_id', '2']\n",
      "['odoo01', '2', 'PWD1234', 'purchase.requisition.line', 'create', 'requisition_id', '65', 'product_id', '25', 'product_qty', '3', 'price_unit', '1']\n",
      "['odoo01', '2', 'PWD1234', 'purchase.requisition', 'write', '65', 'state', 'ongoing']\n",
      "['odoo01', '2', 'PWD1234', 'purchase.requisition', 'create', 'name', 'Acoustic Bloc Screens_102', 'type_id', '2']\n",
      "['odoo01', '2', 'PWD1234', 'purchase.requisition.line', 'create', 'requisition_id', '66', 'product_id', '28', 'product_qty', '1', 'price_unit', '1']\n",
      "['odoo01', '2', 'PWD1234', 'purchase.requisition', 'write', '66', 'state', 'ongoing']\n",
      "['odoo01', '2', 'PWD1234', 'purchase.order', 'create', 'partner_id', '1249', 'requisition_id', '58']\n",
      "['odoo01', '2', 'PWD1234', 'purchase.order.line', 'create', 'order_id', '152', 'product_uom', '1', 'product_id', '21', 'name', 'Conference Chair', 'product_qty', '1', 'date_planned', '2020-12-21 00:15:23.938842', 'price_unit', '5']\n",
      "['odoo01', '2', 'PWD1234', 'purchase.order', 'create', 'partner_id', '1222', 'requisition_id', '58']\n",
      "['odoo01', '2', 'PWD1234', 'purchase.order.line', 'create', 'order_id', '153', 'product_uom', '1', 'product_id', '21', 'name', 'Conference Chair', 'product_qty', '1', 'date_planned', '2020-12-21 00:15:23.938842', 'price_unit', '5']\n",
      "['odoo01', '2', 'PWD1234', 'purchase.order', 'create', 'partner_id', '1243', 'requisition_id', '58']\n",
      "['odoo01', '2', 'PWD1234', 'purchase.order.line', 'create', 'order_id', '154', 'product_uom', '1', 'product_id', '21', 'name', 'Conference Chair', 'product_qty', '1', 'date_planned', '2020-12-21 00:15:23.938842', 'price_unit', '5']\n",
      "['odoo01', '2', 'PWD1234', 'purchase.requisition', 'write', '58', 'state', 'in_progress']\n",
      "['odoo01', '2', 'PWD1234', 'purchase.order', 'create', 'partner_id', '1249', 'requisition_id', '67']\n",
      "['odoo01', '2', 'PWD1234', 'purchase.order.line', 'create', 'order_id', '177', 'product_uom', '1', 'product_id', '21', 'name', 'Conference Chair', 'product_qty', '3', 'date_planned', '2020-12-21 03:54:03.531428', 'price_unit', '4']\n",
      "['odoo01', '2', 'PWD1234', 'purchase.order', 'create', 'partner_id', '1220', 'requisition_id', '67']\n",
      "['odoo01', '2', 'PWD1234', 'purchase.order.line', 'create', 'order_id', '178', 'product_uom', '1', 'product_id', '21', 'name', 'Conference Chair', 'product_qty', '3', 'date_planned', '2020-12-21 03:54:03.531428', 'price_unit', '4']\n",
      "['odoo01', '2', 'PWD1234', 'purchase.order', 'create', 'partner_id', '1219', 'requisition_id', '67']\n",
      "['odoo01', '2', 'PWD1234', 'purchase.order.line', 'create', 'order_id', '179', 'product_uom', '1', 'product_id', '21', 'name', 'Conference Chair', 'product_qty', '3', 'date_planned', '2020-12-21 03:54:03.531428', 'price_unit', '4']\n",
      "['odoo01', '2', 'PWD1234', 'purchase.requisition', 'write', '67', 'state', 'in_progress']\n",
      "['odoo01', '2', 'PWD1234', 'purchase.order', 'create', 'partner_id', '1249', 'requisition_id', '68']\n",
      "['odoo01', '2', 'PWD1234', 'purchase.order.line', 'create', 'order_id', '180', 'product_uom', '1', 'product_id', '24', 'name', 'Drawer Black', 'product_qty', '1', 'date_planned', '2020-12-21 04:10:30.562706', 'price_unit', '2']\n",
      "['odoo01', '2', 'PWD1234', 'purchase.order', 'create', 'partner_id', '1219', 'requisition_id', '68']\n",
      "['odoo01', '2', 'PWD1234', 'purchase.order.line', 'create', 'order_id', '181', 'product_uom', '1', 'product_id', '24', 'name', 'Drawer Black', 'product_qty', '1', 'date_planned', '2020-12-21 04:10:30.562706', 'price_unit', '2']\n",
      "['odoo01', '2', 'PWD1234', 'purchase.order', 'create', 'partner_id', '1220', 'requisition_id', '68']\n",
      "['odoo01', '2', 'PWD1234', 'purchase.order.line', 'create', 'order_id', '182', 'product_uom', '1', 'product_id', '24', 'name', 'Drawer Black', 'product_qty', '1', 'date_planned', '2020-12-21 04:10:30.562706', 'price_unit', '2']\n",
      "['odoo01', '2', 'PWD1234', 'purchase.requisition', 'write', '68', 'state', 'in_progress']\n",
      "['odoo01', '2', 'PWD1234', 'purchase.order', 'create', 'partner_id', '1249', 'requisition_id', '69']\n",
      "['odoo01', '2', 'PWD1234', 'purchase.order.line', 'create', 'order_id', '183', 'product_uom', '1', 'product_id', '29', 'name', 'Drawer', 'product_qty', '1', 'date_planned', '2020-12-21 04:27:03.816431', 'price_unit', '2']\n",
      "['odoo01', '2', 'PWD1234', 'purchase.order', 'create', 'partner_id', '1220', 'requisition_id', '69']\n",
      "['odoo01', '2', 'PWD1234', 'purchase.order.line', 'create', 'order_id', '184', 'product_uom', '1', 'product_id', '29', 'name', 'Drawer', 'product_qty', '1', 'date_planned', '2020-12-21 04:27:03.816431', 'price_unit', '2']\n",
      "['odoo01', '2', 'PWD1234', 'purchase.order', 'create', 'partner_id', '1222', 'requisition_id', '69']\n",
      "['odoo01', '2', 'PWD1234', 'purchase.order.line', 'create', 'order_id', '185', 'product_uom', '1', 'product_id', '29', 'name', 'Drawer', 'product_qty', '1', 'date_planned', '2020-12-21 04:27:03.816431', 'price_unit', '2']\n",
      "['odoo01', '2', 'PWD1234', 'purchase.order', 'create', 'partner_id', '1219', 'requisition_id', '69']\n",
      "['odoo01', '2', 'PWD1234', 'purchase.order.line', 'create', 'order_id', '186', 'product_uom', '1', 'product_id', '29', 'name', 'Drawer', 'product_qty', '1', 'date_planned', '2020-12-21 04:27:03.816431', 'price_unit', '2']\n",
      "['odoo01', '2', 'PWD1234', 'purchase.requisition', 'write', '69', 'state', 'in_progress']\n",
      "['odoo01', '2', 'PWD1234', 'purchase.order', 'create', 'partner_id', '1222', 'requisition_id', '70']\n",
      "['odoo01', '2', 'PWD1234', 'purchase.order.line', 'create', 'order_id', '187', 'product_uom', '1', 'product_id', '35', 'name', 'Chair floor protection', 'product_qty', '2', 'date_planned', '2020-12-21 04:53:32.291803', 'price_unit', '4']\n",
      "['odoo01', '2', 'PWD1234', 'purchase.order', 'create', 'partner_id', '1249', 'requisition_id', '70']\n",
      "['odoo01', '2', 'PWD1234', 'purchase.order.line', 'create', 'order_id', '188', 'product_uom', '1', 'product_id', '35', 'name', 'Chair floor protection', 'product_qty', '2', 'date_planned', '2020-12-21 04:53:32.291803', 'price_unit', '4']\n",
      "['odoo01', '2', 'PWD1234', 'purchase.order', 'create', 'partner_id', '1220', 'requisition_id', '70']\n",
      "['odoo01', '2', 'PWD1234', 'purchase.order.line', 'create', 'order_id', '189', 'product_uom', '1', 'product_id', '35', 'name', 'Chair floor protection', 'product_qty', '2', 'date_planned', '2020-12-21 04:53:32.291803', 'price_unit', '4']\n",
      "['odoo01', '2', 'PWD1234', 'purchase.order', 'create', 'partner_id', '1243', 'requisition_id', '70']\n",
      "['odoo01', '2', 'PWD1234', 'purchase.order.line', 'create', 'order_id', '190', 'product_uom', '1', 'product_id', '35', 'name', 'Chair floor protection', 'product_qty', '2', 'date_planned', '2020-12-21 04:53:32.291803', 'price_unit', '4']\n",
      "['odoo01', '2', 'PWD1234', 'purchase.requisition', 'write', '70', 'state', 'in_progress']\n",
      "['odoo01', '2', 'PWD1234', 'purchase.order', 'create', 'partner_id', '1222', 'requisition_id', '71']\n",
      "['odoo01', '2', 'PWD1234', 'purchase.order.line', 'create', 'order_id', '191', 'product_uom', '1', 'product_id', '24', 'name', 'Drawer Black', 'product_qty', '1', 'date_planned', '2020-12-21 05:19:58.109556', 'price_unit', '2']\n",
      "['odoo01', '2', 'PWD1234', 'purchase.order', 'create', 'partner_id', '1249', 'requisition_id', '71']\n",
      "['odoo01', '2', 'PWD1234', 'purchase.order.line', 'create', 'order_id', '192', 'product_uom', '1', 'product_id', '24', 'name', 'Drawer Black', 'product_qty', '1', 'date_planned', '2020-12-21 05:19:58.109556', 'price_unit', '2']\n",
      "['odoo01', '2', 'PWD1234', 'purchase.order', 'create', 'partner_id', '1219', 'requisition_id', '71']\n",
      "['odoo01', '2', 'PWD1234', 'purchase.order.line', 'create', 'order_id', '193', 'product_uom', '1', 'product_id', '24', 'name', 'Drawer Black', 'product_qty', '1', 'date_planned', '2020-12-21 05:19:58.109556', 'price_unit', '2']\n",
      "['odoo01', '2', 'PWD1234', 'purchase.order', 'create', 'partner_id', '1243', 'requisition_id', '71']\n",
      "['odoo01', '2', 'PWD1234', 'purchase.order.line', 'create', 'order_id', '194', 'product_uom', '1', 'product_id', '24', 'name', 'Drawer Black', 'product_qty', '1', 'date_planned', '2020-12-21 05:19:58.109556', 'price_unit', '2']\n",
      "['odoo01', '2', 'PWD1234', 'purchase.requisition', 'write', '71', 'state', 'in_progress']\n",
      "['odoo01', '2', 'PWD1234', 'purchase.order', 'create', 'partner_id', '1249', 'requisition_id', '72']\n",
      "['odoo01', '2', 'PWD1234', 'purchase.order.line', 'create', 'order_id', '195', 'product_uom', '3', 'product_id', '33', 'name', 'Cable Management Box', 'product_qty', '2', 'date_planned', '2020-12-21 05:46:27.707052', 'price_unit', '5']\n",
      "['odoo01', '2', 'PWD1234', 'purchase.order', 'create', 'partner_id', '1220', 'requisition_id', '72']\n",
      "['odoo01', '2', 'PWD1234', 'purchase.order.line', 'create', 'order_id', '196', 'product_uom', '3', 'product_id', '33', 'name', 'Cable Management Box', 'product_qty', '2', 'date_planned', '2020-12-21 05:46:27.707052', 'price_unit', '5']\n",
      "['odoo01', '2', 'PWD1234', 'purchase.order', 'create', 'partner_id', '1243', 'requisition_id', '72']\n",
      "['odoo01', '2', 'PWD1234', 'purchase.order.line', 'create', 'order_id', '197', 'product_uom', '3', 'product_id', '33', 'name', 'Cable Management Box', 'product_qty', '2', 'date_planned', '2020-12-21 05:46:27.707052', 'price_unit', '5']\n",
      "['odoo01', '2', 'PWD1234', 'purchase.requisition', 'write', '72', 'state', 'in_progress']\n",
      "['odoo01', '2', 'PWD1234', 'purchase.order', 'create', 'partner_id', '1249', 'requisition_id', '73']\n",
      "['odoo01', '2', 'PWD1234', 'purchase.order.line', 'create', 'order_id', '198', 'product_uom', '1', 'product_id', '24', 'name', 'Drawer Black', 'product_qty', '1', 'date_planned', '2020-12-21 06:02:55.173246', 'price_unit', '2']\n",
      "['odoo01', '2', 'PWD1234', 'purchase.order', 'create', 'partner_id', '1220', 'requisition_id', '73']\n",
      "['odoo01', '2', 'PWD1234', 'purchase.order.line', 'create', 'order_id', '199', 'product_uom', '1', 'product_id', '24', 'name', 'Drawer Black', 'product_qty', '1', 'date_planned', '2020-12-21 06:02:55.173246', 'price_unit', '2']\n",
      "['odoo01', '2', 'PWD1234', 'purchase.order', 'create', 'partner_id', '1222', 'requisition_id', '73']\n",
      "['odoo01', '2', 'PWD1234', 'purchase.order.line', 'create', 'order_id', '200', 'product_uom', '1', 'product_id', '24', 'name', 'Drawer Black', 'product_qty', '1', 'date_planned', '2020-12-21 06:02:55.173246', 'price_unit', '2']\n",
      "['odoo01', '2', 'PWD1234', 'purchase.requisition', 'write', '73', 'state', 'in_progress']\n",
      "['odoo01', '2', 'PWD1234', 'purchase.order', 'create', 'partner_id', '1220', 'requisition_id', '74']\n",
      "['odoo01', '2', 'PWD1234', 'purchase.order.line', 'create', 'order_id', '201', 'product_uom', '1', 'product_id', '19', 'name', 'Cabinet with Doors', 'product_qty', '2', 'date_planned', '2020-12-21 06:19:29.691431', 'price_unit', '3']\n",
      "['odoo01', '2', 'PWD1234', 'purchase.order', 'create', 'partner_id', '1222', 'requisition_id', '74']\n",
      "['odoo01', '2', 'PWD1234', 'purchase.order.line', 'create', 'order_id', '202', 'product_uom', '1', 'product_id', '19', 'name', 'Cabinet with Doors', 'product_qty', '2', 'date_planned', '2020-12-21 06:19:29.691431', 'price_unit', '3']\n",
      "['odoo01', '2', 'PWD1234', 'purchase.order', 'create', 'partner_id', '1243', 'requisition_id', '74']\n",
      "['odoo01', '2', 'PWD1234', 'purchase.order.line', 'create', 'order_id', '203', 'product_uom', '1', 'product_id', '19', 'name', 'Cabinet with Doors', 'product_qty', '2', 'date_planned', '2020-12-21 06:19:29.691431', 'price_unit', '3']\n",
      "['odoo01', '2', 'PWD1234', 'purchase.requisition', 'write', '74', 'state', 'in_progress']\n",
      "['odoo01', '2', 'PWD1234', 'purchase.order', 'create', 'partner_id', '1243', 'requisition_id', '75']\n",
      "['odoo01', '2', 'PWD1234', 'purchase.order.line', 'create', 'order_id', '204', 'product_uom', '1', 'product_id', '19', 'name', 'Cabinet with Doors', 'product_qty', '3', 'date_planned', '2020-12-21 06:45:49.666788', 'price_unit', '1']\n",
      "['odoo01', '2', 'PWD1234', 'purchase.order', 'create', 'partner_id', '1222', 'requisition_id', '75']\n",
      "['odoo01', '2', 'PWD1234', 'purchase.order.line', 'create', 'order_id', '205', 'product_uom', '1', 'product_id', '19', 'name', 'Cabinet with Doors', 'product_qty', '3', 'date_planned', '2020-12-21 06:45:49.666788', 'price_unit', '1']\n",
      "['odoo01', '2', 'PWD1234', 'purchase.requisition', 'write', '75', 'state', 'in_progress']\n",
      "['odoo01', '2', 'PWD1234', 'purchase.order', 'create', 'partner_id', '1220', 'requisition_id', '76']\n",
      "['odoo01', '2', 'PWD1234', 'purchase.order.line', 'create', 'order_id', '206', 'product_uom', '1', 'product_id', '8', 'name', 'Desk Combination', 'product_qty', '2', 'date_planned', '2020-12-21 07:12:11.890813', 'price_unit', '3']\n",
      "['odoo01', '2', 'PWD1234', 'purchase.order', 'create', 'partner_id', '1222', 'requisition_id', '76']\n",
      "['odoo01', '2', 'PWD1234', 'purchase.order.line', 'create', 'order_id', '207', 'product_uom', '1', 'product_id', '8', 'name', 'Desk Combination', 'product_qty', '2', 'date_planned', '2020-12-21 07:12:11.890813', 'price_unit', '3']\n",
      "['odoo01', '2', 'PWD1234', 'purchase.order', 'create', 'partner_id', '1219', 'requisition_id', '76']\n",
      "['odoo01', '2', 'PWD1234', 'purchase.order.line', 'create', 'order_id', '208', 'product_uom', '1', 'product_id', '8', 'name', 'Desk Combination', 'product_qty', '2', 'date_planned', '2020-12-21 07:12:11.890813', 'price_unit', '3']\n",
      "['odoo01', '2', 'PWD1234', 'purchase.order', 'create', 'partner_id', '1243', 'requisition_id', '76']\n",
      "['odoo01', '2', 'PWD1234', 'purchase.order.line', 'create', 'order_id', '209', 'product_uom', '1', 'product_id', '8', 'name', 'Desk Combination', 'product_qty', '2', 'date_planned', '2020-12-21 07:12:11.890813', 'price_unit', '3']\n",
      "['odoo01', '2', 'PWD1234', 'purchase.requisition', 'write', '76', 'state', 'in_progress']\n",
      "['odoo01', '2', 'PWD1234', 'purchase.order', 'create', 'partner_id', '1249', 'requisition_id', '59']\n",
      "['odoo01', '2', 'PWD1234', 'purchase.order.line', 'create', 'order_id', '155', 'product_uom', '1', 'product_id', '5', 'name', 'Office Chair', 'product_qty', '3', 'date_planned', '2020-12-21 00:41:56.760532', 'price_unit', '3']\n",
      "['odoo01', '2', 'PWD1234', 'purchase.order', 'create', 'partner_id', '1243', 'requisition_id', '59']\n",
      "['odoo01', '2', 'PWD1234', 'purchase.order.line', 'create', 'order_id', '156', 'product_uom', '1', 'product_id', '5', 'name', 'Office Chair', 'product_qty', '3', 'date_planned', '2020-12-21 00:41:56.760532', 'price_unit', '3']\n",
      "['odoo01', '2', 'PWD1234', 'purchase.requisition', 'write', '59', 'state', 'in_progress']\n",
      "['odoo01', '2', 'PWD1234', 'purchase.order', 'create', 'partner_id', '1219', 'requisition_id', '77']\n",
      "['odoo01', '2', 'PWD1234', 'purchase.order.line', 'create', 'order_id', '210', 'product_uom', '1', 'product_id', '29', 'name', 'Drawer', 'product_qty', '2', 'date_planned', '2020-12-21 07:38:44.097686', 'price_unit', '3']\n",
      "['odoo01', '2', 'PWD1234', 'purchase.order', 'create', 'partner_id', '1220', 'requisition_id', '77']\n",
      "['odoo01', '2', 'PWD1234', 'purchase.order', 'create', 'partner_id', '1243', 'requisition_id', '77']\n",
      "['odoo01', '2', 'PWD1234', 'purchase.order', 'create', 'partner_id', '1249', 'requisition_id', '77']\n",
      "['odoo01', '2', 'PWD1234', 'purchase.order.line', 'create', 'order_id', '213', 'product_uom', '1', 'product_id', '29', 'name', 'Drawer', 'product_qty', '2', 'date_planned', '2020-12-21 07:38:44.097686', 'price_unit', '3']\n",
      "['odoo01', '2', 'PWD1234', 'purchase.requisition', 'write', '77', 'state', 'in_progress']\n",
      "['odoo01', '2', 'PWD1234', 'purchase.order', 'create', 'partner_id', '1243', 'requisition_id', '78']\n",
      "['odoo01', '2', 'PWD1234', 'purchase.order.line', 'create', 'order_id', '214', 'product_uom', '1', 'product_id', '8', 'name', 'Desk Combination', 'product_qty', '1', 'date_planned', '2020-12-21 08:05:15.807444', 'price_unit', '2']\n",
      "['odoo01', '2', 'PWD1234', 'purchase.order', 'create', 'partner_id', '1249', 'requisition_id', '78']\n",
      "['odoo01', '2', 'PWD1234', 'purchase.order.line', 'create', 'order_id', '215', 'product_uom', '1', 'product_id', '8', 'name', 'Desk Combination', 'product_qty', '1', 'date_planned', '2020-12-21 08:05:15.807444', 'price_unit', '2']\n",
      "['odoo01', '2', 'PWD1234', 'purchase.requisition', 'write', '78', 'state', 'in_progress']\n",
      "['odoo01', '2', 'PWD1234', 'purchase.order', 'create', 'partner_id', '1243', 'requisition_id', '79']\n",
      "['odoo01', '2', 'PWD1234', 'purchase.order.line', 'create', 'order_id', '216', 'product_uom', '1', 'product_id', '22', 'name', 'Office Chair Black', 'product_qty', '3', 'date_planned', '2020-12-21 08:31:43.166789', 'price_unit', '5']\n",
      "['odoo01', '2', 'PWD1234', 'purchase.order', 'create', 'partner_id', '1249', 'requisition_id', '79']\n",
      "['odoo01', '2', 'PWD1234', 'purchase.order.line', 'create', 'order_id', '217', 'product_uom', '1', 'product_id', '22', 'name', 'Office Chair Black', 'product_qty', '3', 'date_planned', '2020-12-21 08:31:43.166789', 'price_unit', '5']\n",
      "['odoo01', '2', 'PWD1234', 'purchase.order', 'create', 'partner_id', '1222', 'requisition_id', '79']\n",
      "['odoo01', '2', 'PWD1234', 'purchase.order.line', 'create', 'order_id', '218', 'product_uom', '1', 'product_id', '22', 'name', 'Office Chair Black', 'product_qty', '3', 'date_planned', '2020-12-21 08:31:43.166789', 'price_unit', '5']\n",
      "['odoo01', '2', 'PWD1234', 'purchase.requisition', 'write', '79', 'state', 'in_progress']\n",
      "['odoo01', '2', 'PWD1234', 'purchase.order', 'create', 'partner_id', '1220', 'requisition_id', '80']\n",
      "['odoo01', '2', 'PWD1234', 'purchase.order.line', 'create', 'order_id', '219', 'product_uom', '1', 'product_id', '24', 'name', 'Drawer Black', 'product_qty', '2', 'date_planned', '2020-12-21 08:58:18.442378', 'price_unit', '4']\n",
      "['odoo01', '2', 'PWD1234', 'purchase.order', 'create', 'partner_id', '1222', 'requisition_id', '80']\n",
      "['odoo01', '2', 'PWD1234', 'purchase.order.line', 'create', 'order_id', '220', 'product_uom', '1', 'product_id', '24', 'name', 'Drawer Black', 'product_qty', '2', 'date_planned', '2020-12-21 08:58:18.442378', 'price_unit', '4']\n",
      "['odoo01', '2', 'PWD1234', 'purchase.order', 'create', 'partner_id', '1249', 'requisition_id', '80']\n",
      "['odoo01', '2', 'PWD1234', 'purchase.order.line', 'create', 'order_id', '221', 'product_uom', '1', 'product_id', '24', 'name', 'Drawer Black', 'product_qty', '2', 'date_planned', '2020-12-21 08:58:18.442378', 'price_unit', '4']\n",
      "['odoo01', '2', 'PWD1234', 'purchase.order', 'create', 'partner_id', '1219', 'requisition_id', '80']\n",
      "['odoo01', '2', 'PWD1234', 'purchase.order.line', 'create', 'order_id', '222', 'product_uom', '1', 'product_id', '24', 'name', 'Drawer Black', 'product_qty', '2', 'date_planned', '2020-12-21 08:58:18.442378', 'price_unit', '4']\n",
      "['odoo01', '2', 'PWD1234', 'purchase.requisition', 'write', '80', 'state', 'in_progress']\n",
      "['odoo01', '2', 'PWD1234', 'purchase.order', 'create', 'partner_id', '1222', 'requisition_id', '81']\n",
      "['odoo01', '2', 'PWD1234', 'purchase.order.line', 'create', 'order_id', '223', 'product_uom', '1', 'product_id', '19', 'name', 'Cabinet with Doors', 'product_qty', '1', 'date_planned', '2020-12-21 09:24:45.661116', 'price_unit', '2']\n",
      "['odoo01', '2', 'PWD1234', 'purchase.order', 'create', 'partner_id', '1249', 'requisition_id', '81']\n",
      "['odoo01', '2', 'PWD1234', 'purchase.order.line', 'create', 'order_id', '224', 'product_uom', '1', 'product_id', '19', 'name', 'Cabinet with Doors', 'product_qty', '1', 'date_planned', '2020-12-21 09:24:45.661116', 'price_unit', '2']\n",
      "['odoo01', '2', 'PWD1234', 'purchase.requisition', 'write', '81', 'state', 'in_progress']\n",
      "['odoo01', '2', 'PWD1234', 'purchase.order', 'create', 'partner_id', '1243', 'requisition_id', '82']\n",
      "['odoo01', '2', 'PWD1234', 'purchase.order.line', 'create', 'order_id', '225', 'product_uom', '1', 'product_id', '14', 'name', 'Corner Desk Right Sit', 'product_qty', '1', 'date_planned', '2020-12-21 09:41:03.776219', 'price_unit', '4']\n",
      "['odoo01', '2', 'PWD1234', 'purchase.order', 'create', 'partner_id', '1249', 'requisition_id', '82']\n",
      "['odoo01', '2', 'PWD1234', 'purchase.order.line', 'create', 'order_id', '226', 'product_uom', '1', 'product_id', '14', 'name', 'Corner Desk Right Sit', 'product_qty', '1', 'date_planned', '2020-12-21 09:41:03.776219', 'price_unit', '4']\n",
      "['odoo01', '2', 'PWD1234', 'purchase.order', 'create', 'partner_id', '1222', 'requisition_id', '82']\n",
      "['odoo01', '2', 'PWD1234', 'purchase.order.line', 'create', 'order_id', '227', 'product_uom', '1', 'product_id', '14', 'name', 'Corner Desk Right Sit', 'product_qty', '1', 'date_planned', '2020-12-21 09:41:03.776219', 'price_unit', '4']\n",
      "['odoo01', '2', 'PWD1234', 'purchase.order', 'create', 'partner_id', '1220', 'requisition_id', '82']\n",
      "['odoo01', '2', 'PWD1234', 'purchase.order.line', 'create', 'order_id', '228', 'product_uom', '1', 'product_id', '14', 'name', 'Corner Desk Right Sit', 'product_qty', '1', 'date_planned', '2020-12-21 09:41:03.776219', 'price_unit', '4']\n",
      "['odoo01', '2', 'PWD1234', 'purchase.requisition', 'write', '82', 'state', 'in_progress']\n",
      "['odoo01', '2', 'PWD1234', 'purchase.order', 'create', 'partner_id', '1249', 'requisition_id', '83']\n",
      "['odoo01', '2', 'PWD1234', 'purchase.order.line', 'create', 'order_id', '229', 'product_uom', '1', 'product_id', '35', 'name', 'Chair floor protection', 'product_qty', '2', 'date_planned', '2020-12-21 10:07:30.907598', 'price_unit', '5']\n",
      "['odoo01', '2', 'PWD1234', 'purchase.order', 'create', 'partner_id', '1219', 'requisition_id', '83']\n",
      "['odoo01', '2', 'PWD1234', 'purchase.order.line', 'create', 'order_id', '230', 'product_uom', '1', 'product_id', '35', 'name', 'Chair floor protection', 'product_qty', '2', 'date_planned', '2020-12-21 10:07:30.907598', 'price_unit', '5']\n",
      "['odoo01', '2', 'PWD1234', 'purchase.order', 'create', 'partner_id', '1220', 'requisition_id', '83']\n",
      "['odoo01', '2', 'PWD1234', 'purchase.order.line', 'create', 'order_id', '231', 'product_uom', '1', 'product_id', '35', 'name', 'Chair floor protection', 'product_qty', '2', 'date_planned', '2020-12-21 10:07:30.907598', 'price_unit', '5']\n",
      "['odoo01', '2', 'PWD1234', 'purchase.order', 'create', 'partner_id', '1222', 'requisition_id', '83']\n",
      "['odoo01', '2', 'PWD1234', 'purchase.order.line', 'create', 'order_id', '232', 'product_uom', '1', 'product_id', '35', 'name', 'Chair floor protection', 'product_qty', '2', 'date_planned', '2020-12-21 10:07:30.907598', 'price_unit', '5']\n",
      "['odoo01', '2', 'PWD1234', 'purchase.requisition', 'write', '83', 'state', 'in_progress']\n",
      "['odoo01', '2', 'PWD1234', 'purchase.order', 'create', 'partner_id', '1219', 'requisition_id', '84']\n",
      "['odoo01', '2', 'PWD1234', 'purchase.order.line', 'create', 'order_id', '233', 'product_uom', '1', 'product_id', '21', 'name', 'Conference Chair', 'product_qty', '2', 'date_planned', '2020-12-21 10:34:08.510568', 'price_unit', '5']\n",
      "['odoo01', '2', 'PWD1234', 'purchase.order', 'create', 'partner_id', '1222', 'requisition_id', '84']\n",
      "['odoo01', '2', 'PWD1234', 'purchase.order.line', 'create', 'order_id', '234', 'product_uom', '1', 'product_id', '21', 'name', 'Conference Chair', 'product_qty', '2', 'date_planned', '2020-12-21 10:34:08.510568', 'price_unit', '5']\n",
      "['odoo01', '2', 'PWD1234', 'purchase.order', 'create', 'partner_id', '1243', 'requisition_id', '84']\n",
      "['odoo01', '2', 'PWD1234', 'purchase.order.line', 'create', 'order_id', '235', 'product_uom', '1', 'product_id', '21', 'name', 'Conference Chair', 'product_qty', '2', 'date_planned', '2020-12-21 10:34:08.510568', 'price_unit', '5']\n",
      "['odoo01', '2', 'PWD1234', 'purchase.order', 'create', 'partner_id', '1220', 'requisition_id', '84']\n",
      "['odoo01', '2', 'PWD1234', 'purchase.order.line', 'create', 'order_id', '236', 'product_uom', '1', 'product_id', '21', 'name', 'Conference Chair', 'product_qty', '2', 'date_planned', '2020-12-21 10:34:08.510568', 'price_unit', '5']\n",
      "['odoo01', '2', 'PWD1234', 'purchase.requisition', 'write', '84', 'state', 'in_progress']\n",
      "['odoo01', '2', 'PWD1234', 'purchase.order', 'create', 'partner_id', '1222', 'requisition_id', '85']\n",
      "['odoo01', '2', 'PWD1234', 'purchase.order.line', 'create', 'order_id', '237', 'product_uom', '1', 'product_id', '7', 'name', 'Office Design Software', 'product_qty', '2', 'date_planned', '2020-12-21 11:00:43.423231', 'price_unit', '3']\n",
      "['odoo01', '2', 'PWD1234', 'purchase.order', 'create', 'partner_id', '1220', 'requisition_id', '85']\n",
      "['odoo01', '2', 'PWD1234', 'purchase.order.line', 'create', 'order_id', '238', 'product_uom', '1', 'product_id', '7', 'name', 'Office Design Software', 'product_qty', '2', 'date_planned', '2020-12-21 11:00:43.423231', 'price_unit', '3']\n",
      "['odoo01', '2', 'PWD1234', 'purchase.order', 'create', 'partner_id', '1249', 'requisition_id', '85']\n",
      "['odoo01', '2', 'PWD1234', 'purchase.order.line', 'create', 'order_id', '239', 'product_uom', '1', 'product_id', '7', 'name', 'Office Design Software', 'product_qty', '2', 'date_planned', '2020-12-21 11:00:43.423231', 'price_unit', '3']\n",
      "['odoo01', '2', 'PWD1234', 'purchase.requisition', 'write', '85', 'state', 'in_progress']\n",
      "['odoo01', '2', 'PWD1234', 'purchase.order', 'create', 'partner_id', '1222', 'requisition_id', '86']\n",
      "['odoo01', '2', 'PWD1234', 'purchase.order.line', 'create', 'order_id', '240', 'product_uom', '1', 'product_id', '7', 'name', 'Office Design Software', 'product_qty', '3', 'date_planned', '2020-12-21 11:27:10.938856', 'price_unit', '2']\n",
      "['odoo01', '2', 'PWD1234', 'purchase.order', 'create', 'partner_id', '1220', 'requisition_id', '86']\n",
      "['odoo01', '2', 'PWD1234', 'purchase.order.line', 'create', 'order_id', '241', 'product_uom', '1', 'product_id', '7', 'name', 'Office Design Software', 'product_qty', '3', 'date_planned', '2020-12-21 11:27:10.938856', 'price_unit', '2']\n",
      "['odoo01', '2', 'PWD1234', 'purchase.requisition', 'write', '86', 'state', 'in_progress']\n",
      "['odoo01', '2', 'PWD1234', 'purchase.order', 'create', 'partner_id', '1249', 'requisition_id', '60']\n",
      "['odoo01', '2', 'PWD1234', 'purchase.order.line', 'create', 'order_id', '157', 'product_uom', '1', 'product_id', '21', 'name', 'Conference Chair', 'product_qty', '3', 'date_planned', '2020-12-21 01:08:26.222682', 'price_unit', '5']\n",
      "['odoo01', '2', 'PWD1234', 'purchase.order', 'create', 'partner_id', '1222', 'requisition_id', '60']\n",
      "['odoo01', '2', 'PWD1234', 'purchase.order.line', 'create', 'order_id', '158', 'product_uom', '1', 'product_id', '21', 'name', 'Conference Chair', 'product_qty', '3', 'date_planned', '2020-12-21 01:08:26.222682', 'price_unit', '5']\n",
      "['odoo01', '2', 'PWD1234', 'purchase.requisition', 'write', '60', 'state', 'in_progress']\n",
      "['odoo01', '2', 'PWD1234', 'purchase.order', 'create', 'partner_id', '1219', 'requisition_id', '87']\n",
      "['odoo01', '2', 'PWD1234', 'purchase.order.line', 'create', 'order_id', '242', 'product_uom', '1', 'product_id', '14', 'name', 'Corner Desk Right Sit', 'product_qty', '2', 'date_planned', '2020-12-21 11:53:24.651345', 'price_unit', '5']\n",
      "['odoo01', '2', 'PWD1234', 'purchase.order', 'create', 'partner_id', '1243', 'requisition_id', '87']\n",
      "['odoo01', '2', 'PWD1234', 'purchase.order.line', 'create', 'order_id', '243', 'product_uom', '1', 'product_id', '14', 'name', 'Corner Desk Right Sit', 'product_qty', '2', 'date_planned', '2020-12-21 11:53:24.651345', 'price_unit', '5']\n",
      "['odoo01', '2', 'PWD1234', 'purchase.order', 'create', 'partner_id', '1222', 'requisition_id', '87']\n",
      "['odoo01', '2', 'PWD1234', 'purchase.order.line', 'create', 'order_id', '244', 'product_uom', '1', 'product_id', '14', 'name', 'Corner Desk Right Sit', 'product_qty', '2', 'date_planned', '2020-12-21 11:53:24.651345', 'price_unit', '5']\n",
      "['odoo01', '2', 'PWD1234', 'purchase.requisition', 'write', '87', 'state', 'in_progress']\n",
      "['odoo01', '2', 'PWD1234', 'purchase.order', 'create', 'partner_id', '1220', 'requisition_id', '88']\n",
      "['odoo01', '2', 'PWD1234', 'purchase.order.line', 'create', 'order_id', '245', 'product_uom', '1', 'product_id', '6', 'name', 'Office Lamp', 'product_qty', '2', 'date_planned', '2020-12-21 12:19:45.051750', 'price_unit', '3']\n",
      "['odoo01', '2', 'PWD1234', 'purchase.order', 'create', 'partner_id', '1219', 'requisition_id', '88']\n",
      "['odoo01', '2', 'PWD1234', 'purchase.order.line', 'create', 'order_id', '246', 'product_uom', '1', 'product_id', '6', 'name', 'Office Lamp', 'product_qty', '2', 'date_planned', '2020-12-21 12:19:45.051750', 'price_unit', '3']\n",
      "['odoo01', '2', 'PWD1234', 'purchase.order', 'create', 'partner_id', '1222', 'requisition_id', '88']\n",
      "['odoo01', '2', 'PWD1234', 'purchase.order.line', 'create', 'order_id', '247', 'product_uom', '1', 'product_id', '6', 'name', 'Office Lamp', 'product_qty', '2', 'date_planned', '2020-12-21 12:19:45.051750', 'price_unit', '3']\n",
      "['odoo01', '2', 'PWD1234', 'purchase.order', 'create', 'partner_id', '1249', 'requisition_id', '88']\n",
      "['odoo01', '2', 'PWD1234', 'purchase.order.line', 'create', 'order_id', '248', 'product_uom', '1', 'product_id', '6', 'name', 'Office Lamp', 'product_qty', '2', 'date_planned', '2020-12-21 12:19:45.051750', 'price_unit', '3']\n",
      "['odoo01', '2', 'PWD1234', 'purchase.requisition', 'write', '88', 'state', 'in_progress']\n",
      "['odoo01', '2', 'PWD1234', 'purchase.order', 'create', 'partner_id', '1243', 'requisition_id', '89']\n",
      "['odoo01', '2', 'PWD1234', 'purchase.order.line', 'create', 'order_id', '249', 'product_uom', '1', 'product_id', '35', 'name', 'Chair floor protection', 'product_qty', '1', 'date_planned', '2020-12-21 12:46:26.437681', 'price_unit', '1']\n",
      "['odoo01', '2', 'PWD1234', 'purchase.order', 'create', 'partner_id', '1249', 'requisition_id', '89']\n",
      "['odoo01', '2', 'PWD1234', 'purchase.order.line', 'create', 'order_id', '250', 'product_uom', '1', 'product_id', '35', 'name', 'Chair floor protection', 'product_qty', '1', 'date_planned', '2020-12-21 12:46:26.437681', 'price_unit', '1']\n",
      "['odoo01', '2', 'PWD1234', 'purchase.order', 'create', 'partner_id', '1220', 'requisition_id', '89']\n",
      "['odoo01', '2', 'PWD1234', 'purchase.order.line', 'create', 'order_id', '251', 'product_uom', '1', 'product_id', '35', 'name', 'Chair floor protection', 'product_qty', '1', 'date_planned', '2020-12-21 12:46:26.437681', 'price_unit', '1']\n",
      "['odoo01', '2', 'PWD1234', 'purchase.requisition', 'write', '89', 'state', 'in_progress']\n",
      "['odoo01', '2', 'PWD1234', 'purchase.order', 'create', 'partner_id', '1222', 'requisition_id', '90']\n",
      "['odoo01', '2', 'PWD1234', 'purchase.order.line', 'create', 'order_id', '252', 'product_uom', '1', 'product_id', '16', 'name', 'Storage Box', 'product_qty', '3', 'date_planned', '2020-12-21 13:12:54.187686', 'price_unit', '4']\n",
      "['odoo01', '2', 'PWD1234', 'purchase.order', 'create', 'partner_id', '1219', 'requisition_id', '90']\n",
      "['odoo01', '2', 'PWD1234', 'purchase.order.line', 'create', 'order_id', '253', 'product_uom', '1', 'product_id', '16', 'name', 'Storage Box', 'product_qty', '3', 'date_planned', '2020-12-21 13:12:54.187686', 'price_unit', '4']\n",
      "['odoo01', '2', 'PWD1234', 'purchase.order', 'create', 'partner_id', '1220', 'requisition_id', '90']\n",
      "['odoo01', '2', 'PWD1234', 'purchase.order.line', 'create', 'order_id', '254', 'product_uom', '1', 'product_id', '16', 'name', 'Storage Box', 'product_qty', '3', 'date_planned', '2020-12-21 13:12:54.187686', 'price_unit', '4']\n",
      "['odoo01', '2', 'PWD1234', 'purchase.order', 'create', 'partner_id', '1249', 'requisition_id', '90']\n",
      "['odoo01', '2', 'PWD1234', 'purchase.order.line', 'create', 'order_id', '255', 'product_uom', '1', 'product_id', '16', 'name', 'Storage Box', 'product_qty', '3', 'date_planned', '2020-12-21 13:12:54.187686', 'price_unit', '4']\n",
      "['odoo01', '2', 'PWD1234', 'purchase.requisition', 'write', '90', 'state', 'in_progress']\n",
      "['odoo01', '2', 'PWD1234', 'purchase.order', 'create', 'partner_id', '1219', 'requisition_id', '91']\n",
      "['odoo01', '2', 'PWD1234', 'purchase.order.line', 'create', 'order_id', '256', 'product_uom', '1', 'product_id', '22', 'name', 'Office Chair Black', 'product_qty', '2', 'date_planned', '2020-12-21 13:39:23.453314', 'price_unit', '1']\n",
      "['odoo01', '2', 'PWD1234', 'purchase.order', 'create', 'partner_id', '1249', 'requisition_id', '91']\n",
      "['odoo01', '2', 'PWD1234', 'purchase.order.line', 'create', 'order_id', '257', 'product_uom', '1', 'product_id', '22', 'name', 'Office Chair Black', 'product_qty', '2', 'date_planned', '2020-12-21 13:39:23.453314', 'price_unit', '1']\n",
      "['odoo01', '2', 'PWD1234', 'purchase.requisition', 'write', '91', 'state', 'in_progress']\n",
      "['odoo01', '2', 'PWD1234', 'purchase.order.line', 'create', 'order_id', '258', 'product_uom', '1', 'product_id', '14', 'name', 'Corner Desk Right Sit', 'product_qty', '3', 'date_planned', '2020-12-21 14:05:43.062697', 'price_unit', '2']\n",
      "['odoo01', '2', 'PWD1234', 'purchase.order', 'create', 'partner_id', '1222', 'requisition_id', '92']\n",
      "['odoo01', '2', 'PWD1234', 'purchase.order.line', 'create', 'order_id', '259', 'product_uom', '1', 'product_id', '14', 'name', 'Corner Desk Right Sit', 'product_qty', '3', 'date_planned', '2020-12-21 14:05:43.062697', 'price_unit', '2']\n",
      "['odoo01', '2', 'PWD1234', 'purchase.order', 'create', 'partner_id', '1219', 'requisition_id', '92']\n",
      "['odoo01', '2', 'PWD1234', 'purchase.order.line', 'create', 'order_id', '260', 'product_uom', '1', 'product_id', '14', 'name', 'Corner Desk Right Sit', 'product_qty', '3', 'date_planned', '2020-12-21 14:05:43.062697', 'price_unit', '2']\n",
      "['odoo01', '2', 'PWD1234', 'purchase.order', 'create', 'partner_id', '1249', 'requisition_id', '92']\n",
      "['odoo01', '2', 'PWD1234', 'purchase.order.line', 'create', 'order_id', '261', 'product_uom', '1', 'product_id', '14', 'name', 'Corner Desk Right Sit', 'product_qty', '3', 'date_planned', '2020-12-21 14:05:43.062697', 'price_unit', '2']\n",
      "['odoo01', '2', 'PWD1234', 'purchase.requisition', 'write', '92', 'state', 'in_progress']\n",
      "['odoo01', '2', 'PWD1234', 'purchase.order', 'create', 'partner_id', '1222', 'requisition_id', '93']\n",
      "['odoo01', '2', 'PWD1234', 'purchase.order.line', 'create', 'order_id', '262', 'product_uom', '1', 'product_id', '32', 'name', 'Three-Seat Sofa', 'product_qty', '2', 'date_planned', '2020-12-21 14:32:11.323207', 'price_unit', '3']\n",
      "['odoo01', '2', 'PWD1234', 'purchase.order', 'create', 'partner_id', '1249', 'requisition_id', '93']\n",
      "['odoo01', '2', 'PWD1234', 'purchase.order.line', 'create', 'order_id', '263', 'product_uom', '1', 'product_id', '32', 'name', 'Three-Seat Sofa', 'product_qty', '2', 'date_planned', '2020-12-21 14:32:11.323207', 'price_unit', '3']\n",
      "['odoo01', '2', 'PWD1234', 'purchase.requisition', 'write', '93', 'state', 'in_progress']\n",
      "['odoo01', '2', 'PWD1234', 'purchase.order', 'create', 'partner_id', '1220', 'requisition_id', '94']\n",
      "['odoo01', '2', 'PWD1234', 'purchase.order.line', 'create', 'order_id', '264', 'product_uom', '3', 'product_id', '33', 'name', 'Cable Management Box', 'product_qty', '3', 'date_planned', '2020-12-21 14:48:33.832055', 'price_unit', '1']\n",
      "['odoo01', '2', 'PWD1234', 'purchase.order', 'create', 'partner_id', '1249', 'requisition_id', '94']\n",
      "['odoo01', '2', 'PWD1234', 'purchase.order.line', 'create', 'order_id', '265', 'product_uom', '3', 'product_id', '33', 'name', 'Cable Management Box', 'product_qty', '3', 'date_planned', '2020-12-21 14:48:33.832055', 'price_unit', '1']\n",
      "['odoo01', '2', 'PWD1234', 'purchase.order', 'create', 'partner_id', '1222', 'requisition_id', '94']\n",
      "['odoo01', '2', 'PWD1234', 'purchase.order.line', 'create', 'order_id', '266', 'product_uom', '3', 'product_id', '33', 'name', 'Cable Management Box', 'product_qty', '3', 'date_planned', '2020-12-21 14:48:33.832055', 'price_unit', '1']\n",
      "['odoo01', '2', 'PWD1234', 'purchase.requisition', 'write', '94', 'state', 'in_progress']\n",
      "['odoo01', '2', 'PWD1234', 'purchase.order', 'create', 'partner_id', '1222', 'requisition_id', '95']\n",
      "['odoo01', '2', 'PWD1234', 'purchase.order.line', 'create', 'order_id', '267', 'product_uom', '1', 'product_id', '19', 'name', 'Cabinet with Doors', 'product_qty', '3', 'date_planned', '2020-12-21 15:05:01.194530', 'price_unit', '4']\n",
      "['odoo01', '2', 'PWD1234', 'purchase.order', 'create', 'partner_id', '1219', 'requisition_id', '95']\n",
      "['odoo01', '2', 'PWD1234', 'purchase.order.line', 'create', 'order_id', '268', 'product_uom', '1', 'product_id', '19', 'name', 'Cabinet with Doors', 'product_qty', '3', 'date_planned', '2020-12-21 15:05:01.194530', 'price_unit', '4']\n",
      "['odoo01', '2', 'PWD1234', 'purchase.order', 'create', 'partner_id', '1220', 'requisition_id', '95']\n",
      "['odoo01', '2', 'PWD1234', 'purchase.order.line', 'create', 'order_id', '269', 'product_uom', '1', 'product_id', '19', 'name', 'Cabinet with Doors', 'product_qty', '3', 'date_planned', '2020-12-21 15:05:01.194530', 'price_unit', '4']\n",
      "['odoo01', '2', 'PWD1234', 'purchase.requisition', 'write', '95', 'state', 'in_progress']\n",
      "['odoo01', '2', 'PWD1234', 'purchase.order', 'create', 'partner_id', '1219', 'requisition_id', '96']\n",
      "['odoo01', '2', 'PWD1234', 'purchase.order.line', 'create', 'order_id', '270', 'product_uom', '1', 'product_id', '32', 'name', 'Three-Seat Sofa', 'product_qty', '2', 'date_planned', '2020-12-21 15:31:21.569093', 'price_unit', '3']\n",
      "['odoo01', '2', 'PWD1234', 'purchase.order', 'create', 'partner_id', '1222', 'requisition_id', '96']\n",
      "['odoo01', '2', 'PWD1234', 'purchase.order.line', 'create', 'order_id', '271', 'product_uom', '1', 'product_id', '32', 'name', 'Three-Seat Sofa', 'product_qty', '2', 'date_planned', '2020-12-21 15:31:21.569093', 'price_unit', '3']\n",
      "['odoo01', '2', 'PWD1234', 'purchase.requisition', 'write', '96', 'state', 'in_progress']\n",
      "['odoo01', '2', 'PWD1234', 'purchase.order', 'create', 'partner_id', '1222', 'requisition_id', '61']\n",
      "['odoo01', '2', 'PWD1234', 'purchase.order.line', 'create', 'order_id', '159', 'product_uom', '1', 'product_id', '22', 'name', 'Office Chair Black', 'product_qty', '2', 'date_planned', '2020-12-21 01:34:51.317397', 'price_unit', '3']\n",
      "['odoo01', '2', 'PWD1234', 'purchase.order', 'create', 'partner_id', '1249', 'requisition_id', '61']\n",
      "['odoo01', '2', 'PWD1234', 'purchase.order.line', 'create', 'order_id', '160', 'product_uom', '1', 'product_id', '22', 'name', 'Office Chair Black', 'product_qty', '2', 'date_planned', '2020-12-21 01:34:51.317397', 'price_unit', '3']\n",
      "['odoo01', '2', 'PWD1234', 'purchase.requisition', 'write', '61', 'state', 'in_progress']\n",
      "['odoo01', '2', 'PWD1234', 'purchase.order', 'create', 'partner_id', '1220', 'requisition_id', '97']\n",
      "['odoo01', '2', 'PWD1234', 'purchase.order.line', 'create', 'order_id', '272', 'product_uom', '1', 'product_id', '16', 'name', 'Storage Box', 'product_qty', '1', 'date_planned', '2020-12-21 15:47:45.425196', 'price_unit', '1']\n",
      "['odoo01', '2', 'PWD1234', 'purchase.order', 'create', 'partner_id', '1243', 'requisition_id', '97']\n",
      "['odoo01', '2', 'PWD1234', 'purchase.order.line', 'create', 'order_id', '273', 'product_uom', '1', 'product_id', '16', 'name', 'Storage Box', 'product_qty', '1', 'date_planned', '2020-12-21 15:47:45.425196', 'price_unit', '1']\n",
      "['odoo01', '2', 'PWD1234', 'purchase.order', 'create', 'partner_id', '1222', 'requisition_id', '97']\n",
      "['odoo01', '2', 'PWD1234', 'purchase.order', 'create', 'partner_id', '1219', 'requisition_id', '97']\n",
      "['odoo01', '2', 'PWD1234', 'purchase.order.line', 'create', 'order_id', '275', 'product_uom', '1', 'product_id', '16', 'name', 'Storage Box', 'product_qty', '1', 'date_planned', '2020-12-21 15:47:45.425196', 'price_unit', '1']\n",
      "['odoo01', '2', 'PWD1234', 'purchase.requisition', 'write', '97', 'state', 'in_progress']\n",
      "['odoo01', '2', 'PWD1234', 'purchase.order', 'create', 'partner_id', '1220', 'requisition_id', '98']\n",
      "['odoo01', '2', 'PWD1234', 'purchase.order.line', 'create', 'order_id', '276', 'product_uom', '1', 'product_id', '19', 'name', 'Cabinet with Doors', 'product_qty', '1', 'date_planned', '2020-12-21 16:04:29.725817', 'price_unit', '3']\n",
      "['odoo01', '2', 'PWD1234', 'purchase.order', 'create', 'partner_id', '1243', 'requisition_id', '98']\n",
      "['odoo01', '2', 'PWD1234', 'purchase.order.line', 'create', 'order_id', '277', 'product_uom', '1', 'product_id', '19', 'name', 'Cabinet with Doors', 'product_qty', '1', 'date_planned', '2020-12-21 16:04:29.725817', 'price_unit', '3']\n",
      "['odoo01', '2', 'PWD1234', 'purchase.order', 'create', 'partner_id', '1249', 'requisition_id', '98']\n",
      "['odoo01', '2', 'PWD1234', 'purchase.order.line', 'create', 'order_id', '278', 'product_uom', '1', 'product_id', '19', 'name', 'Cabinet with Doors', 'product_qty', '1', 'date_planned', '2020-12-21 16:04:29.725817', 'price_unit', '3']\n",
      "['odoo01', '2', 'PWD1234', 'purchase.order', 'create', 'partner_id', '1222', 'requisition_id', '98']\n",
      "['odoo01', '2', 'PWD1234', 'purchase.order.line', 'create', 'order_id', '279', 'product_uom', '1', 'product_id', '19', 'name', 'Cabinet with Doors', 'product_qty', '1', 'date_planned', '2020-12-21 16:04:29.725817', 'price_unit', '3']\n",
      "['odoo01', '2', 'PWD1234', 'purchase.requisition', 'write', '98', 'state', 'in_progress']\n",
      "['odoo01', '2', 'PWD1234', 'purchase.order', 'create', 'partner_id', '1243', 'requisition_id', '99']\n",
      "['odoo01', '2', 'PWD1234', 'purchase.order.line', 'create', 'order_id', '280', 'product_uom', '1', 'product_id', '30', 'name', 'Four Person Desk', 'product_qty', '1', 'date_planned', '2020-12-21 16:31:04.256592', 'price_unit', '4']\n",
      "['odoo01', '2', 'PWD1234', 'purchase.order', 'create', 'partner_id', '1219', 'requisition_id', '99']\n",
      "['odoo01', '2', 'PWD1234', 'purchase.order.line', 'create', 'order_id', '281', 'product_uom', '1', 'product_id', '30', 'name', 'Four Person Desk', 'product_qty', '1', 'date_planned', '2020-12-21 16:31:04.256592', 'price_unit', '4']\n",
      "['odoo01', '2', 'PWD1234', 'purchase.order', 'create', 'partner_id', '1220', 'requisition_id', '99']\n",
      "['odoo01', '2', 'PWD1234', 'purchase.order.line', 'create', 'order_id', '282', 'product_uom', '1', 'product_id', '30', 'name', 'Four Person Desk', 'product_qty', '1', 'date_planned', '2020-12-21 16:31:04.256592', 'price_unit', '4']\n",
      "['odoo01', '2', 'PWD1234', 'purchase.order', 'create', 'partner_id', '1222', 'requisition_id', '99']\n",
      "['odoo01', '2', 'PWD1234', 'purchase.order.line', 'create', 'order_id', '283', 'product_uom', '1', 'product_id', '30', 'name', 'Four Person Desk', 'product_qty', '1', 'date_planned', '2020-12-21 16:31:04.256592', 'price_unit', '4']\n",
      "['odoo01', '2', 'PWD1234', 'purchase.requisition', 'write', '99', 'state', 'in_progress']\n",
      "['odoo01', '2', 'PWD1234', 'purchase.order', 'create', 'partner_id', '1243', 'requisition_id', '100']\n",
      "['odoo01', '2', 'PWD1234', 'purchase.order.line', 'create', 'order_id', '284', 'product_uom', '1', 'product_id', '6', 'name', 'Office Lamp', 'product_qty', '1', 'date_planned', '2020-12-21 16:57:32.696292', 'price_unit', '3']\n",
      "['odoo01', '2', 'PWD1234', 'purchase.order', 'create', 'partner_id', '1220', 'requisition_id', '100']\n",
      "['odoo01', '2', 'PWD1234', 'purchase.order.line', 'create', 'order_id', '285', 'product_uom', '1', 'product_id', '6', 'name', 'Office Lamp', 'product_qty', '1', 'date_planned', '2020-12-21 16:57:32.696292', 'price_unit', '3']\n",
      "['odoo01', '2', 'PWD1234', 'purchase.requisition', 'write', '100', 'state', 'in_progress']\n",
      "['odoo01', '2', 'PWD1234', 'purchase.order', 'create', 'partner_id', '1219', 'requisition_id', '101']\n",
      "['odoo01', '2', 'PWD1234', 'purchase.order.line', 'create', 'order_id', '286', 'product_uom', '1', 'product_id', '17', 'name', 'Large Desk', 'product_qty', '3', 'date_planned', '2020-12-21 17:23:56.210166', 'price_unit', '4']\n",
      "['odoo01', '2', 'PWD1234', 'purchase.order', 'create', 'partner_id', '1249', 'requisition_id', '101']\n",
      "['odoo01', '2', 'PWD1234', 'purchase.order.line', 'create', 'order_id', '287', 'product_uom', '1', 'product_id', '17', 'name', 'Large Desk', 'product_qty', '3', 'date_planned', '2020-12-21 17:23:56.210166', 'price_unit', '4']\n",
      "['odoo01', '2', 'PWD1234', 'purchase.order', 'create', 'partner_id', '1220', 'requisition_id', '101']\n",
      "['odoo01', '2', 'PWD1234', 'purchase.order.line', 'create', 'order_id', '288', 'product_uom', '1', 'product_id', '17', 'name', 'Large Desk', 'product_qty', '3', 'date_planned', '2020-12-21 17:23:56.210166', 'price_unit', '4']\n",
      "['odoo01', '2', 'PWD1234', 'purchase.requisition', 'write', '101', 'state', 'in_progress']\n",
      "['odoo01', '2', 'PWD1234', 'purchase.order', 'create', 'partner_id', '1243', 'requisition_id', '102']\n",
      "['odoo01', '2', 'PWD1234', 'purchase.order.line', 'create', 'order_id', '289', 'product_uom', '1', 'product_id', '15', 'name', 'Large Cabinet', 'product_qty', '2', 'date_planned', '2020-12-21 17:40:37.988343', 'price_unit', '5']\n",
      "['odoo01', '2', 'PWD1234', 'purchase.order', 'create', 'partner_id', '1220', 'requisition_id', '102']\n",
      "['odoo01', '2', 'PWD1234', 'purchase.order.line', 'create', 'order_id', '290', 'product_uom', '1', 'product_id', '15', 'name', 'Large Cabinet', 'product_qty', '2', 'date_planned', '2020-12-21 17:40:37.988343', 'price_unit', '5']\n",
      "['odoo01', '2', 'PWD1234', 'purchase.requisition', 'write', '102', 'state', 'in_progress']\n",
      "['odoo01', '2', 'PWD1234', 'purchase.order', 'create', 'partner_id', '1219', 'requisition_id', '103']\n",
      "['odoo01', '2', 'PWD1234', 'purchase.order.line', 'create', 'order_id', '291', 'product_uom', '1', 'product_id', '18', 'name', 'Pedal Bin', 'product_qty', '1', 'date_planned', '2020-12-21 18:06:50.198444', 'price_unit', '2']\n",
      "['odoo01', '2', 'PWD1234', 'purchase.order', 'create', 'partner_id', '1220', 'requisition_id', '103']\n",
      "['odoo01', '2', 'PWD1234', 'purchase.order.line', 'create', 'order_id', '292', 'product_uom', '1', 'product_id', '18', 'name', 'Pedal Bin', 'product_qty', '1', 'date_planned', '2020-12-21 18:06:50.198444', 'price_unit', '2']\n",
      "['odoo01', '2', 'PWD1234', 'purchase.order', 'create', 'partner_id', '1249', 'requisition_id', '103']\n",
      "['odoo01', '2', 'PWD1234', 'purchase.order.line', 'create', 'order_id', '293', 'product_uom', '1', 'product_id', '18', 'name', 'Pedal Bin', 'product_qty', '1', 'date_planned', '2020-12-21 18:06:50.198444', 'price_unit', '2']\n",
      "['odoo01', '2', 'PWD1234', 'purchase.requisition', 'write', '103', 'state', 'in_progress']\n",
      "['odoo01', '2', 'PWD1234', 'purchase.order', 'create', 'partner_id', '1243', 'requisition_id', '104']\n",
      "['odoo01', '2', 'PWD1234', 'purchase.order.line', 'create', 'order_id', '294', 'product_uom', '1', 'product_id', '18', 'name', 'Pedal Bin', 'product_qty', '2', 'date_planned', '2020-12-21 18:33:30.785178', 'price_unit', '1']\n",
      "['odoo01', '2', 'PWD1234', 'purchase.order', 'create', 'partner_id', '1222', 'requisition_id', '104']\n",
      "['odoo01', '2', 'PWD1234', 'purchase.order.line', 'create', 'order_id', '295', 'product_uom', '1', 'product_id', '18', 'name', 'Pedal Bin', 'product_qty', '2', 'date_planned', '2020-12-21 18:33:30.785178', 'price_unit', '1']\n",
      "['odoo01', '2', 'PWD1234', 'purchase.order', 'create', 'partner_id', '1249', 'requisition_id', '104']\n",
      "['odoo01', '2', 'PWD1234', 'purchase.order.line', 'create', 'order_id', '296', 'product_uom', '1', 'product_id', '18', 'name', 'Pedal Bin', 'product_qty', '2', 'date_planned', '2020-12-21 18:33:30.785178', 'price_unit', '1']\n",
      "['odoo01', '2', 'PWD1234', 'purchase.order', 'create', 'partner_id', '1219', 'requisition_id', '104']\n",
      "['odoo01', '2', 'PWD1234', 'purchase.order.line', 'create', 'order_id', '297', 'product_uom', '1', 'product_id', '18', 'name', 'Pedal Bin', 'product_qty', '2', 'date_planned', '2020-12-21 18:33:30.785178', 'price_unit', '1']\n",
      "['odoo01', '2', 'PWD1234', 'purchase.requisition', 'write', '104', 'state', 'in_progress']\n",
      "['odoo01', '2', 'PWD1234', 'purchase.order', 'create', 'partner_id', '1249', 'requisition_id', '105']\n",
      "['odoo01', '2', 'PWD1234', 'purchase.order.line', 'create', 'order_id', '298', 'product_uom', '1', 'product_id', '7', 'name', 'Office Design Software', 'product_qty', '2', 'date_planned', '2020-12-21 18:50:03.050807', 'price_unit', '5']\n",
      "['odoo01', '2', 'PWD1234', 'purchase.order', 'create', 'partner_id', '1219', 'requisition_id', '105']\n",
      "['odoo01', '2', 'PWD1234', 'purchase.order.line', 'create', 'order_id', '299', 'product_uom', '1', 'product_id', '7', 'name', 'Office Design Software', 'product_qty', '2', 'date_planned', '2020-12-21 18:50:03.050807', 'price_unit', '5']\n",
      "['odoo01', '2', 'PWD1234', 'purchase.order', 'create', 'partner_id', '1243', 'requisition_id', '105']\n",
      "['odoo01', '2', 'PWD1234', 'purchase.order.line', 'create', 'order_id', '300', 'product_uom', '1', 'product_id', '7', 'name', 'Office Design Software', 'product_qty', '2', 'date_planned', '2020-12-21 18:50:03.050807', 'price_unit', '5']\n",
      "['odoo01', '2', 'PWD1234', 'purchase.order', 'create', 'partner_id', '1220', 'requisition_id', '105']\n",
      "['odoo01', '2', 'PWD1234', 'purchase.order.line', 'create', 'order_id', '301', 'product_uom', '1', 'product_id', '7', 'name', 'Office Design Software', 'product_qty', '2', 'date_planned', '2020-12-21 18:50:03.050807', 'price_unit', '5']\n",
      "['odoo01', '2', 'PWD1234', 'purchase.requisition', 'write', '105', 'state', 'in_progress']\n",
      "['odoo01', '2', 'PWD1234', 'purchase.order', 'create', 'partner_id', '1219', 'requisition_id', '106']\n",
      "['odoo01', '2', 'PWD1234', 'purchase.order.line', 'create', 'order_id', '302', 'product_uom', '1', 'product_id', '24', 'name', 'Drawer Black', 'product_qty', '1', 'date_planned', '2020-12-21 19:16:38.007043', 'price_unit', '3']\n",
      "['odoo01', '2', 'PWD1234', 'purchase.order', 'create', 'partner_id', '1220', 'requisition_id', '106']\n",
      "['odoo01', '2', 'PWD1234', 'purchase.order.line', 'create', 'order_id', '303', 'product_uom', '1', 'product_id', '24', 'name', 'Drawer Black', 'product_qty', '1', 'date_planned', '2020-12-21 19:16:38.007043', 'price_unit', '3']\n",
      "['odoo01', '2', 'PWD1234', 'purchase.order', 'create', 'partner_id', '1249', 'requisition_id', '106']\n",
      "['odoo01', '2', 'PWD1234', 'purchase.order.line', 'create', 'order_id', '304', 'product_uom', '1', 'product_id', '24', 'name', 'Drawer Black', 'product_qty', '1', 'date_planned', '2020-12-21 19:16:38.007043', 'price_unit', '3']\n",
      "['odoo01', '2', 'PWD1234', 'purchase.order', 'create', 'partner_id', '1243', 'requisition_id', '106']\n",
      "['odoo01', '2', 'PWD1234', 'purchase.order.line', 'create', 'order_id', '305', 'product_uom', '1', 'product_id', '24', 'name', 'Drawer Black', 'product_qty', '1', 'date_planned', '2020-12-21 19:16:38.007043', 'price_unit', '3']\n",
      "['odoo01', '2', 'PWD1234', 'purchase.requisition', 'write', '106', 'state', 'in_progress']\n",
      "['odoo01', '2', 'PWD1234', 'purchase.order', 'create', 'partner_id', '1243', 'requisition_id', '62']\n",
      "['odoo01', '2', 'PWD1234', 'purchase.order.line', 'create', 'order_id', '161', 'product_uom', '1', 'product_id', '31', 'name', 'Large Meeting Table', 'product_qty', '1', 'date_planned', '2020-12-21 02:01:02.234547', 'price_unit', '1']\n",
      "['odoo01', '2', 'PWD1234', 'purchase.order', 'create', 'partner_id', '1219', 'requisition_id', '62']\n",
      "['odoo01', '2', 'PWD1234', 'purchase.order.line', 'create', 'order_id', '162', 'product_uom', '1', 'product_id', '31', 'name', 'Large Meeting Table', 'product_qty', '1', 'date_planned', '2020-12-21 02:01:02.234547', 'price_unit', '1']\n",
      "['odoo01', '2', 'PWD1234', 'purchase.order', 'create', 'partner_id', '1249', 'requisition_id', '62']\n",
      "['odoo01', '2', 'PWD1234', 'purchase.order.line', 'create', 'order_id', '163', 'product_uom', '1', 'product_id', '31', 'name', 'Large Meeting Table', 'product_qty', '1', 'date_planned', '2020-12-21 02:01:02.234547', 'price_unit', '1']\n",
      "['odoo01', '2', 'PWD1234', 'purchase.requisition', 'write', '62', 'state', 'in_progress']\n",
      "['odoo01', '2', 'PWD1234', 'purchase.order', 'create', 'partner_id', '1219', 'requisition_id', '107']\n",
      "['odoo01', '2', 'PWD1234', 'purchase.order.line', 'create', 'order_id', '306', 'product_uom', '1', 'product_id', '7', 'name', 'Office Design Software', 'product_qty', '3', 'date_planned', '2020-12-21 19:43:01.163308', 'price_unit', '5']\n",
      "['odoo01', '2', 'PWD1234', 'purchase.order', 'create', 'partner_id', '1222', 'requisition_id', '107']\n",
      "['odoo01', '2', 'PWD1234', 'purchase.order.line', 'create', 'order_id', '307', 'product_uom', '1', 'product_id', '7', 'name', 'Office Design Software', 'product_qty', '3', 'date_planned', '2020-12-21 19:43:01.163308', 'price_unit', '5']\n",
      "['odoo01', '2', 'PWD1234', 'purchase.order', 'create', 'partner_id', '1243', 'requisition_id', '107']\n",
      "['odoo01', '2', 'PWD1234', 'purchase.order.line', 'create', 'order_id', '308', 'product_uom', '1', 'product_id', '7', 'name', 'Office Design Software', 'product_qty', '3', 'date_planned', '2020-12-21 19:43:01.163308', 'price_unit', '5']\n",
      "['odoo01', '2', 'PWD1234', 'purchase.requisition', 'write', '107', 'state', 'in_progress']\n",
      "['odoo01', '2', 'PWD1234', 'purchase.order', 'create', 'partner_id', '1219', 'requisition_id', '108']\n",
      "['odoo01', '2', 'PWD1234', 'purchase.order.line', 'create', 'order_id', '309', 'product_uom', '1', 'product_id', '16', 'name', 'Storage Box', 'product_qty', '3', 'date_planned', '2020-12-21 20:09:19.573451', 'price_unit', '4']\n",
      "['odoo01', '2', 'PWD1234', 'purchase.order', 'create', 'partner_id', '1222', 'requisition_id', '108']\n",
      "['odoo01', '2', 'PWD1234', 'purchase.order.line', 'create', 'order_id', '310', 'product_uom', '1', 'product_id', '16', 'name', 'Storage Box', 'product_qty', '3', 'date_planned', '2020-12-21 20:09:19.573451', 'price_unit', '4']\n",
      "['odoo01', '2', 'PWD1234', 'purchase.order', 'create', 'partner_id', '1220', 'requisition_id', '108']\n",
      "['odoo01', '2', 'PWD1234', 'purchase.order.line', 'create', 'order_id', '311', 'product_uom', '1', 'product_id', '16', 'name', 'Storage Box', 'product_qty', '3', 'date_planned', '2020-12-21 20:09:19.573451', 'price_unit', '4']\n",
      "['odoo01', '2', 'PWD1234', 'purchase.order', 'create', 'partner_id', '1249', 'requisition_id', '108']\n",
      "['odoo01', '2', 'PWD1234', 'purchase.order.line', 'create', 'order_id', '312', 'product_uom', '1', 'product_id', '16', 'name', 'Storage Box', 'product_qty', '3', 'date_planned', '2020-12-21 20:09:19.573451', 'price_unit', '4']\n",
      "['odoo01', '2', 'PWD1234', 'purchase.requisition', 'write', '108', 'state', 'in_progress']\n",
      "['odoo01', '2', 'PWD1234', 'purchase.order', 'create', 'partner_id', '1219', 'requisition_id', '109']\n",
      "['odoo01', '2', 'PWD1234', 'purchase.order.line', 'create', 'order_id', '313', 'product_uom', '1', 'product_id', '30', 'name', 'Four Person Desk', 'product_qty', '3', 'date_planned', '2020-12-21 20:25:55.350798', 'price_unit', '3']\n",
      "['odoo01', '2', 'PWD1234', 'purchase.order', 'create', 'partner_id', '1222', 'requisition_id', '109']\n",
      "['odoo01', '2', 'PWD1234', 'purchase.order.line', 'create', 'order_id', '314', 'product_uom', '1', 'product_id', '30', 'name', 'Four Person Desk', 'product_qty', '3', 'date_planned', '2020-12-21 20:25:55.350798', 'price_unit', '3']\n",
      "['odoo01', '2', 'PWD1234', 'purchase.order', 'create', 'partner_id', '1220', 'requisition_id', '109']\n",
      "['odoo01', '2', 'PWD1234', 'purchase.order.line', 'create', 'order_id', '315', 'product_uom', '1', 'product_id', '30', 'name', 'Four Person Desk', 'product_qty', '3', 'date_planned', '2020-12-21 20:25:55.350798', 'price_unit', '3']\n",
      "['odoo01', '2', 'PWD1234', 'purchase.order', 'create', 'partner_id', '1249', 'requisition_id', '109']\n",
      "['odoo01', '2', 'PWD1234', 'purchase.order.line', 'create', 'order_id', '316', 'product_uom', '1', 'product_id', '30', 'name', 'Four Person Desk', 'product_qty', '3', 'date_planned', '2020-12-21 20:25:55.350798', 'price_unit', '3']\n",
      "['odoo01', '2', 'PWD1234', 'purchase.requisition', 'write', '109', 'state', 'in_progress']\n",
      "['odoo01', '2', 'PWD1234', 'purchase.order', 'create', 'partner_id', '1220', 'requisition_id', '110']\n",
      "['odoo01', '2', 'PWD1234', 'purchase.order.line', 'create', 'order_id', '317', 'product_uom', '1', 'product_id', '14', 'name', 'Corner Desk Right Sit', 'product_qty', '2', 'date_planned', '2020-12-21 20:42:33.115962', 'price_unit', '2']\n",
      "['odoo01', '2', 'PWD1234', 'purchase.order', 'create', 'partner_id', '1243', 'requisition_id', '110']\n",
      "['odoo01', '2', 'PWD1234', 'purchase.order.line', 'create', 'order_id', '318', 'product_uom', '1', 'product_id', '14', 'name', 'Corner Desk Right Sit', 'product_qty', '2', 'date_planned', '2020-12-21 20:42:33.115962', 'price_unit', '2']\n",
      "['odoo01', '2', 'PWD1234', 'purchase.order', 'create', 'partner_id', '1219', 'requisition_id', '110']\n",
      "['odoo01', '2', 'PWD1234', 'purchase.order.line', 'create', 'order_id', '319', 'product_uom', '1', 'product_id', '14', 'name', 'Corner Desk Right Sit', 'product_qty', '2', 'date_planned', '2020-12-21 20:42:33.115962', 'price_unit', '2']\n",
      "['odoo01', '2', 'PWD1234', 'purchase.order', 'create', 'partner_id', '1222', 'requisition_id', '110']\n",
      "['odoo01', '2', 'PWD1234', 'purchase.order.line', 'create', 'order_id', '320', 'product_uom', '1', 'product_id', '14', 'name', 'Corner Desk Right Sit', 'product_qty', '2', 'date_planned', '2020-12-21 20:42:33.115962', 'price_unit', '2']\n",
      "['odoo01', '2', 'PWD1234', 'purchase.requisition', 'write', '110', 'state', 'in_progress']\n",
      "['odoo01', '2', 'PWD1234', 'purchase.order', 'create', 'partner_id', '1220', 'requisition_id', '111']\n",
      "['odoo01', '2', 'PWD1234', 'purchase.order.line', 'create', 'order_id', '321', 'product_uom', '1', 'product_id', '8', 'name', 'Desk Combination', 'product_qty', '1', 'date_planned', '2020-12-21 20:58:59.209734', 'price_unit', '5']\n",
      "['odoo01', '2', 'PWD1234', 'purchase.order', 'create', 'partner_id', '1219', 'requisition_id', '111']\n",
      "['odoo01', '2', 'PWD1234', 'purchase.order.line', 'create', 'order_id', '322', 'product_uom', '1', 'product_id', '8', 'name', 'Desk Combination', 'product_qty', '1', 'date_planned', '2020-12-21 20:58:59.209734', 'price_unit', '5']\n",
      "['odoo01', '2', 'PWD1234', 'purchase.order', 'create', 'partner_id', '1249', 'requisition_id', '111']\n",
      "['odoo01', '2', 'PWD1234', 'purchase.order.line', 'create', 'order_id', '323', 'product_uom', '1', 'product_id', '8', 'name', 'Desk Combination', 'product_qty', '1', 'date_planned', '2020-12-21 20:58:59.209734', 'price_unit', '5']\n",
      "['odoo01', '2', 'PWD1234', 'purchase.order', 'create', 'partner_id', '1243', 'requisition_id', '111']\n",
      "['odoo01', '2', 'PWD1234', 'purchase.order.line', 'create', 'order_id', '324', 'product_uom', '1', 'product_id', '8', 'name', 'Desk Combination', 'product_qty', '1', 'date_planned', '2020-12-21 20:58:59.209734', 'price_unit', '5']\n",
      "['odoo01', '2', 'PWD1234', 'purchase.requisition', 'write', '111', 'state', 'in_progress']\n",
      "['odoo01', '2', 'PWD1234', 'purchase.order', 'create', 'partner_id', '1249', 'requisition_id', '112']\n",
      "['odoo01', '2', 'PWD1234', 'purchase.order.line', 'create', 'order_id', '325', 'product_uom', '1', 'product_id', '18', 'name', 'Pedal Bin', 'product_qty', '3', 'date_planned', '2020-12-21 21:25:24.850348', 'price_unit', '5']\n",
      "['odoo01', '2', 'PWD1234', 'purchase.order', 'create', 'partner_id', '1243', 'requisition_id', '112']\n",
      "['odoo01', '2', 'PWD1234', 'purchase.order.line', 'create', 'order_id', '326', 'product_uom', '1', 'product_id', '18', 'name', 'Pedal Bin', 'product_qty', '3', 'date_planned', '2020-12-21 21:25:24.850348', 'price_unit', '5']\n",
      "['odoo01', '2', 'PWD1234', 'purchase.requisition', 'write', '112', 'state', 'in_progress']\n",
      "['odoo01', '2', 'PWD1234', 'purchase.order', 'create', 'partner_id', '1243', 'requisition_id', '113']\n",
      "['odoo01', '2', 'PWD1234', 'purchase.order.line', 'create', 'order_id', '327', 'product_uom', '1', 'product_id', '24', 'name', 'Drawer Black', 'product_qty', '3', 'date_planned', '2020-12-21 21:51:38.430670', 'price_unit', '5']\n",
      "['odoo01', '2', 'PWD1234', 'purchase.order', 'create', 'partner_id', '1219', 'requisition_id', '113']\n",
      "['odoo01', '2', 'PWD1234', 'purchase.order.line', 'create', 'order_id', '328', 'product_uom', '1', 'product_id', '24', 'name', 'Drawer Black', 'product_qty', '3', 'date_planned', '2020-12-21 21:51:38.430670', 'price_unit', '5']\n",
      "['odoo01', '2', 'PWD1234', 'purchase.order', 'create', 'partner_id', '1249', 'requisition_id', '113']\n",
      "['odoo01', '2', 'PWD1234', 'purchase.order.line', 'create', 'order_id', '329', 'product_uom', '1', 'product_id', '24', 'name', 'Drawer Black', 'product_qty', '3', 'date_planned', '2020-12-21 21:51:38.430670', 'price_unit', '5']\n",
      "['odoo01', '2', 'PWD1234', 'purchase.requisition', 'write', '113', 'state', 'in_progress']\n",
      "['odoo01', '2', 'PWD1234', 'purchase.order', 'create', 'partner_id', '1222', 'requisition_id', '114']\n",
      "['odoo01', '2', 'PWD1234', 'purchase.order.line', 'create', 'order_id', '330', 'product_uom', '1', 'product_id', '15', 'name', 'Large Cabinet', 'product_qty', '2', 'date_planned', '2020-12-21 22:18:03.946325', 'price_unit', '3']\n",
      "['odoo01', '2', 'PWD1234', 'purchase.order', 'create', 'partner_id', '1249', 'requisition_id', '114']\n",
      "['odoo01', '2', 'PWD1234', 'purchase.order.line', 'create', 'order_id', '331', 'product_uom', '1', 'product_id', '15', 'name', 'Large Cabinet', 'product_qty', '2', 'date_planned', '2020-12-21 22:18:03.946325', 'price_unit', '3']\n",
      "['odoo01', '2', 'PWD1234', 'purchase.requisition', 'write', '114', 'state', 'in_progress']\n",
      "['odoo01', '2', 'PWD1234', 'purchase.order', 'create', 'partner_id', '1219', 'requisition_id', '115']\n",
      "['odoo01', '2', 'PWD1234', 'purchase.order.line', 'create', 'order_id', '332', 'product_uom', '1', 'product_id', '25', 'name', 'Flipover', 'product_qty', '3', 'date_planned', '2020-12-21 22:44:23.287844', 'price_unit', '3']\n",
      "['odoo01', '2', 'PWD1234', 'purchase.order', 'create', 'partner_id', '1249', 'requisition_id', '115']\n",
      "['odoo01', '2', 'PWD1234', 'purchase.order.line', 'create', 'order_id', '333', 'product_uom', '1', 'product_id', '25', 'name', 'Flipover', 'product_qty', '3', 'date_planned', '2020-12-21 22:44:23.287844', 'price_unit', '3']\n",
      "['odoo01', '2', 'PWD1234', 'purchase.order', 'create', 'partner_id', '1222', 'requisition_id', '115']\n",
      "['odoo01', '2', 'PWD1234', 'purchase.order.line', 'create', 'order_id', '334', 'product_uom', '1', 'product_id', '25', 'name', 'Flipover', 'product_qty', '3', 'date_planned', '2020-12-21 22:44:23.287844', 'price_unit', '3']\n",
      "['odoo01', '2', 'PWD1234', 'purchase.requisition', 'write', '115', 'state', 'in_progress']\n",
      "['odoo01', '2', 'PWD1234', 'purchase.order', 'create', 'partner_id', '1222', 'requisition_id', '116']\n",
      "['odoo01', '2', 'PWD1234', 'purchase.order.line', 'create', 'order_id', '335', 'product_uom', '3', 'product_id', '33', 'name', 'Cable Management Box', 'product_qty', '1', 'date_planned', '2020-12-21 23:10:51.589061', 'price_unit', '1']\n",
      "['odoo01', '2', 'PWD1234', 'purchase.order', 'create', 'partner_id', '1219', 'requisition_id', '116']\n",
      "['odoo01', '2', 'PWD1234', 'purchase.order.line', 'create', 'order_id', '336', 'product_uom', '3', 'product_id', '33', 'name', 'Cable Management Box', 'product_qty', '1', 'date_planned', '2020-12-21 23:10:51.589061', 'price_unit', '1']\n",
      "['odoo01', '2', 'PWD1234', 'purchase.requisition', 'write', '116', 'state', 'in_progress']\n",
      "['odoo01', '2', 'PWD1234', 'purchase.order', 'create', 'partner_id', '1222', 'requisition_id', '63']\n",
      "['odoo01', '2', 'PWD1234', 'purchase.order.line', 'create', 'order_id', '164', 'product_uom', '1', 'product_id', '24', 'name', 'Drawer Black', 'product_qty', '1', 'date_planned', '2020-12-21 02:27:31.036131', 'price_unit', '1']\n",
      "['odoo01', '2', 'PWD1234', 'purchase.order', 'create', 'partner_id', '1219', 'requisition_id', '63']\n",
      "['odoo01', '2', 'PWD1234', 'purchase.order.line', 'create', 'order_id', '165', 'product_uom', '1', 'product_id', '24', 'name', 'Drawer Black', 'product_qty', '1', 'date_planned', '2020-12-21 02:27:31.036131', 'price_unit', '1']\n",
      "['odoo01', '2', 'PWD1234', 'purchase.order', 'create', 'partner_id', '1243', 'requisition_id', '63']\n",
      "['odoo01', '2', 'PWD1234', 'purchase.order.line', 'create', 'order_id', '166', 'product_uom', '1', 'product_id', '24', 'name', 'Drawer Black', 'product_qty', '1', 'date_planned', '2020-12-21 02:27:31.036131', 'price_unit', '1']\n",
      "['odoo01', '2', 'PWD1234', 'purchase.order', 'create', 'partner_id', '1220', 'requisition_id', '63']\n",
      "['odoo01', '2', 'PWD1234', 'purchase.order.line', 'create', 'order_id', '167', 'product_uom', '1', 'product_id', '24', 'name', 'Drawer Black', 'product_qty', '1', 'date_planned', '2020-12-21 02:27:31.036131', 'price_unit', '1']\n",
      "['odoo01', '2', 'PWD1234', 'purchase.requisition', 'write', '63', 'state', 'in_progress']\n",
      "['odoo01', '2', 'PWD1234', 'purchase.order', 'create', 'partner_id', '1243', 'requisition_id', '117']\n",
      "['odoo01', '2', 'PWD1234', 'purchase.order.line', 'create', 'order_id', '337', 'product_uom', '1', 'product_id', '7', 'name', 'Office Design Software', 'product_qty', '1', 'date_planned', '2020-12-21 23:27:16.584717', 'price_unit', '1']\n",
      "['odoo01', '2', 'PWD1234', 'purchase.order', 'create', 'partner_id', '1249', 'requisition_id', '117']\n",
      "['odoo01', '2', 'PWD1234', 'purchase.order.line', 'create', 'order_id', '338', 'product_uom', '1', 'product_id', '7', 'name', 'Office Design Software', 'product_qty', '1', 'date_planned', '2020-12-21 23:27:16.584717', 'price_unit', '1']\n",
      "['odoo01', '2', 'PWD1234', 'purchase.order', 'create', 'partner_id', '1220', 'requisition_id', '117']\n",
      "['odoo01', '2', 'PWD1234', 'purchase.order.line', 'create', 'order_id', '339', 'product_uom', '1', 'product_id', '7', 'name', 'Office Design Software', 'product_qty', '1', 'date_planned', '2020-12-21 23:27:16.584717', 'price_unit', '1']\n",
      "['odoo01', '2', 'PWD1234', 'purchase.requisition', 'write', '117', 'state', 'in_progress']\n",
      "['odoo01', '2', 'PWD1234', 'purchase.order', 'create', 'partner_id', '1222', 'requisition_id', '118']\n",
      "['odoo01', '2', 'PWD1234', 'purchase.order.line', 'create', 'order_id', '340', 'product_uom', '1', 'product_id', '25', 'name', 'Flipover', 'product_qty', '3', 'date_planned', '2020-12-21 23:43:48.758792', 'price_unit', '3']\n",
      "['odoo01', '2', 'PWD1234', 'purchase.order', 'create', 'partner_id', '1219', 'requisition_id', '118']\n",
      "['odoo01', '2', 'PWD1234', 'purchase.order.line', 'create', 'order_id', '341', 'product_uom', '1', 'product_id', '25', 'name', 'Flipover', 'product_qty', '3', 'date_planned', '2020-12-21 23:43:48.758792', 'price_unit', '3']\n",
      "['odoo01', '2', 'PWD1234', 'purchase.order', 'create', 'partner_id', '1249', 'requisition_id', '118']\n",
      "['odoo01', '2', 'PWD1234', 'purchase.order.line', 'create', 'order_id', '342', 'product_uom', '1', 'product_id', '25', 'name', 'Flipover', 'product_qty', '3', 'date_planned', '2020-12-21 23:43:48.758792', 'price_unit', '3']\n",
      "['odoo01', '2', 'PWD1234', 'purchase.order', 'create', 'partner_id', '1243', 'requisition_id', '118']\n",
      "['odoo01', '2', 'PWD1234', 'purchase.order.line', 'create', 'order_id', '343', 'product_uom', '1', 'product_id', '25', 'name', 'Flipover', 'product_qty', '3', 'date_planned', '2020-12-21 23:43:48.758792', 'price_unit', '3']\n",
      "['odoo01', '2', 'PWD1234', 'purchase.requisition', 'write', '118', 'state', 'in_progress']\n",
      "['odoo01', '2', 'PWD1234', 'purchase.order', 'create', 'partner_id', '1243', 'requisition_id', '119']\n",
      "['odoo01', '2', 'PWD1234', 'purchase.order.line', 'create', 'order_id', '344', 'product_uom', '1', 'product_id', '8', 'name', 'Desk Combination', 'product_qty', '3', 'date_planned', '2020-12-22 00:10:18.370315', 'price_unit', '1']\n",
      "['odoo01', '2', 'PWD1234', 'purchase.order', 'create', 'partner_id', '1219', 'requisition_id', '119']\n",
      "['odoo01', '2', 'PWD1234', 'purchase.order.line', 'create', 'order_id', '345', 'product_uom', '1', 'product_id', '8', 'name', 'Desk Combination', 'product_qty', '3', 'date_planned', '2020-12-22 00:10:18.370315', 'price_unit', '1']\n",
      "['odoo01', '2', 'PWD1234', 'purchase.requisition', 'write', '119', 'state', 'in_progress']\n",
      "['odoo01', '2', 'PWD1234', 'purchase.order', 'create', 'partner_id', '1249', 'requisition_id', '120']\n",
      "['odoo01', '2', 'PWD1234', 'purchase.order.line', 'create', 'order_id', '346', 'product_uom', '1', 'product_id', '24', 'name', 'Drawer Black', 'product_qty', '3', 'date_planned', '2020-12-22 00:36:39.729719', 'price_unit', '1']\n",
      "['odoo01', '2', 'PWD1234', 'purchase.order', 'create', 'partner_id', '1219', 'requisition_id', '120']\n",
      "['odoo01', '2', 'PWD1234', 'purchase.order.line', 'create', 'order_id', '347', 'product_uom', '1', 'product_id', '24', 'name', 'Drawer Black', 'product_qty', '3', 'date_planned', '2020-12-22 00:36:39.729719', 'price_unit', '1']\n",
      "['odoo01', '2', 'PWD1234', 'purchase.requisition', 'write', '120', 'state', 'in_progress']\n",
      "['odoo01', '2', 'PWD1234', 'purchase.order', 'create', 'partner_id', '1219', 'requisition_id', '121']\n",
      "['odoo01', '2', 'PWD1234', 'purchase.order.line', 'create', 'order_id', '348', 'product_uom', '1', 'product_id', '31', 'name', 'Large Meeting Table', 'product_qty', '3', 'date_planned', '2020-12-22 01:03:03.757044', 'price_unit', '5']\n",
      "['odoo01', '2', 'PWD1234', 'purchase.order', 'create', 'partner_id', '1243', 'requisition_id', '121']\n",
      "['odoo01', '2', 'PWD1234', 'purchase.order.line', 'create', 'order_id', '349', 'product_uom', '1', 'product_id', '31', 'name', 'Large Meeting Table', 'product_qty', '3', 'date_planned', '2020-12-22 01:03:03.757044', 'price_unit', '5']\n",
      "['odoo01', '2', 'PWD1234', 'purchase.order', 'create', 'partner_id', '1222', 'requisition_id', '121']\n",
      "['odoo01', '2', 'PWD1234', 'purchase.order.line', 'create', 'order_id', '350', 'product_uom', '1', 'product_id', '31', 'name', 'Large Meeting Table', 'product_qty', '3', 'date_planned', '2020-12-22 01:03:03.757044', 'price_unit', '5']\n",
      "['odoo01', '2', 'PWD1234', 'purchase.order', 'create', 'partner_id', '1249', 'requisition_id', '121']\n",
      "['odoo01', '2', 'PWD1234', 'purchase.order.line', 'create', 'order_id', '351', 'product_uom', '1', 'product_id', '31', 'name', 'Large Meeting Table', 'product_qty', '3', 'date_planned', '2020-12-22 01:03:03.757044', 'price_unit', '5']\n",
      "['odoo01', '2', 'PWD1234', 'purchase.requisition', 'write', '121', 'state', 'in_progress']\n",
      "['odoo01', '2', 'PWD1234', 'purchase.order', 'create', 'partner_id', '1220', 'requisition_id', '122']\n",
      "['odoo01', '2', 'PWD1234', 'purchase.order.line', 'create', 'order_id', '352', 'product_uom', '1', 'product_id', '14', 'name', 'Corner Desk Right Sit', 'product_qty', '3', 'date_planned', '2020-12-22 01:29:30.714080', 'price_unit', '4']\n",
      "['odoo01', '2', 'PWD1234', 'purchase.order', 'create', 'partner_id', '1219', 'requisition_id', '122']\n",
      "['odoo01', '2', 'PWD1234', 'purchase.order.line', 'create', 'order_id', '353', 'product_uom', '1', 'product_id', '14', 'name', 'Corner Desk Right Sit', 'product_qty', '3', 'date_planned', '2020-12-22 01:29:30.714080', 'price_unit', '4']\n",
      "['odoo01', '2', 'PWD1234', 'purchase.order', 'create', 'partner_id', '1243', 'requisition_id', '122']\n",
      "['odoo01', '2', 'PWD1234', 'purchase.order.line', 'create', 'order_id', '354', 'product_uom', '1', 'product_id', '14', 'name', 'Corner Desk Right Sit', 'product_qty', '3', 'date_planned', '2020-12-22 01:29:30.714080', 'price_unit', '4']\n",
      "['odoo01', '2', 'PWD1234', 'purchase.requisition', 'write', '122', 'state', 'in_progress']\n",
      "['odoo01', '2', 'PWD1234', 'purchase.order', 'create', 'partner_id', '1222', 'requisition_id', '123']\n",
      "['odoo01', '2', 'PWD1234', 'purchase.order.line', 'create', 'order_id', '355', 'product_uom', '1', 'product_id', '23', 'name', 'Corner Desk Black', 'product_qty', '1', 'date_planned', '2020-12-22 01:46:02.381591', 'price_unit', '1']\n",
      "['odoo01', '2', 'PWD1234', 'purchase.order', 'create', 'partner_id', '1220', 'requisition_id', '123']\n",
      "['odoo01', '2', 'PWD1234', 'purchase.order.line', 'create', 'order_id', '356', 'product_uom', '1', 'product_id', '23', 'name', 'Corner Desk Black', 'product_qty', '1', 'date_planned', '2020-12-22 01:46:02.381591', 'price_unit', '1']\n",
      "['odoo01', '2', 'PWD1234', 'purchase.order', 'create', 'partner_id', '1219', 'requisition_id', '123']\n",
      "['odoo01', '2', 'PWD1234', 'purchase.order.line', 'create', 'order_id', '357', 'product_uom', '1', 'product_id', '23', 'name', 'Corner Desk Black', 'product_qty', '1', 'date_planned', '2020-12-22 01:46:02.381591', 'price_unit', '1']\n",
      "['odoo01', '2', 'PWD1234', 'purchase.order', 'create', 'partner_id', '1249', 'requisition_id', '123']\n",
      "['odoo01', '2', 'PWD1234', 'purchase.order.line', 'create', 'order_id', '358', 'product_uom', '1', 'product_id', '23', 'name', 'Corner Desk Black', 'product_qty', '1', 'date_planned', '2020-12-22 01:46:02.381591', 'price_unit', '1']\n",
      "['odoo01', '2', 'PWD1234', 'purchase.requisition', 'write', '123', 'state', 'in_progress']\n",
      "['odoo01', '2', 'PWD1234', 'purchase.order', 'create', 'partner_id', '1243', 'requisition_id', '124']\n",
      "['odoo01', '2', 'PWD1234', 'purchase.order.line', 'create', 'order_id', '359', 'product_uom', '1', 'product_id', '24', 'name', 'Drawer Black', 'product_qty', '2', 'date_planned', '2020-12-22 02:02:32.585176', 'price_unit', '4']\n",
      "['odoo01', '2', 'PWD1234', 'purchase.order', 'create', 'partner_id', '1220', 'requisition_id', '124']\n",
      "['odoo01', '2', 'PWD1234', 'purchase.order.line', 'create', 'order_id', '360', 'product_uom', '1', 'product_id', '24', 'name', 'Drawer Black', 'product_qty', '2', 'date_planned', '2020-12-22 02:02:32.585176', 'price_unit', '4']\n",
      "['odoo01', '2', 'PWD1234', 'purchase.requisition', 'write', '124', 'state', 'in_progress']\n",
      "['odoo01', '2', 'PWD1234', 'purchase.order', 'create', 'partner_id', '1219', 'requisition_id', '64']\n",
      "['odoo01', '2', 'PWD1234', 'purchase.order.line', 'create', 'order_id', '168', 'product_uom', '1', 'product_id', '5', 'name', 'Office Chair', 'product_qty', '2', 'date_planned', '2020-12-21 02:44:11.916816', 'price_unit', '1']\n",
      "['odoo01', '2', 'PWD1234', 'purchase.order', 'create', 'partner_id', '1220', 'requisition_id', '64']\n",
      "['odoo01', '2', 'PWD1234', 'purchase.order.line', 'create', 'order_id', '169', 'product_uom', '1', 'product_id', '5', 'name', 'Office Chair', 'product_qty', '2', 'date_planned', '2020-12-21 02:44:11.916816', 'price_unit', '1']\n",
      "['odoo01', '2', 'PWD1234', 'purchase.requisition', 'write', '64', 'state', 'in_progress']\n",
      "['odoo01', '2', 'PWD1234', 'purchase.order', 'create', 'partner_id', '1220', 'requisition_id', '65']\n",
      "['odoo01', '2', 'PWD1234', 'purchase.order.line', 'create', 'order_id', '170', 'product_uom', '1', 'product_id', '25', 'name', 'Flipover', 'product_qty', '3', 'date_planned', '2020-12-21 03:10:43.437688', 'price_unit', '1']\n",
      "['odoo01', '2', 'PWD1234', 'purchase.order', 'create', 'partner_id', '1219', 'requisition_id', '65']\n",
      "['odoo01', '2', 'PWD1234', 'purchase.order.line', 'create', 'order_id', '171', 'product_uom', '1', 'product_id', '25', 'name', 'Flipover', 'product_qty', '3', 'date_planned', '2020-12-21 03:10:43.437688', 'price_unit', '1']\n",
      "['odoo01', '2', 'PWD1234', 'purchase.order', 'create', 'partner_id', '1243', 'requisition_id', '65']\n",
      "['odoo01', '2', 'PWD1234', 'purchase.order.line', 'create', 'order_id', '172', 'product_uom', '1', 'product_id', '25', 'name', 'Flipover', 'product_qty', '3', 'date_planned', '2020-12-21 03:10:43.437688', 'price_unit', '1']\n",
      "['odoo01', '2', 'PWD1234', 'purchase.requisition', 'write', '65', 'state', 'in_progress']\n",
      "['odoo01', '2', 'PWD1234', 'purchase.order', 'create', 'partner_id', '1220', 'requisition_id', '66']\n",
      "['odoo01', '2', 'PWD1234', 'purchase.order.line', 'create', 'order_id', '173', 'product_uom', '1', 'product_id', '28', 'name', 'Acoustic Bloc Screens', 'product_qty', '1', 'date_planned', '2020-12-21 03:27:24.782614', 'price_unit', '1']\n",
      "['odoo01', '2', 'PWD1234', 'purchase.order', 'create', 'partner_id', '1249', 'requisition_id', '66']\n",
      "['odoo01', '2', 'PWD1234', 'purchase.order.line', 'create', 'order_id', '174', 'product_uom', '1', 'product_id', '28', 'name', 'Acoustic Bloc Screens', 'product_qty', '1', 'date_planned', '2020-12-21 03:27:24.782614', 'price_unit', '1']\n",
      "['odoo01', '2', 'PWD1234', 'purchase.order', 'create', 'partner_id', '1219', 'requisition_id', '66']\n",
      "['odoo01', '2', 'PWD1234', 'purchase.order.line', 'create', 'order_id', '175', 'product_uom', '1', 'product_id', '28', 'name', 'Acoustic Bloc Screens', 'product_qty', '1', 'date_planned', '2020-12-21 03:27:24.782614', 'price_unit', '1']\n",
      "['odoo01', '2', 'PWD1234', 'purchase.order', 'create', 'partner_id', '1243', 'requisition_id', '66']\n",
      "['odoo01', '2', 'PWD1234', 'purchase.order.line', 'create', 'order_id', '176', 'product_uom', '1', 'product_id', '28', 'name', 'Acoustic Bloc Screens', 'product_qty', '1', 'date_planned', '2020-12-21 03:27:24.782614', 'price_unit', '1']\n",
      "['odoo01', '2', 'PWD1234', 'purchase.requisition', 'write', '66', 'state', 'in_progress']\n",
      "['odoo01', '2', 'PWD1234', 'purchase.requisition', 'write', '58', 'state', 'open']\n",
      "['odoo01', '2', 'PWD1234', 'purchase.requisition', 'write', '67', 'state', 'open']\n",
      "['odoo01', '2', 'PWD1234', 'purchase.requisition', 'write', '67', 'state', 'cancel']\n",
      "['odoo01', '2', 'PWD1234', 'sale.order', 'write', '103', 'state', 'cancel']\n",
      "['odoo01', '2', 'PWD1234', 'purchase.order', 'write', '177', 'state', 'cancel']\n",
      "['odoo01', '2', 'PWD1234', 'purchase.order', 'write', '178', 'state', 'cancel']\n",
      "['odoo01', '2', 'PWD1234', 'purchase.order', 'write', '179', 'state', 'cancel']\n",
      "['odoo01', '2', 'PWD1234', 'purchase.requisition', 'write', '68', 'state', 'open']\n",
      "['odoo01', '2', 'PWD1234', 'purchase.requisition', 'write', '68', 'state', 'cancel']\n",
      "['odoo01', '2', 'PWD1234', 'sale.order', 'write', '104', 'state', 'cancel']\n",
      "['odoo01', '2', 'PWD1234', 'purchase.order', 'write', '180', 'state', 'cancel']\n",
      "['odoo01', '2', 'PWD1234', 'purchase.order', 'write', '181', 'state', 'cancel']\n",
      "['odoo01', '2', 'PWD1234', 'purchase.order', 'write', '182', 'state', 'cancel']\n",
      "['odoo01', '2', 'PWD1234', 'purchase.requisition', 'write', '69', 'state', 'open']\n",
      "['odoo01', '2', 'PWD1234', 'purchase.requisition', 'write', '70', 'state', 'open']\n",
      "['odoo01', '2', 'PWD1234', 'purchase.requisition', 'write', '71', 'state', 'open']\n",
      "['odoo01', '2', 'PWD1234', 'purchase.requisition', 'write', '72', 'state', 'open']\n",
      "['odoo01', '2', 'PWD1234', 'purchase.requisition', 'write', '72', 'state', 'cancel']\n",
      "['odoo01', '2', 'PWD1234', 'sale.order', 'write', '108', 'state', 'cancel']\n",
      "['odoo01', '2', 'PWD1234', 'purchase.order', 'write', '195', 'state', 'cancel']\n",
      "['odoo01', '2', 'PWD1234', 'purchase.order', 'write', '196', 'state', 'cancel']\n",
      "['odoo01', '2', 'PWD1234', 'purchase.order', 'write', '197', 'state', 'cancel']\n",
      "['odoo01', '2', 'PWD1234', 'purchase.requisition', 'write', '73', 'state', 'open']\n",
      "['odoo01', '2', 'PWD1234', 'purchase.requisition', 'write', '73', 'state', 'cancel']\n",
      "['odoo01', '2', 'PWD1234', 'sale.order', 'write', '109', 'state', 'cancel']\n",
      "['odoo01', '2', 'PWD1234', 'purchase.order', 'write', '198', 'state', 'cancel']\n",
      "['odoo01', '2', 'PWD1234', 'purchase.order', 'write', '199', 'state', 'cancel']\n",
      "['odoo01', '2', 'PWD1234', 'purchase.order', 'write', '200', 'state', 'cancel']\n",
      "['odoo01', '2', 'PWD1234', 'purchase.requisition', 'write', '74', 'state', 'open']\n",
      "['odoo01', '2', 'PWD1234', 'purchase.requisition', 'write', '75', 'state', 'open']\n",
      "['odoo01', '2', 'PWD1234', 'purchase.requisition', 'write', '76', 'state', 'open']\n",
      "['odoo01', '2', 'PWD1234', 'purchase.requisition', 'write', '59', 'state', 'open']\n",
      "['odoo01', '2', 'PWD1234', 'purchase.requisition', 'write', '77', 'state', 'open']\n",
      "['odoo01', '2', 'PWD1234', 'purchase.requisition', 'write', '78', 'state', 'open']\n",
      "['odoo01', '2', 'PWD1234', 'purchase.requisition', 'write', '79', 'state', 'open']\n",
      "['odoo01', '2', 'PWD1234', 'purchase.requisition', 'write', '80', 'state', 'open']\n",
      "['odoo01', '2', 'PWD1234', 'purchase.requisition', 'write', '81', 'state', 'open']\n",
      "['odoo01', '2', 'PWD1234', 'purchase.requisition', 'write', '81', 'state', 'cancel']\n",
      "['odoo01', '2', 'PWD1234', 'sale.order', 'write', '117', 'state', 'cancel']\n",
      "['odoo01', '2', 'PWD1234', 'purchase.order', 'write', '223', 'state', 'cancel']\n",
      "['odoo01', '2', 'PWD1234', 'purchase.order', 'write', '224', 'state', 'cancel']\n",
      "['odoo01', '2', 'PWD1234', 'purchase.requisition', 'write', '82', 'state', 'open']\n",
      "['odoo01', '2', 'PWD1234', 'purchase.requisition', 'write', '83', 'state', 'open']\n",
      "['odoo01', '2', 'PWD1234', 'purchase.requisition', 'write', '84', 'state', 'open']\n",
      "['odoo01', '2', 'PWD1234', 'purchase.requisition', 'write', '85', 'state', 'open']\n",
      "['odoo01', '2', 'PWD1234', 'purchase.requisition', 'write', '86', 'state', 'open']\n",
      "['odoo01', '2', 'PWD1234', 'purchase.requisition', 'write', '60', 'state', 'open']\n",
      "['odoo01', '2', 'PWD1234', 'purchase.requisition', 'write', '87', 'state', 'open']\n",
      "['odoo01', '2', 'PWD1234', 'purchase.requisition', 'write', '88', 'state', 'open']\n",
      "['odoo01', '2', 'PWD1234', 'purchase.requisition', 'write', '89', 'state', 'open']\n",
      "['odoo01', '2', 'PWD1234', 'purchase.requisition', 'write', '90', 'state', 'open']\n",
      "['odoo01', '2', 'PWD1234', 'purchase.requisition', 'write', '91', 'state', 'open']\n",
      "['odoo01', '2', 'PWD1234', 'purchase.requisition', 'write', '92', 'state', 'open']\n",
      "['odoo01', '2', 'PWD1234', 'purchase.requisition', 'write', '93', 'state', 'open']\n",
      "['odoo01', '2', 'PWD1234', 'purchase.requisition', 'write', '93', 'state', 'cancel']\n",
      "['odoo01', '2', 'PWD1234', 'sale.order', 'write', '129', 'state', 'cancel']\n",
      "['odoo01', '2', 'PWD1234', 'purchase.order', 'write', '262', 'state', 'cancel']\n",
      "['odoo01', '2', 'PWD1234', 'purchase.order', 'write', '263', 'state', 'cancel']\n",
      "['odoo01', '2', 'PWD1234', 'purchase.requisition', 'write', '94', 'state', 'open']\n",
      "['odoo01', '2', 'PWD1234', 'purchase.requisition', 'write', '94', 'state', 'cancel']\n",
      "['odoo01', '2', 'PWD1234', 'sale.order', 'write', '130', 'state', 'cancel']\n",
      "['odoo01', '2', 'PWD1234', 'purchase.order', 'write', '264', 'state', 'cancel']\n",
      "['odoo01', '2', 'PWD1234', 'purchase.order', 'write', '265', 'state', 'cancel']\n",
      "['odoo01', '2', 'PWD1234', 'purchase.order', 'write', '266', 'state', 'cancel']\n",
      "['odoo01', '2', 'PWD1234', 'purchase.requisition', 'write', '95', 'state', 'open']\n",
      "['odoo01', '2', 'PWD1234', 'purchase.requisition', 'write', '96', 'state', 'open']\n",
      "['odoo01', '2', 'PWD1234', 'purchase.requisition', 'write', '96', 'state', 'cancel']\n",
      "['odoo01', '2', 'PWD1234', 'sale.order', 'write', '132', 'state', 'cancel']\n",
      "['odoo01', '2', 'PWD1234', 'purchase.order', 'write', '270', 'state', 'cancel']\n",
      "['odoo01', '2', 'PWD1234', 'purchase.order', 'write', '271', 'state', 'cancel']\n",
      "['odoo01', '2', 'PWD1234', 'purchase.requisition', 'write', '61', 'state', 'open']\n",
      "['odoo01', '2', 'PWD1234', 'purchase.requisition', 'write', '97', 'state', 'open']\n",
      "['odoo01', '2', 'PWD1234', 'purchase.requisition', 'write', '97', 'state', 'cancel']\n",
      "['odoo01', '2', 'PWD1234', 'sale.order', 'write', '133', 'state', 'cancel']\n",
      "['odoo01', '2', 'PWD1234', 'purchase.order', 'write', '272', 'state', 'cancel']\n",
      "['odoo01', '2', 'PWD1234', 'purchase.order', 'write', '273', 'state', 'cancel']\n",
      "['odoo01', '2', 'PWD1234', 'purchase.order', 'write', '274', 'state', 'cancel']\n",
      "['odoo01', '2', 'PWD1234', 'purchase.order', 'write', '275', 'state', 'cancel']\n",
      "['odoo01', '2', 'PWD1234', 'purchase.requisition', 'write', '98', 'state', 'open']\n",
      "['odoo01', '2', 'PWD1234', 'purchase.requisition', 'write', '99', 'state', 'open']\n",
      "['odoo01', '2', 'PWD1234', 'purchase.requisition', 'write', '100', 'state', 'open']\n",
      "['odoo01', '2', 'PWD1234', 'purchase.requisition', 'write', '101', 'state', 'open']\n",
      "['odoo01', '2', 'PWD1234', 'purchase.requisition', 'write', '101', 'state', 'cancel']\n",
      "['odoo01', '2', 'PWD1234', 'sale.order', 'write', '137', 'state', 'cancel']\n",
      "['odoo01', '2', 'PWD1234', 'purchase.order', 'write', '286', 'state', 'cancel']\n",
      "['odoo01', '2', 'PWD1234', 'purchase.order', 'write', '287', 'state', 'cancel']\n",
      "['odoo01', '2', 'PWD1234', 'purchase.order', 'write', '288', 'state', 'cancel']\n",
      "['odoo01', '2', 'PWD1234', 'purchase.requisition', 'write', '102', 'state', 'open']\n",
      "['odoo01', '2', 'PWD1234', 'purchase.requisition', 'write', '103', 'state', 'open']\n",
      "['odoo01', '2', 'PWD1234', 'purchase.requisition', 'write', '104', 'state', 'open']\n",
      "['odoo01', '2', 'PWD1234', 'purchase.requisition', 'write', '104', 'state', 'cancel']\n",
      "['odoo01', '2', 'PWD1234', 'sale.order', 'write', '140', 'state', 'cancel']\n",
      "['odoo01', '2', 'PWD1234', 'purchase.order', 'write', '294', 'state', 'cancel']\n",
      "['odoo01', '2', 'PWD1234', 'purchase.order', 'write', '295', 'state', 'cancel']\n",
      "['odoo01', '2', 'PWD1234', 'purchase.order', 'write', '296', 'state', 'cancel']\n",
      "['odoo01', '2', 'PWD1234', 'purchase.order', 'write', '297', 'state', 'cancel']\n",
      "['odoo01', '2', 'PWD1234', 'purchase.requisition', 'write', '105', 'state', 'open']\n",
      "['odoo01', '2', 'PWD1234', 'purchase.requisition', 'write', '106', 'state', 'open']\n",
      "['odoo01', '2', 'PWD1234', 'purchase.requisition', 'write', '62', 'state', 'open']\n",
      "['odoo01', '2', 'PWD1234', 'purchase.requisition', 'write', '107', 'state', 'open']\n",
      "['odoo01', '2', 'PWD1234', 'purchase.requisition', 'write', '108', 'state', 'open']\n",
      "['odoo01', '2', 'PWD1234', 'purchase.requisition', 'write', '108', 'state', 'cancel']\n",
      "['odoo01', '2', 'PWD1234', 'sale.order', 'write', '144', 'state', 'cancel']\n",
      "['odoo01', '2', 'PWD1234', 'purchase.order', 'write', '309', 'state', 'cancel']\n",
      "['odoo01', '2', 'PWD1234', 'purchase.order', 'write', '310', 'state', 'cancel']\n",
      "['odoo01', '2', 'PWD1234', 'purchase.order', 'write', '311', 'state', 'cancel']\n",
      "['odoo01', '2', 'PWD1234', 'purchase.order', 'write', '312', 'state', 'cancel']\n",
      "['odoo01', '2', 'PWD1234', 'purchase.requisition', 'write', '109', 'state', 'open']\n",
      "['odoo01', '2', 'PWD1234', 'purchase.requisition', 'write', '109', 'state', 'cancel']\n",
      "['odoo01', '2', 'PWD1234', 'sale.order', 'write', '145', 'state', 'cancel']\n",
      "['odoo01', '2', 'PWD1234', 'purchase.order', 'write', '313', 'state', 'cancel']\n",
      "['odoo01', '2', 'PWD1234', 'purchase.order', 'write', '314', 'state', 'cancel']\n",
      "['odoo01', '2', 'PWD1234', 'purchase.order', 'write', '315', 'state', 'cancel']\n",
      "['odoo01', '2', 'PWD1234', 'purchase.order', 'write', '316', 'state', 'cancel']\n",
      "['odoo01', '2', 'PWD1234', 'purchase.requisition', 'write', '110', 'state', 'open']\n",
      "['odoo01', '2', 'PWD1234', 'purchase.requisition', 'write', '110', 'state', 'cancel']\n",
      "['odoo01', '2', 'PWD1234', 'sale.order', 'write', '146', 'state', 'cancel']\n",
      "['odoo01', '2', 'PWD1234', 'purchase.order', 'write', '317', 'state', 'cancel']\n",
      "['odoo01', '2', 'PWD1234', 'purchase.order', 'write', '318', 'state', 'cancel']\n",
      "['odoo01', '2', 'PWD1234', 'purchase.order', 'write', '319', 'state', 'cancel']\n",
      "['odoo01', '2', 'PWD1234', 'purchase.order', 'write', '320', 'state', 'cancel']\n",
      "['odoo01', '2', 'PWD1234', 'purchase.requisition', 'write', '111', 'state', 'open']\n",
      "['odoo01', '2', 'PWD1234', 'purchase.requisition', 'write', '112', 'state', 'open']\n",
      "['odoo01', '2', 'PWD1234', 'purchase.requisition', 'write', '113', 'state', 'open']\n",
      "['odoo01', '2', 'PWD1234', 'purchase.requisition', 'write', '114', 'state', 'open']\n",
      "['odoo01', '2', 'PWD1234', 'purchase.requisition', 'write', '115', 'state', 'open']\n",
      "['odoo01', '2', 'PWD1234', 'purchase.requisition', 'write', '116', 'state', 'open']\n",
      "['odoo01', '2', 'PWD1234', 'purchase.requisition', 'write', '116', 'state', 'cancel']\n",
      "['odoo01', '2', 'PWD1234', 'sale.order', 'write', '152', 'state', 'cancel']\n",
      "['odoo01', '2', 'PWD1234', 'purchase.order', 'write', '335', 'state', 'cancel']\n",
      "['odoo01', '2', 'PWD1234', 'purchase.order', 'write', '336', 'state', 'cancel']\n",
      "['odoo01', '2', 'PWD1234', 'purchase.requisition', 'write', '63', 'state', 'open']\n",
      "['odoo01', '2', 'PWD1234', 'purchase.requisition', 'write', '63', 'state', 'cancel']\n",
      "['odoo01', '2', 'PWD1234', 'sale.order', 'write', '99', 'state', 'cancel']\n",
      "['odoo01', '2', 'PWD1234', 'purchase.order', 'write', '164', 'state', 'cancel']\n",
      "['odoo01', '2', 'PWD1234', 'purchase.order', 'write', '165', 'state', 'cancel']\n",
      "['odoo01', '2', 'PWD1234', 'purchase.order', 'write', '166', 'state', 'cancel']\n",
      "['odoo01', '2', 'PWD1234', 'purchase.order', 'write', '167', 'state', 'cancel']\n",
      "['odoo01', '2', 'PWD1234', 'purchase.requisition', 'write', '117', 'state', 'open']\n",
      "['odoo01', '2', 'PWD1234', 'purchase.requisition', 'write', '117', 'state', 'cancel']\n",
      "['odoo01', '2', 'PWD1234', 'sale.order', 'write', '153', 'state', 'cancel']\n",
      "['odoo01', '2', 'PWD1234', 'purchase.order', 'write', '337', 'state', 'cancel']\n",
      "['odoo01', '2', 'PWD1234', 'purchase.order', 'write', '338', 'state', 'cancel']\n",
      "['odoo01', '2', 'PWD1234', 'purchase.order', 'write', '339', 'state', 'cancel']\n",
      "['odoo01', '2', 'PWD1234', 'purchase.requisition', 'write', '118', 'state', 'open']\n",
      "['odoo01', '2', 'PWD1234', 'purchase.requisition', 'write', '119', 'state', 'open']\n",
      "['odoo01', '2', 'PWD1234', 'purchase.requisition', 'write', '120', 'state', 'open']\n",
      "['odoo01', '2', 'PWD1234', 'purchase.requisition', 'write', '121', 'state', 'open']\n",
      "['odoo01', '2', 'PWD1234', 'purchase.requisition', 'write', '122', 'state', 'open']\n",
      "['odoo01', '2', 'PWD1234', 'purchase.requisition', 'write', '122', 'state', 'cancel']\n",
      "['odoo01', '2', 'PWD1234', 'sale.order', 'write', '158', 'state', 'cancel']\n",
      "['odoo01', '2', 'PWD1234', 'purchase.order', 'write', '352', 'state', 'cancel']\n",
      "['odoo01', '2', 'PWD1234', 'purchase.order', 'write', '353', 'state', 'cancel']\n",
      "['odoo01', '2', 'PWD1234', 'purchase.order', 'write', '354', 'state', 'cancel']\n",
      "['odoo01', '2', 'PWD1234', 'purchase.requisition', 'write', '123', 'state', 'open']\n",
      "['odoo01', '2', 'PWD1234', 'purchase.requisition', 'write', '123', 'state', 'cancel']\n",
      "['odoo01', '2', 'PWD1234', 'sale.order', 'write', '159', 'state', 'cancel']\n",
      "['odoo01', '2', 'PWD1234', 'purchase.order', 'write', '355', 'state', 'cancel']\n",
      "['odoo01', '2', 'PWD1234', 'purchase.order', 'write', '356', 'state', 'cancel']\n",
      "['odoo01', '2', 'PWD1234', 'purchase.order', 'write', '357', 'state', 'cancel']\n",
      "['odoo01', '2', 'PWD1234', 'purchase.order', 'write', '358', 'state', 'cancel']\n",
      "['odoo01', '2', 'PWD1234', 'purchase.requisition', 'write', '124', 'state', 'open']\n",
      "['odoo01', '2', 'PWD1234', 'purchase.requisition', 'write', '64', 'state', 'open']\n",
      "['odoo01', '2', 'PWD1234', 'purchase.requisition', 'write', '65', 'state', 'open']\n",
      "['odoo01', '2', 'PWD1234', 'purchase.requisition', 'write', '65', 'state', 'cancel']\n",
      "['odoo01', '2', 'PWD1234', 'sale.order', 'write', '101', 'state', 'cancel']\n",
      "['odoo01', '2', 'PWD1234', 'purchase.order', 'write', '170', 'state', 'cancel']\n",
      "['odoo01', '2', 'PWD1234', 'purchase.order', 'write', '171', 'state', 'cancel']\n",
      "['odoo01', '2', 'PWD1234', 'purchase.order', 'write', '172', 'state', 'cancel']\n",
      "['odoo01', '2', 'PWD1234', 'purchase.requisition', 'write', '66', 'state', 'open']\n",
      "['odoo01', '2', 'PWD1234', 'purchase.order', 'button_confirm', '152']\n",
      "['odoo01', '2', 'PWD1234', 'purchase.requisition', 'write', '58', 'state', 'done']\n",
      "['odoo01', '2', 'PWD1234', 'sale.order', 'write', '94', 'state', 'done']\n",
      "['odoo01', '2', 'PWD1234', 'purchase.order', 'button_confirm', '185']\n",
      "['odoo01', '2', 'PWD1234', 'purchase.requisition', 'write', '69', 'state', 'done']\n",
      "['odoo01', '2', 'PWD1234', 'sale.order', 'write', '105', 'state', 'done']\n",
      "['odoo01', '2', 'PWD1234', 'purchase.order', 'button_confirm', '189']\n",
      "['odoo01', '2', 'PWD1234', 'purchase.requisition', 'write', '70', 'state', 'done']\n",
      "['odoo01', '2', 'PWD1234', 'sale.order', 'write', '106', 'state', 'done']\n",
      "['odoo01', '2', 'PWD1234', 'purchase.order', 'button_confirm', '193']\n",
      "['odoo01', '2', 'PWD1234', 'purchase.requisition', 'write', '71', 'state', 'done']\n",
      "['odoo01', '2', 'PWD1234', 'sale.order', 'write', '107', 'state', 'done']\n",
      "['odoo01', '2', 'PWD1234', 'purchase.order', 'button_confirm', '203']\n",
      "['odoo01', '2', 'PWD1234', 'purchase.requisition', 'write', '74', 'state', 'done']\n",
      "['odoo01', '2', 'PWD1234', 'sale.order', 'write', '110', 'state', 'done']\n",
      "['odoo01', '2', 'PWD1234', 'purchase.order', 'button_confirm', '204']\n",
      "['odoo01', '2', 'PWD1234', 'purchase.requisition', 'write', '75', 'state', 'done']\n",
      "['odoo01', '2', 'PWD1234', 'sale.order', 'write', '111', 'state', 'done']\n",
      "['odoo01', '2', 'PWD1234', 'purchase.order', 'button_confirm', '208']\n",
      "['odoo01', '2', 'PWD1234', 'purchase.requisition', 'write', '76', 'state', 'done']\n",
      "['odoo01', '2', 'PWD1234', 'sale.order', 'write', '112', 'state', 'done']\n",
      "['odoo01', '2', 'PWD1234', 'purchase.order', 'button_confirm', '156']\n",
      "['odoo01', '2', 'PWD1234', 'purchase.requisition', 'write', '59', 'state', 'done']\n",
      "['odoo01', '2', 'PWD1234', 'sale.order', 'write', '95', 'state', 'done']\n",
      "['odoo01', '2', 'PWD1234', 'purchase.order', 'button_confirm', '212']\n",
      "['odoo01', '2', 'PWD1234', 'purchase.requisition', 'write', '77', 'state', 'done']\n",
      "['odoo01', '2', 'PWD1234', 'sale.order', 'write', '113', 'state', 'done']\n",
      "['odoo01', '2', 'PWD1234', 'purchase.order', 'button_confirm', '215']\n",
      "['odoo01', '2', 'PWD1234', 'purchase.requisition', 'write', '78', 'state', 'done']\n",
      "['odoo01', '2', 'PWD1234', 'sale.order', 'write', '114', 'state', 'done']\n",
      "['odoo01', '2', 'PWD1234', 'purchase.order', 'button_confirm', '218']\n",
      "['odoo01', '2', 'PWD1234', 'purchase.requisition', 'write', '79', 'state', 'done']\n",
      "['odoo01', '2', 'PWD1234', 'sale.order', 'write', '115', 'state', 'done']\n",
      "['odoo01', '2', 'PWD1234', 'purchase.order', 'button_confirm', '222']\n",
      "['odoo01', '2', 'PWD1234', 'purchase.requisition', 'write', '80', 'state', 'done']\n",
      "['odoo01', '2', 'PWD1234', 'sale.order', 'write', '116', 'state', 'done']\n",
      "['odoo01', '2', 'PWD1234', 'purchase.order', 'button_confirm', '228']\n",
      "['odoo01', '2', 'PWD1234', 'purchase.requisition', 'write', '82', 'state', 'done']\n",
      "['odoo01', '2', 'PWD1234', 'sale.order', 'write', '118', 'state', 'done']\n",
      "['odoo01', '2', 'PWD1234', 'purchase.order', 'button_confirm', '230']\n",
      "['odoo01', '2', 'PWD1234', 'purchase.requisition', 'write', '83', 'state', 'done']\n",
      "['odoo01', '2', 'PWD1234', 'sale.order', 'write', '119', 'state', 'done']\n",
      "['odoo01', '2', 'PWD1234', 'purchase.order', 'button_confirm', '234']\n",
      "['odoo01', '2', 'PWD1234', 'purchase.requisition', 'write', '84', 'state', 'done']\n",
      "['odoo01', '2', 'PWD1234', 'sale.order', 'write', '120', 'state', 'done']\n",
      "['odoo01', '2', 'PWD1234', 'purchase.order', 'button_confirm', '237']\n",
      "['odoo01', '2', 'PWD1234', 'purchase.requisition', 'write', '85', 'state', 'done']\n",
      "['odoo01', '2', 'PWD1234', 'sale.order', 'write', '121', 'state', 'done']\n",
      "['odoo01', '2', 'PWD1234', 'purchase.order', 'button_confirm', '240']\n",
      "['odoo01', '2', 'PWD1234', 'purchase.requisition', 'write', '86', 'state', 'done']\n",
      "['odoo01', '2', 'PWD1234', 'sale.order', 'write', '122', 'state', 'done']\n",
      "['odoo01', '2', 'PWD1234', 'purchase.order', 'button_confirm', '158']\n",
      "['odoo01', '2', 'PWD1234', 'purchase.requisition', 'write', '60', 'state', 'done']\n",
      "['odoo01', '2', 'PWD1234', 'sale.order', 'write', '96', 'state', 'done']\n",
      "['odoo01', '2', 'PWD1234', 'purchase.order', 'button_confirm', '243']\n",
      "['odoo01', '2', 'PWD1234', 'purchase.requisition', 'write', '87', 'state', 'done']\n",
      "['odoo01', '2', 'PWD1234', 'sale.order', 'write', '123', 'state', 'done']\n",
      "['odoo01', '2', 'PWD1234', 'purchase.order', 'button_confirm', '245']\n",
      "['odoo01', '2', 'PWD1234', 'purchase.requisition', 'write', '88', 'state', 'done']\n",
      "['odoo01', '2', 'PWD1234', 'sale.order', 'write', '124', 'state', 'done']\n",
      "['odoo01', '2', 'PWD1234', 'purchase.order', 'button_confirm', '250']\n",
      "['odoo01', '2', 'PWD1234', 'purchase.requisition', 'write', '89', 'state', 'done']\n",
      "['odoo01', '2', 'PWD1234', 'sale.order', 'write', '125', 'state', 'done']\n",
      "['odoo01', '2', 'PWD1234', 'purchase.order', 'button_confirm', '253']\n",
      "['odoo01', '2', 'PWD1234', 'purchase.requisition', 'write', '90', 'state', 'done']\n",
      "['odoo01', '2', 'PWD1234', 'sale.order', 'write', '126', 'state', 'done']\n",
      "['odoo01', '2', 'PWD1234', 'purchase.order', 'button_confirm', '256']\n",
      "['odoo01', '2', 'PWD1234', 'purchase.requisition', 'write', '91', 'state', 'done']\n",
      "['odoo01', '2', 'PWD1234', 'sale.order', 'write', '127', 'state', 'done']\n",
      "['odoo01', '2', 'PWD1234', 'purchase.order', 'button_confirm', '261']\n",
      "['odoo01', '2', 'PWD1234', 'purchase.requisition', 'write', '92', 'state', 'done']\n",
      "['odoo01', '2', 'PWD1234', 'sale.order', 'write', '128', 'state', 'done']\n",
      "['odoo01', '2', 'PWD1234', 'purchase.order', 'button_confirm', '269']\n",
      "['odoo01', '2', 'PWD1234', 'purchase.requisition', 'write', '95', 'state', 'done']\n",
      "['odoo01', '2', 'PWD1234', 'sale.order', 'write', '131', 'state', 'done']\n",
      "['odoo01', '2', 'PWD1234', 'purchase.order', 'button_confirm', '160']\n",
      "['odoo01', '2', 'PWD1234', 'purchase.requisition', 'write', '61', 'state', 'done']\n",
      "['odoo01', '2', 'PWD1234', 'sale.order', 'write', '97', 'state', 'done']\n",
      "['odoo01', '2', 'PWD1234', 'purchase.order', 'button_confirm', '279']\n",
      "['odoo01', '2', 'PWD1234', 'purchase.requisition', 'write', '98', 'state', 'done']\n",
      "['odoo01', '2', 'PWD1234', 'sale.order', 'write', '134', 'state', 'done']\n",
      "['odoo01', '2', 'PWD1234', 'purchase.order', 'button_confirm', '281']\n",
      "['odoo01', '2', 'PWD1234', 'purchase.requisition', 'write', '99', 'state', 'done']\n",
      "['odoo01', '2', 'PWD1234', 'sale.order', 'write', '135', 'state', 'done']\n",
      "['odoo01', '2', 'PWD1234', 'purchase.order', 'button_confirm', '285']\n",
      "['odoo01', '2', 'PWD1234', 'purchase.requisition', 'write', '100', 'state', 'done']\n",
      "['odoo01', '2', 'PWD1234', 'sale.order', 'write', '136', 'state', 'done']\n",
      "['odoo01', '2', 'PWD1234', 'purchase.order', 'button_confirm', '289']\n",
      "['odoo01', '2', 'PWD1234', 'purchase.requisition', 'write', '102', 'state', 'done']\n",
      "['odoo01', '2', 'PWD1234', 'sale.order', 'write', '138', 'state', 'done']\n",
      "['odoo01', '2', 'PWD1234', 'purchase.order', 'button_confirm', '293']\n",
      "['odoo01', '2', 'PWD1234', 'purchase.requisition', 'write', '103', 'state', 'done']\n",
      "['odoo01', '2', 'PWD1234', 'sale.order', 'write', '139', 'state', 'done']\n",
      "['odoo01', '2', 'PWD1234', 'purchase.order', 'button_confirm', '298']\n",
      "['odoo01', '2', 'PWD1234', 'purchase.requisition', 'write', '105', 'state', 'done']\n",
      "['odoo01', '2', 'PWD1234', 'sale.order', 'write', '141', 'state', 'done']\n",
      "['odoo01', '2', 'PWD1234', 'purchase.order', 'button_confirm', '304']\n",
      "['odoo01', '2', 'PWD1234', 'purchase.requisition', 'write', '106', 'state', 'done']\n",
      "['odoo01', '2', 'PWD1234', 'sale.order', 'write', '142', 'state', 'done']\n",
      "['odoo01', '2', 'PWD1234', 'purchase.order', 'button_confirm', '163']\n",
      "['odoo01', '2', 'PWD1234', 'purchase.requisition', 'write', '62', 'state', 'done']\n",
      "['odoo01', '2', 'PWD1234', 'sale.order', 'write', '98', 'state', 'done']\n",
      "['odoo01', '2', 'PWD1234', 'purchase.order', 'button_confirm', '307']\n",
      "['odoo01', '2', 'PWD1234', 'purchase.requisition', 'write', '107', 'state', 'done']\n",
      "['odoo01', '2', 'PWD1234', 'sale.order', 'write', '143', 'state', 'done']\n",
      "['odoo01', '2', 'PWD1234', 'purchase.order', 'button_confirm', '324']\n",
      "['odoo01', '2', 'PWD1234', 'purchase.requisition', 'write', '111', 'state', 'done']\n",
      "['odoo01', '2', 'PWD1234', 'sale.order', 'write', '147', 'state', 'done']\n",
      "['odoo01', '2', 'PWD1234', 'purchase.order', 'button_confirm', '325']\n",
      "['odoo01', '2', 'PWD1234', 'purchase.requisition', 'write', '112', 'state', 'done']\n",
      "['odoo01', '2', 'PWD1234', 'sale.order', 'write', '148', 'state', 'done']\n",
      "['odoo01', '2', 'PWD1234', 'purchase.order', 'button_confirm', '329']\n",
      "['odoo01', '2', 'PWD1234', 'purchase.requisition', 'write', '113', 'state', 'done']\n",
      "['odoo01', '2', 'PWD1234', 'sale.order', 'write', '149', 'state', 'done']\n",
      "['odoo01', '2', 'PWD1234', 'purchase.order', 'button_confirm', '330']\n",
      "['odoo01', '2', 'PWD1234', 'purchase.requisition', 'write', '114', 'state', 'done']\n",
      "['odoo01', '2', 'PWD1234', 'sale.order', 'write', '150', 'state', 'done']\n",
      "['odoo01', '2', 'PWD1234', 'purchase.order', 'button_confirm', '334']\n",
      "['odoo01', '2', 'PWD1234', 'purchase.requisition', 'write', '115', 'state', 'done']\n",
      "['odoo01', '2', 'PWD1234', 'sale.order', 'write', '151', 'state', 'done']\n",
      "['odoo01', '2', 'PWD1234', 'purchase.order', 'button_confirm', '342']\n",
      "['odoo01', '2', 'PWD1234', 'purchase.requisition', 'write', '118', 'state', 'done']\n",
      "['odoo01', '2', 'PWD1234', 'sale.order', 'write', '154', 'state', 'done']\n",
      "['odoo01', '2', 'PWD1234', 'purchase.order', 'button_confirm', '345']\n",
      "['odoo01', '2', 'PWD1234', 'purchase.requisition', 'write', '119', 'state', 'done']\n",
      "['odoo01', '2', 'PWD1234', 'sale.order', 'write', '155', 'state', 'done']\n",
      "['odoo01', '2', 'PWD1234', 'purchase.order', 'button_confirm', '347']\n",
      "['odoo01', '2', 'PWD1234', 'purchase.requisition', 'write', '120', 'state', 'done']\n",
      "['odoo01', '2', 'PWD1234', 'sale.order', 'write', '156', 'state', 'done']\n",
      "['odoo01', '2', 'PWD1234', 'purchase.order', 'button_confirm', '348']\n",
      "['odoo01', '2', 'PWD1234', 'purchase.requisition', 'write', '121', 'state', 'done']\n",
      "['odoo01', '2', 'PWD1234', 'sale.order', 'write', '157', 'state', 'done']\n",
      "['odoo01', '2', 'PWD1234', 'purchase.order', 'button_confirm', '360']\n",
      "['odoo01', '2', 'PWD1234', 'purchase.requisition', 'write', '124', 'state', 'done']\n",
      "['odoo01', '2', 'PWD1234', 'sale.order', 'write', '160', 'state', 'done']\n",
      "['odoo01', '2', 'PWD1234', 'purchase.order', 'button_confirm', '169']\n",
      "['odoo01', '2', 'PWD1234', 'purchase.requisition', 'write', '64', 'state', 'done']\n",
      "['odoo01', '2', 'PWD1234', 'sale.order', 'write', '100', 'state', 'done']\n",
      "['odoo01', '2', 'PWD1234', 'purchase.order', 'button_confirm', '173']\n",
      "['odoo01', '2', 'PWD1234', 'purchase.requisition', 'write', '66', 'state', 'done']\n",
      "['odoo01', '2', 'PWD1234', 'sale.order', 'write', '102', 'state', 'done']\n",
      "['odoo01', '2', 'PWD1234', 'stock.move.line', 'write', '56', 'qty_done', '1']\n",
      "['odoo01', '2', 'PWD1234', 'stock.picking', 'button_validate', '55']\n",
      "['odoo01', '2', 'PWD1234', 'stock.move.line', 'write', '63', 'qty_done', '1']\n",
      "['odoo01', '2', 'PWD1234', 'stock.picking', 'button_validate', '62']\n",
      "['odoo01', '2', 'PWD1234', 'stock.move.line', 'write', '64', 'qty_done', '2']\n",
      "['odoo01', '2', 'PWD1234', 'stock.picking', 'button_validate', '63']\n",
      "['odoo01', '2', 'PWD1234', 'stock.move.line', 'write', '65', 'qty_done', '1']\n",
      "['odoo01', '2', 'PWD1234', 'stock.picking', 'button_validate', '64']\n",
      "['odoo01', '2', 'PWD1234', 'stock.move.line', 'write', '66', 'qty_done', '2']\n",
      "['odoo01', '2', 'PWD1234', 'stock.picking', 'button_validate', '65']\n",
      "['odoo01', '2', 'PWD1234', 'stock.move.line', 'write', '67', 'qty_done', '3']\n",
      "['odoo01', '2', 'PWD1234', 'stock.picking', 'button_validate', '66']\n",
      "['odoo01', '2', 'PWD1234', 'stock.move.line', 'write', '68', 'qty_done', '2']\n",
      "['odoo01', '2', 'PWD1234', 'stock.picking', 'button_validate', '67']\n",
      "['odoo01', '2', 'PWD1234', 'stock.move.line', 'write', '57', 'qty_done', '3']\n",
      "['odoo01', '2', 'PWD1234', 'stock.picking', 'button_validate', '56']\n",
      "['odoo01', '2', 'PWD1234', 'stock.move.line', 'write', '69', 'qty_done', '2']\n",
      "['odoo01', '2', 'PWD1234', 'stock.picking', 'button_validate', '68']\n",
      "['odoo01', '2', 'PWD1234', 'stock.move.line', 'write', '70', 'qty_done', '1']\n",
      "['odoo01', '2', 'PWD1234', 'stock.picking', 'button_validate', '69']\n",
      "['odoo01', '2', 'PWD1234', 'stock.move.line', 'write', '71', 'qty_done', '3']\n",
      "['odoo01', '2', 'PWD1234', 'stock.picking', 'button_validate', '70']\n",
      "['odoo01', '2', 'PWD1234', 'stock.move.line', 'write', '72', 'qty_done', '2']\n",
      "['odoo01', '2', 'PWD1234', 'stock.picking', 'button_validate', '71']\n",
      "['odoo01', '2', 'PWD1234', 'stock.move.line', 'write', '73', 'qty_done', '1']\n",
      "['odoo01', '2', 'PWD1234', 'stock.picking', 'button_validate', '72']\n",
      "['odoo01', '2', 'PWD1234', 'stock.move.line', 'write', '74', 'qty_done', '2']\n",
      "['odoo01', '2', 'PWD1234', 'stock.picking', 'button_validate', '73']\n",
      "['odoo01', '2', 'PWD1234', 'stock.move.line', 'write', '75', 'qty_done', '2']\n",
      "['odoo01', '2', 'PWD1234', 'stock.picking', 'button_validate', '74']\n",
      "['odoo01', '2', 'PWD1234', 'stock.move.line', 'write', '76', 'qty_done', '2']\n",
      "['odoo01', '2', 'PWD1234', 'stock.picking', 'button_validate', '75']\n",
      "['odoo01', '2', 'PWD1234', 'stock.move.line', 'write', '77', 'qty_done', '3']\n",
      "['odoo01', '2', 'PWD1234', 'stock.picking', 'button_validate', '76']\n",
      "['odoo01', '2', 'PWD1234', 'stock.move.line', 'write', '58', 'qty_done', '3']\n",
      "['odoo01', '2', 'PWD1234', 'stock.picking', 'button_validate', '57']\n",
      "['odoo01', '2', 'PWD1234', 'stock.move.line', 'write', '78', 'qty_done', '2']\n",
      "['odoo01', '2', 'PWD1234', 'stock.picking', 'button_validate', '77']\n",
      "['odoo01', '2', 'PWD1234', 'stock.move.line', 'write', '79', 'qty_done', '2']\n",
      "['odoo01', '2', 'PWD1234', 'stock.picking', 'button_validate', '78']\n",
      "['odoo01', '2', 'PWD1234', 'stock.move.line', 'write', '80', 'qty_done', '1']\n",
      "['odoo01', '2', 'PWD1234', 'stock.picking', 'button_validate', '79']\n",
      "['odoo01', '2', 'PWD1234', 'stock.move.line', 'write', '81', 'qty_done', '3']\n",
      "['odoo01', '2', 'PWD1234', 'stock.picking', 'button_validate', '80']\n",
      "['odoo01', '2', 'PWD1234', 'stock.move.line', 'write', '82', 'qty_done', '2']\n",
      "['odoo01', '2', 'PWD1234', 'stock.picking', 'button_validate', '81']\n",
      "['odoo01', '2', 'PWD1234', 'stock.move.line', 'write', '83', 'qty_done', '3']\n",
      "['odoo01', '2', 'PWD1234', 'stock.picking', 'button_validate', '82']\n",
      "['odoo01', '2', 'PWD1234', 'stock.move.line', 'write', '84', 'qty_done', '3']\n",
      "['odoo01', '2', 'PWD1234', 'stock.picking', 'button_validate', '83']\n",
      "['odoo01', '2', 'PWD1234', 'stock.move.line', 'write', '59', 'qty_done', '2']\n",
      "['odoo01', '2', 'PWD1234', 'stock.picking', 'button_validate', '58']\n",
      "['odoo01', '2', 'PWD1234', 'stock.move.line', 'write', '85', 'qty_done', '1']\n",
      "['odoo01', '2', 'PWD1234', 'stock.picking', 'button_validate', '84']\n",
      "['odoo01', '2', 'PWD1234', 'stock.move.line', 'write', '86', 'qty_done', '1']\n",
      "['odoo01', '2', 'PWD1234', 'stock.picking', 'button_validate', '85']\n",
      "['odoo01', '2', 'PWD1234', 'stock.move.line', 'write', '87', 'qty_done', '1']\n",
      "['odoo01', '2', 'PWD1234', 'stock.picking', 'button_validate', '86']\n",
      "['odoo01', '2', 'PWD1234', 'stock.move.line', 'write', '88', 'qty_done', '2']\n",
      "['odoo01', '2', 'PWD1234', 'stock.picking', 'button_validate', '87']\n",
      "['odoo01', '2', 'PWD1234', 'stock.move.line', 'write', '89', 'qty_done', '1']\n",
      "['odoo01', '2', 'PWD1234', 'stock.picking', 'button_validate', '88']\n",
      "['odoo01', '2', 'PWD1234', 'stock.move.line', 'write', '90', 'qty_done', '2']\n",
      "['odoo01', '2', 'PWD1234', 'stock.picking', 'button_validate', '89']\n",
      "['odoo01', '2', 'PWD1234', 'stock.move.line', 'write', '91', 'qty_done', '1']\n",
      "['odoo01', '2', 'PWD1234', 'stock.picking', 'button_validate', '90']\n",
      "['odoo01', '2', 'PWD1234', 'stock.move.line', 'write', '60', 'qty_done', '1']\n",
      "['odoo01', '2', 'PWD1234', 'stock.picking', 'button_validate', '59']\n",
      "['odoo01', '2', 'PWD1234', 'stock.move.line', 'write', '92', 'qty_done', '3']\n",
      "['odoo01', '2', 'PWD1234', 'stock.picking', 'button_validate', '91']\n",
      "['odoo01', '2', 'PWD1234', 'stock.move.line', 'write', '93', 'qty_done', '1']\n",
      "['odoo01', '2', 'PWD1234', 'stock.picking', 'button_validate', '92']\n",
      "['odoo01', '2', 'PWD1234', 'stock.move.line', 'write', '94', 'qty_done', '3']\n",
      "['odoo01', '2', 'PWD1234', 'stock.picking', 'button_validate', '93']\n",
      "['odoo01', '2', 'PWD1234', 'stock.move.line', 'write', '95', 'qty_done', '3']\n",
      "['odoo01', '2', 'PWD1234', 'stock.picking', 'button_validate', '94']\n",
      "['odoo01', '2', 'PWD1234', 'stock.move.line', 'write', '96', 'qty_done', '2']\n",
      "['odoo01', '2', 'PWD1234', 'stock.picking', 'button_validate', '95']\n",
      "['odoo01', '2', 'PWD1234', 'stock.move.line', 'write', '97', 'qty_done', '3']\n",
      "['odoo01', '2', 'PWD1234', 'stock.picking', 'button_validate', '96']\n",
      "['odoo01', '2', 'PWD1234', 'stock.move.line', 'write', '98', 'qty_done', '3']\n",
      "['odoo01', '2', 'PWD1234', 'stock.picking', 'button_validate', '97']\n",
      "['odoo01', '2', 'PWD1234', 'stock.move.line', 'write', '99', 'qty_done', '3']\n",
      "['odoo01', '2', 'PWD1234', 'stock.picking', 'button_validate', '98']\n",
      "['odoo01', '2', 'PWD1234', 'stock.move.line', 'write', '100', 'qty_done', '3']\n",
      "['odoo01', '2', 'PWD1234', 'stock.picking', 'button_validate', '99']\n",
      "['odoo01', '2', 'PWD1234', 'stock.move.line', 'write', '101', 'qty_done', '3']\n",
      "['odoo01', '2', 'PWD1234', 'stock.picking', 'button_validate', '100']\n",
      "['odoo01', '2', 'PWD1234', 'stock.move.line', 'write', '102', 'qty_done', '2']\n",
      "['odoo01', '2', 'PWD1234', 'stock.picking', 'button_validate', '101']\n",
      "['odoo01', '2', 'PWD1234', 'stock.move.line', 'write', '61', 'qty_done', '2']\n",
      "['odoo01', '2', 'PWD1234', 'stock.picking', 'button_validate', '60']\n",
      "['odoo01', '2', 'PWD1234', 'stock.move.line', 'write', '62', 'qty_done', '1']\n",
      "['odoo01', '2', 'PWD1234', 'stock.picking', 'button_validate', '61']\n",
      "['odoo01', '2', 'PWD1234', 'account.invoice', 'create', 'name', 'Conference Chair_152', 'date_invoice', '2020-12-21', 'partner_id', '1249', 'currency_id', '2', 'origin', 'PO00152']\n",
      "['odoo01', '2', 'PWD1234', 'account.invoice.line', 'create', 'invoice_id', '38', 'product_id', '21', 'name', 'Conference Chair', 'price_unit', '5', 'quantity', '1', 'purchase_line_id', '163', 'account_id', '24', 'purchase_id', '152']\n",
      "['odoo01', '2', 'PWD1234', 'account.invoice', 'action_invoice_open', '38']\n",
      "['odoo01', '2', 'PWD1234', 'account.payment', 'create', 'payment_type', 'outbound', 'payment_method_id', '2', 'amount', '5', 'currency_id', '2', 'payment_date', '2020-12-21', 'journal_id', '2']\n",
      "['odoo01', '2', 'PWD1234', 'account.invoice', 'create', 'name', 'Drawer_185', 'date_invoice', '2020-12-21', 'partner_id', '1222', 'currency_id', '2', 'origin', 'PO00185']\n",
      "['odoo01', '2', 'PWD1234', 'account.invoice.line', 'create', 'invoice_id', '45', 'product_id', '29', 'name', 'Drawer', 'price_unit', '2', 'quantity', '1', 'purchase_line_id', '196', 'account_id', '24', 'purchase_id', '185']\n",
      "['odoo01', '2', 'PWD1234', 'account.invoice', 'action_invoice_open', '45']\n",
      "['odoo01', '2', 'PWD1234', 'account.payment', 'create', 'payment_type', 'outbound', 'payment_method_id', '2', 'amount', '2', 'currency_id', '2', 'payment_date', '2020-12-21', 'journal_id', '2']\n",
      "['odoo01', '2', 'PWD1234', 'account.invoice', 'create', 'name', 'Chair floor protection_189', 'date_invoice', '2020-12-21', 'partner_id', '1220', 'currency_id', '2', 'origin', 'PO00189']\n",
      "['odoo01', '2', 'PWD1234', 'account.invoice.line', 'create', 'invoice_id', '46', 'product_id', '35', 'name', 'Chair floor protection', 'price_unit', '4', 'quantity', '2', 'purchase_line_id', '200', 'account_id', '24', 'purchase_id', '189']\n",
      "['odoo01', '2', 'PWD1234', 'account.invoice', 'action_invoice_open', '46']\n",
      "['odoo01', '2', 'PWD1234', 'account.payment', 'create', 'payment_type', 'outbound', 'payment_method_id', '2', 'amount', '4', 'currency_id', '2', 'payment_date', '2020-12-21', 'journal_id', '2']\n",
      "['odoo01', '2', 'PWD1234', 'account.invoice', 'create', 'name', 'Drawer Black_193', 'date_invoice', '2020-12-21', 'partner_id', '1219', 'currency_id', '2', 'origin', 'PO00193']\n",
      "['odoo01', '2', 'PWD1234', 'account.invoice.line', 'create', 'invoice_id', '47', 'product_id', '24', 'name', 'Drawer Black', 'price_unit', '2', 'quantity', '1', 'purchase_line_id', '204', 'account_id', '24', 'purchase_id', '193']\n",
      "['odoo01', '2', 'PWD1234', 'account.invoice', 'action_invoice_open', '47']\n",
      "['odoo01', '2', 'PWD1234', 'account.payment', 'create', 'payment_type', 'outbound', 'payment_method_id', '2', 'amount', '2', 'currency_id', '2', 'payment_date', '2020-12-21', 'journal_id', '2']\n",
      "['odoo01', '2', 'PWD1234', 'account.invoice', 'create', 'name', 'Cabinet with Doors_203', 'date_invoice', '2020-12-21', 'partner_id', '1243', 'currency_id', '2', 'origin', 'PO00203']\n",
      "['odoo01', '2', 'PWD1234', 'account.invoice.line', 'create', 'invoice_id', '48', 'product_id', '19', 'name', 'Cabinet with Doors', 'price_unit', '3', 'quantity', '2', 'purchase_line_id', '214', 'account_id', '24', 'purchase_id', '203']\n",
      "['odoo01', '2', 'PWD1234', 'account.invoice', 'action_invoice_open', '48']\n",
      "['odoo01', '2', 'PWD1234', 'account.payment', 'create', 'payment_type', 'outbound', 'payment_method_id', '2', 'amount', '3', 'currency_id', '2', 'payment_date', '2020-12-21', 'journal_id', '2']\n",
      "['odoo01', '2', 'PWD1234', 'account.invoice', 'create', 'name', 'Cabinet with Doors_204', 'date_invoice', '2020-12-21', 'partner_id', '1243', 'currency_id', '2', 'origin', 'PO00204']\n",
      "['odoo01', '2', 'PWD1234', 'account.invoice.line', 'create', 'invoice_id', '49', 'product_id', '19', 'name', 'Cabinet with Doors', 'price_unit', '1', 'quantity', '3', 'purchase_line_id', '215', 'account_id', '24', 'purchase_id', '204']\n",
      "['odoo01', '2', 'PWD1234', 'account.invoice', 'action_invoice_open', '49']\n",
      "['odoo01', '2', 'PWD1234', 'account.payment', 'create', 'payment_type', 'outbound', 'payment_method_id', '2', 'amount', '1', 'currency_id', '2', 'payment_date', '2020-12-21', 'journal_id', '2']\n",
      "['odoo01', '2', 'PWD1234', 'account.invoice', 'create', 'name', 'Desk Combination_208', 'date_invoice', '2020-12-21', 'partner_id', '1219', 'currency_id', '2', 'origin', 'PO00208']\n",
      "['odoo01', '2', 'PWD1234', 'account.invoice.line', 'create', 'invoice_id', '50', 'product_id', '8', 'name', 'Desk Combination', 'price_unit', '3', 'quantity', '2', 'purchase_line_id', '219', 'account_id', '24', 'purchase_id', '208']\n",
      "['odoo01', '2', 'PWD1234', 'account.invoice', 'action_invoice_open', '50']\n",
      "['odoo01', '2', 'PWD1234', 'account.payment', 'create', 'payment_type', 'outbound', 'payment_method_id', '2', 'amount', '3', 'currency_id', '2', 'payment_date', '2020-12-21', 'journal_id', '2']\n",
      "['odoo01', '2', 'PWD1234', 'account.invoice', 'create', 'name', 'Office Chair_156', 'date_invoice', '2020-12-21', 'partner_id', '1243', 'currency_id', '2', 'origin', 'PO00156']\n",
      "['odoo01', '2', 'PWD1234', 'account.invoice.line', 'create', 'invoice_id', '39', 'product_id', '5', 'name', 'Office Chair', 'price_unit', '3', 'quantity', '3', 'purchase_line_id', '167', 'account_id', '24', 'purchase_id', '156']\n",
      "['odoo01', '2', 'PWD1234', 'account.invoice', 'action_invoice_open', '39']\n",
      "['odoo01', '2', 'PWD1234', 'account.payment', 'create', 'payment_type', 'outbound', 'payment_method_id', '2', 'amount', '3', 'currency_id', '2', 'payment_date', '2020-12-21', 'journal_id', '2']\n",
      "['odoo01', '2', 'PWD1234', 'account.invoice', 'create', 'name', 'Drawer_212', 'date_invoice', '2020-12-21', 'partner_id', '1243', 'currency_id', '2', 'origin', 'PO00212']\n",
      "['odoo01', '2', 'PWD1234', 'account.invoice.line', 'create', 'invoice_id', '51', 'product_id', '29', 'name', 'Drawer', 'price_unit', '3', 'quantity', '2', 'purchase_line_id', '223', 'account_id', '24', 'purchase_id', '212']\n",
      "['odoo01', '2', 'PWD1234', 'account.invoice', 'action_invoice_open', '51']\n",
      "['odoo01', '2', 'PWD1234', 'account.payment', 'create', 'payment_type', 'outbound', 'payment_method_id', '2', 'amount', '3', 'currency_id', '2', 'payment_date', '2020-12-21', 'journal_id', '2']\n",
      "['odoo01', '2', 'PWD1234', 'account.invoice', 'create', 'name', 'Desk Combination_215', 'date_invoice', '2020-12-21', 'partner_id', '1249', 'currency_id', '2', 'origin', 'PO00215']\n",
      "['odoo01', '2', 'PWD1234', 'account.invoice.line', 'create', 'invoice_id', '52', 'product_id', '8', 'name', 'Desk Combination', 'price_unit', '2', 'quantity', '1', 'purchase_line_id', '226', 'account_id', '24', 'purchase_id', '215']\n",
      "['odoo01', '2', 'PWD1234', 'account.invoice', 'action_invoice_open', '52']\n",
      "['odoo01', '2', 'PWD1234', 'account.payment', 'create', 'payment_type', 'outbound', 'payment_method_id', '2', 'amount', '2', 'currency_id', '2', 'payment_date', '2020-12-21', 'journal_id', '2']\n",
      "['odoo01', '2', 'PWD1234', 'account.invoice', 'create', 'name', 'Office Chair Black_218', 'date_invoice', '2020-12-21', 'partner_id', '1222', 'currency_id', '2', 'origin', 'PO00218']\n",
      "['odoo01', '2', 'PWD1234', 'account.invoice.line', 'create', 'invoice_id', '53', 'product_id', '22', 'name', 'Office Chair Black', 'price_unit', '5', 'quantity', '3', 'purchase_line_id', '229', 'account_id', '24', 'purchase_id', '218']\n",
      "['odoo01', '2', 'PWD1234', 'account.invoice', 'action_invoice_open', '53']\n",
      "['odoo01', '2', 'PWD1234', 'account.payment', 'create', 'payment_type', 'outbound', 'payment_method_id', '2', 'amount', '5', 'currency_id', '2', 'payment_date', '2020-12-21', 'journal_id', '2']\n",
      "['odoo01', '2', 'PWD1234', 'account.invoice', 'create', 'name', 'Drawer Black_222', 'date_invoice', '2020-12-21', 'partner_id', '1219', 'currency_id', '2', 'origin', 'PO00222']\n",
      "['odoo01', '2', 'PWD1234', 'account.invoice.line', 'create', 'invoice_id', '54', 'product_id', '24', 'name', 'Drawer Black', 'price_unit', '4', 'quantity', '2', 'purchase_line_id', '233', 'account_id', '24', 'purchase_id', '222']\n",
      "['odoo01', '2', 'PWD1234', 'account.invoice', 'action_invoice_open', '54']\n",
      "['odoo01', '2', 'PWD1234', 'account.payment', 'create', 'payment_type', 'outbound', 'payment_method_id', '2', 'amount', '4', 'currency_id', '2', 'payment_date', '2020-12-21', 'journal_id', '2']\n",
      "['odoo01', '2', 'PWD1234', 'account.invoice', 'create', 'name', 'Corner Desk Right Sit_228', 'date_invoice', '2020-12-21', 'partner_id', '1220', 'currency_id', '2', 'origin', 'PO00228']\n",
      "['odoo01', '2', 'PWD1234', 'account.invoice.line', 'create', 'invoice_id', '55', 'product_id', '14', 'name', 'Corner Desk Right Sit', 'price_unit', '4', 'quantity', '1', 'purchase_line_id', '239', 'account_id', '24', 'purchase_id', '228']\n",
      "['odoo01', '2', 'PWD1234', 'account.invoice', 'action_invoice_open', '55']\n",
      "['odoo01', '2', 'PWD1234', 'account.payment', 'create', 'payment_type', 'outbound', 'payment_method_id', '2', 'amount', '4', 'currency_id', '2', 'payment_date', '2020-12-21', 'journal_id', '2']\n",
      "['odoo01', '2', 'PWD1234', 'account.invoice', 'create', 'name', 'Chair floor protection_230', 'date_invoice', '2020-12-21', 'partner_id', '1219', 'currency_id', '2', 'origin', 'PO00230']\n",
      "['odoo01', '2', 'PWD1234', 'account.invoice.line', 'create', 'invoice_id', '56', 'product_id', '35', 'name', 'Chair floor protection', 'price_unit', '5', 'quantity', '2', 'purchase_line_id', '241', 'account_id', '24', 'purchase_id', '230']\n",
      "['odoo01', '2', 'PWD1234', 'account.invoice', 'action_invoice_open', '56']\n",
      "['odoo01', '2', 'PWD1234', 'account.payment', 'create', 'payment_type', 'outbound', 'payment_method_id', '2', 'amount', '5', 'currency_id', '2', 'payment_date', '2020-12-21', 'journal_id', '2']\n",
      "['odoo01', '2', 'PWD1234', 'account.invoice', 'create', 'name', 'Conference Chair_234', 'date_invoice', '2020-12-21', 'partner_id', '1222', 'currency_id', '2', 'origin', 'PO00234']\n",
      "['odoo01', '2', 'PWD1234', 'account.invoice.line', 'create', 'invoice_id', '57', 'product_id', '21', 'name', 'Conference Chair', 'price_unit', '5', 'quantity', '2', 'purchase_line_id', '245', 'account_id', '24', 'purchase_id', '234']\n",
      "['odoo01', '2', 'PWD1234', 'account.invoice', 'action_invoice_open', '57']\n",
      "['odoo01', '2', 'PWD1234', 'account.payment', 'create', 'payment_type', 'outbound', 'payment_method_id', '2', 'amount', '5', 'currency_id', '2', 'payment_date', '2020-12-21', 'journal_id', '2']\n",
      "['odoo01', '2', 'PWD1234', 'account.invoice', 'create', 'name', 'Office Design Software_237', 'date_invoice', '2020-12-21', 'partner_id', '1222', 'currency_id', '2', 'origin', 'PO00237']\n",
      "['odoo01', '2', 'PWD1234', 'account.invoice.line', 'create', 'invoice_id', '58', 'product_id', '7', 'name', 'Office Design Software', 'price_unit', '3', 'quantity', '2', 'purchase_line_id', '248', 'account_id', '24', 'purchase_id', '237']\n",
      "['odoo01', '2', 'PWD1234', 'account.invoice', 'action_invoice_open', '58']\n",
      "['odoo01', '2', 'PWD1234', 'account.payment', 'create', 'payment_type', 'outbound', 'payment_method_id', '2', 'amount', '3', 'currency_id', '2', 'payment_date', '2020-12-21', 'journal_id', '2']\n",
      "['odoo01', '2', 'PWD1234', 'account.invoice', 'create', 'name', 'Office Design Software_240', 'date_invoice', '2020-12-21', 'partner_id', '1222', 'currency_id', '2', 'origin', 'PO00240']\n",
      "['odoo01', '2', 'PWD1234', 'account.invoice.line', 'create', 'invoice_id', '59', 'product_id', '7', 'name', 'Office Design Software', 'price_unit', '2', 'quantity', '3', 'purchase_line_id', '251', 'account_id', '24', 'purchase_id', '240']\n",
      "['odoo01', '2', 'PWD1234', 'account.invoice', 'action_invoice_open', '59']\n",
      "['odoo01', '2', 'PWD1234', 'account.payment', 'create', 'payment_type', 'outbound', 'payment_method_id', '2', 'amount', '2', 'currency_id', '2', 'payment_date', '2020-12-21', 'journal_id', '2']\n",
      "['odoo01', '2', 'PWD1234', 'account.invoice', 'create', 'name', 'Conference Chair_158', 'date_invoice', '2020-12-21', 'partner_id', '1222', 'currency_id', '2', 'origin', 'PO00158']\n",
      "['odoo01', '2', 'PWD1234', 'account.invoice.line', 'create', 'invoice_id', '40', 'product_id', '21', 'name', 'Conference Chair', 'price_unit', '5', 'quantity', '3', 'purchase_line_id', '169', 'account_id', '24', 'purchase_id', '158']\n",
      "['odoo01', '2', 'PWD1234', 'account.invoice', 'action_invoice_open', '40']\n",
      "['odoo01', '2', 'PWD1234', 'account.payment', 'create', 'payment_type', 'outbound', 'payment_method_id', '2', 'amount', '5', 'currency_id', '2', 'payment_date', '2020-12-21', 'journal_id', '2']\n",
      "['odoo01', '2', 'PWD1234', 'account.invoice', 'create', 'name', 'Corner Desk Right Sit_243', 'date_invoice', '2020-12-21', 'partner_id', '1243', 'currency_id', '2', 'origin', 'PO00243']\n",
      "['odoo01', '2', 'PWD1234', 'account.invoice.line', 'create', 'invoice_id', '60', 'product_id', '14', 'name', 'Corner Desk Right Sit', 'price_unit', '5', 'quantity', '2', 'purchase_line_id', '254', 'account_id', '24', 'purchase_id', '243']\n",
      "['odoo01', '2', 'PWD1234', 'account.invoice', 'action_invoice_open', '60']\n",
      "['odoo01', '2', 'PWD1234', 'account.payment', 'create', 'payment_type', 'outbound', 'payment_method_id', '2', 'amount', '5', 'currency_id', '2', 'payment_date', '2020-12-21', 'journal_id', '2']\n",
      "['odoo01', '2', 'PWD1234', 'account.invoice', 'create', 'name', 'Office Lamp_245', 'date_invoice', '2020-12-21', 'partner_id', '1220', 'currency_id', '2', 'origin', 'PO00245']\n",
      "['odoo01', '2', 'PWD1234', 'account.invoice.line', 'create', 'invoice_id', '61', 'product_id', '6', 'name', 'Office Lamp', 'price_unit', '3', 'quantity', '2', 'purchase_line_id', '256', 'account_id', '24', 'purchase_id', '245']\n",
      "['odoo01', '2', 'PWD1234', 'account.invoice', 'action_invoice_open', '61']\n",
      "['odoo01', '2', 'PWD1234', 'account.payment', 'create', 'payment_type', 'outbound', 'payment_method_id', '2', 'amount', '3', 'currency_id', '2', 'payment_date', '2020-12-21', 'journal_id', '2']\n",
      "['odoo01', '2', 'PWD1234', 'account.invoice', 'create', 'name', 'Chair floor protection_250', 'date_invoice', '2020-12-21', 'partner_id', '1249', 'currency_id', '2', 'origin', 'PO00250']\n",
      "['odoo01', '2', 'PWD1234', 'account.invoice.line', 'create', 'invoice_id', '62', 'product_id', '35', 'name', 'Chair floor protection', 'price_unit', '1', 'quantity', '1', 'purchase_line_id', '261', 'account_id', '24', 'purchase_id', '250']\n",
      "['odoo01', '2', 'PWD1234', 'account.invoice', 'action_invoice_open', '62']\n",
      "['odoo01', '2', 'PWD1234', 'account.payment', 'create', 'payment_type', 'outbound', 'payment_method_id', '2', 'amount', '1', 'currency_id', '2', 'payment_date', '2020-12-21', 'journal_id', '2']\n",
      "['odoo01', '2', 'PWD1234', 'account.invoice', 'create', 'name', 'Storage Box_253', 'date_invoice', '2020-12-21', 'partner_id', '1219', 'currency_id', '2', 'origin', 'PO00253']\n",
      "['odoo01', '2', 'PWD1234', 'account.invoice.line', 'create', 'invoice_id', '63', 'product_id', '16', 'name', 'Storage Box', 'price_unit', '4', 'quantity', '3', 'purchase_line_id', '264', 'account_id', '24', 'purchase_id', '253']\n",
      "['odoo01', '2', 'PWD1234', 'account.invoice', 'action_invoice_open', '63']\n",
      "['odoo01', '2', 'PWD1234', 'account.payment', 'create', 'payment_type', 'outbound', 'payment_method_id', '2', 'amount', '4', 'currency_id', '2', 'payment_date', '2020-12-21', 'journal_id', '2']\n",
      "['odoo01', '2', 'PWD1234', 'account.invoice', 'create', 'name', 'Office Chair Black_256', 'date_invoice', '2020-12-21', 'partner_id', '1219', 'currency_id', '2', 'origin', 'PO00256']\n",
      "['odoo01', '2', 'PWD1234', 'account.invoice.line', 'create', 'invoice_id', '64', 'product_id', '22', 'name', 'Office Chair Black', 'price_unit', '1', 'quantity', '2', 'purchase_line_id', '267', 'account_id', '24', 'purchase_id', '256']\n",
      "['odoo01', '2', 'PWD1234', 'account.invoice', 'action_invoice_open', '64']\n",
      "['odoo01', '2', 'PWD1234', 'account.payment', 'create', 'payment_type', 'outbound', 'payment_method_id', '2', 'amount', '1', 'currency_id', '2', 'payment_date', '2020-12-21', 'journal_id', '2']\n",
      "['odoo01', '2', 'PWD1234', 'account.invoice', 'create', 'name', 'Corner Desk Right Sit_261', 'date_invoice', '2020-12-21', 'partner_id', '1249', 'currency_id', '2', 'origin', 'PO00261']\n",
      "['odoo01', '2', 'PWD1234', 'account.invoice.line', 'create', 'invoice_id', '65', 'product_id', '14', 'name', 'Corner Desk Right Sit', 'price_unit', '2', 'quantity', '3', 'purchase_line_id', '272', 'account_id', '24', 'purchase_id', '261']\n",
      "['odoo01', '2', 'PWD1234', 'account.invoice', 'action_invoice_open', '65']\n",
      "['odoo01', '2', 'PWD1234', 'account.payment', 'create', 'payment_type', 'outbound', 'payment_method_id', '2', 'amount', '2', 'currency_id', '2', 'payment_date', '2020-12-21', 'journal_id', '2']\n",
      "['odoo01', '2', 'PWD1234', 'account.invoice', 'create', 'name', 'Cabinet with Doors_269', 'date_invoice', '2020-12-21', 'partner_id', '1220', 'currency_id', '2', 'origin', 'PO00269']\n",
      "['odoo01', '2', 'PWD1234', 'account.invoice.line', 'create', 'invoice_id', '66', 'product_id', '19', 'name', 'Cabinet with Doors', 'price_unit', '4', 'quantity', '3', 'purchase_line_id', '280', 'account_id', '24', 'purchase_id', '269']\n",
      "['odoo01', '2', 'PWD1234', 'account.invoice', 'action_invoice_open', '66']\n",
      "['odoo01', '2', 'PWD1234', 'account.payment', 'create', 'payment_type', 'outbound', 'payment_method_id', '2', 'amount', '4', 'currency_id', '2', 'payment_date', '2020-12-21', 'journal_id', '2']\n",
      "['odoo01', '2', 'PWD1234', 'account.invoice', 'create', 'name', 'Office Chair Black_160', 'date_invoice', '2020-12-21', 'partner_id', '1249', 'currency_id', '2', 'origin', 'PO00160']\n",
      "['odoo01', '2', 'PWD1234', 'account.invoice.line', 'create', 'invoice_id', '41', 'product_id', '22', 'name', 'Office Chair Black', 'price_unit', '3', 'quantity', '2', 'purchase_line_id', '171', 'account_id', '24', 'purchase_id', '160']\n",
      "['odoo01', '2', 'PWD1234', 'account.invoice', 'action_invoice_open', '41']\n",
      "['odoo01', '2', 'PWD1234', 'account.payment', 'create', 'payment_type', 'outbound', 'payment_method_id', '2', 'amount', '3', 'currency_id', '2', 'payment_date', '2020-12-21', 'journal_id', '2']\n",
      "['odoo01', '2', 'PWD1234', 'account.invoice', 'create', 'name', 'Cabinet with Doors_279', 'date_invoice', '2020-12-21', 'partner_id', '1222', 'currency_id', '2', 'origin', 'PO00279']\n",
      "['odoo01', '2', 'PWD1234', 'account.invoice.line', 'create', 'invoice_id', '67', 'product_id', '19', 'name', 'Cabinet with Doors', 'price_unit', '3', 'quantity', '1', 'purchase_line_id', '290', 'account_id', '24', 'purchase_id', '279']\n",
      "['odoo01', '2', 'PWD1234', 'account.invoice', 'action_invoice_open', '67']\n",
      "['odoo01', '2', 'PWD1234', 'account.payment', 'create', 'payment_type', 'outbound', 'payment_method_id', '2', 'amount', '3', 'currency_id', '2', 'payment_date', '2020-12-21', 'journal_id', '2']\n",
      "['odoo01', '2', 'PWD1234', 'account.invoice', 'create', 'name', 'Four Person Desk_281', 'date_invoice', '2020-12-21', 'partner_id', '1219', 'currency_id', '2', 'origin', 'PO00281']\n",
      "['odoo01', '2', 'PWD1234', 'account.invoice.line', 'create', 'invoice_id', '68', 'product_id', '30', 'name', 'Four Person Desk', 'price_unit', '4', 'quantity', '1', 'purchase_line_id', '292', 'account_id', '24', 'purchase_id', '281']\n",
      "['odoo01', '2', 'PWD1234', 'account.invoice', 'action_invoice_open', '68']\n",
      "['odoo01', '2', 'PWD1234', 'account.payment', 'create', 'payment_type', 'outbound', 'payment_method_id', '2', 'amount', '4', 'currency_id', '2', 'payment_date', '2020-12-21', 'journal_id', '2']\n",
      "['odoo01', '2', 'PWD1234', 'account.invoice', 'create', 'name', 'Office Lamp_285', 'date_invoice', '2020-12-21', 'partner_id', '1220', 'currency_id', '2', 'origin', 'PO00285']\n",
      "['odoo01', '2', 'PWD1234', 'account.invoice.line', 'create', 'invoice_id', '69', 'product_id', '6', 'name', 'Office Lamp', 'price_unit', '3', 'quantity', '1', 'purchase_line_id', '296', 'account_id', '24', 'purchase_id', '285']\n",
      "['odoo01', '2', 'PWD1234', 'account.invoice', 'action_invoice_open', '69']\n",
      "['odoo01', '2', 'PWD1234', 'account.payment', 'create', 'payment_type', 'outbound', 'payment_method_id', '2', 'amount', '3', 'currency_id', '2', 'payment_date', '2020-12-21', 'journal_id', '2']\n",
      "['odoo01', '2', 'PWD1234', 'account.invoice', 'create', 'name', 'Large Cabinet_289', 'date_invoice', '2020-12-22', 'partner_id', '1243', 'currency_id', '2', 'origin', 'PO00289']\n",
      "['odoo01', '2', 'PWD1234', 'account.invoice.line', 'create', 'invoice_id', '70', 'product_id', '15', 'name', 'Large Cabinet', 'price_unit', '5', 'quantity', '2', 'purchase_line_id', '300', 'account_id', '24', 'purchase_id', '289']\n",
      "['odoo01', '2', 'PWD1234', 'account.invoice', 'action_invoice_open', '70']\n",
      "['odoo01', '2', 'PWD1234', 'account.payment', 'create', 'payment_type', 'outbound', 'payment_method_id', '2', 'amount', '5', 'currency_id', '2', 'payment_date', '2020-12-22', 'journal_id', '2']\n",
      "['odoo01', '2', 'PWD1234', 'account.invoice', 'create', 'name', 'Pedal Bin_293', 'date_invoice', '2020-12-22', 'partner_id', '1249', 'currency_id', '2', 'origin', 'PO00293']\n",
      "['odoo01', '2', 'PWD1234', 'account.invoice.line', 'create', 'invoice_id', '71', 'product_id', '18', 'name', 'Pedal Bin', 'price_unit', '2', 'quantity', '1', 'purchase_line_id', '304', 'account_id', '24', 'purchase_id', '293']\n",
      "['odoo01', '2', 'PWD1234', 'account.invoice', 'action_invoice_open', '71']\n",
      "['odoo01', '2', 'PWD1234', 'account.payment', 'create', 'payment_type', 'outbound', 'payment_method_id', '2', 'amount', '2', 'currency_id', '2', 'payment_date', '2020-12-22', 'journal_id', '2']\n",
      "['odoo01', '2', 'PWD1234', 'account.invoice', 'create', 'name', 'Office Design Software_298', 'date_invoice', '2020-12-22', 'partner_id', '1249', 'currency_id', '2', 'origin', 'PO00298']\n",
      "['odoo01', '2', 'PWD1234', 'account.invoice.line', 'create', 'invoice_id', '72', 'product_id', '7', 'name', 'Office Design Software', 'price_unit', '5', 'quantity', '2', 'purchase_line_id', '309', 'account_id', '24', 'purchase_id', '298']\n",
      "['odoo01', '2', 'PWD1234', 'account.invoice', 'action_invoice_open', '72']\n",
      "['odoo01', '2', 'PWD1234', 'account.payment', 'create', 'payment_type', 'outbound', 'payment_method_id', '2', 'amount', '5', 'currency_id', '2', 'payment_date', '2020-12-22', 'journal_id', '2']\n",
      "['odoo01', '2', 'PWD1234', 'account.invoice', 'create', 'name', 'Drawer Black_304', 'date_invoice', '2020-12-22', 'partner_id', '1249', 'currency_id', '2', 'origin', 'PO00304']\n",
      "['odoo01', '2', 'PWD1234', 'account.invoice.line', 'create', 'invoice_id', '73', 'product_id', '24', 'name', 'Drawer Black', 'price_unit', '3', 'quantity', '1', 'purchase_line_id', '315', 'account_id', '24', 'purchase_id', '304']\n",
      "['odoo01', '2', 'PWD1234', 'account.invoice', 'action_invoice_open', '73']\n",
      "['odoo01', '2', 'PWD1234', 'account.payment', 'create', 'payment_type', 'outbound', 'payment_method_id', '2', 'amount', '3', 'currency_id', '2', 'payment_date', '2020-12-22', 'journal_id', '2']\n",
      "['odoo01', '2', 'PWD1234', 'account.invoice', 'create', 'name', 'Large Meeting Table_163', 'date_invoice', '2020-12-21', 'partner_id', '1249', 'currency_id', '2', 'origin', 'PO00163']\n",
      "['odoo01', '2', 'PWD1234', 'account.invoice.line', 'create', 'invoice_id', '42', 'product_id', '31', 'name', 'Large Meeting Table', 'price_unit', '1', 'quantity', '1', 'purchase_line_id', '174', 'account_id', '24', 'purchase_id', '163']\n",
      "['odoo01', '2', 'PWD1234', 'account.invoice', 'action_invoice_open', '42']\n",
      "['odoo01', '2', 'PWD1234', 'account.payment', 'create', 'payment_type', 'outbound', 'payment_method_id', '2', 'amount', '1', 'currency_id', '2', 'payment_date', '2020-12-21', 'journal_id', '2']\n",
      "['odoo01', '2', 'PWD1234', 'account.invoice', 'create', 'name', 'Office Design Software_307', 'date_invoice', '2020-12-22', 'partner_id', '1222', 'currency_id', '2', 'origin', 'PO00307']\n",
      "['odoo01', '2', 'PWD1234', 'account.invoice.line', 'create', 'invoice_id', '74', 'product_id', '7', 'name', 'Office Design Software', 'price_unit', '5', 'quantity', '3', 'purchase_line_id', '318', 'account_id', '24', 'purchase_id', '307']\n",
      "['odoo01', '2', 'PWD1234', 'account.invoice', 'action_invoice_open', '74']\n",
      "['odoo01', '2', 'PWD1234', 'account.payment', 'create', 'payment_type', 'outbound', 'payment_method_id', '2', 'amount', '5', 'currency_id', '2', 'payment_date', '2020-12-22', 'journal_id', '2']\n",
      "['odoo01', '2', 'PWD1234', 'account.invoice', 'create', 'name', 'Desk Combination_324', 'date_invoice', '2020-12-22', 'partner_id', '1243', 'currency_id', '2', 'origin', 'PO00324']\n",
      "['odoo01', '2', 'PWD1234', 'account.invoice.line', 'create', 'invoice_id', '75', 'product_id', '8', 'name', 'Desk Combination', 'price_unit', '5', 'quantity', '1', 'purchase_line_id', '335', 'account_id', '24', 'purchase_id', '324']\n",
      "['odoo01', '2', 'PWD1234', 'account.invoice', 'action_invoice_open', '75']\n",
      "['odoo01', '2', 'PWD1234', 'account.payment', 'create', 'payment_type', 'outbound', 'payment_method_id', '2', 'amount', '5', 'currency_id', '2', 'payment_date', '2020-12-22', 'journal_id', '2']\n",
      "['odoo01', '2', 'PWD1234', 'account.invoice', 'create', 'name', 'Pedal Bin_325', 'date_invoice', '2020-12-22', 'partner_id', '1249', 'currency_id', '2', 'origin', 'PO00325']\n",
      "['odoo01', '2', 'PWD1234', 'account.invoice.line', 'create', 'invoice_id', '76', 'product_id', '18', 'name', 'Pedal Bin', 'price_unit', '5', 'quantity', '3', 'purchase_line_id', '336', 'account_id', '24', 'purchase_id', '325']\n",
      "['odoo01', '2', 'PWD1234', 'account.payment', 'create', 'payment_type', 'outbound', 'payment_method_id', '2', 'amount', '5', 'currency_id', '2', 'payment_date', '2020-12-22', 'journal_id', '2']\n",
      "['odoo01', '2', 'PWD1234', 'account.invoice', 'create', 'name', 'Drawer Black_329', 'date_invoice', '2020-12-22', 'partner_id', '1249', 'currency_id', '2', 'origin', 'PO00329']\n",
      "['odoo01', '2', 'PWD1234', 'account.invoice.line', 'create', 'invoice_id', '77', 'product_id', '24', 'name', 'Drawer Black', 'price_unit', '5', 'quantity', '3', 'purchase_line_id', '340', 'account_id', '24', 'purchase_id', '329']\n",
      "['odoo01', '2', 'PWD1234', 'account.invoice', 'action_invoice_open', '77']\n",
      "['odoo01', '2', 'PWD1234', 'account.payment', 'create', 'payment_type', 'outbound', 'payment_method_id', '2', 'amount', '5', 'currency_id', '2', 'payment_date', '2020-12-22', 'journal_id', '2']\n",
      "['odoo01', '2', 'PWD1234', 'account.invoice', 'create', 'name', 'Large Cabinet_330', 'date_invoice', '2020-12-22', 'partner_id', '1222', 'currency_id', '2', 'origin', 'PO00330']\n",
      "['odoo01', '2', 'PWD1234', 'account.invoice.line', 'create', 'invoice_id', '78', 'product_id', '15', 'name', 'Large Cabinet', 'price_unit', '3', 'quantity', '2', 'purchase_line_id', '341', 'account_id', '24', 'purchase_id', '330']\n",
      "['odoo01', '2', 'PWD1234', 'account.invoice', 'action_invoice_open', '78']\n",
      "['odoo01', '2', 'PWD1234', 'account.payment', 'create', 'payment_type', 'outbound', 'payment_method_id', '2', 'amount', '3', 'currency_id', '2', 'payment_date', '2020-12-22', 'journal_id', '2']\n",
      "['odoo01', '2', 'PWD1234', 'account.invoice', 'create', 'name', 'Flipover_334', 'date_invoice', '2020-12-22', 'partner_id', '1222', 'currency_id', '2', 'origin', 'PO00334']\n",
      "['odoo01', '2', 'PWD1234', 'account.invoice.line', 'create', 'invoice_id', '79', 'product_id', '25', 'name', 'Flipover', 'price_unit', '3', 'quantity', '3', 'purchase_line_id', '345', 'account_id', '24', 'purchase_id', '334']\n",
      "['odoo01', '2', 'PWD1234', 'account.invoice', 'action_invoice_open', '79']\n",
      "['odoo01', '2', 'PWD1234', 'account.payment', 'create', 'payment_type', 'outbound', 'payment_method_id', '2', 'amount', '3', 'currency_id', '2', 'payment_date', '2020-12-22', 'journal_id', '2']\n",
      "['odoo01', '2', 'PWD1234', 'account.invoice', 'create', 'name', 'Flipover_342', 'date_invoice', '2020-12-22', 'partner_id', '1249', 'currency_id', '2', 'origin', 'PO00342']\n",
      "['odoo01', '2', 'PWD1234', 'account.invoice.line', 'create', 'invoice_id', '80', 'product_id', '25', 'name', 'Flipover', 'price_unit', '3', 'quantity', '3', 'purchase_line_id', '353', 'account_id', '24', 'purchase_id', '342']\n",
      "['odoo01', '2', 'PWD1234', 'account.invoice', 'action_invoice_open', '80']\n",
      "['odoo01', '2', 'PWD1234', 'account.payment', 'create', 'payment_type', 'outbound', 'payment_method_id', '2', 'amount', '3', 'currency_id', '2', 'payment_date', '2020-12-22', 'journal_id', '2']\n",
      "['odoo01', '2', 'PWD1234', 'account.invoice', 'create', 'name', 'Desk Combination_345', 'date_invoice', '2020-12-22', 'partner_id', '1219', 'currency_id', '2', 'origin', 'PO00345']\n",
      "['odoo01', '2', 'PWD1234', 'account.invoice.line', 'create', 'invoice_id', '81', 'product_id', '8', 'name', 'Desk Combination', 'price_unit', '1', 'quantity', '3', 'purchase_line_id', '356', 'account_id', '24', 'purchase_id', '345']\n",
      "['odoo01', '2', 'PWD1234', 'account.invoice', 'action_invoice_open', '81']\n",
      "['odoo01', '2', 'PWD1234', 'account.payment', 'create', 'payment_type', 'outbound', 'payment_method_id', '2', 'amount', '1', 'currency_id', '2', 'payment_date', '2020-12-22', 'journal_id', '2']\n",
      "['odoo01', '2', 'PWD1234', 'account.invoice', 'create', 'name', 'Drawer Black_347', 'date_invoice', '2020-12-22', 'partner_id', '1219', 'currency_id', '2', 'origin', 'PO00347']\n",
      "['odoo01', '2', 'PWD1234', 'account.invoice.line', 'create', 'invoice_id', '82', 'product_id', '24', 'name', 'Drawer Black', 'price_unit', '1', 'quantity', '3', 'purchase_line_id', '358', 'account_id', '24', 'purchase_id', '347']\n",
      "['odoo01', '2', 'PWD1234', 'account.invoice', 'action_invoice_open', '82']\n",
      "['odoo01', '2', 'PWD1234', 'account.payment', 'create', 'payment_type', 'outbound', 'payment_method_id', '2', 'amount', '1', 'currency_id', '2', 'payment_date', '2020-12-22', 'journal_id', '2']\n",
      "['odoo01', '2', 'PWD1234', 'account.invoice', 'create', 'name', 'Large Meeting Table_348', 'date_invoice', '2020-12-22', 'partner_id', '1219', 'currency_id', '2', 'origin', 'PO00348']\n",
      "['odoo01', '2', 'PWD1234', 'account.invoice.line', 'create', 'invoice_id', '83', 'product_id', '31', 'name', 'Large Meeting Table', 'price_unit', '5', 'quantity', '3', 'purchase_line_id', '359', 'account_id', '24', 'purchase_id', '348']\n",
      "['odoo01', '2', 'PWD1234', 'account.invoice', 'action_invoice_open', '83']\n",
      "['odoo01', '2', 'PWD1234', 'account.payment', 'create', 'payment_type', 'outbound', 'payment_method_id', '2', 'amount', '5', 'currency_id', '2', 'payment_date', '2020-12-22', 'journal_id', '2']\n",
      "['odoo01', '2', 'PWD1234', 'account.invoice', 'create', 'name', 'Drawer Black_360', 'date_invoice', '2020-12-22', 'partner_id', '1220', 'currency_id', '2', 'origin', 'PO00360']\n",
      "['odoo01', '2', 'PWD1234', 'account.invoice.line', 'create', 'invoice_id', '84', 'product_id', '24', 'name', 'Drawer Black', 'price_unit', '4', 'quantity', '2', 'purchase_line_id', '371', 'account_id', '24', 'purchase_id', '360']\n",
      "['odoo01', '2', 'PWD1234', 'account.invoice', 'action_invoice_open', '84']\n",
      "['odoo01', '2', 'PWD1234', 'account.payment', 'create', 'payment_type', 'outbound', 'payment_method_id', '2', 'amount', '4', 'currency_id', '2', 'payment_date', '2020-12-22', 'journal_id', '2']\n",
      "['odoo01', '2', 'PWD1234', 'account.invoice', 'create', 'name', 'Office Chair_169', 'date_invoice', '2020-12-21', 'partner_id', '1220', 'currency_id', '2', 'origin', 'PO00169']\n",
      "['odoo01', '2', 'PWD1234', 'account.invoice.line', 'create', 'invoice_id', '43', 'product_id', '5', 'name', 'Office Chair', 'price_unit', '1', 'quantity', '2', 'purchase_line_id', '180', 'account_id', '24', 'purchase_id', '169']\n",
      "['odoo01', '2', 'PWD1234', 'account.invoice', 'action_invoice_open', '43']\n",
      "['odoo01', '2', 'PWD1234', 'account.payment', 'create', 'payment_type', 'outbound', 'payment_method_id', '2', 'amount', '1', 'currency_id', '2', 'payment_date', '2020-12-21', 'journal_id', '2']\n",
      "['odoo01', '2', 'PWD1234', 'account.invoice', 'create', 'name', 'Acoustic Bloc Screens_173', 'date_invoice', '2020-12-21', 'partner_id', '1220', 'currency_id', '2', 'origin', 'PO00173']\n",
      "['odoo01', '2', 'PWD1234', 'account.invoice.line', 'create', 'invoice_id', '44', 'product_id', '28', 'name', 'Acoustic Bloc Screens', 'price_unit', '1', 'quantity', '1', 'purchase_line_id', '184', 'account_id', '24', 'purchase_id', '173']\n",
      "['odoo01', '2', 'PWD1234', 'account.invoice', 'action_invoice_open', '44']\n",
      "['odoo01', '2', 'PWD1234', 'account.payment', 'create', 'payment_type', 'outbound', 'payment_method_id', '2', 'amount', '1', 'currency_id', '2', 'payment_date', '2020-12-21', 'journal_id', '2']\n"
     ]
    }
   ],
   "source": [
    "df_train_pp = pre_process(df_train_in)"
   ],
   "metadata": {
    "collapsed": false,
    "ExecuteTime": {
     "end_time": "2024-02-05T09:47:52.025494Z",
     "start_time": "2024-02-05T09:47:41.639369Z"
    }
   },
   "id": "f863fecb9e7418db"
  },
  {
   "cell_type": "code",
   "execution_count": 46,
   "outputs": [
    {
     "data": {
      "text/plain": "True"
     },
     "execution_count": 46,
     "metadata": {},
     "output_type": "execute_result"
    }
   ],
   "source": [
    "df_r1_pp[\"selective_file_data\"].isin(df_train_pp[\"selective_file_data\"]).all()"
   ],
   "metadata": {
    "collapsed": false,
    "ExecuteTime": {
     "end_time": "2024-02-05T09:47:52.031334Z",
     "start_time": "2024-02-05T09:47:52.026734Z"
    }
   },
   "id": "7e20b9e4162c47b9"
  },
  {
   "cell_type": "code",
   "execution_count": 47,
   "outputs": [
    {
     "data": {
      "text/plain": "True"
     },
     "execution_count": 47,
     "metadata": {},
     "output_type": "execute_result"
    }
   ],
   "source": [
    "df_r1_pp[\"event_with_roles\"].isin(df_train_pp[\"event_with_roles\"]).all()"
   ],
   "metadata": {
    "collapsed": false,
    "ExecuteTime": {
     "end_time": "2024-02-05T09:47:52.056577Z",
     "start_time": "2024-02-05T09:47:52.033159Z"
    }
   },
   "id": "8031422b04bd73da"
  },
  {
   "cell_type": "code",
   "execution_count": 54,
   "outputs": [
    {
     "data": {
      "text/plain": "              BusinessActivity  InstanceNumber  frame.number  \\\n27       CreatePurchaseRequest               1           119   \n82       CreatePurchaseRequest               1           153   \n86       CreatePurchaseRequest               1           161   \n188      CreatePurchaseRequest               1           224   \n258      CreatePurchaseRequest               1           245   \n...                        ...             ...           ...   \n3223224          SubmitPayment               9          2780   \n3223229          SubmitPayment               9          2782   \n3223234          SubmitPayment               9          2784   \n3223384          SubmitPayment               9          2840   \n3223425          SubmitPayment               9          2862   \n\n               synthetic_sniff_time  \\\n27       2020-12-22 11:39:44.237118   \n82       2020-12-22 11:48:16.548344   \n86       2020-12-22 11:48:38.880577   \n188      2020-12-22 12:37:51.535813   \n258      2020-12-22 12:39:19.394598   \n...                             ...   \n3223224  2020-12-22 21:02:27.271768   \n3223229  2020-12-22 21:02:45.203561   \n3223234  2020-12-22 21:02:53.084349   \n3223384  2020-12-22 21:06:45.187557   \n3223425  2020-12-22 21:11:53.978433   \n\n                                          event_with_roles  \\\n27       End Point (Employee)->Odoo Application:[HttpRe...   \n82       Odoo Application->End Point (Employee):[HttpRe...   \n86       End Point (Employee)->Odoo Application:[HttpRe...   \n188      Odoo Application->db Server/Mail Server:[Pgsql...   \n258      Odoo Application->End Point (Employee):[HttpRe...   \n...                                                    ...   \n3223224  Odoo Application->db Server/Mail Server:[Pgsql...   \n3223229  Odoo Application->db Server/Mail Server:[Pgsql...   \n3223234  Odoo Application->db Server/Mail Server:[Pgsql...   \n3223384  Odoo Application->db Server/Mail Server:[Pgsql...   \n3223425  Odoo Application->End Point (Finance):[HttpRes...   \n\n        request_method_call  \\\n27                  version   \n82           server_version   \n86             authenticate   \n188                           \n258                       2   \n...                     ...   \n3223224                       \n3223229                       \n3223234                       \n3223384                       \n3223425                  37   \n\n                                                 file_data  \\\n27                                                      []   \n82       [server_version, 12.0-20190820, server_version...   \n86            [odoo01, user.suername@company.com, PWD1234]   \n188                                                          \n258                                                    [2]   \n...                                                    ...   \n3223224                                                      \n3223229                                                      \n3223234                                                      \n3223384                                                      \n3223425                                               [37]   \n\n        selective_file_data origin_method        origin_file_data  \n27                  version                                        \n82           server_version       version                 version  \n86                                                                 \n188                                                                \n258                IsNumber  authenticate                          \n...                     ...           ...                     ...  \n3223224                                                            \n3223229                                                            \n3223234                                                            \n3223384                                                            \n3223425            IsNumber    execute_kw  account.payment_create  \n\n[26955 rows x 10 columns]",
      "text/html": "<div>\n<style scoped>\n    .dataframe tbody tr th:only-of-type {\n        vertical-align: middle;\n    }\n\n    .dataframe tbody tr th {\n        vertical-align: top;\n    }\n\n    .dataframe thead th {\n        text-align: right;\n    }\n</style>\n<table border=\"1\" class=\"dataframe\">\n  <thead>\n    <tr style=\"text-align: right;\">\n      <th></th>\n      <th>BusinessActivity</th>\n      <th>InstanceNumber</th>\n      <th>frame.number</th>\n      <th>synthetic_sniff_time</th>\n      <th>event_with_roles</th>\n      <th>request_method_call</th>\n      <th>file_data</th>\n      <th>selective_file_data</th>\n      <th>origin_method</th>\n      <th>origin_file_data</th>\n    </tr>\n  </thead>\n  <tbody>\n    <tr>\n      <th>27</th>\n      <td>CreatePurchaseRequest</td>\n      <td>1</td>\n      <td>119</td>\n      <td>2020-12-22 11:39:44.237118</td>\n      <td>End Point (Employee)-&gt;Odoo Application:[HttpRe...</td>\n      <td>version</td>\n      <td>[]</td>\n      <td>version</td>\n      <td></td>\n      <td></td>\n    </tr>\n    <tr>\n      <th>82</th>\n      <td>CreatePurchaseRequest</td>\n      <td>1</td>\n      <td>153</td>\n      <td>2020-12-22 11:48:16.548344</td>\n      <td>Odoo Application-&gt;End Point (Employee):[HttpRe...</td>\n      <td>server_version</td>\n      <td>[server_version, 12.0-20190820, server_version...</td>\n      <td>server_version</td>\n      <td>version</td>\n      <td>version</td>\n    </tr>\n    <tr>\n      <th>86</th>\n      <td>CreatePurchaseRequest</td>\n      <td>1</td>\n      <td>161</td>\n      <td>2020-12-22 11:48:38.880577</td>\n      <td>End Point (Employee)-&gt;Odoo Application:[HttpRe...</td>\n      <td>authenticate</td>\n      <td>[odoo01, user.suername@company.com, PWD1234]</td>\n      <td></td>\n      <td></td>\n      <td></td>\n    </tr>\n    <tr>\n      <th>188</th>\n      <td>CreatePurchaseRequest</td>\n      <td>1</td>\n      <td>224</td>\n      <td>2020-12-22 12:37:51.535813</td>\n      <td>Odoo Application-&gt;db Server/Mail Server:[Pgsql...</td>\n      <td></td>\n      <td></td>\n      <td></td>\n      <td></td>\n      <td></td>\n    </tr>\n    <tr>\n      <th>258</th>\n      <td>CreatePurchaseRequest</td>\n      <td>1</td>\n      <td>245</td>\n      <td>2020-12-22 12:39:19.394598</td>\n      <td>Odoo Application-&gt;End Point (Employee):[HttpRe...</td>\n      <td>2</td>\n      <td>[2]</td>\n      <td>IsNumber</td>\n      <td>authenticate</td>\n      <td></td>\n    </tr>\n    <tr>\n      <th>...</th>\n      <td>...</td>\n      <td>...</td>\n      <td>...</td>\n      <td>...</td>\n      <td>...</td>\n      <td>...</td>\n      <td>...</td>\n      <td>...</td>\n      <td>...</td>\n      <td>...</td>\n    </tr>\n    <tr>\n      <th>3223224</th>\n      <td>SubmitPayment</td>\n      <td>9</td>\n      <td>2780</td>\n      <td>2020-12-22 21:02:27.271768</td>\n      <td>Odoo Application-&gt;db Server/Mail Server:[Pgsql...</td>\n      <td></td>\n      <td></td>\n      <td></td>\n      <td></td>\n      <td></td>\n    </tr>\n    <tr>\n      <th>3223229</th>\n      <td>SubmitPayment</td>\n      <td>9</td>\n      <td>2782</td>\n      <td>2020-12-22 21:02:45.203561</td>\n      <td>Odoo Application-&gt;db Server/Mail Server:[Pgsql...</td>\n      <td></td>\n      <td></td>\n      <td></td>\n      <td></td>\n      <td></td>\n    </tr>\n    <tr>\n      <th>3223234</th>\n      <td>SubmitPayment</td>\n      <td>9</td>\n      <td>2784</td>\n      <td>2020-12-22 21:02:53.084349</td>\n      <td>Odoo Application-&gt;db Server/Mail Server:[Pgsql...</td>\n      <td></td>\n      <td></td>\n      <td></td>\n      <td></td>\n      <td></td>\n    </tr>\n    <tr>\n      <th>3223384</th>\n      <td>SubmitPayment</td>\n      <td>9</td>\n      <td>2840</td>\n      <td>2020-12-22 21:06:45.187557</td>\n      <td>Odoo Application-&gt;db Server/Mail Server:[Pgsql...</td>\n      <td></td>\n      <td></td>\n      <td></td>\n      <td></td>\n      <td></td>\n    </tr>\n    <tr>\n      <th>3223425</th>\n      <td>SubmitPayment</td>\n      <td>9</td>\n      <td>2862</td>\n      <td>2020-12-22 21:11:53.978433</td>\n      <td>Odoo Application-&gt;End Point (Finance):[HttpRes...</td>\n      <td>37</td>\n      <td>[37]</td>\n      <td>IsNumber</td>\n      <td>execute_kw</td>\n      <td>account.payment_create</td>\n    </tr>\n  </tbody>\n</table>\n<p>26955 rows × 10 columns</p>\n</div>"
     },
     "execution_count": 54,
     "metadata": {},
     "output_type": "execute_result"
    }
   ],
   "source": [
    "df_train_pp"
   ],
   "metadata": {
    "collapsed": false,
    "ExecuteTime": {
     "end_time": "2024-02-05T09:57:40.966431Z",
     "start_time": "2024-02-05T09:57:40.887917Z"
    }
   },
   "id": "e7ee929f91d38a8d"
  },
  {
   "cell_type": "code",
   "execution_count": null,
   "outputs": [],
   "source": [],
   "metadata": {
    "collapsed": false
   },
   "id": "13e5fd70f9b1edba"
  }
 ],
 "metadata": {
  "kernelspec": {
   "display_name": "Python 3",
   "language": "python",
   "name": "python3"
  },
  "language_info": {
   "codemirror_mode": {
    "name": "ipython",
    "version": 2
   },
   "file_extension": ".py",
   "mimetype": "text/x-python",
   "name": "python",
   "nbconvert_exporter": "python",
   "pygments_lexer": "ipython2",
   "version": "2.7.6"
  }
 },
 "nbformat": 4,
 "nbformat_minor": 5
}
