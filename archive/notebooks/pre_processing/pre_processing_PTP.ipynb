{
 "cells": [
  {
   "cell_type": "markdown",
   "source": [
    "# Pre-Processing\n",
    "\n",
    "Goals of this notebook\n",
    ": - Filter events from R1 abstraction level to R4 \n",
    "- Extract features necessary for classification from raw message attributes \n"
   ],
   "metadata": {
    "collapsed": false
   },
   "id": "89aa77ecde27f5f0"
  },
  {
   "cell_type": "markdown",
   "source": [
    "## Filter\n",
    "**Goal**: Define a filter that filters all events from low R1 abstraction level to R4 abstraction level\n",
    "**Evaluation**: Compare R1 and R4 data for discarded events"
   ],
   "metadata": {
    "collapsed": false
   },
   "id": "4fc371d0afca59a8"
  },
  {
   "cell_type": "code",
   "execution_count": 4,
   "outputs": [],
   "source": [
    "import pandas as pd\n",
    "import re\n",
    "pd.options.mode.chained_assignment = None\n",
    "import ast"
   ],
   "metadata": {
    "collapsed": false,
    "ExecuteTime": {
     "end_time": "2024-02-05T15:53:21.304181Z",
     "start_time": "2024-02-05T15:53:21.301451Z"
    }
   },
   "id": "914cdb73f6ba1334"
  },
  {
   "cell_type": "code",
   "execution_count": 5,
   "outputs": [],
   "source": [
    "# test with IL data \n",
    "#df_r4 = pd.read_csv('../../data_v3/ptp_il_tagged.csv')\n",
    "#df_r1 = pd.read_csv('../../data/PTP-INTERLEAVED/R1/R1.csv', converters={\"MessageAttributes\": ast.literal_eval})"
   ],
   "metadata": {
    "collapsed": false,
    "ExecuteTime": {
     "end_time": "2024-02-05T15:53:21.309040Z",
     "start_time": "2024-02-05T15:53:21.304042Z"
    }
   },
   "id": "c1ce1f2609f9d632"
  },
  {
   "cell_type": "code",
   "execution_count": 6,
   "outputs": [],
   "source": [
    "df_r4 = pd.read_csv('../../data_v3/ptp_extended_features.csv')\n",
    "df_r1 = pd.read_csv('../../data/VALID/R1/R1.csv', converters={\"MessageAttributes\": ast.literal_eval})"
   ],
   "metadata": {
    "collapsed": false,
    "ExecuteTime": {
     "end_time": "2024-02-05T15:54:22.115525Z",
     "start_time": "2024-02-05T15:53:21.308397Z"
    }
   },
   "id": "760515773d02f793"
  },
  {
   "cell_type": "markdown",
   "source": [
    "### Pre-Processing"
   ],
   "metadata": {
    "collapsed": false
   },
   "id": "b51d1517674d1bf3"
  },
  {
   "cell_type": "code",
   "execution_count": 7,
   "outputs": [],
   "source": [
    "df_r1[\"pgsql.query\"] = df_r1[\"MessageAttributes\"].apply(lambda x: x.get(\"pgsql.query\")).str.strip('\\\\xa').str.strip()\n"
   ],
   "metadata": {
    "collapsed": false,
    "ExecuteTime": {
     "end_time": "2024-02-05T15:54:23.018126Z",
     "start_time": "2024-02-05T15:54:22.113396Z"
    }
   },
   "id": "a9883360c6d10f5c"
  },
  {
   "cell_type": "markdown",
   "source": [
    "### Prerequisites\n",
    "#### check that every frame of R4 is available in R1 "
   ],
   "metadata": {
    "collapsed": false
   },
   "id": "864fa522d0b2014e"
  },
  {
   "cell_type": "code",
   "execution_count": 8,
   "outputs": [
    {
     "name": "stdout",
     "output_type": "stream",
     "text": [
      "Every value from df_r1 is present in df_r4: True\n"
     ]
    }
   ],
   "source": [
    "res = df_r4[\"frame.number\"].isin(df_r1[\"frame.number\"]).all()\n",
    "print(f\"Every value from df_r1 is present in df_r4: {res}\")"
   ],
   "metadata": {
    "collapsed": false,
    "ExecuteTime": {
     "end_time": "2024-02-05T15:54:23.039589Z",
     "start_time": "2024-02-05T15:54:23.018677Z"
    }
   },
   "id": "8686faae57e06a5b"
  },
  {
   "cell_type": "markdown",
   "source": [
    "#### keep_event as evaluation criterion"
   ],
   "metadata": {
    "collapsed": false
   },
   "id": "2819c8dfe971739d"
  },
  {
   "cell_type": "code",
   "execution_count": 9,
   "outputs": [],
   "source": [
    "df_r1[\"keep_event\"] = df_r1[\"frame.number\"].isin(df_r4[\"frame.number\"])"
   ],
   "metadata": {
    "collapsed": false,
    "ExecuteTime": {
     "end_time": "2024-02-05T15:54:23.074106Z",
     "start_time": "2024-02-05T15:54:23.038560Z"
    }
   },
   "id": "a3ea12e0b49a7eea"
  },
  {
   "cell_type": "code",
   "execution_count": 10,
   "outputs": [],
   "source": [
    "df_r1[\"pgsql.query\"] = df_r1[\"MessageAttributes\"].apply(lambda x: x.get(\"pgsql.query\")).str.strip('\\\\xa').str.strip()"
   ],
   "metadata": {
    "collapsed": false,
    "ExecuteTime": {
     "end_time": "2024-02-05T15:54:23.881922Z",
     "start_time": "2024-02-05T15:54:23.050479Z"
    }
   },
   "id": "8f6c78291e96b901"
  },
  {
   "cell_type": "markdown",
   "source": [
    "### Filter by MessageType"
   ],
   "metadata": {
    "collapsed": false
   },
   "id": "4cd26e3dc03d378f"
  },
  {
   "cell_type": "code",
   "execution_count": 11,
   "outputs": [
    {
     "data": {
      "text/plain": "MessageType                                     keep_event\nPgsqlResponse:Data row                          True          1026689\n                                                False          484088\nPgsqlResponse:Ready for query                   True           391192\nPgsqlRequest:Simple query                       True           389504\nPgsqlResponse:Command completion                True           387604\nPgsqlResponse:Row description                   True           289975\nPgsqlResponse:Parameter status                  True            82496\nPgsqlResponse:Ready for query                   False           30080\nPgsqlResponse:Command completion                False           29908\nPgsqlRequest:Simple query                       False           28592\nPgsqlResponse:Row description                   False           19861\nPgsqlResponse:Authentication request            True             6587\nConnection finish (FIN)                         True             6208\nPgsqlResponse:Parameter status                  False            6134\nConnection establish request (SYN)              True             5990\nConnection establish acknowledge (SYN+ACK)      True             5981\nSmtpDataFragment                                True             4062\nPgsqlRequest:SSL request                        True             3292\nPgsqlRequest:Startup message                    True             3290\nPgsqlResponse:Backend key data                  True             3290\nPgsqlRequest:Password message                   True             3288\nPgsqlRequest:Termination                        True             3277\nHttpResponse:HTTP/1.0 200 OK\\r\\n                True             2663\nSmtpDataFragment                                False            2592\nHttpRequest:POST /xmlrpc/2/object HTTP/1.1\\r\\n  True             1842\nHttpRequest:POST /xmlrpc/2/common HTTP/1.1\\r\\n  True              811\nSmtpResponse:250                                True              527\n                                                False             361\nPgsqlResponse:Error                             True              296\nConnection finish (FIN)                         False             295\nPgsqlResponse:Authentication request            False             275\nConnection establish acknowledge (SYN+ACK)      False             244\nConnection establish request (SYN)              False             235\nSmtpReassembledMessage                          True              187\nSmtpRequest:mail                                True              156\nSmtpResponse:354                                True              154\nPgsqlRequest:Password message                   False             150\nPgsqlRequest:Termination                        False             148\nPgsqlRequest:SSL request                        False             146\nSmtpRequest:data                                True              145\nPgsqlRequest:Startup message                    False             145\nSmtpRequest:rcpt                                True              145\nPgsqlResponse:Backend key data                  False             142\nSmtpRequest:data                                False             111\nSmtpRequest:rcpt                                False             111\nSmtpResponse:354                                False             102\nSmtpRequest:mail                                False             100\nSmtpResponse:220                                True               90\nSmtpRequest:ehlo                                True               90\nSmtpResponse:221                                True               85\nSmtpRequest:quit                                True               84\n                                                False              36\nSmtpResponse:221                                False              35\nPgsqlResponse:Error                             False              33\nSmtpResponse:220                                False              30\nSmtpRequest:ehlo                                False              29\nName: count, dtype: int64"
     },
     "execution_count": 11,
     "metadata": {},
     "output_type": "execute_result"
    }
   ],
   "source": [
    "df_r1[[\"MessageType\", \"keep_event\"]].value_counts()"
   ],
   "metadata": {
    "collapsed": false,
    "ExecuteTime": {
     "end_time": "2024-02-05T15:54:24.169603Z",
     "start_time": "2024-02-05T15:54:23.882488Z"
    }
   },
   "id": "7cd74321807b8445"
  },
  {
   "cell_type": "code",
   "execution_count": 12,
   "outputs": [],
   "source": [
    "# Message Types to keep\n",
    "message_type_filter = {\n",
    "    \"HttpRequest:POST /xmlrpc/2/common HTTP/1.1\\\\r\\\\n\",\n",
    "    \"HttpRequest:POST /xmlrpc/2/object HTTP/1.1\\\\r\\\\n\",\n",
    "    \"HttpResponse:HTTP/1.0 200 OK\\\\r\\\\n\",\n",
    "    \"SmtpReassembledMessage\",\n",
    "    \"PgsqlRequest:Simple query\",\n",
    "}"
   ],
   "metadata": {
    "collapsed": false,
    "ExecuteTime": {
     "end_time": "2024-02-05T15:54:24.176998Z",
     "start_time": "2024-02-05T15:54:24.170801Z"
    }
   },
   "id": "6d442d2713b93ad9"
  },
  {
   "cell_type": "code",
   "execution_count": 13,
   "outputs": [],
   "source": [
    "df_r1_filtered = df_r1[df_r1[\"MessageType\"].isin(message_type_filter)]"
   ],
   "metadata": {
    "collapsed": false,
    "ExecuteTime": {
     "end_time": "2024-02-05T15:54:24.343397Z",
     "start_time": "2024-02-05T15:54:24.240566Z"
    }
   },
   "id": "1258f64d6e8d2489"
  },
  {
   "cell_type": "code",
   "execution_count": 14,
   "outputs": [
    {
     "data": {
      "text/plain": "keep_event  MessageType                                   \nTrue        PgsqlRequest:Simple query                         389504\nFalse       PgsqlRequest:Simple query                          28592\nTrue        HttpResponse:HTTP/1.0 200 OK\\r\\n                    2663\n            HttpRequest:POST /xmlrpc/2/object HTTP/1.1\\r\\n      1842\n            HttpRequest:POST /xmlrpc/2/common HTTP/1.1\\r\\n       811\n            SmtpReassembledMessage                               187\nName: count, dtype: int64"
     },
     "execution_count": 14,
     "metadata": {},
     "output_type": "execute_result"
    }
   ],
   "source": [
    "df_r1_filtered[[\"keep_event\", \"MessageType\"]].value_counts()"
   ],
   "metadata": {
    "collapsed": false,
    "ExecuteTime": {
     "end_time": "2024-02-05T15:54:24.381957Z",
     "start_time": "2024-02-05T15:54:24.344425Z"
    }
   },
   "id": "28c9c95dc8b1c93a"
  },
  {
   "cell_type": "markdown",
   "source": [
    "check if no keep events = True are dropped"
   ],
   "metadata": {
    "collapsed": false
   },
   "id": "7477fc2145d96beb"
  },
  {
   "cell_type": "code",
   "execution_count": 15,
   "outputs": [
    {
     "data": {
      "text/plain": "keep_event\nTrue     2224993\nFalse     575391\nName: count, dtype: int64"
     },
     "execution_count": 15,
     "metadata": {},
     "output_type": "execute_result"
    }
   ],
   "source": [
    "df_r1.drop(df_r1_filtered.index)[\"keep_event\"].value_counts()"
   ],
   "metadata": {
    "collapsed": false,
    "ExecuteTime": {
     "end_time": "2024-02-05T15:54:24.766558Z",
     "start_time": "2024-02-05T15:54:24.378607Z"
    }
   },
   "id": "37bf4474a6fda48"
  },
  {
   "cell_type": "markdown",
   "source": [
    "the resulting elements in the original dataframe only have keep_events = False. \n",
    "**df_r1_filtered still contains all keep_events**"
   ],
   "metadata": {
    "collapsed": false
   },
   "id": "3c73a20178e4cd1f"
  },
  {
   "cell_type": "markdown",
   "source": [
    "### Extend Filter by *PgsqlRequest:Simple query*"
   ],
   "metadata": {
    "collapsed": false
   },
   "id": "a121346dd25f6d4"
  },
  {
   "cell_type": "code",
   "execution_count": 16,
   "outputs": [],
   "source": [
    "df_r1_psql = df_r1_filtered[df_r1_filtered[\"MessageType\"] == \"PgsqlRequest:Simple query\"]"
   ],
   "metadata": {
    "collapsed": false,
    "ExecuteTime": {
     "end_time": "2024-02-05T15:54:24.837003Z",
     "start_time": "2024-02-05T15:54:24.778741Z"
    }
   },
   "id": "7b680750f68a9cef"
  },
  {
   "cell_type": "code",
   "execution_count": 17,
   "outputs": [],
   "source": [
    "# keep first N \n",
    "df_r1_psql[\"pgsql.query_command_1\"] = df_r1_psql[\"pgsql.query\"].str.split().str[:1].str.join(\" \")\n",
    "df_r1_psql[\"pgsql.query_command_2\"] = df_r1_psql[\"pgsql.query\"].str.split().str[:2].str.join(\" \")\n",
    "df_r1_psql[\"pgsql.query_command_3\"] = df_r1_psql[\"pgsql.query\"].str.split().str[:3].str.join(\" \")\n",
    "\n",
    "\n",
    "def extract_pgsql_target(command):\n",
    "    if command is not None:\n",
    "        match = re.search(r'(?:INSERT INTO|UPDATE)\\s+\"?([^\"\\s]+)', command)\n",
    "        return match.group(1) if match else None\n",
    "    return None\n",
    "\n",
    "\n",
    "df_r1_psql[\"pgsql.target\"] = df_r1_psql[\"pgsql.query\"].apply(extract_pgsql_target)"
   ],
   "metadata": {
    "collapsed": false,
    "ExecuteTime": {
     "end_time": "2024-02-05T15:54:32.473277Z",
     "start_time": "2024-02-05T15:54:24.865306Z"
    }
   },
   "id": "9eaa8deac7209fbb"
  },
  {
   "cell_type": "code",
   "execution_count": 18,
   "outputs": [
    {
     "data": {
      "text/plain": "         Unnamed: 0                      FileName       BusinessActivity  \\\n5                 5  CreatePurchaseRequest_1.pcap  CreatePurchaseRequest   \n18               18  CreatePurchaseRequest_1.pcap  CreatePurchaseRequest   \n22               22  CreatePurchaseRequest_1.pcap  CreatePurchaseRequest   \n48               48  CreatePurchaseRequest_1.pcap  CreatePurchaseRequest   \n51               51  CreatePurchaseRequest_1.pcap  CreatePurchaseRequest   \n...             ...                           ...                    ...   \n3223961     3223961          SubmitPayment_9.pcap          SubmitPayment   \n3223964     3223964          SubmitPayment_9.pcap          SubmitPayment   \n3223969     3223969          SubmitPayment_9.pcap          SubmitPayment   \n3223974     3223974          SubmitPayment_9.pcap          SubmitPayment   \n3223977     3223977          SubmitPayment_9.pcap          SubmitPayment   \n\n         InstanceNumber                  sniff_time  frame.number  \\\n5                     1  2020-12-21 08:08:39.600327            50   \n18                    1  2020-12-21 08:08:39.601493            56   \n22                    1  2020-12-21 08:08:39.602006            58   \n48                    1  2020-12-21 08:08:44.677860           132   \n51                    1  2020-12-21 08:08:44.678209           134   \n...                 ...                         ...           ...   \n3223961               9  2020-12-21 11:46:49.699675          4980   \n3223964               9  2020-12-21 11:46:49.699855          4982   \n3223969               9  2020-12-21 11:46:49.701734          4985   \n3223974               9  2020-12-21 11:46:49.704165          4990   \n3223977               9  2020-12-21 11:46:49.704604          4992   \n\n               synthetic_sniff_time    synthetic_sniff_time_str  \\\n5        2020-12-21 21:40:11.290327  2020-12-21 21:40:11.290327   \n18       2020-12-21 21:40:22.951493  2020-12-21 21:40:22.951493   \n22       2020-12-21 21:40:28.082006  2020-12-21 21:40:28.082006   \n48       2020-12-22 11:46:31.697860  2020-12-22 11:46:31.697860   \n51       2020-12-22 11:46:35.188209  2020-12-22 11:46:35.188209   \n...                             ...                         ...   \n3223961  2021-01-10 13:46:27.869675  2021-01-10 13:46:27.869675   \n3223964  2021-01-10 13:46:29.669855  2021-01-10 13:46:29.669855   \n3223969  2021-01-10 13:46:48.461734  2021-01-10 13:46:48.461734   \n3223974  2021-01-10 13:47:12.774165  2021-01-10 13:47:12.774165   \n3223977  2021-01-10 13:47:17.164604  2021-01-10 13:47:17.164604   \n\n                   session_generalized HighestLayerProtocol  \\\n5        192.168.11.1-192.168.11.2 (1)                pgsql   \n18       192.168.11.1-192.168.11.2 (1)                pgsql   \n22       192.168.11.1-192.168.11.2 (1)                pgsql   \n48       192.168.11.1-192.168.11.2 (2)                pgsql   \n51       192.168.11.1-192.168.11.2 (2)                pgsql   \n...                                ...                  ...   \n3223961  192.168.11.1-192.168.11.2 (7)                pgsql   \n3223964  192.168.11.1-192.168.11.2 (7)                pgsql   \n3223969  192.168.11.1-192.168.11.2 (7)                pgsql   \n3223974  192.168.11.1-192.168.11.2 (3)                pgsql   \n3223977  192.168.11.1-192.168.11.2 (7)                pgsql   \n\n                                      MessageType_WithRole  \\\n5        Odoo Application->db Server/Mail Server:[Pgsql...   \n18       Odoo Application->db Server/Mail Server:[Pgsql...   \n22       Odoo Application->db Server/Mail Server:[Pgsql...   \n48       Odoo Application->db Server/Mail Server:[Pgsql...   \n51       Odoo Application->db Server/Mail Server:[Pgsql...   \n...                                                    ...   \n3223961  Odoo Application->db Server/Mail Server:[Pgsql...   \n3223964  Odoo Application->db Server/Mail Server:[Pgsql...   \n3223969  Odoo Application->db Server/Mail Server:[Pgsql...   \n3223974  Odoo Application->db Server/Mail Server:[Pgsql...   \n3223977  Odoo Application->db Server/Mail Server:[Pgsql...   \n\n                       MessageType  \\\n5        PgsqlRequest:Simple query   \n18       PgsqlRequest:Simple query   \n22       PgsqlRequest:Simple query   \n48       PgsqlRequest:Simple query   \n51       PgsqlRequest:Simple query   \n...                            ...   \n3223961  PgsqlRequest:Simple query   \n3223964  PgsqlRequest:Simple query   \n3223969  PgsqlRequest:Simple query   \n3223974  PgsqlRequest:Simple query   \n3223977  PgsqlRequest:Simple query   \n\n                                         MessageAttributes  \\\n5        {'pgsql.type': 'Simple query', 'pgsql.length':...   \n18       {'pgsql.type': 'Simple query', 'pgsql.length':...   \n22       {'pgsql.type': 'Simple query', 'pgsql.length':...   \n48       {'pgsql.type': 'Simple query', 'pgsql.length':...   \n51       {'pgsql.type': 'Simple query', 'pgsql.length':...   \n...                                                    ...   \n3223961  {'pgsql.type': 'Simple query', 'pgsql.length':...   \n3223964  {'pgsql.type': 'Simple query', 'pgsql.length':...   \n3223969  {'pgsql.type': 'Simple query', 'pgsql.length':...   \n3223974  {'pgsql.type': 'Simple query', 'pgsql.length':...   \n3223977  {'pgsql.type': 'Simple query', 'pgsql.length':...   \n\n                                               pgsql.query  keep_event  \\\n5                    BEGIN ISOLATION LEVEL REPEATABLE READ        True   \n18       SELECT * FROM ir_cron\\xa                      ...        True   \n22                                                  COMMIT        True   \n48                   BEGIN ISOLATION LEVEL REPEATABLE READ        True   \n51       select datname from pg_database where datdba=(...        True   \n...                                                    ...         ...   \n3223961              BEGIN ISOLATION LEVEL REPEATABLE READ        True   \n3223964  SELECT \"res_users\".\"id\" as \"id\",\"res_users\".\"p...        True   \n3223969  SELECT \"res_partner\".\"id\" as \"id\",\"res_partner...        True   \n3223974  UPDATE ir_cron SET nextcall='2020-12-21 09:37:...        True   \n3223977                                             COMMIT        True   \n\n        pgsql.query_command_1      pgsql.query_command_2  \\\n5                       BEGIN            BEGIN ISOLATION   \n18                     SELECT                   SELECT *   \n22                     COMMIT                     COMMIT   \n48                      BEGIN            BEGIN ISOLATION   \n51                     select             select datname   \n...                       ...                        ...   \n3223961                 BEGIN            BEGIN ISOLATION   \n3223964                SELECT    SELECT \"res_users\".\"id\"   \n3223969                SELECT  SELECT \"res_partner\".\"id\"   \n3223974                UPDATE             UPDATE ir_cron   \n3223977                COMMIT                     COMMIT   \n\n                pgsql.query_command_3 pgsql.target  \n5               BEGIN ISOLATION LEVEL         None  \n18                      SELECT * FROM         None  \n22                             COMMIT         None  \n48              BEGIN ISOLATION LEVEL         None  \n51                select datname from         None  \n...                               ...          ...  \n3223961         BEGIN ISOLATION LEVEL         None  \n3223964    SELECT \"res_users\".\"id\" as         None  \n3223969  SELECT \"res_partner\".\"id\" as         None  \n3223974            UPDATE ir_cron SET      ir_cron  \n3223977                        COMMIT         None  \n\n[389504 rows x 19 columns]",
      "text/html": "<div>\n<style scoped>\n    .dataframe tbody tr th:only-of-type {\n        vertical-align: middle;\n    }\n\n    .dataframe tbody tr th {\n        vertical-align: top;\n    }\n\n    .dataframe thead th {\n        text-align: right;\n    }\n</style>\n<table border=\"1\" class=\"dataframe\">\n  <thead>\n    <tr style=\"text-align: right;\">\n      <th></th>\n      <th>Unnamed: 0</th>\n      <th>FileName</th>\n      <th>BusinessActivity</th>\n      <th>InstanceNumber</th>\n      <th>sniff_time</th>\n      <th>frame.number</th>\n      <th>synthetic_sniff_time</th>\n      <th>synthetic_sniff_time_str</th>\n      <th>session_generalized</th>\n      <th>HighestLayerProtocol</th>\n      <th>MessageType_WithRole</th>\n      <th>MessageType</th>\n      <th>MessageAttributes</th>\n      <th>pgsql.query</th>\n      <th>keep_event</th>\n      <th>pgsql.query_command_1</th>\n      <th>pgsql.query_command_2</th>\n      <th>pgsql.query_command_3</th>\n      <th>pgsql.target</th>\n    </tr>\n  </thead>\n  <tbody>\n    <tr>\n      <th>5</th>\n      <td>5</td>\n      <td>CreatePurchaseRequest_1.pcap</td>\n      <td>CreatePurchaseRequest</td>\n      <td>1</td>\n      <td>2020-12-21 08:08:39.600327</td>\n      <td>50</td>\n      <td>2020-12-21 21:40:11.290327</td>\n      <td>2020-12-21 21:40:11.290327</td>\n      <td>192.168.11.1-192.168.11.2 (1)</td>\n      <td>pgsql</td>\n      <td>Odoo Application-&gt;db Server/Mail Server:[Pgsql...</td>\n      <td>PgsqlRequest:Simple query</td>\n      <td>{'pgsql.type': 'Simple query', 'pgsql.length':...</td>\n      <td>BEGIN ISOLATION LEVEL REPEATABLE READ</td>\n      <td>True</td>\n      <td>BEGIN</td>\n      <td>BEGIN ISOLATION</td>\n      <td>BEGIN ISOLATION LEVEL</td>\n      <td>None</td>\n    </tr>\n    <tr>\n      <th>18</th>\n      <td>18</td>\n      <td>CreatePurchaseRequest_1.pcap</td>\n      <td>CreatePurchaseRequest</td>\n      <td>1</td>\n      <td>2020-12-21 08:08:39.601493</td>\n      <td>56</td>\n      <td>2020-12-21 21:40:22.951493</td>\n      <td>2020-12-21 21:40:22.951493</td>\n      <td>192.168.11.1-192.168.11.2 (1)</td>\n      <td>pgsql</td>\n      <td>Odoo Application-&gt;db Server/Mail Server:[Pgsql...</td>\n      <td>PgsqlRequest:Simple query</td>\n      <td>{'pgsql.type': 'Simple query', 'pgsql.length':...</td>\n      <td>SELECT * FROM ir_cron\\xa                      ...</td>\n      <td>True</td>\n      <td>SELECT</td>\n      <td>SELECT *</td>\n      <td>SELECT * FROM</td>\n      <td>None</td>\n    </tr>\n    <tr>\n      <th>22</th>\n      <td>22</td>\n      <td>CreatePurchaseRequest_1.pcap</td>\n      <td>CreatePurchaseRequest</td>\n      <td>1</td>\n      <td>2020-12-21 08:08:39.602006</td>\n      <td>58</td>\n      <td>2020-12-21 21:40:28.082006</td>\n      <td>2020-12-21 21:40:28.082006</td>\n      <td>192.168.11.1-192.168.11.2 (1)</td>\n      <td>pgsql</td>\n      <td>Odoo Application-&gt;db Server/Mail Server:[Pgsql...</td>\n      <td>PgsqlRequest:Simple query</td>\n      <td>{'pgsql.type': 'Simple query', 'pgsql.length':...</td>\n      <td>COMMIT</td>\n      <td>True</td>\n      <td>COMMIT</td>\n      <td>COMMIT</td>\n      <td>COMMIT</td>\n      <td>None</td>\n    </tr>\n    <tr>\n      <th>48</th>\n      <td>48</td>\n      <td>CreatePurchaseRequest_1.pcap</td>\n      <td>CreatePurchaseRequest</td>\n      <td>1</td>\n      <td>2020-12-21 08:08:44.677860</td>\n      <td>132</td>\n      <td>2020-12-22 11:46:31.697860</td>\n      <td>2020-12-22 11:46:31.697860</td>\n      <td>192.168.11.1-192.168.11.2 (2)</td>\n      <td>pgsql</td>\n      <td>Odoo Application-&gt;db Server/Mail Server:[Pgsql...</td>\n      <td>PgsqlRequest:Simple query</td>\n      <td>{'pgsql.type': 'Simple query', 'pgsql.length':...</td>\n      <td>BEGIN ISOLATION LEVEL REPEATABLE READ</td>\n      <td>True</td>\n      <td>BEGIN</td>\n      <td>BEGIN ISOLATION</td>\n      <td>BEGIN ISOLATION LEVEL</td>\n      <td>None</td>\n    </tr>\n    <tr>\n      <th>51</th>\n      <td>51</td>\n      <td>CreatePurchaseRequest_1.pcap</td>\n      <td>CreatePurchaseRequest</td>\n      <td>1</td>\n      <td>2020-12-21 08:08:44.678209</td>\n      <td>134</td>\n      <td>2020-12-22 11:46:35.188209</td>\n      <td>2020-12-22 11:46:35.188209</td>\n      <td>192.168.11.1-192.168.11.2 (2)</td>\n      <td>pgsql</td>\n      <td>Odoo Application-&gt;db Server/Mail Server:[Pgsql...</td>\n      <td>PgsqlRequest:Simple query</td>\n      <td>{'pgsql.type': 'Simple query', 'pgsql.length':...</td>\n      <td>select datname from pg_database where datdba=(...</td>\n      <td>True</td>\n      <td>select</td>\n      <td>select datname</td>\n      <td>select datname from</td>\n      <td>None</td>\n    </tr>\n    <tr>\n      <th>...</th>\n      <td>...</td>\n      <td>...</td>\n      <td>...</td>\n      <td>...</td>\n      <td>...</td>\n      <td>...</td>\n      <td>...</td>\n      <td>...</td>\n      <td>...</td>\n      <td>...</td>\n      <td>...</td>\n      <td>...</td>\n      <td>...</td>\n      <td>...</td>\n      <td>...</td>\n      <td>...</td>\n      <td>...</td>\n      <td>...</td>\n      <td>...</td>\n    </tr>\n    <tr>\n      <th>3223961</th>\n      <td>3223961</td>\n      <td>SubmitPayment_9.pcap</td>\n      <td>SubmitPayment</td>\n      <td>9</td>\n      <td>2020-12-21 11:46:49.699675</td>\n      <td>4980</td>\n      <td>2021-01-10 13:46:27.869675</td>\n      <td>2021-01-10 13:46:27.869675</td>\n      <td>192.168.11.1-192.168.11.2 (7)</td>\n      <td>pgsql</td>\n      <td>Odoo Application-&gt;db Server/Mail Server:[Pgsql...</td>\n      <td>PgsqlRequest:Simple query</td>\n      <td>{'pgsql.type': 'Simple query', 'pgsql.length':...</td>\n      <td>BEGIN ISOLATION LEVEL REPEATABLE READ</td>\n      <td>True</td>\n      <td>BEGIN</td>\n      <td>BEGIN ISOLATION</td>\n      <td>BEGIN ISOLATION LEVEL</td>\n      <td>None</td>\n    </tr>\n    <tr>\n      <th>3223964</th>\n      <td>3223964</td>\n      <td>SubmitPayment_9.pcap</td>\n      <td>SubmitPayment</td>\n      <td>9</td>\n      <td>2020-12-21 11:46:49.699855</td>\n      <td>4982</td>\n      <td>2021-01-10 13:46:29.669855</td>\n      <td>2021-01-10 13:46:29.669855</td>\n      <td>192.168.11.1-192.168.11.2 (7)</td>\n      <td>pgsql</td>\n      <td>Odoo Application-&gt;db Server/Mail Server:[Pgsql...</td>\n      <td>PgsqlRequest:Simple query</td>\n      <td>{'pgsql.type': 'Simple query', 'pgsql.length':...</td>\n      <td>SELECT \"res_users\".\"id\" as \"id\",\"res_users\".\"p...</td>\n      <td>True</td>\n      <td>SELECT</td>\n      <td>SELECT \"res_users\".\"id\"</td>\n      <td>SELECT \"res_users\".\"id\" as</td>\n      <td>None</td>\n    </tr>\n    <tr>\n      <th>3223969</th>\n      <td>3223969</td>\n      <td>SubmitPayment_9.pcap</td>\n      <td>SubmitPayment</td>\n      <td>9</td>\n      <td>2020-12-21 11:46:49.701734</td>\n      <td>4985</td>\n      <td>2021-01-10 13:46:48.461734</td>\n      <td>2021-01-10 13:46:48.461734</td>\n      <td>192.168.11.1-192.168.11.2 (7)</td>\n      <td>pgsql</td>\n      <td>Odoo Application-&gt;db Server/Mail Server:[Pgsql...</td>\n      <td>PgsqlRequest:Simple query</td>\n      <td>{'pgsql.type': 'Simple query', 'pgsql.length':...</td>\n      <td>SELECT \"res_partner\".\"id\" as \"id\",\"res_partner...</td>\n      <td>True</td>\n      <td>SELECT</td>\n      <td>SELECT \"res_partner\".\"id\"</td>\n      <td>SELECT \"res_partner\".\"id\" as</td>\n      <td>None</td>\n    </tr>\n    <tr>\n      <th>3223974</th>\n      <td>3223974</td>\n      <td>SubmitPayment_9.pcap</td>\n      <td>SubmitPayment</td>\n      <td>9</td>\n      <td>2020-12-21 11:46:49.704165</td>\n      <td>4990</td>\n      <td>2021-01-10 13:47:12.774165</td>\n      <td>2021-01-10 13:47:12.774165</td>\n      <td>192.168.11.1-192.168.11.2 (3)</td>\n      <td>pgsql</td>\n      <td>Odoo Application-&gt;db Server/Mail Server:[Pgsql...</td>\n      <td>PgsqlRequest:Simple query</td>\n      <td>{'pgsql.type': 'Simple query', 'pgsql.length':...</td>\n      <td>UPDATE ir_cron SET nextcall='2020-12-21 09:37:...</td>\n      <td>True</td>\n      <td>UPDATE</td>\n      <td>UPDATE ir_cron</td>\n      <td>UPDATE ir_cron SET</td>\n      <td>ir_cron</td>\n    </tr>\n    <tr>\n      <th>3223977</th>\n      <td>3223977</td>\n      <td>SubmitPayment_9.pcap</td>\n      <td>SubmitPayment</td>\n      <td>9</td>\n      <td>2020-12-21 11:46:49.704604</td>\n      <td>4992</td>\n      <td>2021-01-10 13:47:17.164604</td>\n      <td>2021-01-10 13:47:17.164604</td>\n      <td>192.168.11.1-192.168.11.2 (7)</td>\n      <td>pgsql</td>\n      <td>Odoo Application-&gt;db Server/Mail Server:[Pgsql...</td>\n      <td>PgsqlRequest:Simple query</td>\n      <td>{'pgsql.type': 'Simple query', 'pgsql.length':...</td>\n      <td>COMMIT</td>\n      <td>True</td>\n      <td>COMMIT</td>\n      <td>COMMIT</td>\n      <td>COMMIT</td>\n      <td>None</td>\n    </tr>\n  </tbody>\n</table>\n<p>389504 rows × 19 columns</p>\n</div>"
     },
     "execution_count": 18,
     "metadata": {},
     "output_type": "execute_result"
    }
   ],
   "source": [
    "df_r1_psql[df_r1_psql[\"keep_event\"]]"
   ],
   "metadata": {
    "collapsed": false,
    "ExecuteTime": {
     "end_time": "2024-02-05T15:54:32.641510Z",
     "start_time": "2024-02-05T15:54:32.473890Z"
    }
   },
   "id": "9cff8d97eb381294"
  },
  {
   "cell_type": "code",
   "execution_count": 19,
   "outputs": [
    {
     "data": {
      "text/plain": "pgsql.query_command_1  keep_event\nSELECT                 True          285881\nBEGIN                  True           24621\nDISCARD                True           23106\nSELECT                 False          20138\nUPDATE                 True           17539\nCOMMIT                 True           13769\nROLLBACK               True           11235\nINSERT                 True            8196\nselect                 True            3567\nBEGIN                  False           2487\nDISCARD                False           2337\nCOMMIT                 False           1753\nROLLBACK               False            672\nUPDATE                 False            599\nWITH                   True             461\nDELETE                 True             432\nSAVEPOINT              True             431\nDELETE                 False            337\nRELEASE                True             150\nselect                 False            146\nSELECT\\xa              True              67\nINSERT                 False             51\n(SELECT                True              47\nWITH                   False             38\nSAVEPOINT              False             33\nSELECT\\xa              False              1\nWITH\\xa                True               1\nLOCK                   True               1\nName: count, dtype: int64"
     },
     "execution_count": 19,
     "metadata": {},
     "output_type": "execute_result"
    }
   ],
   "source": [
    "df_r1_psql[[\"pgsql.query_command_1\", \"keep_event\"]].value_counts(dropna=False)"
   ],
   "metadata": {
    "collapsed": false,
    "ExecuteTime": {
     "end_time": "2024-02-05T15:54:32.750808Z",
     "start_time": "2024-02-05T15:54:32.640482Z"
    }
   },
   "id": "8e70db2ea0837996"
  },
  {
   "cell_type": "markdown",
   "source": [
    "UPDATE and INSERT Commands are only commands that are present in both keep_event classes. However, heavily skew towards keeping them. \n",
    "-> Try including them, else wise rollback and try better filter"
   ],
   "metadata": {
    "collapsed": false
   },
   "id": "e67aacc32f2bf234"
  },
  {
   "cell_type": "code",
   "execution_count": 20,
   "outputs": [],
   "source": [
    "filtered_df = df_r1_psql[\n",
    "    df_r1_psql['pgsql.query'].apply(lambda x: str(x).startswith(('UPDATE', 'INSERT')) if x is not None else True)]"
   ],
   "metadata": {
    "collapsed": false,
    "ExecuteTime": {
     "end_time": "2024-02-05T15:54:32.849767Z",
     "start_time": "2024-02-05T15:54:32.791962Z"
    }
   },
   "id": "edf9171de9e011f2"
  },
  {
   "cell_type": "code",
   "execution_count": 21,
   "outputs": [],
   "source": [
    "# Extra Step for Email PTP Filtering\n",
    "filtered_df = filtered_df[filtered_df[\"pgsql.target\"] != \"mail_tracking_value\"]"
   ],
   "metadata": {
    "collapsed": false,
    "ExecuteTime": {
     "end_time": "2024-02-05T15:54:32.861953Z",
     "start_time": "2024-02-05T15:54:32.850951Z"
    }
   },
   "id": "5cd3d41a61487059"
  },
  {
   "cell_type": "code",
   "execution_count": 22,
   "outputs": [
    {
     "data": {
      "text/plain": "keep_event\nTrue     23736\nFalse      599\nName: count, dtype: int64"
     },
     "execution_count": 22,
     "metadata": {},
     "output_type": "execute_result"
    }
   ],
   "source": [
    "filtered_df[\"keep_event\"].value_counts()"
   ],
   "metadata": {
    "collapsed": false,
    "ExecuteTime": {
     "end_time": "2024-02-05T15:54:32.866634Z",
     "start_time": "2024-02-05T15:54:32.863395Z"
    }
   },
   "id": "82e88ef0a60cf457"
  },
  {
   "cell_type": "markdown",
   "source": [
    "filtered successful. Included the 15 UPDATE and INSERT Commands that were discard events"
   ],
   "metadata": {
    "collapsed": false
   },
   "id": "2eb1e2f91ceea850"
  },
  {
   "cell_type": "markdown",
   "source": [
    "### Complete Filter Steps"
   ],
   "metadata": {
    "collapsed": false
   },
   "id": "e90a5e24b17ba63c"
  },
  {
   "cell_type": "code",
   "execution_count": 23,
   "outputs": [],
   "source": [
    "# test with IL data \n",
    "\n",
    "df_r4 = pd.read_csv('../../data_v3/ptp_il_tagged.csv')\n",
    "df_r1 = pd.read_csv('../../data/PTP-INTERLEAVED/R1/R1.csv', converters={\"MessageAttributes\": ast.literal_eval})"
   ],
   "metadata": {
    "collapsed": false,
    "ExecuteTime": {
     "end_time": "2024-02-05T15:54:37.644378Z",
     "start_time": "2024-02-05T15:54:32.866336Z"
    }
   },
   "id": "e5150dc94d707bb"
  },
  {
   "cell_type": "code",
   "execution_count": 24,
   "outputs": [],
   "source": [
    "# mark keep events for evaluation\n",
    "df_r1[\"keep_event\"] = df_r1[\"frame.number\"].isin(df_r4[\"frame.number\"])"
   ],
   "metadata": {
    "collapsed": false,
    "ExecuteTime": {
     "end_time": "2024-02-05T15:54:37.652150Z",
     "start_time": "2024-02-05T15:54:37.644661Z"
    }
   },
   "id": "da9526bd0499dfd4"
  },
  {
   "cell_type": "code",
   "execution_count": 25,
   "outputs": [],
   "source": [
    "#1 \n",
    "df_r1[\"pgsql.query\"] = df_r1[\"MessageAttributes\"].apply(lambda x: x.get(\"pgsql.query\")).str.strip(' \\\\xa')\n",
    "df_r1[\"pgsql.target\"] = df_r1[\"pgsql.query\"].apply(extract_pgsql_target)\n",
    "\n",
    "\n",
    "#2 \n",
    "# Message Types to keep\n",
    "message_type_filter = {\n",
    "    \"HttpRequest:POST /xmlrpc/2/common HTTP/1.1\\\\r\\\\n\",\n",
    "    \"HttpRequest:POST /xmlrpc/2/object HTTP/1.1\\\\r\\\\n\",\n",
    "    \"HttpResponse:HTTP/1.0 200 OK\\\\r\\\\n\",\n",
    "    \"SmtpReassembledMessage\",\n",
    "    \"PgsqlRequest:Simple query\",\n",
    "}\n",
    "df_r1_filtered = df_r1[df_r1[\"MessageType\"].isin(message_type_filter)]\n",
    "\n",
    "#3 \n",
    "filtered_df = df_r1_filtered[\n",
    "    df_r1_filtered['pgsql.query'].apply(lambda x: str(x).startswith(('UPDATE', 'INSERT')) if x is not None else True)]\n",
    "\n",
    "\n",
    "# Extra Step for Email PTP Filtering\n",
    "filtered_df = filtered_df[filtered_df[\"pgsql.target\"] != \"mail_tracking_value\"]\n",
    "\n",
    "\n",
    "filtered_df = filtered_df"
   ],
   "metadata": {
    "collapsed": false,
    "ExecuteTime": {
     "end_time": "2024-02-05T15:54:37.858312Z",
     "start_time": "2024-02-05T15:54:37.663318Z"
    }
   },
   "id": "3665ff1a009eca41"
  },
  {
   "cell_type": "code",
   "execution_count": 26,
   "outputs": [
    {
     "data": {
      "text/plain": "        Unnamed: 0.1  Unnamed: 0  \\\n27                27          29   \n82                82          90   \n86                86          97   \n188              188         210   \n258              258         282   \n...              ...         ...   \n224670        224670      234538   \n224675        224675      234543   \n224680        224680      234548   \n224763        224763      234635   \n224786        224786      234659   \n\n                                               FileName  \\\n27      async_2022_08_03-0336_10_cases_10_interval.pcap   \n82      async_2022_08_03-0336_10_cases_10_interval.pcap   \n86      async_2022_08_03-0336_10_cases_10_interval.pcap   \n188     async_2022_08_03-0336_10_cases_10_interval.pcap   \n258     async_2022_08_03-0336_10_cases_10_interval.pcap   \n...                                                 ...   \n224670  async_2022_08_03-0336_10_cases_10_interval.pcap   \n224675  async_2022_08_03-0336_10_cases_10_interval.pcap   \n224680  async_2022_08_03-0336_10_cases_10_interval.pcap   \n224763  async_2022_08_03-0336_10_cases_10_interval.pcap   \n224786  async_2022_08_03-0336_10_cases_10_interval.pcap   \n\n                         BusinessActivity  InstanceNumber  \\\n27      order_to_cash_interleaved_10cases            2022   \n82      order_to_cash_interleaved_10cases            2022   \n86      order_to_cash_interleaved_10cases            2022   \n188     order_to_cash_interleaved_10cases            2022   \n258     order_to_cash_interleaved_10cases            2022   \n...                                   ...             ...   \n224670  order_to_cash_interleaved_10cases            2022   \n224675  order_to_cash_interleaved_10cases            2022   \n224680  order_to_cash_interleaved_10cases            2022   \n224763  order_to_cash_interleaved_10cases            2022   \n224786  order_to_cash_interleaved_10cases            2022   \n\n                        sniff_time  frame.number        synthetic_sniff_time  \\\n27      2022-08-03 13:36:21.687676            96  2022-08-04 21:07:16.297676   \n82      2022-08-03 13:36:21.958633           137  2022-08-04 21:52:26.138633   \n86      2022-08-03 13:36:21.960536           145  2022-08-04 21:52:45.170536   \n188     2022-08-03 13:36:22.298610           209  2022-08-04 22:49:06.248610   \n258     2022-08-03 13:36:22.413521           232  2022-08-04 23:08:15.473521   \n...                            ...           ...                         ...   \n224670  2022-08-03 13:38:49.467434        112133  2022-08-21 23:39:41.657434   \n224675  2022-08-03 13:38:49.471018        112135  2022-08-21 23:40:17.501018   \n224680  2022-08-03 13:38:49.471760        112137  2022-08-21 23:40:24.921760   \n224763  2022-08-03 13:38:49.487802        112175  2022-08-21 23:43:05.357802   \n224786  2022-08-03 13:38:49.497468        112188  2022-08-21 23:44:42.027468   \n\n          synthetic_sniff_time_str              session_generalized  \\\n27      2022-08-04 21:07:16.297676   192.168.11.2-192.168.11.10 (1)   \n82      2022-08-04 21:52:26.138633   192.168.11.2-192.168.11.10 (1)   \n86      2022-08-04 21:52:45.170536   192.168.11.2-192.168.11.10 (2)   \n188     2022-08-04 22:49:06.248610    192.168.11.1-192.168.11.2 (7)   \n258     2022-08-04 23:08:15.473521   192.168.11.2-192.168.11.10 (2)   \n...                            ...                              ...   \n224670  2022-08-21 23:39:41.657434    192.168.11.1-192.168.11.2 (4)   \n224675  2022-08-21 23:40:17.501018    192.168.11.1-192.168.11.2 (4)   \n224680  2022-08-21 23:40:24.921760    192.168.11.1-192.168.11.2 (4)   \n224763  2022-08-21 23:43:05.357802    192.168.11.1-192.168.11.2 (4)   \n224786  2022-08-21 23:44:42.027468  192.168.11.2-192.168.11.21 (24)   \n\n       HighestLayerProtocol  \\\n27                     http   \n82                     http   \n86                     http   \n188                   pgsql   \n258                    http   \n...                     ...   \n224670                pgsql   \n224675                pgsql   \n224680                pgsql   \n224763                pgsql   \n224786                 http   \n\n                                     MessageType_WithRole  \\\n27      End Point (Employee)->Odoo Application:[HttpRe...   \n82      Odoo Application->End Point (Employee):[HttpRe...   \n86      End Point (Employee)->Odoo Application:[HttpRe...   \n188     Odoo Application->db Server/Mail Server:[Pgsql...   \n258     Odoo Application->End Point (Employee):[HttpRe...   \n...                                                   ...   \n224670  Odoo Application->db Server/Mail Server:[Pgsql...   \n224675  Odoo Application->db Server/Mail Server:[Pgsql...   \n224680  Odoo Application->db Server/Mail Server:[Pgsql...   \n224763  Odoo Application->db Server/Mail Server:[Pgsql...   \n224786  Odoo Application->End Point (Finance):[HttpRes...   \n\n                                           MessageType  \\\n27      HttpRequest:POST /xmlrpc/2/common HTTP/1.1\\r\\n   \n82                    HttpResponse:HTTP/1.0 200 OK\\r\\n   \n86      HttpRequest:POST /xmlrpc/2/common HTTP/1.1\\r\\n   \n188                          PgsqlRequest:Simple query   \n258                   HttpResponse:HTTP/1.0 200 OK\\r\\n   \n...                                                ...   \n224670                       PgsqlRequest:Simple query   \n224675                       PgsqlRequest:Simple query   \n224680                       PgsqlRequest:Simple query   \n224763                       PgsqlRequest:Simple query   \n224786                HttpResponse:HTTP/1.0 200 OK\\r\\n   \n\n                                        MessageAttributes  keep_event  \\\n27      {'': 'POST /xmlrpc/2/common HTTP/1.1\\r\\n', '_w...        True   \n82      {'': 'HTTP/1.0 200 OK\\r\\n', '_ws.expert': 'Exp...        True   \n86      {'': 'POST /xmlrpc/2/common HTTP/1.1\\r\\n', '_w...        True   \n188     {'pgsql.type': 'Simple query', 'pgsql.length':...        True   \n258     {'': 'HTTP/1.0 200 OK\\r\\n', '_ws.expert': 'Exp...        True   \n...                                                   ...         ...   \n224670  {'pgsql.type': 'Simple query', 'pgsql.length':...        True   \n224675  {'pgsql.type': 'Simple query', 'pgsql.length':...        True   \n224680  {'pgsql.type': 'Simple query', 'pgsql.length':...        True   \n224763  {'pgsql.type': 'Simple query', 'pgsql.length':...        True   \n224786  {'': 'HTTP/1.0 200 OK\\r\\n', '_ws.expert': 'Exp...        True   \n\n                                              pgsql.query  \\\n27                                                   None   \n82                                                   None   \n86                                                   None   \n188     INSERT INTO \"res_users_log\" (\"id\", \"create_uid...   \n258                                                  None   \n...                                                   ...   \n224670  INSERT INTO \"account_payment\" (\"id\", \"create_u...   \n224675  INSERT INTO \"mail_followers\" (\"id\", \"partner_i...   \n224680  INSERT INTO mail_followers_mail_message_subtyp...   \n224763  INSERT INTO \"mail_message\" (\"id\", \"create_uid\"...   \n224786                                               None   \n\n                                   pgsql.target  \n27                                         None  \n82                                         None  \n86                                         None  \n188                               res_users_log  \n258                                        None  \n...                                         ...  \n224670                          account_payment  \n224675                           mail_followers  \n224680  mail_followers_mail_message_subtype_rel  \n224763                             mail_message  \n224786                                     None  \n\n[3599 rows x 17 columns]",
      "text/html": "<div>\n<style scoped>\n    .dataframe tbody tr th:only-of-type {\n        vertical-align: middle;\n    }\n\n    .dataframe tbody tr th {\n        vertical-align: top;\n    }\n\n    .dataframe thead th {\n        text-align: right;\n    }\n</style>\n<table border=\"1\" class=\"dataframe\">\n  <thead>\n    <tr style=\"text-align: right;\">\n      <th></th>\n      <th>Unnamed: 0.1</th>\n      <th>Unnamed: 0</th>\n      <th>FileName</th>\n      <th>BusinessActivity</th>\n      <th>InstanceNumber</th>\n      <th>sniff_time</th>\n      <th>frame.number</th>\n      <th>synthetic_sniff_time</th>\n      <th>synthetic_sniff_time_str</th>\n      <th>session_generalized</th>\n      <th>HighestLayerProtocol</th>\n      <th>MessageType_WithRole</th>\n      <th>MessageType</th>\n      <th>MessageAttributes</th>\n      <th>keep_event</th>\n      <th>pgsql.query</th>\n      <th>pgsql.target</th>\n    </tr>\n  </thead>\n  <tbody>\n    <tr>\n      <th>27</th>\n      <td>27</td>\n      <td>29</td>\n      <td>async_2022_08_03-0336_10_cases_10_interval.pcap</td>\n      <td>order_to_cash_interleaved_10cases</td>\n      <td>2022</td>\n      <td>2022-08-03 13:36:21.687676</td>\n      <td>96</td>\n      <td>2022-08-04 21:07:16.297676</td>\n      <td>2022-08-04 21:07:16.297676</td>\n      <td>192.168.11.2-192.168.11.10 (1)</td>\n      <td>http</td>\n      <td>End Point (Employee)-&gt;Odoo Application:[HttpRe...</td>\n      <td>HttpRequest:POST /xmlrpc/2/common HTTP/1.1\\r\\n</td>\n      <td>{'': 'POST /xmlrpc/2/common HTTP/1.1\\r\\n', '_w...</td>\n      <td>True</td>\n      <td>None</td>\n      <td>None</td>\n    </tr>\n    <tr>\n      <th>82</th>\n      <td>82</td>\n      <td>90</td>\n      <td>async_2022_08_03-0336_10_cases_10_interval.pcap</td>\n      <td>order_to_cash_interleaved_10cases</td>\n      <td>2022</td>\n      <td>2022-08-03 13:36:21.958633</td>\n      <td>137</td>\n      <td>2022-08-04 21:52:26.138633</td>\n      <td>2022-08-04 21:52:26.138633</td>\n      <td>192.168.11.2-192.168.11.10 (1)</td>\n      <td>http</td>\n      <td>Odoo Application-&gt;End Point (Employee):[HttpRe...</td>\n      <td>HttpResponse:HTTP/1.0 200 OK\\r\\n</td>\n      <td>{'': 'HTTP/1.0 200 OK\\r\\n', '_ws.expert': 'Exp...</td>\n      <td>True</td>\n      <td>None</td>\n      <td>None</td>\n    </tr>\n    <tr>\n      <th>86</th>\n      <td>86</td>\n      <td>97</td>\n      <td>async_2022_08_03-0336_10_cases_10_interval.pcap</td>\n      <td>order_to_cash_interleaved_10cases</td>\n      <td>2022</td>\n      <td>2022-08-03 13:36:21.960536</td>\n      <td>145</td>\n      <td>2022-08-04 21:52:45.170536</td>\n      <td>2022-08-04 21:52:45.170536</td>\n      <td>192.168.11.2-192.168.11.10 (2)</td>\n      <td>http</td>\n      <td>End Point (Employee)-&gt;Odoo Application:[HttpRe...</td>\n      <td>HttpRequest:POST /xmlrpc/2/common HTTP/1.1\\r\\n</td>\n      <td>{'': 'POST /xmlrpc/2/common HTTP/1.1\\r\\n', '_w...</td>\n      <td>True</td>\n      <td>None</td>\n      <td>None</td>\n    </tr>\n    <tr>\n      <th>188</th>\n      <td>188</td>\n      <td>210</td>\n      <td>async_2022_08_03-0336_10_cases_10_interval.pcap</td>\n      <td>order_to_cash_interleaved_10cases</td>\n      <td>2022</td>\n      <td>2022-08-03 13:36:22.298610</td>\n      <td>209</td>\n      <td>2022-08-04 22:49:06.248610</td>\n      <td>2022-08-04 22:49:06.248610</td>\n      <td>192.168.11.1-192.168.11.2 (7)</td>\n      <td>pgsql</td>\n      <td>Odoo Application-&gt;db Server/Mail Server:[Pgsql...</td>\n      <td>PgsqlRequest:Simple query</td>\n      <td>{'pgsql.type': 'Simple query', 'pgsql.length':...</td>\n      <td>True</td>\n      <td>INSERT INTO \"res_users_log\" (\"id\", \"create_uid...</td>\n      <td>res_users_log</td>\n    </tr>\n    <tr>\n      <th>258</th>\n      <td>258</td>\n      <td>282</td>\n      <td>async_2022_08_03-0336_10_cases_10_interval.pcap</td>\n      <td>order_to_cash_interleaved_10cases</td>\n      <td>2022</td>\n      <td>2022-08-03 13:36:22.413521</td>\n      <td>232</td>\n      <td>2022-08-04 23:08:15.473521</td>\n      <td>2022-08-04 23:08:15.473521</td>\n      <td>192.168.11.2-192.168.11.10 (2)</td>\n      <td>http</td>\n      <td>Odoo Application-&gt;End Point (Employee):[HttpRe...</td>\n      <td>HttpResponse:HTTP/1.0 200 OK\\r\\n</td>\n      <td>{'': 'HTTP/1.0 200 OK\\r\\n', '_ws.expert': 'Exp...</td>\n      <td>True</td>\n      <td>None</td>\n      <td>None</td>\n    </tr>\n    <tr>\n      <th>...</th>\n      <td>...</td>\n      <td>...</td>\n      <td>...</td>\n      <td>...</td>\n      <td>...</td>\n      <td>...</td>\n      <td>...</td>\n      <td>...</td>\n      <td>...</td>\n      <td>...</td>\n      <td>...</td>\n      <td>...</td>\n      <td>...</td>\n      <td>...</td>\n      <td>...</td>\n      <td>...</td>\n      <td>...</td>\n    </tr>\n    <tr>\n      <th>224670</th>\n      <td>224670</td>\n      <td>234538</td>\n      <td>async_2022_08_03-0336_10_cases_10_interval.pcap</td>\n      <td>order_to_cash_interleaved_10cases</td>\n      <td>2022</td>\n      <td>2022-08-03 13:38:49.467434</td>\n      <td>112133</td>\n      <td>2022-08-21 23:39:41.657434</td>\n      <td>2022-08-21 23:39:41.657434</td>\n      <td>192.168.11.1-192.168.11.2 (4)</td>\n      <td>pgsql</td>\n      <td>Odoo Application-&gt;db Server/Mail Server:[Pgsql...</td>\n      <td>PgsqlRequest:Simple query</td>\n      <td>{'pgsql.type': 'Simple query', 'pgsql.length':...</td>\n      <td>True</td>\n      <td>INSERT INTO \"account_payment\" (\"id\", \"create_u...</td>\n      <td>account_payment</td>\n    </tr>\n    <tr>\n      <th>224675</th>\n      <td>224675</td>\n      <td>234543</td>\n      <td>async_2022_08_03-0336_10_cases_10_interval.pcap</td>\n      <td>order_to_cash_interleaved_10cases</td>\n      <td>2022</td>\n      <td>2022-08-03 13:38:49.471018</td>\n      <td>112135</td>\n      <td>2022-08-21 23:40:17.501018</td>\n      <td>2022-08-21 23:40:17.501018</td>\n      <td>192.168.11.1-192.168.11.2 (4)</td>\n      <td>pgsql</td>\n      <td>Odoo Application-&gt;db Server/Mail Server:[Pgsql...</td>\n      <td>PgsqlRequest:Simple query</td>\n      <td>{'pgsql.type': 'Simple query', 'pgsql.length':...</td>\n      <td>True</td>\n      <td>INSERT INTO \"mail_followers\" (\"id\", \"partner_i...</td>\n      <td>mail_followers</td>\n    </tr>\n    <tr>\n      <th>224680</th>\n      <td>224680</td>\n      <td>234548</td>\n      <td>async_2022_08_03-0336_10_cases_10_interval.pcap</td>\n      <td>order_to_cash_interleaved_10cases</td>\n      <td>2022</td>\n      <td>2022-08-03 13:38:49.471760</td>\n      <td>112137</td>\n      <td>2022-08-21 23:40:24.921760</td>\n      <td>2022-08-21 23:40:24.921760</td>\n      <td>192.168.11.1-192.168.11.2 (4)</td>\n      <td>pgsql</td>\n      <td>Odoo Application-&gt;db Server/Mail Server:[Pgsql...</td>\n      <td>PgsqlRequest:Simple query</td>\n      <td>{'pgsql.type': 'Simple query', 'pgsql.length':...</td>\n      <td>True</td>\n      <td>INSERT INTO mail_followers_mail_message_subtyp...</td>\n      <td>mail_followers_mail_message_subtype_rel</td>\n    </tr>\n    <tr>\n      <th>224763</th>\n      <td>224763</td>\n      <td>234635</td>\n      <td>async_2022_08_03-0336_10_cases_10_interval.pcap</td>\n      <td>order_to_cash_interleaved_10cases</td>\n      <td>2022</td>\n      <td>2022-08-03 13:38:49.487802</td>\n      <td>112175</td>\n      <td>2022-08-21 23:43:05.357802</td>\n      <td>2022-08-21 23:43:05.357802</td>\n      <td>192.168.11.1-192.168.11.2 (4)</td>\n      <td>pgsql</td>\n      <td>Odoo Application-&gt;db Server/Mail Server:[Pgsql...</td>\n      <td>PgsqlRequest:Simple query</td>\n      <td>{'pgsql.type': 'Simple query', 'pgsql.length':...</td>\n      <td>True</td>\n      <td>INSERT INTO \"mail_message\" (\"id\", \"create_uid\"...</td>\n      <td>mail_message</td>\n    </tr>\n    <tr>\n      <th>224786</th>\n      <td>224786</td>\n      <td>234659</td>\n      <td>async_2022_08_03-0336_10_cases_10_interval.pcap</td>\n      <td>order_to_cash_interleaved_10cases</td>\n      <td>2022</td>\n      <td>2022-08-03 13:38:49.497468</td>\n      <td>112188</td>\n      <td>2022-08-21 23:44:42.027468</td>\n      <td>2022-08-21 23:44:42.027468</td>\n      <td>192.168.11.2-192.168.11.21 (24)</td>\n      <td>http</td>\n      <td>Odoo Application-&gt;End Point (Finance):[HttpRes...</td>\n      <td>HttpResponse:HTTP/1.0 200 OK\\r\\n</td>\n      <td>{'': 'HTTP/1.0 200 OK\\r\\n', '_ws.expert': 'Exp...</td>\n      <td>True</td>\n      <td>None</td>\n      <td>None</td>\n    </tr>\n  </tbody>\n</table>\n<p>3599 rows × 17 columns</p>\n</div>"
     },
     "execution_count": 26,
     "metadata": {},
     "output_type": "execute_result"
    }
   ],
   "source": [
    "filtered_df"
   ],
   "metadata": {
    "collapsed": false,
    "ExecuteTime": {
     "end_time": "2024-02-05T15:54:37.870160Z",
     "start_time": "2024-02-05T15:54:37.865743Z"
    }
   },
   "id": "90714814135a32e9"
  },
  {
   "cell_type": "code",
   "execution_count": 27,
   "outputs": [
    {
     "data": {
      "text/plain": "keep_event\nFalse    221171\nTrue        118\nName: count, dtype: int64"
     },
     "execution_count": 27,
     "metadata": {},
     "output_type": "execute_result"
    }
   ],
   "source": [
    "dropped_values = df_r1.drop(filtered_df.index)\n",
    "dropped_values[\"keep_event\"].value_counts()"
   ],
   "metadata": {
    "collapsed": false,
    "ExecuteTime": {
     "end_time": "2024-02-05T15:54:37.928119Z",
     "start_time": "2024-02-05T15:54:37.869676Z"
    }
   },
   "id": "129037dd3d02be08"
  },
  {
   "cell_type": "markdown",
   "source": [
    "dropped values only contain False keep events. \n",
    "No keep events are kept in the by the filter"
   ],
   "metadata": {
    "collapsed": false
   },
   "id": "a04efda0ab60860e"
  },
  {
   "cell_type": "code",
   "execution_count": 28,
   "outputs": [
    {
     "data": {
      "text/plain": "keep_event\nTrue    3599\nName: count, dtype: int64"
     },
     "execution_count": 28,
     "metadata": {},
     "output_type": "execute_result"
    }
   ],
   "source": [
    "filtered_df[\"keep_event\"].value_counts()"
   ],
   "metadata": {
    "collapsed": false,
    "ExecuteTime": {
     "end_time": "2024-02-05T15:54:37.928294Z",
     "start_time": "2024-02-05T15:54:37.900562Z"
    }
   },
   "id": "1583a1efbe3fca36"
  },
  {
   "cell_type": "markdown",
   "source": [
    "all keep_events are included in the filtered Dataframe\n",
    "The 15 Update and Insert Events are also included. "
   ],
   "metadata": {
    "collapsed": false
   },
   "id": "c96dd7485597205d"
  },
  {
   "cell_type": "markdown",
   "source": [
    "## Feature Engineering\n",
    "**Goal**: Extract Features required for classification from raw message attributes that are available in R1 abstraction level\n",
    "**Evaluation**: Compare with R4 extracted features\n"
   ],
   "metadata": {
    "collapsed": false
   },
   "id": "7c4f20b6b693b4fc"
  },
  {
   "cell_type": "markdown",
   "source": [
    "### Prerequisites\n",
    "The following features are required for classification:\n",
    "\n",
    "event with roles\n",
    ": acb\n",
    "\n",
    "request method call\n",
    ": def\n",
    "\n",
    "selective_filter_data\n",
    ": cde\n",
    "\n",
    "origin_selective_filter_data\n",
    ": def\n"
   ],
   "metadata": {
    "collapsed": false
   },
   "id": "dd4e5f14bfebb06"
  },
  {
   "cell_type": "code",
   "execution_count": 29,
   "outputs": [],
   "source": [
    "# test with IL data \n",
    "\n",
    "df_r4 = pd.read_csv('../../data_v3/ptp_il_tagged.csv')\n",
    "df = filtered_df"
   ],
   "metadata": {
    "collapsed": false,
    "ExecuteTime": {
     "end_time": "2024-02-05T15:54:37.951319Z",
     "start_time": "2024-02-05T15:54:37.903516Z"
    }
   },
   "id": "ac3f09425cf5a12d"
  },
  {
   "cell_type": "markdown",
   "source": [
    "### Feature Extraction"
   ],
   "metadata": {
    "collapsed": false
   },
   "id": "b4cdd57028e78a74"
  },
  {
   "cell_type": "markdown",
   "source": [
    "#### Event with Roles\n",
    "Captures the involved roles as well as the event that takes place"
   ],
   "metadata": {
    "collapsed": false
   },
   "id": "a5d333126115d10e"
  },
  {
   "cell_type": "code",
   "execution_count": 30,
   "outputs": [],
   "source": [
    "# introduce isolated Role Column\n",
    "df[\"roles\"] = df[\"MessageType_WithRole\"].str.split(\":\").str[0]"
   ],
   "metadata": {
    "collapsed": false,
    "ExecuteTime": {
     "end_time": "2024-02-05T15:54:37.951493Z",
     "start_time": "2024-02-05T15:54:37.942439Z"
    }
   },
   "id": "1d6d8b8c91a317d7"
  },
  {
   "cell_type": "code",
   "execution_count": 31,
   "outputs": [],
   "source": [
    "\n",
    "\n",
    "\n",
    "def extract_pgsql_target(command):\n",
    "    \"\"\"\n",
    "    Extracts the target of the pgsql command. \n",
    "    :param command: pgsql query\n",
    "    :return: the target of the pgsql command. \n",
    "    \"\"\"\n",
    "    if command is not None:\n",
    "        match = re.search(r'(?:INSERT INTO|UPDATE)\\s+\"?([^\"\\s]+)', command)\n",
    "        return match.group(1) if match else None\n",
    "    return None\n",
    "\n",
    "\n",
    "# Extract first Keyword from Query\n",
    "df[\"pgsql.query_0\"] = df[\"pgsql.query\"].str.split(\" \").str[0]\n",
    "\n",
    "# Extract target from Query\n",
    "df[\"pgsql.target\"] = df['pgsql.query'].apply(extract_pgsql_target)"
   ],
   "metadata": {
    "collapsed": false,
    "ExecuteTime": {
     "end_time": "2024-02-05T15:54:37.975711Z",
     "start_time": "2024-02-05T15:54:37.953944Z"
    }
   },
   "id": "129cfc873d640989"
  },
  {
   "cell_type": "code",
   "execution_count": 32,
   "outputs": [],
   "source": [
    "def set_event_with_roles(row):\n",
    "    sep = \": \"\n",
    "    res = [row[\"MessageType_WithRole\"]]\n",
    "    if row[\"pgsql.query_0\"]:\n",
    "        res.append(row[\"pgsql.query_0\"])\n",
    "    if row[\"pgsql.target\"]:\n",
    "        res.append(row[\"pgsql.target\"])\n",
    "    return \": \".join(res)\n",
    "\n",
    "\n",
    "\n",
    "\n",
    "df[\"event_with_roles\"] = df.apply(set_event_with_roles, axis=1)"
   ],
   "metadata": {
    "collapsed": false,
    "ExecuteTime": {
     "end_time": "2024-02-05T15:54:37.996192Z",
     "start_time": "2024-02-05T15:54:37.958195Z"
    }
   },
   "id": "99b7942b006edcc6"
  },
  {
   "cell_type": "markdown",
   "source": [
    "#### HTTP Features\n",
    "extract additional features for HTTP requests"
   ],
   "metadata": {
    "collapsed": false
   },
   "id": "440e13f3d588ea7c"
  },
  {
   "cell_type": "code",
   "execution_count": 33,
   "outputs": [],
   "source": [
    "# Extract XML http file data from Message Attributes\n",
    "df[\"http_file_data\"] = df[\"MessageAttributes\"].apply(lambda x: x.get(\"http.file_data\", None))\n",
    "# Only for response packets: Specifies the request packet a response is referring to\n",
    "df[\"http_request_in\"] = df[\"MessageAttributes\"].apply(lambda x: x.get(\"http.request_in\", pd.NA)).astype(\"Int64\")"
   ],
   "metadata": {
    "collapsed": false,
    "ExecuteTime": {
     "end_time": "2024-02-05T15:54:37.996359Z",
     "start_time": "2024-02-05T15:54:37.992562Z"
    }
   },
   "id": "48b59d878911aa3"
  },
  {
   "cell_type": "code",
   "execution_count": 34,
   "outputs": [],
   "source": [
    "from lxml import etree\n",
    "\n",
    "#TODO Adjust\n",
    "setting = \"PTP\"\n",
    "\n",
    "\n",
    "def extract_http_file_data(data):\n",
    "    \n",
    "\n",
    "    if data is not None:\n",
    "        #print(content)\n",
    "        file_data = []\n",
    "        selective_file_data = None\n",
    "        method_call = None\n",
    "\n",
    "        content = data.replace(\"\\\\xa\", \"\")\n",
    "        root = etree.fromstring(content)\n",
    "\n",
    "        method_type = root.find(\".\").tag\n",
    "\n",
    "        # extract method call\n",
    "        if method_type == \"methodCall\":\n",
    "            method_name = root.find(\".//methodName\")\n",
    "            if method_name is not None:\n",
    "                method_call = method_name.text\n",
    "\n",
    "        elif method_type == \"methodResponse\":\n",
    "            method_call = \"response\"\n",
    "\n",
    "            # Extract parameters\n",
    "        params = root.find(\".//params\")\n",
    "        if params is not None:\n",
    "            file_data = root.find(\".//params\").xpath('.//text()')\n",
    "            # process data \n",
    "            if method_call == \"execute_kw\" or method_call == \"id\":\n",
    "                if 'salary_proposed' in file_data:\n",
    "                    selective_file_data = \"_\".join([*file_data[3:5], file_data[-2]])\n",
    "                elif 'search_read' in file_data:\n",
    "                    if setting == \"HR\":\n",
    "                        selective_file_data = \"_\".join([*file_data[3:5], file_data[-1]])\n",
    "                    else: \n",
    "                        selective_file_data = \"_\".join([*file_data[3:5]])\n",
    "                elif 'salary_expected' in file_data:\n",
    "                    selective_file_data = \"_\".join([*file_data[3:5], file_data[6]])\n",
    "                elif 'mail.activity' in file_data:\n",
    "                    selective_file_data = \"_\".join(file_data[3:5]) if 'action_done' in file_data else \"_\".join(\n",
    "                        [*file_data[3:5], file_data[-1]])\n",
    "                elif 'stage_id' in file_data:\n",
    "                    selective_file_data = \"_\".join([*file_data[3:5], *file_data[-2:]])\n",
    "                else:\n",
    "                    selective_file_data = \"_\".join(file_data[3:5])\n",
    "            elif method_call == \"response\":\n",
    "                method_call = file_data[0]\n",
    "                if method_call == \"id\":\n",
    "                    if 'name' in file_data: \n",
    "                        pass\n",
    "                    if 'salary_expected' in file_data: \n",
    "                        selective_file_data = \"salary_expected\"  \n",
    "                        \n",
    "                    else: \n",
    "                        selective_file_data = file_data[2]\n",
    "                    # if 'picking_ids' in file_data: \n",
    "                    #     selective_file_data = \"picking_ids\"\n",
    "                    # if 'move_line_ids' in file_data: \n",
    "                    #     selective_file_data = \"move_line_ids\"\n",
    "                    # if ''\n",
    "                elif method_call.isdigit():\n",
    "                    method_call = \"IsNumber\"\n",
    "                    selective_file_data = \"IsNumber\"\n",
    "                elif method_call == \"server_version\":\n",
    "                    selective_file_data = \"server_version\"\n",
    "                else:\n",
    "                    selective_file_data = \"_\".join(file_data[-2:])\n",
    "\n",
    "\n",
    "            elif method_call == \"version\":\n",
    "                selective_file_data = \"version\"\n",
    "\n",
    "        elif method_call == \"response\":\n",
    "            method_call = \"faultCode\"\n",
    "            selective_file_data = \"faultCode\"\n",
    "\n",
    "        return method_call, file_data, selective_file_data\n",
    "\n",
    "    return \"\",\"\",\"\"\n",
    "\n",
    "\n",
    "#df[[\"request_method_call\", \"file_data\", \"selective_file_data\"]] = df.apply(lambda x: extract_http_file_data(x[\"http_file_data\"]), axis=1,result_type=\"expand\")"
   ],
   "metadata": {
    "collapsed": false,
    "ExecuteTime": {
     "end_time": "2024-02-05T15:54:38.019852Z",
     "start_time": "2024-02-05T15:54:38.000907Z"
    }
   },
   "id": "8d69d2d0a48452a6"
  },
  {
   "cell_type": "code",
   "execution_count": 35,
   "outputs": [
    {
     "data": {
      "text/plain": "      Unnamed: 0.2  Unnamed: 0.1  Unnamed: 0  \\\n4                4             4           4   \n19              19            19          19   \n41              41            41          41   \n46              46            46          46   \n53              53            53          53   \n...            ...           ...         ...   \n3632          3632          3632        3632   \n3651          3651          3651        3651   \n3664          3664          3664        3664   \n3710          3710          3710        3710   \n3716          3716          3716        3716   \n\n                       BusinessActivity  InstanceNumber  \\\n4     order_to_cash_interleaved_10cases            2022   \n19    order_to_cash_interleaved_10cases            2022   \n41    order_to_cash_interleaved_10cases            2022   \n46    order_to_cash_interleaved_10cases            2022   \n53    order_to_cash_interleaved_10cases            2022   \n...                                 ...             ...   \n3632  order_to_cash_interleaved_10cases            2022   \n3651  order_to_cash_interleaved_10cases            2022   \n3664  order_to_cash_interleaved_10cases            2022   \n3710  order_to_cash_interleaved_10cases            2022   \n3716  order_to_cash_interleaved_10cases            2022   \n\n                      sniff_time  frame.number        synthetic_sniff_time  \\\n4     2022-08-03 13:36:22.413521           232  2022-08-04 23:08:15.473521   \n19    2022-08-03 13:36:23.562064           778  2022-08-05 02:19:42.052064   \n41    2022-08-03 13:36:24.112864          1322  2022-08-05 03:51:30.602864   \n46    2022-08-03 13:36:26.451943          1462  2022-08-05 10:21:23.731943   \n53    2022-08-03 13:36:26.669104          1658  2022-08-05 10:57:35.559104   \n...                          ...           ...                         ...   \n3632  2022-08-03 13:38:48.099459        109851  2022-08-21 19:51:40.539459   \n3651  2022-08-03 13:38:48.578463        110583  2022-08-21 21:11:31.058463   \n3664  2022-08-03 13:38:48.816709        110961  2022-08-21 21:51:13.756709   \n3710  2022-08-03 13:38:49.416259        112076  2022-08-21 23:31:09.856259   \n3716  2022-08-03 13:38:49.497468        112188  2022-08-21 23:44:42.027468   \n\n                                       event_with_roles request_method_call  \\\n4     Odoo Application->End Point (Employee): [HttpR...                   2   \n19    Odoo Application->End Point (Employee): [HttpR...                 375   \n41    Odoo Application->End Point (Employee): [HttpR...                 399   \n46    Odoo Application->End Point (Procurement): [Ht...                   2   \n53    Odoo Application->End Point (Procurement): [Ht...                 338   \n...                                                 ...                 ...   \n3632  Odoo Application->End Point (Finance): [HttpRe...                   2   \n3651  Odoo Application->End Point (Finance): [HttpRe...                 253   \n3664  Odoo Application->End Point (Finance): [HttpRe...                 257   \n3710  Odoo Application->End Point (Finance): [HttpRe...                   1   \n3716  Odoo Application->End Point (Finance): [HttpRe...                 246   \n\n      ... account_move_id stock_move_id group_id picking_id  invoice_id  \\\n4     ...             NaN           NaN      NaN        NaN         NaN   \n19    ...             NaN           NaN      NaN        NaN         NaN   \n41    ...             NaN           NaN      NaN        NaN         NaN   \n46    ...             NaN           NaN      NaN        NaN         NaN   \n53    ...             NaN           NaN      NaN        NaN         NaN   \n...   ...             ...           ...      ...        ...         ...   \n3632  ...             NaN           NaN      NaN        NaN         NaN   \n3651  ...             NaN           NaN      NaN        NaN         NaN   \n3664  ...             NaN           NaN      NaN        NaN         NaN   \n3710  ...             NaN           NaN      NaN        NaN         NaN   \n3716  ...             NaN           NaN      NaN        NaN         NaN   \n\n     stock_picking_id account_invoice_id  stock_move_line_id date  \\\n4                 NaN                NaN                 NaN  NaN   \n19                NaN                NaN                 NaN  NaN   \n41                NaN                NaN                 NaN  NaN   \n46                NaN                NaN                 NaN  NaN   \n53                NaN                NaN                 NaN  NaN   \n...               ...                ...                 ...  ...   \n3632              NaN                NaN                 NaN  NaN   \n3651              NaN                NaN                 NaN  NaN   \n3664              NaN                NaN                 NaN  NaN   \n3710              NaN                NaN                 NaN  NaN   \n3716              NaN                NaN                 NaN  NaN   \n\n     real_activity_action  \n4                NoAction  \n19               NoAction  \n41           Activity End  \n46               NoAction  \n53               NoAction  \n...                   ...  \n3632             NoAction  \n3651             NoAction  \n3664             NoAction  \n3710             NoAction  \n3716         Activity End  \n\n[262 rows x 62 columns]",
      "text/html": "<div>\n<style scoped>\n    .dataframe tbody tr th:only-of-type {\n        vertical-align: middle;\n    }\n\n    .dataframe tbody tr th {\n        vertical-align: top;\n    }\n\n    .dataframe thead th {\n        text-align: right;\n    }\n</style>\n<table border=\"1\" class=\"dataframe\">\n  <thead>\n    <tr style=\"text-align: right;\">\n      <th></th>\n      <th>Unnamed: 0.2</th>\n      <th>Unnamed: 0.1</th>\n      <th>Unnamed: 0</th>\n      <th>BusinessActivity</th>\n      <th>InstanceNumber</th>\n      <th>sniff_time</th>\n      <th>frame.number</th>\n      <th>synthetic_sniff_time</th>\n      <th>event_with_roles</th>\n      <th>request_method_call</th>\n      <th>...</th>\n      <th>account_move_id</th>\n      <th>stock_move_id</th>\n      <th>group_id</th>\n      <th>picking_id</th>\n      <th>invoice_id</th>\n      <th>stock_picking_id</th>\n      <th>account_invoice_id</th>\n      <th>stock_move_line_id</th>\n      <th>date</th>\n      <th>real_activity_action</th>\n    </tr>\n  </thead>\n  <tbody>\n    <tr>\n      <th>4</th>\n      <td>4</td>\n      <td>4</td>\n      <td>4</td>\n      <td>order_to_cash_interleaved_10cases</td>\n      <td>2022</td>\n      <td>2022-08-03 13:36:22.413521</td>\n      <td>232</td>\n      <td>2022-08-04 23:08:15.473521</td>\n      <td>Odoo Application-&gt;End Point (Employee): [HttpR...</td>\n      <td>2</td>\n      <td>...</td>\n      <td>NaN</td>\n      <td>NaN</td>\n      <td>NaN</td>\n      <td>NaN</td>\n      <td>NaN</td>\n      <td>NaN</td>\n      <td>NaN</td>\n      <td>NaN</td>\n      <td>NaN</td>\n      <td>NoAction</td>\n    </tr>\n    <tr>\n      <th>19</th>\n      <td>19</td>\n      <td>19</td>\n      <td>19</td>\n      <td>order_to_cash_interleaved_10cases</td>\n      <td>2022</td>\n      <td>2022-08-03 13:36:23.562064</td>\n      <td>778</td>\n      <td>2022-08-05 02:19:42.052064</td>\n      <td>Odoo Application-&gt;End Point (Employee): [HttpR...</td>\n      <td>375</td>\n      <td>...</td>\n      <td>NaN</td>\n      <td>NaN</td>\n      <td>NaN</td>\n      <td>NaN</td>\n      <td>NaN</td>\n      <td>NaN</td>\n      <td>NaN</td>\n      <td>NaN</td>\n      <td>NaN</td>\n      <td>NoAction</td>\n    </tr>\n    <tr>\n      <th>41</th>\n      <td>41</td>\n      <td>41</td>\n      <td>41</td>\n      <td>order_to_cash_interleaved_10cases</td>\n      <td>2022</td>\n      <td>2022-08-03 13:36:24.112864</td>\n      <td>1322</td>\n      <td>2022-08-05 03:51:30.602864</td>\n      <td>Odoo Application-&gt;End Point (Employee): [HttpR...</td>\n      <td>399</td>\n      <td>...</td>\n      <td>NaN</td>\n      <td>NaN</td>\n      <td>NaN</td>\n      <td>NaN</td>\n      <td>NaN</td>\n      <td>NaN</td>\n      <td>NaN</td>\n      <td>NaN</td>\n      <td>NaN</td>\n      <td>Activity End</td>\n    </tr>\n    <tr>\n      <th>46</th>\n      <td>46</td>\n      <td>46</td>\n      <td>46</td>\n      <td>order_to_cash_interleaved_10cases</td>\n      <td>2022</td>\n      <td>2022-08-03 13:36:26.451943</td>\n      <td>1462</td>\n      <td>2022-08-05 10:21:23.731943</td>\n      <td>Odoo Application-&gt;End Point (Procurement): [Ht...</td>\n      <td>2</td>\n      <td>...</td>\n      <td>NaN</td>\n      <td>NaN</td>\n      <td>NaN</td>\n      <td>NaN</td>\n      <td>NaN</td>\n      <td>NaN</td>\n      <td>NaN</td>\n      <td>NaN</td>\n      <td>NaN</td>\n      <td>NoAction</td>\n    </tr>\n    <tr>\n      <th>53</th>\n      <td>53</td>\n      <td>53</td>\n      <td>53</td>\n      <td>order_to_cash_interleaved_10cases</td>\n      <td>2022</td>\n      <td>2022-08-03 13:36:26.669104</td>\n      <td>1658</td>\n      <td>2022-08-05 10:57:35.559104</td>\n      <td>Odoo Application-&gt;End Point (Procurement): [Ht...</td>\n      <td>338</td>\n      <td>...</td>\n      <td>NaN</td>\n      <td>NaN</td>\n      <td>NaN</td>\n      <td>NaN</td>\n      <td>NaN</td>\n      <td>NaN</td>\n      <td>NaN</td>\n      <td>NaN</td>\n      <td>NaN</td>\n      <td>NoAction</td>\n    </tr>\n    <tr>\n      <th>...</th>\n      <td>...</td>\n      <td>...</td>\n      <td>...</td>\n      <td>...</td>\n      <td>...</td>\n      <td>...</td>\n      <td>...</td>\n      <td>...</td>\n      <td>...</td>\n      <td>...</td>\n      <td>...</td>\n      <td>...</td>\n      <td>...</td>\n      <td>...</td>\n      <td>...</td>\n      <td>...</td>\n      <td>...</td>\n      <td>...</td>\n      <td>...</td>\n      <td>...</td>\n      <td>...</td>\n    </tr>\n    <tr>\n      <th>3632</th>\n      <td>3632</td>\n      <td>3632</td>\n      <td>3632</td>\n      <td>order_to_cash_interleaved_10cases</td>\n      <td>2022</td>\n      <td>2022-08-03 13:38:48.099459</td>\n      <td>109851</td>\n      <td>2022-08-21 19:51:40.539459</td>\n      <td>Odoo Application-&gt;End Point (Finance): [HttpRe...</td>\n      <td>2</td>\n      <td>...</td>\n      <td>NaN</td>\n      <td>NaN</td>\n      <td>NaN</td>\n      <td>NaN</td>\n      <td>NaN</td>\n      <td>NaN</td>\n      <td>NaN</td>\n      <td>NaN</td>\n      <td>NaN</td>\n      <td>NoAction</td>\n    </tr>\n    <tr>\n      <th>3651</th>\n      <td>3651</td>\n      <td>3651</td>\n      <td>3651</td>\n      <td>order_to_cash_interleaved_10cases</td>\n      <td>2022</td>\n      <td>2022-08-03 13:38:48.578463</td>\n      <td>110583</td>\n      <td>2022-08-21 21:11:31.058463</td>\n      <td>Odoo Application-&gt;End Point (Finance): [HttpRe...</td>\n      <td>253</td>\n      <td>...</td>\n      <td>NaN</td>\n      <td>NaN</td>\n      <td>NaN</td>\n      <td>NaN</td>\n      <td>NaN</td>\n      <td>NaN</td>\n      <td>NaN</td>\n      <td>NaN</td>\n      <td>NaN</td>\n      <td>NoAction</td>\n    </tr>\n    <tr>\n      <th>3664</th>\n      <td>3664</td>\n      <td>3664</td>\n      <td>3664</td>\n      <td>order_to_cash_interleaved_10cases</td>\n      <td>2022</td>\n      <td>2022-08-03 13:38:48.816709</td>\n      <td>110961</td>\n      <td>2022-08-21 21:51:13.756709</td>\n      <td>Odoo Application-&gt;End Point (Finance): [HttpRe...</td>\n      <td>257</td>\n      <td>...</td>\n      <td>NaN</td>\n      <td>NaN</td>\n      <td>NaN</td>\n      <td>NaN</td>\n      <td>NaN</td>\n      <td>NaN</td>\n      <td>NaN</td>\n      <td>NaN</td>\n      <td>NaN</td>\n      <td>NoAction</td>\n    </tr>\n    <tr>\n      <th>3710</th>\n      <td>3710</td>\n      <td>3710</td>\n      <td>3710</td>\n      <td>order_to_cash_interleaved_10cases</td>\n      <td>2022</td>\n      <td>2022-08-03 13:38:49.416259</td>\n      <td>112076</td>\n      <td>2022-08-21 23:31:09.856259</td>\n      <td>Odoo Application-&gt;End Point (Finance): [HttpRe...</td>\n      <td>1</td>\n      <td>...</td>\n      <td>NaN</td>\n      <td>NaN</td>\n      <td>NaN</td>\n      <td>NaN</td>\n      <td>NaN</td>\n      <td>NaN</td>\n      <td>NaN</td>\n      <td>NaN</td>\n      <td>NaN</td>\n      <td>NoAction</td>\n    </tr>\n    <tr>\n      <th>3716</th>\n      <td>3716</td>\n      <td>3716</td>\n      <td>3716</td>\n      <td>order_to_cash_interleaved_10cases</td>\n      <td>2022</td>\n      <td>2022-08-03 13:38:49.497468</td>\n      <td>112188</td>\n      <td>2022-08-21 23:44:42.027468</td>\n      <td>Odoo Application-&gt;End Point (Finance): [HttpRe...</td>\n      <td>246</td>\n      <td>...</td>\n      <td>NaN</td>\n      <td>NaN</td>\n      <td>NaN</td>\n      <td>NaN</td>\n      <td>NaN</td>\n      <td>NaN</td>\n      <td>NaN</td>\n      <td>NaN</td>\n      <td>NaN</td>\n      <td>Activity End</td>\n    </tr>\n  </tbody>\n</table>\n<p>262 rows × 62 columns</p>\n</div>"
     },
     "execution_count": 35,
     "metadata": {},
     "output_type": "execute_result"
    }
   ],
   "source": [
    "df_r4[df_r4[\"request_method_call\"].fillna(\"\").str.isnumeric()]"
   ],
   "metadata": {
    "collapsed": false,
    "ExecuteTime": {
     "end_time": "2024-02-05T15:54:38.033079Z",
     "start_time": "2024-02-05T15:54:38.021781Z"
    }
   },
   "id": "7c9c17a397cdae9"
  },
  {
   "cell_type": "code",
   "execution_count": 36,
   "outputs": [
    {
     "data": {
      "text/plain": "event_with_roles                                                                                     request_method_call  file_data                                                                                               \nOdoo Application->db Server/Mail Server: [PgsqlRequest:Simple query:UPDATE:['purchase_order']]       NaN                  []                                                                                                          400\nOdoo Application->db Server/Mail Server: [PgsqlRequest:Simple query:INSERT:['mail_message']]         NaN                  []                                                                                                          315\nOdoo Application->db Server/Mail Server: [PgsqlRequest:Simple query:UPDATE:['purchase_order_line']]  NaN                  []                                                                                                          290\nOdoo Application->db Server/Mail Server: [PgsqlRequest:Simple query:UPDATE:['sale_order_line']]      NaN                  []                                                                                                          214\nOdoo Application->db Server/Mail Server: [PgsqlRequest:Simple query:UPDATE:['account_move_line']]    NaN                  []                                                                                                          136\n                                                                                                                                                                                                                                     ... \nEnd Point (Procurement)->Odoo Application: [HttpRequest:POST /xmlrpc/2/object HTTP/1.1\\r\\n]          execute_kw           ['execute_kw', 'odoo01', '2', 'PWD1234', 'purchase.requisition', 'write', '347', 'state', 'done']             1\n                                                                                                                          ['execute_kw', 'odoo01', '2', 'PWD1234', 'purchase.requisition', 'write', '346', 'state', 'open']             1\n                                                                                                                          ['execute_kw', 'odoo01', '2', 'PWD1234', 'purchase.requisition', 'write', '346', 'state', 'ongoing']          1\n                                                                                                                          ['execute_kw', 'odoo01', '2', 'PWD1234', 'purchase.requisition', 'write', '346', 'state', 'in_progress']      1\nEnd Point (Receive Goods)->Odoo Application: [HttpRequest:POST /xmlrpc/2/object HTTP/1.1\\r\\n]        execute_kw           ['execute_kw', 'odoo01', '2', 'PWD1234', 'stock.move.line', 'write', '268', 'qty_done', '3']                  1\nName: count, Length: 441, dtype: int64"
     },
     "execution_count": 36,
     "metadata": {},
     "output_type": "execute_result"
    }
   ],
   "source": [
    "df_r4[[\"event_with_roles\",\"request_method_call\",\"file_data\"]].value_counts(dropna=False)"
   ],
   "metadata": {
    "collapsed": false,
    "ExecuteTime": {
     "end_time": "2024-02-05T15:54:38.050272Z",
     "start_time": "2024-02-05T15:54:38.032879Z"
    }
   },
   "id": "af8b6726c70a53bf"
  },
  {
   "cell_type": "code",
   "execution_count": 37,
   "outputs": [],
   "source": [
    "# # repalce request method call number \n",
    "# def replace_numeric(value):\n",
    "#     return '' if pd.to_numeric(value, errors='coerce') == value else value\n",
    "# \n",
    "# \n",
    "# df[\"request_method_call\"][pd.notnull(pd.to_numeric(df[\"request_method_call\"], errors='coerce'))] = \"\""
   ],
   "metadata": {
    "collapsed": false,
    "ExecuteTime": {
     "end_time": "2024-02-05T15:54:38.050469Z",
     "start_time": "2024-02-05T15:54:38.042371Z"
    }
   },
   "id": "f5f4da2163df1fc2"
  },
  {
   "cell_type": "code",
   "execution_count": 38,
   "outputs": [],
   "source": [
    "def merge_origin_request(row, df):\n",
    "    if pd.notna(row[\"http_request_in\"]):\n",
    "        instance_number = row[\"InstanceNumber\"]\n",
    "        request_frame = row[\"http_request_in\"]\n",
    "        business_activity = row[\"BusinessActivity\"]\n",
    "        try:\n",
    "            row = df[(df[\"InstanceNumber\"] == instance_number) & (df[\"frame.number\"] == request_frame) & (\n",
    "                    df[\"BusinessActivity\"] == business_activity)].iloc[0]\n",
    "            selective_file_data = row[\"selective_file_data\"]\n",
    "            method_call = row[\"request_method_call\"]\n",
    "            return method_call, selective_file_data\n",
    "        except IndexError:\n",
    "            pass\n",
    "    return None, None\n",
    "\n",
    "\n",
    "#df[[\"origin_method\", \"origin_file_data\"]] = df.apply(merge_origin_request, axis=1, df=df, result_type=\"expand\").fillna(\"\")"
   ],
   "metadata": {
    "collapsed": false,
    "ExecuteTime": {
     "end_time": "2024-02-05T15:54:38.078032Z",
     "start_time": "2024-02-05T15:54:38.045249Z"
    }
   },
   "id": "521403a9f137157"
  },
  {
   "cell_type": "code",
   "execution_count": 39,
   "outputs": [
    {
     "data": {
      "text/plain": "        Unnamed: 0.1  Unnamed: 0  \\\n27                27          29   \n82                82          90   \n86                86          97   \n188              188         210   \n258              258         282   \n...              ...         ...   \n224670        224670      234538   \n224675        224675      234543   \n224680        224680      234548   \n224763        224763      234635   \n224786        224786      234659   \n\n                                               FileName  \\\n27      async_2022_08_03-0336_10_cases_10_interval.pcap   \n82      async_2022_08_03-0336_10_cases_10_interval.pcap   \n86      async_2022_08_03-0336_10_cases_10_interval.pcap   \n188     async_2022_08_03-0336_10_cases_10_interval.pcap   \n258     async_2022_08_03-0336_10_cases_10_interval.pcap   \n...                                                 ...   \n224670  async_2022_08_03-0336_10_cases_10_interval.pcap   \n224675  async_2022_08_03-0336_10_cases_10_interval.pcap   \n224680  async_2022_08_03-0336_10_cases_10_interval.pcap   \n224763  async_2022_08_03-0336_10_cases_10_interval.pcap   \n224786  async_2022_08_03-0336_10_cases_10_interval.pcap   \n\n                         BusinessActivity  InstanceNumber  \\\n27      order_to_cash_interleaved_10cases            2022   \n82      order_to_cash_interleaved_10cases            2022   \n86      order_to_cash_interleaved_10cases            2022   \n188     order_to_cash_interleaved_10cases            2022   \n258     order_to_cash_interleaved_10cases            2022   \n...                                   ...             ...   \n224670  order_to_cash_interleaved_10cases            2022   \n224675  order_to_cash_interleaved_10cases            2022   \n224680  order_to_cash_interleaved_10cases            2022   \n224763  order_to_cash_interleaved_10cases            2022   \n224786  order_to_cash_interleaved_10cases            2022   \n\n                        sniff_time  frame.number        synthetic_sniff_time  \\\n27      2022-08-03 13:36:21.687676            96  2022-08-04 21:07:16.297676   \n82      2022-08-03 13:36:21.958633           137  2022-08-04 21:52:26.138633   \n86      2022-08-03 13:36:21.960536           145  2022-08-04 21:52:45.170536   \n188     2022-08-03 13:36:22.298610           209  2022-08-04 22:49:06.248610   \n258     2022-08-03 13:36:22.413521           232  2022-08-04 23:08:15.473521   \n...                            ...           ...                         ...   \n224670  2022-08-03 13:38:49.467434        112133  2022-08-21 23:39:41.657434   \n224675  2022-08-03 13:38:49.471018        112135  2022-08-21 23:40:17.501018   \n224680  2022-08-03 13:38:49.471760        112137  2022-08-21 23:40:24.921760   \n224763  2022-08-03 13:38:49.487802        112175  2022-08-21 23:43:05.357802   \n224786  2022-08-03 13:38:49.497468        112188  2022-08-21 23:44:42.027468   \n\n          synthetic_sniff_time_str              session_generalized  ...  \\\n27      2022-08-04 21:07:16.297676   192.168.11.2-192.168.11.10 (1)  ...   \n82      2022-08-04 21:52:26.138633   192.168.11.2-192.168.11.10 (1)  ...   \n86      2022-08-04 21:52:45.170536   192.168.11.2-192.168.11.10 (2)  ...   \n188     2022-08-04 22:49:06.248610    192.168.11.1-192.168.11.2 (7)  ...   \n258     2022-08-04 23:08:15.473521   192.168.11.2-192.168.11.10 (2)  ...   \n...                            ...                              ...  ...   \n224670  2022-08-21 23:39:41.657434    192.168.11.1-192.168.11.2 (4)  ...   \n224675  2022-08-21 23:40:17.501018    192.168.11.1-192.168.11.2 (4)  ...   \n224680  2022-08-21 23:40:24.921760    192.168.11.1-192.168.11.2 (4)  ...   \n224763  2022-08-21 23:43:05.357802    192.168.11.1-192.168.11.2 (4)  ...   \n224786  2022-08-21 23:44:42.027468  192.168.11.2-192.168.11.21 (24)  ...   \n\n                                           MessageType  \\\n27      HttpRequest:POST /xmlrpc/2/common HTTP/1.1\\r\\n   \n82                    HttpResponse:HTTP/1.0 200 OK\\r\\n   \n86      HttpRequest:POST /xmlrpc/2/common HTTP/1.1\\r\\n   \n188                          PgsqlRequest:Simple query   \n258                   HttpResponse:HTTP/1.0 200 OK\\r\\n   \n...                                                ...   \n224670                       PgsqlRequest:Simple query   \n224675                       PgsqlRequest:Simple query   \n224680                       PgsqlRequest:Simple query   \n224763                       PgsqlRequest:Simple query   \n224786                HttpResponse:HTTP/1.0 200 OK\\r\\n   \n\n                                        MessageAttributes keep_event  \\\n27      {'': 'POST /xmlrpc/2/common HTTP/1.1\\r\\n', '_w...       True   \n82      {'': 'HTTP/1.0 200 OK\\r\\n', '_ws.expert': 'Exp...       True   \n86      {'': 'POST /xmlrpc/2/common HTTP/1.1\\r\\n', '_w...       True   \n188     {'pgsql.type': 'Simple query', 'pgsql.length':...       True   \n258     {'': 'HTTP/1.0 200 OK\\r\\n', '_ws.expert': 'Exp...       True   \n...                                                   ...        ...   \n224670  {'pgsql.type': 'Simple query', 'pgsql.length':...       True   \n224675  {'pgsql.type': 'Simple query', 'pgsql.length':...       True   \n224680  {'pgsql.type': 'Simple query', 'pgsql.length':...       True   \n224763  {'pgsql.type': 'Simple query', 'pgsql.length':...       True   \n224786  {'': 'HTTP/1.0 200 OK\\r\\n', '_ws.expert': 'Exp...       True   \n\n                                              pgsql.query  \\\n27                                                   None   \n82                                                   None   \n86                                                   None   \n188     INSERT INTO \"res_users_log\" (\"id\", \"create_uid...   \n258                                                  None   \n...                                                   ...   \n224670  INSERT INTO \"account_payment\" (\"id\", \"create_u...   \n224675  INSERT INTO \"mail_followers\" (\"id\", \"partner_i...   \n224680  INSERT INTO mail_followers_mail_message_subtyp...   \n224763  INSERT INTO \"mail_message\" (\"id\", \"create_uid\"...   \n224786                                               None   \n\n                                   pgsql.target  \\\n27                                         None   \n82                                         None   \n86                                         None   \n188                               res_users_log   \n258                                        None   \n...                                         ...   \n224670                          account_payment   \n224675                           mail_followers   \n224680  mail_followers_mail_message_subtype_rel   \n224763                             mail_message   \n224786                                     None   \n\n                                          roles pgsql.query_0  \\\n27       End Point (Employee)->Odoo Application          None   \n82       Odoo Application->End Point (Employee)          None   \n86       End Point (Employee)->Odoo Application          None   \n188     Odoo Application->db Server/Mail Server        INSERT   \n258      Odoo Application->End Point (Employee)          None   \n...                                         ...           ...   \n224670  Odoo Application->db Server/Mail Server        INSERT   \n224675  Odoo Application->db Server/Mail Server        INSERT   \n224680  Odoo Application->db Server/Mail Server        INSERT   \n224763  Odoo Application->db Server/Mail Server        INSERT   \n224786    Odoo Application->End Point (Finance)          None   \n\n                                         event_with_roles  \\\n27      End Point (Employee)->Odoo Application:[HttpRe...   \n82      Odoo Application->End Point (Employee):[HttpRe...   \n86      End Point (Employee)->Odoo Application:[HttpRe...   \n188     Odoo Application->db Server/Mail Server:[Pgsql...   \n258     Odoo Application->End Point (Employee):[HttpRe...   \n...                                                   ...   \n224670  Odoo Application->db Server/Mail Server:[Pgsql...   \n224675  Odoo Application->db Server/Mail Server:[Pgsql...   \n224680  Odoo Application->db Server/Mail Server:[Pgsql...   \n224763  Odoo Application->db Server/Mail Server:[Pgsql...   \n224786  Odoo Application->End Point (Finance):[HttpRes...   \n\n                                           http_file_data http_request_in  \n27      <?xml version='1.0'?>\\xa<methodCall>\\xa<method...            <NA>  \n82      <?xml version='1.0'?>\\xa<methodResponse>\\xa<pa...              96  \n86      <?xml version='1.0'?>\\xa<methodCall>\\xa<method...            <NA>  \n188                                                  None            <NA>  \n258     <?xml version='1.0'?>\\xa<methodResponse>\\xa<pa...             145  \n...                                                   ...             ...  \n224670                                               None            <NA>  \n224675                                               None            <NA>  \n224680                                               None            <NA>  \n224763                                               None            <NA>  \n224786  <?xml version='1.0'?>\\xa<methodResponse>\\xa<pa...          112084  \n\n[3599 rows x 22 columns]",
      "text/html": "<div>\n<style scoped>\n    .dataframe tbody tr th:only-of-type {\n        vertical-align: middle;\n    }\n\n    .dataframe tbody tr th {\n        vertical-align: top;\n    }\n\n    .dataframe thead th {\n        text-align: right;\n    }\n</style>\n<table border=\"1\" class=\"dataframe\">\n  <thead>\n    <tr style=\"text-align: right;\">\n      <th></th>\n      <th>Unnamed: 0.1</th>\n      <th>Unnamed: 0</th>\n      <th>FileName</th>\n      <th>BusinessActivity</th>\n      <th>InstanceNumber</th>\n      <th>sniff_time</th>\n      <th>frame.number</th>\n      <th>synthetic_sniff_time</th>\n      <th>synthetic_sniff_time_str</th>\n      <th>session_generalized</th>\n      <th>...</th>\n      <th>MessageType</th>\n      <th>MessageAttributes</th>\n      <th>keep_event</th>\n      <th>pgsql.query</th>\n      <th>pgsql.target</th>\n      <th>roles</th>\n      <th>pgsql.query_0</th>\n      <th>event_with_roles</th>\n      <th>http_file_data</th>\n      <th>http_request_in</th>\n    </tr>\n  </thead>\n  <tbody>\n    <tr>\n      <th>27</th>\n      <td>27</td>\n      <td>29</td>\n      <td>async_2022_08_03-0336_10_cases_10_interval.pcap</td>\n      <td>order_to_cash_interleaved_10cases</td>\n      <td>2022</td>\n      <td>2022-08-03 13:36:21.687676</td>\n      <td>96</td>\n      <td>2022-08-04 21:07:16.297676</td>\n      <td>2022-08-04 21:07:16.297676</td>\n      <td>192.168.11.2-192.168.11.10 (1)</td>\n      <td>...</td>\n      <td>HttpRequest:POST /xmlrpc/2/common HTTP/1.1\\r\\n</td>\n      <td>{'': 'POST /xmlrpc/2/common HTTP/1.1\\r\\n', '_w...</td>\n      <td>True</td>\n      <td>None</td>\n      <td>None</td>\n      <td>End Point (Employee)-&gt;Odoo Application</td>\n      <td>None</td>\n      <td>End Point (Employee)-&gt;Odoo Application:[HttpRe...</td>\n      <td>&lt;?xml version='1.0'?&gt;\\xa&lt;methodCall&gt;\\xa&lt;method...</td>\n      <td>&lt;NA&gt;</td>\n    </tr>\n    <tr>\n      <th>82</th>\n      <td>82</td>\n      <td>90</td>\n      <td>async_2022_08_03-0336_10_cases_10_interval.pcap</td>\n      <td>order_to_cash_interleaved_10cases</td>\n      <td>2022</td>\n      <td>2022-08-03 13:36:21.958633</td>\n      <td>137</td>\n      <td>2022-08-04 21:52:26.138633</td>\n      <td>2022-08-04 21:52:26.138633</td>\n      <td>192.168.11.2-192.168.11.10 (1)</td>\n      <td>...</td>\n      <td>HttpResponse:HTTP/1.0 200 OK\\r\\n</td>\n      <td>{'': 'HTTP/1.0 200 OK\\r\\n', '_ws.expert': 'Exp...</td>\n      <td>True</td>\n      <td>None</td>\n      <td>None</td>\n      <td>Odoo Application-&gt;End Point (Employee)</td>\n      <td>None</td>\n      <td>Odoo Application-&gt;End Point (Employee):[HttpRe...</td>\n      <td>&lt;?xml version='1.0'?&gt;\\xa&lt;methodResponse&gt;\\xa&lt;pa...</td>\n      <td>96</td>\n    </tr>\n    <tr>\n      <th>86</th>\n      <td>86</td>\n      <td>97</td>\n      <td>async_2022_08_03-0336_10_cases_10_interval.pcap</td>\n      <td>order_to_cash_interleaved_10cases</td>\n      <td>2022</td>\n      <td>2022-08-03 13:36:21.960536</td>\n      <td>145</td>\n      <td>2022-08-04 21:52:45.170536</td>\n      <td>2022-08-04 21:52:45.170536</td>\n      <td>192.168.11.2-192.168.11.10 (2)</td>\n      <td>...</td>\n      <td>HttpRequest:POST /xmlrpc/2/common HTTP/1.1\\r\\n</td>\n      <td>{'': 'POST /xmlrpc/2/common HTTP/1.1\\r\\n', '_w...</td>\n      <td>True</td>\n      <td>None</td>\n      <td>None</td>\n      <td>End Point (Employee)-&gt;Odoo Application</td>\n      <td>None</td>\n      <td>End Point (Employee)-&gt;Odoo Application:[HttpRe...</td>\n      <td>&lt;?xml version='1.0'?&gt;\\xa&lt;methodCall&gt;\\xa&lt;method...</td>\n      <td>&lt;NA&gt;</td>\n    </tr>\n    <tr>\n      <th>188</th>\n      <td>188</td>\n      <td>210</td>\n      <td>async_2022_08_03-0336_10_cases_10_interval.pcap</td>\n      <td>order_to_cash_interleaved_10cases</td>\n      <td>2022</td>\n      <td>2022-08-03 13:36:22.298610</td>\n      <td>209</td>\n      <td>2022-08-04 22:49:06.248610</td>\n      <td>2022-08-04 22:49:06.248610</td>\n      <td>192.168.11.1-192.168.11.2 (7)</td>\n      <td>...</td>\n      <td>PgsqlRequest:Simple query</td>\n      <td>{'pgsql.type': 'Simple query', 'pgsql.length':...</td>\n      <td>True</td>\n      <td>INSERT INTO \"res_users_log\" (\"id\", \"create_uid...</td>\n      <td>res_users_log</td>\n      <td>Odoo Application-&gt;db Server/Mail Server</td>\n      <td>INSERT</td>\n      <td>Odoo Application-&gt;db Server/Mail Server:[Pgsql...</td>\n      <td>None</td>\n      <td>&lt;NA&gt;</td>\n    </tr>\n    <tr>\n      <th>258</th>\n      <td>258</td>\n      <td>282</td>\n      <td>async_2022_08_03-0336_10_cases_10_interval.pcap</td>\n      <td>order_to_cash_interleaved_10cases</td>\n      <td>2022</td>\n      <td>2022-08-03 13:36:22.413521</td>\n      <td>232</td>\n      <td>2022-08-04 23:08:15.473521</td>\n      <td>2022-08-04 23:08:15.473521</td>\n      <td>192.168.11.2-192.168.11.10 (2)</td>\n      <td>...</td>\n      <td>HttpResponse:HTTP/1.0 200 OK\\r\\n</td>\n      <td>{'': 'HTTP/1.0 200 OK\\r\\n', '_ws.expert': 'Exp...</td>\n      <td>True</td>\n      <td>None</td>\n      <td>None</td>\n      <td>Odoo Application-&gt;End Point (Employee)</td>\n      <td>None</td>\n      <td>Odoo Application-&gt;End Point (Employee):[HttpRe...</td>\n      <td>&lt;?xml version='1.0'?&gt;\\xa&lt;methodResponse&gt;\\xa&lt;pa...</td>\n      <td>145</td>\n    </tr>\n    <tr>\n      <th>...</th>\n      <td>...</td>\n      <td>...</td>\n      <td>...</td>\n      <td>...</td>\n      <td>...</td>\n      <td>...</td>\n      <td>...</td>\n      <td>...</td>\n      <td>...</td>\n      <td>...</td>\n      <td>...</td>\n      <td>...</td>\n      <td>...</td>\n      <td>...</td>\n      <td>...</td>\n      <td>...</td>\n      <td>...</td>\n      <td>...</td>\n      <td>...</td>\n      <td>...</td>\n      <td>...</td>\n    </tr>\n    <tr>\n      <th>224670</th>\n      <td>224670</td>\n      <td>234538</td>\n      <td>async_2022_08_03-0336_10_cases_10_interval.pcap</td>\n      <td>order_to_cash_interleaved_10cases</td>\n      <td>2022</td>\n      <td>2022-08-03 13:38:49.467434</td>\n      <td>112133</td>\n      <td>2022-08-21 23:39:41.657434</td>\n      <td>2022-08-21 23:39:41.657434</td>\n      <td>192.168.11.1-192.168.11.2 (4)</td>\n      <td>...</td>\n      <td>PgsqlRequest:Simple query</td>\n      <td>{'pgsql.type': 'Simple query', 'pgsql.length':...</td>\n      <td>True</td>\n      <td>INSERT INTO \"account_payment\" (\"id\", \"create_u...</td>\n      <td>account_payment</td>\n      <td>Odoo Application-&gt;db Server/Mail Server</td>\n      <td>INSERT</td>\n      <td>Odoo Application-&gt;db Server/Mail Server:[Pgsql...</td>\n      <td>None</td>\n      <td>&lt;NA&gt;</td>\n    </tr>\n    <tr>\n      <th>224675</th>\n      <td>224675</td>\n      <td>234543</td>\n      <td>async_2022_08_03-0336_10_cases_10_interval.pcap</td>\n      <td>order_to_cash_interleaved_10cases</td>\n      <td>2022</td>\n      <td>2022-08-03 13:38:49.471018</td>\n      <td>112135</td>\n      <td>2022-08-21 23:40:17.501018</td>\n      <td>2022-08-21 23:40:17.501018</td>\n      <td>192.168.11.1-192.168.11.2 (4)</td>\n      <td>...</td>\n      <td>PgsqlRequest:Simple query</td>\n      <td>{'pgsql.type': 'Simple query', 'pgsql.length':...</td>\n      <td>True</td>\n      <td>INSERT INTO \"mail_followers\" (\"id\", \"partner_i...</td>\n      <td>mail_followers</td>\n      <td>Odoo Application-&gt;db Server/Mail Server</td>\n      <td>INSERT</td>\n      <td>Odoo Application-&gt;db Server/Mail Server:[Pgsql...</td>\n      <td>None</td>\n      <td>&lt;NA&gt;</td>\n    </tr>\n    <tr>\n      <th>224680</th>\n      <td>224680</td>\n      <td>234548</td>\n      <td>async_2022_08_03-0336_10_cases_10_interval.pcap</td>\n      <td>order_to_cash_interleaved_10cases</td>\n      <td>2022</td>\n      <td>2022-08-03 13:38:49.471760</td>\n      <td>112137</td>\n      <td>2022-08-21 23:40:24.921760</td>\n      <td>2022-08-21 23:40:24.921760</td>\n      <td>192.168.11.1-192.168.11.2 (4)</td>\n      <td>...</td>\n      <td>PgsqlRequest:Simple query</td>\n      <td>{'pgsql.type': 'Simple query', 'pgsql.length':...</td>\n      <td>True</td>\n      <td>INSERT INTO mail_followers_mail_message_subtyp...</td>\n      <td>mail_followers_mail_message_subtype_rel</td>\n      <td>Odoo Application-&gt;db Server/Mail Server</td>\n      <td>INSERT</td>\n      <td>Odoo Application-&gt;db Server/Mail Server:[Pgsql...</td>\n      <td>None</td>\n      <td>&lt;NA&gt;</td>\n    </tr>\n    <tr>\n      <th>224763</th>\n      <td>224763</td>\n      <td>234635</td>\n      <td>async_2022_08_03-0336_10_cases_10_interval.pcap</td>\n      <td>order_to_cash_interleaved_10cases</td>\n      <td>2022</td>\n      <td>2022-08-03 13:38:49.487802</td>\n      <td>112175</td>\n      <td>2022-08-21 23:43:05.357802</td>\n      <td>2022-08-21 23:43:05.357802</td>\n      <td>192.168.11.1-192.168.11.2 (4)</td>\n      <td>...</td>\n      <td>PgsqlRequest:Simple query</td>\n      <td>{'pgsql.type': 'Simple query', 'pgsql.length':...</td>\n      <td>True</td>\n      <td>INSERT INTO \"mail_message\" (\"id\", \"create_uid\"...</td>\n      <td>mail_message</td>\n      <td>Odoo Application-&gt;db Server/Mail Server</td>\n      <td>INSERT</td>\n      <td>Odoo Application-&gt;db Server/Mail Server:[Pgsql...</td>\n      <td>None</td>\n      <td>&lt;NA&gt;</td>\n    </tr>\n    <tr>\n      <th>224786</th>\n      <td>224786</td>\n      <td>234659</td>\n      <td>async_2022_08_03-0336_10_cases_10_interval.pcap</td>\n      <td>order_to_cash_interleaved_10cases</td>\n      <td>2022</td>\n      <td>2022-08-03 13:38:49.497468</td>\n      <td>112188</td>\n      <td>2022-08-21 23:44:42.027468</td>\n      <td>2022-08-21 23:44:42.027468</td>\n      <td>192.168.11.2-192.168.11.21 (24)</td>\n      <td>...</td>\n      <td>HttpResponse:HTTP/1.0 200 OK\\r\\n</td>\n      <td>{'': 'HTTP/1.0 200 OK\\r\\n', '_ws.expert': 'Exp...</td>\n      <td>True</td>\n      <td>None</td>\n      <td>None</td>\n      <td>Odoo Application-&gt;End Point (Finance)</td>\n      <td>None</td>\n      <td>Odoo Application-&gt;End Point (Finance):[HttpRes...</td>\n      <td>&lt;?xml version='1.0'?&gt;\\xa&lt;methodResponse&gt;\\xa&lt;pa...</td>\n      <td>112084</td>\n    </tr>\n  </tbody>\n</table>\n<p>3599 rows × 22 columns</p>\n</div>"
     },
     "execution_count": 39,
     "metadata": {},
     "output_type": "execute_result"
    }
   ],
   "source": [
    "df"
   ],
   "metadata": {
    "collapsed": false,
    "ExecuteTime": {
     "end_time": "2024-02-05T15:54:38.105070Z",
     "start_time": "2024-02-05T15:54:38.049606Z"
    }
   },
   "id": "adbd99fd31b32c97"
  },
  {
   "cell_type": "markdown",
   "source": [
    "## Complete Pipeline"
   ],
   "metadata": {
    "collapsed": false
   },
   "id": "1ed791d8087979c7"
  },
  {
   "cell_type": "code",
   "execution_count": 40,
   "outputs": [],
   "source": [
    "# test with IL data \n",
    "\n",
    "#df_r4 = pd.read_csv('../../data_v3/hr_il_tagged.csv')\n",
    "df_r1_HR = pd.read_csv('../../data/HR-INTERLEAVED/R1/R1.csv', converters={\"MessageAttributes\": ast.literal_eval})"
   ],
   "metadata": {
    "collapsed": false,
    "ExecuteTime": {
     "end_time": "2024-02-05T15:54:39.246027Z",
     "start_time": "2024-02-05T15:54:38.065824Z"
    }
   },
   "id": "ba41ba6904ee5479"
  },
  {
   "cell_type": "code",
   "execution_count": 41,
   "outputs": [],
   "source": [
    "# test with IL data \n",
    "df_train_in = pd.read_csv('../../data/VALID/R1/R1.csv', converters={\"MessageAttributes\": ast.literal_eval})\n",
    "df_r4 = pd.read_csv('../../data_v3/ptp_il_tagged.csv')\n",
    "df_r1 = pd.read_csv('../../data/PTP-INTERLEAVED/R1/R1.csv', converters={\"MessageAttributes\": ast.literal_eval})"
   ],
   "metadata": {
    "collapsed": false,
    "ExecuteTime": {
     "end_time": "2024-02-05T15:55:42.638962Z",
     "start_time": "2024-02-05T15:54:39.246354Z"
    }
   },
   "id": "d259fc35bd91d219"
  },
  {
   "cell_type": "code",
   "execution_count": 42,
   "outputs": [],
   "source": [
    "# mark keep events for evaluation\n",
    "df_r1[\"keep_event\"] = df_r1[\"frame.number\"].isin(df_r4[\"frame.number\"])"
   ],
   "metadata": {
    "collapsed": false,
    "ExecuteTime": {
     "end_time": "2024-02-05T15:55:42.644506Z",
     "start_time": "2024-02-05T15:55:42.637832Z"
    }
   },
   "id": "18f11214c718db28"
  },
  {
   "cell_type": "code",
   "execution_count": 43,
   "outputs": [],
   "source": [
    "import re\n",
    "\n",
    "\n",
    "def apply_filter(df):\n",
    "    #1 preprocess\n",
    "    df[\"pgsql.query\"] = df[\"MessageAttributes\"].apply(lambda x: x.get(\"pgsql.query\")).str.strip(' \\\\xa')\n",
    "    \n",
    "    df[\"pgsql.target\"] = df[\"pgsql.query\"].apply(extract_pgsql_target)\n",
    "\n",
    "    #2 filter by message type\n",
    "    # Message Types to keep\n",
    "    message_type_filter = {\n",
    "        \"HttpRequest:POST /xmlrpc/2/common HTTP/1.1\\\\r\\\\n\",\n",
    "        \"HttpRequest:POST /xmlrpc/2/object HTTP/1.1\\\\r\\\\n\",\n",
    "        \"HttpResponse:HTTP/1.0 200 OK\\\\r\\\\n\",\n",
    "        \"SmtpReassembledMessage\",\n",
    "        \"PgsqlRequest:Simple query\",\n",
    "    }\n",
    "    df = df[df[\"MessageType\"].isin(message_type_filter)]\n",
    "\n",
    "    #3 keep PGSQL query that are either UPDATE or INSERT\n",
    "    df = df[df['pgsql.query'].apply(lambda x: str(x).startswith(('UPDATE', 'INSERT')) if x is not None else True)]\n",
    "    \n",
    "    # Extra Step for Email PTP Filtering\n",
    "    #df = df[~df[\"pgsql.target\"].isin([\"mail_tracking_value\", \"fetchmail_server\", \"ir_cron\", \"ir_config_parameter\"]) ]\n",
    "    df = df[~df[\"pgsql.target\"].isin([\"fetchmail_server\", \"ir_cron\", \"ir_config_parameter\"]) ]\n",
    "\n",
    "    return df\n",
    "\n",
    "\n",
    "def extract_features(df):\n",
    "    df[\"pgsql.query\"] = df[\"MessageAttributes\"].apply(lambda x: x.get(\"pgsql.query\")).str.strip(' \\\\xa')\n",
    "\n",
    "    # event with roles feature \n",
    "    df[\"roles\"] = df[\"MessageType_WithRole\"].str.split(\":\").str[0]\n",
    "\n",
    "    # Extract first Keyword from Query\n",
    "    df[\"pgsql.query_0\"] = df[\"pgsql.query\"].str.split(\" \").str[0]\n",
    "\n",
    "    # Extract target from Query\n",
    "    df[\"pgsql.target\"] = df['pgsql.query'].apply(extract_pgsql_target)\n",
    "\n",
    "    # Build Event with roles feature\n",
    "    df[\"event_with_roles\"] = df.apply(set_event_with_roles, axis=1)\n",
    "\n",
    "    # Extract XML http file data from Message Attributes\n",
    "    df[\"http_file_data\"] = df[\"MessageAttributes\"].apply(lambda x: x.get(\"http.file_data\", None))\n",
    "    # Only for response packets: Specifies the request packet a response is referring to\n",
    "    df[\"http_request_in\"] = df[\"MessageAttributes\"].apply(lambda x: x.get(\"http.request_in\", pd.NA)).astype(\"Int64\")\n",
    "\n",
    "    # Extract HTTP Features\n",
    "    df[[\"request_method_call\", \"file_data\", \"selective_file_data\"]] = df.apply(lambda x: extract_http_file_data(x[\"http_file_data\"]), axis=1,\n",
    "                                                                               result_type=\"expand\")\n",
    "\n",
    "    #df[\"request_method_call\"][pd.notnull(pd.to_numeric(df[\"request_method_call\"], errors='coerce'))] = \"\"\n",
    "\n",
    "    # Map Origin Requests\n",
    "    df[[\"origin_method\", \"origin_file_data\"]] = df.apply(merge_origin_request, axis=1, df=df,\n",
    "                                                         result_type=\"expand\").fillna(\"\")\n",
    "\n",
    "    # only keep necessary fields \n",
    "\n",
    "    cols = [\"BusinessActivity\",\n",
    "            \"InstanceNumber\",\n",
    "            \"frame.number\",\n",
    "            \"synthetic_sniff_time\",\n",
    "            \"event_with_roles\",\n",
    "            \"request_method_call\",\n",
    "            \"file_data\",\n",
    "            \"selective_file_data\",\n",
    "            \"origin_method\",\n",
    "            \"origin_file_data\"]\n",
    "\n",
    "    return df[cols].fillna(\"\")\n",
    "\n",
    "\n",
    "def pre_process(df):\n",
    "    df = apply_filter(df)\n",
    "    df = extract_features(df)\n",
    "\n",
    "    return df\n"
   ],
   "metadata": {
    "collapsed": false,
    "ExecuteTime": {
     "end_time": "2024-02-05T15:55:42.656606Z",
     "start_time": "2024-02-05T15:55:42.646453Z"
    }
   },
   "id": "384197cf8f4c860a"
  },
  {
   "cell_type": "code",
   "execution_count": 44,
   "outputs": [],
   "source": [
    "df_r1_pp = pre_process(df_r1)"
   ],
   "metadata": {
    "collapsed": false,
    "ExecuteTime": {
     "end_time": "2024-02-05T15:55:43.251628Z",
     "start_time": "2024-02-05T15:55:42.649050Z"
    }
   },
   "id": "fcf2859d86f76b4e"
  },
  {
   "cell_type": "code",
   "execution_count": 45,
   "outputs": [
    {
     "data": {
      "text/plain": "selective_file_data\n                                       3170\nIsNumber                                262\nserver_version                           64\nversion                                  63\npurchase.requisition_write               38\nname                                     35\npurchase.order.line_create               29\npurchase.order_create                    27\nproduct.product_search_read              20\npurchase.order_search_read               16\nres.partner_search_read                  10\nsale.order_write                         10\ndefault_code                             10\nsale.order.line_create                   10\nsale.order_create                        10\npurchase.requisition.line_create         10\npurchase.requisition_create               9\nfaultCode                                 8\naccount.payment_create                    8\naccount.invoice_action_invoice_open       8\naccount.invoice.line_create               8\naccount.invoice_create                    8\naccount.journal_search_read               8\nmove_line_ids                             8\nstock.move.line_write                     8\nstock.move_search_read                    8\nmove_ids_without_package                  8\nstock.picking_search_read                 8\npicking_ids                               8\npurchase.order_button_confirm             8\nstock.picking_button_validate             7\npurchase.order_write                      5\nName: count, dtype: int64"
     },
     "execution_count": 45,
     "metadata": {},
     "output_type": "execute_result"
    }
   ],
   "source": [
    "df_r1_pp[\"selective_file_data\"].value_counts()"
   ],
   "metadata": {
    "collapsed": false,
    "ExecuteTime": {
     "end_time": "2024-02-05T15:55:43.260962Z",
     "start_time": "2024-02-05T15:55:43.253435Z"
    }
   },
   "id": "d90131c3d1cdb061"
  },
  {
   "cell_type": "code",
   "execution_count": 46,
   "outputs": [],
   "source": [
    "df_train_pp = pre_process(df_train_in)"
   ],
   "metadata": {
    "collapsed": false,
    "ExecuteTime": {
     "end_time": "2024-02-05T15:55:49.959743Z",
     "start_time": "2024-02-05T15:55:43.256620Z"
    }
   },
   "id": "f863fecb9e7418db"
  },
  {
   "cell_type": "code",
   "execution_count": 47,
   "outputs": [
    {
     "data": {
      "text/plain": "True"
     },
     "execution_count": 47,
     "metadata": {},
     "output_type": "execute_result"
    }
   ],
   "source": [
    "df_r1_pp[\"selective_file_data\"].isin(df_train_pp[\"selective_file_data\"]).all()"
   ],
   "metadata": {
    "collapsed": false,
    "ExecuteTime": {
     "end_time": "2024-02-05T15:55:49.966826Z",
     "start_time": "2024-02-05T15:55:49.961282Z"
    }
   },
   "id": "7e20b9e4162c47b9"
  },
  {
   "cell_type": "code",
   "execution_count": 48,
   "outputs": [
    {
     "data": {
      "text/plain": "True"
     },
     "execution_count": 48,
     "metadata": {},
     "output_type": "execute_result"
    }
   ],
   "source": [
    "df_r1_pp[\"event_with_roles\"].isin(df_train_pp[\"event_with_roles\"]).all()"
   ],
   "metadata": {
    "collapsed": false,
    "ExecuteTime": {
     "end_time": "2024-02-05T15:55:49.970341Z",
     "start_time": "2024-02-05T15:55:49.964622Z"
    }
   },
   "id": "8031422b04bd73da"
  },
  {
   "cell_type": "code",
   "execution_count": null,
   "outputs": [],
   "source": [],
   "metadata": {
    "collapsed": false
   },
   "id": "87d0f0eb6e9586e8"
  },
  {
   "cell_type": "markdown",
   "source": [
    "# Analyze PTP Activities for looping fine granular events"
   ],
   "metadata": {
    "collapsed": false
   },
   "id": "6b1b30618d91151b"
  },
  {
   "cell_type": "code",
   "execution_count": 53,
   "outputs": [],
   "source": [
    "# TODO Show loops in fine granular events that make it hard to analyze PTP Data"
   ],
   "metadata": {
    "collapsed": false,
    "ExecuteTime": {
     "end_time": "2024-02-06T08:24:37.269353Z",
     "start_time": "2024-02-06T08:24:37.263613Z"
    }
   },
   "id": "e6a17169675115ee"
  },
  {
   "cell_type": "code",
   "execution_count": 52,
   "outputs": [
    {
     "data": {
      "text/plain": "                                         event_with_roles request_method_call  \\\n27      End Point (Employee)->Odoo Application:[HttpRe...             version   \n82      Odoo Application->End Point (Employee):[HttpRe...      server_version   \n86      End Point (Employee)->Odoo Application:[HttpRe...        authenticate   \n188     Odoo Application->db Server/Mail Server:[Pgsql...                       \n258     Odoo Application->End Point (Employee):[HttpRe...            IsNumber   \n...                                                   ...                 ...   \n224670  Odoo Application->db Server/Mail Server:[Pgsql...                       \n224675  Odoo Application->db Server/Mail Server:[Pgsql...                       \n224680  Odoo Application->db Server/Mail Server:[Pgsql...                       \n224763  Odoo Application->db Server/Mail Server:[Pgsql...                       \n224786  Odoo Application->End Point (Finance):[HttpRes...            IsNumber   \n\n       selective_file_data origin_method        origin_file_data  \n27                 version                                        \n82          server_version       version                 version  \n86                                                                \n188                                                               \n258               IsNumber  authenticate                          \n...                    ...           ...                     ...  \n224670                                                            \n224675                                                            \n224680                                                            \n224763                                                            \n224786            IsNumber    execute_kw  account.payment_create  \n\n[3909 rows x 5 columns]",
      "text/html": "<div>\n<style scoped>\n    .dataframe tbody tr th:only-of-type {\n        vertical-align: middle;\n    }\n\n    .dataframe tbody tr th {\n        vertical-align: top;\n    }\n\n    .dataframe thead th {\n        text-align: right;\n    }\n</style>\n<table border=\"1\" class=\"dataframe\">\n  <thead>\n    <tr style=\"text-align: right;\">\n      <th></th>\n      <th>event_with_roles</th>\n      <th>request_method_call</th>\n      <th>selective_file_data</th>\n      <th>origin_method</th>\n      <th>origin_file_data</th>\n    </tr>\n  </thead>\n  <tbody>\n    <tr>\n      <th>27</th>\n      <td>End Point (Employee)-&gt;Odoo Application:[HttpRe...</td>\n      <td>version</td>\n      <td>version</td>\n      <td></td>\n      <td></td>\n    </tr>\n    <tr>\n      <th>82</th>\n      <td>Odoo Application-&gt;End Point (Employee):[HttpRe...</td>\n      <td>server_version</td>\n      <td>server_version</td>\n      <td>version</td>\n      <td>version</td>\n    </tr>\n    <tr>\n      <th>86</th>\n      <td>End Point (Employee)-&gt;Odoo Application:[HttpRe...</td>\n      <td>authenticate</td>\n      <td></td>\n      <td></td>\n      <td></td>\n    </tr>\n    <tr>\n      <th>188</th>\n      <td>Odoo Application-&gt;db Server/Mail Server:[Pgsql...</td>\n      <td></td>\n      <td></td>\n      <td></td>\n      <td></td>\n    </tr>\n    <tr>\n      <th>258</th>\n      <td>Odoo Application-&gt;End Point (Employee):[HttpRe...</td>\n      <td>IsNumber</td>\n      <td>IsNumber</td>\n      <td>authenticate</td>\n      <td></td>\n    </tr>\n    <tr>\n      <th>...</th>\n      <td>...</td>\n      <td>...</td>\n      <td>...</td>\n      <td>...</td>\n      <td>...</td>\n    </tr>\n    <tr>\n      <th>224670</th>\n      <td>Odoo Application-&gt;db Server/Mail Server:[Pgsql...</td>\n      <td></td>\n      <td></td>\n      <td></td>\n      <td></td>\n    </tr>\n    <tr>\n      <th>224675</th>\n      <td>Odoo Application-&gt;db Server/Mail Server:[Pgsql...</td>\n      <td></td>\n      <td></td>\n      <td></td>\n      <td></td>\n    </tr>\n    <tr>\n      <th>224680</th>\n      <td>Odoo Application-&gt;db Server/Mail Server:[Pgsql...</td>\n      <td></td>\n      <td></td>\n      <td></td>\n      <td></td>\n    </tr>\n    <tr>\n      <th>224763</th>\n      <td>Odoo Application-&gt;db Server/Mail Server:[Pgsql...</td>\n      <td></td>\n      <td></td>\n      <td></td>\n      <td></td>\n    </tr>\n    <tr>\n      <th>224786</th>\n      <td>Odoo Application-&gt;End Point (Finance):[HttpRes...</td>\n      <td>IsNumber</td>\n      <td>IsNumber</td>\n      <td>execute_kw</td>\n      <td>account.payment_create</td>\n    </tr>\n  </tbody>\n</table>\n<p>3909 rows × 5 columns</p>\n</div>"
     },
     "execution_count": 52,
     "metadata": {},
     "output_type": "execute_result"
    }
   ],
   "source": [
    "df_r1_pp[[\"event_with_roles\",\"request_method_call\",\"selective_file_data\",\"origin_method\",\"origin_file_data\"]]"
   ],
   "metadata": {
    "collapsed": false,
    "ExecuteTime": {
     "end_time": "2024-02-05T16:26:33.866087Z",
     "start_time": "2024-02-05T16:26:33.849037Z"
    }
   },
   "id": "674eb12fea2f81c4"
  },
  {
   "cell_type": "code",
   "execution_count": null,
   "outputs": [],
   "source": [],
   "metadata": {
    "collapsed": false
   },
   "id": "fa56f495a34b9fc4"
  }
 ],
 "metadata": {
  "kernelspec": {
   "display_name": "Python 3",
   "language": "python",
   "name": "python3"
  },
  "language_info": {
   "codemirror_mode": {
    "name": "ipython",
    "version": 2
   },
   "file_extension": ".py",
   "mimetype": "text/x-python",
   "name": "python",
   "nbconvert_exporter": "python",
   "pygments_lexer": "ipython2",
   "version": "2.7.6"
  }
 },
 "nbformat": 4,
 "nbformat_minor": 5
}
