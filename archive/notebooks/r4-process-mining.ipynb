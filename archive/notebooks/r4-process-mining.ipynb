{
 "metadata": {
  "kernelspec": {
   "language": "python",
   "display_name": "Python 3",
   "name": "python3"
  },
  "language_info": {
   "name": "python",
   "version": "3.10.12",
   "mimetype": "text/x-python",
   "codemirror_mode": {
    "name": "ipython",
    "version": 3
   },
   "pygments_lexer": "ipython3",
   "nbconvert_exporter": "python",
   "file_extension": ".py"
  },
  "kaggle": {
   "accelerator": "gpu",
   "dataSources": [
    {
     "sourceId": 7175149,
     "sourceType": "datasetVersion",
     "datasetId": 4113110
    }
   ],
   "dockerImageVersionId": 30587,
   "isInternetEnabled": true,
   "language": "python",
   "sourceType": "notebook",
   "isGpuEnabled": true
  }
 },
 "nbformat_minor": 4,
 "nbformat": 4,
 "cells": [
  {
   "cell_type": "code",
   "source": [
    "%pip install scikeras"
   ],
   "metadata": {
    "execution": {
     "iopub.status.busy": "2023-12-11T11:20:54.700408Z",
     "iopub.execute_input": "2023-12-11T11:20:54.700908Z",
     "iopub.status.idle": "2023-12-11T11:21:07.900701Z",
     "shell.execute_reply.started": "2023-12-11T11:20:54.700879Z",
     "shell.execute_reply": "2023-12-11T11:21:07.899610Z"
    },
    "trusted": true,
    "ExecuteTime": {
     "end_time": "2023-12-14T12:37:10.888837Z",
     "start_time": "2023-12-14T12:37:05.583351Z"
    }
   },
   "execution_count": 1,
   "outputs": [
    {
     "name": "stdout",
     "output_type": "stream",
     "text": [
      "Requirement already satisfied: scikeras in /Users/seb/git/master_thesis/nw_event_abstraction/venv/lib/python3.9/site-packages (0.12.0)\r\n",
      "Requirement already satisfied: packaging>=0.21 in /Users/seb/git/master_thesis/nw_event_abstraction/venv/lib/python3.9/site-packages (from scikeras) (23.2)\r\n",
      "Requirement already satisfied: scikit-learn>=1.0.0 in /Users/seb/git/master_thesis/nw_event_abstraction/venv/lib/python3.9/site-packages (from scikeras) (1.3.2)\r\n",
      "Requirement already satisfied: tensorflow-metal<2.0.0,>=1.1.0 in /Users/seb/git/master_thesis/nw_event_abstraction/venv/lib/python3.9/site-packages (from scikeras) (1.1.0)\r\n",
      "Requirement already satisfied: numpy<2.0,>=1.17.3 in /Users/seb/git/master_thesis/nw_event_abstraction/venv/lib/python3.9/site-packages (from scikit-learn>=1.0.0->scikeras) (1.26.1)\r\n",
      "Requirement already satisfied: scipy>=1.5.0 in /Users/seb/git/master_thesis/nw_event_abstraction/venv/lib/python3.9/site-packages (from scikit-learn>=1.0.0->scikeras) (1.11.4)\r\n",
      "Requirement already satisfied: joblib>=1.1.1 in /Users/seb/git/master_thesis/nw_event_abstraction/venv/lib/python3.9/site-packages (from scikit-learn>=1.0.0->scikeras) (1.3.2)\r\n",
      "Requirement already satisfied: threadpoolctl>=2.0.0 in /Users/seb/git/master_thesis/nw_event_abstraction/venv/lib/python3.9/site-packages (from scikit-learn>=1.0.0->scikeras) (3.2.0)\r\n",
      "Requirement already satisfied: wheel~=0.35 in /Users/seb/git/master_thesis/nw_event_abstraction/venv/lib/python3.9/site-packages (from tensorflow-metal<2.0.0,>=1.1.0->scikeras) (0.41.2)\r\n",
      "Requirement already satisfied: six>=1.15.0 in /Users/seb/git/master_thesis/nw_event_abstraction/venv/lib/python3.9/site-packages (from tensorflow-metal<2.0.0,>=1.1.0->scikeras) (1.16.0)\r\n",
      "Note: you may need to restart the kernel to use updated packages.\n"
     ]
    }
   ]
  },
  {
   "cell_type": "code",
   "source": [
    "import pandas as pd\n",
    "import tensorflow as tf\n",
    "import keras\n",
    "import numpy as np\n",
    "\n",
    "from keras.src.layers import Embedding\n",
    "from keras.layers import Dense\n",
    "from keras.src.utils import to_categorical\n",
    "from keras.models import Sequential\n",
    "\n",
    "from scipy.sparse import csr_matrix\n",
    "\n",
    "from numpy.lib.stride_tricks import sliding_window_view\n",
    "\n",
    "\n",
    "from sklearn.model_selection import cross_val_score\n",
    "from sklearn.model_selection import KFold\n",
    "from sklearn.preprocessing import LabelEncoder\n",
    "from sklearn.pipeline import Pipeline\n",
    "from scikeras.wrappers import KerasClassifier\n",
    "from sklearn.metrics import classification_report\n",
    "from sklearn.preprocessing import OneHotEncoder\n",
    "from sklearn.preprocessing import LabelEncoder\n",
    "from sklearn.model_selection import train_test_split\n",
    "from sklearn.metrics import multilabel_confusion_matrix\n",
    "from sklearn.utils import compute_sample_weight\n"
   ],
   "metadata": {
    "_uuid": "8f2839f25d086af736a60e9eeb907d3b93b6e0e5",
    "_cell_guid": "b1076dfc-b9ad-4769-8c92-a6c4dae69d19",
    "execution": {
     "iopub.status.busy": "2023-12-11T11:21:07.902568Z",
     "iopub.execute_input": "2023-12-11T11:21:07.902864Z",
     "iopub.status.idle": "2023-12-11T11:21:19.628591Z",
     "shell.execute_reply.started": "2023-12-11T11:21:07.902834Z",
     "shell.execute_reply": "2023-12-11T11:21:19.627748Z"
    },
    "trusted": true,
    "ExecuteTime": {
     "end_time": "2023-12-14T12:37:17.382686Z",
     "start_time": "2023-12-14T12:37:10.890303Z"
    }
   },
   "execution_count": 2,
   "outputs": [
    {
     "name": "stderr",
     "output_type": "stream",
     "text": [
      "/Users/seb/git/master_thesis/nw_event_abstraction/venv/lib/python3.9/site-packages/urllib3/__init__.py:34: NotOpenSSLWarning: urllib3 v2.0 only supports OpenSSL 1.1.1+, currently the 'ssl' module is compiled with 'LibreSSL 2.8.3'. See: https://github.com/urllib3/urllib3/issues/3020\n",
      "  warnings.warn(\n"
     ]
    }
   ]
  },
  {
   "cell_type": "code",
   "source": [
    "df_r4 = pd.read_csv('../data_mod/R4_Train_poslabel.csv')\n",
    "df_r4_interleaved = pd.read_csv('../data_mod/R4_HR_Interleaved_poslabel.csv')\n",
    "\n",
    "df_r1 = pd.read_csv('../data_mod/R1_Train_poslabel.csv')\n",
    "df_r1_interleaved = pd.read_csv('../data_mod/R1_HR_Interleaved_poslabel.csv')\n",
    "\n",
    "df2_r4 = pd.read_csv('../data_mod/R4/R4_Valid.csv')"
   ],
   "metadata": {
    "execution": {
     "iopub.status.busy": "2023-12-11T11:21:19.629637Z",
     "iopub.execute_input": "2023-12-11T11:21:19.630137Z",
     "iopub.status.idle": "2023-12-11T11:21:37.160430Z",
     "shell.execute_reply.started": "2023-12-11T11:21:19.630109Z",
     "shell.execute_reply": "2023-12-11T11:21:37.159476Z"
    },
    "trusted": true,
    "ExecuteTime": {
     "end_time": "2023-12-15T09:57:17.647900Z",
     "start_time": "2023-12-15T09:57:11.395878Z"
    }
   },
   "execution_count": 25,
   "outputs": []
  },
  {
   "cell_type": "code",
   "execution_count": 27,
   "outputs": [
    {
     "data": {
      "text/plain": "event_with_roles\nOdoo Application->End Point (HR Manager): [HttpResponse:HTTP/1.0 200 OK\\r\\n]                                               4725\nEnd Point (HR Manager)->Odoo Application: [HttpRequest:POST /xmlrpc/2/object HTTP/1.1\\r\\n]                                 3032\nOdoo Application->db Server/Mail Server: [PgsqlRequest:Simple query:UPDATE:['hr_applicant']]                               2233\nOdoo Application->db Server/Mail Server: [PgsqlRequest:Simple query:UPDATE:['mail_message_res_partner_needaction_rel']]    2067\nOdoo Application->db Server/Mail Server: [PgsqlRequest:Simple query:UPDATE:['mail_message']]                               2067\nOdoo Application->db Server/Mail Server: [PgsqlRequest:Simple query:INSERT:['mail_message']]                               1908\nEnd Point (HR Manager)->Odoo Application: [HttpRequest:POST /xmlrpc/2/common HTTP/1.1\\r\\n]                                 1685\nOdoo Application->db Server/Mail Server: [PgsqlRequest:Simple query:UPDATE:['mail_mail']]                                  1378\nOdoo Application->db Server/Mail Server: [PgsqlRequest:Simple query:UPDATE:['ir_attachment']]                              1250\nOdoo Application->db Server/Mail Server: [PgsqlRequest:Simple query:UPDATE:['res_partner']]                                 999\nOdoo Application->db Server/Mail Server: [PgsqlRequest:Simple query:INSERT:['res_users_log']]                               933\nOdoo Application->db Server/Mail Server: [PgsqlRequest:Simple query:INSERT:['mail_tracking_value']]                         874\nOdoo Application->db Server/Mail Server: [PgsqlRequest:Simple query:INSERT:['mail_compose_message']]                        806\nOdoo Application->db Server/Mail Server: [PgsqlRequest:Simple query:INSERT:['ir_attachment']]                               750\nOdoo Application->db Server/Mail Server: [PgsqlRequest:Simple query:INSERT:['mail_message_res_partner_rel']]                689\nOdoo Application->db Server/Mail Server: [PgsqlRequest:Simple query:INSERT:['mail_message_res_partner_needaction_rel']]     689\nOdoo Application->db Server/Mail Server: [PgsqlRequest:Simple query:INSERT:['mail_mail_res_partner_rel']]                   689\nOdoo Application->db Server/Mail Server: [SmtpReassembledMessage]                                                           689\nOdoo Application->End Point (Recruiting manager): [HttpResponse:HTTP/1.0 200 OK\\r\\n]                                        621\nOdoo Application->db Server/Mail Server: [PgsqlRequest:Simple query:INSERT:['mail_compose_message_res_partner_rel']]        602\nOdoo Application->db Server/Mail Server: [PgsqlRequest:Simple query:INSERT:['mail_followers_mail_message_subtype_rel']]     587\nOdoo Application->db Server/Mail Server: [PgsqlRequest:Simple query:INSERT:['mail_followers']]                              587\nOdoo Application->db Server/Mail Server: [PgsqlRequest:Simple query:INSERT:['mail_mail']]                                   580\nOdoo Application->db Server/Mail Server: [PgsqlRequest:Simple query:UPDATE:['mail_compose_message']]                        492\nEnd Point (Recruiting manager)->Odoo Application: [HttpRequest:POST /xmlrpc/2/object HTTP/1.1\\r\\n]                          447\nOdoo Application->db Server/Mail Server: [PgsqlRequest:Simple query:UPDATE:['mail_activity']]                               408\nOdoo Application->db Server/Mail Server: [PgsqlRequest:Simple query:INSERT:['bus_bus']]                                     408\nOdoo Application->db Server/Mail Server: [PgsqlRequest:Simple query:INSERT:['res_partner']]                                 250\nOdoo Application->db Server/Mail Server: [PgsqlRequest:Simple query:INSERT:['hr_applicant']]                                250\nOdoo Application->db Server/Mail Server: [PgsqlRequest:Simple query:INSERT:['mail_activity']]                               204\nEnd Point (Recruiting manager)->Odoo Application: [HttpRequest:POST /xmlrpc/2/common HTTP/1.1\\r\\n]                          174\nName: count, dtype: int64"
     },
     "execution_count": 27,
     "metadata": {},
     "output_type": "execute_result"
    }
   ],
   "source": [
    "df_r4[\"event_with_roles\"].value_counts()"
   ],
   "metadata": {
    "collapsed": false,
    "ExecuteTime": {
     "end_time": "2023-12-15T09:57:17.665862Z",
     "start_time": "2023-12-15T09:57:17.660690Z"
    }
   }
  },
  {
   "cell_type": "code",
   "source": [
    "def rindex(lst, value, start, end):\n",
    "    start_rev = len(lst)-end\n",
    "    end_rev = len(lst)-start\n",
    "    r = len(lst) - 1 - lst[::-1].index(value,start_rev,end_rev)\n",
    "    return r\n",
    "\n",
    "def evaluate_interleaved(pred, y, labels):\n",
    "    start_window = 27\n",
    "    end_window = 51\n",
    "    \n",
    "\n",
    "    # transform input to integer labels\n",
    "    pred_int = np.argmax(pred, axis = 1).tolist()\n",
    "    y_int = np.argmax(y, axis = 1).tolist()\n",
    "    \n",
    "    in_between = labels.index(\"position_between\")\n",
    "    end = labels.index(\"position_end\")\n",
    "    start = labels.index(\"position_start\")\n",
    "    \n",
    "    # For predicted R1 start events, the R4 label should be in a forward facing window of size 27\n",
    "    # For predicted R1 end events the R4 label should be in a backward facing window of size 51\n",
    "    # Since we introduce a window for the R4 labels, the original labels should be changed to \"in between\". \n",
    "    \n",
    "    # get classification results for Start Events \n",
    "    \n",
    "    # Idea: Reorder the labels greedy based on the window sizes! \n",
    "    # For start events in pred: Find swap candidate in y_int sublist index + window size, swap \"forward\"\n",
    "    # For end events in results: Find swap candidate in pred index + size, swap \"backward\"\n",
    "    # Todo Investigate: Only allow swaps with \"Between elements\"\n",
    "        \n",
    "    for idx in range(len(pred)):\n",
    "\n",
    "        if(pred_int[idx] == start):\n",
    "            try:# start event in predictions found -> check for start event in labels with forward facing window \"forward swapping\"            \n",
    "                res_idx = y_int.index(start, idx,idx+start_window)\n",
    "                if(y_int[idx] == in_between):\n",
    "                    y_int[idx], y_int[res_idx] = y_int[res_idx], y_int[idx]\n",
    "            except:\n",
    "                pass\n",
    "\n",
    "        bw_idx = len(pred)-idx-1\n",
    "        if(pred_int[bw_idx]==end):\n",
    "            try: \n",
    "                # Todo Gets Leftmost index currently - change to rightmost\n",
    "                res_idx = rindex(y_int, end, max(bw_idx-end_window, 0), bw_idx)\n",
    "                if y_int[bw_idx] == in_between :\n",
    "                    y_int[bw_idx], y_int[res_idx] = y_int[res_idx], y_int[bw_idx]\n",
    "            except: \n",
    "                pass\n",
    "    \n",
    "    report = classification_report(y_int, pred_int, target_names = labels)\n",
    "    confusion_matrix = multilabel_confusion_matrix(y_int, pred_int)\n",
    "    print(report)\n",
    "    print(confusion_matrix)"
   ],
   "metadata": {
    "execution": {
     "iopub.status.busy": "2023-12-11T11:21:37.162701Z",
     "iopub.execute_input": "2023-12-11T11:21:37.163326Z",
     "iopub.status.idle": "2023-12-11T11:21:37.174975Z",
     "shell.execute_reply.started": "2023-12-11T11:21:37.163288Z",
     "shell.execute_reply": "2023-12-11T11:21:37.174010Z"
    },
    "trusted": true,
    "ExecuteTime": {
     "end_time": "2023-12-15T09:57:17.700119Z",
     "start_time": "2023-12-15T09:57:17.672616Z"
    }
   },
   "execution_count": 29,
   "outputs": []
  },
  {
   "cell_type": "code",
   "source": [
    "from keras.src.layers import LSTM\n",
    "from keras.layers import Bidirectional\n",
    "from keras import Input\n",
    "from keras.metrics import F1Score\n",
    "\n",
    "def baseline_model(sequence_length, embedding_vocab_size):\n",
    "    embedding_dim = 150\n",
    "\n",
    "\n",
    "    model = Sequential([\n",
    "        Input(shape=(sequence_length,)),\n",
    "        Embedding(input_dim=embedding_vocab_size, output_dim=embedding_dim),\n",
    "        LSTM(units=64),\n",
    "        Dense(3, activation='softmax')])\n",
    "    model.compile(loss='categorical_crossentropy', optimizer='adam', metrics=[F1Score()])\n",
    "    return model\n"
   ],
   "metadata": {
    "execution": {
     "iopub.status.busy": "2023-12-11T11:21:37.176159Z",
     "iopub.execute_input": "2023-12-11T11:21:37.176476Z",
     "iopub.status.idle": "2023-12-11T11:21:37.190242Z",
     "shell.execute_reply.started": "2023-12-11T11:21:37.176452Z",
     "shell.execute_reply": "2023-12-11T11:21:37.189386Z"
    },
    "trusted": true,
    "ExecuteTime": {
     "end_time": "2023-12-12T09:16:51.822648Z",
     "start_time": "2023-12-12T09:16:51.817089Z"
    }
   },
   "execution_count": 54,
   "outputs": []
  },
  {
   "cell_type": "code",
   "source": [
    "    \n",
    "def sliding_window(observation, forward, backward): \n",
    "    window_size = forward+backward+1\n",
    "    \n",
    "    sequences = sliding_window_view(observation, window_size)\n",
    "    \n",
    "    # pad first n-1 elements\n",
    "    #pad_top = [[0] * (sequence_length - 1 - i) + sequences[0, 0:i + 1].tolist() for i in range(sequence_length - 1)]\n",
    "    \n",
    "    #res = np.insert(sequences,0, pad_top, axis=0)\n",
    "    #res = np.asarray(X).astype(np.float32) \n",
    "    #res = res.reshape(res.shape[0], res.shape[1], 1)\n",
    "    return sequences"
   ],
   "metadata": {
    "execution": {
     "iopub.status.busy": "2023-12-11T12:48:24.827142Z",
     "iopub.execute_input": "2023-12-11T12:48:24.827488Z",
     "iopub.status.idle": "2023-12-11T12:48:24.833496Z",
     "shell.execute_reply.started": "2023-12-11T12:48:24.827459Z",
     "shell.execute_reply": "2023-12-11T12:48:24.832520Z"
    },
    "trusted": true,
    "ExecuteTime": {
     "end_time": "2023-12-12T09:23:21.751658Z",
     "start_time": "2023-12-12T09:23:21.739452Z"
    }
   },
   "execution_count": 63,
   "outputs": []
  },
  {
   "cell_type": "code",
   "execution_count": 74,
   "outputs": [],
   "source": [
    "labels = [x for x in range(100)]\n",
    "window = sliding_window([x for x  in range(100)], 5,10)"
   ],
   "metadata": {
    "collapsed": false,
    "ExecuteTime": {
     "end_time": "2023-12-12T10:38:21.951731Z",
     "start_time": "2023-12-12T10:38:21.933226Z"
    }
   }
  },
  {
   "cell_type": "code",
   "execution_count": 86,
   "outputs": [],
   "source": [
    "# encode message type for both training and validation data\n",
    "message_type_encoder = LabelEncoder().fit(df_r1[\"MessageType\"].values)\n",
    "train_features = message_type_encoder.transform(df_r1[\"MessageType\"]) +1\n",
    "\n",
    "# generate feature sequences \n",
    "train_feature_sequence = sliding_window(train_features,10, 10)"
   ],
   "metadata": {
    "collapsed": false,
    "ExecuteTime": {
     "end_time": "2023-12-13T10:02:47.116768Z",
     "start_time": "2023-12-13T10:02:46.992080Z"
    }
   }
  },
  {
   "cell_type": "code",
   "source": [
    "def mark_event_positions(df):\n",
    "    # Mark start event of each BusinessActivity Instance\n",
    "    df[\"activityStart\"] = df.groupby([\"BusinessActivity\",\"InstanceNumber\",]).cumcount()==0\n",
    "    # Mark end event of each Business Activity Instance\n",
    "    df[\"activityEnd\"] = df.groupby([\"BusinessActivity\",\"InstanceNumber\",]).cumcount(ascending=False)==0\n",
    "    # Merge start and end columns to form labels\n",
    "    df[\"task_position\"] = df.apply(lambda row: \"position_start\" if row[\"activityStart\"] else (\"position_end\" if row[\"activityEnd\"] else 'position_between'), axis=1)\n",
    "\n",
    "    df = df.drop([\"activityStart\",'activityEnd'], axis=1)\n",
    "    \n",
    "def sliding_window(observation, sequence_length = 50): \n",
    "    sequences = sliding_window_view(observation, sequence_length)\n",
    "    \n",
    "    # pad first n-1 elements\n",
    "    pad_top = [[0] * (sequence_length - 1 - i) + sequences[0, 0:i + 1].tolist() for i in range(sequence_length - 1)]\n",
    "    \n",
    "    res = np.insert(sequences,0, pad_top, axis=0)\n",
    "    #res = np.asarray(X).astype(np.float32) \n",
    "    #res = res.reshape(res.shape[0], res.shape[1], 1)\n",
    "    return res\n",
    "\n",
    "def evaluate( pred,y_test, labels):\n",
    "    report = classification_report(y_test, pred, target_names = labels)\n",
    "    confusion_matrix = multilabel_confusion_matrix(y_test, pred)\n",
    "    print(report)\n",
    "    print(confusion_matrix)\n",
    "    return report, confusion_matrix\n",
    "    \n",
    "    \n",
    "\n",
    "def pipeline(df_train, df_valid, model_builder, sequence_length, epochs, batch_size, weight_samples = False):\n",
    "    \n",
    "    \n",
    "    # relabel task position for interleaved data\n",
    "    # df_valid[\"task_position\"] = df_valid.apply(lambda row: \"position_start\" if row[\"real_single_activity_action\"] == \"Activity Start\" else (\"position_end\" if row[\"real_single_activity_action\"] == \"Activity End\" else \"position_between\"), axis = 1)\n",
    "\n",
    "    # mark event positions in training data\n",
    "    # mark_event_positions(df_train)\n",
    "\n",
    "    # encode message type for both training and validation data\n",
    "    message_type_encoder = LabelEncoder().fit(df_train[\"MessageType\"].values)\n",
    "    train_features = message_type_encoder.transform(df_train[\"MessageType\"]) +1\n",
    "    valid_features = message_type_encoder.transform(df_valid[\"MessageType\"]) +1 \n",
    "\n",
    "    # generate feature sequences \n",
    "    train_feature_sequence = sliding_window(train_features,sequence_length)\n",
    "    valid_feature_sequence = sliding_window(valid_features, sequence_length)\n",
    "\n",
    "    # one hot encode labels\n",
    "    label_encoder = LabelEncoder().fit(df_train[\"task_position\"])\n",
    "    train_labels = to_categorical(label_encoder.transform(df_train[\"task_position\"]))\n",
    "    valid_labels = to_categorical(label_encoder.transform(df_valid[\"task_position\"]))\n",
    "\n",
    "    # train test split\n",
    "    x_train, x_test, y_train, y_test = train_test_split(train_feature_sequence, train_labels, test_size = 0.2, shuffle = True, random_state = 42)\n",
    "    \n",
    "    weights = None\n",
    "    if weight_samples :\n",
    "        weights = compute_sample_weight('balanced', df_train[\"task_position\"])\n",
    "\n",
    "    # build and fit model\n",
    "    model = KerasClassifier(model = model_builder(sequence_length, len(message_type_encoder.classes_)+1), epochs = epochs, batch_size = batch_size, verbose = 1)\n",
    "    model.fit(x_train, y_train, sample_weight = weights)\n",
    "\n",
    "    # evaluate on training data\n",
    "    test_pred = model.predict(x_test)\n",
    "    evaluate(test_pred, y_test, label_encoder.classes_.tolist())\n",
    "\n",
    "    # evaluate on interleaved data\n",
    "    valid_pred = model.predict(valid_feature_sequence)\n",
    "    evaluate_interleaved(valid_pred, valid_labels, label_encoder.classes_.tolist())\n",
    "    return model\n"
   ],
   "metadata": {
    "execution": {
     "iopub.status.busy": "2023-12-11T11:21:37.191398Z",
     "iopub.execute_input": "2023-12-11T11:21:37.191641Z",
     "iopub.status.idle": "2023-12-11T11:21:37.402442Z",
     "shell.execute_reply.started": "2023-12-11T11:21:37.191619Z",
     "shell.execute_reply": "2023-12-11T11:21:37.401405Z"
    },
    "trusted": true
   },
   "execution_count": 6,
   "outputs": []
  },
  {
   "cell_type": "code",
   "source": [
    "bl_model = pipeline(df_r4, df_r4_interleaved, baseline_model, sequence_length = 50, epochs = 100, batch_size = 1000)"
   ],
   "metadata": {
    "execution": {
     "iopub.status.busy": "2023-12-11T11:21:37.403669Z",
     "iopub.execute_input": "2023-12-11T11:21:37.403984Z",
     "iopub.status.idle": "2023-12-11T11:22:21.833176Z",
     "shell.execute_reply.started": "2023-12-11T11:21:37.403955Z",
     "shell.execute_reply": "2023-12-11T11:22:21.832272Z"
    },
    "collapsed": true,
    "jupyter": {
     "outputs_hidden": true
    },
    "trusted": true
   },
   "execution_count": 7,
   "outputs": [
    {
     "name": "stderr",
     "text": "/opt/conda/lib/python3.10/site-packages/sklearn/utils/validation.py:605: FutureWarning: is_sparse is deprecated and will be removed in a future version. Check `isinstance(dtype, pd.SparseDtype)` instead.\n  if is_sparse(pd_dtype):\n/opt/conda/lib/python3.10/site-packages/sklearn/utils/validation.py:614: FutureWarning: is_sparse is deprecated and will be removed in a future version. Check `isinstance(dtype, pd.SparseDtype)` instead.\n  if is_sparse(pd_dtype) or not is_extension_array_dtype(pd_dtype):\n/opt/conda/lib/python3.10/site-packages/sklearn/utils/validation.py:605: FutureWarning: is_sparse is deprecated and will be removed in a future version. Check `isinstance(dtype, pd.SparseDtype)` instead.\n  if is_sparse(pd_dtype):\n/opt/conda/lib/python3.10/site-packages/sklearn/utils/validation.py:614: FutureWarning: is_sparse is deprecated and will be removed in a future version. Check `isinstance(dtype, pd.SparseDtype)` instead.\n  if is_sparse(pd_dtype) or not is_extension_array_dtype(pd_dtype):\n/opt/conda/lib/python3.10/site-packages/sklearn/utils/validation.py:605: FutureWarning: is_sparse is deprecated and will be removed in a future version. Check `isinstance(dtype, pd.SparseDtype)` instead.\n  if is_sparse(pd_dtype):\n/opt/conda/lib/python3.10/site-packages/sklearn/utils/validation.py:614: FutureWarning: is_sparse is deprecated and will be removed in a future version. Check `isinstance(dtype, pd.SparseDtype)` instead.\n  if is_sparse(pd_dtype) or not is_extension_array_dtype(pd_dtype):\n/opt/conda/lib/python3.10/site-packages/sklearn/utils/validation.py:605: FutureWarning: is_sparse is deprecated and will be removed in a future version. Check `isinstance(dtype, pd.SparseDtype)` instead.\n  if is_sparse(pd_dtype):\n/opt/conda/lib/python3.10/site-packages/sklearn/utils/validation.py:614: FutureWarning: is_sparse is deprecated and will be removed in a future version. Check `isinstance(dtype, pd.SparseDtype)` instead.\n  if is_sparse(pd_dtype) or not is_extension_array_dtype(pd_dtype):\n/opt/conda/lib/python3.10/site-packages/sklearn/utils/validation.py:605: FutureWarning: is_sparse is deprecated and will be removed in a future version. Check `isinstance(dtype, pd.SparseDtype)` instead.\n  if is_sparse(pd_dtype):\n/opt/conda/lib/python3.10/site-packages/sklearn/utils/validation.py:614: FutureWarning: is_sparse is deprecated and will be removed in a future version. Check `isinstance(dtype, pd.SparseDtype)` instead.\n  if is_sparse(pd_dtype) or not is_extension_array_dtype(pd_dtype):\n",
     "output_type": "stream"
    },
    {
     "name": "stdout",
     "text": "Epoch 1/100\n27/27 [==============================] - 6s 21ms/step - loss: 0.5334 - f1_score: 0.3626\nEpoch 2/100\n27/27 [==============================] - 0s 13ms/step - loss: 0.2446 - f1_score: 0.3235\nEpoch 3/100\n27/27 [==============================] - 0s 13ms/step - loss: 0.2179 - f1_score: 0.3235\nEpoch 4/100\n27/27 [==============================] - 0s 13ms/step - loss: 0.1692 - f1_score: 0.3235\nEpoch 5/100\n27/27 [==============================] - 0s 13ms/step - loss: 0.1091 - f1_score: 0.5586\nEpoch 6/100\n27/27 [==============================] - 0s 13ms/step - loss: 0.0614 - f1_score: 0.7391\nEpoch 7/100\n27/27 [==============================] - 0s 13ms/step - loss: 0.0446 - f1_score: 0.8857\nEpoch 8/100\n27/27 [==============================] - 0s 13ms/step - loss: 0.0392 - f1_score: 0.9156\nEpoch 9/100\n27/27 [==============================] - 0s 13ms/step - loss: 0.0367 - f1_score: 0.9167\nEpoch 10/100\n27/27 [==============================] - 0s 13ms/step - loss: 0.0351 - f1_score: 0.9183\nEpoch 11/100\n27/27 [==============================] - 0s 13ms/step - loss: 0.0333 - f1_score: 0.9186\nEpoch 12/100\n27/27 [==============================] - 0s 13ms/step - loss: 0.0319 - f1_score: 0.9220\nEpoch 13/100\n27/27 [==============================] - 0s 13ms/step - loss: 0.0304 - f1_score: 0.9220\nEpoch 14/100\n27/27 [==============================] - 0s 13ms/step - loss: 0.0285 - f1_score: 0.9223\nEpoch 15/100\n27/27 [==============================] - 0s 13ms/step - loss: 0.0270 - f1_score: 0.9225\nEpoch 16/100\n27/27 [==============================] - 0s 13ms/step - loss: 0.0255 - f1_score: 0.9257\nEpoch 17/100\n27/27 [==============================] - 0s 13ms/step - loss: 0.0248 - f1_score: 0.9217\nEpoch 18/100\n27/27 [==============================] - 0s 13ms/step - loss: 0.0248 - f1_score: 0.9144\nEpoch 19/100\n27/27 [==============================] - 0s 13ms/step - loss: 0.0238 - f1_score: 0.9148\nEpoch 20/100\n27/27 [==============================] - 0s 13ms/step - loss: 0.0227 - f1_score: 0.9123\nEpoch 21/100\n27/27 [==============================] - 0s 14ms/step - loss: 0.0222 - f1_score: 0.9266\nEpoch 22/100\n27/27 [==============================] - 0s 13ms/step - loss: 0.0218 - f1_score: 0.9268\nEpoch 23/100\n27/27 [==============================] - 0s 13ms/step - loss: 0.0209 - f1_score: 0.9324\nEpoch 24/100\n27/27 [==============================] - 0s 13ms/step - loss: 0.0205 - f1_score: 0.9278\nEpoch 25/100\n27/27 [==============================] - 0s 13ms/step - loss: 0.0197 - f1_score: 0.9365\nEpoch 26/100\n27/27 [==============================] - 0s 13ms/step - loss: 0.0188 - f1_score: 0.9429\nEpoch 27/100\n27/27 [==============================] - 0s 13ms/step - loss: 0.0190 - f1_score: 0.9423\nEpoch 28/100\n27/27 [==============================] - 0s 13ms/step - loss: 0.0176 - f1_score: 0.9453\nEpoch 29/100\n27/27 [==============================] - 0s 13ms/step - loss: 0.0172 - f1_score: 0.9523\nEpoch 30/100\n27/27 [==============================] - 0s 13ms/step - loss: 0.0174 - f1_score: 0.9486\nEpoch 31/100\n27/27 [==============================] - 0s 13ms/step - loss: 0.0175 - f1_score: 0.9463\nEpoch 32/100\n27/27 [==============================] - 0s 13ms/step - loss: 0.0180 - f1_score: 0.9436\nEpoch 33/100\n27/27 [==============================] - 0s 13ms/step - loss: 0.0180 - f1_score: 0.9399\nEpoch 34/100\n27/27 [==============================] - 0s 13ms/step - loss: 0.0160 - f1_score: 0.9563\nEpoch 35/100\n27/27 [==============================] - 0s 13ms/step - loss: 0.0156 - f1_score: 0.9509\nEpoch 36/100\n27/27 [==============================] - 0s 13ms/step - loss: 0.0150 - f1_score: 0.9560\nEpoch 37/100\n27/27 [==============================] - 0s 13ms/step - loss: 0.0149 - f1_score: 0.9582\nEpoch 38/100\n27/27 [==============================] - 0s 13ms/step - loss: 0.0148 - f1_score: 0.9544\nEpoch 39/100\n27/27 [==============================] - 0s 13ms/step - loss: 0.0147 - f1_score: 0.9559\nEpoch 40/100\n27/27 [==============================] - 0s 13ms/step - loss: 0.0144 - f1_score: 0.9563\nEpoch 41/100\n27/27 [==============================] - 0s 13ms/step - loss: 0.0147 - f1_score: 0.9576\nEpoch 42/100\n27/27 [==============================] - 0s 13ms/step - loss: 0.0140 - f1_score: 0.9574\nEpoch 43/100\n27/27 [==============================] - 0s 13ms/step - loss: 0.0141 - f1_score: 0.9593\nEpoch 44/100\n27/27 [==============================] - 0s 13ms/step - loss: 0.0144 - f1_score: 0.9600\nEpoch 45/100\n27/27 [==============================] - 0s 13ms/step - loss: 0.0138 - f1_score: 0.9590\nEpoch 46/100\n27/27 [==============================] - 0s 13ms/step - loss: 0.0140 - f1_score: 0.9575\nEpoch 47/100\n27/27 [==============================] - 0s 13ms/step - loss: 0.0140 - f1_score: 0.9551\nEpoch 48/100\n27/27 [==============================] - 0s 13ms/step - loss: 0.0136 - f1_score: 0.9587\nEpoch 49/100\n27/27 [==============================] - 0s 13ms/step - loss: 0.0141 - f1_score: 0.9562\nEpoch 50/100\n27/27 [==============================] - 0s 13ms/step - loss: 0.0136 - f1_score: 0.9548\nEpoch 51/100\n27/27 [==============================] - 0s 13ms/step - loss: 0.0137 - f1_score: 0.9565\nEpoch 52/100\n27/27 [==============================] - 0s 13ms/step - loss: 0.0132 - f1_score: 0.9585\nEpoch 53/100\n27/27 [==============================] - 0s 13ms/step - loss: 0.0133 - f1_score: 0.9571\nEpoch 54/100\n27/27 [==============================] - 0s 13ms/step - loss: 0.0138 - f1_score: 0.9547\nEpoch 55/100\n27/27 [==============================] - 0s 13ms/step - loss: 0.0132 - f1_score: 0.9575\nEpoch 56/100\n27/27 [==============================] - 0s 13ms/step - loss: 0.0131 - f1_score: 0.9560\nEpoch 57/100\n27/27 [==============================] - 0s 14ms/step - loss: 0.0129 - f1_score: 0.9568\nEpoch 58/100\n27/27 [==============================] - 0s 13ms/step - loss: 0.0125 - f1_score: 0.9568\nEpoch 59/100\n27/27 [==============================] - 0s 13ms/step - loss: 0.0124 - f1_score: 0.9562\nEpoch 60/100\n27/27 [==============================] - 0s 13ms/step - loss: 0.0125 - f1_score: 0.9560\nEpoch 61/100\n27/27 [==============================] - 0s 13ms/step - loss: 0.0124 - f1_score: 0.9584\nEpoch 62/100\n27/27 [==============================] - 0s 13ms/step - loss: 0.0123 - f1_score: 0.9559\nEpoch 63/100\n27/27 [==============================] - 0s 13ms/step - loss: 0.0119 - f1_score: 0.9558\nEpoch 64/100\n27/27 [==============================] - 0s 13ms/step - loss: 0.0119 - f1_score: 0.9590\nEpoch 65/100\n27/27 [==============================] - 0s 13ms/step - loss: 0.0127 - f1_score: 0.9517\nEpoch 66/100\n27/27 [==============================] - 0s 13ms/step - loss: 0.0122 - f1_score: 0.9559\nEpoch 67/100\n27/27 [==============================] - 0s 13ms/step - loss: 0.0122 - f1_score: 0.9547\nEpoch 68/100\n27/27 [==============================] - 0s 13ms/step - loss: 0.0121 - f1_score: 0.9570\nEpoch 69/100\n27/27 [==============================] - 0s 13ms/step - loss: 0.0117 - f1_score: 0.9551\nEpoch 70/100\n27/27 [==============================] - 0s 13ms/step - loss: 0.0116 - f1_score: 0.9570\nEpoch 71/100\n27/27 [==============================] - 0s 13ms/step - loss: 0.0120 - f1_score: 0.9502\nEpoch 72/100\n27/27 [==============================] - 0s 13ms/step - loss: 0.0119 - f1_score: 0.9543\nEpoch 73/100\n27/27 [==============================] - 0s 13ms/step - loss: 0.0123 - f1_score: 0.9506\nEpoch 74/100\n27/27 [==============================] - 0s 13ms/step - loss: 0.0119 - f1_score: 0.9563\nEpoch 75/100\n27/27 [==============================] - 0s 13ms/step - loss: 0.0113 - f1_score: 0.9546\nEpoch 76/100\n27/27 [==============================] - 0s 13ms/step - loss: 0.0110 - f1_score: 0.9533\nEpoch 77/100\n27/27 [==============================] - 0s 13ms/step - loss: 0.0110 - f1_score: 0.9562\nEpoch 78/100\n27/27 [==============================] - 0s 13ms/step - loss: 0.0109 - f1_score: 0.9555\nEpoch 79/100\n27/27 [==============================] - 0s 13ms/step - loss: 0.0110 - f1_score: 0.9584\nEpoch 80/100\n27/27 [==============================] - 0s 13ms/step - loss: 0.0122 - f1_score: 0.9539\nEpoch 81/100\n27/27 [==============================] - 0s 13ms/step - loss: 0.0120 - f1_score: 0.9530\nEpoch 82/100\n27/27 [==============================] - 0s 13ms/step - loss: 0.0119 - f1_score: 0.9600\nEpoch 83/100\n27/27 [==============================] - 0s 13ms/step - loss: 0.0115 - f1_score: 0.9511\nEpoch 84/100\n27/27 [==============================] - 0s 13ms/step - loss: 0.0112 - f1_score: 0.9570\nEpoch 85/100\n27/27 [==============================] - 0s 13ms/step - loss: 0.0110 - f1_score: 0.9585\nEpoch 86/100\n27/27 [==============================] - 0s 13ms/step - loss: 0.0120 - f1_score: 0.9513\nEpoch 87/100\n27/27 [==============================] - 0s 13ms/step - loss: 0.0109 - f1_score: 0.9553\nEpoch 88/100\n27/27 [==============================] - 0s 13ms/step - loss: 0.0105 - f1_score: 0.9612\nEpoch 89/100\n27/27 [==============================] - 0s 13ms/step - loss: 0.0106 - f1_score: 0.9563\nEpoch 90/100\n27/27 [==============================] - 0s 13ms/step - loss: 0.0108 - f1_score: 0.9564\nEpoch 91/100\n27/27 [==============================] - 0s 13ms/step - loss: 0.0106 - f1_score: 0.9574\nEpoch 92/100\n27/27 [==============================] - 0s 13ms/step - loss: 0.0108 - f1_score: 0.9556\nEpoch 93/100\n27/27 [==============================] - 0s 13ms/step - loss: 0.0104 - f1_score: 0.9617\nEpoch 94/100\n27/27 [==============================] - 0s 13ms/step - loss: 0.0126 - f1_score: 0.9518\nEpoch 95/100\n27/27 [==============================] - 0s 13ms/step - loss: 0.0127 - f1_score: 0.9535\nEpoch 96/100\n27/27 [==============================] - 0s 13ms/step - loss: 0.0110 - f1_score: 0.9578\nEpoch 97/100\n27/27 [==============================] - 0s 13ms/step - loss: 0.0106 - f1_score: 0.9556\nEpoch 98/100\n27/27 [==============================] - 0s 13ms/step - loss: 0.0106 - f1_score: 0.9582\nEpoch 99/100\n27/27 [==============================] - 0s 13ms/step - loss: 0.0105 - f1_score: 0.9589\nEpoch 100/100\n27/27 [==============================] - 0s 13ms/step - loss: 0.0106 - f1_score: 0.9570\n7/7 [==============================] - 0s 4ms/step\n                  precision    recall  f1-score   support\n\nposition_between       1.00      1.00      1.00      6262\n    position_end       0.90      0.87      0.89       193\n  position_start       1.00      1.00      1.00       160\n\n       micro avg       0.99      0.99      0.99      6615\n       macro avg       0.97      0.96      0.96      6615\n    weighted avg       0.99      0.99      0.99      6615\n     samples avg       0.99      0.99      0.99      6615\n\n[[[ 328   25]\n  [  18 6244]]\n\n [[6404   18]\n  [  25  168]]\n\n [[6455    0]\n  [   0  160]]]\n2/2 [==============================] - 0s 4ms/step\n                  precision    recall  f1-score   support\n\nposition_between       0.98      0.99      0.99      1224\n    position_end       0.63      0.70      0.67        37\n  position_start       0.93      0.76      0.84        37\n\n        accuracy                           0.97      1298\n       macro avg       0.85      0.82      0.83      1298\n    weighted avg       0.97      0.97      0.97      1298\n\n[[[  55   19]\n  [  16 1208]]\n\n [[1246   15]\n  [  11   26]]\n\n [[1259    2]\n  [   9   28]]]\n",
     "output_type": "stream"
    }
   ]
  },
  {
   "cell_type": "code",
   "execution_count": 42,
   "outputs": [
    {
     "ename": "NameError",
     "evalue": "name 'pipeline' is not defined",
     "output_type": "error",
     "traceback": [
      "\u001B[0;31m---------------------------------------------------------------------------\u001B[0m",
      "\u001B[0;31mNameError\u001B[0m                                 Traceback (most recent call last)",
      "Cell \u001B[0;32mIn[42], line 1\u001B[0m\n\u001B[0;32m----> 1\u001B[0m bl_model_weighted \u001B[38;5;241m=\u001B[39m \u001B[43mpipeline\u001B[49m(df_r4, df_r4_interleaved, baseline_model, sequence_length \u001B[38;5;241m=\u001B[39m \u001B[38;5;241m50\u001B[39m, epochs \u001B[38;5;241m=\u001B[39m \u001B[38;5;241m100\u001B[39m, batch_size \u001B[38;5;241m=\u001B[39m \u001B[38;5;241m1000\u001B[39m, weight_samples\u001B[38;5;241m=\u001B[39m\u001B[38;5;28;01mTrue\u001B[39;00m)\n",
      "\u001B[0;31mNameError\u001B[0m: name 'pipeline' is not defined"
     ]
    }
   ],
   "source": [
    "bl_model_weighted = pipeline(df_r4, df_r4_interleaved, baseline_model, sequence_length = 50, epochs = 100, batch_size = 1000, weight_samples=True)"
   ],
   "metadata": {
    "collapsed": false,
    "ExecuteTime": {
     "end_time": "2023-12-11T13:12:38.545616Z",
     "start_time": "2023-12-11T13:12:38.475164Z"
    }
   }
  },
  {
   "cell_type": "code",
   "source": [
    "bl_model = pipeline(df_r1, df_r1_interleaved, baseline_model, sequence_length = 50, epochs = 100, batch_size = 1000)"
   ],
   "metadata": {
    "execution": {
     "iopub.status.busy": "2023-12-11T11:25:08.140165Z",
     "iopub.execute_input": "2023-12-11T11:25:08.140566Z",
     "iopub.status.idle": "2023-12-11T11:50:37.822011Z",
     "shell.execute_reply.started": "2023-12-11T11:25:08.140534Z",
     "shell.execute_reply": "2023-12-11T11:50:37.821089Z"
    },
    "collapsed": true,
    "jupyter": {
     "outputs_hidden": true
    },
    "trusted": true
   },
   "execution_count": 8,
   "outputs": [
    {
     "name": "stderr",
     "text": "/opt/conda/lib/python3.10/site-packages/sklearn/utils/validation.py:605: FutureWarning: is_sparse is deprecated and will be removed in a future version. Check `isinstance(dtype, pd.SparseDtype)` instead.\n  if is_sparse(pd_dtype):\n/opt/conda/lib/python3.10/site-packages/sklearn/utils/validation.py:614: FutureWarning: is_sparse is deprecated and will be removed in a future version. Check `isinstance(dtype, pd.SparseDtype)` instead.\n  if is_sparse(pd_dtype) or not is_extension_array_dtype(pd_dtype):\n/opt/conda/lib/python3.10/site-packages/sklearn/utils/validation.py:605: FutureWarning: is_sparse is deprecated and will be removed in a future version. Check `isinstance(dtype, pd.SparseDtype)` instead.\n  if is_sparse(pd_dtype):\n/opt/conda/lib/python3.10/site-packages/sklearn/utils/validation.py:614: FutureWarning: is_sparse is deprecated and will be removed in a future version. Check `isinstance(dtype, pd.SparseDtype)` instead.\n  if is_sparse(pd_dtype) or not is_extension_array_dtype(pd_dtype):\n/opt/conda/lib/python3.10/site-packages/sklearn/utils/validation.py:605: FutureWarning: is_sparse is deprecated and will be removed in a future version. Check `isinstance(dtype, pd.SparseDtype)` instead.\n  if is_sparse(pd_dtype):\n/opt/conda/lib/python3.10/site-packages/sklearn/utils/validation.py:614: FutureWarning: is_sparse is deprecated and will be removed in a future version. Check `isinstance(dtype, pd.SparseDtype)` instead.\n  if is_sparse(pd_dtype) or not is_extension_array_dtype(pd_dtype):\n/opt/conda/lib/python3.10/site-packages/sklearn/utils/validation.py:605: FutureWarning: is_sparse is deprecated and will be removed in a future version. Check `isinstance(dtype, pd.SparseDtype)` instead.\n  if is_sparse(pd_dtype):\n/opt/conda/lib/python3.10/site-packages/sklearn/utils/validation.py:614: FutureWarning: is_sparse is deprecated and will be removed in a future version. Check `isinstance(dtype, pd.SparseDtype)` instead.\n  if is_sparse(pd_dtype) or not is_extension_array_dtype(pd_dtype):\n/opt/conda/lib/python3.10/site-packages/sklearn/utils/validation.py:605: FutureWarning: is_sparse is deprecated and will be removed in a future version. Check `isinstance(dtype, pd.SparseDtype)` instead.\n  if is_sparse(pd_dtype):\n/opt/conda/lib/python3.10/site-packages/sklearn/utils/validation.py:614: FutureWarning: is_sparse is deprecated and will be removed in a future version. Check `isinstance(dtype, pd.SparseDtype)` instead.\n  if is_sparse(pd_dtype) or not is_extension_array_dtype(pd_dtype):\n",
     "output_type": "stream"
    },
    {
     "name": "stdout",
     "text": "Epoch 1/100\n1285/1285 [==============================] - 18s 12ms/step - loss: 0.0149 - f1_score: 0.3330\nEpoch 2/100\n1285/1285 [==============================] - 15s 12ms/step - loss: 0.0044 - f1_score: 0.3510\nEpoch 3/100\n1285/1285 [==============================] - 15s 12ms/step - loss: 0.0028 - f1_score: 0.5539\nEpoch 4/100\n1285/1285 [==============================] - 15s 12ms/step - loss: 0.0020 - f1_score: 0.7259\nEpoch 5/100\n1285/1285 [==============================] - 15s 12ms/step - loss: 0.0017 - f1_score: 0.7772\nEpoch 6/100\n1285/1285 [==============================] - 15s 12ms/step - loss: 0.0014 - f1_score: 0.8165\nEpoch 7/100\n1285/1285 [==============================] - 15s 12ms/step - loss: 0.0012 - f1_score: 0.8391\nEpoch 8/100\n1285/1285 [==============================] - 15s 12ms/step - loss: 0.0011 - f1_score: 0.8562\nEpoch 9/100\n1285/1285 [==============================] - 15s 12ms/step - loss: 0.0011 - f1_score: 0.8631\nEpoch 10/100\n1285/1285 [==============================] - 15s 12ms/step - loss: 0.0010 - f1_score: 0.8705\nEpoch 11/100\n1285/1285 [==============================] - 15s 12ms/step - loss: 9.2138e-04 - f1_score: 0.8813\nEpoch 12/100\n1285/1285 [==============================] - 15s 12ms/step - loss: 8.9600e-04 - f1_score: 0.8833\nEpoch 13/100\n1285/1285 [==============================] - 15s 12ms/step - loss: 8.1528e-04 - f1_score: 0.8915\nEpoch 14/100\n1285/1285 [==============================] - 15s 12ms/step - loss: 7.3504e-04 - f1_score: 0.9075\nEpoch 15/100\n1285/1285 [==============================] - 15s 12ms/step - loss: 6.6611e-04 - f1_score: 0.9212\nEpoch 16/100\n1285/1285 [==============================] - 15s 12ms/step - loss: 5.4681e-04 - f1_score: 0.9384\nEpoch 17/100\n1285/1285 [==============================] - 15s 12ms/step - loss: 4.8889e-04 - f1_score: 0.9483\nEpoch 18/100\n1285/1285 [==============================] - 15s 12ms/step - loss: 4.5840e-04 - f1_score: 0.9530\nEpoch 19/100\n1285/1285 [==============================] - 16s 12ms/step - loss: 4.2185e-04 - f1_score: 0.9512\nEpoch 20/100\n1285/1285 [==============================] - 15s 12ms/step - loss: 4.0356e-04 - f1_score: 0.9535\nEpoch 21/100\n1285/1285 [==============================] - 15s 12ms/step - loss: 3.7461e-04 - f1_score: 0.9564\nEpoch 22/100\n1285/1285 [==============================] - 15s 12ms/step - loss: 3.3243e-04 - f1_score: 0.9613\nEpoch 23/100\n1285/1285 [==============================] - 15s 12ms/step - loss: 3.3972e-04 - f1_score: 0.9598\nEpoch 24/100\n1285/1285 [==============================] - 15s 12ms/step - loss: 3.1633e-04 - f1_score: 0.9621\nEpoch 25/100\n1285/1285 [==============================] - 15s 12ms/step - loss: 3.6467e-04 - f1_score: 0.9592\nEpoch 26/100\n1285/1285 [==============================] - 15s 12ms/step - loss: 3.1132e-04 - f1_score: 0.9576\nEpoch 27/100\n1285/1285 [==============================] - 15s 12ms/step - loss: 3.1238e-04 - f1_score: 0.9638\nEpoch 28/100\n1285/1285 [==============================] - 15s 12ms/step - loss: 2.7430e-04 - f1_score: 0.9639\nEpoch 29/100\n1285/1285 [==============================] - 15s 12ms/step - loss: 2.4054e-04 - f1_score: 0.9709\nEpoch 30/100\n1285/1285 [==============================] - 15s 12ms/step - loss: 2.7290e-04 - f1_score: 0.9693\nEpoch 31/100\n1285/1285 [==============================] - 15s 12ms/step - loss: 2.4022e-04 - f1_score: 0.9693\nEpoch 32/100\n1285/1285 [==============================] - 15s 12ms/step - loss: 2.2477e-04 - f1_score: 0.9730\nEpoch 33/100\n1285/1285 [==============================] - 15s 12ms/step - loss: 2.3419e-04 - f1_score: 0.9713\nEpoch 34/100\n1285/1285 [==============================] - 15s 12ms/step - loss: 3.0068e-04 - f1_score: 0.9644\nEpoch 35/100\n1285/1285 [==============================] - 15s 12ms/step - loss: 2.1634e-04 - f1_score: 0.9738\nEpoch 36/100\n1285/1285 [==============================] - 15s 12ms/step - loss: 1.9678e-04 - f1_score: 0.9737\nEpoch 37/100\n1285/1285 [==============================] - 15s 12ms/step - loss: 1.9618e-04 - f1_score: 0.9742\nEpoch 38/100\n1285/1285 [==============================] - 15s 12ms/step - loss: 2.1469e-04 - f1_score: 0.9731\nEpoch 39/100\n1285/1285 [==============================] - 15s 12ms/step - loss: 2.0885e-04 - f1_score: 0.9744\nEpoch 40/100\n1285/1285 [==============================] - 15s 12ms/step - loss: 1.7292e-04 - f1_score: 0.9780\nEpoch 41/100\n1285/1285 [==============================] - 15s 12ms/step - loss: 2.0575e-04 - f1_score: 0.9727\nEpoch 42/100\n1285/1285 [==============================] - 15s 12ms/step - loss: 1.8915e-04 - f1_score: 0.9764\nEpoch 43/100\n1285/1285 [==============================] - 15s 12ms/step - loss: 1.9067e-04 - f1_score: 0.9757\nEpoch 44/100\n1285/1285 [==============================] - 16s 13ms/step - loss: 1.5722e-04 - f1_score: 0.9774\nEpoch 45/100\n1285/1285 [==============================] - 16s 12ms/step - loss: 1.9003e-04 - f1_score: 0.9758\nEpoch 46/100\n1285/1285 [==============================] - 16s 13ms/step - loss: 1.7552e-04 - f1_score: 0.9761\nEpoch 47/100\n1285/1285 [==============================] - 16s 13ms/step - loss: 1.6205e-04 - f1_score: 0.9779\nEpoch 48/100\n1285/1285 [==============================] - 16s 12ms/step - loss: 1.9432e-04 - f1_score: 0.9763\nEpoch 49/100\n1285/1285 [==============================] - 15s 12ms/step - loss: 1.5748e-04 - f1_score: 0.9774\nEpoch 50/100\n1285/1285 [==============================] - 15s 12ms/step - loss: 1.5651e-04 - f1_score: 0.9770\nEpoch 51/100\n1285/1285 [==============================] - 15s 12ms/step - loss: 2.1495e-04 - f1_score: 0.9733\nEpoch 52/100\n1285/1285 [==============================] - 15s 12ms/step - loss: 1.5819e-04 - f1_score: 0.9784\nEpoch 53/100\n1285/1285 [==============================] - 15s 12ms/step - loss: 1.6365e-04 - f1_score: 0.9767\nEpoch 54/100\n1285/1285 [==============================] - 15s 12ms/step - loss: 1.5666e-04 - f1_score: 0.9761\nEpoch 55/100\n1285/1285 [==============================] - 15s 12ms/step - loss: 1.6939e-04 - f1_score: 0.9797\nEpoch 56/100\n1285/1285 [==============================] - 15s 12ms/step - loss: 1.7388e-04 - f1_score: 0.9773\nEpoch 57/100\n1285/1285 [==============================] - 15s 12ms/step - loss: 1.5501e-04 - f1_score: 0.9779\nEpoch 58/100\n1285/1285 [==============================] - 15s 12ms/step - loss: 1.4314e-04 - f1_score: 0.9802\nEpoch 59/100\n1285/1285 [==============================] - 15s 12ms/step - loss: 1.8649e-04 - f1_score: 0.9752\nEpoch 60/100\n1285/1285 [==============================] - 15s 12ms/step - loss: 1.4130e-04 - f1_score: 0.9813\nEpoch 61/100\n1285/1285 [==============================] - 15s 12ms/step - loss: 1.6106e-04 - f1_score: 0.9795\nEpoch 62/100\n1285/1285 [==============================] - 15s 12ms/step - loss: 1.7249e-04 - f1_score: 0.9770\nEpoch 63/100\n1285/1285 [==============================] - 15s 12ms/step - loss: 1.4789e-04 - f1_score: 0.9795\nEpoch 64/100\n1285/1285 [==============================] - 15s 12ms/step - loss: 1.2440e-04 - f1_score: 0.9822\nEpoch 65/100\n1285/1285 [==============================] - 15s 12ms/step - loss: 2.2984e-04 - f1_score: 0.9727\nEpoch 66/100\n1285/1285 [==============================] - 15s 12ms/step - loss: 1.9342e-04 - f1_score: 0.9745\nEpoch 67/100\n1285/1285 [==============================] - 15s 12ms/step - loss: 1.2854e-04 - f1_score: 0.9804\nEpoch 68/100\n1285/1285 [==============================] - 15s 12ms/step - loss: 1.5911e-04 - f1_score: 0.9760\nEpoch 69/100\n1285/1285 [==============================] - 15s 12ms/step - loss: 1.3822e-04 - f1_score: 0.9797\nEpoch 70/100\n1285/1285 [==============================] - 15s 12ms/step - loss: 1.3259e-04 - f1_score: 0.9800\nEpoch 71/100\n1285/1285 [==============================] - 15s 12ms/step - loss: 1.3552e-04 - f1_score: 0.9813\nEpoch 72/100\n1285/1285 [==============================] - 15s 12ms/step - loss: 1.9305e-04 - f1_score: 0.9736\nEpoch 73/100\n1285/1285 [==============================] - 15s 12ms/step - loss: 1.8767e-04 - f1_score: 0.9746\nEpoch 74/100\n1285/1285 [==============================] - 15s 12ms/step - loss: 1.3685e-04 - f1_score: 0.9802\nEpoch 75/100\n1285/1285 [==============================] - 15s 12ms/step - loss: 1.6962e-04 - f1_score: 0.9783\nEpoch 76/100\n1285/1285 [==============================] - 15s 12ms/step - loss: 1.2219e-04 - f1_score: 0.9819\nEpoch 77/100\n1285/1285 [==============================] - 15s 12ms/step - loss: 1.2359e-04 - f1_score: 0.9814\nEpoch 78/100\n1285/1285 [==============================] - 15s 12ms/step - loss: 1.3547e-04 - f1_score: 0.9819\nEpoch 79/100\n1285/1285 [==============================] - 15s 12ms/step - loss: 1.3393e-04 - f1_score: 0.9800\nEpoch 80/100\n1285/1285 [==============================] - 15s 12ms/step - loss: 1.4790e-04 - f1_score: 0.9786\nEpoch 81/100\n1285/1285 [==============================] - 15s 12ms/step - loss: 1.1651e-04 - f1_score: 0.9826\nEpoch 82/100\n1285/1285 [==============================] - 15s 12ms/step - loss: 1.6951e-04 - f1_score: 0.9790\nEpoch 83/100\n1285/1285 [==============================] - 15s 12ms/step - loss: 1.4523e-04 - f1_score: 0.9784\nEpoch 84/100\n1285/1285 [==============================] - 15s 12ms/step - loss: 1.2755e-04 - f1_score: 0.9801\nEpoch 85/100\n1285/1285 [==============================] - 15s 12ms/step - loss: 1.2459e-04 - f1_score: 0.9829\nEpoch 86/100\n1285/1285 [==============================] - 15s 12ms/step - loss: 1.5889e-04 - f1_score: 0.9783\nEpoch 87/100\n1285/1285 [==============================] - 15s 12ms/step - loss: 1.9898e-04 - f1_score: 0.9766\nEpoch 88/100\n1285/1285 [==============================] - 15s 12ms/step - loss: 1.3959e-04 - f1_score: 0.9830\nEpoch 89/100\n1285/1285 [==============================] - 15s 12ms/step - loss: 1.1775e-04 - f1_score: 0.9828\nEpoch 90/100\n1285/1285 [==============================] - 15s 12ms/step - loss: 1.1672e-04 - f1_score: 0.9835\nEpoch 91/100\n1285/1285 [==============================] - 15s 12ms/step - loss: 1.1739e-04 - f1_score: 0.9835\nEpoch 92/100\n1285/1285 [==============================] - 15s 12ms/step - loss: 1.6719e-04 - f1_score: 0.9779\nEpoch 93/100\n1285/1285 [==============================] - 15s 12ms/step - loss: 1.6854e-04 - f1_score: 0.9766\nEpoch 94/100\n1285/1285 [==============================] - 15s 12ms/step - loss: 1.1116e-04 - f1_score: 0.9813\nEpoch 95/100\n1285/1285 [==============================] - 15s 12ms/step - loss: 1.1777e-04 - f1_score: 0.9824\nEpoch 96/100\n1285/1285 [==============================] - 15s 12ms/step - loss: 1.1200e-04 - f1_score: 0.9822\nEpoch 97/100\n1285/1285 [==============================] - 15s 12ms/step - loss: 1.0543e-04 - f1_score: 0.9839\nEpoch 98/100\n1285/1285 [==============================] - 15s 12ms/step - loss: 1.6566e-04 - f1_score: 0.9761\nEpoch 99/100\n1285/1285 [==============================] - 15s 12ms/step - loss: 1.3238e-04 - f1_score: 0.9806\nEpoch 100/100\n1285/1285 [==============================] - 15s 12ms/step - loss: 1.1347e-04 - f1_score: 0.9811\n322/322 [==============================] - 1s 3ms/step\n                  precision    recall  f1-score   support\n\nposition_between       1.00      1.00      1.00    320881\n    position_end       0.98      0.90      0.94       189\n  position_start       0.98      0.95      0.96       167\n\n       micro avg       1.00      1.00      1.00    321237\n       macro avg       0.99      0.95      0.97    321237\n    weighted avg       1.00      1.00      1.00    321237\n     samples avg       1.00      1.00      1.00    321237\n\n[[[   328     28]\n  [     7 320874]]\n\n [[321044      4]\n  [    19    170]]\n\n [[321067      3]\n  [     9    158]]]\n62/62 [==============================] - 0s 3ms/step\n                  precision    recall  f1-score   support\n\nposition_between       1.00      1.00      1.00     61329\n    position_end       0.38      0.08      0.13        37\n  position_start       0.50      0.11      0.18        37\n\n        accuracy                           1.00     61403\n       macro avg       0.62      0.40      0.44     61403\n    weighted avg       1.00      1.00      1.00     61403\n\n[[[    7    67]\n  [    9 61320]]\n\n [[61361     5]\n  [   34     3]]\n\n [[61362     4]\n  [   33     4]]]\n",
     "output_type": "stream"
    }
   ]
  },
  {
   "cell_type": "code",
   "source": [
    "bl_r1_model = pipeline(df_r1, df_r1_interleaved, baseline_model, sequence_length = 25, epochs = 50, batch_size = 500)"
   ],
   "metadata": {
    "execution": {
     "iopub.status.busy": "2023-12-11T11:53:10.252647Z",
     "iopub.execute_input": "2023-12-11T11:53:10.253038Z",
     "iopub.status.idle": "2023-12-11T12:05:34.364660Z",
     "shell.execute_reply.started": "2023-12-11T11:53:10.253007Z",
     "shell.execute_reply": "2023-12-11T12:05:34.363722Z"
    },
    "collapsed": true,
    "jupyter": {
     "outputs_hidden": true
    },
    "trusted": true
   },
   "execution_count": 9,
   "outputs": [
    {
     "name": "stderr",
     "text": "/opt/conda/lib/python3.10/site-packages/sklearn/utils/validation.py:605: FutureWarning: is_sparse is deprecated and will be removed in a future version. Check `isinstance(dtype, pd.SparseDtype)` instead.\n  if is_sparse(pd_dtype):\n/opt/conda/lib/python3.10/site-packages/sklearn/utils/validation.py:614: FutureWarning: is_sparse is deprecated and will be removed in a future version. Check `isinstance(dtype, pd.SparseDtype)` instead.\n  if is_sparse(pd_dtype) or not is_extension_array_dtype(pd_dtype):\n/opt/conda/lib/python3.10/site-packages/sklearn/utils/validation.py:605: FutureWarning: is_sparse is deprecated and will be removed in a future version. Check `isinstance(dtype, pd.SparseDtype)` instead.\n  if is_sparse(pd_dtype):\n/opt/conda/lib/python3.10/site-packages/sklearn/utils/validation.py:614: FutureWarning: is_sparse is deprecated and will be removed in a future version. Check `isinstance(dtype, pd.SparseDtype)` instead.\n  if is_sparse(pd_dtype) or not is_extension_array_dtype(pd_dtype):\n/opt/conda/lib/python3.10/site-packages/sklearn/utils/validation.py:605: FutureWarning: is_sparse is deprecated and will be removed in a future version. Check `isinstance(dtype, pd.SparseDtype)` instead.\n  if is_sparse(pd_dtype):\n/opt/conda/lib/python3.10/site-packages/sklearn/utils/validation.py:614: FutureWarning: is_sparse is deprecated and will be removed in a future version. Check `isinstance(dtype, pd.SparseDtype)` instead.\n  if is_sparse(pd_dtype) or not is_extension_array_dtype(pd_dtype):\n/opt/conda/lib/python3.10/site-packages/sklearn/utils/validation.py:605: FutureWarning: is_sparse is deprecated and will be removed in a future version. Check `isinstance(dtype, pd.SparseDtype)` instead.\n  if is_sparse(pd_dtype):\n/opt/conda/lib/python3.10/site-packages/sklearn/utils/validation.py:614: FutureWarning: is_sparse is deprecated and will be removed in a future version. Check `isinstance(dtype, pd.SparseDtype)` instead.\n  if is_sparse(pd_dtype) or not is_extension_array_dtype(pd_dtype):\n/opt/conda/lib/python3.10/site-packages/sklearn/utils/validation.py:605: FutureWarning: is_sparse is deprecated and will be removed in a future version. Check `isinstance(dtype, pd.SparseDtype)` instead.\n  if is_sparse(pd_dtype):\n/opt/conda/lib/python3.10/site-packages/sklearn/utils/validation.py:614: FutureWarning: is_sparse is deprecated and will be removed in a future version. Check `isinstance(dtype, pd.SparseDtype)` instead.\n  if is_sparse(pd_dtype) or not is_extension_array_dtype(pd_dtype):\n",
     "output_type": "stream"
    },
    {
     "name": "stdout",
     "text": "Epoch 1/50\n2570/2570 [==============================] - 18s 6ms/step - loss: 0.0098 - f1_score: 0.3369\nEpoch 2/50\n2570/2570 [==============================] - 14s 6ms/step - loss: 0.0019 - f1_score: 0.7501\nEpoch 3/50\n2570/2570 [==============================] - 15s 6ms/step - loss: 0.0012 - f1_score: 0.8643\nEpoch 4/50\n2570/2570 [==============================] - 15s 6ms/step - loss: 0.0011 - f1_score: 0.8832\nEpoch 5/50\n2570/2570 [==============================] - 15s 6ms/step - loss: 9.7702e-04 - f1_score: 0.8855\nEpoch 6/50\n2570/2570 [==============================] - 15s 6ms/step - loss: 8.4974e-04 - f1_score: 0.9042\nEpoch 7/50\n2570/2570 [==============================] - 15s 6ms/step - loss: 7.8418e-04 - f1_score: 0.9125\nEpoch 8/50\n2570/2570 [==============================] - 15s 6ms/step - loss: 7.4225e-04 - f1_score: 0.9170\nEpoch 9/50\n2570/2570 [==============================] - 15s 6ms/step - loss: 6.7870e-04 - f1_score: 0.9219\nEpoch 10/50\n2570/2570 [==============================] - 15s 6ms/step - loss: 6.6384e-04 - f1_score: 0.9258\nEpoch 11/50\n2570/2570 [==============================] - 15s 6ms/step - loss: 6.5934e-04 - f1_score: 0.9201\nEpoch 12/50\n2570/2570 [==============================] - 15s 6ms/step - loss: 6.0702e-04 - f1_score: 0.9355\nEpoch 13/50\n2570/2570 [==============================] - 15s 6ms/step - loss: 6.1489e-04 - f1_score: 0.9266\nEpoch 14/50\n2570/2570 [==============================] - 15s 6ms/step - loss: 5.4903e-04 - f1_score: 0.9370\nEpoch 15/50\n2570/2570 [==============================] - 15s 6ms/step - loss: 5.3684e-04 - f1_score: 0.9369\nEpoch 16/50\n2570/2570 [==============================] - 15s 6ms/step - loss: 5.3044e-04 - f1_score: 0.9394\nEpoch 17/50\n2570/2570 [==============================] - 15s 6ms/step - loss: 5.2088e-04 - f1_score: 0.9400\nEpoch 18/50\n2570/2570 [==============================] - 15s 6ms/step - loss: 5.1048e-04 - f1_score: 0.9391\nEpoch 19/50\n2570/2570 [==============================] - 15s 6ms/step - loss: 4.8570e-04 - f1_score: 0.9427\nEpoch 20/50\n2570/2570 [==============================] - 15s 6ms/step - loss: 4.5643e-04 - f1_score: 0.9472\nEpoch 21/50\n2570/2570 [==============================] - 15s 6ms/step - loss: 4.4786e-04 - f1_score: 0.9435\nEpoch 22/50\n2570/2570 [==============================] - 15s 6ms/step - loss: 4.7619e-04 - f1_score: 0.9466\nEpoch 23/50\n2570/2570 [==============================] - 15s 6ms/step - loss: 4.5784e-04 - f1_score: 0.9477\nEpoch 24/50\n2570/2570 [==============================] - 15s 6ms/step - loss: 4.5102e-04 - f1_score: 0.9398\nEpoch 25/50\n2570/2570 [==============================] - 14s 6ms/step - loss: 4.3018e-04 - f1_score: 0.9480\nEpoch 26/50\n2570/2570 [==============================] - 15s 6ms/step - loss: 4.4210e-04 - f1_score: 0.9477\nEpoch 27/50\n2570/2570 [==============================] - 15s 6ms/step - loss: 4.1786e-04 - f1_score: 0.9476\nEpoch 28/50\n2570/2570 [==============================] - 15s 6ms/step - loss: 4.2649e-04 - f1_score: 0.9498\nEpoch 29/50\n2570/2570 [==============================] - 15s 6ms/step - loss: 4.0035e-04 - f1_score: 0.9506\nEpoch 30/50\n2570/2570 [==============================] - 15s 6ms/step - loss: 4.2860e-04 - f1_score: 0.9492\nEpoch 31/50\n2570/2570 [==============================] - 15s 6ms/step - loss: 4.3001e-04 - f1_score: 0.9486\nEpoch 32/50\n2570/2570 [==============================] - 15s 6ms/step - loss: 4.0764e-04 - f1_score: 0.9490\nEpoch 33/50\n2570/2570 [==============================] - 15s 6ms/step - loss: 4.3173e-04 - f1_score: 0.9473\nEpoch 34/50\n2570/2570 [==============================] - 14s 6ms/step - loss: 4.3525e-04 - f1_score: 0.9485\nEpoch 35/50\n2570/2570 [==============================] - 15s 6ms/step - loss: 3.9814e-04 - f1_score: 0.9505\nEpoch 36/50\n2570/2570 [==============================] - 15s 6ms/step - loss: 3.9950e-04 - f1_score: 0.9495\nEpoch 37/50\n2570/2570 [==============================] - 15s 6ms/step - loss: 4.0888e-04 - f1_score: 0.9458\nEpoch 38/50\n2570/2570 [==============================] - 14s 6ms/step - loss: 4.0479e-04 - f1_score: 0.9500\nEpoch 39/50\n2570/2570 [==============================] - 15s 6ms/step - loss: 4.0629e-04 - f1_score: 0.9515\nEpoch 40/50\n2570/2570 [==============================] - 14s 6ms/step - loss: 3.8344e-04 - f1_score: 0.9494\nEpoch 41/50\n2570/2570 [==============================] - 15s 6ms/step - loss: 3.6996e-04 - f1_score: 0.9543\nEpoch 42/50\n2570/2570 [==============================] - 14s 6ms/step - loss: 3.8910e-04 - f1_score: 0.9488\nEpoch 43/50\n2570/2570 [==============================] - 15s 6ms/step - loss: 3.9660e-04 - f1_score: 0.9506\nEpoch 44/50\n2570/2570 [==============================] - 14s 6ms/step - loss: 4.0501e-04 - f1_score: 0.9482\nEpoch 45/50\n2570/2570 [==============================] - 14s 6ms/step - loss: 3.7712e-04 - f1_score: 0.9509\nEpoch 46/50\n2570/2570 [==============================] - 14s 6ms/step - loss: 3.6848e-04 - f1_score: 0.9543\nEpoch 47/50\n2570/2570 [==============================] - 14s 5ms/step - loss: 3.7386e-04 - f1_score: 0.9547\nEpoch 48/50\n2570/2570 [==============================] - 14s 6ms/step - loss: 3.6765e-04 - f1_score: 0.9530\nEpoch 49/50\n2570/2570 [==============================] - 14s 5ms/step - loss: 3.6960e-04 - f1_score: 0.9529\nEpoch 50/50\n2570/2570 [==============================] - 14s 6ms/step - loss: 3.7480e-04 - f1_score: 0.9538\n643/643 [==============================] - 2s 2ms/step\n                  precision    recall  f1-score   support\n\nposition_between       1.00      1.00      1.00    320881\n    position_end       0.92      0.95      0.93       189\n  position_start       0.92      0.93      0.93       167\n\n       micro avg       1.00      1.00      1.00    321237\n       macro avg       0.95      0.96      0.95    321237\n    weighted avg       1.00      1.00      1.00    321237\n     samples avg       1.00      1.00      1.00    321237\n\n[[[   335     21]\n  [    29 320852]]\n\n [[321033     15]\n  [    10    179]]\n\n [[321056     14]\n  [    11    156]]]\n123/123 [==============================] - 0s 2ms/step\n                  precision    recall  f1-score   support\n\nposition_between       1.00      1.00      1.00     61329\n    position_end       0.41      0.19      0.26        37\n  position_start       0.32      0.16      0.21        37\n\n        accuracy                           1.00     61403\n       macro avg       0.58      0.45      0.49     61403\n    weighted avg       1.00      1.00      1.00     61403\n\n[[[   13    61]\n  [   23 61306]]\n\n [[61356    10]\n  [   30     7]]\n\n [[61353    13]\n  [   31     6]]]\n",
     "output_type": "stream"
    }
   ]
  },
  {
   "cell_type": "code",
   "source": [
    "bl_r1_model = pipeline(df_r1, df_r1_interleaved, baseline_model, sequence_length = 15, epochs = 50, batch_size = 500)"
   ],
   "metadata": {
    "execution": {
     "iopub.status.busy": "2023-12-11T12:38:22.823241Z",
     "iopub.execute_input": "2023-12-11T12:38:22.823630Z",
     "iopub.status.idle": "2023-12-11T12:48:24.825361Z",
     "shell.execute_reply.started": "2023-12-11T12:38:22.823601Z",
     "shell.execute_reply": "2023-12-11T12:48:24.824391Z"
    },
    "trusted": true
   },
   "execution_count": 10,
   "outputs": [
    {
     "name": "stderr",
     "text": "/opt/conda/lib/python3.10/site-packages/sklearn/utils/validation.py:605: FutureWarning: is_sparse is deprecated and will be removed in a future version. Check `isinstance(dtype, pd.SparseDtype)` instead.\n  if is_sparse(pd_dtype):\n/opt/conda/lib/python3.10/site-packages/sklearn/utils/validation.py:614: FutureWarning: is_sparse is deprecated and will be removed in a future version. Check `isinstance(dtype, pd.SparseDtype)` instead.\n  if is_sparse(pd_dtype) or not is_extension_array_dtype(pd_dtype):\n/opt/conda/lib/python3.10/site-packages/sklearn/utils/validation.py:605: FutureWarning: is_sparse is deprecated and will be removed in a future version. Check `isinstance(dtype, pd.SparseDtype)` instead.\n  if is_sparse(pd_dtype):\n/opt/conda/lib/python3.10/site-packages/sklearn/utils/validation.py:614: FutureWarning: is_sparse is deprecated and will be removed in a future version. Check `isinstance(dtype, pd.SparseDtype)` instead.\n  if is_sparse(pd_dtype) or not is_extension_array_dtype(pd_dtype):\n/opt/conda/lib/python3.10/site-packages/sklearn/utils/validation.py:605: FutureWarning: is_sparse is deprecated and will be removed in a future version. Check `isinstance(dtype, pd.SparseDtype)` instead.\n  if is_sparse(pd_dtype):\n/opt/conda/lib/python3.10/site-packages/sklearn/utils/validation.py:614: FutureWarning: is_sparse is deprecated and will be removed in a future version. Check `isinstance(dtype, pd.SparseDtype)` instead.\n  if is_sparse(pd_dtype) or not is_extension_array_dtype(pd_dtype):\n/opt/conda/lib/python3.10/site-packages/sklearn/utils/validation.py:605: FutureWarning: is_sparse is deprecated and will be removed in a future version. Check `isinstance(dtype, pd.SparseDtype)` instead.\n  if is_sparse(pd_dtype):\n/opt/conda/lib/python3.10/site-packages/sklearn/utils/validation.py:614: FutureWarning: is_sparse is deprecated and will be removed in a future version. Check `isinstance(dtype, pd.SparseDtype)` instead.\n  if is_sparse(pd_dtype) or not is_extension_array_dtype(pd_dtype):\n/opt/conda/lib/python3.10/site-packages/sklearn/utils/validation.py:605: FutureWarning: is_sparse is deprecated and will be removed in a future version. Check `isinstance(dtype, pd.SparseDtype)` instead.\n  if is_sparse(pd_dtype):\n/opt/conda/lib/python3.10/site-packages/sklearn/utils/validation.py:614: FutureWarning: is_sparse is deprecated and will be removed in a future version. Check `isinstance(dtype, pd.SparseDtype)` instead.\n  if is_sparse(pd_dtype) or not is_extension_array_dtype(pd_dtype):\n",
     "output_type": "stream"
    },
    {
     "name": "stdout",
     "text": "Epoch 1/50\n2570/2570 [==============================] - 15s 5ms/step - loss: 0.0102 - f1_score: 0.3331\nEpoch 2/50\n2570/2570 [==============================] - 12s 5ms/step - loss: 0.0024 - f1_score: 0.6512\nEpoch 3/50\n2570/2570 [==============================] - 12s 5ms/step - loss: 0.0017 - f1_score: 0.7756\nEpoch 4/50\n2570/2570 [==============================] - 12s 5ms/step - loss: 0.0015 - f1_score: 0.8023\nEpoch 5/50\n2570/2570 [==============================] - 12s 5ms/step - loss: 0.0014 - f1_score: 0.8161\nEpoch 6/50\n2570/2570 [==============================] - 12s 5ms/step - loss: 0.0013 - f1_score: 0.8374\nEpoch 7/50\n2570/2570 [==============================] - 12s 5ms/step - loss: 0.0012 - f1_score: 0.8409\nEpoch 8/50\n2570/2570 [==============================] - 12s 5ms/step - loss: 0.0012 - f1_score: 0.8437\nEpoch 9/50\n2570/2570 [==============================] - 12s 5ms/step - loss: 0.0011 - f1_score: 0.8470\nEpoch 10/50\n2570/2570 [==============================] - 12s 5ms/step - loss: 0.0011 - f1_score: 0.8513\nEpoch 11/50\n2570/2570 [==============================] - 12s 5ms/step - loss: 0.0010 - f1_score: 0.8500\nEpoch 12/50\n2570/2570 [==============================] - 12s 5ms/step - loss: 0.0010 - f1_score: 0.8528\nEpoch 13/50\n2570/2570 [==============================] - 12s 5ms/step - loss: 0.0010 - f1_score: 0.8543\nEpoch 14/50\n2570/2570 [==============================] - 12s 5ms/step - loss: 9.8046e-04 - f1_score: 0.8589\nEpoch 15/50\n2570/2570 [==============================] - 12s 5ms/step - loss: 9.8197e-04 - f1_score: 0.8592\nEpoch 16/50\n2570/2570 [==============================] - 12s 5ms/step - loss: 9.6238e-04 - f1_score: 0.8600\nEpoch 17/50\n2570/2570 [==============================] - 12s 5ms/step - loss: 9.5546e-04 - f1_score: 0.8609\nEpoch 18/50\n2570/2570 [==============================] - 12s 5ms/step - loss: 9.6318e-04 - f1_score: 0.8594\nEpoch 19/50\n2570/2570 [==============================] - 12s 5ms/step - loss: 9.4787e-04 - f1_score: 0.8600\nEpoch 20/50\n2570/2570 [==============================] - 12s 5ms/step - loss: 9.5786e-04 - f1_score: 0.8605\nEpoch 21/50\n2570/2570 [==============================] - 12s 5ms/step - loss: 9.3526e-04 - f1_score: 0.8634\nEpoch 22/50\n2570/2570 [==============================] - 12s 5ms/step - loss: 9.3404e-04 - f1_score: 0.8635\nEpoch 23/50\n2570/2570 [==============================] - 12s 5ms/step - loss: 9.2740e-04 - f1_score: 0.8644\nEpoch 24/50\n2570/2570 [==============================] - 12s 5ms/step - loss: 9.2528e-04 - f1_score: 0.8609\nEpoch 25/50\n2570/2570 [==============================] - 12s 5ms/step - loss: 9.1383e-04 - f1_score: 0.8631\nEpoch 26/50\n2570/2570 [==============================] - 12s 5ms/step - loss: 9.1543e-04 - f1_score: 0.8649\nEpoch 27/50\n2570/2570 [==============================] - 12s 5ms/step - loss: 9.3528e-04 - f1_score: 0.8638\nEpoch 28/50\n2570/2570 [==============================] - 12s 5ms/step - loss: 9.0921e-04 - f1_score: 0.8647\nEpoch 29/50\n2570/2570 [==============================] - 12s 5ms/step - loss: 9.1480e-04 - f1_score: 0.8636\nEpoch 30/50\n2570/2570 [==============================] - 12s 5ms/step - loss: 9.1421e-04 - f1_score: 0.8633\nEpoch 31/50\n2570/2570 [==============================] - 12s 5ms/step - loss: 9.0636e-04 - f1_score: 0.8676\nEpoch 32/50\n2570/2570 [==============================] - 12s 5ms/step - loss: 9.0483e-04 - f1_score: 0.8610\nEpoch 33/50\n2570/2570 [==============================] - 12s 5ms/step - loss: 9.1537e-04 - f1_score: 0.8620\nEpoch 34/50\n2570/2570 [==============================] - 12s 5ms/step - loss: 8.9807e-04 - f1_score: 0.8636\nEpoch 35/50\n2570/2570 [==============================] - 12s 5ms/step - loss: 8.9083e-04 - f1_score: 0.8638\nEpoch 36/50\n2570/2570 [==============================] - 12s 5ms/step - loss: 8.9354e-04 - f1_score: 0.8669\nEpoch 37/50\n2570/2570 [==============================] - 12s 5ms/step - loss: 9.0743e-04 - f1_score: 0.8646\nEpoch 38/50\n2570/2570 [==============================] - 12s 5ms/step - loss: 9.0146e-04 - f1_score: 0.8670\nEpoch 39/50\n2570/2570 [==============================] - 12s 5ms/step - loss: 8.9013e-04 - f1_score: 0.8674\nEpoch 40/50\n2570/2570 [==============================] - 12s 5ms/step - loss: 8.8971e-04 - f1_score: 0.8699\nEpoch 41/50\n2570/2570 [==============================] - 13s 5ms/step - loss: 9.2851e-04 - f1_score: 0.8639\nEpoch 42/50\n2570/2570 [==============================] - 12s 5ms/step - loss: 9.0793e-04 - f1_score: 0.8644\nEpoch 43/50\n2570/2570 [==============================] - 12s 5ms/step - loss: 8.8980e-04 - f1_score: 0.8684\nEpoch 44/50\n2570/2570 [==============================] - 12s 5ms/step - loss: 9.1398e-04 - f1_score: 0.8613\nEpoch 45/50\n2570/2570 [==============================] - 12s 5ms/step - loss: 8.9208e-04 - f1_score: 0.8650\nEpoch 46/50\n2570/2570 [==============================] - 12s 5ms/step - loss: 9.1075e-04 - f1_score: 0.8638\nEpoch 47/50\n2570/2570 [==============================] - 12s 5ms/step - loss: 8.9414e-04 - f1_score: 0.8673\nEpoch 48/50\n2570/2570 [==============================] - 12s 5ms/step - loss: 8.9310e-04 - f1_score: 0.8648\nEpoch 49/50\n2570/2570 [==============================] - 12s 5ms/step - loss: 8.9283e-04 - f1_score: 0.8672\nEpoch 50/50\n2570/2570 [==============================] - 12s 5ms/step - loss: 8.9088e-04 - f1_score: 0.8671\n643/643 [==============================] - 2s 2ms/step\n                  precision    recall  f1-score   support\n\nposition_between       1.00      1.00      1.00    320881\n    position_end       0.88      0.70      0.78       189\n  position_start       0.81      0.83      0.82       167\n\n       micro avg       1.00      1.00      1.00    321237\n       macro avg       0.89      0.85      0.87    321237\n    weighted avg       1.00      1.00      1.00    321237\n     samples avg       1.00      1.00      1.00    321237\n\n[[[   272     84]\n  [    52 320829]]\n\n [[321029     19]\n  [    56    133]]\n\n [[321037     33]\n  [    28    139]]]\n123/123 [==============================] - 0s 2ms/step\n                  precision    recall  f1-score   support\n\nposition_between       1.00      1.00      1.00     61329\n    position_end       0.33      0.08      0.13        37\n  position_start       0.44      0.22      0.29        37\n\n        accuracy                           1.00     61403\n       macro avg       0.59      0.43      0.47     61403\n    weighted avg       1.00      1.00      1.00     61403\n\n[[[   11    63]\n  [   16 61313]]\n\n [[61360     6]\n  [   34     3]]\n\n [[61356    10]\n  [   29     8]]]\n",
     "output_type": "stream"
    }
   ]
  },
  {
   "cell_type": "code",
   "source": [
    "# Experiment with dropout\n",
    "\n",
    "# Experiment with forward facing sliding window\n"
   ],
   "metadata": {},
   "execution_count": null,
   "outputs": []
  },
  {
   "cell_type": "code",
   "source": [
    "df_train = df_r1\n",
    "df_valid = df_r1_interleaved\n",
    "sequence_length = 50\n",
    "epochs = 100\n",
    "batch_size = 1000\n",
    "model_builder = baseline_model\n",
    "\n",
    "# relabel task position for interleaved data\n",
    "df_valid[\"task_position\"] = df_valid.apply(lambda row: \"position_start\" if row[\"real_single_activity_action\"] == \"Activity Start\" else (\"position_end\" if row[\"real_single_activity_action\"] == \"Activity End\" else \"position_between\"), axis = 1)\n",
    "\n",
    "# mark event positions in training data\n",
    "mark_event_positions(df_train)\n",
    "\n",
    "# encode message type for both training and validation data\n",
    "message_type_encoder = LabelEncoder().fit(df_train[\"MessageType\"].values)\n",
    "train_features = message_type_encoder.transform(df_train[\"MessageType\"]) +1\n",
    "valid_features = message_type_encoder.transform(df_valid[\"MessageType\"]) +1 \n",
    "\n",
    "# generate feature sequences \n",
    "train_feature_sequence = sliding_window(train_features,sequence_length)\n",
    "valid_feature_sequence = sliding_window(valid_features, sequence_length)\n",
    "\n",
    "# one hot encode labels\n",
    "label_encoder = LabelEncoder().fit(df_train[\"task_position\"])\n",
    "train_labels = to_categorical(label_encoder.transform(df_train[\"task_position\"]))\n",
    "valid_labels = to_categorical(label_encoder.transform(df_valid[\"task_position\"]))\n",
    "\n",
    "# train test split\n",
    "x_train, x_test, y_train, y_test = train_test_split(train_feature_sequence, train_labels, test_size = 0.2, shuffle = True, random_state = 42)\n",
    "\n",
    "\n",
    "# build and fit model\n",
    "model = KerasClassifier(model = model_builder(sequence_length, len(message_type_encoder.classes_)+1), epochs = epochs, batch_size = batch_size, verbose = 1)\n",
    "model.fit(x_train, y_train, sample_weight = None)\n",
    "\n",
    "# evaluate on training data\n",
    "test_pred = model.predict(x_test)\n",
    "evaluate(test_pred, y_test, label_encoder.classes_tolist())\n",
    "\n",
    "# evaluate on interleaved data\n",
    "valid_pred = model.predict(valid_feature_sequence)\n",
    "evaluate_interleaved(valid_pred, valid_labels, label_encoder.classes_.tolist())\n",
    "\n",
    "\n"
   ],
   "metadata": {
    "execution": {
     "iopub.status.busy": "2023-12-11T10:53:07.926168Z",
     "iopub.status.idle": "2023-12-11T10:53:07.926883Z",
     "shell.execute_reply.started": "2023-12-11T10:53:07.926459Z",
     "shell.execute_reply": "2023-12-11T10:53:07.926480Z"
    },
    "trusted": true
   },
   "execution_count": null,
   "outputs": []
  },
  {
   "cell_type": "code",
   "source": [
    "df_train = df_r1\n",
    "df_valid = df_r1_interleaved\n",
    "sequence_length = 50\n",
    "epochs = 100\n",
    "batch_size = 1000\n",
    "model_builder = baseline_model\n",
    "\n",
    "# relabel task position for interleaved data\n",
    "df_valid[\"task_position\"] = df_valid.apply(lambda row: \"position_start\" if row[\"real_single_activity_action\"] == \"Activity Start\" else (\"position_end\" if row[\"real_single_activity_action\"] == \"Activity End\" else \"position_between\"), axis = 1)\n",
    "\n",
    "# mark event positions in training data\n",
    "mark_event_positions(df_train)\n",
    "\n",
    "# encode message type for both training and validation data\n",
    "message_type_encoder = LabelEncoder().fit(df_train[\"MessageType\"].values)\n",
    "train_features = message_type_encoder.transform(df_train[\"MessageType\"]) +1\n",
    "valid_features = message_type_encoder.transform(df_valid[\"MessageType\"]) +1 \n",
    "\n",
    "# generate feature sequences \n",
    "train_feature_sequence = sliding_window(train_features,sequence_length)\n",
    "valid_feature_sequence = sliding_window(valid_features, sequence_length)\n",
    "\n",
    "# one hot encode labels\n",
    "label_encoder = LabelEncoder().fit(df_train[\"task_position\"])\n",
    "train_labels = to_categorical(label_encoder.transform(df_train[\"task_position\"]))\n",
    "valid_labels = to_categorical(label_encoder.transform(df_valid[\"task_position\"]))\n",
    "\n",
    "# train test split\n",
    "x_train, x_test, y_train, y_test = train_test_split(train_feature_sequence, train_labels, test_size = 0.2, shuffle = True, random_state = 42)\n",
    "\n",
    "\n",
    "# build and fit model\n",
    "model = KerasClassifier(model = model_builder(sequence_length, len(message_type_encoder.classes_)+1), epochs = epochs, batch_size = batch_size, verbose = 1)\n",
    "model.fit(x_train, y_train, sample_weight = None)\n",
    "\n",
    "# evaluate on training data\n",
    "test_pred = model.predict(x_test)\n",
    "evaluate(test_pred, y_test, label_encoder.classes_tolist())\n",
    "\n",
    "# evaluate on interleaved data\n",
    "valid_pred = model.predict(valid_feature_sequence)\n",
    "evaluate_interleaved(valid_pred, valid_labels, label_encoder.classes_.tolist())\n",
    "\n",
    "\n"
   ],
   "metadata": {
    "execution": {
     "iopub.status.busy": "2023-12-11T10:53:07.928759Z",
     "iopub.status.idle": "2023-12-11T10:53:07.929237Z",
     "shell.execute_reply.started": "2023-12-11T10:53:07.929022Z",
     "shell.execute_reply": "2023-12-11T10:53:07.929043Z"
    },
    "trusted": true
   },
   "execution_count": null,
   "outputs": []
  },
  {
   "cell_type": "code",
   "source": [
    "test_pred"
   ],
   "metadata": {
    "execution": {
     "iopub.status.busy": "2023-12-11T10:53:07.930909Z",
     "iopub.status.idle": "2023-12-11T10:53:07.931409Z",
     "shell.execute_reply.started": "2023-12-11T10:53:07.931176Z",
     "shell.execute_reply": "2023-12-11T10:53:07.931196Z"
    },
    "trusted": true
   },
   "execution_count": null,
   "outputs": []
  },
  {
   "cell_type": "code",
   "source": [
    "y_test"
   ],
   "metadata": {
    "execution": {
     "iopub.status.busy": "2023-12-11T10:53:07.933108Z",
     "iopub.status.idle": "2023-12-11T10:53:07.933610Z",
     "shell.execute_reply.started": "2023-12-11T10:53:07.933376Z",
     "shell.execute_reply": "2023-12-11T10:53:07.933397Z"
    },
    "trusted": true
   },
   "execution_count": null,
   "outputs": []
  },
  {
   "cell_type": "code",
   "source": [
    "evaluate(test_pred, y_test, label_encoder.classes_.tolist())"
   ],
   "metadata": {
    "execution": {
     "iopub.status.busy": "2023-12-11T10:53:07.934905Z",
     "iopub.status.idle": "2023-12-11T10:53:07.935346Z",
     "shell.execute_reply.started": "2023-12-11T10:53:07.935133Z",
     "shell.execute_reply": "2023-12-11T10:53:07.935153Z"
    },
    "trusted": true
   },
   "execution_count": null,
   "outputs": []
  },
  {
   "cell_type": "code",
   "source": [
    "# TODO index of for backward is not greedy - reverse! \n",
    "import random\n",
    "def evaluate_interleaved(pred, y, labels):\n",
    "    start_window = 27\n",
    "    end_window = 51\n",
    "    \n",
    "    \n",
    "    # transform input to integer labels\n",
    "    pred_int = np.argmax(pred, axis = 1).tolist()\n",
    "    y_int = np.argmax(y, axis = 1).tolist()\n",
    "    \n",
    "    in_between = labels.index(\"position_between\")\n",
    "    end = labels.index(\"position_end\")\n",
    "    start = labels.index(\"position_start\")\n",
    "    \n",
    "    # For predicted R1 start events, the R4 label should be in a forward facing window of size 27\n",
    "    # For predicted R1 end events the R4 label should be in a backward facing window of size 51\n",
    "    # Since we introduce a window for the R4 labels, the original labels should be changed to \"in between\". \n",
    "    \n",
    "    # get classification results for Start Events \n",
    "    \n",
    "    # Idea: Reorder the labels greedy based on the window sizes! \n",
    "    # For start events in pred: Find swap candidate in y_int sublist index + window size, swap \"forward\"\n",
    "    # For end events in results: Find swap candidate in pred index + size, swap \"backward\"\n",
    "    # Todo Investigate: Only allow swaps with \"Between elements\"\n",
    "        \n",
    "    for idx in range(len(pred)):\n",
    "\n",
    "        if(pred_int[idx] == start):\n",
    "            try:# start event in predictions found -> check for start event in labels with forward facing window \"forward swapping\"            \n",
    "                res_idx = y_int.index(start, idx,idx+start_window)\n",
    "                if(y_int[idx] == in_between):\n",
    "                    y_int[idx], y_int[res_idx] = y_int[res_idx], y_int[idx]\n",
    "            except:\n",
    "                pass\n",
    "\n",
    "        bw_idx = len(pred)-idx-1\n",
    "        if(pred_int[bw_idx]==end):\n",
    "            try: \n",
    "                res_idx = y_int.index(end, max(bw_idx-end_window,0),bw_idx)\n",
    "                if y_int[bw_idx] == in_between :\n",
    "                    y_int[bw_idx], y_int[res_idx] = y_int[res_idx], y_int[bw_idx]\n",
    "            except: \n",
    "                pass\n",
    "    \n",
    "    report = classification_report(y_int, pred_int, target_names = labels)\n",
    "    confusion_matrix = multilabel_confusion_matrix(y_int, pred_int)\n",
    "    print(report)\n",
    "    print(confusion_matrix)\n",
    "       \n",
    "pred_random = startSample() + betweenSample(50) + endSample()\n",
    "labels_random = betweenSample(10) + startSample(1) + betweenSample(30) + endSample() + betweenSample(10)\n"
   ],
   "metadata": {
    "execution": {
     "iopub.status.busy": "2023-12-11T10:53:07.937316Z",
     "iopub.status.idle": "2023-12-11T10:53:07.937996Z",
     "shell.execute_reply.started": "2023-12-11T10:53:07.937618Z",
     "shell.execute_reply": "2023-12-11T10:53:07.937640Z"
    },
    "trusted": true
   },
   "execution_count": null,
   "outputs": []
  },
  {
   "cell_type": "code",
   "source": [
    "def mark_event_positions(df):\n",
    "    # Mark start event of each BusinessActivity Instance\n",
    "    df[\"activityStart\"] = df.groupby([\"BusinessActivity\",\"InstanceNumber\",]).cumcount()==0\n",
    "    # Mark end event of each Business Activity Instance\n",
    "    df[\"activityEnd\"] = df.groupby([\"BusinessActivity\",\"InstanceNumber\",]).cumcount(ascending=False)==0\n",
    "    # Merge start and end columns to form labels\n",
    "    df[\"task_position\"] = df.apply(lambda row: \"position_start\" if row[\"activityStart\"] else (\"position_end\" if row[\"activityEnd\"] else 'position_between'), axis=1)\n",
    "\n",
    "    df = df.drop([\"activityStart\",'activityEnd'], axis=1)\n",
    "    \n",
    "mark_event_positions(df_r4)\n",
    "mark_event_positions(df_r1)"
   ],
   "metadata": {
    "execution": {
     "iopub.status.busy": "2023-12-11T10:53:07.939885Z",
     "iopub.status.idle": "2023-12-11T10:53:07.940390Z",
     "shell.execute_reply.started": "2023-12-11T10:53:07.940134Z",
     "shell.execute_reply": "2023-12-11T10:53:07.940154Z"
    },
    "trusted": true
   },
   "execution_count": null,
   "outputs": []
  },
  {
   "cell_type": "code",
   "source": [
    "# Label Encode the Message Type\n",
    "messageTypeEncoder = LabelEncoder()\n",
    "messageTypeEncoder.fit(df[\"MessageType\"].values)\n",
    "# Shift the labels by 1 to exclude 0 as label (we use it for padding starting sequences)\n",
    "# Train Data\n",
    "labels = messageTypeEncoder.transform(df[\"MessageType\"]) + 1\n",
    "\n",
    "# Interleaved data\n",
    "labels_interleaved = messageTypeEncoder.transform(df_interleaved[\"MessageType\"]) + 1\n"
   ],
   "metadata": {
    "execution": {
     "iopub.status.busy": "2023-12-11T10:53:07.941824Z",
     "iopub.status.idle": "2023-12-11T10:53:07.943828Z",
     "shell.execute_reply.started": "2023-12-11T10:53:07.942079Z",
     "shell.execute_reply": "2023-12-11T10:53:07.942100Z"
    },
    "trusted": true
   },
   "execution_count": null,
   "outputs": []
  },
  {
   "cell_type": "code",
   "source": [
    "# One hot encode the Labels\n",
    "encoder = LabelEncoder()\n",
    "y = encoder.fit_transform(df[\"task_position\"])\n",
    "y_interleaved = encoder.transform(df_interleaved[\"task_position\"])\n",
    "dummy_y = to_categorical(y)\n",
    "dummy_y_interleaved = to_categorical(y_interleaved)"
   ],
   "metadata": {
    "execution": {
     "iopub.status.busy": "2023-12-11T10:53:07.945433Z",
     "iopub.status.idle": "2023-12-11T10:53:07.945937Z",
     "shell.execute_reply.started": "2023-12-11T10:53:07.945709Z",
     "shell.execute_reply": "2023-12-11T10:53:07.945730Z"
    },
    "trusted": true
   },
   "execution_count": null,
   "outputs": []
  },
  {
   "cell_type": "code",
   "source": [
    "def sliding_window(observation, sequence_length = 50): \n",
    "    sequences = sliding_window_view(observation, sequence_length)\n",
    "    \n",
    "    # pad first n-1 elements\n",
    "    pad_top = [[0] * (sequence_length - 1 - i) + sequences[0, 0:i + 1].tolist() for i in range(sequence_length - 1)]\n",
    "    \n",
    "    res = np.insert(sequences,0, pad_top, axis=0)\n",
    "    #res = np.asarray(X).astype(np.float32) \n",
    "    #res = res.reshape(res.shape[0], res.shape[1], 1)\n",
    "    return res"
   ],
   "metadata": {
    "execution": {
     "iopub.status.busy": "2023-12-11T10:53:07.948898Z",
     "iopub.status.idle": "2023-12-11T10:53:07.949413Z",
     "shell.execute_reply.started": "2023-12-11T10:53:07.949178Z",
     "shell.execute_reply": "2023-12-11T10:53:07.949200Z"
    },
    "trusted": true
   },
   "execution_count": null,
   "outputs": []
  },
  {
   "cell_type": "code",
   "source": [
    "from keras.src.layers import LSTM\n",
    "from keras.layers import Bidirectional\n",
    "from keras import Input\n",
    "from keras.metrics import F1Score\n",
    "\n",
    "def baseline_model(sequence_length):\n",
    "    embedding_dim = 150\n",
    "\n",
    "    vocab_size = len(messageTypeEncoder.classes_) + 1\n",
    "    model = Sequential([\n",
    "        Input(shape=(sequence_length,)),\n",
    "        Embedding(input_dim=vocab_size, output_dim=embedding_dim),\n",
    "        LSTM(units=64),\n",
    "        Dense(3, activation='softmax')])\n",
    "    model.compile(loss='categorical_crossentropy', optimizer='adam', metrics=[F1Score()])\n",
    "    return model\n"
   ],
   "metadata": {
    "execution": {
     "iopub.status.busy": "2023-12-11T10:53:07.951561Z",
     "iopub.status.idle": "2023-12-11T10:53:07.952215Z",
     "shell.execute_reply.started": "2023-12-11T10:53:07.951973Z",
     "shell.execute_reply": "2023-12-11T10:53:07.951996Z"
    },
    "trusted": true
   },
   "execution_count": null,
   "outputs": []
  },
  {
   "cell_type": "code",
   "source": [
    "def evaluate(model, x_test, y_test):\n",
    "    pred = model.predict(x_test)\n",
    "    report = classification_report(y_test, pred, target_names = encoder.classes_)\n",
    "    confusion_matrix = multilabel_confusion_matrix(y_test, pred)\n",
    "    print(report)\n",
    "    print(confusion_matrix)\n",
    "    return report, confusion_matrix\n",
    "    "
   ],
   "metadata": {
    "execution": {
     "iopub.status.busy": "2023-12-11T10:53:07.953982Z",
     "iopub.status.idle": "2023-12-11T10:53:07.954466Z",
     "shell.execute_reply.started": "2023-12-11T10:53:07.954247Z",
     "shell.execute_reply": "2023-12-11T10:53:07.954268Z"
    },
    "trusted": true
   },
   "execution_count": null,
   "outputs": []
  },
  {
   "cell_type": "code",
   "source": [
    "def fit_and_evaluate(features, labels, model, sequence_length = 50, epochs = 100, batch_size = 500):\n",
    "    x = sliding_window(features,sequence_length)\n",
    "    x_train, x_test, y_train, y_test = train_test_split(x, labels, test_size = 0.2, shuffle = True, random_state = 42)\n",
    "    model = KerasClassifier(model = model(sequence_length), epochs = epochs, batch_size = batch_size, verbose = 1)\n",
    "    model.fit(x_train, y_train, sample_weight = None)\n",
    "    evaluate(model, x_test, y_test)\n",
    "    return model"
   ],
   "metadata": {
    "execution": {
     "iopub.status.busy": "2023-12-11T10:53:07.956054Z",
     "iopub.status.idle": "2023-12-11T10:53:07.956522Z",
     "shell.execute_reply.started": "2023-12-11T10:53:07.956308Z",
     "shell.execute_reply": "2023-12-11T10:53:07.956329Z"
    },
    "trusted": true
   },
   "execution_count": null,
   "outputs": []
  },
  {
   "cell_type": "code",
   "source": [
    "bl_50_model = fit_and_evaluate(labels,dummy_y,baseline_model, 50, 50, 250)"
   ],
   "metadata": {
    "execution": {
     "iopub.status.busy": "2023-12-11T10:53:07.957950Z",
     "iopub.status.idle": "2023-12-11T10:53:07.958397Z",
     "shell.execute_reply.started": "2023-12-11T10:53:07.958188Z",
     "shell.execute_reply": "2023-12-11T10:53:07.958208Z"
    },
    "trusted": true
   },
   "execution_count": null,
   "outputs": []
  },
  {
   "cell_type": "code",
   "source": [
    "bl_20_model = fit_and_evaluate(labels,dummy_y,baseline_model, 20, 50, 250)"
   ],
   "metadata": {
    "execution": {
     "iopub.status.busy": "2023-12-11T10:53:07.959586Z",
     "iopub.status.idle": "2023-12-11T10:53:07.960073Z",
     "shell.execute_reply.started": "2023-12-11T10:53:07.959853Z",
     "shell.execute_reply": "2023-12-11T10:53:07.959874Z"
    },
    "trusted": true
   },
   "execution_count": null,
   "outputs": []
  },
  {
   "cell_type": "code",
   "source": [
    "bl_15_model = fit_and_evaluate(labels,dummy_y,baseline_model, 15, 100, 250)"
   ],
   "metadata": {
    "execution": {
     "iopub.status.busy": "2023-12-11T10:53:07.961467Z",
     "iopub.status.idle": "2023-12-11T10:53:07.962055Z",
     "shell.execute_reply.started": "2023-12-11T10:53:07.961706Z",
     "shell.execute_reply": "2023-12-11T10:53:07.961728Z"
    },
    "trusted": true
   },
   "execution_count": null,
   "outputs": []
  },
  {
   "cell_type": "code",
   "source": [
    "bl_10_model = fit_and_evaluate(labels,dummy_y,baseline_model, 10, 100, 250)"
   ],
   "metadata": {
    "execution": {
     "iopub.status.busy": "2023-12-11T10:53:07.963766Z",
     "iopub.status.idle": "2023-12-11T10:53:07.964236Z",
     "shell.execute_reply.started": "2023-12-11T10:53:07.964028Z",
     "shell.execute_reply": "2023-12-11T10:53:07.964049Z"
    },
    "trusted": true
   },
   "execution_count": null,
   "outputs": []
  },
  {
   "cell_type": "markdown",
   "source": [
    "## Evaluate on inverleaved data"
   ],
   "metadata": {}
  },
  {
   "cell_type": "code",
   "source": [
    "x_50_interleaved = sliding_window(labels_interleaved,50)\n",
    "res_50 = evaluate(bl_50_model, x_50_interleaved, dummy_y_interleaved)"
   ],
   "metadata": {
    "execution": {
     "iopub.status.busy": "2023-12-11T10:53:07.965555Z",
     "iopub.status.idle": "2023-12-11T10:53:07.966029Z",
     "shell.execute_reply.started": "2023-12-11T10:53:07.965805Z",
     "shell.execute_reply": "2023-12-11T10:53:07.965835Z"
    },
    "trusted": true
   },
   "execution_count": null,
   "outputs": []
  },
  {
   "cell_type": "code",
   "source": [
    "x_20_interleaved = sliding_window(labels_interleaved,20)\n",
    "res_20 = evaluate(bl_20_model, x_20_interleaved, dummy_y_interleaved)"
   ],
   "metadata": {
    "execution": {
     "iopub.status.busy": "2023-12-11T10:53:07.967832Z",
     "iopub.status.idle": "2023-12-11T10:53:07.968305Z",
     "shell.execute_reply.started": "2023-12-11T10:53:07.968087Z",
     "shell.execute_reply": "2023-12-11T10:53:07.968109Z"
    },
    "trusted": true
   },
   "execution_count": null,
   "outputs": []
  },
  {
   "cell_type": "code",
   "source": [
    "len(dummy_y_interleaved)"
   ],
   "metadata": {
    "execution": {
     "iopub.status.busy": "2023-12-11T10:53:07.969952Z",
     "iopub.status.idle": "2023-12-11T10:53:07.970441Z",
     "shell.execute_reply.started": "2023-12-11T10:53:07.970199Z",
     "shell.execute_reply": "2023-12-11T10:53:07.970219Z"
    },
    "trusted": true
   },
   "execution_count": null,
   "outputs": []
  },
  {
   "cell_type": "code",
   "source": [],
   "metadata": {},
   "execution_count": null,
   "outputs": []
  }
 ]
}
