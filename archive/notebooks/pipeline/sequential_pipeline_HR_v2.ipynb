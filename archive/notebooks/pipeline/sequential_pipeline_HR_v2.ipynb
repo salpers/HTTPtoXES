{
 "cells": [
  {
   "cell_type": "code",
   "execution_count": 65,
   "outputs": [
    {
     "name": "stdout",
     "output_type": "stream",
     "text": [
      "The autoreload extension is already loaded. To reload it, use:\n",
      "  %reload_ext autoreload\n",
      "The memory_profiler extension is already loaded. To reload it, use:\n",
      "  %reload_ext memory_profiler\n"
     ]
    }
   ],
   "source": [
    "import ast\n",
    "import re\n",
    "from event_loop.preprocessing.dataframe import *\n",
    "\n",
    "import metrics\n",
    "import numpy as np\n",
    "import pandas as pd\n",
    "\n",
    "from sklearn.metrics import classification_report\n",
    "\n",
    "%load_ext autoreload\n",
    "%load_ext memory_profiler"
   ],
   "metadata": {
    "collapsed": false,
    "ExecuteTime": {
     "end_time": "2024-04-29T16:49:26.812927Z",
     "start_time": "2024-04-29T16:49:23.248925Z"
    }
   },
   "id": "e78c62da13f69969"
  },
  {
   "cell_type": "markdown",
   "source": [
    "# Prerequisuites"
   ],
   "metadata": {
    "collapsed": false
   },
   "id": "9af28cc8576de679"
  },
  {
   "cell_type": "markdown",
   "source": [
    "## Activity Action Model\n",
    "Train a Model with the task of classifying Start, End and NoAction events in the interleaved data. \n",
    "Training is done during a \"warmup\" phase with generated training data. "
   ],
   "metadata": {
    "collapsed": false
   },
   "id": "7d390ec7d82748f9"
  },
  {
   "cell_type": "markdown",
   "source": [
    "### Load Data"
   ],
   "metadata": {
    "collapsed": false
   },
   "id": "b71fca8f257d622"
  },
  {
   "cell_type": "code",
   "execution_count": 66,
   "outputs": [],
   "source": [
    "# HR data in data/Train/R1 is missing frame.number. We take another (already filtered) dataset and apply our feature extraction to this one\n",
    "df_train_in = pd.read_csv('../../data_v3/hr_extended_features.csv', converters={\"MessageAttributes\": ast.literal_eval})"
   ],
   "metadata": {
    "collapsed": false,
    "ExecuteTime": {
     "end_time": "2024-04-29T16:49:26.948693Z",
     "start_time": "2024-04-29T16:49:23.491507Z"
    }
   },
   "id": "490cfbb42b29d0f0"
  },
  {
   "cell_type": "markdown",
   "source": [],
   "metadata": {
    "collapsed": false
   },
   "id": "d961b8f0666e53"
  },
  {
   "cell_type": "code",
   "execution_count": 67,
   "outputs": [],
   "source": [
    "# This is the Interleaved Data Set for our pipeline\n",
    "df_il_in = pd.read_csv('../../data/HR-INTERLEAVED/R1/R1.csv', converters={\"MessageAttributes\": ast.literal_eval})"
   ],
   "metadata": {
    "collapsed": false,
    "ExecuteTime": {
     "end_time": "2024-04-29T16:49:26.948957Z",
     "start_time": "2024-04-29T16:49:25.097852Z"
    }
   },
   "id": "4ba9ef52affe721a"
  },
  {
   "cell_type": "code",
   "execution_count": 68,
   "outputs": [
    {
     "data": {
      "text/plain": "61403"
     },
     "execution_count": 68,
     "metadata": {},
     "output_type": "execute_result"
    }
   ],
   "source": [
    "len(df_il_in)"
   ],
   "metadata": {
    "collapsed": false,
    "ExecuteTime": {
     "end_time": "2024-04-29T16:49:26.949311Z",
     "start_time": "2024-04-29T16:49:26.409052Z"
    }
   },
   "id": "5f07a6e5a32e5f48"
  },
  {
   "cell_type": "markdown",
   "source": [
    "### Preprocessing"
   ],
   "metadata": {
    "collapsed": false
   },
   "id": "9cdfd16523df0b5b"
  },
  {
   "cell_type": "code",
   "execution_count": 69,
   "outputs": [],
   "source": [
    "# data is at R1 Level. Apply filter and feature extraction\n",
    "df_train = pre_process(df_train_in)\n",
    "\n",
    "df_test = pre_process(df_il_in)"
   ],
   "metadata": {
    "collapsed": false,
    "ExecuteTime": {
     "end_time": "2024-04-29T16:49:39.500405Z",
     "start_time": "2024-04-29T16:49:26.429527Z"
    }
   },
   "id": "195cf763c2fc9f23"
  },
  {
   "cell_type": "code",
   "execution_count": 70,
   "outputs": [
    {
     "data": {
      "text/plain": "1313"
     },
     "execution_count": 70,
     "metadata": {},
     "output_type": "execute_result"
    }
   ],
   "source": [
    "len(df_test)"
   ],
   "metadata": {
    "collapsed": false,
    "ExecuteTime": {
     "end_time": "2024-04-29T16:49:39.554404Z",
     "start_time": "2024-04-29T16:49:39.498960Z"
    }
   },
   "id": "e4af15efe0465f37"
  },
  {
   "cell_type": "code",
   "execution_count": 71,
   "outputs": [],
   "source": [
    "# Load start and end events from ground truth data.\n",
    "# Tag according frames in interleaved data for testing\n",
    "df_gt = pd.read_csv(\"../../data_v3/hr_ground_truth.csv\")\n",
    "\n",
    "start_indices = df_gt[\"start\"].tolist()\n",
    "end_indices = df_gt[\"actual_end\"].tolist()\n",
    "\n",
    "df_test[\"ActivityAction\"] = df_test[\"frame.number\"].apply(lambda x: \"Activity Start\" if x in start_indices else\n",
    "(\"Activity End\" if x in end_indices else \"NoAction\"))"
   ],
   "metadata": {
    "collapsed": false,
    "ExecuteTime": {
     "end_time": "2024-04-29T16:49:39.619161Z",
     "start_time": "2024-04-29T16:49:39.523707Z"
    }
   },
   "id": "ff49214adb9839a7"
  },
  {
   "cell_type": "code",
   "execution_count": 72,
   "outputs": [
    {
     "data": {
      "text/plain": "SequenceNumber\n13     132\n21     115\n6      115\n1      115\n5       96\n      ... \n404     15\n158     15\n157     15\n25      15\n154     14\nName: count, Length: 933, dtype: int64"
     },
     "execution_count": 72,
     "metadata": {},
     "output_type": "execute_result"
    }
   ],
   "source": [
    "# ------------ OPTIONAL ---------------\n",
    "# TODO Duplicate with Activity Model - move down and delete\n",
    "# Form sequences in training data by grouping\n",
    "df_train = df_train.sort_values(by=[\"InstanceNumber\", \"BusinessActivity\", \"frame.number\"])\n",
    "df_train[\"SequenceNumber\"] = df_train.groupby([\"BusinessActivity\", \"InstanceNumber\"]).ngroup()\n",
    "df_train[\"SequenceNumber\"] -= df_train['SequenceNumber'].min()\n",
    "\n",
    "# check sequence length of training data\n",
    "df_train[\"SequenceNumber\"].value_counts()"
   ],
   "metadata": {
    "collapsed": false,
    "ExecuteTime": {
     "end_time": "2024-04-29T16:49:39.697468Z",
     "start_time": "2024-04-29T16:49:39.546516Z"
    }
   },
   "id": "a9950736f0722f85"
  },
  {
   "cell_type": "code",
   "execution_count": 73,
   "outputs": [],
   "source": [
    "def mark_start_end(df):\n",
    "    # Mark start event of each BusinessActivity Instance\n",
    "    df[\"activityStart\"] = df.groupby([\"BusinessActivity\", \"InstanceNumber\", ]).cumcount() == 0\n",
    "    # Mark end event of each Business Activity Instance\n",
    "    df[\"activityEnd\"] = df.groupby([\"BusinessActivity\", \"InstanceNumber\", ]).cumcount(ascending=False) == 0\n",
    "    # Merge start and end columns to form labels\n",
    "    df[\"ActivityAction\"] = df.apply(lambda row: \"Activity Start\" if row[\"activityStart\"] else (\n",
    "        \"Activity End\" if row[\"activityEnd\"] else 'NoAction'), axis=1)\n",
    "\n",
    "    return df.drop([\"activityStart\", 'activityEnd'], axis=1)\n",
    "\n",
    "\n",
    "df_train = mark_start_end(df_train)"
   ],
   "metadata": {
    "collapsed": false,
    "ExecuteTime": {
     "end_time": "2024-04-29T16:49:39.811504Z",
     "start_time": "2024-04-29T16:49:39.597518Z"
    }
   },
   "id": "c29d2381e98a2df"
  },
  {
   "cell_type": "code",
   "execution_count": 74,
   "outputs": [],
   "source": [
    "cols = [\"event_with_roles\", \"request_method_call\", \"selective_file_data\", \n",
    "        \"origin_method\",\"origin_file_data\"]\n"
   ],
   "metadata": {
    "collapsed": false,
    "ExecuteTime": {
     "end_time": "2024-04-29T16:49:39.856661Z",
     "start_time": "2024-04-29T16:49:39.799752Z"
    }
   },
   "id": "e04dd419e6dd519"
  },
  {
   "cell_type": "code",
   "execution_count": 75,
   "outputs": [],
   "source": [
    "def dict_to_features(dict):\n",
    "    return [[{**d, \"bias\": 1.0}] for d in dict]\n",
    "\n",
    "def extract_labels(labels):\n",
    "    return [[y] for y in labels]"
   ],
   "metadata": {
    "collapsed": false,
    "ExecuteTime": {
     "end_time": "2024-04-29T16:49:39.887824Z",
     "start_time": "2024-04-29T16:49:39.819641Z"
    }
   },
   "id": "c63cd9530571e015"
  },
  {
   "cell_type": "code",
   "execution_count": 76,
   "outputs": [],
   "source": [
    "# exclude from training data \n",
    "df_train_filt = df_train[~df_train[\"SequenceNumber\"].isin([128])]\n"
   ],
   "metadata": {
    "collapsed": false,
    "ExecuteTime": {
     "end_time": "2024-04-29T16:49:39.919701Z",
     "start_time": "2024-04-29T16:49:39.844951Z"
    }
   },
   "id": "ef9a7078a4d6971f"
  },
  {
   "cell_type": "code",
   "execution_count": 77,
   "outputs": [],
   "source": [
    "train_features = df_train_filt[cols].to_dict(\"records\")\n",
    "train_features = dict_to_features(train_features)\n",
    "train_labels = extract_labels(df_train_filt[\"ActivityAction\"])"
   ],
   "metadata": {
    "collapsed": false,
    "ExecuteTime": {
     "end_time": "2024-04-29T16:49:40.002041Z",
     "start_time": "2024-04-29T16:49:39.871034Z"
    }
   },
   "id": "ea316f5a912cfb5f"
  },
  {
   "cell_type": "code",
   "execution_count": 78,
   "outputs": [],
   "source": [
    "test_features = df_test[cols].to_dict(\"records\")\n",
    "test_features = dict_to_features(test_features)\n",
    "test_labels = extract_labels(df_test[\"ActivityAction\"])"
   ],
   "metadata": {
    "collapsed": false,
    "ExecuteTime": {
     "end_time": "2024-04-29T16:49:40.028523Z",
     "start_time": "2024-04-29T16:49:40.002202Z"
    }
   },
   "id": "409c5bf853c5cf34"
  },
  {
   "cell_type": "markdown",
   "source": [
    "### Model Training"
   ],
   "metadata": {
    "collapsed": false
   },
   "id": "7273e609ed8e6a30"
  },
  {
   "cell_type": "code",
   "execution_count": 79,
   "outputs": [],
   "source": [
    "# optional Train Test split for evaluation on training data\n",
    "# In prod case, we train on 100% training data and evaluate on interleaved data\n",
    "from sklearn.model_selection import train_test_split\n",
    "\n",
    "X_train, X_test, y_train, y_test = train_test_split(train_features, train_labels, test_size=0.3, random_state=42)"
   ],
   "metadata": {
    "collapsed": false,
    "ExecuteTime": {
     "end_time": "2024-04-29T16:49:40.090420Z",
     "start_time": "2024-04-29T16:49:40.022862Z"
    }
   },
   "id": "a391e8d3a432ad17"
  },
  {
   "cell_type": "code",
   "execution_count": 80,
   "outputs": [
    {
     "name": "stdout",
     "output_type": "stream",
     "text": [
      "CPU times: user 1.16 s, sys: 6.55 ms, total: 1.17 s\n",
      "Wall time: 1.19 s\n"
     ]
    },
    {
     "data": {
      "text/plain": "CRF(all_possible_transitions=True, c1=0.1, c2=0.01, max_iterations=200)",
      "text/html": "<style>#sk-container-id-3 {color: black;}#sk-container-id-3 pre{padding: 0;}#sk-container-id-3 div.sk-toggleable {background-color: white;}#sk-container-id-3 label.sk-toggleable__label {cursor: pointer;display: block;width: 100%;margin-bottom: 0;padding: 0.3em;box-sizing: border-box;text-align: center;}#sk-container-id-3 label.sk-toggleable__label-arrow:before {content: \"▸\";float: left;margin-right: 0.25em;color: #696969;}#sk-container-id-3 label.sk-toggleable__label-arrow:hover:before {color: black;}#sk-container-id-3 div.sk-estimator:hover label.sk-toggleable__label-arrow:before {color: black;}#sk-container-id-3 div.sk-toggleable__content {max-height: 0;max-width: 0;overflow: hidden;text-align: left;background-color: #f0f8ff;}#sk-container-id-3 div.sk-toggleable__content pre {margin: 0.2em;color: black;border-radius: 0.25em;background-color: #f0f8ff;}#sk-container-id-3 input.sk-toggleable__control:checked~div.sk-toggleable__content {max-height: 200px;max-width: 100%;overflow: auto;}#sk-container-id-3 input.sk-toggleable__control:checked~label.sk-toggleable__label-arrow:before {content: \"▾\";}#sk-container-id-3 div.sk-estimator input.sk-toggleable__control:checked~label.sk-toggleable__label {background-color: #d4ebff;}#sk-container-id-3 div.sk-label input.sk-toggleable__control:checked~label.sk-toggleable__label {background-color: #d4ebff;}#sk-container-id-3 input.sk-hidden--visually {border: 0;clip: rect(1px 1px 1px 1px);clip: rect(1px, 1px, 1px, 1px);height: 1px;margin: -1px;overflow: hidden;padding: 0;position: absolute;width: 1px;}#sk-container-id-3 div.sk-estimator {font-family: monospace;background-color: #f0f8ff;border: 1px dotted black;border-radius: 0.25em;box-sizing: border-box;margin-bottom: 0.5em;}#sk-container-id-3 div.sk-estimator:hover {background-color: #d4ebff;}#sk-container-id-3 div.sk-parallel-item::after {content: \"\";width: 100%;border-bottom: 1px solid gray;flex-grow: 1;}#sk-container-id-3 div.sk-label:hover label.sk-toggleable__label {background-color: #d4ebff;}#sk-container-id-3 div.sk-serial::before {content: \"\";position: absolute;border-left: 1px solid gray;box-sizing: border-box;top: 0;bottom: 0;left: 50%;z-index: 0;}#sk-container-id-3 div.sk-serial {display: flex;flex-direction: column;align-items: center;background-color: white;padding-right: 0.2em;padding-left: 0.2em;position: relative;}#sk-container-id-3 div.sk-item {position: relative;z-index: 1;}#sk-container-id-3 div.sk-parallel {display: flex;align-items: stretch;justify-content: center;background-color: white;position: relative;}#sk-container-id-3 div.sk-item::before, #sk-container-id-3 div.sk-parallel-item::before {content: \"\";position: absolute;border-left: 1px solid gray;box-sizing: border-box;top: 0;bottom: 0;left: 50%;z-index: -1;}#sk-container-id-3 div.sk-parallel-item {display: flex;flex-direction: column;z-index: 1;position: relative;background-color: white;}#sk-container-id-3 div.sk-parallel-item:first-child::after {align-self: flex-end;width: 50%;}#sk-container-id-3 div.sk-parallel-item:last-child::after {align-self: flex-start;width: 50%;}#sk-container-id-3 div.sk-parallel-item:only-child::after {width: 0;}#sk-container-id-3 div.sk-dashed-wrapped {border: 1px dashed gray;margin: 0 0.4em 0.5em 0.4em;box-sizing: border-box;padding-bottom: 0.4em;background-color: white;}#sk-container-id-3 div.sk-label label {font-family: monospace;font-weight: bold;display: inline-block;line-height: 1.2em;}#sk-container-id-3 div.sk-label-container {text-align: center;}#sk-container-id-3 div.sk-container {/* jupyter's `normalize.less` sets `[hidden] { display: none; }` but bootstrap.min.css set `[hidden] { display: none !important; }` so we also need the `!important` here to be able to override the default hidden behavior on the sphinx rendered scikit-learn.org. See: https://github.com/scikit-learn/scikit-learn/issues/21755 */display: inline-block !important;position: relative;}#sk-container-id-3 div.sk-text-repr-fallback {display: none;}</style><div id=\"sk-container-id-3\" class=\"sk-top-container\"><div class=\"sk-text-repr-fallback\"><pre>CRF(all_possible_transitions=True, c1=0.1, c2=0.01, max_iterations=200)</pre><b>In a Jupyter environment, please rerun this cell to show the HTML representation or trust the notebook. <br />On GitHub, the HTML representation is unable to render, please try loading this page with nbviewer.org.</b></div><div class=\"sk-container\" hidden><div class=\"sk-item\"><div class=\"sk-estimator sk-toggleable\"><input class=\"sk-toggleable__control sk-hidden--visually\" id=\"sk-estimator-id-3\" type=\"checkbox\" checked><label for=\"sk-estimator-id-3\" class=\"sk-toggleable__label sk-toggleable__label-arrow\">CRF</label><div class=\"sk-toggleable__content\"><pre>CRF(all_possible_transitions=True, c1=0.1, c2=0.01, max_iterations=200)</pre></div></div></div></div></div>"
     },
     "execution_count": 80,
     "metadata": {},
     "output_type": "execute_result"
    }
   ],
   "source": [
    "%%time\n",
    "import sklearn_crfsuite\n",
    "\n",
    "crf = sklearn_crfsuite.CRF(\n",
    "    max_iterations=200,\n",
    "    c1=0.1,\n",
    "    c2=0.01,\n",
    "    all_possible_transitions=True\n",
    "    #all_possible_transitions=True\n",
    ")\n",
    "crf.fit(train_features, train_labels)"
   ],
   "metadata": {
    "collapsed": false,
    "ExecuteTime": {
     "end_time": "2024-04-29T16:49:41.277456Z",
     "start_time": "2024-04-29T16:49:40.071839Z"
    }
   },
   "id": "db466e19f598b17e"
  },
  {
   "cell_type": "markdown",
   "source": [
    "### Optimization"
   ],
   "metadata": {
    "collapsed": false
   },
   "id": "f5b9eb1c58112b03"
  },
  {
   "cell_type": "code",
   "execution_count": 81,
   "outputs": [],
   "source": [
    "from sklearn.metrics import make_scorer\n",
    "import scipy\n",
    "from sklearn.model_selection import RandomizedSearchCV\n",
    "from sklearn_crfsuite import metrics\n",
    "\n",
    "# define fixed parameters and parameters to search\n",
    "crf2 = sklearn_crfsuite.CRF(\n",
    "    algorithm='lbfgs', \n",
    "    max_iterations=200, \n",
    "    all_possible_transitions=True\n",
    ")\n",
    "params_space = {\n",
    "    'c1': scipy.stats.expon(scale=0.5),\n",
    "    'c2': scipy.stats.expon(scale=0.05),\n",
    "}\n",
    "\n",
    "# use the same metric for evaluation\n",
    "f1_scorer = make_scorer(metrics.flat_f1_score, \n",
    "                        average='macro', labels=np.unique(test_labels))\n",
    "\n",
    "# search\n",
    "rs = RandomizedSearchCV(crf, params_space, \n",
    "                        cv=5, \n",
    "                        verbose=1, \n",
    "                        n_jobs=-1, \n",
    "                        n_iter=150, \n",
    "                        scoring=f1_scorer)\n",
    "#rs.fit(train_features, train_labels)\n",
    "\n",
    "#crf = rs.best_estimator_"
   ],
   "metadata": {
    "collapsed": false,
    "ExecuteTime": {
     "end_time": "2024-04-29T16:49:41.306472Z",
     "start_time": "2024-04-29T16:49:41.274564Z"
    }
   },
   "id": "14bec2b77fb107d9"
  },
  {
   "cell_type": "markdown",
   "source": [
    "### Evaluation"
   ],
   "metadata": {
    "collapsed": false
   },
   "id": "69dd96cbeb352f78"
  },
  {
   "cell_type": "code",
   "execution_count": 82,
   "outputs": [],
   "source": [
    "from sklearn.metrics import multilabel_confusion_matrix\n",
    "from sklearn_crfsuite import metrics\n",
    "\n",
    "\n",
    "def flatten(xss):\n",
    "    return [x for xs in xss for x in xs]\n",
    "\n",
    "\n",
    "def evaluate(model, x, y_true):\n",
    "    y_pred = model.predict(x)\n",
    "    print(metrics.flat_f1_score(y_true, y_pred, average='macro', labels=model.classes_))\n",
    "    print(metrics.flat_classification_report(y_true, y_pred, model.classes_))\n",
    "    [print(label, \"\\n\", matrix) for matrix, label in\n",
    "     zip(multilabel_confusion_matrix(flatten(y_true), flatten(y_pred), labels=model.classes_), model.classes_)]\n"
   ],
   "metadata": {
    "collapsed": false,
    "ExecuteTime": {
     "end_time": "2024-04-29T16:49:41.370747Z",
     "start_time": "2024-04-29T16:49:41.291484Z"
    }
   },
   "id": "ec5f57cdddd3a1ac"
  },
  {
   "cell_type": "code",
   "execution_count": 83,
   "outputs": [
    {
     "name": "stdout",
     "output_type": "stream",
     "text": [
      "0.9608303595410767\n",
      "                precision    recall  f1-score   support\n",
      "\n",
      "Activity Start       1.00      1.00      1.00        37\n",
      "      NoAction       1.00      1.00      1.00      1239\n",
      "  Activity End       0.94      0.84      0.89        37\n",
      "\n",
      "      accuracy                           0.99      1313\n",
      "     macro avg       0.98      0.95      0.96      1313\n",
      "  weighted avg       0.99      0.99      0.99      1313\n",
      "\n",
      "Activity Start \n",
      " [[1276    0]\n",
      " [   0   37]]\n",
      "NoAction \n",
      " [[  68    6]\n",
      " [   2 1237]]\n",
      "Activity End \n",
      " [[1274    2]\n",
      " [   6   31]]\n"
     ]
    }
   ],
   "source": [
    "evaluate(crf, test_features, test_labels)"
   ],
   "metadata": {
    "collapsed": false,
    "ExecuteTime": {
     "end_time": "2024-04-29T16:49:41.400549Z",
     "start_time": "2024-04-29T16:49:41.305428Z"
    }
   },
   "id": "45bc3c515329882c"
  },
  {
   "cell_type": "code",
   "execution_count": 84,
   "outputs": [],
   "source": [
    "import pickle\n",
    "\n",
    "with open('hr_activity_action.pkl', 'wb') as f:  # open a text file\n",
    "    pickle.dump(crf, f)"
   ],
   "metadata": {
    "collapsed": false,
    "ExecuteTime": {
     "end_time": "2024-04-29T16:49:41.400723Z",
     "start_time": "2024-04-29T16:49:41.347285Z"
    }
   },
   "id": "4c32b3b9498887e3"
  },
  {
   "cell_type": "code",
   "execution_count": 85,
   "outputs": [],
   "source": [
    "pred = crf.predict(test_features)"
   ],
   "metadata": {
    "collapsed": false,
    "ExecuteTime": {
     "end_time": "2024-04-29T16:49:41.425826Z",
     "start_time": "2024-04-29T16:49:41.367769Z"
    }
   },
   "id": "90381f179bed01ec"
  },
  {
   "cell_type": "code",
   "execution_count": 86,
   "outputs": [],
   "source": [
    "pred_mg = crf.predict_marginals(test_features)"
   ],
   "metadata": {
    "collapsed": false,
    "ExecuteTime": {
     "end_time": "2024-04-29T16:49:41.523119Z",
     "start_time": "2024-04-29T16:49:41.384703Z"
    }
   },
   "id": "b4e393fddea92c82"
  },
  {
   "cell_type": "code",
   "execution_count": 87,
   "outputs": [],
   "source": [
    "#margs = [pred_mg[i] for i in wrong_pred_idx]\n",
    "columns = pred_mg[0][0].keys()\n",
    "flat_margs = [[entry[column] for column in columns] for sublist in pred_mg for entry in sublist]\n",
    "df_margs = pd.DataFrame(flat_margs, columns=columns)"
   ],
   "metadata": {
    "collapsed": false,
    "ExecuteTime": {
     "end_time": "2024-04-29T16:49:41.523652Z",
     "start_time": "2024-04-29T16:49:41.408074Z"
    }
   },
   "id": "a963def031360d96"
  },
  {
   "cell_type": "code",
   "execution_count": 88,
   "outputs": [],
   "source": [
    "#df_eval = pd.DataFrame([(pred[i], test_labels[i], df_test.iloc[i][\"frame.number\"] ) for i in wrong_pred_idx],columns = [\"predicted\",\"true\",\"frame.number\"],)\n",
    "\n",
    "df_eval = pd.DataFrame({\"predicted\": pred, \"true\": test_labels, \"frame.number\":df_test[\"frame.number\"]}).reset_index(drop=True)\n",
    "\n",
    "df_eval = pd.concat([df_eval, df_margs], axis = 1)\n",
    "\n",
    "df_eval[\"pred_true\"] = df_eval[\"predicted\"] == df_eval[\"true\"]\n",
    "\n"
   ],
   "metadata": {
    "collapsed": false,
    "ExecuteTime": {
     "end_time": "2024-04-29T16:49:41.545713Z",
     "start_time": "2024-04-29T16:49:41.424209Z"
    }
   },
   "id": "191d12b5ca393c44"
  },
  {
   "cell_type": "code",
   "execution_count": 89,
   "outputs": [],
   "source": [
    "from scipy.stats import entropy\n",
    "\n",
    "entropy_cols = ['Activity Start', 'NoAction', 'Activity End']\n",
    "\n",
    "# Calculate entropy for each row using the specified columns\n",
    "df_eval[\"entropy\"] = df_eval[entropy_cols].apply(entropy, axis=1)\n"
   ],
   "metadata": {
    "collapsed": false,
    "ExecuteTime": {
     "end_time": "2024-04-29T16:49:41.547693Z",
     "start_time": "2024-04-29T16:49:41.438646Z"
    }
   },
   "id": "3a7fc79dec58261c"
  },
  {
   "cell_type": "code",
   "execution_count": 90,
   "outputs": [
    {
     "data": {
      "text/plain": "           predicted            true  frame.number  Activity Start  NoAction  \\\n126       [NoAction]  [Activity End]          2336        0.000312  0.533650   \n403       [NoAction]  [Activity End]          8044        0.000312  0.533650   \n471       [NoAction]  [Activity End]          9329        0.000312  0.533650   \n749       [NoAction]  [Activity End]         15350        0.000312  0.533650   \n983       [NoAction]  [Activity End]         20665        0.000312  0.533650   \n1013      [NoAction]  [Activity End]         21651        0.000192  0.711912   \n313   [Activity End]      [NoAction]          6266        0.000212  0.259278   \n1214  [Activity End]      [NoAction]         26182        0.000212  0.259278   \n\n      Activity End  pred_true   entropy  \n126       0.466037      False  0.693477  \n403       0.466037      False  0.693477  \n471       0.466037      False  0.693477  \n749       0.466037      False  0.693477  \n983       0.466037      False  0.693477  \n1013      0.287896      False  0.602024  \n313       0.740510      False  0.574246  \n1214      0.740510      False  0.574246  ",
      "text/html": "<div>\n<style scoped>\n    .dataframe tbody tr th:only-of-type {\n        vertical-align: middle;\n    }\n\n    .dataframe tbody tr th {\n        vertical-align: top;\n    }\n\n    .dataframe thead th {\n        text-align: right;\n    }\n</style>\n<table border=\"1\" class=\"dataframe\">\n  <thead>\n    <tr style=\"text-align: right;\">\n      <th></th>\n      <th>predicted</th>\n      <th>true</th>\n      <th>frame.number</th>\n      <th>Activity Start</th>\n      <th>NoAction</th>\n      <th>Activity End</th>\n      <th>pred_true</th>\n      <th>entropy</th>\n    </tr>\n  </thead>\n  <tbody>\n    <tr>\n      <th>126</th>\n      <td>[NoAction]</td>\n      <td>[Activity End]</td>\n      <td>2336</td>\n      <td>0.000312</td>\n      <td>0.533650</td>\n      <td>0.466037</td>\n      <td>False</td>\n      <td>0.693477</td>\n    </tr>\n    <tr>\n      <th>403</th>\n      <td>[NoAction]</td>\n      <td>[Activity End]</td>\n      <td>8044</td>\n      <td>0.000312</td>\n      <td>0.533650</td>\n      <td>0.466037</td>\n      <td>False</td>\n      <td>0.693477</td>\n    </tr>\n    <tr>\n      <th>471</th>\n      <td>[NoAction]</td>\n      <td>[Activity End]</td>\n      <td>9329</td>\n      <td>0.000312</td>\n      <td>0.533650</td>\n      <td>0.466037</td>\n      <td>False</td>\n      <td>0.693477</td>\n    </tr>\n    <tr>\n      <th>749</th>\n      <td>[NoAction]</td>\n      <td>[Activity End]</td>\n      <td>15350</td>\n      <td>0.000312</td>\n      <td>0.533650</td>\n      <td>0.466037</td>\n      <td>False</td>\n      <td>0.693477</td>\n    </tr>\n    <tr>\n      <th>983</th>\n      <td>[NoAction]</td>\n      <td>[Activity End]</td>\n      <td>20665</td>\n      <td>0.000312</td>\n      <td>0.533650</td>\n      <td>0.466037</td>\n      <td>False</td>\n      <td>0.693477</td>\n    </tr>\n    <tr>\n      <th>1013</th>\n      <td>[NoAction]</td>\n      <td>[Activity End]</td>\n      <td>21651</td>\n      <td>0.000192</td>\n      <td>0.711912</td>\n      <td>0.287896</td>\n      <td>False</td>\n      <td>0.602024</td>\n    </tr>\n    <tr>\n      <th>313</th>\n      <td>[Activity End]</td>\n      <td>[NoAction]</td>\n      <td>6266</td>\n      <td>0.000212</td>\n      <td>0.259278</td>\n      <td>0.740510</td>\n      <td>False</td>\n      <td>0.574246</td>\n    </tr>\n    <tr>\n      <th>1214</th>\n      <td>[Activity End]</td>\n      <td>[NoAction]</td>\n      <td>26182</td>\n      <td>0.000212</td>\n      <td>0.259278</td>\n      <td>0.740510</td>\n      <td>False</td>\n      <td>0.574246</td>\n    </tr>\n  </tbody>\n</table>\n</div>"
     },
     "execution_count": 90,
     "metadata": {},
     "output_type": "execute_result"
    }
   ],
   "source": [
    "df_eval[~ df_eval[\"pred_true\"]].sort_values(by='entropy', ascending=False)"
   ],
   "metadata": {
    "collapsed": false,
    "ExecuteTime": {
     "end_time": "2024-04-29T16:49:41.549400Z",
     "start_time": "2024-04-29T16:49:41.463639Z"
    }
   },
   "id": "f0ef00109c4bc1ba"
  },
  {
   "cell_type": "code",
   "execution_count": 91,
   "outputs": [],
   "source": [
    "eval_cols = [\"event_with_roles\",\"pgsql.query\", \"request_method_call\", \"selective_file_data\", \n",
    "        \"origin_method\",\"origin_file_data\"]\n",
    "\n",
    "df_eval = df_eval.merge(df_test[[\"frame.number\", *eval_cols]], how=\"left\",left_on=\"frame.number\", right_on=\"frame.number\")"
   ],
   "metadata": {
    "collapsed": false,
    "ExecuteTime": {
     "end_time": "2024-04-29T16:49:41.549946Z",
     "start_time": "2024-04-29T16:49:41.483313Z"
    }
   },
   "id": "85ca496858c26f9"
  },
  {
   "cell_type": "markdown",
   "source": [
    "We observe a high entropy > 0.5 for all wrong classifications\n",
    "\n",
    "-> Apply fallback model for this cases"
   ],
   "metadata": {
    "collapsed": false
   },
   "id": "b2bc8f3dfd034489"
  },
  {
   "cell_type": "markdown",
   "source": [
    "## Activity Classifier"
   ],
   "metadata": {
    "collapsed": false
   },
   "id": "5bdc70e88fa15243"
  },
  {
   "cell_type": "code",
   "execution_count": 92,
   "outputs": [],
   "source": [
    "def sequence_by_activities(data, seq_data):\n",
    "    return [data[seq_data == i] for i in range(seq_data.max())]"
   ],
   "metadata": {
    "collapsed": false,
    "ExecuteTime": {
     "end_time": "2024-04-29T16:49:41.550138Z",
     "start_time": "2024-04-29T16:49:41.503646Z"
    }
   },
   "id": "b44e957d2bdcfb89"
  },
  {
   "cell_type": "code",
   "execution_count": 93,
   "outputs": [],
   "source": [
    "feature_cols = [\"event_with_roles\", \"request_method_call\", \"selective_file_data\", \n",
    "        \"origin_method\",\"origin_file_data\"]\n"
   ],
   "metadata": {
    "collapsed": false,
    "ExecuteTime": {
     "end_time": "2024-04-29T16:49:41.577735Z",
     "start_time": "2024-04-29T16:49:41.516500Z"
    }
   },
   "id": "b1ac8b9bff822d33"
  },
  {
   "cell_type": "code",
   "execution_count": 94,
   "outputs": [],
   "source": [
    "# List of dataframes each containing one activity sequence\n",
    "train_activity_sequences = sequence_by_activities(df_train, df_train[\"SequenceNumber\"])"
   ],
   "metadata": {
    "collapsed": false,
    "ExecuteTime": {
     "end_time": "2024-04-29T16:49:42.195243Z",
     "start_time": "2024-04-29T16:49:41.529337Z"
    }
   },
   "id": "8ffa7762a6c25ea5"
  },
  {
   "cell_type": "code",
   "execution_count": 95,
   "outputs": [],
   "source": [
    "# Sequences without window features\n",
    "\n",
    "def dict_to_feature_sequence(dict):\n",
    "    return [{**d, \"bias\": 1.0} for d in dict]\n",
    "\n",
    "def df_to_features(df):\n",
    "    return dict_to_feature_sequence(df.to_dict(\"records\"))\n",
    "\n",
    "train_features_seq = [df_to_features(df[feature_cols]) for df in train_activity_sequences]\n",
    "train_labels_seq = [df[\"BusinessActivity\"].values for df in train_activity_sequences]"
   ],
   "metadata": {
    "collapsed": false,
    "ExecuteTime": {
     "end_time": "2024-04-29T16:49:43.951708Z",
     "start_time": "2024-04-29T16:49:42.195900Z"
    }
   },
   "id": "3042c5e6d3df8baf"
  },
  {
   "cell_type": "code",
   "execution_count": 96,
   "outputs": [],
   "source": [
    "# Single Events no window features \n",
    "\n",
    "def dict_to_feature(dict):\n",
    "    return [[{**d, \"bias\": 1.0}] for d in dict]\n",
    "\n",
    "def extract_labels(labels):\n",
    "    return [[y] for y in labels]\n",
    "\n",
    "train_features = dict_to_feature(df_train[feature_cols].to_dict(\"records\"))\n",
    "train_labels = extract_labels(df_train[\"BusinessActivity\"])"
   ],
   "metadata": {
    "collapsed": false,
    "ExecuteTime": {
     "end_time": "2024-04-29T16:49:44.006557Z",
     "start_time": "2024-04-29T16:49:43.762693Z"
    }
   },
   "id": "89e4cde60f1387a0"
  },
  {
   "cell_type": "code",
   "execution_count": 97,
   "outputs": [],
   "source": [
    "# Single Events w. window features\n",
    "\n",
    "# Apply sequencing - flatten later\n",
    "\n",
    "def seq2features(seq, bw, fw): \n",
    "    return [event2features(seq, i, bw, fw) for i in range(len(seq))]\n",
    "\n",
    "def event2features(seq, i, bw, fw):\n",
    "    features = {\"bias\": 1.0}\n",
    "    \n",
    "    features.update({\n",
    "        f\"0:{k}\": v for k,v in seq[i].items()\n",
    "    })\n",
    "    \n",
    "    for j in range(1, bw+1): \n",
    "        index = i-j\n",
    "        if index >= 0: \n",
    "            features.update({\n",
    "                f\"-{j}:{k}\": v for k,v in seq[index].items()\n",
    "            })\n",
    "        else: \n",
    "            features.update({\n",
    "                 f\"-{j}:{k}\": \"NoMessage\" for k,_ in seq[i].items()\n",
    "            })\n",
    "        \n",
    "    for j in range(1,fw+1): \n",
    "        index = i + j\n",
    "        if index < len(seq): \n",
    "             features.update({\n",
    "                f\"+{j}:{k}\": v for k,v in seq[index].items()\n",
    "            })\n",
    "        else: \n",
    "            features.update({\n",
    "                 f\"+{j}:{k}\": \"NoMessage\" for k,_ in seq[i].items()\n",
    "            })\n",
    "            \n",
    "    return features\n",
    "\n",
    "train_features_seq_window = [seq2features(seq[feature_cols].to_dict(\"records\"), 10,10) for seq in train_activity_sequences]\n",
    "train_labels_seq_window = [seq[\"BusinessActivity\"] for seq in train_activity_sequences]"
   ],
   "metadata": {
    "collapsed": false,
    "ExecuteTime": {
     "end_time": "2024-04-29T16:49:47.308187Z",
     "start_time": "2024-04-29T16:49:43.981098Z"
    }
   },
   "id": "78ee2c6fb44003d6"
  },
  {
   "cell_type": "code",
   "execution_count": 98,
   "outputs": [],
   "source": [
    "def flatten_and_encapsulate(list_of_list):\n",
    "    return [[item] for sublist in list_of_list for item in sublist]\n",
    "\n",
    "X_train = flatten_and_encapsulate(train_features_seq_window)\n",
    "y_train = flatten_and_encapsulate(train_labels_seq_window)"
   ],
   "metadata": {
    "collapsed": false,
    "ExecuteTime": {
     "end_time": "2024-04-29T16:49:47.428414Z",
     "start_time": "2024-04-29T16:49:47.302733Z"
    }
   },
   "id": "bac030bb3c5bc3d"
  },
  {
   "cell_type": "code",
   "execution_count": 99,
   "outputs": [
    {
     "name": "stdout",
     "output_type": "stream",
     "text": [
      "CPU times: user 13.7 s, sys: 227 ms, total: 14 s\n",
      "Wall time: 15.6 s\n"
     ]
    },
    {
     "data": {
      "text/plain": "CRF(all_possible_transitions=True, c1=0.1, c2=0.01, max_iterations=200)",
      "text/html": "<style>#sk-container-id-4 {color: black;}#sk-container-id-4 pre{padding: 0;}#sk-container-id-4 div.sk-toggleable {background-color: white;}#sk-container-id-4 label.sk-toggleable__label {cursor: pointer;display: block;width: 100%;margin-bottom: 0;padding: 0.3em;box-sizing: border-box;text-align: center;}#sk-container-id-4 label.sk-toggleable__label-arrow:before {content: \"▸\";float: left;margin-right: 0.25em;color: #696969;}#sk-container-id-4 label.sk-toggleable__label-arrow:hover:before {color: black;}#sk-container-id-4 div.sk-estimator:hover label.sk-toggleable__label-arrow:before {color: black;}#sk-container-id-4 div.sk-toggleable__content {max-height: 0;max-width: 0;overflow: hidden;text-align: left;background-color: #f0f8ff;}#sk-container-id-4 div.sk-toggleable__content pre {margin: 0.2em;color: black;border-radius: 0.25em;background-color: #f0f8ff;}#sk-container-id-4 input.sk-toggleable__control:checked~div.sk-toggleable__content {max-height: 200px;max-width: 100%;overflow: auto;}#sk-container-id-4 input.sk-toggleable__control:checked~label.sk-toggleable__label-arrow:before {content: \"▾\";}#sk-container-id-4 div.sk-estimator input.sk-toggleable__control:checked~label.sk-toggleable__label {background-color: #d4ebff;}#sk-container-id-4 div.sk-label input.sk-toggleable__control:checked~label.sk-toggleable__label {background-color: #d4ebff;}#sk-container-id-4 input.sk-hidden--visually {border: 0;clip: rect(1px 1px 1px 1px);clip: rect(1px, 1px, 1px, 1px);height: 1px;margin: -1px;overflow: hidden;padding: 0;position: absolute;width: 1px;}#sk-container-id-4 div.sk-estimator {font-family: monospace;background-color: #f0f8ff;border: 1px dotted black;border-radius: 0.25em;box-sizing: border-box;margin-bottom: 0.5em;}#sk-container-id-4 div.sk-estimator:hover {background-color: #d4ebff;}#sk-container-id-4 div.sk-parallel-item::after {content: \"\";width: 100%;border-bottom: 1px solid gray;flex-grow: 1;}#sk-container-id-4 div.sk-label:hover label.sk-toggleable__label {background-color: #d4ebff;}#sk-container-id-4 div.sk-serial::before {content: \"\";position: absolute;border-left: 1px solid gray;box-sizing: border-box;top: 0;bottom: 0;left: 50%;z-index: 0;}#sk-container-id-4 div.sk-serial {display: flex;flex-direction: column;align-items: center;background-color: white;padding-right: 0.2em;padding-left: 0.2em;position: relative;}#sk-container-id-4 div.sk-item {position: relative;z-index: 1;}#sk-container-id-4 div.sk-parallel {display: flex;align-items: stretch;justify-content: center;background-color: white;position: relative;}#sk-container-id-4 div.sk-item::before, #sk-container-id-4 div.sk-parallel-item::before {content: \"\";position: absolute;border-left: 1px solid gray;box-sizing: border-box;top: 0;bottom: 0;left: 50%;z-index: -1;}#sk-container-id-4 div.sk-parallel-item {display: flex;flex-direction: column;z-index: 1;position: relative;background-color: white;}#sk-container-id-4 div.sk-parallel-item:first-child::after {align-self: flex-end;width: 50%;}#sk-container-id-4 div.sk-parallel-item:last-child::after {align-self: flex-start;width: 50%;}#sk-container-id-4 div.sk-parallel-item:only-child::after {width: 0;}#sk-container-id-4 div.sk-dashed-wrapped {border: 1px dashed gray;margin: 0 0.4em 0.5em 0.4em;box-sizing: border-box;padding-bottom: 0.4em;background-color: white;}#sk-container-id-4 div.sk-label label {font-family: monospace;font-weight: bold;display: inline-block;line-height: 1.2em;}#sk-container-id-4 div.sk-label-container {text-align: center;}#sk-container-id-4 div.sk-container {/* jupyter's `normalize.less` sets `[hidden] { display: none; }` but bootstrap.min.css set `[hidden] { display: none !important; }` so we also need the `!important` here to be able to override the default hidden behavior on the sphinx rendered scikit-learn.org. See: https://github.com/scikit-learn/scikit-learn/issues/21755 */display: inline-block !important;position: relative;}#sk-container-id-4 div.sk-text-repr-fallback {display: none;}</style><div id=\"sk-container-id-4\" class=\"sk-top-container\"><div class=\"sk-text-repr-fallback\"><pre>CRF(all_possible_transitions=True, c1=0.1, c2=0.01, max_iterations=200)</pre><b>In a Jupyter environment, please rerun this cell to show the HTML representation or trust the notebook. <br />On GitHub, the HTML representation is unable to render, please try loading this page with nbviewer.org.</b></div><div class=\"sk-container\" hidden><div class=\"sk-item\"><div class=\"sk-estimator sk-toggleable\"><input class=\"sk-toggleable__control sk-hidden--visually\" id=\"sk-estimator-id-4\" type=\"checkbox\" checked><label for=\"sk-estimator-id-4\" class=\"sk-toggleable__label sk-toggleable__label-arrow\">CRF</label><div class=\"sk-toggleable__content\"><pre>CRF(all_possible_transitions=True, c1=0.1, c2=0.01, max_iterations=200)</pre></div></div></div></div></div>"
     },
     "execution_count": 99,
     "metadata": {},
     "output_type": "execute_result"
    }
   ],
   "source": [
    "%%time\n",
    "import sklearn_crfsuite\n",
    "\n",
    "activity_classifier= sklearn_crfsuite.CRF(\n",
    "    max_iterations=200,\n",
    "    c1=0.1,\n",
    "    c2=0.01,\n",
    "    all_possible_transitions=True\n",
    "    #all_possible_transitions=True\n",
    ")\n",
    "activity_classifier.fit(X_train, y_train)"
   ],
   "metadata": {
    "collapsed": false,
    "ExecuteTime": {
     "end_time": "2024-04-29T16:50:03.085724Z",
     "start_time": "2024-04-29T16:49:47.428740Z"
    }
   },
   "id": "7f293eb4aefb36b4"
  },
  {
   "cell_type": "code",
   "execution_count": 100,
   "outputs": [],
   "source": [
    "def confidence_weighted_majority_voting(predictions):\n",
    "    \"\"\"\n",
    "    Perform confidence-weighted majority voting on each sublist of predictions.\n",
    "\n",
    "    :param predictions: A list of dictionaries where each dictionary contains predictions and their confidences.\n",
    "    :return: A list of majority voted predictions for each sublist.\n",
    "    \"\"\"\n",
    "    majority_voted_predictions = []\n",
    "    for sublist in predictions:\n",
    "        if not sublist:\n",
    "            # If the sublist is empty, append None to the majority voted predictions\n",
    "            majority_voted_predictions.append(None)\n",
    "        else:\n",
    "            # Initialize variables to store cumulative confidences for each prediction\n",
    "            cumulative_confidences = {label: 0.0 for label in sublist[0].keys()}\n",
    "            \n",
    "            # Calculate cumulative confidences for each prediction across all dictionaries in the sublist\n",
    "            for prediction_dict in sublist:\n",
    "                for label, confidence in prediction_dict.items():\n",
    "                    cumulative_confidences[label] += confidence\n",
    "            \n",
    "            # Find the prediction with the maximum cumulative confidence\n",
    "            majority_voted_prediction = max(cumulative_confidences, key=cumulative_confidences.get)\n",
    "            majority_voted_predictions.append(majority_voted_prediction)\n",
    "\n",
    "    return majority_voted_predictions"
   ],
   "metadata": {
    "collapsed": false,
    "ExecuteTime": {
     "end_time": "2024-04-29T16:50:03.154431Z",
     "start_time": "2024-04-29T16:50:03.079583Z"
    }
   },
   "id": "77fad433b8e22ba5"
  },
  {
   "cell_type": "markdown",
   "source": [
    "## Activity Model\n",
    "The activity model utilises multiple sliding windows over the training data for pattern matching\n",
    "\n"
   ],
   "metadata": {
    "collapsed": false
   },
   "id": "c44ba4a1e5a9b0d6"
  },
  {
   "cell_type": "code",
   "execution_count": 101,
   "outputs": [
    {
     "name": "stdout",
     "output_type": "stream",
     "text": [
      "Reduced the number of sequences from 932 to 26 unique ones\n"
     ]
    }
   ],
   "source": [
    "from sklearn.preprocessing import LabelEncoder\n",
    "from numpy.lib.stride_tricks import sliding_window_view\n",
    "\n",
    "\n",
    "def get_unique_sequences(seq_data):\n",
    "    # Convert each array to a tuple and create a set of tuples\n",
    "    array_set = set(tuple(arr) for arr in seq_data)\n",
    "\n",
    "    # Convert the set of tuples back to a list of NumPy arrays\n",
    "    return [np.array(arr) for arr in array_set]\n",
    "\n",
    "\n",
    "df_train[\"joined\"] = df_train[\"event_with_roles\"] + df_train[\"selective_file_data\"]\n",
    "\n",
    "# Label Encode Training Data \n",
    "le = LabelEncoder()\n",
    "df_train[\"joined_LE\"] = le.fit_transform(df_train[\"joined\"])\n",
    "\n",
    "# Mark groups of Instance Number and BusinessActivity with sequence numbers\n",
    "df_train = df_train.sort_values(by=[\"InstanceNumber\", \"BusinessActivity\", \"frame.number\"])\n",
    "df_train[\"SequenceNumber\"] = df_train.groupby([\"BusinessActivity\", \"InstanceNumber\"]).ngroup()\n",
    "# Align Sequence Numbers so that they start at 0\n",
    "df_train[\"SequenceNumber\"] -= df_train['SequenceNumber'].min()\n",
    "\n",
    "# Divides dataframe into arrays according to to Sequence Data Indicator\n",
    "data_joined_LE = sequence_by_activities(df_train[\"joined_LE\"], df_train[\"SequenceNumber\"])\n",
    "\n",
    "unique_sequences = get_unique_sequences(data_joined_LE)\n",
    "\n",
    "print(f\"Reduced the number of sequences from {len(data_joined_LE)} to {len(unique_sequences)} unique ones\")\n",
    "\n",
    "def get_activity_model_data(max_window_length):\n",
    "    return [np.concatenate([sliding_window_view(seq, i) for seq in unique_sequences], axis=0) for i in\n",
    "                       range(max_window_length)]\n",
    "    \n",
    "\n",
    "# form sliding window sequences of Size N for Training Data \n",
    "#activity_model_data = get_activity_model_data(4)"
   ],
   "metadata": {
    "collapsed": false,
    "ExecuteTime": {
     "end_time": "2024-04-29T16:50:03.323785Z",
     "start_time": "2024-04-29T16:50:03.138220Z"
    }
   },
   "id": "bc0282a2386f9d98"
  },
  {
   "cell_type": "markdown",
   "source": [
    "# Action Loop\n",
    "\n",
    "Main loop. Gets raw R1 data as input. \n",
    "Applies filtering, activity action and sequence classification"
   ],
   "metadata": {
    "collapsed": false
   },
   "id": "cd4922a5f25b0f9d"
  },
  {
   "cell_type": "code",
   "execution_count": 102,
   "outputs": [],
   "source": [
    "records = df_il_in.to_dict(\"records\")"
   ],
   "metadata": {
    "collapsed": false,
    "ExecuteTime": {
     "end_time": "2024-04-29T16:50:03.784415Z",
     "start_time": "2024-04-29T16:50:03.321771Z"
    }
   },
   "id": "e79d8e1cbb43d45d"
  },
  {
   "cell_type": "code",
   "execution_count": 103,
   "outputs": [],
   "source": [
    "from event_loop.event import Event\n",
    "\n",
    "\n",
    "def get_max_from_dict(d: dict):\n",
    "    return max(d, key= lambda k: d[k])\n",
    "    \n",
    "\n",
    "def classify_event(event: Event): \n",
    "    margs = crf.predict_marginals_single([event.to_features()])[0]\n",
    "    pred = get_max_from_dict(margs)\n",
    "    \n",
    "    e = entropy([p for p in margs.values()])\n",
    "    \n",
    "    #print(f\"{event.frame_number} {pred} {margs[pred]:.3f} {e:.3f},\")\n",
    "    \n",
    "    \n",
    "    true_val = df_eval[df_eval[\"frame.number\"] == event.frame_number][\"true\"].iloc[0][0]\n",
    "    #print(true_val)\n",
    "    \n",
    "    # Change to entropy of prediction\n",
    "    if e > ENTROPY_THRESHOLD: \n",
    "    #if pred != true_val:\n",
    "        # If pred is wrong we have two options for \"wrong classifications\" \n",
    "        # 1 -> We have No Action predicted although the stack should end here \n",
    "        # Idea 1: If the stack did not change after N events, emit it. \n",
    "        \n",
    "        # Mark the confidence on the event.\n",
    "        event.confidence = False \n",
    "\n",
    "\n",
    "        # 2 -> We have End predicted although the stack should continue. \n",
    "        if pred != true_val:\n",
    "            print(f\"False {event.frame_number} {pred} {margs[pred]:.3f} {e:.3f} should be {true_val}\")\n",
    "       \n",
    "        event.activity_action = pred\n",
    "            \n",
    "    else: \n",
    "        event.confidence = True\n",
    "        event.activity_action = pred"
   ],
   "metadata": {
    "collapsed": false,
    "ExecuteTime": {
     "end_time": "2024-04-29T16:50:03.813296Z",
     "start_time": "2024-04-29T16:50:03.786193Z"
    }
   },
   "id": "f8e7e7ea369bce9a"
  },
  {
   "cell_type": "code",
   "execution_count": 104,
   "outputs": [],
   "source": [
    "from event_loop.stack import Stack\n",
    "\n",
    "\n",
    "def search_stack_for_request_frame(frame_number):\n",
    "    for index, stack in enumerate(stacks):\n",
    "        if stack.contains_request_frame(frame_number): \n",
    "            return index\n",
    "    return -1\n",
    "\n",
    "def search_window_for_sequence(seq): \n",
    "    \"\"\"\n",
    "    Check for pattern matches with the training data and return the count\n",
    "    :param seq: array_like\n",
    "                sequence of events\n",
    "            \n",
    "    :return: number of occurences of seq in training data\n",
    "    \"\"\"\n",
    "    return np.sum(np.all(activity_model_data[len(seq)] == seq, axis = 1))\n",
    "\n",
    "\n",
    "def classify_by_train_sequences(event: Event, n : int, exclude_indices: list[int]): \n",
    "    # search for existing stacks in training data \n",
    "    sequences = [le.transform([ e.to_activity_model_string() for e in stack]+[event.to_activity_model_string()]) for stack in stacks]  \n",
    "    \n",
    "    # loop to max 2 elements down\n",
    "    for i in range(n, 1, -1):   \n",
    "        res = [search_window_for_sequence(seq[-i:]) if j not in exclude_indices else -1 for j,seq in enumerate(sequences)]\n",
    "        \n",
    "        max_res = max(res)\n",
    "        max_res_count = res.count(max_res)\n",
    "        idx = np.argmax(res)\n",
    "        \n",
    "        if max_res > 0: \n",
    "            #print(\"res:\",res, max_res, max_res_count, \"->\", idx)\n",
    "            return idx\n",
    "        \n",
    "    return -1\n",
    "\n",
    "def search_stream_index(event: Event, exclude_indices: list[int]) -> int: \n",
    "    indices = [i for i,stack in enumerate(stacks) if stack.contains_stream_index(event.stream_index) and i not in exclude_indices]\n",
    "\n",
    "    if len(indices) == 1: \n",
    "        return indices[0]\n",
    "    else:\n",
    "        return -1\n",
    "    \n",
    "\n",
    "def check_stack_attributes(stacks: list[Stack], event: Event, exclude_indices: list[int]) -> int:\n",
    "    for key, value in event.attributes.items():\n",
    "        if key in PTP_ATTRIBUTES and value:\n",
    "            indices = [i for i, stack in enumerate(stacks) if stack.contains_attribute(key,value) and i not in exclude_indices]\n",
    "            print()\n",
    "            \n",
    "            if len(indices) ==1: \n",
    "                print(\"MATCH\", indices)\n",
    "                # we have a clear match -> return idx\n",
    "                return indices[0]\n",
    "\n",
    "    return -1\n",
    "\n",
    "def check_stack_attributes_case_id(stacks: list[Stack], event: Event, exclude_indices: list[int]) -> int:\n",
    "    for key, value in event.attributes.items():\n",
    "        if key in PTP_ATTRIBUTES and value:\n",
    "            indices = [i for i, stack in enumerate(stacks) if stack.case_id == Stack.case_id_from_attribute(key, value)]\n",
    "            \n",
    "            if len(indices) ==1: \n",
    "                # we have a clear match -> return idx\n",
    "                return indices[0]\n",
    "\n",
    "    return -1\n",
    "\n",
    "\n",
    "def exclude_stacks_by_attribute(stacks: list[Stack], event: Event, stacks_out: list[Stack]) -> list[int]: \n",
    "    \n",
    "    exclude_indices = []\n",
    "\n",
    "        \n",
    "    for key, value in event.attributes.items():\n",
    "        if key in PTP_ATTRIBUTES and value:\n",
    "            # exlucde all stacks that have a different attribute \n",
    "            exclude_indices.extend(i for i, stack in enumerate(stacks) if stack.has_attribute(key) and not stack.contains_attribute(key, value))\n",
    "    return exclude_indices\n",
    "\n",
    "def exclude_stacks_by_attribute_case_id(stacks: list[Stack], event: Event, stacks_out: list[Stack]) -> list[int]: \n",
    "    \n",
    "    exclude_indices = []\n",
    "\n",
    "    for key, value in event.attributes.items():\n",
    "        if key in PTP_ATTRIBUTES and value:\n",
    "            # exclude all stacks that have a different attribute \n",
    "            # \n",
    "            for i, stack in enumerate(stacks): \n",
    "                event_case_id = Stack.case_id_from_attribute(key, value)\n",
    "                if event_case_id and stack.case_id and event_case_id != stack.case_id: \n",
    "                    exclude_indices.append(i)\n",
    "            #exclude_indices.extend(i for i, stack in enumerate(stacks) if Stack.case_id_from_attribute(key, value) != stack.case_id and stack.case_id)\n",
    "    return exclude_indices"
   ],
   "metadata": {
    "collapsed": false,
    "ExecuteTime": {
     "end_time": "2024-04-29T16:50:03.825223Z",
     "start_time": "2024-04-29T16:50:03.805848Z"
    }
   },
   "id": "37e38f9c27e4092c"
  },
  {
   "cell_type": "code",
   "execution_count": 105,
   "outputs": [
    {
     "name": "stdout",
     "output_type": "stream",
     "text": [
      "Add new stack 17\n",
      "Add new stack 356\n",
      "Add new stack 1212\n",
      "Add new stack 1582\n",
      "False 2336 NoAction 0.534 0.693 should be Activity End\n",
      "Add new stack 2354\n",
      "Add new stack 2708\n",
      "Add new stack 3057\n",
      "Add new stack 4467\n",
      "Add new stack 4939\n",
      "Add new stack 5606\n",
      "False 6266 Activity End 0.741 0.574 should be NoAction\n",
      "Add new stack 6879\n",
      "Add new stack 7261\n",
      "False 8044 NoAction 0.534 0.693 should be Activity End\n",
      "Add new stack 8060\n",
      "Add new stack 8421\n",
      "Add new stack 9105\n",
      "False 9329 NoAction 0.534 0.693 should be Activity End\n",
      "Add new stack 10272\n",
      "Add new stack 10384\n",
      "Add new stack 11099\n",
      "Add new stack 11974\n",
      "Add new stack 12074\n",
      "Add new stack 13457\n",
      "Add new stack 14576\n",
      "False 15350 NoAction 0.534 0.693 should be Activity End\n",
      "Add new stack 15377\n",
      "Add new stack 15720\n",
      "Add new stack 16049\n",
      "NO MATCH RES 16032\n",
      "Add new stack 17273\n",
      "Add new stack 17801\n",
      "Add new stack 19585\n",
      "Add new stack 20245\n",
      "False 20665 NoAction 0.534 0.693 should be Activity End\n",
      "Add new stack 20696\n",
      "Add new stack 20928\n",
      "False 21651 NoAction 0.712 0.602 should be Activity End\n",
      "Add new stack 21674\n",
      "Add new stack 22687\n",
      "Add new stack 22851\n",
      "Add new stack 23848\n",
      "Add new stack 25366\n",
      "False 26182 Activity End 0.741 0.574 should be NoAction\n",
      "Add new stack 27306\n"
     ]
    }
   ],
   "source": [
    "import time\n",
    "\n",
    "from event_loop.preprocessing.event import keep_event\n",
    "%autoreload 2\n",
    "\n",
    "\n",
    "\n",
    "\n",
    "# Parameter\n",
    "EVENT_LOOP_CUTOFF_NO_ACTION = 3\n",
    "EVENT_LOOP_CUTOFF_END_EVENT = 3\n",
    "ENTROPY_THRESHOLD = 0.4 #0.5\n",
    "MAX_WINDOW_SIZE = 10\n",
    "VERBOSE = False\n",
    "SETTING = \"HR\"\n",
    "\n",
    "# init variables\n",
    "event_buffer: list[Event] = []\n",
    "attribute_buffer: list[dict] = []\n",
    "stacks: list[Stack] = []\n",
    "stacks_out: list[Stack] = []\n",
    "event_loop_index = 0\n",
    "\n",
    "\n",
    "# TODO Change config to something like this:\n",
    "config_dict = {\n",
    "    \"PTP\": {\n",
    "        \"1to1\" : [\"applicant_id\", \"activity_id\"],\n",
    "        \"1toN\": [\"mail_id\"]\n",
    "    }\n",
    "}\n",
    "\n",
    "HR_ATTRIBUTES = [\"applicant_id\", \"activity_id\"]\n",
    "PTP_ATTRIBUTES = [\"sale_order_id\", \"sale_order_line_id\",\"purchase_requisition_id\",\"purchase_requisition_line_id\",]\n",
    "\n",
    "\n",
    "activity_model_data = get_activity_model_data(MAX_WINDOW_SIZE)\n",
    "\n",
    "\n",
    "processing_times = []\n",
    "buffer_sizes = []\n",
    "\n",
    "for i, event_data in enumerate(records):\n",
    "    \n",
    "    buffer_sizes.append(sum([len(stack) for stack in stacks]))\n",
    "    start_time = time.time()\n",
    "\n",
    "    # Filter Event Stream\n",
    "    if not keep_event(event_data):\n",
    "        # skip event in loop\n",
    "        continue\n",
    "    \n",
    "    # count every not filtered event for event loop index\n",
    "    event_loop_index += 1\n",
    "\n",
    "    # Extract Features and generate Event Object\n",
    "    event = Event(event_data, event_loop_index, event_buffer, SETTING)\n",
    "    event_buffer.append(event)\n",
    "    \n",
    "    classify_event(event)\n",
    "    \n",
    "    # Activity Action Classification\n",
    "    activity_action = event.activity_action\n",
    "    \n",
    "    # Activity Matching\n",
    "    if activity_action == \"Activity Start\": \n",
    "        print(f\"Add new stack {event.frame_number}\")\n",
    "        stacks.append(Stack(SETTING,event))\n",
    "        \n",
    "    if activity_action == \"NoAction\": \n",
    "        if len(stacks) == 1: \n",
    "            if VERBOSE: print(f\"Add Between Event {event.frame_number} to only stack\")\n",
    "            stacks[0].append_event(event)\n",
    "        elif event.origin_request_frame: \n",
    "            idx = search_stack_for_request_frame(event.origin_request_frame)\n",
    "            if VERBOSE: print(f\"Add Between Event {event.frame_number} by request frame\\t{idx}\")\n",
    "            stacks[idx].append_event(event)\n",
    "        else: \n",
    "            if VERBOSE: print(\"Classify Between Event\", event.frame_number)\n",
    "            # Check attributes of each stack\n",
    "            \n",
    "            # we can filter out stacks that already have attributes different to the event\n",
    "            exclude_indices =  exclude_stacks_by_attribute(stacks, event, stacks_out)\n",
    "    \n",
    "            stack_index:int = check_stack_attributes(stacks, event, exclude_indices)\n",
    "                    \n",
    "            if stack_index == -1:        \n",
    "                stack_index = classify_by_train_sequences(event, 4, exclude_indices)\n",
    "            \n",
    "            # for elements that are not matchable based on 2 sequences we fall back to stream index\n",
    "            if stack_index == -1: \n",
    "                stack_index = search_stream_index(event, exclude_indices)    \n",
    "            \n",
    "            # fallback - no match add to first stack\n",
    "            if stack_index == -1:\n",
    "                res = next((i for i in range(len(stacks)) if i not in exclude_indices and stacks[i].confidence),-1)\n",
    "                if VERBOSE: print(\"NO NO MATCH\", res, exclude_indices)\n",
    "                stack_index = res\n",
    "                \n",
    "            stacks[stack_index].append_event(event)\n",
    "        \n",
    "    if activity_action == \"Activity End\":\n",
    "        \n",
    "        stack_index = search_stack_for_request_frame(event.origin_request_frame)\n",
    "        if VERBOSE : print(\"Search by request frame\", stack_index)\n",
    "        stacks[stack_index].append_event(event)\n",
    "        \n",
    "        #if not event.confidence: \n",
    "        #check_pop_idx = idx\n",
    "        #else:\n",
    "        if event.confidence: \n",
    "            if len(stacks) > 1: \n",
    "                if VERBOSE: print(\"POP Confident Stack\")\n",
    "                stack = stacks.pop(stack_index)\n",
    "                stacks_out.append(stack)\n",
    "            else: \n",
    "                event.confidence = False\n",
    "     \n",
    "\n",
    "    # Loop through all currently open stacks\n",
    "    for idx, stack in enumerate(stacks):\n",
    "        last_event = stack[-1]\n",
    "        # check for non-confident \"No Action\" Classifications. These could be \"Activity End\" Instead\n",
    "        if not last_event.confidence and last_event.activity_action == \"NoAction\":\n",
    "            # If a stack has not been continued for N event loops \n",
    "            if event_loop_index - last_event.event_loop_index > EVENT_LOOP_CUTOFF_NO_ACTION: \n",
    "                stacks.pop(idx)\n",
    "                stacks_out.append(stack)\n",
    "                if VERBOSE: print(\"POP Unsure No Action Event\", event_loop_index, last_event.event_loop_index)\n",
    "                \n",
    "    for idx, stack in enumerate(stacks): \n",
    "        last_event = stack.events[-1]\n",
    "        if not last_event.confidence and last_event.activity_action == \"Activity End\": \n",
    "            if event_loop_index - last_event.event_loop_index > EVENT_LOOP_CUTOFF_END_EVENT: \n",
    "            \n",
    "                # we are now sure to pop the stack. \n",
    "                if VERBOSE: print(\"POP Unsure Activity End Stack\", event_loop_index, last_event.event_loop_index)\n",
    "                stacks.pop(idx)\n",
    "                stacks_out.append(stack)  \n",
    "                \n",
    "    end_time = time.time()\n",
    "    processing_times.append(end_time - start_time)\n",
    "                \n",
    "# pop all stacks that are still left\n",
    "for stack in stacks: \n",
    "    stacks_out.append(stack)  \n"
   ],
   "metadata": {
    "collapsed": false,
    "ExecuteTime": {
     "end_time": "2024-04-29T16:50:04.264359Z",
     "start_time": "2024-04-29T16:50:03.820056Z"
    }
   },
   "id": "41016b5653419b1a"
  },
  {
   "cell_type": "code",
   "execution_count": 106,
   "outputs": [],
   "source": [
    "import sys\n",
    "import pickle\n",
    "model_size = [\n",
    "    sys.getsizeof(pickle.dumps(crf)),\n",
    "    sys.getsizeof(pickle.dumps(activity_classifier)),\n",
    "    sys.getsizeof(pickle.dumps(activity_model_data))\n",
    "]"
   ],
   "metadata": {
    "collapsed": false,
    "ExecuteTime": {
     "end_time": "2024-04-29T16:50:04.300039Z",
     "start_time": "2024-04-29T16:50:04.261446Z"
    }
   },
   "id": "e58b66c3c527a00a"
  },
  {
   "cell_type": "code",
   "execution_count": 107,
   "outputs": [
    {
     "data": {
      "text/plain": "0.7847757339477539"
     },
     "execution_count": 107,
     "metadata": {},
     "output_type": "execute_result"
    }
   ],
   "source": [
    "sum(model_size) / (1024**2)"
   ],
   "metadata": {
    "collapsed": false,
    "ExecuteTime": {
     "end_time": "2024-04-29T16:50:04.310466Z",
     "start_time": "2024-04-29T16:50:04.276430Z"
    }
   },
   "id": "1789350c53713ad"
  },
  {
   "cell_type": "code",
   "execution_count": 108,
   "outputs": [
    {
     "name": "stdout",
     "output_type": "stream",
     "text": [
      "average processing time: 0.2697816080295304\n",
      "max buffer size: 152 (0.24754490822923964)\n"
     ]
    }
   ],
   "source": [
    "from statistics import mean,stdev\n",
    "print(\"average processing time:\",mean(processing_times)*1000)\n",
    "print(\"max buffer size:\", max(buffer_sizes),f\"({max(buffer_sizes) / len(records) * 100})\")\n"
   ],
   "metadata": {
    "collapsed": false,
    "ExecuteTime": {
     "end_time": "2024-04-29T16:50:04.368329Z",
     "start_time": "2024-04-29T16:50:04.293867Z"
    }
   },
   "id": "8c8cfea6038e4c1b"
  },
  {
   "cell_type": "code",
   "execution_count": 109,
   "outputs": [],
   "source": [
    " # classify stacks\n",
    "# TODO Move into Model\n",
    "def confidence_weighted_majority_voting(predictions):\n",
    "    \"\"\"\n",
    "    Perform confidence-weighted majority voting on each sublist of predictions.\n",
    "\n",
    "    :param predictions: A list of dictionaries where each dictionary contains predictions and their confidences.\n",
    "    :return: A list of majority voted predictions for each sublist.\n",
    "    \"\"\"    \n",
    "\n",
    "    # Initialize variables to store cumulative confidences for each prediction\n",
    "    cumulative_confidences = {label: 0.0 for label in predictions[0][0].keys()}\n",
    "    \n",
    "    # Calculate cumulative confidences for each prediction across all dictionaries in the sublist\n",
    "    for prediction_dict in predictions:\n",
    "        for label, confidence in prediction_dict[0].items():\n",
    "            cumulative_confidences[label] += confidence\n",
    "    \n",
    "    # Find the prediction with the maximum cumulative confidence\n",
    "    return max(cumulative_confidences, key=cumulative_confidences.get)\n",
    "\n",
    "def classify_stack(stack: Stack):\n",
    "    seq = seq2features([event.to_features() for event in stack], 10,10)\n",
    "    pred = activity_classifier.predict_marginals([[ele] for ele in seq])\n",
    "    pred_cwmv = confidence_weighted_majority_voting(pred)\n",
    "    return pred_cwmv\n",
    "    \n",
    "stack_predictions = [classify_stack(stack )for stack in stacks_out]\n"
   ],
   "metadata": {
    "collapsed": false,
    "ExecuteTime": {
     "end_time": "2024-04-29T16:50:04.462992Z",
     "start_time": "2024-04-29T16:50:04.313361Z"
    }
   },
   "id": "6178a80c6b5925f5"
  },
  {
   "cell_type": "code",
   "execution_count": 110,
   "outputs": [
    {
     "name": "stdout",
     "output_type": "stream",
     "text": [
      "Contained 1 stack in queue\n",
      "[[27306, 27339, 27347, 27397, 27406, 27414, 27469, 27477, 27544, 27551, 27559, 27637, 27677, 27726, 27782, 27790, 27842, 27852, 27921, 27935, 27961, 27971, 27985, 28049, 28054, 28086, 28089, 28111, 28115, 28149, 28154, 28157, 28167, 28228, 28232, 28251, 28256, 28258, 28267, 28304, 28312, 28377, 28384]]\n"
     ]
    },
    {
     "data": {
      "text/plain": "    start  actual_end  start_pred  end_pred  pred_true\n0      17         325          17       325       True\n1     356        1192         356      1192       True\n2    1212        1520        1212      1520       True\n3    1582        2336        1582      2336       True\n4    2354        2664        2354      2664       True\n5    2708        4461        2708      4461       True\n6    3057        4871        3057      4871       True\n7    4467        4881        4467      4881       True\n8    4939        6164        4939      6164       True\n9    5606        6859        5606      6859       True\n10   6879        7190        6879      7190       True\n11   7261        8044        7261      8044       True\n12   8060        8374        8060      8374       True\n13   8421        9329        8421      9329       True\n14   9105       10237        9105     10237       True\n15  10272       10786       10272     10786       True\n16  10384       11067       10384     11067       True\n17  11099       11941       11099     11941       True\n18  11974       14049       11974     14049       True\n19  12074       14533       12074     14533       True\n20  13457       14328       13457     14328       True\n21  14576       15350       14576     15350       True\n22  15377       17235       15377     17235       True\n23  15720       16615       15720     16615       True\n24  16049       17037       16049     17037       True\n25  17273       18876       17273     18876       True\n26  17801       19551       17801     19551       True\n27  19585       20665       19585     20665       True\n28  20245       20557       20245     20557       True\n29  20696       21362       20696     21362       True\n30  20928       21651       20928     21651       True\n31  21674       22664       21674     22664       True\n32  22687       26505       22687     26505       True\n33  22851       25173       22851     25173       True\n34  23848       27222       23848     27222       True\n35  25366       27235       25366     27235       True\n36  27306       28384       27306     28384       True",
      "text/html": "<div>\n<style scoped>\n    .dataframe tbody tr th:only-of-type {\n        vertical-align: middle;\n    }\n\n    .dataframe tbody tr th {\n        vertical-align: top;\n    }\n\n    .dataframe thead th {\n        text-align: right;\n    }\n</style>\n<table border=\"1\" class=\"dataframe\">\n  <thead>\n    <tr style=\"text-align: right;\">\n      <th></th>\n      <th>start</th>\n      <th>actual_end</th>\n      <th>start_pred</th>\n      <th>end_pred</th>\n      <th>pred_true</th>\n    </tr>\n  </thead>\n  <tbody>\n    <tr>\n      <th>0</th>\n      <td>17</td>\n      <td>325</td>\n      <td>17</td>\n      <td>325</td>\n      <td>True</td>\n    </tr>\n    <tr>\n      <th>1</th>\n      <td>356</td>\n      <td>1192</td>\n      <td>356</td>\n      <td>1192</td>\n      <td>True</td>\n    </tr>\n    <tr>\n      <th>2</th>\n      <td>1212</td>\n      <td>1520</td>\n      <td>1212</td>\n      <td>1520</td>\n      <td>True</td>\n    </tr>\n    <tr>\n      <th>3</th>\n      <td>1582</td>\n      <td>2336</td>\n      <td>1582</td>\n      <td>2336</td>\n      <td>True</td>\n    </tr>\n    <tr>\n      <th>4</th>\n      <td>2354</td>\n      <td>2664</td>\n      <td>2354</td>\n      <td>2664</td>\n      <td>True</td>\n    </tr>\n    <tr>\n      <th>5</th>\n      <td>2708</td>\n      <td>4461</td>\n      <td>2708</td>\n      <td>4461</td>\n      <td>True</td>\n    </tr>\n    <tr>\n      <th>6</th>\n      <td>3057</td>\n      <td>4871</td>\n      <td>3057</td>\n      <td>4871</td>\n      <td>True</td>\n    </tr>\n    <tr>\n      <th>7</th>\n      <td>4467</td>\n      <td>4881</td>\n      <td>4467</td>\n      <td>4881</td>\n      <td>True</td>\n    </tr>\n    <tr>\n      <th>8</th>\n      <td>4939</td>\n      <td>6164</td>\n      <td>4939</td>\n      <td>6164</td>\n      <td>True</td>\n    </tr>\n    <tr>\n      <th>9</th>\n      <td>5606</td>\n      <td>6859</td>\n      <td>5606</td>\n      <td>6859</td>\n      <td>True</td>\n    </tr>\n    <tr>\n      <th>10</th>\n      <td>6879</td>\n      <td>7190</td>\n      <td>6879</td>\n      <td>7190</td>\n      <td>True</td>\n    </tr>\n    <tr>\n      <th>11</th>\n      <td>7261</td>\n      <td>8044</td>\n      <td>7261</td>\n      <td>8044</td>\n      <td>True</td>\n    </tr>\n    <tr>\n      <th>12</th>\n      <td>8060</td>\n      <td>8374</td>\n      <td>8060</td>\n      <td>8374</td>\n      <td>True</td>\n    </tr>\n    <tr>\n      <th>13</th>\n      <td>8421</td>\n      <td>9329</td>\n      <td>8421</td>\n      <td>9329</td>\n      <td>True</td>\n    </tr>\n    <tr>\n      <th>14</th>\n      <td>9105</td>\n      <td>10237</td>\n      <td>9105</td>\n      <td>10237</td>\n      <td>True</td>\n    </tr>\n    <tr>\n      <th>15</th>\n      <td>10272</td>\n      <td>10786</td>\n      <td>10272</td>\n      <td>10786</td>\n      <td>True</td>\n    </tr>\n    <tr>\n      <th>16</th>\n      <td>10384</td>\n      <td>11067</td>\n      <td>10384</td>\n      <td>11067</td>\n      <td>True</td>\n    </tr>\n    <tr>\n      <th>17</th>\n      <td>11099</td>\n      <td>11941</td>\n      <td>11099</td>\n      <td>11941</td>\n      <td>True</td>\n    </tr>\n    <tr>\n      <th>18</th>\n      <td>11974</td>\n      <td>14049</td>\n      <td>11974</td>\n      <td>14049</td>\n      <td>True</td>\n    </tr>\n    <tr>\n      <th>19</th>\n      <td>12074</td>\n      <td>14533</td>\n      <td>12074</td>\n      <td>14533</td>\n      <td>True</td>\n    </tr>\n    <tr>\n      <th>20</th>\n      <td>13457</td>\n      <td>14328</td>\n      <td>13457</td>\n      <td>14328</td>\n      <td>True</td>\n    </tr>\n    <tr>\n      <th>21</th>\n      <td>14576</td>\n      <td>15350</td>\n      <td>14576</td>\n      <td>15350</td>\n      <td>True</td>\n    </tr>\n    <tr>\n      <th>22</th>\n      <td>15377</td>\n      <td>17235</td>\n      <td>15377</td>\n      <td>17235</td>\n      <td>True</td>\n    </tr>\n    <tr>\n      <th>23</th>\n      <td>15720</td>\n      <td>16615</td>\n      <td>15720</td>\n      <td>16615</td>\n      <td>True</td>\n    </tr>\n    <tr>\n      <th>24</th>\n      <td>16049</td>\n      <td>17037</td>\n      <td>16049</td>\n      <td>17037</td>\n      <td>True</td>\n    </tr>\n    <tr>\n      <th>25</th>\n      <td>17273</td>\n      <td>18876</td>\n      <td>17273</td>\n      <td>18876</td>\n      <td>True</td>\n    </tr>\n    <tr>\n      <th>26</th>\n      <td>17801</td>\n      <td>19551</td>\n      <td>17801</td>\n      <td>19551</td>\n      <td>True</td>\n    </tr>\n    <tr>\n      <th>27</th>\n      <td>19585</td>\n      <td>20665</td>\n      <td>19585</td>\n      <td>20665</td>\n      <td>True</td>\n    </tr>\n    <tr>\n      <th>28</th>\n      <td>20245</td>\n      <td>20557</td>\n      <td>20245</td>\n      <td>20557</td>\n      <td>True</td>\n    </tr>\n    <tr>\n      <th>29</th>\n      <td>20696</td>\n      <td>21362</td>\n      <td>20696</td>\n      <td>21362</td>\n      <td>True</td>\n    </tr>\n    <tr>\n      <th>30</th>\n      <td>20928</td>\n      <td>21651</td>\n      <td>20928</td>\n      <td>21651</td>\n      <td>True</td>\n    </tr>\n    <tr>\n      <th>31</th>\n      <td>21674</td>\n      <td>22664</td>\n      <td>21674</td>\n      <td>22664</td>\n      <td>True</td>\n    </tr>\n    <tr>\n      <th>32</th>\n      <td>22687</td>\n      <td>26505</td>\n      <td>22687</td>\n      <td>26505</td>\n      <td>True</td>\n    </tr>\n    <tr>\n      <th>33</th>\n      <td>22851</td>\n      <td>25173</td>\n      <td>22851</td>\n      <td>25173</td>\n      <td>True</td>\n    </tr>\n    <tr>\n      <th>34</th>\n      <td>23848</td>\n      <td>27222</td>\n      <td>23848</td>\n      <td>27222</td>\n      <td>True</td>\n    </tr>\n    <tr>\n      <th>35</th>\n      <td>25366</td>\n      <td>27235</td>\n      <td>25366</td>\n      <td>27235</td>\n      <td>True</td>\n    </tr>\n    <tr>\n      <th>36</th>\n      <td>27306</td>\n      <td>28384</td>\n      <td>27306</td>\n      <td>28384</td>\n      <td>True</td>\n    </tr>\n  </tbody>\n</table>\n</div>"
     },
     "metadata": {},
     "output_type": "display_data"
    },
    {
     "name": "stdout",
     "output_type": "stream",
     "text": [
      "Accuracy of matching start and end sequences: 1.0\n",
      "Overall matching accuracy: 1.0\n"
     ]
    }
   ],
   "source": [
    "print(f\"Contained {len(stacks)} stack in queue\")\n",
    "if len(stacks)> 0: \n",
    "    print([[e.frame_number for e in stack ] for stack in stacks])\n",
    "\n",
    "start = [stack[0].frame_number for stack in stacks_out]\n",
    "end = [stack[-1].frame_number for stack in stacks_out]\n",
    "\n",
    "res_df = pd.DataFrame({\"start_pred\":start, \"end_pred\":end})\n",
    "\n",
    "eval_df = df_gt[[\"start\", \"actual_end\"]].merge(res_df,how=\"left\", left_on =\"start\", right_on = \"start_pred\").fillna(-1).astype(int)\n",
    "eval_df[\"pred_true\"] = eval_df[\"actual_end\"] == eval_df[\"end_pred\"]\n",
    "display(eval_df)\n",
    "print(f\"Accuracy of matching start and end sequences: {eval_df['pred_true'].mean()}\")\n",
    "print(f\"Overall matching accuracy: {0.5 + eval_df['pred_true'].mean()/2}\")"
   ],
   "metadata": {
    "collapsed": false,
    "ExecuteTime": {
     "end_time": "2024-04-29T16:50:04.473729Z",
     "start_time": "2024-04-29T16:50:04.442085Z"
    }
   },
   "id": "40a6a1f949ad0661"
  },
  {
   "cell_type": "code",
   "execution_count": 111,
   "outputs": [
    {
     "name": "stdout",
     "output_type": "stream",
     "text": [
      "                precision    recall  f1-score   support\n",
      "\n",
      "  Activity End       1.00      1.00      1.00        37\n",
      "Activity Start       1.00      1.00      1.00        37\n",
      "      NoAction       1.00      1.00      1.00      1239\n",
      "\n",
      "      accuracy                           1.00      1313\n",
      "     macro avg       1.00      1.00      1.00      1313\n",
      "  weighted avg       1.00      1.00      1.00      1313\n"
     ]
    }
   ],
   "source": [
    "df_aa_test = pd.DataFrame(df_test[[\"frame.number\", \"ActivityAction\"]])\n",
    "df_aa_test[\"ActivityAction\"] = \"NoAction\"\n",
    "df_aa_test.loc[df_aa_test[\"frame.number\"].isin(eval_df[\"end_pred\"]), \"ActivityAction\"] = \"Activity End\"\n",
    "df_aa_test.loc[df_aa_test[\"frame.number\"].isin(eval_df[\"start_pred\"]), \"ActivityAction\"] = \"Activity Start\"\n",
    "print(classification_report(test_labels, df_aa_test[\"ActivityAction\"]))"
   ],
   "metadata": {
    "collapsed": false,
    "ExecuteTime": {
     "end_time": "2024-04-29T16:50:04.608952Z",
     "start_time": "2024-04-29T16:50:04.461955Z"
    }
   },
   "id": "324b325222548b50"
  },
  {
   "cell_type": "code",
   "execution_count": 112,
   "outputs": [],
   "source": [
    "# Function to check if intervals overlap\n",
    "def intervals_overlap(row, df):\n",
    "    overlapping_names = []\n",
    "    overlapping_bps = set()\n",
    "    for index, other_row in df.iterrows():\n",
    "        if row.name != index and row['start'] <= other_row['actual_end'] and row['actual_end'] >= other_row['start']:\n",
    "            overlapping_names.append(f\"{other_row['activity_name']} {other_row['bp_id']}\")\n",
    "            overlapping_bps.add(other_row['bp_id'])\n",
    "    return overlapping_names, list(overlapping_bps)\n",
    "\n",
    "df_gt[[\"overlapping_activities\", \"overlapping_bps\"]] = df_gt.apply(intervals_overlap, axis=1, df = df_gt, result_type=\"expand\")"
   ],
   "metadata": {
    "collapsed": false,
    "ExecuteTime": {
     "end_time": "2024-04-29T16:50:04.622095Z",
     "start_time": "2024-04-29T16:50:04.492668Z"
    }
   },
   "id": "7df76d158db7cf4c"
  },
  {
   "cell_type": "code",
   "execution_count": 113,
   "outputs": [],
   "source": [
    "# Create dataframe with mapping of frame numbers to event stacks\n",
    "frame_numbers = [event.frame_number for idx,stack in enumerate(stacks_out) for event in stack]\n",
    "stack_numbers = [idx for idx,stack in enumerate(stacks_out) for event in stack]\n",
    "applicant_ids = [event.attributes[\"applicant_id\"] for idx,stack in enumerate(stacks_out) for event in stack]\n",
    "activity_ids = [event.attributes[\"activity_id\"] for idx,stack in enumerate(stacks_out) for event in stack]\n",
    "mail_ids = [event.attributes[\"mail_id\"] for idx,stack in enumerate(stacks_out) for event in stack]\n",
    "sniff_time =  [event.sniff_time for idx,stack in enumerate(stacks_out) for event in stack]\n",
    "case_id = [stack.case_id[\"id\"]  if stack.case_id else -1 for idx, stack in enumerate(stacks_out) for event in stack]\n",
    "\n",
    "df_frame_numbers = pd.DataFrame(data={\"frame.number\": frame_numbers, \"sniff_time\": sniff_time, \"stack_idx\": stack_numbers, \"applicant_id\": applicant_ids,\"activity_id\": activity_ids, \"mail_id\":mail_ids,\"case_id\": case_id})\n",
    "\n",
    "# Merge Activity Name from ground truth frame to event sequences for evaluation\n",
    "merged_df = df_frame_numbers.merge(df_gt[[\"activity_name\",\"start\",\"bp_id\"]], how=\"left\",left_on=\"frame.number\", right_on=\"start\").drop(columns=\"start\")\n",
    "\n",
    "merged_df[[\"activity_name\",\"bp_id\"]] = merged_df.groupby(\"stack_idx\")[[\"activity_name\",\"bp_id\"]].ffill()\n",
    "#merged_df[\"activity_name\"] = merged_df.groupby(\"stack_idx\")[\"bp_id\"].ffill()\n",
    "\n",
    "# Merge with filtered interleaved test data\n",
    "merged_df = df_test.merge(merged_df, on=\"frame.number\")\n",
    "\n",
    "unique_no_nan = lambda x: list(filter(None, pd.unique(x)))\n",
    "first_unique = lambda x: unique_no_nan(x)[0]\n",
    "\n",
    "def compare_values(x,y):\n",
    "    # Multi index and casting magic - I just want to compare the bp_ids lol\n",
    "    x = int(x[0])\n",
    "    y = int(y[0])\n",
    "\n",
    "    return x == y\n",
    "\n",
    "\n",
    "res = merged_df.groupby(\"stack_idx\").agg(applicant_id = (\"applicant_id\", unique_no_nan),activity_id=(\"activity_id\", unique_no_nan), mail_id=(\"mail_id\", unique_no_nan),case_id=(\"case_id\", first_unique),bp_id=(\"bp_id\", unique_no_nan),frame_number_min=(\"frame.number\",\"min\"),frame_number_max =  (\"frame.number\",\"max\"),sniff_time_min=(\"sniff_time_x\",\"min\"),sniff_time_max=(\"sniff_time_x\",\"min\"), activity_name=(\"activity_name\", lambda x: x.head(1)))\n",
    "res[\"stack_prediction\"] = stack_predictions\n",
    "# Apply the custom function to compare 'sale_order_line_id' and 'sale_order_line_id_case_id'\n",
    "res[\"bp_true\"] = res.apply(lambda x: compare_values(x[\"applicant_id\"], x[\"bp_id\"]), axis = 1)\n",
    "res[\"activity_true\"] = res[\"activity_name\"] ==  res[\"stack_prediction\"]\n",
    "#res.loc[\"Mean\",\"bp_true\"] = res[\"bp_true\"].mean()\n",
    "#res.loc[\"Mean\",\"activity_true\"] = res[\"activity_true\"].mean()"
   ],
   "metadata": {
    "collapsed": false,
    "ExecuteTime": {
     "end_time": "2024-04-29T16:50:04.640194Z",
     "start_time": "2024-04-29T16:50:04.536635Z"
    }
   },
   "id": "e2db163cbe61470d"
  },
  {
   "cell_type": "code",
   "execution_count": 119,
   "outputs": [
    {
     "name": "stderr",
     "output_type": "stream",
     "text": [
      "/var/folders/qt/gt7q1tn978x_02pv47b2lrvm0000gn/T/ipykernel_11480/3086145552.py:1: FutureWarning: unique with argument that is not not a Series, Index, ExtensionArray, or np.ndarray is deprecated and will raise in a future version.\n",
      "  unique_no_nan = lambda x: list(filter(None, pd.unique(x)))\n"
     ]
    }
   ],
   "source": [
    "res[\"bp_id_1\"] = res[\"bp_id\"].apply(first_unique)"
   ],
   "metadata": {
    "collapsed": false,
    "ExecuteTime": {
     "end_time": "2024-04-29T16:50:58.445874Z",
     "start_time": "2024-04-29T16:50:58.345559Z"
    }
   },
   "id": "9f74380e6e1ee06c"
  },
  {
   "cell_type": "code",
   "execution_count": 120,
   "outputs": [
    {
     "data": {
      "text/plain": "           applicant_id activity_id                   mail_id  case_id  \\\nstack_idx                                                                \n0                [1224]          []                        []        1   \n1                [1224]          []                    [7950]        1   \n2                [1225]          []                        []        2   \n3                [1225]          []                    [7954]        2   \n4                [1226]          []                        []        3   \n5                [1226]          []                    [7958]        3   \n6          [1225, 1227]       [732]                    [7960]        2   \n7                [1227]          []                        []        4   \n8                [1227]          []                    [7964]        4   \n9                [1225]       [732]              [7965, 7967]        2   \n10               [1228]          []                        []        5   \n11               [1228]          []                    [7971]        5   \n12               [1229]          []                        []        6   \n13               [1229]          []                    [7975]        6   \n14               [1228]       [733]                    [7977]        5   \n15               [1230]          []                        []        7   \n16         [1228, 1230]       [733]                    [7979]        5   \n17               [1230]          []                    [7982]        7   \n18         [1229, 1228]  [735, 734]              [7983, 7985]        6   \n19               [1231]          []                        []        8   \n20               [1228]  [734, 735]                    [7988]        5   \n21               [1231]          []                    [7991]        8   \n22               [1232]          []                        []        9   \n23               [1229]       [734]                    [7996]        6   \n24               [1228]       [735]              [7992, 7995]        5   \n25         [1231, 1229]       [736]                    [7998]        8   \n26               [1229]       [737]        [7999, 7998, 8001]        6   \n27               [1233]          []                        []       10   \n28         [1232, 1233]          []                    [8004]        9   \n29               [1231]       [736]                    [8006]        8   \n30               [1229]       [737]                    [8007]        6   \n31               [1232]       [738]                    [8009]        9   \n32         [1233, 1231]          []                    [8011]       10   \n33         [1231, 1233]       [739]  [8013, 8011, 8017, 8015]        8   \n34               [1229]          []        [8015, 8013, 8020]        6   \n35               [1232]       [738]              [8018, 8022]        9   \n36               [1231]       [739]              [8023, 8025]        8   \n\n              bp_id  frame_number_min  frame_number_max  \\\nstack_idx                                                 \n0          [1224.0]                17               325   \n1          [1224.0]               356              1192   \n2          [1225.0]              1212              1520   \n3          [1225.0]              1582              2336   \n4          [1226.0]              2354              2664   \n5          [1226.0]              2708              4461   \n6          [1225.0]              3057              4871   \n7          [1227.0]              4467              4881   \n8          [1227.0]              4939              6164   \n9          [1225.0]              5606              6859   \n10         [1228.0]              6879              7190   \n11         [1228.0]              7261              8044   \n12         [1229.0]              8060              8374   \n13         [1229.0]              8421              9329   \n14         [1228.0]              9105             10237   \n15         [1230.0]             10272             10786   \n16         [1228.0]             10384             11067   \n17         [1230.0]             11099             11941   \n18         [1229.0]             11974             14049   \n19         [1231.0]             13457             14328   \n20         [1228.0]             12074             14533   \n21         [1231.0]             14576             15350   \n22         [1232.0]             15720             16615   \n23         [1229.0]             16049             17037   \n24         [1228.0]             15377             17235   \n25         [1231.0]             17273             18876   \n26         [1229.0]             17801             19551   \n27         [1233.0]             20245             20557   \n28         [1232.0]             19585             20665   \n29         [1231.0]             20696             21362   \n30         [1229.0]             20928             21651   \n31         [1232.0]             21674             22664   \n32         [1233.0]             22851             25173   \n33         [1231.0]             22687             26505   \n34         [1229.0]             23848             27222   \n35         [1232.0]             25366             27235   \n36         [1231.0]             27306             28384   \n\n                       sniff_time_min              sniff_time_max  \\\nstack_idx                                                           \n0          2020-09-18 01:07:22.425912  2020-09-18 01:07:22.425912   \n1          2020-09-18 01:07:28.935647  2020-09-18 01:07:28.935647   \n2          2020-09-18 01:07:30.784745  2020-09-18 01:07:30.784745   \n3          2020-09-18 01:07:35.257826  2020-09-18 01:07:35.257826   \n4          2020-09-18 01:07:39.037302  2020-09-18 01:07:39.037302   \n5          2020-09-18 01:07:45.544565  2020-09-18 01:07:45.544565   \n6          2020-09-18 01:07:46.041104  2020-09-18 01:07:46.041104   \n7          2020-09-18 01:07:47.605781  2020-09-18 01:07:47.605781   \n8          2020-09-18 01:07:52.101027  2020-09-18 01:07:52.101027   \n9          2020-09-18 01:07:53.104460  2020-09-18 01:07:53.104460   \n10         2020-09-18 01:07:55.764111  2020-09-18 01:07:55.764111   \n11         2020-09-18 01:08:02.232798  2020-09-18 01:08:02.232798   \n12         2020-09-18 01:08:04.029108  2020-09-18 01:08:04.029108   \n13         2020-09-18 01:08:07.509236  2020-09-18 01:08:07.509236   \n14         2020-09-18 01:08:09.008941  2020-09-18 01:08:09.008941   \n15         2020-09-18 01:08:12.594083  2020-09-18 01:08:12.594083   \n16         2020-09-18 01:08:12.963826  2020-09-18 01:08:12.963826   \n17         2020-09-18 01:08:15.429842  2020-09-18 01:08:15.429842   \n18         2020-09-18 01:08:19.386398  2020-09-18 01:08:19.386398   \n19         2020-09-18 01:08:21.509586  2020-09-18 01:08:21.509586   \n20         2020-09-18 01:08:19.606410  2020-09-18 01:08:19.606410   \n21         2020-09-18 01:08:26.163793  2020-09-18 01:08:26.163793   \n22         2020-09-18 01:08:29.637843  2020-09-18 01:08:29.637843   \n23         2020-09-18 01:08:30.009781  2020-09-18 01:08:30.009781   \n24         2020-09-18 01:08:29.136161  2020-09-18 01:08:29.136161   \n25         2020-09-18 01:08:32.950969  2020-09-18 01:08:32.950969   \n26         2020-09-18 01:08:33.772999  2020-09-18 01:08:33.772999   \n27         2020-09-18 01:08:38.355165  2020-09-18 01:08:38.355165   \n28         2020-09-18 01:08:37.541733  2020-09-18 01:08:37.541733   \n29         2020-09-18 01:08:40.432528  2020-09-18 01:08:40.432528   \n30         2020-09-18 01:08:40.870246  2020-09-18 01:08:40.870246   \n31         2020-09-18 01:08:43.181066  2020-09-18 01:08:43.181066   \n32         2020-09-18 01:08:46.867158  2020-09-18 01:08:46.867158   \n33         2020-09-18 01:08:46.506665  2020-09-18 01:08:46.506665   \n34         2020-09-18 01:08:47.702200  2020-09-18 01:08:47.702200   \n35         2020-09-18 01:08:49.086028  2020-09-18 01:08:49.086028   \n36         2020-09-18 01:08:57.930895  2020-09-18 01:08:57.930895   \n\n                             activity_name                 stack_prediction  \\\nstack_idx                                                                     \n0           GenerateJobApplicationActivity   GenerateJobApplicationActivity   \n1                     ResumeReviewActivity             ResumeReviewActivity   \n2           GenerateJobApplicationActivity   GenerateJobApplicationActivity   \n3                     ResumeReviewActivity             ResumeReviewActivity   \n4           GenerateJobApplicationActivity   GenerateJobApplicationActivity   \n5                     ResumeReviewActivity             ResumeReviewActivity   \n6          ScheduleAnInterviewActivityCall  ScheduleAnInterviewActivityCall   \n7           GenerateJobApplicationActivity   GenerateJobApplicationActivity   \n8                     ResumeReviewActivity             ResumeReviewActivity   \n9                   PerformAnInterviewCall           PerformAnInterviewCall   \n10          GenerateJobApplicationActivity   GenerateJobApplicationActivity   \n11                    ResumeReviewActivity             ResumeReviewActivity   \n12          GenerateJobApplicationActivity   GenerateJobApplicationActivity   \n13                    ResumeReviewActivity             ResumeReviewActivity   \n14         ScheduleAnInterviewActivityCall  ScheduleAnInterviewActivityCall   \n15          GenerateJobApplicationActivity   GenerateJobApplicationActivity   \n16                  PerformAnInterviewCall           PerformAnInterviewCall   \n17                    ResumeReviewActivity             ResumeReviewActivity   \n18         ScheduleAnInterviewActivityCall  ScheduleAnInterviewActivityCall   \n19          GenerateJobApplicationActivity   GenerateJobApplicationActivity   \n20              ScheduleAnInterviewMeeting       ScheduleAnInterviewMeeting   \n21                    ResumeReviewActivity             ResumeReviewActivity   \n22          GenerateJobApplicationActivity   GenerateJobApplicationActivity   \n23                  PerformAnInterviewCall           PerformAnInterviewCall   \n24               PerformAnInterviewMeeting        PerformAnInterviewMeeting   \n25         ScheduleAnInterviewActivityCall  ScheduleAnInterviewActivityCall   \n26              ScheduleAnInterviewMeeting       ScheduleAnInterviewMeeting   \n27          GenerateJobApplicationActivity   GenerateJobApplicationActivity   \n28                    ResumeReviewActivity             ResumeReviewActivity   \n29                  PerformAnInterviewCall           PerformAnInterviewCall   \n30               PerformAnInterviewMeeting        PerformAnInterviewMeeting   \n31         ScheduleAnInterviewActivityCall  ScheduleAnInterviewActivityCall   \n32                    ResumeReviewActivity             ResumeReviewActivity   \n33              ScheduleAnInterviewMeeting       ScheduleAnInterviewMeeting   \n34                        ContractProposal                 ContractProposal   \n35                  PerformAnInterviewCall           PerformAnInterviewCall   \n36               PerformAnInterviewMeeting        PerformAnInterviewMeeting   \n\n           bp_true  activity_true  bp_id_1  \nstack_idx                                   \n0             True           True   1224.0  \n1             True           True   1224.0  \n2             True           True   1225.0  \n3             True           True   1225.0  \n4             True           True   1226.0  \n5             True           True   1226.0  \n6             True           True   1225.0  \n7             True           True   1227.0  \n8             True           True   1227.0  \n9             True           True   1225.0  \n10            True           True   1228.0  \n11            True           True   1228.0  \n12            True           True   1229.0  \n13            True           True   1229.0  \n14            True           True   1228.0  \n15            True           True   1230.0  \n16            True           True   1228.0  \n17            True           True   1230.0  \n18            True           True   1229.0  \n19            True           True   1231.0  \n20            True           True   1228.0  \n21            True           True   1231.0  \n22            True           True   1232.0  \n23            True           True   1229.0  \n24            True           True   1228.0  \n25            True           True   1231.0  \n26            True           True   1229.0  \n27            True           True   1233.0  \n28            True           True   1232.0  \n29            True           True   1231.0  \n30            True           True   1229.0  \n31            True           True   1232.0  \n32            True           True   1233.0  \n33            True           True   1231.0  \n34            True           True   1229.0  \n35            True           True   1232.0  \n36            True           True   1231.0  ",
      "text/html": "<div>\n<style scoped>\n    .dataframe tbody tr th:only-of-type {\n        vertical-align: middle;\n    }\n\n    .dataframe tbody tr th {\n        vertical-align: top;\n    }\n\n    .dataframe thead th {\n        text-align: right;\n    }\n</style>\n<table border=\"1\" class=\"dataframe\">\n  <thead>\n    <tr style=\"text-align: right;\">\n      <th></th>\n      <th>applicant_id</th>\n      <th>activity_id</th>\n      <th>mail_id</th>\n      <th>case_id</th>\n      <th>bp_id</th>\n      <th>frame_number_min</th>\n      <th>frame_number_max</th>\n      <th>sniff_time_min</th>\n      <th>sniff_time_max</th>\n      <th>activity_name</th>\n      <th>stack_prediction</th>\n      <th>bp_true</th>\n      <th>activity_true</th>\n      <th>bp_id_1</th>\n    </tr>\n    <tr>\n      <th>stack_idx</th>\n      <th></th>\n      <th></th>\n      <th></th>\n      <th></th>\n      <th></th>\n      <th></th>\n      <th></th>\n      <th></th>\n      <th></th>\n      <th></th>\n      <th></th>\n      <th></th>\n      <th></th>\n      <th></th>\n    </tr>\n  </thead>\n  <tbody>\n    <tr>\n      <th>0</th>\n      <td>[1224]</td>\n      <td>[]</td>\n      <td>[]</td>\n      <td>1</td>\n      <td>[1224.0]</td>\n      <td>17</td>\n      <td>325</td>\n      <td>2020-09-18 01:07:22.425912</td>\n      <td>2020-09-18 01:07:22.425912</td>\n      <td>GenerateJobApplicationActivity</td>\n      <td>GenerateJobApplicationActivity</td>\n      <td>True</td>\n      <td>True</td>\n      <td>1224.0</td>\n    </tr>\n    <tr>\n      <th>1</th>\n      <td>[1224]</td>\n      <td>[]</td>\n      <td>[7950]</td>\n      <td>1</td>\n      <td>[1224.0]</td>\n      <td>356</td>\n      <td>1192</td>\n      <td>2020-09-18 01:07:28.935647</td>\n      <td>2020-09-18 01:07:28.935647</td>\n      <td>ResumeReviewActivity</td>\n      <td>ResumeReviewActivity</td>\n      <td>True</td>\n      <td>True</td>\n      <td>1224.0</td>\n    </tr>\n    <tr>\n      <th>2</th>\n      <td>[1225]</td>\n      <td>[]</td>\n      <td>[]</td>\n      <td>2</td>\n      <td>[1225.0]</td>\n      <td>1212</td>\n      <td>1520</td>\n      <td>2020-09-18 01:07:30.784745</td>\n      <td>2020-09-18 01:07:30.784745</td>\n      <td>GenerateJobApplicationActivity</td>\n      <td>GenerateJobApplicationActivity</td>\n      <td>True</td>\n      <td>True</td>\n      <td>1225.0</td>\n    </tr>\n    <tr>\n      <th>3</th>\n      <td>[1225]</td>\n      <td>[]</td>\n      <td>[7954]</td>\n      <td>2</td>\n      <td>[1225.0]</td>\n      <td>1582</td>\n      <td>2336</td>\n      <td>2020-09-18 01:07:35.257826</td>\n      <td>2020-09-18 01:07:35.257826</td>\n      <td>ResumeReviewActivity</td>\n      <td>ResumeReviewActivity</td>\n      <td>True</td>\n      <td>True</td>\n      <td>1225.0</td>\n    </tr>\n    <tr>\n      <th>4</th>\n      <td>[1226]</td>\n      <td>[]</td>\n      <td>[]</td>\n      <td>3</td>\n      <td>[1226.0]</td>\n      <td>2354</td>\n      <td>2664</td>\n      <td>2020-09-18 01:07:39.037302</td>\n      <td>2020-09-18 01:07:39.037302</td>\n      <td>GenerateJobApplicationActivity</td>\n      <td>GenerateJobApplicationActivity</td>\n      <td>True</td>\n      <td>True</td>\n      <td>1226.0</td>\n    </tr>\n    <tr>\n      <th>5</th>\n      <td>[1226]</td>\n      <td>[]</td>\n      <td>[7958]</td>\n      <td>3</td>\n      <td>[1226.0]</td>\n      <td>2708</td>\n      <td>4461</td>\n      <td>2020-09-18 01:07:45.544565</td>\n      <td>2020-09-18 01:07:45.544565</td>\n      <td>ResumeReviewActivity</td>\n      <td>ResumeReviewActivity</td>\n      <td>True</td>\n      <td>True</td>\n      <td>1226.0</td>\n    </tr>\n    <tr>\n      <th>6</th>\n      <td>[1225, 1227]</td>\n      <td>[732]</td>\n      <td>[7960]</td>\n      <td>2</td>\n      <td>[1225.0]</td>\n      <td>3057</td>\n      <td>4871</td>\n      <td>2020-09-18 01:07:46.041104</td>\n      <td>2020-09-18 01:07:46.041104</td>\n      <td>ScheduleAnInterviewActivityCall</td>\n      <td>ScheduleAnInterviewActivityCall</td>\n      <td>True</td>\n      <td>True</td>\n      <td>1225.0</td>\n    </tr>\n    <tr>\n      <th>7</th>\n      <td>[1227]</td>\n      <td>[]</td>\n      <td>[]</td>\n      <td>4</td>\n      <td>[1227.0]</td>\n      <td>4467</td>\n      <td>4881</td>\n      <td>2020-09-18 01:07:47.605781</td>\n      <td>2020-09-18 01:07:47.605781</td>\n      <td>GenerateJobApplicationActivity</td>\n      <td>GenerateJobApplicationActivity</td>\n      <td>True</td>\n      <td>True</td>\n      <td>1227.0</td>\n    </tr>\n    <tr>\n      <th>8</th>\n      <td>[1227]</td>\n      <td>[]</td>\n      <td>[7964]</td>\n      <td>4</td>\n      <td>[1227.0]</td>\n      <td>4939</td>\n      <td>6164</td>\n      <td>2020-09-18 01:07:52.101027</td>\n      <td>2020-09-18 01:07:52.101027</td>\n      <td>ResumeReviewActivity</td>\n      <td>ResumeReviewActivity</td>\n      <td>True</td>\n      <td>True</td>\n      <td>1227.0</td>\n    </tr>\n    <tr>\n      <th>9</th>\n      <td>[1225]</td>\n      <td>[732]</td>\n      <td>[7965, 7967]</td>\n      <td>2</td>\n      <td>[1225.0]</td>\n      <td>5606</td>\n      <td>6859</td>\n      <td>2020-09-18 01:07:53.104460</td>\n      <td>2020-09-18 01:07:53.104460</td>\n      <td>PerformAnInterviewCall</td>\n      <td>PerformAnInterviewCall</td>\n      <td>True</td>\n      <td>True</td>\n      <td>1225.0</td>\n    </tr>\n    <tr>\n      <th>10</th>\n      <td>[1228]</td>\n      <td>[]</td>\n      <td>[]</td>\n      <td>5</td>\n      <td>[1228.0]</td>\n      <td>6879</td>\n      <td>7190</td>\n      <td>2020-09-18 01:07:55.764111</td>\n      <td>2020-09-18 01:07:55.764111</td>\n      <td>GenerateJobApplicationActivity</td>\n      <td>GenerateJobApplicationActivity</td>\n      <td>True</td>\n      <td>True</td>\n      <td>1228.0</td>\n    </tr>\n    <tr>\n      <th>11</th>\n      <td>[1228]</td>\n      <td>[]</td>\n      <td>[7971]</td>\n      <td>5</td>\n      <td>[1228.0]</td>\n      <td>7261</td>\n      <td>8044</td>\n      <td>2020-09-18 01:08:02.232798</td>\n      <td>2020-09-18 01:08:02.232798</td>\n      <td>ResumeReviewActivity</td>\n      <td>ResumeReviewActivity</td>\n      <td>True</td>\n      <td>True</td>\n      <td>1228.0</td>\n    </tr>\n    <tr>\n      <th>12</th>\n      <td>[1229]</td>\n      <td>[]</td>\n      <td>[]</td>\n      <td>6</td>\n      <td>[1229.0]</td>\n      <td>8060</td>\n      <td>8374</td>\n      <td>2020-09-18 01:08:04.029108</td>\n      <td>2020-09-18 01:08:04.029108</td>\n      <td>GenerateJobApplicationActivity</td>\n      <td>GenerateJobApplicationActivity</td>\n      <td>True</td>\n      <td>True</td>\n      <td>1229.0</td>\n    </tr>\n    <tr>\n      <th>13</th>\n      <td>[1229]</td>\n      <td>[]</td>\n      <td>[7975]</td>\n      <td>6</td>\n      <td>[1229.0]</td>\n      <td>8421</td>\n      <td>9329</td>\n      <td>2020-09-18 01:08:07.509236</td>\n      <td>2020-09-18 01:08:07.509236</td>\n      <td>ResumeReviewActivity</td>\n      <td>ResumeReviewActivity</td>\n      <td>True</td>\n      <td>True</td>\n      <td>1229.0</td>\n    </tr>\n    <tr>\n      <th>14</th>\n      <td>[1228]</td>\n      <td>[733]</td>\n      <td>[7977]</td>\n      <td>5</td>\n      <td>[1228.0]</td>\n      <td>9105</td>\n      <td>10237</td>\n      <td>2020-09-18 01:08:09.008941</td>\n      <td>2020-09-18 01:08:09.008941</td>\n      <td>ScheduleAnInterviewActivityCall</td>\n      <td>ScheduleAnInterviewActivityCall</td>\n      <td>True</td>\n      <td>True</td>\n      <td>1228.0</td>\n    </tr>\n    <tr>\n      <th>15</th>\n      <td>[1230]</td>\n      <td>[]</td>\n      <td>[]</td>\n      <td>7</td>\n      <td>[1230.0]</td>\n      <td>10272</td>\n      <td>10786</td>\n      <td>2020-09-18 01:08:12.594083</td>\n      <td>2020-09-18 01:08:12.594083</td>\n      <td>GenerateJobApplicationActivity</td>\n      <td>GenerateJobApplicationActivity</td>\n      <td>True</td>\n      <td>True</td>\n      <td>1230.0</td>\n    </tr>\n    <tr>\n      <th>16</th>\n      <td>[1228, 1230]</td>\n      <td>[733]</td>\n      <td>[7979]</td>\n      <td>5</td>\n      <td>[1228.0]</td>\n      <td>10384</td>\n      <td>11067</td>\n      <td>2020-09-18 01:08:12.963826</td>\n      <td>2020-09-18 01:08:12.963826</td>\n      <td>PerformAnInterviewCall</td>\n      <td>PerformAnInterviewCall</td>\n      <td>True</td>\n      <td>True</td>\n      <td>1228.0</td>\n    </tr>\n    <tr>\n      <th>17</th>\n      <td>[1230]</td>\n      <td>[]</td>\n      <td>[7982]</td>\n      <td>7</td>\n      <td>[1230.0]</td>\n      <td>11099</td>\n      <td>11941</td>\n      <td>2020-09-18 01:08:15.429842</td>\n      <td>2020-09-18 01:08:15.429842</td>\n      <td>ResumeReviewActivity</td>\n      <td>ResumeReviewActivity</td>\n      <td>True</td>\n      <td>True</td>\n      <td>1230.0</td>\n    </tr>\n    <tr>\n      <th>18</th>\n      <td>[1229, 1228]</td>\n      <td>[735, 734]</td>\n      <td>[7983, 7985]</td>\n      <td>6</td>\n      <td>[1229.0]</td>\n      <td>11974</td>\n      <td>14049</td>\n      <td>2020-09-18 01:08:19.386398</td>\n      <td>2020-09-18 01:08:19.386398</td>\n      <td>ScheduleAnInterviewActivityCall</td>\n      <td>ScheduleAnInterviewActivityCall</td>\n      <td>True</td>\n      <td>True</td>\n      <td>1229.0</td>\n    </tr>\n    <tr>\n      <th>19</th>\n      <td>[1231]</td>\n      <td>[]</td>\n      <td>[]</td>\n      <td>8</td>\n      <td>[1231.0]</td>\n      <td>13457</td>\n      <td>14328</td>\n      <td>2020-09-18 01:08:21.509586</td>\n      <td>2020-09-18 01:08:21.509586</td>\n      <td>GenerateJobApplicationActivity</td>\n      <td>GenerateJobApplicationActivity</td>\n      <td>True</td>\n      <td>True</td>\n      <td>1231.0</td>\n    </tr>\n    <tr>\n      <th>20</th>\n      <td>[1228]</td>\n      <td>[734, 735]</td>\n      <td>[7988]</td>\n      <td>5</td>\n      <td>[1228.0]</td>\n      <td>12074</td>\n      <td>14533</td>\n      <td>2020-09-18 01:08:19.606410</td>\n      <td>2020-09-18 01:08:19.606410</td>\n      <td>ScheduleAnInterviewMeeting</td>\n      <td>ScheduleAnInterviewMeeting</td>\n      <td>True</td>\n      <td>True</td>\n      <td>1228.0</td>\n    </tr>\n    <tr>\n      <th>21</th>\n      <td>[1231]</td>\n      <td>[]</td>\n      <td>[7991]</td>\n      <td>8</td>\n      <td>[1231.0]</td>\n      <td>14576</td>\n      <td>15350</td>\n      <td>2020-09-18 01:08:26.163793</td>\n      <td>2020-09-18 01:08:26.163793</td>\n      <td>ResumeReviewActivity</td>\n      <td>ResumeReviewActivity</td>\n      <td>True</td>\n      <td>True</td>\n      <td>1231.0</td>\n    </tr>\n    <tr>\n      <th>22</th>\n      <td>[1232]</td>\n      <td>[]</td>\n      <td>[]</td>\n      <td>9</td>\n      <td>[1232.0]</td>\n      <td>15720</td>\n      <td>16615</td>\n      <td>2020-09-18 01:08:29.637843</td>\n      <td>2020-09-18 01:08:29.637843</td>\n      <td>GenerateJobApplicationActivity</td>\n      <td>GenerateJobApplicationActivity</td>\n      <td>True</td>\n      <td>True</td>\n      <td>1232.0</td>\n    </tr>\n    <tr>\n      <th>23</th>\n      <td>[1229]</td>\n      <td>[734]</td>\n      <td>[7996]</td>\n      <td>6</td>\n      <td>[1229.0]</td>\n      <td>16049</td>\n      <td>17037</td>\n      <td>2020-09-18 01:08:30.009781</td>\n      <td>2020-09-18 01:08:30.009781</td>\n      <td>PerformAnInterviewCall</td>\n      <td>PerformAnInterviewCall</td>\n      <td>True</td>\n      <td>True</td>\n      <td>1229.0</td>\n    </tr>\n    <tr>\n      <th>24</th>\n      <td>[1228]</td>\n      <td>[735]</td>\n      <td>[7992, 7995]</td>\n      <td>5</td>\n      <td>[1228.0]</td>\n      <td>15377</td>\n      <td>17235</td>\n      <td>2020-09-18 01:08:29.136161</td>\n      <td>2020-09-18 01:08:29.136161</td>\n      <td>PerformAnInterviewMeeting</td>\n      <td>PerformAnInterviewMeeting</td>\n      <td>True</td>\n      <td>True</td>\n      <td>1228.0</td>\n    </tr>\n    <tr>\n      <th>25</th>\n      <td>[1231, 1229]</td>\n      <td>[736]</td>\n      <td>[7998]</td>\n      <td>8</td>\n      <td>[1231.0]</td>\n      <td>17273</td>\n      <td>18876</td>\n      <td>2020-09-18 01:08:32.950969</td>\n      <td>2020-09-18 01:08:32.950969</td>\n      <td>ScheduleAnInterviewActivityCall</td>\n      <td>ScheduleAnInterviewActivityCall</td>\n      <td>True</td>\n      <td>True</td>\n      <td>1231.0</td>\n    </tr>\n    <tr>\n      <th>26</th>\n      <td>[1229]</td>\n      <td>[737]</td>\n      <td>[7999, 7998, 8001]</td>\n      <td>6</td>\n      <td>[1229.0]</td>\n      <td>17801</td>\n      <td>19551</td>\n      <td>2020-09-18 01:08:33.772999</td>\n      <td>2020-09-18 01:08:33.772999</td>\n      <td>ScheduleAnInterviewMeeting</td>\n      <td>ScheduleAnInterviewMeeting</td>\n      <td>True</td>\n      <td>True</td>\n      <td>1229.0</td>\n    </tr>\n    <tr>\n      <th>27</th>\n      <td>[1233]</td>\n      <td>[]</td>\n      <td>[]</td>\n      <td>10</td>\n      <td>[1233.0]</td>\n      <td>20245</td>\n      <td>20557</td>\n      <td>2020-09-18 01:08:38.355165</td>\n      <td>2020-09-18 01:08:38.355165</td>\n      <td>GenerateJobApplicationActivity</td>\n      <td>GenerateJobApplicationActivity</td>\n      <td>True</td>\n      <td>True</td>\n      <td>1233.0</td>\n    </tr>\n    <tr>\n      <th>28</th>\n      <td>[1232, 1233]</td>\n      <td>[]</td>\n      <td>[8004]</td>\n      <td>9</td>\n      <td>[1232.0]</td>\n      <td>19585</td>\n      <td>20665</td>\n      <td>2020-09-18 01:08:37.541733</td>\n      <td>2020-09-18 01:08:37.541733</td>\n      <td>ResumeReviewActivity</td>\n      <td>ResumeReviewActivity</td>\n      <td>True</td>\n      <td>True</td>\n      <td>1232.0</td>\n    </tr>\n    <tr>\n      <th>29</th>\n      <td>[1231]</td>\n      <td>[736]</td>\n      <td>[8006]</td>\n      <td>8</td>\n      <td>[1231.0]</td>\n      <td>20696</td>\n      <td>21362</td>\n      <td>2020-09-18 01:08:40.432528</td>\n      <td>2020-09-18 01:08:40.432528</td>\n      <td>PerformAnInterviewCall</td>\n      <td>PerformAnInterviewCall</td>\n      <td>True</td>\n      <td>True</td>\n      <td>1231.0</td>\n    </tr>\n    <tr>\n      <th>30</th>\n      <td>[1229]</td>\n      <td>[737]</td>\n      <td>[8007]</td>\n      <td>6</td>\n      <td>[1229.0]</td>\n      <td>20928</td>\n      <td>21651</td>\n      <td>2020-09-18 01:08:40.870246</td>\n      <td>2020-09-18 01:08:40.870246</td>\n      <td>PerformAnInterviewMeeting</td>\n      <td>PerformAnInterviewMeeting</td>\n      <td>True</td>\n      <td>True</td>\n      <td>1229.0</td>\n    </tr>\n    <tr>\n      <th>31</th>\n      <td>[1232]</td>\n      <td>[738]</td>\n      <td>[8009]</td>\n      <td>9</td>\n      <td>[1232.0]</td>\n      <td>21674</td>\n      <td>22664</td>\n      <td>2020-09-18 01:08:43.181066</td>\n      <td>2020-09-18 01:08:43.181066</td>\n      <td>ScheduleAnInterviewActivityCall</td>\n      <td>ScheduleAnInterviewActivityCall</td>\n      <td>True</td>\n      <td>True</td>\n      <td>1232.0</td>\n    </tr>\n    <tr>\n      <th>32</th>\n      <td>[1233, 1231]</td>\n      <td>[]</td>\n      <td>[8011]</td>\n      <td>10</td>\n      <td>[1233.0]</td>\n      <td>22851</td>\n      <td>25173</td>\n      <td>2020-09-18 01:08:46.867158</td>\n      <td>2020-09-18 01:08:46.867158</td>\n      <td>ResumeReviewActivity</td>\n      <td>ResumeReviewActivity</td>\n      <td>True</td>\n      <td>True</td>\n      <td>1233.0</td>\n    </tr>\n    <tr>\n      <th>33</th>\n      <td>[1231, 1233]</td>\n      <td>[739]</td>\n      <td>[8013, 8011, 8017, 8015]</td>\n      <td>8</td>\n      <td>[1231.0]</td>\n      <td>22687</td>\n      <td>26505</td>\n      <td>2020-09-18 01:08:46.506665</td>\n      <td>2020-09-18 01:08:46.506665</td>\n      <td>ScheduleAnInterviewMeeting</td>\n      <td>ScheduleAnInterviewMeeting</td>\n      <td>True</td>\n      <td>True</td>\n      <td>1231.0</td>\n    </tr>\n    <tr>\n      <th>34</th>\n      <td>[1229]</td>\n      <td>[]</td>\n      <td>[8015, 8013, 8020]</td>\n      <td>6</td>\n      <td>[1229.0]</td>\n      <td>23848</td>\n      <td>27222</td>\n      <td>2020-09-18 01:08:47.702200</td>\n      <td>2020-09-18 01:08:47.702200</td>\n      <td>ContractProposal</td>\n      <td>ContractProposal</td>\n      <td>True</td>\n      <td>True</td>\n      <td>1229.0</td>\n    </tr>\n    <tr>\n      <th>35</th>\n      <td>[1232]</td>\n      <td>[738]</td>\n      <td>[8018, 8022]</td>\n      <td>9</td>\n      <td>[1232.0]</td>\n      <td>25366</td>\n      <td>27235</td>\n      <td>2020-09-18 01:08:49.086028</td>\n      <td>2020-09-18 01:08:49.086028</td>\n      <td>PerformAnInterviewCall</td>\n      <td>PerformAnInterviewCall</td>\n      <td>True</td>\n      <td>True</td>\n      <td>1232.0</td>\n    </tr>\n    <tr>\n      <th>36</th>\n      <td>[1231]</td>\n      <td>[739]</td>\n      <td>[8023, 8025]</td>\n      <td>8</td>\n      <td>[1231.0]</td>\n      <td>27306</td>\n      <td>28384</td>\n      <td>2020-09-18 01:08:57.930895</td>\n      <td>2020-09-18 01:08:57.930895</td>\n      <td>PerformAnInterviewMeeting</td>\n      <td>PerformAnInterviewMeeting</td>\n      <td>True</td>\n      <td>True</td>\n      <td>1231.0</td>\n    </tr>\n  </tbody>\n</table>\n</div>"
     },
     "execution_count": 120,
     "metadata": {},
     "output_type": "execute_result"
    }
   ],
   "source": [
    "res"
   ],
   "metadata": {
    "collapsed": false,
    "ExecuteTime": {
     "end_time": "2024-04-29T16:50:59.898943Z",
     "start_time": "2024-04-29T16:50:59.828100Z"
    }
   },
   "id": "e983f7bc322b1e7a"
  },
  {
   "cell_type": "code",
   "execution_count": 121,
   "outputs": [
    {
     "name": "stdout",
     "output_type": "stream",
     "text": [
      "------------------ Activity Type --------------\n",
      "                                 precision    recall  f1-score   support\n",
      "\n",
      "               ContractProposal       1.00      1.00      1.00         1\n",
      " GenerateJobApplicationActivity       1.00      1.00      1.00        10\n",
      "         PerformAnInterviewCall       1.00      1.00      1.00         5\n",
      "      PerformAnInterviewMeeting       1.00      1.00      1.00         3\n",
      "           ResumeReviewActivity       1.00      1.00      1.00        10\n",
      "ScheduleAnInterviewActivityCall       1.00      1.00      1.00         5\n",
      "     ScheduleAnInterviewMeeting       1.00      1.00      1.00         3\n",
      "\n",
      "                       accuracy                           1.00        37\n",
      "                      macro avg       1.00      1.00      1.00        37\n",
      "                   weighted avg       1.00      1.00      1.00        37\n"
     ]
    }
   ],
   "source": [
    "from sklearn.metrics import classification_report\n",
    "\n",
    "print(\"------------------ Activity Type --------------\")\n",
    "print(classification_report(res[\"activity_name\"], res[\"stack_prediction\"]))"
   ],
   "metadata": {
    "collapsed": false,
    "ExecuteTime": {
     "end_time": "2024-04-29T16:51:03.538943Z",
     "start_time": "2024-04-29T16:51:03.437207Z"
    }
   },
   "id": "5e795289f94e552d"
  },
  {
   "cell_type": "code",
   "execution_count": 122,
   "outputs": [
    {
     "name": "stdout",
     "output_type": "stream",
     "text": [
      "------------------ Activity Type --------------\n",
      "              precision    recall  f1-score   support\n",
      "\n",
      "        1224       1.00      1.00      1.00         2\n",
      "        1225       1.00      1.00      1.00         4\n",
      "        1226       1.00      1.00      1.00         2\n",
      "        1227       1.00      1.00      1.00         2\n",
      "        1228       1.00      1.00      1.00         6\n",
      "        1229       1.00      1.00      1.00         7\n",
      "        1230       1.00      1.00      1.00         2\n",
      "        1231       1.00      1.00      1.00         6\n",
      "        1232       1.00      1.00      1.00         4\n",
      "        1233       1.00      1.00      1.00         2\n",
      "\n",
      "    accuracy                           1.00        37\n",
      "   macro avg       1.00      1.00      1.00        37\n",
      "weighted avg       1.00      1.00      1.00        37\n"
     ]
    }
   ],
   "source": [
    "first_int = lambda x: int(x[0])\n",
    "\n",
    "\n",
    "pred = res[\"applicant_id\"].map(first_int)\n",
    "true = res[\"bp_id\"].map(first_int)\n",
    "\n",
    "\n",
    "print(\"------------------ Activity Type --------------\")\n",
    "print(classification_report(true, pred))"
   ],
   "metadata": {
    "collapsed": false,
    "ExecuteTime": {
     "end_time": "2024-04-29T16:51:07.882271Z",
     "start_time": "2024-04-29T16:51:07.799423Z"
    }
   },
   "id": "20ebb70bf909a78c"
  },
  {
   "cell_type": "code",
   "execution_count": 123,
   "outputs": [
    {
     "data": {
      "text/plain": "case_id  bp_id_1\n6        1229.0     7\n5        1228.0     6\n8        1231.0     6\n2        1225.0     4\n9        1232.0     4\n1        1224.0     2\n3        1226.0     2\n4        1227.0     2\n7        1230.0     2\n10       1233.0     2\nName: count, dtype: int64"
     },
     "execution_count": 123,
     "metadata": {},
     "output_type": "execute_result"
    }
   ],
   "source": [
    "res[[\"case_id\",\"bp_id_1\"]].value_counts()"
   ],
   "metadata": {
    "collapsed": false,
    "ExecuteTime": {
     "end_time": "2024-04-29T16:51:10.335758Z",
     "start_time": "2024-04-29T16:51:10.212818Z"
    }
   },
   "id": "d07e9fbb91d8b57e"
  },
  {
   "cell_type": "markdown",
   "source": [
    "-> 1 to 1 Matching of Case_id and Bp_id -> 1.0 is correct"
   ],
   "metadata": {
    "collapsed": false
   },
   "id": "332d165d6c85c54c"
  },
  {
   "cell_type": "code",
   "execution_count": 124,
   "outputs": [
    {
     "data": {
      "text/plain": "1.0"
     },
     "execution_count": 124,
     "metadata": {},
     "output_type": "execute_result"
    }
   ],
   "source": [
    "res[\"activity_true\"].mean()"
   ],
   "metadata": {
    "collapsed": false,
    "ExecuteTime": {
     "end_time": "2024-04-29T16:51:13.196929Z",
     "start_time": "2024-04-29T16:51:13.131675Z"
    }
   },
   "id": "2a079464269e9156"
  },
  {
   "cell_type": "code",
   "execution_count": 125,
   "outputs": [
    {
     "data": {
      "text/plain": "1.0"
     },
     "execution_count": 125,
     "metadata": {},
     "output_type": "execute_result"
    }
   ],
   "source": [
    "res[\"bp_true\"].mean()"
   ],
   "metadata": {
    "collapsed": false,
    "ExecuteTime": {
     "end_time": "2024-04-29T16:51:13.992002Z",
     "start_time": "2024-04-29T16:51:13.931462Z"
    }
   },
   "id": "cc30fb50d0c43c82"
  },
  {
   "cell_type": "code",
   "execution_count": 126,
   "outputs": [
    {
     "data": {
      "text/plain": "                      activity_name  start    end  actual_end  \\\n0    GenerateJobApplicationActivity     17    356         325   \n1              ResumeReviewActivity    356   1212        1192   \n2    GenerateJobApplicationActivity   1212   1582        1520   \n3              ResumeReviewActivity   1582   2354        2336   \n4    GenerateJobApplicationActivity   2354   2708        2664   \n5              ResumeReviewActivity   2708   4467        4461   \n6   ScheduleAnInterviewActivityCall   3057   4881        4871   \n7    GenerateJobApplicationActivity   4467   4939        4881   \n8              ResumeReviewActivity   4939   6205        6164   \n9            PerformAnInterviewCall   5606   6879        6859   \n10   GenerateJobApplicationActivity   6879   7261        7190   \n11             ResumeReviewActivity   7261   8060        8044   \n12   GenerateJobApplicationActivity   8060   8421        8374   \n13             ResumeReviewActivity   8421   9412        9329   \n14  ScheduleAnInterviewActivityCall   9105  10272       10237   \n15   GenerateJobApplicationActivity  10272  10843       10786   \n16           PerformAnInterviewCall  10384  11099       11067   \n17             ResumeReviewActivity  11099  11974       11941   \n18  ScheduleAnInterviewActivityCall  11974  14067       14049   \n19       ScheduleAnInterviewMeeting  12074  14576       14533   \n20   GenerateJobApplicationActivity  13457  14333       14328   \n21             ResumeReviewActivity  14576  15377       15350   \n22        PerformAnInterviewMeeting  15377  17273       17235   \n23   GenerateJobApplicationActivity  15720  16644       16615   \n24           PerformAnInterviewCall  16049  17078       17037   \n25  ScheduleAnInterviewActivityCall  17273  18903       18876   \n26       ScheduleAnInterviewMeeting  17801  19585       19551   \n27             ResumeReviewActivity  19585  20696       20665   \n28   GenerateJobApplicationActivity  20245  20588       20557   \n29           PerformAnInterviewCall  20696  21413       21362   \n30        PerformAnInterviewMeeting  20928  21674       21651   \n31  ScheduleAnInterviewActivityCall  21674  22687       22664   \n32       ScheduleAnInterviewMeeting  22687  26508       26505   \n33             ResumeReviewActivity  22851  25201       25173   \n34                 ContractProposal  23848  27226       27222   \n35           PerformAnInterviewCall  25366  27306       27235   \n36        PerformAnInterviewMeeting  27306  28384       28384   \n\n                               overlapping_activities  bp_id  \\\n0                                                  []   1224   \n1                                                  []   1224   \n2                                                  []   1225   \n3                                                  []   1225   \n4                                                  []   1226   \n5              [ScheduleAnInterviewActivityCall 1225]   1226   \n6   [ResumeReviewActivity 1226, GenerateJobApplica...   1225   \n7              [ScheduleAnInterviewActivityCall 1225]   1227   \n8                       [PerformAnInterviewCall 1225]   1227   \n9                         [ResumeReviewActivity 1227]   1225   \n10                                                 []   1228   \n11                                                 []   1228   \n12                                                 []   1229   \n13             [ScheduleAnInterviewActivityCall 1228]   1229   \n14                        [ResumeReviewActivity 1229]   1228   \n15                      [PerformAnInterviewCall 1228]   1230   \n16              [GenerateJobApplicationActivity 1230]   1228   \n17                                                 []   1230   \n18  [ScheduleAnInterviewMeeting 1228, GenerateJobA...   1229   \n19  [ScheduleAnInterviewActivityCall 1229, Generat...   1228   \n20  [ScheduleAnInterviewActivityCall 1229, Schedul...   1231   \n21                                                 []   1231   \n22  [GenerateJobApplicationActivity 1232, PerformA...   1228   \n23  [PerformAnInterviewMeeting 1228, PerformAnInte...   1232   \n24  [PerformAnInterviewMeeting 1228, GenerateJobAp...   1229   \n25                  [ScheduleAnInterviewMeeting 1229]   1231   \n26             [ScheduleAnInterviewActivityCall 1231]   1229   \n27              [GenerateJobApplicationActivity 1233]   1232   \n28                        [ResumeReviewActivity 1232]   1233   \n29                   [PerformAnInterviewMeeting 1229]   1231   \n30                      [PerformAnInterviewCall 1231]   1229   \n31                                                 []   1232   \n32  [ResumeReviewActivity 1233, ContractProposal 1...   1231   \n33  [ScheduleAnInterviewMeeting 1231, ContractProp...   1233   \n34  [ScheduleAnInterviewMeeting 1231, ResumeReview...   1229   \n35  [ScheduleAnInterviewMeeting 1231, ContractProp...   1232   \n36                                                 []   1231   \n\n       overlapping_bps                                     classification  \\\n0                   []                     GenerateJobApplicationActivity   \n1                   []                               ResumeReviewActivity   \n2                   []                     GenerateJobApplicationActivity   \n3                   []                               ResumeReviewActivity   \n4                   []                     GenerateJobApplicationActivity   \n5               [1225]  ResumeReviewActivity, ScheduleAnInterviewActiv...   \n6         [1226, 1227]  ResumeReviewActivity, ScheduleAnInterviewActiv...   \n7               [1225]                     GenerateJobApplicationActivity   \n8               [1225]                               ResumeReviewActivity   \n9               [1227]                             PerformAnInterviewCall   \n10                  []                     GenerateJobApplicationActivity   \n11                  []                               ResumeReviewActivity   \n12                  []                     GenerateJobApplicationActivity   \n13              [1228]                               ResumeReviewActivity   \n14              [1229]                    ScheduleAnInterviewActivityCall   \n15              [1228]                     GenerateJobApplicationActivity   \n16              [1230]                     GenerateJobApplicationActivity   \n17                  []                               ResumeReviewActivity   \n18        [1228, 1231]                    ScheduleAnInterviewActivityCall   \n19        [1229, 1231]                         ScheduleAnInterviewMeeting   \n20        [1228, 1229]                     GenerateJobApplicationActivity   \n21                  []                               ResumeReviewActivity   \n22        [1232, 1229]  PerformAnInterviewMeeting , GenerateJobApplica...   \n23        [1228, 1229]                     GenerateJobApplicationActivity   \n24        [1232, 1228]                     GenerateJobApplicationActivity   \n25              [1229]                    ScheduleAnInterviewActivityCall   \n26              [1231]                         ScheduleAnInterviewMeeting   \n27              [1233]                               ResumeReviewActivity   \n28              [1232]                     GenerateJobApplicationActivity   \n29              [1229]                          PerformAnInterviewMeeting   \n30              [1231]                          PerformAnInterviewMeeting   \n31                  []                    ScheduleAnInterviewActivityCall   \n32  [1232, 1233, 1229]      ResumeReviewActivity , PerformAnInterviewCall   \n33        [1229, 1231]                               ResumeReviewActivity   \n34  [1232, 1233, 1231]                                   ContractProposal   \n35        [1229, 1231]                             PerformAnInterviewCall   \n36                  []                          PerformAnInterviewMeeting   \n\n   Multi Class Classification  Single Class Classification  probability  \n0                        TRUE                         True     0.994192  \n1                        TRUE                         True     0.993149  \n2                        TRUE                         True     0.994192  \n3                        TRUE                         True     0.993329  \n4                        TRUE                         True     0.994192  \n5                        TRUE                         True     0.211112  \n6                        TRUE                         True     0.021792  \n7                       FALSE                         True     0.986619  \n8                       FALSE                         True     0.839890  \n9                       FALSE                         True     0.962106  \n10                       TRUE                         True     0.994192  \n11                       TRUE                         True     0.993329  \n12                       TRUE                         True     0.994192  \n13                      FALSE                         True     0.992941  \n14                      FALSE                         True     0.960603  \n15                       TRUE                         True     0.991560  \n16                      FALSE                        False     0.452660  \n17                       TRUE                         True     0.993149  \n18                      FALSE                         True     0.873542  \n19                      FALSE                         True     0.475987  \n20                      FALSE                         True     0.835693  \n21                       TRUE                         True     0.993329  \n22                      FALSE                         True     0.007557  \n23                      FALSE                         True     0.711298  \n24                      FALSE                        False     0.119634  \n25                      FALSE                         True     0.679157  \n26                    Unknown                         True     0.749887  \n27                      FALSE                         True     0.194285  \n28                      FALSE                         True     0.994192  \n29                      FALSE                        False     0.455015  \n30                      FALSE                         True     0.972130  \n31                       TRUE                         True     0.978524  \n32                      FALSE                        False     0.033681  \n33                      FALSE                         True     0.189530  \n34                      FALSE                         True     0.899964  \n35                      FALSE                         True     0.685331  \n36                       TRUE                         True     0.958282  ",
      "text/html": "<div>\n<style scoped>\n    .dataframe tbody tr th:only-of-type {\n        vertical-align: middle;\n    }\n\n    .dataframe tbody tr th {\n        vertical-align: top;\n    }\n\n    .dataframe thead th {\n        text-align: right;\n    }\n</style>\n<table border=\"1\" class=\"dataframe\">\n  <thead>\n    <tr style=\"text-align: right;\">\n      <th></th>\n      <th>activity_name</th>\n      <th>start</th>\n      <th>end</th>\n      <th>actual_end</th>\n      <th>overlapping_activities</th>\n      <th>bp_id</th>\n      <th>overlapping_bps</th>\n      <th>classification</th>\n      <th>Multi Class Classification</th>\n      <th>Single Class Classification</th>\n      <th>probability</th>\n    </tr>\n  </thead>\n  <tbody>\n    <tr>\n      <th>0</th>\n      <td>GenerateJobApplicationActivity</td>\n      <td>17</td>\n      <td>356</td>\n      <td>325</td>\n      <td>[]</td>\n      <td>1224</td>\n      <td>[]</td>\n      <td>GenerateJobApplicationActivity</td>\n      <td>TRUE</td>\n      <td>True</td>\n      <td>0.994192</td>\n    </tr>\n    <tr>\n      <th>1</th>\n      <td>ResumeReviewActivity</td>\n      <td>356</td>\n      <td>1212</td>\n      <td>1192</td>\n      <td>[]</td>\n      <td>1224</td>\n      <td>[]</td>\n      <td>ResumeReviewActivity</td>\n      <td>TRUE</td>\n      <td>True</td>\n      <td>0.993149</td>\n    </tr>\n    <tr>\n      <th>2</th>\n      <td>GenerateJobApplicationActivity</td>\n      <td>1212</td>\n      <td>1582</td>\n      <td>1520</td>\n      <td>[]</td>\n      <td>1225</td>\n      <td>[]</td>\n      <td>GenerateJobApplicationActivity</td>\n      <td>TRUE</td>\n      <td>True</td>\n      <td>0.994192</td>\n    </tr>\n    <tr>\n      <th>3</th>\n      <td>ResumeReviewActivity</td>\n      <td>1582</td>\n      <td>2354</td>\n      <td>2336</td>\n      <td>[]</td>\n      <td>1225</td>\n      <td>[]</td>\n      <td>ResumeReviewActivity</td>\n      <td>TRUE</td>\n      <td>True</td>\n      <td>0.993329</td>\n    </tr>\n    <tr>\n      <th>4</th>\n      <td>GenerateJobApplicationActivity</td>\n      <td>2354</td>\n      <td>2708</td>\n      <td>2664</td>\n      <td>[]</td>\n      <td>1226</td>\n      <td>[]</td>\n      <td>GenerateJobApplicationActivity</td>\n      <td>TRUE</td>\n      <td>True</td>\n      <td>0.994192</td>\n    </tr>\n    <tr>\n      <th>5</th>\n      <td>ResumeReviewActivity</td>\n      <td>2708</td>\n      <td>4467</td>\n      <td>4461</td>\n      <td>[ScheduleAnInterviewActivityCall 1225]</td>\n      <td>1226</td>\n      <td>[1225]</td>\n      <td>ResumeReviewActivity, ScheduleAnInterviewActiv...</td>\n      <td>TRUE</td>\n      <td>True</td>\n      <td>0.211112</td>\n    </tr>\n    <tr>\n      <th>6</th>\n      <td>ScheduleAnInterviewActivityCall</td>\n      <td>3057</td>\n      <td>4881</td>\n      <td>4871</td>\n      <td>[ResumeReviewActivity 1226, GenerateJobApplica...</td>\n      <td>1225</td>\n      <td>[1226, 1227]</td>\n      <td>ResumeReviewActivity, ScheduleAnInterviewActiv...</td>\n      <td>TRUE</td>\n      <td>True</td>\n      <td>0.021792</td>\n    </tr>\n    <tr>\n      <th>7</th>\n      <td>GenerateJobApplicationActivity</td>\n      <td>4467</td>\n      <td>4939</td>\n      <td>4881</td>\n      <td>[ScheduleAnInterviewActivityCall 1225]</td>\n      <td>1227</td>\n      <td>[1225]</td>\n      <td>GenerateJobApplicationActivity</td>\n      <td>FALSE</td>\n      <td>True</td>\n      <td>0.986619</td>\n    </tr>\n    <tr>\n      <th>8</th>\n      <td>ResumeReviewActivity</td>\n      <td>4939</td>\n      <td>6205</td>\n      <td>6164</td>\n      <td>[PerformAnInterviewCall 1225]</td>\n      <td>1227</td>\n      <td>[1225]</td>\n      <td>ResumeReviewActivity</td>\n      <td>FALSE</td>\n      <td>True</td>\n      <td>0.839890</td>\n    </tr>\n    <tr>\n      <th>9</th>\n      <td>PerformAnInterviewCall</td>\n      <td>5606</td>\n      <td>6879</td>\n      <td>6859</td>\n      <td>[ResumeReviewActivity 1227]</td>\n      <td>1225</td>\n      <td>[1227]</td>\n      <td>PerformAnInterviewCall</td>\n      <td>FALSE</td>\n      <td>True</td>\n      <td>0.962106</td>\n    </tr>\n    <tr>\n      <th>10</th>\n      <td>GenerateJobApplicationActivity</td>\n      <td>6879</td>\n      <td>7261</td>\n      <td>7190</td>\n      <td>[]</td>\n      <td>1228</td>\n      <td>[]</td>\n      <td>GenerateJobApplicationActivity</td>\n      <td>TRUE</td>\n      <td>True</td>\n      <td>0.994192</td>\n    </tr>\n    <tr>\n      <th>11</th>\n      <td>ResumeReviewActivity</td>\n      <td>7261</td>\n      <td>8060</td>\n      <td>8044</td>\n      <td>[]</td>\n      <td>1228</td>\n      <td>[]</td>\n      <td>ResumeReviewActivity</td>\n      <td>TRUE</td>\n      <td>True</td>\n      <td>0.993329</td>\n    </tr>\n    <tr>\n      <th>12</th>\n      <td>GenerateJobApplicationActivity</td>\n      <td>8060</td>\n      <td>8421</td>\n      <td>8374</td>\n      <td>[]</td>\n      <td>1229</td>\n      <td>[]</td>\n      <td>GenerateJobApplicationActivity</td>\n      <td>TRUE</td>\n      <td>True</td>\n      <td>0.994192</td>\n    </tr>\n    <tr>\n      <th>13</th>\n      <td>ResumeReviewActivity</td>\n      <td>8421</td>\n      <td>9412</td>\n      <td>9329</td>\n      <td>[ScheduleAnInterviewActivityCall 1228]</td>\n      <td>1229</td>\n      <td>[1228]</td>\n      <td>ResumeReviewActivity</td>\n      <td>FALSE</td>\n      <td>True</td>\n      <td>0.992941</td>\n    </tr>\n    <tr>\n      <th>14</th>\n      <td>ScheduleAnInterviewActivityCall</td>\n      <td>9105</td>\n      <td>10272</td>\n      <td>10237</td>\n      <td>[ResumeReviewActivity 1229]</td>\n      <td>1228</td>\n      <td>[1229]</td>\n      <td>ScheduleAnInterviewActivityCall</td>\n      <td>FALSE</td>\n      <td>True</td>\n      <td>0.960603</td>\n    </tr>\n    <tr>\n      <th>15</th>\n      <td>GenerateJobApplicationActivity</td>\n      <td>10272</td>\n      <td>10843</td>\n      <td>10786</td>\n      <td>[PerformAnInterviewCall 1228]</td>\n      <td>1230</td>\n      <td>[1228]</td>\n      <td>GenerateJobApplicationActivity</td>\n      <td>TRUE</td>\n      <td>True</td>\n      <td>0.991560</td>\n    </tr>\n    <tr>\n      <th>16</th>\n      <td>PerformAnInterviewCall</td>\n      <td>10384</td>\n      <td>11099</td>\n      <td>11067</td>\n      <td>[GenerateJobApplicationActivity 1230]</td>\n      <td>1228</td>\n      <td>[1230]</td>\n      <td>GenerateJobApplicationActivity</td>\n      <td>FALSE</td>\n      <td>False</td>\n      <td>0.452660</td>\n    </tr>\n    <tr>\n      <th>17</th>\n      <td>ResumeReviewActivity</td>\n      <td>11099</td>\n      <td>11974</td>\n      <td>11941</td>\n      <td>[]</td>\n      <td>1230</td>\n      <td>[]</td>\n      <td>ResumeReviewActivity</td>\n      <td>TRUE</td>\n      <td>True</td>\n      <td>0.993149</td>\n    </tr>\n    <tr>\n      <th>18</th>\n      <td>ScheduleAnInterviewActivityCall</td>\n      <td>11974</td>\n      <td>14067</td>\n      <td>14049</td>\n      <td>[ScheduleAnInterviewMeeting 1228, GenerateJobA...</td>\n      <td>1229</td>\n      <td>[1228, 1231]</td>\n      <td>ScheduleAnInterviewActivityCall</td>\n      <td>FALSE</td>\n      <td>True</td>\n      <td>0.873542</td>\n    </tr>\n    <tr>\n      <th>19</th>\n      <td>ScheduleAnInterviewMeeting</td>\n      <td>12074</td>\n      <td>14576</td>\n      <td>14533</td>\n      <td>[ScheduleAnInterviewActivityCall 1229, Generat...</td>\n      <td>1228</td>\n      <td>[1229, 1231]</td>\n      <td>ScheduleAnInterviewMeeting</td>\n      <td>FALSE</td>\n      <td>True</td>\n      <td>0.475987</td>\n    </tr>\n    <tr>\n      <th>20</th>\n      <td>GenerateJobApplicationActivity</td>\n      <td>13457</td>\n      <td>14333</td>\n      <td>14328</td>\n      <td>[ScheduleAnInterviewActivityCall 1229, Schedul...</td>\n      <td>1231</td>\n      <td>[1228, 1229]</td>\n      <td>GenerateJobApplicationActivity</td>\n      <td>FALSE</td>\n      <td>True</td>\n      <td>0.835693</td>\n    </tr>\n    <tr>\n      <th>21</th>\n      <td>ResumeReviewActivity</td>\n      <td>14576</td>\n      <td>15377</td>\n      <td>15350</td>\n      <td>[]</td>\n      <td>1231</td>\n      <td>[]</td>\n      <td>ResumeReviewActivity</td>\n      <td>TRUE</td>\n      <td>True</td>\n      <td>0.993329</td>\n    </tr>\n    <tr>\n      <th>22</th>\n      <td>PerformAnInterviewMeeting</td>\n      <td>15377</td>\n      <td>17273</td>\n      <td>17235</td>\n      <td>[GenerateJobApplicationActivity 1232, PerformA...</td>\n      <td>1228</td>\n      <td>[1232, 1229]</td>\n      <td>PerformAnInterviewMeeting , GenerateJobApplica...</td>\n      <td>FALSE</td>\n      <td>True</td>\n      <td>0.007557</td>\n    </tr>\n    <tr>\n      <th>23</th>\n      <td>GenerateJobApplicationActivity</td>\n      <td>15720</td>\n      <td>16644</td>\n      <td>16615</td>\n      <td>[PerformAnInterviewMeeting 1228, PerformAnInte...</td>\n      <td>1232</td>\n      <td>[1228, 1229]</td>\n      <td>GenerateJobApplicationActivity</td>\n      <td>FALSE</td>\n      <td>True</td>\n      <td>0.711298</td>\n    </tr>\n    <tr>\n      <th>24</th>\n      <td>PerformAnInterviewCall</td>\n      <td>16049</td>\n      <td>17078</td>\n      <td>17037</td>\n      <td>[PerformAnInterviewMeeting 1228, GenerateJobAp...</td>\n      <td>1229</td>\n      <td>[1232, 1228]</td>\n      <td>GenerateJobApplicationActivity</td>\n      <td>FALSE</td>\n      <td>False</td>\n      <td>0.119634</td>\n    </tr>\n    <tr>\n      <th>25</th>\n      <td>ScheduleAnInterviewActivityCall</td>\n      <td>17273</td>\n      <td>18903</td>\n      <td>18876</td>\n      <td>[ScheduleAnInterviewMeeting 1229]</td>\n      <td>1231</td>\n      <td>[1229]</td>\n      <td>ScheduleAnInterviewActivityCall</td>\n      <td>FALSE</td>\n      <td>True</td>\n      <td>0.679157</td>\n    </tr>\n    <tr>\n      <th>26</th>\n      <td>ScheduleAnInterviewMeeting</td>\n      <td>17801</td>\n      <td>19585</td>\n      <td>19551</td>\n      <td>[ScheduleAnInterviewActivityCall 1231]</td>\n      <td>1229</td>\n      <td>[1231]</td>\n      <td>ScheduleAnInterviewMeeting</td>\n      <td>Unknown</td>\n      <td>True</td>\n      <td>0.749887</td>\n    </tr>\n    <tr>\n      <th>27</th>\n      <td>ResumeReviewActivity</td>\n      <td>19585</td>\n      <td>20696</td>\n      <td>20665</td>\n      <td>[GenerateJobApplicationActivity 1233]</td>\n      <td>1232</td>\n      <td>[1233]</td>\n      <td>ResumeReviewActivity</td>\n      <td>FALSE</td>\n      <td>True</td>\n      <td>0.194285</td>\n    </tr>\n    <tr>\n      <th>28</th>\n      <td>GenerateJobApplicationActivity</td>\n      <td>20245</td>\n      <td>20588</td>\n      <td>20557</td>\n      <td>[ResumeReviewActivity 1232]</td>\n      <td>1233</td>\n      <td>[1232]</td>\n      <td>GenerateJobApplicationActivity</td>\n      <td>FALSE</td>\n      <td>True</td>\n      <td>0.994192</td>\n    </tr>\n    <tr>\n      <th>29</th>\n      <td>PerformAnInterviewCall</td>\n      <td>20696</td>\n      <td>21413</td>\n      <td>21362</td>\n      <td>[PerformAnInterviewMeeting 1229]</td>\n      <td>1231</td>\n      <td>[1229]</td>\n      <td>PerformAnInterviewMeeting</td>\n      <td>FALSE</td>\n      <td>False</td>\n      <td>0.455015</td>\n    </tr>\n    <tr>\n      <th>30</th>\n      <td>PerformAnInterviewMeeting</td>\n      <td>20928</td>\n      <td>21674</td>\n      <td>21651</td>\n      <td>[PerformAnInterviewCall 1231]</td>\n      <td>1229</td>\n      <td>[1231]</td>\n      <td>PerformAnInterviewMeeting</td>\n      <td>FALSE</td>\n      <td>True</td>\n      <td>0.972130</td>\n    </tr>\n    <tr>\n      <th>31</th>\n      <td>ScheduleAnInterviewActivityCall</td>\n      <td>21674</td>\n      <td>22687</td>\n      <td>22664</td>\n      <td>[]</td>\n      <td>1232</td>\n      <td>[]</td>\n      <td>ScheduleAnInterviewActivityCall</td>\n      <td>TRUE</td>\n      <td>True</td>\n      <td>0.978524</td>\n    </tr>\n    <tr>\n      <th>32</th>\n      <td>ScheduleAnInterviewMeeting</td>\n      <td>22687</td>\n      <td>26508</td>\n      <td>26505</td>\n      <td>[ResumeReviewActivity 1233, ContractProposal 1...</td>\n      <td>1231</td>\n      <td>[1232, 1233, 1229]</td>\n      <td>ResumeReviewActivity , PerformAnInterviewCall</td>\n      <td>FALSE</td>\n      <td>False</td>\n      <td>0.033681</td>\n    </tr>\n    <tr>\n      <th>33</th>\n      <td>ResumeReviewActivity</td>\n      <td>22851</td>\n      <td>25201</td>\n      <td>25173</td>\n      <td>[ScheduleAnInterviewMeeting 1231, ContractProp...</td>\n      <td>1233</td>\n      <td>[1229, 1231]</td>\n      <td>ResumeReviewActivity</td>\n      <td>FALSE</td>\n      <td>True</td>\n      <td>0.189530</td>\n    </tr>\n    <tr>\n      <th>34</th>\n      <td>ContractProposal</td>\n      <td>23848</td>\n      <td>27226</td>\n      <td>27222</td>\n      <td>[ScheduleAnInterviewMeeting 1231, ResumeReview...</td>\n      <td>1229</td>\n      <td>[1232, 1233, 1231]</td>\n      <td>ContractProposal</td>\n      <td>FALSE</td>\n      <td>True</td>\n      <td>0.899964</td>\n    </tr>\n    <tr>\n      <th>35</th>\n      <td>PerformAnInterviewCall</td>\n      <td>25366</td>\n      <td>27306</td>\n      <td>27235</td>\n      <td>[ScheduleAnInterviewMeeting 1231, ContractProp...</td>\n      <td>1232</td>\n      <td>[1229, 1231]</td>\n      <td>PerformAnInterviewCall</td>\n      <td>FALSE</td>\n      <td>True</td>\n      <td>0.685331</td>\n    </tr>\n    <tr>\n      <th>36</th>\n      <td>PerformAnInterviewMeeting</td>\n      <td>27306</td>\n      <td>28384</td>\n      <td>28384</td>\n      <td>[]</td>\n      <td>1231</td>\n      <td>[]</td>\n      <td>PerformAnInterviewMeeting</td>\n      <td>TRUE</td>\n      <td>True</td>\n      <td>0.958282</td>\n    </tr>\n  </tbody>\n</table>\n</div>"
     },
     "execution_count": 126,
     "metadata": {},
     "output_type": "execute_result"
    }
   ],
   "source": [
    "df_gt"
   ],
   "metadata": {
    "collapsed": false,
    "ExecuteTime": {
     "end_time": "2024-04-29T16:51:14.904214Z",
     "start_time": "2024-04-29T16:51:14.820654Z"
    }
   },
   "id": "64ee5913d28cc14a"
  },
  {
   "cell_type": "code",
   "execution_count": null,
   "outputs": [],
   "source": [
    "out = res.sort_values(by= \"sniff_time_min\")[[\"sniff_time_min\",\"stack_prediction\",\"case_id\"]].reset_index(drop=True)\n",
    "out.columns = [\"timestamp\", \"activity\", \"case_id\"]"
   ],
   "metadata": {
    "collapsed": false,
    "ExecuteTime": {
     "start_time": "2024-04-29T16:50:04.632288Z"
    }
   },
   "id": "e1f87f8fa560c7e5"
  },
  {
   "cell_type": "code",
   "execution_count": null,
   "outputs": [],
   "source": [
    "out.to_csv(\"../../data_v3/out/hr_xes_out.csv\", index = False)"
   ],
   "metadata": {
    "collapsed": false,
    "ExecuteTime": {
     "start_time": "2024-04-29T16:50:04.633155Z"
    }
   },
   "id": "924ff4327dee8b5b"
  }
 ],
 "metadata": {
  "kernelspec": {
   "display_name": "Python 3",
   "language": "python",
   "name": "python3"
  },
  "language_info": {
   "codemirror_mode": {
    "name": "ipython",
    "version": 2
   },
   "file_extension": ".py",
   "mimetype": "text/x-python",
   "name": "python",
   "nbconvert_exporter": "python",
   "pygments_lexer": "ipython2",
   "version": "2.7.6"
  }
 },
 "nbformat": 4,
 "nbformat_minor": 5
}
