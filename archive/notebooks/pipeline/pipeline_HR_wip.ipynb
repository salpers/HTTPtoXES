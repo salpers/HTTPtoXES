{
 "cells": [
  {
   "cell_type": "code",
   "execution_count": 1,
   "outputs": [],
   "source": [
    "import ast\n",
    "import re\n",
    "from event_loop.preprocessing.dataframe import *\n",
    "\n",
    "import metrics\n",
    "import numpy as np\n",
    "import pandas as pd\n",
    "\n",
    "from sklearn.metrics import classification_report\n",
    "\n",
    "%load_ext autoreload\n",
    "%load_ext memory_profiler"
   ],
   "metadata": {
    "collapsed": false,
    "ExecuteTime": {
     "end_time": "2024-04-29T08:36:37.177018Z",
     "start_time": "2024-04-29T08:36:36.820155Z"
    }
   },
   "id": "16134d8d0f9b764d"
  },
  {
   "cell_type": "code",
   "execution_count": 2,
   "outputs": [],
   "source": [
    "# HR data in data/Train/R1 is missing frame.number. We take another (already filtered) dataset and apply our feature extraction to this one\n",
    "df_train_in = pd.read_csv('../../data/VALID/R1/R1.csv', converters={\"MessageAttributes\": ast.literal_eval})"
   ],
   "metadata": {
    "collapsed": false,
    "ExecuteTime": {
     "end_time": "2024-04-29T08:37:47.720928Z",
     "start_time": "2024-04-29T08:36:37.176848Z"
    }
   },
   "id": "initial_id"
  },
  {
   "cell_type": "code",
   "execution_count": 3,
   "outputs": [],
   "source": [
    "# This is the Interleaved Data Set for our pipeline\n",
    "df_il_in = pd.read_csv('../../data/PTP-INTERLEAVED/R1/R1.csv', converters={\"MessageAttributes\": ast.literal_eval})"
   ],
   "metadata": {
    "collapsed": false,
    "ExecuteTime": {
     "end_time": "2024-04-29T08:37:52.121997Z",
     "start_time": "2024-04-29T08:37:47.722471Z"
    }
   },
   "id": "34e78fb81859ea89"
  },
  {
   "cell_type": "code",
   "execution_count": 4,
   "outputs": [],
   "source": [
    "%autoreload 2\n",
    "# data is at R1 Level. Apply filter and feature extraction\n",
    "df_train = pre_process(df_train_in)\n",
    "\n",
    "df_test = pre_process(df_il_in)\n"
   ],
   "metadata": {
    "collapsed": false,
    "ExecuteTime": {
     "end_time": "2024-04-29T08:38:01.376726Z",
     "start_time": "2024-04-29T08:37:52.127982Z"
    }
   },
   "id": "7e06d02999a74dd0"
  },
  {
   "cell_type": "code",
   "execution_count": 5,
   "outputs": [],
   "source": [
    "# Load start and end events from ground truth data.\n",
    "# Tag according frames in interleaved data for testing\n",
    "df_gt = pd.read_csv(\"../../data_v3/ptp_ground_truth.csv\")\n",
    "\n",
    "start_indices = df_gt[\"start\"].tolist()\n",
    "end_indices = df_gt[\"actual_end\"].tolist()\n",
    "\n",
    "df_test[\"ActivityAction\"] = df_test[\"frame.number\"].apply(lambda x: \"Activity Start\" if x in start_indices else\n",
    "(\"Activity End\" if x in end_indices else \"NoAction\"))"
   ],
   "metadata": {
    "collapsed": false,
    "ExecuteTime": {
     "end_time": "2024-04-29T08:38:01.401278Z",
     "start_time": "2024-04-29T08:38:01.377113Z"
    }
   },
   "id": "5f7e4053d8c640f7"
  },
  {
   "cell_type": "code",
   "execution_count": 6,
   "outputs": [],
   "source": [
    "# ------------ OPTIONAL ---------------\n",
    "# TODO Duplicate with Activity Model - move down and delete\n",
    "# Form sequences in training data by grouping\n",
    "df_train = df_train.sort_values(by=[\"InstanceNumber\", \"BusinessActivity\", \"frame.number\"])\n",
    "df_train[\"SequenceNumber\"] = df_train.groupby([\"BusinessActivity\", \"InstanceNumber\"]).ngroup()\n",
    "df_train[\"SequenceNumber\"] -= df_train['SequenceNumber'].min()"
   ],
   "metadata": {
    "collapsed": false,
    "ExecuteTime": {
     "end_time": "2024-04-29T08:38:01.580564Z",
     "start_time": "2024-04-29T08:38:01.401976Z"
    }
   },
   "id": "c4ef2a28c4df9082"
  },
  {
   "cell_type": "code",
   "execution_count": 7,
   "outputs": [],
   "source": [
    "def mark_start_end(df):\n",
    "    # Mark start event of each BusinessActivity Instance\n",
    "    df[\"activityStart\"] = df.groupby([\"BusinessActivity\", \"InstanceNumber\", ]).cumcount() == 0\n",
    "    # Mark end event of each Business Activity Instance\n",
    "    df[\"activityEnd\"] = df.groupby([\"BusinessActivity\", \"InstanceNumber\", ]).cumcount(ascending=False) == 0\n",
    "    # Merge start and end columns to form labels\n",
    "    df[\"ActivityAction\"] = df.apply(lambda row: \"Activity Start\" if row[\"activityStart\"] else (\n",
    "        \"Activity End\" if row[\"activityEnd\"] else 'NoAction'), axis=1)\n",
    "\n",
    "    return df.drop([\"activityStart\", 'activityEnd'], axis=1)\n",
    "\n",
    "\n",
    "df_train = mark_start_end(df_train)"
   ],
   "metadata": {
    "collapsed": false,
    "ExecuteTime": {
     "end_time": "2024-04-29T08:38:01.697704Z",
     "start_time": "2024-04-29T08:38:01.572449Z"
    }
   },
   "id": "66348e23e5b6fae1"
  },
  {
   "cell_type": "code",
   "execution_count": 8,
   "outputs": [],
   "source": [
    "def dict_to_features(dict):\n",
    "    return [[{**d, \"bias\": 1.0}] for d in dict]\n",
    "\n",
    "\n",
    "def extract_labels(labels):\n",
    "    return [[y] for y in labels]\n",
    "# exclude from training data \n",
    "\n",
    "cols = [\"event_with_roles\", \"request_method_call\", \"selective_file_data\", \n",
    "        \"origin_method\",\"origin_file_data\"]\n",
    "\n",
    "\n",
    "df_train_filt = df_train[~df_train[\"SequenceNumber\"].isin([128])]\n",
    "\n",
    "train_features = df_train_filt[cols].to_dict(\"records\")\n",
    "train_features = dict_to_features(train_features)\n",
    "train_labels = extract_labels(df_train_filt[\"ActivityAction\"])"
   ],
   "metadata": {
    "collapsed": false,
    "ExecuteTime": {
     "end_time": "2024-04-29T08:38:01.765499Z",
     "start_time": "2024-04-29T08:38:01.671582Z"
    }
   },
   "id": "4870c4ee0b94db48"
  },
  {
   "cell_type": "code",
   "execution_count": 9,
   "outputs": [],
   "source": [
    "from event_loop.activity_boundaries import ActivityBoundariesClassifier\n",
    "\n",
    "activity_boundaries_model = ActivityBoundariesClassifier(train_features, train_labels)\n",
    "\n"
   ],
   "metadata": {
    "collapsed": false,
    "ExecuteTime": {
     "end_time": "2024-04-29T08:38:03.364387Z",
     "start_time": "2024-04-29T08:38:01.767744Z"
    }
   },
   "id": "1f0e5c13348e546a"
  },
  {
   "cell_type": "code",
   "execution_count": null,
   "outputs": [],
   "source": [],
   "metadata": {
    "collapsed": false
   },
   "id": "9d7d95f92b5c7e33"
  }
 ],
 "metadata": {
  "kernelspec": {
   "display_name": "Python 3",
   "language": "python",
   "name": "python3"
  },
  "language_info": {
   "codemirror_mode": {
    "name": "ipython",
    "version": 2
   },
   "file_extension": ".py",
   "mimetype": "text/x-python",
   "name": "python",
   "nbconvert_exporter": "python",
   "pygments_lexer": "ipython2",
   "version": "2.7.6"
  }
 },
 "nbformat": 4,
 "nbformat_minor": 5
}
