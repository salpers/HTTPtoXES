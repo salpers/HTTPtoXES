{
 "cells": [
  {
   "cell_type": "code",
   "execution_count": 1,
   "outputs": [],
   "source": [
    "import ast\n",
    "import re\n",
    "from event_loop.preprocessing.dataframe import *\n",
    "\n",
    "import metrics\n",
    "import numpy as np\n",
    "import pandas as pd\n",
    "\n",
    "from sklearn.metrics import classification_report\n",
    "\n",
    "%load_ext autoreload\n",
    "%load_ext memory_profiler"
   ],
   "metadata": {
    "collapsed": false,
    "ExecuteTime": {
     "end_time": "2024-04-30T08:55:26.267733Z",
     "start_time": "2024-04-30T08:55:25.368813Z"
    }
   },
   "id": "e78c62da13f69969"
  },
  {
   "cell_type": "markdown",
   "source": [
    "# Prerequisuites"
   ],
   "metadata": {
    "collapsed": false
   },
   "id": "9af28cc8576de679"
  },
  {
   "cell_type": "markdown",
   "source": [
    "## Activity Action Model\n",
    "Train a Model with the task of classifying Start, End and NoAction events in the interleaved data. \n",
    "Training is done during a \"warmup\" phase with generated training data. "
   ],
   "metadata": {
    "collapsed": false
   },
   "id": "7d390ec7d82748f9"
  },
  {
   "cell_type": "markdown",
   "source": [
    "### Load Data"
   ],
   "metadata": {
    "collapsed": false
   },
   "id": "b71fca8f257d622"
  },
  {
   "cell_type": "code",
   "execution_count": 2,
   "outputs": [],
   "source": [
    "# HR data in data/Train/R1 is missing frame.number. We take another (already filtered) dataset and apply our feature extraction to this one\n",
    "df_train_in = pd.read_csv('../../data_v3/hr_extended_features.csv', converters={\"MessageAttributes\": ast.literal_eval})"
   ],
   "metadata": {
    "collapsed": false,
    "ExecuteTime": {
     "end_time": "2024-04-30T08:55:50.608566Z",
     "start_time": "2024-04-30T08:55:48.426465Z"
    }
   },
   "id": "490cfbb42b29d0f0"
  },
  {
   "cell_type": "code",
   "execution_count": 3,
   "outputs": [],
   "source": [
    "# This is the Interleaved Data Set for our pipeline\n",
    "df_il_in = pd.read_csv('../../data/HR-INTERLEAVED/R1/R1.csv', converters={\"MessageAttributes\": ast.literal_eval})"
   ],
   "metadata": {
    "collapsed": false,
    "ExecuteTime": {
     "end_time": "2024-04-30T08:55:51.824826Z",
     "start_time": "2024-04-30T08:55:50.605748Z"
    }
   },
   "id": "4ba9ef52affe721a"
  },
  {
   "cell_type": "markdown",
   "source": [
    "### Preprocessing Training Data"
   ],
   "metadata": {
    "collapsed": false
   },
   "id": "9cdfd16523df0b5b"
  },
  {
   "cell_type": "code",
   "execution_count": 4,
   "outputs": [],
   "source": [
    "%autoreload 2\n",
    "# data is at R1 Level. Apply filter and feature extraction\n",
    "df_train = pre_process(df_train_in)\n",
    "df_test = pre_process(df_il_in)\n"
   ],
   "metadata": {
    "collapsed": false,
    "ExecuteTime": {
     "end_time": "2024-04-30T08:56:02.662393Z",
     "start_time": "2024-04-30T08:55:51.870761Z"
    }
   },
   "id": "195cf763c2fc9f23"
  },
  {
   "cell_type": "code",
   "execution_count": 47,
   "outputs": [],
   "source": [
    "# Load start and end events from ground truth data.\n",
    "# Tag according frames in interleaved data for testing\n",
    "df_gt = pd.read_csv(\"../../data_v3/hr_ground_truth.csv\")\n",
    "\n",
    "start_indices = df_gt[\"start\"].tolist()\n",
    "end_indices = df_gt[\"actual_end\"].tolist()\n",
    "\n",
    "df_test[\"ActivityAction\"] = df_test[\"frame.number\"].apply(lambda x: \"Activity Start\" if x in start_indices else\n",
    "(\"Activity End\" if x in end_indices else \"NoAction\"))\n",
    "\n",
    "def extract_labels(labels):\n",
    "    return [[y] for y in labels]\n",
    "\n",
    "test_labels = extract_labels(df_test[\"ActivityAction\"])"
   ],
   "metadata": {
    "collapsed": false,
    "ExecuteTime": {
     "end_time": "2024-04-30T09:00:33.390881Z",
     "start_time": "2024-04-30T09:00:33.322054Z"
    }
   },
   "id": "ff49214adb9839a7"
  },
  {
   "cell_type": "code",
   "execution_count": 6,
   "outputs": [],
   "source": [
    "# Form sequences in training data by grouping\n",
    "df_train = df_train.sort_values(by=[\"InstanceNumber\", \"BusinessActivity\", \"frame.number\"])\n",
    "df_train[\"SequenceNumber\"] = df_train.groupby([\"BusinessActivity\", \"InstanceNumber\"]).ngroup()\n",
    "df_train[\"SequenceNumber\"] -= df_train['SequenceNumber'].min()"
   ],
   "metadata": {
    "collapsed": false,
    "ExecuteTime": {
     "end_time": "2024-04-30T08:56:02.792727Z",
     "start_time": "2024-04-30T08:56:02.707858Z"
    }
   },
   "id": "a9950736f0722f85"
  },
  {
   "cell_type": "code",
   "execution_count": 7,
   "outputs": [],
   "source": [
    "def mark_start_end(df):\n",
    "    # Mark start event of each BusinessActivity Instance\n",
    "    df[\"activityStart\"] = df.groupby([\"BusinessActivity\", \"InstanceNumber\", ]).cumcount() == 0\n",
    "    # Mark end event of each Business Activity Instance\n",
    "    df[\"activityEnd\"] = df.groupby([\"BusinessActivity\", \"InstanceNumber\", ]).cumcount(ascending=False) == 0\n",
    "    # Merge start and end columns to form labels\n",
    "    df[\"ActivityAction\"] = df.apply(lambda row: \"Activity Start\" if row[\"activityStart\"] else (\n",
    "        \"Activity End\" if row[\"activityEnd\"] else 'NoAction'), axis=1)\n",
    "\n",
    "    return df.drop([\"activityStart\", 'activityEnd'], axis=1)\n",
    "\n",
    "\n",
    "df_train = mark_start_end(df_train)"
   ],
   "metadata": {
    "collapsed": false,
    "ExecuteTime": {
     "end_time": "2024-04-30T08:56:02.901572Z",
     "start_time": "2024-04-30T08:56:02.741332Z"
    }
   },
   "id": "c29d2381e98a2df"
  },
  {
   "cell_type": "code",
   "execution_count": 8,
   "outputs": [],
   "source": [
    "# exclude from training data \n",
    "df_train_filt = df_train[~df_train[\"SequenceNumber\"].isin([128])]\n"
   ],
   "metadata": {
    "collapsed": false,
    "ExecuteTime": {
     "end_time": "2024-04-30T08:56:03.689098Z",
     "start_time": "2024-04-30T08:56:03.629138Z"
    }
   },
   "id": "ef9a7078a4d6971f"
  },
  {
   "cell_type": "markdown",
   "source": [
    "## Activity Model\n",
    "The activity model utilises multiple sliding windows over the training data for pattern matching\n",
    "\n"
   ],
   "metadata": {
    "collapsed": false
   },
   "id": "c44ba4a1e5a9b0d6"
  },
  {
   "cell_type": "code",
   "execution_count": 9,
   "outputs": [],
   "source": [
    "from event_loop.event_activity import EventActivityAssignment\n",
    "from event_loop.activity_type import ActivityTypeClassifier\n",
    "from event_loop.activity_boundaries import ActivityBoundariesClassifier\n",
    "\n",
    "# working\n",
    "activity_boundaries_classifier = ActivityBoundariesClassifier(df_train_filt, None)\n"
   ],
   "metadata": {
    "collapsed": false,
    "ExecuteTime": {
     "end_time": "2024-04-30T08:56:08.137092Z",
     "start_time": "2024-04-30T08:56:05.658959Z"
    }
   },
   "id": "5c0de69be52bb6ba"
  },
  {
   "cell_type": "code",
   "execution_count": 11,
   "outputs": [],
   "source": [
    "activity_type_classifier = ActivityTypeClassifier(df_train)\n",
    "\n",
    "event_activity_model = EventActivityAssignment(df_train,10,[\"applicant_id\", \"activity_id\"])"
   ],
   "metadata": {
    "collapsed": false,
    "ExecuteTime": {
     "end_time": "2024-04-30T08:56:40.034265Z",
     "start_time": "2024-04-30T08:56:24.121384Z"
    }
   },
   "id": "e9d6dda7e7aec9d"
  },
  {
   "cell_type": "markdown",
   "source": [
    "# Action Loop\n",
    "\n",
    "Main loop. Gets raw R1 data as input. \n",
    "Applies filtering, activity action and sequence classification"
   ],
   "metadata": {
    "collapsed": false
   },
   "id": "cd4922a5f25b0f9d"
  },
  {
   "cell_type": "code",
   "execution_count": 12,
   "outputs": [],
   "source": [
    "records = df_il_in.to_dict(\"records\")"
   ],
   "metadata": {
    "collapsed": false,
    "ExecuteTime": {
     "end_time": "2024-04-30T08:56:42.326124Z",
     "start_time": "2024-04-30T08:56:41.340608Z"
    }
   },
   "id": "e79d8e1cbb43d45d"
  },
  {
   "cell_type": "code",
   "execution_count": 36,
   "outputs": [],
   "source": [
    "from event_loop.event import Event\n",
    "from event_loop.stack import Stack\n",
    "from event_loop.event_activity import search_stack_for_request_frame, search_stream_index\n",
    "%autoreload 2\n",
    "\n",
    "import time\n",
    "from event_loop.preprocessing.event import keep_event\n",
    "\n",
    "# Parameter\n",
    "EVENT_LOOP_CUTOFF_NO_ACTION = 3\n",
    "EVENT_LOOP_CUTOFF_END_EVENT = 3\n",
    "ENTROPY_THRESHOLD = 0.4 #0.5\n",
    "MAX_WINDOW_SIZE = 10\n",
    "VERBOSE = False\n",
    "SETTING = \"HR\"\n",
    "\n",
    "# init variables\n",
    "event_buffer: list[Event] = []\n",
    "attribute_buffer: list[dict] = []\n",
    "stacks: list[Stack] = []\n",
    "stacks_out: list[Stack] = []\n",
    "event_loop_index = 0\n",
    "\n",
    "\n",
    "HR_ATTRIBUTES = [\"applicant_id\", \"activity_id\"]\n",
    "PTP_ATTRIBUTES = [\"sale_order_id\", \"sale_order_line_id\",\"purchase_requisition_id\",\"purchase_requisition_line_id\",]\n",
    "\n",
    "\n",
    "processing_times = []\n",
    "processing_times_filter = []\n",
    "buffer_sizes = []\n",
    "\n",
    "\n",
    "for i, event_data in enumerate(records):\n",
    "    start_time = time.time()\n",
    "\n",
    "    buffer_sizes.append(sum([len(stack) for stack in stacks]))\n",
    "    # Filter Event Stream\n",
    "    if not keep_event(event_data):\n",
    "        end_time = time.time()\n",
    "        processing_times_filter.append(end_time - start_time)\n",
    "        # skip event in loop\n",
    "        continue\n",
    "        \n",
    "    \n",
    "    \n",
    "    # count every not filtered event for event loop index\n",
    "    event_loop_index += 1\n",
    "\n",
    "    # Extract Features and generate Event Object\n",
    "    event = Event(event_data, event_loop_index, event_buffer, SETTING)\n",
    "    event_buffer.append(event)\n",
    "    \n",
    "    \n",
    "    activity_boundaries_classifier.classify_event(event)\n",
    "    \n",
    "    # Activity Action Classification\n",
    "    activity_action = event.activity_action\n",
    "    \n",
    "    # Activity Matching\n",
    "    if activity_action == \"Activity Start\": \n",
    "        stacks.append(Stack(SETTING,event))\n",
    "        \n",
    "    if activity_action == \"NoAction\": \n",
    "        if len(stacks) == 1: \n",
    "            stacks[0].append_event(event)\n",
    "        elif event.origin_request_frame: \n",
    "            idx = search_stack_for_request_frame(event.origin_request_frame, stacks)\n",
    "            stacks[idx].append_event(event)\n",
    "        else: \n",
    "            # Check attributes of each stack\n",
    "            \n",
    "            # we can filter out stacks that already have attributes different to the event\n",
    "            exclude_indices =  event_activity_model.exclude_stacks_by_attribute(stacks, event)\n",
    "    \n",
    "            stack_index:int = event_activity_model.check_stack_attributes(stacks, event, exclude_indices)\n",
    "                    \n",
    "            if stack_index == -1:        \n",
    "                stack_index = event_activity_model.assign_to_sequence(event,stacks, 4, exclude_indices)\n",
    "            \n",
    "            # for elements that are not matchable based on 2 sequences we fall back to stream index\n",
    "            if stack_index == -1: \n",
    "                stack_index = search_stream_index(stacks, event, exclude_indices)    \n",
    "            \n",
    "            # fallback - no match add to first stack\n",
    "            if stack_index == -1:\n",
    "                res = next((i for i in range(len(stacks)) if i not in exclude_indices and stacks[i].confidence),-1)\n",
    "                stack_index = res\n",
    "                \n",
    "            stacks[stack_index].append_event(event)\n",
    "        \n",
    "    if activity_action == \"Activity End\":\n",
    "        \n",
    "        stack_index = search_stack_for_request_frame(event.origin_request_frame, stacks)\n",
    "        stacks[stack_index].append_event(event)\n",
    "        \n",
    "        if event.confidence: \n",
    "            if len(stacks) > 1: \n",
    "                stack = stacks.pop(stack_index)\n",
    "                stacks_out.append(stack)\n",
    "            else: \n",
    "                event.confidence = False\n",
    "     \n",
    "\n",
    "    # Loop through all currently open stacks\n",
    "    for idx, stack in enumerate(stacks):\n",
    "        last_event = stack[-1]\n",
    "        # check for non-confident \"No Action\" Classifications. These could be \"Activity End\" Instead\n",
    "        if not last_event.confidence and last_event.activity_action == \"NoAction\":\n",
    "            # If a stack has not been continued for N event loops \n",
    "            if event_loop_index - last_event.event_loop_index > EVENT_LOOP_CUTOFF_NO_ACTION: \n",
    "                stacks.pop(idx)\n",
    "                stacks_out.append(stack)\n",
    "                \n",
    "    for idx, stack in enumerate(stacks): \n",
    "        last_event = stack.events[-1]\n",
    "        if not last_event.confidence and last_event.activity_action == \"Activity End\": \n",
    "            if event_loop_index - last_event.event_loop_index > EVENT_LOOP_CUTOFF_END_EVENT: \n",
    "            \n",
    "                # we are now sure to pop the stack. \n",
    "                stacks.pop(idx)\n",
    "                stacks_out.append(stack) \n",
    "                \n",
    "    end_time = time.time()\n",
    "    processing_times.append(end_time - start_time)\n",
    "                \n",
    "# pop all stacks that are still left\n",
    "for stack in stacks: \n",
    "    stacks_out.append(stack)  \n"
   ],
   "metadata": {
    "collapsed": false,
    "ExecuteTime": {
     "end_time": "2024-04-30T08:59:27.813482Z",
     "start_time": "2024-04-30T08:59:27.538743Z"
    }
   },
   "id": "41016b5653419b1a"
  },
  {
   "cell_type": "code",
   "execution_count": 37,
   "outputs": [],
   "source": [
    "import sys\n",
    "import pickle\n",
    "model_size = [\n",
    "    #sys.getsizeof(pickle.dumps(crf)),\n",
    "    #sys.getsizeof(pickle.dumps(activity_classifier)),\n",
    "    sys.getsizeof(pickle.dumps(event_activity_model.model))\n",
    "]"
   ],
   "metadata": {
    "collapsed": false,
    "ExecuteTime": {
     "end_time": "2024-04-30T08:59:28.544605Z",
     "start_time": "2024-04-30T08:59:28.453325Z"
    }
   },
   "id": "d221f54830811163"
  },
  {
   "cell_type": "code",
   "execution_count": 38,
   "outputs": [
    {
     "name": "stdout",
     "output_type": "stream",
     "text": [
      "average processing time: 0.11764658559667002\n",
      "max buffer size: 154 (0.25080207807436117)\n"
     ]
    }
   ],
   "source": [
    "from statistics import mean,stdev\n",
    "print(\"average processing time:\",mean(processing_times)*1000)\n",
    "print(\"max buffer size:\", max(buffer_sizes),f\"({max(buffer_sizes) / len(records) * 100})\")"
   ],
   "metadata": {
    "collapsed": false,
    "ExecuteTime": {
     "end_time": "2024-04-30T08:59:28.855339Z",
     "start_time": "2024-04-30T08:59:28.781425Z"
    }
   },
   "id": "97a3d2eb4d6ffa03"
  },
  {
   "cell_type": "code",
   "execution_count": 39,
   "outputs": [],
   "source": [
    "stack_predictions = [activity_type_classifier.classify_stack(stack) for stack in stacks_out]"
   ],
   "metadata": {
    "collapsed": false,
    "ExecuteTime": {
     "end_time": "2024-04-30T08:59:29.436310Z",
     "start_time": "2024-04-30T08:59:29.309022Z"
    }
   },
   "id": "6f1ad7aebd575fc8"
  },
  {
   "cell_type": "code",
   "execution_count": 40,
   "outputs": [
    {
     "data": {
      "text/plain": "    start  actual_end  start_pred  end_pred  end_pred_true  start_pred_true  \\\n0      17         325          17       325           True             True   \n1     356        1192         356      1192           True             True   \n2    1212        1520        1212      1520           True             True   \n3    1582        2336        1582      2336           True             True   \n4    2354        2664        2354      2664           True             True   \n5    2708        4461        2708      4461           True             True   \n6    3057        4871        3057      4871           True             True   \n7    4467        4881        4467      4881           True             True   \n8    4939        6164        4939      6164           True             True   \n9    5606        6859        5606      6859           True             True   \n10   6879        7190        6879      7190           True             True   \n11   7261        8044        7261      8044           True             True   \n12   8060        8374        8060      8374           True             True   \n13   8421        9329        8421      9329           True             True   \n14   9105       10237        9105     10237           True             True   \n15  10272       10786       10272     10786           True             True   \n16  10384       11067       10384     11067           True             True   \n17  11099       11941       11099     11941           True             True   \n18  11974       14049       11974     14049           True             True   \n19  12074       14533       12074     14533           True             True   \n20  13457       14328       13457     14328           True             True   \n21  14576       15350       14576     15350           True             True   \n22  15377       17235       15377     17235           True             True   \n23  15720       16615       15720     16615           True             True   \n24  16049       17037       16049     17037           True             True   \n25  17273       18876       17273     18876           True             True   \n26  17801       19551       17801     19551           True             True   \n27  19585       20665       19585     20665           True             True   \n28  20245       20557       20245     20557           True             True   \n29  20696       21362       20696     21362           True             True   \n30  20928       21651       20928     21651           True             True   \n31  21674       22664       21674     22664           True             True   \n32  22687       26505       22687     26505           True             True   \n33  22851       25173       22851     25173           True             True   \n34  23848       27222       23848     27222           True             True   \n35  25366       27235       25366     27235           True             True   \n36  27306       28384       27306     28384           True             True   \n\n    start_end_true  \n0             True  \n1             True  \n2             True  \n3             True  \n4             True  \n5             True  \n6             True  \n7             True  \n8             True  \n9             True  \n10            True  \n11            True  \n12            True  \n13            True  \n14            True  \n15            True  \n16            True  \n17            True  \n18            True  \n19            True  \n20            True  \n21            True  \n22            True  \n23            True  \n24            True  \n25            True  \n26            True  \n27            True  \n28            True  \n29            True  \n30            True  \n31            True  \n32            True  \n33            True  \n34            True  \n35            True  \n36            True  ",
      "text/html": "<div>\n<style scoped>\n    .dataframe tbody tr th:only-of-type {\n        vertical-align: middle;\n    }\n\n    .dataframe tbody tr th {\n        vertical-align: top;\n    }\n\n    .dataframe thead th {\n        text-align: right;\n    }\n</style>\n<table border=\"1\" class=\"dataframe\">\n  <thead>\n    <tr style=\"text-align: right;\">\n      <th></th>\n      <th>start</th>\n      <th>actual_end</th>\n      <th>start_pred</th>\n      <th>end_pred</th>\n      <th>end_pred_true</th>\n      <th>start_pred_true</th>\n      <th>start_end_true</th>\n    </tr>\n  </thead>\n  <tbody>\n    <tr>\n      <th>0</th>\n      <td>17</td>\n      <td>325</td>\n      <td>17</td>\n      <td>325</td>\n      <td>True</td>\n      <td>True</td>\n      <td>True</td>\n    </tr>\n    <tr>\n      <th>1</th>\n      <td>356</td>\n      <td>1192</td>\n      <td>356</td>\n      <td>1192</td>\n      <td>True</td>\n      <td>True</td>\n      <td>True</td>\n    </tr>\n    <tr>\n      <th>2</th>\n      <td>1212</td>\n      <td>1520</td>\n      <td>1212</td>\n      <td>1520</td>\n      <td>True</td>\n      <td>True</td>\n      <td>True</td>\n    </tr>\n    <tr>\n      <th>3</th>\n      <td>1582</td>\n      <td>2336</td>\n      <td>1582</td>\n      <td>2336</td>\n      <td>True</td>\n      <td>True</td>\n      <td>True</td>\n    </tr>\n    <tr>\n      <th>4</th>\n      <td>2354</td>\n      <td>2664</td>\n      <td>2354</td>\n      <td>2664</td>\n      <td>True</td>\n      <td>True</td>\n      <td>True</td>\n    </tr>\n    <tr>\n      <th>5</th>\n      <td>2708</td>\n      <td>4461</td>\n      <td>2708</td>\n      <td>4461</td>\n      <td>True</td>\n      <td>True</td>\n      <td>True</td>\n    </tr>\n    <tr>\n      <th>6</th>\n      <td>3057</td>\n      <td>4871</td>\n      <td>3057</td>\n      <td>4871</td>\n      <td>True</td>\n      <td>True</td>\n      <td>True</td>\n    </tr>\n    <tr>\n      <th>7</th>\n      <td>4467</td>\n      <td>4881</td>\n      <td>4467</td>\n      <td>4881</td>\n      <td>True</td>\n      <td>True</td>\n      <td>True</td>\n    </tr>\n    <tr>\n      <th>8</th>\n      <td>4939</td>\n      <td>6164</td>\n      <td>4939</td>\n      <td>6164</td>\n      <td>True</td>\n      <td>True</td>\n      <td>True</td>\n    </tr>\n    <tr>\n      <th>9</th>\n      <td>5606</td>\n      <td>6859</td>\n      <td>5606</td>\n      <td>6859</td>\n      <td>True</td>\n      <td>True</td>\n      <td>True</td>\n    </tr>\n    <tr>\n      <th>10</th>\n      <td>6879</td>\n      <td>7190</td>\n      <td>6879</td>\n      <td>7190</td>\n      <td>True</td>\n      <td>True</td>\n      <td>True</td>\n    </tr>\n    <tr>\n      <th>11</th>\n      <td>7261</td>\n      <td>8044</td>\n      <td>7261</td>\n      <td>8044</td>\n      <td>True</td>\n      <td>True</td>\n      <td>True</td>\n    </tr>\n    <tr>\n      <th>12</th>\n      <td>8060</td>\n      <td>8374</td>\n      <td>8060</td>\n      <td>8374</td>\n      <td>True</td>\n      <td>True</td>\n      <td>True</td>\n    </tr>\n    <tr>\n      <th>13</th>\n      <td>8421</td>\n      <td>9329</td>\n      <td>8421</td>\n      <td>9329</td>\n      <td>True</td>\n      <td>True</td>\n      <td>True</td>\n    </tr>\n    <tr>\n      <th>14</th>\n      <td>9105</td>\n      <td>10237</td>\n      <td>9105</td>\n      <td>10237</td>\n      <td>True</td>\n      <td>True</td>\n      <td>True</td>\n    </tr>\n    <tr>\n      <th>15</th>\n      <td>10272</td>\n      <td>10786</td>\n      <td>10272</td>\n      <td>10786</td>\n      <td>True</td>\n      <td>True</td>\n      <td>True</td>\n    </tr>\n    <tr>\n      <th>16</th>\n      <td>10384</td>\n      <td>11067</td>\n      <td>10384</td>\n      <td>11067</td>\n      <td>True</td>\n      <td>True</td>\n      <td>True</td>\n    </tr>\n    <tr>\n      <th>17</th>\n      <td>11099</td>\n      <td>11941</td>\n      <td>11099</td>\n      <td>11941</td>\n      <td>True</td>\n      <td>True</td>\n      <td>True</td>\n    </tr>\n    <tr>\n      <th>18</th>\n      <td>11974</td>\n      <td>14049</td>\n      <td>11974</td>\n      <td>14049</td>\n      <td>True</td>\n      <td>True</td>\n      <td>True</td>\n    </tr>\n    <tr>\n      <th>19</th>\n      <td>12074</td>\n      <td>14533</td>\n      <td>12074</td>\n      <td>14533</td>\n      <td>True</td>\n      <td>True</td>\n      <td>True</td>\n    </tr>\n    <tr>\n      <th>20</th>\n      <td>13457</td>\n      <td>14328</td>\n      <td>13457</td>\n      <td>14328</td>\n      <td>True</td>\n      <td>True</td>\n      <td>True</td>\n    </tr>\n    <tr>\n      <th>21</th>\n      <td>14576</td>\n      <td>15350</td>\n      <td>14576</td>\n      <td>15350</td>\n      <td>True</td>\n      <td>True</td>\n      <td>True</td>\n    </tr>\n    <tr>\n      <th>22</th>\n      <td>15377</td>\n      <td>17235</td>\n      <td>15377</td>\n      <td>17235</td>\n      <td>True</td>\n      <td>True</td>\n      <td>True</td>\n    </tr>\n    <tr>\n      <th>23</th>\n      <td>15720</td>\n      <td>16615</td>\n      <td>15720</td>\n      <td>16615</td>\n      <td>True</td>\n      <td>True</td>\n      <td>True</td>\n    </tr>\n    <tr>\n      <th>24</th>\n      <td>16049</td>\n      <td>17037</td>\n      <td>16049</td>\n      <td>17037</td>\n      <td>True</td>\n      <td>True</td>\n      <td>True</td>\n    </tr>\n    <tr>\n      <th>25</th>\n      <td>17273</td>\n      <td>18876</td>\n      <td>17273</td>\n      <td>18876</td>\n      <td>True</td>\n      <td>True</td>\n      <td>True</td>\n    </tr>\n    <tr>\n      <th>26</th>\n      <td>17801</td>\n      <td>19551</td>\n      <td>17801</td>\n      <td>19551</td>\n      <td>True</td>\n      <td>True</td>\n      <td>True</td>\n    </tr>\n    <tr>\n      <th>27</th>\n      <td>19585</td>\n      <td>20665</td>\n      <td>19585</td>\n      <td>20665</td>\n      <td>True</td>\n      <td>True</td>\n      <td>True</td>\n    </tr>\n    <tr>\n      <th>28</th>\n      <td>20245</td>\n      <td>20557</td>\n      <td>20245</td>\n      <td>20557</td>\n      <td>True</td>\n      <td>True</td>\n      <td>True</td>\n    </tr>\n    <tr>\n      <th>29</th>\n      <td>20696</td>\n      <td>21362</td>\n      <td>20696</td>\n      <td>21362</td>\n      <td>True</td>\n      <td>True</td>\n      <td>True</td>\n    </tr>\n    <tr>\n      <th>30</th>\n      <td>20928</td>\n      <td>21651</td>\n      <td>20928</td>\n      <td>21651</td>\n      <td>True</td>\n      <td>True</td>\n      <td>True</td>\n    </tr>\n    <tr>\n      <th>31</th>\n      <td>21674</td>\n      <td>22664</td>\n      <td>21674</td>\n      <td>22664</td>\n      <td>True</td>\n      <td>True</td>\n      <td>True</td>\n    </tr>\n    <tr>\n      <th>32</th>\n      <td>22687</td>\n      <td>26505</td>\n      <td>22687</td>\n      <td>26505</td>\n      <td>True</td>\n      <td>True</td>\n      <td>True</td>\n    </tr>\n    <tr>\n      <th>33</th>\n      <td>22851</td>\n      <td>25173</td>\n      <td>22851</td>\n      <td>25173</td>\n      <td>True</td>\n      <td>True</td>\n      <td>True</td>\n    </tr>\n    <tr>\n      <th>34</th>\n      <td>23848</td>\n      <td>27222</td>\n      <td>23848</td>\n      <td>27222</td>\n      <td>True</td>\n      <td>True</td>\n      <td>True</td>\n    </tr>\n    <tr>\n      <th>35</th>\n      <td>25366</td>\n      <td>27235</td>\n      <td>25366</td>\n      <td>27235</td>\n      <td>True</td>\n      <td>True</td>\n      <td>True</td>\n    </tr>\n    <tr>\n      <th>36</th>\n      <td>27306</td>\n      <td>28384</td>\n      <td>27306</td>\n      <td>28384</td>\n      <td>True</td>\n      <td>True</td>\n      <td>True</td>\n    </tr>\n  </tbody>\n</table>\n</div>"
     },
     "metadata": {},
     "output_type": "display_data"
    },
    {
     "name": "stdout",
     "output_type": "stream",
     "text": [
      "Overall matching accuracy: 1.0\n"
     ]
    }
   ],
   "source": [
    "start = [stack[0].frame_number for stack in stacks_out]\n",
    "end = [stack[-1].frame_number for stack in stacks_out]\n",
    "\n",
    "res_df = pd.DataFrame({\"start_pred\":start, \"end_pred\":end})\n",
    "\n",
    "eval_df = df_gt[[\"start\", \"actual_end\"]].merge(res_df,how=\"left\", left_on =\"start\", right_on = \"start_pred\").fillna(-1).astype(int)\n",
    "eval_df[\"end_pred_true\"] = eval_df[\"actual_end\"] == eval_df[\"end_pred\"]\n",
    "eval_df[\"start_pred_true\"] = eval_df[\"start\"] == eval_df[\"start_pred\"]\n",
    "eval_df[\"start_end_true\"] =eval_df[\"start_pred_true\"] == eval_df[\"end_pred_true\"]\n",
    "\n",
    "display(eval_df)\n",
    "print(f\"Overall matching accuracy: {0.5 + eval_df['end_pred_true'].mean()/2}\")"
   ],
   "metadata": {
    "collapsed": false,
    "ExecuteTime": {
     "end_time": "2024-04-30T08:59:29.808493Z",
     "start_time": "2024-04-30T08:59:29.747562Z"
    }
   },
   "id": "40a6a1f949ad0661"
  },
  {
   "cell_type": "code",
   "execution_count": 62,
   "outputs": [
    {
     "name": "stdout",
     "output_type": "stream",
     "text": [
      "                precision    recall  f1-score   support\n",
      "\n",
      "  Activity End       1.00      1.00      1.00        37\n",
      "Activity Start       1.00      1.00      1.00        37\n",
      "      NoAction       1.00      1.00      1.00      1239\n",
      "\n",
      "      accuracy                           1.00      1313\n",
      "     macro avg       1.00      1.00      1.00      1313\n",
      "  weighted avg       1.00      1.00      1.00      1313\n"
     ]
    }
   ],
   "source": [
    "df_aa_test = pd.DataFrame(df_test[[\"frame.number\", \"ActivityAction\"]])\n",
    "df_aa_test[\"ActivityAction\"] = \"NoAction\"\n",
    "df_aa_test.loc[df_aa_test[\"frame.number\"].isin(eval_df[\"end_pred\"]), \"ActivityAction\"] = \"Activity End\"\n",
    "df_aa_test.loc[df_aa_test[\"frame.number\"].isin(eval_df[\"start_pred\"]), \"ActivityAction\"] = \"Activity Start\"\n",
    "print(classification_report(test_labels, df_aa_test[\"ActivityAction\"]))"
   ],
   "metadata": {
    "collapsed": false,
    "ExecuteTime": {
     "end_time": "2024-04-30T09:02:33.460202Z",
     "start_time": "2024-04-30T09:02:33.341621Z"
    }
   },
   "id": "194e29ec0cf2f139"
  },
  {
   "cell_type": "code",
   "execution_count": 63,
   "outputs": [],
   "source": [
    "# Function to check if intervals overlap\n",
    "def intervals_overlap(row, df):\n",
    "    overlapping_names = []\n",
    "    overlapping_bps = set()\n",
    "    for index, other_row in df.iterrows():\n",
    "        if row.name != index and row['start'] <= other_row['actual_end'] and row['actual_end'] >= other_row['start']:\n",
    "            overlapping_names.append(f\"{other_row['activity_name']} {other_row['bp_id']}\")\n",
    "            overlapping_bps.add(other_row['bp_id'])\n",
    "    return overlapping_names, list(overlapping_bps)\n",
    "\n",
    "df_gt[[\"overlapping_activities\", \"overlapping_bps\"]] = df_gt.apply(intervals_overlap, axis=1, df = df_gt, result_type=\"expand\")"
   ],
   "metadata": {
    "collapsed": false,
    "ExecuteTime": {
     "end_time": "2024-04-30T09:02:34.586008Z",
     "start_time": "2024-04-30T09:02:34.516572Z"
    }
   },
   "id": "7df76d158db7cf4c"
  },
  {
   "cell_type": "code",
   "execution_count": 64,
   "outputs": [],
   "source": [
    "# Create dataframe with mapping of frame numbers to event stacks\n",
    "frame_numbers = [event.frame_number for idx,stack in enumerate(stacks_out) for event in stack]\n",
    "stack_numbers = [idx for idx,stack in enumerate(stacks_out) for event in stack]\n",
    "applicant_ids = [event.attributes[\"applicant_id\"] for idx,stack in enumerate(stacks_out) for event in stack]\n",
    "activity_ids = [event.attributes[\"activity_id\"] for idx,stack in enumerate(stacks_out) for event in stack]\n",
    "mail_ids = [event.attributes[\"mail_id\"] for idx,stack in enumerate(stacks_out) for event in stack]\n",
    "sniff_time =  [event.sniff_time for idx,stack in enumerate(stacks_out) for event in stack]\n",
    "case_id = [stack.case_id[\"id\"]  if stack.case_id else -1 for idx, stack in enumerate(stacks_out) for event in stack]\n",
    "\n",
    "df_frame_numbers = pd.DataFrame(data={\"frame.number\": frame_numbers, \"sniff_time\": sniff_time, \"stack_idx\": stack_numbers, \"applicant_id\": applicant_ids,\"activity_id\": activity_ids, \"mail_id\":mail_ids,\"case_id\": case_id})\n",
    "\n",
    "# Merge Activity Name from ground truth frame to event sequences for evaluation\n",
    "merged_df = df_frame_numbers.merge(df_gt[[\"activity_name\",\"start\",\"bp_id\"]], how=\"left\",left_on=\"frame.number\", right_on=\"start\").drop(columns=\"start\")\n",
    "\n",
    "merged_df[[\"activity_name\",\"bp_id\"]] = merged_df.groupby(\"stack_idx\")[[\"activity_name\",\"bp_id\"]].ffill()\n",
    "#merged_df[\"activity_name\"] = merged_df.groupby(\"stack_idx\")[\"bp_id\"].ffill()\n",
    "\n",
    "# Merge with filtered interleaved test data\n",
    "merged_df = df_test.merge(merged_df, on=\"frame.number\")"
   ],
   "metadata": {
    "collapsed": false,
    "ExecuteTime": {
     "end_time": "2024-04-30T09:02:35.281302Z",
     "start_time": "2024-04-30T09:02:35.163961Z"
    }
   },
   "id": "e2db163cbe61470d"
  },
  {
   "cell_type": "code",
   "execution_count": 65,
   "outputs": [
    {
     "data": {
      "text/plain": "          BusinessActivity InstanceNumber  frame.number  \\\n0     HrRecruitmentProcess           over            17   \n1     HrRecruitmentProcess           over            49   \n2     HrRecruitmentProcess           over            57   \n3     HrRecruitmentProcess           over           101   \n4     HrRecruitmentProcess           over           110   \n...                    ...            ...           ...   \n1308  HrRecruitmentProcess           over         28267   \n1309  HrRecruitmentProcess           over         28304   \n1310  HrRecruitmentProcess           over         28312   \n1311  HrRecruitmentProcess           over         28377   \n1312  HrRecruitmentProcess           over         28384   \n\n                    sniff_time_x        synthetic_sniff_time  \\\n0     2020-09-18 01:07:22.425912  2020-09-18 13:37:23.875912   \n1     2020-09-18 01:07:22.473472  2020-09-18 13:45:19.523472   \n2     2020-09-18 01:07:22.476403  2020-09-18 13:45:48.836403   \n3     2020-09-18 01:07:22.742117  2020-09-18 14:30:06.242117   \n4     2020-09-18 01:07:22.748067  2020-09-18 14:31:05.748067   \n...                          ...                         ...   \n1308  2020-09-18 01:08:59.750937  2020-09-29 19:59:51.450937   \n1309  2020-09-18 01:08:59.764501  2020-09-29 20:02:07.104501   \n1310  2020-09-18 01:08:59.766260  2020-09-29 20:02:24.696260   \n1311  2020-09-18 01:08:59.823539  2020-09-29 20:11:57.543539   \n1312  2020-09-18 01:08:59.827094  2020-09-29 20:12:33.097094   \n\n                                       event_with_roles request_method_call  \\\n0     End Point (HR Manager)->Odoo Application:[Http...             version   \n1     Odoo Application->End Point (HR Manager):[Http...      server_version   \n2     End Point (HR Manager)->Odoo Application:[Http...        authenticate   \n3     Odoo Application->db Server/Mail Server:[Pgsql...                       \n4     Odoo Application->End Point (HR Manager):[Http...            IsNumber   \n...                                                 ...                 ...   \n1308  Odoo Application->db Server/Mail Server:[Pgsql...                       \n1309  Odoo Application->End Point (Recruiting manage...            IsNumber   \n1310  End Point (Recruiting manager)->Odoo Applicati...          execute_kw   \n1311  Odoo Application->db Server/Mail Server:[Pgsql...                       \n1312  Odoo Application->End Point (Recruiting manage...           faultCode   \n\n                                              file_data  \\\n0                                                    []   \n1     [server_version, 12.0-20190820, server_version...   \n2          [odoo01, dana.wireless@gmail.com, 123456789]   \n3                                                         \n4                                                   [6]   \n...                                                 ...   \n1308                                                      \n1309                                                [1]   \n1310  [odoo01, 7, 123456789, hr.applicant, archive_a...   \n1311                                                      \n1312                                                 []   \n\n                                            pgsql.query  \\\n0                                                         \n1                                                         \n2                                                         \n3     INSERT INTO \"res_users_log\" (\"id\", \"create_uid...   \n4                                                         \n...                                                 ...   \n1308  UPDATE \"mail_message_res_partner_needaction_re...   \n1309                                                      \n1310                                                      \n1311  UPDATE \"hr_applicant\" SET \"active\"=false,\"writ...   \n1312                                                      \n\n                                 pgsql.target  ...  \\\n0                                              ...   \n1                                              ...   \n2                                              ...   \n3                               res_users_log  ...   \n4                                              ...   \n...                                       ...  ...   \n1308  mail_message_res_partner_needaction_rel  ...   \n1309                                           ...   \n1310                                           ...   \n1311                             hr_applicant  ...   \n1312                                           ...   \n\n                    origin_file_data  ActivityAction  \\\n0                                     Activity Start   \n1                            version        NoAction   \n2                                           NoAction   \n3                                           NoAction   \n4                                           NoAction   \n...                              ...             ...   \n1308                                        NoAction   \n1309   hr.applicant_write_stage_id_8        NoAction   \n1310                                        NoAction   \n1311                                        NoAction   \n1312  hr.applicant_archive_applicant    Activity End   \n\n                    sniff_time_y stack_idx applicant_id  activity_id mail_id  \\\n0     2020-09-18 13:37:23.875912         0         None         None    None   \n1     2020-09-18 13:45:19.523472         0         None         None    None   \n2     2020-09-18 13:45:48.836403         0         None         None    None   \n3     2020-09-18 14:30:06.242117         0         None         None    None   \n4     2020-09-18 14:31:05.748067         0         None         None    None   \n...                          ...       ...          ...          ...     ...   \n1308  2020-09-29 19:59:51.450937        36         None         None    None   \n1309  2020-09-29 20:02:07.104501        36         None         None    None   \n1310  2020-09-29 20:02:24.696260        36         1231         None    None   \n1311  2020-09-29 20:11:57.543539        36         1231         None    None   \n1312  2020-09-29 20:12:33.097094        36         None         None    None   \n\n     case_id                   activity_name   bp_id  \n0          1  GenerateJobApplicationActivity  1224.0  \n1          1  GenerateJobApplicationActivity  1224.0  \n2          1  GenerateJobApplicationActivity  1224.0  \n3          1  GenerateJobApplicationActivity  1224.0  \n4          1  GenerateJobApplicationActivity  1224.0  \n...      ...                             ...     ...  \n1308       8       PerformAnInterviewMeeting  1231.0  \n1309       8       PerformAnInterviewMeeting  1231.0  \n1310       8       PerformAnInterviewMeeting  1231.0  \n1311       8       PerformAnInterviewMeeting  1231.0  \n1312       8       PerformAnInterviewMeeting  1231.0  \n\n[1313 rows x 22 columns]",
      "text/html": "<div>\n<style scoped>\n    .dataframe tbody tr th:only-of-type {\n        vertical-align: middle;\n    }\n\n    .dataframe tbody tr th {\n        vertical-align: top;\n    }\n\n    .dataframe thead th {\n        text-align: right;\n    }\n</style>\n<table border=\"1\" class=\"dataframe\">\n  <thead>\n    <tr style=\"text-align: right;\">\n      <th></th>\n      <th>BusinessActivity</th>\n      <th>InstanceNumber</th>\n      <th>frame.number</th>\n      <th>sniff_time_x</th>\n      <th>synthetic_sniff_time</th>\n      <th>event_with_roles</th>\n      <th>request_method_call</th>\n      <th>file_data</th>\n      <th>pgsql.query</th>\n      <th>pgsql.target</th>\n      <th>...</th>\n      <th>origin_file_data</th>\n      <th>ActivityAction</th>\n      <th>sniff_time_y</th>\n      <th>stack_idx</th>\n      <th>applicant_id</th>\n      <th>activity_id</th>\n      <th>mail_id</th>\n      <th>case_id</th>\n      <th>activity_name</th>\n      <th>bp_id</th>\n    </tr>\n  </thead>\n  <tbody>\n    <tr>\n      <th>0</th>\n      <td>HrRecruitmentProcess</td>\n      <td>over</td>\n      <td>17</td>\n      <td>2020-09-18 01:07:22.425912</td>\n      <td>2020-09-18 13:37:23.875912</td>\n      <td>End Point (HR Manager)-&gt;Odoo Application:[Http...</td>\n      <td>version</td>\n      <td>[]</td>\n      <td></td>\n      <td></td>\n      <td>...</td>\n      <td></td>\n      <td>Activity Start</td>\n      <td>2020-09-18 13:37:23.875912</td>\n      <td>0</td>\n      <td>None</td>\n      <td>None</td>\n      <td>None</td>\n      <td>1</td>\n      <td>GenerateJobApplicationActivity</td>\n      <td>1224.0</td>\n    </tr>\n    <tr>\n      <th>1</th>\n      <td>HrRecruitmentProcess</td>\n      <td>over</td>\n      <td>49</td>\n      <td>2020-09-18 01:07:22.473472</td>\n      <td>2020-09-18 13:45:19.523472</td>\n      <td>Odoo Application-&gt;End Point (HR Manager):[Http...</td>\n      <td>server_version</td>\n      <td>[server_version, 12.0-20190820, server_version...</td>\n      <td></td>\n      <td></td>\n      <td>...</td>\n      <td>version</td>\n      <td>NoAction</td>\n      <td>2020-09-18 13:45:19.523472</td>\n      <td>0</td>\n      <td>None</td>\n      <td>None</td>\n      <td>None</td>\n      <td>1</td>\n      <td>GenerateJobApplicationActivity</td>\n      <td>1224.0</td>\n    </tr>\n    <tr>\n      <th>2</th>\n      <td>HrRecruitmentProcess</td>\n      <td>over</td>\n      <td>57</td>\n      <td>2020-09-18 01:07:22.476403</td>\n      <td>2020-09-18 13:45:48.836403</td>\n      <td>End Point (HR Manager)-&gt;Odoo Application:[Http...</td>\n      <td>authenticate</td>\n      <td>[odoo01, dana.wireless@gmail.com, 123456789]</td>\n      <td></td>\n      <td></td>\n      <td>...</td>\n      <td></td>\n      <td>NoAction</td>\n      <td>2020-09-18 13:45:48.836403</td>\n      <td>0</td>\n      <td>None</td>\n      <td>None</td>\n      <td>None</td>\n      <td>1</td>\n      <td>GenerateJobApplicationActivity</td>\n      <td>1224.0</td>\n    </tr>\n    <tr>\n      <th>3</th>\n      <td>HrRecruitmentProcess</td>\n      <td>over</td>\n      <td>101</td>\n      <td>2020-09-18 01:07:22.742117</td>\n      <td>2020-09-18 14:30:06.242117</td>\n      <td>Odoo Application-&gt;db Server/Mail Server:[Pgsql...</td>\n      <td></td>\n      <td></td>\n      <td>INSERT INTO \"res_users_log\" (\"id\", \"create_uid...</td>\n      <td>res_users_log</td>\n      <td>...</td>\n      <td></td>\n      <td>NoAction</td>\n      <td>2020-09-18 14:30:06.242117</td>\n      <td>0</td>\n      <td>None</td>\n      <td>None</td>\n      <td>None</td>\n      <td>1</td>\n      <td>GenerateJobApplicationActivity</td>\n      <td>1224.0</td>\n    </tr>\n    <tr>\n      <th>4</th>\n      <td>HrRecruitmentProcess</td>\n      <td>over</td>\n      <td>110</td>\n      <td>2020-09-18 01:07:22.748067</td>\n      <td>2020-09-18 14:31:05.748067</td>\n      <td>Odoo Application-&gt;End Point (HR Manager):[Http...</td>\n      <td>IsNumber</td>\n      <td>[6]</td>\n      <td></td>\n      <td></td>\n      <td>...</td>\n      <td></td>\n      <td>NoAction</td>\n      <td>2020-09-18 14:31:05.748067</td>\n      <td>0</td>\n      <td>None</td>\n      <td>None</td>\n      <td>None</td>\n      <td>1</td>\n      <td>GenerateJobApplicationActivity</td>\n      <td>1224.0</td>\n    </tr>\n    <tr>\n      <th>...</th>\n      <td>...</td>\n      <td>...</td>\n      <td>...</td>\n      <td>...</td>\n      <td>...</td>\n      <td>...</td>\n      <td>...</td>\n      <td>...</td>\n      <td>...</td>\n      <td>...</td>\n      <td>...</td>\n      <td>...</td>\n      <td>...</td>\n      <td>...</td>\n      <td>...</td>\n      <td>...</td>\n      <td>...</td>\n      <td>...</td>\n      <td>...</td>\n      <td>...</td>\n      <td>...</td>\n    </tr>\n    <tr>\n      <th>1308</th>\n      <td>HrRecruitmentProcess</td>\n      <td>over</td>\n      <td>28267</td>\n      <td>2020-09-18 01:08:59.750937</td>\n      <td>2020-09-29 19:59:51.450937</td>\n      <td>Odoo Application-&gt;db Server/Mail Server:[Pgsql...</td>\n      <td></td>\n      <td></td>\n      <td>UPDATE \"mail_message_res_partner_needaction_re...</td>\n      <td>mail_message_res_partner_needaction_rel</td>\n      <td>...</td>\n      <td></td>\n      <td>NoAction</td>\n      <td>2020-09-29 19:59:51.450937</td>\n      <td>36</td>\n      <td>None</td>\n      <td>None</td>\n      <td>None</td>\n      <td>8</td>\n      <td>PerformAnInterviewMeeting</td>\n      <td>1231.0</td>\n    </tr>\n    <tr>\n      <th>1309</th>\n      <td>HrRecruitmentProcess</td>\n      <td>over</td>\n      <td>28304</td>\n      <td>2020-09-18 01:08:59.764501</td>\n      <td>2020-09-29 20:02:07.104501</td>\n      <td>Odoo Application-&gt;End Point (Recruiting manage...</td>\n      <td>IsNumber</td>\n      <td>[1]</td>\n      <td></td>\n      <td></td>\n      <td>...</td>\n      <td>hr.applicant_write_stage_id_8</td>\n      <td>NoAction</td>\n      <td>2020-09-29 20:02:07.104501</td>\n      <td>36</td>\n      <td>None</td>\n      <td>None</td>\n      <td>None</td>\n      <td>8</td>\n      <td>PerformAnInterviewMeeting</td>\n      <td>1231.0</td>\n    </tr>\n    <tr>\n      <th>1310</th>\n      <td>HrRecruitmentProcess</td>\n      <td>over</td>\n      <td>28312</td>\n      <td>2020-09-18 01:08:59.766260</td>\n      <td>2020-09-29 20:02:24.696260</td>\n      <td>End Point (Recruiting manager)-&gt;Odoo Applicati...</td>\n      <td>execute_kw</td>\n      <td>[odoo01, 7, 123456789, hr.applicant, archive_a...</td>\n      <td></td>\n      <td></td>\n      <td>...</td>\n      <td></td>\n      <td>NoAction</td>\n      <td>2020-09-29 20:02:24.696260</td>\n      <td>36</td>\n      <td>1231</td>\n      <td>None</td>\n      <td>None</td>\n      <td>8</td>\n      <td>PerformAnInterviewMeeting</td>\n      <td>1231.0</td>\n    </tr>\n    <tr>\n      <th>1311</th>\n      <td>HrRecruitmentProcess</td>\n      <td>over</td>\n      <td>28377</td>\n      <td>2020-09-18 01:08:59.823539</td>\n      <td>2020-09-29 20:11:57.543539</td>\n      <td>Odoo Application-&gt;db Server/Mail Server:[Pgsql...</td>\n      <td></td>\n      <td></td>\n      <td>UPDATE \"hr_applicant\" SET \"active\"=false,\"writ...</td>\n      <td>hr_applicant</td>\n      <td>...</td>\n      <td></td>\n      <td>NoAction</td>\n      <td>2020-09-29 20:11:57.543539</td>\n      <td>36</td>\n      <td>1231</td>\n      <td>None</td>\n      <td>None</td>\n      <td>8</td>\n      <td>PerformAnInterviewMeeting</td>\n      <td>1231.0</td>\n    </tr>\n    <tr>\n      <th>1312</th>\n      <td>HrRecruitmentProcess</td>\n      <td>over</td>\n      <td>28384</td>\n      <td>2020-09-18 01:08:59.827094</td>\n      <td>2020-09-29 20:12:33.097094</td>\n      <td>Odoo Application-&gt;End Point (Recruiting manage...</td>\n      <td>faultCode</td>\n      <td>[]</td>\n      <td></td>\n      <td></td>\n      <td>...</td>\n      <td>hr.applicant_archive_applicant</td>\n      <td>Activity End</td>\n      <td>2020-09-29 20:12:33.097094</td>\n      <td>36</td>\n      <td>None</td>\n      <td>None</td>\n      <td>None</td>\n      <td>8</td>\n      <td>PerformAnInterviewMeeting</td>\n      <td>1231.0</td>\n    </tr>\n  </tbody>\n</table>\n<p>1313 rows × 22 columns</p>\n</div>"
     },
     "execution_count": 65,
     "metadata": {},
     "output_type": "execute_result"
    }
   ],
   "source": [
    "merged_df"
   ],
   "metadata": {
    "collapsed": false,
    "ExecuteTime": {
     "end_time": "2024-04-30T09:02:36.083483Z",
     "start_time": "2024-04-30T09:02:35.986863Z"
    }
   },
   "id": "8d753f0f0f4b09ba"
  },
  {
   "cell_type": "code",
   "execution_count": 66,
   "outputs": [],
   "source": [
    "unique_no_nan = lambda x: list(filter(None, pd.unique(x)))\n",
    "first_unique = lambda x: unique_no_nan(x)[0]\n",
    "\n",
    "def compare_values(x,y):\n",
    "    # Multi index and casting magic - I just want to compare the bp_ids lol\n",
    "    x = int(x[0])\n",
    "    y = int(y[0])\n",
    "\n",
    "    return x == y\n",
    "\n",
    "\n",
    "res = merged_df.groupby(\"stack_idx\").agg(applicant_id = (\"applicant_id\", unique_no_nan),activity_id=(\"activity_id\", unique_no_nan), mail_id=(\"mail_id\", unique_no_nan),case_id=(\"case_id\", first_unique),bp_id=(\"bp_id\", unique_no_nan),frame_number_min=(\"frame.number\",\"min\"),frame_number_max =  (\"frame.number\",\"max\"),sniff_time_min=(\"sniff_time_x\",\"min\"),sniff_time_max=(\"sniff_time_x\",\"min\"), activity_name=(\"activity_name\", lambda x: x.head(1)))\n",
    "res[\"stack_prediction\"] = stack_predictions\n",
    "# Apply the custom function to compare 'sale_order_line_id' and 'sale_order_line_id_case_id'\n",
    "res[\"bp_true\"] = res.apply(lambda x: compare_values(x[\"applicant_id\"], x[\"bp_id\"]), axis = 1)\n",
    "res[\"activity_true\"] = res[\"activity_name\"] ==  res[\"stack_prediction\"]\n",
    "#res.loc[\"Mean\",\"bp_true\"] = res[\"bp_true\"].mean()\n",
    "#res.loc[\"Mean\",\"activity_true\"] = res[\"activity_true\"].mean()"
   ],
   "metadata": {
    "collapsed": false,
    "ExecuteTime": {
     "end_time": "2024-04-30T09:02:37.677785Z",
     "start_time": "2024-04-30T09:02:37.556098Z"
    }
   },
   "id": "c88e527b5f2aaa92"
  },
  {
   "cell_type": "code",
   "execution_count": 67,
   "outputs": [
    {
     "data": {
      "text/plain": "          applicant_id activity_id                   mail_id  case_id  \\\nstack_idx                                                               \n0               [1224]          []                        []        1   \n1               [1224]          []                    [7950]        1   \n2               [1225]          []                        []        2   \n3               [1225]          []                    [7954]        2   \n4               [1226]          []                        []        3   \n5               [1226]          []                    [7958]        3   \n6               [1225]       [732]                    [7960]        2   \n7               [1227]          []                        []        4   \n8               [1227]          []                    [7964]        4   \n9               [1225]       [732]              [7965, 7967]        2   \n10              [1228]          []                        []        5   \n11              [1228]          []                    [7971]        5   \n12              [1229]          []                        []        6   \n13              [1229]          []                    [7975]        6   \n14              [1228]       [733]                    [7977]        5   \n15              [1230]          []                        []        7   \n16              [1228]       [733]                    [7979]        5   \n17              [1230]          []                    [7982]        7   \n18              [1229]  [735, 734]              [7983, 7985]        6   \n19              [1231]          []                        []        8   \n20              [1228]  [734, 735]                    [7988]        5   \n21              [1231]          []                    [7991]        8   \n22              [1232]          []                        []        9   \n23              [1229]       [734]                    [7996]        6   \n24              [1228]       [735]              [7992, 7995]        5   \n25              [1231]       [736]                    [7998]        8   \n26              [1229]       [737]              [7999, 8001]        6   \n27              [1233]          []                        []       10   \n28              [1232]          []                    [8004]        9   \n29              [1231]       [736]                    [8006]        8   \n30              [1229]       [737]                    [8007]        6   \n31              [1232]       [738]                    [8009]        9   \n32              [1233]          []                    [8011]       10   \n33              [1231]       [739]  [8013, 8011, 8017, 8015]        8   \n34              [1229]          []        [8015, 8013, 8020]        6   \n35              [1232]       [738]              [8018, 8022]        9   \n36              [1231]       [739]              [8023, 8025]        8   \n\n              bp_id  frame_number_min  frame_number_max  \\\nstack_idx                                                 \n0          [1224.0]                17               325   \n1          [1224.0]               356              1192   \n2          [1225.0]              1212              1520   \n3          [1225.0]              1582              2336   \n4          [1226.0]              2354              2664   \n5          [1226.0]              2708              4461   \n6          [1225.0]              3057              4871   \n7          [1227.0]              4467              4881   \n8          [1227.0]              4939              6164   \n9          [1225.0]              5606              6859   \n10         [1228.0]              6879              7190   \n11         [1228.0]              7261              8044   \n12         [1229.0]              8060              8374   \n13         [1229.0]              8421              9329   \n14         [1228.0]              9105             10237   \n15         [1230.0]             10272             10786   \n16         [1228.0]             10384             11067   \n17         [1230.0]             11099             11941   \n18         [1229.0]             11974             14049   \n19         [1231.0]             13457             14328   \n20         [1228.0]             12074             14533   \n21         [1231.0]             14576             15350   \n22         [1232.0]             15720             16615   \n23         [1229.0]             16049             17037   \n24         [1228.0]             15377             17235   \n25         [1231.0]             17273             18876   \n26         [1229.0]             17801             19551   \n27         [1233.0]             20245             20557   \n28         [1232.0]             19585             20665   \n29         [1231.0]             20696             21362   \n30         [1229.0]             20928             21651   \n31         [1232.0]             21674             22664   \n32         [1233.0]             22851             25173   \n33         [1231.0]             22687             26505   \n34         [1229.0]             23848             27222   \n35         [1232.0]             25366             27235   \n36         [1231.0]             27306             28384   \n\n                       sniff_time_min              sniff_time_max  \\\nstack_idx                                                           \n0          2020-09-18 01:07:22.425912  2020-09-18 01:07:22.425912   \n1          2020-09-18 01:07:28.935647  2020-09-18 01:07:28.935647   \n2          2020-09-18 01:07:30.784745  2020-09-18 01:07:30.784745   \n3          2020-09-18 01:07:35.257826  2020-09-18 01:07:35.257826   \n4          2020-09-18 01:07:39.037302  2020-09-18 01:07:39.037302   \n5          2020-09-18 01:07:45.544565  2020-09-18 01:07:45.544565   \n6          2020-09-18 01:07:46.041104  2020-09-18 01:07:46.041104   \n7          2020-09-18 01:07:47.605781  2020-09-18 01:07:47.605781   \n8          2020-09-18 01:07:52.101027  2020-09-18 01:07:52.101027   \n9          2020-09-18 01:07:53.104460  2020-09-18 01:07:53.104460   \n10         2020-09-18 01:07:55.764111  2020-09-18 01:07:55.764111   \n11         2020-09-18 01:08:02.232798  2020-09-18 01:08:02.232798   \n12         2020-09-18 01:08:04.029108  2020-09-18 01:08:04.029108   \n13         2020-09-18 01:08:07.509236  2020-09-18 01:08:07.509236   \n14         2020-09-18 01:08:09.008941  2020-09-18 01:08:09.008941   \n15         2020-09-18 01:08:12.594083  2020-09-18 01:08:12.594083   \n16         2020-09-18 01:08:12.963826  2020-09-18 01:08:12.963826   \n17         2020-09-18 01:08:15.429842  2020-09-18 01:08:15.429842   \n18         2020-09-18 01:08:19.386398  2020-09-18 01:08:19.386398   \n19         2020-09-18 01:08:21.509586  2020-09-18 01:08:21.509586   \n20         2020-09-18 01:08:19.606410  2020-09-18 01:08:19.606410   \n21         2020-09-18 01:08:26.163793  2020-09-18 01:08:26.163793   \n22         2020-09-18 01:08:29.637843  2020-09-18 01:08:29.637843   \n23         2020-09-18 01:08:30.009781  2020-09-18 01:08:30.009781   \n24         2020-09-18 01:08:29.136161  2020-09-18 01:08:29.136161   \n25         2020-09-18 01:08:32.950969  2020-09-18 01:08:32.950969   \n26         2020-09-18 01:08:33.772999  2020-09-18 01:08:33.772999   \n27         2020-09-18 01:08:38.355165  2020-09-18 01:08:38.355165   \n28         2020-09-18 01:08:37.541733  2020-09-18 01:08:37.541733   \n29         2020-09-18 01:08:40.432528  2020-09-18 01:08:40.432528   \n30         2020-09-18 01:08:40.870246  2020-09-18 01:08:40.870246   \n31         2020-09-18 01:08:43.181066  2020-09-18 01:08:43.181066   \n32         2020-09-18 01:08:46.867158  2020-09-18 01:08:46.867158   \n33         2020-09-18 01:08:46.506665  2020-09-18 01:08:46.506665   \n34         2020-09-18 01:08:47.702200  2020-09-18 01:08:47.702200   \n35         2020-09-18 01:08:49.086028  2020-09-18 01:08:49.086028   \n36         2020-09-18 01:08:57.930895  2020-09-18 01:08:57.930895   \n\n                             activity_name                 stack_prediction  \\\nstack_idx                                                                     \n0           GenerateJobApplicationActivity   GenerateJobApplicationActivity   \n1                     ResumeReviewActivity             ResumeReviewActivity   \n2           GenerateJobApplicationActivity   GenerateJobApplicationActivity   \n3                     ResumeReviewActivity             ResumeReviewActivity   \n4           GenerateJobApplicationActivity   GenerateJobApplicationActivity   \n5                     ResumeReviewActivity             ResumeReviewActivity   \n6          ScheduleAnInterviewActivityCall  ScheduleAnInterviewActivityCall   \n7           GenerateJobApplicationActivity   GenerateJobApplicationActivity   \n8                     ResumeReviewActivity             ResumeReviewActivity   \n9                   PerformAnInterviewCall           PerformAnInterviewCall   \n10          GenerateJobApplicationActivity   GenerateJobApplicationActivity   \n11                    ResumeReviewActivity             ResumeReviewActivity   \n12          GenerateJobApplicationActivity   GenerateJobApplicationActivity   \n13                    ResumeReviewActivity             ResumeReviewActivity   \n14         ScheduleAnInterviewActivityCall  ScheduleAnInterviewActivityCall   \n15          GenerateJobApplicationActivity   GenerateJobApplicationActivity   \n16                  PerformAnInterviewCall           PerformAnInterviewCall   \n17                    ResumeReviewActivity             ResumeReviewActivity   \n18         ScheduleAnInterviewActivityCall  ScheduleAnInterviewActivityCall   \n19          GenerateJobApplicationActivity   GenerateJobApplicationActivity   \n20              ScheduleAnInterviewMeeting       ScheduleAnInterviewMeeting   \n21                    ResumeReviewActivity             ResumeReviewActivity   \n22          GenerateJobApplicationActivity   GenerateJobApplicationActivity   \n23                  PerformAnInterviewCall           PerformAnInterviewCall   \n24               PerformAnInterviewMeeting        PerformAnInterviewMeeting   \n25         ScheduleAnInterviewActivityCall  ScheduleAnInterviewActivityCall   \n26              ScheduleAnInterviewMeeting       ScheduleAnInterviewMeeting   \n27          GenerateJobApplicationActivity   GenerateJobApplicationActivity   \n28                    ResumeReviewActivity             ResumeReviewActivity   \n29                  PerformAnInterviewCall           PerformAnInterviewCall   \n30               PerformAnInterviewMeeting        PerformAnInterviewMeeting   \n31         ScheduleAnInterviewActivityCall  ScheduleAnInterviewActivityCall   \n32                    ResumeReviewActivity             ResumeReviewActivity   \n33              ScheduleAnInterviewMeeting       ScheduleAnInterviewMeeting   \n34                        ContractProposal                 ContractProposal   \n35                  PerformAnInterviewCall           PerformAnInterviewCall   \n36               PerformAnInterviewMeeting        PerformAnInterviewMeeting   \n\n           bp_true  activity_true  \nstack_idx                          \n0             True           True  \n1             True           True  \n2             True           True  \n3             True           True  \n4             True           True  \n5             True           True  \n6             True           True  \n7             True           True  \n8             True           True  \n9             True           True  \n10            True           True  \n11            True           True  \n12            True           True  \n13            True           True  \n14            True           True  \n15            True           True  \n16            True           True  \n17            True           True  \n18            True           True  \n19            True           True  \n20            True           True  \n21            True           True  \n22            True           True  \n23            True           True  \n24            True           True  \n25            True           True  \n26            True           True  \n27            True           True  \n28            True           True  \n29            True           True  \n30            True           True  \n31            True           True  \n32            True           True  \n33            True           True  \n34            True           True  \n35            True           True  \n36            True           True  ",
      "text/html": "<div>\n<style scoped>\n    .dataframe tbody tr th:only-of-type {\n        vertical-align: middle;\n    }\n\n    .dataframe tbody tr th {\n        vertical-align: top;\n    }\n\n    .dataframe thead th {\n        text-align: right;\n    }\n</style>\n<table border=\"1\" class=\"dataframe\">\n  <thead>\n    <tr style=\"text-align: right;\">\n      <th></th>\n      <th>applicant_id</th>\n      <th>activity_id</th>\n      <th>mail_id</th>\n      <th>case_id</th>\n      <th>bp_id</th>\n      <th>frame_number_min</th>\n      <th>frame_number_max</th>\n      <th>sniff_time_min</th>\n      <th>sniff_time_max</th>\n      <th>activity_name</th>\n      <th>stack_prediction</th>\n      <th>bp_true</th>\n      <th>activity_true</th>\n    </tr>\n    <tr>\n      <th>stack_idx</th>\n      <th></th>\n      <th></th>\n      <th></th>\n      <th></th>\n      <th></th>\n      <th></th>\n      <th></th>\n      <th></th>\n      <th></th>\n      <th></th>\n      <th></th>\n      <th></th>\n      <th></th>\n    </tr>\n  </thead>\n  <tbody>\n    <tr>\n      <th>0</th>\n      <td>[1224]</td>\n      <td>[]</td>\n      <td>[]</td>\n      <td>1</td>\n      <td>[1224.0]</td>\n      <td>17</td>\n      <td>325</td>\n      <td>2020-09-18 01:07:22.425912</td>\n      <td>2020-09-18 01:07:22.425912</td>\n      <td>GenerateJobApplicationActivity</td>\n      <td>GenerateJobApplicationActivity</td>\n      <td>True</td>\n      <td>True</td>\n    </tr>\n    <tr>\n      <th>1</th>\n      <td>[1224]</td>\n      <td>[]</td>\n      <td>[7950]</td>\n      <td>1</td>\n      <td>[1224.0]</td>\n      <td>356</td>\n      <td>1192</td>\n      <td>2020-09-18 01:07:28.935647</td>\n      <td>2020-09-18 01:07:28.935647</td>\n      <td>ResumeReviewActivity</td>\n      <td>ResumeReviewActivity</td>\n      <td>True</td>\n      <td>True</td>\n    </tr>\n    <tr>\n      <th>2</th>\n      <td>[1225]</td>\n      <td>[]</td>\n      <td>[]</td>\n      <td>2</td>\n      <td>[1225.0]</td>\n      <td>1212</td>\n      <td>1520</td>\n      <td>2020-09-18 01:07:30.784745</td>\n      <td>2020-09-18 01:07:30.784745</td>\n      <td>GenerateJobApplicationActivity</td>\n      <td>GenerateJobApplicationActivity</td>\n      <td>True</td>\n      <td>True</td>\n    </tr>\n    <tr>\n      <th>3</th>\n      <td>[1225]</td>\n      <td>[]</td>\n      <td>[7954]</td>\n      <td>2</td>\n      <td>[1225.0]</td>\n      <td>1582</td>\n      <td>2336</td>\n      <td>2020-09-18 01:07:35.257826</td>\n      <td>2020-09-18 01:07:35.257826</td>\n      <td>ResumeReviewActivity</td>\n      <td>ResumeReviewActivity</td>\n      <td>True</td>\n      <td>True</td>\n    </tr>\n    <tr>\n      <th>4</th>\n      <td>[1226]</td>\n      <td>[]</td>\n      <td>[]</td>\n      <td>3</td>\n      <td>[1226.0]</td>\n      <td>2354</td>\n      <td>2664</td>\n      <td>2020-09-18 01:07:39.037302</td>\n      <td>2020-09-18 01:07:39.037302</td>\n      <td>GenerateJobApplicationActivity</td>\n      <td>GenerateJobApplicationActivity</td>\n      <td>True</td>\n      <td>True</td>\n    </tr>\n    <tr>\n      <th>5</th>\n      <td>[1226]</td>\n      <td>[]</td>\n      <td>[7958]</td>\n      <td>3</td>\n      <td>[1226.0]</td>\n      <td>2708</td>\n      <td>4461</td>\n      <td>2020-09-18 01:07:45.544565</td>\n      <td>2020-09-18 01:07:45.544565</td>\n      <td>ResumeReviewActivity</td>\n      <td>ResumeReviewActivity</td>\n      <td>True</td>\n      <td>True</td>\n    </tr>\n    <tr>\n      <th>6</th>\n      <td>[1225]</td>\n      <td>[732]</td>\n      <td>[7960]</td>\n      <td>2</td>\n      <td>[1225.0]</td>\n      <td>3057</td>\n      <td>4871</td>\n      <td>2020-09-18 01:07:46.041104</td>\n      <td>2020-09-18 01:07:46.041104</td>\n      <td>ScheduleAnInterviewActivityCall</td>\n      <td>ScheduleAnInterviewActivityCall</td>\n      <td>True</td>\n      <td>True</td>\n    </tr>\n    <tr>\n      <th>7</th>\n      <td>[1227]</td>\n      <td>[]</td>\n      <td>[]</td>\n      <td>4</td>\n      <td>[1227.0]</td>\n      <td>4467</td>\n      <td>4881</td>\n      <td>2020-09-18 01:07:47.605781</td>\n      <td>2020-09-18 01:07:47.605781</td>\n      <td>GenerateJobApplicationActivity</td>\n      <td>GenerateJobApplicationActivity</td>\n      <td>True</td>\n      <td>True</td>\n    </tr>\n    <tr>\n      <th>8</th>\n      <td>[1227]</td>\n      <td>[]</td>\n      <td>[7964]</td>\n      <td>4</td>\n      <td>[1227.0]</td>\n      <td>4939</td>\n      <td>6164</td>\n      <td>2020-09-18 01:07:52.101027</td>\n      <td>2020-09-18 01:07:52.101027</td>\n      <td>ResumeReviewActivity</td>\n      <td>ResumeReviewActivity</td>\n      <td>True</td>\n      <td>True</td>\n    </tr>\n    <tr>\n      <th>9</th>\n      <td>[1225]</td>\n      <td>[732]</td>\n      <td>[7965, 7967]</td>\n      <td>2</td>\n      <td>[1225.0]</td>\n      <td>5606</td>\n      <td>6859</td>\n      <td>2020-09-18 01:07:53.104460</td>\n      <td>2020-09-18 01:07:53.104460</td>\n      <td>PerformAnInterviewCall</td>\n      <td>PerformAnInterviewCall</td>\n      <td>True</td>\n      <td>True</td>\n    </tr>\n    <tr>\n      <th>10</th>\n      <td>[1228]</td>\n      <td>[]</td>\n      <td>[]</td>\n      <td>5</td>\n      <td>[1228.0]</td>\n      <td>6879</td>\n      <td>7190</td>\n      <td>2020-09-18 01:07:55.764111</td>\n      <td>2020-09-18 01:07:55.764111</td>\n      <td>GenerateJobApplicationActivity</td>\n      <td>GenerateJobApplicationActivity</td>\n      <td>True</td>\n      <td>True</td>\n    </tr>\n    <tr>\n      <th>11</th>\n      <td>[1228]</td>\n      <td>[]</td>\n      <td>[7971]</td>\n      <td>5</td>\n      <td>[1228.0]</td>\n      <td>7261</td>\n      <td>8044</td>\n      <td>2020-09-18 01:08:02.232798</td>\n      <td>2020-09-18 01:08:02.232798</td>\n      <td>ResumeReviewActivity</td>\n      <td>ResumeReviewActivity</td>\n      <td>True</td>\n      <td>True</td>\n    </tr>\n    <tr>\n      <th>12</th>\n      <td>[1229]</td>\n      <td>[]</td>\n      <td>[]</td>\n      <td>6</td>\n      <td>[1229.0]</td>\n      <td>8060</td>\n      <td>8374</td>\n      <td>2020-09-18 01:08:04.029108</td>\n      <td>2020-09-18 01:08:04.029108</td>\n      <td>GenerateJobApplicationActivity</td>\n      <td>GenerateJobApplicationActivity</td>\n      <td>True</td>\n      <td>True</td>\n    </tr>\n    <tr>\n      <th>13</th>\n      <td>[1229]</td>\n      <td>[]</td>\n      <td>[7975]</td>\n      <td>6</td>\n      <td>[1229.0]</td>\n      <td>8421</td>\n      <td>9329</td>\n      <td>2020-09-18 01:08:07.509236</td>\n      <td>2020-09-18 01:08:07.509236</td>\n      <td>ResumeReviewActivity</td>\n      <td>ResumeReviewActivity</td>\n      <td>True</td>\n      <td>True</td>\n    </tr>\n    <tr>\n      <th>14</th>\n      <td>[1228]</td>\n      <td>[733]</td>\n      <td>[7977]</td>\n      <td>5</td>\n      <td>[1228.0]</td>\n      <td>9105</td>\n      <td>10237</td>\n      <td>2020-09-18 01:08:09.008941</td>\n      <td>2020-09-18 01:08:09.008941</td>\n      <td>ScheduleAnInterviewActivityCall</td>\n      <td>ScheduleAnInterviewActivityCall</td>\n      <td>True</td>\n      <td>True</td>\n    </tr>\n    <tr>\n      <th>15</th>\n      <td>[1230]</td>\n      <td>[]</td>\n      <td>[]</td>\n      <td>7</td>\n      <td>[1230.0]</td>\n      <td>10272</td>\n      <td>10786</td>\n      <td>2020-09-18 01:08:12.594083</td>\n      <td>2020-09-18 01:08:12.594083</td>\n      <td>GenerateJobApplicationActivity</td>\n      <td>GenerateJobApplicationActivity</td>\n      <td>True</td>\n      <td>True</td>\n    </tr>\n    <tr>\n      <th>16</th>\n      <td>[1228]</td>\n      <td>[733]</td>\n      <td>[7979]</td>\n      <td>5</td>\n      <td>[1228.0]</td>\n      <td>10384</td>\n      <td>11067</td>\n      <td>2020-09-18 01:08:12.963826</td>\n      <td>2020-09-18 01:08:12.963826</td>\n      <td>PerformAnInterviewCall</td>\n      <td>PerformAnInterviewCall</td>\n      <td>True</td>\n      <td>True</td>\n    </tr>\n    <tr>\n      <th>17</th>\n      <td>[1230]</td>\n      <td>[]</td>\n      <td>[7982]</td>\n      <td>7</td>\n      <td>[1230.0]</td>\n      <td>11099</td>\n      <td>11941</td>\n      <td>2020-09-18 01:08:15.429842</td>\n      <td>2020-09-18 01:08:15.429842</td>\n      <td>ResumeReviewActivity</td>\n      <td>ResumeReviewActivity</td>\n      <td>True</td>\n      <td>True</td>\n    </tr>\n    <tr>\n      <th>18</th>\n      <td>[1229]</td>\n      <td>[735, 734]</td>\n      <td>[7983, 7985]</td>\n      <td>6</td>\n      <td>[1229.0]</td>\n      <td>11974</td>\n      <td>14049</td>\n      <td>2020-09-18 01:08:19.386398</td>\n      <td>2020-09-18 01:08:19.386398</td>\n      <td>ScheduleAnInterviewActivityCall</td>\n      <td>ScheduleAnInterviewActivityCall</td>\n      <td>True</td>\n      <td>True</td>\n    </tr>\n    <tr>\n      <th>19</th>\n      <td>[1231]</td>\n      <td>[]</td>\n      <td>[]</td>\n      <td>8</td>\n      <td>[1231.0]</td>\n      <td>13457</td>\n      <td>14328</td>\n      <td>2020-09-18 01:08:21.509586</td>\n      <td>2020-09-18 01:08:21.509586</td>\n      <td>GenerateJobApplicationActivity</td>\n      <td>GenerateJobApplicationActivity</td>\n      <td>True</td>\n      <td>True</td>\n    </tr>\n    <tr>\n      <th>20</th>\n      <td>[1228]</td>\n      <td>[734, 735]</td>\n      <td>[7988]</td>\n      <td>5</td>\n      <td>[1228.0]</td>\n      <td>12074</td>\n      <td>14533</td>\n      <td>2020-09-18 01:08:19.606410</td>\n      <td>2020-09-18 01:08:19.606410</td>\n      <td>ScheduleAnInterviewMeeting</td>\n      <td>ScheduleAnInterviewMeeting</td>\n      <td>True</td>\n      <td>True</td>\n    </tr>\n    <tr>\n      <th>21</th>\n      <td>[1231]</td>\n      <td>[]</td>\n      <td>[7991]</td>\n      <td>8</td>\n      <td>[1231.0]</td>\n      <td>14576</td>\n      <td>15350</td>\n      <td>2020-09-18 01:08:26.163793</td>\n      <td>2020-09-18 01:08:26.163793</td>\n      <td>ResumeReviewActivity</td>\n      <td>ResumeReviewActivity</td>\n      <td>True</td>\n      <td>True</td>\n    </tr>\n    <tr>\n      <th>22</th>\n      <td>[1232]</td>\n      <td>[]</td>\n      <td>[]</td>\n      <td>9</td>\n      <td>[1232.0]</td>\n      <td>15720</td>\n      <td>16615</td>\n      <td>2020-09-18 01:08:29.637843</td>\n      <td>2020-09-18 01:08:29.637843</td>\n      <td>GenerateJobApplicationActivity</td>\n      <td>GenerateJobApplicationActivity</td>\n      <td>True</td>\n      <td>True</td>\n    </tr>\n    <tr>\n      <th>23</th>\n      <td>[1229]</td>\n      <td>[734]</td>\n      <td>[7996]</td>\n      <td>6</td>\n      <td>[1229.0]</td>\n      <td>16049</td>\n      <td>17037</td>\n      <td>2020-09-18 01:08:30.009781</td>\n      <td>2020-09-18 01:08:30.009781</td>\n      <td>PerformAnInterviewCall</td>\n      <td>PerformAnInterviewCall</td>\n      <td>True</td>\n      <td>True</td>\n    </tr>\n    <tr>\n      <th>24</th>\n      <td>[1228]</td>\n      <td>[735]</td>\n      <td>[7992, 7995]</td>\n      <td>5</td>\n      <td>[1228.0]</td>\n      <td>15377</td>\n      <td>17235</td>\n      <td>2020-09-18 01:08:29.136161</td>\n      <td>2020-09-18 01:08:29.136161</td>\n      <td>PerformAnInterviewMeeting</td>\n      <td>PerformAnInterviewMeeting</td>\n      <td>True</td>\n      <td>True</td>\n    </tr>\n    <tr>\n      <th>25</th>\n      <td>[1231]</td>\n      <td>[736]</td>\n      <td>[7998]</td>\n      <td>8</td>\n      <td>[1231.0]</td>\n      <td>17273</td>\n      <td>18876</td>\n      <td>2020-09-18 01:08:32.950969</td>\n      <td>2020-09-18 01:08:32.950969</td>\n      <td>ScheduleAnInterviewActivityCall</td>\n      <td>ScheduleAnInterviewActivityCall</td>\n      <td>True</td>\n      <td>True</td>\n    </tr>\n    <tr>\n      <th>26</th>\n      <td>[1229]</td>\n      <td>[737]</td>\n      <td>[7999, 8001]</td>\n      <td>6</td>\n      <td>[1229.0]</td>\n      <td>17801</td>\n      <td>19551</td>\n      <td>2020-09-18 01:08:33.772999</td>\n      <td>2020-09-18 01:08:33.772999</td>\n      <td>ScheduleAnInterviewMeeting</td>\n      <td>ScheduleAnInterviewMeeting</td>\n      <td>True</td>\n      <td>True</td>\n    </tr>\n    <tr>\n      <th>27</th>\n      <td>[1233]</td>\n      <td>[]</td>\n      <td>[]</td>\n      <td>10</td>\n      <td>[1233.0]</td>\n      <td>20245</td>\n      <td>20557</td>\n      <td>2020-09-18 01:08:38.355165</td>\n      <td>2020-09-18 01:08:38.355165</td>\n      <td>GenerateJobApplicationActivity</td>\n      <td>GenerateJobApplicationActivity</td>\n      <td>True</td>\n      <td>True</td>\n    </tr>\n    <tr>\n      <th>28</th>\n      <td>[1232]</td>\n      <td>[]</td>\n      <td>[8004]</td>\n      <td>9</td>\n      <td>[1232.0]</td>\n      <td>19585</td>\n      <td>20665</td>\n      <td>2020-09-18 01:08:37.541733</td>\n      <td>2020-09-18 01:08:37.541733</td>\n      <td>ResumeReviewActivity</td>\n      <td>ResumeReviewActivity</td>\n      <td>True</td>\n      <td>True</td>\n    </tr>\n    <tr>\n      <th>29</th>\n      <td>[1231]</td>\n      <td>[736]</td>\n      <td>[8006]</td>\n      <td>8</td>\n      <td>[1231.0]</td>\n      <td>20696</td>\n      <td>21362</td>\n      <td>2020-09-18 01:08:40.432528</td>\n      <td>2020-09-18 01:08:40.432528</td>\n      <td>PerformAnInterviewCall</td>\n      <td>PerformAnInterviewCall</td>\n      <td>True</td>\n      <td>True</td>\n    </tr>\n    <tr>\n      <th>30</th>\n      <td>[1229]</td>\n      <td>[737]</td>\n      <td>[8007]</td>\n      <td>6</td>\n      <td>[1229.0]</td>\n      <td>20928</td>\n      <td>21651</td>\n      <td>2020-09-18 01:08:40.870246</td>\n      <td>2020-09-18 01:08:40.870246</td>\n      <td>PerformAnInterviewMeeting</td>\n      <td>PerformAnInterviewMeeting</td>\n      <td>True</td>\n      <td>True</td>\n    </tr>\n    <tr>\n      <th>31</th>\n      <td>[1232]</td>\n      <td>[738]</td>\n      <td>[8009]</td>\n      <td>9</td>\n      <td>[1232.0]</td>\n      <td>21674</td>\n      <td>22664</td>\n      <td>2020-09-18 01:08:43.181066</td>\n      <td>2020-09-18 01:08:43.181066</td>\n      <td>ScheduleAnInterviewActivityCall</td>\n      <td>ScheduleAnInterviewActivityCall</td>\n      <td>True</td>\n      <td>True</td>\n    </tr>\n    <tr>\n      <th>32</th>\n      <td>[1233]</td>\n      <td>[]</td>\n      <td>[8011]</td>\n      <td>10</td>\n      <td>[1233.0]</td>\n      <td>22851</td>\n      <td>25173</td>\n      <td>2020-09-18 01:08:46.867158</td>\n      <td>2020-09-18 01:08:46.867158</td>\n      <td>ResumeReviewActivity</td>\n      <td>ResumeReviewActivity</td>\n      <td>True</td>\n      <td>True</td>\n    </tr>\n    <tr>\n      <th>33</th>\n      <td>[1231]</td>\n      <td>[739]</td>\n      <td>[8013, 8011, 8017, 8015]</td>\n      <td>8</td>\n      <td>[1231.0]</td>\n      <td>22687</td>\n      <td>26505</td>\n      <td>2020-09-18 01:08:46.506665</td>\n      <td>2020-09-18 01:08:46.506665</td>\n      <td>ScheduleAnInterviewMeeting</td>\n      <td>ScheduleAnInterviewMeeting</td>\n      <td>True</td>\n      <td>True</td>\n    </tr>\n    <tr>\n      <th>34</th>\n      <td>[1229]</td>\n      <td>[]</td>\n      <td>[8015, 8013, 8020]</td>\n      <td>6</td>\n      <td>[1229.0]</td>\n      <td>23848</td>\n      <td>27222</td>\n      <td>2020-09-18 01:08:47.702200</td>\n      <td>2020-09-18 01:08:47.702200</td>\n      <td>ContractProposal</td>\n      <td>ContractProposal</td>\n      <td>True</td>\n      <td>True</td>\n    </tr>\n    <tr>\n      <th>35</th>\n      <td>[1232]</td>\n      <td>[738]</td>\n      <td>[8018, 8022]</td>\n      <td>9</td>\n      <td>[1232.0]</td>\n      <td>25366</td>\n      <td>27235</td>\n      <td>2020-09-18 01:08:49.086028</td>\n      <td>2020-09-18 01:08:49.086028</td>\n      <td>PerformAnInterviewCall</td>\n      <td>PerformAnInterviewCall</td>\n      <td>True</td>\n      <td>True</td>\n    </tr>\n    <tr>\n      <th>36</th>\n      <td>[1231]</td>\n      <td>[739]</td>\n      <td>[8023, 8025]</td>\n      <td>8</td>\n      <td>[1231.0]</td>\n      <td>27306</td>\n      <td>28384</td>\n      <td>2020-09-18 01:08:57.930895</td>\n      <td>2020-09-18 01:08:57.930895</td>\n      <td>PerformAnInterviewMeeting</td>\n      <td>PerformAnInterviewMeeting</td>\n      <td>True</td>\n      <td>True</td>\n    </tr>\n  </tbody>\n</table>\n</div>"
     },
     "execution_count": 67,
     "metadata": {},
     "output_type": "execute_result"
    }
   ],
   "source": [
    "res"
   ],
   "metadata": {
    "collapsed": false,
    "ExecuteTime": {
     "end_time": "2024-04-30T09:02:38.562364Z",
     "start_time": "2024-04-30T09:02:38.468829Z"
    }
   },
   "id": "9ee1db45934c1562"
  },
  {
   "cell_type": "code",
   "execution_count": 68,
   "outputs": [
    {
     "name": "stdout",
     "output_type": "stream",
     "text": [
      "------------------ Activity Type --------------\n",
      "                                 precision    recall  f1-score   support\n",
      "\n",
      "               ContractProposal       1.00      1.00      1.00         1\n",
      " GenerateJobApplicationActivity       1.00      1.00      1.00        10\n",
      "         PerformAnInterviewCall       1.00      1.00      1.00         5\n",
      "      PerformAnInterviewMeeting       1.00      1.00      1.00         3\n",
      "           ResumeReviewActivity       1.00      1.00      1.00        10\n",
      "ScheduleAnInterviewActivityCall       1.00      1.00      1.00         5\n",
      "     ScheduleAnInterviewMeeting       1.00      1.00      1.00         3\n",
      "\n",
      "                       accuracy                           1.00        37\n",
      "                      macro avg       1.00      1.00      1.00        37\n",
      "                   weighted avg       1.00      1.00      1.00        37\n"
     ]
    }
   ],
   "source": [
    "print(\"------------------ Activity Type --------------\")\n",
    "print(classification_report(res[\"activity_name\"], res[\"stack_prediction\"]))"
   ],
   "metadata": {
    "collapsed": false,
    "ExecuteTime": {
     "end_time": "2024-04-30T09:02:39.920471Z",
     "start_time": "2024-04-30T09:02:39.822907Z"
    }
   },
   "id": "5b10d616efa1e470"
  },
  {
   "cell_type": "code",
   "execution_count": 69,
   "outputs": [
    {
     "name": "stdout",
     "output_type": "stream",
     "text": [
      "------------------ Activity Type --------------\n",
      "              precision    recall  f1-score   support\n",
      "\n",
      "        1224       1.00      1.00      1.00         2\n",
      "        1225       1.00      1.00      1.00         4\n",
      "        1226       1.00      1.00      1.00         2\n",
      "        1227       1.00      1.00      1.00         2\n",
      "        1228       1.00      1.00      1.00         6\n",
      "        1229       1.00      1.00      1.00         7\n",
      "        1230       1.00      1.00      1.00         2\n",
      "        1231       1.00      1.00      1.00         6\n",
      "        1232       1.00      1.00      1.00         4\n",
      "        1233       1.00      1.00      1.00         2\n",
      "\n",
      "    accuracy                           1.00        37\n",
      "   macro avg       1.00      1.00      1.00        37\n",
      "weighted avg       1.00      1.00      1.00        37\n"
     ]
    }
   ],
   "source": [
    "first_int = lambda x: int(x[0])\n",
    "\n",
    "pred = res[\"applicant_id\"].map(first_int)\n",
    "true = res[\"bp_id\"].map(first_int)\n",
    "\n",
    "print(\"------------------ Activity Type --------------\")\n",
    "print(classification_report(true[pred!= -1], pred[pred!= -1], zero_division=0.0))"
   ],
   "metadata": {
    "collapsed": false,
    "ExecuteTime": {
     "end_time": "2024-04-30T09:02:40.993528Z",
     "start_time": "2024-04-30T09:02:40.921118Z"
    }
   },
   "id": "769244aaab09be9e"
  },
  {
   "cell_type": "code",
   "execution_count": 70,
   "outputs": [],
   "source": [
    "out = res.sort_values(by= \"sniff_time_min\")[[\"sniff_time_min\",\"stack_prediction\",\"case_id\"]].reset_index(drop=True)\n",
    "out.columns = [\"timestamp\", \"activity\", \"case_id\"]"
   ],
   "metadata": {
    "collapsed": false,
    "ExecuteTime": {
     "end_time": "2024-04-30T09:02:42.069752Z",
     "start_time": "2024-04-30T09:02:42.010740Z"
    }
   },
   "id": "e1f87f8fa560c7e5"
  },
  {
   "cell_type": "code",
   "execution_count": 25,
   "outputs": [],
   "source": [
    "out.to_csv(\"../../data_v3/out/ptp_xes_out.csv\", index = False)"
   ],
   "metadata": {
    "collapsed": false,
    "ExecuteTime": {
     "end_time": "2024-04-30T08:56:55.384920Z",
     "start_time": "2024-04-30T08:56:55.322164Z"
    }
   },
   "id": "924ff4327dee8b5b"
  }
 ],
 "metadata": {
  "kernelspec": {
   "display_name": "Python 3",
   "language": "python",
   "name": "python3"
  },
  "language_info": {
   "codemirror_mode": {
    "name": "ipython",
    "version": 2
   },
   "file_extension": ".py",
   "mimetype": "text/x-python",
   "name": "python",
   "nbconvert_exporter": "python",
   "pygments_lexer": "ipython2",
   "version": "2.7.6"
  }
 },
 "nbformat": 4,
 "nbformat_minor": 5
}
