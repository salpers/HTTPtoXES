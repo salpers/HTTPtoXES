{
 "cells": [
  {
   "cell_type": "code",
   "execution_count": 10,
   "outputs": [
    {
     "name": "stdout",
     "output_type": "stream",
     "text": [
      "The autoreload extension is already loaded. To reload it, use:\n",
      "  %reload_ext autoreload\n"
     ]
    }
   ],
   "source": [
    "import ast\n",
    "import re\n",
    "from event_loop.preprocessing.dataframe import *\n",
    "\n",
    "import metrics\n",
    "import numpy as np\n",
    "import pandas as pd\n",
    "\n",
    "\n",
    "%load_ext autoreload"
   ],
   "metadata": {
    "collapsed": false,
    "ExecuteTime": {
     "end_time": "2024-03-13T13:11:11.051358Z",
     "start_time": "2024-03-13T13:11:06.192550Z"
    }
   },
   "id": "e78c62da13f69969"
  },
  {
   "cell_type": "markdown",
   "source": [
    "# Prerequisuites"
   ],
   "metadata": {
    "collapsed": false
   },
   "id": "9af28cc8576de679"
  },
  {
   "cell_type": "markdown",
   "source": [
    "## Activity Action Model\n",
    "Train a Model with the task of classifying Start, End and NoAction events in the interleaved data. \n",
    "Training is done during a \"warmup\" phase with generated training data. "
   ],
   "metadata": {
    "collapsed": false
   },
   "id": "7d390ec7d82748f9"
  },
  {
   "cell_type": "markdown",
   "source": [
    "### Load Data"
   ],
   "metadata": {
    "collapsed": false
   },
   "id": "b71fca8f257d622"
  },
  {
   "cell_type": "code",
   "execution_count": 11,
   "outputs": [],
   "source": [
    "# HR data in data/Train/R1 is missing frame.number. We take another (already filtered) dataset and apply our feature extraction to this one\n",
    "df_train_in = pd.read_csv('../../data_v3/hr_extended_features.csv', converters={\"MessageAttributes\": ast.literal_eval})"
   ],
   "metadata": {
    "collapsed": false,
    "ExecuteTime": {
     "end_time": "2024-03-13T13:11:12.909195Z",
     "start_time": "2024-03-13T13:11:06.245810Z"
    }
   },
   "id": "490cfbb42b29d0f0"
  },
  {
   "cell_type": "code",
   "execution_count": 12,
   "outputs": [],
   "source": [
    "# This is the Interleaved Data Set for our pipeline\n",
    "df_il_in = pd.read_csv('../../data/HR-INTERLEAVED/R1/R1.csv', converters={\"MessageAttributes\": ast.literal_eval})"
   ],
   "metadata": {
    "collapsed": false,
    "ExecuteTime": {
     "end_time": "2024-03-13T13:11:12.923673Z",
     "start_time": "2024-03-13T13:11:08.021814Z"
    }
   },
   "id": "4ba9ef52affe721a"
  },
  {
   "cell_type": "code",
   "execution_count": 13,
   "outputs": [
    {
     "data": {
      "text/plain": "       Unnamed: 0.2  Unnamed: 0.1  Unnamed: 0  \\\n0                 0             0           0   \n1                 1             1           1   \n2                 2             2           2   \n3                 3             3           3   \n4                 4             4           4   \n...             ...           ...         ...   \n33068         33068         11958       11958   \n33069         33069         11959       11959   \n33070         33070         11960       11960   \n33071         33071         11961       11961   \n33072         33072         11962       11962   \n\n                                    FileName                BusinessActivity  \\\n0      GenerateJobApplicationActivity_1.pcap  GenerateJobApplicationActivity   \n1      GenerateJobApplicationActivity_1.pcap  GenerateJobApplicationActivity   \n2      GenerateJobApplicationActivity_1.pcap  GenerateJobApplicationActivity   \n3      GenerateJobApplicationActivity_1.pcap  GenerateJobApplicationActivity   \n4      GenerateJobApplicationActivity_1.pcap  GenerateJobApplicationActivity   \n...                                      ...                             ...   \n33068          ResumeReviewActivity_250.pcap            ResumeReviewActivity   \n33069          ResumeReviewActivity_250.pcap            ResumeReviewActivity   \n33070          ResumeReviewActivity_250.pcap            ResumeReviewActivity   \n33071          ResumeReviewActivity_250.pcap            ResumeReviewActivity   \n33072          ResumeReviewActivity_250.pcap            ResumeReviewActivity   \n\n       frame.number              sniff_time_str                  sniff_time  \\\n0                26  2020-05-12 09:57:23.762710  2020-05-12 09:57:23.762710   \n1               127  2020-05-12 09:57:28.092427  2020-05-12 09:57:28.092427   \n2               135  2020-05-12 09:57:28.094494  2020-05-12 09:57:28.094494   \n3               192  2020-05-12 09:57:28.580005  2020-05-12 09:57:28.580005   \n4               216  2020-05-12 09:57:28.729685  2020-05-12 09:57:28.729685   \n...             ...                         ...                         ...   \n33068           729  2020-05-14 00:17:45.346366  2020-05-14 00:17:45.346366   \n33069           766  2020-05-14 00:17:45.361497  2020-05-14 00:17:45.361497   \n33070           774  2020-05-14 00:17:45.363203  2020-05-14 00:17:45.363203   \n33071           840  2020-05-14 00:17:45.427437  2020-05-14 00:17:45.427437   \n33072           847  2020-05-14 00:17:45.430315  2020-05-14 00:17:45.430315   \n\n       InstanceNumber        synthetic_sniff_time  ...  \\\n0                   1  2020-05-13 10:07:18.092710  ...   \n1                   1  2020-05-13 22:08:59.592427  ...   \n2                   1  2020-05-13 22:09:20.264494  ...   \n3                   1  2020-05-13 23:30:15.860005  ...   \n4                   1  2020-05-13 23:55:12.809685  ...   \n...               ...                         ...  ...   \n33068             250  2020-05-14 04:15:16.416366  ...   \n33069             250  2020-05-14 04:17:47.741497  ...   \n33070             250  2020-05-14 04:18:04.803203  ...   \n33071             250  2020-05-14 04:28:47.207437  ...   \n33072             250  2020-05-14 04:29:15.990315  ...   \n\n                                               file_data IsStartActivity  \\\n0                                            ['version']             NaN   \n1      ['server_version', '12.0-20190820', 'server_ve...             0.0   \n2      ['authenticate', 'odoo01', 'dana.wireless@gmai...             0.0   \n3                                                    NaN             0.0   \n4                                                  ['6']             0.0   \n...                                                  ...             ...   \n33068                                                NaN             0.0   \n33069                                              ['1']             0.0   \n33070  ['execute_kw', 'odoo01', '6', '123456789', 'hr...             0.0   \n33071                                                NaN             0.0   \n33072  ['faultCode', '1', 'faultString', 'Traceback (...             0.0   \n\n      IsEndActivity  ActivityAction IsEndBP IsStartBP  \\\n0               0.0  Activity Start   False      True   \n1               0.0        NoAction   False     False   \n2               0.0        NoAction   False     False   \n3               0.0        NoAction   False     False   \n4               0.0        NoAction   False     False   \n...             ...             ...     ...       ...   \n33068           0.0        NoAction   False     False   \n33069           0.0        NoAction   False     False   \n33070           0.0        NoAction   False     False   \n33071           0.0        NoAction   False     False   \n33072        -224.0    Activity End    True     False   \n\n                selective_filter_data origin_request_method  \\\n0                             version                   NaN   \n1                                 NaN               version   \n2                                 NaN                   NaN   \n3                                 NaN                   NaN   \n4                            IsNumber          authenticate   \n...                               ...                   ...   \n33068                             NaN                   NaN   \n33069                        IsNumber            execute_kw   \n33070  hr.applicant_archive_applicant                   NaN   \n33071                             NaN                   NaN   \n33072                       faultCode                   NaN   \n\n        origin_selective_filter_data is_archive_applicant  \n0                                NaN                False  \n1                            version                False  \n2                                NaN                False  \n3                                NaN                False  \n4                                NaN                False  \n...                              ...                  ...  \n33068                            NaN                False  \n33069  hr.applicant_write_stage_id_2                 True  \n33070                            NaN                False  \n33071                            NaN                False  \n33072                            NaN                False  \n\n[33073 rows x 36 columns]",
      "text/html": "<div>\n<style scoped>\n    .dataframe tbody tr th:only-of-type {\n        vertical-align: middle;\n    }\n\n    .dataframe tbody tr th {\n        vertical-align: top;\n    }\n\n    .dataframe thead th {\n        text-align: right;\n    }\n</style>\n<table border=\"1\" class=\"dataframe\">\n  <thead>\n    <tr style=\"text-align: right;\">\n      <th></th>\n      <th>Unnamed: 0.2</th>\n      <th>Unnamed: 0.1</th>\n      <th>Unnamed: 0</th>\n      <th>FileName</th>\n      <th>BusinessActivity</th>\n      <th>frame.number</th>\n      <th>sniff_time_str</th>\n      <th>sniff_time</th>\n      <th>InstanceNumber</th>\n      <th>synthetic_sniff_time</th>\n      <th>...</th>\n      <th>file_data</th>\n      <th>IsStartActivity</th>\n      <th>IsEndActivity</th>\n      <th>ActivityAction</th>\n      <th>IsEndBP</th>\n      <th>IsStartBP</th>\n      <th>selective_filter_data</th>\n      <th>origin_request_method</th>\n      <th>origin_selective_filter_data</th>\n      <th>is_archive_applicant</th>\n    </tr>\n  </thead>\n  <tbody>\n    <tr>\n      <th>0</th>\n      <td>0</td>\n      <td>0</td>\n      <td>0</td>\n      <td>GenerateJobApplicationActivity_1.pcap</td>\n      <td>GenerateJobApplicationActivity</td>\n      <td>26</td>\n      <td>2020-05-12 09:57:23.762710</td>\n      <td>2020-05-12 09:57:23.762710</td>\n      <td>1</td>\n      <td>2020-05-13 10:07:18.092710</td>\n      <td>...</td>\n      <td>['version']</td>\n      <td>NaN</td>\n      <td>0.0</td>\n      <td>Activity Start</td>\n      <td>False</td>\n      <td>True</td>\n      <td>version</td>\n      <td>NaN</td>\n      <td>NaN</td>\n      <td>False</td>\n    </tr>\n    <tr>\n      <th>1</th>\n      <td>1</td>\n      <td>1</td>\n      <td>1</td>\n      <td>GenerateJobApplicationActivity_1.pcap</td>\n      <td>GenerateJobApplicationActivity</td>\n      <td>127</td>\n      <td>2020-05-12 09:57:28.092427</td>\n      <td>2020-05-12 09:57:28.092427</td>\n      <td>1</td>\n      <td>2020-05-13 22:08:59.592427</td>\n      <td>...</td>\n      <td>['server_version', '12.0-20190820', 'server_ve...</td>\n      <td>0.0</td>\n      <td>0.0</td>\n      <td>NoAction</td>\n      <td>False</td>\n      <td>False</td>\n      <td>NaN</td>\n      <td>version</td>\n      <td>version</td>\n      <td>False</td>\n    </tr>\n    <tr>\n      <th>2</th>\n      <td>2</td>\n      <td>2</td>\n      <td>2</td>\n      <td>GenerateJobApplicationActivity_1.pcap</td>\n      <td>GenerateJobApplicationActivity</td>\n      <td>135</td>\n      <td>2020-05-12 09:57:28.094494</td>\n      <td>2020-05-12 09:57:28.094494</td>\n      <td>1</td>\n      <td>2020-05-13 22:09:20.264494</td>\n      <td>...</td>\n      <td>['authenticate', 'odoo01', 'dana.wireless@gmai...</td>\n      <td>0.0</td>\n      <td>0.0</td>\n      <td>NoAction</td>\n      <td>False</td>\n      <td>False</td>\n      <td>NaN</td>\n      <td>NaN</td>\n      <td>NaN</td>\n      <td>False</td>\n    </tr>\n    <tr>\n      <th>3</th>\n      <td>3</td>\n      <td>3</td>\n      <td>3</td>\n      <td>GenerateJobApplicationActivity_1.pcap</td>\n      <td>GenerateJobApplicationActivity</td>\n      <td>192</td>\n      <td>2020-05-12 09:57:28.580005</td>\n      <td>2020-05-12 09:57:28.580005</td>\n      <td>1</td>\n      <td>2020-05-13 23:30:15.860005</td>\n      <td>...</td>\n      <td>NaN</td>\n      <td>0.0</td>\n      <td>0.0</td>\n      <td>NoAction</td>\n      <td>False</td>\n      <td>False</td>\n      <td>NaN</td>\n      <td>NaN</td>\n      <td>NaN</td>\n      <td>False</td>\n    </tr>\n    <tr>\n      <th>4</th>\n      <td>4</td>\n      <td>4</td>\n      <td>4</td>\n      <td>GenerateJobApplicationActivity_1.pcap</td>\n      <td>GenerateJobApplicationActivity</td>\n      <td>216</td>\n      <td>2020-05-12 09:57:28.729685</td>\n      <td>2020-05-12 09:57:28.729685</td>\n      <td>1</td>\n      <td>2020-05-13 23:55:12.809685</td>\n      <td>...</td>\n      <td>['6']</td>\n      <td>0.0</td>\n      <td>0.0</td>\n      <td>NoAction</td>\n      <td>False</td>\n      <td>False</td>\n      <td>IsNumber</td>\n      <td>authenticate</td>\n      <td>NaN</td>\n      <td>False</td>\n    </tr>\n    <tr>\n      <th>...</th>\n      <td>...</td>\n      <td>...</td>\n      <td>...</td>\n      <td>...</td>\n      <td>...</td>\n      <td>...</td>\n      <td>...</td>\n      <td>...</td>\n      <td>...</td>\n      <td>...</td>\n      <td>...</td>\n      <td>...</td>\n      <td>...</td>\n      <td>...</td>\n      <td>...</td>\n      <td>...</td>\n      <td>...</td>\n      <td>...</td>\n      <td>...</td>\n      <td>...</td>\n      <td>...</td>\n    </tr>\n    <tr>\n      <th>33068</th>\n      <td>33068</td>\n      <td>11958</td>\n      <td>11958</td>\n      <td>ResumeReviewActivity_250.pcap</td>\n      <td>ResumeReviewActivity</td>\n      <td>729</td>\n      <td>2020-05-14 00:17:45.346366</td>\n      <td>2020-05-14 00:17:45.346366</td>\n      <td>250</td>\n      <td>2020-05-14 04:15:16.416366</td>\n      <td>...</td>\n      <td>NaN</td>\n      <td>0.0</td>\n      <td>0.0</td>\n      <td>NoAction</td>\n      <td>False</td>\n      <td>False</td>\n      <td>NaN</td>\n      <td>NaN</td>\n      <td>NaN</td>\n      <td>False</td>\n    </tr>\n    <tr>\n      <th>33069</th>\n      <td>33069</td>\n      <td>11959</td>\n      <td>11959</td>\n      <td>ResumeReviewActivity_250.pcap</td>\n      <td>ResumeReviewActivity</td>\n      <td>766</td>\n      <td>2020-05-14 00:17:45.361497</td>\n      <td>2020-05-14 00:17:45.361497</td>\n      <td>250</td>\n      <td>2020-05-14 04:17:47.741497</td>\n      <td>...</td>\n      <td>['1']</td>\n      <td>0.0</td>\n      <td>0.0</td>\n      <td>NoAction</td>\n      <td>False</td>\n      <td>False</td>\n      <td>IsNumber</td>\n      <td>execute_kw</td>\n      <td>hr.applicant_write_stage_id_2</td>\n      <td>True</td>\n    </tr>\n    <tr>\n      <th>33070</th>\n      <td>33070</td>\n      <td>11960</td>\n      <td>11960</td>\n      <td>ResumeReviewActivity_250.pcap</td>\n      <td>ResumeReviewActivity</td>\n      <td>774</td>\n      <td>2020-05-14 00:17:45.363203</td>\n      <td>2020-05-14 00:17:45.363203</td>\n      <td>250</td>\n      <td>2020-05-14 04:18:04.803203</td>\n      <td>...</td>\n      <td>['execute_kw', 'odoo01', '6', '123456789', 'hr...</td>\n      <td>0.0</td>\n      <td>0.0</td>\n      <td>NoAction</td>\n      <td>False</td>\n      <td>False</td>\n      <td>hr.applicant_archive_applicant</td>\n      <td>NaN</td>\n      <td>NaN</td>\n      <td>False</td>\n    </tr>\n    <tr>\n      <th>33071</th>\n      <td>33071</td>\n      <td>11961</td>\n      <td>11961</td>\n      <td>ResumeReviewActivity_250.pcap</td>\n      <td>ResumeReviewActivity</td>\n      <td>840</td>\n      <td>2020-05-14 00:17:45.427437</td>\n      <td>2020-05-14 00:17:45.427437</td>\n      <td>250</td>\n      <td>2020-05-14 04:28:47.207437</td>\n      <td>...</td>\n      <td>NaN</td>\n      <td>0.0</td>\n      <td>0.0</td>\n      <td>NoAction</td>\n      <td>False</td>\n      <td>False</td>\n      <td>NaN</td>\n      <td>NaN</td>\n      <td>NaN</td>\n      <td>False</td>\n    </tr>\n    <tr>\n      <th>33072</th>\n      <td>33072</td>\n      <td>11962</td>\n      <td>11962</td>\n      <td>ResumeReviewActivity_250.pcap</td>\n      <td>ResumeReviewActivity</td>\n      <td>847</td>\n      <td>2020-05-14 00:17:45.430315</td>\n      <td>2020-05-14 00:17:45.430315</td>\n      <td>250</td>\n      <td>2020-05-14 04:29:15.990315</td>\n      <td>...</td>\n      <td>['faultCode', '1', 'faultString', 'Traceback (...</td>\n      <td>0.0</td>\n      <td>-224.0</td>\n      <td>Activity End</td>\n      <td>True</td>\n      <td>False</td>\n      <td>faultCode</td>\n      <td>NaN</td>\n      <td>NaN</td>\n      <td>False</td>\n    </tr>\n  </tbody>\n</table>\n<p>33073 rows × 36 columns</p>\n</div>"
     },
     "execution_count": 13,
     "metadata": {},
     "output_type": "execute_result"
    }
   ],
   "source": [
    "df_train_in"
   ],
   "metadata": {
    "collapsed": false,
    "ExecuteTime": {
     "end_time": "2024-03-13T13:11:12.925082Z",
     "start_time": "2024-03-13T13:11:09.311568Z"
    }
   },
   "id": "d2b0ec32d3923289"
  },
  {
   "cell_type": "markdown",
   "source": [
    "### Preprocessing"
   ],
   "metadata": {
    "collapsed": false
   },
   "id": "9cdfd16523df0b5b"
  },
  {
   "cell_type": "code",
   "execution_count": 14,
   "outputs": [],
   "source": [
    "# data is at R1 Level. Apply filter and feature extraction\n",
    "df_train = pre_process(df_train_in)\n",
    "\n",
    "df_test = pre_process(df_il_in)"
   ],
   "metadata": {
    "collapsed": false,
    "ExecuteTime": {
     "end_time": "2024-03-13T13:11:18.524554Z",
     "start_time": "2024-03-13T13:11:09.376815Z"
    }
   },
   "id": "195cf763c2fc9f23"
  },
  {
   "cell_type": "code",
   "execution_count": 15,
   "outputs": [],
   "source": [
    "# Load start and end events from ground truth data.\n",
    "# Tag according frames in interleaved data for testing\n",
    "df_gt = pd.read_csv(\"../../data_v3/hr_ground_truth.csv\")\n",
    "\n",
    "start_indices = df_gt[\"start\"].tolist()\n",
    "end_indices = df_gt[\"actual_end\"].tolist()\n",
    "\n",
    "df_test[\"ActivityAction\"] = df_test[\"frame.number\"].apply(lambda x: \"Activity Start\" if x in start_indices else\n",
    "(\"Activity End\" if x in end_indices else \"NoAction\"))"
   ],
   "metadata": {
    "collapsed": false,
    "ExecuteTime": {
     "end_time": "2024-03-13T13:11:18.530387Z",
     "start_time": "2024-03-13T13:11:18.524152Z"
    }
   },
   "id": "ff49214adb9839a7"
  },
  {
   "cell_type": "code",
   "execution_count": 16,
   "outputs": [
    {
     "data": {
      "text/plain": "SequenceNumber\n13     132\n21     115\n6      115\n1      115\n5       96\n      ... \n404     15\n158     15\n157     15\n25      15\n154     14\nName: count, Length: 933, dtype: int64"
     },
     "execution_count": 16,
     "metadata": {},
     "output_type": "execute_result"
    }
   ],
   "source": [
    "# ------------ OPTIONAL ---------------\n",
    "# TODO Duplicate with Activity Model - move down and delete\n",
    "# Form sequences in training data by grouping\n",
    "df_train = df_train.sort_values(by=[\"InstanceNumber\", \"BusinessActivity\", \"frame.number\"])\n",
    "df_train[\"SequenceNumber\"] = df_train.groupby([\"BusinessActivity\", \"InstanceNumber\"]).ngroup()\n",
    "df_train[\"SequenceNumber\"] -= df_train['SequenceNumber'].min()\n",
    "\n",
    "# check sequence length of training data\n",
    "df_train[\"SequenceNumber\"].value_counts()"
   ],
   "metadata": {
    "collapsed": false,
    "ExecuteTime": {
     "end_time": "2024-03-13T13:11:18.569754Z",
     "start_time": "2024-03-13T13:11:18.529837Z"
    }
   },
   "id": "a9950736f0722f85"
  },
  {
   "cell_type": "code",
   "execution_count": 17,
   "outputs": [
    {
     "data": {
      "text/plain": "                     BusinessActivity  InstanceNumber  frame.number  \\\n0      GenerateJobApplicationActivity               1            26   \n1      GenerateJobApplicationActivity               1           127   \n2      GenerateJobApplicationActivity               1           135   \n3      GenerateJobApplicationActivity               1           192   \n4      GenerateJobApplicationActivity               1           216   \n...                               ...             ...           ...   \n33068            ResumeReviewActivity             250           729   \n33069            ResumeReviewActivity             250           766   \n33070            ResumeReviewActivity             250           774   \n33071            ResumeReviewActivity             250           840   \n33072            ResumeReviewActivity             250           847   \n\n             synthetic_sniff_time  \\\n0      2020-05-13 10:07:18.092710   \n1      2020-05-13 22:08:59.592427   \n2      2020-05-13 22:09:20.264494   \n3      2020-05-13 23:30:15.860005   \n4      2020-05-13 23:55:12.809685   \n...                           ...   \n33068  2020-05-14 04:15:16.416366   \n33069  2020-05-14 04:17:47.741497   \n33070  2020-05-14 04:18:04.803203   \n33071  2020-05-14 04:28:47.207437   \n33072  2020-05-14 04:29:15.990315   \n\n                                        event_with_roles request_method_call  \\\n0      End Point (HR Manager)->Odoo Application:[Http...             version   \n1      Odoo Application->End Point (HR Manager):[Http...      server_version   \n2      End Point (HR Manager)->Odoo Application:[Http...        authenticate   \n3      Odoo Application->db Server/Mail Server:[Pgsql...                       \n4      Odoo Application->End Point (HR Manager):[Http...            IsNumber   \n...                                                  ...                 ...   \n33068  Odoo Application->db Server/Mail Server:[Pgsql...                       \n33069  Odoo Application->End Point (HR Manager):[Http...            IsNumber   \n33070  End Point (HR Manager)->Odoo Application:[Http...          execute_kw   \n33071  Odoo Application->db Server/Mail Server:[Pgsql...                       \n33072  Odoo Application->End Point (HR Manager):[Http...           faultCode   \n\n                                               file_data  \\\n0                                                     []   \n1      [server_version, 12.0-20190820, server_version...   \n2           [odoo01, dana.wireless@gmail.com, 123456789]   \n3                                                          \n4                                                    [6]   \n...                                                  ...   \n33068                                                      \n33069                                                [1]   \n33070  [odoo01, 6, 123456789, hr.applicant, archive_a...   \n33071                                                      \n33072                                                 []   \n\n                                             pgsql.query  \\\n0                                                          \n1                                                          \n2                                                          \n3      INSERT INTO \"res_users_log\" (\"id\", \"create_uid...   \n4                                                          \n...                                                  ...   \n33068  UPDATE \"mail_message_res_partner_needaction_re...   \n33069                                                      \n33070                                                      \n33071  UPDATE \"hr_applicant\" SET \"active\"=false,\"writ...   \n33072                                                      \n\n                                  pgsql.target  \\\n0                                                \n1                                                \n2                                                \n3                                res_users_log   \n4                                                \n...                                        ...   \n33068  mail_message_res_partner_needaction_rel   \n33069                                            \n33070                                            \n33071                             hr_applicant   \n33072                                            \n\n                  selective_file_data origin_method  \\\n0                             version                 \n1                      server_version       version   \n2                                                     \n3                                                     \n4                            IsNumber  authenticate   \n...                               ...           ...   \n33068                                                 \n33069                        IsNumber    execute_kw   \n33070  hr.applicant_archive_applicant                 \n33071                                                 \n33072                       faultCode    execute_kw   \n\n                     origin_file_data  SequenceNumber  \n0                                                  25  \n1                             version              25  \n2                                                  25  \n3                                                  25  \n4                                                  25  \n...                               ...             ...  \n33068                                             728  \n33069   hr.applicant_write_stage_id_2             728  \n33070                                             728  \n33071                                             728  \n33072  hr.applicant_archive_applicant             728  \n\n[33073 rows x 13 columns]",
      "text/html": "<div>\n<style scoped>\n    .dataframe tbody tr th:only-of-type {\n        vertical-align: middle;\n    }\n\n    .dataframe tbody tr th {\n        vertical-align: top;\n    }\n\n    .dataframe thead th {\n        text-align: right;\n    }\n</style>\n<table border=\"1\" class=\"dataframe\">\n  <thead>\n    <tr style=\"text-align: right;\">\n      <th></th>\n      <th>BusinessActivity</th>\n      <th>InstanceNumber</th>\n      <th>frame.number</th>\n      <th>synthetic_sniff_time</th>\n      <th>event_with_roles</th>\n      <th>request_method_call</th>\n      <th>file_data</th>\n      <th>pgsql.query</th>\n      <th>pgsql.target</th>\n      <th>selective_file_data</th>\n      <th>origin_method</th>\n      <th>origin_file_data</th>\n      <th>SequenceNumber</th>\n    </tr>\n  </thead>\n  <tbody>\n    <tr>\n      <th>0</th>\n      <td>GenerateJobApplicationActivity</td>\n      <td>1</td>\n      <td>26</td>\n      <td>2020-05-13 10:07:18.092710</td>\n      <td>End Point (HR Manager)-&gt;Odoo Application:[Http...</td>\n      <td>version</td>\n      <td>[]</td>\n      <td></td>\n      <td></td>\n      <td>version</td>\n      <td></td>\n      <td></td>\n      <td>25</td>\n    </tr>\n    <tr>\n      <th>1</th>\n      <td>GenerateJobApplicationActivity</td>\n      <td>1</td>\n      <td>127</td>\n      <td>2020-05-13 22:08:59.592427</td>\n      <td>Odoo Application-&gt;End Point (HR Manager):[Http...</td>\n      <td>server_version</td>\n      <td>[server_version, 12.0-20190820, server_version...</td>\n      <td></td>\n      <td></td>\n      <td>server_version</td>\n      <td>version</td>\n      <td>version</td>\n      <td>25</td>\n    </tr>\n    <tr>\n      <th>2</th>\n      <td>GenerateJobApplicationActivity</td>\n      <td>1</td>\n      <td>135</td>\n      <td>2020-05-13 22:09:20.264494</td>\n      <td>End Point (HR Manager)-&gt;Odoo Application:[Http...</td>\n      <td>authenticate</td>\n      <td>[odoo01, dana.wireless@gmail.com, 123456789]</td>\n      <td></td>\n      <td></td>\n      <td></td>\n      <td></td>\n      <td></td>\n      <td>25</td>\n    </tr>\n    <tr>\n      <th>3</th>\n      <td>GenerateJobApplicationActivity</td>\n      <td>1</td>\n      <td>192</td>\n      <td>2020-05-13 23:30:15.860005</td>\n      <td>Odoo Application-&gt;db Server/Mail Server:[Pgsql...</td>\n      <td></td>\n      <td></td>\n      <td>INSERT INTO \"res_users_log\" (\"id\", \"create_uid...</td>\n      <td>res_users_log</td>\n      <td></td>\n      <td></td>\n      <td></td>\n      <td>25</td>\n    </tr>\n    <tr>\n      <th>4</th>\n      <td>GenerateJobApplicationActivity</td>\n      <td>1</td>\n      <td>216</td>\n      <td>2020-05-13 23:55:12.809685</td>\n      <td>Odoo Application-&gt;End Point (HR Manager):[Http...</td>\n      <td>IsNumber</td>\n      <td>[6]</td>\n      <td></td>\n      <td></td>\n      <td>IsNumber</td>\n      <td>authenticate</td>\n      <td></td>\n      <td>25</td>\n    </tr>\n    <tr>\n      <th>...</th>\n      <td>...</td>\n      <td>...</td>\n      <td>...</td>\n      <td>...</td>\n      <td>...</td>\n      <td>...</td>\n      <td>...</td>\n      <td>...</td>\n      <td>...</td>\n      <td>...</td>\n      <td>...</td>\n      <td>...</td>\n      <td>...</td>\n    </tr>\n    <tr>\n      <th>33068</th>\n      <td>ResumeReviewActivity</td>\n      <td>250</td>\n      <td>729</td>\n      <td>2020-05-14 04:15:16.416366</td>\n      <td>Odoo Application-&gt;db Server/Mail Server:[Pgsql...</td>\n      <td></td>\n      <td></td>\n      <td>UPDATE \"mail_message_res_partner_needaction_re...</td>\n      <td>mail_message_res_partner_needaction_rel</td>\n      <td></td>\n      <td></td>\n      <td></td>\n      <td>728</td>\n    </tr>\n    <tr>\n      <th>33069</th>\n      <td>ResumeReviewActivity</td>\n      <td>250</td>\n      <td>766</td>\n      <td>2020-05-14 04:17:47.741497</td>\n      <td>Odoo Application-&gt;End Point (HR Manager):[Http...</td>\n      <td>IsNumber</td>\n      <td>[1]</td>\n      <td></td>\n      <td></td>\n      <td>IsNumber</td>\n      <td>execute_kw</td>\n      <td>hr.applicant_write_stage_id_2</td>\n      <td>728</td>\n    </tr>\n    <tr>\n      <th>33070</th>\n      <td>ResumeReviewActivity</td>\n      <td>250</td>\n      <td>774</td>\n      <td>2020-05-14 04:18:04.803203</td>\n      <td>End Point (HR Manager)-&gt;Odoo Application:[Http...</td>\n      <td>execute_kw</td>\n      <td>[odoo01, 6, 123456789, hr.applicant, archive_a...</td>\n      <td></td>\n      <td></td>\n      <td>hr.applicant_archive_applicant</td>\n      <td></td>\n      <td></td>\n      <td>728</td>\n    </tr>\n    <tr>\n      <th>33071</th>\n      <td>ResumeReviewActivity</td>\n      <td>250</td>\n      <td>840</td>\n      <td>2020-05-14 04:28:47.207437</td>\n      <td>Odoo Application-&gt;db Server/Mail Server:[Pgsql...</td>\n      <td></td>\n      <td></td>\n      <td>UPDATE \"hr_applicant\" SET \"active\"=false,\"writ...</td>\n      <td>hr_applicant</td>\n      <td></td>\n      <td></td>\n      <td></td>\n      <td>728</td>\n    </tr>\n    <tr>\n      <th>33072</th>\n      <td>ResumeReviewActivity</td>\n      <td>250</td>\n      <td>847</td>\n      <td>2020-05-14 04:29:15.990315</td>\n      <td>Odoo Application-&gt;End Point (HR Manager):[Http...</td>\n      <td>faultCode</td>\n      <td>[]</td>\n      <td></td>\n      <td></td>\n      <td>faultCode</td>\n      <td>execute_kw</td>\n      <td>hr.applicant_archive_applicant</td>\n      <td>728</td>\n    </tr>\n  </tbody>\n</table>\n<p>33073 rows × 13 columns</p>\n</div>"
     },
     "execution_count": 17,
     "metadata": {},
     "output_type": "execute_result"
    }
   ],
   "source": [
    "df_train"
   ],
   "metadata": {
    "collapsed": false,
    "ExecuteTime": {
     "end_time": "2024-03-13T13:11:18.570460Z",
     "start_time": "2024-03-13T13:11:18.559457Z"
    }
   },
   "id": "1988a99ff34dbd34"
  },
  {
   "cell_type": "code",
   "execution_count": 18,
   "outputs": [],
   "source": [
    "def mark_start_end(df):\n",
    "    # Mark start event of each BusinessActivity Instance\n",
    "    df[\"activityStart\"] = df.groupby([\"BusinessActivity\", \"InstanceNumber\", ]).cumcount() == 0\n",
    "    # Mark end event of each Business Activity Instance\n",
    "    df[\"activityEnd\"] = df.groupby([\"BusinessActivity\", \"InstanceNumber\", ]).cumcount(ascending=False) == 0\n",
    "    # Merge start and end columns to form labels\n",
    "    df[\"ActivityAction\"] = df.apply(lambda row: \"Activity Start\" if row[\"activityStart\"] else (\n",
    "        \"Activity End\" if row[\"activityEnd\"] else 'NoAction'), axis=1)\n",
    "\n",
    "    return df.drop([\"activityStart\", 'activityEnd'], axis=1)\n",
    "\n",
    "\n",
    "df_train = mark_start_end(df_train)"
   ],
   "metadata": {
    "collapsed": false,
    "ExecuteTime": {
     "end_time": "2024-03-13T13:11:18.730009Z",
     "start_time": "2024-03-13T13:11:18.564926Z"
    }
   },
   "id": "c29d2381e98a2df"
  },
  {
   "cell_type": "code",
   "execution_count": 19,
   "outputs": [],
   "source": [
    "cols = [\"event_with_roles\", \"request_method_call\", \"selective_file_data\", \n",
    "        \"origin_method\",\"origin_file_data\"]\n"
   ],
   "metadata": {
    "collapsed": false,
    "ExecuteTime": {
     "end_time": "2024-03-13T13:11:18.730254Z",
     "start_time": "2024-03-13T13:11:18.718853Z"
    }
   },
   "id": "e04dd419e6dd519"
  },
  {
   "cell_type": "code",
   "execution_count": 20,
   "outputs": [],
   "source": [
    "def dict_to_features(dict):\n",
    "    return [[{**d, \"bias\": 1.0}] for d in dict]\n",
    "\n",
    "\n",
    "def extract_labels(labels):\n",
    "    return [[y] for y in labels]"
   ],
   "metadata": {
    "collapsed": false,
    "ExecuteTime": {
     "end_time": "2024-03-13T13:11:18.730342Z",
     "start_time": "2024-03-13T13:11:18.721409Z"
    }
   },
   "id": "c63cd9530571e015"
  },
  {
   "cell_type": "code",
   "execution_count": 21,
   "outputs": [],
   "source": [
    "# exclude from training data \n",
    "df_train_filt = df_train[~df_train[\"SequenceNumber\"].isin([128])]\n"
   ],
   "metadata": {
    "collapsed": false,
    "ExecuteTime": {
     "end_time": "2024-03-13T13:11:18.752099Z",
     "start_time": "2024-03-13T13:11:18.725877Z"
    }
   },
   "id": "ef9a7078a4d6971f"
  },
  {
   "cell_type": "code",
   "execution_count": 22,
   "outputs": [],
   "source": [
    "train_features = df_train_filt[cols].to_dict(\"records\")\n",
    "train_features = dict_to_features(train_features)\n",
    "train_labels = extract_labels(df_train_filt[\"ActivityAction\"])"
   ],
   "metadata": {
    "collapsed": false,
    "ExecuteTime": {
     "end_time": "2024-03-13T13:11:19.010420Z",
     "start_time": "2024-03-13T13:11:18.736018Z"
    }
   },
   "id": "ea316f5a912cfb5f"
  },
  {
   "cell_type": "code",
   "execution_count": 23,
   "outputs": [],
   "source": [
    "test_features = df_test[cols].to_dict(\"records\")\n",
    "test_features = dict_to_features(test_features)\n",
    "test_labels = extract_labels(df_test[\"ActivityAction\"])"
   ],
   "metadata": {
    "collapsed": false,
    "ExecuteTime": {
     "end_time": "2024-03-13T13:11:19.021038Z",
     "start_time": "2024-03-13T13:11:18.838139Z"
    }
   },
   "id": "409c5bf853c5cf34"
  },
  {
   "cell_type": "code",
   "execution_count": 24,
   "outputs": [],
   "source": [
    "from sklearn.preprocessing import LabelEncoder\n",
    "\n",
    "event_with_roles_encoder = LabelEncoder().fit(df_train_filt[\"event_with_roles\"])\n",
    "method_call_encoder = LabelEncoder().fit(df_train_filt[\"request_method_call\"])\n",
    "file_data_encoder = LabelEncoder().fit(df_train_filt[\"selective_file_data\"])"
   ],
   "metadata": {
    "collapsed": false,
    "ExecuteTime": {
     "end_time": "2024-03-13T13:11:19.279717Z",
     "start_time": "2024-03-13T13:11:18.841136Z"
    }
   },
   "id": "7e0ea732ee43bdde"
  },
  {
   "cell_type": "code",
   "execution_count": 25,
   "outputs": [],
   "source": [
    "def label_encode_DF(df): \n",
    "    event_with_roles_LE = event_with_roles_encoder.transform(df[\"event_with_roles\"])\n",
    "    request_method_call_LE = method_call_encoder.transform(df[\"request_method_call\"])\n",
    "    selective_file_data_LE = file_data_encoder.transform(df[\"selective_file_data\"])\n",
    "    origin_method_LE = method_call_encoder.transform(df[\"origin_method\"])\n",
    "    origin_file_data_LE = file_data_encoder.transform(df[\"origin_file_data\"])\n",
    "    \n",
    "    return pd.DataFrame({\"event_with_roles\": event_with_roles_LE, \"request_method_call\": request_method_call_LE, \"selective_file_data\": selective_file_data_LE, \"origin_method\":origin_method_LE, \"origin_file_data\":origin_file_data_LE})\n",
    "\n"
   ],
   "metadata": {
    "collapsed": false,
    "ExecuteTime": {
     "end_time": "2024-03-13T13:11:19.284935Z",
     "start_time": "2024-03-13T13:11:19.281644Z"
    }
   },
   "id": "9c8800b1d53e2597"
  },
  {
   "cell_type": "code",
   "execution_count": 26,
   "outputs": [],
   "source": [
    "train_features_LE = label_encode_DF(df_train_filt)\n",
    "test_features_LE = label_encode_DF(df_test)"
   ],
   "metadata": {
    "collapsed": false,
    "ExecuteTime": {
     "end_time": "2024-03-13T13:11:19.303667Z",
     "start_time": "2024-03-13T13:11:19.299498Z"
    }
   },
   "id": "ec5389dfb8bb4ca7"
  },
  {
   "cell_type": "code",
   "execution_count": 27,
   "outputs": [],
   "source": [
    "train_labels_list = df_train_filt[\"ActivityAction\"].values\n",
    "test_labels_list = df_test[\"ActivityAction\"].values"
   ],
   "metadata": {
    "collapsed": false,
    "ExecuteTime": {
     "end_time": "2024-03-13T13:11:19.307472Z",
     "start_time": "2024-03-13T13:11:19.303552Z"
    }
   },
   "id": "1d63fee34d2ee373"
  },
  {
   "cell_type": "markdown",
   "source": [
    "### Model Training"
   ],
   "metadata": {
    "collapsed": false
   },
   "id": "7273e609ed8e6a30"
  },
  {
   "cell_type": "markdown",
   "source": [
    "#### CRF"
   ],
   "metadata": {
    "collapsed": false
   },
   "id": "58ad52807e7fe5ef"
  },
  {
   "cell_type": "code",
   "execution_count": 28,
   "outputs": [],
   "source": [
    "# optional Train Test split for evaluation on training data\n",
    "# In prod case, we train on 100% training data and evaluate on interleaved data\n",
    "from sklearn.model_selection import train_test_split\n",
    "\n",
    "X_train, X_test, y_train, y_test = train_test_split(train_features, train_labels, test_size=0.3, random_state=42)"
   ],
   "metadata": {
    "collapsed": false,
    "ExecuteTime": {
     "end_time": "2024-03-13T13:11:19.358326Z",
     "start_time": "2024-03-13T13:11:19.306702Z"
    }
   },
   "id": "a391e8d3a432ad17"
  },
  {
   "cell_type": "code",
   "execution_count": 29,
   "outputs": [
    {
     "name": "stdout",
     "output_type": "stream",
     "text": [
      "CPU times: user 1.15 s, sys: 6.06 ms, total: 1.16 s\n",
      "Wall time: 1.17 s\n"
     ]
    },
    {
     "data": {
      "text/plain": "CRF(all_possible_transitions=True, c1=0.1, c2=0.01, max_iterations=200)",
      "text/html": "<style>#sk-container-id-1 {color: black;}#sk-container-id-1 pre{padding: 0;}#sk-container-id-1 div.sk-toggleable {background-color: white;}#sk-container-id-1 label.sk-toggleable__label {cursor: pointer;display: block;width: 100%;margin-bottom: 0;padding: 0.3em;box-sizing: border-box;text-align: center;}#sk-container-id-1 label.sk-toggleable__label-arrow:before {content: \"▸\";float: left;margin-right: 0.25em;color: #696969;}#sk-container-id-1 label.sk-toggleable__label-arrow:hover:before {color: black;}#sk-container-id-1 div.sk-estimator:hover label.sk-toggleable__label-arrow:before {color: black;}#sk-container-id-1 div.sk-toggleable__content {max-height: 0;max-width: 0;overflow: hidden;text-align: left;background-color: #f0f8ff;}#sk-container-id-1 div.sk-toggleable__content pre {margin: 0.2em;color: black;border-radius: 0.25em;background-color: #f0f8ff;}#sk-container-id-1 input.sk-toggleable__control:checked~div.sk-toggleable__content {max-height: 200px;max-width: 100%;overflow: auto;}#sk-container-id-1 input.sk-toggleable__control:checked~label.sk-toggleable__label-arrow:before {content: \"▾\";}#sk-container-id-1 div.sk-estimator input.sk-toggleable__control:checked~label.sk-toggleable__label {background-color: #d4ebff;}#sk-container-id-1 div.sk-label input.sk-toggleable__control:checked~label.sk-toggleable__label {background-color: #d4ebff;}#sk-container-id-1 input.sk-hidden--visually {border: 0;clip: rect(1px 1px 1px 1px);clip: rect(1px, 1px, 1px, 1px);height: 1px;margin: -1px;overflow: hidden;padding: 0;position: absolute;width: 1px;}#sk-container-id-1 div.sk-estimator {font-family: monospace;background-color: #f0f8ff;border: 1px dotted black;border-radius: 0.25em;box-sizing: border-box;margin-bottom: 0.5em;}#sk-container-id-1 div.sk-estimator:hover {background-color: #d4ebff;}#sk-container-id-1 div.sk-parallel-item::after {content: \"\";width: 100%;border-bottom: 1px solid gray;flex-grow: 1;}#sk-container-id-1 div.sk-label:hover label.sk-toggleable__label {background-color: #d4ebff;}#sk-container-id-1 div.sk-serial::before {content: \"\";position: absolute;border-left: 1px solid gray;box-sizing: border-box;top: 0;bottom: 0;left: 50%;z-index: 0;}#sk-container-id-1 div.sk-serial {display: flex;flex-direction: column;align-items: center;background-color: white;padding-right: 0.2em;padding-left: 0.2em;position: relative;}#sk-container-id-1 div.sk-item {position: relative;z-index: 1;}#sk-container-id-1 div.sk-parallel {display: flex;align-items: stretch;justify-content: center;background-color: white;position: relative;}#sk-container-id-1 div.sk-item::before, #sk-container-id-1 div.sk-parallel-item::before {content: \"\";position: absolute;border-left: 1px solid gray;box-sizing: border-box;top: 0;bottom: 0;left: 50%;z-index: -1;}#sk-container-id-1 div.sk-parallel-item {display: flex;flex-direction: column;z-index: 1;position: relative;background-color: white;}#sk-container-id-1 div.sk-parallel-item:first-child::after {align-self: flex-end;width: 50%;}#sk-container-id-1 div.sk-parallel-item:last-child::after {align-self: flex-start;width: 50%;}#sk-container-id-1 div.sk-parallel-item:only-child::after {width: 0;}#sk-container-id-1 div.sk-dashed-wrapped {border: 1px dashed gray;margin: 0 0.4em 0.5em 0.4em;box-sizing: border-box;padding-bottom: 0.4em;background-color: white;}#sk-container-id-1 div.sk-label label {font-family: monospace;font-weight: bold;display: inline-block;line-height: 1.2em;}#sk-container-id-1 div.sk-label-container {text-align: center;}#sk-container-id-1 div.sk-container {/* jupyter's `normalize.less` sets `[hidden] { display: none; }` but bootstrap.min.css set `[hidden] { display: none !important; }` so we also need the `!important` here to be able to override the default hidden behavior on the sphinx rendered scikit-learn.org. See: https://github.com/scikit-learn/scikit-learn/issues/21755 */display: inline-block !important;position: relative;}#sk-container-id-1 div.sk-text-repr-fallback {display: none;}</style><div id=\"sk-container-id-1\" class=\"sk-top-container\"><div class=\"sk-text-repr-fallback\"><pre>CRF(all_possible_transitions=True, c1=0.1, c2=0.01, max_iterations=200)</pre><b>In a Jupyter environment, please rerun this cell to show the HTML representation or trust the notebook. <br />On GitHub, the HTML representation is unable to render, please try loading this page with nbviewer.org.</b></div><div class=\"sk-container\" hidden><div class=\"sk-item\"><div class=\"sk-estimator sk-toggleable\"><input class=\"sk-toggleable__control sk-hidden--visually\" id=\"sk-estimator-id-1\" type=\"checkbox\" checked><label for=\"sk-estimator-id-1\" class=\"sk-toggleable__label sk-toggleable__label-arrow\">CRF</label><div class=\"sk-toggleable__content\"><pre>CRF(all_possible_transitions=True, c1=0.1, c2=0.01, max_iterations=200)</pre></div></div></div></div></div>"
     },
     "execution_count": 29,
     "metadata": {},
     "output_type": "execute_result"
    }
   ],
   "source": [
    "%%time\n",
    "import sklearn_crfsuite\n",
    "\n",
    "crf = sklearn_crfsuite.CRF(\n",
    "    max_iterations=200,\n",
    "    c1=0.1,\n",
    "    c2=0.01,\n",
    "    all_possible_transitions=True\n",
    "    #all_possible_transitions=True\n",
    ")\n",
    "crf.fit(train_features, train_labels)"
   ],
   "metadata": {
    "collapsed": false,
    "ExecuteTime": {
     "end_time": "2024-03-13T13:11:20.540338Z",
     "start_time": "2024-03-13T13:11:19.360002Z"
    }
   },
   "id": "db466e19f598b17e"
  },
  {
   "cell_type": "markdown",
   "source": [
    "#### NB "
   ],
   "metadata": {
    "collapsed": false
   },
   "id": "3fbb875325199909"
  },
  {
   "cell_type": "code",
   "execution_count": 30,
   "outputs": [],
   "source": [
    "X_train, X_test, y_train, y_test = train_test_split(train_features_LE, train_labels_list, test_size=0.3, random_state=42)"
   ],
   "metadata": {
    "collapsed": false,
    "ExecuteTime": {
     "end_time": "2024-03-13T13:11:20.546952Z",
     "start_time": "2024-03-13T13:11:20.538872Z"
    }
   },
   "id": "52cf292eff62a691"
  },
  {
   "cell_type": "code",
   "execution_count": 31,
   "outputs": [],
   "source": [
    "from sklearn.naive_bayes import CategoricalNB\n",
    "\n",
    "clf = CategoricalNB()"
   ],
   "metadata": {
    "collapsed": false,
    "ExecuteTime": {
     "end_time": "2024-03-13T13:11:20.554205Z",
     "start_time": "2024-03-13T13:11:20.543597Z"
    }
   },
   "id": "94e52029b0cab1cc"
  },
  {
   "cell_type": "code",
   "execution_count": 32,
   "outputs": [
    {
     "data": {
      "text/plain": "CategoricalNB()",
      "text/html": "<style>#sk-container-id-2 {color: black;}#sk-container-id-2 pre{padding: 0;}#sk-container-id-2 div.sk-toggleable {background-color: white;}#sk-container-id-2 label.sk-toggleable__label {cursor: pointer;display: block;width: 100%;margin-bottom: 0;padding: 0.3em;box-sizing: border-box;text-align: center;}#sk-container-id-2 label.sk-toggleable__label-arrow:before {content: \"▸\";float: left;margin-right: 0.25em;color: #696969;}#sk-container-id-2 label.sk-toggleable__label-arrow:hover:before {color: black;}#sk-container-id-2 div.sk-estimator:hover label.sk-toggleable__label-arrow:before {color: black;}#sk-container-id-2 div.sk-toggleable__content {max-height: 0;max-width: 0;overflow: hidden;text-align: left;background-color: #f0f8ff;}#sk-container-id-2 div.sk-toggleable__content pre {margin: 0.2em;color: black;border-radius: 0.25em;background-color: #f0f8ff;}#sk-container-id-2 input.sk-toggleable__control:checked~div.sk-toggleable__content {max-height: 200px;max-width: 100%;overflow: auto;}#sk-container-id-2 input.sk-toggleable__control:checked~label.sk-toggleable__label-arrow:before {content: \"▾\";}#sk-container-id-2 div.sk-estimator input.sk-toggleable__control:checked~label.sk-toggleable__label {background-color: #d4ebff;}#sk-container-id-2 div.sk-label input.sk-toggleable__control:checked~label.sk-toggleable__label {background-color: #d4ebff;}#sk-container-id-2 input.sk-hidden--visually {border: 0;clip: rect(1px 1px 1px 1px);clip: rect(1px, 1px, 1px, 1px);height: 1px;margin: -1px;overflow: hidden;padding: 0;position: absolute;width: 1px;}#sk-container-id-2 div.sk-estimator {font-family: monospace;background-color: #f0f8ff;border: 1px dotted black;border-radius: 0.25em;box-sizing: border-box;margin-bottom: 0.5em;}#sk-container-id-2 div.sk-estimator:hover {background-color: #d4ebff;}#sk-container-id-2 div.sk-parallel-item::after {content: \"\";width: 100%;border-bottom: 1px solid gray;flex-grow: 1;}#sk-container-id-2 div.sk-label:hover label.sk-toggleable__label {background-color: #d4ebff;}#sk-container-id-2 div.sk-serial::before {content: \"\";position: absolute;border-left: 1px solid gray;box-sizing: border-box;top: 0;bottom: 0;left: 50%;z-index: 0;}#sk-container-id-2 div.sk-serial {display: flex;flex-direction: column;align-items: center;background-color: white;padding-right: 0.2em;padding-left: 0.2em;position: relative;}#sk-container-id-2 div.sk-item {position: relative;z-index: 1;}#sk-container-id-2 div.sk-parallel {display: flex;align-items: stretch;justify-content: center;background-color: white;position: relative;}#sk-container-id-2 div.sk-item::before, #sk-container-id-2 div.sk-parallel-item::before {content: \"\";position: absolute;border-left: 1px solid gray;box-sizing: border-box;top: 0;bottom: 0;left: 50%;z-index: -1;}#sk-container-id-2 div.sk-parallel-item {display: flex;flex-direction: column;z-index: 1;position: relative;background-color: white;}#sk-container-id-2 div.sk-parallel-item:first-child::after {align-self: flex-end;width: 50%;}#sk-container-id-2 div.sk-parallel-item:last-child::after {align-self: flex-start;width: 50%;}#sk-container-id-2 div.sk-parallel-item:only-child::after {width: 0;}#sk-container-id-2 div.sk-dashed-wrapped {border: 1px dashed gray;margin: 0 0.4em 0.5em 0.4em;box-sizing: border-box;padding-bottom: 0.4em;background-color: white;}#sk-container-id-2 div.sk-label label {font-family: monospace;font-weight: bold;display: inline-block;line-height: 1.2em;}#sk-container-id-2 div.sk-label-container {text-align: center;}#sk-container-id-2 div.sk-container {/* jupyter's `normalize.less` sets `[hidden] { display: none; }` but bootstrap.min.css set `[hidden] { display: none !important; }` so we also need the `!important` here to be able to override the default hidden behavior on the sphinx rendered scikit-learn.org. See: https://github.com/scikit-learn/scikit-learn/issues/21755 */display: inline-block !important;position: relative;}#sk-container-id-2 div.sk-text-repr-fallback {display: none;}</style><div id=\"sk-container-id-2\" class=\"sk-top-container\"><div class=\"sk-text-repr-fallback\"><pre>CategoricalNB()</pre><b>In a Jupyter environment, please rerun this cell to show the HTML representation or trust the notebook. <br />On GitHub, the HTML representation is unable to render, please try loading this page with nbviewer.org.</b></div><div class=\"sk-container\" hidden><div class=\"sk-item\"><div class=\"sk-estimator sk-toggleable\"><input class=\"sk-toggleable__control sk-hidden--visually\" id=\"sk-estimator-id-2\" type=\"checkbox\" checked><label for=\"sk-estimator-id-2\" class=\"sk-toggleable__label sk-toggleable__label-arrow\">CategoricalNB</label><div class=\"sk-toggleable__content\"><pre>CategoricalNB()</pre></div></div></div></div></div>"
     },
     "execution_count": 32,
     "metadata": {},
     "output_type": "execute_result"
    }
   ],
   "source": [
    "clf.fit(X_train, y_train)"
   ],
   "metadata": {
    "collapsed": false,
    "ExecuteTime": {
     "end_time": "2024-03-13T13:11:20.596675Z",
     "start_time": "2024-03-13T13:11:20.575070Z"
    }
   },
   "id": "946250b68afda383"
  },
  {
   "cell_type": "code",
   "execution_count": 33,
   "outputs": [
    {
     "name": "stdout",
     "output_type": "stream",
     "text": [
      "Fitting 3 folds for each of 300 candidates, totalling 900 fits\n"
     ]
    },
    {
     "data": {
      "text/plain": "RandomizedSearchCV(cv=3, estimator=CategoricalNB(), n_iter=300, n_jobs=-1,\n                   param_distributions={'alpha': <scipy.stats._distn_infrastructure.rv_continuous_frozen object at 0x2afd0eca0>},\n                   scoring=make_scorer(f1_score, average=macro), verbose=1)",
      "text/html": "<style>#sk-container-id-3 {color: black;}#sk-container-id-3 pre{padding: 0;}#sk-container-id-3 div.sk-toggleable {background-color: white;}#sk-container-id-3 label.sk-toggleable__label {cursor: pointer;display: block;width: 100%;margin-bottom: 0;padding: 0.3em;box-sizing: border-box;text-align: center;}#sk-container-id-3 label.sk-toggleable__label-arrow:before {content: \"▸\";float: left;margin-right: 0.25em;color: #696969;}#sk-container-id-3 label.sk-toggleable__label-arrow:hover:before {color: black;}#sk-container-id-3 div.sk-estimator:hover label.sk-toggleable__label-arrow:before {color: black;}#sk-container-id-3 div.sk-toggleable__content {max-height: 0;max-width: 0;overflow: hidden;text-align: left;background-color: #f0f8ff;}#sk-container-id-3 div.sk-toggleable__content pre {margin: 0.2em;color: black;border-radius: 0.25em;background-color: #f0f8ff;}#sk-container-id-3 input.sk-toggleable__control:checked~div.sk-toggleable__content {max-height: 200px;max-width: 100%;overflow: auto;}#sk-container-id-3 input.sk-toggleable__control:checked~label.sk-toggleable__label-arrow:before {content: \"▾\";}#sk-container-id-3 div.sk-estimator input.sk-toggleable__control:checked~label.sk-toggleable__label {background-color: #d4ebff;}#sk-container-id-3 div.sk-label input.sk-toggleable__control:checked~label.sk-toggleable__label {background-color: #d4ebff;}#sk-container-id-3 input.sk-hidden--visually {border: 0;clip: rect(1px 1px 1px 1px);clip: rect(1px, 1px, 1px, 1px);height: 1px;margin: -1px;overflow: hidden;padding: 0;position: absolute;width: 1px;}#sk-container-id-3 div.sk-estimator {font-family: monospace;background-color: #f0f8ff;border: 1px dotted black;border-radius: 0.25em;box-sizing: border-box;margin-bottom: 0.5em;}#sk-container-id-3 div.sk-estimator:hover {background-color: #d4ebff;}#sk-container-id-3 div.sk-parallel-item::after {content: \"\";width: 100%;border-bottom: 1px solid gray;flex-grow: 1;}#sk-container-id-3 div.sk-label:hover label.sk-toggleable__label {background-color: #d4ebff;}#sk-container-id-3 div.sk-serial::before {content: \"\";position: absolute;border-left: 1px solid gray;box-sizing: border-box;top: 0;bottom: 0;left: 50%;z-index: 0;}#sk-container-id-3 div.sk-serial {display: flex;flex-direction: column;align-items: center;background-color: white;padding-right: 0.2em;padding-left: 0.2em;position: relative;}#sk-container-id-3 div.sk-item {position: relative;z-index: 1;}#sk-container-id-3 div.sk-parallel {display: flex;align-items: stretch;justify-content: center;background-color: white;position: relative;}#sk-container-id-3 div.sk-item::before, #sk-container-id-3 div.sk-parallel-item::before {content: \"\";position: absolute;border-left: 1px solid gray;box-sizing: border-box;top: 0;bottom: 0;left: 50%;z-index: -1;}#sk-container-id-3 div.sk-parallel-item {display: flex;flex-direction: column;z-index: 1;position: relative;background-color: white;}#sk-container-id-3 div.sk-parallel-item:first-child::after {align-self: flex-end;width: 50%;}#sk-container-id-3 div.sk-parallel-item:last-child::after {align-self: flex-start;width: 50%;}#sk-container-id-3 div.sk-parallel-item:only-child::after {width: 0;}#sk-container-id-3 div.sk-dashed-wrapped {border: 1px dashed gray;margin: 0 0.4em 0.5em 0.4em;box-sizing: border-box;padding-bottom: 0.4em;background-color: white;}#sk-container-id-3 div.sk-label label {font-family: monospace;font-weight: bold;display: inline-block;line-height: 1.2em;}#sk-container-id-3 div.sk-label-container {text-align: center;}#sk-container-id-3 div.sk-container {/* jupyter's `normalize.less` sets `[hidden] { display: none; }` but bootstrap.min.css set `[hidden] { display: none !important; }` so we also need the `!important` here to be able to override the default hidden behavior on the sphinx rendered scikit-learn.org. See: https://github.com/scikit-learn/scikit-learn/issues/21755 */display: inline-block !important;position: relative;}#sk-container-id-3 div.sk-text-repr-fallback {display: none;}</style><div id=\"sk-container-id-3\" class=\"sk-top-container\"><div class=\"sk-text-repr-fallback\"><pre>RandomizedSearchCV(cv=3, estimator=CategoricalNB(), n_iter=300, n_jobs=-1,\n                   param_distributions={&#x27;alpha&#x27;: &lt;scipy.stats._distn_infrastructure.rv_continuous_frozen object at 0x2afd0eca0&gt;},\n                   scoring=make_scorer(f1_score, average=macro), verbose=1)</pre><b>In a Jupyter environment, please rerun this cell to show the HTML representation or trust the notebook. <br />On GitHub, the HTML representation is unable to render, please try loading this page with nbviewer.org.</b></div><div class=\"sk-container\" hidden><div class=\"sk-item sk-dashed-wrapped\"><div class=\"sk-label-container\"><div class=\"sk-label sk-toggleable\"><input class=\"sk-toggleable__control sk-hidden--visually\" id=\"sk-estimator-id-3\" type=\"checkbox\" ><label for=\"sk-estimator-id-3\" class=\"sk-toggleable__label sk-toggleable__label-arrow\">RandomizedSearchCV</label><div class=\"sk-toggleable__content\"><pre>RandomizedSearchCV(cv=3, estimator=CategoricalNB(), n_iter=300, n_jobs=-1,\n                   param_distributions={&#x27;alpha&#x27;: &lt;scipy.stats._distn_infrastructure.rv_continuous_frozen object at 0x2afd0eca0&gt;},\n                   scoring=make_scorer(f1_score, average=macro), verbose=1)</pre></div></div></div><div class=\"sk-parallel\"><div class=\"sk-parallel-item\"><div class=\"sk-item\"><div class=\"sk-label-container\"><div class=\"sk-label sk-toggleable\"><input class=\"sk-toggleable__control sk-hidden--visually\" id=\"sk-estimator-id-4\" type=\"checkbox\" ><label for=\"sk-estimator-id-4\" class=\"sk-toggleable__label sk-toggleable__label-arrow\">estimator: CategoricalNB</label><div class=\"sk-toggleable__content\"><pre>CategoricalNB()</pre></div></div></div><div class=\"sk-serial\"><div class=\"sk-item\"><div class=\"sk-estimator sk-toggleable\"><input class=\"sk-toggleable__control sk-hidden--visually\" id=\"sk-estimator-id-5\" type=\"checkbox\" ><label for=\"sk-estimator-id-5\" class=\"sk-toggleable__label sk-toggleable__label-arrow\">CategoricalNB</label><div class=\"sk-toggleable__content\"><pre>CategoricalNB()</pre></div></div></div></div></div></div></div></div></div></div>"
     },
     "execution_count": 33,
     "metadata": {},
     "output_type": "execute_result"
    }
   ],
   "source": [
    "from sklearn.model_selection import RandomizedSearchCV\n",
    "import scipy\n",
    "from sklearn.metrics import make_scorer, f1_score\n",
    "\n",
    "clf = CategoricalNB()\n",
    "params_space = {\n",
    "    \"alpha\": scipy.stats.expon(scale=0.05),\n",
    "}\n",
    "\n",
    "f1_scorer = make_scorer(f1_score, average=\"macro\")\n",
    "\n",
    "rs = RandomizedSearchCV(clf, params_space, cv = 3, verbose =1,n_jobs=-1, n_iter=300, scoring = f1_scorer)\n",
    "\n",
    "rs.fit(train_features_LE, train_labels_list)"
   ],
   "metadata": {
    "collapsed": false,
    "ExecuteTime": {
     "end_time": "2024-03-13T13:11:33.631359Z",
     "start_time": "2024-03-13T13:11:20.593054Z"
    }
   },
   "id": "cbfd922ce3806382"
  },
  {
   "cell_type": "code",
   "execution_count": 34,
   "outputs": [
    {
     "name": "stdout",
     "output_type": "stream",
     "text": [
      "best params: {'alpha': 8.507183650312988e-05}\n",
      "best CV score: 0.9617850152106532\n"
     ]
    }
   ],
   "source": [
    "# crf = rs.best_estimator_\n",
    "print('best params:', rs.best_params_)\n",
    "print('best CV score:', rs.best_score_)\n",
    "clf = rs.best_estimator_"
   ],
   "metadata": {
    "collapsed": false,
    "ExecuteTime": {
     "end_time": "2024-03-13T13:11:33.631828Z",
     "start_time": "2024-03-13T13:11:33.621400Z"
    }
   },
   "id": "b12879e92b7c69c2"
  },
  {
   "cell_type": "code",
   "execution_count": 35,
   "outputs": [
    {
     "name": "stdout",
     "output_type": "stream",
     "text": [
      "------ INTERLEAVED ------\n",
      "                precision    recall  f1-score   support\n",
      "\n",
      "  Activity End       0.80      1.00      0.89        37\n",
      "Activity Start       1.00      1.00      1.00        37\n",
      "      NoAction       1.00      0.99      1.00      1239\n",
      "\n",
      "      accuracy                           0.99      1313\n",
      "     macro avg       0.93      1.00      0.96      1313\n",
      "  weighted avg       0.99      0.99      0.99      1313\n"
     ]
    }
   ],
   "source": [
    "from sklearn.metrics import classification_report\n",
    "\n",
    "def evaluate(model, X, y): \n",
    "    pred = model.predict(X)\n",
    "    print(classification_report(y, pred))\n",
    "    \n",
    "#print(\"------  Test Data  ------\")\n",
    "#evaluate(clf, X_test, y_test)\n",
    "print(\"------ INTERLEAVED ------\")\n",
    "evaluate(clf, test_features_LE, test_labels_list)"
   ],
   "metadata": {
    "collapsed": false,
    "ExecuteTime": {
     "end_time": "2024-03-13T13:11:33.676749Z",
     "start_time": "2024-03-13T13:11:33.625623Z"
    }
   },
   "id": "721026840248187d"
  },
  {
   "cell_type": "markdown",
   "source": [
    "#### XGBoost"
   ],
   "metadata": {
    "collapsed": false
   },
   "id": "d94db2dd2d273177"
  },
  {
   "cell_type": "code",
   "execution_count": 36,
   "outputs": [],
   "source": [
    "df_train_cat = df_train_filt[cols].astype('category')"
   ],
   "metadata": {
    "collapsed": false,
    "ExecuteTime": {
     "end_time": "2024-03-13T13:11:33.995397Z",
     "start_time": "2024-03-13T13:11:33.666657Z"
    }
   },
   "id": "ccba07a9d7709a0"
  },
  {
   "cell_type": "code",
   "execution_count": 37,
   "outputs": [
    {
     "data": {
      "text/plain": "XGBClassifier(base_score=None, booster=None, callbacks=None,\n              colsample_bylevel=None, colsample_bynode=None,\n              colsample_bytree=None, device=None, early_stopping_rounds=None,\n              enable_categorical=True, eval_metric=None, feature_types=None,\n              gamma=None, grow_policy=None, importance_type=None,\n              interaction_constraints=None, learning_rate=1, max_bin=None,\n              max_cat_threshold=None, max_cat_to_onehot=None,\n              max_delta_step=None, max_depth=3, max_leaves=None,\n              min_child_weight=None, missing=nan, monotone_constraints=None,\n              multi_strategy=None, n_estimators=10, n_jobs=None,\n              num_parallel_tree=None, objective='multi:softprob', ...)",
      "text/html": "<style>#sk-container-id-4 {color: black;}#sk-container-id-4 pre{padding: 0;}#sk-container-id-4 div.sk-toggleable {background-color: white;}#sk-container-id-4 label.sk-toggleable__label {cursor: pointer;display: block;width: 100%;margin-bottom: 0;padding: 0.3em;box-sizing: border-box;text-align: center;}#sk-container-id-4 label.sk-toggleable__label-arrow:before {content: \"▸\";float: left;margin-right: 0.25em;color: #696969;}#sk-container-id-4 label.sk-toggleable__label-arrow:hover:before {color: black;}#sk-container-id-4 div.sk-estimator:hover label.sk-toggleable__label-arrow:before {color: black;}#sk-container-id-4 div.sk-toggleable__content {max-height: 0;max-width: 0;overflow: hidden;text-align: left;background-color: #f0f8ff;}#sk-container-id-4 div.sk-toggleable__content pre {margin: 0.2em;color: black;border-radius: 0.25em;background-color: #f0f8ff;}#sk-container-id-4 input.sk-toggleable__control:checked~div.sk-toggleable__content {max-height: 200px;max-width: 100%;overflow: auto;}#sk-container-id-4 input.sk-toggleable__control:checked~label.sk-toggleable__label-arrow:before {content: \"▾\";}#sk-container-id-4 div.sk-estimator input.sk-toggleable__control:checked~label.sk-toggleable__label {background-color: #d4ebff;}#sk-container-id-4 div.sk-label input.sk-toggleable__control:checked~label.sk-toggleable__label {background-color: #d4ebff;}#sk-container-id-4 input.sk-hidden--visually {border: 0;clip: rect(1px 1px 1px 1px);clip: rect(1px, 1px, 1px, 1px);height: 1px;margin: -1px;overflow: hidden;padding: 0;position: absolute;width: 1px;}#sk-container-id-4 div.sk-estimator {font-family: monospace;background-color: #f0f8ff;border: 1px dotted black;border-radius: 0.25em;box-sizing: border-box;margin-bottom: 0.5em;}#sk-container-id-4 div.sk-estimator:hover {background-color: #d4ebff;}#sk-container-id-4 div.sk-parallel-item::after {content: \"\";width: 100%;border-bottom: 1px solid gray;flex-grow: 1;}#sk-container-id-4 div.sk-label:hover label.sk-toggleable__label {background-color: #d4ebff;}#sk-container-id-4 div.sk-serial::before {content: \"\";position: absolute;border-left: 1px solid gray;box-sizing: border-box;top: 0;bottom: 0;left: 50%;z-index: 0;}#sk-container-id-4 div.sk-serial {display: flex;flex-direction: column;align-items: center;background-color: white;padding-right: 0.2em;padding-left: 0.2em;position: relative;}#sk-container-id-4 div.sk-item {position: relative;z-index: 1;}#sk-container-id-4 div.sk-parallel {display: flex;align-items: stretch;justify-content: center;background-color: white;position: relative;}#sk-container-id-4 div.sk-item::before, #sk-container-id-4 div.sk-parallel-item::before {content: \"\";position: absolute;border-left: 1px solid gray;box-sizing: border-box;top: 0;bottom: 0;left: 50%;z-index: -1;}#sk-container-id-4 div.sk-parallel-item {display: flex;flex-direction: column;z-index: 1;position: relative;background-color: white;}#sk-container-id-4 div.sk-parallel-item:first-child::after {align-self: flex-end;width: 50%;}#sk-container-id-4 div.sk-parallel-item:last-child::after {align-self: flex-start;width: 50%;}#sk-container-id-4 div.sk-parallel-item:only-child::after {width: 0;}#sk-container-id-4 div.sk-dashed-wrapped {border: 1px dashed gray;margin: 0 0.4em 0.5em 0.4em;box-sizing: border-box;padding-bottom: 0.4em;background-color: white;}#sk-container-id-4 div.sk-label label {font-family: monospace;font-weight: bold;display: inline-block;line-height: 1.2em;}#sk-container-id-4 div.sk-label-container {text-align: center;}#sk-container-id-4 div.sk-container {/* jupyter's `normalize.less` sets `[hidden] { display: none; }` but bootstrap.min.css set `[hidden] { display: none !important; }` so we also need the `!important` here to be able to override the default hidden behavior on the sphinx rendered scikit-learn.org. See: https://github.com/scikit-learn/scikit-learn/issues/21755 */display: inline-block !important;position: relative;}#sk-container-id-4 div.sk-text-repr-fallback {display: none;}</style><div id=\"sk-container-id-4\" class=\"sk-top-container\"><div class=\"sk-text-repr-fallback\"><pre>XGBClassifier(base_score=None, booster=None, callbacks=None,\n              colsample_bylevel=None, colsample_bynode=None,\n              colsample_bytree=None, device=None, early_stopping_rounds=None,\n              enable_categorical=True, eval_metric=None, feature_types=None,\n              gamma=None, grow_policy=None, importance_type=None,\n              interaction_constraints=None, learning_rate=1, max_bin=None,\n              max_cat_threshold=None, max_cat_to_onehot=None,\n              max_delta_step=None, max_depth=3, max_leaves=None,\n              min_child_weight=None, missing=nan, monotone_constraints=None,\n              multi_strategy=None, n_estimators=10, n_jobs=None,\n              num_parallel_tree=None, objective=&#x27;multi:softprob&#x27;, ...)</pre><b>In a Jupyter environment, please rerun this cell to show the HTML representation or trust the notebook. <br />On GitHub, the HTML representation is unable to render, please try loading this page with nbviewer.org.</b></div><div class=\"sk-container\" hidden><div class=\"sk-item\"><div class=\"sk-estimator sk-toggleable\"><input class=\"sk-toggleable__control sk-hidden--visually\" id=\"sk-estimator-id-6\" type=\"checkbox\" checked><label for=\"sk-estimator-id-6\" class=\"sk-toggleable__label sk-toggleable__label-arrow\">XGBClassifier</label><div class=\"sk-toggleable__content\"><pre>XGBClassifier(base_score=None, booster=None, callbacks=None,\n              colsample_bylevel=None, colsample_bynode=None,\n              colsample_bytree=None, device=None, early_stopping_rounds=None,\n              enable_categorical=True, eval_metric=None, feature_types=None,\n              gamma=None, grow_policy=None, importance_type=None,\n              interaction_constraints=None, learning_rate=1, max_bin=None,\n              max_cat_threshold=None, max_cat_to_onehot=None,\n              max_delta_step=None, max_depth=3, max_leaves=None,\n              min_child_weight=None, missing=nan, monotone_constraints=None,\n              multi_strategy=None, n_estimators=10, n_jobs=None,\n              num_parallel_tree=None, objective=&#x27;multi:softprob&#x27;, ...)</pre></div></div></div></div></div>"
     },
     "execution_count": 37,
     "metadata": {},
     "output_type": "execute_result"
    }
   ],
   "source": [
    "from xgboost import XGBClassifier\n",
    "\n",
    "bst = XGBClassifier(n_estimators=10, max_depth=3, learning_rate=1, objective='binary:logistic',enable_categorical= True)\n",
    "\n",
    "LE = LabelEncoder()\n",
    "bst.fit(df_train_cat, LE.fit_transform(train_labels_list))"
   ],
   "metadata": {
    "collapsed": false,
    "ExecuteTime": {
     "end_time": "2024-03-13T13:11:34.000041Z",
     "start_time": "2024-03-13T13:11:33.692239Z"
    }
   },
   "id": "e28300a17b217f4a"
  },
  {
   "cell_type": "code",
   "execution_count": 38,
   "outputs": [
    {
     "name": "stdout",
     "output_type": "stream",
     "text": [
      "              precision    recall  f1-score   support\n",
      "\n",
      "           0       0.71      0.14      0.23        37\n",
      "           1       1.00      1.00      1.00        37\n",
      "           2       0.97      1.00      0.99      1239\n",
      "\n",
      "    accuracy                           0.97      1313\n",
      "   macro avg       0.90      0.71      0.74      1313\n",
      "weighted avg       0.97      0.97      0.97      1313\n"
     ]
    }
   ],
   "source": [
    "evaluate(bst, test_features_LE, LE.transform(test_labels_list))"
   ],
   "metadata": {
    "collapsed": false,
    "ExecuteTime": {
     "end_time": "2024-03-13T13:11:34.000275Z",
     "start_time": "2024-03-13T13:11:33.936416Z"
    }
   },
   "id": "1b345c4c106fb96"
  },
  {
   "cell_type": "markdown",
   "source": [
    "### Optimization"
   ],
   "metadata": {
    "collapsed": false
   },
   "id": "f5b9eb1c58112b03"
  },
  {
   "cell_type": "code",
   "execution_count": 39,
   "outputs": [],
   "source": [
    "from sklearn.metrics import make_scorer\n",
    "import scipy\n",
    "from sklearn.model_selection import RandomizedSearchCV\n",
    "from sklearn_crfsuite import metrics\n",
    "\n",
    "# define fixed parameters and parameters to search\n",
    "crf2 = sklearn_crfsuite.CRF(\n",
    "    algorithm='lbfgs', \n",
    "    max_iterations=200, \n",
    "    all_possible_transitions=True\n",
    ")\n",
    "params_space = {\n",
    "    'c1': scipy.stats.expon(scale=0.5),\n",
    "    'c2': scipy.stats.expon(scale=0.05),\n",
    "}\n",
    "\n",
    "# use the same metric for evaluation\n",
    "f1_scorer = make_scorer(metrics.flat_f1_score, \n",
    "                        average='macro', labels=np.unique(test_labels))\n",
    "\n",
    "# search\n",
    "rs = RandomizedSearchCV(crf, params_space, \n",
    "                        cv=5, \n",
    "                        verbose=1, \n",
    "                        n_jobs=-1, \n",
    "                        n_iter=150, \n",
    "                        scoring=f1_scorer)\n",
    "#rs.fit(train_features, train_labels)\n",
    "\n",
    "#crf = rs.best_estimator_"
   ],
   "metadata": {
    "collapsed": false,
    "ExecuteTime": {
     "end_time": "2024-03-13T13:11:34.000352Z",
     "start_time": "2024-03-13T13:11:33.944636Z"
    }
   },
   "id": "14bec2b77fb107d9"
  },
  {
   "cell_type": "markdown",
   "source": [
    "### Evaluation"
   ],
   "metadata": {
    "collapsed": false
   },
   "id": "69dd96cbeb352f78"
  },
  {
   "cell_type": "markdown",
   "source": [
    "#### CRF"
   ],
   "metadata": {
    "collapsed": false
   },
   "id": "c5ff515b45359969"
  },
  {
   "cell_type": "code",
   "execution_count": 40,
   "outputs": [],
   "source": [
    "from sklearn.metrics import multilabel_confusion_matrix\n",
    "from sklearn_crfsuite import metrics\n",
    "\n",
    "\n",
    "def flatten(xss):\n",
    "    return [x for xs in xss for x in xs]\n",
    "\n",
    "\n",
    "def evaluate(model, x, y_true):\n",
    "    y_pred = model.predict(x)\n",
    "    print(metrics.flat_f1_score(y_true, y_pred, average='macro', labels=model.classes_))\n",
    "    print(metrics.flat_classification_report(y_true, y_pred, model.classes_))\n",
    "    [print(label, \"\\n\", matrix) for matrix, label in\n",
    "     zip(multilabel_confusion_matrix(flatten(y_true), flatten(y_pred), labels=model.classes_), model.classes_)]\n"
   ],
   "metadata": {
    "collapsed": false,
    "ExecuteTime": {
     "end_time": "2024-03-13T13:11:34.000485Z",
     "start_time": "2024-03-13T13:11:33.953550Z"
    }
   },
   "id": "ec5f57cdddd3a1ac"
  },
  {
   "cell_type": "code",
   "execution_count": 41,
   "outputs": [
    {
     "name": "stdout",
     "output_type": "stream",
     "text": [
      "0.9608303595410767\n",
      "                precision    recall  f1-score   support\n",
      "\n",
      "Activity Start       1.00      1.00      1.00        37\n",
      "      NoAction       1.00      1.00      1.00      1239\n",
      "  Activity End       0.94      0.84      0.89        37\n",
      "\n",
      "      accuracy                           0.99      1313\n",
      "     macro avg       0.98      0.95      0.96      1313\n",
      "  weighted avg       0.99      0.99      0.99      1313\n",
      "\n",
      "Activity Start \n",
      " [[1276    0]\n",
      " [   0   37]]\n",
      "NoAction \n",
      " [[  68    6]\n",
      " [   2 1237]]\n",
      "Activity End \n",
      " [[1274    2]\n",
      " [   6   31]]\n"
     ]
    }
   ],
   "source": [
    "evaluate(crf, test_features, test_labels)"
   ],
   "metadata": {
    "collapsed": false,
    "ExecuteTime": {
     "end_time": "2024-03-13T13:11:34.001142Z",
     "start_time": "2024-03-13T13:11:33.957437Z"
    }
   },
   "id": "45bc3c515329882c"
  },
  {
   "cell_type": "code",
   "execution_count": 42,
   "outputs": [],
   "source": [
    "pred = crf.predict(test_features)"
   ],
   "metadata": {
    "collapsed": false,
    "ExecuteTime": {
     "end_time": "2024-03-13T13:11:34.001237Z",
     "start_time": "2024-03-13T13:11:33.992031Z"
    }
   },
   "id": "90381f179bed01ec"
  },
  {
   "cell_type": "code",
   "execution_count": 43,
   "outputs": [],
   "source": [
    "pred_mg = crf.predict_marginals(test_features)"
   ],
   "metadata": {
    "collapsed": false,
    "ExecuteTime": {
     "end_time": "2024-03-13T13:11:34.094399Z",
     "start_time": "2024-03-13T13:11:34.001181Z"
    }
   },
   "id": "b4e393fddea92c82"
  },
  {
   "cell_type": "code",
   "execution_count": 44,
   "outputs": [],
   "source": [
    "#margs = [pred_mg[i] for i in wrong_pred_idx]\n",
    "columns = pred_mg[0][0].keys()\n",
    "flat_margs = [[entry[column] for column in columns] for sublist in pred_mg for entry in sublist]\n",
    "df_margs = pd.DataFrame(flat_margs, columns=columns)"
   ],
   "metadata": {
    "collapsed": false,
    "ExecuteTime": {
     "end_time": "2024-03-13T13:11:34.095290Z",
     "start_time": "2024-03-13T13:11:34.005443Z"
    }
   },
   "id": "a963def031360d96"
  },
  {
   "cell_type": "code",
   "execution_count": 45,
   "outputs": [],
   "source": [
    "#df_eval = pd.DataFrame([(pred[i], test_labels[i], df_test.iloc[i][\"frame.number\"] ) for i in wrong_pred_idx],columns = [\"predicted\",\"true\",\"frame.number\"],)\n",
    "\n",
    "df_eval = pd.DataFrame({\"predicted\": pred, \"true\": test_labels, \"frame.number\":df_test[\"frame.number\"]}).reset_index(drop=True)\n",
    "\n",
    "df_eval = pd.concat([df_eval, df_margs], axis = 1)\n",
    "\n",
    "df_eval[\"pred_true\"] = df_eval[\"predicted\"] == df_eval[\"true\"]\n",
    "\n"
   ],
   "metadata": {
    "collapsed": false,
    "ExecuteTime": {
     "end_time": "2024-03-13T13:11:34.095377Z",
     "start_time": "2024-03-13T13:11:34.010547Z"
    }
   },
   "id": "191d12b5ca393c44"
  },
  {
   "cell_type": "code",
   "execution_count": 46,
   "outputs": [],
   "source": [
    "from scipy.stats import entropy\n",
    "\n",
    "entropy_cols = ['Activity Start', 'NoAction', 'Activity End']\n",
    "\n",
    "# Calculate entropy for each row using the specified columns\n",
    "df_eval[\"entropy\"] = df_eval[entropy_cols].apply(entropy, axis=1)\n"
   ],
   "metadata": {
    "collapsed": false,
    "ExecuteTime": {
     "end_time": "2024-03-13T13:11:34.159906Z",
     "start_time": "2024-03-13T13:11:34.025892Z"
    }
   },
   "id": "3a7fc79dec58261c"
  },
  {
   "cell_type": "code",
   "execution_count": 47,
   "outputs": [
    {
     "data": {
      "text/plain": "           predicted            true  frame.number  Activity Start  NoAction  \\\n126       [NoAction]  [Activity End]          2336        0.000312  0.533650   \n403       [NoAction]  [Activity End]          8044        0.000312  0.533650   \n471       [NoAction]  [Activity End]          9329        0.000312  0.533650   \n749       [NoAction]  [Activity End]         15350        0.000312  0.533650   \n983       [NoAction]  [Activity End]         20665        0.000312  0.533650   \n1013      [NoAction]  [Activity End]         21651        0.000192  0.711912   \n313   [Activity End]      [NoAction]          6266        0.000212  0.259278   \n1214  [Activity End]      [NoAction]         26182        0.000212  0.259278   \n\n      Activity End  pred_true   entropy  \n126       0.466037      False  0.693477  \n403       0.466037      False  0.693477  \n471       0.466037      False  0.693477  \n749       0.466037      False  0.693477  \n983       0.466037      False  0.693477  \n1013      0.287896      False  0.602024  \n313       0.740510      False  0.574246  \n1214      0.740510      False  0.574246  ",
      "text/html": "<div>\n<style scoped>\n    .dataframe tbody tr th:only-of-type {\n        vertical-align: middle;\n    }\n\n    .dataframe tbody tr th {\n        vertical-align: top;\n    }\n\n    .dataframe thead th {\n        text-align: right;\n    }\n</style>\n<table border=\"1\" class=\"dataframe\">\n  <thead>\n    <tr style=\"text-align: right;\">\n      <th></th>\n      <th>predicted</th>\n      <th>true</th>\n      <th>frame.number</th>\n      <th>Activity Start</th>\n      <th>NoAction</th>\n      <th>Activity End</th>\n      <th>pred_true</th>\n      <th>entropy</th>\n    </tr>\n  </thead>\n  <tbody>\n    <tr>\n      <th>126</th>\n      <td>[NoAction]</td>\n      <td>[Activity End]</td>\n      <td>2336</td>\n      <td>0.000312</td>\n      <td>0.533650</td>\n      <td>0.466037</td>\n      <td>False</td>\n      <td>0.693477</td>\n    </tr>\n    <tr>\n      <th>403</th>\n      <td>[NoAction]</td>\n      <td>[Activity End]</td>\n      <td>8044</td>\n      <td>0.000312</td>\n      <td>0.533650</td>\n      <td>0.466037</td>\n      <td>False</td>\n      <td>0.693477</td>\n    </tr>\n    <tr>\n      <th>471</th>\n      <td>[NoAction]</td>\n      <td>[Activity End]</td>\n      <td>9329</td>\n      <td>0.000312</td>\n      <td>0.533650</td>\n      <td>0.466037</td>\n      <td>False</td>\n      <td>0.693477</td>\n    </tr>\n    <tr>\n      <th>749</th>\n      <td>[NoAction]</td>\n      <td>[Activity End]</td>\n      <td>15350</td>\n      <td>0.000312</td>\n      <td>0.533650</td>\n      <td>0.466037</td>\n      <td>False</td>\n      <td>0.693477</td>\n    </tr>\n    <tr>\n      <th>983</th>\n      <td>[NoAction]</td>\n      <td>[Activity End]</td>\n      <td>20665</td>\n      <td>0.000312</td>\n      <td>0.533650</td>\n      <td>0.466037</td>\n      <td>False</td>\n      <td>0.693477</td>\n    </tr>\n    <tr>\n      <th>1013</th>\n      <td>[NoAction]</td>\n      <td>[Activity End]</td>\n      <td>21651</td>\n      <td>0.000192</td>\n      <td>0.711912</td>\n      <td>0.287896</td>\n      <td>False</td>\n      <td>0.602024</td>\n    </tr>\n    <tr>\n      <th>313</th>\n      <td>[Activity End]</td>\n      <td>[NoAction]</td>\n      <td>6266</td>\n      <td>0.000212</td>\n      <td>0.259278</td>\n      <td>0.740510</td>\n      <td>False</td>\n      <td>0.574246</td>\n    </tr>\n    <tr>\n      <th>1214</th>\n      <td>[Activity End]</td>\n      <td>[NoAction]</td>\n      <td>26182</td>\n      <td>0.000212</td>\n      <td>0.259278</td>\n      <td>0.740510</td>\n      <td>False</td>\n      <td>0.574246</td>\n    </tr>\n  </tbody>\n</table>\n</div>"
     },
     "execution_count": 47,
     "metadata": {},
     "output_type": "execute_result"
    }
   ],
   "source": [
    "df_eval[~ df_eval[\"pred_true\"]].sort_values(by='entropy', ascending=False)"
   ],
   "metadata": {
    "collapsed": false,
    "ExecuteTime": {
     "end_time": "2024-03-13T13:11:34.160583Z",
     "start_time": "2024-03-13T13:11:34.034465Z"
    }
   },
   "id": "f0ef00109c4bc1ba"
  },
  {
   "cell_type": "code",
   "execution_count": 48,
   "outputs": [],
   "source": [
    "eval_cols = [\"event_with_roles\",\"pgsql.query\", \"request_method_call\", \"selective_file_data\", \n",
    "        \"origin_method\",\"origin_file_data\"]\n",
    "\n",
    "df_eval = df_eval.merge(df_test[[\"frame.number\", *eval_cols]], how=\"left\",left_on=\"frame.number\", right_on=\"frame.number\")"
   ],
   "metadata": {
    "collapsed": false,
    "ExecuteTime": {
     "end_time": "2024-03-13T13:11:34.160853Z",
     "start_time": "2024-03-13T13:11:34.040734Z"
    }
   },
   "id": "85ca496858c26f9"
  },
  {
   "cell_type": "markdown",
   "source": [
    "We observe a high entropy > 0.5 for all wrong classifications\n",
    "\n",
    "-> Apply fallback model for this cases"
   ],
   "metadata": {
    "collapsed": false
   },
   "id": "b2bc8f3dfd034489"
  },
  {
   "cell_type": "markdown",
   "source": [
    "#### NB"
   ],
   "metadata": {
    "collapsed": false
   },
   "id": "32b9e33ed5e0bc55"
  },
  {
   "cell_type": "code",
   "execution_count": 49,
   "outputs": [],
   "source": [
    "pred = clf.predict(test_features_LE)"
   ],
   "metadata": {
    "collapsed": false,
    "ExecuteTime": {
     "end_time": "2024-03-13T13:11:34.160959Z",
     "start_time": "2024-03-13T13:11:34.044913Z"
    }
   },
   "id": "f896b45744441358"
  },
  {
   "cell_type": "code",
   "execution_count": 50,
   "outputs": [],
   "source": [
    "pred_mg = clf.predict_proba(test_features_LE)"
   ],
   "metadata": {
    "collapsed": false,
    "ExecuteTime": {
     "end_time": "2024-03-13T13:11:34.161050Z",
     "start_time": "2024-03-13T13:11:34.048429Z"
    }
   },
   "id": "e4f8051218d4480b"
  },
  {
   "cell_type": "code",
   "execution_count": 51,
   "outputs": [],
   "source": [
    "df_margs = pd.DataFrame(pred_mg, columns=clf.classes_)"
   ],
   "metadata": {
    "collapsed": false,
    "ExecuteTime": {
     "end_time": "2024-03-13T13:11:34.161130Z",
     "start_time": "2024-03-13T13:11:34.052796Z"
    }
   },
   "id": "a1b9ce69dbce203d"
  },
  {
   "cell_type": "code",
   "execution_count": 52,
   "outputs": [
    {
     "data": {
      "text/plain": "      Activity End  Activity Start      NoAction\n0     7.130387e-36    1.000000e+00  5.785738e-18\n1     1.960372e-23    6.924403e-16  1.000000e+00\n2     4.109396e-34    4.864234e-13  1.000000e+00\n3     1.547944e-35    1.857871e-21  1.000000e+00\n4     1.172857e-11    1.386913e-20  1.000000e+00\n...            ...             ...           ...\n1308  6.979605e-36    8.377050e-22  1.000000e+00\n1309  8.841824e-03    1.199641e-29  9.911582e-01\n1310  2.001431e-32    2.402154e-18  1.000000e+00\n1311  6.463639e-36    7.757779e-22  1.000000e+00\n1312  1.000000e+00    3.877456e-33  5.802134e-25\n\n[1313 rows x 3 columns]",
      "text/html": "<div>\n<style scoped>\n    .dataframe tbody tr th:only-of-type {\n        vertical-align: middle;\n    }\n\n    .dataframe tbody tr th {\n        vertical-align: top;\n    }\n\n    .dataframe thead th {\n        text-align: right;\n    }\n</style>\n<table border=\"1\" class=\"dataframe\">\n  <thead>\n    <tr style=\"text-align: right;\">\n      <th></th>\n      <th>Activity End</th>\n      <th>Activity Start</th>\n      <th>NoAction</th>\n    </tr>\n  </thead>\n  <tbody>\n    <tr>\n      <th>0</th>\n      <td>7.130387e-36</td>\n      <td>1.000000e+00</td>\n      <td>5.785738e-18</td>\n    </tr>\n    <tr>\n      <th>1</th>\n      <td>1.960372e-23</td>\n      <td>6.924403e-16</td>\n      <td>1.000000e+00</td>\n    </tr>\n    <tr>\n      <th>2</th>\n      <td>4.109396e-34</td>\n      <td>4.864234e-13</td>\n      <td>1.000000e+00</td>\n    </tr>\n    <tr>\n      <th>3</th>\n      <td>1.547944e-35</td>\n      <td>1.857871e-21</td>\n      <td>1.000000e+00</td>\n    </tr>\n    <tr>\n      <th>4</th>\n      <td>1.172857e-11</td>\n      <td>1.386913e-20</td>\n      <td>1.000000e+00</td>\n    </tr>\n    <tr>\n      <th>...</th>\n      <td>...</td>\n      <td>...</td>\n      <td>...</td>\n    </tr>\n    <tr>\n      <th>1308</th>\n      <td>6.979605e-36</td>\n      <td>8.377050e-22</td>\n      <td>1.000000e+00</td>\n    </tr>\n    <tr>\n      <th>1309</th>\n      <td>8.841824e-03</td>\n      <td>1.199641e-29</td>\n      <td>9.911582e-01</td>\n    </tr>\n    <tr>\n      <th>1310</th>\n      <td>2.001431e-32</td>\n      <td>2.402154e-18</td>\n      <td>1.000000e+00</td>\n    </tr>\n    <tr>\n      <th>1311</th>\n      <td>6.463639e-36</td>\n      <td>7.757779e-22</td>\n      <td>1.000000e+00</td>\n    </tr>\n    <tr>\n      <th>1312</th>\n      <td>1.000000e+00</td>\n      <td>3.877456e-33</td>\n      <td>5.802134e-25</td>\n    </tr>\n  </tbody>\n</table>\n<p>1313 rows × 3 columns</p>\n</div>"
     },
     "execution_count": 52,
     "metadata": {},
     "output_type": "execute_result"
    }
   ],
   "source": [
    "df_margs"
   ],
   "metadata": {
    "collapsed": false,
    "ExecuteTime": {
     "end_time": "2024-03-13T13:11:34.161425Z",
     "start_time": "2024-03-13T13:11:34.058426Z"
    }
   },
   "id": "4e5d973809e5553a"
  },
  {
   "cell_type": "code",
   "execution_count": 53,
   "outputs": [],
   "source": [
    "#df_eval = pd.DataFrame([(pred[i], test_labels[i], df_test.iloc[i][\"frame.number\"] ) for i in wrong_pred_idx],columns = [\"predicted\",\"true\",\"frame.number\"],)\n",
    "\n",
    "df_eval = pd.DataFrame({\"predicted\": pred, \"true\": test_labels_list, \"frame.number\":df_test[\"frame.number\"]}).reset_index(drop=True)\n",
    "\n",
    "df_eval = pd.concat([df_eval, df_margs], axis = 1)\n",
    "\n",
    "df_eval[\"pred_true\"] = df_eval[\"predicted\"] == df_eval[\"true\"]"
   ],
   "metadata": {
    "collapsed": false,
    "ExecuteTime": {
     "end_time": "2024-03-13T13:11:34.161590Z",
     "start_time": "2024-03-13T13:11:34.063521Z"
    }
   },
   "id": "fc299aac0461567e"
  },
  {
   "cell_type": "code",
   "execution_count": 54,
   "outputs": [],
   "source": [
    "from scipy.stats import entropy\n",
    "\n",
    "entropy_cols = ['Activity Start', 'NoAction', 'Activity End']\n",
    "\n",
    "# Calculate entropy for each row using the specified columns\n",
    "df_eval[\"entropy\"] = df_eval[entropy_cols].apply(entropy, axis=1)\n"
   ],
   "metadata": {
    "collapsed": false,
    "ExecuteTime": {
     "end_time": "2024-03-13T13:11:34.161669Z",
     "start_time": "2024-03-13T13:11:34.078279Z"
    }
   },
   "id": "1617c79f7561ffe5"
  },
  {
   "cell_type": "code",
   "execution_count": 55,
   "outputs": [
    {
     "data": {
      "text/plain": "         predicted          true  frame.number  Activity End  Activity Start  \\\n1131      NoAction      NoAction         24180      0.032334    3.185643e-25   \n1202      NoAction      NoAction         25739      0.032334    3.185643e-25   \n656       NoAction      NoAction         13602      0.014758    1.453987e-25   \n1150      NoAction      NoAction         24632      0.014758    1.453987e-25   \n896       NoAction      NoAction         18997      0.014758    1.453987e-25   \n...            ...           ...           ...           ...             ...   \n226   Activity End  Activity End          4461      1.000000    2.815668e-29   \n1267  Activity End  Activity End         27222      1.000000    2.815668e-29   \n311   Activity End  Activity End          6164      1.000000    2.815668e-29   \n64    Activity End  Activity End          1192      1.000000    2.815668e-29   \n1269  Activity End  Activity End         27235      1.000000    2.815668e-29   \n\n          NoAction  pred_true       entropy  \n1131  9.676665e-01       True  1.427625e-01  \n1202  9.676665e-01       True  1.427625e-01  \n656   9.852424e-01       True  7.686629e-02  \n1150  9.852424e-01       True  7.686629e-02  \n896   9.852424e-01       True  7.686629e-02  \n...            ...        ...           ...  \n226   4.329327e-25       True  2.428903e-23  \n1267  4.329327e-25       True  2.428903e-23  \n311   4.329327e-25       True  2.428903e-23  \n64    4.329327e-25       True  2.428903e-23  \n1269  4.329327e-25       True  2.428903e-23  \n\n[1313 rows x 8 columns]",
      "text/html": "<div>\n<style scoped>\n    .dataframe tbody tr th:only-of-type {\n        vertical-align: middle;\n    }\n\n    .dataframe tbody tr th {\n        vertical-align: top;\n    }\n\n    .dataframe thead th {\n        text-align: right;\n    }\n</style>\n<table border=\"1\" class=\"dataframe\">\n  <thead>\n    <tr style=\"text-align: right;\">\n      <th></th>\n      <th>predicted</th>\n      <th>true</th>\n      <th>frame.number</th>\n      <th>Activity End</th>\n      <th>Activity Start</th>\n      <th>NoAction</th>\n      <th>pred_true</th>\n      <th>entropy</th>\n    </tr>\n  </thead>\n  <tbody>\n    <tr>\n      <th>1131</th>\n      <td>NoAction</td>\n      <td>NoAction</td>\n      <td>24180</td>\n      <td>0.032334</td>\n      <td>3.185643e-25</td>\n      <td>9.676665e-01</td>\n      <td>True</td>\n      <td>1.427625e-01</td>\n    </tr>\n    <tr>\n      <th>1202</th>\n      <td>NoAction</td>\n      <td>NoAction</td>\n      <td>25739</td>\n      <td>0.032334</td>\n      <td>3.185643e-25</td>\n      <td>9.676665e-01</td>\n      <td>True</td>\n      <td>1.427625e-01</td>\n    </tr>\n    <tr>\n      <th>656</th>\n      <td>NoAction</td>\n      <td>NoAction</td>\n      <td>13602</td>\n      <td>0.014758</td>\n      <td>1.453987e-25</td>\n      <td>9.852424e-01</td>\n      <td>True</td>\n      <td>7.686629e-02</td>\n    </tr>\n    <tr>\n      <th>1150</th>\n      <td>NoAction</td>\n      <td>NoAction</td>\n      <td>24632</td>\n      <td>0.014758</td>\n      <td>1.453987e-25</td>\n      <td>9.852424e-01</td>\n      <td>True</td>\n      <td>7.686629e-02</td>\n    </tr>\n    <tr>\n      <th>896</th>\n      <td>NoAction</td>\n      <td>NoAction</td>\n      <td>18997</td>\n      <td>0.014758</td>\n      <td>1.453987e-25</td>\n      <td>9.852424e-01</td>\n      <td>True</td>\n      <td>7.686629e-02</td>\n    </tr>\n    <tr>\n      <th>...</th>\n      <td>...</td>\n      <td>...</td>\n      <td>...</td>\n      <td>...</td>\n      <td>...</td>\n      <td>...</td>\n      <td>...</td>\n      <td>...</td>\n    </tr>\n    <tr>\n      <th>226</th>\n      <td>Activity End</td>\n      <td>Activity End</td>\n      <td>4461</td>\n      <td>1.000000</td>\n      <td>2.815668e-29</td>\n      <td>4.329327e-25</td>\n      <td>True</td>\n      <td>2.428903e-23</td>\n    </tr>\n    <tr>\n      <th>1267</th>\n      <td>Activity End</td>\n      <td>Activity End</td>\n      <td>27222</td>\n      <td>1.000000</td>\n      <td>2.815668e-29</td>\n      <td>4.329327e-25</td>\n      <td>True</td>\n      <td>2.428903e-23</td>\n    </tr>\n    <tr>\n      <th>311</th>\n      <td>Activity End</td>\n      <td>Activity End</td>\n      <td>6164</td>\n      <td>1.000000</td>\n      <td>2.815668e-29</td>\n      <td>4.329327e-25</td>\n      <td>True</td>\n      <td>2.428903e-23</td>\n    </tr>\n    <tr>\n      <th>64</th>\n      <td>Activity End</td>\n      <td>Activity End</td>\n      <td>1192</td>\n      <td>1.000000</td>\n      <td>2.815668e-29</td>\n      <td>4.329327e-25</td>\n      <td>True</td>\n      <td>2.428903e-23</td>\n    </tr>\n    <tr>\n      <th>1269</th>\n      <td>Activity End</td>\n      <td>Activity End</td>\n      <td>27235</td>\n      <td>1.000000</td>\n      <td>2.815668e-29</td>\n      <td>4.329327e-25</td>\n      <td>True</td>\n      <td>2.428903e-23</td>\n    </tr>\n  </tbody>\n</table>\n<p>1313 rows × 8 columns</p>\n</div>"
     },
     "execution_count": 55,
     "metadata": {},
     "output_type": "execute_result"
    }
   ],
   "source": [
    "df_eval.sort_values(by='entropy', ascending=False)"
   ],
   "metadata": {
    "collapsed": false,
    "ExecuteTime": {
     "end_time": "2024-03-13T13:11:34.162044Z",
     "start_time": "2024-03-13T13:11:34.081961Z"
    }
   },
   "id": "77228df7ceab4729"
  },
  {
   "cell_type": "code",
   "execution_count": 56,
   "outputs": [],
   "source": [
    "eval_cols = [\"event_with_roles\",\"pgsql.query\", \"request_method_call\", \"selective_file_data\", \n",
    "        \"origin_method\",\"origin_file_data\"]\n",
    "\n",
    "df_eval = df_eval.merge(df_test[[\"frame.number\", *eval_cols]], how=\"left\",left_on=\"frame.number\", right_on=\"frame.number\")"
   ],
   "metadata": {
    "collapsed": false,
    "ExecuteTime": {
     "end_time": "2024-03-13T13:11:34.223458Z",
     "start_time": "2024-03-13T13:11:34.094624Z"
    }
   },
   "id": "4e0091818710eab8"
  },
  {
   "cell_type": "markdown",
   "source": [
    "#### XGBoost"
   ],
   "metadata": {
    "collapsed": false
   },
   "id": "f69566a5b616d959"
  },
  {
   "cell_type": "code",
   "execution_count": 57,
   "outputs": [
    {
     "data": {
      "text/plain": "      event_with_roles  request_method_call  selective_file_data  \\\n0                    0                    7                   28   \n1                    4                    6                   26   \n2                    0                    2                    0   \n3                   21                    0                    0   \n4                    4                    1                    1   \n...                ...                  ...                  ...   \n1308                28                    0                    0   \n1309                 5                    1                    1   \n1310                 3                    3                    3   \n1311                22                    0                    0   \n1312                 5                    4                    2   \n\n      origin_method  origin_file_data  \n0                 0                 0  \n1                 7                28  \n2                 0                 0  \n3                 0                 0  \n4                 2                 0  \n...             ...               ...  \n1308              0                 0  \n1309              3                14  \n1310              0                 0  \n1311              0                 0  \n1312              3                 3  \n\n[1313 rows x 5 columns]",
      "text/html": "<div>\n<style scoped>\n    .dataframe tbody tr th:only-of-type {\n        vertical-align: middle;\n    }\n\n    .dataframe tbody tr th {\n        vertical-align: top;\n    }\n\n    .dataframe thead th {\n        text-align: right;\n    }\n</style>\n<table border=\"1\" class=\"dataframe\">\n  <thead>\n    <tr style=\"text-align: right;\">\n      <th></th>\n      <th>event_with_roles</th>\n      <th>request_method_call</th>\n      <th>selective_file_data</th>\n      <th>origin_method</th>\n      <th>origin_file_data</th>\n    </tr>\n  </thead>\n  <tbody>\n    <tr>\n      <th>0</th>\n      <td>0</td>\n      <td>7</td>\n      <td>28</td>\n      <td>0</td>\n      <td>0</td>\n    </tr>\n    <tr>\n      <th>1</th>\n      <td>4</td>\n      <td>6</td>\n      <td>26</td>\n      <td>7</td>\n      <td>28</td>\n    </tr>\n    <tr>\n      <th>2</th>\n      <td>0</td>\n      <td>2</td>\n      <td>0</td>\n      <td>0</td>\n      <td>0</td>\n    </tr>\n    <tr>\n      <th>3</th>\n      <td>21</td>\n      <td>0</td>\n      <td>0</td>\n      <td>0</td>\n      <td>0</td>\n    </tr>\n    <tr>\n      <th>4</th>\n      <td>4</td>\n      <td>1</td>\n      <td>1</td>\n      <td>2</td>\n      <td>0</td>\n    </tr>\n    <tr>\n      <th>...</th>\n      <td>...</td>\n      <td>...</td>\n      <td>...</td>\n      <td>...</td>\n      <td>...</td>\n    </tr>\n    <tr>\n      <th>1308</th>\n      <td>28</td>\n      <td>0</td>\n      <td>0</td>\n      <td>0</td>\n      <td>0</td>\n    </tr>\n    <tr>\n      <th>1309</th>\n      <td>5</td>\n      <td>1</td>\n      <td>1</td>\n      <td>3</td>\n      <td>14</td>\n    </tr>\n    <tr>\n      <th>1310</th>\n      <td>3</td>\n      <td>3</td>\n      <td>3</td>\n      <td>0</td>\n      <td>0</td>\n    </tr>\n    <tr>\n      <th>1311</th>\n      <td>22</td>\n      <td>0</td>\n      <td>0</td>\n      <td>0</td>\n      <td>0</td>\n    </tr>\n    <tr>\n      <th>1312</th>\n      <td>5</td>\n      <td>4</td>\n      <td>2</td>\n      <td>3</td>\n      <td>3</td>\n    </tr>\n  </tbody>\n</table>\n<p>1313 rows × 5 columns</p>\n</div>"
     },
     "execution_count": 57,
     "metadata": {},
     "output_type": "execute_result"
    }
   ],
   "source": [
    "test_features_LE"
   ],
   "metadata": {
    "collapsed": false,
    "ExecuteTime": {
     "end_time": "2024-03-13T13:11:34.250527Z",
     "start_time": "2024-03-13T13:11:34.102974Z"
    }
   },
   "id": "8738a14e46fd7381"
  },
  {
   "cell_type": "code",
   "execution_count": 58,
   "outputs": [],
   "source": [
    "pred = bst.predict(test_features_LE)\n",
    "pred = LE.inverse_transform(pred)\n",
    "pred_mg = bst.predict_proba(test_features_LE)\n",
    "\n",
    "df_margs = pd.DataFrame(pred_mg, columns=LE.classes_)"
   ],
   "metadata": {
    "collapsed": false,
    "ExecuteTime": {
     "end_time": "2024-03-13T13:11:34.250756Z",
     "start_time": "2024-03-13T13:11:34.107115Z"
    }
   },
   "id": "bdfe7a1682ab1c04"
  },
  {
   "cell_type": "code",
   "execution_count": 59,
   "outputs": [
    {
     "data": {
      "text/plain": "array([ 0,  7, 28,  0,  0])"
     },
     "execution_count": 59,
     "metadata": {},
     "output_type": "execute_result"
    }
   ],
   "source": [
    "test_features_LE.values[0]"
   ],
   "metadata": {
    "collapsed": false,
    "ExecuteTime": {
     "end_time": "2024-03-13T13:11:34.250968Z",
     "start_time": "2024-03-13T13:11:34.113268Z"
    }
   },
   "id": "2518cf414c9f508e"
  },
  {
   "cell_type": "code",
   "execution_count": 60,
   "outputs": [
    {
     "data": {
      "text/plain": "      event_with_roles  request_method_call  selective_file_data  \\\n0                    0                    7                   28   \n1                    4                    6                   26   \n2                    0                    2                    0   \n3                   21                    0                    0   \n4                    4                    1                    1   \n...                ...                  ...                  ...   \n1308                28                    0                    0   \n1309                 5                    1                    1   \n1310                 3                    3                    3   \n1311                22                    0                    0   \n1312                 5                    4                    2   \n\n      origin_method  origin_file_data  \n0                 0                 0  \n1                 7                28  \n2                 0                 0  \n3                 0                 0  \n4                 2                 0  \n...             ...               ...  \n1308              0                 0  \n1309              3                14  \n1310              0                 0  \n1311              0                 0  \n1312              3                 3  \n\n[1313 rows x 5 columns]",
      "text/html": "<div>\n<style scoped>\n    .dataframe tbody tr th:only-of-type {\n        vertical-align: middle;\n    }\n\n    .dataframe tbody tr th {\n        vertical-align: top;\n    }\n\n    .dataframe thead th {\n        text-align: right;\n    }\n</style>\n<table border=\"1\" class=\"dataframe\">\n  <thead>\n    <tr style=\"text-align: right;\">\n      <th></th>\n      <th>event_with_roles</th>\n      <th>request_method_call</th>\n      <th>selective_file_data</th>\n      <th>origin_method</th>\n      <th>origin_file_data</th>\n    </tr>\n  </thead>\n  <tbody>\n    <tr>\n      <th>0</th>\n      <td>0</td>\n      <td>7</td>\n      <td>28</td>\n      <td>0</td>\n      <td>0</td>\n    </tr>\n    <tr>\n      <th>1</th>\n      <td>4</td>\n      <td>6</td>\n      <td>26</td>\n      <td>7</td>\n      <td>28</td>\n    </tr>\n    <tr>\n      <th>2</th>\n      <td>0</td>\n      <td>2</td>\n      <td>0</td>\n      <td>0</td>\n      <td>0</td>\n    </tr>\n    <tr>\n      <th>3</th>\n      <td>21</td>\n      <td>0</td>\n      <td>0</td>\n      <td>0</td>\n      <td>0</td>\n    </tr>\n    <tr>\n      <th>4</th>\n      <td>4</td>\n      <td>1</td>\n      <td>1</td>\n      <td>2</td>\n      <td>0</td>\n    </tr>\n    <tr>\n      <th>...</th>\n      <td>...</td>\n      <td>...</td>\n      <td>...</td>\n      <td>...</td>\n      <td>...</td>\n    </tr>\n    <tr>\n      <th>1308</th>\n      <td>28</td>\n      <td>0</td>\n      <td>0</td>\n      <td>0</td>\n      <td>0</td>\n    </tr>\n    <tr>\n      <th>1309</th>\n      <td>5</td>\n      <td>1</td>\n      <td>1</td>\n      <td>3</td>\n      <td>14</td>\n    </tr>\n    <tr>\n      <th>1310</th>\n      <td>3</td>\n      <td>3</td>\n      <td>3</td>\n      <td>0</td>\n      <td>0</td>\n    </tr>\n    <tr>\n      <th>1311</th>\n      <td>22</td>\n      <td>0</td>\n      <td>0</td>\n      <td>0</td>\n      <td>0</td>\n    </tr>\n    <tr>\n      <th>1312</th>\n      <td>5</td>\n      <td>4</td>\n      <td>2</td>\n      <td>3</td>\n      <td>3</td>\n    </tr>\n  </tbody>\n</table>\n<p>1313 rows × 5 columns</p>\n</div>"
     },
     "execution_count": 60,
     "metadata": {},
     "output_type": "execute_result"
    }
   ],
   "source": [
    "test_features_LE"
   ],
   "metadata": {
    "collapsed": false,
    "ExecuteTime": {
     "end_time": "2024-03-13T13:11:34.251356Z",
     "start_time": "2024-03-13T13:11:34.120191Z"
    }
   },
   "id": "dc5f488ae762da7f"
  },
  {
   "cell_type": "code",
   "execution_count": 61,
   "outputs": [],
   "source": [
    "pred_mg = bst.predict_proba([test_features_LE.iloc[0].values.tolist()])"
   ],
   "metadata": {
    "collapsed": false,
    "ExecuteTime": {
     "end_time": "2024-03-13T13:11:34.251445Z",
     "start_time": "2024-03-13T13:11:34.123508Z"
    }
   },
   "id": "5d336a05f5406334"
  },
  {
   "cell_type": "code",
   "execution_count": 62,
   "outputs": [],
   "source": [
    "#df_eval = pd.DataFrame([(pred[i], test_labels[i], df_test.iloc[i][\"frame.number\"] ) for i in wrong_pred_idx],columns = [\"predicted\",\"true\",\"frame.number\"],)\n",
    "\n",
    "df_eval = pd.DataFrame({\"predicted\": pred, \"true\": test_labels_list, \"frame.number\":df_test[\"frame.number\"]}).reset_index(drop=True)\n",
    "\n",
    "df_eval = pd.concat([df_eval, df_margs], axis = 1)\n",
    "\n",
    "df_eval[\"pred_true\"] = df_eval[\"predicted\"] == df_eval[\"true\"]"
   ],
   "metadata": {
    "collapsed": false,
    "ExecuteTime": {
     "end_time": "2024-03-13T13:11:34.251736Z",
     "start_time": "2024-03-13T13:11:34.128372Z"
    }
   },
   "id": "986dee0d51318ec2"
  },
  {
   "cell_type": "code",
   "execution_count": 63,
   "outputs": [],
   "source": [
    "from scipy.stats import entropy\n",
    "\n",
    "entropy_cols = ['Activity Start', 'NoAction', 'Activity End']\n",
    "\n",
    "# Calculate entropy for each row using the specified columns\n",
    "df_eval[\"entropy\"] = df_eval[entropy_cols].apply(entropy, axis=1)\n"
   ],
   "metadata": {
    "collapsed": false,
    "ExecuteTime": {
     "end_time": "2024-03-13T13:11:34.251812Z",
     "start_time": "2024-03-13T13:11:34.144675Z"
    }
   },
   "id": "af56edd2eea68f08"
  },
  {
   "cell_type": "code",
   "execution_count": 64,
   "outputs": [
    {
     "data": {
      "text/plain": "           predicted            true  frame.number  Activity End  \\\n774         NoAction        NoAction         16179      0.213764   \n1057        NoAction        NoAction         22720      0.213764   \n1123        NoAction        NoAction         23977      0.213764   \n358         NoAction        NoAction          7293      0.213764   \n405         NoAction        NoAction          8093      0.213764   \n...              ...             ...           ...           ...   \n75          NoAction        NoAction          1440      0.000017   \n719         NoAction        NoAction         14969      0.000017   \n1270  Activity Start  Activity Start         27306      0.000006   \n750   Activity Start  Activity Start         15377      0.000006   \n992   Activity Start  Activity Start         20928      0.000006   \n\n      Activity Start  NoAction  pred_true   entropy  \n774         0.121911  0.664325       True  0.858069  \n1057        0.121911  0.664325       True  0.858069  \n1123        0.121911  0.664325       True  0.858069  \n358         0.121911  0.664325       True  0.858069  \n405         0.121911  0.664325       True  0.858069  \n...              ...       ...        ...       ...  \n75          0.000015  0.999968       True  0.000382  \n719         0.000015  0.999968       True  0.000382  \n1270        0.999978  0.000016       True  0.000267  \n750         0.999978  0.000016       True  0.000267  \n992         0.999978  0.000016       True  0.000267  \n\n[1313 rows x 8 columns]",
      "text/html": "<div>\n<style scoped>\n    .dataframe tbody tr th:only-of-type {\n        vertical-align: middle;\n    }\n\n    .dataframe tbody tr th {\n        vertical-align: top;\n    }\n\n    .dataframe thead th {\n        text-align: right;\n    }\n</style>\n<table border=\"1\" class=\"dataframe\">\n  <thead>\n    <tr style=\"text-align: right;\">\n      <th></th>\n      <th>predicted</th>\n      <th>true</th>\n      <th>frame.number</th>\n      <th>Activity End</th>\n      <th>Activity Start</th>\n      <th>NoAction</th>\n      <th>pred_true</th>\n      <th>entropy</th>\n    </tr>\n  </thead>\n  <tbody>\n    <tr>\n      <th>774</th>\n      <td>NoAction</td>\n      <td>NoAction</td>\n      <td>16179</td>\n      <td>0.213764</td>\n      <td>0.121911</td>\n      <td>0.664325</td>\n      <td>True</td>\n      <td>0.858069</td>\n    </tr>\n    <tr>\n      <th>1057</th>\n      <td>NoAction</td>\n      <td>NoAction</td>\n      <td>22720</td>\n      <td>0.213764</td>\n      <td>0.121911</td>\n      <td>0.664325</td>\n      <td>True</td>\n      <td>0.858069</td>\n    </tr>\n    <tr>\n      <th>1123</th>\n      <td>NoAction</td>\n      <td>NoAction</td>\n      <td>23977</td>\n      <td>0.213764</td>\n      <td>0.121911</td>\n      <td>0.664325</td>\n      <td>True</td>\n      <td>0.858069</td>\n    </tr>\n    <tr>\n      <th>358</th>\n      <td>NoAction</td>\n      <td>NoAction</td>\n      <td>7293</td>\n      <td>0.213764</td>\n      <td>0.121911</td>\n      <td>0.664325</td>\n      <td>True</td>\n      <td>0.858069</td>\n    </tr>\n    <tr>\n      <th>405</th>\n      <td>NoAction</td>\n      <td>NoAction</td>\n      <td>8093</td>\n      <td>0.213764</td>\n      <td>0.121911</td>\n      <td>0.664325</td>\n      <td>True</td>\n      <td>0.858069</td>\n    </tr>\n    <tr>\n      <th>...</th>\n      <td>...</td>\n      <td>...</td>\n      <td>...</td>\n      <td>...</td>\n      <td>...</td>\n      <td>...</td>\n      <td>...</td>\n      <td>...</td>\n    </tr>\n    <tr>\n      <th>75</th>\n      <td>NoAction</td>\n      <td>NoAction</td>\n      <td>1440</td>\n      <td>0.000017</td>\n      <td>0.000015</td>\n      <td>0.999968</td>\n      <td>True</td>\n      <td>0.000382</td>\n    </tr>\n    <tr>\n      <th>719</th>\n      <td>NoAction</td>\n      <td>NoAction</td>\n      <td>14969</td>\n      <td>0.000017</td>\n      <td>0.000015</td>\n      <td>0.999968</td>\n      <td>True</td>\n      <td>0.000382</td>\n    </tr>\n    <tr>\n      <th>1270</th>\n      <td>Activity Start</td>\n      <td>Activity Start</td>\n      <td>27306</td>\n      <td>0.000006</td>\n      <td>0.999978</td>\n      <td>0.000016</td>\n      <td>True</td>\n      <td>0.000267</td>\n    </tr>\n    <tr>\n      <th>750</th>\n      <td>Activity Start</td>\n      <td>Activity Start</td>\n      <td>15377</td>\n      <td>0.000006</td>\n      <td>0.999978</td>\n      <td>0.000016</td>\n      <td>True</td>\n      <td>0.000267</td>\n    </tr>\n    <tr>\n      <th>992</th>\n      <td>Activity Start</td>\n      <td>Activity Start</td>\n      <td>20928</td>\n      <td>0.000006</td>\n      <td>0.999978</td>\n      <td>0.000016</td>\n      <td>True</td>\n      <td>0.000267</td>\n    </tr>\n  </tbody>\n</table>\n<p>1313 rows × 8 columns</p>\n</div>"
     },
     "execution_count": 64,
     "metadata": {},
     "output_type": "execute_result"
    }
   ],
   "source": [
    "df_eval.sort_values(by='entropy', ascending=False)"
   ],
   "metadata": {
    "collapsed": false,
    "ExecuteTime": {
     "end_time": "2024-03-13T13:11:34.252254Z",
     "start_time": "2024-03-13T13:11:34.147891Z"
    }
   },
   "id": "6b15a01d6f234533"
  },
  {
   "cell_type": "code",
   "execution_count": 65,
   "outputs": [],
   "source": [
    "# XGBoost Entropy Cutoff -> 0.6"
   ],
   "metadata": {
    "collapsed": false,
    "ExecuteTime": {
     "end_time": "2024-03-13T13:11:34.252334Z",
     "start_time": "2024-03-13T13:11:34.155020Z"
    }
   },
   "id": "d23fa557c2cc9e92"
  },
  {
   "cell_type": "markdown",
   "source": [
    "## Activity Classifier"
   ],
   "metadata": {
    "collapsed": false
   },
   "id": "5bdc70e88fa15243"
  },
  {
   "cell_type": "code",
   "execution_count": 66,
   "outputs": [],
   "source": [
    "def sequence_by_activities(data, seq_data):\n",
    "    return [data[seq_data == i] for i in range(seq_data.max())]"
   ],
   "metadata": {
    "collapsed": false,
    "ExecuteTime": {
     "end_time": "2024-03-13T13:11:34.260294Z",
     "start_time": "2024-03-13T13:11:34.158633Z"
    }
   },
   "id": "b44e957d2bdcfb89"
  },
  {
   "cell_type": "code",
   "execution_count": 67,
   "outputs": [],
   "source": [
    "feature_cols = [\"event_with_roles\", \"request_method_call\", \"selective_file_data\", \n",
    "        \"origin_method\",\"origin_file_data\"]\n"
   ],
   "metadata": {
    "collapsed": false,
    "ExecuteTime": {
     "end_time": "2024-03-13T13:11:34.428052Z",
     "start_time": "2024-03-13T13:11:34.161302Z"
    }
   },
   "id": "b1ac8b9bff822d33"
  },
  {
   "cell_type": "code",
   "execution_count": 68,
   "outputs": [],
   "source": [
    "# List of dataframes each containing one activity sequence\n",
    "train_activity_sequences = sequence_by_activities(df_train, df_train[\"SequenceNumber\"])"
   ],
   "metadata": {
    "collapsed": false,
    "ExecuteTime": {
     "end_time": "2024-03-13T13:11:34.822768Z",
     "start_time": "2024-03-13T13:11:34.163836Z"
    }
   },
   "id": "8ffa7762a6c25ea5"
  },
  {
   "cell_type": "code",
   "execution_count": 69,
   "outputs": [],
   "source": [
    "# Sequences without window features\n",
    "\n",
    "def dict_to_feature_sequence(dict):\n",
    "    return [{**d, \"bias\": 1.0} for d in dict]\n",
    "\n",
    "def df_to_features(df):\n",
    "    return dict_to_feature_sequence(df.to_dict(\"records\"))\n",
    "\n",
    "train_features_seq = [df_to_features(df[feature_cols]) for df in train_activity_sequences]\n",
    "train_labels_seq = [df[\"BusinessActivity\"].values for df in train_activity_sequences]"
   ],
   "metadata": {
    "collapsed": false,
    "ExecuteTime": {
     "end_time": "2024-03-13T13:11:34.996416Z",
     "start_time": "2024-03-13T13:11:34.612867Z"
    }
   },
   "id": "3042c5e6d3df8baf"
  },
  {
   "cell_type": "code",
   "execution_count": 70,
   "outputs": [],
   "source": [
    "# Single Events no window features \n",
    "\n",
    "def dict_to_feature(dict):\n",
    "    return [[{**d, \"bias\": 1.0}] for d in dict]\n",
    "\n",
    "def extract_labels(labels):\n",
    "    return [[y] for y in labels]\n",
    "\n",
    "train_features = dict_to_feature(df_train[feature_cols].to_dict(\"records\"))\n",
    "train_labels = extract_labels(df_train[\"BusinessActivity\"])"
   ],
   "metadata": {
    "collapsed": false,
    "ExecuteTime": {
     "end_time": "2024-03-13T13:11:35.088214Z",
     "start_time": "2024-03-13T13:11:35.031755Z"
    }
   },
   "id": "89e4cde60f1387a0"
  },
  {
   "cell_type": "code",
   "execution_count": 71,
   "outputs": [],
   "source": [
    "# Single Events w. window features\n",
    "\n",
    "# Apply sequencing - flatten later\n",
    "\n",
    "def seq2features(seq, bw, fw): \n",
    "    return [event2features(seq, i, bw, fw) for i in range(len(seq))]\n",
    "\n",
    "def event2features(seq, i, bw, fw):\n",
    "    features = {\"bias\": 1.0}\n",
    "    \n",
    "    features.update({\n",
    "        f\"0:{k}\": v for k,v in seq[i].items()\n",
    "    })\n",
    "    \n",
    "    for j in range(1, bw+1): \n",
    "        index = i-j\n",
    "        if index >= 0: \n",
    "            features.update({\n",
    "                f\"-{j}:{k}\": v for k,v in seq[index].items()\n",
    "            })\n",
    "        else: \n",
    "            features.update({\n",
    "                 f\"-{j}:{k}\": \"NoMessage\" for k,_ in seq[i].items()\n",
    "            })\n",
    "        \n",
    "    for j in range(1,fw+1): \n",
    "        index = i + j\n",
    "        if index < len(seq): \n",
    "             features.update({\n",
    "                f\"+{j}:{k}\": v for k,v in seq[index].items()\n",
    "            })\n",
    "        else: \n",
    "            features.update({\n",
    "                 f\"+{j}:{k}\": \"NoMessage\" for k,_ in seq[i].items()\n",
    "            })\n",
    "            \n",
    "    return features\n",
    "\n",
    "train_features_seq_window = [seq2features(seq[feature_cols].to_dict(\"records\"), 10,10) for seq in train_activity_sequences]\n",
    "train_labels_seq_window = [seq[\"BusinessActivity\"] for seq in train_activity_sequences]"
   ],
   "metadata": {
    "collapsed": false,
    "ExecuteTime": {
     "end_time": "2024-03-13T13:11:37.162323Z",
     "start_time": "2024-03-13T13:11:35.134053Z"
    }
   },
   "id": "78ee2c6fb44003d6"
  },
  {
   "cell_type": "code",
   "execution_count": 72,
   "outputs": [],
   "source": [
    "def flatten_and_encapsulate(list_of_list):\n",
    "    return [[item] for sublist in list_of_list for item in sublist]\n",
    "\n",
    "X_train = flatten_and_encapsulate(train_features_seq_window)\n",
    "y_train = flatten_and_encapsulate(train_labels_seq_window)"
   ],
   "metadata": {
    "collapsed": false,
    "ExecuteTime": {
     "end_time": "2024-03-13T13:11:37.189007Z",
     "start_time": "2024-03-13T13:11:37.174696Z"
    }
   },
   "id": "bac030bb3c5bc3d"
  },
  {
   "cell_type": "code",
   "execution_count": 73,
   "outputs": [
    {
     "name": "stdout",
     "output_type": "stream",
     "text": [
      "CPU times: user 13 s, sys: 81.9 ms, total: 13.1 s\n",
      "Wall time: 13.2 s\n"
     ]
    },
    {
     "data": {
      "text/plain": "CRF(all_possible_transitions=True, c1=0.1, c2=0.01, max_iterations=200)",
      "text/html": "<style>#sk-container-id-5 {color: black;}#sk-container-id-5 pre{padding: 0;}#sk-container-id-5 div.sk-toggleable {background-color: white;}#sk-container-id-5 label.sk-toggleable__label {cursor: pointer;display: block;width: 100%;margin-bottom: 0;padding: 0.3em;box-sizing: border-box;text-align: center;}#sk-container-id-5 label.sk-toggleable__label-arrow:before {content: \"▸\";float: left;margin-right: 0.25em;color: #696969;}#sk-container-id-5 label.sk-toggleable__label-arrow:hover:before {color: black;}#sk-container-id-5 div.sk-estimator:hover label.sk-toggleable__label-arrow:before {color: black;}#sk-container-id-5 div.sk-toggleable__content {max-height: 0;max-width: 0;overflow: hidden;text-align: left;background-color: #f0f8ff;}#sk-container-id-5 div.sk-toggleable__content pre {margin: 0.2em;color: black;border-radius: 0.25em;background-color: #f0f8ff;}#sk-container-id-5 input.sk-toggleable__control:checked~div.sk-toggleable__content {max-height: 200px;max-width: 100%;overflow: auto;}#sk-container-id-5 input.sk-toggleable__control:checked~label.sk-toggleable__label-arrow:before {content: \"▾\";}#sk-container-id-5 div.sk-estimator input.sk-toggleable__control:checked~label.sk-toggleable__label {background-color: #d4ebff;}#sk-container-id-5 div.sk-label input.sk-toggleable__control:checked~label.sk-toggleable__label {background-color: #d4ebff;}#sk-container-id-5 input.sk-hidden--visually {border: 0;clip: rect(1px 1px 1px 1px);clip: rect(1px, 1px, 1px, 1px);height: 1px;margin: -1px;overflow: hidden;padding: 0;position: absolute;width: 1px;}#sk-container-id-5 div.sk-estimator {font-family: monospace;background-color: #f0f8ff;border: 1px dotted black;border-radius: 0.25em;box-sizing: border-box;margin-bottom: 0.5em;}#sk-container-id-5 div.sk-estimator:hover {background-color: #d4ebff;}#sk-container-id-5 div.sk-parallel-item::after {content: \"\";width: 100%;border-bottom: 1px solid gray;flex-grow: 1;}#sk-container-id-5 div.sk-label:hover label.sk-toggleable__label {background-color: #d4ebff;}#sk-container-id-5 div.sk-serial::before {content: \"\";position: absolute;border-left: 1px solid gray;box-sizing: border-box;top: 0;bottom: 0;left: 50%;z-index: 0;}#sk-container-id-5 div.sk-serial {display: flex;flex-direction: column;align-items: center;background-color: white;padding-right: 0.2em;padding-left: 0.2em;position: relative;}#sk-container-id-5 div.sk-item {position: relative;z-index: 1;}#sk-container-id-5 div.sk-parallel {display: flex;align-items: stretch;justify-content: center;background-color: white;position: relative;}#sk-container-id-5 div.sk-item::before, #sk-container-id-5 div.sk-parallel-item::before {content: \"\";position: absolute;border-left: 1px solid gray;box-sizing: border-box;top: 0;bottom: 0;left: 50%;z-index: -1;}#sk-container-id-5 div.sk-parallel-item {display: flex;flex-direction: column;z-index: 1;position: relative;background-color: white;}#sk-container-id-5 div.sk-parallel-item:first-child::after {align-self: flex-end;width: 50%;}#sk-container-id-5 div.sk-parallel-item:last-child::after {align-self: flex-start;width: 50%;}#sk-container-id-5 div.sk-parallel-item:only-child::after {width: 0;}#sk-container-id-5 div.sk-dashed-wrapped {border: 1px dashed gray;margin: 0 0.4em 0.5em 0.4em;box-sizing: border-box;padding-bottom: 0.4em;background-color: white;}#sk-container-id-5 div.sk-label label {font-family: monospace;font-weight: bold;display: inline-block;line-height: 1.2em;}#sk-container-id-5 div.sk-label-container {text-align: center;}#sk-container-id-5 div.sk-container {/* jupyter's `normalize.less` sets `[hidden] { display: none; }` but bootstrap.min.css set `[hidden] { display: none !important; }` so we also need the `!important` here to be able to override the default hidden behavior on the sphinx rendered scikit-learn.org. See: https://github.com/scikit-learn/scikit-learn/issues/21755 */display: inline-block !important;position: relative;}#sk-container-id-5 div.sk-text-repr-fallback {display: none;}</style><div id=\"sk-container-id-5\" class=\"sk-top-container\"><div class=\"sk-text-repr-fallback\"><pre>CRF(all_possible_transitions=True, c1=0.1, c2=0.01, max_iterations=200)</pre><b>In a Jupyter environment, please rerun this cell to show the HTML representation or trust the notebook. <br />On GitHub, the HTML representation is unable to render, please try loading this page with nbviewer.org.</b></div><div class=\"sk-container\" hidden><div class=\"sk-item\"><div class=\"sk-estimator sk-toggleable\"><input class=\"sk-toggleable__control sk-hidden--visually\" id=\"sk-estimator-id-7\" type=\"checkbox\" checked><label for=\"sk-estimator-id-7\" class=\"sk-toggleable__label sk-toggleable__label-arrow\">CRF</label><div class=\"sk-toggleable__content\"><pre>CRF(all_possible_transitions=True, c1=0.1, c2=0.01, max_iterations=200)</pre></div></div></div></div></div>"
     },
     "execution_count": 73,
     "metadata": {},
     "output_type": "execute_result"
    }
   ],
   "source": [
    "%%time\n",
    "import sklearn_crfsuite\n",
    "\n",
    "activity_classifier= sklearn_crfsuite.CRF(\n",
    "    max_iterations=200,\n",
    "    c1=0.1,\n",
    "    c2=0.01,\n",
    "    all_possible_transitions=True\n",
    "    #all_possible_transitions=True\n",
    ")\n",
    "activity_classifier.fit(X_train, y_train)"
   ],
   "metadata": {
    "collapsed": false,
    "ExecuteTime": {
     "end_time": "2024-03-13T13:11:50.411147Z",
     "start_time": "2024-03-13T13:11:37.177189Z"
    }
   },
   "id": "7f293eb4aefb36b4"
  },
  {
   "cell_type": "code",
   "execution_count": 74,
   "outputs": [],
   "source": [
    "def confidence_weighted_majority_voting(predictions):\n",
    "    \"\"\"\n",
    "    Perform confidence-weighted majority voting on each sublist of predictions.\n",
    "\n",
    "    :param predictions: A list of dictionaries where each dictionary contains predictions and their confidences.\n",
    "    :return: A list of majority voted predictions for each sublist.\n",
    "    \"\"\"\n",
    "    majority_voted_predictions = []\n",
    "    for sublist in predictions:\n",
    "        if not sublist:\n",
    "            # If the sublist is empty, append None to the majority voted predictions\n",
    "            majority_voted_predictions.append(None)\n",
    "        else:\n",
    "            # Initialize variables to store cumulative confidences for each prediction\n",
    "            cumulative_confidences = {label: 0.0 for label in sublist[0].keys()}\n",
    "            \n",
    "            # Calculate cumulative confidences for each prediction across all dictionaries in the sublist\n",
    "            for prediction_dict in sublist:\n",
    "                for label, confidence in prediction_dict.items():\n",
    "                    cumulative_confidences[label] += confidence\n",
    "            \n",
    "            # Find the prediction with the maximum cumulative confidence\n",
    "            majority_voted_prediction = max(cumulative_confidences, key=cumulative_confidences.get)\n",
    "            majority_voted_predictions.append(majority_voted_prediction)\n",
    "\n",
    "    return majority_voted_predictions"
   ],
   "metadata": {
    "collapsed": false,
    "ExecuteTime": {
     "end_time": "2024-03-13T13:11:50.464122Z",
     "start_time": "2024-03-13T13:11:50.409959Z"
    }
   },
   "id": "77fad433b8e22ba5"
  },
  {
   "cell_type": "markdown",
   "source": [
    "## Activity Model\n",
    "The activity model utilises multiple sliding windows over the training data for pattern matching\n",
    "\n"
   ],
   "metadata": {
    "collapsed": false
   },
   "id": "c44ba4a1e5a9b0d6"
  },
  {
   "cell_type": "code",
   "execution_count": 75,
   "outputs": [
    {
     "name": "stdout",
     "output_type": "stream",
     "text": [
      "Reduced the number of sequences from 932 to 26 unique ones\n"
     ]
    }
   ],
   "source": [
    "from sklearn.preprocessing import LabelEncoder\n",
    "from numpy.lib.stride_tricks import sliding_window_view\n",
    "\n",
    "\n",
    "def get_unique_sequences(seq_data):\n",
    "    # Convert each array to a tuple and create a set of tuples\n",
    "    array_set = set(tuple(arr) for arr in seq_data)\n",
    "\n",
    "    # Convert the set of tuples back to a list of NumPy arrays\n",
    "    return [np.array(arr) for arr in array_set]\n",
    "\n",
    "\n",
    "df_train[\"joined\"] = df_train[\"event_with_roles\"] + df_train[\"selective_file_data\"]\n",
    "\n",
    "# Label Encode Training Data \n",
    "le = LabelEncoder()\n",
    "df_train[\"joined_LE\"] = le.fit_transform(df_train[\"joined\"])\n",
    "\n",
    "# Mark groups of Instance Number and BusinessActivity with sequence numbers\n",
    "df_train = df_train.sort_values(by=[\"InstanceNumber\", \"BusinessActivity\", \"frame.number\"])\n",
    "df_train[\"SequenceNumber\"] = df_train.groupby([\"BusinessActivity\", \"InstanceNumber\"]).ngroup()\n",
    "# Align Sequence Numbers so that they start at 0\n",
    "df_train[\"SequenceNumber\"] -= df_train['SequenceNumber'].min()\n",
    "\n",
    "# Divides dataframe into arrays according to to Sequence Data Indicator\n",
    "data_joined_LE = sequence_by_activities(df_train[\"joined_LE\"], df_train[\"SequenceNumber\"])\n",
    "\n",
    "unique_sequences = get_unique_sequences(data_joined_LE)\n",
    "\n",
    "print(f\"Reduced the number of sequences from {len(data_joined_LE)} to {len(unique_sequences)} unique ones\")\n",
    "\n",
    "def get_activity_model_data(max_window_length):\n",
    "    return [np.concatenate([sliding_window_view(seq, i) for seq in unique_sequences], axis=0) for i in\n",
    "                       range(max_window_length)]\n",
    "    \n",
    "\n",
    "# form sliding window sequences of Size N for Training Data \n",
    "#activity_model_data = get_activity_model_data(4)"
   ],
   "metadata": {
    "collapsed": false,
    "ExecuteTime": {
     "end_time": "2024-03-13T13:11:50.658339Z",
     "start_time": "2024-03-13T13:11:50.414462Z"
    }
   },
   "id": "bc0282a2386f9d98"
  },
  {
   "cell_type": "markdown",
   "source": [
    "# Action Loop\n",
    "\n",
    "Main loop. Gets raw R1 data as input. \n",
    "Applies filtering, activity action and sequence classification"
   ],
   "metadata": {
    "collapsed": false
   },
   "id": "cd4922a5f25b0f9d"
  },
  {
   "cell_type": "code",
   "execution_count": 76,
   "outputs": [],
   "source": [
    "records = df_il_in.to_dict(\"records\")"
   ],
   "metadata": {
    "collapsed": false,
    "ExecuteTime": {
     "end_time": "2024-03-13T13:11:50.915592Z",
     "start_time": "2024-03-13T13:11:50.579950Z"
    }
   },
   "id": "e79d8e1cbb43d45d"
  },
  {
   "cell_type": "code",
   "execution_count": 77,
   "outputs": [],
   "source": [
    "from event_loop.event import Event\n",
    "\n",
    "\n",
    "def get_max_from_dict(d: dict):\n",
    "    return max(d, key= lambda k: d[k])\n",
    "    \n",
    "\n",
    "def classify_event(event: Event): \n",
    "    #margs = crf.predict_marginals_single([event.to_features()])[0]\n",
    "    margs = bst.predict_proba([event.to_feature_list()])\n",
    "    \n",
    "    pred = get_max_from_dict(margs)\n",
    "    \n",
    "    e = entropy([p for p in margs.values()])\n",
    "    \n",
    "    #print(f\"{event.frame_number} {pred} {margs[pred]:.3f} {e:.3f},\")\n",
    "    \n",
    "    \n",
    "    true_val = df_eval[df_eval[\"frame.number\"] == event.frame_number][\"true\"].iloc[0][0]\n",
    "    #print(true_val)\n",
    "    \n",
    "    # Change to entropy of prediction\n",
    "    if e > ENTROPY_THRESHOLD: \n",
    "    #if pred != true_val:\n",
    "        # If pred is wrong we have two options for \"wrong classifications\" \n",
    "        # 1 -> We have No Action predicted although the stack should end here \n",
    "        # Idea 1: If the stack did not change after N events, emit it. \n",
    "        \n",
    "        # Mark the confidence on the event.\n",
    "        event.confidence = False \n",
    "\n",
    "\n",
    "        # 2 -> We have End predicted although the stack should continue. \n",
    "        if pred != true_val:\n",
    "            print(f\"False {event.frame_number} {pred} {margs[pred]:.3f} {e:.3f} should be {true_val}\")\n",
    "       \n",
    "        event.activity_action = pred\n",
    "            \n",
    "    else: \n",
    "        event.confidence = True\n",
    "        event.activity_action = pred"
   ],
   "metadata": {
    "collapsed": false,
    "ExecuteTime": {
     "end_time": "2024-03-13T13:11:50.921930Z",
     "start_time": "2024-03-13T13:11:50.918050Z"
    }
   },
   "id": "f8e7e7ea369bce9a"
  },
  {
   "cell_type": "code",
   "execution_count": 78,
   "outputs": [],
   "source": [
    "from event_loop.stack import Stack\n",
    "\n",
    "\n",
    "def search_stack_for_request_frame(frame_number):\n",
    "    for index, stack in enumerate(stacks):\n",
    "        if stack.contains_request_frame(frame_number): \n",
    "            return index\n",
    "    return -1\n",
    "\n",
    "def search_window_for_sequence(seq): \n",
    "    \"\"\"\n",
    "    Check for pattern matches with the training data and return the count\n",
    "    :param seq: array_like\n",
    "                sequence of events\n",
    "            \n",
    "    :return: number of occurences of seq in training data\n",
    "    \"\"\"\n",
    "    return np.sum(np.all(activity_model_data[len(seq)] == seq, axis = 1))\n",
    "\n",
    "\n",
    "def classify_by_train_sequences(event: Event,n : int, exclude_indices: list[int]): \n",
    "    # search for existing stacks in training data \n",
    "    sequences = [le.transform([ e.to_activity_model_string() for e in stack]+[event.to_activity_model_string()]) for stack in stacks]  \n",
    "    \n",
    "    # loop to max 2 elements down\n",
    "    for i in range(n, 1, -1):   \n",
    "        res = [search_window_for_sequence(seq[-i:]) if j not in exclude_indices else -1 for j,seq in enumerate(sequences)]\n",
    "        \n",
    "        max_res = max(res)\n",
    "        max_res_count = res.count(max_res)\n",
    "        idx = np.argmax(res)\n",
    "        \n",
    "        if max_res > 0: \n",
    "            #print(\"res:\",res, max_res, max_res_count, \"->\", idx)\n",
    "            return idx\n",
    "        \n",
    "    return -1\n",
    "\n",
    "def search_stream_index(event: Event, exclude_indices: list[int]) -> int: \n",
    "    indices = [i for i,stack in enumerate(stacks) if stack.contains_stream_index(event.stream_index) and i not in exclude_indices]\n",
    "\n",
    "    if len(indices) == 1: \n",
    "        return indices[0]\n",
    "    else:\n",
    "        return -1\n",
    "    \n",
    "\n",
    "def check_stack_attributes(stacks: list[Stack], event: Event, exclude_indices: list[int]) -> int:\n",
    "    for key, value in event.attributes.items():\n",
    "        if key in PTP_ATTRIBUTES and value:\n",
    "            indices = [i for i, stack in enumerate(stacks) if stack.contains_attribute(key,value) and i not in exclude_indices]\n",
    "            print()\n",
    "            \n",
    "            if len(indices) ==1: \n",
    "                print(\"MATCH\", indices)\n",
    "                # we have a clear match -> return idx\n",
    "                return indices[0]\n",
    "\n",
    "    return -1\n",
    "\n",
    "def check_stack_attributes_case_id(stacks: list[Stack], event: Event, exclude_indices: list[int]) -> int:\n",
    "    for key, value in event.attributes.items():\n",
    "        if key in PTP_ATTRIBUTES and value:\n",
    "            indices = [i for i, stack in enumerate(stacks) if stack.case_id == Stack.case_id_from_attribute(key, value)]\n",
    "            \n",
    "            if len(indices) ==1: \n",
    "                # we have a clear match -> return idx\n",
    "                return indices[0]\n",
    "\n",
    "    return -1\n",
    "\n",
    "\n",
    "def exclude_stacks_by_attribute(stacks: list[Stack], event: Event, stacks_out: list[Stack]) -> list[int]: \n",
    "    \n",
    "    exclude_indices = []\n",
    "\n",
    "        \n",
    "    for key, value in event.attributes.items():\n",
    "        if key in PTP_ATTRIBUTES and value:\n",
    "            # exlucde all stacks that have a different attribute \n",
    "            exclude_indices.extend(i for i, stack in enumerate(stacks) if stack.has_attribute(key) and not stack.contains_attribute(key, value))\n",
    "    return exclude_indices\n",
    "\n",
    "def exclude_stacks_by_attribute_case_id(stacks: list[Stack], event: Event, stacks_out: list[Stack]) -> list[int]: \n",
    "    \n",
    "    exclude_indices = []\n",
    "\n",
    "    for key, value in event.attributes.items():\n",
    "        if key in PTP_ATTRIBUTES and value:\n",
    "            # exclude all stacks that have a different attribute \n",
    "            # \n",
    "            for i, stack in enumerate(stacks): \n",
    "                event_case_id = Stack.case_id_from_attribute(key, value)\n",
    "                if event_case_id and stack.case_id and event_case_id != stack.case_id: \n",
    "                    exclude_indices.append(i)\n",
    "            #exclude_indices.extend(i for i, stack in enumerate(stacks) if Stack.case_id_from_attribute(key, value) != stack.case_id and stack.case_id)\n",
    "    return exclude_indices"
   ],
   "metadata": {
    "collapsed": false,
    "ExecuteTime": {
     "end_time": "2024-03-13T13:11:50.958949Z",
     "start_time": "2024-03-13T13:11:50.929130Z"
    }
   },
   "id": "37e38f9c27e4092c"
  },
  {
   "cell_type": "code",
   "execution_count": 79,
   "outputs": [
    {
     "ename": "XGBoostError",
     "evalue": "[14:11:50] /Users/runner/work/xgboost/xgboost/src/c_api/../data/array_interface.h:492: Unicode-8 is not supported.\nStack trace:\n  [bt] (0) 1   libxgboost.dylib                    0x00000002b23d4994 dmlc::LogMessageFatal::~LogMessageFatal() + 124\n  [bt] (1) 2   libxgboost.dylib                    0x00000002b23e6aec xgboost::ArrayInterface<2, false>::AssignType(xgboost::StringView) + 1272\n  [bt] (2) 3   libxgboost.dylib                    0x00000002b23e625c xgboost::ArrayInterface<2, false>::Initialize(std::__1::map<std::__1::basic_string<char, std::__1::char_traits<char>, std::__1::allocator<char>>, xgboost::Json, std::__1::less<void>, std::__1::allocator<std::__1::pair<std::__1::basic_string<char, std::__1::char_traits<char>, std::__1::allocator<char>> const, xgboost::Json>>> const&) + 156\n  [bt] (3) 4   libxgboost.dylib                    0x00000002b24d571c xgboost::data::ArrayAdapter::ArrayAdapter(xgboost::StringView) + 148\n  [bt] (4) 5   libxgboost.dylib                    0x00000002b24d552c xgboost::data::DMatrixProxy::SetArrayData(xgboost::StringView) + 76\n  [bt] (5) 6   libxgboost.dylib                    0x00000002b23f8a58 XGBoosterPredictFromDense + 388\n  [bt] (6) 7   libffi.dylib                        0x0000000194e9f050 ffi_call_SYSV + 80\n  [bt] (7) 8   libffi.dylib                        0x0000000194ea7adc ffi_call_int + 1208\n  [bt] (8) 9   _ctypes.cpython-39-darwin.so        0x0000000100af33ec PyInit__ctypes + 25288\n\n",
     "output_type": "error",
     "traceback": [
      "\u001B[0;31m---------------------------------------------------------------------------\u001B[0m",
      "\u001B[0;31mXGBoostError\u001B[0m                              Traceback (most recent call last)",
      "Cell \u001B[0;32mIn[79], line 52\u001B[0m\n\u001B[1;32m     49\u001B[0m event_buffer\u001B[38;5;241m.\u001B[39mappend(event)\n\u001B[1;32m     51\u001B[0m \u001B[38;5;66;03m# Activity Action Classification\u001B[39;00m\n\u001B[0;32m---> 52\u001B[0m \u001B[43mclassify_event\u001B[49m\u001B[43m(\u001B[49m\u001B[43mevent\u001B[49m\u001B[43m)\u001B[49m\n\u001B[1;32m     53\u001B[0m activity_action \u001B[38;5;241m=\u001B[39m event\u001B[38;5;241m.\u001B[39mactivity_action\n\u001B[1;32m     55\u001B[0m \u001B[38;5;66;03m# Activity Matching\u001B[39;00m\n",
      "Cell \u001B[0;32mIn[77], line 10\u001B[0m, in \u001B[0;36mclassify_event\u001B[0;34m(event)\u001B[0m\n\u001B[1;32m      8\u001B[0m \u001B[38;5;28;01mdef\u001B[39;00m \u001B[38;5;21mclassify_event\u001B[39m(event: Event): \n\u001B[1;32m      9\u001B[0m     \u001B[38;5;66;03m#margs = crf.predict_marginals_single([event.to_features()])[0]\u001B[39;00m\n\u001B[0;32m---> 10\u001B[0m     margs \u001B[38;5;241m=\u001B[39m \u001B[43mbst\u001B[49m\u001B[38;5;241;43m.\u001B[39;49m\u001B[43mpredict_proba\u001B[49m\u001B[43m(\u001B[49m\u001B[43m[\u001B[49m\u001B[43mevent\u001B[49m\u001B[38;5;241;43m.\u001B[39;49m\u001B[43mto_feature_list\u001B[49m\u001B[43m(\u001B[49m\u001B[43m)\u001B[49m\u001B[43m]\u001B[49m\u001B[43m)\u001B[49m\n\u001B[1;32m     12\u001B[0m     pred \u001B[38;5;241m=\u001B[39m get_max_from_dict(margs)\n\u001B[1;32m     14\u001B[0m     e \u001B[38;5;241m=\u001B[39m entropy([p \u001B[38;5;28;01mfor\u001B[39;00m p \u001B[38;5;129;01min\u001B[39;00m margs\u001B[38;5;241m.\u001B[39mvalues()])\n",
      "File \u001B[0;32m~/git/master_thesis/nw_event_abstraction/venv/lib/python3.9/site-packages/xgboost/sklearn.py:1632\u001B[0m, in \u001B[0;36mXGBClassifier.predict_proba\u001B[0;34m(self, X, validate_features, base_margin, iteration_range)\u001B[0m\n\u001B[1;32m   1630\u001B[0m     class_prob \u001B[38;5;241m=\u001B[39m softmax(raw_predt, axis\u001B[38;5;241m=\u001B[39m\u001B[38;5;241m1\u001B[39m)\n\u001B[1;32m   1631\u001B[0m     \u001B[38;5;28;01mreturn\u001B[39;00m class_prob\n\u001B[0;32m-> 1632\u001B[0m class_probs \u001B[38;5;241m=\u001B[39m \u001B[38;5;28;43msuper\u001B[39;49m\u001B[43m(\u001B[49m\u001B[43m)\u001B[49m\u001B[38;5;241;43m.\u001B[39;49m\u001B[43mpredict\u001B[49m\u001B[43m(\u001B[49m\n\u001B[1;32m   1633\u001B[0m \u001B[43m    \u001B[49m\u001B[43mX\u001B[49m\u001B[38;5;241;43m=\u001B[39;49m\u001B[43mX\u001B[49m\u001B[43m,\u001B[49m\n\u001B[1;32m   1634\u001B[0m \u001B[43m    \u001B[49m\u001B[43mvalidate_features\u001B[49m\u001B[38;5;241;43m=\u001B[39;49m\u001B[43mvalidate_features\u001B[49m\u001B[43m,\u001B[49m\n\u001B[1;32m   1635\u001B[0m \u001B[43m    \u001B[49m\u001B[43mbase_margin\u001B[49m\u001B[38;5;241;43m=\u001B[39;49m\u001B[43mbase_margin\u001B[49m\u001B[43m,\u001B[49m\n\u001B[1;32m   1636\u001B[0m \u001B[43m    \u001B[49m\u001B[43miteration_range\u001B[49m\u001B[38;5;241;43m=\u001B[39;49m\u001B[43miteration_range\u001B[49m\u001B[43m,\u001B[49m\n\u001B[1;32m   1637\u001B[0m \u001B[43m\u001B[49m\u001B[43m)\u001B[49m\n\u001B[1;32m   1638\u001B[0m \u001B[38;5;28;01mreturn\u001B[39;00m _cls_predict_proba(\u001B[38;5;28mself\u001B[39m\u001B[38;5;241m.\u001B[39mn_classes_, class_probs, np\u001B[38;5;241m.\u001B[39mvstack)\n",
      "File \u001B[0;32m~/git/master_thesis/nw_event_abstraction/venv/lib/python3.9/site-packages/xgboost/sklearn.py:1168\u001B[0m, in \u001B[0;36mXGBModel.predict\u001B[0;34m(self, X, output_margin, validate_features, base_margin, iteration_range)\u001B[0m\n\u001B[1;32m   1166\u001B[0m \u001B[38;5;28;01mif\u001B[39;00m \u001B[38;5;28mself\u001B[39m\u001B[38;5;241m.\u001B[39m_can_use_inplace_predict():\n\u001B[1;32m   1167\u001B[0m     \u001B[38;5;28;01mtry\u001B[39;00m:\n\u001B[0;32m-> 1168\u001B[0m         predts \u001B[38;5;241m=\u001B[39m \u001B[38;5;28;43mself\u001B[39;49m\u001B[38;5;241;43m.\u001B[39;49m\u001B[43mget_booster\u001B[49m\u001B[43m(\u001B[49m\u001B[43m)\u001B[49m\u001B[38;5;241;43m.\u001B[39;49m\u001B[43minplace_predict\u001B[49m\u001B[43m(\u001B[49m\n\u001B[1;32m   1169\u001B[0m \u001B[43m            \u001B[49m\u001B[43mdata\u001B[49m\u001B[38;5;241;43m=\u001B[39;49m\u001B[43mX\u001B[49m\u001B[43m,\u001B[49m\n\u001B[1;32m   1170\u001B[0m \u001B[43m            \u001B[49m\u001B[43miteration_range\u001B[49m\u001B[38;5;241;43m=\u001B[39;49m\u001B[43miteration_range\u001B[49m\u001B[43m,\u001B[49m\n\u001B[1;32m   1171\u001B[0m \u001B[43m            \u001B[49m\u001B[43mpredict_type\u001B[49m\u001B[38;5;241;43m=\u001B[39;49m\u001B[38;5;124;43m\"\u001B[39;49m\u001B[38;5;124;43mmargin\u001B[39;49m\u001B[38;5;124;43m\"\u001B[39;49m\u001B[43m \u001B[49m\u001B[38;5;28;43;01mif\u001B[39;49;00m\u001B[43m \u001B[49m\u001B[43moutput_margin\u001B[49m\u001B[43m \u001B[49m\u001B[38;5;28;43;01melse\u001B[39;49;00m\u001B[43m \u001B[49m\u001B[38;5;124;43m\"\u001B[39;49m\u001B[38;5;124;43mvalue\u001B[39;49m\u001B[38;5;124;43m\"\u001B[39;49m\u001B[43m,\u001B[49m\n\u001B[1;32m   1172\u001B[0m \u001B[43m            \u001B[49m\u001B[43mmissing\u001B[49m\u001B[38;5;241;43m=\u001B[39;49m\u001B[38;5;28;43mself\u001B[39;49m\u001B[38;5;241;43m.\u001B[39;49m\u001B[43mmissing\u001B[49m\u001B[43m,\u001B[49m\n\u001B[1;32m   1173\u001B[0m \u001B[43m            \u001B[49m\u001B[43mbase_margin\u001B[49m\u001B[38;5;241;43m=\u001B[39;49m\u001B[43mbase_margin\u001B[49m\u001B[43m,\u001B[49m\n\u001B[1;32m   1174\u001B[0m \u001B[43m            \u001B[49m\u001B[43mvalidate_features\u001B[49m\u001B[38;5;241;43m=\u001B[39;49m\u001B[43mvalidate_features\u001B[49m\u001B[43m,\u001B[49m\n\u001B[1;32m   1175\u001B[0m \u001B[43m        \u001B[49m\u001B[43m)\u001B[49m\n\u001B[1;32m   1176\u001B[0m         \u001B[38;5;28;01mif\u001B[39;00m _is_cupy_array(predts):\n\u001B[1;32m   1177\u001B[0m             \u001B[38;5;28;01mimport\u001B[39;00m \u001B[38;5;21;01mcupy\u001B[39;00m  \u001B[38;5;66;03m# pylint: disable=import-error\u001B[39;00m\n",
      "File \u001B[0;32m~/git/master_thesis/nw_event_abstraction/venv/lib/python3.9/site-packages/xgboost/core.py:2437\u001B[0m, in \u001B[0;36mBooster.inplace_predict\u001B[0;34m(self, data, iteration_range, predict_type, missing, validate_features, base_margin, strict_shape)\u001B[0m\n\u001B[1;32m   2434\u001B[0m     \u001B[38;5;28;01mfrom\u001B[39;00m \u001B[38;5;21;01m.\u001B[39;00m\u001B[38;5;21;01mdata\u001B[39;00m \u001B[38;5;28;01mimport\u001B[39;00m _ensure_np_dtype\n\u001B[1;32m   2436\u001B[0m     data, _ \u001B[38;5;241m=\u001B[39m _ensure_np_dtype(data, data\u001B[38;5;241m.\u001B[39mdtype)\n\u001B[0;32m-> 2437\u001B[0m     \u001B[43m_check_call\u001B[49m\u001B[43m(\u001B[49m\n\u001B[1;32m   2438\u001B[0m \u001B[43m        \u001B[49m\u001B[43m_LIB\u001B[49m\u001B[38;5;241;43m.\u001B[39;49m\u001B[43mXGBoosterPredictFromDense\u001B[49m\u001B[43m(\u001B[49m\n\u001B[1;32m   2439\u001B[0m \u001B[43m            \u001B[49m\u001B[38;5;28;43mself\u001B[39;49m\u001B[38;5;241;43m.\u001B[39;49m\u001B[43mhandle\u001B[49m\u001B[43m,\u001B[49m\n\u001B[1;32m   2440\u001B[0m \u001B[43m            \u001B[49m\u001B[43m_array_interface\u001B[49m\u001B[43m(\u001B[49m\u001B[43mdata\u001B[49m\u001B[43m)\u001B[49m\u001B[43m,\u001B[49m\n\u001B[1;32m   2441\u001B[0m \u001B[43m            \u001B[49m\u001B[43margs\u001B[49m\u001B[43m,\u001B[49m\n\u001B[1;32m   2442\u001B[0m \u001B[43m            \u001B[49m\u001B[43mp_handle\u001B[49m\u001B[43m,\u001B[49m\n\u001B[1;32m   2443\u001B[0m \u001B[43m            \u001B[49m\u001B[43mctypes\u001B[49m\u001B[38;5;241;43m.\u001B[39;49m\u001B[43mbyref\u001B[49m\u001B[43m(\u001B[49m\u001B[43mshape\u001B[49m\u001B[43m)\u001B[49m\u001B[43m,\u001B[49m\n\u001B[1;32m   2444\u001B[0m \u001B[43m            \u001B[49m\u001B[43mctypes\u001B[49m\u001B[38;5;241;43m.\u001B[39;49m\u001B[43mbyref\u001B[49m\u001B[43m(\u001B[49m\u001B[43mdims\u001B[49m\u001B[43m)\u001B[49m\u001B[43m,\u001B[49m\n\u001B[1;32m   2445\u001B[0m \u001B[43m            \u001B[49m\u001B[43mctypes\u001B[49m\u001B[38;5;241;43m.\u001B[39;49m\u001B[43mbyref\u001B[49m\u001B[43m(\u001B[49m\u001B[43mpreds\u001B[49m\u001B[43m)\u001B[49m\u001B[43m,\u001B[49m\n\u001B[1;32m   2446\u001B[0m \u001B[43m        \u001B[49m\u001B[43m)\u001B[49m\n\u001B[1;32m   2447\u001B[0m \u001B[43m    \u001B[49m\u001B[43m)\u001B[49m\n\u001B[1;32m   2448\u001B[0m     \u001B[38;5;28;01mreturn\u001B[39;00m _prediction_output(shape, dims, preds, \u001B[38;5;28;01mFalse\u001B[39;00m)\n\u001B[1;32m   2449\u001B[0m \u001B[38;5;28;01mif\u001B[39;00m \u001B[38;5;28misinstance\u001B[39m(data, scipy\u001B[38;5;241m.\u001B[39msparse\u001B[38;5;241m.\u001B[39mcsr_matrix):\n",
      "File \u001B[0;32m~/git/master_thesis/nw_event_abstraction/venv/lib/python3.9/site-packages/xgboost/core.py:282\u001B[0m, in \u001B[0;36m_check_call\u001B[0;34m(ret)\u001B[0m\n\u001B[1;32m    271\u001B[0m \u001B[38;5;250m\u001B[39m\u001B[38;5;124;03m\"\"\"Check the return value of C API call\u001B[39;00m\n\u001B[1;32m    272\u001B[0m \n\u001B[1;32m    273\u001B[0m \u001B[38;5;124;03mThis function will raise exception when error occurs.\u001B[39;00m\n\u001B[0;32m   (...)\u001B[0m\n\u001B[1;32m    279\u001B[0m \u001B[38;5;124;03m    return value from API calls\u001B[39;00m\n\u001B[1;32m    280\u001B[0m \u001B[38;5;124;03m\"\"\"\u001B[39;00m\n\u001B[1;32m    281\u001B[0m \u001B[38;5;28;01mif\u001B[39;00m ret \u001B[38;5;241m!=\u001B[39m \u001B[38;5;241m0\u001B[39m:\n\u001B[0;32m--> 282\u001B[0m     \u001B[38;5;28;01mraise\u001B[39;00m XGBoostError(py_str(_LIB\u001B[38;5;241m.\u001B[39mXGBGetLastError()))\n",
      "\u001B[0;31mXGBoostError\u001B[0m: [14:11:50] /Users/runner/work/xgboost/xgboost/src/c_api/../data/array_interface.h:492: Unicode-8 is not supported.\nStack trace:\n  [bt] (0) 1   libxgboost.dylib                    0x00000002b23d4994 dmlc::LogMessageFatal::~LogMessageFatal() + 124\n  [bt] (1) 2   libxgboost.dylib                    0x00000002b23e6aec xgboost::ArrayInterface<2, false>::AssignType(xgboost::StringView) + 1272\n  [bt] (2) 3   libxgboost.dylib                    0x00000002b23e625c xgboost::ArrayInterface<2, false>::Initialize(std::__1::map<std::__1::basic_string<char, std::__1::char_traits<char>, std::__1::allocator<char>>, xgboost::Json, std::__1::less<void>, std::__1::allocator<std::__1::pair<std::__1::basic_string<char, std::__1::char_traits<char>, std::__1::allocator<char>> const, xgboost::Json>>> const&) + 156\n  [bt] (3) 4   libxgboost.dylib                    0x00000002b24d571c xgboost::data::ArrayAdapter::ArrayAdapter(xgboost::StringView) + 148\n  [bt] (4) 5   libxgboost.dylib                    0x00000002b24d552c xgboost::data::DMatrixProxy::SetArrayData(xgboost::StringView) + 76\n  [bt] (5) 6   libxgboost.dylib                    0x00000002b23f8a58 XGBoosterPredictFromDense + 388\n  [bt] (6) 7   libffi.dylib                        0x0000000194e9f050 ffi_call_SYSV + 80\n  [bt] (7) 8   libffi.dylib                        0x0000000194ea7adc ffi_call_int + 1208\n  [bt] (8) 9   _ctypes.cpython-39-darwin.so        0x0000000100af33ec PyInit__ctypes + 25288\n\n"
     ]
    }
   ],
   "source": [
    "from event_loop.preprocessing.event import keep_event\n",
    "%autoreload 2\n",
    "\n",
    "\n",
    "\n",
    "# Parameter\n",
    "EVENT_LOOP_CUTOFF_NO_ACTION = 3\n",
    "EVENT_LOOP_CUTOFF_END_EVENT = 3\n",
    "ENTROPY_THRESHOLD = 0.4 #0.5\n",
    "MAX_WINDOW_SIZE = 10\n",
    "VERBOSE = False\n",
    "SETTING = \"HR\"\n",
    "\n",
    "# init variables\n",
    "event_buffer: list[Event] = []\n",
    "attribute_buffer: list[dict] = []\n",
    "stacks: list[Stack] = []\n",
    "stacks_out: list[Stack] = []\n",
    "event_loop_index = 0\n",
    "\n",
    "\n",
    "# TODO Change config to something like this:\n",
    "config_dict = {\n",
    "    \"PTP\": {\n",
    "        \"1to1\" : [\"applicant_id\", \"activity_id\"],\n",
    "        \"1toN\": [\"mail_id\"]\n",
    "    }\n",
    "}\n",
    "\n",
    "HR_ATTRIBUTES = [\"applicant_id\", \"activity_id\"]\n",
    "PTP_ATTRIBUTES = [\"sale_order_id\", \"sale_order_line_id\",\"purchase_requisition_id\",\"purchase_requisition_line_id\",]\n",
    "\n",
    "\n",
    "activity_model_data = get_activity_model_data(MAX_WINDOW_SIZE)\n",
    "\n",
    "\n",
    "for i, event_data in enumerate(records):\n",
    "\n",
    "    # Filter Event Stream\n",
    "    if not keep_event(event_data):\n",
    "        # skip event in loop\n",
    "        continue\n",
    "    \n",
    "    # count every not filtered event for event loop index\n",
    "    event_loop_index += 1\n",
    "\n",
    "    # Extract Features and generate Event Object\n",
    "    event = Event(event_data, event_loop_index, event_buffer, SETTING)\n",
    "    event_buffer.append(event)\n",
    "    \n",
    "    # Activity Action Classification\n",
    "    classify_event(event)\n",
    "    activity_action = event.activity_action\n",
    "    \n",
    "    # Activity Matching\n",
    "    if activity_action == \"Activity Start\": \n",
    "        print(f\"Add new stack {event.frame_number}\")\n",
    "        stacks.append(Stack(SETTING,event))\n",
    "        \n",
    "    if activity_action == \"NoAction\": \n",
    "        if len(stacks) == 1: \n",
    "            if VERBOSE: print(f\"Add Between Event {event.frame_number} to only stack\")\n",
    "            stacks[0].append_event(event)\n",
    "        elif event.origin_request_frame: \n",
    "            idx = search_stack_for_request_frame(event.origin_request_frame)\n",
    "            if VERBOSE: print(f\"Add Between Event {event.frame_number} by request frame\\t{idx}\")\n",
    "            stacks[idx].append_event(event)\n",
    "        else: \n",
    "            if VERBOSE: print(\"Classify Between Event\", event.frame_number)\n",
    "            # Check attributes of each stack\n",
    "            \n",
    "            # we can filter out stacks that already have attributes different to the event\n",
    "            exclude_indices =  exclude_stacks_by_attribute(stacks, event, stacks_out)\n",
    "    \n",
    "            stack_index:int = check_stack_attributes(stacks, event, exclude_indices)\n",
    "                    \n",
    "            if stack_index == -1:        \n",
    "                stack_index = classify_by_train_sequences(event, 4, exclude_indices)\n",
    "            \n",
    "            # for elements that are not matchable based on 2 sequences we fall back to stream index\n",
    "            if stack_index == -1: \n",
    "                stack_index = search_stream_index(event, exclude_indices)    \n",
    "            \n",
    "            # fallback - no match add to first stack\n",
    "            if stack_index == -1:\n",
    "                res = next((i for i in range(len(stacks)) if i not in exclude_indices and stacks[i].confidence),-1)\n",
    "                if VERBOSE: print(\"NO NO MATCH\", res, exclude_indices)\n",
    "                stack_index = res\n",
    "                \n",
    "            stacks[stack_index].append_event(event)\n",
    "        \n",
    "    if activity_action == \"Activity End\":\n",
    "        \n",
    "        stack_index = search_stack_for_request_frame(event.origin_request_frame)\n",
    "        if VERBOSE : print(\"Search by request frame\", stack_index)\n",
    "        stacks[stack_index].append_event(event)\n",
    "        \n",
    "        #if not event.confidence: \n",
    "        #check_pop_idx = idx\n",
    "        #else:\n",
    "        if event.confidence: \n",
    "            if len(stacks) > 1: \n",
    "                if VERBOSE: print(\"POP Confident Stack\")\n",
    "                stack = stacks.pop(stack_index)\n",
    "                stacks_out.append(stack)\n",
    "            else: \n",
    "                event.confidence = False\n",
    "     \n",
    "\n",
    "    # Loop through all currently open stacks\n",
    "    for idx, stack in enumerate(stacks):\n",
    "        last_event = stack[-1]\n",
    "        # check for non-confident \"No Action\" Classifications. These could be \"Activity End\" Instead\n",
    "        if not last_event.confidence and last_event.activity_action == \"NoAction\":\n",
    "            # If a stack has not been continued for N event loops \n",
    "            if event_loop_index - last_event.event_loop_index > EVENT_LOOP_CUTOFF_NO_ACTION: \n",
    "                stacks.pop(idx)\n",
    "                stacks_out.append(stack)\n",
    "                if VERBOSE: print(\"POP Unsure No Action Event\", event_loop_index, last_event.event_loop_index)\n",
    "                \n",
    "    for idx, stack in enumerate(stacks): \n",
    "        last_event = stack.events[-1]\n",
    "        if not last_event.confidence and last_event.activity_action == \"Activity End\": \n",
    "            if event_loop_index - last_event.event_loop_index > EVENT_LOOP_CUTOFF_END_EVENT: \n",
    "            \n",
    "                # we are now sure to pop the stack. \n",
    "                if VERBOSE: print(\"POP Unsure Activity End Stack\", event_loop_index, last_event.event_loop_index)\n",
    "                stacks.pop(idx)\n",
    "                stacks_out.append(stack)  \n",
    "                \n",
    "# pop all stacks that are still left\n",
    "for stack in stacks: \n",
    "    stacks_out.append(stack)  \n"
   ],
   "metadata": {
    "collapsed": false,
    "ExecuteTime": {
     "end_time": "2024-03-13T13:11:51.639522Z",
     "start_time": "2024-03-13T13:11:50.931852Z"
    }
   },
   "id": "41016b5653419b1a"
  },
  {
   "cell_type": "code",
   "execution_count": null,
   "outputs": [],
   "source": [
    "# classify stacks\n",
    "# TODO Move into Model\n",
    "def confidence_weighted_majority_voting(predictions):\n",
    "    \"\"\"\n",
    "    Perform confidence-weighted majority voting on each sublist of predictions.\n",
    "\n",
    "    :param predictions: A list of dictionaries where each dictionary contains predictions and their confidences.\n",
    "    :return: A list of majority voted predictions for each sublist.\n",
    "    \"\"\"    \n",
    "\n",
    "    # Initialize variables to store cumulative confidences for each prediction\n",
    "    cumulative_confidences = {label: 0.0 for label in predictions[0][0].keys()}\n",
    "    \n",
    "    # Calculate cumulative confidences for each prediction across all dictionaries in the sublist\n",
    "    for prediction_dict in predictions:\n",
    "        for label, confidence in prediction_dict[0].items():\n",
    "            cumulative_confidences[label] += confidence\n",
    "    \n",
    "    # Find the prediction with the maximum cumulative confidence\n",
    "    return max(cumulative_confidences, key=cumulative_confidences.get)\n",
    "\n",
    " \n",
    " \n",
    " \n",
    "    \n",
    "def classify_stack(stack: Stack):\n",
    "    seq = seq2features([event.to_features() for event in stack], 10,10)\n",
    "    pred = activity_classifier.predict_marginals([[ele] for ele in seq])\n",
    "    pred_cwmv = confidence_weighted_majority_voting(pred)\n",
    "    return pred_cwmv\n",
    "    \n",
    "stack_predictions = [classify_stack(stack )for stack in stacks_out]\n"
   ],
   "metadata": {
    "collapsed": false,
    "ExecuteTime": {
     "start_time": "2024-03-13T13:11:51.635936Z"
    }
   },
   "id": "6178a80c6b5925f5"
  },
  {
   "cell_type": "code",
   "execution_count": null,
   "outputs": [],
   "source": [
    "print(f\"Contained {len(stacks)} stack in queue\")\n",
    "if len(stacks)> 0: \n",
    "    print([[e.frame_number for e in stack ] for stack in stacks])\n",
    "\n",
    "start = [stack[0].frame_number for stack in stacks_out]\n",
    "end = [stack[-1].frame_number for stack in stacks_out]\n",
    "\n",
    "res_df = pd.DataFrame({\"start_pred\":start, \"end_pred\":end})\n",
    "\n",
    "eval_df = df_gt[[\"start\", \"actual_end\"]].merge(res_df,how=\"left\", left_on =\"start\", right_on = \"start_pred\").fillna(-1).astype(int)\n",
    "eval_df[\"pred_true\"] = eval_df[\"actual_end\"] == eval_df[\"end_pred\"]\n",
    "\n",
    "display(eval_df)\n",
    "print(f\"Accuracy of matching start and end sequences: {eval_df['pred_true'].mean()}\")\n",
    "print(f\"Overall matching accuracy: {0.5 + eval_df['pred_true'].mean()/2}\")"
   ],
   "metadata": {
    "collapsed": false,
    "ExecuteTime": {
     "start_time": "2024-03-13T13:11:51.637169Z"
    }
   },
   "id": "40a6a1f949ad0661"
  },
  {
   "cell_type": "code",
   "execution_count": null,
   "outputs": [],
   "source": [
    "# Function to check if intervals overlap\n",
    "def intervals_overlap(row, df):\n",
    "    overlapping_names = []\n",
    "    overlapping_bps = set()\n",
    "    for index, other_row in df.iterrows():\n",
    "        if row.name != index and row['start'] <= other_row['actual_end'] and row['actual_end'] >= other_row['start']:\n",
    "            overlapping_names.append(f\"{other_row['activity_name']} {other_row['bp_id']}\")\n",
    "            overlapping_bps.add(other_row['bp_id'])\n",
    "    return overlapping_names, list(overlapping_bps)\n",
    "\n",
    "df_gt[[\"overlapping_activities\", \"overlapping_bps\"]] = df_gt.apply(intervals_overlap, axis=1, df = df_gt, result_type=\"expand\")"
   ],
   "metadata": {
    "collapsed": false,
    "ExecuteTime": {
     "start_time": "2024-03-13T13:11:51.638475Z"
    }
   },
   "id": "7df76d158db7cf4c"
  },
  {
   "cell_type": "code",
   "execution_count": null,
   "outputs": [],
   "source": [
    "# Create dataframe with mapping of frame numbers to event stacks\n",
    "frame_numbers = [event.frame_number for idx,stack in enumerate(stacks_out) for event in stack]\n",
    "stack_numbers = [idx for idx,stack in enumerate(stacks_out) for event in stack]\n",
    "applicant_ids = [event.attributes[\"applicant_id\"] for idx,stack in enumerate(stacks_out) for event in stack]\n",
    "activity_ids = [event.attributes[\"activity_id\"] for idx,stack in enumerate(stacks_out) for event in stack]\n",
    "mail_ids = [event.attributes[\"mail_id\"] for idx,stack in enumerate(stacks_out) for event in stack]\n",
    "sniff_time =  [event.sniff_time for idx,stack in enumerate(stacks_out) for event in stack]\n",
    "case_id = [stack.case_id[\"id\"]  if stack.case_id else -1 for idx, stack in enumerate(stacks_out) for event in stack]\n",
    "\n",
    "df_frame_numbers = pd.DataFrame(data={\"frame.number\": frame_numbers, \"sniff_time\": sniff_time, \"stack_idx\": stack_numbers, \"applicant_id\": applicant_ids,\"activity_id\": activity_ids, \"mail_id\":mail_ids,\"case_id\": case_id})\n",
    "\n",
    "# Merge Activity Name from ground truth frame to event sequences for evaluation\n",
    "merged_df = df_frame_numbers.merge(df_gt[[\"activity_name\",\"start\",\"bp_id\"]], how=\"left\",left_on=\"frame.number\", right_on=\"start\").drop(columns=\"start\")\n",
    "\n",
    "merged_df[[\"activity_name\",\"bp_id\"]] = merged_df.groupby(\"stack_idx\")[[\"activity_name\",\"bp_id\"]].ffill()\n",
    "#merged_df[\"activity_name\"] = merged_df.groupby(\"stack_idx\")[\"bp_id\"].ffill()\n",
    "\n",
    "# Merge with filtered interleaved test data\n",
    "merged_df = df_test.merge(merged_df, on=\"frame.number\")"
   ],
   "metadata": {
    "collapsed": false,
    "ExecuteTime": {
     "end_time": "2024-03-13T13:11:51.642177Z",
     "start_time": "2024-03-13T13:11:51.640023Z"
    }
   },
   "id": "e2db163cbe61470d"
  },
  {
   "cell_type": "code",
   "execution_count": null,
   "outputs": [],
   "source": [
    "unique_no_nan = lambda x: list(filter(None, pd.unique(x)))\n",
    "first_unique = lambda x: unique_no_nan(x)[0]\n",
    "\n",
    "def compare_values(x,y):\n",
    "    # Multi index and casting magic - I just want to compare the bp_ids lol\n",
    "    x = int(x[0])\n",
    "    y = int(y[0])\n",
    "\n",
    "    return x == y\n",
    "\n",
    "\n",
    "res = merged_df.groupby(\"stack_idx\").agg(applicant_id = (\"applicant_id\", unique_no_nan),activity_id=(\"activity_id\", unique_no_nan), mail_id=(\"mail_id\", unique_no_nan),case_id=(\"case_id\", first_unique),bp_id=(\"bp_id\", unique_no_nan),frame_number_min=(\"frame.number\",\"min\"),frame_number_max =  (\"frame.number\",\"max\"),sniff_time_min=(\"sniff_time\",\"min\"),sniff_time_max=(\"sniff_time\",\"min\"), activity_name=(\"activity_name\", lambda x: x.head(1)))\n",
    "res[\"stack_prediction\"] = stack_predictions\n",
    "# Apply the custom function to compare 'sale_order_line_id' and 'sale_order_line_id_case_id'\n",
    "res[\"bp_true\"] = res.apply(lambda x: compare_values(x[\"applicant_id\"], x[\"bp_id\"]), axis = 1)\n",
    "res[\"activity_true\"] = res[\"activity_name\"] ==  res[\"stack_prediction\"]\n",
    "#res.loc[\"Mean\",\"bp_true\"] = res[\"bp_true\"].mean()\n",
    "#res.loc[\"Mean\",\"activity_true\"] = res[\"activity_true\"].mean()"
   ],
   "metadata": {
    "collapsed": false,
    "ExecuteTime": {
     "start_time": "2024-03-13T13:11:51.641591Z"
    }
   },
   "id": "c88e527b5f2aaa92"
  },
  {
   "cell_type": "code",
   "execution_count": null,
   "outputs": [],
   "source": [
    "res[\"bp_id_1\"] = res[\"bp_id\"].apply(first_unique)"
   ],
   "metadata": {
    "collapsed": false,
    "ExecuteTime": {
     "end_time": "2024-03-13T13:11:51.678318Z",
     "start_time": "2024-03-13T13:11:51.643265Z"
    }
   },
   "id": "9f74380e6e1ee06c"
  },
  {
   "cell_type": "code",
   "execution_count": null,
   "outputs": [],
   "source": [
    "res"
   ],
   "metadata": {
    "collapsed": false,
    "ExecuteTime": {
     "start_time": "2024-03-13T13:11:51.645677Z"
    }
   },
   "id": "e983f7bc322b1e7a"
  },
  {
   "cell_type": "code",
   "execution_count": null,
   "outputs": [],
   "source": [
    "res[[\"case_id\",\"bp_id_1\"]].value_counts()"
   ],
   "metadata": {
    "collapsed": false,
    "ExecuteTime": {
     "start_time": "2024-03-13T13:11:51.646937Z"
    }
   },
   "id": "d07e9fbb91d8b57e"
  },
  {
   "cell_type": "markdown",
   "source": [
    "-> 1 to 1 Matching of Case_id and Bp_id -> 1.0 is correct"
   ],
   "metadata": {
    "collapsed": false
   },
   "id": "332d165d6c85c54c"
  },
  {
   "cell_type": "code",
   "execution_count": null,
   "outputs": [],
   "source": [
    "res[\"activity_true\"].mean()"
   ],
   "metadata": {
    "collapsed": false,
    "ExecuteTime": {
     "start_time": "2024-03-13T13:11:51.647828Z"
    }
   },
   "id": "2a079464269e9156"
  },
  {
   "cell_type": "code",
   "execution_count": null,
   "outputs": [],
   "source": [
    "res[\"bp_true\"].mean()"
   ],
   "metadata": {
    "collapsed": false,
    "ExecuteTime": {
     "start_time": "2024-03-13T13:11:51.648720Z"
    }
   },
   "id": "cc30fb50d0c43c82"
  },
  {
   "cell_type": "code",
   "execution_count": null,
   "outputs": [],
   "source": [
    "out = res.sort_values(by= \"sniff_time_min\")[[\"sniff_time_min\",\"stack_prediction\",\"case_id\"]].reset_index(drop=True)\n",
    "out.columns = [\"timestamp\", \"activity\", \"case_id\"]"
   ],
   "metadata": {
    "collapsed": false,
    "ExecuteTime": {
     "start_time": "2024-03-13T13:11:51.649579Z"
    }
   },
   "id": "e1f87f8fa560c7e5"
  },
  {
   "cell_type": "code",
   "execution_count": null,
   "outputs": [],
   "source": [
    "out.to_csv(\"../../data_v3/out/hr_xes_out.csv\", index = False)"
   ],
   "metadata": {
    "collapsed": false,
    "ExecuteTime": {
     "start_time": "2024-03-13T13:11:51.650488Z"
    }
   },
   "id": "924ff4327dee8b5b"
  }
 ],
 "metadata": {
  "kernelspec": {
   "display_name": "Python 3",
   "language": "python",
   "name": "python3"
  },
  "language_info": {
   "codemirror_mode": {
    "name": "ipython",
    "version": 2
   },
   "file_extension": ".py",
   "mimetype": "text/x-python",
   "name": "python",
   "nbconvert_exporter": "python",
   "pygments_lexer": "ipython2",
   "version": "2.7.6"
  }
 },
 "nbformat": 4,
 "nbformat_minor": 5
}
