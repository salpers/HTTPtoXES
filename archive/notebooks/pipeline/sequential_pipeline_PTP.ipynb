{
 "cells": [
  {
   "cell_type": "code",
   "execution_count": 4,
   "outputs": [],
   "source": [
    "import ast\n",
    "import re\n",
    "from event_loop.preprocessing.dataframe import *\n",
    "\n",
    "import metrics\n",
    "import numpy as np\n",
    "import pandas as pd\n",
    "\n",
    "from sklearn.metrics import classification_report\n",
    "\n",
    "%load_ext autoreload\n",
    "%load_ext memory_profiler"
   ],
   "metadata": {
    "collapsed": false,
    "ExecuteTime": {
     "end_time": "2024-04-29T17:49:48.179245Z",
     "start_time": "2024-04-29T17:49:42.407519Z"
    }
   },
   "id": "e78c62da13f69969"
  },
  {
   "cell_type": "markdown",
   "source": [
    "# Prerequisuites"
   ],
   "metadata": {
    "collapsed": false
   },
   "id": "9af28cc8576de679"
  },
  {
   "cell_type": "markdown",
   "source": [
    "## Activity Action Model\n",
    "Train a Model with the task of classifying Start, End and NoAction events in the interleaved data. \n",
    "Training is done during a \"warmup\" phase with generated training data. "
   ],
   "metadata": {
    "collapsed": false
   },
   "id": "7d390ec7d82748f9"
  },
  {
   "cell_type": "markdown",
   "source": [
    "### Load Data"
   ],
   "metadata": {
    "collapsed": false
   },
   "id": "b71fca8f257d622"
  },
  {
   "cell_type": "code",
   "execution_count": 5,
   "outputs": [],
   "source": [
    "# HR data in data/Train/R1 is missing frame.number. We take another (already filtered) dataset and apply our feature extraction to this one\n",
    "df_train_in = pd.read_csv('../../data/VALID/R1/R1.csv', converters={\"MessageAttributes\": ast.literal_eval})"
   ],
   "metadata": {
    "collapsed": false,
    "ExecuteTime": {
     "end_time": "2024-04-29T17:50:50.851161Z",
     "start_time": "2024-04-29T17:49:43.479289Z"
    }
   },
   "id": "490cfbb42b29d0f0"
  },
  {
   "cell_type": "code",
   "execution_count": 6,
   "outputs": [],
   "source": [
    "# This is the Interleaved Data Set for our pipeline\n",
    "df_il_in = pd.read_csv('../../data/PTP-INTERLEAVED/R1/R1.csv', converters={\"MessageAttributes\": ast.literal_eval})"
   ],
   "metadata": {
    "collapsed": false,
    "ExecuteTime": {
     "end_time": "2024-04-29T17:50:55.241707Z",
     "start_time": "2024-04-29T17:50:50.848410Z"
    }
   },
   "id": "4ba9ef52affe721a"
  },
  {
   "cell_type": "markdown",
   "source": [
    "### Preprocessing Training Data"
   ],
   "metadata": {
    "collapsed": false
   },
   "id": "9cdfd16523df0b5b"
  },
  {
   "cell_type": "code",
   "execution_count": 8,
   "outputs": [],
   "source": [
    "%autoreload 2\n",
    "# data is at R1 Level. Apply filter and feature extraction\n",
    "df_train = pre_process(df_train_in)\n",
    "df_test = pre_process(df_il_in)\n"
   ],
   "metadata": {
    "collapsed": false,
    "ExecuteTime": {
     "end_time": "2024-04-29T17:51:03.176488Z",
     "start_time": "2024-04-29T17:50:55.250533Z"
    }
   },
   "id": "195cf763c2fc9f23"
  },
  {
   "cell_type": "code",
   "execution_count": 114,
   "outputs": [],
   "source": [
    "# Load start and end events from ground truth data.\n",
    "# Tag according frames in interleaved data for testing\n",
    "df_gt = pd.read_csv(\"../../data_v3/ptp_ground_truth.csv\")\n",
    "\n",
    "start_indices = df_gt[\"start\"].tolist()\n",
    "end_indices = df_gt[\"actual_end\"].tolist()\n",
    "\n",
    "df_test[\"ActivityAction\"] = df_test[\"frame.number\"].apply(lambda x: \"Activity Start\" if x in start_indices else\n",
    "(\"Activity End\" if x in end_indices else \"NoAction\"))"
   ],
   "metadata": {
    "collapsed": false,
    "ExecuteTime": {
     "end_time": "2024-04-29T17:58:54.132819Z",
     "start_time": "2024-04-29T17:58:54.056305Z"
    }
   },
   "id": "ff49214adb9839a7"
  },
  {
   "cell_type": "code",
   "execution_count": 116,
   "outputs": [],
   "source": [
    "# ------------ OPTIONAL ---------------\n",
    "# TODO Duplicate with Activity Model - move down and delete\n",
    "# Form sequences in training data by grouping\n",
    "df_train = df_train.sort_values(by=[\"InstanceNumber\", \"BusinessActivity\", \"frame.number\"])\n",
    "df_train[\"SequenceNumber\"] = df_train.groupby([\"BusinessActivity\", \"InstanceNumber\"]).ngroup()\n",
    "df_train[\"SequenceNumber\"] -= df_train['SequenceNumber'].min()"
   ],
   "metadata": {
    "collapsed": false,
    "ExecuteTime": {
     "end_time": "2024-04-29T18:03:20.639164Z",
     "start_time": "2024-04-29T18:03:20.417082Z"
    }
   },
   "id": "a9950736f0722f85"
  },
  {
   "cell_type": "code",
   "execution_count": 15,
   "outputs": [],
   "source": [
    "def mark_start_end(df):\n",
    "    # Mark start event of each BusinessActivity Instance\n",
    "    df[\"activityStart\"] = df.groupby([\"BusinessActivity\", \"InstanceNumber\", ]).cumcount() == 0\n",
    "    # Mark end event of each Business Activity Instance\n",
    "    df[\"activityEnd\"] = df.groupby([\"BusinessActivity\", \"InstanceNumber\", ]).cumcount(ascending=False) == 0\n",
    "    # Merge start and end columns to form labels\n",
    "    df[\"ActivityAction\"] = df.apply(lambda row: \"Activity Start\" if row[\"activityStart\"] else (\n",
    "        \"Activity End\" if row[\"activityEnd\"] else 'NoAction'), axis=1)\n",
    "\n",
    "    return df.drop([\"activityStart\", 'activityEnd'], axis=1)\n",
    "\n",
    "\n",
    "df_train = mark_start_end(df_train)"
   ],
   "metadata": {
    "collapsed": false,
    "ExecuteTime": {
     "end_time": "2024-04-29T17:51:03.718895Z",
     "start_time": "2024-04-29T17:51:03.486857Z"
    }
   },
   "id": "c29d2381e98a2df"
  },
  {
   "cell_type": "code",
   "execution_count": 16,
   "outputs": [],
   "source": [
    "cols = [\"event_with_roles\", \"request_method_call\", \"selective_file_data\", \n",
    "        \"origin_method\",\"origin_file_data\"]\n"
   ],
   "metadata": {
    "collapsed": false,
    "ExecuteTime": {
     "end_time": "2024-04-29T17:51:03.763836Z",
     "start_time": "2024-04-29T17:51:03.620352Z"
    }
   },
   "id": "e04dd419e6dd519"
  },
  {
   "cell_type": "code",
   "execution_count": 17,
   "outputs": [],
   "source": [
    "def dict_to_features(dict):\n",
    "    return [[{**d, \"bias\": 1.0}] for d in dict]\n",
    "\n",
    "\n",
    "def extract_labels(labels):\n",
    "    return [[y] for y in labels]"
   ],
   "metadata": {
    "collapsed": false,
    "ExecuteTime": {
     "end_time": "2024-04-29T17:51:03.764027Z",
     "start_time": "2024-04-29T17:51:03.634145Z"
    }
   },
   "id": "c63cd9530571e015"
  },
  {
   "cell_type": "code",
   "execution_count": 18,
   "outputs": [],
   "source": [
    "# exclude from training data \n",
    "df_train_filt = df_train[~df_train[\"SequenceNumber\"].isin([128])]\n"
   ],
   "metadata": {
    "collapsed": false,
    "ExecuteTime": {
     "end_time": "2024-04-29T17:51:03.795784Z",
     "start_time": "2024-04-29T17:51:03.646370Z"
    }
   },
   "id": "ef9a7078a4d6971f"
  },
  {
   "cell_type": "code",
   "execution_count": 19,
   "outputs": [
    {
     "data": {
      "text/plain": "InstanceNumber\n31    505\n48    504\n64    504\n19    504\n33    503\n     ... \n44    265\n39    214\n59    214\n24    214\n36    212\nName: count, Length: 67, dtype: int64"
     },
     "execution_count": 19,
     "metadata": {},
     "output_type": "execute_result"
    }
   ],
   "source": [
    "df_train[\"InstanceNumber\"].value_counts()"
   ],
   "metadata": {
    "collapsed": false,
    "ExecuteTime": {
     "end_time": "2024-04-29T17:51:03.796173Z",
     "start_time": "2024-04-29T17:51:03.665393Z"
    }
   },
   "id": "9230b7d1d24818c2"
  },
  {
   "cell_type": "code",
   "execution_count": 20,
   "outputs": [],
   "source": [
    "train_features = df_train_filt[cols].to_dict(\"records\")\n",
    "train_features = dict_to_features(train_features)\n",
    "train_labels = extract_labels(df_train_filt[\"ActivityAction\"])"
   ],
   "metadata": {
    "collapsed": false,
    "ExecuteTime": {
     "end_time": "2024-04-29T17:51:03.982839Z",
     "start_time": "2024-04-29T17:51:03.679161Z"
    }
   },
   "id": "ea316f5a912cfb5f"
  },
  {
   "cell_type": "code",
   "execution_count": 21,
   "outputs": [],
   "source": [
    "test_features = df_test[cols].to_dict(\"records\")\n",
    "test_features = dict_to_features(test_features)\n",
    "test_labels = extract_labels(df_test[\"ActivityAction\"])"
   ],
   "metadata": {
    "collapsed": false,
    "ExecuteTime": {
     "end_time": "2024-04-29T17:51:03.989794Z",
     "start_time": "2024-04-29T17:51:03.769483Z"
    }
   },
   "id": "409c5bf853c5cf34"
  },
  {
   "cell_type": "markdown",
   "source": [
    "### Model Training"
   ],
   "metadata": {
    "collapsed": false
   },
   "id": "7273e609ed8e6a30"
  },
  {
   "cell_type": "code",
   "execution_count": 22,
   "outputs": [],
   "source": [
    "# optional Train Test split for evaluation on training data\n",
    "# In prod case, we train on 100% training data and evaluate on interleaved data\n",
    "from sklearn.model_selection import train_test_split\n",
    "\n",
    "X_train, X_test, y_train, y_test = train_test_split(train_features, train_labels, test_size=0.3, random_state=42)"
   ],
   "metadata": {
    "collapsed": false,
    "ExecuteTime": {
     "end_time": "2024-04-29T17:51:04.061935Z",
     "start_time": "2024-04-29T17:51:03.793026Z"
    }
   },
   "id": "a391e8d3a432ad17"
  },
  {
   "cell_type": "code",
   "execution_count": 23,
   "outputs": [
    {
     "name": "stdout",
     "output_type": "stream",
     "text": [
      "CPU times: user 1.24 s, sys: 19.8 ms, total: 1.26 s\n",
      "Wall time: 2.2 s\n"
     ]
    },
    {
     "data": {
      "text/plain": "CRF(all_possible_transitions=True, c1=0.1, c2=0.01, max_iterations=200)",
      "text/html": "<style>#sk-container-id-1 {color: black;}#sk-container-id-1 pre{padding: 0;}#sk-container-id-1 div.sk-toggleable {background-color: white;}#sk-container-id-1 label.sk-toggleable__label {cursor: pointer;display: block;width: 100%;margin-bottom: 0;padding: 0.3em;box-sizing: border-box;text-align: center;}#sk-container-id-1 label.sk-toggleable__label-arrow:before {content: \"▸\";float: left;margin-right: 0.25em;color: #696969;}#sk-container-id-1 label.sk-toggleable__label-arrow:hover:before {color: black;}#sk-container-id-1 div.sk-estimator:hover label.sk-toggleable__label-arrow:before {color: black;}#sk-container-id-1 div.sk-toggleable__content {max-height: 0;max-width: 0;overflow: hidden;text-align: left;background-color: #f0f8ff;}#sk-container-id-1 div.sk-toggleable__content pre {margin: 0.2em;color: black;border-radius: 0.25em;background-color: #f0f8ff;}#sk-container-id-1 input.sk-toggleable__control:checked~div.sk-toggleable__content {max-height: 200px;max-width: 100%;overflow: auto;}#sk-container-id-1 input.sk-toggleable__control:checked~label.sk-toggleable__label-arrow:before {content: \"▾\";}#sk-container-id-1 div.sk-estimator input.sk-toggleable__control:checked~label.sk-toggleable__label {background-color: #d4ebff;}#sk-container-id-1 div.sk-label input.sk-toggleable__control:checked~label.sk-toggleable__label {background-color: #d4ebff;}#sk-container-id-1 input.sk-hidden--visually {border: 0;clip: rect(1px 1px 1px 1px);clip: rect(1px, 1px, 1px, 1px);height: 1px;margin: -1px;overflow: hidden;padding: 0;position: absolute;width: 1px;}#sk-container-id-1 div.sk-estimator {font-family: monospace;background-color: #f0f8ff;border: 1px dotted black;border-radius: 0.25em;box-sizing: border-box;margin-bottom: 0.5em;}#sk-container-id-1 div.sk-estimator:hover {background-color: #d4ebff;}#sk-container-id-1 div.sk-parallel-item::after {content: \"\";width: 100%;border-bottom: 1px solid gray;flex-grow: 1;}#sk-container-id-1 div.sk-label:hover label.sk-toggleable__label {background-color: #d4ebff;}#sk-container-id-1 div.sk-serial::before {content: \"\";position: absolute;border-left: 1px solid gray;box-sizing: border-box;top: 0;bottom: 0;left: 50%;z-index: 0;}#sk-container-id-1 div.sk-serial {display: flex;flex-direction: column;align-items: center;background-color: white;padding-right: 0.2em;padding-left: 0.2em;position: relative;}#sk-container-id-1 div.sk-item {position: relative;z-index: 1;}#sk-container-id-1 div.sk-parallel {display: flex;align-items: stretch;justify-content: center;background-color: white;position: relative;}#sk-container-id-1 div.sk-item::before, #sk-container-id-1 div.sk-parallel-item::before {content: \"\";position: absolute;border-left: 1px solid gray;box-sizing: border-box;top: 0;bottom: 0;left: 50%;z-index: -1;}#sk-container-id-1 div.sk-parallel-item {display: flex;flex-direction: column;z-index: 1;position: relative;background-color: white;}#sk-container-id-1 div.sk-parallel-item:first-child::after {align-self: flex-end;width: 50%;}#sk-container-id-1 div.sk-parallel-item:last-child::after {align-self: flex-start;width: 50%;}#sk-container-id-1 div.sk-parallel-item:only-child::after {width: 0;}#sk-container-id-1 div.sk-dashed-wrapped {border: 1px dashed gray;margin: 0 0.4em 0.5em 0.4em;box-sizing: border-box;padding-bottom: 0.4em;background-color: white;}#sk-container-id-1 div.sk-label label {font-family: monospace;font-weight: bold;display: inline-block;line-height: 1.2em;}#sk-container-id-1 div.sk-label-container {text-align: center;}#sk-container-id-1 div.sk-container {/* jupyter's `normalize.less` sets `[hidden] { display: none; }` but bootstrap.min.css set `[hidden] { display: none !important; }` so we also need the `!important` here to be able to override the default hidden behavior on the sphinx rendered scikit-learn.org. See: https://github.com/scikit-learn/scikit-learn/issues/21755 */display: inline-block !important;position: relative;}#sk-container-id-1 div.sk-text-repr-fallback {display: none;}</style><div id=\"sk-container-id-1\" class=\"sk-top-container\"><div class=\"sk-text-repr-fallback\"><pre>CRF(all_possible_transitions=True, c1=0.1, c2=0.01, max_iterations=200)</pre><b>In a Jupyter environment, please rerun this cell to show the HTML representation or trust the notebook. <br />On GitHub, the HTML representation is unable to render, please try loading this page with nbviewer.org.</b></div><div class=\"sk-container\" hidden><div class=\"sk-item\"><div class=\"sk-estimator sk-toggleable\"><input class=\"sk-toggleable__control sk-hidden--visually\" id=\"sk-estimator-id-1\" type=\"checkbox\" checked><label for=\"sk-estimator-id-1\" class=\"sk-toggleable__label sk-toggleable__label-arrow\">CRF</label><div class=\"sk-toggleable__content\"><pre>CRF(all_possible_transitions=True, c1=0.1, c2=0.01, max_iterations=200)</pre></div></div></div></div></div>"
     },
     "execution_count": 23,
     "metadata": {},
     "output_type": "execute_result"
    }
   ],
   "source": [
    "%%time\n",
    "import sklearn_crfsuite\n",
    "\n",
    "crf = sklearn_crfsuite.CRF(\n",
    "    max_iterations=200,\n",
    "    c1=0.1,\n",
    "    c2=0.01,\n",
    "    all_possible_transitions=True\n",
    "    #all_possible_transitions=True\n",
    ")\n",
    "crf.fit(train_features, train_labels)"
   ],
   "metadata": {
    "collapsed": false,
    "ExecuteTime": {
     "end_time": "2024-04-29T17:51:06.143418Z",
     "start_time": "2024-04-29T17:51:03.856581Z"
    }
   },
   "id": "db466e19f598b17e"
  },
  {
   "cell_type": "code",
   "execution_count": 24,
   "outputs": [
    {
     "ename": "NameError",
     "evalue": "name 'evaluate' is not defined",
     "output_type": "error",
     "traceback": [
      "\u001B[0;31m---------------------------------------------------------------------------\u001B[0m",
      "\u001B[0;31mNameError\u001B[0m                                 Traceback (most recent call last)",
      "File \u001B[0;32m<timed exec>:12\u001B[0m\n",
      "\u001B[0;31mNameError\u001B[0m: name 'evaluate' is not defined"
     ]
    }
   ],
   "source": [
    "%%time\n",
    "import sklearn_crfsuite\n",
    "\n",
    "crf_test = sklearn_crfsuite.CRF(\n",
    "    max_iterations=200,\n",
    "    c1=0.1,\n",
    "    c2=0.01,\n",
    "    all_possible_transitions=True\n",
    "    #all_possible_transitions=True\n",
    ")\n",
    "crf_test.fit(X_train, y_train)"
   ],
   "metadata": {
    "collapsed": false,
    "ExecuteTime": {
     "end_time": "2024-04-29T17:51:07.159791Z",
     "start_time": "2024-04-29T17:51:06.090730Z"
    }
   },
   "id": "73b3a4684100de86"
  },
  {
   "cell_type": "markdown",
   "source": [
    "### Optimization"
   ],
   "metadata": {
    "collapsed": false
   },
   "id": "f5b9eb1c58112b03"
  },
  {
   "cell_type": "code",
   "execution_count": 25,
   "outputs": [],
   "source": [
    "from sklearn.metrics import make_scorer\n",
    "import scipy\n",
    "from sklearn.model_selection import RandomizedSearchCV\n",
    "from sklearn_crfsuite import metrics\n",
    "\n",
    "# define fixed parameters and parameters to search\n",
    "crf2 = sklearn_crfsuite.CRF(\n",
    "    algorithm='lbfgs', \n",
    "    max_iterations=200, \n",
    "    all_possible_transitions=True\n",
    ")\n",
    "params_space = {\n",
    "    'c1': scipy.stats.expon(scale=0.5),\n",
    "    'c2': scipy.stats.expon(scale=0.05),\n",
    "}\n",
    "\n",
    "# use the same metric for evaluation\n",
    "f1_scorer = make_scorer(metrics.flat_f1_score, \n",
    "                        average='macro', labels=np.unique(test_labels))\n",
    "\n",
    "# search\n",
    "rs = RandomizedSearchCV(crf, params_space, \n",
    "                        cv=5, \n",
    "                        verbose=1, \n",
    "                        n_jobs=-1, \n",
    "                        n_iter=150, \n",
    "                        scoring=f1_scorer)\n",
    "#rs.fit(train_features, train_labels)\n",
    "\n",
    "#crf = rs.best_estimator_"
   ],
   "metadata": {
    "collapsed": false,
    "ExecuteTime": {
     "end_time": "2024-04-29T17:51:07.189235Z",
     "start_time": "2024-04-29T17:51:07.157658Z"
    }
   },
   "id": "14bec2b77fb107d9"
  },
  {
   "cell_type": "markdown",
   "source": [
    "### Evaluation"
   ],
   "metadata": {
    "collapsed": false
   },
   "id": "69dd96cbeb352f78"
  },
  {
   "cell_type": "code",
   "execution_count": 26,
   "outputs": [],
   "source": [
    "from sklearn.metrics import multilabel_confusion_matrix\n",
    "from sklearn_crfsuite import metrics\n",
    "\n",
    "\n",
    "def flatten(xss):\n",
    "    return [x for xs in xss for x in xs]\n",
    "\n",
    "\n",
    "def evaluate(model, x, y_true):\n",
    "    y_pred = model.predict(x)\n",
    "    print(metrics.flat_f1_score(y_true, y_pred, average='macro', labels=model.classes_))\n",
    "    print(metrics.flat_classification_report(y_true, y_pred, model.classes_))\n",
    "    [print(label, \"\\n\", matrix) for matrix, label in\n",
    "     zip(multilabel_confusion_matrix(flatten(y_true), flatten(y_pred), labels=model.classes_), model.classes_)]\n"
   ],
   "metadata": {
    "collapsed": false,
    "ExecuteTime": {
     "end_time": "2024-04-29T17:51:07.221269Z",
     "start_time": "2024-04-29T17:51:07.174364Z"
    }
   },
   "id": "ec5f57cdddd3a1ac"
  },
  {
   "cell_type": "code",
   "execution_count": 27,
   "outputs": [
    {
     "name": "stdout",
     "output_type": "stream",
     "text": [
      "0.8432082382941252\n",
      "                precision    recall  f1-score   support\n",
      "\n",
      "Activity Start       1.00      1.00      1.00        63\n",
      "      NoAction       0.99      1.00      0.99      3783\n",
      "  Activity End       1.00      0.37      0.53        63\n",
      "\n",
      "      accuracy                           0.99      3909\n",
      "     macro avg       1.00      0.79      0.84      3909\n",
      "  weighted avg       0.99      0.99      0.99      3909\n",
      "\n",
      "Activity Start \n",
      " [[3846    0]\n",
      " [   0   63]]\n",
      "NoAction \n",
      " [[  86   40]\n",
      " [   0 3783]]\n",
      "Activity End \n",
      " [[3846    0]\n",
      " [  40   23]]\n"
     ]
    }
   ],
   "source": [
    "evaluate(crf, test_features, test_labels)"
   ],
   "metadata": {
    "collapsed": false,
    "ExecuteTime": {
     "end_time": "2024-04-29T17:51:07.312328Z",
     "start_time": "2024-04-29T17:51:07.186821Z"
    }
   },
   "id": "45bc3c515329882c"
  },
  {
   "cell_type": "code",
   "execution_count": 28,
   "outputs": [],
   "source": [
    "pred = crf.predict(test_features)"
   ],
   "metadata": {
    "collapsed": false,
    "ExecuteTime": {
     "end_time": "2024-04-29T17:51:07.313204Z",
     "start_time": "2024-04-29T17:51:07.261956Z"
    }
   },
   "id": "90381f179bed01ec"
  },
  {
   "cell_type": "code",
   "execution_count": 29,
   "outputs": [],
   "source": [
    "pred_mg = crf.predict_marginals(test_features)"
   ],
   "metadata": {
    "collapsed": false,
    "ExecuteTime": {
     "end_time": "2024-04-29T17:51:07.379318Z",
     "start_time": "2024-04-29T17:51:07.284919Z"
    }
   },
   "id": "b4e393fddea92c82"
  },
  {
   "cell_type": "code",
   "execution_count": 30,
   "outputs": [],
   "source": [
    "#margs = [pred_mg[i] for i in wrong_pred_idx]\n",
    "columns = pred_mg[0][0].keys()\n",
    "flat_margs = [[entry[column] for column in columns] for sublist in pred_mg for entry in sublist]\n",
    "df_margs = pd.DataFrame(flat_margs, columns=columns)"
   ],
   "metadata": {
    "collapsed": false,
    "ExecuteTime": {
     "end_time": "2024-04-29T17:51:07.380274Z",
     "start_time": "2024-04-29T17:51:07.315183Z"
    }
   },
   "id": "a963def031360d96"
  },
  {
   "cell_type": "code",
   "execution_count": 31,
   "outputs": [],
   "source": [
    "#df_eval = pd.DataFrame([(pred[i], test_labels[i], df_test.iloc[i][\"frame.number\"] ) for i in wrong_pred_idx],columns = [\"predicted\",\"true\",\"frame.number\"],)\n",
    "\n",
    "df_eval = pd.DataFrame({\"predicted\": pred, \"true\": test_labels, \"frame.number\":df_test[\"frame.number\"], \"file_data\": df_test[\"file_data\"], \"evr\": df_test[\"event_with_roles\"]}).reset_index(drop=True)\n",
    "\n",
    "df_eval = pd.concat([df_eval, df_margs], axis = 1)\n",
    "\n",
    "df_eval[\"pred_true\"] = df_eval[\"predicted\"] == df_eval[\"true\"]\n",
    "\n"
   ],
   "metadata": {
    "collapsed": false,
    "ExecuteTime": {
     "end_time": "2024-04-29T17:51:07.395397Z",
     "start_time": "2024-04-29T17:51:07.337737Z"
    }
   },
   "id": "191d12b5ca393c44"
  },
  {
   "cell_type": "code",
   "execution_count": 32,
   "outputs": [],
   "source": [
    "from scipy.stats import entropy\n",
    "\n",
    "entropy_cols = ['Activity Start', 'NoAction', 'Activity End']\n",
    "\n",
    "# Calculate entropy for each row using the specified columns\n",
    "df_eval[\"entropy\"] = df_eval[entropy_cols].apply(entropy, axis=1)\n"
   ],
   "metadata": {
    "collapsed": false,
    "ExecuteTime": {
     "end_time": "2024-04-29T17:51:07.481431Z",
     "start_time": "2024-04-29T17:51:07.352735Z"
    }
   },
   "id": "3a7fc79dec58261c"
  },
  {
   "cell_type": "code",
   "execution_count": 33,
   "outputs": [
    {
     "data": {
      "text/plain": "       predicted            true  frame.number  \\\n64    [NoAction]  [Activity End]          1887   \n2999  [NoAction]  [Activity End]         86895   \n2138  [NoAction]  [Activity End]         63000   \n154   [NoAction]  [Activity End]          5965   \n3477  [NoAction]  [Activity End]        100384   \n1657  [NoAction]  [Activity End]         49156   \n1249  [NoAction]  [Activity End]         37650   \n2244  [NoAction]  [Activity End]         65514   \n945   [NoAction]  [Activity End]         28958   \n2884  [NoAction]  [Activity End]         83750   \n822   [NoAction]  [Activity End]         25942   \n666   [NoAction]  [Activity End]         20873   \n654   [NoAction]  [Activity End]         20497   \n3339  [NoAction]  [Activity End]         96757   \n459   [NoAction]  [Activity End]         15058   \n2329  [NoAction]  [Activity End]         68715   \n1663  [NoAction]  [Activity End]         49303   \n2485  [NoAction]  [Activity End]         73887   \n1559  [NoAction]  [Activity End]         45841   \n2909  [NoAction]  [Activity End]         84553   \n3126  [NoAction]  [Activity End]         91394   \n2753  [NoAction]  [Activity End]         80769   \n3307  [NoAction]  [Activity End]         96040   \n2345  [NoAction]  [Activity End]         69362   \n1703  [NoAction]  [Activity End]         50544   \n2203  [NoAction]  [Activity End]         64737   \n2094  [NoAction]  [Activity End]         62075   \n1882  [NoAction]  [Activity End]         56409   \n1383  [NoAction]  [Activity End]         40869   \n1181  [NoAction]  [Activity End]         36475   \n955   [NoAction]  [Activity End]         29042   \n3622  [NoAction]  [Activity End]        104695   \n798   [NoAction]  [Activity End]         25583   \n601   [NoAction]  [Activity End]         19296   \n501   [NoAction]  [Activity End]         15871   \n3392  [NoAction]  [Activity End]         98654   \n2173  [NoAction]  [Activity End]         64074   \n3683  [NoAction]  [Activity End]        105925   \n835   [NoAction]  [Activity End]         26269   \n1923  [NoAction]  [Activity End]         57762   \n\n                                              file_data  \\\n64                                                  [1]   \n2999                                                [1]   \n2138                                                [1]   \n154                                                 [1]   \n3477                                                [1]   \n1657                                                [1]   \n1249                                                [1]   \n2244                                                [1]   \n945                                                 [1]   \n2884                                                [1]   \n822                                                 [1]   \n666                                                 [1]   \n654                                                 [1]   \n3339                                                [1]   \n459                                                 [1]   \n2329                                                [1]   \n1663                                                [1]   \n2485                                                [1]   \n1559                                                 []   \n2909                                                      \n3126                                                      \n2753                                                      \n3307                                                      \n2345                                                      \n1703                                                      \n2203                                                      \n2094                                                      \n1882                                                      \n1383                                                      \n1181                                                      \n955                                                       \n3622                                                      \n798                                                       \n601                                                       \n501                                                       \n3392                                                      \n2173  [odoo01, 2, PWD1234, sale.order.line, create, ...   \n3683  [odoo01, 2, PWD1234, sale.order, write, 384, s...   \n835                                                 [1]   \n1923                                                [1]   \n\n                                                    evr  Activity Start  \\\n64    Odoo Application->End Point (Procurement):[Htt...        0.000241   \n2999  Odoo Application->End Point (Procurement):[Htt...        0.000241   \n2138  Odoo Application->End Point (Procurement):[Htt...        0.000241   \n154   Odoo Application->End Point (Procurement):[Htt...        0.000241   \n3477  Odoo Application->End Point (Procurement):[Htt...        0.000241   \n1657  Odoo Application->End Point (Procurement):[Htt...        0.000241   \n1249  Odoo Application->End Point (Procurement):[Htt...        0.000241   \n2244  Odoo Application->End Point (Procurement):[Htt...        0.000241   \n945   Odoo Application->End Point (Procurement):[Htt...        0.000241   \n2884  Odoo Application->End Point (Procurement):[Htt...        0.000241   \n822   Odoo Application->End Point (Procurement):[Htt...        0.000241   \n666   Odoo Application->End Point (Procurement):[Htt...        0.000241   \n654   Odoo Application->End Point (Procurement):[Htt...        0.000241   \n3339  Odoo Application->End Point (Procurement):[Htt...        0.000241   \n459   Odoo Application->End Point (Procurement):[Htt...        0.000241   \n2329  Odoo Application->End Point (Procurement):[Htt...        0.000241   \n1663  Odoo Application->End Point (Procurement):[Htt...        0.000291   \n2485  Odoo Application->End Point (Procurement):[Htt...        0.000291   \n1559  Odoo Application->End Point (Receive Goods):[H...        0.000204   \n2909  Odoo Application->db Server/Mail Server:[Pgsql...        0.000180   \n3126  Odoo Application->db Server/Mail Server:[Pgsql...        0.000180   \n2753  Odoo Application->db Server/Mail Server:[Pgsql...        0.000180   \n3307  Odoo Application->db Server/Mail Server:[Pgsql...        0.000180   \n2345  Odoo Application->db Server/Mail Server:[Pgsql...        0.000180   \n1703  Odoo Application->db Server/Mail Server:[Pgsql...        0.000180   \n2203  Odoo Application->db Server/Mail Server:[Pgsql...        0.000180   \n2094  Odoo Application->db Server/Mail Server:[Pgsql...        0.000180   \n1882  Odoo Application->db Server/Mail Server:[Pgsql...        0.000180   \n1383  Odoo Application->db Server/Mail Server:[Pgsql...        0.000180   \n1181  Odoo Application->db Server/Mail Server:[Pgsql...        0.000180   \n955   Odoo Application->db Server/Mail Server:[Pgsql...        0.000180   \n3622  Odoo Application->db Server/Mail Server:[Pgsql...        0.000180   \n798   Odoo Application->db Server/Mail Server:[Pgsql...        0.000180   \n601   Odoo Application->db Server/Mail Server:[Pgsql...        0.000180   \n501   Odoo Application->db Server/Mail Server:[Pgsql...        0.000180   \n3392  Odoo Application->db Server/Mail Server:[Pgsql...        0.000180   \n2173  End Point (Employee)->Odoo Application:[HttpRe...        0.000015   \n3683  End Point (Procurement)->Odoo Application:[Htt...        0.000014   \n835   Odoo Application->End Point (Procurement):[Htt...        0.000007   \n1923  Odoo Application->End Point (Procurement):[Htt...        0.000007   \n\n      NoAction  Activity End  pred_true   entropy  \n64    0.579766      0.419993      False  0.682409  \n2999  0.579766      0.419993      False  0.682409  \n2138  0.579766      0.419993      False  0.682409  \n154   0.579766      0.419993      False  0.682409  \n3477  0.579766      0.419993      False  0.682409  \n1657  0.579766      0.419993      False  0.682409  \n1249  0.579766      0.419993      False  0.682409  \n2244  0.579766      0.419993      False  0.682409  \n945   0.579766      0.419993      False  0.682409  \n2884  0.579766      0.419993      False  0.682409  \n822   0.579766      0.419993      False  0.682409  \n666   0.579766      0.419993      False  0.682409  \n654   0.579766      0.419993      False  0.682409  \n3339  0.579766      0.419993      False  0.682409  \n459   0.579766      0.419993      False  0.682409  \n2329  0.579766      0.419993      False  0.682409  \n1663  0.685292      0.314418      False  0.625139  \n2485  0.685292      0.314418      False  0.625139  \n1559  0.798705      0.201091      False  0.503801  \n2909  0.853453      0.146367      False  0.418057  \n3126  0.853453      0.146367      False  0.418057  \n2753  0.853453      0.146367      False  0.418057  \n3307  0.853453      0.146367      False  0.418057  \n2345  0.853453      0.146367      False  0.418057  \n1703  0.853453      0.146367      False  0.418057  \n2203  0.853453      0.146367      False  0.418057  \n2094  0.853453      0.146367      False  0.418057  \n1882  0.853453      0.146367      False  0.418057  \n1383  0.853453      0.146367      False  0.418057  \n1181  0.853453      0.146367      False  0.418057  \n955   0.853453      0.146367      False  0.418057  \n3622  0.853453      0.146367      False  0.418057  \n798   0.853453      0.146367      False  0.418057  \n601   0.853453      0.146367      False  0.418057  \n501   0.853453      0.146367      False  0.418057  \n3392  0.853453      0.146367      False  0.418057  \n2173  0.999905      0.000080      False  0.001012  \n3683  0.999911      0.000076      False  0.000960  \n835   0.999943      0.000049      False  0.000635  \n1923  0.999943      0.000049      False  0.000635  ",
      "text/html": "<div>\n<style scoped>\n    .dataframe tbody tr th:only-of-type {\n        vertical-align: middle;\n    }\n\n    .dataframe tbody tr th {\n        vertical-align: top;\n    }\n\n    .dataframe thead th {\n        text-align: right;\n    }\n</style>\n<table border=\"1\" class=\"dataframe\">\n  <thead>\n    <tr style=\"text-align: right;\">\n      <th></th>\n      <th>predicted</th>\n      <th>true</th>\n      <th>frame.number</th>\n      <th>file_data</th>\n      <th>evr</th>\n      <th>Activity Start</th>\n      <th>NoAction</th>\n      <th>Activity End</th>\n      <th>pred_true</th>\n      <th>entropy</th>\n    </tr>\n  </thead>\n  <tbody>\n    <tr>\n      <th>64</th>\n      <td>[NoAction]</td>\n      <td>[Activity End]</td>\n      <td>1887</td>\n      <td>[1]</td>\n      <td>Odoo Application-&gt;End Point (Procurement):[Htt...</td>\n      <td>0.000241</td>\n      <td>0.579766</td>\n      <td>0.419993</td>\n      <td>False</td>\n      <td>0.682409</td>\n    </tr>\n    <tr>\n      <th>2999</th>\n      <td>[NoAction]</td>\n      <td>[Activity End]</td>\n      <td>86895</td>\n      <td>[1]</td>\n      <td>Odoo Application-&gt;End Point (Procurement):[Htt...</td>\n      <td>0.000241</td>\n      <td>0.579766</td>\n      <td>0.419993</td>\n      <td>False</td>\n      <td>0.682409</td>\n    </tr>\n    <tr>\n      <th>2138</th>\n      <td>[NoAction]</td>\n      <td>[Activity End]</td>\n      <td>63000</td>\n      <td>[1]</td>\n      <td>Odoo Application-&gt;End Point (Procurement):[Htt...</td>\n      <td>0.000241</td>\n      <td>0.579766</td>\n      <td>0.419993</td>\n      <td>False</td>\n      <td>0.682409</td>\n    </tr>\n    <tr>\n      <th>154</th>\n      <td>[NoAction]</td>\n      <td>[Activity End]</td>\n      <td>5965</td>\n      <td>[1]</td>\n      <td>Odoo Application-&gt;End Point (Procurement):[Htt...</td>\n      <td>0.000241</td>\n      <td>0.579766</td>\n      <td>0.419993</td>\n      <td>False</td>\n      <td>0.682409</td>\n    </tr>\n    <tr>\n      <th>3477</th>\n      <td>[NoAction]</td>\n      <td>[Activity End]</td>\n      <td>100384</td>\n      <td>[1]</td>\n      <td>Odoo Application-&gt;End Point (Procurement):[Htt...</td>\n      <td>0.000241</td>\n      <td>0.579766</td>\n      <td>0.419993</td>\n      <td>False</td>\n      <td>0.682409</td>\n    </tr>\n    <tr>\n      <th>1657</th>\n      <td>[NoAction]</td>\n      <td>[Activity End]</td>\n      <td>49156</td>\n      <td>[1]</td>\n      <td>Odoo Application-&gt;End Point (Procurement):[Htt...</td>\n      <td>0.000241</td>\n      <td>0.579766</td>\n      <td>0.419993</td>\n      <td>False</td>\n      <td>0.682409</td>\n    </tr>\n    <tr>\n      <th>1249</th>\n      <td>[NoAction]</td>\n      <td>[Activity End]</td>\n      <td>37650</td>\n      <td>[1]</td>\n      <td>Odoo Application-&gt;End Point (Procurement):[Htt...</td>\n      <td>0.000241</td>\n      <td>0.579766</td>\n      <td>0.419993</td>\n      <td>False</td>\n      <td>0.682409</td>\n    </tr>\n    <tr>\n      <th>2244</th>\n      <td>[NoAction]</td>\n      <td>[Activity End]</td>\n      <td>65514</td>\n      <td>[1]</td>\n      <td>Odoo Application-&gt;End Point (Procurement):[Htt...</td>\n      <td>0.000241</td>\n      <td>0.579766</td>\n      <td>0.419993</td>\n      <td>False</td>\n      <td>0.682409</td>\n    </tr>\n    <tr>\n      <th>945</th>\n      <td>[NoAction]</td>\n      <td>[Activity End]</td>\n      <td>28958</td>\n      <td>[1]</td>\n      <td>Odoo Application-&gt;End Point (Procurement):[Htt...</td>\n      <td>0.000241</td>\n      <td>0.579766</td>\n      <td>0.419993</td>\n      <td>False</td>\n      <td>0.682409</td>\n    </tr>\n    <tr>\n      <th>2884</th>\n      <td>[NoAction]</td>\n      <td>[Activity End]</td>\n      <td>83750</td>\n      <td>[1]</td>\n      <td>Odoo Application-&gt;End Point (Procurement):[Htt...</td>\n      <td>0.000241</td>\n      <td>0.579766</td>\n      <td>0.419993</td>\n      <td>False</td>\n      <td>0.682409</td>\n    </tr>\n    <tr>\n      <th>822</th>\n      <td>[NoAction]</td>\n      <td>[Activity End]</td>\n      <td>25942</td>\n      <td>[1]</td>\n      <td>Odoo Application-&gt;End Point (Procurement):[Htt...</td>\n      <td>0.000241</td>\n      <td>0.579766</td>\n      <td>0.419993</td>\n      <td>False</td>\n      <td>0.682409</td>\n    </tr>\n    <tr>\n      <th>666</th>\n      <td>[NoAction]</td>\n      <td>[Activity End]</td>\n      <td>20873</td>\n      <td>[1]</td>\n      <td>Odoo Application-&gt;End Point (Procurement):[Htt...</td>\n      <td>0.000241</td>\n      <td>0.579766</td>\n      <td>0.419993</td>\n      <td>False</td>\n      <td>0.682409</td>\n    </tr>\n    <tr>\n      <th>654</th>\n      <td>[NoAction]</td>\n      <td>[Activity End]</td>\n      <td>20497</td>\n      <td>[1]</td>\n      <td>Odoo Application-&gt;End Point (Procurement):[Htt...</td>\n      <td>0.000241</td>\n      <td>0.579766</td>\n      <td>0.419993</td>\n      <td>False</td>\n      <td>0.682409</td>\n    </tr>\n    <tr>\n      <th>3339</th>\n      <td>[NoAction]</td>\n      <td>[Activity End]</td>\n      <td>96757</td>\n      <td>[1]</td>\n      <td>Odoo Application-&gt;End Point (Procurement):[Htt...</td>\n      <td>0.000241</td>\n      <td>0.579766</td>\n      <td>0.419993</td>\n      <td>False</td>\n      <td>0.682409</td>\n    </tr>\n    <tr>\n      <th>459</th>\n      <td>[NoAction]</td>\n      <td>[Activity End]</td>\n      <td>15058</td>\n      <td>[1]</td>\n      <td>Odoo Application-&gt;End Point (Procurement):[Htt...</td>\n      <td>0.000241</td>\n      <td>0.579766</td>\n      <td>0.419993</td>\n      <td>False</td>\n      <td>0.682409</td>\n    </tr>\n    <tr>\n      <th>2329</th>\n      <td>[NoAction]</td>\n      <td>[Activity End]</td>\n      <td>68715</td>\n      <td>[1]</td>\n      <td>Odoo Application-&gt;End Point (Procurement):[Htt...</td>\n      <td>0.000241</td>\n      <td>0.579766</td>\n      <td>0.419993</td>\n      <td>False</td>\n      <td>0.682409</td>\n    </tr>\n    <tr>\n      <th>1663</th>\n      <td>[NoAction]</td>\n      <td>[Activity End]</td>\n      <td>49303</td>\n      <td>[1]</td>\n      <td>Odoo Application-&gt;End Point (Procurement):[Htt...</td>\n      <td>0.000291</td>\n      <td>0.685292</td>\n      <td>0.314418</td>\n      <td>False</td>\n      <td>0.625139</td>\n    </tr>\n    <tr>\n      <th>2485</th>\n      <td>[NoAction]</td>\n      <td>[Activity End]</td>\n      <td>73887</td>\n      <td>[1]</td>\n      <td>Odoo Application-&gt;End Point (Procurement):[Htt...</td>\n      <td>0.000291</td>\n      <td>0.685292</td>\n      <td>0.314418</td>\n      <td>False</td>\n      <td>0.625139</td>\n    </tr>\n    <tr>\n      <th>1559</th>\n      <td>[NoAction]</td>\n      <td>[Activity End]</td>\n      <td>45841</td>\n      <td>[]</td>\n      <td>Odoo Application-&gt;End Point (Receive Goods):[H...</td>\n      <td>0.000204</td>\n      <td>0.798705</td>\n      <td>0.201091</td>\n      <td>False</td>\n      <td>0.503801</td>\n    </tr>\n    <tr>\n      <th>2909</th>\n      <td>[NoAction]</td>\n      <td>[Activity End]</td>\n      <td>84553</td>\n      <td></td>\n      <td>Odoo Application-&gt;db Server/Mail Server:[Pgsql...</td>\n      <td>0.000180</td>\n      <td>0.853453</td>\n      <td>0.146367</td>\n      <td>False</td>\n      <td>0.418057</td>\n    </tr>\n    <tr>\n      <th>3126</th>\n      <td>[NoAction]</td>\n      <td>[Activity End]</td>\n      <td>91394</td>\n      <td></td>\n      <td>Odoo Application-&gt;db Server/Mail Server:[Pgsql...</td>\n      <td>0.000180</td>\n      <td>0.853453</td>\n      <td>0.146367</td>\n      <td>False</td>\n      <td>0.418057</td>\n    </tr>\n    <tr>\n      <th>2753</th>\n      <td>[NoAction]</td>\n      <td>[Activity End]</td>\n      <td>80769</td>\n      <td></td>\n      <td>Odoo Application-&gt;db Server/Mail Server:[Pgsql...</td>\n      <td>0.000180</td>\n      <td>0.853453</td>\n      <td>0.146367</td>\n      <td>False</td>\n      <td>0.418057</td>\n    </tr>\n    <tr>\n      <th>3307</th>\n      <td>[NoAction]</td>\n      <td>[Activity End]</td>\n      <td>96040</td>\n      <td></td>\n      <td>Odoo Application-&gt;db Server/Mail Server:[Pgsql...</td>\n      <td>0.000180</td>\n      <td>0.853453</td>\n      <td>0.146367</td>\n      <td>False</td>\n      <td>0.418057</td>\n    </tr>\n    <tr>\n      <th>2345</th>\n      <td>[NoAction]</td>\n      <td>[Activity End]</td>\n      <td>69362</td>\n      <td></td>\n      <td>Odoo Application-&gt;db Server/Mail Server:[Pgsql...</td>\n      <td>0.000180</td>\n      <td>0.853453</td>\n      <td>0.146367</td>\n      <td>False</td>\n      <td>0.418057</td>\n    </tr>\n    <tr>\n      <th>1703</th>\n      <td>[NoAction]</td>\n      <td>[Activity End]</td>\n      <td>50544</td>\n      <td></td>\n      <td>Odoo Application-&gt;db Server/Mail Server:[Pgsql...</td>\n      <td>0.000180</td>\n      <td>0.853453</td>\n      <td>0.146367</td>\n      <td>False</td>\n      <td>0.418057</td>\n    </tr>\n    <tr>\n      <th>2203</th>\n      <td>[NoAction]</td>\n      <td>[Activity End]</td>\n      <td>64737</td>\n      <td></td>\n      <td>Odoo Application-&gt;db Server/Mail Server:[Pgsql...</td>\n      <td>0.000180</td>\n      <td>0.853453</td>\n      <td>0.146367</td>\n      <td>False</td>\n      <td>0.418057</td>\n    </tr>\n    <tr>\n      <th>2094</th>\n      <td>[NoAction]</td>\n      <td>[Activity End]</td>\n      <td>62075</td>\n      <td></td>\n      <td>Odoo Application-&gt;db Server/Mail Server:[Pgsql...</td>\n      <td>0.000180</td>\n      <td>0.853453</td>\n      <td>0.146367</td>\n      <td>False</td>\n      <td>0.418057</td>\n    </tr>\n    <tr>\n      <th>1882</th>\n      <td>[NoAction]</td>\n      <td>[Activity End]</td>\n      <td>56409</td>\n      <td></td>\n      <td>Odoo Application-&gt;db Server/Mail Server:[Pgsql...</td>\n      <td>0.000180</td>\n      <td>0.853453</td>\n      <td>0.146367</td>\n      <td>False</td>\n      <td>0.418057</td>\n    </tr>\n    <tr>\n      <th>1383</th>\n      <td>[NoAction]</td>\n      <td>[Activity End]</td>\n      <td>40869</td>\n      <td></td>\n      <td>Odoo Application-&gt;db Server/Mail Server:[Pgsql...</td>\n      <td>0.000180</td>\n      <td>0.853453</td>\n      <td>0.146367</td>\n      <td>False</td>\n      <td>0.418057</td>\n    </tr>\n    <tr>\n      <th>1181</th>\n      <td>[NoAction]</td>\n      <td>[Activity End]</td>\n      <td>36475</td>\n      <td></td>\n      <td>Odoo Application-&gt;db Server/Mail Server:[Pgsql...</td>\n      <td>0.000180</td>\n      <td>0.853453</td>\n      <td>0.146367</td>\n      <td>False</td>\n      <td>0.418057</td>\n    </tr>\n    <tr>\n      <th>955</th>\n      <td>[NoAction]</td>\n      <td>[Activity End]</td>\n      <td>29042</td>\n      <td></td>\n      <td>Odoo Application-&gt;db Server/Mail Server:[Pgsql...</td>\n      <td>0.000180</td>\n      <td>0.853453</td>\n      <td>0.146367</td>\n      <td>False</td>\n      <td>0.418057</td>\n    </tr>\n    <tr>\n      <th>3622</th>\n      <td>[NoAction]</td>\n      <td>[Activity End]</td>\n      <td>104695</td>\n      <td></td>\n      <td>Odoo Application-&gt;db Server/Mail Server:[Pgsql...</td>\n      <td>0.000180</td>\n      <td>0.853453</td>\n      <td>0.146367</td>\n      <td>False</td>\n      <td>0.418057</td>\n    </tr>\n    <tr>\n      <th>798</th>\n      <td>[NoAction]</td>\n      <td>[Activity End]</td>\n      <td>25583</td>\n      <td></td>\n      <td>Odoo Application-&gt;db Server/Mail Server:[Pgsql...</td>\n      <td>0.000180</td>\n      <td>0.853453</td>\n      <td>0.146367</td>\n      <td>False</td>\n      <td>0.418057</td>\n    </tr>\n    <tr>\n      <th>601</th>\n      <td>[NoAction]</td>\n      <td>[Activity End]</td>\n      <td>19296</td>\n      <td></td>\n      <td>Odoo Application-&gt;db Server/Mail Server:[Pgsql...</td>\n      <td>0.000180</td>\n      <td>0.853453</td>\n      <td>0.146367</td>\n      <td>False</td>\n      <td>0.418057</td>\n    </tr>\n    <tr>\n      <th>501</th>\n      <td>[NoAction]</td>\n      <td>[Activity End]</td>\n      <td>15871</td>\n      <td></td>\n      <td>Odoo Application-&gt;db Server/Mail Server:[Pgsql...</td>\n      <td>0.000180</td>\n      <td>0.853453</td>\n      <td>0.146367</td>\n      <td>False</td>\n      <td>0.418057</td>\n    </tr>\n    <tr>\n      <th>3392</th>\n      <td>[NoAction]</td>\n      <td>[Activity End]</td>\n      <td>98654</td>\n      <td></td>\n      <td>Odoo Application-&gt;db Server/Mail Server:[Pgsql...</td>\n      <td>0.000180</td>\n      <td>0.853453</td>\n      <td>0.146367</td>\n      <td>False</td>\n      <td>0.418057</td>\n    </tr>\n    <tr>\n      <th>2173</th>\n      <td>[NoAction]</td>\n      <td>[Activity End]</td>\n      <td>64074</td>\n      <td>[odoo01, 2, PWD1234, sale.order.line, create, ...</td>\n      <td>End Point (Employee)-&gt;Odoo Application:[HttpRe...</td>\n      <td>0.000015</td>\n      <td>0.999905</td>\n      <td>0.000080</td>\n      <td>False</td>\n      <td>0.001012</td>\n    </tr>\n    <tr>\n      <th>3683</th>\n      <td>[NoAction]</td>\n      <td>[Activity End]</td>\n      <td>105925</td>\n      <td>[odoo01, 2, PWD1234, sale.order, write, 384, s...</td>\n      <td>End Point (Procurement)-&gt;Odoo Application:[Htt...</td>\n      <td>0.000014</td>\n      <td>0.999911</td>\n      <td>0.000076</td>\n      <td>False</td>\n      <td>0.000960</td>\n    </tr>\n    <tr>\n      <th>835</th>\n      <td>[NoAction]</td>\n      <td>[Activity End]</td>\n      <td>26269</td>\n      <td>[1]</td>\n      <td>Odoo Application-&gt;End Point (Procurement):[Htt...</td>\n      <td>0.000007</td>\n      <td>0.999943</td>\n      <td>0.000049</td>\n      <td>False</td>\n      <td>0.000635</td>\n    </tr>\n    <tr>\n      <th>1923</th>\n      <td>[NoAction]</td>\n      <td>[Activity End]</td>\n      <td>57762</td>\n      <td>[1]</td>\n      <td>Odoo Application-&gt;End Point (Procurement):[Htt...</td>\n      <td>0.000007</td>\n      <td>0.999943</td>\n      <td>0.000049</td>\n      <td>False</td>\n      <td>0.000635</td>\n    </tr>\n  </tbody>\n</table>\n</div>"
     },
     "execution_count": 33,
     "metadata": {},
     "output_type": "execute_result"
    }
   ],
   "source": [
    "df_eval[~ df_eval[\"pred_true\"]].sort_values(by='entropy', ascending=False)"
   ],
   "metadata": {
    "collapsed": false,
    "ExecuteTime": {
     "end_time": "2024-04-29T17:51:07.526813Z",
     "start_time": "2024-04-29T17:51:07.397281Z"
    }
   },
   "id": "f0ef00109c4bc1ba"
  },
  {
   "cell_type": "code",
   "execution_count": 34,
   "outputs": [],
   "source": [
    "eval_cols = [\"event_with_roles\",\"pgsql.query\", \"request_method_call\", \"selective_file_data\", \n",
    "        \"origin_method\",\"origin_file_data\"]\n",
    "\n",
    "df_eval = df_eval.merge(df_test[[\"frame.number\", *eval_cols]], how=\"left\",left_on=\"frame.number\", right_on=\"frame.number\")"
   ],
   "metadata": {
    "collapsed": false,
    "ExecuteTime": {
     "end_time": "2024-04-29T17:51:07.528090Z",
     "start_time": "2024-04-29T17:51:07.428545Z"
    }
   },
   "id": "85ca496858c26f9"
  },
  {
   "cell_type": "code",
   "execution_count": 35,
   "outputs": [],
   "source": [
    "df_eval[\"true_first\"] = df_eval[\"true\"].apply(lambda x: x[0])"
   ],
   "metadata": {
    "collapsed": false,
    "ExecuteTime": {
     "end_time": "2024-04-29T17:51:07.528501Z",
     "start_time": "2024-04-29T17:51:07.462602Z"
    }
   },
   "id": "f92003215f34f41"
  },
  {
   "cell_type": "markdown",
   "source": [
    "We observe a high entropy > 0.5 for all wrong classifications\n",
    "\n",
    "-> Apply fallback model for this cases"
   ],
   "metadata": {
    "collapsed": false
   },
   "id": "b2bc8f3dfd034489"
  },
  {
   "cell_type": "markdown",
   "source": [
    "## Activity Classifier"
   ],
   "metadata": {
    "collapsed": false
   },
   "id": "5bdc70e88fa15243"
  },
  {
   "cell_type": "code",
   "execution_count": 36,
   "outputs": [],
   "source": [
    "def sequence_by_activities(data, seq_data):\n",
    "    return [data[seq_data == i] for i in range(seq_data.max())]"
   ],
   "metadata": {
    "collapsed": false,
    "ExecuteTime": {
     "end_time": "2024-04-29T17:51:07.550777Z",
     "start_time": "2024-04-29T17:51:07.476851Z"
    }
   },
   "id": "b44e957d2bdcfb89"
  },
  {
   "cell_type": "code",
   "execution_count": 37,
   "outputs": [],
   "source": [
    "feature_cols = [\"event_with_roles\", \"request_method_call\", \"selective_file_data\", \n",
    "        \"origin_method\",\"origin_file_data\"]\n"
   ],
   "metadata": {
    "collapsed": false,
    "ExecuteTime": {
     "end_time": "2024-04-29T17:51:07.550954Z",
     "start_time": "2024-04-29T17:51:07.488735Z"
    }
   },
   "id": "b1ac8b9bff822d33"
  },
  {
   "cell_type": "code",
   "execution_count": 38,
   "outputs": [],
   "source": [
    "# List of dataframes each containing one activity sequence\n",
    "train_activity_sequences = sequence_by_activities(df_train, df_train[\"SequenceNumber\"])"
   ],
   "metadata": {
    "collapsed": false,
    "ExecuteTime": {
     "end_time": "2024-04-29T17:51:07.854093Z",
     "start_time": "2024-04-29T17:51:07.502185Z"
    }
   },
   "id": "8ffa7762a6c25ea5"
  },
  {
   "cell_type": "code",
   "execution_count": 39,
   "outputs": [],
   "source": [
    "# Sequences without window features\n",
    "\n",
    "def dict_to_feature_sequence(dict):\n",
    "    return [{**d, \"bias\": 1.0} for d in dict]\n",
    "\n",
    "def df_to_features(df):\n",
    "    return dict_to_feature_sequence(df.to_dict(\"records\"))\n",
    "\n",
    "train_features_seq = [df_to_features(df[feature_cols]) for df in train_activity_sequences]\n",
    "train_labels_seq = [df[\"BusinessActivity\"].values for df in train_activity_sequences]"
   ],
   "metadata": {
    "collapsed": false,
    "ExecuteTime": {
     "end_time": "2024-04-29T17:51:08.090486Z",
     "start_time": "2024-04-29T17:51:07.855098Z"
    }
   },
   "id": "3042c5e6d3df8baf"
  },
  {
   "cell_type": "code",
   "execution_count": 40,
   "outputs": [],
   "source": [
    "# Single Events no window features \n",
    "\n",
    "def dict_to_feature(dict):\n",
    "    return [[{**d, \"bias\": 1.0}] for d in dict]\n",
    "\n",
    "def extract_labels(labels):\n",
    "    return [[y] for y in labels]\n",
    "\n",
    "train_features = dict_to_feature(df_train[feature_cols].to_dict(\"records\"))\n",
    "train_labels = extract_labels(df_train[\"BusinessActivity\"])"
   ],
   "metadata": {
    "collapsed": false,
    "ExecuteTime": {
     "end_time": "2024-04-29T17:51:08.183920Z",
     "start_time": "2024-04-29T17:51:08.091370Z"
    }
   },
   "id": "89e4cde60f1387a0"
  },
  {
   "cell_type": "code",
   "execution_count": 41,
   "outputs": [],
   "source": [
    "# Single Events w. window features\n",
    "\n",
    "# Apply sequencing - flatten later\n",
    "\n",
    "def seq2features(seq, bw, fw): \n",
    "    return [event2features(seq, i, bw, fw) for i in range(len(seq))]\n",
    "\n",
    "def event2features(seq, i, bw, fw):\n",
    "    features = {\"bias\": 1.0}\n",
    "    \n",
    "    features.update({\n",
    "        f\"0:{k}\": v for k,v in seq[i].items()\n",
    "    })\n",
    "    \n",
    "    for j in range(1, bw+1): \n",
    "        index = i-j\n",
    "        if index >= 0: \n",
    "            features.update({\n",
    "                f\"-{j}:{k}\": v for k,v in seq[index].items()\n",
    "            })\n",
    "        else: \n",
    "            features.update({\n",
    "                 f\"-{j}:{k}\": \"NoMessage\" for k,_ in seq[i].items()\n",
    "            })\n",
    "        \n",
    "    for j in range(1,fw+1): \n",
    "        index = i + j\n",
    "        if index < len(seq): \n",
    "             features.update({\n",
    "                f\"+{j}:{k}\": v for k,v in seq[index].items()\n",
    "            })\n",
    "        else: \n",
    "            features.update({\n",
    "                 f\"+{j}:{k}\": \"NoMessage\" for k,_ in seq[i].items()\n",
    "            })\n",
    "            \n",
    "    return features\n",
    "\n",
    "train_features_seq_window = [seq2features(seq[feature_cols].to_dict(\"records\"), 10,10) for seq in train_activity_sequences]\n",
    "train_labels_seq_window = [seq[\"BusinessActivity\"] for seq in train_activity_sequences]"
   ],
   "metadata": {
    "collapsed": false,
    "ExecuteTime": {
     "end_time": "2024-04-29T17:51:09.978410Z",
     "start_time": "2024-04-29T17:51:08.186550Z"
    }
   },
   "id": "78ee2c6fb44003d6"
  },
  {
   "cell_type": "code",
   "execution_count": 43,
   "outputs": [],
   "source": [
    "def flatten_and_encapsulate(list_of_list):\n",
    "    return [[item] for sublist in list_of_list for item in sublist]\n",
    "\n",
    "X_train = flatten_and_encapsulate(train_features_seq_window)\n",
    "y_train = flatten_and_encapsulate(train_labels_seq_window)"
   ],
   "metadata": {
    "collapsed": false,
    "ExecuteTime": {
     "end_time": "2024-04-29T17:51:10.120237Z",
     "start_time": "2024-04-29T17:51:09.999340Z"
    }
   },
   "id": "bac030bb3c5bc3d"
  },
  {
   "cell_type": "code",
   "execution_count": 115,
   "outputs": [
    {
     "name": "stdout",
     "output_type": "stream",
     "text": [
      "CPU times: user 10.5 s, sys: 215 ms, total: 10.7 s\n",
      "Wall time: 11.8 s\n"
     ]
    },
    {
     "data": {
      "text/plain": "CRF(all_possible_transitions=True, c1=0.1, c2=0.01, max_iterations=200)",
      "text/html": "<style>#sk-container-id-3 {color: black;}#sk-container-id-3 pre{padding: 0;}#sk-container-id-3 div.sk-toggleable {background-color: white;}#sk-container-id-3 label.sk-toggleable__label {cursor: pointer;display: block;width: 100%;margin-bottom: 0;padding: 0.3em;box-sizing: border-box;text-align: center;}#sk-container-id-3 label.sk-toggleable__label-arrow:before {content: \"▸\";float: left;margin-right: 0.25em;color: #696969;}#sk-container-id-3 label.sk-toggleable__label-arrow:hover:before {color: black;}#sk-container-id-3 div.sk-estimator:hover label.sk-toggleable__label-arrow:before {color: black;}#sk-container-id-3 div.sk-toggleable__content {max-height: 0;max-width: 0;overflow: hidden;text-align: left;background-color: #f0f8ff;}#sk-container-id-3 div.sk-toggleable__content pre {margin: 0.2em;color: black;border-radius: 0.25em;background-color: #f0f8ff;}#sk-container-id-3 input.sk-toggleable__control:checked~div.sk-toggleable__content {max-height: 200px;max-width: 100%;overflow: auto;}#sk-container-id-3 input.sk-toggleable__control:checked~label.sk-toggleable__label-arrow:before {content: \"▾\";}#sk-container-id-3 div.sk-estimator input.sk-toggleable__control:checked~label.sk-toggleable__label {background-color: #d4ebff;}#sk-container-id-3 div.sk-label input.sk-toggleable__control:checked~label.sk-toggleable__label {background-color: #d4ebff;}#sk-container-id-3 input.sk-hidden--visually {border: 0;clip: rect(1px 1px 1px 1px);clip: rect(1px, 1px, 1px, 1px);height: 1px;margin: -1px;overflow: hidden;padding: 0;position: absolute;width: 1px;}#sk-container-id-3 div.sk-estimator {font-family: monospace;background-color: #f0f8ff;border: 1px dotted black;border-radius: 0.25em;box-sizing: border-box;margin-bottom: 0.5em;}#sk-container-id-3 div.sk-estimator:hover {background-color: #d4ebff;}#sk-container-id-3 div.sk-parallel-item::after {content: \"\";width: 100%;border-bottom: 1px solid gray;flex-grow: 1;}#sk-container-id-3 div.sk-label:hover label.sk-toggleable__label {background-color: #d4ebff;}#sk-container-id-3 div.sk-serial::before {content: \"\";position: absolute;border-left: 1px solid gray;box-sizing: border-box;top: 0;bottom: 0;left: 50%;z-index: 0;}#sk-container-id-3 div.sk-serial {display: flex;flex-direction: column;align-items: center;background-color: white;padding-right: 0.2em;padding-left: 0.2em;position: relative;}#sk-container-id-3 div.sk-item {position: relative;z-index: 1;}#sk-container-id-3 div.sk-parallel {display: flex;align-items: stretch;justify-content: center;background-color: white;position: relative;}#sk-container-id-3 div.sk-item::before, #sk-container-id-3 div.sk-parallel-item::before {content: \"\";position: absolute;border-left: 1px solid gray;box-sizing: border-box;top: 0;bottom: 0;left: 50%;z-index: -1;}#sk-container-id-3 div.sk-parallel-item {display: flex;flex-direction: column;z-index: 1;position: relative;background-color: white;}#sk-container-id-3 div.sk-parallel-item:first-child::after {align-self: flex-end;width: 50%;}#sk-container-id-3 div.sk-parallel-item:last-child::after {align-self: flex-start;width: 50%;}#sk-container-id-3 div.sk-parallel-item:only-child::after {width: 0;}#sk-container-id-3 div.sk-dashed-wrapped {border: 1px dashed gray;margin: 0 0.4em 0.5em 0.4em;box-sizing: border-box;padding-bottom: 0.4em;background-color: white;}#sk-container-id-3 div.sk-label label {font-family: monospace;font-weight: bold;display: inline-block;line-height: 1.2em;}#sk-container-id-3 div.sk-label-container {text-align: center;}#sk-container-id-3 div.sk-container {/* jupyter's `normalize.less` sets `[hidden] { display: none; }` but bootstrap.min.css set `[hidden] { display: none !important; }` so we also need the `!important` here to be able to override the default hidden behavior on the sphinx rendered scikit-learn.org. See: https://github.com/scikit-learn/scikit-learn/issues/21755 */display: inline-block !important;position: relative;}#sk-container-id-3 div.sk-text-repr-fallback {display: none;}</style><div id=\"sk-container-id-3\" class=\"sk-top-container\"><div class=\"sk-text-repr-fallback\"><pre>CRF(all_possible_transitions=True, c1=0.1, c2=0.01, max_iterations=200)</pre><b>In a Jupyter environment, please rerun this cell to show the HTML representation or trust the notebook. <br />On GitHub, the HTML representation is unable to render, please try loading this page with nbviewer.org.</b></div><div class=\"sk-container\" hidden><div class=\"sk-item\"><div class=\"sk-estimator sk-toggleable\"><input class=\"sk-toggleable__control sk-hidden--visually\" id=\"sk-estimator-id-3\" type=\"checkbox\" checked><label for=\"sk-estimator-id-3\" class=\"sk-toggleable__label sk-toggleable__label-arrow\">CRF</label><div class=\"sk-toggleable__content\"><pre>CRF(all_possible_transitions=True, c1=0.1, c2=0.01, max_iterations=200)</pre></div></div></div></div></div>"
     },
     "execution_count": 115,
     "metadata": {},
     "output_type": "execute_result"
    }
   ],
   "source": [
    "%%time\n",
    "import sklearn_crfsuite\n",
    "\n",
    "activity_classifier= sklearn_crfsuite.CRF(\n",
    "    max_iterations=200,\n",
    "    c1=0.1,\n",
    "    c2=0.01,\n",
    "    all_possible_transitions=True\n",
    "    #all_possible_transitions=True\n",
    ")\n",
    "activity_classifier.fit(X_train, y_train)"
   ],
   "metadata": {
    "collapsed": false,
    "ExecuteTime": {
     "end_time": "2024-04-29T17:59:57.243437Z",
     "start_time": "2024-04-29T17:59:45.432014Z"
    }
   },
   "id": "7f293eb4aefb36b4"
  },
  {
   "cell_type": "code",
   "execution_count": 46,
   "outputs": [],
   "source": [
    "def confidence_weighted_majority_voting(predictions):\n",
    "    \"\"\"\n",
    "    Perform confidence-weighted majority voting on each sublist of predictions.\n",
    "\n",
    "    :param predictions: A list of dictionaries where each dictionary contains predictions and their confidences.\n",
    "    :return: A list of majority voted predictions for each sublist.\n",
    "    \"\"\"\n",
    "    majority_voted_predictions = []\n",
    "    for sublist in predictions:\n",
    "        if not sublist:\n",
    "            # If the sublist is empty, append None to the majority voted predictions\n",
    "            majority_voted_predictions.append(None)\n",
    "        else:\n",
    "            # Initialize variables to store cumulative confidences for each prediction\n",
    "            cumulative_confidences = {label: 0.0 for label in sublist[0].keys()}\n",
    "            \n",
    "            # Calculate cumulative confidences for each prediction across all dictionaries in the sublist\n",
    "            for prediction_dict in sublist:\n",
    "                for label, confidence in prediction_dict.items():\n",
    "                    cumulative_confidences[label] += confidence\n",
    "            \n",
    "            # Find the prediction with the maximum cumulative confidence\n",
    "            majority_voted_prediction = max(cumulative_confidences, key=cumulative_confidences.get)\n",
    "            majority_voted_predictions.append(majority_voted_prediction)\n",
    "\n",
    "    return majority_voted_predictions"
   ],
   "metadata": {
    "collapsed": false,
    "ExecuteTime": {
     "end_time": "2024-04-29T17:51:20.538791Z",
     "start_time": "2024-04-29T17:51:20.487243Z"
    }
   },
   "id": "77fad433b8e22ba5"
  },
  {
   "cell_type": "markdown",
   "source": [
    "## Activity Model\n",
    "The activity model utilises multiple sliding windows over the training data for pattern matching\n",
    "\n"
   ],
   "metadata": {
    "collapsed": false
   },
   "id": "c44ba4a1e5a9b0d6"
  },
  {
   "cell_type": "code",
   "execution_count": 47,
   "outputs": [
    {
     "name": "stdout",
     "output_type": "stream",
     "text": [
      "Reduced the number of sequences from 408 to 66 unique ones\n"
     ]
    }
   ],
   "source": [
    "from sklearn.preprocessing import LabelEncoder\n",
    "from numpy.lib.stride_tricks import sliding_window_view\n",
    "\n",
    "\n",
    "def get_unique_sequences(seq_data):\n",
    "    # Convert each array to a tuple and create a set of tuples\n",
    "    array_set = set(tuple(arr) for arr in seq_data)\n",
    "\n",
    "    # Convert the set of tuples back to a list of NumPy arrays\n",
    "    return [np.array(arr) for arr in array_set]\n",
    "\n",
    "\n",
    "df_train[\"joined\"] = df_train[\"event_with_roles\"] + df_train[\"selective_file_data\"]\n",
    "\n",
    "# Label Encode Training Data \n",
    "le = LabelEncoder()\n",
    "df_train[\"joined_LE\"] = le.fit_transform(df_train[\"joined\"])\n",
    "\n",
    "# Mark groups of Instance Number and BusinessActivity with sequence numbers\n",
    "df_train = df_train.sort_values(by=[\"InstanceNumber\", \"BusinessActivity\", \"frame.number\"])\n",
    "df_train[\"SequenceNumber\"] = df_train.groupby([\"BusinessActivity\", \"InstanceNumber\"]).ngroup()\n",
    "# Align Sequence Numbers so that they start at 0\n",
    "df_train[\"SequenceNumber\"] -= df_train['SequenceNumber'].min()\n",
    "\n",
    "# Divides dataframe into arrays according to to Sequence Data Indicator\n",
    "data_joined_LE = sequence_by_activities(df_train[\"joined_LE\"], df_train[\"SequenceNumber\"])\n",
    "\n",
    "unique_sequences = get_unique_sequences(data_joined_LE)\n",
    "\n",
    "print(f\"Reduced the number of sequences from {len(data_joined_LE)} to {len(unique_sequences)} unique ones\")\n",
    "\n",
    "def get_activity_model_data(max_window_length):\n",
    "    return [np.concatenate([sliding_window_view(seq, i) for seq in unique_sequences], axis=0) for i in\n",
    "                       range(max_window_length)]\n",
    "    \n",
    "\n",
    "# form sliding window sequences of Size N for Training Data \n",
    "#activity_model_data = get_activity_model_data(4)"
   ],
   "metadata": {
    "collapsed": false,
    "ExecuteTime": {
     "end_time": "2024-04-29T17:51:20.740385Z",
     "start_time": "2024-04-29T17:51:20.502935Z"
    }
   },
   "id": "bc0282a2386f9d98"
  },
  {
   "cell_type": "markdown",
   "source": [
    "# Action Loop\n",
    "\n",
    "Main loop. Gets raw R1 data as input. \n",
    "Applies filtering, activity action and sequence classification"
   ],
   "metadata": {
    "collapsed": false
   },
   "id": "cd4922a5f25b0f9d"
  },
  {
   "cell_type": "code",
   "execution_count": 48,
   "outputs": [],
   "source": [
    "records = df_il_in.to_dict(\"records\")"
   ],
   "metadata": {
    "collapsed": false,
    "ExecuteTime": {
     "end_time": "2024-04-29T17:51:22.268455Z",
     "start_time": "2024-04-29T17:51:20.720478Z"
    }
   },
   "id": "e79d8e1cbb43d45d"
  },
  {
   "cell_type": "code",
   "execution_count": 49,
   "outputs": [],
   "source": [
    "from event_loop.event import Event\n",
    "\n",
    "\n",
    "def get_max_from_dict(d: dict):\n",
    "    return max(d, key= lambda k: d[k])\n",
    "    \n",
    "\n",
    "def classify_event(event: Event): \n",
    "    margs = crf.predict_marginals_single([event.to_features()])[0]\n",
    "    pred = get_max_from_dict(margs)\n",
    "    \n",
    "    e = entropy([p for p in margs.values()])\n",
    "    \n",
    "    #print(f\"{event.frame_number} {pred} {margs[pred]:.3f} {e:.3f},\")\n",
    "    \n",
    "    \n",
    "    true_val = df_eval[df_eval[\"frame.number\"] == event.frame_number][\"true\"].iloc[0][0]\n",
    "    #print(true_val)\n",
    "    \n",
    "    # Change to entropy of prediction\n",
    "    if e > ENTROPY_THRESHOLD: \n",
    "    #if pred != true_val:\n",
    "        # If pred is wrong we have two options for \"wrong classifications\" \n",
    "        # 1 -> We have No Action predicted although the stack should end here \n",
    "        # Idea 1: If the stack did not change after N events, emit it. \n",
    "        \n",
    "        # Mark the confidence on the event.\n",
    "        event.confidence = False \n",
    "\n",
    "\n",
    "        # 2 -> We have End predicted although the stack should continue.        \n",
    "        event.activity_action = pred\n",
    "            \n",
    "    else: \n",
    "        event.confidence = True\n",
    "        event.activity_action = pred\n"
   ],
   "metadata": {
    "collapsed": false,
    "ExecuteTime": {
     "end_time": "2024-04-29T17:51:22.299197Z",
     "start_time": "2024-04-29T17:51:22.269163Z"
    }
   },
   "id": "f8e7e7ea369bce9a"
  },
  {
   "cell_type": "code",
   "execution_count": 50,
   "outputs": [],
   "source": [
    "from event_loop.stack import Stack\n",
    "\n",
    "\n",
    "def search_stack_for_request_frame(frame_number):\n",
    "    for index, stack in enumerate(stacks):\n",
    "        if stack.contains_request_frame(frame_number): \n",
    "            return index\n",
    "    return -1\n",
    "\n",
    "def search_window_for_sequence(seq): \n",
    "    \"\"\"\n",
    "    Check for pattern matches with the training data and return the count\n",
    "    :param seq: array_like\n",
    "                sequence of events\n",
    "            \n",
    "    :return: number of occurences of seq in training data\n",
    "    \"\"\"\n",
    "    return np.sum(np.all(activity_model_data[len(seq)] == seq, axis = 1))\n",
    "\n",
    "\n",
    "def classify_by_train_sequences(event: Event,n : int, exclude_indices: list[int]): \n",
    "    # search for existing stacks in training data \n",
    "    sequences = [le.transform([ e.to_activity_model_string() for e in stack]+[event.to_activity_model_string()]) for stack in stacks]  \n",
    "    \n",
    "    # loop to max 2 elements down\n",
    "    for i in range(n, 1, -1):   \n",
    "        res = [search_window_for_sequence(seq[-i:]) if j not in exclude_indices else -1 for j,seq in enumerate(sequences)]\n",
    "        \n",
    "        max_res = max(res)\n",
    "        max_res_count = res.count(max_res)\n",
    "        idx = np.argmax(res)\n",
    "        \n",
    "        if max_res > 0: \n",
    "            #print(\"res:\",res, max_res, max_res_count, \"->\", idx)\n",
    "            return idx\n",
    "        \n",
    "    return -1\n",
    "\n",
    "def search_stream_index(event: Event, exclude_indices: list[int]) -> int: \n",
    "    indices = [i for i,stack in enumerate(stacks) if stack.contains_stream_index(event.stream_index) and i not in exclude_indices]\n",
    "\n",
    "    if len(indices) == 1: \n",
    "        return indices[0]\n",
    "    else:\n",
    "        return -1\n",
    "    \n",
    "\n",
    "def check_stack_attributes(stacks: list[Stack], event: Event, exclude_indices: list[int]) -> int:\n",
    "    for key, value in event.attributes.items():\n",
    "        if key in PTP_ATTRIBUTES and value:\n",
    "            indices = [i for i, stack in enumerate(stacks) if stack.contains_attribute(key,value) and i not in exclude_indices]\n",
    "            print()\n",
    "            \n",
    "            if len(indices) ==1: \n",
    "                print(\"MATCH\", indices)\n",
    "                # we have a clear match -> return idx\n",
    "                return indices[0]\n",
    "\n",
    "    return -1\n",
    "\n",
    "def check_stack_attributes_case_id(stacks: list[Stack], event: Event, exclude_indices: list[int]) -> int:\n",
    "    for key, value in event.attributes.items():\n",
    "        if key in PTP_ATTRIBUTES and value:\n",
    "            indices = [i for i, stack in enumerate(stacks) if stack.case_id == Stack.case_id_from_attribute(key, value)]\n",
    "            \n",
    "            if len(indices) ==1: \n",
    "                # we have a clear match -> return idx\n",
    "                return indices[0]\n",
    "\n",
    "    return -1\n",
    "\n",
    "\n",
    "def exclude_stacks_by_attribute(stacks: list[Stack], event: Event, stacks_out: list[Stack]) -> list[int]: \n",
    "    \n",
    "    exclude_indices = []\n",
    "\n",
    "        \n",
    "    for key, value in event.attributes.items():\n",
    "        if key in PTP_ATTRIBUTES and value:\n",
    "            # exlucde all stacks that have a different attribute \n",
    "            exclude_indices.extend(i for i, stack in enumerate(stacks) if stack.has_attribute(key) and not stack.contains_attribute(key, value))\n",
    "    return exclude_indices\n",
    "\n",
    "def exclude_stacks_by_attribute_case_id(stacks: list[Stack], event: Event, stacks_out: list[Stack]) -> list[int]: \n",
    "    \n",
    "    exclude_indices = []\n",
    "\n",
    "    for key, value in event.attributes.items():\n",
    "        if key in PTP_ATTRIBUTES and value:\n",
    "            # exclude all stacks that have a different attribute \n",
    "            # \n",
    "            for i, stack in enumerate(stacks): \n",
    "                event_case_id = Stack.case_id_from_attribute(key, value)\n",
    "                if event_case_id and stack.case_id and event_case_id != stack.case_id: \n",
    "                    exclude_indices.append(i)\n",
    "            #exclude_indices.extend(i for i, stack in enumerate(stacks) if Stack.case_id_from_attribute(key, value) != stack.case_id and stack.case_id)\n",
    "    return exclude_indices\n",
    "    \n",
    "    "
   ],
   "metadata": {
    "collapsed": false,
    "ExecuteTime": {
     "end_time": "2024-04-29T17:51:22.313316Z",
     "start_time": "2024-04-29T17:51:22.289043Z"
    }
   },
   "id": "37e38f9c27e4092c"
  },
  {
   "cell_type": "code",
   "execution_count": 50,
   "outputs": [],
   "source": [],
   "metadata": {
    "collapsed": false,
    "ExecuteTime": {
     "end_time": "2024-04-29T17:51:22.313489Z",
     "start_time": "2024-04-29T17:51:22.303636Z"
    }
   },
   "id": "3170bc5a84ae3c27"
  },
  {
   "cell_type": "code",
   "execution_count": 112,
   "outputs": [
    {
     "name": "stdout",
     "output_type": "stream",
     "text": [
      "False 1887 NoAction 0.580 0.682 should be Activity End\n",
      "\n",
      "\n",
      "MATCH [1]\n",
      "\n",
      "\n",
      "MATCH [1]\n",
      "\n",
      "MATCH [1]\n",
      "\n",
      "MATCH [1]\n",
      "\n",
      "MATCH [1]\n",
      "\n",
      "\n",
      "MATCH [1]\n",
      "\n",
      "MATCH [1]\n",
      "\n",
      "MATCH [1]\n",
      "False 5965 NoAction 0.580 0.682 should be Activity End\n",
      "\n",
      "MATCH [0]\n",
      "\n",
      "MATCH [0]\n",
      "\n",
      "\n",
      "\n",
      "MATCH [1]\n",
      "\n",
      "\n",
      "MATCH [2]\n",
      "\n",
      "MATCH [2]\n",
      "\n",
      "MATCH [2]\n",
      "\n",
      "MATCH [2]\n",
      "\n",
      "MATCH [2]\n",
      "\n",
      "MATCH [2]\n",
      "\n",
      "MATCH [2]\n",
      "\n",
      "MATCH [2]\n",
      "\n",
      "MATCH [2]\n",
      "\n",
      "\n",
      "MATCH [2]\n",
      "\n",
      "MATCH [2]\n",
      "\n",
      "MATCH [2]\n",
      "\n",
      "MATCH [2]\n",
      "\n",
      "MATCH [2]\n",
      "\n",
      "MATCH [2]\n",
      "\n",
      "MATCH [2]\n",
      "\n",
      "MATCH [2]\n",
      "\n",
      "MATCH [2]\n",
      "\n",
      "MATCH [2]\n",
      "\n",
      "MATCH [2]\n",
      "\n",
      "MATCH [2]\n",
      "\n",
      "MATCH [2]\n",
      "\n",
      "MATCH [2]\n",
      "\n",
      "MATCH [2]\n",
      "\n",
      "MATCH [2]\n",
      "\n",
      "MATCH [2]\n",
      "\n",
      "MATCH [2]\n",
      "\n",
      "MATCH [0]\n",
      "\n",
      "MATCH [0]\n",
      "\n",
      "MATCH [0]\n",
      "\n",
      "\n",
      "MATCH [1]\n",
      "\n",
      "\n",
      "MATCH [1]\n",
      "\n",
      "MATCH [1]\n",
      "\n",
      "MATCH [1]\n",
      "\n",
      "MATCH [1]\n",
      "\n",
      "\n",
      "MATCH [1]\n",
      "\n",
      "MATCH [1]\n",
      "\n",
      "MATCH [1]\n",
      "False 15058 NoAction 0.580 0.682 should be Activity End\n",
      "False 15871 NoAction 0.853 0.418 should be Activity End\n",
      "False 19296 NoAction 0.853 0.418 should be Activity End\n",
      "\n",
      "MATCH [0]\n",
      "\n",
      "\n",
      "\n",
      "MATCH [1]\n",
      "\n",
      "\n",
      "MATCH [0]\n",
      "\n",
      "MATCH [2]\n",
      "\n",
      "MATCH [2]\n",
      "\n",
      "MATCH [1]\n",
      "\n",
      "MATCH [0]\n",
      "False 20497 NoAction 0.580 0.682 should be Activity End\n",
      "\n",
      "MATCH [1]\n",
      "\n",
      "MATCH [1]\n",
      "\n",
      "MATCH [1]\n",
      "\n",
      "\n",
      "MATCH [1]\n",
      "\n",
      "MATCH [1]\n",
      "\n",
      "MATCH [1]\n",
      "False 20873 NoAction 0.580 0.682 should be Activity End\n",
      "\n",
      "\n",
      "\n",
      "MATCH [1]\n",
      "\n",
      "False 25583 NoAction 0.853 0.418 should be Activity End\n",
      "\n",
      "\n",
      "MATCH [2]\n",
      "\n",
      "\n",
      "MATCH [1]\n",
      "\n",
      "MATCH [1]\n",
      "\n",
      "MATCH [2]\n",
      "\n",
      "MATCH [1]\n",
      "\n",
      "MATCH [2]\n",
      "False 25942 NoAction 0.580 0.682 should be Activity End\n",
      "\n",
      "MATCH [1]\n",
      "\n",
      "\n",
      "MATCH [1]\n",
      "\n",
      "MATCH [1]\n",
      "NO MATCH RES 26090\n",
      "\n",
      "\n",
      "MATCH [0]\n",
      "\n",
      "MATCH [0]\n",
      "\n",
      "\n",
      "MATCH [0]\n",
      "\n",
      "\n",
      "MATCH [0]\n",
      "\n",
      "\n",
      "\n",
      "MATCH [0]\n",
      "\n",
      "MATCH [0]\n",
      "\n",
      "MATCH [1]\n",
      "\n",
      "MATCH [0]\n",
      "\n",
      "MATCH [0]\n",
      "\n",
      "MATCH [0]\n",
      "\n",
      "MATCH [0]\n",
      "\n",
      "MATCH [0]\n",
      "\n",
      "\n",
      "MATCH [2]\n",
      "\n",
      "MATCH [2]\n",
      "False 28958 NoAction 0.580 0.682 should be Activity End\n",
      "False 29042 NoAction 0.853 0.418 should be Activity End\n",
      "\n",
      "MATCH [1]\n",
      "\n",
      "MATCH [1]\n",
      "\n",
      "MATCH [1]\n",
      "\n",
      "\n",
      "MATCH [3]\n",
      "\n",
      "MATCH [3]\n",
      "\n",
      "MATCH [3]\n",
      "\n",
      "MATCH [3]\n",
      "\n",
      "MATCH [3]\n",
      "\n",
      "MATCH [3]\n",
      "\n",
      "MATCH [3]\n",
      "\n",
      "MATCH [3]\n",
      "\n",
      "MATCH [3]\n",
      "\n",
      "\n",
      "MATCH [3]\n",
      "\n",
      "MATCH [3]\n",
      "\n",
      "MATCH [3]\n",
      "\n",
      "MATCH [3]\n",
      "\n",
      "MATCH [3]\n",
      "\n",
      "MATCH [3]\n",
      "\n",
      "MATCH [3]\n",
      "\n",
      "MATCH [3]\n",
      "\n",
      "MATCH [3]\n",
      "\n",
      "MATCH [3]\n",
      "\n",
      "MATCH [3]\n",
      "\n",
      "MATCH [3]\n",
      "\n",
      "MATCH [3]\n",
      "\n",
      "MATCH [3]\n",
      "\n",
      "MATCH [3]\n",
      "\n",
      "MATCH [3]\n",
      "\n",
      "MATCH [3]\n",
      "\n",
      "MATCH [3]\n",
      "\n",
      "MATCH [1]\n",
      "\n",
      "MATCH [1]\n",
      "\n",
      "MATCH [1]\n",
      "\n",
      "MATCH [1]\n",
      "\n",
      "MATCH [1]\n",
      "\n",
      "MATCH [1]\n",
      "\n",
      "\n",
      "MATCH [3]\n",
      "False 36475 NoAction 0.853 0.418 should be Activity End\n",
      "\n",
      "MATCH [3]\n",
      "\n",
      "MATCH [1]\n",
      "\n",
      "MATCH [1]\n",
      "\n",
      "MATCH [1]\n",
      "\n",
      "\n",
      "MATCH [1]\n",
      "\n",
      "MATCH [1]\n",
      "\n",
      "MATCH [1]\n",
      "False 37650 NoAction 0.580 0.682 should be Activity End\n",
      "False 40869 NoAction 0.853 0.418 should be Activity End\n",
      "\n",
      "\n",
      "MATCH [1]\n",
      "\n",
      "MATCH [1]\n",
      "\n",
      "MATCH [1]\n",
      "\n",
      "MATCH [1]\n",
      "\n",
      "MATCH [1]\n",
      "\n",
      "MATCH [1]\n",
      "\n",
      "MATCH [1]\n",
      "\n",
      "MATCH [1]\n",
      "\n",
      "MATCH [1]\n",
      "\n",
      "\n",
      "MATCH [1]\n",
      "\n",
      "MATCH [1]\n",
      "\n",
      "MATCH [1]\n",
      "\n",
      "MATCH [1]\n",
      "\n",
      "MATCH [1]\n",
      "\n",
      "MATCH [1]\n",
      "\n",
      "MATCH [1]\n",
      "\n",
      "MATCH [1]\n",
      "\n",
      "MATCH [1]\n",
      "\n",
      "MATCH [1]\n",
      "\n",
      "MATCH [1]\n",
      "\n",
      "MATCH [1]\n",
      "\n",
      "MATCH [1]\n",
      "\n",
      "MATCH [1]\n",
      "\n",
      "MATCH [1]\n",
      "\n",
      "MATCH [1]\n",
      "\n",
      "MATCH [1]\n",
      "\n",
      "MATCH [1]\n",
      "NO MATCH RES 44627\n",
      "False 45841 NoAction 0.799 0.504 should be Activity End\n",
      "\n",
      "\n",
      "\n",
      "MATCH [2]\n",
      "\n",
      "MATCH [2]\n",
      "\n",
      "MATCH [2]\n",
      "\n",
      "\n",
      "MATCH [1]\n",
      "\n",
      "MATCH [2]\n",
      "\n",
      "MATCH [2]\n",
      "\n",
      "\n",
      "MATCH [2]\n",
      "\n",
      "\n",
      "MATCH [2]\n",
      "\n",
      "MATCH [2]\n",
      "\n",
      "MATCH [2]\n",
      "\n",
      "MATCH [2]\n",
      "\n",
      "MATCH [2]\n",
      "\n",
      "MATCH [2]\n",
      "\n",
      "MATCH [2]\n",
      "\n",
      "\n",
      "\n",
      "MATCH [3]\n",
      "\n",
      "MATCH [3]\n",
      "NO MATCH RES 48564\n",
      "\n",
      "MATCH [3]\n",
      "\n",
      "MATCH [3]\n",
      "\n",
      "\n",
      "MATCH [3]\n",
      "\n",
      "MATCH [3]\n",
      "\n",
      "MATCH [3]\n",
      "False 49156 NoAction 0.580 0.682 should be Activity End\n",
      "False 49303 NoAction 0.685 0.625 should be Activity End\n",
      "False 50544 NoAction 0.853 0.418 should be Activity End\n",
      "\n",
      "\n",
      "\n",
      "MATCH [0]\n",
      "\n",
      "\n",
      "\n",
      "MATCH [1]\n",
      "\n",
      "MATCH [1]\n",
      "\n",
      "MATCH [1]\n",
      "\n",
      "MATCH [1]\n",
      "\n",
      "MATCH [1]\n",
      "\n",
      "MATCH [1]\n",
      "\n",
      "MATCH [1]\n",
      "\n",
      "MATCH [1]\n",
      "\n",
      "MATCH [1]\n",
      "False 56409 NoAction 0.853 0.418 should be Activity End\n",
      "\n",
      "MATCH [1]\n",
      "\n",
      "\n",
      "\n",
      "MATCH [1]\n",
      "\n",
      "\n",
      "MATCH [1]\n",
      "NO MATCH RES 57502\n",
      "\n",
      "\n",
      "MATCH [1]\n",
      "\n",
      "MATCH [1]\n",
      "\n",
      "MATCH [0]\n",
      "\n",
      "MATCH [0]\n",
      "\n",
      "MATCH [0]\n",
      "False 62075 NoAction 0.853 0.418 should be Activity End\n",
      "False 63000 NoAction 0.580 0.682 should be Activity End\n",
      "\n",
      "\n",
      "MATCH [1]\n",
      "\n",
      "MATCH [1]\n",
      "\n",
      "MATCH [1]\n",
      "\n",
      "MATCH [1]\n",
      "\n",
      "MATCH [1]\n",
      "\n",
      "MATCH [1]\n",
      "\n",
      "MATCH [1]\n",
      "\n",
      "MATCH [1]\n",
      "\n",
      "MATCH [1]\n",
      "\n",
      "\n",
      "MATCH [1]\n",
      "\n",
      "MATCH [1]\n",
      "\n",
      "MATCH [1]\n",
      "\n",
      "MATCH [1]\n",
      "\n",
      "MATCH [1]\n",
      "\n",
      "MATCH [1]\n",
      "\n",
      "MATCH [1]\n",
      "\n",
      "MATCH [1]\n",
      "\n",
      "MATCH [1]\n",
      "\n",
      "MATCH [1]\n",
      "\n",
      "MATCH [1]\n",
      "\n",
      "MATCH [1]\n",
      "\n",
      "MATCH [1]\n",
      "\n",
      "MATCH [1]\n",
      "\n",
      "MATCH [1]\n",
      "\n",
      "MATCH [1]\n",
      "\n",
      "MATCH [1]\n",
      "\n",
      "MATCH [1]\n",
      "False 64737 NoAction 0.853 0.418 should be Activity End\n",
      "\n",
      "\n",
      "MATCH [2]\n",
      "\n",
      "MATCH [2]\n",
      "False 65514 NoAction 0.580 0.682 should be Activity End\n",
      "\n",
      "\n",
      "MATCH [0]\n",
      "\n",
      "MATCH [0]\n",
      "\n",
      "MATCH [0]\n",
      "\n",
      "\n",
      "MATCH [0]\n",
      "\n",
      "\n",
      "MATCH [0]\n",
      "\n",
      "MATCH [0]\n",
      "\n",
      "MATCH [0]\n",
      "\n",
      "MATCH [0]\n",
      "\n",
      "MATCH [0]\n",
      "\n",
      "MATCH [0]\n",
      "\n",
      "MATCH [0]\n",
      "\n",
      "\n",
      "\n",
      "MATCH [2]\n",
      "\n",
      "MATCH [1]\n",
      "\n",
      "MATCH [1]\n",
      "\n",
      "\n",
      "MATCH [1]\n",
      "\n",
      "MATCH [1]\n",
      "\n",
      "MATCH [1]\n",
      "\n",
      "MATCH [1]\n",
      "\n",
      "\n",
      "MATCH [1]\n",
      "\n",
      "MATCH [1]\n",
      "\n",
      "MATCH [1]\n",
      "False 68715 NoAction 0.580 0.682 should be Activity End\n",
      "False 69362 NoAction 0.853 0.418 should be Activity End\n",
      "\n",
      "\n",
      "MATCH [1]\n",
      "\n",
      "\n",
      "MATCH [3]\n",
      "\n",
      "MATCH [3]\n",
      "\n",
      "MATCH [3]\n",
      "\n",
      "MATCH [3]\n",
      "\n",
      "MATCH [3]\n",
      "\n",
      "\n",
      "MATCH [1]\n",
      "\n",
      "\n",
      "MATCH [2]\n",
      "\n",
      "MATCH [1]\n",
      "\n",
      "MATCH [3]\n",
      "\n",
      "\n",
      "MATCH [3]\n",
      "\n",
      "MATCH [3]\n",
      "\n",
      "MATCH [3]\n",
      "\n",
      "MATCH [3]\n",
      "\n",
      "MATCH [3]\n",
      "\n",
      "MATCH [3]\n",
      "\n",
      "MATCH [3]\n",
      "\n",
      "\n",
      "MATCH [5]\n",
      "\n",
      "MATCH [5]\n",
      "False 73887 NoAction 0.685 0.625 should be Activity End\n",
      "\n",
      "MATCH [4]\n",
      "\n",
      "MATCH [4]\n",
      "\n",
      "MATCH [3]\n",
      "\n",
      "MATCH [3]\n",
      "\n",
      "MATCH [3]\n",
      "\n",
      "MATCH [3]\n",
      "\n",
      "MATCH [3]\n",
      "\n",
      "\n",
      "MATCH [3]\n",
      "\n",
      "MATCH [3]\n",
      "\n",
      "MATCH [3]\n",
      "\n",
      "MATCH [3]\n",
      "\n",
      "MATCH [3]\n",
      "\n",
      "MATCH [3]\n",
      "\n",
      "MATCH [3]\n",
      "\n",
      "MATCH [3]\n",
      "\n",
      "MATCH [3]\n",
      "\n",
      "MATCH [3]\n",
      "\n",
      "MATCH [3]\n",
      "\n",
      "MATCH [3]\n",
      "\n",
      "MATCH [3]\n",
      "\n",
      "MATCH [3]\n",
      "\n",
      "MATCH [3]\n",
      "\n",
      "MATCH [3]\n",
      "\n",
      "MATCH [3]\n",
      "\n",
      "MATCH [3]\n",
      "\n",
      "\n",
      "MATCH [0]\n",
      "\n",
      "\n",
      "MATCH [0]\n",
      "\n",
      "MATCH [0]\n",
      "\n",
      "MATCH [1]\n",
      "\n",
      "\n",
      "MATCH [1]\n",
      "\n",
      "MATCH [1]\n",
      "\n",
      "MATCH [1]\n",
      "\n",
      "\n",
      "MATCH [1]\n",
      "\n",
      "\n",
      "MATCH [1]\n",
      "\n",
      "MATCH [1]\n",
      "\n",
      "MATCH [1]\n",
      "\n",
      "MATCH [1]\n",
      "\n",
      "MATCH [1]\n",
      "\n",
      "MATCH [1]\n",
      "\n",
      "MATCH [1]\n",
      "False 80769 NoAction 0.853 0.418 should be Activity End\n",
      "\n",
      "MATCH [1]\n",
      "\n",
      "MATCH [0]\n",
      "\n",
      "MATCH [1]\n",
      "\n",
      "MATCH [1]\n",
      "\n",
      "MATCH [0]\n",
      "\n",
      "MATCH [0]\n",
      "\n",
      "\n",
      "MATCH [1]\n",
      "\n",
      "\n",
      "MATCH [1]\n",
      "\n",
      "MATCH [1]\n",
      "\n",
      "MATCH [1]\n",
      "\n",
      "MATCH [1]\n",
      "\n",
      "\n",
      "MATCH [1]\n",
      "\n",
      "MATCH [1]\n",
      "\n",
      "MATCH [1]\n",
      "False 83750 NoAction 0.580 0.682 should be Activity End\n",
      "False 84553 NoAction 0.853 0.418 should be Activity End\n",
      "\n",
      "False 86895 NoAction 0.580 0.682 should be Activity End\n",
      "False 91394 NoAction 0.853 0.418 should be Activity End\n",
      "\n",
      "MATCH [0]\n",
      "\n",
      "MATCH [0]\n",
      "\n",
      "MATCH [0]\n",
      "\n",
      "\n",
      "MATCH [1]\n",
      "\n",
      "MATCH [1]\n",
      "\n",
      "MATCH [1]\n",
      "\n",
      "\n",
      "MATCH [1]\n",
      "\n",
      "\n",
      "MATCH [1]\n",
      "\n",
      "MATCH [1]\n",
      "\n",
      "MATCH [1]\n",
      "\n",
      "MATCH [1]\n",
      "\n",
      "MATCH [1]\n",
      "\n",
      "MATCH [1]\n",
      "\n",
      "MATCH [1]\n",
      "False 96040 NoAction 0.853 0.418 should be Activity End\n",
      "\n",
      "MATCH [0]\n",
      "\n",
      "MATCH [0]\n",
      "\n",
      "MATCH [0]\n",
      "\n",
      "\n",
      "MATCH [1]\n",
      "\n",
      "MATCH [1]\n",
      "False 96757 NoAction 0.580 0.682 should be Activity End\n",
      "False 98654 NoAction 0.853 0.418 should be Activity End\n",
      "\n",
      "\n",
      "MATCH [1]\n",
      "\n",
      "MATCH [1]\n",
      "\n",
      "MATCH [1]\n",
      "\n",
      "\n",
      "MATCH [1]\n",
      "\n",
      "\n",
      "\n",
      "MATCH [1]\n",
      "\n",
      "MATCH [1]\n",
      "\n",
      "MATCH [1]\n",
      "\n",
      "MATCH [1]\n",
      "\n",
      "MATCH [2]\n",
      "\n",
      "MATCH [2]\n",
      "\n",
      "MATCH [1]\n",
      "\n",
      "MATCH [1]\n",
      "\n",
      "MATCH [1]\n",
      "False 100384 NoAction 0.580 0.682 should be Activity End\n",
      "False 104695 NoAction 0.853 0.418 should be Activity End\n",
      "\n",
      "\n",
      "MATCH [2]\n",
      "\n",
      "MATCH [2]\n",
      "\n",
      "MATCH [2]\n",
      "\n",
      "\n",
      "MATCH [2]\n",
      "\n",
      "\n",
      "MATCH [2]\n",
      "\n",
      "MATCH [2]\n",
      "\n",
      "MATCH [2]\n",
      "\n",
      "MATCH [2]\n",
      "\n",
      "MATCH [2]\n",
      "\n",
      "MATCH [2]\n",
      "\n",
      "MATCH [2]\n"
     ]
    }
   ],
   "source": [
    "%autoreload 2\n",
    "\n",
    "import time\n",
    "from event_loop.preprocessing.event import keep_event\n",
    "\n",
    "# Parameter\n",
    "EVENT_LOOP_CUTOFF_NO_ACTION = 3\n",
    "EVENT_LOOP_CUTOFF_END_EVENT = 3\n",
    "ENTROPY_THRESHOLD = 0.4 #0.5\n",
    "MAX_WINDOW_SIZE = 10\n",
    "VERBOSE = False\n",
    "SETTING = \"PTP\"\n",
    "\n",
    "# init variables\n",
    "event_buffer: list[Event] = []\n",
    "attribute_buffer: list[dict] = []\n",
    "stacks: list[Stack] = []\n",
    "stacks_out: list[Stack] = []\n",
    "event_loop_index = 0\n",
    "\n",
    "\n",
    "HR_ATTRIBUTES = [\"applicant_id\", \"activity_id\"]\n",
    "PTP_ATTRIBUTES = [\"sale_order_id\", \"sale_order_line_id\",\"purchase_requisition_id\",\"purchase_requisition_line_id\",]\n",
    "\n",
    "\n",
    "activity_model_data = get_activity_model_data(MAX_WINDOW_SIZE)\n",
    "processing_times = []\n",
    "processing_times_filter = []\n",
    "buffer_sizes = []\n",
    "\n",
    "\n",
    "for i, event_data in enumerate(records):\n",
    "    start_time = time.time()\n",
    "\n",
    "    buffer_sizes.append(sum([len(stack) for stack in stacks]))\n",
    "    # Filter Event Stream\n",
    "    if not keep_event(event_data):\n",
    "        end_time = time.time()\n",
    "        processing_times_filter.append(end_time - start_time)\n",
    "        # skip event in loop\n",
    "        continue\n",
    "        \n",
    "    \n",
    "    \n",
    "    # count every not filtered event for event loop index\n",
    "    event_loop_index += 1\n",
    "\n",
    "    # Extract Features and generate Event Object\n",
    "    event = Event(event_data, event_loop_index, event_buffer, SETTING)\n",
    "    event_buffer.append(event)\n",
    "    \n",
    "    classify_event(event)\n",
    "    \n",
    "    # Activity Action Classification\n",
    "    activity_action = event.activity_action\n",
    "    \n",
    "    # Activity Matching\n",
    "    if activity_action == \"Activity Start\": \n",
    "        stacks.append(Stack(SETTING,event))\n",
    "        \n",
    "    if activity_action == \"NoAction\": \n",
    "        if len(stacks) == 1: \n",
    "            stacks[0].append_event(event)\n",
    "        elif event.origin_request_frame: \n",
    "            idx = search_stack_for_request_frame(event.origin_request_frame)\n",
    "            stacks[idx].append_event(event)\n",
    "        else: \n",
    "            # Check attributes of each stack\n",
    "            \n",
    "            # we can filter out stacks that already have attributes different to the event\n",
    "            exclude_indices =  exclude_stacks_by_attribute(stacks, event, stacks_out)\n",
    "    \n",
    "            stack_index:int = check_stack_attributes(stacks, event, exclude_indices)\n",
    "                    \n",
    "            if stack_index == -1:        \n",
    "                stack_index = classify_by_train_sequences(event, 4, exclude_indices)\n",
    "            \n",
    "            # for elements that are not matchable based on 2 sequences we fall back to stream index\n",
    "            if stack_index == -1: \n",
    "                stack_index = search_stream_index(event, exclude_indices)    \n",
    "            \n",
    "            # fallback - no match add to first stack\n",
    "            if stack_index == -1:\n",
    "                res = next((i for i in range(len(stacks)) if i not in exclude_indices and stacks[i].confidence),-1)\n",
    "                stack_index = res\n",
    "                \n",
    "            stacks[stack_index].append_event(event)\n",
    "        \n",
    "    if activity_action == \"Activity End\":\n",
    "        \n",
    "        stack_index = search_stack_for_request_frame(event.origin_request_frame)\n",
    "        stacks[stack_index].append_event(event)\n",
    "        \n",
    "        if event.confidence: \n",
    "            if len(stacks) > 1: \n",
    "                stack = stacks.pop(stack_index)\n",
    "                stacks_out.append(stack)\n",
    "            else: \n",
    "                event.confidence = False\n",
    "     \n",
    "\n",
    "    # Loop through all currently open stacks\n",
    "    for idx, stack in enumerate(stacks):\n",
    "        last_event = stack[-1]\n",
    "        # check for non-confident \"No Action\" Classifications. These could be \"Activity End\" Instead\n",
    "        if not last_event.confidence and last_event.activity_action == \"NoAction\":\n",
    "            # If a stack has not been continued for N event loops \n",
    "            if event_loop_index - last_event.event_loop_index > EVENT_LOOP_CUTOFF_NO_ACTION: \n",
    "                stacks.pop(idx)\n",
    "                stacks_out.append(stack)\n",
    "                \n",
    "    for idx, stack in enumerate(stacks): \n",
    "        last_event = stack.events[-1]\n",
    "        if not last_event.confidence and last_event.activity_action == \"Activity End\": \n",
    "            if event_loop_index - last_event.event_loop_index > EVENT_LOOP_CUTOFF_END_EVENT: \n",
    "            \n",
    "                # we are now sure to pop the stack. \n",
    "                stacks.pop(idx)\n",
    "                stacks_out.append(stack) \n",
    "                \n",
    "    end_time = time.time()\n",
    "    processing_times.append(end_time - start_time)\n",
    "                \n",
    "# pop all stacks that are still left\n",
    "for stack in stacks: \n",
    "    stacks_out.append(stack)  \n"
   ],
   "metadata": {
    "collapsed": false,
    "ExecuteTime": {
     "end_time": "2024-04-29T17:58:19.361692Z",
     "start_time": "2024-04-29T17:58:16.810589Z"
    }
   },
   "id": "41016b5653419b1a"
  },
  {
   "cell_type": "code",
   "execution_count": 113,
   "outputs": [],
   "source": [
    "import sys\n",
    "import pickle\n",
    "model_size = [\n",
    "    sys.getsizeof(pickle.dumps(crf)),\n",
    "    sys.getsizeof(pickle.dumps(activity_classifier)),\n",
    "    sys.getsizeof(pickle.dumps(activity_model_data))\n",
    "]"
   ],
   "metadata": {
    "collapsed": false,
    "ExecuteTime": {
     "end_time": "2024-04-29T17:58:24.866859Z",
     "start_time": "2024-04-29T17:58:24.778802Z"
    }
   },
   "id": "d221f54830811163"
  },
  {
   "cell_type": "code",
   "execution_count": 111,
   "outputs": [
    {
     "name": "stdout",
     "output_type": "stream",
     "text": [
      "average processing time: 0.5412944658054479\n",
      "max buffer size: 318 (0.141403720963324)\n"
     ]
    }
   ],
   "source": [
    "from statistics import mean,stdev\n",
    "print(\"average processing time:\",mean(processing_times)*1000)\n",
    "print(\"max buffer size:\", max(buffer_sizes),f\"({max(buffer_sizes) / len(records) * 100})\")"
   ],
   "metadata": {
    "collapsed": false,
    "ExecuteTime": {
     "end_time": "2024-04-29T17:56:51.690687Z",
     "start_time": "2024-04-29T17:56:51.607903Z"
    }
   },
   "id": "97a3d2eb4d6ffa03"
  },
  {
   "cell_type": "code",
   "execution_count": 79,
   "outputs": [],
   "source": [
    "# classify stacks\n",
    "# TODO Move into Model\n",
    "def confidence_weighted_majority_voting(predictions):\n",
    "    \"\"\"\n",
    "    Perform confidence-weighted majority voting on each sublist of predictions.\n",
    "\n",
    "    :param predictions: A list of dictionaries where each dictionary contains predictions and their confidences.\n",
    "    :return: A list of majority voted predictions for each sublist.\n",
    "    \"\"\"    \n",
    "\n",
    "    # Initialize variables to store cumulative confidences for each prediction\n",
    "    cumulative_confidences = {label: 0.0 for label in predictions[0][0].keys()}\n",
    "    \n",
    "    # Calculate cumulative confidences for each prediction across all dictionaries in the sublist\n",
    "    for prediction_dict in predictions:\n",
    "        for label, confidence in prediction_dict[0].items():\n",
    "            cumulative_confidences[label] += confidence\n",
    "    \n",
    "    # Find the prediction with the maximum cumulative confidence\n",
    "    return max(cumulative_confidences, key=cumulative_confidences.get)\n",
    "\n",
    " \n",
    " \n",
    " \n",
    "    \n",
    "def classify_stack(stack: Stack):\n",
    "    seq = seq2features([event.to_features() for event in stack], 10,10)\n",
    "    pred = activity_classifier.predict_marginals([[ele] for ele in seq])\n",
    "    pred_cwmv = confidence_weighted_majority_voting(pred)\n",
    "    return pred_cwmv\n",
    "    \n",
    "stack_predictions = [classify_stack(stack )for stack in stacks_out]"
   ],
   "metadata": {
    "collapsed": false,
    "ExecuteTime": {
     "end_time": "2024-04-29T17:51:37.289484Z",
     "start_time": "2024-04-29T17:51:36.937651Z"
    }
   },
   "id": "6178a80c6b5925f5"
  },
  {
   "cell_type": "code",
   "execution_count": 106,
   "outputs": [
    {
     "data": {
      "text/plain": "     start  actual_end  start_pred  end_pred  end_pred_true  start_pred_true  \\\n0       96        1322          96      1322           True             True   \n1     1367        1887        1367      1887           True             True   \n2     1940        2793        1940      2793           True             True   \n3     2818       15871        2818     11235          False             True   \n4     5563        5965        5563      5965           True             True   \n..     ...         ...         ...       ...            ...              ...   \n58  100724      104454      100724    108703          False             True   \n59  101210      105925      101210    106177          False             True   \n60  106266      108703      106266    112188          False             True   \n61  108727      109696      108727    109696           True             True   \n62  109758      112188      109758    110961          False             True   \n\n    start_end_true  \n0             True  \n1             True  \n2             True  \n3            False  \n4             True  \n..             ...  \n58           False  \n59           False  \n60           False  \n61            True  \n62           False  \n\n[63 rows x 7 columns]",
      "text/html": "<div>\n<style scoped>\n    .dataframe tbody tr th:only-of-type {\n        vertical-align: middle;\n    }\n\n    .dataframe tbody tr th {\n        vertical-align: top;\n    }\n\n    .dataframe thead th {\n        text-align: right;\n    }\n</style>\n<table border=\"1\" class=\"dataframe\">\n  <thead>\n    <tr style=\"text-align: right;\">\n      <th></th>\n      <th>start</th>\n      <th>actual_end</th>\n      <th>start_pred</th>\n      <th>end_pred</th>\n      <th>end_pred_true</th>\n      <th>start_pred_true</th>\n      <th>start_end_true</th>\n    </tr>\n  </thead>\n  <tbody>\n    <tr>\n      <th>0</th>\n      <td>96</td>\n      <td>1322</td>\n      <td>96</td>\n      <td>1322</td>\n      <td>True</td>\n      <td>True</td>\n      <td>True</td>\n    </tr>\n    <tr>\n      <th>1</th>\n      <td>1367</td>\n      <td>1887</td>\n      <td>1367</td>\n      <td>1887</td>\n      <td>True</td>\n      <td>True</td>\n      <td>True</td>\n    </tr>\n    <tr>\n      <th>2</th>\n      <td>1940</td>\n      <td>2793</td>\n      <td>1940</td>\n      <td>2793</td>\n      <td>True</td>\n      <td>True</td>\n      <td>True</td>\n    </tr>\n    <tr>\n      <th>3</th>\n      <td>2818</td>\n      <td>15871</td>\n      <td>2818</td>\n      <td>11235</td>\n      <td>False</td>\n      <td>True</td>\n      <td>False</td>\n    </tr>\n    <tr>\n      <th>4</th>\n      <td>5563</td>\n      <td>5965</td>\n      <td>5563</td>\n      <td>5965</td>\n      <td>True</td>\n      <td>True</td>\n      <td>True</td>\n    </tr>\n    <tr>\n      <th>...</th>\n      <td>...</td>\n      <td>...</td>\n      <td>...</td>\n      <td>...</td>\n      <td>...</td>\n      <td>...</td>\n      <td>...</td>\n    </tr>\n    <tr>\n      <th>58</th>\n      <td>100724</td>\n      <td>104454</td>\n      <td>100724</td>\n      <td>108703</td>\n      <td>False</td>\n      <td>True</td>\n      <td>False</td>\n    </tr>\n    <tr>\n      <th>59</th>\n      <td>101210</td>\n      <td>105925</td>\n      <td>101210</td>\n      <td>106177</td>\n      <td>False</td>\n      <td>True</td>\n      <td>False</td>\n    </tr>\n    <tr>\n      <th>60</th>\n      <td>106266</td>\n      <td>108703</td>\n      <td>106266</td>\n      <td>112188</td>\n      <td>False</td>\n      <td>True</td>\n      <td>False</td>\n    </tr>\n    <tr>\n      <th>61</th>\n      <td>108727</td>\n      <td>109696</td>\n      <td>108727</td>\n      <td>109696</td>\n      <td>True</td>\n      <td>True</td>\n      <td>True</td>\n    </tr>\n    <tr>\n      <th>62</th>\n      <td>109758</td>\n      <td>112188</td>\n      <td>109758</td>\n      <td>110961</td>\n      <td>False</td>\n      <td>True</td>\n      <td>False</td>\n    </tr>\n  </tbody>\n</table>\n<p>63 rows × 7 columns</p>\n</div>"
     },
     "metadata": {},
     "output_type": "display_data"
    },
    {
     "name": "stdout",
     "output_type": "stream",
     "text": [
      "Overall matching accuracy: 0.746031746031746\n"
     ]
    }
   ],
   "source": [
    "start = [stack[0].frame_number for stack in stacks_out]\n",
    "end = [stack[-1].frame_number for stack in stacks_out]\n",
    "\n",
    "res_df = pd.DataFrame({\"start_pred\":start, \"end_pred\":end})\n",
    "\n",
    "eval_df = df_gt[[\"start\", \"actual_end\"]].merge(res_df,how=\"left\", left_on =\"start\", right_on = \"start_pred\").fillna(-1).astype(int)\n",
    "eval_df[\"end_pred_true\"] = eval_df[\"actual_end\"] == eval_df[\"end_pred\"]\n",
    "eval_df[\"start_pred_true\"] = eval_df[\"start\"] == eval_df[\"start_pred\"]\n",
    "eval_df[\"start_end_true\"] =eval_df[\"start_pred_true\"] == eval_df[\"end_pred_true\"]\n",
    "\n",
    "display(eval_df)\n",
    "print(f\"Overall matching accuracy: {0.5 + eval_df['end_pred_true'].mean()/2}\")"
   ],
   "metadata": {
    "collapsed": false,
    "ExecuteTime": {
     "end_time": "2024-04-29T17:55:55.469605Z",
     "start_time": "2024-04-29T17:55:55.392352Z"
    }
   },
   "id": "40a6a1f949ad0661"
  },
  {
   "cell_type": "code",
   "execution_count": 104,
   "outputs": [
    {
     "name": "stdout",
     "output_type": "stream",
     "text": [
      "                precision    recall  f1-score   support\n",
      "\n",
      "  Activity End       0.70      0.70      0.70        63\n",
      "Activity Start       1.00      1.00      1.00        63\n",
      "      NoAction       0.99      0.99      0.99      3783\n",
      "\n",
      "      accuracy                           0.99      3909\n",
      "     macro avg       0.90      0.90      0.90      3909\n",
      "  weighted avg       0.99      0.99      0.99      3909\n"
     ]
    }
   ],
   "source": [
    "df_aa_test = pd.DataFrame(df_test[[\"frame.number\", \"ActivityAction\"]])\n",
    "df_aa_test[\"ActivityAction\"] = \"NoAction\"\n",
    "df_aa_test.loc[df_aa_test[\"frame.number\"].isin(eval_df[\"end_pred\"]), \"ActivityAction\"] = \"Activity End\"\n",
    "df_aa_test.loc[df_aa_test[\"frame.number\"].isin(eval_df[\"start_pred\"]), \"ActivityAction\"] = \"Activity Start\"\n",
    "print(classification_report(test_labels, df_aa_test[\"ActivityAction\"]))"
   ],
   "metadata": {
    "collapsed": false,
    "ExecuteTime": {
     "end_time": "2024-04-29T17:55:08.791632Z",
     "start_time": "2024-04-29T17:55:08.687504Z"
    }
   },
   "id": "194e29ec0cf2f139"
  },
  {
   "cell_type": "code",
   "execution_count": 100,
   "outputs": [],
   "source": [
    "# Function to check if intervals overlap\n",
    "def intervals_overlap(row, df):\n",
    "    overlapping_names = []\n",
    "    overlapping_bps = set()\n",
    "    for index, other_row in df.iterrows():\n",
    "        if row.name != index and row['start'] <= other_row['actual_end'] and row['actual_end'] >= other_row['start']:\n",
    "            overlapping_names.append(f\"{other_row['activity_name']} {other_row['bp_id']}\")\n",
    "            overlapping_bps.add(other_row['bp_id'])\n",
    "    return overlapping_names, list(overlapping_bps)\n",
    "\n",
    "df_gt[[\"overlapping_activities\", \"overlapping_bps\"]] = df_gt.apply(intervals_overlap, axis=1, df = df_gt, result_type=\"expand\")"
   ],
   "metadata": {
    "collapsed": false,
    "ExecuteTime": {
     "end_time": "2024-04-29T17:54:15.712459Z",
     "start_time": "2024-04-29T17:54:15.566801Z"
    }
   },
   "id": "7df76d158db7cf4c"
  },
  {
   "cell_type": "code",
   "execution_count": 98,
   "outputs": [],
   "source": [
    "# Create dataframe with mapping of frame numbers to event stacks\n",
    "frame_numbers = [event.frame_number for idx,stack in enumerate(stacks_out) for event in stack]\n",
    "stack_numbers = [idx for idx,stack in enumerate(stacks_out) for event in stack]\n",
    "case_id = [stack.case_id[\"id\"]  if stack.case_id else -1 for idx, stack in enumerate(stacks_out) for event in stack]\n",
    "sniff_time =  [event.sniff_time for idx,stack in enumerate(stacks_out) for event in stack]\n",
    "sale_order_ids = [event.attributes[\"sale_order_id\"] for idx,stack in enumerate(stacks_out) for event in stack]\n",
    "sale_order_line_ids = [event.attributes[\"sale_order_line_id\"] for idx,stack in enumerate(stacks_out) for event in stack]\n",
    "purchase_requisition_ids = [event.attributes[\"purchase_requisition_id\"] for idx,stack in enumerate(stacks_out) for event in stack]\n",
    "purchase_requisition_line_ids = [event.attributes[\"purchase_requisition_line_id\"] for idx,stack in enumerate(stacks_out) for event in stack]\n",
    "purchase_order_ids = [event.attributes[\"purchase_order_id\"] for idx,stack in enumerate(stacks_out) for event in stack]\n",
    "sale_order_line_id_case_id=  [stack.case_id[\"sale_order_line_id\"] if stack.case_id else -1 for idx, stack in enumerate(stacks_out) for event in stack]\n",
    "\n",
    "\n",
    "df_frame_numbers = pd.DataFrame(data={\"frame.number\": frame_numbers, \"sniff_time\": sniff_time, \"stack_idx\": stack_numbers, \"sale_order_id\": sale_order_ids,\"sale_order_line_id\": sale_order_line_ids,\"sale_order_line_id_case_id\":sale_order_line_id_case_id,\"purchase_requisition_id\": purchase_requisition_ids,\"purchase_requisition_line_id\": purchase_requisition_line_ids, \"purchase_order_id\":purchase_order_ids, \"case_id\": case_id})\n",
    "\n",
    "# Merge Activity Name from ground truth frame to event sequences for evaluation\n",
    "merged_df = df_frame_numbers.merge(df_gt[[\"activity_name\",\"start\",\"bp_id\"]], how=\"left\",left_on=\"frame.number\", right_on=\"start\").drop(columns=\"start\")\n",
    "\n",
    "merged_df[[\"activity_name\",\"bp_id\"]] = merged_df.groupby(\"stack_idx\")[[\"activity_name\",\"bp_id\"]].ffill()\n",
    "#merged_df[\"activity_name\"] = merged_df.groupby(\"stack_idx\")[\"bp_id\"].ffill()\n",
    "\n",
    "# Merge with filtered interleaved test data\n",
    "merged_df = df_test.merge(merged_df, on=\"frame.number\")"
   ],
   "metadata": {
    "collapsed": false,
    "ExecuteTime": {
     "end_time": "2024-04-29T17:54:06.325757Z",
     "start_time": "2024-04-29T17:54:06.196584Z"
    }
   },
   "id": "e2db163cbe61470d"
  },
  {
   "cell_type": "code",
   "execution_count": 96,
   "outputs": [],
   "source": [
    "unique_no_nan = lambda x: list(filter(None, pd.unique(x)))\n",
    "first_unique = lambda x: unique_no_nan(x)[0]\n",
    "\n",
    "def compare_values(x,y):\n",
    "    # Multi index and casting magic - I just want to compare the bp_ids lol\n",
    "    x = int(x[0])\n",
    "    y = int(y[0])\n",
    "\n",
    "    return x == y\n",
    "\n",
    "\n",
    "res = merged_df.groupby(\"stack_idx\").agg(sale_order_id = (\"sale_order_id\", unique_no_nan),sale_order_line_id=(\"sale_order_line_id\", unique_no_nan), sale_order_line_id_case_id=(\"sale_order_line_id_case_id\", unique_no_nan),purchase_requisition_id=(\"purchase_requisition_id\", unique_no_nan),purchase_requisition_line_id=(\"purchase_requisition_line_id\", unique_no_nan),purchase_order_id=(\"purchase_order_id\",unique_no_nan),case_id=(\"case_id\", first_unique),bp_id=(\"bp_id\", unique_no_nan),frame_number_min=(\"frame.number\",\"min\"),frame_number_max =  (\"frame.number\",\"max\"),sniff_time_min=(\"sniff_time_x\",\"min\"),sniff_time_max=(\"sniff_time_x\",\"min\"), activity_name=(\"activity_name\", lambda x: x.head(1)))\n",
    "\n",
    "res = res.merge(eval_df[[\"start_pred_true\",\"end_pred_true\",\"start_end_true\"]], left_index=True, right_index=True)\n",
    "res[\"stack_prediction\"] = stack_predictions\n",
    "# Apply the custom function to compare 'sale_order_line_id' and 'sale_order_line_id_case_id'\n",
    "res[\"bp_true\"] = res.apply(lambda x: compare_values(x[\"sale_order_line_id_case_id\"], x[\"bp_id\"]), axis = 1)\n",
    "res[\"activity_true\"] = res[\"activity_name\"] ==  res[\"stack_prediction\"]\n",
    "#res.loc[\"Mean\",\"bp_true\"] = res[\"bp_true\"].mean()\n",
    "#res.loc[\"Mean\",\"activity_true\"] = res[\"activity_true\"].mean()"
   ],
   "metadata": {
    "collapsed": false,
    "ExecuteTime": {
     "end_time": "2024-04-29T17:53:32.537576Z",
     "start_time": "2024-04-29T17:53:32.446204Z"
    }
   },
   "id": "c88e527b5f2aaa92"
  },
  {
   "cell_type": "code",
   "execution_count": 97,
   "outputs": [
    {
     "name": "stdout",
     "output_type": "stream",
     "text": [
      "------------------ Activity Type --------------\n",
      "                       precision    recall  f1-score   support\n",
      "\n",
      "         BidSelection       0.89      0.80      0.84        10\n",
      "  CreateCallForTender       1.00      0.80      0.89        10\n",
      "  CreatePurchaseOrder       0.88      0.88      0.88         8\n",
      "CreatePurchaseRequest       1.00      1.00      1.00         9\n",
      "            CreateRfq       0.57      0.80      0.67        10\n",
      "         ReceiveGoods       1.00      0.75      0.86         8\n",
      "        SubmitPayment       0.67      0.75      0.71         8\n",
      "\n",
      "             accuracy                           0.83        63\n",
      "            macro avg       0.86      0.83      0.83        63\n",
      "         weighted avg       0.86      0.83      0.83        63\n"
     ]
    }
   ],
   "source": [
    "print(\"------------------ Activity Type --------------\")\n",
    "print(classification_report(res[\"activity_name\"], res[\"stack_prediction\"]))"
   ],
   "metadata": {
    "collapsed": false,
    "ExecuteTime": {
     "end_time": "2024-04-29T17:53:33.494968Z",
     "start_time": "2024-04-29T17:53:33.400649Z"
    }
   },
   "id": "5b10d616efa1e470"
  },
  {
   "cell_type": "markdown",
   "source": [],
   "metadata": {
    "collapsed": false
   },
   "id": "17d3a74859723d5c"
  },
  {
   "cell_type": "code",
   "execution_count": 95,
   "outputs": [
    {
     "name": "stdout",
     "output_type": "stream",
     "text": [
      "------------------ Activity Type --------------\n",
      "              precision    recall  f1-score   support\n",
      "\n",
      "         399       1.00      0.71      0.83         7\n",
      "         400       1.00      1.00      1.00         6\n",
      "         401       1.00      0.80      0.89         5\n",
      "         402       1.00      1.00      1.00         4\n",
      "         403       0.80      0.80      0.80         5\n",
      "         404       0.46      0.86      0.60         7\n",
      "         405       0.60      1.00      0.75         3\n",
      "         406       0.00      0.00      0.00         5\n",
      "         407       0.83      0.83      0.83         6\n",
      "         408       1.00      1.00      1.00         6\n",
      "\n",
      "    accuracy                           0.80        54\n",
      "   macro avg       0.77      0.80      0.77        54\n",
      "weighted avg       0.78      0.80      0.77        54\n"
     ]
    }
   ],
   "source": [
    "first_int = lambda x: int(x[0])\n",
    "\n",
    "pred = res[\"sale_order_line_id_case_id\"].map(first_int)\n",
    "true = res[\"bp_id\"].map(first_int)\n",
    "\n",
    "print(\"------------------ Activity Type --------------\")\n",
    "print(classification_report(true[pred!= -1], pred[pred!= -1], zero_division=0.0))"
   ],
   "metadata": {
    "collapsed": false,
    "ExecuteTime": {
     "end_time": "2024-04-29T17:52:31.358794Z",
     "start_time": "2024-04-29T17:52:31.219632Z"
    }
   },
   "id": "769244aaab09be9e"
  },
  {
   "cell_type": "code",
   "execution_count": 77,
   "outputs": [],
   "source": [
    "out = res.sort_values(by= \"sniff_time_min\")[[\"sniff_time_min\",\"stack_prediction\",\"case_id\"]].reset_index(drop=True)\n",
    "out.columns = [\"timestamp\", \"activity\", \"case_id\"]"
   ],
   "metadata": {
    "collapsed": false,
    "ExecuteTime": {
     "end_time": "2024-04-29T17:51:25.871338Z",
     "start_time": "2024-04-29T17:51:25.604603Z"
    }
   },
   "id": "e1f87f8fa560c7e5"
  },
  {
   "cell_type": "code",
   "execution_count": 78,
   "outputs": [],
   "source": [
    "out.to_csv(\"../../data_v3/out/ptp_xes_out.csv\", index = False)"
   ],
   "metadata": {
    "collapsed": false,
    "ExecuteTime": {
     "end_time": "2024-04-29T17:51:25.871404Z",
     "start_time": "2024-04-29T17:51:25.617259Z"
    }
   },
   "id": "924ff4327dee8b5b"
  }
 ],
 "metadata": {
  "kernelspec": {
   "display_name": "Python 3",
   "language": "python",
   "name": "python3"
  },
  "language_info": {
   "codemirror_mode": {
    "name": "ipython",
    "version": 2
   },
   "file_extension": ".py",
   "mimetype": "text/x-python",
   "name": "python",
   "nbconvert_exporter": "python",
   "pygments_lexer": "ipython2",
   "version": "2.7.6"
  }
 },
 "nbformat": 4,
 "nbformat_minor": 5
}
