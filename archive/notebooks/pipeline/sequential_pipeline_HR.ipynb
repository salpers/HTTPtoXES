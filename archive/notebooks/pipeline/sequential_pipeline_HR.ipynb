{
 "cells": [
  {
   "cell_type": "code",
   "execution_count": 1,
   "outputs": [],
   "source": [
    "import ast\n",
    "import re\n",
    "\n",
    "import metrics\n",
    "import numpy as np\n",
    "import pandas as pd\n",
    "from event_loop.stack import Stack\n",
    "from event_loop.event import keep_event\n",
    "\n",
    "%load_ext autoreload\n",
    "%load_ext memory_profiler"
   ],
   "metadata": {
    "collapsed": false,
    "ExecuteTime": {
     "end_time": "2024-04-29T16:36:27.421160Z",
     "start_time": "2024-04-29T16:36:26.907347Z"
    }
   },
   "id": "e78c62da13f69969"
  },
  {
   "cell_type": "markdown",
   "source": [
    "# Prerequisuites"
   ],
   "metadata": {
    "collapsed": false
   },
   "id": "9af28cc8576de679"
  },
  {
   "cell_type": "markdown",
   "source": [
    "## Activity Action Model\n",
    "Train a Model with the task of classifying Start, End and NoAction events in the interleaved data. \n",
    "Training is done during a \"warmup\" phase with generated training data. "
   ],
   "metadata": {
    "collapsed": false
   },
   "id": "7d390ec7d82748f9"
  },
  {
   "cell_type": "markdown",
   "source": [
    "### Load Data"
   ],
   "metadata": {
    "collapsed": false
   },
   "id": "b71fca8f257d622"
  },
  {
   "cell_type": "code",
   "execution_count": 2,
   "outputs": [],
   "source": [
    "# HR data in data/Train/R1 is missing frame.number. We take another (already filtered) dataset and apply our feature extraction to this one\n",
    "df_train_in = pd.read_csv('../../data_v3/hr_extended_features.csv', converters={\"MessageAttributes\": ast.literal_eval})"
   ],
   "metadata": {
    "collapsed": false,
    "ExecuteTime": {
     "end_time": "2024-04-29T16:36:28.788365Z",
     "start_time": "2024-04-29T16:36:27.379928Z"
    }
   },
   "id": "490cfbb42b29d0f0"
  },
  {
   "cell_type": "code",
   "execution_count": 3,
   "outputs": [],
   "source": [
    "# This is the Interleaved Data Set for our pipeline\n",
    "df_il_in = pd.read_csv('../../data/HR-INTERLEAVED/R1/R1.csv', converters={\"MessageAttributes\": ast.literal_eval})"
   ],
   "metadata": {
    "collapsed": false,
    "ExecuteTime": {
     "end_time": "2024-04-29T16:36:29.869746Z",
     "start_time": "2024-04-29T16:36:28.788985Z"
    }
   },
   "id": "4ba9ef52affe721a"
  },
  {
   "cell_type": "markdown",
   "source": [
    "### Preprocessing"
   ],
   "metadata": {
    "collapsed": false
   },
   "id": "9cdfd16523df0b5b"
  },
  {
   "cell_type": "code",
   "execution_count": 4,
   "outputs": [],
   "source": [
    "from event_loop.preprocessing.dataframe import extract_features, pre_process\n",
    "\n",
    "# df_train is already at R4 filter level. Only feature extraction necessary\n",
    "df_train = extract_features(df_train_in)\n",
    "\n",
    "# data is at R1 Level. Apply filter and feature extraction\n",
    "df_test = pre_process(df_il_in)"
   ],
   "metadata": {
    "collapsed": false,
    "ExecuteTime": {
     "end_time": "2024-04-29T16:36:38.144601Z",
     "start_time": "2024-04-29T16:36:29.932803Z"
    }
   },
   "id": "195cf763c2fc9f23"
  },
  {
   "cell_type": "code",
   "execution_count": 5,
   "outputs": [],
   "source": [
    "# Load start and end events from ground truth data.\n",
    "# Tag according frames in interleaved data for testing\n",
    "df_gt = pd.read_csv(\"../../data_v3/hr_ground_truth.csv\")\n",
    "\n",
    "start_indices = df_gt[\"start\"].tolist()\n",
    "end_indices = df_gt[\"actual_end\"].tolist()\n",
    "\n",
    "df_test[\"ActivityAction\"] = df_test[\"frame.number\"].apply(lambda x: \"Activity Start\" if x in start_indices else\n",
    "(\"Activity End\" if x in end_indices else \"NoAction\"))"
   ],
   "metadata": {
    "collapsed": false,
    "ExecuteTime": {
     "end_time": "2024-04-29T16:36:38.160485Z",
     "start_time": "2024-04-29T16:36:38.146518Z"
    }
   },
   "id": "ff49214adb9839a7"
  },
  {
   "cell_type": "code",
   "execution_count": 6,
   "outputs": [
    {
     "data": {
      "text/plain": "SequenceNumber\n13     132\n21     115\n6      115\n1      115\n5       96\n      ... \n404     15\n158     15\n157     15\n25      15\n154     14\nName: count, Length: 933, dtype: int64"
     },
     "execution_count": 6,
     "metadata": {},
     "output_type": "execute_result"
    }
   ],
   "source": [
    "# ------------ OPTIONAL ---------------\n",
    "# TODO Duplicate with Activity Model - move down and delete\n",
    "# Form sequences in training data by grouping\n",
    "df_train = df_train.sort_values(by=[\"InstanceNumber\", \"BusinessActivity\", \"frame.number\"])\n",
    "df_train[\"SequenceNumber\"] = df_train.groupby([\"BusinessActivity\", \"InstanceNumber\"]).ngroup()\n",
    "df_train[\"SequenceNumber\"] -= df_train['SequenceNumber'].min()\n",
    "\n",
    "# check sequence length of training data\n",
    "df_train[\"SequenceNumber\"].value_counts()"
   ],
   "metadata": {
    "collapsed": false,
    "ExecuteTime": {
     "end_time": "2024-04-29T16:36:38.178730Z",
     "start_time": "2024-04-29T16:36:38.152296Z"
    }
   },
   "id": "a9950736f0722f85"
  },
  {
   "cell_type": "code",
   "execution_count": 7,
   "outputs": [],
   "source": [
    "def mark_start_end(df):\n",
    "    # Mark start event of each BusinessActivity Instance\n",
    "    df[\"activityStart\"] = df.groupby([\"BusinessActivity\", \"InstanceNumber\", ]).cumcount() == 0\n",
    "    # Mark end event of each Business Activity Instance\n",
    "    df[\"activityEnd\"] = df.groupby([\"BusinessActivity\", \"InstanceNumber\", ]).cumcount(ascending=False) == 0\n",
    "    # Merge start and end columns to form labels\n",
    "    df[\"ActivityAction\"] = df.apply(lambda row: \"Activity Start\" if row[\"activityStart\"] else (\n",
    "        \"Activity End\" if row[\"activityEnd\"] else 'NoAction'), axis=1)\n",
    "\n",
    "    return df.drop([\"activityStart\", 'activityEnd'], axis=1)\n",
    "\n",
    "df_train = mark_start_end(df_train)"
   ],
   "metadata": {
    "collapsed": false,
    "ExecuteTime": {
     "end_time": "2024-04-29T16:36:38.316995Z",
     "start_time": "2024-04-29T16:36:38.173170Z"
    }
   },
   "id": "c29d2381e98a2df"
  },
  {
   "cell_type": "code",
   "execution_count": 8,
   "outputs": [],
   "source": [
    "cols = [\"event_with_roles\", \"request_method_call\", \"selective_file_data\", \n",
    "        \"origin_method\",\"origin_file_data\"]"
   ],
   "metadata": {
    "collapsed": false,
    "ExecuteTime": {
     "end_time": "2024-04-29T16:36:38.321063Z",
     "start_time": "2024-04-29T16:36:38.317482Z"
    }
   },
   "id": "e04dd419e6dd519"
  },
  {
   "cell_type": "code",
   "execution_count": 9,
   "outputs": [],
   "source": [
    "def dict_to_features(dict):\n",
    "    return [[{**d, \"bias\": 1.0}] for d in dict]\n",
    "\n",
    "\n",
    "def extract_labels(labels):\n",
    "    return [[y] for y in labels]"
   ],
   "metadata": {
    "collapsed": false,
    "ExecuteTime": {
     "end_time": "2024-04-29T16:36:38.324775Z",
     "start_time": "2024-04-29T16:36:38.320787Z"
    }
   },
   "id": "c63cd9530571e015"
  },
  {
   "cell_type": "code",
   "execution_count": 10,
   "outputs": [],
   "source": [
    "train_features = df_train[cols].to_dict(\"records\")\n",
    "train_features = dict_to_features(train_features)\n",
    "train_labels = extract_labels(df_train[\"ActivityAction\"])"
   ],
   "metadata": {
    "collapsed": false,
    "ExecuteTime": {
     "end_time": "2024-04-29T16:36:38.418459Z",
     "start_time": "2024-04-29T16:36:38.325236Z"
    }
   },
   "id": "ea316f5a912cfb5f"
  },
  {
   "cell_type": "code",
   "execution_count": 11,
   "outputs": [],
   "source": [
    "test_features = df_test[cols].to_dict(\"records\")\n",
    "test_features = dict_to_features(test_features)\n",
    "test_labels = extract_labels(df_test[\"ActivityAction\"])"
   ],
   "metadata": {
    "collapsed": false,
    "ExecuteTime": {
     "end_time": "2024-04-29T16:36:38.430427Z",
     "start_time": "2024-04-29T16:36:38.423749Z"
    }
   },
   "id": "409c5bf853c5cf34"
  },
  {
   "cell_type": "markdown",
   "source": [
    "### Model Training"
   ],
   "metadata": {
    "collapsed": false
   },
   "id": "7273e609ed8e6a30"
  },
  {
   "cell_type": "code",
   "execution_count": 12,
   "outputs": [],
   "source": [
    "# optional Train Test split for evaluation on training data\n",
    "# In prod case, we train on 100% training data and evaluate on interleaved data\n",
    "from sklearn.model_selection import train_test_split\n",
    "\n",
    "X_train, X_test, y_train, y_test = train_test_split(train_features, train_labels, test_size=0.3, random_state=42)"
   ],
   "metadata": {
    "collapsed": false,
    "ExecuteTime": {
     "end_time": "2024-04-29T16:36:39.043381Z",
     "start_time": "2024-04-29T16:36:38.427137Z"
    }
   },
   "id": "a391e8d3a432ad17"
  },
  {
   "cell_type": "code",
   "execution_count": 13,
   "outputs": [
    {
     "name": "stdout",
     "output_type": "stream",
     "text": [
      "peak memory: 529.62 MiB, increment: 0.02 MiB\n"
     ]
    }
   ],
   "source": [
    "%%memit\n",
    "import sklearn_crfsuite\n",
    "\n",
    "crf = sklearn_crfsuite.CRF(\n",
    "    max_iterations=200,\n",
    "    c1=0.1,\n",
    "    c2=0.01,\n",
    "    all_possible_transitions=True\n",
    "    #all_possible_transitions=True\n",
    ")\n",
    "crf.fit(train_features, train_labels)"
   ],
   "metadata": {
    "collapsed": false,
    "ExecuteTime": {
     "end_time": "2024-04-29T16:36:40.919802Z",
     "start_time": "2024-04-29T16:36:39.129182Z"
    }
   },
   "id": "db466e19f598b17e"
  },
  {
   "cell_type": "markdown",
   "source": [
    "### Optimization"
   ],
   "metadata": {
    "collapsed": false
   },
   "id": "f5b9eb1c58112b03"
  },
  {
   "cell_type": "code",
   "execution_count": 14,
   "outputs": [],
   "source": [
    "from sklearn.metrics import make_scorer\n",
    "import scipy\n",
    "from sklearn.model_selection import RandomizedSearchCV\n",
    "from sklearn_crfsuite import metrics\n",
    "\n",
    "# define fixed parameters and parameters to search\n",
    "crf2 = sklearn_crfsuite.CRF(\n",
    "    algorithm='lbfgs', \n",
    "    max_iterations=200, \n",
    "    all_possible_transitions=True\n",
    ")\n",
    "params_space = {\n",
    "    'c1': scipy.stats.expon(scale=0.5),\n",
    "    'c2': scipy.stats.expon(scale=0.05),\n",
    "}\n",
    "\n",
    "# use the same metric for evaluation\n",
    "f1_scorer = make_scorer(metrics.flat_f1_score, \n",
    "                        average='macro', labels=np.unique(test_labels))\n",
    "\n",
    "# search\n",
    "rs = RandomizedSearchCV(crf, params_space, \n",
    "                        cv=5, \n",
    "                        verbose=1, \n",
    "                        n_jobs=-1, \n",
    "                        n_iter=150, \n",
    "                        scoring=f1_scorer)\n",
    "#rs.fit(train_features, train_labels)\n",
    "\n",
    "#crf = rs.best_estimator_"
   ],
   "metadata": {
    "collapsed": false,
    "ExecuteTime": {
     "end_time": "2024-04-29T16:36:40.930510Z",
     "start_time": "2024-04-29T16:36:40.922874Z"
    }
   },
   "id": "14bec2b77fb107d9"
  },
  {
   "cell_type": "markdown",
   "source": [
    "### Evaluation"
   ],
   "metadata": {
    "collapsed": false
   },
   "id": "69dd96cbeb352f78"
  },
  {
   "cell_type": "code",
   "execution_count": 15,
   "outputs": [],
   "source": [
    "from sklearn.metrics import multilabel_confusion_matrix\n",
    "from sklearn_crfsuite import metrics\n",
    "\n",
    "\n",
    "def flatten(xss):\n",
    "    return [x for xs in xss for x in xs]\n",
    "\n",
    "\n",
    "def evaluate(model, x, y_true):\n",
    "    y_pred = model.predict(x)\n",
    "    print(metrics.flat_f1_score(y_true, y_pred, average='macro', labels=model.classes_))\n",
    "    print(metrics.flat_classification_report(y_true, y_pred, model.classes_))\n",
    "    [print(label, \"\\n\", matrix) for matrix, label in\n",
    "     zip(multilabel_confusion_matrix(flatten(y_true), flatten(y_pred), labels=model.classes_), model.classes_)]\n"
   ],
   "metadata": {
    "collapsed": false,
    "ExecuteTime": {
     "end_time": "2024-04-29T16:36:40.934005Z",
     "start_time": "2024-04-29T16:36:40.930157Z"
    }
   },
   "id": "ec5f57cdddd3a1ac"
  },
  {
   "cell_type": "code",
   "execution_count": 16,
   "outputs": [
    {
     "name": "stdout",
     "output_type": "stream",
     "text": [
      "0.9608303595410767\n",
      "                precision    recall  f1-score   support\n",
      "\n",
      "Activity Start       1.00      1.00      1.00        37\n",
      "      NoAction       1.00      1.00      1.00      1239\n",
      "  Activity End       0.94      0.84      0.89        37\n",
      "\n",
      "      accuracy                           0.99      1313\n",
      "     macro avg       0.98      0.95      0.96      1313\n",
      "  weighted avg       0.99      0.99      0.99      1313\n",
      "\n",
      "Activity Start \n",
      " [[1276    0]\n",
      " [   0   37]]\n",
      "NoAction \n",
      " [[  68    6]\n",
      " [   2 1237]]\n",
      "Activity End \n",
      " [[1274    2]\n",
      " [   6   31]]\n"
     ]
    }
   ],
   "source": [
    "evaluate(crf, test_features, test_labels)"
   ],
   "metadata": {
    "collapsed": false,
    "ExecuteTime": {
     "end_time": "2024-04-29T16:36:40.981416Z",
     "start_time": "2024-04-29T16:36:40.932425Z"
    }
   },
   "id": "45bc3c515329882c"
  },
  {
   "cell_type": "code",
   "execution_count": 17,
   "outputs": [],
   "source": [
    "pred = crf.predict(test_features)"
   ],
   "metadata": {
    "collapsed": false,
    "ExecuteTime": {
     "end_time": "2024-04-29T16:36:40.981604Z",
     "start_time": "2024-04-29T16:36:40.962539Z"
    }
   },
   "id": "90381f179bed01ec"
  },
  {
   "cell_type": "code",
   "execution_count": 18,
   "outputs": [],
   "source": [
    "pred_mg = crf.predict_marginals(test_features)"
   ],
   "metadata": {
    "collapsed": false,
    "ExecuteTime": {
     "end_time": "2024-04-29T16:36:40.981661Z",
     "start_time": "2024-04-29T16:36:40.972085Z"
    }
   },
   "id": "b4e393fddea92c82"
  },
  {
   "cell_type": "code",
   "execution_count": 19,
   "outputs": [],
   "source": [
    "#wrong_pred_idx = [i for i,(e1,e2) in enumerate(zip(pred,test_labels)) if e1 != e2]"
   ],
   "metadata": {
    "collapsed": false,
    "ExecuteTime": {
     "end_time": "2024-04-29T16:36:40.984829Z",
     "start_time": "2024-04-29T16:36:40.974433Z"
    }
   },
   "id": "52f34d20218a33be"
  },
  {
   "cell_type": "code",
   "execution_count": 20,
   "outputs": [],
   "source": [
    "#margs = [pred_mg[i] for i in wrong_pred_idx]\n",
    "columns = pred_mg[0][0].keys()\n",
    "flat_margs = [[entry[column] for column in columns] for sublist in pred_mg for entry in sublist]\n",
    "df_margs = pd.DataFrame(flat_margs, columns=columns)"
   ],
   "metadata": {
    "collapsed": false,
    "ExecuteTime": {
     "end_time": "2024-04-29T16:36:40.985006Z",
     "start_time": "2024-04-29T16:36:40.979175Z"
    }
   },
   "id": "a963def031360d96"
  },
  {
   "cell_type": "code",
   "execution_count": 21,
   "outputs": [],
   "source": [
    "#df_eval = pd.DataFrame([(pred[i], test_labels[i], df_test.iloc[i][\"frame.number\"] ) for i in wrong_pred_idx],columns = [\"predicted\",\"true\",\"frame.number\"],)\n",
    "\n",
    "df_eval = pd.DataFrame({\"predicted\": pred, \"true\": test_labels, \"frame.number\":df_test[\"frame.number\"]}).reset_index(drop=True)\n",
    "\n",
    "df_eval = pd.concat([df_eval, df_margs], axis = 1)\n",
    "\n",
    "df_eval[\"pred_true\"] = df_eval[\"predicted\"] == df_eval[\"true\"]\n",
    "\n"
   ],
   "metadata": {
    "collapsed": false,
    "ExecuteTime": {
     "end_time": "2024-04-29T16:36:41.015711Z",
     "start_time": "2024-04-29T16:36:40.984172Z"
    }
   },
   "id": "191d12b5ca393c44"
  },
  {
   "cell_type": "code",
   "execution_count": 22,
   "outputs": [],
   "source": [
    "from scipy.stats import entropy\n",
    "\n",
    "cols = ['Activity Start', 'NoAction', 'Activity End']\n",
    "\n",
    "# Calculate entropy for each row using the specified columns\n",
    "df_eval[\"entropy\"] = df_eval[cols].apply(entropy, axis=1)\n"
   ],
   "metadata": {
    "collapsed": false,
    "ExecuteTime": {
     "end_time": "2024-04-29T16:36:41.042219Z",
     "start_time": "2024-04-29T16:36:40.998754Z"
    }
   },
   "id": "3a7fc79dec58261c"
  },
  {
   "cell_type": "code",
   "execution_count": 23,
   "outputs": [
    {
     "data": {
      "text/plain": "           predicted            true  frame.number  Activity Start  NoAction  \\\n126       [NoAction]  [Activity End]          2336        0.000325  0.531728   \n403       [NoAction]  [Activity End]          8044        0.000325  0.531728   \n471       [NoAction]  [Activity End]          9329        0.000325  0.531728   \n749       [NoAction]  [Activity End]         15350        0.000325  0.531728   \n983       [NoAction]  [Activity End]         20665        0.000325  0.531728   \n1013      [NoAction]  [Activity End]         21651        0.000145  0.710542   \n313   [Activity End]      [NoAction]          6266        0.000151  0.257351   \n1214  [Activity End]      [NoAction]         26182        0.000151  0.257351   \n\n      Activity End  pred_true   entropy  \n126       0.467948      False  0.693818  \n403       0.467948      False  0.693818  \n471       0.467948      False  0.693818  \n749       0.467948      False  0.693818  \n983       0.467948      False  0.693818  \n1013      0.289313      False  0.602914  \n313       0.742498      False  0.571706  \n1214      0.742498      False  0.571706  ",
      "text/html": "<div>\n<style scoped>\n    .dataframe tbody tr th:only-of-type {\n        vertical-align: middle;\n    }\n\n    .dataframe tbody tr th {\n        vertical-align: top;\n    }\n\n    .dataframe thead th {\n        text-align: right;\n    }\n</style>\n<table border=\"1\" class=\"dataframe\">\n  <thead>\n    <tr style=\"text-align: right;\">\n      <th></th>\n      <th>predicted</th>\n      <th>true</th>\n      <th>frame.number</th>\n      <th>Activity Start</th>\n      <th>NoAction</th>\n      <th>Activity End</th>\n      <th>pred_true</th>\n      <th>entropy</th>\n    </tr>\n  </thead>\n  <tbody>\n    <tr>\n      <th>126</th>\n      <td>[NoAction]</td>\n      <td>[Activity End]</td>\n      <td>2336</td>\n      <td>0.000325</td>\n      <td>0.531728</td>\n      <td>0.467948</td>\n      <td>False</td>\n      <td>0.693818</td>\n    </tr>\n    <tr>\n      <th>403</th>\n      <td>[NoAction]</td>\n      <td>[Activity End]</td>\n      <td>8044</td>\n      <td>0.000325</td>\n      <td>0.531728</td>\n      <td>0.467948</td>\n      <td>False</td>\n      <td>0.693818</td>\n    </tr>\n    <tr>\n      <th>471</th>\n      <td>[NoAction]</td>\n      <td>[Activity End]</td>\n      <td>9329</td>\n      <td>0.000325</td>\n      <td>0.531728</td>\n      <td>0.467948</td>\n      <td>False</td>\n      <td>0.693818</td>\n    </tr>\n    <tr>\n      <th>749</th>\n      <td>[NoAction]</td>\n      <td>[Activity End]</td>\n      <td>15350</td>\n      <td>0.000325</td>\n      <td>0.531728</td>\n      <td>0.467948</td>\n      <td>False</td>\n      <td>0.693818</td>\n    </tr>\n    <tr>\n      <th>983</th>\n      <td>[NoAction]</td>\n      <td>[Activity End]</td>\n      <td>20665</td>\n      <td>0.000325</td>\n      <td>0.531728</td>\n      <td>0.467948</td>\n      <td>False</td>\n      <td>0.693818</td>\n    </tr>\n    <tr>\n      <th>1013</th>\n      <td>[NoAction]</td>\n      <td>[Activity End]</td>\n      <td>21651</td>\n      <td>0.000145</td>\n      <td>0.710542</td>\n      <td>0.289313</td>\n      <td>False</td>\n      <td>0.602914</td>\n    </tr>\n    <tr>\n      <th>313</th>\n      <td>[Activity End]</td>\n      <td>[NoAction]</td>\n      <td>6266</td>\n      <td>0.000151</td>\n      <td>0.257351</td>\n      <td>0.742498</td>\n      <td>False</td>\n      <td>0.571706</td>\n    </tr>\n    <tr>\n      <th>1214</th>\n      <td>[Activity End]</td>\n      <td>[NoAction]</td>\n      <td>26182</td>\n      <td>0.000151</td>\n      <td>0.257351</td>\n      <td>0.742498</td>\n      <td>False</td>\n      <td>0.571706</td>\n    </tr>\n  </tbody>\n</table>\n</div>"
     },
     "execution_count": 23,
     "metadata": {},
     "output_type": "execute_result"
    }
   ],
   "source": [
    "df_eval[~ df_eval[\"pred_true\"]].sort_values(by='entropy', ascending=False)"
   ],
   "metadata": {
    "collapsed": false,
    "ExecuteTime": {
     "end_time": "2024-04-29T16:36:41.043412Z",
     "start_time": "2024-04-29T16:36:41.002539Z"
    }
   },
   "id": "f0ef00109c4bc1ba"
  },
  {
   "cell_type": "markdown",
   "source": [
    "We observe a high entropy > 0.5 for all wrong classifications\n",
    "\n",
    "-> Apply fallback model for this cases"
   ],
   "metadata": {
    "collapsed": false
   },
   "id": "b2bc8f3dfd034489"
  },
  {
   "cell_type": "markdown",
   "source": [
    "## Activity Model\n",
    "The activity model utilises multiple sliding windows over the training data for pattern matching\n",
    "\n"
   ],
   "metadata": {
    "collapsed": false
   },
   "id": "c44ba4a1e5a9b0d6"
  },
  {
   "cell_type": "code",
   "execution_count": 24,
   "outputs": [
    {
     "name": "stdout",
     "output_type": "stream",
     "text": [
      "Reduced the number of sequences from 932 to 26 unique ones\n"
     ]
    }
   ],
   "source": [
    "from sklearn.preprocessing import LabelEncoder\n",
    "from numpy.lib.stride_tricks import sliding_window_view\n",
    "\n",
    "\n",
    "def sequence_by_activities(data, seq_data):\n",
    "    return [data[seq_data == i].values for i in range(seq_data.max())]\n",
    "\n",
    "\n",
    "def get_unique_sequences(seq_data):\n",
    "    # Convert each array to a tuple and create a set of tuples\n",
    "    array_set = set(tuple(arr) for arr in seq_data)\n",
    "\n",
    "    # Convert the set of tuples back to a list of NumPy arrays\n",
    "    return [np.array(arr) for arr in array_set]\n",
    "\n",
    "\n",
    "df_train[\"joined\"] = df_train[\"event_with_roles\"] + df_train[\"selective_file_data\"]\n",
    "\n",
    "# Label Encode Training Data \n",
    "le = LabelEncoder()\n",
    "df_train[\"joined_LE\"] = le.fit_transform(df_train[\"joined\"])\n",
    "\n",
    "# Mark groups of Instance Number and BusinessActivity with sequence numbers\n",
    "df_train = df_train.sort_values(by=[\"InstanceNumber\", \"BusinessActivity\", \"frame.number\"])\n",
    "df_train[\"SequenceNumber\"] = df_train.groupby([\"BusinessActivity\", \"InstanceNumber\"]).ngroup()\n",
    "# Align Sequence Numbers so that they start at 0\n",
    "df_train[\"SequenceNumber\"] -= df_train['SequenceNumber'].min()\n",
    "\n",
    "# Divides dataframe into arrays according to to Sequence Data Indicator\n",
    "data_joined_LE = sequence_by_activities(df_train[\"joined_LE\"], df_train[\"SequenceNumber\"])\n",
    "\n",
    "unique_sequences = get_unique_sequences(data_joined_LE)\n",
    "\n",
    "print(f\"Reduced the number of sequences from {len(data_joined_LE)} to {len(unique_sequences)} unique ones\")\n",
    "\n",
    "def get_activity_model_data(max_window_length):\n",
    "    return [np.concatenate([sliding_window_view(seq, i) for seq in unique_sequences], axis=0) for i in\n",
    "                       range(max_window_length)]\n",
    "    \n",
    "\n",
    "\n",
    "# form sliding window sequences of Size N for Training Data \n",
    "#activity_model_data = [np.concatenate([sliding_window_view(seq, i) for seq in unique_sequences], axis=0) for i in range(N)]"
   ],
   "metadata": {
    "collapsed": false,
    "ExecuteTime": {
     "end_time": "2024-04-29T16:36:41.123598Z",
     "start_time": "2024-04-29T16:36:41.015840Z"
    }
   },
   "id": "bc0282a2386f9d98"
  },
  {
   "cell_type": "markdown",
   "source": [
    "# Action Loop\n",
    "\n",
    "Main loop. Gets raw R1 data as input. \n",
    "Applies filtering, activity action and sequence classification"
   ],
   "metadata": {
    "collapsed": false
   },
   "id": "cd4922a5f25b0f9d"
  },
  {
   "cell_type": "code",
   "execution_count": 25,
   "outputs": [],
   "source": [
    "records = df_il_in.to_dict(\"records\")"
   ],
   "metadata": {
    "collapsed": false,
    "ExecuteTime": {
     "end_time": "2024-04-29T16:36:41.446456Z",
     "start_time": "2024-04-29T16:36:41.118693Z"
    }
   },
   "id": "e79d8e1cbb43d45d"
  },
  {
   "cell_type": "code",
   "execution_count": 26,
   "outputs": [
    {
     "data": {
      "text/plain": "       Unnamed: 0.1  Unnamed: 0                   FileName  \\\n0                 0           0  rec_over_http_prod_1.pcap   \n1                 1           1  rec_over_http_prod_1.pcap   \n2                 2           3  rec_over_http_prod_1.pcap   \n3                 3           5  rec_over_http_prod_1.pcap   \n4                 4           6  rec_over_http_prod_1.pcap   \n...             ...         ...                        ...   \n61398         61398       65564  rec_over_http_prod_1.pcap   \n61399         61399       65562  rec_over_http_prod_1.pcap   \n61400         61400       65565  rec_over_http_prod_1.pcap   \n61401         61401       65566  rec_over_http_prod_1.pcap   \n61402         61402       65567  rec_over_http_prod_1.pcap   \n\n           BusinessActivity InstanceNumber                  sniff_time  \\\n0      HrRecruitmentProcess           over  2020-09-18 01:07:22.425396   \n1      HrRecruitmentProcess           over  2020-09-18 01:07:22.425634   \n2      HrRecruitmentProcess           over  2020-09-18 01:07:22.425912   \n3      HrRecruitmentProcess           over  2020-09-18 01:07:22.429086   \n4      HrRecruitmentProcess           over  2020-09-18 01:07:22.429299   \n...                     ...            ...                         ...   \n61398  HrRecruitmentProcess           over  2020-09-18 01:11:38.925295   \n61399  HrRecruitmentProcess           over  2020-09-18 01:11:38.925295   \n61400  HrRecruitmentProcess           over  2020-09-18 01:11:38.925470   \n61401  HrRecruitmentProcess           over  2020-09-18 01:11:38.925552   \n61402  HrRecruitmentProcess           over  2020-09-18 01:11:38.925552   \n\n       frame.number        synthetic_sniff_time    synthetic_sniff_time_str  \\\n0                13  2020-09-18 13:37:18.715396  2020-09-18 13:37:18.715396   \n1                14  2020-09-18 13:37:21.095634  2020-09-18 13:37:21.095634   \n2                17  2020-09-18 13:37:23.875912  2020-09-18 13:37:23.875912   \n3                19  2020-09-18 13:37:55.619086  2020-09-18 13:37:55.619086   \n4                20  2020-09-18 13:37:57.749299  2020-09-18 13:37:57.749299   \n...             ...                         ...                         ...   \n61398         28860  2020-10-18 06:11:34.205295  2020-10-18 06:11:34.205295   \n61399         28860  2020-10-18 06:11:34.205295  2020-10-18 06:11:34.205295   \n61400         28861  2020-10-18 06:11:35.955470  2020-10-18 06:11:35.955470   \n61401         28862  2020-10-18 06:11:36.775552  2020-10-18 06:11:36.775552   \n61402         28862  2020-10-18 06:11:36.775552  2020-10-18 06:11:36.775552   \n\n                   session_generalized HighestLayerProtocol  \\\n0        192.168.11.2-192.168.11.6 (1)                  tcp   \n1        192.168.11.2-192.168.11.6 (1)                  tcp   \n2        192.168.11.2-192.168.11.6 (1)                 http   \n3        192.168.11.1-192.168.11.2 (1)                  tcp   \n4        192.168.11.1-192.168.11.2 (1)                  tcp   \n...                                ...                  ...   \n61398  192.168.11.1-192.168.11.2 (231)                pgsql   \n61399  192.168.11.1-192.168.11.2 (231)                pgsql   \n61400  192.168.11.1-192.168.11.2 (231)                pgsql   \n61401  192.168.11.1-192.168.11.2 (231)                pgsql   \n61402  192.168.11.1-192.168.11.2 (231)                pgsql   \n\n                                    MessageType_WithRole  \\\n0      End Point (HR Manager)->Odoo Application:[Conn...   \n1      Odoo Application->End Point (HR Manager):[Conn...   \n2      End Point (HR Manager)->Odoo Application:[Http...   \n3      Odoo Application->db Server/Mail Server:[Conne...   \n4      db Server/Mail Server->Odoo Application:[Conne...   \n...                                                  ...   \n61398  db Server/Mail Server->Odoo Application:[Pgsql...   \n61399  db Server/Mail Server->Odoo Application:[Pgsql...   \n61400  Odoo Application->db Server/Mail Server:[Pgsql...   \n61401  db Server/Mail Server->Odoo Application:[Pgsql...   \n61402  db Server/Mail Server->Odoo Application:[Pgsql...   \n\n                                          MessageType  \\\n0                  Connection establish request (SYN)   \n1          Connection establish acknowledge (SYN+ACK)   \n2      HttpRequest:POST /xmlrpc/2/common HTTP/1.1\\r\\n   \n3                  Connection establish request (SYN)   \n4          Connection establish acknowledge (SYN+ACK)   \n...                                               ...   \n61398                   PgsqlResponse:Ready for query   \n61399                   PgsqlResponse:Row description   \n61400                       PgsqlRequest:Simple query   \n61401                PgsqlResponse:Command completion   \n61402                   PgsqlResponse:Ready for query   \n\n                                       MessageAttributes pgsql.query  \\\n0                                                     {}        None   \n1                                                     {}        None   \n2      {'': 'POST /xmlrpc/2/common HTTP/1.1\\r\\n', '_w...        None   \n3                                                     {}        None   \n4                                                     {}        None   \n...                                                  ...         ...   \n61398  {'pgsql.type': 'Ready for query', 'pgsql.lengt...        None   \n61399  {'pgsql.type': 'Row description', 'pgsql.lengt...        None   \n61400  {'pgsql.type': 'Simple query', 'pgsql.length':...      COMMIT   \n61401  {'pgsql.type': 'Command completion', 'pgsql.le...        None   \n61402  {'pgsql.type': 'Ready for query', 'pgsql.lengt...        None   \n\n      pgsql.target  \n0             None  \n1             None  \n2             None  \n3             None  \n4             None  \n...            ...  \n61398         None  \n61399         None  \n61400         None  \n61401         None  \n61402         None  \n\n[61403 rows x 16 columns]",
      "text/html": "<div>\n<style scoped>\n    .dataframe tbody tr th:only-of-type {\n        vertical-align: middle;\n    }\n\n    .dataframe tbody tr th {\n        vertical-align: top;\n    }\n\n    .dataframe thead th {\n        text-align: right;\n    }\n</style>\n<table border=\"1\" class=\"dataframe\">\n  <thead>\n    <tr style=\"text-align: right;\">\n      <th></th>\n      <th>Unnamed: 0.1</th>\n      <th>Unnamed: 0</th>\n      <th>FileName</th>\n      <th>BusinessActivity</th>\n      <th>InstanceNumber</th>\n      <th>sniff_time</th>\n      <th>frame.number</th>\n      <th>synthetic_sniff_time</th>\n      <th>synthetic_sniff_time_str</th>\n      <th>session_generalized</th>\n      <th>HighestLayerProtocol</th>\n      <th>MessageType_WithRole</th>\n      <th>MessageType</th>\n      <th>MessageAttributes</th>\n      <th>pgsql.query</th>\n      <th>pgsql.target</th>\n    </tr>\n  </thead>\n  <tbody>\n    <tr>\n      <th>0</th>\n      <td>0</td>\n      <td>0</td>\n      <td>rec_over_http_prod_1.pcap</td>\n      <td>HrRecruitmentProcess</td>\n      <td>over</td>\n      <td>2020-09-18 01:07:22.425396</td>\n      <td>13</td>\n      <td>2020-09-18 13:37:18.715396</td>\n      <td>2020-09-18 13:37:18.715396</td>\n      <td>192.168.11.2-192.168.11.6 (1)</td>\n      <td>tcp</td>\n      <td>End Point (HR Manager)-&gt;Odoo Application:[Conn...</td>\n      <td>Connection establish request (SYN)</td>\n      <td>{}</td>\n      <td>None</td>\n      <td>None</td>\n    </tr>\n    <tr>\n      <th>1</th>\n      <td>1</td>\n      <td>1</td>\n      <td>rec_over_http_prod_1.pcap</td>\n      <td>HrRecruitmentProcess</td>\n      <td>over</td>\n      <td>2020-09-18 01:07:22.425634</td>\n      <td>14</td>\n      <td>2020-09-18 13:37:21.095634</td>\n      <td>2020-09-18 13:37:21.095634</td>\n      <td>192.168.11.2-192.168.11.6 (1)</td>\n      <td>tcp</td>\n      <td>Odoo Application-&gt;End Point (HR Manager):[Conn...</td>\n      <td>Connection establish acknowledge (SYN+ACK)</td>\n      <td>{}</td>\n      <td>None</td>\n      <td>None</td>\n    </tr>\n    <tr>\n      <th>2</th>\n      <td>2</td>\n      <td>3</td>\n      <td>rec_over_http_prod_1.pcap</td>\n      <td>HrRecruitmentProcess</td>\n      <td>over</td>\n      <td>2020-09-18 01:07:22.425912</td>\n      <td>17</td>\n      <td>2020-09-18 13:37:23.875912</td>\n      <td>2020-09-18 13:37:23.875912</td>\n      <td>192.168.11.2-192.168.11.6 (1)</td>\n      <td>http</td>\n      <td>End Point (HR Manager)-&gt;Odoo Application:[Http...</td>\n      <td>HttpRequest:POST /xmlrpc/2/common HTTP/1.1\\r\\n</td>\n      <td>{'': 'POST /xmlrpc/2/common HTTP/1.1\\r\\n', '_w...</td>\n      <td>None</td>\n      <td>None</td>\n    </tr>\n    <tr>\n      <th>3</th>\n      <td>3</td>\n      <td>5</td>\n      <td>rec_over_http_prod_1.pcap</td>\n      <td>HrRecruitmentProcess</td>\n      <td>over</td>\n      <td>2020-09-18 01:07:22.429086</td>\n      <td>19</td>\n      <td>2020-09-18 13:37:55.619086</td>\n      <td>2020-09-18 13:37:55.619086</td>\n      <td>192.168.11.1-192.168.11.2 (1)</td>\n      <td>tcp</td>\n      <td>Odoo Application-&gt;db Server/Mail Server:[Conne...</td>\n      <td>Connection establish request (SYN)</td>\n      <td>{}</td>\n      <td>None</td>\n      <td>None</td>\n    </tr>\n    <tr>\n      <th>4</th>\n      <td>4</td>\n      <td>6</td>\n      <td>rec_over_http_prod_1.pcap</td>\n      <td>HrRecruitmentProcess</td>\n      <td>over</td>\n      <td>2020-09-18 01:07:22.429299</td>\n      <td>20</td>\n      <td>2020-09-18 13:37:57.749299</td>\n      <td>2020-09-18 13:37:57.749299</td>\n      <td>192.168.11.1-192.168.11.2 (1)</td>\n      <td>tcp</td>\n      <td>db Server/Mail Server-&gt;Odoo Application:[Conne...</td>\n      <td>Connection establish acknowledge (SYN+ACK)</td>\n      <td>{}</td>\n      <td>None</td>\n      <td>None</td>\n    </tr>\n    <tr>\n      <th>...</th>\n      <td>...</td>\n      <td>...</td>\n      <td>...</td>\n      <td>...</td>\n      <td>...</td>\n      <td>...</td>\n      <td>...</td>\n      <td>...</td>\n      <td>...</td>\n      <td>...</td>\n      <td>...</td>\n      <td>...</td>\n      <td>...</td>\n      <td>...</td>\n      <td>...</td>\n      <td>...</td>\n    </tr>\n    <tr>\n      <th>61398</th>\n      <td>61398</td>\n      <td>65564</td>\n      <td>rec_over_http_prod_1.pcap</td>\n      <td>HrRecruitmentProcess</td>\n      <td>over</td>\n      <td>2020-09-18 01:11:38.925295</td>\n      <td>28860</td>\n      <td>2020-10-18 06:11:34.205295</td>\n      <td>2020-10-18 06:11:34.205295</td>\n      <td>192.168.11.1-192.168.11.2 (231)</td>\n      <td>pgsql</td>\n      <td>db Server/Mail Server-&gt;Odoo Application:[Pgsql...</td>\n      <td>PgsqlResponse:Ready for query</td>\n      <td>{'pgsql.type': 'Ready for query', 'pgsql.lengt...</td>\n      <td>None</td>\n      <td>None</td>\n    </tr>\n    <tr>\n      <th>61399</th>\n      <td>61399</td>\n      <td>65562</td>\n      <td>rec_over_http_prod_1.pcap</td>\n      <td>HrRecruitmentProcess</td>\n      <td>over</td>\n      <td>2020-09-18 01:11:38.925295</td>\n      <td>28860</td>\n      <td>2020-10-18 06:11:34.205295</td>\n      <td>2020-10-18 06:11:34.205295</td>\n      <td>192.168.11.1-192.168.11.2 (231)</td>\n      <td>pgsql</td>\n      <td>db Server/Mail Server-&gt;Odoo Application:[Pgsql...</td>\n      <td>PgsqlResponse:Row description</td>\n      <td>{'pgsql.type': 'Row description', 'pgsql.lengt...</td>\n      <td>None</td>\n      <td>None</td>\n    </tr>\n    <tr>\n      <th>61400</th>\n      <td>61400</td>\n      <td>65565</td>\n      <td>rec_over_http_prod_1.pcap</td>\n      <td>HrRecruitmentProcess</td>\n      <td>over</td>\n      <td>2020-09-18 01:11:38.925470</td>\n      <td>28861</td>\n      <td>2020-10-18 06:11:35.955470</td>\n      <td>2020-10-18 06:11:35.955470</td>\n      <td>192.168.11.1-192.168.11.2 (231)</td>\n      <td>pgsql</td>\n      <td>Odoo Application-&gt;db Server/Mail Server:[Pgsql...</td>\n      <td>PgsqlRequest:Simple query</td>\n      <td>{'pgsql.type': 'Simple query', 'pgsql.length':...</td>\n      <td>COMMIT</td>\n      <td>None</td>\n    </tr>\n    <tr>\n      <th>61401</th>\n      <td>61401</td>\n      <td>65566</td>\n      <td>rec_over_http_prod_1.pcap</td>\n      <td>HrRecruitmentProcess</td>\n      <td>over</td>\n      <td>2020-09-18 01:11:38.925552</td>\n      <td>28862</td>\n      <td>2020-10-18 06:11:36.775552</td>\n      <td>2020-10-18 06:11:36.775552</td>\n      <td>192.168.11.1-192.168.11.2 (231)</td>\n      <td>pgsql</td>\n      <td>db Server/Mail Server-&gt;Odoo Application:[Pgsql...</td>\n      <td>PgsqlResponse:Command completion</td>\n      <td>{'pgsql.type': 'Command completion', 'pgsql.le...</td>\n      <td>None</td>\n      <td>None</td>\n    </tr>\n    <tr>\n      <th>61402</th>\n      <td>61402</td>\n      <td>65567</td>\n      <td>rec_over_http_prod_1.pcap</td>\n      <td>HrRecruitmentProcess</td>\n      <td>over</td>\n      <td>2020-09-18 01:11:38.925552</td>\n      <td>28862</td>\n      <td>2020-10-18 06:11:36.775552</td>\n      <td>2020-10-18 06:11:36.775552</td>\n      <td>192.168.11.1-192.168.11.2 (231)</td>\n      <td>pgsql</td>\n      <td>db Server/Mail Server-&gt;Odoo Application:[Pgsql...</td>\n      <td>PgsqlResponse:Ready for query</td>\n      <td>{'pgsql.type': 'Ready for query', 'pgsql.lengt...</td>\n      <td>None</td>\n      <td>None</td>\n    </tr>\n  </tbody>\n</table>\n<p>61403 rows × 16 columns</p>\n</div>"
     },
     "execution_count": 26,
     "metadata": {},
     "output_type": "execute_result"
    }
   ],
   "source": [
    "df_il_in"
   ],
   "metadata": {
    "collapsed": false,
    "ExecuteTime": {
     "end_time": "2024-04-29T16:36:41.460108Z",
     "start_time": "2024-04-29T16:36:41.453900Z"
    }
   },
   "id": "787e78b34f0ff4e0"
  },
  {
   "cell_type": "code",
   "execution_count": 27,
   "outputs": [],
   "source": [
    "from event_loop.event import Event\n",
    "\n",
    "\n",
    "def get_max_from_dict(d: dict):\n",
    "    return max(d, key= lambda k: d[k])\n",
    "    \n",
    "\n",
    "def classify_event(event: Event): \n",
    "    margs = crf.predict_marginals_single([event.to_features()])[0]\n",
    "    pred = get_max_from_dict(margs)\n",
    "    \n",
    "    e = entropy([p for p in margs.values()])\n",
    "    \n",
    "    #print(f\"{event.frame_number} {pred} {margs[pred]:.3f} {e:.3f},\")\n",
    "    \n",
    "    \n",
    "    true_val = df_eval[df_eval[\"frame.number\"] == event.frame_number][\"true\"].iloc[0][0]\n",
    "    #print(true_val)\n",
    "    \n",
    "    # Change to entropy of prediction\n",
    "    if e > ENTROPY_THRESHOLD: \n",
    "    #if pred != true_val:\n",
    "        # If pred is wrong we have two options for \"wrong classifications\" \n",
    "        # 1 -> We have No Action predicted although the stack should end here \n",
    "        # Idea 1: If the stack did not change after N events, emit it. \n",
    "        \n",
    "        # Mark the confidence on the event.\n",
    "        event.confidence = False \n",
    "\n",
    "\n",
    "        # 2 -> We have End predicted although the stack should continue. \n",
    "        if pred != true_val:\n",
    "            print(f\"False {event.frame_number} {pred} {margs[pred]:.3f} {e:.3f} should be {true_val}\")\n",
    "       \n",
    "        event.activity_action = pred\n",
    "            \n",
    "    else: \n",
    "        event.confidence = True\n",
    "        event.activity_action = pred"
   ],
   "metadata": {
    "collapsed": false,
    "ExecuteTime": {
     "end_time": "2024-04-29T16:36:41.466031Z",
     "start_time": "2024-04-29T16:36:41.459438Z"
    }
   },
   "id": "f8e7e7ea369bce9a"
  },
  {
   "cell_type": "code",
   "execution_count": 28,
   "outputs": [],
   "source": [
    "def search_stack_for_request_frame(frame_number):\n",
    "    for index, stack in enumerate(stacks):\n",
    "        if stack.contains_request_frame(frame_number): \n",
    "            return index\n",
    "    return -1\n",
    "\n",
    "def search_window_for_sequence(seq): \n",
    "    \"\"\"\n",
    "    Check for pattern matches with the training data and return the count\n",
    "    :param seq: array_like\n",
    "                sequence of events\n",
    "            \n",
    "    :return: number of occurences of seq in training data\n",
    "    \"\"\"\n",
    "    return np.sum(np.all(activity_model_data[len(seq)] == seq, axis = 1))\n",
    "\n",
    "\n",
    "def classify_by_train_sequences(event: Event,n : int, exclude_indices: list[int]): \n",
    "    # search for existing stacks in training data \n",
    "    sequences = [le.transform([ e.to_activity_model_string() for e in stack]+[event.to_activity_model_string()]) for stack in stacks]  \n",
    "    \n",
    "    # loop to max 2 elements down\n",
    "    for i in range(n, 1, -1):   \n",
    "        res = [search_window_for_sequence(seq[-i:]) if j not in exclude_indices else -1 for j,seq in enumerate(sequences)]\n",
    "        \n",
    "        max_res = max(res)\n",
    "        max_res_count = res.count(max_res)\n",
    "        idx = np.argmax(res)\n",
    "        \n",
    "        if max_res > 0: \n",
    "            #print(\"res:\",res, max_res, max_res_count, \"->\", idx)\n",
    "            return idx\n",
    "        \n",
    "    return -1\n",
    "\n",
    "def search_stream_index(event: Event, exclude_indices: list[int]) -> int: \n",
    "    indices = [i for i,stack in enumerate(stacks) if stack.contains_stream_index(event.stream_index) and i not in exclude_indices]\n",
    "\n",
    "    if len(indices) == 1: \n",
    "        return indices[0]\n",
    "    else:\n",
    "        return -1\n",
    "    \n",
    "\n",
    "def check_stack_attributes(stacks: list[Stack], event: Event) -> int:\n",
    "    for key, value in event.attributes.items():\n",
    "        if key in HR_ATTRIBUTES and value:\n",
    "            indices = [i for i, stack in enumerate(stacks) if stack.contains_attribute(key,value)]\n",
    "            print()\n",
    "            \n",
    "            if len(indices) ==1: \n",
    "                print(\"MATCH\", indices)\n",
    "                # we have a clear match -> return idx\n",
    "                return indices[0]\n",
    "\n",
    "    return -1\n",
    "\n",
    "\n",
    "def exclude_stacks_by_attribute(stacks: list[Stack], event: Event): \n",
    "    \n",
    "    exclude_indices = []\n",
    "    \n",
    "    for key, value in event.attributes.items():\n",
    "        if key in HR_ATTRIBUTES and value:\n",
    "            exclude_indices.extend(i for i, stack in enumerate(stacks) if stack.has_attribute(key) and not stack.contains_attribute(key, value))\n",
    "\n",
    "\n",
    "    return exclude_indices\n",
    "    \n",
    "    "
   ],
   "metadata": {
    "collapsed": false,
    "ExecuteTime": {
     "end_time": "2024-04-29T16:36:41.486896Z",
     "start_time": "2024-04-29T16:36:41.467615Z"
    }
   },
   "id": "37e38f9c27e4092c"
  },
  {
   "cell_type": "code",
   "execution_count": 29,
   "outputs": [
    {
     "name": "stdout",
     "output_type": "stream",
     "text": [
      "Add new stack 17\n",
      "Search by request frame 0\n",
      "Add new stack 356\n",
      "Search by request frame 0\n",
      "Add new stack 1212\n",
      "Search by request frame 0\n",
      "Add new stack 1582\n",
      "False 2336 NoAction 0.532 0.694 should be Activity End\n",
      "Add new stack 2354\n",
      "POP Unsure No Action Event 131 127\n",
      "Search by request frame 0\n",
      "Add new stack 2708\n",
      "Add new stack 3057\n",
      "Search by request frame 0\n",
      "Add new stack 4467\n",
      "Search by request frame 0\n",
      "Search by request frame 0\n",
      "Add new stack 4939\n",
      "Add new stack 5606\n",
      "Search by request frame 0\n",
      "False 6266 Activity End 0.742 0.572 should be NoAction\n",
      "Search by request frame 0\n",
      "Search by request frame 0\n",
      "Add new stack 6879\n",
      "Search by request frame 0\n",
      "Add new stack 7261\n",
      "False 8044 NoAction 0.532 0.694 should be Activity End\n",
      "Add new stack 8060\n",
      "POP Unsure No Action Event 408 404\n",
      "Search by request frame 0\n",
      "Add new stack 8421\n",
      "Add new stack 9105\n",
      "False 9329 NoAction 0.532 0.694 should be Activity End\n",
      "POP Unsure No Action Event 476 472\n",
      "Search by request frame 0\n",
      "Add new stack 10272\n",
      "Add new stack 10384\n",
      "Search by request frame 0\n",
      "Search by request frame 0\n",
      "Add new stack 11099\n",
      "POP Unsure Activity End Stack 542 538\n",
      "Search by request frame 0\n",
      "Add new stack 11974\n",
      "Add new stack 12074\n",
      "\n",
      "MATCH [1]\n",
      "Add new stack 13457\n",
      "Search by request frame 0\n",
      "Search by request frame 1\n",
      "Search by request frame 0\n",
      "Add new stack 14576\n",
      "False 15350 NoAction 0.532 0.694 should be Activity End\n",
      "Add new stack 15377\n",
      "POP Unsure No Action Event 754 750\n",
      "Add new stack 15720\n",
      "Add new stack 16049\n",
      "NO MATCH RES 16032\n",
      "Search by request frame 1\n",
      "Search by request frame 1\n",
      "POP Unsure Activity End Stack 816 812\n",
      "Search by request frame 0\n",
      "Add new stack 17273\n",
      "Add new stack 17801\n",
      "Search by request frame 0\n",
      "Search by request frame 0\n",
      "Add new stack 19585\n",
      "Add new stack 20245\n",
      "Search by request frame 1\n",
      "False 20665 NoAction 0.532 0.694 should be Activity End\n",
      "Add new stack 20696\n",
      "POP Unsure No Action Event 988 984\n",
      "Add new stack 20928\n",
      "Search by request frame 0\n",
      "POP Unsure Activity End Stack 1011 1007\n",
      "False 21651 NoAction 0.711 0.603 should be Activity End\n",
      "Add new stack 21674\n",
      "POP Unsure No Action Event 1018 1014\n",
      "Search by request frame 0\n",
      "Add new stack 22687\n",
      "Add new stack 22851\n",
      "\n",
      "MATCH [0]\n",
      "NO NO MATCH\n",
      "\n",
      "MATCH [1]\n",
      "Add new stack 23848\n",
      "Search by request frame 1\n",
      "Add new stack 25366\n",
      "False 26182 Activity End 0.742 0.572 should be NoAction\n",
      "Search by request frame 2\n",
      "Search by request frame 0\n",
      "Search by request frame 0\n",
      "Search by request frame 0\n",
      "Add new stack 27306\n",
      "Search by request frame 0\n"
     ]
    }
   ],
   "source": [
    "%autoreload 1\n",
    "\n",
    "import time\n",
    "# Parameter\n",
    "EVENT_LOOP_CUTOFF_NO_ACTION = 3\n",
    "EVENT_LOOP_CUTOFF_END_EVENT = 3\n",
    "ENTROPY_THRESHOLD = 0.5 #0.5\n",
    "MAX_WINDOW_SIZE = 5\n",
    "VERBOSE = False\n",
    "SETTING = \"HR\"\n",
    "\n",
    "# init variables\n",
    "event_buffer: list[Event] = []\n",
    "stacks: list[Stack] = []\n",
    "stacks_out: list[Stack] = []\n",
    "event_loop_index = 0\n",
    "\n",
    "\n",
    "# TODO Change config to something like this:\n",
    "config_dict = {\n",
    "    \"PTP\": {\n",
    "        \"1to1\" : [\"applicant_id\", \"activity_id\"],\n",
    "        \"1toN\": [\"mail_id\"]\n",
    "    }\n",
    "}\n",
    "\n",
    "HR_ATTRIBUTES = [\"applicant_id\", \"activity_id\"]\n",
    "\n",
    "\n",
    "\n",
    "\n",
    "check_pop_idx = None\n",
    "\n",
    "activity_model_data = get_activity_model_data(MAX_WINDOW_SIZE)\n",
    "\n",
    "\n",
    "processing_times = []\n",
    "buffer_sizes = []\n",
    "for i, event_data in enumerate(records):\n",
    "    # log size of event stacks\n",
    "    buffer_sizes.append(sum([len(stack) for stack in stacks]))\n",
    "    start_time = time.time()\n",
    "\n",
    "    # Filter Event Stream\n",
    "    if not keep_event(event_data):\n",
    "        # skip event in loop\n",
    "        continue\n",
    "    \n",
    "    # count every not filtered event for event loop index\n",
    "    event_loop_index += 1\n",
    "\n",
    "    # Extract Features and generate Event Object\n",
    "    event = Event(event_data, event_loop_index, event_buffer, SETTING)\n",
    "    event_buffer.append(event)\n",
    "    \n",
    "    classify_event(event)\n",
    "    \n",
    "    # Activity Action Classification\n",
    "    activity_action = event.activity_action\n",
    "    \n",
    "    # Activity Matching\n",
    "    if activity_action == \"Activity Start\": \n",
    "        print(f\"Add new stack {event.frame_number}\")\n",
    "        stacks.append(Stack(SETTING,event))\n",
    "        \n",
    "    if activity_action == \"NoAction\": \n",
    "        if len(stacks) == 1: \n",
    "            if VERBOSE: print(f\"Add Between Event {event.frame_number} to only stack\")\n",
    "            stacks[0].append_event(event)\n",
    "        elif event.origin_request_frame: \n",
    "            idx = search_stack_for_request_frame(event.origin_request_frame)\n",
    "            if VERBOSE: print(f\"Add Between Event {event.frame_number} by request frame\\t{idx}\")\n",
    "            stacks[idx].append_event(event)\n",
    "        else: \n",
    "            if VERBOSE: print(\"Classify Between Event\", event.frame_number)\n",
    "            # Check attributes of each stack\n",
    "            \n",
    "            # we can filter out stacks that already have attributes different to the event\n",
    "            exclude_indices = exclude_stacks_by_attribute(stacks, event)\n",
    "    \n",
    "            stack_index = -1\n",
    "                    \n",
    "            if stack_index == -1:                   \n",
    "                stack_index = classify_by_train_sequences(event, 4, exclude_indices)\n",
    "            \n",
    "            if stack_index == -1: \n",
    "                stack_index = check_stack_attributes(stacks, event)\n",
    "            # for elements that are not matchable based on 2 sequences we fall back to stream index\n",
    "            if stack_index == -1: \n",
    "                stack_index = search_stream_index(event, exclude_indices)    \n",
    "            \n",
    "            # fallback - no match add to first stack\n",
    "            if stack_index == -1:\n",
    "                print(\"NO NO MATCH\")\n",
    "                stack_index = 0\n",
    "                \n",
    "            stacks[stack_index].append_event(event)\n",
    "        \n",
    "    if activity_action == \"Activity End\":\n",
    "        \n",
    "        stack_index = search_stack_for_request_frame(event.origin_request_frame)\n",
    "        print(\"Search by request frame\", stack_index)\n",
    "        stacks[stack_index].append_event(event)\n",
    "        \n",
    "        #if not event.confidence: \n",
    "        #check_pop_idx = idx\n",
    "        #else:\n",
    "        if event.confidence: \n",
    "            stack = stacks.pop(stack_index)\n",
    "            stacks_out.append(stack)\n",
    "     \n",
    "    \n",
    "    # Loop through all currently open stacks\n",
    "    for idx, stack in enumerate(stacks):\n",
    "        last_event = stack[-1]\n",
    "        # check for non-confident \"No Action\" Classifications. These could be \"Activity End\" Instead\n",
    "        if not last_event.confidence and last_event.activity_action == \"NoAction\":\n",
    "            # If a stack has not been continued for N event loops \n",
    "            if event_loop_index - last_event.event_loop_index > EVENT_LOOP_CUTOFF_NO_ACTION: \n",
    "                stacks.pop(idx)\n",
    "                stacks_out.append(stack)\n",
    "                print(\"POP Unsure No Action Event\", event_loop_index, last_event.event_loop_index)\n",
    "                \n",
    "    for idx, stack in enumerate(stacks): \n",
    "        last_event = stack.events[-1]\n",
    "        if not last_event.confidence and last_event.activity_action == \"Activity End\": \n",
    "            if event_loop_index - last_event.event_loop_index > EVENT_LOOP_CUTOFF_END_EVENT: \n",
    "            \n",
    "                # we are now sure to pop the stack. \n",
    "                print(\"POP Unsure Activity End Stack\", event_loop_index, last_event.event_loop_index)\n",
    "                stacks.pop(idx)\n",
    "                stacks_out.append(stack)  \n",
    "    end_time = time.time()\n",
    "    processing_times.append(end_time - start_time)\n",
    "                \n",
    "# pop all stacks that are still left\n",
    "for stack in stacks: \n",
    "    stacks_out.append(stack)  "
   ],
   "metadata": {
    "collapsed": false,
    "ExecuteTime": {
     "end_time": "2024-04-29T16:36:41.881670Z",
     "start_time": "2024-04-29T16:36:41.469083Z"
    }
   },
   "id": "41016b5653419b1a"
  },
  {
   "cell_type": "code",
   "execution_count": 30,
   "outputs": [
    {
     "data": {
      "text/plain": "1313"
     },
     "execution_count": 30,
     "metadata": {},
     "output_type": "execute_result"
    }
   ],
   "source": [
    "len(processing_times)"
   ],
   "metadata": {
    "collapsed": false,
    "ExecuteTime": {
     "end_time": "2024-04-29T16:36:41.885269Z",
     "start_time": "2024-04-29T16:36:41.879800Z"
    }
   },
   "id": "240e7768c8f3d639"
  },
  {
   "cell_type": "code",
   "execution_count": 31,
   "outputs": [
    {
     "data": {
      "text/plain": "0.002508020780743612"
     },
     "execution_count": 31,
     "metadata": {},
     "output_type": "execute_result"
    }
   ],
   "source": [
    "max(buffer_sizes) / len(records)"
   ],
   "metadata": {
    "collapsed": false,
    "ExecuteTime": {
     "end_time": "2024-04-29T16:36:41.901034Z",
     "start_time": "2024-04-29T16:36:41.883865Z"
    }
   },
   "id": "e9505962bfb52c9a"
  },
  {
   "cell_type": "code",
   "execution_count": 32,
   "outputs": [],
   "source": [
    "import pickle\n",
    "with open(\"../../output/models/HR_activity_boundaries.pkl\", \"wb\") as f:\n",
    "    pickle.dump(crf, f)\n",
    "    \n",
    "with open(\"../../output/models/HR_activity.pkl\", \"wb\") as f:\n",
    "    pickle.dump(crf, f)"
   ],
   "metadata": {
    "collapsed": false,
    "ExecuteTime": {
     "end_time": "2024-04-29T16:36:41.904599Z",
     "start_time": "2024-04-29T16:36:41.887068Z"
    }
   },
   "id": "5aaabb6473253980"
  },
  {
   "cell_type": "code",
   "execution_count": 33,
   "outputs": [
    {
     "data": {
      "text/plain": "0.26438768274985647"
     },
     "execution_count": 33,
     "metadata": {},
     "output_type": "execute_result"
    }
   ],
   "source": [
    "from statistics import mean,stdev\n",
    "mean(processing_times ) *1000"
   ],
   "metadata": {
    "collapsed": false,
    "ExecuteTime": {
     "end_time": "2024-04-29T16:36:41.936360Z",
     "start_time": "2024-04-29T16:36:41.892074Z"
    }
   },
   "id": "7a34c919fd281a6d"
  },
  {
   "cell_type": "code",
   "execution_count": 34,
   "outputs": [
    {
     "name": "stdout",
     "output_type": "stream",
     "text": [
      "Contained 0 stack in queue\n"
     ]
    },
    {
     "data": {
      "text/plain": "    start  actual_end  start_pred  end_pred  pred_true\n0      17         325          17       325       True\n1     356        1192         356      1192       True\n2    1212        1520        1212      1520       True\n3    1582        2336        1582      2336       True\n4    2354        2664        2354      2664       True\n5    2708        4461        2708      4461       True\n6    3057        4871        3057      4871       True\n7    4467        4881        4467      4881       True\n8    4939        6164        4939      6164       True\n9    5606        6859        5606      6859       True\n10   6879        7190        6879      7190       True\n11   7261        8044        7261      8044       True\n12   8060        8374        8060      8374       True\n13   8421        9329        8421      9329       True\n14   9105       10237        9105     10237       True\n15  10272       10786       10272     10786       True\n16  10384       11067       10384     11067       True\n17  11099       11941       11099     11941       True\n18  11974       14049       11974     14049       True\n19  12074       14533       12074     14533       True\n20  13457       14328       13457     14328       True\n21  14576       15350       14576     15350       True\n22  15377       17235       15377     17235       True\n23  15720       16615       15720     16615       True\n24  16049       17037       16049     17037       True\n25  17273       18876       17273     18876       True\n26  17801       19551       17801     19551       True\n27  19585       20665       19585     20665       True\n28  20245       20557       20245     20557       True\n29  20696       21362       20696     21362       True\n30  20928       21651       20928     21651       True\n31  21674       22664       21674     22664       True\n32  22687       26505       22687     26505       True\n33  22851       25173       22851     25173       True\n34  23848       27222       23848     27222       True\n35  25366       27235       25366     27235       True\n36  27306       28384       27306     28384       True",
      "text/html": "<div>\n<style scoped>\n    .dataframe tbody tr th:only-of-type {\n        vertical-align: middle;\n    }\n\n    .dataframe tbody tr th {\n        vertical-align: top;\n    }\n\n    .dataframe thead th {\n        text-align: right;\n    }\n</style>\n<table border=\"1\" class=\"dataframe\">\n  <thead>\n    <tr style=\"text-align: right;\">\n      <th></th>\n      <th>start</th>\n      <th>actual_end</th>\n      <th>start_pred</th>\n      <th>end_pred</th>\n      <th>pred_true</th>\n    </tr>\n  </thead>\n  <tbody>\n    <tr>\n      <th>0</th>\n      <td>17</td>\n      <td>325</td>\n      <td>17</td>\n      <td>325</td>\n      <td>True</td>\n    </tr>\n    <tr>\n      <th>1</th>\n      <td>356</td>\n      <td>1192</td>\n      <td>356</td>\n      <td>1192</td>\n      <td>True</td>\n    </tr>\n    <tr>\n      <th>2</th>\n      <td>1212</td>\n      <td>1520</td>\n      <td>1212</td>\n      <td>1520</td>\n      <td>True</td>\n    </tr>\n    <tr>\n      <th>3</th>\n      <td>1582</td>\n      <td>2336</td>\n      <td>1582</td>\n      <td>2336</td>\n      <td>True</td>\n    </tr>\n    <tr>\n      <th>4</th>\n      <td>2354</td>\n      <td>2664</td>\n      <td>2354</td>\n      <td>2664</td>\n      <td>True</td>\n    </tr>\n    <tr>\n      <th>5</th>\n      <td>2708</td>\n      <td>4461</td>\n      <td>2708</td>\n      <td>4461</td>\n      <td>True</td>\n    </tr>\n    <tr>\n      <th>6</th>\n      <td>3057</td>\n      <td>4871</td>\n      <td>3057</td>\n      <td>4871</td>\n      <td>True</td>\n    </tr>\n    <tr>\n      <th>7</th>\n      <td>4467</td>\n      <td>4881</td>\n      <td>4467</td>\n      <td>4881</td>\n      <td>True</td>\n    </tr>\n    <tr>\n      <th>8</th>\n      <td>4939</td>\n      <td>6164</td>\n      <td>4939</td>\n      <td>6164</td>\n      <td>True</td>\n    </tr>\n    <tr>\n      <th>9</th>\n      <td>5606</td>\n      <td>6859</td>\n      <td>5606</td>\n      <td>6859</td>\n      <td>True</td>\n    </tr>\n    <tr>\n      <th>10</th>\n      <td>6879</td>\n      <td>7190</td>\n      <td>6879</td>\n      <td>7190</td>\n      <td>True</td>\n    </tr>\n    <tr>\n      <th>11</th>\n      <td>7261</td>\n      <td>8044</td>\n      <td>7261</td>\n      <td>8044</td>\n      <td>True</td>\n    </tr>\n    <tr>\n      <th>12</th>\n      <td>8060</td>\n      <td>8374</td>\n      <td>8060</td>\n      <td>8374</td>\n      <td>True</td>\n    </tr>\n    <tr>\n      <th>13</th>\n      <td>8421</td>\n      <td>9329</td>\n      <td>8421</td>\n      <td>9329</td>\n      <td>True</td>\n    </tr>\n    <tr>\n      <th>14</th>\n      <td>9105</td>\n      <td>10237</td>\n      <td>9105</td>\n      <td>10237</td>\n      <td>True</td>\n    </tr>\n    <tr>\n      <th>15</th>\n      <td>10272</td>\n      <td>10786</td>\n      <td>10272</td>\n      <td>10786</td>\n      <td>True</td>\n    </tr>\n    <tr>\n      <th>16</th>\n      <td>10384</td>\n      <td>11067</td>\n      <td>10384</td>\n      <td>11067</td>\n      <td>True</td>\n    </tr>\n    <tr>\n      <th>17</th>\n      <td>11099</td>\n      <td>11941</td>\n      <td>11099</td>\n      <td>11941</td>\n      <td>True</td>\n    </tr>\n    <tr>\n      <th>18</th>\n      <td>11974</td>\n      <td>14049</td>\n      <td>11974</td>\n      <td>14049</td>\n      <td>True</td>\n    </tr>\n    <tr>\n      <th>19</th>\n      <td>12074</td>\n      <td>14533</td>\n      <td>12074</td>\n      <td>14533</td>\n      <td>True</td>\n    </tr>\n    <tr>\n      <th>20</th>\n      <td>13457</td>\n      <td>14328</td>\n      <td>13457</td>\n      <td>14328</td>\n      <td>True</td>\n    </tr>\n    <tr>\n      <th>21</th>\n      <td>14576</td>\n      <td>15350</td>\n      <td>14576</td>\n      <td>15350</td>\n      <td>True</td>\n    </tr>\n    <tr>\n      <th>22</th>\n      <td>15377</td>\n      <td>17235</td>\n      <td>15377</td>\n      <td>17235</td>\n      <td>True</td>\n    </tr>\n    <tr>\n      <th>23</th>\n      <td>15720</td>\n      <td>16615</td>\n      <td>15720</td>\n      <td>16615</td>\n      <td>True</td>\n    </tr>\n    <tr>\n      <th>24</th>\n      <td>16049</td>\n      <td>17037</td>\n      <td>16049</td>\n      <td>17037</td>\n      <td>True</td>\n    </tr>\n    <tr>\n      <th>25</th>\n      <td>17273</td>\n      <td>18876</td>\n      <td>17273</td>\n      <td>18876</td>\n      <td>True</td>\n    </tr>\n    <tr>\n      <th>26</th>\n      <td>17801</td>\n      <td>19551</td>\n      <td>17801</td>\n      <td>19551</td>\n      <td>True</td>\n    </tr>\n    <tr>\n      <th>27</th>\n      <td>19585</td>\n      <td>20665</td>\n      <td>19585</td>\n      <td>20665</td>\n      <td>True</td>\n    </tr>\n    <tr>\n      <th>28</th>\n      <td>20245</td>\n      <td>20557</td>\n      <td>20245</td>\n      <td>20557</td>\n      <td>True</td>\n    </tr>\n    <tr>\n      <th>29</th>\n      <td>20696</td>\n      <td>21362</td>\n      <td>20696</td>\n      <td>21362</td>\n      <td>True</td>\n    </tr>\n    <tr>\n      <th>30</th>\n      <td>20928</td>\n      <td>21651</td>\n      <td>20928</td>\n      <td>21651</td>\n      <td>True</td>\n    </tr>\n    <tr>\n      <th>31</th>\n      <td>21674</td>\n      <td>22664</td>\n      <td>21674</td>\n      <td>22664</td>\n      <td>True</td>\n    </tr>\n    <tr>\n      <th>32</th>\n      <td>22687</td>\n      <td>26505</td>\n      <td>22687</td>\n      <td>26505</td>\n      <td>True</td>\n    </tr>\n    <tr>\n      <th>33</th>\n      <td>22851</td>\n      <td>25173</td>\n      <td>22851</td>\n      <td>25173</td>\n      <td>True</td>\n    </tr>\n    <tr>\n      <th>34</th>\n      <td>23848</td>\n      <td>27222</td>\n      <td>23848</td>\n      <td>27222</td>\n      <td>True</td>\n    </tr>\n    <tr>\n      <th>35</th>\n      <td>25366</td>\n      <td>27235</td>\n      <td>25366</td>\n      <td>27235</td>\n      <td>True</td>\n    </tr>\n    <tr>\n      <th>36</th>\n      <td>27306</td>\n      <td>28384</td>\n      <td>27306</td>\n      <td>28384</td>\n      <td>True</td>\n    </tr>\n  </tbody>\n</table>\n</div>"
     },
     "metadata": {},
     "output_type": "display_data"
    },
    {
     "name": "stdout",
     "output_type": "stream",
     "text": [
      "Accuracy of matching start and end sequences: 1.0\n"
     ]
    }
   ],
   "source": [
    "print(f\"Contained {len(stacks)} stack in queue\")\n",
    "if len(stacks)> 0: \n",
    "    print([[e.frame_number for e in stack ] for stack in stacks])\n",
    "\n",
    "start = [stack[0].frame_number for stack in stacks_out]\n",
    "end = [stack[-1].frame_number for stack in stacks_out]\n",
    "\n",
    "res_df = pd.DataFrame({\"start_pred\":start, \"end_pred\":end})\n",
    "\n",
    "eval_df = df_gt[[\"start\", \"actual_end\"]].merge(res_df,how=\"left\", left_on =\"start\", right_on = \"start_pred\").fillna(-1).astype(int)\n",
    "eval_df[\"pred_true\"] = eval_df[\"actual_end\"] == eval_df[\"end_pred\"]\n",
    "\n",
    "display(eval_df)\n",
    "print(f\"Accuracy of matching start and end sequences: {eval_df['pred_true'].mean()}\")"
   ],
   "metadata": {
    "collapsed": false,
    "ExecuteTime": {
     "end_time": "2024-04-29T16:36:41.970844Z",
     "start_time": "2024-04-29T16:36:41.901563Z"
    }
   },
   "id": "40a6a1f949ad0661"
  },
  {
   "cell_type": "code",
   "execution_count": 35,
   "outputs": [],
   "source": [
    "# Function to check if intervals overlap\n",
    "def intervals_overlap(row, df):\n",
    "    overlapping_names = []\n",
    "    overlapping_bps = set()\n",
    "    for index, other_row in df.iterrows():\n",
    "        if row.name != index and row['start'] <= other_row['actual_end'] and row['actual_end'] >= other_row['start']:\n",
    "            overlapping_names.append(f\"{other_row['activity_name']} {other_row['bp_id']}\")\n",
    "            overlapping_bps.add(other_row['bp_id'])\n",
    "    return overlapping_names, list(overlapping_bps)\n",
    "\n",
    "df_gt[[\"overlapping_activities\", \"overlapping_bps\"]] = df_gt.apply(intervals_overlap, axis=1, df = df_gt, result_type=\"expand\")"
   ],
   "metadata": {
    "collapsed": false,
    "ExecuteTime": {
     "end_time": "2024-04-29T16:36:41.984593Z",
     "start_time": "2024-04-29T16:36:41.908261Z"
    }
   },
   "id": "39882f3c87256367"
  },
  {
   "cell_type": "code",
   "execution_count": 36,
   "outputs": [],
   "source": [
    "# Create dataframe with mapping of frame numbers to event stacks\n",
    "frame_numbers = [event.frame_number for idx,stack in enumerate(stacks_out) for event in stack]\n",
    "stack_numbers = [idx for idx,stack in enumerate(stacks_out) for event in stack]\n",
    "applicant_ids = [event.attributes[\"applicant_id\"] for idx,stack in enumerate(stacks_out) for event in stack]\n",
    "activity_ids = [event.attributes[\"activity_id\"] for idx,stack in enumerate(stacks_out) for event in stack]\n",
    "mail_ids = [event.attributes[\"mail_id\"] for idx,stack in enumerate(stacks_out) for event in stack]\n",
    "\n",
    "\n",
    "df_frame_numbers = pd.DataFrame(data={\"frame.number\": frame_numbers, \"stack_idx\": stack_numbers, \"applicant_id\": applicant_ids,\"activity_id\": activity_ids, \"mail_id\":mail_ids})\n",
    "\n",
    "# Merge Activity Name from ground truth frame to event sequences for evaluation\n",
    "merged_df = df_frame_numbers.merge(df_gt[[\"activity_name\",\"start\",\"bp_id\"]], how=\"left\",left_on=\"frame.number\", right_on=\"start\").drop(columns=\"start\")\n",
    "\n",
    "merged_df[[\"activity_name\",\"bp_id\"]] = merged_df.groupby(\"stack_idx\")[[\"activity_name\",\"bp_id\"]].ffill()\n",
    "#merged_df[\"activity_name\"] = merged_df.groupby(\"stack_idx\")[\"bp_id\"].ffill()\n",
    "\n",
    "# Merge with filtered interleaved test data\n",
    "merged_df = df_test.merge(merged_df, on=\"frame.number\")"
   ],
   "metadata": {
    "collapsed": false,
    "ExecuteTime": {
     "end_time": "2024-04-29T16:36:41.985440Z",
     "start_time": "2024-04-29T16:36:41.945424Z"
    }
   },
   "id": "a5c0b899b78caafb"
  },
  {
   "cell_type": "code",
   "execution_count": 38,
   "outputs": [
    {
     "data": {
      "text/plain": "           applicant_id       activity_id                         mail_id  \\\n                 unique            unique                          unique   \nstack_idx                                                                   \n0          [None, 1224]            [None]                          [None]   \n1          [None, 1224]            [None]                    [None, 7950]   \n2          [None, 1225]            [None]                          [None]   \n3          [None, 1225]            [None]                    [None, 7954]   \n4          [None, 1226]            [None]                          [None]   \n5          [None, 1226]            [None]                    [None, 7958]   \n6          [None, 1225]       [None, 732]                    [None, 7960]   \n7          [None, 1227]            [None]                          [None]   \n8          [None, 1227]            [None]                    [None, 7964]   \n9          [None, 1225]       [None, 732]              [None, 7965, 7967]   \n10         [None, 1228]            [None]                          [None]   \n11         [None, 1228]            [None]                    [None, 7971]   \n12         [None, 1229]            [None]                          [None]   \n13         [None, 1229]            [None]                    [None, 7975]   \n14         [None, 1228]       [None, 733]                    [None, 7977]   \n15         [None, 1230]            [None]                          [None]   \n16         [None, 1228]       [None, 733]                    [None, 7979]   \n17         [None, 1230]            [None]                    [None, 7982]   \n18         [None, 1229]  [None, 735, 734]              [None, 7983, 7985]   \n19         [None, 1231]            [None]                          [None]   \n20         [None, 1228]  [None, 734, 735]                    [None, 7988]   \n21         [None, 1231]            [None]                    [None, 7991]   \n22         [None, 1232]            [None]                          [None]   \n23         [None, 1229]       [None, 734]                    [None, 7996]   \n24         [None, 1228]       [None, 735]              [None, 7992, 7995]   \n25         [None, 1231]       [None, 736]                    [None, 7998]   \n26         [None, 1229]       [None, 737]              [None, 7999, 8001]   \n27         [None, 1233]            [None]                          [None]   \n28         [None, 1232]            [None]                    [None, 8004]   \n29         [None, 1231]       [None, 736]                    [None, 8006]   \n30         [None, 1229]       [None, 737]                    [None, 8007]   \n31         [None, 1232]       [None, 738]                    [None, 8009]   \n32         [None, 1233]            [None]                    [None, 8011]   \n33         [None, 1231]       [None, 739]  [None, 8013, 8011, 8017, 8015]   \n34         [None, 1229]            [None]        [None, 8015, 8013, 8020]   \n35         [None, 1232]       [None, 738]              [None, 8018, 8022]   \n36         [None, 1231]       [None, 739]              [None, 8023, 8025]   \n\n              bp_id frame.number         \n             unique          min    max  \nstack_idx                                \n0          [1224.0]           17    325  \n1          [1224.0]          356   1192  \n2          [1225.0]         1212   1520  \n3          [1225.0]         1582   2336  \n4          [1226.0]         2354   2664  \n5          [1226.0]         2708   4461  \n6          [1225.0]         3057   4871  \n7          [1227.0]         4467   4881  \n8          [1227.0]         4939   6164  \n9          [1225.0]         5606   6859  \n10         [1228.0]         6879   7190  \n11         [1228.0]         7261   8044  \n12         [1229.0]         8060   8374  \n13         [1229.0]         8421   9329  \n14         [1228.0]         9105  10237  \n15         [1230.0]        10272  10786  \n16         [1228.0]        10384  11067  \n17         [1230.0]        11099  11941  \n18         [1229.0]        11974  14049  \n19         [1231.0]        13457  14328  \n20         [1228.0]        12074  14533  \n21         [1231.0]        14576  15350  \n22         [1232.0]        15720  16615  \n23         [1229.0]        16049  17037  \n24         [1228.0]        15377  17235  \n25         [1231.0]        17273  18876  \n26         [1229.0]        17801  19551  \n27         [1233.0]        20245  20557  \n28         [1232.0]        19585  20665  \n29         [1231.0]        20696  21362  \n30         [1229.0]        20928  21651  \n31         [1232.0]        21674  22664  \n32         [1233.0]        22851  25173  \n33         [1231.0]        22687  26505  \n34         [1229.0]        23848  27222  \n35         [1232.0]        25366  27235  \n36         [1231.0]        27306  28384  ",
      "text/html": "<div>\n<style scoped>\n    .dataframe tbody tr th:only-of-type {\n        vertical-align: middle;\n    }\n\n    .dataframe tbody tr th {\n        vertical-align: top;\n    }\n\n    .dataframe thead tr th {\n        text-align: left;\n    }\n\n    .dataframe thead tr:last-of-type th {\n        text-align: right;\n    }\n</style>\n<table border=\"1\" class=\"dataframe\">\n  <thead>\n    <tr>\n      <th></th>\n      <th>applicant_id</th>\n      <th>activity_id</th>\n      <th>mail_id</th>\n      <th>bp_id</th>\n      <th colspan=\"2\" halign=\"left\">frame.number</th>\n    </tr>\n    <tr>\n      <th></th>\n      <th>unique</th>\n      <th>unique</th>\n      <th>unique</th>\n      <th>unique</th>\n      <th>min</th>\n      <th>max</th>\n    </tr>\n    <tr>\n      <th>stack_idx</th>\n      <th></th>\n      <th></th>\n      <th></th>\n      <th></th>\n      <th></th>\n      <th></th>\n    </tr>\n  </thead>\n  <tbody>\n    <tr>\n      <th>0</th>\n      <td>[None, 1224]</td>\n      <td>[None]</td>\n      <td>[None]</td>\n      <td>[1224.0]</td>\n      <td>17</td>\n      <td>325</td>\n    </tr>\n    <tr>\n      <th>1</th>\n      <td>[None, 1224]</td>\n      <td>[None]</td>\n      <td>[None, 7950]</td>\n      <td>[1224.0]</td>\n      <td>356</td>\n      <td>1192</td>\n    </tr>\n    <tr>\n      <th>2</th>\n      <td>[None, 1225]</td>\n      <td>[None]</td>\n      <td>[None]</td>\n      <td>[1225.0]</td>\n      <td>1212</td>\n      <td>1520</td>\n    </tr>\n    <tr>\n      <th>3</th>\n      <td>[None, 1225]</td>\n      <td>[None]</td>\n      <td>[None, 7954]</td>\n      <td>[1225.0]</td>\n      <td>1582</td>\n      <td>2336</td>\n    </tr>\n    <tr>\n      <th>4</th>\n      <td>[None, 1226]</td>\n      <td>[None]</td>\n      <td>[None]</td>\n      <td>[1226.0]</td>\n      <td>2354</td>\n      <td>2664</td>\n    </tr>\n    <tr>\n      <th>5</th>\n      <td>[None, 1226]</td>\n      <td>[None]</td>\n      <td>[None, 7958]</td>\n      <td>[1226.0]</td>\n      <td>2708</td>\n      <td>4461</td>\n    </tr>\n    <tr>\n      <th>6</th>\n      <td>[None, 1225]</td>\n      <td>[None, 732]</td>\n      <td>[None, 7960]</td>\n      <td>[1225.0]</td>\n      <td>3057</td>\n      <td>4871</td>\n    </tr>\n    <tr>\n      <th>7</th>\n      <td>[None, 1227]</td>\n      <td>[None]</td>\n      <td>[None]</td>\n      <td>[1227.0]</td>\n      <td>4467</td>\n      <td>4881</td>\n    </tr>\n    <tr>\n      <th>8</th>\n      <td>[None, 1227]</td>\n      <td>[None]</td>\n      <td>[None, 7964]</td>\n      <td>[1227.0]</td>\n      <td>4939</td>\n      <td>6164</td>\n    </tr>\n    <tr>\n      <th>9</th>\n      <td>[None, 1225]</td>\n      <td>[None, 732]</td>\n      <td>[None, 7965, 7967]</td>\n      <td>[1225.0]</td>\n      <td>5606</td>\n      <td>6859</td>\n    </tr>\n    <tr>\n      <th>10</th>\n      <td>[None, 1228]</td>\n      <td>[None]</td>\n      <td>[None]</td>\n      <td>[1228.0]</td>\n      <td>6879</td>\n      <td>7190</td>\n    </tr>\n    <tr>\n      <th>11</th>\n      <td>[None, 1228]</td>\n      <td>[None]</td>\n      <td>[None, 7971]</td>\n      <td>[1228.0]</td>\n      <td>7261</td>\n      <td>8044</td>\n    </tr>\n    <tr>\n      <th>12</th>\n      <td>[None, 1229]</td>\n      <td>[None]</td>\n      <td>[None]</td>\n      <td>[1229.0]</td>\n      <td>8060</td>\n      <td>8374</td>\n    </tr>\n    <tr>\n      <th>13</th>\n      <td>[None, 1229]</td>\n      <td>[None]</td>\n      <td>[None, 7975]</td>\n      <td>[1229.0]</td>\n      <td>8421</td>\n      <td>9329</td>\n    </tr>\n    <tr>\n      <th>14</th>\n      <td>[None, 1228]</td>\n      <td>[None, 733]</td>\n      <td>[None, 7977]</td>\n      <td>[1228.0]</td>\n      <td>9105</td>\n      <td>10237</td>\n    </tr>\n    <tr>\n      <th>15</th>\n      <td>[None, 1230]</td>\n      <td>[None]</td>\n      <td>[None]</td>\n      <td>[1230.0]</td>\n      <td>10272</td>\n      <td>10786</td>\n    </tr>\n    <tr>\n      <th>16</th>\n      <td>[None, 1228]</td>\n      <td>[None, 733]</td>\n      <td>[None, 7979]</td>\n      <td>[1228.0]</td>\n      <td>10384</td>\n      <td>11067</td>\n    </tr>\n    <tr>\n      <th>17</th>\n      <td>[None, 1230]</td>\n      <td>[None]</td>\n      <td>[None, 7982]</td>\n      <td>[1230.0]</td>\n      <td>11099</td>\n      <td>11941</td>\n    </tr>\n    <tr>\n      <th>18</th>\n      <td>[None, 1229]</td>\n      <td>[None, 735, 734]</td>\n      <td>[None, 7983, 7985]</td>\n      <td>[1229.0]</td>\n      <td>11974</td>\n      <td>14049</td>\n    </tr>\n    <tr>\n      <th>19</th>\n      <td>[None, 1231]</td>\n      <td>[None]</td>\n      <td>[None]</td>\n      <td>[1231.0]</td>\n      <td>13457</td>\n      <td>14328</td>\n    </tr>\n    <tr>\n      <th>20</th>\n      <td>[None, 1228]</td>\n      <td>[None, 734, 735]</td>\n      <td>[None, 7988]</td>\n      <td>[1228.0]</td>\n      <td>12074</td>\n      <td>14533</td>\n    </tr>\n    <tr>\n      <th>21</th>\n      <td>[None, 1231]</td>\n      <td>[None]</td>\n      <td>[None, 7991]</td>\n      <td>[1231.0]</td>\n      <td>14576</td>\n      <td>15350</td>\n    </tr>\n    <tr>\n      <th>22</th>\n      <td>[None, 1232]</td>\n      <td>[None]</td>\n      <td>[None]</td>\n      <td>[1232.0]</td>\n      <td>15720</td>\n      <td>16615</td>\n    </tr>\n    <tr>\n      <th>23</th>\n      <td>[None, 1229]</td>\n      <td>[None, 734]</td>\n      <td>[None, 7996]</td>\n      <td>[1229.0]</td>\n      <td>16049</td>\n      <td>17037</td>\n    </tr>\n    <tr>\n      <th>24</th>\n      <td>[None, 1228]</td>\n      <td>[None, 735]</td>\n      <td>[None, 7992, 7995]</td>\n      <td>[1228.0]</td>\n      <td>15377</td>\n      <td>17235</td>\n    </tr>\n    <tr>\n      <th>25</th>\n      <td>[None, 1231]</td>\n      <td>[None, 736]</td>\n      <td>[None, 7998]</td>\n      <td>[1231.0]</td>\n      <td>17273</td>\n      <td>18876</td>\n    </tr>\n    <tr>\n      <th>26</th>\n      <td>[None, 1229]</td>\n      <td>[None, 737]</td>\n      <td>[None, 7999, 8001]</td>\n      <td>[1229.0]</td>\n      <td>17801</td>\n      <td>19551</td>\n    </tr>\n    <tr>\n      <th>27</th>\n      <td>[None, 1233]</td>\n      <td>[None]</td>\n      <td>[None]</td>\n      <td>[1233.0]</td>\n      <td>20245</td>\n      <td>20557</td>\n    </tr>\n    <tr>\n      <th>28</th>\n      <td>[None, 1232]</td>\n      <td>[None]</td>\n      <td>[None, 8004]</td>\n      <td>[1232.0]</td>\n      <td>19585</td>\n      <td>20665</td>\n    </tr>\n    <tr>\n      <th>29</th>\n      <td>[None, 1231]</td>\n      <td>[None, 736]</td>\n      <td>[None, 8006]</td>\n      <td>[1231.0]</td>\n      <td>20696</td>\n      <td>21362</td>\n    </tr>\n    <tr>\n      <th>30</th>\n      <td>[None, 1229]</td>\n      <td>[None, 737]</td>\n      <td>[None, 8007]</td>\n      <td>[1229.0]</td>\n      <td>20928</td>\n      <td>21651</td>\n    </tr>\n    <tr>\n      <th>31</th>\n      <td>[None, 1232]</td>\n      <td>[None, 738]</td>\n      <td>[None, 8009]</td>\n      <td>[1232.0]</td>\n      <td>21674</td>\n      <td>22664</td>\n    </tr>\n    <tr>\n      <th>32</th>\n      <td>[None, 1233]</td>\n      <td>[None]</td>\n      <td>[None, 8011]</td>\n      <td>[1233.0]</td>\n      <td>22851</td>\n      <td>25173</td>\n    </tr>\n    <tr>\n      <th>33</th>\n      <td>[None, 1231]</td>\n      <td>[None, 739]</td>\n      <td>[None, 8013, 8011, 8017, 8015]</td>\n      <td>[1231.0]</td>\n      <td>22687</td>\n      <td>26505</td>\n    </tr>\n    <tr>\n      <th>34</th>\n      <td>[None, 1229]</td>\n      <td>[None]</td>\n      <td>[None, 8015, 8013, 8020]</td>\n      <td>[1229.0]</td>\n      <td>23848</td>\n      <td>27222</td>\n    </tr>\n    <tr>\n      <th>35</th>\n      <td>[None, 1232]</td>\n      <td>[None, 738]</td>\n      <td>[None, 8018, 8022]</td>\n      <td>[1232.0]</td>\n      <td>25366</td>\n      <td>27235</td>\n    </tr>\n    <tr>\n      <th>36</th>\n      <td>[None, 1231]</td>\n      <td>[None, 739]</td>\n      <td>[None, 8023, 8025]</td>\n      <td>[1231.0]</td>\n      <td>27306</td>\n      <td>28384</td>\n    </tr>\n  </tbody>\n</table>\n</div>"
     },
     "execution_count": 38,
     "metadata": {},
     "output_type": "execute_result"
    }
   ],
   "source": [
    "merged_df.groupby(\"stack_idx\").agg({\"applicant_id\": \"unique\", \"activity_id\": \"unique\",\"mail_id\": \"unique\",\"bp_id\": \"unique\",\"frame.number\": (\"min\",\"max\")})"
   ],
   "metadata": {
    "collapsed": false,
    "ExecuteTime": {
     "end_time": "2024-04-29T16:43:47.712959Z",
     "start_time": "2024-04-29T16:43:47.641269Z"
    }
   },
   "id": "c95dbecf80a488af"
  },
  {
   "cell_type": "code",
   "execution_count": 39,
   "outputs": [
    {
     "data": {
      "text/plain": "                      activity_name  start    end  actual_end  \\\n0    GenerateJobApplicationActivity     17    356         325   \n1              ResumeReviewActivity    356   1212        1192   \n2    GenerateJobApplicationActivity   1212   1582        1520   \n3              ResumeReviewActivity   1582   2354        2336   \n4    GenerateJobApplicationActivity   2354   2708        2664   \n5              ResumeReviewActivity   2708   4467        4461   \n6   ScheduleAnInterviewActivityCall   3057   4881        4871   \n7    GenerateJobApplicationActivity   4467   4939        4881   \n8              ResumeReviewActivity   4939   6205        6164   \n9            PerformAnInterviewCall   5606   6879        6859   \n10   GenerateJobApplicationActivity   6879   7261        7190   \n11             ResumeReviewActivity   7261   8060        8044   \n12   GenerateJobApplicationActivity   8060   8421        8374   \n13             ResumeReviewActivity   8421   9412        9329   \n14  ScheduleAnInterviewActivityCall   9105  10272       10237   \n15   GenerateJobApplicationActivity  10272  10843       10786   \n16           PerformAnInterviewCall  10384  11099       11067   \n17             ResumeReviewActivity  11099  11974       11941   \n18  ScheduleAnInterviewActivityCall  11974  14067       14049   \n19       ScheduleAnInterviewMeeting  12074  14576       14533   \n20   GenerateJobApplicationActivity  13457  14333       14328   \n21             ResumeReviewActivity  14576  15377       15350   \n22        PerformAnInterviewMeeting  15377  17273       17235   \n23   GenerateJobApplicationActivity  15720  16644       16615   \n24           PerformAnInterviewCall  16049  17078       17037   \n25  ScheduleAnInterviewActivityCall  17273  18903       18876   \n26       ScheduleAnInterviewMeeting  17801  19585       19551   \n27             ResumeReviewActivity  19585  20696       20665   \n28   GenerateJobApplicationActivity  20245  20588       20557   \n29           PerformAnInterviewCall  20696  21413       21362   \n30        PerformAnInterviewMeeting  20928  21674       21651   \n31  ScheduleAnInterviewActivityCall  21674  22687       22664   \n32       ScheduleAnInterviewMeeting  22687  26508       26505   \n33             ResumeReviewActivity  22851  25201       25173   \n34                 ContractProposal  23848  27226       27222   \n35           PerformAnInterviewCall  25366  27306       27235   \n36        PerformAnInterviewMeeting  27306  28384       28384   \n\n                               overlapping_activities  bp_id  \\\n0                                                  []   1224   \n1                                                  []   1224   \n2                                                  []   1225   \n3                                                  []   1225   \n4                                                  []   1226   \n5              [ScheduleAnInterviewActivityCall 1225]   1226   \n6   [ResumeReviewActivity 1226, GenerateJobApplica...   1225   \n7              [ScheduleAnInterviewActivityCall 1225]   1227   \n8                       [PerformAnInterviewCall 1225]   1227   \n9                         [ResumeReviewActivity 1227]   1225   \n10                                                 []   1228   \n11                                                 []   1228   \n12                                                 []   1229   \n13             [ScheduleAnInterviewActivityCall 1228]   1229   \n14                        [ResumeReviewActivity 1229]   1228   \n15                      [PerformAnInterviewCall 1228]   1230   \n16              [GenerateJobApplicationActivity 1230]   1228   \n17                                                 []   1230   \n18  [ScheduleAnInterviewMeeting 1228, GenerateJobA...   1229   \n19  [ScheduleAnInterviewActivityCall 1229, Generat...   1228   \n20  [ScheduleAnInterviewActivityCall 1229, Schedul...   1231   \n21                                                 []   1231   \n22  [GenerateJobApplicationActivity 1232, PerformA...   1228   \n23  [PerformAnInterviewMeeting 1228, PerformAnInte...   1232   \n24  [PerformAnInterviewMeeting 1228, GenerateJobAp...   1229   \n25                  [ScheduleAnInterviewMeeting 1229]   1231   \n26             [ScheduleAnInterviewActivityCall 1231]   1229   \n27              [GenerateJobApplicationActivity 1233]   1232   \n28                        [ResumeReviewActivity 1232]   1233   \n29                   [PerformAnInterviewMeeting 1229]   1231   \n30                      [PerformAnInterviewCall 1231]   1229   \n31                                                 []   1232   \n32  [ResumeReviewActivity 1233, ContractProposal 1...   1231   \n33  [ScheduleAnInterviewMeeting 1231, ContractProp...   1233   \n34  [ScheduleAnInterviewMeeting 1231, ResumeReview...   1229   \n35  [ScheduleAnInterviewMeeting 1231, ContractProp...   1232   \n36                                                 []   1231   \n\n       overlapping_bps                                     classification  \\\n0                   []                     GenerateJobApplicationActivity   \n1                   []                               ResumeReviewActivity   \n2                   []                     GenerateJobApplicationActivity   \n3                   []                               ResumeReviewActivity   \n4                   []                     GenerateJobApplicationActivity   \n5               [1225]  ResumeReviewActivity, ScheduleAnInterviewActiv...   \n6         [1226, 1227]  ResumeReviewActivity, ScheduleAnInterviewActiv...   \n7               [1225]                     GenerateJobApplicationActivity   \n8               [1225]                               ResumeReviewActivity   \n9               [1227]                             PerformAnInterviewCall   \n10                  []                     GenerateJobApplicationActivity   \n11                  []                               ResumeReviewActivity   \n12                  []                     GenerateJobApplicationActivity   \n13              [1228]                               ResumeReviewActivity   \n14              [1229]                    ScheduleAnInterviewActivityCall   \n15              [1228]                     GenerateJobApplicationActivity   \n16              [1230]                     GenerateJobApplicationActivity   \n17                  []                               ResumeReviewActivity   \n18        [1228, 1231]                    ScheduleAnInterviewActivityCall   \n19        [1229, 1231]                         ScheduleAnInterviewMeeting   \n20        [1228, 1229]                     GenerateJobApplicationActivity   \n21                  []                               ResumeReviewActivity   \n22        [1232, 1229]  PerformAnInterviewMeeting , GenerateJobApplica...   \n23        [1228, 1229]                     GenerateJobApplicationActivity   \n24        [1232, 1228]                     GenerateJobApplicationActivity   \n25              [1229]                    ScheduleAnInterviewActivityCall   \n26              [1231]                         ScheduleAnInterviewMeeting   \n27              [1233]                               ResumeReviewActivity   \n28              [1232]                     GenerateJobApplicationActivity   \n29              [1229]                          PerformAnInterviewMeeting   \n30              [1231]                          PerformAnInterviewMeeting   \n31                  []                    ScheduleAnInterviewActivityCall   \n32  [1232, 1233, 1229]      ResumeReviewActivity , PerformAnInterviewCall   \n33        [1229, 1231]                               ResumeReviewActivity   \n34  [1232, 1233, 1231]                                   ContractProposal   \n35        [1229, 1231]                             PerformAnInterviewCall   \n36                  []                          PerformAnInterviewMeeting   \n\n   Multi Class Classification  Single Class Classification  probability  \n0                        TRUE                         True     0.994192  \n1                        TRUE                         True     0.993149  \n2                        TRUE                         True     0.994192  \n3                        TRUE                         True     0.993329  \n4                        TRUE                         True     0.994192  \n5                        TRUE                         True     0.211112  \n6                        TRUE                         True     0.021792  \n7                       FALSE                         True     0.986619  \n8                       FALSE                         True     0.839890  \n9                       FALSE                         True     0.962106  \n10                       TRUE                         True     0.994192  \n11                       TRUE                         True     0.993329  \n12                       TRUE                         True     0.994192  \n13                      FALSE                         True     0.992941  \n14                      FALSE                         True     0.960603  \n15                       TRUE                         True     0.991560  \n16                      FALSE                        False     0.452660  \n17                       TRUE                         True     0.993149  \n18                      FALSE                         True     0.873542  \n19                      FALSE                         True     0.475987  \n20                      FALSE                         True     0.835693  \n21                       TRUE                         True     0.993329  \n22                      FALSE                         True     0.007557  \n23                      FALSE                         True     0.711298  \n24                      FALSE                        False     0.119634  \n25                      FALSE                         True     0.679157  \n26                    Unknown                         True     0.749887  \n27                      FALSE                         True     0.194285  \n28                      FALSE                         True     0.994192  \n29                      FALSE                        False     0.455015  \n30                      FALSE                         True     0.972130  \n31                       TRUE                         True     0.978524  \n32                      FALSE                        False     0.033681  \n33                      FALSE                         True     0.189530  \n34                      FALSE                         True     0.899964  \n35                      FALSE                         True     0.685331  \n36                       TRUE                         True     0.958282  ",
      "text/html": "<div>\n<style scoped>\n    .dataframe tbody tr th:only-of-type {\n        vertical-align: middle;\n    }\n\n    .dataframe tbody tr th {\n        vertical-align: top;\n    }\n\n    .dataframe thead th {\n        text-align: right;\n    }\n</style>\n<table border=\"1\" class=\"dataframe\">\n  <thead>\n    <tr style=\"text-align: right;\">\n      <th></th>\n      <th>activity_name</th>\n      <th>start</th>\n      <th>end</th>\n      <th>actual_end</th>\n      <th>overlapping_activities</th>\n      <th>bp_id</th>\n      <th>overlapping_bps</th>\n      <th>classification</th>\n      <th>Multi Class Classification</th>\n      <th>Single Class Classification</th>\n      <th>probability</th>\n    </tr>\n  </thead>\n  <tbody>\n    <tr>\n      <th>0</th>\n      <td>GenerateJobApplicationActivity</td>\n      <td>17</td>\n      <td>356</td>\n      <td>325</td>\n      <td>[]</td>\n      <td>1224</td>\n      <td>[]</td>\n      <td>GenerateJobApplicationActivity</td>\n      <td>TRUE</td>\n      <td>True</td>\n      <td>0.994192</td>\n    </tr>\n    <tr>\n      <th>1</th>\n      <td>ResumeReviewActivity</td>\n      <td>356</td>\n      <td>1212</td>\n      <td>1192</td>\n      <td>[]</td>\n      <td>1224</td>\n      <td>[]</td>\n      <td>ResumeReviewActivity</td>\n      <td>TRUE</td>\n      <td>True</td>\n      <td>0.993149</td>\n    </tr>\n    <tr>\n      <th>2</th>\n      <td>GenerateJobApplicationActivity</td>\n      <td>1212</td>\n      <td>1582</td>\n      <td>1520</td>\n      <td>[]</td>\n      <td>1225</td>\n      <td>[]</td>\n      <td>GenerateJobApplicationActivity</td>\n      <td>TRUE</td>\n      <td>True</td>\n      <td>0.994192</td>\n    </tr>\n    <tr>\n      <th>3</th>\n      <td>ResumeReviewActivity</td>\n      <td>1582</td>\n      <td>2354</td>\n      <td>2336</td>\n      <td>[]</td>\n      <td>1225</td>\n      <td>[]</td>\n      <td>ResumeReviewActivity</td>\n      <td>TRUE</td>\n      <td>True</td>\n      <td>0.993329</td>\n    </tr>\n    <tr>\n      <th>4</th>\n      <td>GenerateJobApplicationActivity</td>\n      <td>2354</td>\n      <td>2708</td>\n      <td>2664</td>\n      <td>[]</td>\n      <td>1226</td>\n      <td>[]</td>\n      <td>GenerateJobApplicationActivity</td>\n      <td>TRUE</td>\n      <td>True</td>\n      <td>0.994192</td>\n    </tr>\n    <tr>\n      <th>5</th>\n      <td>ResumeReviewActivity</td>\n      <td>2708</td>\n      <td>4467</td>\n      <td>4461</td>\n      <td>[ScheduleAnInterviewActivityCall 1225]</td>\n      <td>1226</td>\n      <td>[1225]</td>\n      <td>ResumeReviewActivity, ScheduleAnInterviewActiv...</td>\n      <td>TRUE</td>\n      <td>True</td>\n      <td>0.211112</td>\n    </tr>\n    <tr>\n      <th>6</th>\n      <td>ScheduleAnInterviewActivityCall</td>\n      <td>3057</td>\n      <td>4881</td>\n      <td>4871</td>\n      <td>[ResumeReviewActivity 1226, GenerateJobApplica...</td>\n      <td>1225</td>\n      <td>[1226, 1227]</td>\n      <td>ResumeReviewActivity, ScheduleAnInterviewActiv...</td>\n      <td>TRUE</td>\n      <td>True</td>\n      <td>0.021792</td>\n    </tr>\n    <tr>\n      <th>7</th>\n      <td>GenerateJobApplicationActivity</td>\n      <td>4467</td>\n      <td>4939</td>\n      <td>4881</td>\n      <td>[ScheduleAnInterviewActivityCall 1225]</td>\n      <td>1227</td>\n      <td>[1225]</td>\n      <td>GenerateJobApplicationActivity</td>\n      <td>FALSE</td>\n      <td>True</td>\n      <td>0.986619</td>\n    </tr>\n    <tr>\n      <th>8</th>\n      <td>ResumeReviewActivity</td>\n      <td>4939</td>\n      <td>6205</td>\n      <td>6164</td>\n      <td>[PerformAnInterviewCall 1225]</td>\n      <td>1227</td>\n      <td>[1225]</td>\n      <td>ResumeReviewActivity</td>\n      <td>FALSE</td>\n      <td>True</td>\n      <td>0.839890</td>\n    </tr>\n    <tr>\n      <th>9</th>\n      <td>PerformAnInterviewCall</td>\n      <td>5606</td>\n      <td>6879</td>\n      <td>6859</td>\n      <td>[ResumeReviewActivity 1227]</td>\n      <td>1225</td>\n      <td>[1227]</td>\n      <td>PerformAnInterviewCall</td>\n      <td>FALSE</td>\n      <td>True</td>\n      <td>0.962106</td>\n    </tr>\n    <tr>\n      <th>10</th>\n      <td>GenerateJobApplicationActivity</td>\n      <td>6879</td>\n      <td>7261</td>\n      <td>7190</td>\n      <td>[]</td>\n      <td>1228</td>\n      <td>[]</td>\n      <td>GenerateJobApplicationActivity</td>\n      <td>TRUE</td>\n      <td>True</td>\n      <td>0.994192</td>\n    </tr>\n    <tr>\n      <th>11</th>\n      <td>ResumeReviewActivity</td>\n      <td>7261</td>\n      <td>8060</td>\n      <td>8044</td>\n      <td>[]</td>\n      <td>1228</td>\n      <td>[]</td>\n      <td>ResumeReviewActivity</td>\n      <td>TRUE</td>\n      <td>True</td>\n      <td>0.993329</td>\n    </tr>\n    <tr>\n      <th>12</th>\n      <td>GenerateJobApplicationActivity</td>\n      <td>8060</td>\n      <td>8421</td>\n      <td>8374</td>\n      <td>[]</td>\n      <td>1229</td>\n      <td>[]</td>\n      <td>GenerateJobApplicationActivity</td>\n      <td>TRUE</td>\n      <td>True</td>\n      <td>0.994192</td>\n    </tr>\n    <tr>\n      <th>13</th>\n      <td>ResumeReviewActivity</td>\n      <td>8421</td>\n      <td>9412</td>\n      <td>9329</td>\n      <td>[ScheduleAnInterviewActivityCall 1228]</td>\n      <td>1229</td>\n      <td>[1228]</td>\n      <td>ResumeReviewActivity</td>\n      <td>FALSE</td>\n      <td>True</td>\n      <td>0.992941</td>\n    </tr>\n    <tr>\n      <th>14</th>\n      <td>ScheduleAnInterviewActivityCall</td>\n      <td>9105</td>\n      <td>10272</td>\n      <td>10237</td>\n      <td>[ResumeReviewActivity 1229]</td>\n      <td>1228</td>\n      <td>[1229]</td>\n      <td>ScheduleAnInterviewActivityCall</td>\n      <td>FALSE</td>\n      <td>True</td>\n      <td>0.960603</td>\n    </tr>\n    <tr>\n      <th>15</th>\n      <td>GenerateJobApplicationActivity</td>\n      <td>10272</td>\n      <td>10843</td>\n      <td>10786</td>\n      <td>[PerformAnInterviewCall 1228]</td>\n      <td>1230</td>\n      <td>[1228]</td>\n      <td>GenerateJobApplicationActivity</td>\n      <td>TRUE</td>\n      <td>True</td>\n      <td>0.991560</td>\n    </tr>\n    <tr>\n      <th>16</th>\n      <td>PerformAnInterviewCall</td>\n      <td>10384</td>\n      <td>11099</td>\n      <td>11067</td>\n      <td>[GenerateJobApplicationActivity 1230]</td>\n      <td>1228</td>\n      <td>[1230]</td>\n      <td>GenerateJobApplicationActivity</td>\n      <td>FALSE</td>\n      <td>False</td>\n      <td>0.452660</td>\n    </tr>\n    <tr>\n      <th>17</th>\n      <td>ResumeReviewActivity</td>\n      <td>11099</td>\n      <td>11974</td>\n      <td>11941</td>\n      <td>[]</td>\n      <td>1230</td>\n      <td>[]</td>\n      <td>ResumeReviewActivity</td>\n      <td>TRUE</td>\n      <td>True</td>\n      <td>0.993149</td>\n    </tr>\n    <tr>\n      <th>18</th>\n      <td>ScheduleAnInterviewActivityCall</td>\n      <td>11974</td>\n      <td>14067</td>\n      <td>14049</td>\n      <td>[ScheduleAnInterviewMeeting 1228, GenerateJobA...</td>\n      <td>1229</td>\n      <td>[1228, 1231]</td>\n      <td>ScheduleAnInterviewActivityCall</td>\n      <td>FALSE</td>\n      <td>True</td>\n      <td>0.873542</td>\n    </tr>\n    <tr>\n      <th>19</th>\n      <td>ScheduleAnInterviewMeeting</td>\n      <td>12074</td>\n      <td>14576</td>\n      <td>14533</td>\n      <td>[ScheduleAnInterviewActivityCall 1229, Generat...</td>\n      <td>1228</td>\n      <td>[1229, 1231]</td>\n      <td>ScheduleAnInterviewMeeting</td>\n      <td>FALSE</td>\n      <td>True</td>\n      <td>0.475987</td>\n    </tr>\n    <tr>\n      <th>20</th>\n      <td>GenerateJobApplicationActivity</td>\n      <td>13457</td>\n      <td>14333</td>\n      <td>14328</td>\n      <td>[ScheduleAnInterviewActivityCall 1229, Schedul...</td>\n      <td>1231</td>\n      <td>[1228, 1229]</td>\n      <td>GenerateJobApplicationActivity</td>\n      <td>FALSE</td>\n      <td>True</td>\n      <td>0.835693</td>\n    </tr>\n    <tr>\n      <th>21</th>\n      <td>ResumeReviewActivity</td>\n      <td>14576</td>\n      <td>15377</td>\n      <td>15350</td>\n      <td>[]</td>\n      <td>1231</td>\n      <td>[]</td>\n      <td>ResumeReviewActivity</td>\n      <td>TRUE</td>\n      <td>True</td>\n      <td>0.993329</td>\n    </tr>\n    <tr>\n      <th>22</th>\n      <td>PerformAnInterviewMeeting</td>\n      <td>15377</td>\n      <td>17273</td>\n      <td>17235</td>\n      <td>[GenerateJobApplicationActivity 1232, PerformA...</td>\n      <td>1228</td>\n      <td>[1232, 1229]</td>\n      <td>PerformAnInterviewMeeting , GenerateJobApplica...</td>\n      <td>FALSE</td>\n      <td>True</td>\n      <td>0.007557</td>\n    </tr>\n    <tr>\n      <th>23</th>\n      <td>GenerateJobApplicationActivity</td>\n      <td>15720</td>\n      <td>16644</td>\n      <td>16615</td>\n      <td>[PerformAnInterviewMeeting 1228, PerformAnInte...</td>\n      <td>1232</td>\n      <td>[1228, 1229]</td>\n      <td>GenerateJobApplicationActivity</td>\n      <td>FALSE</td>\n      <td>True</td>\n      <td>0.711298</td>\n    </tr>\n    <tr>\n      <th>24</th>\n      <td>PerformAnInterviewCall</td>\n      <td>16049</td>\n      <td>17078</td>\n      <td>17037</td>\n      <td>[PerformAnInterviewMeeting 1228, GenerateJobAp...</td>\n      <td>1229</td>\n      <td>[1232, 1228]</td>\n      <td>GenerateJobApplicationActivity</td>\n      <td>FALSE</td>\n      <td>False</td>\n      <td>0.119634</td>\n    </tr>\n    <tr>\n      <th>25</th>\n      <td>ScheduleAnInterviewActivityCall</td>\n      <td>17273</td>\n      <td>18903</td>\n      <td>18876</td>\n      <td>[ScheduleAnInterviewMeeting 1229]</td>\n      <td>1231</td>\n      <td>[1229]</td>\n      <td>ScheduleAnInterviewActivityCall</td>\n      <td>FALSE</td>\n      <td>True</td>\n      <td>0.679157</td>\n    </tr>\n    <tr>\n      <th>26</th>\n      <td>ScheduleAnInterviewMeeting</td>\n      <td>17801</td>\n      <td>19585</td>\n      <td>19551</td>\n      <td>[ScheduleAnInterviewActivityCall 1231]</td>\n      <td>1229</td>\n      <td>[1231]</td>\n      <td>ScheduleAnInterviewMeeting</td>\n      <td>Unknown</td>\n      <td>True</td>\n      <td>0.749887</td>\n    </tr>\n    <tr>\n      <th>27</th>\n      <td>ResumeReviewActivity</td>\n      <td>19585</td>\n      <td>20696</td>\n      <td>20665</td>\n      <td>[GenerateJobApplicationActivity 1233]</td>\n      <td>1232</td>\n      <td>[1233]</td>\n      <td>ResumeReviewActivity</td>\n      <td>FALSE</td>\n      <td>True</td>\n      <td>0.194285</td>\n    </tr>\n    <tr>\n      <th>28</th>\n      <td>GenerateJobApplicationActivity</td>\n      <td>20245</td>\n      <td>20588</td>\n      <td>20557</td>\n      <td>[ResumeReviewActivity 1232]</td>\n      <td>1233</td>\n      <td>[1232]</td>\n      <td>GenerateJobApplicationActivity</td>\n      <td>FALSE</td>\n      <td>True</td>\n      <td>0.994192</td>\n    </tr>\n    <tr>\n      <th>29</th>\n      <td>PerformAnInterviewCall</td>\n      <td>20696</td>\n      <td>21413</td>\n      <td>21362</td>\n      <td>[PerformAnInterviewMeeting 1229]</td>\n      <td>1231</td>\n      <td>[1229]</td>\n      <td>PerformAnInterviewMeeting</td>\n      <td>FALSE</td>\n      <td>False</td>\n      <td>0.455015</td>\n    </tr>\n    <tr>\n      <th>30</th>\n      <td>PerformAnInterviewMeeting</td>\n      <td>20928</td>\n      <td>21674</td>\n      <td>21651</td>\n      <td>[PerformAnInterviewCall 1231]</td>\n      <td>1229</td>\n      <td>[1231]</td>\n      <td>PerformAnInterviewMeeting</td>\n      <td>FALSE</td>\n      <td>True</td>\n      <td>0.972130</td>\n    </tr>\n    <tr>\n      <th>31</th>\n      <td>ScheduleAnInterviewActivityCall</td>\n      <td>21674</td>\n      <td>22687</td>\n      <td>22664</td>\n      <td>[]</td>\n      <td>1232</td>\n      <td>[]</td>\n      <td>ScheduleAnInterviewActivityCall</td>\n      <td>TRUE</td>\n      <td>True</td>\n      <td>0.978524</td>\n    </tr>\n    <tr>\n      <th>32</th>\n      <td>ScheduleAnInterviewMeeting</td>\n      <td>22687</td>\n      <td>26508</td>\n      <td>26505</td>\n      <td>[ResumeReviewActivity 1233, ContractProposal 1...</td>\n      <td>1231</td>\n      <td>[1232, 1233, 1229]</td>\n      <td>ResumeReviewActivity , PerformAnInterviewCall</td>\n      <td>FALSE</td>\n      <td>False</td>\n      <td>0.033681</td>\n    </tr>\n    <tr>\n      <th>33</th>\n      <td>ResumeReviewActivity</td>\n      <td>22851</td>\n      <td>25201</td>\n      <td>25173</td>\n      <td>[ScheduleAnInterviewMeeting 1231, ContractProp...</td>\n      <td>1233</td>\n      <td>[1229, 1231]</td>\n      <td>ResumeReviewActivity</td>\n      <td>FALSE</td>\n      <td>True</td>\n      <td>0.189530</td>\n    </tr>\n    <tr>\n      <th>34</th>\n      <td>ContractProposal</td>\n      <td>23848</td>\n      <td>27226</td>\n      <td>27222</td>\n      <td>[ScheduleAnInterviewMeeting 1231, ResumeReview...</td>\n      <td>1229</td>\n      <td>[1232, 1233, 1231]</td>\n      <td>ContractProposal</td>\n      <td>FALSE</td>\n      <td>True</td>\n      <td>0.899964</td>\n    </tr>\n    <tr>\n      <th>35</th>\n      <td>PerformAnInterviewCall</td>\n      <td>25366</td>\n      <td>27306</td>\n      <td>27235</td>\n      <td>[ScheduleAnInterviewMeeting 1231, ContractProp...</td>\n      <td>1232</td>\n      <td>[1229, 1231]</td>\n      <td>PerformAnInterviewCall</td>\n      <td>FALSE</td>\n      <td>True</td>\n      <td>0.685331</td>\n    </tr>\n    <tr>\n      <th>36</th>\n      <td>PerformAnInterviewMeeting</td>\n      <td>27306</td>\n      <td>28384</td>\n      <td>28384</td>\n      <td>[]</td>\n      <td>1231</td>\n      <td>[]</td>\n      <td>PerformAnInterviewMeeting</td>\n      <td>TRUE</td>\n      <td>True</td>\n      <td>0.958282</td>\n    </tr>\n  </tbody>\n</table>\n</div>"
     },
     "execution_count": 39,
     "metadata": {},
     "output_type": "execute_result"
    }
   ],
   "source": [
    "df_gt"
   ],
   "metadata": {
    "collapsed": false,
    "ExecuteTime": {
     "end_time": "2024-04-29T16:43:49.032663Z",
     "start_time": "2024-04-29T16:43:48.998264Z"
    }
   },
   "id": "89aa5d7e141a81d7"
  },
  {
   "cell_type": "markdown",
   "source": [
    "# Dump Models for Memory Evaluation"
   ],
   "metadata": {
    "collapsed": false
   },
   "id": "c5925fecc52ceaa0"
  },
  {
   "cell_type": "code",
   "execution_count": 37,
   "outputs": [],
   "source": [],
   "metadata": {
    "collapsed": false,
    "ExecuteTime": {
     "end_time": "2024-04-29T16:36:42.053412Z",
     "start_time": "2024-04-29T16:36:41.984208Z"
    }
   },
   "id": "6e1035a03fff8583"
  }
 ],
 "metadata": {
  "kernelspec": {
   "display_name": "Python 3",
   "language": "python",
   "name": "python3"
  },
  "language_info": {
   "codemirror_mode": {
    "name": "ipython",
    "version": 2
   },
   "file_extension": ".py",
   "mimetype": "text/x-python",
   "name": "python",
   "nbconvert_exporter": "python",
   "pygments_lexer": "ipython2",
   "version": "2.7.6"
  }
 },
 "nbformat": 4,
 "nbformat_minor": 5
}
