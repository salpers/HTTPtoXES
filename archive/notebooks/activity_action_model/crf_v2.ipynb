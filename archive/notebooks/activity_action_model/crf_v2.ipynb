{
 "cells": [
  {
   "cell_type": "code",
   "execution_count": 167,
   "id": "initial_id",
   "metadata": {
    "collapsed": true,
    "ExecuteTime": {
     "end_time": "2024-01-10T16:13:17.254137Z",
     "start_time": "2024-01-10T16:13:17.247927Z"
    }
   },
   "outputs": [],
   "source": [
    "import re\n",
    "\n",
    "import sklearn_crfsuite\n",
    "from sklearn_crfsuite import scorers\n",
    "from sklearn_crfsuite import metrics\n",
    "import pandas as pd\n",
    "\n",
    "# surpress future warning related to SkLearn\n",
    "import warnings\n",
    "warnings.simplefilter(action='ignore', category=FutureWarning)\n",
    "\n",
    "import pandas as pd\n",
    "import numpy as np\n",
    "\n",
    "from numpy.lib.stride_tricks import sliding_window_view\n",
    "\n",
    "from sklearn.metrics import classification_report, f1_score, multilabel_confusion_matrix\n",
    "\n",
    "from sklearn.model_selection import train_test_split\n"
   ]
  },
  {
   "cell_type": "code",
   "execution_count": 168,
   "outputs": [
    {
     "name": "stderr",
     "output_type": "stream",
     "text": [
      "/var/folders/qt/gt7q1tn978x_02pv47b2lrvm0000gn/T/ipykernel_16603/1118101944.py:1: DtypeWarning: Columns (27,33,35,36,62,64,70,78,79,93,113,114,115,116,117,118,119,122,125,128,129,132,133,134,135,136,138,139,140,143,144,146,147,148,149,151,152,155,156,160,162,163,165,166,168,169,172,184,190,197,200,201,202,204,211,214,217,218,220,223,225,227,230,244,245,246,248,249) have mixed types. Specify dtype option on import or set low_memory=False.\n",
      "  df_train = pd.read_csv('../../data_v2/ptp_extended_features.csv')\n"
     ]
    }
   ],
   "source": [
    "df_train = pd.read_csv('../../data_v2/ptp_extended_features.csv')\n",
    "df_test = pd.read_csv('../../data_v2/p2p_r4_il_og_mod.csv')"
   ],
   "metadata": {
    "collapsed": false,
    "ExecuteTime": {
     "end_time": "2024-01-10T16:13:17.963980Z",
     "start_time": "2024-01-10T16:13:17.466477Z"
    }
   },
   "id": "fb211f65fa883608"
  },
  {
   "cell_type": "code",
   "execution_count": 169,
   "outputs": [],
   "source": [
    "# Mark start event of each BusinessActivity Instance\n",
    "df_train[\"activityStart\"] = df_train.groupby([\"BusinessActivity\", \"InstanceNumber\", ]).cumcount() == 0\n",
    "# Mark end event of each Business Activity Instance\n",
    "df_train[\"activityEnd\"] = df_train.groupby([\"BusinessActivity\", \"InstanceNumber\", ]).cumcount(ascending=False) == 0\n",
    "# Merge start and end columns to form labels\n",
    "df_train[\"task_position\"] = df_train.apply(lambda row: \"position_start\" if row[\"activityStart\"] else (\"position_end\" if row[\"activityEnd\"] else 'position_between'), axis=1)\n",
    "\n",
    "df_train = df_train.drop([\"activityStart\", 'activityEnd'], axis=1)"
   ],
   "metadata": {
    "collapsed": false,
    "ExecuteTime": {
     "end_time": "2024-01-10T16:13:18.250120Z",
     "start_time": "2024-01-10T16:13:17.966627Z"
    }
   },
   "id": "b5707b8f8483be27"
  },
  {
   "cell_type": "code",
   "execution_count": 170,
   "outputs": [],
   "source": [
    "# Form Sequences by Grouping\n",
    "df_train = df_train.sort_values(by=[\"InstanceNumber\", \"BusinessActivity\", \"frame.number\"])\n",
    "df_train[\"SequenceNumber\"] = df_train.groupby([\"BusinessActivity\", \"InstanceNumber\"]).ngroup()\n",
    "df_train[\"SequenceNumber\"] -= df_train['SequenceNumber'].min()"
   ],
   "metadata": {
    "collapsed": false,
    "ExecuteTime": {
     "end_time": "2024-01-10T16:13:19.015669Z",
     "start_time": "2024-01-10T16:13:18.970571Z"
    }
   },
   "id": "f562c0b0fa5e38b1"
  },
  {
   "cell_type": "code",
   "execution_count": 243,
   "outputs": [
    {
     "data": {
      "text/plain": "Empty DataFrame\nColumns: [Unnamed: 0, InstanceNumber, BusinessActivity, frame.number, event_with_roles, method_call, selective_file_data, origin_method, origin_file_data, method_call_2, task_position, file_data_str, request_method_call, selective_filter_data, origin_selective_filter_data]\nIndex: []",
      "text/html": "<div>\n<style scoped>\n    .dataframe tbody tr th:only-of-type {\n        vertical-align: middle;\n    }\n\n    .dataframe tbody tr th {\n        vertical-align: top;\n    }\n\n    .dataframe thead th {\n        text-align: right;\n    }\n</style>\n<table border=\"1\" class=\"dataframe\">\n  <thead>\n    <tr style=\"text-align: right;\">\n      <th></th>\n      <th>Unnamed: 0</th>\n      <th>InstanceNumber</th>\n      <th>BusinessActivity</th>\n      <th>frame.number</th>\n      <th>event_with_roles</th>\n      <th>method_call</th>\n      <th>selective_file_data</th>\n      <th>origin_method</th>\n      <th>origin_file_data</th>\n      <th>method_call_2</th>\n      <th>task_position</th>\n      <th>file_data_str</th>\n      <th>request_method_call</th>\n      <th>selective_filter_data</th>\n      <th>origin_selective_filter_data</th>\n    </tr>\n  </thead>\n  <tbody>\n  </tbody>\n</table>\n</div>"
     },
     "execution_count": 243,
     "metadata": {},
     "output_type": "execute_result"
    }
   ],
   "source": [
    "df_test[df_test[\"InstanceNumber\"] == 37]"
   ],
   "metadata": {
    "collapsed": false,
    "ExecuteTime": {
     "end_time": "2024-01-15T10:25:54.374800Z",
     "start_time": "2024-01-15T10:25:54.349428Z"
    }
   },
   "id": "ec73b3594d44f6b0"
  },
  {
   "cell_type": "code",
   "execution_count": 173,
   "outputs": [],
   "source": [
    "df_test[[\"request_method_call\",\"selective_filter_data\",\"origin_selective_filter_data\"]] = df_test[[\"method_call\", \"selective_file_data\",\"origin_file_data\"]]"
   ],
   "metadata": {
    "collapsed": false,
    "ExecuteTime": {
     "end_time": "2024-01-10T16:13:22.478087Z",
     "start_time": "2024-01-10T16:13:22.440645Z"
    }
   },
   "id": "5cebb896646622dc"
  },
  {
   "cell_type": "markdown",
   "source": [
    "Generate Train Sequences and Labels"
   ],
   "metadata": {
    "collapsed": false
   },
   "id": "56548313438ea4ab"
  },
  {
   "cell_type": "code",
   "execution_count": 179,
   "outputs": [],
   "source": [
    "# Divides dataframe into arrays according to to Sequence Data Indicator\n",
    "def sequence_by_activities(data, seq_data): \n",
    "    return [data[seq_data == i].values for i in range(seq_data.max())]\n",
    "\n",
    "\n",
    "cols = [\"event_with_roles\",\"request_method_call\",\"selective_filter_data\",\"origin_selective_filter_data\",\"task_position\"]\n",
    "\n",
    "train_data = sequence_by_activities(df_train[cols], df_train[\"SequenceNumber\"])\n",
    "train_labels = [seq[:,-1].tolist() for seq in train_data]"
   ],
   "metadata": {
    "collapsed": false,
    "ExecuteTime": {
     "end_time": "2024-01-10T16:15:11.247329Z",
     "start_time": "2024-01-10T16:15:11.195002Z"
    }
   },
   "id": "bdd0a74ebcd3e519"
  },
  {
   "cell_type": "markdown",
   "source": [
    "Generate Interleaved Sequences and Lables"
   ],
   "metadata": {
    "collapsed": false
   },
   "id": "97b207a011b2fdfd"
  },
  {
   "cell_type": "code",
   "execution_count": 182,
   "outputs": [],
   "source": [
    "# Reshapes the Dataframe into Sequences of Length N\n",
    "def reshape_sequences(data, seq_length):\n",
    "    data = data.values\n",
    "    num_seq = data.shape[0] // seq_length\n",
    "    return data[:num_seq*seq_length].reshape((num_seq, seq_length, data.shape[1]))\n",
    "\n",
    "# Fits a Sliding window over the dataframe\n",
    "def reshape_sliding_window(data, window_shape):\n",
    "    return np.squeeze(sliding_window_view(data,window_shape),axis =1)\n",
    "\n",
    "#test_data = reshape_sequences(df_test[cols], 15)\n",
    "test_data = reshape_sliding_window(df_test[cols], (15, len(cols)))\n",
    "test_labels = test_data[:,:,-1].tolist()"
   ],
   "metadata": {
    "collapsed": false,
    "ExecuteTime": {
     "end_time": "2024-01-10T16:15:51.721538Z",
     "start_time": "2024-01-10T16:15:51.692063Z"
    }
   },
   "id": "b053abcfdd6e6e74"
  },
  {
   "cell_type": "markdown",
   "source": [
    "Extract Features"
   ],
   "metadata": {
    "collapsed": false
   },
   "id": "914ed056cf91693c"
  },
  {
   "cell_type": "code",
   "execution_count": 231,
   "outputs": [],
   "source": [
    "def seq2features(seq, bw, fw ,feature_list): \n",
    "    # seq [0] = Position in Sequence\n",
    "    # seq [0,4] = Feature 4 an Position 0 \n",
    "    return [event2features(seq,i, bw, fw, feature_list) for i in range(len(seq))]\n",
    "\n",
    "\n",
    "def event2features(seq, i,bw, fw, feature_list): \n",
    "    \n",
    "    features = {\"bias\": 1.0}\n",
    "    # event features \n",
    "    features.update( {\n",
    "        f\"0:{feature_list[j]}\": seq[i,j] for j in range(len(feature_list))        \n",
    "    })\n",
    "    \n",
    "    # backward features 1...bw\n",
    "    for k in range(1,bw+1): \n",
    "        index = i - k\n",
    "        if index >= 0: \n",
    "            features.update({\n",
    "                f\"-{k}:{feature_list[j]}\" : seq[index,j] for j in range(len(feature_list))\n",
    "            })\n",
    "        else: \n",
    "             features.update({\n",
    "                f\"-{k}:{feature_list[j]}\" : \"NoMessage\" for j in range(len(feature_list))\n",
    "            })\n",
    "              \n",
    "    # forward features 1...fw\n",
    "    for k in range(1, fw+1): \n",
    "        index = i + k\n",
    "        if index < len(seq): \n",
    "            features.update({\n",
    "                f\"+{k}:{feature_list[j]}\" : seq[index, j] for j in range(len(feature_list))\n",
    "            })\n",
    "        else: \n",
    "            features.update({\n",
    "                f\"+{k}:{feature_list[j]}\": \"NoMessage\" for j in range(len(feature_list))\n",
    "            })\n",
    "            \n",
    "    # remove all empty String features        \n",
    "    #features = {key: value for key, value in features.items() if value != ''}\n",
    "    return features"
   ],
   "metadata": {
    "collapsed": false,
    "ExecuteTime": {
     "end_time": "2024-01-10T16:23:30.773872Z",
     "start_time": "2024-01-10T16:23:30.766110Z"
    }
   },
   "id": "19a3ee4c8890e4eb"
  },
  {
   "cell_type": "code",
   "execution_count": 232,
   "outputs": [],
   "source": [
    "features = [\"event_with_roles\",\"request_method_call\",\"selective_filter_data\",\"origin_selective_filter_data\"]\n",
    "bw = 5\n",
    "fw = 10\n",
    "train_features = [seq2features(s, bw,fw, features) for s in train_data]\n",
    "test_features = [seq2features(s, bw,fw,features) for s in test_data]"
   ],
   "metadata": {
    "collapsed": false,
    "ExecuteTime": {
     "end_time": "2024-01-10T16:23:34.087802Z",
     "start_time": "2024-01-10T16:23:31.686001Z"
    }
   },
   "id": "318ed2c64a0bd777"
  },
  {
   "cell_type": "code",
   "execution_count": 233,
   "outputs": [
    {
     "data": {
      "text/plain": "[{'bias': 1.0,\n  '0:event_with_roles': 'End Point (Procurement)->Odoo Application: [HttpRequest:POST /xmlrpc/2/common HTTP/1.1\\\\r\\\\n]',\n  '0:request_method_call': 'version',\n  '0:selective_filter_data': 'version',\n  '0:origin_selective_filter_data': nan,\n  '-1:event_with_roles': 'NoMessage',\n  '-1:request_method_call': 'NoMessage',\n  '-1:selective_filter_data': 'NoMessage',\n  '-1:origin_selective_filter_data': 'NoMessage',\n  '-2:event_with_roles': 'NoMessage',\n  '-2:request_method_call': 'NoMessage',\n  '-2:selective_filter_data': 'NoMessage',\n  '-2:origin_selective_filter_data': 'NoMessage',\n  '-3:event_with_roles': 'NoMessage',\n  '-3:request_method_call': 'NoMessage',\n  '-3:selective_filter_data': 'NoMessage',\n  '-3:origin_selective_filter_data': 'NoMessage',\n  '-4:event_with_roles': 'NoMessage',\n  '-4:request_method_call': 'NoMessage',\n  '-4:selective_filter_data': 'NoMessage',\n  '-4:origin_selective_filter_data': 'NoMessage',\n  '-5:event_with_roles': 'NoMessage',\n  '-5:request_method_call': 'NoMessage',\n  '-5:selective_filter_data': 'NoMessage',\n  '-5:origin_selective_filter_data': 'NoMessage',\n  '+1:event_with_roles': 'Odoo Application->End Point (Procurement): [HttpResponse:HTTP/1.0 200 OK\\\\r\\\\n]',\n  '+1:request_method_call': 'server_version',\n  '+1:selective_filter_data': nan,\n  '+1:origin_selective_filter_data': 'version',\n  '+2:event_with_roles': 'End Point (Procurement)->Odoo Application: [HttpRequest:POST /xmlrpc/2/common HTTP/1.1\\\\r\\\\n]',\n  '+2:request_method_call': 'authenticate',\n  '+2:selective_filter_data': nan,\n  '+2:origin_selective_filter_data': nan,\n  '+3:event_with_roles': \"Odoo Application->db Server/Mail Server: [PgsqlRequest:Simple query:INSERT:['res_users_log']]\",\n  '+3:request_method_call': nan,\n  '+3:selective_filter_data': nan,\n  '+3:origin_selective_filter_data': nan,\n  '+4:event_with_roles': 'Odoo Application->End Point (Procurement): [HttpResponse:HTTP/1.0 200 OK\\\\r\\\\n]',\n  '+4:request_method_call': '2',\n  '+4:selective_filter_data': 'IsNumber',\n  '+4:origin_selective_filter_data': nan,\n  '+5:event_with_roles': 'End Point (Procurement)->Odoo Application: [HttpRequest:POST /xmlrpc/2/object HTTP/1.1\\\\r\\\\n]',\n  '+5:request_method_call': 'execute_kw',\n  '+5:selective_filter_data': 'purchase.requisition_write_open',\n  '+5:origin_selective_filter_data': nan,\n  '+6:event_with_roles': \"Odoo Application->db Server/Mail Server: [PgsqlRequest:Simple query:UPDATE:['purchase_requisition']]\",\n  '+6:request_method_call': nan,\n  '+6:selective_filter_data': nan,\n  '+6:origin_selective_filter_data': nan,\n  '+7:event_with_roles': \"Odoo Application->db Server/Mail Server: [PgsqlRequest:Simple query:INSERT:['mail_message']]\",\n  '+7:request_method_call': nan,\n  '+7:selective_filter_data': nan,\n  '+7:origin_selective_filter_data': nan,\n  '+8:event_with_roles': 'Odoo Application->End Point (Procurement): [HttpResponse:HTTP/1.0 200 OK\\\\r\\\\n]',\n  '+8:request_method_call': '1',\n  '+8:selective_filter_data': 'IsNumber',\n  '+8:origin_selective_filter_data': 'purchase.requisition_write_open',\n  '+9:event_with_roles': \"Odoo Application->db Server/Mail Server: [PgsqlRequest:Simple query:UPDATE:['fetchmail_server']]\",\n  '+9:request_method_call': nan,\n  '+9:selective_filter_data': nan,\n  '+9:origin_selective_filter_data': nan,\n  '+10:event_with_roles': 'NoMessage',\n  '+10:request_method_call': 'NoMessage',\n  '+10:selective_filter_data': 'NoMessage',\n  '+10:origin_selective_filter_data': 'NoMessage'},\n {'bias': 1.0,\n  '0:event_with_roles': 'Odoo Application->End Point (Procurement): [HttpResponse:HTTP/1.0 200 OK\\\\r\\\\n]',\n  '0:request_method_call': 'server_version',\n  '0:selective_filter_data': nan,\n  '0:origin_selective_filter_data': 'version',\n  '-1:event_with_roles': 'End Point (Procurement)->Odoo Application: [HttpRequest:POST /xmlrpc/2/common HTTP/1.1\\\\r\\\\n]',\n  '-1:request_method_call': 'version',\n  '-1:selective_filter_data': 'version',\n  '-1:origin_selective_filter_data': nan,\n  '-2:event_with_roles': 'NoMessage',\n  '-2:request_method_call': 'NoMessage',\n  '-2:selective_filter_data': 'NoMessage',\n  '-2:origin_selective_filter_data': 'NoMessage',\n  '-3:event_with_roles': 'NoMessage',\n  '-3:request_method_call': 'NoMessage',\n  '-3:selective_filter_data': 'NoMessage',\n  '-3:origin_selective_filter_data': 'NoMessage',\n  '-4:event_with_roles': 'NoMessage',\n  '-4:request_method_call': 'NoMessage',\n  '-4:selective_filter_data': 'NoMessage',\n  '-4:origin_selective_filter_data': 'NoMessage',\n  '-5:event_with_roles': 'NoMessage',\n  '-5:request_method_call': 'NoMessage',\n  '-5:selective_filter_data': 'NoMessage',\n  '-5:origin_selective_filter_data': 'NoMessage',\n  '+1:event_with_roles': 'End Point (Procurement)->Odoo Application: [HttpRequest:POST /xmlrpc/2/common HTTP/1.1\\\\r\\\\n]',\n  '+1:request_method_call': 'authenticate',\n  '+1:selective_filter_data': nan,\n  '+1:origin_selective_filter_data': nan,\n  '+2:event_with_roles': \"Odoo Application->db Server/Mail Server: [PgsqlRequest:Simple query:INSERT:['res_users_log']]\",\n  '+2:request_method_call': nan,\n  '+2:selective_filter_data': nan,\n  '+2:origin_selective_filter_data': nan,\n  '+3:event_with_roles': 'Odoo Application->End Point (Procurement): [HttpResponse:HTTP/1.0 200 OK\\\\r\\\\n]',\n  '+3:request_method_call': '2',\n  '+3:selective_filter_data': 'IsNumber',\n  '+3:origin_selective_filter_data': nan,\n  '+4:event_with_roles': 'End Point (Procurement)->Odoo Application: [HttpRequest:POST /xmlrpc/2/object HTTP/1.1\\\\r\\\\n]',\n  '+4:request_method_call': 'execute_kw',\n  '+4:selective_filter_data': 'purchase.requisition_write_open',\n  '+4:origin_selective_filter_data': nan,\n  '+5:event_with_roles': \"Odoo Application->db Server/Mail Server: [PgsqlRequest:Simple query:UPDATE:['purchase_requisition']]\",\n  '+5:request_method_call': nan,\n  '+5:selective_filter_data': nan,\n  '+5:origin_selective_filter_data': nan,\n  '+6:event_with_roles': \"Odoo Application->db Server/Mail Server: [PgsqlRequest:Simple query:INSERT:['mail_message']]\",\n  '+6:request_method_call': nan,\n  '+6:selective_filter_data': nan,\n  '+6:origin_selective_filter_data': nan,\n  '+7:event_with_roles': 'Odoo Application->End Point (Procurement): [HttpResponse:HTTP/1.0 200 OK\\\\r\\\\n]',\n  '+7:request_method_call': '1',\n  '+7:selective_filter_data': 'IsNumber',\n  '+7:origin_selective_filter_data': 'purchase.requisition_write_open',\n  '+8:event_with_roles': \"Odoo Application->db Server/Mail Server: [PgsqlRequest:Simple query:UPDATE:['fetchmail_server']]\",\n  '+8:request_method_call': nan,\n  '+8:selective_filter_data': nan,\n  '+8:origin_selective_filter_data': nan,\n  '+9:event_with_roles': 'NoMessage',\n  '+9:request_method_call': 'NoMessage',\n  '+9:selective_filter_data': 'NoMessage',\n  '+9:origin_selective_filter_data': 'NoMessage',\n  '+10:event_with_roles': 'NoMessage',\n  '+10:request_method_call': 'NoMessage',\n  '+10:selective_filter_data': 'NoMessage',\n  '+10:origin_selective_filter_data': 'NoMessage'},\n {'bias': 1.0,\n  '0:event_with_roles': 'End Point (Procurement)->Odoo Application: [HttpRequest:POST /xmlrpc/2/common HTTP/1.1\\\\r\\\\n]',\n  '0:request_method_call': 'authenticate',\n  '0:selective_filter_data': nan,\n  '0:origin_selective_filter_data': nan,\n  '-1:event_with_roles': 'Odoo Application->End Point (Procurement): [HttpResponse:HTTP/1.0 200 OK\\\\r\\\\n]',\n  '-1:request_method_call': 'server_version',\n  '-1:selective_filter_data': nan,\n  '-1:origin_selective_filter_data': 'version',\n  '-2:event_with_roles': 'End Point (Procurement)->Odoo Application: [HttpRequest:POST /xmlrpc/2/common HTTP/1.1\\\\r\\\\n]',\n  '-2:request_method_call': 'version',\n  '-2:selective_filter_data': 'version',\n  '-2:origin_selective_filter_data': nan,\n  '-3:event_with_roles': 'NoMessage',\n  '-3:request_method_call': 'NoMessage',\n  '-3:selective_filter_data': 'NoMessage',\n  '-3:origin_selective_filter_data': 'NoMessage',\n  '-4:event_with_roles': 'NoMessage',\n  '-4:request_method_call': 'NoMessage',\n  '-4:selective_filter_data': 'NoMessage',\n  '-4:origin_selective_filter_data': 'NoMessage',\n  '-5:event_with_roles': 'NoMessage',\n  '-5:request_method_call': 'NoMessage',\n  '-5:selective_filter_data': 'NoMessage',\n  '-5:origin_selective_filter_data': 'NoMessage',\n  '+1:event_with_roles': \"Odoo Application->db Server/Mail Server: [PgsqlRequest:Simple query:INSERT:['res_users_log']]\",\n  '+1:request_method_call': nan,\n  '+1:selective_filter_data': nan,\n  '+1:origin_selective_filter_data': nan,\n  '+2:event_with_roles': 'Odoo Application->End Point (Procurement): [HttpResponse:HTTP/1.0 200 OK\\\\r\\\\n]',\n  '+2:request_method_call': '2',\n  '+2:selective_filter_data': 'IsNumber',\n  '+2:origin_selective_filter_data': nan,\n  '+3:event_with_roles': 'End Point (Procurement)->Odoo Application: [HttpRequest:POST /xmlrpc/2/object HTTP/1.1\\\\r\\\\n]',\n  '+3:request_method_call': 'execute_kw',\n  '+3:selective_filter_data': 'purchase.requisition_write_open',\n  '+3:origin_selective_filter_data': nan,\n  '+4:event_with_roles': \"Odoo Application->db Server/Mail Server: [PgsqlRequest:Simple query:UPDATE:['purchase_requisition']]\",\n  '+4:request_method_call': nan,\n  '+4:selective_filter_data': nan,\n  '+4:origin_selective_filter_data': nan,\n  '+5:event_with_roles': \"Odoo Application->db Server/Mail Server: [PgsqlRequest:Simple query:INSERT:['mail_message']]\",\n  '+5:request_method_call': nan,\n  '+5:selective_filter_data': nan,\n  '+5:origin_selective_filter_data': nan,\n  '+6:event_with_roles': 'Odoo Application->End Point (Procurement): [HttpResponse:HTTP/1.0 200 OK\\\\r\\\\n]',\n  '+6:request_method_call': '1',\n  '+6:selective_filter_data': 'IsNumber',\n  '+6:origin_selective_filter_data': 'purchase.requisition_write_open',\n  '+7:event_with_roles': \"Odoo Application->db Server/Mail Server: [PgsqlRequest:Simple query:UPDATE:['fetchmail_server']]\",\n  '+7:request_method_call': nan,\n  '+7:selective_filter_data': nan,\n  '+7:origin_selective_filter_data': nan,\n  '+8:event_with_roles': 'NoMessage',\n  '+8:request_method_call': 'NoMessage',\n  '+8:selective_filter_data': 'NoMessage',\n  '+8:origin_selective_filter_data': 'NoMessage',\n  '+9:event_with_roles': 'NoMessage',\n  '+9:request_method_call': 'NoMessage',\n  '+9:selective_filter_data': 'NoMessage',\n  '+9:origin_selective_filter_data': 'NoMessage',\n  '+10:event_with_roles': 'NoMessage',\n  '+10:request_method_call': 'NoMessage',\n  '+10:selective_filter_data': 'NoMessage',\n  '+10:origin_selective_filter_data': 'NoMessage'},\n {'bias': 1.0,\n  '0:event_with_roles': \"Odoo Application->db Server/Mail Server: [PgsqlRequest:Simple query:INSERT:['res_users_log']]\",\n  '0:request_method_call': nan,\n  '0:selective_filter_data': nan,\n  '0:origin_selective_filter_data': nan,\n  '-1:event_with_roles': 'End Point (Procurement)->Odoo Application: [HttpRequest:POST /xmlrpc/2/common HTTP/1.1\\\\r\\\\n]',\n  '-1:request_method_call': 'authenticate',\n  '-1:selective_filter_data': nan,\n  '-1:origin_selective_filter_data': nan,\n  '-2:event_with_roles': 'Odoo Application->End Point (Procurement): [HttpResponse:HTTP/1.0 200 OK\\\\r\\\\n]',\n  '-2:request_method_call': 'server_version',\n  '-2:selective_filter_data': nan,\n  '-2:origin_selective_filter_data': 'version',\n  '-3:event_with_roles': 'End Point (Procurement)->Odoo Application: [HttpRequest:POST /xmlrpc/2/common HTTP/1.1\\\\r\\\\n]',\n  '-3:request_method_call': 'version',\n  '-3:selective_filter_data': 'version',\n  '-3:origin_selective_filter_data': nan,\n  '-4:event_with_roles': 'NoMessage',\n  '-4:request_method_call': 'NoMessage',\n  '-4:selective_filter_data': 'NoMessage',\n  '-4:origin_selective_filter_data': 'NoMessage',\n  '-5:event_with_roles': 'NoMessage',\n  '-5:request_method_call': 'NoMessage',\n  '-5:selective_filter_data': 'NoMessage',\n  '-5:origin_selective_filter_data': 'NoMessage',\n  '+1:event_with_roles': 'Odoo Application->End Point (Procurement): [HttpResponse:HTTP/1.0 200 OK\\\\r\\\\n]',\n  '+1:request_method_call': '2',\n  '+1:selective_filter_data': 'IsNumber',\n  '+1:origin_selective_filter_data': nan,\n  '+2:event_with_roles': 'End Point (Procurement)->Odoo Application: [HttpRequest:POST /xmlrpc/2/object HTTP/1.1\\\\r\\\\n]',\n  '+2:request_method_call': 'execute_kw',\n  '+2:selective_filter_data': 'purchase.requisition_write_open',\n  '+2:origin_selective_filter_data': nan,\n  '+3:event_with_roles': \"Odoo Application->db Server/Mail Server: [PgsqlRequest:Simple query:UPDATE:['purchase_requisition']]\",\n  '+3:request_method_call': nan,\n  '+3:selective_filter_data': nan,\n  '+3:origin_selective_filter_data': nan,\n  '+4:event_with_roles': \"Odoo Application->db Server/Mail Server: [PgsqlRequest:Simple query:INSERT:['mail_message']]\",\n  '+4:request_method_call': nan,\n  '+4:selective_filter_data': nan,\n  '+4:origin_selective_filter_data': nan,\n  '+5:event_with_roles': 'Odoo Application->End Point (Procurement): [HttpResponse:HTTP/1.0 200 OK\\\\r\\\\n]',\n  '+5:request_method_call': '1',\n  '+5:selective_filter_data': 'IsNumber',\n  '+5:origin_selective_filter_data': 'purchase.requisition_write_open',\n  '+6:event_with_roles': \"Odoo Application->db Server/Mail Server: [PgsqlRequest:Simple query:UPDATE:['fetchmail_server']]\",\n  '+6:request_method_call': nan,\n  '+6:selective_filter_data': nan,\n  '+6:origin_selective_filter_data': nan,\n  '+7:event_with_roles': 'NoMessage',\n  '+7:request_method_call': 'NoMessage',\n  '+7:selective_filter_data': 'NoMessage',\n  '+7:origin_selective_filter_data': 'NoMessage',\n  '+8:event_with_roles': 'NoMessage',\n  '+8:request_method_call': 'NoMessage',\n  '+8:selective_filter_data': 'NoMessage',\n  '+8:origin_selective_filter_data': 'NoMessage',\n  '+9:event_with_roles': 'NoMessage',\n  '+9:request_method_call': 'NoMessage',\n  '+9:selective_filter_data': 'NoMessage',\n  '+9:origin_selective_filter_data': 'NoMessage',\n  '+10:event_with_roles': 'NoMessage',\n  '+10:request_method_call': 'NoMessage',\n  '+10:selective_filter_data': 'NoMessage',\n  '+10:origin_selective_filter_data': 'NoMessage'},\n {'bias': 1.0,\n  '0:event_with_roles': 'Odoo Application->End Point (Procurement): [HttpResponse:HTTP/1.0 200 OK\\\\r\\\\n]',\n  '0:request_method_call': '2',\n  '0:selective_filter_data': 'IsNumber',\n  '0:origin_selective_filter_data': nan,\n  '-1:event_with_roles': \"Odoo Application->db Server/Mail Server: [PgsqlRequest:Simple query:INSERT:['res_users_log']]\",\n  '-1:request_method_call': nan,\n  '-1:selective_filter_data': nan,\n  '-1:origin_selective_filter_data': nan,\n  '-2:event_with_roles': 'End Point (Procurement)->Odoo Application: [HttpRequest:POST /xmlrpc/2/common HTTP/1.1\\\\r\\\\n]',\n  '-2:request_method_call': 'authenticate',\n  '-2:selective_filter_data': nan,\n  '-2:origin_selective_filter_data': nan,\n  '-3:event_with_roles': 'Odoo Application->End Point (Procurement): [HttpResponse:HTTP/1.0 200 OK\\\\r\\\\n]',\n  '-3:request_method_call': 'server_version',\n  '-3:selective_filter_data': nan,\n  '-3:origin_selective_filter_data': 'version',\n  '-4:event_with_roles': 'End Point (Procurement)->Odoo Application: [HttpRequest:POST /xmlrpc/2/common HTTP/1.1\\\\r\\\\n]',\n  '-4:request_method_call': 'version',\n  '-4:selective_filter_data': 'version',\n  '-4:origin_selective_filter_data': nan,\n  '-5:event_with_roles': 'NoMessage',\n  '-5:request_method_call': 'NoMessage',\n  '-5:selective_filter_data': 'NoMessage',\n  '-5:origin_selective_filter_data': 'NoMessage',\n  '+1:event_with_roles': 'End Point (Procurement)->Odoo Application: [HttpRequest:POST /xmlrpc/2/object HTTP/1.1\\\\r\\\\n]',\n  '+1:request_method_call': 'execute_kw',\n  '+1:selective_filter_data': 'purchase.requisition_write_open',\n  '+1:origin_selective_filter_data': nan,\n  '+2:event_with_roles': \"Odoo Application->db Server/Mail Server: [PgsqlRequest:Simple query:UPDATE:['purchase_requisition']]\",\n  '+2:request_method_call': nan,\n  '+2:selective_filter_data': nan,\n  '+2:origin_selective_filter_data': nan,\n  '+3:event_with_roles': \"Odoo Application->db Server/Mail Server: [PgsqlRequest:Simple query:INSERT:['mail_message']]\",\n  '+3:request_method_call': nan,\n  '+3:selective_filter_data': nan,\n  '+3:origin_selective_filter_data': nan,\n  '+4:event_with_roles': 'Odoo Application->End Point (Procurement): [HttpResponse:HTTP/1.0 200 OK\\\\r\\\\n]',\n  '+4:request_method_call': '1',\n  '+4:selective_filter_data': 'IsNumber',\n  '+4:origin_selective_filter_data': 'purchase.requisition_write_open',\n  '+5:event_with_roles': \"Odoo Application->db Server/Mail Server: [PgsqlRequest:Simple query:UPDATE:['fetchmail_server']]\",\n  '+5:request_method_call': nan,\n  '+5:selective_filter_data': nan,\n  '+5:origin_selective_filter_data': nan,\n  '+6:event_with_roles': 'NoMessage',\n  '+6:request_method_call': 'NoMessage',\n  '+6:selective_filter_data': 'NoMessage',\n  '+6:origin_selective_filter_data': 'NoMessage',\n  '+7:event_with_roles': 'NoMessage',\n  '+7:request_method_call': 'NoMessage',\n  '+7:selective_filter_data': 'NoMessage',\n  '+7:origin_selective_filter_data': 'NoMessage',\n  '+8:event_with_roles': 'NoMessage',\n  '+8:request_method_call': 'NoMessage',\n  '+8:selective_filter_data': 'NoMessage',\n  '+8:origin_selective_filter_data': 'NoMessage',\n  '+9:event_with_roles': 'NoMessage',\n  '+9:request_method_call': 'NoMessage',\n  '+9:selective_filter_data': 'NoMessage',\n  '+9:origin_selective_filter_data': 'NoMessage',\n  '+10:event_with_roles': 'NoMessage',\n  '+10:request_method_call': 'NoMessage',\n  '+10:selective_filter_data': 'NoMessage',\n  '+10:origin_selective_filter_data': 'NoMessage'},\n {'bias': 1.0,\n  '0:event_with_roles': 'End Point (Procurement)->Odoo Application: [HttpRequest:POST /xmlrpc/2/object HTTP/1.1\\\\r\\\\n]',\n  '0:request_method_call': 'execute_kw',\n  '0:selective_filter_data': 'purchase.requisition_write_open',\n  '0:origin_selective_filter_data': nan,\n  '-1:event_with_roles': 'Odoo Application->End Point (Procurement): [HttpResponse:HTTP/1.0 200 OK\\\\r\\\\n]',\n  '-1:request_method_call': '2',\n  '-1:selective_filter_data': 'IsNumber',\n  '-1:origin_selective_filter_data': nan,\n  '-2:event_with_roles': \"Odoo Application->db Server/Mail Server: [PgsqlRequest:Simple query:INSERT:['res_users_log']]\",\n  '-2:request_method_call': nan,\n  '-2:selective_filter_data': nan,\n  '-2:origin_selective_filter_data': nan,\n  '-3:event_with_roles': 'End Point (Procurement)->Odoo Application: [HttpRequest:POST /xmlrpc/2/common HTTP/1.1\\\\r\\\\n]',\n  '-3:request_method_call': 'authenticate',\n  '-3:selective_filter_data': nan,\n  '-3:origin_selective_filter_data': nan,\n  '-4:event_with_roles': 'Odoo Application->End Point (Procurement): [HttpResponse:HTTP/1.0 200 OK\\\\r\\\\n]',\n  '-4:request_method_call': 'server_version',\n  '-4:selective_filter_data': nan,\n  '-4:origin_selective_filter_data': 'version',\n  '-5:event_with_roles': 'End Point (Procurement)->Odoo Application: [HttpRequest:POST /xmlrpc/2/common HTTP/1.1\\\\r\\\\n]',\n  '-5:request_method_call': 'version',\n  '-5:selective_filter_data': 'version',\n  '-5:origin_selective_filter_data': nan,\n  '+1:event_with_roles': \"Odoo Application->db Server/Mail Server: [PgsqlRequest:Simple query:UPDATE:['purchase_requisition']]\",\n  '+1:request_method_call': nan,\n  '+1:selective_filter_data': nan,\n  '+1:origin_selective_filter_data': nan,\n  '+2:event_with_roles': \"Odoo Application->db Server/Mail Server: [PgsqlRequest:Simple query:INSERT:['mail_message']]\",\n  '+2:request_method_call': nan,\n  '+2:selective_filter_data': nan,\n  '+2:origin_selective_filter_data': nan,\n  '+3:event_with_roles': 'Odoo Application->End Point (Procurement): [HttpResponse:HTTP/1.0 200 OK\\\\r\\\\n]',\n  '+3:request_method_call': '1',\n  '+3:selective_filter_data': 'IsNumber',\n  '+3:origin_selective_filter_data': 'purchase.requisition_write_open',\n  '+4:event_with_roles': \"Odoo Application->db Server/Mail Server: [PgsqlRequest:Simple query:UPDATE:['fetchmail_server']]\",\n  '+4:request_method_call': nan,\n  '+4:selective_filter_data': nan,\n  '+4:origin_selective_filter_data': nan,\n  '+5:event_with_roles': 'NoMessage',\n  '+5:request_method_call': 'NoMessage',\n  '+5:selective_filter_data': 'NoMessage',\n  '+5:origin_selective_filter_data': 'NoMessage',\n  '+6:event_with_roles': 'NoMessage',\n  '+6:request_method_call': 'NoMessage',\n  '+6:selective_filter_data': 'NoMessage',\n  '+6:origin_selective_filter_data': 'NoMessage',\n  '+7:event_with_roles': 'NoMessage',\n  '+7:request_method_call': 'NoMessage',\n  '+7:selective_filter_data': 'NoMessage',\n  '+7:origin_selective_filter_data': 'NoMessage',\n  '+8:event_with_roles': 'NoMessage',\n  '+8:request_method_call': 'NoMessage',\n  '+8:selective_filter_data': 'NoMessage',\n  '+8:origin_selective_filter_data': 'NoMessage',\n  '+9:event_with_roles': 'NoMessage',\n  '+9:request_method_call': 'NoMessage',\n  '+9:selective_filter_data': 'NoMessage',\n  '+9:origin_selective_filter_data': 'NoMessage',\n  '+10:event_with_roles': 'NoMessage',\n  '+10:request_method_call': 'NoMessage',\n  '+10:selective_filter_data': 'NoMessage',\n  '+10:origin_selective_filter_data': 'NoMessage'},\n {'bias': 1.0,\n  '0:event_with_roles': \"Odoo Application->db Server/Mail Server: [PgsqlRequest:Simple query:UPDATE:['purchase_requisition']]\",\n  '0:request_method_call': nan,\n  '0:selective_filter_data': nan,\n  '0:origin_selective_filter_data': nan,\n  '-1:event_with_roles': 'End Point (Procurement)->Odoo Application: [HttpRequest:POST /xmlrpc/2/object HTTP/1.1\\\\r\\\\n]',\n  '-1:request_method_call': 'execute_kw',\n  '-1:selective_filter_data': 'purchase.requisition_write_open',\n  '-1:origin_selective_filter_data': nan,\n  '-2:event_with_roles': 'Odoo Application->End Point (Procurement): [HttpResponse:HTTP/1.0 200 OK\\\\r\\\\n]',\n  '-2:request_method_call': '2',\n  '-2:selective_filter_data': 'IsNumber',\n  '-2:origin_selective_filter_data': nan,\n  '-3:event_with_roles': \"Odoo Application->db Server/Mail Server: [PgsqlRequest:Simple query:INSERT:['res_users_log']]\",\n  '-3:request_method_call': nan,\n  '-3:selective_filter_data': nan,\n  '-3:origin_selective_filter_data': nan,\n  '-4:event_with_roles': 'End Point (Procurement)->Odoo Application: [HttpRequest:POST /xmlrpc/2/common HTTP/1.1\\\\r\\\\n]',\n  '-4:request_method_call': 'authenticate',\n  '-4:selective_filter_data': nan,\n  '-4:origin_selective_filter_data': nan,\n  '-5:event_with_roles': 'Odoo Application->End Point (Procurement): [HttpResponse:HTTP/1.0 200 OK\\\\r\\\\n]',\n  '-5:request_method_call': 'server_version',\n  '-5:selective_filter_data': nan,\n  '-5:origin_selective_filter_data': 'version',\n  '+1:event_with_roles': \"Odoo Application->db Server/Mail Server: [PgsqlRequest:Simple query:INSERT:['mail_message']]\",\n  '+1:request_method_call': nan,\n  '+1:selective_filter_data': nan,\n  '+1:origin_selective_filter_data': nan,\n  '+2:event_with_roles': 'Odoo Application->End Point (Procurement): [HttpResponse:HTTP/1.0 200 OK\\\\r\\\\n]',\n  '+2:request_method_call': '1',\n  '+2:selective_filter_data': 'IsNumber',\n  '+2:origin_selective_filter_data': 'purchase.requisition_write_open',\n  '+3:event_with_roles': \"Odoo Application->db Server/Mail Server: [PgsqlRequest:Simple query:UPDATE:['fetchmail_server']]\",\n  '+3:request_method_call': nan,\n  '+3:selective_filter_data': nan,\n  '+3:origin_selective_filter_data': nan,\n  '+4:event_with_roles': 'NoMessage',\n  '+4:request_method_call': 'NoMessage',\n  '+4:selective_filter_data': 'NoMessage',\n  '+4:origin_selective_filter_data': 'NoMessage',\n  '+5:event_with_roles': 'NoMessage',\n  '+5:request_method_call': 'NoMessage',\n  '+5:selective_filter_data': 'NoMessage',\n  '+5:origin_selective_filter_data': 'NoMessage',\n  '+6:event_with_roles': 'NoMessage',\n  '+6:request_method_call': 'NoMessage',\n  '+6:selective_filter_data': 'NoMessage',\n  '+6:origin_selective_filter_data': 'NoMessage',\n  '+7:event_with_roles': 'NoMessage',\n  '+7:request_method_call': 'NoMessage',\n  '+7:selective_filter_data': 'NoMessage',\n  '+7:origin_selective_filter_data': 'NoMessage',\n  '+8:event_with_roles': 'NoMessage',\n  '+8:request_method_call': 'NoMessage',\n  '+8:selective_filter_data': 'NoMessage',\n  '+8:origin_selective_filter_data': 'NoMessage',\n  '+9:event_with_roles': 'NoMessage',\n  '+9:request_method_call': 'NoMessage',\n  '+9:selective_filter_data': 'NoMessage',\n  '+9:origin_selective_filter_data': 'NoMessage',\n  '+10:event_with_roles': 'NoMessage',\n  '+10:request_method_call': 'NoMessage',\n  '+10:selective_filter_data': 'NoMessage',\n  '+10:origin_selective_filter_data': 'NoMessage'},\n {'bias': 1.0,\n  '0:event_with_roles': \"Odoo Application->db Server/Mail Server: [PgsqlRequest:Simple query:INSERT:['mail_message']]\",\n  '0:request_method_call': nan,\n  '0:selective_filter_data': nan,\n  '0:origin_selective_filter_data': nan,\n  '-1:event_with_roles': \"Odoo Application->db Server/Mail Server: [PgsqlRequest:Simple query:UPDATE:['purchase_requisition']]\",\n  '-1:request_method_call': nan,\n  '-1:selective_filter_data': nan,\n  '-1:origin_selective_filter_data': nan,\n  '-2:event_with_roles': 'End Point (Procurement)->Odoo Application: [HttpRequest:POST /xmlrpc/2/object HTTP/1.1\\\\r\\\\n]',\n  '-2:request_method_call': 'execute_kw',\n  '-2:selective_filter_data': 'purchase.requisition_write_open',\n  '-2:origin_selective_filter_data': nan,\n  '-3:event_with_roles': 'Odoo Application->End Point (Procurement): [HttpResponse:HTTP/1.0 200 OK\\\\r\\\\n]',\n  '-3:request_method_call': '2',\n  '-3:selective_filter_data': 'IsNumber',\n  '-3:origin_selective_filter_data': nan,\n  '-4:event_with_roles': \"Odoo Application->db Server/Mail Server: [PgsqlRequest:Simple query:INSERT:['res_users_log']]\",\n  '-4:request_method_call': nan,\n  '-4:selective_filter_data': nan,\n  '-4:origin_selective_filter_data': nan,\n  '-5:event_with_roles': 'End Point (Procurement)->Odoo Application: [HttpRequest:POST /xmlrpc/2/common HTTP/1.1\\\\r\\\\n]',\n  '-5:request_method_call': 'authenticate',\n  '-5:selective_filter_data': nan,\n  '-5:origin_selective_filter_data': nan,\n  '+1:event_with_roles': 'Odoo Application->End Point (Procurement): [HttpResponse:HTTP/1.0 200 OK\\\\r\\\\n]',\n  '+1:request_method_call': '1',\n  '+1:selective_filter_data': 'IsNumber',\n  '+1:origin_selective_filter_data': 'purchase.requisition_write_open',\n  '+2:event_with_roles': \"Odoo Application->db Server/Mail Server: [PgsqlRequest:Simple query:UPDATE:['fetchmail_server']]\",\n  '+2:request_method_call': nan,\n  '+2:selective_filter_data': nan,\n  '+2:origin_selective_filter_data': nan,\n  '+3:event_with_roles': 'NoMessage',\n  '+3:request_method_call': 'NoMessage',\n  '+3:selective_filter_data': 'NoMessage',\n  '+3:origin_selective_filter_data': 'NoMessage',\n  '+4:event_with_roles': 'NoMessage',\n  '+4:request_method_call': 'NoMessage',\n  '+4:selective_filter_data': 'NoMessage',\n  '+4:origin_selective_filter_data': 'NoMessage',\n  '+5:event_with_roles': 'NoMessage',\n  '+5:request_method_call': 'NoMessage',\n  '+5:selective_filter_data': 'NoMessage',\n  '+5:origin_selective_filter_data': 'NoMessage',\n  '+6:event_with_roles': 'NoMessage',\n  '+6:request_method_call': 'NoMessage',\n  '+6:selective_filter_data': 'NoMessage',\n  '+6:origin_selective_filter_data': 'NoMessage',\n  '+7:event_with_roles': 'NoMessage',\n  '+7:request_method_call': 'NoMessage',\n  '+7:selective_filter_data': 'NoMessage',\n  '+7:origin_selective_filter_data': 'NoMessage',\n  '+8:event_with_roles': 'NoMessage',\n  '+8:request_method_call': 'NoMessage',\n  '+8:selective_filter_data': 'NoMessage',\n  '+8:origin_selective_filter_data': 'NoMessage',\n  '+9:event_with_roles': 'NoMessage',\n  '+9:request_method_call': 'NoMessage',\n  '+9:selective_filter_data': 'NoMessage',\n  '+9:origin_selective_filter_data': 'NoMessage',\n  '+10:event_with_roles': 'NoMessage',\n  '+10:request_method_call': 'NoMessage',\n  '+10:selective_filter_data': 'NoMessage',\n  '+10:origin_selective_filter_data': 'NoMessage'},\n {'bias': 1.0,\n  '0:event_with_roles': 'Odoo Application->End Point (Procurement): [HttpResponse:HTTP/1.0 200 OK\\\\r\\\\n]',\n  '0:request_method_call': '1',\n  '0:selective_filter_data': 'IsNumber',\n  '0:origin_selective_filter_data': 'purchase.requisition_write_open',\n  '-1:event_with_roles': \"Odoo Application->db Server/Mail Server: [PgsqlRequest:Simple query:INSERT:['mail_message']]\",\n  '-1:request_method_call': nan,\n  '-1:selective_filter_data': nan,\n  '-1:origin_selective_filter_data': nan,\n  '-2:event_with_roles': \"Odoo Application->db Server/Mail Server: [PgsqlRequest:Simple query:UPDATE:['purchase_requisition']]\",\n  '-2:request_method_call': nan,\n  '-2:selective_filter_data': nan,\n  '-2:origin_selective_filter_data': nan,\n  '-3:event_with_roles': 'End Point (Procurement)->Odoo Application: [HttpRequest:POST /xmlrpc/2/object HTTP/1.1\\\\r\\\\n]',\n  '-3:request_method_call': 'execute_kw',\n  '-3:selective_filter_data': 'purchase.requisition_write_open',\n  '-3:origin_selective_filter_data': nan,\n  '-4:event_with_roles': 'Odoo Application->End Point (Procurement): [HttpResponse:HTTP/1.0 200 OK\\\\r\\\\n]',\n  '-4:request_method_call': '2',\n  '-4:selective_filter_data': 'IsNumber',\n  '-4:origin_selective_filter_data': nan,\n  '-5:event_with_roles': \"Odoo Application->db Server/Mail Server: [PgsqlRequest:Simple query:INSERT:['res_users_log']]\",\n  '-5:request_method_call': nan,\n  '-5:selective_filter_data': nan,\n  '-5:origin_selective_filter_data': nan,\n  '+1:event_with_roles': \"Odoo Application->db Server/Mail Server: [PgsqlRequest:Simple query:UPDATE:['fetchmail_server']]\",\n  '+1:request_method_call': nan,\n  '+1:selective_filter_data': nan,\n  '+1:origin_selective_filter_data': nan,\n  '+2:event_with_roles': 'NoMessage',\n  '+2:request_method_call': 'NoMessage',\n  '+2:selective_filter_data': 'NoMessage',\n  '+2:origin_selective_filter_data': 'NoMessage',\n  '+3:event_with_roles': 'NoMessage',\n  '+3:request_method_call': 'NoMessage',\n  '+3:selective_filter_data': 'NoMessage',\n  '+3:origin_selective_filter_data': 'NoMessage',\n  '+4:event_with_roles': 'NoMessage',\n  '+4:request_method_call': 'NoMessage',\n  '+4:selective_filter_data': 'NoMessage',\n  '+4:origin_selective_filter_data': 'NoMessage',\n  '+5:event_with_roles': 'NoMessage',\n  '+5:request_method_call': 'NoMessage',\n  '+5:selective_filter_data': 'NoMessage',\n  '+5:origin_selective_filter_data': 'NoMessage',\n  '+6:event_with_roles': 'NoMessage',\n  '+6:request_method_call': 'NoMessage',\n  '+6:selective_filter_data': 'NoMessage',\n  '+6:origin_selective_filter_data': 'NoMessage',\n  '+7:event_with_roles': 'NoMessage',\n  '+7:request_method_call': 'NoMessage',\n  '+7:selective_filter_data': 'NoMessage',\n  '+7:origin_selective_filter_data': 'NoMessage',\n  '+8:event_with_roles': 'NoMessage',\n  '+8:request_method_call': 'NoMessage',\n  '+8:selective_filter_data': 'NoMessage',\n  '+8:origin_selective_filter_data': 'NoMessage',\n  '+9:event_with_roles': 'NoMessage',\n  '+9:request_method_call': 'NoMessage',\n  '+9:selective_filter_data': 'NoMessage',\n  '+9:origin_selective_filter_data': 'NoMessage',\n  '+10:event_with_roles': 'NoMessage',\n  '+10:request_method_call': 'NoMessage',\n  '+10:selective_filter_data': 'NoMessage',\n  '+10:origin_selective_filter_data': 'NoMessage'},\n {'bias': 1.0,\n  '0:event_with_roles': \"Odoo Application->db Server/Mail Server: [PgsqlRequest:Simple query:UPDATE:['fetchmail_server']]\",\n  '0:request_method_call': nan,\n  '0:selective_filter_data': nan,\n  '0:origin_selective_filter_data': nan,\n  '-1:event_with_roles': 'Odoo Application->End Point (Procurement): [HttpResponse:HTTP/1.0 200 OK\\\\r\\\\n]',\n  '-1:request_method_call': '1',\n  '-1:selective_filter_data': 'IsNumber',\n  '-1:origin_selective_filter_data': 'purchase.requisition_write_open',\n  '-2:event_with_roles': \"Odoo Application->db Server/Mail Server: [PgsqlRequest:Simple query:INSERT:['mail_message']]\",\n  '-2:request_method_call': nan,\n  '-2:selective_filter_data': nan,\n  '-2:origin_selective_filter_data': nan,\n  '-3:event_with_roles': \"Odoo Application->db Server/Mail Server: [PgsqlRequest:Simple query:UPDATE:['purchase_requisition']]\",\n  '-3:request_method_call': nan,\n  '-3:selective_filter_data': nan,\n  '-3:origin_selective_filter_data': nan,\n  '-4:event_with_roles': 'End Point (Procurement)->Odoo Application: [HttpRequest:POST /xmlrpc/2/object HTTP/1.1\\\\r\\\\n]',\n  '-4:request_method_call': 'execute_kw',\n  '-4:selective_filter_data': 'purchase.requisition_write_open',\n  '-4:origin_selective_filter_data': nan,\n  '-5:event_with_roles': 'Odoo Application->End Point (Procurement): [HttpResponse:HTTP/1.0 200 OK\\\\r\\\\n]',\n  '-5:request_method_call': '2',\n  '-5:selective_filter_data': 'IsNumber',\n  '-5:origin_selective_filter_data': nan,\n  '+1:event_with_roles': 'NoMessage',\n  '+1:request_method_call': 'NoMessage',\n  '+1:selective_filter_data': 'NoMessage',\n  '+1:origin_selective_filter_data': 'NoMessage',\n  '+2:event_with_roles': 'NoMessage',\n  '+2:request_method_call': 'NoMessage',\n  '+2:selective_filter_data': 'NoMessage',\n  '+2:origin_selective_filter_data': 'NoMessage',\n  '+3:event_with_roles': 'NoMessage',\n  '+3:request_method_call': 'NoMessage',\n  '+3:selective_filter_data': 'NoMessage',\n  '+3:origin_selective_filter_data': 'NoMessage',\n  '+4:event_with_roles': 'NoMessage',\n  '+4:request_method_call': 'NoMessage',\n  '+4:selective_filter_data': 'NoMessage',\n  '+4:origin_selective_filter_data': 'NoMessage',\n  '+5:event_with_roles': 'NoMessage',\n  '+5:request_method_call': 'NoMessage',\n  '+5:selective_filter_data': 'NoMessage',\n  '+5:origin_selective_filter_data': 'NoMessage',\n  '+6:event_with_roles': 'NoMessage',\n  '+6:request_method_call': 'NoMessage',\n  '+6:selective_filter_data': 'NoMessage',\n  '+6:origin_selective_filter_data': 'NoMessage',\n  '+7:event_with_roles': 'NoMessage',\n  '+7:request_method_call': 'NoMessage',\n  '+7:selective_filter_data': 'NoMessage',\n  '+7:origin_selective_filter_data': 'NoMessage',\n  '+8:event_with_roles': 'NoMessage',\n  '+8:request_method_call': 'NoMessage',\n  '+8:selective_filter_data': 'NoMessage',\n  '+8:origin_selective_filter_data': 'NoMessage',\n  '+9:event_with_roles': 'NoMessage',\n  '+9:request_method_call': 'NoMessage',\n  '+9:selective_filter_data': 'NoMessage',\n  '+9:origin_selective_filter_data': 'NoMessage',\n  '+10:event_with_roles': 'NoMessage',\n  '+10:request_method_call': 'NoMessage',\n  '+10:selective_filter_data': 'NoMessage',\n  '+10:origin_selective_filter_data': 'NoMessage'}]"
     },
     "execution_count": 233,
     "metadata": {},
     "output_type": "execute_result"
    }
   ],
   "source": [
    "train_features[0]"
   ],
   "metadata": {
    "collapsed": false,
    "ExecuteTime": {
     "end_time": "2024-01-10T16:23:34.102186Z",
     "start_time": "2024-01-10T16:23:34.088001Z"
    }
   },
   "id": "ef4c86c466c51d61"
  },
  {
   "cell_type": "code",
   "execution_count": 234,
   "outputs": [],
   "source": [
    "X_train, X_test, y_train, y_test = train_test_split(train_features, train_labels, test_size=0.3, random_state=42, shuffle=True)"
   ],
   "metadata": {
    "collapsed": false,
    "ExecuteTime": {
     "end_time": "2024-01-10T16:23:34.181789Z",
     "start_time": "2024-01-10T16:23:34.103289Z"
    }
   },
   "id": "f43fdbd602a420ee"
  },
  {
   "cell_type": "code",
   "execution_count": 235,
   "outputs": [
    {
     "name": "stdout",
     "output_type": "stream",
     "text": [
      "CPU times: user 1.07 s, sys: 49.2 ms, total: 1.12 s\n",
      "Wall time: 1.32 s\n"
     ]
    },
    {
     "data": {
      "text/plain": "CRF(algorithm='lbfgs', max_iterations=10000)",
      "text/html": "<style>#sk-container-id-19 {color: black;}#sk-container-id-19 pre{padding: 0;}#sk-container-id-19 div.sk-toggleable {background-color: white;}#sk-container-id-19 label.sk-toggleable__label {cursor: pointer;display: block;width: 100%;margin-bottom: 0;padding: 0.3em;box-sizing: border-box;text-align: center;}#sk-container-id-19 label.sk-toggleable__label-arrow:before {content: \"▸\";float: left;margin-right: 0.25em;color: #696969;}#sk-container-id-19 label.sk-toggleable__label-arrow:hover:before {color: black;}#sk-container-id-19 div.sk-estimator:hover label.sk-toggleable__label-arrow:before {color: black;}#sk-container-id-19 div.sk-toggleable__content {max-height: 0;max-width: 0;overflow: hidden;text-align: left;background-color: #f0f8ff;}#sk-container-id-19 div.sk-toggleable__content pre {margin: 0.2em;color: black;border-radius: 0.25em;background-color: #f0f8ff;}#sk-container-id-19 input.sk-toggleable__control:checked~div.sk-toggleable__content {max-height: 200px;max-width: 100%;overflow: auto;}#sk-container-id-19 input.sk-toggleable__control:checked~label.sk-toggleable__label-arrow:before {content: \"▾\";}#sk-container-id-19 div.sk-estimator input.sk-toggleable__control:checked~label.sk-toggleable__label {background-color: #d4ebff;}#sk-container-id-19 div.sk-label input.sk-toggleable__control:checked~label.sk-toggleable__label {background-color: #d4ebff;}#sk-container-id-19 input.sk-hidden--visually {border: 0;clip: rect(1px 1px 1px 1px);clip: rect(1px, 1px, 1px, 1px);height: 1px;margin: -1px;overflow: hidden;padding: 0;position: absolute;width: 1px;}#sk-container-id-19 div.sk-estimator {font-family: monospace;background-color: #f0f8ff;border: 1px dotted black;border-radius: 0.25em;box-sizing: border-box;margin-bottom: 0.5em;}#sk-container-id-19 div.sk-estimator:hover {background-color: #d4ebff;}#sk-container-id-19 div.sk-parallel-item::after {content: \"\";width: 100%;border-bottom: 1px solid gray;flex-grow: 1;}#sk-container-id-19 div.sk-label:hover label.sk-toggleable__label {background-color: #d4ebff;}#sk-container-id-19 div.sk-serial::before {content: \"\";position: absolute;border-left: 1px solid gray;box-sizing: border-box;top: 0;bottom: 0;left: 50%;z-index: 0;}#sk-container-id-19 div.sk-serial {display: flex;flex-direction: column;align-items: center;background-color: white;padding-right: 0.2em;padding-left: 0.2em;position: relative;}#sk-container-id-19 div.sk-item {position: relative;z-index: 1;}#sk-container-id-19 div.sk-parallel {display: flex;align-items: stretch;justify-content: center;background-color: white;position: relative;}#sk-container-id-19 div.sk-item::before, #sk-container-id-19 div.sk-parallel-item::before {content: \"\";position: absolute;border-left: 1px solid gray;box-sizing: border-box;top: 0;bottom: 0;left: 50%;z-index: -1;}#sk-container-id-19 div.sk-parallel-item {display: flex;flex-direction: column;z-index: 1;position: relative;background-color: white;}#sk-container-id-19 div.sk-parallel-item:first-child::after {align-self: flex-end;width: 50%;}#sk-container-id-19 div.sk-parallel-item:last-child::after {align-self: flex-start;width: 50%;}#sk-container-id-19 div.sk-parallel-item:only-child::after {width: 0;}#sk-container-id-19 div.sk-dashed-wrapped {border: 1px dashed gray;margin: 0 0.4em 0.5em 0.4em;box-sizing: border-box;padding-bottom: 0.4em;background-color: white;}#sk-container-id-19 div.sk-label label {font-family: monospace;font-weight: bold;display: inline-block;line-height: 1.2em;}#sk-container-id-19 div.sk-label-container {text-align: center;}#sk-container-id-19 div.sk-container {/* jupyter's `normalize.less` sets `[hidden] { display: none; }` but bootstrap.min.css set `[hidden] { display: none !important; }` so we also need the `!important` here to be able to override the default hidden behavior on the sphinx rendered scikit-learn.org. See: https://github.com/scikit-learn/scikit-learn/issues/21755 */display: inline-block !important;position: relative;}#sk-container-id-19 div.sk-text-repr-fallback {display: none;}</style><div id=\"sk-container-id-19\" class=\"sk-top-container\"><div class=\"sk-text-repr-fallback\"><pre>CRF(algorithm=&#x27;lbfgs&#x27;, max_iterations=10000)</pre><b>In a Jupyter environment, please rerun this cell to show the HTML representation or trust the notebook. <br />On GitHub, the HTML representation is unable to render, please try loading this page with nbviewer.org.</b></div><div class=\"sk-container\" hidden><div class=\"sk-item\"><div class=\"sk-estimator sk-toggleable\"><input class=\"sk-toggleable__control sk-hidden--visually\" id=\"sk-estimator-id-35\" type=\"checkbox\" checked><label for=\"sk-estimator-id-35\" class=\"sk-toggleable__label sk-toggleable__label-arrow\">CRF</label><div class=\"sk-toggleable__content\"><pre>CRF(algorithm=&#x27;lbfgs&#x27;, max_iterations=10000)</pre></div></div></div></div></div>"
     },
     "execution_count": 235,
     "metadata": {},
     "output_type": "execute_result"
    }
   ],
   "source": [
    "%%time\n",
    "crf = sklearn_crfsuite.CRF(\n",
    "    algorithm='lbfgs', \n",
    "    max_iterations=200, \n",
    "    #all_possible_transitions=True\n",
    ")\n",
    "crf.fit(X_train, y_train)"
   ],
   "metadata": {
    "collapsed": false,
    "ExecuteTime": {
     "end_time": "2024-01-10T16:23:35.512890Z",
     "start_time": "2024-01-10T16:23:34.183727Z"
    }
   },
   "id": "f3eaa4dbf34fdf52"
  },
  {
   "cell_type": "code",
   "execution_count": 236,
   "outputs": [
    {
     "name": "stdout",
     "output_type": "stream",
     "text": [
      "1.0\n",
      "                  precision    recall  f1-score   support\n",
      "\n",
      "  position_start       1.00      1.00      1.00       138\n",
      "position_between       1.00      1.00      1.00      6596\n",
      "    position_end       1.00      1.00      1.00       121\n",
      "\n",
      "        accuracy                           1.00      6855\n",
      "       macro avg       1.00      1.00      1.00      6855\n",
      "    weighted avg       1.00      1.00      1.00      6855\n",
      "\n",
      "[[[ 259    0]\n",
      "  [   0 6596]]\n",
      "\n",
      " [[6734    0]\n",
      "  [   0  121]]\n",
      "\n",
      " [[6717    0]\n",
      "  [   0  138]]]\n",
      "0.3245144389491864\n",
      "                  precision    recall  f1-score   support\n",
      "\n",
      "  position_start       0.02      0.08      0.03       931\n",
      "position_between       0.97      0.87      0.91     53683\n",
      "    position_end       0.02      0.07      0.03       931\n",
      "\n",
      "        accuracy                           0.84     55545\n",
      "       macro avg       0.33      0.34      0.32     55545\n",
      "    weighted avg       0.93      0.84      0.88     55545\n",
      "\n",
      "[[[  262  1600]\n",
      "  [ 7152 46531]]\n",
      "\n",
      " [[50974  3640]\n",
      "  [  868    63]]\n",
      "\n",
      " [[50978  3636]\n",
      "  [  856    75]]]\n"
     ]
    }
   ],
   "source": [
    "def flatten(xss): \n",
    "    return [x for xs in xss for x in xs]\n",
    "\n",
    "def evaluate(model, x, y_true): \n",
    "    y_pred = model.predict(x)\n",
    "    print(metrics.flat_f1_score(y_true, y_pred, average='macro', labels = model.classes_))\n",
    "    print(metrics.flat_classification_report(y_true, y_pred, model.classes_))\n",
    "    print(multilabel_confusion_matrix(flatten(y_true), flatten(y_pred)))\n",
    "    \n",
    "evaluate(crf, X_test, y_test)\n",
    "evaluate(crf, test_features, test_labels) "
   ],
   "metadata": {
    "collapsed": false,
    "ExecuteTime": {
     "end_time": "2024-01-10T16:23:38.803229Z",
     "start_time": "2024-01-10T16:23:35.513555Z"
    }
   },
   "id": "1cce35f3d6ff92e7"
  },
  {
   "cell_type": "markdown",
   "source": [
    "Optimize"
   ],
   "metadata": {
    "collapsed": false
   },
   "id": "439996438a188c46"
  },
  {
   "cell_type": "code",
   "execution_count": 237,
   "outputs": [
    {
     "name": "stdout",
     "output_type": "stream",
     "text": [
      "Fitting 3 folds for each of 50 candidates, totalling 150 fits\n"
     ]
    },
    {
     "data": {
      "text/plain": "RandomizedSearchCV(cv=3,\n                   estimator=CRF(algorithm='lbfgs',\n                                 all_possible_transitions=True,\n                                 max_iterations=100),\n                   n_iter=50, n_jobs=-1,\n                   param_distributions={'c1': <scipy.stats._distn_infrastructure.rv_continuous_frozen object at 0x2b1cab7c0>,\n                                        'c2': <scipy.stats._distn_infrastructure.rv_continuous_frozen object at 0x2a969e100>},\n                   scoring=make_scorer(flat_f1_score, average=macro, labels=['position_between' 'position_end' 'position_start']),\n                   verbose=1)",
      "text/html": "<style>#sk-container-id-20 {color: black;}#sk-container-id-20 pre{padding: 0;}#sk-container-id-20 div.sk-toggleable {background-color: white;}#sk-container-id-20 label.sk-toggleable__label {cursor: pointer;display: block;width: 100%;margin-bottom: 0;padding: 0.3em;box-sizing: border-box;text-align: center;}#sk-container-id-20 label.sk-toggleable__label-arrow:before {content: \"▸\";float: left;margin-right: 0.25em;color: #696969;}#sk-container-id-20 label.sk-toggleable__label-arrow:hover:before {color: black;}#sk-container-id-20 div.sk-estimator:hover label.sk-toggleable__label-arrow:before {color: black;}#sk-container-id-20 div.sk-toggleable__content {max-height: 0;max-width: 0;overflow: hidden;text-align: left;background-color: #f0f8ff;}#sk-container-id-20 div.sk-toggleable__content pre {margin: 0.2em;color: black;border-radius: 0.25em;background-color: #f0f8ff;}#sk-container-id-20 input.sk-toggleable__control:checked~div.sk-toggleable__content {max-height: 200px;max-width: 100%;overflow: auto;}#sk-container-id-20 input.sk-toggleable__control:checked~label.sk-toggleable__label-arrow:before {content: \"▾\";}#sk-container-id-20 div.sk-estimator input.sk-toggleable__control:checked~label.sk-toggleable__label {background-color: #d4ebff;}#sk-container-id-20 div.sk-label input.sk-toggleable__control:checked~label.sk-toggleable__label {background-color: #d4ebff;}#sk-container-id-20 input.sk-hidden--visually {border: 0;clip: rect(1px 1px 1px 1px);clip: rect(1px, 1px, 1px, 1px);height: 1px;margin: -1px;overflow: hidden;padding: 0;position: absolute;width: 1px;}#sk-container-id-20 div.sk-estimator {font-family: monospace;background-color: #f0f8ff;border: 1px dotted black;border-radius: 0.25em;box-sizing: border-box;margin-bottom: 0.5em;}#sk-container-id-20 div.sk-estimator:hover {background-color: #d4ebff;}#sk-container-id-20 div.sk-parallel-item::after {content: \"\";width: 100%;border-bottom: 1px solid gray;flex-grow: 1;}#sk-container-id-20 div.sk-label:hover label.sk-toggleable__label {background-color: #d4ebff;}#sk-container-id-20 div.sk-serial::before {content: \"\";position: absolute;border-left: 1px solid gray;box-sizing: border-box;top: 0;bottom: 0;left: 50%;z-index: 0;}#sk-container-id-20 div.sk-serial {display: flex;flex-direction: column;align-items: center;background-color: white;padding-right: 0.2em;padding-left: 0.2em;position: relative;}#sk-container-id-20 div.sk-item {position: relative;z-index: 1;}#sk-container-id-20 div.sk-parallel {display: flex;align-items: stretch;justify-content: center;background-color: white;position: relative;}#sk-container-id-20 div.sk-item::before, #sk-container-id-20 div.sk-parallel-item::before {content: \"\";position: absolute;border-left: 1px solid gray;box-sizing: border-box;top: 0;bottom: 0;left: 50%;z-index: -1;}#sk-container-id-20 div.sk-parallel-item {display: flex;flex-direction: column;z-index: 1;position: relative;background-color: white;}#sk-container-id-20 div.sk-parallel-item:first-child::after {align-self: flex-end;width: 50%;}#sk-container-id-20 div.sk-parallel-item:last-child::after {align-self: flex-start;width: 50%;}#sk-container-id-20 div.sk-parallel-item:only-child::after {width: 0;}#sk-container-id-20 div.sk-dashed-wrapped {border: 1px dashed gray;margin: 0 0.4em 0.5em 0.4em;box-sizing: border-box;padding-bottom: 0.4em;background-color: white;}#sk-container-id-20 div.sk-label label {font-family: monospace;font-weight: bold;display: inline-block;line-height: 1.2em;}#sk-container-id-20 div.sk-label-container {text-align: center;}#sk-container-id-20 div.sk-container {/* jupyter's `normalize.less` sets `[hidden] { display: none; }` but bootstrap.min.css set `[hidden] { display: none !important; }` so we also need the `!important` here to be able to override the default hidden behavior on the sphinx rendered scikit-learn.org. See: https://github.com/scikit-learn/scikit-learn/issues/21755 */display: inline-block !important;position: relative;}#sk-container-id-20 div.sk-text-repr-fallback {display: none;}</style><div id=\"sk-container-id-20\" class=\"sk-top-container\"><div class=\"sk-text-repr-fallback\"><pre>RandomizedSearchCV(cv=3,\n                   estimator=CRF(algorithm=&#x27;lbfgs&#x27;,\n                                 all_possible_transitions=True,\n                                 max_iterations=100),\n                   n_iter=50, n_jobs=-1,\n                   param_distributions={&#x27;c1&#x27;: &lt;scipy.stats._distn_infrastructure.rv_continuous_frozen object at 0x2b1cab7c0&gt;,\n                                        &#x27;c2&#x27;: &lt;scipy.stats._distn_infrastructure.rv_continuous_frozen object at 0x2a969e100&gt;},\n                   scoring=make_scorer(flat_f1_score, average=macro, labels=[&#x27;position_between&#x27; &#x27;position_end&#x27; &#x27;position_start&#x27;]),\n                   verbose=1)</pre><b>In a Jupyter environment, please rerun this cell to show the HTML representation or trust the notebook. <br />On GitHub, the HTML representation is unable to render, please try loading this page with nbviewer.org.</b></div><div class=\"sk-container\" hidden><div class=\"sk-item sk-dashed-wrapped\"><div class=\"sk-label-container\"><div class=\"sk-label sk-toggleable\"><input class=\"sk-toggleable__control sk-hidden--visually\" id=\"sk-estimator-id-36\" type=\"checkbox\" ><label for=\"sk-estimator-id-36\" class=\"sk-toggleable__label sk-toggleable__label-arrow\">RandomizedSearchCV</label><div class=\"sk-toggleable__content\"><pre>RandomizedSearchCV(cv=3,\n                   estimator=CRF(algorithm=&#x27;lbfgs&#x27;,\n                                 all_possible_transitions=True,\n                                 max_iterations=100),\n                   n_iter=50, n_jobs=-1,\n                   param_distributions={&#x27;c1&#x27;: &lt;scipy.stats._distn_infrastructure.rv_continuous_frozen object at 0x2b1cab7c0&gt;,\n                                        &#x27;c2&#x27;: &lt;scipy.stats._distn_infrastructure.rv_continuous_frozen object at 0x2a969e100&gt;},\n                   scoring=make_scorer(flat_f1_score, average=macro, labels=[&#x27;position_between&#x27; &#x27;position_end&#x27; &#x27;position_start&#x27;]),\n                   verbose=1)</pre></div></div></div><div class=\"sk-parallel\"><div class=\"sk-parallel-item\"><div class=\"sk-item\"><div class=\"sk-label-container\"><div class=\"sk-label sk-toggleable\"><input class=\"sk-toggleable__control sk-hidden--visually\" id=\"sk-estimator-id-37\" type=\"checkbox\" ><label for=\"sk-estimator-id-37\" class=\"sk-toggleable__label sk-toggleable__label-arrow\">estimator: CRF</label><div class=\"sk-toggleable__content\"><pre>CRF(algorithm=&#x27;lbfgs&#x27;, all_possible_transitions=True, max_iterations=100)</pre></div></div></div><div class=\"sk-serial\"><div class=\"sk-item\"><div class=\"sk-estimator sk-toggleable\"><input class=\"sk-toggleable__control sk-hidden--visually\" id=\"sk-estimator-id-38\" type=\"checkbox\" ><label for=\"sk-estimator-id-38\" class=\"sk-toggleable__label sk-toggleable__label-arrow\">CRF</label><div class=\"sk-toggleable__content\"><pre>CRF(algorithm=&#x27;lbfgs&#x27;, all_possible_transitions=True, max_iterations=100)</pre></div></div></div></div></div></div></div></div></div></div>"
     },
     "execution_count": 237,
     "metadata": {},
     "output_type": "execute_result"
    }
   ],
   "source": [
    "import scipy\n",
    "from sklearn.model_selection import RandomizedSearchCV\n",
    "from sklearn.metrics import make_scorer\n",
    "\n",
    "\n",
    "\n",
    "# define fixed parameters and parameters to search\n",
    "crf = sklearn_crfsuite.CRF(\n",
    "    algorithm='lbfgs', \n",
    "    max_iterations=100, \n",
    "    all_possible_transitions=True\n",
    ")\n",
    "params_space = {\n",
    "    'c1': scipy.stats.expon(scale=0.5),\n",
    "    'c2': scipy.stats.expon(scale=0.05),\n",
    "}\n",
    "\n",
    "# use the same metric for evaluation\n",
    "f1_scorer = make_scorer(metrics.flat_f1_score, \n",
    "                        average='macro', labels=np.unique(test_labels))\n",
    "\n",
    "# search\n",
    "rs = RandomizedSearchCV(crf, params_space, \n",
    "                        cv=3, \n",
    "                        verbose=1, \n",
    "                        n_jobs=-1, \n",
    "                        n_iter=50, \n",
    "                        scoring=f1_scorer)\n",
    "rs.fit(X_train, y_train)"
   ],
   "metadata": {
    "collapsed": false,
    "ExecuteTime": {
     "end_time": "2024-01-10T16:24:31.619649Z",
     "start_time": "2024-01-10T16:23:38.824022Z"
    }
   },
   "id": "2000a5c3306f59c2"
  },
  {
   "cell_type": "code",
   "execution_count": 238,
   "outputs": [
    {
     "name": "stdout",
     "output_type": "stream",
     "text": [
      "best params: {'c1': 0.7628286625214997, 'c2': 0.014420346241095425}\n",
      "best CV score: 1.0\n",
      "model size: 0.01M\n"
     ]
    }
   ],
   "source": [
    "# crf = rs.best_estimator_\n",
    "print('best params:', rs.best_params_)\n",
    "print('best CV score:', rs.best_score_)\n",
    "print('model size: {:0.2f}M'.format(rs.best_estimator_.size_ / 1000000))"
   ],
   "metadata": {
    "collapsed": false,
    "ExecuteTime": {
     "end_time": "2024-01-10T16:24:31.624683Z",
     "start_time": "2024-01-10T16:24:31.618171Z"
    }
   },
   "id": "bd3d11ec7f5d6b1b"
  },
  {
   "cell_type": "code",
   "execution_count": 239,
   "outputs": [
    {
     "name": "stdout",
     "output_type": "stream",
     "text": [
      "1.0\n",
      "                  precision    recall  f1-score   support\n",
      "\n",
      "  position_start       1.00      1.00      1.00       138\n",
      "position_between       1.00      1.00      1.00      6596\n",
      "    position_end       1.00      1.00      1.00       121\n",
      "\n",
      "        accuracy                           1.00      6855\n",
      "       macro avg       1.00      1.00      1.00      6855\n",
      "    weighted avg       1.00      1.00      1.00      6855\n",
      "\n",
      "[[[ 259    0]\n",
      "  [   0 6596]]\n",
      "\n",
      " [[6734    0]\n",
      "  [   0  121]]\n",
      "\n",
      " [[6717    0]\n",
      "  [   0  138]]]\n",
      "0.32275653603430093\n",
      "                  precision    recall  f1-score   support\n",
      "\n",
      "  position_start       0.02      0.07      0.03       931\n",
      "position_between       0.97      0.87      0.91     53683\n",
      "    position_end       0.02      0.07      0.03       931\n",
      "\n",
      "        accuracy                           0.84     55545\n",
      "       macro avg       0.33      0.33      0.32     55545\n",
      "    weighted avg       0.93      0.84      0.88     55545\n",
      "\n",
      "[[[  250  1612]\n",
      "  [ 7156 46527]]\n",
      "\n",
      " [[50974  3640]\n",
      "  [  868    63]]\n",
      "\n",
      " [[50974  3640]\n",
      "  [  868    63]]]\n"
     ]
    }
   ],
   "source": [
    "crf = rs.best_estimator_\n",
    "evaluate(crf, X_test, y_test)\n",
    "evaluate(crf, test_features, test_labels)"
   ],
   "metadata": {
    "collapsed": false,
    "ExecuteTime": {
     "end_time": "2024-01-10T16:24:33.857596Z",
     "start_time": "2024-01-10T16:24:31.673741Z"
    }
   },
   "id": "8e2b0cd4b5d7899b"
  },
  {
   "cell_type": "code",
   "execution_count": 240,
   "outputs": [
    {
     "name": "stdout",
     "output_type": "stream",
     "text": [
      "Top likely transitions:\n",
      "position_between -> position_between 6.206357\n",
      "position_between -> position_end 2.714864\n",
      "position_end -> position_between -0.726853\n"
     ]
    }
   ],
   "source": [
    "from collections import Counter\n",
    "\n",
    "def print_transitions(trans_features):\n",
    "    for (label_from, label_to), weight in trans_features:\n",
    "        print(\"%-6s -> %-7s %0.6f\" % (label_from, label_to, weight))\n",
    "\n",
    "print(\"Top likely transitions:\")\n",
    "print_transitions(Counter(crf.transition_features_).most_common())\n"
   ],
   "metadata": {
    "collapsed": false,
    "ExecuteTime": {
     "end_time": "2024-01-10T16:24:33.860688Z",
     "start_time": "2024-01-10T16:24:33.858312Z"
    }
   },
   "id": "c4f9d297648c8f0c"
  },
  {
   "cell_type": "code",
   "execution_count": 241,
   "outputs": [
    {
     "name": "stdout",
     "output_type": "stream",
     "text": [
      "Top positive:\n",
      "3.227225 position_start -1:event_with_roles:NoMessage\n",
      "3.227225 position_start -1:request_method_call:NoMessage\n",
      "3.227225 position_start -1:selective_filter_data:NoMessage\n",
      "3.227225 position_start -1:origin_selective_filter_data:NoMessage\n",
      "2.195751 position_end +1:event_with_roles:NoMessage\n",
      "2.195751 position_end +1:request_method_call:NoMessage\n",
      "2.195751 position_end +1:selective_filter_data:NoMessage\n",
      "2.195751 position_end +1:origin_selective_filter_data:NoMessage\n",
      "0.035105 position_between +3:selective_filter_data:IsNumber\n",
      "0.034442 position_between +4:request_method_call:execute_kw\n",
      "0.010474 position_between -1:request_method_call:version\n",
      "0.010474 position_between -1:selective_filter_data:version\n",
      "0.005720 position_between 0:request_method_call:server_version\n",
      "-0.132205 position_between 0:event_with_roles:Odoo Application->db Server/Mail Server: [PgsqlRequest:Simple query:UPDATE:['fetchmail_server']]\n",
      "\n",
      "Top negative:\n",
      "3.227225 position_start -1:event_with_roles:NoMessage\n",
      "3.227225 position_start -1:request_method_call:NoMessage\n",
      "3.227225 position_start -1:selective_filter_data:NoMessage\n",
      "3.227225 position_start -1:origin_selective_filter_data:NoMessage\n",
      "2.195751 position_end +1:event_with_roles:NoMessage\n",
      "2.195751 position_end +1:request_method_call:NoMessage\n",
      "2.195751 position_end +1:selective_filter_data:NoMessage\n",
      "2.195751 position_end +1:origin_selective_filter_data:NoMessage\n",
      "0.035105 position_between +3:selective_filter_data:IsNumber\n",
      "0.034442 position_between +4:request_method_call:execute_kw\n",
      "0.010474 position_between -1:request_method_call:version\n",
      "0.010474 position_between -1:selective_filter_data:version\n",
      "0.005720 position_between 0:request_method_call:server_version\n",
      "-0.132205 position_between 0:event_with_roles:Odoo Application->db Server/Mail Server: [PgsqlRequest:Simple query:UPDATE:['fetchmail_server']]\n"
     ]
    }
   ],
   "source": [
    "def print_state_features(state_features):\n",
    "    for (attr, label), weight in state_features:\n",
    "        print(\"%0.6f %-8s %s\" % (weight, label, attr))\n",
    "\n",
    "print(\"Top positive:\")\n",
    "print_state_features(Counter(crf.state_features_).most_common(30))\n",
    "\n",
    "print(\"\\nTop negative:\")\n",
    "print_state_features(Counter(crf.state_features_).most_common()[-30:])"
   ],
   "metadata": {
    "collapsed": false,
    "ExecuteTime": {
     "end_time": "2024-01-10T16:24:33.870679Z",
     "start_time": "2024-01-10T16:24:33.861560Z"
    }
   },
   "id": "316e115c50f6960d"
  },
  {
   "cell_type": "code",
   "execution_count": null,
   "outputs": [],
   "source": [],
   "metadata": {
    "collapsed": false
   },
   "id": "fae52ca965a8ed4f"
  }
 ],
 "metadata": {
  "kernelspec": {
   "display_name": "Python 3",
   "language": "python",
   "name": "python3"
  },
  "language_info": {
   "codemirror_mode": {
    "name": "ipython",
    "version": 2
   },
   "file_extension": ".py",
   "mimetype": "text/x-python",
   "name": "python",
   "nbconvert_exporter": "python",
   "pygments_lexer": "ipython2",
   "version": "2.7.6"
  }
 },
 "nbformat": 4,
 "nbformat_minor": 5
}
