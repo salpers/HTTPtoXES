{
 "cells": [
  {
   "cell_type": "code",
   "execution_count": 36,
   "outputs": [],
   "source": [
    "import numpy as np\n",
    "import pandas as pd\n",
    "import scipy.stats\n",
    "import sklearn_crfsuite\n",
    "from sklearn.metrics import multilabel_confusion_matrix\n",
    "from sklearn.model_selection import train_test_split\n",
    "from sklearn_crfsuite import metrics"
   ],
   "metadata": {
    "collapsed": false,
    "ExecuteTime": {
     "end_time": "2024-02-02T10:20:47.591159Z",
     "start_time": "2024-02-02T10:20:47.531981Z"
    }
   },
   "id": "83c3c5ed3ee6d4ea"
  },
  {
   "cell_type": "code",
   "execution_count": 177,
   "id": "initial_id",
   "metadata": {
    "collapsed": true,
    "ExecuteTime": {
     "end_time": "2024-02-02T10:57:40.522673Z",
     "start_time": "2024-02-02T10:57:39.993291Z"
    }
   },
   "outputs": [],
   "source": [
    "DATA = \"PTP\" \n",
    "\n",
    "if DATA == \"PTP\": \n",
    "    \n",
    "    df_test = pd.read_csv('../../data_v3/ptp_il_tagged.csv')\n",
    "    \n",
    "    df_train = pd.read_csv('../../data_v3/ptp_extended_features.csv')\n",
    "    \n",
    "    df_test.rename(columns={'real_activity_action': \"ActivityAction\"}, inplace=True)\n",
    "    \n",
    "    df_gt = pd.read_csv('../../data_v3/ptp_ground_truth.csv')\n",
    "    \n",
    "elif DATA == \"HR\": \n",
    "    \n",
    "    df_test = pd.read_csv('../../data_v3/hr_il_tagged.csv')\n",
    "\n",
    "    df_train = pd.read_csv('../../data_v3/hr_extended_features.csv')\n",
    "    df_test.drop(columns=['ActivityAction'], inplace=True)\n",
    "    df_test.rename(columns={'real_activity_action': \"ActivityAction\"}, inplace=True)\n",
    "    \n",
    "    df_gt = pd.read_csv('../../data_v3/hr_ground_truth.csv')"
   ]
  },
  {
   "cell_type": "code",
   "execution_count": 178,
   "outputs": [
    {
     "data": {
      "text/plain": "SequenceNumber\n256    198\n313    198\n273    198\n311    198\n266    198\n      ... \n49       9\n22       9\n60       9\n25       9\n40       8\nName: count, Length: 409, dtype: int64"
     },
     "execution_count": 178,
     "metadata": {},
     "output_type": "execute_result"
    }
   ],
   "source": [
    "# ------------ OPTIONAL ---------------\n",
    "# TODO Duplicate with Activity Model - move down and delete\n",
    "# Form sequences in training data by grouping\n",
    "df_train = df_train.sort_values(by=[\"InstanceNumber\", \"BusinessActivity\", \"frame.number\"])\n",
    "df_train[\"SequenceNumber\"] = df_train.groupby([\"BusinessActivity\", \"InstanceNumber\"]).ngroup()\n",
    "df_train[\"SequenceNumber\"] -= df_train['SequenceNumber'].min()\n",
    "\n",
    "# check sequence length of training data\n",
    "df_train[\"SequenceNumber\"].value_counts()"
   ],
   "metadata": {
    "collapsed": false,
    "ExecuteTime": {
     "end_time": "2024-02-02T10:57:40.525141Z",
     "start_time": "2024-02-02T10:57:40.454090Z"
    }
   },
   "id": "3df23902abb57703"
  },
  {
   "cell_type": "code",
   "execution_count": 179,
   "outputs": [
    {
     "data": {
      "text/plain": "       frame.number                                   event_with_roles  \\\n223            2209  Odoo Application->db Server/Mail Server: [Pgsq...   \n62             1541  Odoo Application->db Server/Mail Server: [Pgsq...   \n314             199  Odoo Application->db Server/Mail Server: [Pgsq...   \n433            4075  Odoo Application->db Server/Mail Server: [Pgsq...   \n495            1033  Odoo Application->db Server/Mail Server: [Pgsq...   \n...             ...                                                ...   \n25747           408  Odoo Application->db Server/Mail Server: [Pgsq...   \n25611           219  Odoo Application->db Server/Mail Server: [Pgsq...   \n25836          6122  Odoo Application->db Server/Mail Server: [Pgsq...   \n25729          5369  Odoo Application->db Server/Mail Server: [Pgsq...   \n25866          2799  Odoo Application->db Server/Mail Server: [Pgsq...   \n\n      request_method_call selective_filter_data origin_request_method  \\\n223                   NaN                   NaN                   NaN   \n62                    NaN                   NaN                   NaN   \n314                   NaN                   NaN                   NaN   \n433                   NaN                   NaN                   NaN   \n495                   NaN                   NaN                   NaN   \n...                   ...                   ...                   ...   \n25747                 NaN                   NaN                   NaN   \n25611                 NaN                   NaN                   NaN   \n25836                 NaN                   NaN                   NaN   \n25729                 NaN                   NaN                   NaN   \n25866                 NaN                   NaN                   NaN   \n\n      origin_selective_filter_data ActivityAction  SequenceNumber  \n223                            NaN       NoAction               0  \n62                             NaN       NoAction              67  \n314                            NaN       NoAction             315  \n433                            NaN       NoAction             362  \n495                            NaN       NoAction              68  \n...                            ...            ...             ...  \n25747                          NaN       NoAction              66  \n25611                          NaN       NoAction             133  \n25836                          NaN   Activity End             180  \n25729                          NaN       NoAction             314  \n25866                          NaN       NoAction             361  \n\n[264 rows x 8 columns]",
      "text/html": "<div>\n<style scoped>\n    .dataframe tbody tr th:only-of-type {\n        vertical-align: middle;\n    }\n\n    .dataframe tbody tr th {\n        vertical-align: top;\n    }\n\n    .dataframe thead th {\n        text-align: right;\n    }\n</style>\n<table border=\"1\" class=\"dataframe\">\n  <thead>\n    <tr style=\"text-align: right;\">\n      <th></th>\n      <th>frame.number</th>\n      <th>event_with_roles</th>\n      <th>request_method_call</th>\n      <th>selective_filter_data</th>\n      <th>origin_request_method</th>\n      <th>origin_selective_filter_data</th>\n      <th>ActivityAction</th>\n      <th>SequenceNumber</th>\n    </tr>\n  </thead>\n  <tbody>\n    <tr>\n      <th>223</th>\n      <td>2209</td>\n      <td>Odoo Application-&gt;db Server/Mail Server: [Pgsq...</td>\n      <td>NaN</td>\n      <td>NaN</td>\n      <td>NaN</td>\n      <td>NaN</td>\n      <td>NoAction</td>\n      <td>0</td>\n    </tr>\n    <tr>\n      <th>62</th>\n      <td>1541</td>\n      <td>Odoo Application-&gt;db Server/Mail Server: [Pgsq...</td>\n      <td>NaN</td>\n      <td>NaN</td>\n      <td>NaN</td>\n      <td>NaN</td>\n      <td>NoAction</td>\n      <td>67</td>\n    </tr>\n    <tr>\n      <th>314</th>\n      <td>199</td>\n      <td>Odoo Application-&gt;db Server/Mail Server: [Pgsq...</td>\n      <td>NaN</td>\n      <td>NaN</td>\n      <td>NaN</td>\n      <td>NaN</td>\n      <td>NoAction</td>\n      <td>315</td>\n    </tr>\n    <tr>\n      <th>433</th>\n      <td>4075</td>\n      <td>Odoo Application-&gt;db Server/Mail Server: [Pgsq...</td>\n      <td>NaN</td>\n      <td>NaN</td>\n      <td>NaN</td>\n      <td>NaN</td>\n      <td>NoAction</td>\n      <td>362</td>\n    </tr>\n    <tr>\n      <th>495</th>\n      <td>1033</td>\n      <td>Odoo Application-&gt;db Server/Mail Server: [Pgsq...</td>\n      <td>NaN</td>\n      <td>NaN</td>\n      <td>NaN</td>\n      <td>NaN</td>\n      <td>NoAction</td>\n      <td>68</td>\n    </tr>\n    <tr>\n      <th>...</th>\n      <td>...</td>\n      <td>...</td>\n      <td>...</td>\n      <td>...</td>\n      <td>...</td>\n      <td>...</td>\n      <td>...</td>\n      <td>...</td>\n    </tr>\n    <tr>\n      <th>25747</th>\n      <td>408</td>\n      <td>Odoo Application-&gt;db Server/Mail Server: [Pgsq...</td>\n      <td>NaN</td>\n      <td>NaN</td>\n      <td>NaN</td>\n      <td>NaN</td>\n      <td>NoAction</td>\n      <td>66</td>\n    </tr>\n    <tr>\n      <th>25611</th>\n      <td>219</td>\n      <td>Odoo Application-&gt;db Server/Mail Server: [Pgsq...</td>\n      <td>NaN</td>\n      <td>NaN</td>\n      <td>NaN</td>\n      <td>NaN</td>\n      <td>NoAction</td>\n      <td>133</td>\n    </tr>\n    <tr>\n      <th>25836</th>\n      <td>6122</td>\n      <td>Odoo Application-&gt;db Server/Mail Server: [Pgsq...</td>\n      <td>NaN</td>\n      <td>NaN</td>\n      <td>NaN</td>\n      <td>NaN</td>\n      <td>Activity End</td>\n      <td>180</td>\n    </tr>\n    <tr>\n      <th>25729</th>\n      <td>5369</td>\n      <td>Odoo Application-&gt;db Server/Mail Server: [Pgsq...</td>\n      <td>NaN</td>\n      <td>NaN</td>\n      <td>NaN</td>\n      <td>NaN</td>\n      <td>NoAction</td>\n      <td>314</td>\n    </tr>\n    <tr>\n      <th>25866</th>\n      <td>2799</td>\n      <td>Odoo Application-&gt;db Server/Mail Server: [Pgsq...</td>\n      <td>NaN</td>\n      <td>NaN</td>\n      <td>NaN</td>\n      <td>NaN</td>\n      <td>NoAction</td>\n      <td>361</td>\n    </tr>\n  </tbody>\n</table>\n<p>264 rows × 8 columns</p>\n</div>"
     },
     "execution_count": 179,
     "metadata": {},
     "output_type": "execute_result"
    }
   ],
   "source": [
    "df_train[df_train[\"event_with_roles\"] == \"Odoo Application->db Server/Mail Server: [PgsqlRequest:Simple query:UPDATE:['fetchmail_server']]\"][[\"frame.number\",*cols,\"ActivityAction\", \"SequenceNumber\"]]\n"
   ],
   "metadata": {
    "collapsed": false,
    "ExecuteTime": {
     "end_time": "2024-02-02T10:57:41.488467Z",
     "start_time": "2024-02-02T10:57:41.402554Z"
    }
   },
   "id": "ce57cf7a0c8d9f2c"
  },
  {
   "cell_type": "code",
   "execution_count": 192,
   "outputs": [],
   "source": [
    "drop_val = \"Odoo Application->db Server/Mail Server: [PgsqlRequest:Simple query:UPDATE:['fetchmail_server']]\"\n",
    "\n",
    "# Drop \"Fetchmail server from Training Data \n",
    "df_train_filt = df_train[df_train[\"event_with_roles\"] != drop_val]"
   ],
   "metadata": {
    "collapsed": false,
    "ExecuteTime": {
     "end_time": "2024-02-02T11:05:46.538757Z",
     "start_time": "2024-02-02T11:05:46.395216Z"
    }
   },
   "id": "3e215a05d0469e61"
  },
  {
   "cell_type": "code",
   "execution_count": 193,
   "outputs": [],
   "source": [
    "cols = [\"event_with_roles\", \"request_method_call\", \"selective_filter_data\",\"origin_request_method\",\"origin_selective_filter_data\"]\n",
    "\n",
    "cols_ext = [\"frame.number\",*cols,\"ActivityAction\", \"SequenceNumber\"]"
   ],
   "metadata": {
    "collapsed": false,
    "ExecuteTime": {
     "end_time": "2024-02-02T11:05:46.832551Z",
     "start_time": "2024-02-02T11:05:46.754271Z"
    }
   },
   "id": "8d72e289333e4c42"
  },
  {
   "cell_type": "code",
   "execution_count": 194,
   "outputs": [
    {
     "name": "stderr",
     "output_type": "stream",
     "text": [
      "/var/folders/qt/gt7q1tn978x_02pv47b2lrvm0000gn/T/ipykernel_9924/779422405.py:3: SettingWithCopyWarning: \n",
      "A value is trying to be set on a copy of a slice from a DataFrame.\n",
      "Try using .loc[row_indexer,col_indexer] = value instead\n",
      "\n",
      "See the caveats in the documentation: https://pandas.pydata.org/pandas-docs/stable/user_guide/indexing.html#returning-a-view-versus-a-copy\n",
      "  df[\"activityStart\"] = df.groupby([\"BusinessActivity\", \"InstanceNumber\", ]).cumcount() == 0\n",
      "/var/folders/qt/gt7q1tn978x_02pv47b2lrvm0000gn/T/ipykernel_9924/779422405.py:5: SettingWithCopyWarning: \n",
      "A value is trying to be set on a copy of a slice from a DataFrame.\n",
      "Try using .loc[row_indexer,col_indexer] = value instead\n",
      "\n",
      "See the caveats in the documentation: https://pandas.pydata.org/pandas-docs/stable/user_guide/indexing.html#returning-a-view-versus-a-copy\n",
      "  df[\"activityEnd\"] = df.groupby([\"BusinessActivity\", \"InstanceNumber\", ]).cumcount(ascending=False) == 0\n",
      "/var/folders/qt/gt7q1tn978x_02pv47b2lrvm0000gn/T/ipykernel_9924/779422405.py:7: SettingWithCopyWarning: \n",
      "A value is trying to be set on a copy of a slice from a DataFrame.\n",
      "Try using .loc[row_indexer,col_indexer] = value instead\n",
      "\n",
      "See the caveats in the documentation: https://pandas.pydata.org/pandas-docs/stable/user_guide/indexing.html#returning-a-view-versus-a-copy\n",
      "  df[\"ActivityAction\"] = df.apply(lambda row: \"Activity Start\" if row[\"activityStart\"] else (\n"
     ]
    }
   ],
   "source": [
    "def mark_start_end(df):\n",
    "    # Mark start event of each BusinessActivity Instance\n",
    "    df[\"activityStart\"] = df.groupby([\"BusinessActivity\", \"InstanceNumber\", ]).cumcount() == 0\n",
    "    # Mark end event of each Business Activity Instance\n",
    "    df[\"activityEnd\"] = df.groupby([\"BusinessActivity\", \"InstanceNumber\", ]).cumcount(ascending=False) == 0\n",
    "    # Merge start and end columns to form labels\n",
    "    df[\"ActivityAction\"] = df.apply(lambda row: \"Activity Start\" if row[\"activityStart\"] else (\n",
    "        \"Activity End\" if row[\"activityEnd\"] else 'NoAction'), axis=1)\n",
    "\n",
    "    return df.drop([\"activityStart\", 'activityEnd'], axis=1)\n",
    "\n",
    "df_train = mark_start_end(df_train_filt)"
   ],
   "metadata": {
    "collapsed": false,
    "ExecuteTime": {
     "end_time": "2024-02-02T11:05:51.035088Z",
     "start_time": "2024-02-02T11:05:50.652197Z"
    }
   },
   "id": "7d63988cde49c611"
  },
  {
   "cell_type": "code",
   "execution_count": 195,
   "outputs": [],
   "source": [
    "def dict_to_features(dict):\n",
    "    return [[{**d, \"bias\": 1.0}] for d in dict]\n",
    "\n",
    "\n",
    "def extract_labels(labels):\n",
    "    return [[y] for y in labels]"
   ],
   "metadata": {
    "collapsed": false,
    "ExecuteTime": {
     "end_time": "2024-02-02T11:05:51.186696Z",
     "start_time": "2024-02-02T11:05:51.150387Z"
    }
   },
   "id": "92b7b128ba65af17"
  },
  {
   "cell_type": "code",
   "execution_count": 196,
   "outputs": [],
   "source": [
    "#cols = [\"event_with_roles\", \"request_method_call\", \"selective_filter_data\",\"origin_selective_filter_data\"]\n",
    "train_features = df_train[cols].to_dict(\"records\")\n",
    "train_features = dict_to_features(train_features)\n",
    "train_labels = extract_labels(df_train[\"ActivityAction\"])"
   ],
   "metadata": {
    "collapsed": false,
    "ExecuteTime": {
     "end_time": "2024-02-02T11:05:52.806017Z",
     "start_time": "2024-02-02T11:05:52.546728Z"
    }
   },
   "id": "80d46417366571c7"
  },
  {
   "cell_type": "code",
   "execution_count": 197,
   "outputs": [],
   "source": [
    "test_features = df_test[cols].to_dict(\"records\")\n",
    "test_features = dict_to_features(test_features)\n",
    "test_labels = extract_labels(df_test[\"ActivityAction\"])"
   ],
   "metadata": {
    "collapsed": false,
    "ExecuteTime": {
     "end_time": "2024-02-02T11:05:52.806876Z",
     "start_time": "2024-02-02T11:05:52.766688Z"
    }
   },
   "id": "297e3270d01edb42"
  },
  {
   "cell_type": "code",
   "execution_count": 198,
   "outputs": [
    {
     "name": "stdout",
     "output_type": "stream",
     "text": [
      "CPU times: user 796 ms, sys: 9.94 ms, total: 806 ms\n",
      "Wall time: 1.27 s\n"
     ]
    },
    {
     "data": {
      "text/plain": "CRF(all_possible_transitions=True, c1=0.1, c2=0.01, max_iterations=200)",
      "text/html": "<style>#sk-container-id-11 {color: black;}#sk-container-id-11 pre{padding: 0;}#sk-container-id-11 div.sk-toggleable {background-color: white;}#sk-container-id-11 label.sk-toggleable__label {cursor: pointer;display: block;width: 100%;margin-bottom: 0;padding: 0.3em;box-sizing: border-box;text-align: center;}#sk-container-id-11 label.sk-toggleable__label-arrow:before {content: \"▸\";float: left;margin-right: 0.25em;color: #696969;}#sk-container-id-11 label.sk-toggleable__label-arrow:hover:before {color: black;}#sk-container-id-11 div.sk-estimator:hover label.sk-toggleable__label-arrow:before {color: black;}#sk-container-id-11 div.sk-toggleable__content {max-height: 0;max-width: 0;overflow: hidden;text-align: left;background-color: #f0f8ff;}#sk-container-id-11 div.sk-toggleable__content pre {margin: 0.2em;color: black;border-radius: 0.25em;background-color: #f0f8ff;}#sk-container-id-11 input.sk-toggleable__control:checked~div.sk-toggleable__content {max-height: 200px;max-width: 100%;overflow: auto;}#sk-container-id-11 input.sk-toggleable__control:checked~label.sk-toggleable__label-arrow:before {content: \"▾\";}#sk-container-id-11 div.sk-estimator input.sk-toggleable__control:checked~label.sk-toggleable__label {background-color: #d4ebff;}#sk-container-id-11 div.sk-label input.sk-toggleable__control:checked~label.sk-toggleable__label {background-color: #d4ebff;}#sk-container-id-11 input.sk-hidden--visually {border: 0;clip: rect(1px 1px 1px 1px);clip: rect(1px, 1px, 1px, 1px);height: 1px;margin: -1px;overflow: hidden;padding: 0;position: absolute;width: 1px;}#sk-container-id-11 div.sk-estimator {font-family: monospace;background-color: #f0f8ff;border: 1px dotted black;border-radius: 0.25em;box-sizing: border-box;margin-bottom: 0.5em;}#sk-container-id-11 div.sk-estimator:hover {background-color: #d4ebff;}#sk-container-id-11 div.sk-parallel-item::after {content: \"\";width: 100%;border-bottom: 1px solid gray;flex-grow: 1;}#sk-container-id-11 div.sk-label:hover label.sk-toggleable__label {background-color: #d4ebff;}#sk-container-id-11 div.sk-serial::before {content: \"\";position: absolute;border-left: 1px solid gray;box-sizing: border-box;top: 0;bottom: 0;left: 50%;z-index: 0;}#sk-container-id-11 div.sk-serial {display: flex;flex-direction: column;align-items: center;background-color: white;padding-right: 0.2em;padding-left: 0.2em;position: relative;}#sk-container-id-11 div.sk-item {position: relative;z-index: 1;}#sk-container-id-11 div.sk-parallel {display: flex;align-items: stretch;justify-content: center;background-color: white;position: relative;}#sk-container-id-11 div.sk-item::before, #sk-container-id-11 div.sk-parallel-item::before {content: \"\";position: absolute;border-left: 1px solid gray;box-sizing: border-box;top: 0;bottom: 0;left: 50%;z-index: -1;}#sk-container-id-11 div.sk-parallel-item {display: flex;flex-direction: column;z-index: 1;position: relative;background-color: white;}#sk-container-id-11 div.sk-parallel-item:first-child::after {align-self: flex-end;width: 50%;}#sk-container-id-11 div.sk-parallel-item:last-child::after {align-self: flex-start;width: 50%;}#sk-container-id-11 div.sk-parallel-item:only-child::after {width: 0;}#sk-container-id-11 div.sk-dashed-wrapped {border: 1px dashed gray;margin: 0 0.4em 0.5em 0.4em;box-sizing: border-box;padding-bottom: 0.4em;background-color: white;}#sk-container-id-11 div.sk-label label {font-family: monospace;font-weight: bold;display: inline-block;line-height: 1.2em;}#sk-container-id-11 div.sk-label-container {text-align: center;}#sk-container-id-11 div.sk-container {/* jupyter's `normalize.less` sets `[hidden] { display: none; }` but bootstrap.min.css set `[hidden] { display: none !important; }` so we also need the `!important` here to be able to override the default hidden behavior on the sphinx rendered scikit-learn.org. See: https://github.com/scikit-learn/scikit-learn/issues/21755 */display: inline-block !important;position: relative;}#sk-container-id-11 div.sk-text-repr-fallback {display: none;}</style><div id=\"sk-container-id-11\" class=\"sk-top-container\"><div class=\"sk-text-repr-fallback\"><pre>CRF(all_possible_transitions=True, c1=0.1, c2=0.01, max_iterations=200)</pre><b>In a Jupyter environment, please rerun this cell to show the HTML representation or trust the notebook. <br />On GitHub, the HTML representation is unable to render, please try loading this page with nbviewer.org.</b></div><div class=\"sk-container\" hidden><div class=\"sk-item\"><div class=\"sk-estimator sk-toggleable\"><input class=\"sk-toggleable__control sk-hidden--visually\" id=\"sk-estimator-id-11\" type=\"checkbox\" checked><label for=\"sk-estimator-id-11\" class=\"sk-toggleable__label sk-toggleable__label-arrow\">CRF</label><div class=\"sk-toggleable__content\"><pre>CRF(all_possible_transitions=True, c1=0.1, c2=0.01, max_iterations=200)</pre></div></div></div></div></div>"
     },
     "execution_count": 198,
     "metadata": {},
     "output_type": "execute_result"
    }
   ],
   "source": [
    "%%time\n",
    "import sklearn_crfsuite\n",
    "\n",
    "crf = sklearn_crfsuite.CRF(\n",
    "    max_iterations=200,\n",
    "    c1=0.1,\n",
    "    c2=0.01,\n",
    "    all_possible_transitions=True\n",
    "    #all_possible_transitions=True\n",
    ")\n",
    "crf.fit(train_features, train_labels)"
   ],
   "metadata": {
    "collapsed": false,
    "ExecuteTime": {
     "end_time": "2024-02-02T11:05:54.758564Z",
     "start_time": "2024-02-02T11:05:53.533880Z"
    }
   },
   "id": "7866d2f112220e6e"
  },
  {
   "cell_type": "code",
   "execution_count": 199,
   "outputs": [
    {
     "name": "stdout",
     "output_type": "stream",
     "text": [
      "0.8487744079767344\n",
      "                precision    recall  f1-score   support\n",
      "\n",
      "Activity Start       1.00      1.00      1.00        63\n",
      "      NoAction       0.99      1.00      0.99      3591\n",
      "  Activity End       1.00      0.38      0.55        63\n",
      "\n",
      "      accuracy                           0.99      3717\n",
      "     macro avg       1.00      0.79      0.85      3717\n",
      "  weighted avg       0.99      0.99      0.99      3717\n",
      "\n",
      "Activity Start \n",
      " [[3654    0]\n",
      " [   0   63]]\n",
      "NoAction \n",
      " [[  87   39]\n",
      " [   0 3591]]\n",
      "Activity End \n",
      " [[3654    0]\n",
      " [  39   24]]\n"
     ]
    }
   ],
   "source": [
    "from sklearn.metrics import multilabel_confusion_matrix\n",
    "from sklearn_crfsuite import metrics\n",
    "\n",
    "\n",
    "def flatten(xss):\n",
    "    return [x for xs in xss for x in xs]\n",
    "\n",
    "\n",
    "def evaluate(model, x, y_true):\n",
    "    y_pred = model.predict(x)\n",
    "    print(metrics.flat_f1_score(y_true, y_pred, average='macro', labels=model.classes_))\n",
    "    print(metrics.flat_classification_report(y_true, y_pred, model.classes_))\n",
    "    [print(label, \"\\n\", matrix) for matrix, label in\n",
    "     zip(multilabel_confusion_matrix(flatten(y_true), flatten(y_pred), labels=model.classes_), model.classes_)]\n",
    "\n",
    "\n",
    "evaluate(crf, test_features, test_labels)"
   ],
   "metadata": {
    "collapsed": false,
    "ExecuteTime": {
     "end_time": "2024-02-02T11:05:54.828773Z",
     "start_time": "2024-02-02T11:05:54.765718Z"
    }
   },
   "id": "f5b922d820aafe6"
  },
  {
   "cell_type": "code",
   "execution_count": 129,
   "outputs": [
    {
     "name": "stdout",
     "output_type": "stream",
     "text": [
      "Fitting 5 folds for each of 150 candidates, totalling 750 fits\n"
     ]
    }
   ],
   "source": [
    "from sklearn.metrics import make_scorer\n",
    "import scipy\n",
    "from sklearn.model_selection import RandomizedSearchCV\n",
    "from sklearn_crfsuite import metrics\n",
    "\n",
    "# define fixed parameters and parameters to search\n",
    "crf = sklearn_crfsuite.CRF(\n",
    "    algorithm='lbfgs',\n",
    "    max_iterations=200,\n",
    "    all_possible_transitions=True\n",
    ")\n",
    "params_space = {\n",
    "    'c1': scipy.stats.expon(scale=0.5),\n",
    "    'c2': scipy.stats.expon(scale=0.05),\n",
    "}\n",
    "\n",
    "# use the same metric for evaluation\n",
    "f1_scorer = make_scorer(metrics.flat_f1_score,\n",
    "                        average='macro', labels=np.unique(test_labels))\n",
    "\n",
    "# search\n",
    "rs = RandomizedSearchCV(crf, params_space,\n",
    "                        cv=5,\n",
    "                        verbose=1,\n",
    "                        n_jobs=-1,\n",
    "                        n_iter=150,\n",
    "                        scoring=f1_scorer)\n",
    "rs.fit(train_features, train_labels)\n",
    "\n",
    "crf = rs.best_estimator_"
   ],
   "metadata": {
    "collapsed": false,
    "ExecuteTime": {
     "end_time": "2024-02-02T10:48:57.417179Z",
     "start_time": "2024-02-02T10:47:27.060536Z"
    }
   },
   "id": "d1fd2fcefe6ef34b"
  },
  {
   "cell_type": "code",
   "execution_count": 131,
   "outputs": [
    {
     "name": "stdout",
     "output_type": "stream",
     "text": [
      "Top positive:\n",
      "9.441744 Activity End origin_selective_filter_data:sale.order.line_create\n",
      "8.230058 Activity End origin_selective_filter_data:account.payment_create\n",
      "7.622693 Activity Start request_method_call:version\n",
      "7.622693 Activity Start selective_filter_data:version\n",
      "7.435797 NoAction bias\n",
      "6.027338 Activity End request_method_call:faultCode\n",
      "6.027338 Activity End selective_filter_data:faultCode\n",
      "4.309039 Activity End event_with_roles:Odoo Application->db Server/Mail Server: [PgsqlRequest:Simple query:UPDATE:['mail_mail']]\n",
      "4.091216 Activity End origin_selective_filter_data:purchase.requisition_write_ongoing\n",
      "3.416046 Activity End selective_filter_data:IsNumber\n",
      "2.960928 Activity End origin_selective_filter_data:purchase.requisition_write_open\n",
      "2.592821 NoAction request_method_call:2\n",
      "1.963039 Activity End origin_selective_filter_data:purchase.order_write\n",
      "1.146282 NoAction origin_request_method:execute_kw\n",
      "0.890859 Activity End request_method_call:1\n",
      "0.758337 Activity End event_with_roles:Odoo Application->End Point (Finance): [HttpResponse:HTTP/1.0 200 OK\\r\\n]\n",
      "-0.001635 NoAction request_method_call:1\n",
      "-0.875010 Activity End origin_request_method:execute_kw\n",
      "-0.974623 Activity End bias\n",
      "-1.586635 NoAction selective_filter_data:IsNumber\n",
      "-1.630934 NoAction event_with_roles:Odoo Application->db Server/Mail Server: [PgsqlRequest:Simple query:UPDATE:['mail_mail']]\n",
      "-1.760414 NoAction origin_selective_filter_data:purchase.order_write\n",
      "-1.983222 Activity Start bias\n",
      "-2.427805 NoAction origin_selective_filter_data:purchase.requisition_write_open\n",
      "-3.827730 NoAction origin_selective_filter_data:purchase.requisition_write_ongoing\n",
      "\n",
      "Top negative:\n",
      "9.441744 Activity End origin_selective_filter_data:sale.order.line_create\n",
      "8.230058 Activity End origin_selective_filter_data:account.payment_create\n",
      "7.622693 Activity Start request_method_call:version\n",
      "7.622693 Activity Start selective_filter_data:version\n",
      "7.435797 NoAction bias\n",
      "6.027338 Activity End request_method_call:faultCode\n",
      "6.027338 Activity End selective_filter_data:faultCode\n",
      "4.309039 Activity End event_with_roles:Odoo Application->db Server/Mail Server: [PgsqlRequest:Simple query:UPDATE:['mail_mail']]\n",
      "4.091216 Activity End origin_selective_filter_data:purchase.requisition_write_ongoing\n",
      "3.416046 Activity End selective_filter_data:IsNumber\n",
      "2.960928 Activity End origin_selective_filter_data:purchase.requisition_write_open\n",
      "2.592821 NoAction request_method_call:2\n",
      "1.963039 Activity End origin_selective_filter_data:purchase.order_write\n",
      "1.146282 NoAction origin_request_method:execute_kw\n",
      "0.890859 Activity End request_method_call:1\n",
      "0.758337 Activity End event_with_roles:Odoo Application->End Point (Finance): [HttpResponse:HTTP/1.0 200 OK\\r\\n]\n",
      "-0.001635 NoAction request_method_call:1\n",
      "-0.875010 Activity End origin_request_method:execute_kw\n",
      "-0.974623 Activity End bias\n",
      "-1.586635 NoAction selective_filter_data:IsNumber\n",
      "-1.630934 NoAction event_with_roles:Odoo Application->db Server/Mail Server: [PgsqlRequest:Simple query:UPDATE:['mail_mail']]\n",
      "-1.760414 NoAction origin_selective_filter_data:purchase.order_write\n",
      "-1.983222 Activity Start bias\n",
      "-2.427805 NoAction origin_selective_filter_data:purchase.requisition_write_open\n",
      "-3.827730 NoAction origin_selective_filter_data:purchase.requisition_write_ongoing\n"
     ]
    }
   ],
   "source": [
    "from collections import Counter\n",
    "\n",
    "def print_state_features(state_features):\n",
    "    for (attr, label), weight in state_features:\n",
    "        print(\"%0.6f %-8s %s\" % (weight, label, attr))\n",
    "\n",
    "\n",
    "print(\"Top positive:\")\n",
    "print_state_features(Counter(crf.state_features_).most_common(30))\n",
    "\n",
    "print(\"\\nTop negative:\")\n",
    "print_state_features(Counter(crf.state_features_).most_common()[-30:])"
   ],
   "metadata": {
    "collapsed": false,
    "ExecuteTime": {
     "end_time": "2024-02-02T10:49:00.022535Z",
     "start_time": "2024-02-02T10:48:59.946397Z"
    }
   },
   "id": "3467205cb7042322"
  },
  {
   "cell_type": "code",
   "execution_count": null,
   "outputs": [],
   "source": [],
   "metadata": {
    "collapsed": false
   },
   "id": "20f47f686eb525bc"
  }
 ],
 "metadata": {
  "kernelspec": {
   "display_name": "Python 3",
   "language": "python",
   "name": "python3"
  },
  "language_info": {
   "codemirror_mode": {
    "name": "ipython",
    "version": 2
   },
   "file_extension": ".py",
   "mimetype": "text/x-python",
   "name": "python",
   "nbconvert_exporter": "python",
   "pygments_lexer": "ipython2",
   "version": "2.7.6"
  }
 },
 "nbformat": 4,
 "nbformat_minor": 5
}
