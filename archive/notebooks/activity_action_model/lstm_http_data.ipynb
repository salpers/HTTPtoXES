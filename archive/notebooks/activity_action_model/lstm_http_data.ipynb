{
 "cells": [
  {
   "cell_type": "code",
   "execution_count": 129,
   "id": "initial_id",
   "metadata": {
    "collapsed": true,
    "ExecuteTime": {
     "end_time": "2024-01-06T09:58:27.540340Z",
     "start_time": "2024-01-06T09:58:27.535217Z"
    }
   },
   "outputs": [],
   "source": [
    "import numpy as np\n",
    "import pandas as pd\n",
    "from keras.src.utils import to_categorical\n",
    "from numpy.lib.stride_tricks import sliding_window_view\n",
    "from sklearn.model_selection import train_test_split\n",
    "from sklearn.preprocessing import LabelEncoder\n"
   ]
  },
  {
   "cell_type": "code",
   "execution_count": 129,
   "outputs": [],
   "source": [],
   "metadata": {
    "collapsed": false,
    "ExecuteTime": {
     "end_time": "2024-01-06T09:58:27.858064Z",
     "start_time": "2024-01-06T09:58:27.848292Z"
    }
   },
   "id": "26151711a89616a6"
  },
  {
   "cell_type": "code",
   "execution_count": 130,
   "outputs": [],
   "source": [
    "df_train = pd.read_csv('../../data_v2/p2p_r4_train.csv')\n",
    "df_test = pd.read_csv('../../data_v2/p2p_r4_il.csv')"
   ],
   "metadata": {
    "collapsed": false,
    "ExecuteTime": {
     "end_time": "2024-01-06T09:58:28.173240Z",
     "start_time": "2024-01-06T09:58:28.126626Z"
    }
   },
   "id": "1aa4b737b1ae76bc"
  },
  {
   "cell_type": "code",
   "execution_count": 131,
   "outputs": [],
   "source": [
    "fw = 10\n",
    "bw = 5\n",
    "ws = fw + bw + 1"
   ],
   "metadata": {
    "collapsed": false,
    "ExecuteTime": {
     "end_time": "2024-01-06T09:58:28.289828Z",
     "start_time": "2024-01-06T09:58:28.284559Z"
    }
   },
   "id": "206b6774d12923da"
  },
  {
   "cell_type": "markdown",
   "source": [],
   "metadata": {
    "collapsed": false
   },
   "id": "3846f7cc047e9fe4"
  },
  {
   "cell_type": "markdown",
   "source": [
    "## Preprocess Data\n",
    "\n",
    "### Fill NA"
   ],
   "metadata": {
    "collapsed": false
   },
   "id": "1d969a535dd2ef0e"
  },
  {
   "cell_type": "code",
   "execution_count": 132,
   "outputs": [],
   "source": [
    "feature_cols = [\"method_call\", \"selective_file_data\", \"origin_file_data\"]\n",
    "\n",
    "df_train[feature_cols] = df_train[feature_cols].fillna(\"\")\n",
    "df_test[feature_cols] = df_test[feature_cols].fillna(\"\")"
   ],
   "metadata": {
    "collapsed": false,
    "ExecuteTime": {
     "end_time": "2024-01-06T09:58:29.422492Z",
     "start_time": "2024-01-06T09:58:29.415234Z"
    }
   },
   "id": "df6e5021088c48b1"
  },
  {
   "cell_type": "markdown",
   "source": [
    "### One hot Encode Labels"
   ],
   "metadata": {
    "collapsed": false
   },
   "id": "7e015e6c4c4d4504"
  },
  {
   "cell_type": "code",
   "execution_count": 133,
   "outputs": [],
   "source": [
    "le = LabelEncoder().fit(df_train[\"task_position\"])\n",
    "train_labels = to_categorical(LabelEncoder().fit_transform(df_train[\"task_position\"]))[bw: - fw]\n",
    "test_labels = to_categorical(LabelEncoder().fit_transform(df_test[\"task_position\"]))[bw:-fw]"
   ],
   "metadata": {
    "collapsed": false,
    "ExecuteTime": {
     "end_time": "2024-01-06T09:58:30.065040Z",
     "start_time": "2024-01-06T09:58:30.060358Z"
    }
   },
   "id": "42a2f0ef29dcb048"
  },
  {
   "cell_type": "code",
   "execution_count": 134,
   "outputs": [],
   "source": [
    "def sliding_window(observation, window_length):\n",
    "    return np.squeeze(sliding_window_view(observation, (window_length, observation.shape[1])), axis=1)\n",
    "\n",
    "\n",
    "def encode_features(features, window_size):\n",
    "    features_encoded = [to_categorical(LabelEncoder().fit_transform(ele)) for ele in features]\n",
    "    features_window = [sliding_window(ele, window_size) for ele in features_encoded]\n",
    "    return np.concatenate(features_window, axis=2)\n",
    "\n",
    "\n",
    "train_features = encode_features(\n",
    "    [df_train[\"method_call\"], df_train[\"selective_file_data\"], df_train[\"origin_file_data\"]], ws)\n",
    "test_features = encode_features([df_test[\"method_call\"], df_test[\"selective_file_data\"], df_test[\"origin_file_data\"]],\n",
    "                                ws)"
   ],
   "metadata": {
    "collapsed": false,
    "ExecuteTime": {
     "end_time": "2024-01-06T09:58:30.472685Z",
     "start_time": "2024-01-06T09:58:30.397048Z"
    }
   },
   "id": "6e12b6cacfdab280"
  },
  {
   "cell_type": "code",
   "execution_count": 135,
   "outputs": [],
   "source": [
    "# flatten features\n",
    "f = train_features.reshape((train_features.shape[0], -1))\n",
    "# join features and labels\n",
    "j = np.concatenate([f, train_labels], axis=1)\n",
    "# only keep unique combinations \n",
    "unique = np.unique(j, axis=0)\n",
    "\n",
    "unique_labels = unique[:, -3:]\n",
    "unique_features = unique[:, :-3].reshape(unique.shape[0], train_features.shape[1], train_features.shape[2])"
   ],
   "metadata": {
    "collapsed": false,
    "ExecuteTime": {
     "end_time": "2024-01-06T09:58:34.627691Z",
     "start_time": "2024-01-06T09:58:31.158876Z"
    }
   },
   "id": "66f23615a6235f84"
  },
  {
   "cell_type": "code",
   "execution_count": 136,
   "outputs": [],
   "source": [
    "X_train, X_test, y_train, y_test = train_test_split(unique_features, unique_labels)"
   ],
   "metadata": {
    "collapsed": false,
    "ExecuteTime": {
     "end_time": "2024-01-06T09:58:34.635517Z",
     "start_time": "2024-01-06T09:58:34.632501Z"
    }
   },
   "id": "3188ffbf1ce071e6"
  },
  {
   "cell_type": "code",
   "execution_count": 137,
   "outputs": [
    {
     "name": "stderr",
     "output_type": "stream",
     "text": [
      "2024-01-06 10:59:27.510386: I metal_plugin/src/device/metal_device.cc:1154] Metal device set to: Apple M1 Pro\n",
      "2024-01-06 10:59:27.510523: I metal_plugin/src/device/metal_device.cc:296] systemMemory: 16.00 GB\n",
      "2024-01-06 10:59:27.510533: I metal_plugin/src/device/metal_device.cc:313] maxCacheSize: 5.33 GB\n",
      "2024-01-06 10:59:27.511152: I tensorflow/core/common_runtime/pluggable_device/pluggable_device_factory.cc:306] Could not identify NUMA node of platform GPU ID 0, defaulting to 0. Your kernel may not have been built with NUMA support.\n",
      "2024-01-06 10:59:27.512051: I tensorflow/core/common_runtime/pluggable_device/pluggable_device_factory.cc:272] Created TensorFlow device (/job:localhost/replica:0/task:0/device:GPU:0 with 0 MB memory) -> physical PluggableDevice (device: 0, name: METAL, pci bus id: <undefined>)\n"
     ]
    }
   ],
   "source": [
    "from keras.src.layers import Bidirectional, LSTM, Dense\n",
    "from keras import Sequential, Input\n",
    "\n",
    "model = Sequential([\n",
    "    Input((X_train.shape[1], X_train.shape[2])),\n",
    "    Bidirectional(LSTM(units=32, dropout=0.3, recurrent_dropout=0.3)),\n",
    "    Dense(3, activation=\"softmax\")\n",
    "])\n",
    "\n",
    "model.compile(loss='categorical_crossentropy', optimizer='adam', weighted_metrics=[\"acc\"])"
   ],
   "metadata": {
    "collapsed": false,
    "ExecuteTime": {
     "end_time": "2024-01-06T09:59:28.060024Z",
     "start_time": "2024-01-06T09:59:27.491541Z"
    }
   },
   "id": "10e24d398e999079"
  },
  {
   "cell_type": "code",
   "execution_count": 139,
   "outputs": [
    {
     "data": {
      "text/plain": "0epoch [00:00, ?epoch/s]",
      "application/vnd.jupyter.widget-view+json": {
       "version_major": 2,
       "version_minor": 0,
       "model_id": "7743ff840ee7447a960d2b79c10e87ba"
      }
     },
     "metadata": {},
     "output_type": "display_data"
    },
    {
     "data": {
      "text/plain": "0batch [00:00, ?batch/s]",
      "application/vnd.jupyter.widget-view+json": {
       "version_major": 2,
       "version_minor": 0,
       "model_id": "1b11364232414f18b42287a826c6a86d"
      }
     },
     "metadata": {},
     "output_type": "display_data"
    },
    {
     "name": "stderr",
     "output_type": "stream",
     "text": [
      "2024-01-06 11:01:10.871336: I tensorflow/core/grappler/optimizers/custom_graph_optimizer_registry.cc:117] Plugin optimizer for device_type GPU is enabled.\n",
      "\n",
      "KeyboardInterrupt\n",
      "\n"
     ]
    }
   ],
   "source": [
    "import keras\n",
    "from sklearn.utils import compute_sample_weight\n",
    "from tqdm.keras import TqdmCallback\n",
    "\n",
    "callbacks = [\n",
    "    #keras.callbacks.ModelCheckpoint(\n",
    "    #    \"best_model.keras\", save_best_only=True, monitor=\"val_loss\"\n",
    "    #),\n",
    "    TqdmCallback(verbose=1),\n",
    "    keras.callbacks.ReduceLROnPlateau(\n",
    "        monitor=\"val_loss\", factor=0.5, patience=20, min_lr=0.0001\n",
    "    ),\n",
    "    keras.callbacks.EarlyStopping(monitor=\"val_loss\", patience=20, verbose=1,start_from_epoch=30),\n",
    "]\n",
    "\n",
    "model.compile(\n",
    "    loss='categorical_crossentropy',\n",
    "    optimizer='adam',\n",
    "    weighted_metrics=[\"acc\"]\n",
    ")\n",
    "\n",
    "weights = compute_sample_weight('balanced', np.argmax(y_train, axis = 1))\n",
    "\n",
    "hist = model.fit(\n",
    "    X_train,\n",
    "    y_train,\n",
    "    batch_size =16,\n",
    "    #validation_data = (test_features, test_labels_encoded),\n",
    "    validation_split = 0.2,\n",
    "    callbacks = callbacks,\n",
    "    sample_weight = weights,\n",
    "    epochs = 256,\n",
    "    verbose = 0,\n",
    "    )"
   ],
   "metadata": {
    "collapsed": false,
    "ExecuteTime": {
     "end_time": "2024-01-06T10:01:48.279682Z",
     "start_time": "2024-01-06T10:01:10.159075Z"
    }
   },
   "id": "fc161ae197d14869"
  },
  {
   "cell_type": "code",
   "execution_count": null,
   "outputs": [],
   "source": [],
   "metadata": {
    "collapsed": false
   },
   "id": "17447afa13881940"
  }
 ],
 "metadata": {
  "kernelspec": {
   "display_name": "Python 3",
   "language": "python",
   "name": "python3"
  },
  "language_info": {
   "codemirror_mode": {
    "name": "ipython",
    "version": 2
   },
   "file_extension": ".py",
   "mimetype": "text/x-python",
   "name": "python",
   "nbconvert_exporter": "python",
   "pygments_lexer": "ipython2",
   "version": "2.7.6"
  }
 },
 "nbformat": 4,
 "nbformat_minor": 5
}
