{
 "cells": [
  {
   "cell_type": "code",
   "execution_count": 339,
   "outputs": [],
   "source": [
    "import numpy as np\n",
    "import pandas as pd\n",
    "import sklearn_crfsuite\n",
    "from sklearn.metrics import multilabel_confusion_matrix\n",
    "from sklearn.model_selection import train_test_split\n",
    "from sklearn_crfsuite import metrics"
   ],
   "metadata": {
    "collapsed": false,
    "ExecuteTime": {
     "end_time": "2024-01-15T13:49:35.892122Z",
     "start_time": "2024-01-15T13:49:35.863831Z"
    }
   },
   "id": "1711fa01ced3305c"
  },
  {
   "cell_type": "markdown",
   "source": [
    "# Create Evaluation Data Set "
   ],
   "metadata": {
    "collapsed": false
   },
   "id": "d7bc3ddbff5a6a1a"
  },
  {
   "cell_type": "code",
   "execution_count": 498,
   "outputs": [],
   "source": [
    "df_test = pd.read_csv('../../data_v3/hr_il_tagged.csv')\n",
    "\n",
    "df_train = pd.read_csv('../../data_v3/hr_extended_features.csv')\n",
    "\n",
    "df_test.rename(columns={'real_activity_action': \"ActivityAction\"}, inplace=True)"
   ],
   "metadata": {
    "collapsed": false,
    "ExecuteTime": {
     "end_time": "2024-01-15T15:44:55.656817Z",
     "start_time": "2024-01-15T15:44:55.032974Z"
    }
   },
   "id": "390f5d45b7a18f1c"
  },
  {
   "cell_type": "code",
   "execution_count": 500,
   "outputs": [
    {
     "data": {
      "text/plain": "      Unnamed: 0.5  Unnamed: 0.4  Unnamed: 0.3  Unnamed: 0.2  Unnamed: 0  \\\n0                0             0             0             0           0   \n1                1             1             1             1           1   \n2                2             2             2             2           2   \n3                3             3             3             3           3   \n4                4             4             4             4           4   \n...            ...           ...           ...           ...         ...   \n1293          1293          1293          1293          1293        1293   \n1294          1294          1294          1294          1294        1294   \n1295          1295          1295          1295          1295        1295   \n1296          1296          1296          1296          1296        1296   \n1297          1297          1297          1297          1297        1297   \n\n      Unnamed: 0.1  Unnamed: 0_x                   FileName  \\\n0                0             2  rec_over_http_prod_1.pcap   \n1                1            57  rec_over_http_prod_1.pcap   \n2                2            61  rec_over_http_prod_1.pcap   \n3                3           129  rec_over_http_prod_1.pcap   \n4                4           147  rec_over_http_prod_1.pcap   \n...            ...           ...                        ...   \n1293          1293         60600  rec_over_http_prod_1.pcap   \n1294          1294         61132  rec_over_http_prod_1.pcap   \n1295          1295         61136  rec_over_http_prod_1.pcap   \n1296          1296         61240  rec_over_http_prod_1.pcap   \n1297          1297         61251  rec_over_http_prod_1.pcap   \n\n          BusinessActivity InstanceNumber  ... IsEndBP  IsStartBP  \\\n0     HrRecruitmentProcess           over  ...   False       True   \n1     HrRecruitmentProcess           over  ...   False      False   \n2     HrRecruitmentProcess           over  ...   False      False   \n3     HrRecruitmentProcess           over  ...   False      False   \n4     HrRecruitmentProcess           over  ...   False      False   \n...                    ...            ...  ...     ...        ...   \n1293  HrRecruitmentProcess           over  ...   False      False   \n1294  HrRecruitmentProcess           over  ...   False      False   \n1295  HrRecruitmentProcess           over  ...   False      False   \n1296  HrRecruitmentProcess           over  ...   False      False   \n1297  HrRecruitmentProcess           over  ...    True      False   \n\n          ActivityAction IsStartActivity IsEndActivity CaseId  ActivityAction  \\\n0     ['Start Activity']            True         False  set()  Activity Start   \n1           ['NoAction']           False         False  set()        NoAction   \n2           ['NoAction']           False         False  set()        NoAction   \n3           ['NoAction']           False         False  set()        NoAction   \n4           ['NoAction']           False         False  set()        NoAction   \n...                  ...             ...           ...    ...             ...   \n1293        ['NoAction']           False         False  set()        NoAction   \n1294        ['NoAction']           False         False    {7}        NoAction   \n1295        ['NoAction']           False         False    {7}        NoAction   \n1296        ['NoAction']           False         False  set()        NoAction   \n1297    ['End Activity']           False         False    {7}    Activity End   \n\n               selective_filter_data origin_request_method  \\\n0                            version                   NaN   \n1                                NaN               version   \n2                                NaN                   NaN   \n3                                NaN                   NaN   \n4                           IsNumber          authenticate   \n...                              ...                   ...   \n1293                             NaN                   NaN   \n1294                        IsNumber            execute_kw   \n1295  hr.applicant_archive_applicant                   NaN   \n1296                             NaN                   NaN   \n1297                       faultCode            execute_kw   \n\n        origin_selective_filter_data  \n0                                NaN  \n1                            version  \n2                                NaN  \n3                                NaN  \n4                                NaN  \n...                              ...  \n1293                             NaN  \n1294   hr.applicant_write_stage_id_8  \n1295                             NaN  \n1296                             NaN  \n1297  hr.applicant_archive_applicant  \n\n[1298 rows x 65 columns]",
      "text/html": "<div>\n<style scoped>\n    .dataframe tbody tr th:only-of-type {\n        vertical-align: middle;\n    }\n\n    .dataframe tbody tr th {\n        vertical-align: top;\n    }\n\n    .dataframe thead th {\n        text-align: right;\n    }\n</style>\n<table border=\"1\" class=\"dataframe\">\n  <thead>\n    <tr style=\"text-align: right;\">\n      <th></th>\n      <th>Unnamed: 0.5</th>\n      <th>Unnamed: 0.4</th>\n      <th>Unnamed: 0.3</th>\n      <th>Unnamed: 0.2</th>\n      <th>Unnamed: 0</th>\n      <th>Unnamed: 0.1</th>\n      <th>Unnamed: 0_x</th>\n      <th>FileName</th>\n      <th>BusinessActivity</th>\n      <th>InstanceNumber</th>\n      <th>...</th>\n      <th>IsEndBP</th>\n      <th>IsStartBP</th>\n      <th>ActivityAction</th>\n      <th>IsStartActivity</th>\n      <th>IsEndActivity</th>\n      <th>CaseId</th>\n      <th>ActivityAction</th>\n      <th>selective_filter_data</th>\n      <th>origin_request_method</th>\n      <th>origin_selective_filter_data</th>\n    </tr>\n  </thead>\n  <tbody>\n    <tr>\n      <th>0</th>\n      <td>0</td>\n      <td>0</td>\n      <td>0</td>\n      <td>0</td>\n      <td>0</td>\n      <td>0</td>\n      <td>2</td>\n      <td>rec_over_http_prod_1.pcap</td>\n      <td>HrRecruitmentProcess</td>\n      <td>over</td>\n      <td>...</td>\n      <td>False</td>\n      <td>True</td>\n      <td>['Start Activity']</td>\n      <td>True</td>\n      <td>False</td>\n      <td>set()</td>\n      <td>Activity Start</td>\n      <td>version</td>\n      <td>NaN</td>\n      <td>NaN</td>\n    </tr>\n    <tr>\n      <th>1</th>\n      <td>1</td>\n      <td>1</td>\n      <td>1</td>\n      <td>1</td>\n      <td>1</td>\n      <td>1</td>\n      <td>57</td>\n      <td>rec_over_http_prod_1.pcap</td>\n      <td>HrRecruitmentProcess</td>\n      <td>over</td>\n      <td>...</td>\n      <td>False</td>\n      <td>False</td>\n      <td>['NoAction']</td>\n      <td>False</td>\n      <td>False</td>\n      <td>set()</td>\n      <td>NoAction</td>\n      <td>NaN</td>\n      <td>version</td>\n      <td>version</td>\n    </tr>\n    <tr>\n      <th>2</th>\n      <td>2</td>\n      <td>2</td>\n      <td>2</td>\n      <td>2</td>\n      <td>2</td>\n      <td>2</td>\n      <td>61</td>\n      <td>rec_over_http_prod_1.pcap</td>\n      <td>HrRecruitmentProcess</td>\n      <td>over</td>\n      <td>...</td>\n      <td>False</td>\n      <td>False</td>\n      <td>['NoAction']</td>\n      <td>False</td>\n      <td>False</td>\n      <td>set()</td>\n      <td>NoAction</td>\n      <td>NaN</td>\n      <td>NaN</td>\n      <td>NaN</td>\n    </tr>\n    <tr>\n      <th>3</th>\n      <td>3</td>\n      <td>3</td>\n      <td>3</td>\n      <td>3</td>\n      <td>3</td>\n      <td>3</td>\n      <td>129</td>\n      <td>rec_over_http_prod_1.pcap</td>\n      <td>HrRecruitmentProcess</td>\n      <td>over</td>\n      <td>...</td>\n      <td>False</td>\n      <td>False</td>\n      <td>['NoAction']</td>\n      <td>False</td>\n      <td>False</td>\n      <td>set()</td>\n      <td>NoAction</td>\n      <td>NaN</td>\n      <td>NaN</td>\n      <td>NaN</td>\n    </tr>\n    <tr>\n      <th>4</th>\n      <td>4</td>\n      <td>4</td>\n      <td>4</td>\n      <td>4</td>\n      <td>4</td>\n      <td>4</td>\n      <td>147</td>\n      <td>rec_over_http_prod_1.pcap</td>\n      <td>HrRecruitmentProcess</td>\n      <td>over</td>\n      <td>...</td>\n      <td>False</td>\n      <td>False</td>\n      <td>['NoAction']</td>\n      <td>False</td>\n      <td>False</td>\n      <td>set()</td>\n      <td>NoAction</td>\n      <td>IsNumber</td>\n      <td>authenticate</td>\n      <td>NaN</td>\n    </tr>\n    <tr>\n      <th>...</th>\n      <td>...</td>\n      <td>...</td>\n      <td>...</td>\n      <td>...</td>\n      <td>...</td>\n      <td>...</td>\n      <td>...</td>\n      <td>...</td>\n      <td>...</td>\n      <td>...</td>\n      <td>...</td>\n      <td>...</td>\n      <td>...</td>\n      <td>...</td>\n      <td>...</td>\n      <td>...</td>\n      <td>...</td>\n      <td>...</td>\n      <td>...</td>\n      <td>...</td>\n      <td>...</td>\n    </tr>\n    <tr>\n      <th>1293</th>\n      <td>1293</td>\n      <td>1293</td>\n      <td>1293</td>\n      <td>1293</td>\n      <td>1293</td>\n      <td>1293</td>\n      <td>60600</td>\n      <td>rec_over_http_prod_1.pcap</td>\n      <td>HrRecruitmentProcess</td>\n      <td>over</td>\n      <td>...</td>\n      <td>False</td>\n      <td>False</td>\n      <td>['NoAction']</td>\n      <td>False</td>\n      <td>False</td>\n      <td>set()</td>\n      <td>NoAction</td>\n      <td>NaN</td>\n      <td>NaN</td>\n      <td>NaN</td>\n    </tr>\n    <tr>\n      <th>1294</th>\n      <td>1294</td>\n      <td>1294</td>\n      <td>1294</td>\n      <td>1294</td>\n      <td>1294</td>\n      <td>1294</td>\n      <td>61132</td>\n      <td>rec_over_http_prod_1.pcap</td>\n      <td>HrRecruitmentProcess</td>\n      <td>over</td>\n      <td>...</td>\n      <td>False</td>\n      <td>False</td>\n      <td>['NoAction']</td>\n      <td>False</td>\n      <td>False</td>\n      <td>{7}</td>\n      <td>NoAction</td>\n      <td>IsNumber</td>\n      <td>execute_kw</td>\n      <td>hr.applicant_write_stage_id_8</td>\n    </tr>\n    <tr>\n      <th>1295</th>\n      <td>1295</td>\n      <td>1295</td>\n      <td>1295</td>\n      <td>1295</td>\n      <td>1295</td>\n      <td>1295</td>\n      <td>61136</td>\n      <td>rec_over_http_prod_1.pcap</td>\n      <td>HrRecruitmentProcess</td>\n      <td>over</td>\n      <td>...</td>\n      <td>False</td>\n      <td>False</td>\n      <td>['NoAction']</td>\n      <td>False</td>\n      <td>False</td>\n      <td>{7}</td>\n      <td>NoAction</td>\n      <td>hr.applicant_archive_applicant</td>\n      <td>NaN</td>\n      <td>NaN</td>\n    </tr>\n    <tr>\n      <th>1296</th>\n      <td>1296</td>\n      <td>1296</td>\n      <td>1296</td>\n      <td>1296</td>\n      <td>1296</td>\n      <td>1296</td>\n      <td>61240</td>\n      <td>rec_over_http_prod_1.pcap</td>\n      <td>HrRecruitmentProcess</td>\n      <td>over</td>\n      <td>...</td>\n      <td>False</td>\n      <td>False</td>\n      <td>['NoAction']</td>\n      <td>False</td>\n      <td>False</td>\n      <td>set()</td>\n      <td>NoAction</td>\n      <td>NaN</td>\n      <td>NaN</td>\n      <td>NaN</td>\n    </tr>\n    <tr>\n      <th>1297</th>\n      <td>1297</td>\n      <td>1297</td>\n      <td>1297</td>\n      <td>1297</td>\n      <td>1297</td>\n      <td>1297</td>\n      <td>61251</td>\n      <td>rec_over_http_prod_1.pcap</td>\n      <td>HrRecruitmentProcess</td>\n      <td>over</td>\n      <td>...</td>\n      <td>True</td>\n      <td>False</td>\n      <td>['End Activity']</td>\n      <td>False</td>\n      <td>False</td>\n      <td>{7}</td>\n      <td>Activity End</td>\n      <td>faultCode</td>\n      <td>execute_kw</td>\n      <td>hr.applicant_archive_applicant</td>\n    </tr>\n  </tbody>\n</table>\n<p>1298 rows × 65 columns</p>\n</div>"
     },
     "execution_count": 500,
     "metadata": {},
     "output_type": "execute_result"
    }
   ],
   "source": [
    "df_test"
   ],
   "metadata": {
    "collapsed": false,
    "ExecuteTime": {
     "end_time": "2024-01-15T15:44:59.304677Z",
     "start_time": "2024-01-15T15:44:59.291248Z"
    }
   },
   "id": "3d62ad79fd96eda7"
  },
  {
   "cell_type": "code",
   "execution_count": 386,
   "outputs": [
    {
     "data": {
      "text/plain": "       Unnamed: 0.2  Unnamed: 0.1  Unnamed: 0  \\\n0                 0             0           0   \n1                 1             1           1   \n2                 2             2           2   \n3                 3             3           3   \n4                 4             4           4   \n...             ...           ...         ...   \n33068         33068         11958       11958   \n33069         33069         11959       11959   \n33070         33070         11960       11960   \n33071         33071         11961       11961   \n33072         33072         11962       11962   \n\n                                    FileName                BusinessActivity  \\\n0      GenerateJobApplicationActivity_1.pcap  GenerateJobApplicationActivity   \n1      GenerateJobApplicationActivity_1.pcap  GenerateJobApplicationActivity   \n2      GenerateJobApplicationActivity_1.pcap  GenerateJobApplicationActivity   \n3      GenerateJobApplicationActivity_1.pcap  GenerateJobApplicationActivity   \n4      GenerateJobApplicationActivity_1.pcap  GenerateJobApplicationActivity   \n...                                      ...                             ...   \n33068          ResumeReviewActivity_250.pcap            ResumeReviewActivity   \n33069          ResumeReviewActivity_250.pcap            ResumeReviewActivity   \n33070          ResumeReviewActivity_250.pcap            ResumeReviewActivity   \n33071          ResumeReviewActivity_250.pcap            ResumeReviewActivity   \n33072          ResumeReviewActivity_250.pcap            ResumeReviewActivity   \n\n       frame.number              sniff_time_str                  sniff_time  \\\n0                26  2020-05-12 09:57:23.762710  2020-05-12 09:57:23.762710   \n1               127  2020-05-12 09:57:28.092427  2020-05-12 09:57:28.092427   \n2               135  2020-05-12 09:57:28.094494  2020-05-12 09:57:28.094494   \n3               192  2020-05-12 09:57:28.580005  2020-05-12 09:57:28.580005   \n4               216  2020-05-12 09:57:28.729685  2020-05-12 09:57:28.729685   \n...             ...                         ...                         ...   \n33068           729  2020-05-14 00:17:45.346366  2020-05-14 00:17:45.346366   \n33069           766  2020-05-14 00:17:45.361497  2020-05-14 00:17:45.361497   \n33070           774  2020-05-14 00:17:45.363203  2020-05-14 00:17:45.363203   \n33071           840  2020-05-14 00:17:45.427437  2020-05-14 00:17:45.427437   \n33072           847  2020-05-14 00:17:45.430315  2020-05-14 00:17:45.430315   \n\n       InstanceNumber        synthetic_sniff_time  ...  \\\n0                   1  2020-05-13 10:07:18.092710  ...   \n1                   1  2020-05-13 22:08:59.592427  ...   \n2                   1  2020-05-13 22:09:20.264494  ...   \n3                   1  2020-05-13 23:30:15.860005  ...   \n4                   1  2020-05-13 23:55:12.809685  ...   \n...               ...                         ...  ...   \n33068             250  2020-05-14 04:15:16.416366  ...   \n33069             250  2020-05-14 04:17:47.741497  ...   \n33070             250  2020-05-14 04:18:04.803203  ...   \n33071             250  2020-05-14 04:28:47.207437  ...   \n33072             250  2020-05-14 04:29:15.990315  ...   \n\n                                               file_data IsStartActivity  \\\n0                                            ['version']             NaN   \n1      ['server_version', '12.0-20190820', 'server_ve...             0.0   \n2      ['authenticate', 'odoo01', 'dana.wireless@gmai...             0.0   \n3                                                    NaN             0.0   \n4                                                  ['6']             0.0   \n...                                                  ...             ...   \n33068                                                NaN             0.0   \n33069                                              ['1']             0.0   \n33070  ['execute_kw', 'odoo01', '6', '123456789', 'hr...             0.0   \n33071                                                NaN             0.0   \n33072  ['faultCode', '1', 'faultString', 'Traceback (...             0.0   \n\n      IsEndActivity  ActivityAction IsEndBP IsStartBP  \\\n0               0.0  Activity Start   False      True   \n1               0.0        NoAction   False     False   \n2               0.0        NoAction   False     False   \n3               0.0        NoAction   False     False   \n4               0.0        NoAction   False     False   \n...             ...             ...     ...       ...   \n33068           0.0        NoAction   False     False   \n33069           0.0        NoAction   False     False   \n33070           0.0        NoAction   False     False   \n33071           0.0        NoAction   False     False   \n33072        -224.0    Activity End    True     False   \n\n                selective_filter_data origin_request_method  \\\n0                             version                   NaN   \n1                                 NaN               version   \n2                                 NaN                   NaN   \n3                                 NaN                   NaN   \n4                            IsNumber          authenticate   \n...                               ...                   ...   \n33068                             NaN                   NaN   \n33069                        IsNumber            execute_kw   \n33070  hr.applicant_archive_applicant                   NaN   \n33071                             NaN                   NaN   \n33072                       faultCode                   NaN   \n\n        origin_selective_filter_data is_archive_applicant  \n0                                NaN                False  \n1                            version                False  \n2                                NaN                False  \n3                                NaN                False  \n4                                NaN                False  \n...                              ...                  ...  \n33068                            NaN                False  \n33069  hr.applicant_write_stage_id_2                 True  \n33070                            NaN                False  \n33071                            NaN                False  \n33072                            NaN                False  \n\n[33073 rows x 36 columns]",
      "text/html": "<div>\n<style scoped>\n    .dataframe tbody tr th:only-of-type {\n        vertical-align: middle;\n    }\n\n    .dataframe tbody tr th {\n        vertical-align: top;\n    }\n\n    .dataframe thead th {\n        text-align: right;\n    }\n</style>\n<table border=\"1\" class=\"dataframe\">\n  <thead>\n    <tr style=\"text-align: right;\">\n      <th></th>\n      <th>Unnamed: 0.2</th>\n      <th>Unnamed: 0.1</th>\n      <th>Unnamed: 0</th>\n      <th>FileName</th>\n      <th>BusinessActivity</th>\n      <th>frame.number</th>\n      <th>sniff_time_str</th>\n      <th>sniff_time</th>\n      <th>InstanceNumber</th>\n      <th>synthetic_sniff_time</th>\n      <th>...</th>\n      <th>file_data</th>\n      <th>IsStartActivity</th>\n      <th>IsEndActivity</th>\n      <th>ActivityAction</th>\n      <th>IsEndBP</th>\n      <th>IsStartBP</th>\n      <th>selective_filter_data</th>\n      <th>origin_request_method</th>\n      <th>origin_selective_filter_data</th>\n      <th>is_archive_applicant</th>\n    </tr>\n  </thead>\n  <tbody>\n    <tr>\n      <th>0</th>\n      <td>0</td>\n      <td>0</td>\n      <td>0</td>\n      <td>GenerateJobApplicationActivity_1.pcap</td>\n      <td>GenerateJobApplicationActivity</td>\n      <td>26</td>\n      <td>2020-05-12 09:57:23.762710</td>\n      <td>2020-05-12 09:57:23.762710</td>\n      <td>1</td>\n      <td>2020-05-13 10:07:18.092710</td>\n      <td>...</td>\n      <td>['version']</td>\n      <td>NaN</td>\n      <td>0.0</td>\n      <td>Activity Start</td>\n      <td>False</td>\n      <td>True</td>\n      <td>version</td>\n      <td>NaN</td>\n      <td>NaN</td>\n      <td>False</td>\n    </tr>\n    <tr>\n      <th>1</th>\n      <td>1</td>\n      <td>1</td>\n      <td>1</td>\n      <td>GenerateJobApplicationActivity_1.pcap</td>\n      <td>GenerateJobApplicationActivity</td>\n      <td>127</td>\n      <td>2020-05-12 09:57:28.092427</td>\n      <td>2020-05-12 09:57:28.092427</td>\n      <td>1</td>\n      <td>2020-05-13 22:08:59.592427</td>\n      <td>...</td>\n      <td>['server_version', '12.0-20190820', 'server_ve...</td>\n      <td>0.0</td>\n      <td>0.0</td>\n      <td>NoAction</td>\n      <td>False</td>\n      <td>False</td>\n      <td>NaN</td>\n      <td>version</td>\n      <td>version</td>\n      <td>False</td>\n    </tr>\n    <tr>\n      <th>2</th>\n      <td>2</td>\n      <td>2</td>\n      <td>2</td>\n      <td>GenerateJobApplicationActivity_1.pcap</td>\n      <td>GenerateJobApplicationActivity</td>\n      <td>135</td>\n      <td>2020-05-12 09:57:28.094494</td>\n      <td>2020-05-12 09:57:28.094494</td>\n      <td>1</td>\n      <td>2020-05-13 22:09:20.264494</td>\n      <td>...</td>\n      <td>['authenticate', 'odoo01', 'dana.wireless@gmai...</td>\n      <td>0.0</td>\n      <td>0.0</td>\n      <td>NoAction</td>\n      <td>False</td>\n      <td>False</td>\n      <td>NaN</td>\n      <td>NaN</td>\n      <td>NaN</td>\n      <td>False</td>\n    </tr>\n    <tr>\n      <th>3</th>\n      <td>3</td>\n      <td>3</td>\n      <td>3</td>\n      <td>GenerateJobApplicationActivity_1.pcap</td>\n      <td>GenerateJobApplicationActivity</td>\n      <td>192</td>\n      <td>2020-05-12 09:57:28.580005</td>\n      <td>2020-05-12 09:57:28.580005</td>\n      <td>1</td>\n      <td>2020-05-13 23:30:15.860005</td>\n      <td>...</td>\n      <td>NaN</td>\n      <td>0.0</td>\n      <td>0.0</td>\n      <td>NoAction</td>\n      <td>False</td>\n      <td>False</td>\n      <td>NaN</td>\n      <td>NaN</td>\n      <td>NaN</td>\n      <td>False</td>\n    </tr>\n    <tr>\n      <th>4</th>\n      <td>4</td>\n      <td>4</td>\n      <td>4</td>\n      <td>GenerateJobApplicationActivity_1.pcap</td>\n      <td>GenerateJobApplicationActivity</td>\n      <td>216</td>\n      <td>2020-05-12 09:57:28.729685</td>\n      <td>2020-05-12 09:57:28.729685</td>\n      <td>1</td>\n      <td>2020-05-13 23:55:12.809685</td>\n      <td>...</td>\n      <td>['6']</td>\n      <td>0.0</td>\n      <td>0.0</td>\n      <td>NoAction</td>\n      <td>False</td>\n      <td>False</td>\n      <td>IsNumber</td>\n      <td>authenticate</td>\n      <td>NaN</td>\n      <td>False</td>\n    </tr>\n    <tr>\n      <th>...</th>\n      <td>...</td>\n      <td>...</td>\n      <td>...</td>\n      <td>...</td>\n      <td>...</td>\n      <td>...</td>\n      <td>...</td>\n      <td>...</td>\n      <td>...</td>\n      <td>...</td>\n      <td>...</td>\n      <td>...</td>\n      <td>...</td>\n      <td>...</td>\n      <td>...</td>\n      <td>...</td>\n      <td>...</td>\n      <td>...</td>\n      <td>...</td>\n      <td>...</td>\n      <td>...</td>\n    </tr>\n    <tr>\n      <th>33068</th>\n      <td>33068</td>\n      <td>11958</td>\n      <td>11958</td>\n      <td>ResumeReviewActivity_250.pcap</td>\n      <td>ResumeReviewActivity</td>\n      <td>729</td>\n      <td>2020-05-14 00:17:45.346366</td>\n      <td>2020-05-14 00:17:45.346366</td>\n      <td>250</td>\n      <td>2020-05-14 04:15:16.416366</td>\n      <td>...</td>\n      <td>NaN</td>\n      <td>0.0</td>\n      <td>0.0</td>\n      <td>NoAction</td>\n      <td>False</td>\n      <td>False</td>\n      <td>NaN</td>\n      <td>NaN</td>\n      <td>NaN</td>\n      <td>False</td>\n    </tr>\n    <tr>\n      <th>33069</th>\n      <td>33069</td>\n      <td>11959</td>\n      <td>11959</td>\n      <td>ResumeReviewActivity_250.pcap</td>\n      <td>ResumeReviewActivity</td>\n      <td>766</td>\n      <td>2020-05-14 00:17:45.361497</td>\n      <td>2020-05-14 00:17:45.361497</td>\n      <td>250</td>\n      <td>2020-05-14 04:17:47.741497</td>\n      <td>...</td>\n      <td>['1']</td>\n      <td>0.0</td>\n      <td>0.0</td>\n      <td>NoAction</td>\n      <td>False</td>\n      <td>False</td>\n      <td>IsNumber</td>\n      <td>execute_kw</td>\n      <td>hr.applicant_write_stage_id_2</td>\n      <td>True</td>\n    </tr>\n    <tr>\n      <th>33070</th>\n      <td>33070</td>\n      <td>11960</td>\n      <td>11960</td>\n      <td>ResumeReviewActivity_250.pcap</td>\n      <td>ResumeReviewActivity</td>\n      <td>774</td>\n      <td>2020-05-14 00:17:45.363203</td>\n      <td>2020-05-14 00:17:45.363203</td>\n      <td>250</td>\n      <td>2020-05-14 04:18:04.803203</td>\n      <td>...</td>\n      <td>['execute_kw', 'odoo01', '6', '123456789', 'hr...</td>\n      <td>0.0</td>\n      <td>0.0</td>\n      <td>NoAction</td>\n      <td>False</td>\n      <td>False</td>\n      <td>hr.applicant_archive_applicant</td>\n      <td>NaN</td>\n      <td>NaN</td>\n      <td>False</td>\n    </tr>\n    <tr>\n      <th>33071</th>\n      <td>33071</td>\n      <td>11961</td>\n      <td>11961</td>\n      <td>ResumeReviewActivity_250.pcap</td>\n      <td>ResumeReviewActivity</td>\n      <td>840</td>\n      <td>2020-05-14 00:17:45.427437</td>\n      <td>2020-05-14 00:17:45.427437</td>\n      <td>250</td>\n      <td>2020-05-14 04:28:47.207437</td>\n      <td>...</td>\n      <td>NaN</td>\n      <td>0.0</td>\n      <td>0.0</td>\n      <td>NoAction</td>\n      <td>False</td>\n      <td>False</td>\n      <td>NaN</td>\n      <td>NaN</td>\n      <td>NaN</td>\n      <td>False</td>\n    </tr>\n    <tr>\n      <th>33072</th>\n      <td>33072</td>\n      <td>11962</td>\n      <td>11962</td>\n      <td>ResumeReviewActivity_250.pcap</td>\n      <td>ResumeReviewActivity</td>\n      <td>847</td>\n      <td>2020-05-14 00:17:45.430315</td>\n      <td>2020-05-14 00:17:45.430315</td>\n      <td>250</td>\n      <td>2020-05-14 04:29:15.990315</td>\n      <td>...</td>\n      <td>['faultCode', '1', 'faultString', 'Traceback (...</td>\n      <td>0.0</td>\n      <td>-224.0</td>\n      <td>Activity End</td>\n      <td>True</td>\n      <td>False</td>\n      <td>faultCode</td>\n      <td>NaN</td>\n      <td>NaN</td>\n      <td>False</td>\n    </tr>\n  </tbody>\n</table>\n<p>33073 rows × 36 columns</p>\n</div>"
     },
     "execution_count": 386,
     "metadata": {},
     "output_type": "execute_result"
    }
   ],
   "source": [
    "df_train"
   ],
   "metadata": {
    "collapsed": false,
    "ExecuteTime": {
     "end_time": "2024-01-15T14:10:37.723488Z",
     "start_time": "2024-01-15T14:10:37.677861Z"
    }
   },
   "id": "810b492011d4872a"
  },
  {
   "cell_type": "code",
   "execution_count": 371,
   "outputs": [],
   "source": [
    "#df_gt = pd.read_csv('../../data_v3/hr_ground_truth.csv')\n",
    "#df_test[\"ActivityAction\"]=np.select([df_test[\"frame.number\"].isin(df_gt[\"start\"].values),df_test[\"frame.number\"].isin(df_gt[\"actual_end\"].values)], [\"Action Start\", \"Action End\"],default=\"NoAction\", )"
   ],
   "metadata": {
    "collapsed": false,
    "ExecuteTime": {
     "end_time": "2024-01-15T14:05:34.254947Z",
     "start_time": "2024-01-15T14:05:34.242703Z"
    }
   },
   "id": "e1960abf159bd708"
  },
  {
   "cell_type": "markdown",
   "source": [
    "1. Sort Values by Sniff Time\n",
    "2. Validate Start and End Events after Sorting\n",
    "    - Group by Instance Number and Business Activity\n",
    "    - Check if frame.number is sequential \n",
    "    - Check if start activity and end activity are at beginning / end of the sequence\n",
    "3. Features\n",
    "    - Event with roles, request_method_call, selective_filter_data, origin_selective_filter_data\n",
    "    - "
   ],
   "metadata": {
    "collapsed": false
   },
   "id": "13b61b41c2f7e92b"
  },
  {
   "cell_type": "markdown",
   "source": [
    "# 1 Preprocessing\n",
    "1.1 Sort train set by sniff time\n",
    "1.2 Form sequences\n",
    "1.3 Validate sequences for ascending frame.number\n",
    "1.4 Check for correct position of start and end events of each sequence"
   ],
   "metadata": {
    "collapsed": false
   },
   "id": "23d2d600412463d6"
  },
  {
   "cell_type": "code",
   "execution_count": 501,
   "outputs": [],
   "source": [
    "cols = [\"event_with_roles\", \"request_method_call\", \"selective_filter_data\", \"origin_selective_filter_data\", \"InstanceNumber\",\n",
    "        \"ActivityAction\"]\n",
    "\n",
    "df_train = df_train.sort_values(by=['sniff_time'])[cols]\n",
    "df_test = df_test[cols]"
   ],
   "metadata": {
    "collapsed": false,
    "ExecuteTime": {
     "end_time": "2024-01-15T15:45:04.904448Z",
     "start_time": "2024-01-15T15:45:04.839287Z"
    }
   },
   "id": "696978d636df79f6"
  },
  {
   "cell_type": "code",
   "execution_count": 502,
   "outputs": [],
   "source": [
    "# form sequences of length 20 \n",
    "def reshape_sequence(data, seq_length):\n",
    "    data = data.values\n",
    "    num_seq = data.shape[0] // seq_length\n",
    "    return data[:num_seq * seq_length].reshape((num_seq, seq_length, data.shape[1]))\n",
    "\n",
    "\n",
    "train_seq = reshape_sequence(df_train, 20)\n",
    "test_seq = reshape_sequence(df_test, 1)"
   ],
   "metadata": {
    "collapsed": false,
    "ExecuteTime": {
     "end_time": "2024-01-15T15:45:05.825291Z",
     "start_time": "2024-01-15T15:45:05.802914Z"
    }
   },
   "id": "3584db1b726886b"
  },
  {
   "cell_type": "code",
   "execution_count": 503,
   "outputs": [],
   "source": [
    "# build feature vectors\n",
    "\n",
    "def seq2features(seq, bw, fw, feature_list):\n",
    "    return [event2features(seq, i, bw, fw, feature_list) for i in range(len(seq))]\n",
    "\n",
    "\n",
    "def seq2features(seq, bw, fw, feature_list):\n",
    "    # seq [0] = Position in Sequence\n",
    "    # seq [0,4] = Feature 4 an Position 0 \n",
    "    return [event2features(seq, i, bw, fw, feature_list) for i in range(len(seq))]\n",
    "\n",
    "\n",
    "def event2features(seq, i, bw, fw, feature_list):\n",
    "    # event features (position i in sequence)\n",
    "    features = {\n",
    "        feature_list[j]: seq[i, j] for j in range(len(feature_list))\n",
    "    }\n",
    "\n",
    "    ## backward features 1...bw\n",
    "\n",
    "    # for k in range(1,bw+1): \n",
    "    #     index = i - k\n",
    "    #     if index >= 0: \n",
    "    #         features.update({\n",
    "    #             f\"-{k}:{feature_list[j]}\" : seq[index,j] for j in range(len(feature_list))\n",
    "    #         })\n",
    "\n",
    "    ## forward features 1...fw\n",
    "\n",
    "    # for k in range(1, fw+1): \n",
    "    #     index = i + k\n",
    "    #     if index < len(seq): \n",
    "    #         features.update({\n",
    "    #             f\"+{k}:{feature_list[j]}\" : seq[index, j] for j in range(len(feature_list))\n",
    "    #         })\n",
    "\n",
    "    ## remove all empty String features        \n",
    "\n",
    "    # features = {key: value for key, value in features.items() if value != ''}\n",
    "    features.update({\"bias\": 1.0})\n",
    "    return features\n",
    "\n",
    "\n",
    "feature_list = [ \"event_with_roles\",\"request_method_call\", \"selective_file_data\", \"origin_file_data\"]\n",
    "fw = 0\n",
    "bw = 0\n",
    "\n",
    "train_features = [seq2features(s, bw, fw, feature_list) for s in train_seq]\n",
    "train_labels = train_seq[:, :, -1]\n",
    "\n",
    "test_features = [seq2features(s, bw, fw, feature_list) for s in test_seq]\n",
    "test_labels = test_seq[:, :, -1]\n"
   ],
   "metadata": {
    "collapsed": false,
    "ExecuteTime": {
     "end_time": "2024-01-15T15:45:06.735923Z",
     "start_time": "2024-01-15T15:45:06.709859Z"
    }
   },
   "id": "4ebbbc6b7014dcc1"
  },
  {
   "cell_type": "code",
   "execution_count": 508,
   "outputs": [],
   "source": [
    "# method from the paper - exclude short processes from training data \n",
    "FULL_BPS = [\n",
    "    29,\n",
    "    37,\n",
    "    50,\n",
    "    68,\n",
    "    70,\n",
    "    86,\n",
    "    87,\n",
    "    93,\n",
    "    94,\n",
    "    129,\n",
    "    132,\n",
    "    167,\n",
    "    174,\n",
    "    178\n",
    "]\n",
    "\n",
    "small_bp_seqs = np.array(train_features)[np.isin(train_seq[:, 1, -2], FULL_BPS)].tolist()\n",
    "small_bp_labels = np.array(train_labels)[np.isin(train_seq[:, 1, -2], FULL_BPS)].tolist()\n",
    "\n",
    "remainder_bp_seqs = np.array(train_features)[~np.isin(train_seq[:, 1, -2], FULL_BPS)].tolist()\n",
    "remainder_bp_labels = np.array(train_labels)[~np.isin(train_seq[:, 1, -2], FULL_BPS)].tolist()"
   ],
   "metadata": {
    "collapsed": false,
    "ExecuteTime": {
     "end_time": "2024-01-15T15:45:11.469209Z",
     "start_time": "2024-01-15T15:45:11.454552Z"
    }
   },
   "id": "28308574acdfdc4e"
  },
  {
   "cell_type": "code",
   "execution_count": 509,
   "outputs": [],
   "source": [
    "X_train, X_test, y_train, y_test = train_test_split(remainder_bp_seqs, remainder_bp_labels, test_size=0.3, random_state=42)"
   ],
   "metadata": {
    "collapsed": false,
    "ExecuteTime": {
     "end_time": "2024-01-15T15:45:12.742538Z",
     "start_time": "2024-01-15T15:45:12.728662Z"
    }
   },
   "id": "b654457946d32d91"
  },
  {
   "cell_type": "code",
   "execution_count": 510,
   "outputs": [],
   "source": [
    "X_test.extend(small_bp_seqs)\n",
    "y_test.extend(small_bp_labels)"
   ],
   "metadata": {
    "collapsed": false,
    "ExecuteTime": {
     "end_time": "2024-01-15T15:45:13.130799Z",
     "start_time": "2024-01-15T15:45:13.117634Z"
    }
   },
   "id": "36c8b6eb1f810675"
  },
  {
   "cell_type": "markdown",
   "source": [
    "### Train Model"
   ],
   "metadata": {
    "collapsed": false
   },
   "id": "549f04145830b5fa"
  },
  {
   "cell_type": "code",
   "execution_count": 511,
   "outputs": [
    {
     "name": "stdout",
     "output_type": "stream",
     "text": [
      "CPU times: user 625 ms, sys: 17.5 ms, total: 643 ms\n",
      "Wall time: 769 ms\n"
     ]
    },
    {
     "data": {
      "text/plain": "CRF(all_possible_transitions=True, c1=0.1, c2=0.01, max_iterations=200)",
      "text/html": "<style>#sk-container-id-15 {color: black;}#sk-container-id-15 pre{padding: 0;}#sk-container-id-15 div.sk-toggleable {background-color: white;}#sk-container-id-15 label.sk-toggleable__label {cursor: pointer;display: block;width: 100%;margin-bottom: 0;padding: 0.3em;box-sizing: border-box;text-align: center;}#sk-container-id-15 label.sk-toggleable__label-arrow:before {content: \"▸\";float: left;margin-right: 0.25em;color: #696969;}#sk-container-id-15 label.sk-toggleable__label-arrow:hover:before {color: black;}#sk-container-id-15 div.sk-estimator:hover label.sk-toggleable__label-arrow:before {color: black;}#sk-container-id-15 div.sk-toggleable__content {max-height: 0;max-width: 0;overflow: hidden;text-align: left;background-color: #f0f8ff;}#sk-container-id-15 div.sk-toggleable__content pre {margin: 0.2em;color: black;border-radius: 0.25em;background-color: #f0f8ff;}#sk-container-id-15 input.sk-toggleable__control:checked~div.sk-toggleable__content {max-height: 200px;max-width: 100%;overflow: auto;}#sk-container-id-15 input.sk-toggleable__control:checked~label.sk-toggleable__label-arrow:before {content: \"▾\";}#sk-container-id-15 div.sk-estimator input.sk-toggleable__control:checked~label.sk-toggleable__label {background-color: #d4ebff;}#sk-container-id-15 div.sk-label input.sk-toggleable__control:checked~label.sk-toggleable__label {background-color: #d4ebff;}#sk-container-id-15 input.sk-hidden--visually {border: 0;clip: rect(1px 1px 1px 1px);clip: rect(1px, 1px, 1px, 1px);height: 1px;margin: -1px;overflow: hidden;padding: 0;position: absolute;width: 1px;}#sk-container-id-15 div.sk-estimator {font-family: monospace;background-color: #f0f8ff;border: 1px dotted black;border-radius: 0.25em;box-sizing: border-box;margin-bottom: 0.5em;}#sk-container-id-15 div.sk-estimator:hover {background-color: #d4ebff;}#sk-container-id-15 div.sk-parallel-item::after {content: \"\";width: 100%;border-bottom: 1px solid gray;flex-grow: 1;}#sk-container-id-15 div.sk-label:hover label.sk-toggleable__label {background-color: #d4ebff;}#sk-container-id-15 div.sk-serial::before {content: \"\";position: absolute;border-left: 1px solid gray;box-sizing: border-box;top: 0;bottom: 0;left: 50%;z-index: 0;}#sk-container-id-15 div.sk-serial {display: flex;flex-direction: column;align-items: center;background-color: white;padding-right: 0.2em;padding-left: 0.2em;position: relative;}#sk-container-id-15 div.sk-item {position: relative;z-index: 1;}#sk-container-id-15 div.sk-parallel {display: flex;align-items: stretch;justify-content: center;background-color: white;position: relative;}#sk-container-id-15 div.sk-item::before, #sk-container-id-15 div.sk-parallel-item::before {content: \"\";position: absolute;border-left: 1px solid gray;box-sizing: border-box;top: 0;bottom: 0;left: 50%;z-index: -1;}#sk-container-id-15 div.sk-parallel-item {display: flex;flex-direction: column;z-index: 1;position: relative;background-color: white;}#sk-container-id-15 div.sk-parallel-item:first-child::after {align-self: flex-end;width: 50%;}#sk-container-id-15 div.sk-parallel-item:last-child::after {align-self: flex-start;width: 50%;}#sk-container-id-15 div.sk-parallel-item:only-child::after {width: 0;}#sk-container-id-15 div.sk-dashed-wrapped {border: 1px dashed gray;margin: 0 0.4em 0.5em 0.4em;box-sizing: border-box;padding-bottom: 0.4em;background-color: white;}#sk-container-id-15 div.sk-label label {font-family: monospace;font-weight: bold;display: inline-block;line-height: 1.2em;}#sk-container-id-15 div.sk-label-container {text-align: center;}#sk-container-id-15 div.sk-container {/* jupyter's `normalize.less` sets `[hidden] { display: none; }` but bootstrap.min.css set `[hidden] { display: none !important; }` so we also need the `!important` here to be able to override the default hidden behavior on the sphinx rendered scikit-learn.org. See: https://github.com/scikit-learn/scikit-learn/issues/21755 */display: inline-block !important;position: relative;}#sk-container-id-15 div.sk-text-repr-fallback {display: none;}</style><div id=\"sk-container-id-15\" class=\"sk-top-container\"><div class=\"sk-text-repr-fallback\"><pre>CRF(all_possible_transitions=True, c1=0.1, c2=0.01, max_iterations=200)</pre><b>In a Jupyter environment, please rerun this cell to show the HTML representation or trust the notebook. <br />On GitHub, the HTML representation is unable to render, please try loading this page with nbviewer.org.</b></div><div class=\"sk-container\" hidden><div class=\"sk-item\"><div class=\"sk-estimator sk-toggleable\"><input class=\"sk-toggleable__control sk-hidden--visually\" id=\"sk-estimator-id-15\" type=\"checkbox\" checked><label for=\"sk-estimator-id-15\" class=\"sk-toggleable__label sk-toggleable__label-arrow\">CRF</label><div class=\"sk-toggleable__content\"><pre>CRF(all_possible_transitions=True, c1=0.1, c2=0.01, max_iterations=200)</pre></div></div></div></div></div>"
     },
     "execution_count": 511,
     "metadata": {},
     "output_type": "execute_result"
    }
   ],
   "source": [
    "%%time\n",
    "crf = sklearn_crfsuite.CRF(\n",
    "    max_iterations=200,\n",
    "    c1=0.1,\n",
    "    c2=0.01,\n",
    "    all_possible_transitions=True\n",
    "    #all_possible_transitions=True\n",
    ")\n",
    "crf.fit(X_train, y_train)"
   ],
   "metadata": {
    "collapsed": false,
    "ExecuteTime": {
     "end_time": "2024-01-15T15:45:15.130842Z",
     "start_time": "2024-01-15T15:45:14.362450Z"
    }
   },
   "id": "eccd0b3318af0ae3"
  },
  {
   "cell_type": "code",
   "execution_count": 512,
   "outputs": [
    {
     "name": "stdout",
     "output_type": "stream",
     "text": [
      "0.9906671575932217\n",
      "                precision    recall  f1-score   support\n",
      "\n",
      "      NoAction       1.00      1.00      1.00     11953\n",
      "  Activity End       0.97      0.98      0.97       310\n",
      "Activity Start       1.00      1.00      1.00       337\n",
      "\n",
      "      accuracy                           1.00     12600\n",
      "     macro avg       0.99      0.99      0.99     12600\n",
      "  weighted avg       1.00      1.00      1.00     12600\n",
      "\n",
      "[[[12280    10]\n",
      "  [    7   303]]\n",
      "\n",
      " [[12263     0]\n",
      "  [    0   337]]\n",
      "\n",
      " [[  640     7]\n",
      "  [   10 11943]]]\n"
     ]
    }
   ],
   "source": [
    "def flatten(xss):\n",
    "    return [x for xs in xss for x in xs]\n",
    "\n",
    "\n",
    "def evaluate(model, x, y_true):\n",
    "    y_pred = model.predict(x)\n",
    "    print(metrics.flat_f1_score(y_true, y_pred, average='macro', labels=model.classes_))\n",
    "    print(metrics.flat_classification_report(y_true, y_pred, model.classes_))\n",
    "    print(multilabel_confusion_matrix(flatten(y_true), flatten(y_pred)))\n",
    "\n",
    "\n",
    "evaluate(crf, X_test, y_test)"
   ],
   "metadata": {
    "collapsed": false,
    "ExecuteTime": {
     "end_time": "2024-01-15T15:45:17.065721Z",
     "start_time": "2024-01-15T15:45:16.873139Z"
    }
   },
   "id": "d9deb811106ed16a"
  },
  {
   "cell_type": "code",
   "execution_count": 513,
   "outputs": [
    {
     "name": "stdout",
     "output_type": "stream",
     "text": [
      "0.9338578547075794\n",
      "                precision    recall  f1-score   support\n",
      "\n",
      "      NoAction       0.99      1.00      1.00      1224\n",
      "  Activity End       1.00      0.68      0.81        37\n",
      "Activity Start       1.00      1.00      1.00        37\n",
      "\n",
      "      accuracy                           0.99      1298\n",
      "     macro avg       1.00      0.89      0.93      1298\n",
      "  weighted avg       0.99      0.99      0.99      1298\n",
      "\n",
      "[[[1261    0]\n",
      "  [  12   25]]\n",
      "\n",
      " [[1261    0]\n",
      "  [   0   37]]\n",
      "\n",
      " [[  62   12]\n",
      "  [   0 1224]]]\n"
     ]
    }
   ],
   "source": [
    "evaluate(crf, test_features, test_labels)"
   ],
   "metadata": {
    "collapsed": false,
    "ExecuteTime": {
     "end_time": "2024-01-15T15:45:17.990652Z",
     "start_time": "2024-01-15T15:45:17.963798Z"
    }
   },
   "id": "ae4c2cb98eb16d5"
  },
  {
   "cell_type": "code",
   "execution_count": 516,
   "outputs": [
    {
     "name": "stdout",
     "output_type": "stream",
     "text": [
      "Top likely transitions:\n",
      "Activity End -> Activity Start 3.281255\n",
      "NoAction -> Activity End 1.003312\n",
      "NoAction -> NoAction 0.643886\n",
      "Activity End -> NoAction -1.644892\n",
      "NoAction -> Activity Start -2.430615\n"
     ]
    }
   ],
   "source": [
    "from collections import Counter\n",
    "\n",
    "\n",
    "def print_transitions(trans_features):\n",
    "    for (label_from, label_to), weight in trans_features:\n",
    "        print(\"%-6s -> %-7s %0.6f\" % (label_from, label_to, weight))\n",
    "\n",
    "\n",
    "print(\"Top likely transitions:\")\n",
    "print_transitions(Counter(crf.transition_features_).most_common())\n"
   ],
   "metadata": {
    "collapsed": false,
    "ExecuteTime": {
     "end_time": "2024-01-15T15:54:53.438641Z",
     "start_time": "2024-01-15T15:54:53.419820Z"
    }
   },
   "id": "5f7470019fd7b90e"
  },
  {
   "cell_type": "code",
   "execution_count": 520,
   "outputs": [
    {
     "name": "stdout",
     "output_type": "stream",
     "text": [
      "Top positive:\n",
      "13.543386 Activity End origin_file_data:hr.applicant_create\n",
      "7.757604 Activity Start request_method_call:version\n",
      "7.757604 Activity Start selective_file_data:version\n",
      "7.409945 Activity End origin_file_data:hr.applicant_write_stage_id_6\n",
      "6.931756 NoAction bias\n",
      "6.256983 Activity End request_method_call:faultCode\n",
      "6.256983 Activity End selective_file_data:faultCode\n",
      "5.600666 Activity End origin_file_data:hr.applicant_write_stage_id_3\n",
      "5.517717 Activity End request_method_call:6081\n",
      "5.517717 Activity End request_method_call:5722\n",
      "5.512430 NoAction request_method_call:6786\n",
      "4.474187 Activity End origin_file_data:hr.applicant_write_stage_id_5\n",
      "4.051562 Activity End origin_file_data:hr.applicant_write_stage_id_2\n",
      "3.687969 Activity End origin_file_data:mail.activity_action_done\n",
      "3.524055 Activity End request_method_call:5768\n",
      "1.848610 NoAction request_method_call:id\n",
      "1.165492 Activity Start event_with_roles:End Point (HR Manager)->Odoo Application: [HttpRequest:POST /xmlrpc/2/common HTTP/1.1\\r\\n]\n",
      "0.820937 Activity End request_method_call:1\n",
      "0.698966 NoAction request_method_call:execute_kw\n",
      "0.522186 NoAction request_method_call:6694\n",
      "0.421834 Activity End event_with_roles:Odoo Application->End Point (Recruiting manager): [HttpResponse:HTTP/1.0 200 OK\\r\\n]\n",
      "0.249352 Activity Start event_with_roles:End Point (Recruiting manager)->Odoo Application: [HttpRequest:POST /xmlrpc/2/common HTTP/1.1\\r\\n]\n",
      "0.232679 NoAction request_method_call:6459\n",
      "0.174473 Activity End selective_file_data:IsNumber\n",
      "-0.000119 NoAction event_with_roles:Odoo Application->End Point (Recruiting manager): [HttpResponse:HTTP/1.0 200 OK\\r\\n]\n",
      "-0.039635 NoAction request_method_call:1\n",
      "-0.188651 NoAction event_with_roles:End Point (Recruiting manager)->Odoo Application: [HttpRequest:POST /xmlrpc/2/common HTTP/1.1\\r\\n]\n",
      "-0.381232 NoAction event_with_roles:End Point (HR Manager)->Odoo Application: [HttpRequest:POST /xmlrpc/2/common HTTP/1.1\\r\\n]\n",
      "-1.709308 Activity Start bias\n",
      "-2.363433 Activity End bias\n",
      "\n",
      "Top negative:\n"
     ]
    },
    {
     "ename": "TypeError",
     "evalue": "'NoneType' object is not iterable",
     "output_type": "error",
     "traceback": [
      "\u001B[0;31m---------------------------------------------------------------------------\u001B[0m",
      "\u001B[0;31mTypeError\u001B[0m                                 Traceback (most recent call last)",
      "Cell \u001B[0;32mIn[520], line 10\u001B[0m\n\u001B[1;32m      7\u001B[0m print_state_features(Counter(crf\u001B[38;5;241m.\u001B[39mstate_features_)\u001B[38;5;241m.\u001B[39mmost_common(\u001B[38;5;241m30\u001B[39m))\n\u001B[1;32m      9\u001B[0m \u001B[38;5;28mprint\u001B[39m(\u001B[38;5;124m\"\u001B[39m\u001B[38;5;130;01m\\n\u001B[39;00m\u001B[38;5;124mTop negative:\u001B[39m\u001B[38;5;124m\"\u001B[39m)\n\u001B[0;32m---> 10\u001B[0m \u001B[43mprint_state_features\u001B[49m\u001B[43m(\u001B[49m\u001B[43mCounter\u001B[49m\u001B[43m(\u001B[49m\u001B[43mcrf\u001B[49m\u001B[38;5;241;43m.\u001B[39;49m\u001B[43mstate_features_\u001B[49m\u001B[43m)\u001B[49m\u001B[38;5;241;43m.\u001B[39;49m\u001B[43mmost_common\u001B[49m\u001B[43m(\u001B[49m\u001B[43m)\u001B[49m\u001B[38;5;241;43m.\u001B[39;49m\u001B[43mreverse\u001B[49m\u001B[43m(\u001B[49m\u001B[43m)\u001B[49m\u001B[43m)\u001B[49m\n",
      "Cell \u001B[0;32mIn[520], line 2\u001B[0m, in \u001B[0;36mprint_state_features\u001B[0;34m(state_features)\u001B[0m\n\u001B[1;32m      1\u001B[0m \u001B[38;5;28;01mdef\u001B[39;00m \u001B[38;5;21mprint_state_features\u001B[39m(state_features):\n\u001B[0;32m----> 2\u001B[0m     \u001B[38;5;28;01mfor\u001B[39;00m (attr, label), weight \u001B[38;5;129;01min\u001B[39;00m state_features:\n\u001B[1;32m      3\u001B[0m         \u001B[38;5;28mprint\u001B[39m(\u001B[38;5;124m\"\u001B[39m\u001B[38;5;132;01m%0.6f\u001B[39;00m\u001B[38;5;124m \u001B[39m\u001B[38;5;132;01m%-8s\u001B[39;00m\u001B[38;5;124m \u001B[39m\u001B[38;5;132;01m%s\u001B[39;00m\u001B[38;5;124m\"\u001B[39m \u001B[38;5;241m%\u001B[39m (weight, label, attr))\n",
      "\u001B[0;31mTypeError\u001B[0m: 'NoneType' object is not iterable"
     ]
    }
   ],
   "source": [
    "def print_state_features(state_features):\n",
    "    for (attr, label), weight in state_features:\n",
    "        print(\"%0.6f %-8s %s\" % (weight, label, attr))\n",
    "\n",
    "\n",
    "print(\"Top positive:\")\n",
    "print_state_features(Counter(crf.state_features_).most_common(30))\n",
    "\n",
    "print(\"\\nTop negative:\")\n",
    "print_state_features(Counter(crf.state_features_).most_common()[-30:])"
   ],
   "metadata": {
    "collapsed": false,
    "ExecuteTime": {
     "end_time": "2024-01-15T16:13:38.154200Z",
     "start_time": "2024-01-15T16:13:38.120651Z"
    }
   },
   "id": "6ed3e63cb611bf33"
  },
  {
   "cell_type": "code",
   "execution_count": null,
   "outputs": [],
   "source": [],
   "metadata": {
    "collapsed": false
   },
   "id": "19195b5228826491"
  }
 ],
 "metadata": {
  "kernelspec": {
   "display_name": "Python 3",
   "language": "python",
   "name": "python3"
  },
  "language_info": {
   "codemirror_mode": {
    "name": "ipython",
    "version": 2
   },
   "file_extension": ".py",
   "mimetype": "text/x-python",
   "name": "python",
   "nbconvert_exporter": "python",
   "pygments_lexer": "ipython2",
   "version": "2.7.6"
  }
 },
 "nbformat": 4,
 "nbformat_minor": 5
}
