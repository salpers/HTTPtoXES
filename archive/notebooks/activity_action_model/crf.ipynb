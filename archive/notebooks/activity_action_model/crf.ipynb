{
 "cells": [
  {
   "cell_type": "code",
   "execution_count": 242,
   "id": "initial_id",
   "metadata": {
    "collapsed": true,
    "ExecuteTime": {
     "end_time": "2024-01-09T12:00:20.648516Z",
     "start_time": "2024-01-09T12:00:20.645158Z"
    }
   },
   "outputs": [],
   "source": [
    "import re\n",
    "\n",
    "import sklearn_crfsuite\n",
    "from sklearn_crfsuite import scorers\n",
    "from sklearn_crfsuite import metrics\n",
    "import pandas as pd\n",
    "\n",
    "# surpress future warning related to SkLearn\n",
    "import warnings\n",
    "warnings.simplefilter(action='ignore', category=FutureWarning)\n",
    "\n",
    "import pandas as pd\n",
    "import numpy as np\n",
    "\n",
    "from numpy.lib.stride_tricks import sliding_window_view\n",
    "\n",
    "from sklearn.metrics import classification_report, f1_score, multilabel_confusion_matrix\n",
    "\n",
    "from sklearn.model_selection import train_test_split\n"
   ]
  },
  {
   "cell_type": "code",
   "execution_count": 540,
   "outputs": [],
   "source": [
    "df_r4 = pd.read_csv('../../data_v2/p2p_r4_train_og_mod.csv')\n",
    "df_r4_il = pd.read_csv('../../data_v2/p2p_r4_il_og_mod.csv')"
   ],
   "metadata": {
    "collapsed": false,
    "ExecuteTime": {
     "end_time": "2024-01-10T14:02:10.913315Z",
     "start_time": "2024-01-10T14:02:10.849646Z"
    }
   },
   "id": "951ff4a5d45a9675"
  },
  {
   "cell_type": "code",
   "execution_count": 548,
   "outputs": [],
   "source": [
    "df_og = pd.read_csv(\"../../data_v2/hr_extended_features.csv\")"
   ],
   "metadata": {
    "collapsed": false,
    "ExecuteTime": {
     "end_time": "2024-01-10T14:14:26.830100Z",
     "start_time": "2024-01-10T14:14:26.191514Z"
    }
   },
   "id": "4d0a12699122a1bd"
  },
  {
   "cell_type": "code",
   "execution_count": 547,
   "outputs": [
    {
     "data": {
      "text/plain": "       Unnamed: 0.2  Unnamed: 0.1  Unnamed: 0  \\\n0                 0             0           0   \n1                 1             1           1   \n2                 2             2           2   \n3                 3             3           3   \n4                 4             4           4   \n...             ...           ...         ...   \n33068         33068         11958       11958   \n33069         33069         11959       11959   \n33070         33070         11960       11960   \n33071         33071         11961       11961   \n33072         33072         11962       11962   \n\n                                    FileName                BusinessActivity  \\\n0      GenerateJobApplicationActivity_1.pcap  GenerateJobApplicationActivity   \n1      GenerateJobApplicationActivity_1.pcap  GenerateJobApplicationActivity   \n2      GenerateJobApplicationActivity_1.pcap  GenerateJobApplicationActivity   \n3      GenerateJobApplicationActivity_1.pcap  GenerateJobApplicationActivity   \n4      GenerateJobApplicationActivity_1.pcap  GenerateJobApplicationActivity   \n...                                      ...                             ...   \n33068          ResumeReviewActivity_250.pcap            ResumeReviewActivity   \n33069          ResumeReviewActivity_250.pcap            ResumeReviewActivity   \n33070          ResumeReviewActivity_250.pcap            ResumeReviewActivity   \n33071          ResumeReviewActivity_250.pcap            ResumeReviewActivity   \n33072          ResumeReviewActivity_250.pcap            ResumeReviewActivity   \n\n       frame.number              sniff_time_str                  sniff_time  \\\n0                26  2020-05-12 09:57:23.762710  2020-05-12 09:57:23.762710   \n1               127  2020-05-12 09:57:28.092427  2020-05-12 09:57:28.092427   \n2               135  2020-05-12 09:57:28.094494  2020-05-12 09:57:28.094494   \n3               192  2020-05-12 09:57:28.580005  2020-05-12 09:57:28.580005   \n4               216  2020-05-12 09:57:28.729685  2020-05-12 09:57:28.729685   \n...             ...                         ...                         ...   \n33068           729  2020-05-14 00:17:45.346366  2020-05-14 00:17:45.346366   \n33069           766  2020-05-14 00:17:45.361497  2020-05-14 00:17:45.361497   \n33070           774  2020-05-14 00:17:45.363203  2020-05-14 00:17:45.363203   \n33071           840  2020-05-14 00:17:45.427437  2020-05-14 00:17:45.427437   \n33072           847  2020-05-14 00:17:45.430315  2020-05-14 00:17:45.430315   \n\n       InstanceNumber        synthetic_sniff_time  ...  \\\n0                   1  2020-05-13 10:07:18.092710  ...   \n1                   1  2020-05-13 22:08:59.592427  ...   \n2                   1  2020-05-13 22:09:20.264494  ...   \n3                   1  2020-05-13 23:30:15.860005  ...   \n4                   1  2020-05-13 23:55:12.809685  ...   \n...               ...                         ...  ...   \n33068             250  2020-05-14 04:15:16.416366  ...   \n33069             250  2020-05-14 04:17:47.741497  ...   \n33070             250  2020-05-14 04:18:04.803203  ...   \n33071             250  2020-05-14 04:28:47.207437  ...   \n33072             250  2020-05-14 04:29:15.990315  ...   \n\n                                               file_data IsStartActivity  \\\n0                                            ['version']             NaN   \n1      ['server_version', '12.0-20190820', 'server_ve...             0.0   \n2      ['authenticate', 'odoo01', 'dana.wireless@gmai...             0.0   \n3                                                    NaN             0.0   \n4                                                  ['6']             0.0   \n...                                                  ...             ...   \n33068                                                NaN             0.0   \n33069                                              ['1']             0.0   \n33070  ['execute_kw', 'odoo01', '6', '123456789', 'hr...             0.0   \n33071                                                NaN             0.0   \n33072  ['faultCode', '1', 'faultString', 'Traceback (...             0.0   \n\n      IsEndActivity  ActivityAction IsEndBP IsStartBP  \\\n0               0.0  Activity Start   False      True   \n1               0.0        NoAction   False     False   \n2               0.0        NoAction   False     False   \n3               0.0        NoAction   False     False   \n4               0.0        NoAction   False     False   \n...             ...             ...     ...       ...   \n33068           0.0        NoAction   False     False   \n33069           0.0        NoAction   False     False   \n33070           0.0        NoAction   False     False   \n33071           0.0        NoAction   False     False   \n33072        -224.0    Activity End    True     False   \n\n                selective_filter_data origin_request_method  \\\n0                             version                   NaN   \n1                                 NaN               version   \n2                                 NaN                   NaN   \n3                                 NaN                   NaN   \n4                            IsNumber          authenticate   \n...                               ...                   ...   \n33068                             NaN                   NaN   \n33069                        IsNumber            execute_kw   \n33070  hr.applicant_archive_applicant                   NaN   \n33071                             NaN                   NaN   \n33072                       faultCode                   NaN   \n\n        origin_selective_filter_data is_archive_applicant  \n0                                NaN                False  \n1                            version                False  \n2                                NaN                False  \n3                                NaN                False  \n4                                NaN                False  \n...                              ...                  ...  \n33068                            NaN                False  \n33069  hr.applicant_write_stage_id_2                 True  \n33070                            NaN                False  \n33071                            NaN                False  \n33072                            NaN                False  \n\n[33073 rows x 36 columns]",
      "text/html": "<div>\n<style scoped>\n    .dataframe tbody tr th:only-of-type {\n        vertical-align: middle;\n    }\n\n    .dataframe tbody tr th {\n        vertical-align: top;\n    }\n\n    .dataframe thead th {\n        text-align: right;\n    }\n</style>\n<table border=\"1\" class=\"dataframe\">\n  <thead>\n    <tr style=\"text-align: right;\">\n      <th></th>\n      <th>Unnamed: 0.2</th>\n      <th>Unnamed: 0.1</th>\n      <th>Unnamed: 0</th>\n      <th>FileName</th>\n      <th>BusinessActivity</th>\n      <th>frame.number</th>\n      <th>sniff_time_str</th>\n      <th>sniff_time</th>\n      <th>InstanceNumber</th>\n      <th>synthetic_sniff_time</th>\n      <th>...</th>\n      <th>file_data</th>\n      <th>IsStartActivity</th>\n      <th>IsEndActivity</th>\n      <th>ActivityAction</th>\n      <th>IsEndBP</th>\n      <th>IsStartBP</th>\n      <th>selective_filter_data</th>\n      <th>origin_request_method</th>\n      <th>origin_selective_filter_data</th>\n      <th>is_archive_applicant</th>\n    </tr>\n  </thead>\n  <tbody>\n    <tr>\n      <th>0</th>\n      <td>0</td>\n      <td>0</td>\n      <td>0</td>\n      <td>GenerateJobApplicationActivity_1.pcap</td>\n      <td>GenerateJobApplicationActivity</td>\n      <td>26</td>\n      <td>2020-05-12 09:57:23.762710</td>\n      <td>2020-05-12 09:57:23.762710</td>\n      <td>1</td>\n      <td>2020-05-13 10:07:18.092710</td>\n      <td>...</td>\n      <td>['version']</td>\n      <td>NaN</td>\n      <td>0.0</td>\n      <td>Activity Start</td>\n      <td>False</td>\n      <td>True</td>\n      <td>version</td>\n      <td>NaN</td>\n      <td>NaN</td>\n      <td>False</td>\n    </tr>\n    <tr>\n      <th>1</th>\n      <td>1</td>\n      <td>1</td>\n      <td>1</td>\n      <td>GenerateJobApplicationActivity_1.pcap</td>\n      <td>GenerateJobApplicationActivity</td>\n      <td>127</td>\n      <td>2020-05-12 09:57:28.092427</td>\n      <td>2020-05-12 09:57:28.092427</td>\n      <td>1</td>\n      <td>2020-05-13 22:08:59.592427</td>\n      <td>...</td>\n      <td>['server_version', '12.0-20190820', 'server_ve...</td>\n      <td>0.0</td>\n      <td>0.0</td>\n      <td>NoAction</td>\n      <td>False</td>\n      <td>False</td>\n      <td>NaN</td>\n      <td>version</td>\n      <td>version</td>\n      <td>False</td>\n    </tr>\n    <tr>\n      <th>2</th>\n      <td>2</td>\n      <td>2</td>\n      <td>2</td>\n      <td>GenerateJobApplicationActivity_1.pcap</td>\n      <td>GenerateJobApplicationActivity</td>\n      <td>135</td>\n      <td>2020-05-12 09:57:28.094494</td>\n      <td>2020-05-12 09:57:28.094494</td>\n      <td>1</td>\n      <td>2020-05-13 22:09:20.264494</td>\n      <td>...</td>\n      <td>['authenticate', 'odoo01', 'dana.wireless@gmai...</td>\n      <td>0.0</td>\n      <td>0.0</td>\n      <td>NoAction</td>\n      <td>False</td>\n      <td>False</td>\n      <td>NaN</td>\n      <td>NaN</td>\n      <td>NaN</td>\n      <td>False</td>\n    </tr>\n    <tr>\n      <th>3</th>\n      <td>3</td>\n      <td>3</td>\n      <td>3</td>\n      <td>GenerateJobApplicationActivity_1.pcap</td>\n      <td>GenerateJobApplicationActivity</td>\n      <td>192</td>\n      <td>2020-05-12 09:57:28.580005</td>\n      <td>2020-05-12 09:57:28.580005</td>\n      <td>1</td>\n      <td>2020-05-13 23:30:15.860005</td>\n      <td>...</td>\n      <td>NaN</td>\n      <td>0.0</td>\n      <td>0.0</td>\n      <td>NoAction</td>\n      <td>False</td>\n      <td>False</td>\n      <td>NaN</td>\n      <td>NaN</td>\n      <td>NaN</td>\n      <td>False</td>\n    </tr>\n    <tr>\n      <th>4</th>\n      <td>4</td>\n      <td>4</td>\n      <td>4</td>\n      <td>GenerateJobApplicationActivity_1.pcap</td>\n      <td>GenerateJobApplicationActivity</td>\n      <td>216</td>\n      <td>2020-05-12 09:57:28.729685</td>\n      <td>2020-05-12 09:57:28.729685</td>\n      <td>1</td>\n      <td>2020-05-13 23:55:12.809685</td>\n      <td>...</td>\n      <td>['6']</td>\n      <td>0.0</td>\n      <td>0.0</td>\n      <td>NoAction</td>\n      <td>False</td>\n      <td>False</td>\n      <td>IsNumber</td>\n      <td>authenticate</td>\n      <td>NaN</td>\n      <td>False</td>\n    </tr>\n    <tr>\n      <th>...</th>\n      <td>...</td>\n      <td>...</td>\n      <td>...</td>\n      <td>...</td>\n      <td>...</td>\n      <td>...</td>\n      <td>...</td>\n      <td>...</td>\n      <td>...</td>\n      <td>...</td>\n      <td>...</td>\n      <td>...</td>\n      <td>...</td>\n      <td>...</td>\n      <td>...</td>\n      <td>...</td>\n      <td>...</td>\n      <td>...</td>\n      <td>...</td>\n      <td>...</td>\n      <td>...</td>\n    </tr>\n    <tr>\n      <th>33068</th>\n      <td>33068</td>\n      <td>11958</td>\n      <td>11958</td>\n      <td>ResumeReviewActivity_250.pcap</td>\n      <td>ResumeReviewActivity</td>\n      <td>729</td>\n      <td>2020-05-14 00:17:45.346366</td>\n      <td>2020-05-14 00:17:45.346366</td>\n      <td>250</td>\n      <td>2020-05-14 04:15:16.416366</td>\n      <td>...</td>\n      <td>NaN</td>\n      <td>0.0</td>\n      <td>0.0</td>\n      <td>NoAction</td>\n      <td>False</td>\n      <td>False</td>\n      <td>NaN</td>\n      <td>NaN</td>\n      <td>NaN</td>\n      <td>False</td>\n    </tr>\n    <tr>\n      <th>33069</th>\n      <td>33069</td>\n      <td>11959</td>\n      <td>11959</td>\n      <td>ResumeReviewActivity_250.pcap</td>\n      <td>ResumeReviewActivity</td>\n      <td>766</td>\n      <td>2020-05-14 00:17:45.361497</td>\n      <td>2020-05-14 00:17:45.361497</td>\n      <td>250</td>\n      <td>2020-05-14 04:17:47.741497</td>\n      <td>...</td>\n      <td>['1']</td>\n      <td>0.0</td>\n      <td>0.0</td>\n      <td>NoAction</td>\n      <td>False</td>\n      <td>False</td>\n      <td>IsNumber</td>\n      <td>execute_kw</td>\n      <td>hr.applicant_write_stage_id_2</td>\n      <td>True</td>\n    </tr>\n    <tr>\n      <th>33070</th>\n      <td>33070</td>\n      <td>11960</td>\n      <td>11960</td>\n      <td>ResumeReviewActivity_250.pcap</td>\n      <td>ResumeReviewActivity</td>\n      <td>774</td>\n      <td>2020-05-14 00:17:45.363203</td>\n      <td>2020-05-14 00:17:45.363203</td>\n      <td>250</td>\n      <td>2020-05-14 04:18:04.803203</td>\n      <td>...</td>\n      <td>['execute_kw', 'odoo01', '6', '123456789', 'hr...</td>\n      <td>0.0</td>\n      <td>0.0</td>\n      <td>NoAction</td>\n      <td>False</td>\n      <td>False</td>\n      <td>hr.applicant_archive_applicant</td>\n      <td>NaN</td>\n      <td>NaN</td>\n      <td>False</td>\n    </tr>\n    <tr>\n      <th>33071</th>\n      <td>33071</td>\n      <td>11961</td>\n      <td>11961</td>\n      <td>ResumeReviewActivity_250.pcap</td>\n      <td>ResumeReviewActivity</td>\n      <td>840</td>\n      <td>2020-05-14 00:17:45.427437</td>\n      <td>2020-05-14 00:17:45.427437</td>\n      <td>250</td>\n      <td>2020-05-14 04:28:47.207437</td>\n      <td>...</td>\n      <td>NaN</td>\n      <td>0.0</td>\n      <td>0.0</td>\n      <td>NoAction</td>\n      <td>False</td>\n      <td>False</td>\n      <td>NaN</td>\n      <td>NaN</td>\n      <td>NaN</td>\n      <td>False</td>\n    </tr>\n    <tr>\n      <th>33072</th>\n      <td>33072</td>\n      <td>11962</td>\n      <td>11962</td>\n      <td>ResumeReviewActivity_250.pcap</td>\n      <td>ResumeReviewActivity</td>\n      <td>847</td>\n      <td>2020-05-14 00:17:45.430315</td>\n      <td>2020-05-14 00:17:45.430315</td>\n      <td>250</td>\n      <td>2020-05-14 04:29:15.990315</td>\n      <td>...</td>\n      <td>['faultCode', '1', 'faultString', 'Traceback (...</td>\n      <td>0.0</td>\n      <td>-224.0</td>\n      <td>Activity End</td>\n      <td>True</td>\n      <td>False</td>\n      <td>faultCode</td>\n      <td>NaN</td>\n      <td>NaN</td>\n      <td>False</td>\n    </tr>\n  </tbody>\n</table>\n<p>33073 rows × 36 columns</p>\n</div>"
     },
     "execution_count": 547,
     "metadata": {},
     "output_type": "execute_result"
    }
   ],
   "source": [
    "df_og"
   ],
   "metadata": {
    "collapsed": false,
    "ExecuteTime": {
     "end_time": "2024-01-10T14:03:22.800896Z",
     "start_time": "2024-01-10T14:03:22.777680Z"
    }
   },
   "id": "edfbc6fb768eda23"
  },
  {
   "cell_type": "code",
   "execution_count": 535,
   "outputs": [],
   "source": [
    "df_r4 = df_r4.fillna(\"\")\n",
    "df_r4_il = df_r4_il.fillna(\"\")\n",
    "\n",
    "# Form Sequences by Grouping\n",
    "df_r4 = df_r4.sort_values(by=[\"InstanceNumber\", \"BusinessActivity\", \"frame.number\"])\n",
    "df_r4[\"SequenceNumber\"] = df_r4.groupby([\"BusinessActivity\", \"InstanceNumber\"]).ngroup()\n",
    "df_r4[\"SequenceNumber\"] -= df_r4['SequenceNumber'].min()"
   ],
   "metadata": {
    "collapsed": false,
    "ExecuteTime": {
     "end_time": "2024-01-10T10:14:15.750735Z",
     "start_time": "2024-01-10T10:14:15.707120Z"
    }
   },
   "id": "67a585d9c70a4694"
  },
  {
   "cell_type": "code",
   "execution_count": 525,
   "outputs": [],
   "source": [
    "df_train = df_r4\n",
    "df_test = df_r4_il"
   ],
   "metadata": {
    "collapsed": false,
    "ExecuteTime": {
     "end_time": "2024-01-10T09:31:29.307723Z",
     "start_time": "2024-01-10T09:31:29.300167Z"
    }
   },
   "id": "73d2ebdacc0f5aab"
  },
  {
   "cell_type": "code",
   "execution_count": 516,
   "outputs": [],
   "source": [
    "fw = 10\n",
    "bw = 5\n",
    "ws = fw + bw +1"
   ],
   "metadata": {
    "collapsed": false,
    "ExecuteTime": {
     "end_time": "2024-01-10T09:12:19.835242Z",
     "start_time": "2024-01-10T09:12:19.831859Z"
    }
   },
   "id": "5ee856a2a434168c"
  },
  {
   "cell_type": "code",
   "execution_count": 539,
   "outputs": [],
   "source": [
    "# Reshape Dataframe \n",
    "\n",
    "# Fits a Sliding window over the dataframe\n",
    "def reshape_sliding_window(data, window_shape):\n",
    "    return np.squeeze(sliding_window_view(data,window_shape),axis =1)\n",
    "\n",
    "# Reshapes the Dataframe into Sequences of Length N\n",
    "def reshape_sequences(data, seq_length):\n",
    "    data = data.values\n",
    "    num_seq = data.shape[0] // seq_length\n",
    "    return data[:num_seq*seq_length].reshape((num_seq, seq_length, data.shape[1]))\n",
    "\n",
    "# Divides dataframe into arrays according to to Seq_Data Indicator\n",
    "def sequence_by_activities(data, seq_data): \n",
    "    return [data[seq_data == i][cols].values for i in range(seq_data.max())]\n",
    "\n",
    "def chunk_list(list,n): \n",
    "    return [list[i * n:(i + 1) * n] for i in range((len(list) + n - 1) // n )]\n",
    "\n",
    "\n",
    "\n",
    "def extract_labels(data): \n",
    "    return data[:,:,-1].tolist()\n",
    "\n",
    "# Encode Featuees\n",
    "\n",
    "def seq2features(seq, bw, fw ,feature_list): \n",
    "    # seq [0] = Position in Sequence\n",
    "    # seq [0,4] = Feature 4 an Position 0 \n",
    "    return [event2features(seq,i, bw, fw, feature_list) for i in range(len(seq))]\n",
    "\n",
    "\n",
    "def event2features(seq, i,bw, fw, feature_list): \n",
    "    # event features \n",
    "    features = {\n",
    "        feature_list[j]: seq[i,j] for j in range(len(feature_list))        \n",
    "    }\n",
    "    \n",
    "    # backward features 1...bw\n",
    "    for k in range(1,bw+1): \n",
    "        index = i - k\n",
    "        if index >= 0: \n",
    "            features.update({\n",
    "                f\"-{k}:{feature_list[j]}\" : seq[index,j] for j in range(len(feature_list))\n",
    "            })\n",
    "              \n",
    "    # forward features 1...fw\n",
    "    for k in range(1, fw+1): \n",
    "        index = i + k\n",
    "        if index < len(seq): \n",
    "            features.update({\n",
    "                f\"+{k}:{feature_list[j]}\" : seq[index, j] for j in range(len(feature_list))\n",
    "            })\n",
    "            \n",
    "    # remove all emptfey String features        \n",
    "    features = {key: value for key, value in features.items() if value != ''}\n",
    "    return features\n",
    "        \n",
    "\n",
    "\n",
    "cols = [\"event_with_roles\", \"selective_file_data\",\"origin_file_data\",\"task_position\"]\n",
    "feature_list = [\"event_with_roles\", \"selective_file_data\",\"origin_file_data\"]\n",
    "# Sliding Window \n",
    "window_shape = (ws, len(cols))\n",
    "train_data_sw = reshape_sliding_window(df_train[cols], window_shape)\n",
    "test_data_sw = reshape_sliding_window(df_test[cols], window_shape)\n",
    "\n",
    "train_labels_sw = extract_labels(train_data_sw)\n",
    "test_labels_sw = extract_labels(test_data_sw)\n",
    "\n",
    "train_features_sw = [seq2features(s, bw, fw, feature_list) for s in train_data_sw]\n",
    "test_features_sw = [seq2features(s, bw, fw, feature_list) for s in test_data_sw]\n",
    "\n",
    "# Fixed Sequence Length \n",
    "train_data_seq = reshape_sequences(df_train[cols], 15)\n",
    "test_data_seq = reshape_sequences(df_test[cols], 15)\n",
    "\n",
    "train_features_seq = [seq2features(s, bw, fw, feature_list) for s in train_data_seq]\n",
    "test_features_seq = [seq2features(s, bw, fw, feature_list) for s in test_data_seq]\n",
    "\n",
    "train_labels_seq = extract_labels(train_data_seq)\n",
    "test_labels_seq = extract_labels(test_data_seq)\n",
    "\n",
    "# Sequence by Activities\n",
    "train_data_act = sequence_by_activities(df_train[cols], df_train[\"SequenceNumber\"])\n",
    "train_labels_act = [seq[:,-1].tolist() for seq in train_data_act]\n",
    "train_features_act = [seq2features(s, bw, fw, feature_list) for s in train_data_act]\n",
    "\n",
    "# Generate Features first by overlapping then sequence the data\n",
    "train_features_ol = chunk_list(seq2features(df_train[feature_list].fillna(\"\").values, bw, fw, feature_list),15)\n",
    "test_features_ol = chunk_list(seq2features(df_test[feature_list].fillna(\"\").values, bw, fw, feature_list),15)\n",
    "\n",
    "train_labels_ol = chunk_list(df_train[\"task_position\"].values, 15)\n",
    "test_labels_ol = chunk_list(df_test[\"task_position\"], 15)"
   ],
   "metadata": {
    "collapsed": false,
    "ExecuteTime": {
     "end_time": "2024-01-10T10:41:19.381764Z",
     "start_time": "2024-01-10T10:41:11.518860Z"
    }
   },
   "id": "a4fe747ec0d9bd4e"
  },
  {
   "cell_type": "markdown",
   "source": [
    "## Model"
   ],
   "metadata": {
    "collapsed": false
   },
   "id": "2ddcb16ac296b8c0"
  },
  {
   "cell_type": "code",
   "execution_count": 503,
   "outputs": [],
   "source": [
    "train_features = train_features_act\n",
    "train_labels = train_labels_act\n",
    "test_features = test_features_seq\n",
    "test_labels = test_labels_seq"
   ],
   "metadata": {
    "collapsed": false,
    "ExecuteTime": {
     "end_time": "2024-01-10T09:08:28.307674Z",
     "start_time": "2024-01-10T09:08:28.299806Z"
    }
   },
   "id": "8e033ed591e45612"
  },
  {
   "cell_type": "code",
   "execution_count": 532,
   "outputs": [],
   "source": [
    "X_train, X_test, y_train, y_test = train_test_split(train_features, train_labels, test_size=0.3, random_state=42, shuffle=True)"
   ],
   "metadata": {
    "collapsed": false,
    "ExecuteTime": {
     "end_time": "2024-01-10T10:12:08.071803Z",
     "start_time": "2024-01-10T10:12:08.021860Z"
    }
   },
   "id": "ff7856a5ce82e248"
  },
  {
   "cell_type": "code",
   "execution_count": 534,
   "outputs": [
    {
     "data": {
      "text/plain": "[{'event_with_roles': 'End Point (Employee)->Odoo Application: [HttpRequest:POST /xmlrpc/2/common HTTP/1.1\\\\r\\\\n]',\n  'selective_file_data': 'version',\n  '+1:event_with_roles': 'Odoo Application->End Point (Employee): [HttpResponse:HTTP/1.0 200 OK\\\\r\\\\n]',\n  '+1:origin_file_data': 'version',\n  '+2:event_with_roles': 'End Point (Employee)->Odoo Application: [HttpRequest:POST /xmlrpc/2/common HTTP/1.1\\\\r\\\\n]',\n  '+3:event_with_roles': \"Odoo Application->db Server/Mail Server: [PgsqlRequest:Simple query:INSERT:['res_users_log']]\",\n  '+4:event_with_roles': 'Odoo Application->End Point (Employee): [HttpResponse:HTTP/1.0 200 OK\\\\r\\\\n]',\n  '+4:selective_file_data': 'IsNumber',\n  '+5:event_with_roles': 'End Point (Employee)->Odoo Application: [HttpRequest:POST /xmlrpc/2/object HTTP/1.1\\\\r\\\\n]',\n  '+5:selective_file_data': 'product.product_search_read',\n  '+6:event_with_roles': 'Odoo Application->End Point (Employee): [HttpResponse:HTTP/1.0 200 OK\\\\r\\\\n]',\n  '+6:selective_file_data': 'name',\n  '+6:origin_file_data': 'product.product_search_read',\n  '+7:event_with_roles': 'End Point (Employee)->Odoo Application: [HttpRequest:POST /xmlrpc/2/object HTTP/1.1\\\\r\\\\n]',\n  '+7:selective_file_data': 'sale.order_create',\n  '+8:event_with_roles': \"Odoo Application->db Server/Mail Server: [PgsqlRequest:Simple query:INSERT:['sale_order']]\",\n  '+9:event_with_roles': \"Odoo Application->db Server/Mail Server: [PgsqlRequest:Simple query:INSERT:['mail_followers']]\",\n  '+10:event_with_roles': \"Odoo Application->db Server/Mail Server: [PgsqlRequest:Simple query:INSERT:['mail_followers_mail_message_subtype_rel']]\"},\n {'event_with_roles': 'Odoo Application->End Point (Employee): [HttpResponse:HTTP/1.0 200 OK\\\\r\\\\n]',\n  'origin_file_data': 'version',\n  '-1:event_with_roles': 'End Point (Employee)->Odoo Application: [HttpRequest:POST /xmlrpc/2/common HTTP/1.1\\\\r\\\\n]',\n  '-1:selective_file_data': 'version',\n  '+1:event_with_roles': 'End Point (Employee)->Odoo Application: [HttpRequest:POST /xmlrpc/2/common HTTP/1.1\\\\r\\\\n]',\n  '+2:event_with_roles': \"Odoo Application->db Server/Mail Server: [PgsqlRequest:Simple query:INSERT:['res_users_log']]\",\n  '+3:event_with_roles': 'Odoo Application->End Point (Employee): [HttpResponse:HTTP/1.0 200 OK\\\\r\\\\n]',\n  '+3:selective_file_data': 'IsNumber',\n  '+4:event_with_roles': 'End Point (Employee)->Odoo Application: [HttpRequest:POST /xmlrpc/2/object HTTP/1.1\\\\r\\\\n]',\n  '+4:selective_file_data': 'product.product_search_read',\n  '+5:event_with_roles': 'Odoo Application->End Point (Employee): [HttpResponse:HTTP/1.0 200 OK\\\\r\\\\n]',\n  '+5:selective_file_data': 'name',\n  '+5:origin_file_data': 'product.product_search_read',\n  '+6:event_with_roles': 'End Point (Employee)->Odoo Application: [HttpRequest:POST /xmlrpc/2/object HTTP/1.1\\\\r\\\\n]',\n  '+6:selective_file_data': 'sale.order_create',\n  '+7:event_with_roles': \"Odoo Application->db Server/Mail Server: [PgsqlRequest:Simple query:INSERT:['sale_order']]\",\n  '+8:event_with_roles': \"Odoo Application->db Server/Mail Server: [PgsqlRequest:Simple query:INSERT:['mail_followers']]\",\n  '+9:event_with_roles': \"Odoo Application->db Server/Mail Server: [PgsqlRequest:Simple query:INSERT:['mail_followers_mail_message_subtype_rel']]\",\n  '+10:event_with_roles': \"Odoo Application->db Server/Mail Server: [PgsqlRequest:Simple query:UPDATE:['sale_order']]\"},\n {'event_with_roles': 'End Point (Employee)->Odoo Application: [HttpRequest:POST /xmlrpc/2/common HTTP/1.1\\\\r\\\\n]',\n  '-1:event_with_roles': 'Odoo Application->End Point (Employee): [HttpResponse:HTTP/1.0 200 OK\\\\r\\\\n]',\n  '-1:origin_file_data': 'version',\n  '-2:event_with_roles': 'End Point (Employee)->Odoo Application: [HttpRequest:POST /xmlrpc/2/common HTTP/1.1\\\\r\\\\n]',\n  '-2:selective_file_data': 'version',\n  '+1:event_with_roles': \"Odoo Application->db Server/Mail Server: [PgsqlRequest:Simple query:INSERT:['res_users_log']]\",\n  '+2:event_with_roles': 'Odoo Application->End Point (Employee): [HttpResponse:HTTP/1.0 200 OK\\\\r\\\\n]',\n  '+2:selective_file_data': 'IsNumber',\n  '+3:event_with_roles': 'End Point (Employee)->Odoo Application: [HttpRequest:POST /xmlrpc/2/object HTTP/1.1\\\\r\\\\n]',\n  '+3:selective_file_data': 'product.product_search_read',\n  '+4:event_with_roles': 'Odoo Application->End Point (Employee): [HttpResponse:HTTP/1.0 200 OK\\\\r\\\\n]',\n  '+4:selective_file_data': 'name',\n  '+4:origin_file_data': 'product.product_search_read',\n  '+5:event_with_roles': 'End Point (Employee)->Odoo Application: [HttpRequest:POST /xmlrpc/2/object HTTP/1.1\\\\r\\\\n]',\n  '+5:selective_file_data': 'sale.order_create',\n  '+6:event_with_roles': \"Odoo Application->db Server/Mail Server: [PgsqlRequest:Simple query:INSERT:['sale_order']]\",\n  '+7:event_with_roles': \"Odoo Application->db Server/Mail Server: [PgsqlRequest:Simple query:INSERT:['mail_followers']]\",\n  '+8:event_with_roles': \"Odoo Application->db Server/Mail Server: [PgsqlRequest:Simple query:INSERT:['mail_followers_mail_message_subtype_rel']]\",\n  '+9:event_with_roles': \"Odoo Application->db Server/Mail Server: [PgsqlRequest:Simple query:UPDATE:['sale_order']]\",\n  '+10:event_with_roles': \"Odoo Application->db Server/Mail Server: [PgsqlRequest:Simple query:UPDATE:['sale_order']]\"},\n {'event_with_roles': \"Odoo Application->db Server/Mail Server: [PgsqlRequest:Simple query:INSERT:['res_users_log']]\",\n  '-1:event_with_roles': 'End Point (Employee)->Odoo Application: [HttpRequest:POST /xmlrpc/2/common HTTP/1.1\\\\r\\\\n]',\n  '-2:event_with_roles': 'Odoo Application->End Point (Employee): [HttpResponse:HTTP/1.0 200 OK\\\\r\\\\n]',\n  '-2:origin_file_data': 'version',\n  '-3:event_with_roles': 'End Point (Employee)->Odoo Application: [HttpRequest:POST /xmlrpc/2/common HTTP/1.1\\\\r\\\\n]',\n  '-3:selective_file_data': 'version',\n  '+1:event_with_roles': 'Odoo Application->End Point (Employee): [HttpResponse:HTTP/1.0 200 OK\\\\r\\\\n]',\n  '+1:selective_file_data': 'IsNumber',\n  '+2:event_with_roles': 'End Point (Employee)->Odoo Application: [HttpRequest:POST /xmlrpc/2/object HTTP/1.1\\\\r\\\\n]',\n  '+2:selective_file_data': 'product.product_search_read',\n  '+3:event_with_roles': 'Odoo Application->End Point (Employee): [HttpResponse:HTTP/1.0 200 OK\\\\r\\\\n]',\n  '+3:selective_file_data': 'name',\n  '+3:origin_file_data': 'product.product_search_read',\n  '+4:event_with_roles': 'End Point (Employee)->Odoo Application: [HttpRequest:POST /xmlrpc/2/object HTTP/1.1\\\\r\\\\n]',\n  '+4:selective_file_data': 'sale.order_create',\n  '+5:event_with_roles': \"Odoo Application->db Server/Mail Server: [PgsqlRequest:Simple query:INSERT:['sale_order']]\",\n  '+6:event_with_roles': \"Odoo Application->db Server/Mail Server: [PgsqlRequest:Simple query:INSERT:['mail_followers']]\",\n  '+7:event_with_roles': \"Odoo Application->db Server/Mail Server: [PgsqlRequest:Simple query:INSERT:['mail_followers_mail_message_subtype_rel']]\",\n  '+8:event_with_roles': \"Odoo Application->db Server/Mail Server: [PgsqlRequest:Simple query:UPDATE:['sale_order']]\",\n  '+9:event_with_roles': \"Odoo Application->db Server/Mail Server: [PgsqlRequest:Simple query:UPDATE:['sale_order']]\",\n  '+10:event_with_roles': \"Odoo Application->db Server/Mail Server: [PgsqlRequest:Simple query:UPDATE:['sale_order']]\"},\n {'event_with_roles': 'Odoo Application->End Point (Employee): [HttpResponse:HTTP/1.0 200 OK\\\\r\\\\n]',\n  'selective_file_data': 'IsNumber',\n  '-1:event_with_roles': \"Odoo Application->db Server/Mail Server: [PgsqlRequest:Simple query:INSERT:['res_users_log']]\",\n  '-2:event_with_roles': 'End Point (Employee)->Odoo Application: [HttpRequest:POST /xmlrpc/2/common HTTP/1.1\\\\r\\\\n]',\n  '-3:event_with_roles': 'Odoo Application->End Point (Employee): [HttpResponse:HTTP/1.0 200 OK\\\\r\\\\n]',\n  '-3:origin_file_data': 'version',\n  '-4:event_with_roles': 'End Point (Employee)->Odoo Application: [HttpRequest:POST /xmlrpc/2/common HTTP/1.1\\\\r\\\\n]',\n  '-4:selective_file_data': 'version',\n  '+1:event_with_roles': 'End Point (Employee)->Odoo Application: [HttpRequest:POST /xmlrpc/2/object HTTP/1.1\\\\r\\\\n]',\n  '+1:selective_file_data': 'product.product_search_read',\n  '+2:event_with_roles': 'Odoo Application->End Point (Employee): [HttpResponse:HTTP/1.0 200 OK\\\\r\\\\n]',\n  '+2:selective_file_data': 'name',\n  '+2:origin_file_data': 'product.product_search_read',\n  '+3:event_with_roles': 'End Point (Employee)->Odoo Application: [HttpRequest:POST /xmlrpc/2/object HTTP/1.1\\\\r\\\\n]',\n  '+3:selective_file_data': 'sale.order_create',\n  '+4:event_with_roles': \"Odoo Application->db Server/Mail Server: [PgsqlRequest:Simple query:INSERT:['sale_order']]\",\n  '+5:event_with_roles': \"Odoo Application->db Server/Mail Server: [PgsqlRequest:Simple query:INSERT:['mail_followers']]\",\n  '+6:event_with_roles': \"Odoo Application->db Server/Mail Server: [PgsqlRequest:Simple query:INSERT:['mail_followers_mail_message_subtype_rel']]\",\n  '+7:event_with_roles': \"Odoo Application->db Server/Mail Server: [PgsqlRequest:Simple query:UPDATE:['sale_order']]\",\n  '+8:event_with_roles': \"Odoo Application->db Server/Mail Server: [PgsqlRequest:Simple query:UPDATE:['sale_order']]\",\n  '+9:event_with_roles': \"Odoo Application->db Server/Mail Server: [PgsqlRequest:Simple query:UPDATE:['sale_order']]\",\n  '+10:event_with_roles': \"Odoo Application->db Server/Mail Server: [PgsqlRequest:Simple query:UPDATE:['sale_order']]\"},\n {'event_with_roles': 'End Point (Employee)->Odoo Application: [HttpRequest:POST /xmlrpc/2/object HTTP/1.1\\\\r\\\\n]',\n  'selective_file_data': 'product.product_search_read',\n  '-1:event_with_roles': 'Odoo Application->End Point (Employee): [HttpResponse:HTTP/1.0 200 OK\\\\r\\\\n]',\n  '-1:selective_file_data': 'IsNumber',\n  '-2:event_with_roles': \"Odoo Application->db Server/Mail Server: [PgsqlRequest:Simple query:INSERT:['res_users_log']]\",\n  '-3:event_with_roles': 'End Point (Employee)->Odoo Application: [HttpRequest:POST /xmlrpc/2/common HTTP/1.1\\\\r\\\\n]',\n  '-4:event_with_roles': 'Odoo Application->End Point (Employee): [HttpResponse:HTTP/1.0 200 OK\\\\r\\\\n]',\n  '-4:origin_file_data': 'version',\n  '-5:event_with_roles': 'End Point (Employee)->Odoo Application: [HttpRequest:POST /xmlrpc/2/common HTTP/1.1\\\\r\\\\n]',\n  '-5:selective_file_data': 'version',\n  '+1:event_with_roles': 'Odoo Application->End Point (Employee): [HttpResponse:HTTP/1.0 200 OK\\\\r\\\\n]',\n  '+1:selective_file_data': 'name',\n  '+1:origin_file_data': 'product.product_search_read',\n  '+2:event_with_roles': 'End Point (Employee)->Odoo Application: [HttpRequest:POST /xmlrpc/2/object HTTP/1.1\\\\r\\\\n]',\n  '+2:selective_file_data': 'sale.order_create',\n  '+3:event_with_roles': \"Odoo Application->db Server/Mail Server: [PgsqlRequest:Simple query:INSERT:['sale_order']]\",\n  '+4:event_with_roles': \"Odoo Application->db Server/Mail Server: [PgsqlRequest:Simple query:INSERT:['mail_followers']]\",\n  '+5:event_with_roles': \"Odoo Application->db Server/Mail Server: [PgsqlRequest:Simple query:INSERT:['mail_followers_mail_message_subtype_rel']]\",\n  '+6:event_with_roles': \"Odoo Application->db Server/Mail Server: [PgsqlRequest:Simple query:UPDATE:['sale_order']]\",\n  '+7:event_with_roles': \"Odoo Application->db Server/Mail Server: [PgsqlRequest:Simple query:UPDATE:['sale_order']]\",\n  '+8:event_with_roles': \"Odoo Application->db Server/Mail Server: [PgsqlRequest:Simple query:UPDATE:['sale_order']]\",\n  '+9:event_with_roles': \"Odoo Application->db Server/Mail Server: [PgsqlRequest:Simple query:UPDATE:['sale_order']]\",\n  '+10:event_with_roles': \"Odoo Application->db Server/Mail Server: [PgsqlRequest:Simple query:INSERT:['mail_message']]\"},\n {'event_with_roles': 'Odoo Application->End Point (Employee): [HttpResponse:HTTP/1.0 200 OK\\\\r\\\\n]',\n  'selective_file_data': 'name',\n  'origin_file_data': 'product.product_search_read',\n  '-1:event_with_roles': 'End Point (Employee)->Odoo Application: [HttpRequest:POST /xmlrpc/2/object HTTP/1.1\\\\r\\\\n]',\n  '-1:selective_file_data': 'product.product_search_read',\n  '-2:event_with_roles': 'Odoo Application->End Point (Employee): [HttpResponse:HTTP/1.0 200 OK\\\\r\\\\n]',\n  '-2:selective_file_data': 'IsNumber',\n  '-3:event_with_roles': \"Odoo Application->db Server/Mail Server: [PgsqlRequest:Simple query:INSERT:['res_users_log']]\",\n  '-4:event_with_roles': 'End Point (Employee)->Odoo Application: [HttpRequest:POST /xmlrpc/2/common HTTP/1.1\\\\r\\\\n]',\n  '-5:event_with_roles': 'Odoo Application->End Point (Employee): [HttpResponse:HTTP/1.0 200 OK\\\\r\\\\n]',\n  '-5:origin_file_data': 'version',\n  '+1:event_with_roles': 'End Point (Employee)->Odoo Application: [HttpRequest:POST /xmlrpc/2/object HTTP/1.1\\\\r\\\\n]',\n  '+1:selective_file_data': 'sale.order_create',\n  '+2:event_with_roles': \"Odoo Application->db Server/Mail Server: [PgsqlRequest:Simple query:INSERT:['sale_order']]\",\n  '+3:event_with_roles': \"Odoo Application->db Server/Mail Server: [PgsqlRequest:Simple query:INSERT:['mail_followers']]\",\n  '+4:event_with_roles': \"Odoo Application->db Server/Mail Server: [PgsqlRequest:Simple query:INSERT:['mail_followers_mail_message_subtype_rel']]\",\n  '+5:event_with_roles': \"Odoo Application->db Server/Mail Server: [PgsqlRequest:Simple query:UPDATE:['sale_order']]\",\n  '+6:event_with_roles': \"Odoo Application->db Server/Mail Server: [PgsqlRequest:Simple query:UPDATE:['sale_order']]\",\n  '+7:event_with_roles': \"Odoo Application->db Server/Mail Server: [PgsqlRequest:Simple query:UPDATE:['sale_order']]\",\n  '+8:event_with_roles': \"Odoo Application->db Server/Mail Server: [PgsqlRequest:Simple query:UPDATE:['sale_order']]\",\n  '+9:event_with_roles': \"Odoo Application->db Server/Mail Server: [PgsqlRequest:Simple query:INSERT:['mail_message']]\",\n  '+10:event_with_roles': \"Odoo Application->db Server/Mail Server: [PgsqlRequest:Simple query:INSERT:['mail_message']]\"},\n {'event_with_roles': 'End Point (Employee)->Odoo Application: [HttpRequest:POST /xmlrpc/2/object HTTP/1.1\\\\r\\\\n]',\n  'selective_file_data': 'sale.order_create',\n  '-1:event_with_roles': 'Odoo Application->End Point (Employee): [HttpResponse:HTTP/1.0 200 OK\\\\r\\\\n]',\n  '-1:selective_file_data': 'name',\n  '-1:origin_file_data': 'product.product_search_read',\n  '-2:event_with_roles': 'End Point (Employee)->Odoo Application: [HttpRequest:POST /xmlrpc/2/object HTTP/1.1\\\\r\\\\n]',\n  '-2:selective_file_data': 'product.product_search_read',\n  '-3:event_with_roles': 'Odoo Application->End Point (Employee): [HttpResponse:HTTP/1.0 200 OK\\\\r\\\\n]',\n  '-3:selective_file_data': 'IsNumber',\n  '-4:event_with_roles': \"Odoo Application->db Server/Mail Server: [PgsqlRequest:Simple query:INSERT:['res_users_log']]\",\n  '-5:event_with_roles': 'End Point (Employee)->Odoo Application: [HttpRequest:POST /xmlrpc/2/common HTTP/1.1\\\\r\\\\n]',\n  '+1:event_with_roles': \"Odoo Application->db Server/Mail Server: [PgsqlRequest:Simple query:INSERT:['sale_order']]\",\n  '+2:event_with_roles': \"Odoo Application->db Server/Mail Server: [PgsqlRequest:Simple query:INSERT:['mail_followers']]\",\n  '+3:event_with_roles': \"Odoo Application->db Server/Mail Server: [PgsqlRequest:Simple query:INSERT:['mail_followers_mail_message_subtype_rel']]\",\n  '+4:event_with_roles': \"Odoo Application->db Server/Mail Server: [PgsqlRequest:Simple query:UPDATE:['sale_order']]\",\n  '+5:event_with_roles': \"Odoo Application->db Server/Mail Server: [PgsqlRequest:Simple query:UPDATE:['sale_order']]\",\n  '+6:event_with_roles': \"Odoo Application->db Server/Mail Server: [PgsqlRequest:Simple query:UPDATE:['sale_order']]\",\n  '+7:event_with_roles': \"Odoo Application->db Server/Mail Server: [PgsqlRequest:Simple query:UPDATE:['sale_order']]\",\n  '+8:event_with_roles': \"Odoo Application->db Server/Mail Server: [PgsqlRequest:Simple query:INSERT:['mail_message']]\",\n  '+9:event_with_roles': \"Odoo Application->db Server/Mail Server: [PgsqlRequest:Simple query:INSERT:['mail_message']]\",\n  '+10:event_with_roles': \"Odoo Application->db Server/Mail Server: [PgsqlRequest:Simple query:INSERT:['mail_tracking_value']]\"},\n {'event_with_roles': \"Odoo Application->db Server/Mail Server: [PgsqlRequest:Simple query:INSERT:['sale_order']]\",\n  '-1:event_with_roles': 'End Point (Employee)->Odoo Application: [HttpRequest:POST /xmlrpc/2/object HTTP/1.1\\\\r\\\\n]',\n  '-1:selective_file_data': 'sale.order_create',\n  '-2:event_with_roles': 'Odoo Application->End Point (Employee): [HttpResponse:HTTP/1.0 200 OK\\\\r\\\\n]',\n  '-2:selective_file_data': 'name',\n  '-2:origin_file_data': 'product.product_search_read',\n  '-3:event_with_roles': 'End Point (Employee)->Odoo Application: [HttpRequest:POST /xmlrpc/2/object HTTP/1.1\\\\r\\\\n]',\n  '-3:selective_file_data': 'product.product_search_read',\n  '-4:event_with_roles': 'Odoo Application->End Point (Employee): [HttpResponse:HTTP/1.0 200 OK\\\\r\\\\n]',\n  '-4:selective_file_data': 'IsNumber',\n  '-5:event_with_roles': \"Odoo Application->db Server/Mail Server: [PgsqlRequest:Simple query:INSERT:['res_users_log']]\",\n  '+1:event_with_roles': \"Odoo Application->db Server/Mail Server: [PgsqlRequest:Simple query:INSERT:['mail_followers']]\",\n  '+2:event_with_roles': \"Odoo Application->db Server/Mail Server: [PgsqlRequest:Simple query:INSERT:['mail_followers_mail_message_subtype_rel']]\",\n  '+3:event_with_roles': \"Odoo Application->db Server/Mail Server: [PgsqlRequest:Simple query:UPDATE:['sale_order']]\",\n  '+4:event_with_roles': \"Odoo Application->db Server/Mail Server: [PgsqlRequest:Simple query:UPDATE:['sale_order']]\",\n  '+5:event_with_roles': \"Odoo Application->db Server/Mail Server: [PgsqlRequest:Simple query:UPDATE:['sale_order']]\",\n  '+6:event_with_roles': \"Odoo Application->db Server/Mail Server: [PgsqlRequest:Simple query:UPDATE:['sale_order']]\",\n  '+7:event_with_roles': \"Odoo Application->db Server/Mail Server: [PgsqlRequest:Simple query:INSERT:['mail_message']]\",\n  '+8:event_with_roles': \"Odoo Application->db Server/Mail Server: [PgsqlRequest:Simple query:INSERT:['mail_message']]\",\n  '+9:event_with_roles': \"Odoo Application->db Server/Mail Server: [PgsqlRequest:Simple query:INSERT:['mail_tracking_value']]\",\n  '+10:event_with_roles': \"Odoo Application->db Server/Mail Server: [PgsqlRequest:Simple query:INSERT:['mail_tracking_value']]\"},\n {'event_with_roles': \"Odoo Application->db Server/Mail Server: [PgsqlRequest:Simple query:INSERT:['mail_followers']]\",\n  '-1:event_with_roles': \"Odoo Application->db Server/Mail Server: [PgsqlRequest:Simple query:INSERT:['sale_order']]\",\n  '-2:event_with_roles': 'End Point (Employee)->Odoo Application: [HttpRequest:POST /xmlrpc/2/object HTTP/1.1\\\\r\\\\n]',\n  '-2:selective_file_data': 'sale.order_create',\n  '-3:event_with_roles': 'Odoo Application->End Point (Employee): [HttpResponse:HTTP/1.0 200 OK\\\\r\\\\n]',\n  '-3:selective_file_data': 'name',\n  '-3:origin_file_data': 'product.product_search_read',\n  '-4:event_with_roles': 'End Point (Employee)->Odoo Application: [HttpRequest:POST /xmlrpc/2/object HTTP/1.1\\\\r\\\\n]',\n  '-4:selective_file_data': 'product.product_search_read',\n  '-5:event_with_roles': 'Odoo Application->End Point (Employee): [HttpResponse:HTTP/1.0 200 OK\\\\r\\\\n]',\n  '-5:selective_file_data': 'IsNumber',\n  '+1:event_with_roles': \"Odoo Application->db Server/Mail Server: [PgsqlRequest:Simple query:INSERT:['mail_followers_mail_message_subtype_rel']]\",\n  '+2:event_with_roles': \"Odoo Application->db Server/Mail Server: [PgsqlRequest:Simple query:UPDATE:['sale_order']]\",\n  '+3:event_with_roles': \"Odoo Application->db Server/Mail Server: [PgsqlRequest:Simple query:UPDATE:['sale_order']]\",\n  '+4:event_with_roles': \"Odoo Application->db Server/Mail Server: [PgsqlRequest:Simple query:UPDATE:['sale_order']]\",\n  '+5:event_with_roles': \"Odoo Application->db Server/Mail Server: [PgsqlRequest:Simple query:UPDATE:['sale_order']]\",\n  '+6:event_with_roles': \"Odoo Application->db Server/Mail Server: [PgsqlRequest:Simple query:INSERT:['mail_message']]\",\n  '+7:event_with_roles': \"Odoo Application->db Server/Mail Server: [PgsqlRequest:Simple query:INSERT:['mail_message']]\",\n  '+8:event_with_roles': \"Odoo Application->db Server/Mail Server: [PgsqlRequest:Simple query:INSERT:['mail_tracking_value']]\",\n  '+9:event_with_roles': \"Odoo Application->db Server/Mail Server: [PgsqlRequest:Simple query:INSERT:['mail_tracking_value']]\",\n  '+10:event_with_roles': 'Odoo Application->End Point (Employee): [HttpResponse:HTTP/1.0 200 OK\\\\r\\\\n]',\n  '+10:selective_file_data': 'IsNumber',\n  '+10:origin_file_data': 'sale.order_create'},\n {'event_with_roles': \"Odoo Application->db Server/Mail Server: [PgsqlRequest:Simple query:INSERT:['mail_followers_mail_message_subtype_rel']]\",\n  '-1:event_with_roles': \"Odoo Application->db Server/Mail Server: [PgsqlRequest:Simple query:INSERT:['mail_followers']]\",\n  '-2:event_with_roles': \"Odoo Application->db Server/Mail Server: [PgsqlRequest:Simple query:INSERT:['sale_order']]\",\n  '-3:event_with_roles': 'End Point (Employee)->Odoo Application: [HttpRequest:POST /xmlrpc/2/object HTTP/1.1\\\\r\\\\n]',\n  '-3:selective_file_data': 'sale.order_create',\n  '-4:event_with_roles': 'Odoo Application->End Point (Employee): [HttpResponse:HTTP/1.0 200 OK\\\\r\\\\n]',\n  '-4:selective_file_data': 'name',\n  '-4:origin_file_data': 'product.product_search_read',\n  '-5:event_with_roles': 'End Point (Employee)->Odoo Application: [HttpRequest:POST /xmlrpc/2/object HTTP/1.1\\\\r\\\\n]',\n  '-5:selective_file_data': 'product.product_search_read',\n  '+1:event_with_roles': \"Odoo Application->db Server/Mail Server: [PgsqlRequest:Simple query:UPDATE:['sale_order']]\",\n  '+2:event_with_roles': \"Odoo Application->db Server/Mail Server: [PgsqlRequest:Simple query:UPDATE:['sale_order']]\",\n  '+3:event_with_roles': \"Odoo Application->db Server/Mail Server: [PgsqlRequest:Simple query:UPDATE:['sale_order']]\",\n  '+4:event_with_roles': \"Odoo Application->db Server/Mail Server: [PgsqlRequest:Simple query:UPDATE:['sale_order']]\",\n  '+5:event_with_roles': \"Odoo Application->db Server/Mail Server: [PgsqlRequest:Simple query:INSERT:['mail_message']]\",\n  '+6:event_with_roles': \"Odoo Application->db Server/Mail Server: [PgsqlRequest:Simple query:INSERT:['mail_message']]\",\n  '+7:event_with_roles': \"Odoo Application->db Server/Mail Server: [PgsqlRequest:Simple query:INSERT:['mail_tracking_value']]\",\n  '+8:event_with_roles': \"Odoo Application->db Server/Mail Server: [PgsqlRequest:Simple query:INSERT:['mail_tracking_value']]\",\n  '+9:event_with_roles': 'Odoo Application->End Point (Employee): [HttpResponse:HTTP/1.0 200 OK\\\\r\\\\n]',\n  '+9:selective_file_data': 'IsNumber',\n  '+9:origin_file_data': 'sale.order_create',\n  '+10:event_with_roles': 'End Point (Employee)->Odoo Application: [HttpRequest:POST /xmlrpc/2/object HTTP/1.1\\\\r\\\\n]',\n  '+10:selective_file_data': 'sale.order.line_create'},\n {'event_with_roles': \"Odoo Application->db Server/Mail Server: [PgsqlRequest:Simple query:UPDATE:['sale_order']]\",\n  '-1:event_with_roles': \"Odoo Application->db Server/Mail Server: [PgsqlRequest:Simple query:INSERT:['mail_followers_mail_message_subtype_rel']]\",\n  '-2:event_with_roles': \"Odoo Application->db Server/Mail Server: [PgsqlRequest:Simple query:INSERT:['mail_followers']]\",\n  '-3:event_with_roles': \"Odoo Application->db Server/Mail Server: [PgsqlRequest:Simple query:INSERT:['sale_order']]\",\n  '-4:event_with_roles': 'End Point (Employee)->Odoo Application: [HttpRequest:POST /xmlrpc/2/object HTTP/1.1\\\\r\\\\n]',\n  '-4:selective_file_data': 'sale.order_create',\n  '-5:event_with_roles': 'Odoo Application->End Point (Employee): [HttpResponse:HTTP/1.0 200 OK\\\\r\\\\n]',\n  '-5:selective_file_data': 'name',\n  '-5:origin_file_data': 'product.product_search_read',\n  '+1:event_with_roles': \"Odoo Application->db Server/Mail Server: [PgsqlRequest:Simple query:UPDATE:['sale_order']]\",\n  '+2:event_with_roles': \"Odoo Application->db Server/Mail Server: [PgsqlRequest:Simple query:UPDATE:['sale_order']]\",\n  '+3:event_with_roles': \"Odoo Application->db Server/Mail Server: [PgsqlRequest:Simple query:UPDATE:['sale_order']]\",\n  '+4:event_with_roles': \"Odoo Application->db Server/Mail Server: [PgsqlRequest:Simple query:INSERT:['mail_message']]\",\n  '+5:event_with_roles': \"Odoo Application->db Server/Mail Server: [PgsqlRequest:Simple query:INSERT:['mail_message']]\",\n  '+6:event_with_roles': \"Odoo Application->db Server/Mail Server: [PgsqlRequest:Simple query:INSERT:['mail_tracking_value']]\",\n  '+7:event_with_roles': \"Odoo Application->db Server/Mail Server: [PgsqlRequest:Simple query:INSERT:['mail_tracking_value']]\",\n  '+8:event_with_roles': 'Odoo Application->End Point (Employee): [HttpResponse:HTTP/1.0 200 OK\\\\r\\\\n]',\n  '+8:selective_file_data': 'IsNumber',\n  '+8:origin_file_data': 'sale.order_create',\n  '+9:event_with_roles': 'End Point (Employee)->Odoo Application: [HttpRequest:POST /xmlrpc/2/object HTTP/1.1\\\\r\\\\n]',\n  '+9:selective_file_data': 'sale.order.line_create',\n  '+10:event_with_roles': \"Odoo Application->db Server/Mail Server: [PgsqlRequest:Simple query:INSERT:['sale_order_line']]\"},\n {'event_with_roles': \"Odoo Application->db Server/Mail Server: [PgsqlRequest:Simple query:UPDATE:['sale_order']]\",\n  '-1:event_with_roles': \"Odoo Application->db Server/Mail Server: [PgsqlRequest:Simple query:UPDATE:['sale_order']]\",\n  '-2:event_with_roles': \"Odoo Application->db Server/Mail Server: [PgsqlRequest:Simple query:INSERT:['mail_followers_mail_message_subtype_rel']]\",\n  '-3:event_with_roles': \"Odoo Application->db Server/Mail Server: [PgsqlRequest:Simple query:INSERT:['mail_followers']]\",\n  '-4:event_with_roles': \"Odoo Application->db Server/Mail Server: [PgsqlRequest:Simple query:INSERT:['sale_order']]\",\n  '-5:event_with_roles': 'End Point (Employee)->Odoo Application: [HttpRequest:POST /xmlrpc/2/object HTTP/1.1\\\\r\\\\n]',\n  '-5:selective_file_data': 'sale.order_create',\n  '+1:event_with_roles': \"Odoo Application->db Server/Mail Server: [PgsqlRequest:Simple query:UPDATE:['sale_order']]\",\n  '+2:event_with_roles': \"Odoo Application->db Server/Mail Server: [PgsqlRequest:Simple query:UPDATE:['sale_order']]\",\n  '+3:event_with_roles': \"Odoo Application->db Server/Mail Server: [PgsqlRequest:Simple query:INSERT:['mail_message']]\",\n  '+4:event_with_roles': \"Odoo Application->db Server/Mail Server: [PgsqlRequest:Simple query:INSERT:['mail_message']]\",\n  '+5:event_with_roles': \"Odoo Application->db Server/Mail Server: [PgsqlRequest:Simple query:INSERT:['mail_tracking_value']]\",\n  '+6:event_with_roles': \"Odoo Application->db Server/Mail Server: [PgsqlRequest:Simple query:INSERT:['mail_tracking_value']]\",\n  '+7:event_with_roles': 'Odoo Application->End Point (Employee): [HttpResponse:HTTP/1.0 200 OK\\\\r\\\\n]',\n  '+7:selective_file_data': 'IsNumber',\n  '+7:origin_file_data': 'sale.order_create',\n  '+8:event_with_roles': 'End Point (Employee)->Odoo Application: [HttpRequest:POST /xmlrpc/2/object HTTP/1.1\\\\r\\\\n]',\n  '+8:selective_file_data': 'sale.order.line_create',\n  '+9:event_with_roles': \"Odoo Application->db Server/Mail Server: [PgsqlRequest:Simple query:INSERT:['sale_order_line']]\",\n  '+10:event_with_roles': \"Odoo Application->db Server/Mail Server: [PgsqlRequest:Simple query:UPDATE:['sale_order_line']]\"},\n {'event_with_roles': \"Odoo Application->db Server/Mail Server: [PgsqlRequest:Simple query:UPDATE:['sale_order']]\",\n  '-1:event_with_roles': \"Odoo Application->db Server/Mail Server: [PgsqlRequest:Simple query:UPDATE:['sale_order']]\",\n  '-2:event_with_roles': \"Odoo Application->db Server/Mail Server: [PgsqlRequest:Simple query:UPDATE:['sale_order']]\",\n  '-3:event_with_roles': \"Odoo Application->db Server/Mail Server: [PgsqlRequest:Simple query:INSERT:['mail_followers_mail_message_subtype_rel']]\",\n  '-4:event_with_roles': \"Odoo Application->db Server/Mail Server: [PgsqlRequest:Simple query:INSERT:['mail_followers']]\",\n  '-5:event_with_roles': \"Odoo Application->db Server/Mail Server: [PgsqlRequest:Simple query:INSERT:['sale_order']]\",\n  '+1:event_with_roles': \"Odoo Application->db Server/Mail Server: [PgsqlRequest:Simple query:UPDATE:['sale_order']]\",\n  '+2:event_with_roles': \"Odoo Application->db Server/Mail Server: [PgsqlRequest:Simple query:INSERT:['mail_message']]\",\n  '+3:event_with_roles': \"Odoo Application->db Server/Mail Server: [PgsqlRequest:Simple query:INSERT:['mail_message']]\",\n  '+4:event_with_roles': \"Odoo Application->db Server/Mail Server: [PgsqlRequest:Simple query:INSERT:['mail_tracking_value']]\",\n  '+5:event_with_roles': \"Odoo Application->db Server/Mail Server: [PgsqlRequest:Simple query:INSERT:['mail_tracking_value']]\",\n  '+6:event_with_roles': 'Odoo Application->End Point (Employee): [HttpResponse:HTTP/1.0 200 OK\\\\r\\\\n]',\n  '+6:selective_file_data': 'IsNumber',\n  '+6:origin_file_data': 'sale.order_create',\n  '+7:event_with_roles': 'End Point (Employee)->Odoo Application: [HttpRequest:POST /xmlrpc/2/object HTTP/1.1\\\\r\\\\n]',\n  '+7:selective_file_data': 'sale.order.line_create',\n  '+8:event_with_roles': \"Odoo Application->db Server/Mail Server: [PgsqlRequest:Simple query:INSERT:['sale_order_line']]\",\n  '+9:event_with_roles': \"Odoo Application->db Server/Mail Server: [PgsqlRequest:Simple query:UPDATE:['sale_order_line']]\",\n  '+10:event_with_roles': \"Odoo Application->db Server/Mail Server: [PgsqlRequest:Simple query:UPDATE:['sale_order_line']]\"},\n {'event_with_roles': \"Odoo Application->db Server/Mail Server: [PgsqlRequest:Simple query:UPDATE:['sale_order']]\",\n  '-1:event_with_roles': \"Odoo Application->db Server/Mail Server: [PgsqlRequest:Simple query:UPDATE:['sale_order']]\",\n  '-2:event_with_roles': \"Odoo Application->db Server/Mail Server: [PgsqlRequest:Simple query:UPDATE:['sale_order']]\",\n  '-3:event_with_roles': \"Odoo Application->db Server/Mail Server: [PgsqlRequest:Simple query:UPDATE:['sale_order']]\",\n  '-4:event_with_roles': \"Odoo Application->db Server/Mail Server: [PgsqlRequest:Simple query:INSERT:['mail_followers_mail_message_subtype_rel']]\",\n  '-5:event_with_roles': \"Odoo Application->db Server/Mail Server: [PgsqlRequest:Simple query:INSERT:['mail_followers']]\",\n  '+1:event_with_roles': \"Odoo Application->db Server/Mail Server: [PgsqlRequest:Simple query:INSERT:['mail_message']]\",\n  '+2:event_with_roles': \"Odoo Application->db Server/Mail Server: [PgsqlRequest:Simple query:INSERT:['mail_message']]\",\n  '+3:event_with_roles': \"Odoo Application->db Server/Mail Server: [PgsqlRequest:Simple query:INSERT:['mail_tracking_value']]\",\n  '+4:event_with_roles': \"Odoo Application->db Server/Mail Server: [PgsqlRequest:Simple query:INSERT:['mail_tracking_value']]\",\n  '+5:event_with_roles': 'Odoo Application->End Point (Employee): [HttpResponse:HTTP/1.0 200 OK\\\\r\\\\n]',\n  '+5:selective_file_data': 'IsNumber',\n  '+5:origin_file_data': 'sale.order_create',\n  '+6:event_with_roles': 'End Point (Employee)->Odoo Application: [HttpRequest:POST /xmlrpc/2/object HTTP/1.1\\\\r\\\\n]',\n  '+6:selective_file_data': 'sale.order.line_create',\n  '+7:event_with_roles': \"Odoo Application->db Server/Mail Server: [PgsqlRequest:Simple query:INSERT:['sale_order_line']]\",\n  '+8:event_with_roles': \"Odoo Application->db Server/Mail Server: [PgsqlRequest:Simple query:UPDATE:['sale_order_line']]\",\n  '+9:event_with_roles': \"Odoo Application->db Server/Mail Server: [PgsqlRequest:Simple query:UPDATE:['sale_order_line']]\",\n  '+10:event_with_roles': \"Odoo Application->db Server/Mail Server: [PgsqlRequest:Simple query:UPDATE:['sale_order_line']]\"},\n {'event_with_roles': \"Odoo Application->db Server/Mail Server: [PgsqlRequest:Simple query:INSERT:['mail_message']]\",\n  '-1:event_with_roles': \"Odoo Application->db Server/Mail Server: [PgsqlRequest:Simple query:UPDATE:['sale_order']]\",\n  '-2:event_with_roles': \"Odoo Application->db Server/Mail Server: [PgsqlRequest:Simple query:UPDATE:['sale_order']]\",\n  '-3:event_with_roles': \"Odoo Application->db Server/Mail Server: [PgsqlRequest:Simple query:UPDATE:['sale_order']]\",\n  '-4:event_with_roles': \"Odoo Application->db Server/Mail Server: [PgsqlRequest:Simple query:UPDATE:['sale_order']]\",\n  '-5:event_with_roles': \"Odoo Application->db Server/Mail Server: [PgsqlRequest:Simple query:INSERT:['mail_followers_mail_message_subtype_rel']]\",\n  '+1:event_with_roles': \"Odoo Application->db Server/Mail Server: [PgsqlRequest:Simple query:INSERT:['mail_message']]\",\n  '+2:event_with_roles': \"Odoo Application->db Server/Mail Server: [PgsqlRequest:Simple query:INSERT:['mail_tracking_value']]\",\n  '+3:event_with_roles': \"Odoo Application->db Server/Mail Server: [PgsqlRequest:Simple query:INSERT:['mail_tracking_value']]\",\n  '+4:event_with_roles': 'Odoo Application->End Point (Employee): [HttpResponse:HTTP/1.0 200 OK\\\\r\\\\n]',\n  '+4:selective_file_data': 'IsNumber',\n  '+4:origin_file_data': 'sale.order_create',\n  '+5:event_with_roles': 'End Point (Employee)->Odoo Application: [HttpRequest:POST /xmlrpc/2/object HTTP/1.1\\\\r\\\\n]',\n  '+5:selective_file_data': 'sale.order.line_create',\n  '+6:event_with_roles': \"Odoo Application->db Server/Mail Server: [PgsqlRequest:Simple query:INSERT:['sale_order_line']]\",\n  '+7:event_with_roles': \"Odoo Application->db Server/Mail Server: [PgsqlRequest:Simple query:UPDATE:['sale_order_line']]\",\n  '+8:event_with_roles': \"Odoo Application->db Server/Mail Server: [PgsqlRequest:Simple query:UPDATE:['sale_order_line']]\",\n  '+9:event_with_roles': \"Odoo Application->db Server/Mail Server: [PgsqlRequest:Simple query:UPDATE:['sale_order_line']]\",\n  '+10:event_with_roles': \"Odoo Application->db Server/Mail Server: [PgsqlRequest:Simple query:UPDATE:['sale_order_line']]\"},\n {'event_with_roles': \"Odoo Application->db Server/Mail Server: [PgsqlRequest:Simple query:INSERT:['mail_message']]\",\n  '-1:event_with_roles': \"Odoo Application->db Server/Mail Server: [PgsqlRequest:Simple query:INSERT:['mail_message']]\",\n  '-2:event_with_roles': \"Odoo Application->db Server/Mail Server: [PgsqlRequest:Simple query:UPDATE:['sale_order']]\",\n  '-3:event_with_roles': \"Odoo Application->db Server/Mail Server: [PgsqlRequest:Simple query:UPDATE:['sale_order']]\",\n  '-4:event_with_roles': \"Odoo Application->db Server/Mail Server: [PgsqlRequest:Simple query:UPDATE:['sale_order']]\",\n  '-5:event_with_roles': \"Odoo Application->db Server/Mail Server: [PgsqlRequest:Simple query:UPDATE:['sale_order']]\",\n  '+1:event_with_roles': \"Odoo Application->db Server/Mail Server: [PgsqlRequest:Simple query:INSERT:['mail_tracking_value']]\",\n  '+2:event_with_roles': \"Odoo Application->db Server/Mail Server: [PgsqlRequest:Simple query:INSERT:['mail_tracking_value']]\",\n  '+3:event_with_roles': 'Odoo Application->End Point (Employee): [HttpResponse:HTTP/1.0 200 OK\\\\r\\\\n]',\n  '+3:selective_file_data': 'IsNumber',\n  '+3:origin_file_data': 'sale.order_create',\n  '+4:event_with_roles': 'End Point (Employee)->Odoo Application: [HttpRequest:POST /xmlrpc/2/object HTTP/1.1\\\\r\\\\n]',\n  '+4:selective_file_data': 'sale.order.line_create',\n  '+5:event_with_roles': \"Odoo Application->db Server/Mail Server: [PgsqlRequest:Simple query:INSERT:['sale_order_line']]\",\n  '+6:event_with_roles': \"Odoo Application->db Server/Mail Server: [PgsqlRequest:Simple query:UPDATE:['sale_order_line']]\",\n  '+7:event_with_roles': \"Odoo Application->db Server/Mail Server: [PgsqlRequest:Simple query:UPDATE:['sale_order_line']]\",\n  '+8:event_with_roles': \"Odoo Application->db Server/Mail Server: [PgsqlRequest:Simple query:UPDATE:['sale_order_line']]\",\n  '+9:event_with_roles': \"Odoo Application->db Server/Mail Server: [PgsqlRequest:Simple query:UPDATE:['sale_order_line']]\",\n  '+10:event_with_roles': \"Odoo Application->db Server/Mail Server: [PgsqlRequest:Simple query:UPDATE:['sale_order_line']]\"},\n {'event_with_roles': \"Odoo Application->db Server/Mail Server: [PgsqlRequest:Simple query:INSERT:['mail_tracking_value']]\",\n  '-1:event_with_roles': \"Odoo Application->db Server/Mail Server: [PgsqlRequest:Simple query:INSERT:['mail_message']]\",\n  '-2:event_with_roles': \"Odoo Application->db Server/Mail Server: [PgsqlRequest:Simple query:INSERT:['mail_message']]\",\n  '-3:event_with_roles': \"Odoo Application->db Server/Mail Server: [PgsqlRequest:Simple query:UPDATE:['sale_order']]\",\n  '-4:event_with_roles': \"Odoo Application->db Server/Mail Server: [PgsqlRequest:Simple query:UPDATE:['sale_order']]\",\n  '-5:event_with_roles': \"Odoo Application->db Server/Mail Server: [PgsqlRequest:Simple query:UPDATE:['sale_order']]\",\n  '+1:event_with_roles': \"Odoo Application->db Server/Mail Server: [PgsqlRequest:Simple query:INSERT:['mail_tracking_value']]\",\n  '+2:event_with_roles': 'Odoo Application->End Point (Employee): [HttpResponse:HTTP/1.0 200 OK\\\\r\\\\n]',\n  '+2:selective_file_data': 'IsNumber',\n  '+2:origin_file_data': 'sale.order_create',\n  '+3:event_with_roles': 'End Point (Employee)->Odoo Application: [HttpRequest:POST /xmlrpc/2/object HTTP/1.1\\\\r\\\\n]',\n  '+3:selective_file_data': 'sale.order.line_create',\n  '+4:event_with_roles': \"Odoo Application->db Server/Mail Server: [PgsqlRequest:Simple query:INSERT:['sale_order_line']]\",\n  '+5:event_with_roles': \"Odoo Application->db Server/Mail Server: [PgsqlRequest:Simple query:UPDATE:['sale_order_line']]\",\n  '+6:event_with_roles': \"Odoo Application->db Server/Mail Server: [PgsqlRequest:Simple query:UPDATE:['sale_order_line']]\",\n  '+7:event_with_roles': \"Odoo Application->db Server/Mail Server: [PgsqlRequest:Simple query:UPDATE:['sale_order_line']]\",\n  '+8:event_with_roles': \"Odoo Application->db Server/Mail Server: [PgsqlRequest:Simple query:UPDATE:['sale_order_line']]\",\n  '+9:event_with_roles': \"Odoo Application->db Server/Mail Server: [PgsqlRequest:Simple query:UPDATE:['sale_order_line']]\",\n  '+10:event_with_roles': \"Odoo Application->db Server/Mail Server: [PgsqlRequest:Simple query:UPDATE:['sale_order_line']]\"},\n {'event_with_roles': \"Odoo Application->db Server/Mail Server: [PgsqlRequest:Simple query:INSERT:['mail_tracking_value']]\",\n  '-1:event_with_roles': \"Odoo Application->db Server/Mail Server: [PgsqlRequest:Simple query:INSERT:['mail_tracking_value']]\",\n  '-2:event_with_roles': \"Odoo Application->db Server/Mail Server: [PgsqlRequest:Simple query:INSERT:['mail_message']]\",\n  '-3:event_with_roles': \"Odoo Application->db Server/Mail Server: [PgsqlRequest:Simple query:INSERT:['mail_message']]\",\n  '-4:event_with_roles': \"Odoo Application->db Server/Mail Server: [PgsqlRequest:Simple query:UPDATE:['sale_order']]\",\n  '-5:event_with_roles': \"Odoo Application->db Server/Mail Server: [PgsqlRequest:Simple query:UPDATE:['sale_order']]\",\n  '+1:event_with_roles': 'Odoo Application->End Point (Employee): [HttpResponse:HTTP/1.0 200 OK\\\\r\\\\n]',\n  '+1:selective_file_data': 'IsNumber',\n  '+1:origin_file_data': 'sale.order_create',\n  '+2:event_with_roles': 'End Point (Employee)->Odoo Application: [HttpRequest:POST /xmlrpc/2/object HTTP/1.1\\\\r\\\\n]',\n  '+2:selective_file_data': 'sale.order.line_create',\n  '+3:event_with_roles': \"Odoo Application->db Server/Mail Server: [PgsqlRequest:Simple query:INSERT:['sale_order_line']]\",\n  '+4:event_with_roles': \"Odoo Application->db Server/Mail Server: [PgsqlRequest:Simple query:UPDATE:['sale_order_line']]\",\n  '+5:event_with_roles': \"Odoo Application->db Server/Mail Server: [PgsqlRequest:Simple query:UPDATE:['sale_order_line']]\",\n  '+6:event_with_roles': \"Odoo Application->db Server/Mail Server: [PgsqlRequest:Simple query:UPDATE:['sale_order_line']]\",\n  '+7:event_with_roles': \"Odoo Application->db Server/Mail Server: [PgsqlRequest:Simple query:UPDATE:['sale_order_line']]\",\n  '+8:event_with_roles': \"Odoo Application->db Server/Mail Server: [PgsqlRequest:Simple query:UPDATE:['sale_order_line']]\",\n  '+9:event_with_roles': \"Odoo Application->db Server/Mail Server: [PgsqlRequest:Simple query:UPDATE:['sale_order_line']]\",\n  '+10:event_with_roles': \"Odoo Application->db Server/Mail Server: [PgsqlRequest:Simple query:UPDATE:['sale_order_line']]\"},\n {'event_with_roles': 'Odoo Application->End Point (Employee): [HttpResponse:HTTP/1.0 200 OK\\\\r\\\\n]',\n  'selective_file_data': 'IsNumber',\n  'origin_file_data': 'sale.order_create',\n  '-1:event_with_roles': \"Odoo Application->db Server/Mail Server: [PgsqlRequest:Simple query:INSERT:['mail_tracking_value']]\",\n  '-2:event_with_roles': \"Odoo Application->db Server/Mail Server: [PgsqlRequest:Simple query:INSERT:['mail_tracking_value']]\",\n  '-3:event_with_roles': \"Odoo Application->db Server/Mail Server: [PgsqlRequest:Simple query:INSERT:['mail_message']]\",\n  '-4:event_with_roles': \"Odoo Application->db Server/Mail Server: [PgsqlRequest:Simple query:INSERT:['mail_message']]\",\n  '-5:event_with_roles': \"Odoo Application->db Server/Mail Server: [PgsqlRequest:Simple query:UPDATE:['sale_order']]\",\n  '+1:event_with_roles': 'End Point (Employee)->Odoo Application: [HttpRequest:POST /xmlrpc/2/object HTTP/1.1\\\\r\\\\n]',\n  '+1:selective_file_data': 'sale.order.line_create',\n  '+2:event_with_roles': \"Odoo Application->db Server/Mail Server: [PgsqlRequest:Simple query:INSERT:['sale_order_line']]\",\n  '+3:event_with_roles': \"Odoo Application->db Server/Mail Server: [PgsqlRequest:Simple query:UPDATE:['sale_order_line']]\",\n  '+4:event_with_roles': \"Odoo Application->db Server/Mail Server: [PgsqlRequest:Simple query:UPDATE:['sale_order_line']]\",\n  '+5:event_with_roles': \"Odoo Application->db Server/Mail Server: [PgsqlRequest:Simple query:UPDATE:['sale_order_line']]\",\n  '+6:event_with_roles': \"Odoo Application->db Server/Mail Server: [PgsqlRequest:Simple query:UPDATE:['sale_order_line']]\",\n  '+7:event_with_roles': \"Odoo Application->db Server/Mail Server: [PgsqlRequest:Simple query:UPDATE:['sale_order_line']]\",\n  '+8:event_with_roles': \"Odoo Application->db Server/Mail Server: [PgsqlRequest:Simple query:UPDATE:['sale_order_line']]\",\n  '+9:event_with_roles': \"Odoo Application->db Server/Mail Server: [PgsqlRequest:Simple query:UPDATE:['sale_order_line']]\",\n  '+10:event_with_roles': \"Odoo Application->db Server/Mail Server: [PgsqlRequest:Simple query:UPDATE:['sale_order_line']]\"},\n {'event_with_roles': 'End Point (Employee)->Odoo Application: [HttpRequest:POST /xmlrpc/2/object HTTP/1.1\\\\r\\\\n]',\n  'selective_file_data': 'sale.order.line_create',\n  '-1:event_with_roles': 'Odoo Application->End Point (Employee): [HttpResponse:HTTP/1.0 200 OK\\\\r\\\\n]',\n  '-1:selective_file_data': 'IsNumber',\n  '-1:origin_file_data': 'sale.order_create',\n  '-2:event_with_roles': \"Odoo Application->db Server/Mail Server: [PgsqlRequest:Simple query:INSERT:['mail_tracking_value']]\",\n  '-3:event_with_roles': \"Odoo Application->db Server/Mail Server: [PgsqlRequest:Simple query:INSERT:['mail_tracking_value']]\",\n  '-4:event_with_roles': \"Odoo Application->db Server/Mail Server: [PgsqlRequest:Simple query:INSERT:['mail_message']]\",\n  '-5:event_with_roles': \"Odoo Application->db Server/Mail Server: [PgsqlRequest:Simple query:INSERT:['mail_message']]\",\n  '+1:event_with_roles': \"Odoo Application->db Server/Mail Server: [PgsqlRequest:Simple query:INSERT:['sale_order_line']]\",\n  '+2:event_with_roles': \"Odoo Application->db Server/Mail Server: [PgsqlRequest:Simple query:UPDATE:['sale_order_line']]\",\n  '+3:event_with_roles': \"Odoo Application->db Server/Mail Server: [PgsqlRequest:Simple query:UPDATE:['sale_order_line']]\",\n  '+4:event_with_roles': \"Odoo Application->db Server/Mail Server: [PgsqlRequest:Simple query:UPDATE:['sale_order_line']]\",\n  '+5:event_with_roles': \"Odoo Application->db Server/Mail Server: [PgsqlRequest:Simple query:UPDATE:['sale_order_line']]\",\n  '+6:event_with_roles': \"Odoo Application->db Server/Mail Server: [PgsqlRequest:Simple query:UPDATE:['sale_order_line']]\",\n  '+7:event_with_roles': \"Odoo Application->db Server/Mail Server: [PgsqlRequest:Simple query:UPDATE:['sale_order_line']]\",\n  '+8:event_with_roles': \"Odoo Application->db Server/Mail Server: [PgsqlRequest:Simple query:UPDATE:['sale_order_line']]\",\n  '+9:event_with_roles': \"Odoo Application->db Server/Mail Server: [PgsqlRequest:Simple query:UPDATE:['sale_order_line']]\",\n  '+10:event_with_roles': \"Odoo Application->db Server/Mail Server: [PgsqlRequest:Simple query:UPDATE:['sale_order_line']]\"},\n {'event_with_roles': \"Odoo Application->db Server/Mail Server: [PgsqlRequest:Simple query:INSERT:['sale_order_line']]\",\n  '-1:event_with_roles': 'End Point (Employee)->Odoo Application: [HttpRequest:POST /xmlrpc/2/object HTTP/1.1\\\\r\\\\n]',\n  '-1:selective_file_data': 'sale.order.line_create',\n  '-2:event_with_roles': 'Odoo Application->End Point (Employee): [HttpResponse:HTTP/1.0 200 OK\\\\r\\\\n]',\n  '-2:selective_file_data': 'IsNumber',\n  '-2:origin_file_data': 'sale.order_create',\n  '-3:event_with_roles': \"Odoo Application->db Server/Mail Server: [PgsqlRequest:Simple query:INSERT:['mail_tracking_value']]\",\n  '-4:event_with_roles': \"Odoo Application->db Server/Mail Server: [PgsqlRequest:Simple query:INSERT:['mail_tracking_value']]\",\n  '-5:event_with_roles': \"Odoo Application->db Server/Mail Server: [PgsqlRequest:Simple query:INSERT:['mail_message']]\",\n  '+1:event_with_roles': \"Odoo Application->db Server/Mail Server: [PgsqlRequest:Simple query:UPDATE:['sale_order_line']]\",\n  '+2:event_with_roles': \"Odoo Application->db Server/Mail Server: [PgsqlRequest:Simple query:UPDATE:['sale_order_line']]\",\n  '+3:event_with_roles': \"Odoo Application->db Server/Mail Server: [PgsqlRequest:Simple query:UPDATE:['sale_order_line']]\",\n  '+4:event_with_roles': \"Odoo Application->db Server/Mail Server: [PgsqlRequest:Simple query:UPDATE:['sale_order_line']]\",\n  '+5:event_with_roles': \"Odoo Application->db Server/Mail Server: [PgsqlRequest:Simple query:UPDATE:['sale_order_line']]\",\n  '+6:event_with_roles': \"Odoo Application->db Server/Mail Server: [PgsqlRequest:Simple query:UPDATE:['sale_order_line']]\",\n  '+7:event_with_roles': \"Odoo Application->db Server/Mail Server: [PgsqlRequest:Simple query:UPDATE:['sale_order_line']]\",\n  '+8:event_with_roles': \"Odoo Application->db Server/Mail Server: [PgsqlRequest:Simple query:UPDATE:['sale_order_line']]\",\n  '+9:event_with_roles': \"Odoo Application->db Server/Mail Server: [PgsqlRequest:Simple query:UPDATE:['sale_order_line']]\",\n  '+10:event_with_roles': \"Odoo Application->db Server/Mail Server: [PgsqlRequest:Simple query:UPDATE:['sale_order_line']]\"},\n {'event_with_roles': \"Odoo Application->db Server/Mail Server: [PgsqlRequest:Simple query:UPDATE:['sale_order_line']]\",\n  '-1:event_with_roles': \"Odoo Application->db Server/Mail Server: [PgsqlRequest:Simple query:INSERT:['sale_order_line']]\",\n  '-2:event_with_roles': 'End Point (Employee)->Odoo Application: [HttpRequest:POST /xmlrpc/2/object HTTP/1.1\\\\r\\\\n]',\n  '-2:selective_file_data': 'sale.order.line_create',\n  '-3:event_with_roles': 'Odoo Application->End Point (Employee): [HttpResponse:HTTP/1.0 200 OK\\\\r\\\\n]',\n  '-3:selective_file_data': 'IsNumber',\n  '-3:origin_file_data': 'sale.order_create',\n  '-4:event_with_roles': \"Odoo Application->db Server/Mail Server: [PgsqlRequest:Simple query:INSERT:['mail_tracking_value']]\",\n  '-5:event_with_roles': \"Odoo Application->db Server/Mail Server: [PgsqlRequest:Simple query:INSERT:['mail_tracking_value']]\",\n  '+1:event_with_roles': \"Odoo Application->db Server/Mail Server: [PgsqlRequest:Simple query:UPDATE:['sale_order_line']]\",\n  '+2:event_with_roles': \"Odoo Application->db Server/Mail Server: [PgsqlRequest:Simple query:UPDATE:['sale_order_line']]\",\n  '+3:event_with_roles': \"Odoo Application->db Server/Mail Server: [PgsqlRequest:Simple query:UPDATE:['sale_order_line']]\",\n  '+4:event_with_roles': \"Odoo Application->db Server/Mail Server: [PgsqlRequest:Simple query:UPDATE:['sale_order_line']]\",\n  '+5:event_with_roles': \"Odoo Application->db Server/Mail Server: [PgsqlRequest:Simple query:UPDATE:['sale_order_line']]\",\n  '+6:event_with_roles': \"Odoo Application->db Server/Mail Server: [PgsqlRequest:Simple query:UPDATE:['sale_order_line']]\",\n  '+7:event_with_roles': \"Odoo Application->db Server/Mail Server: [PgsqlRequest:Simple query:UPDATE:['sale_order_line']]\",\n  '+8:event_with_roles': \"Odoo Application->db Server/Mail Server: [PgsqlRequest:Simple query:UPDATE:['sale_order_line']]\",\n  '+9:event_with_roles': \"Odoo Application->db Server/Mail Server: [PgsqlRequest:Simple query:UPDATE:['sale_order_line']]\",\n  '+10:event_with_roles': \"Odoo Application->db Server/Mail Server: [PgsqlRequest:Simple query:UPDATE:['sale_order']]\"},\n {'event_with_roles': \"Odoo Application->db Server/Mail Server: [PgsqlRequest:Simple query:UPDATE:['sale_order_line']]\",\n  '-1:event_with_roles': \"Odoo Application->db Server/Mail Server: [PgsqlRequest:Simple query:UPDATE:['sale_order_line']]\",\n  '-2:event_with_roles': \"Odoo Application->db Server/Mail Server: [PgsqlRequest:Simple query:INSERT:['sale_order_line']]\",\n  '-3:event_with_roles': 'End Point (Employee)->Odoo Application: [HttpRequest:POST /xmlrpc/2/object HTTP/1.1\\\\r\\\\n]',\n  '-3:selective_file_data': 'sale.order.line_create',\n  '-4:event_with_roles': 'Odoo Application->End Point (Employee): [HttpResponse:HTTP/1.0 200 OK\\\\r\\\\n]',\n  '-4:selective_file_data': 'IsNumber',\n  '-4:origin_file_data': 'sale.order_create',\n  '-5:event_with_roles': \"Odoo Application->db Server/Mail Server: [PgsqlRequest:Simple query:INSERT:['mail_tracking_value']]\",\n  '+1:event_with_roles': \"Odoo Application->db Server/Mail Server: [PgsqlRequest:Simple query:UPDATE:['sale_order_line']]\",\n  '+2:event_with_roles': \"Odoo Application->db Server/Mail Server: [PgsqlRequest:Simple query:UPDATE:['sale_order_line']]\",\n  '+3:event_with_roles': \"Odoo Application->db Server/Mail Server: [PgsqlRequest:Simple query:UPDATE:['sale_order_line']]\",\n  '+4:event_with_roles': \"Odoo Application->db Server/Mail Server: [PgsqlRequest:Simple query:UPDATE:['sale_order_line']]\",\n  '+5:event_with_roles': \"Odoo Application->db Server/Mail Server: [PgsqlRequest:Simple query:UPDATE:['sale_order_line']]\",\n  '+6:event_with_roles': \"Odoo Application->db Server/Mail Server: [PgsqlRequest:Simple query:UPDATE:['sale_order_line']]\",\n  '+7:event_with_roles': \"Odoo Application->db Server/Mail Server: [PgsqlRequest:Simple query:UPDATE:['sale_order_line']]\",\n  '+8:event_with_roles': \"Odoo Application->db Server/Mail Server: [PgsqlRequest:Simple query:UPDATE:['sale_order_line']]\",\n  '+9:event_with_roles': \"Odoo Application->db Server/Mail Server: [PgsqlRequest:Simple query:UPDATE:['sale_order']]\",\n  '+10:event_with_roles': \"Odoo Application->db Server/Mail Server: [PgsqlRequest:Simple query:UPDATE:['sale_order_line']]\"},\n {'event_with_roles': \"Odoo Application->db Server/Mail Server: [PgsqlRequest:Simple query:UPDATE:['sale_order_line']]\",\n  '-1:event_with_roles': \"Odoo Application->db Server/Mail Server: [PgsqlRequest:Simple query:UPDATE:['sale_order_line']]\",\n  '-2:event_with_roles': \"Odoo Application->db Server/Mail Server: [PgsqlRequest:Simple query:UPDATE:['sale_order_line']]\",\n  '-3:event_with_roles': \"Odoo Application->db Server/Mail Server: [PgsqlRequest:Simple query:INSERT:['sale_order_line']]\",\n  '-4:event_with_roles': 'End Point (Employee)->Odoo Application: [HttpRequest:POST /xmlrpc/2/object HTTP/1.1\\\\r\\\\n]',\n  '-4:selective_file_data': 'sale.order.line_create',\n  '-5:event_with_roles': 'Odoo Application->End Point (Employee): [HttpResponse:HTTP/1.0 200 OK\\\\r\\\\n]',\n  '-5:selective_file_data': 'IsNumber',\n  '-5:origin_file_data': 'sale.order_create',\n  '+1:event_with_roles': \"Odoo Application->db Server/Mail Server: [PgsqlRequest:Simple query:UPDATE:['sale_order_line']]\",\n  '+2:event_with_roles': \"Odoo Application->db Server/Mail Server: [PgsqlRequest:Simple query:UPDATE:['sale_order_line']]\",\n  '+3:event_with_roles': \"Odoo Application->db Server/Mail Server: [PgsqlRequest:Simple query:UPDATE:['sale_order_line']]\",\n  '+4:event_with_roles': \"Odoo Application->db Server/Mail Server: [PgsqlRequest:Simple query:UPDATE:['sale_order_line']]\",\n  '+5:event_with_roles': \"Odoo Application->db Server/Mail Server: [PgsqlRequest:Simple query:UPDATE:['sale_order_line']]\",\n  '+6:event_with_roles': \"Odoo Application->db Server/Mail Server: [PgsqlRequest:Simple query:UPDATE:['sale_order_line']]\",\n  '+7:event_with_roles': \"Odoo Application->db Server/Mail Server: [PgsqlRequest:Simple query:UPDATE:['sale_order_line']]\",\n  '+8:event_with_roles': \"Odoo Application->db Server/Mail Server: [PgsqlRequest:Simple query:UPDATE:['sale_order']]\",\n  '+9:event_with_roles': \"Odoo Application->db Server/Mail Server: [PgsqlRequest:Simple query:UPDATE:['sale_order_line']]\",\n  '+10:event_with_roles': \"Odoo Application->db Server/Mail Server: [PgsqlRequest:Simple query:UPDATE:['sale_order_line']]\"},\n {'event_with_roles': \"Odoo Application->db Server/Mail Server: [PgsqlRequest:Simple query:UPDATE:['sale_order_line']]\",\n  '-1:event_with_roles': \"Odoo Application->db Server/Mail Server: [PgsqlRequest:Simple query:UPDATE:['sale_order_line']]\",\n  '-2:event_with_roles': \"Odoo Application->db Server/Mail Server: [PgsqlRequest:Simple query:UPDATE:['sale_order_line']]\",\n  '-3:event_with_roles': \"Odoo Application->db Server/Mail Server: [PgsqlRequest:Simple query:UPDATE:['sale_order_line']]\",\n  '-4:event_with_roles': \"Odoo Application->db Server/Mail Server: [PgsqlRequest:Simple query:INSERT:['sale_order_line']]\",\n  '-5:event_with_roles': 'End Point (Employee)->Odoo Application: [HttpRequest:POST /xmlrpc/2/object HTTP/1.1\\\\r\\\\n]',\n  '-5:selective_file_data': 'sale.order.line_create',\n  '+1:event_with_roles': \"Odoo Application->db Server/Mail Server: [PgsqlRequest:Simple query:UPDATE:['sale_order_line']]\",\n  '+2:event_with_roles': \"Odoo Application->db Server/Mail Server: [PgsqlRequest:Simple query:UPDATE:['sale_order_line']]\",\n  '+3:event_with_roles': \"Odoo Application->db Server/Mail Server: [PgsqlRequest:Simple query:UPDATE:['sale_order_line']]\",\n  '+4:event_with_roles': \"Odoo Application->db Server/Mail Server: [PgsqlRequest:Simple query:UPDATE:['sale_order_line']]\",\n  '+5:event_with_roles': \"Odoo Application->db Server/Mail Server: [PgsqlRequest:Simple query:UPDATE:['sale_order_line']]\",\n  '+6:event_with_roles': \"Odoo Application->db Server/Mail Server: [PgsqlRequest:Simple query:UPDATE:['sale_order_line']]\",\n  '+7:event_with_roles': \"Odoo Application->db Server/Mail Server: [PgsqlRequest:Simple query:UPDATE:['sale_order']]\",\n  '+8:event_with_roles': \"Odoo Application->db Server/Mail Server: [PgsqlRequest:Simple query:UPDATE:['sale_order_line']]\",\n  '+9:event_with_roles': \"Odoo Application->db Server/Mail Server: [PgsqlRequest:Simple query:UPDATE:['sale_order_line']]\",\n  '+10:event_with_roles': \"Odoo Application->db Server/Mail Server: [PgsqlRequest:Simple query:UPDATE:['sale_order_line']]\"},\n {'event_with_roles': \"Odoo Application->db Server/Mail Server: [PgsqlRequest:Simple query:UPDATE:['sale_order_line']]\",\n  '-1:event_with_roles': \"Odoo Application->db Server/Mail Server: [PgsqlRequest:Simple query:UPDATE:['sale_order_line']]\",\n  '-2:event_with_roles': \"Odoo Application->db Server/Mail Server: [PgsqlRequest:Simple query:UPDATE:['sale_order_line']]\",\n  '-3:event_with_roles': \"Odoo Application->db Server/Mail Server: [PgsqlRequest:Simple query:UPDATE:['sale_order_line']]\",\n  '-4:event_with_roles': \"Odoo Application->db Server/Mail Server: [PgsqlRequest:Simple query:UPDATE:['sale_order_line']]\",\n  '-5:event_with_roles': \"Odoo Application->db Server/Mail Server: [PgsqlRequest:Simple query:INSERT:['sale_order_line']]\",\n  '+1:event_with_roles': \"Odoo Application->db Server/Mail Server: [PgsqlRequest:Simple query:UPDATE:['sale_order_line']]\",\n  '+2:event_with_roles': \"Odoo Application->db Server/Mail Server: [PgsqlRequest:Simple query:UPDATE:['sale_order_line']]\",\n  '+3:event_with_roles': \"Odoo Application->db Server/Mail Server: [PgsqlRequest:Simple query:UPDATE:['sale_order_line']]\",\n  '+4:event_with_roles': \"Odoo Application->db Server/Mail Server: [PgsqlRequest:Simple query:UPDATE:['sale_order_line']]\",\n  '+5:event_with_roles': \"Odoo Application->db Server/Mail Server: [PgsqlRequest:Simple query:UPDATE:['sale_order_line']]\",\n  '+6:event_with_roles': \"Odoo Application->db Server/Mail Server: [PgsqlRequest:Simple query:UPDATE:['sale_order']]\",\n  '+7:event_with_roles': \"Odoo Application->db Server/Mail Server: [PgsqlRequest:Simple query:UPDATE:['sale_order_line']]\",\n  '+8:event_with_roles': \"Odoo Application->db Server/Mail Server: [PgsqlRequest:Simple query:UPDATE:['sale_order_line']]\",\n  '+9:event_with_roles': \"Odoo Application->db Server/Mail Server: [PgsqlRequest:Simple query:UPDATE:['sale_order_line']]\",\n  '+10:event_with_roles': \"Odoo Application->db Server/Mail Server: [PgsqlRequest:Simple query:UPDATE:['sale_order_line']]\"},\n {'event_with_roles': \"Odoo Application->db Server/Mail Server: [PgsqlRequest:Simple query:UPDATE:['sale_order_line']]\",\n  '-1:event_with_roles': \"Odoo Application->db Server/Mail Server: [PgsqlRequest:Simple query:UPDATE:['sale_order_line']]\",\n  '-2:event_with_roles': \"Odoo Application->db Server/Mail Server: [PgsqlRequest:Simple query:UPDATE:['sale_order_line']]\",\n  '-3:event_with_roles': \"Odoo Application->db Server/Mail Server: [PgsqlRequest:Simple query:UPDATE:['sale_order_line']]\",\n  '-4:event_with_roles': \"Odoo Application->db Server/Mail Server: [PgsqlRequest:Simple query:UPDATE:['sale_order_line']]\",\n  '-5:event_with_roles': \"Odoo Application->db Server/Mail Server: [PgsqlRequest:Simple query:UPDATE:['sale_order_line']]\",\n  '+1:event_with_roles': \"Odoo Application->db Server/Mail Server: [PgsqlRequest:Simple query:UPDATE:['sale_order_line']]\",\n  '+2:event_with_roles': \"Odoo Application->db Server/Mail Server: [PgsqlRequest:Simple query:UPDATE:['sale_order_line']]\",\n  '+3:event_with_roles': \"Odoo Application->db Server/Mail Server: [PgsqlRequest:Simple query:UPDATE:['sale_order_line']]\",\n  '+4:event_with_roles': \"Odoo Application->db Server/Mail Server: [PgsqlRequest:Simple query:UPDATE:['sale_order_line']]\",\n  '+5:event_with_roles': \"Odoo Application->db Server/Mail Server: [PgsqlRequest:Simple query:UPDATE:['sale_order']]\",\n  '+6:event_with_roles': \"Odoo Application->db Server/Mail Server: [PgsqlRequest:Simple query:UPDATE:['sale_order_line']]\",\n  '+7:event_with_roles': \"Odoo Application->db Server/Mail Server: [PgsqlRequest:Simple query:UPDATE:['sale_order_line']]\",\n  '+8:event_with_roles': \"Odoo Application->db Server/Mail Server: [PgsqlRequest:Simple query:UPDATE:['sale_order_line']]\",\n  '+9:event_with_roles': \"Odoo Application->db Server/Mail Server: [PgsqlRequest:Simple query:UPDATE:['sale_order_line']]\",\n  '+10:event_with_roles': \"Odoo Application->db Server/Mail Server: [PgsqlRequest:Simple query:UPDATE:['sale_order']]\"},\n {'event_with_roles': \"Odoo Application->db Server/Mail Server: [PgsqlRequest:Simple query:UPDATE:['sale_order_line']]\",\n  '-1:event_with_roles': \"Odoo Application->db Server/Mail Server: [PgsqlRequest:Simple query:UPDATE:['sale_order_line']]\",\n  '-2:event_with_roles': \"Odoo Application->db Server/Mail Server: [PgsqlRequest:Simple query:UPDATE:['sale_order_line']]\",\n  '-3:event_with_roles': \"Odoo Application->db Server/Mail Server: [PgsqlRequest:Simple query:UPDATE:['sale_order_line']]\",\n  '-4:event_with_roles': \"Odoo Application->db Server/Mail Server: [PgsqlRequest:Simple query:UPDATE:['sale_order_line']]\",\n  '-5:event_with_roles': \"Odoo Application->db Server/Mail Server: [PgsqlRequest:Simple query:UPDATE:['sale_order_line']]\",\n  '+1:event_with_roles': \"Odoo Application->db Server/Mail Server: [PgsqlRequest:Simple query:UPDATE:['sale_order_line']]\",\n  '+2:event_with_roles': \"Odoo Application->db Server/Mail Server: [PgsqlRequest:Simple query:UPDATE:['sale_order_line']]\",\n  '+3:event_with_roles': \"Odoo Application->db Server/Mail Server: [PgsqlRequest:Simple query:UPDATE:['sale_order_line']]\",\n  '+4:event_with_roles': \"Odoo Application->db Server/Mail Server: [PgsqlRequest:Simple query:UPDATE:['sale_order']]\",\n  '+5:event_with_roles': \"Odoo Application->db Server/Mail Server: [PgsqlRequest:Simple query:UPDATE:['sale_order_line']]\",\n  '+6:event_with_roles': \"Odoo Application->db Server/Mail Server: [PgsqlRequest:Simple query:UPDATE:['sale_order_line']]\",\n  '+7:event_with_roles': \"Odoo Application->db Server/Mail Server: [PgsqlRequest:Simple query:UPDATE:['sale_order_line']]\",\n  '+8:event_with_roles': \"Odoo Application->db Server/Mail Server: [PgsqlRequest:Simple query:UPDATE:['sale_order_line']]\",\n  '+9:event_with_roles': \"Odoo Application->db Server/Mail Server: [PgsqlRequest:Simple query:UPDATE:['sale_order']]\",\n  '+10:event_with_roles': \"Odoo Application->db Server/Mail Server: [PgsqlRequest:Simple query:UPDATE:['sale_order_line']]\"},\n {'event_with_roles': \"Odoo Application->db Server/Mail Server: [PgsqlRequest:Simple query:UPDATE:['sale_order_line']]\",\n  '-1:event_with_roles': \"Odoo Application->db Server/Mail Server: [PgsqlRequest:Simple query:UPDATE:['sale_order_line']]\",\n  '-2:event_with_roles': \"Odoo Application->db Server/Mail Server: [PgsqlRequest:Simple query:UPDATE:['sale_order_line']]\",\n  '-3:event_with_roles': \"Odoo Application->db Server/Mail Server: [PgsqlRequest:Simple query:UPDATE:['sale_order_line']]\",\n  '-4:event_with_roles': \"Odoo Application->db Server/Mail Server: [PgsqlRequest:Simple query:UPDATE:['sale_order_line']]\",\n  '-5:event_with_roles': \"Odoo Application->db Server/Mail Server: [PgsqlRequest:Simple query:UPDATE:['sale_order_line']]\",\n  '+1:event_with_roles': \"Odoo Application->db Server/Mail Server: [PgsqlRequest:Simple query:UPDATE:['sale_order_line']]\",\n  '+2:event_with_roles': \"Odoo Application->db Server/Mail Server: [PgsqlRequest:Simple query:UPDATE:['sale_order_line']]\",\n  '+3:event_with_roles': \"Odoo Application->db Server/Mail Server: [PgsqlRequest:Simple query:UPDATE:['sale_order']]\",\n  '+4:event_with_roles': \"Odoo Application->db Server/Mail Server: [PgsqlRequest:Simple query:UPDATE:['sale_order_line']]\",\n  '+5:event_with_roles': \"Odoo Application->db Server/Mail Server: [PgsqlRequest:Simple query:UPDATE:['sale_order_line']]\",\n  '+6:event_with_roles': \"Odoo Application->db Server/Mail Server: [PgsqlRequest:Simple query:UPDATE:['sale_order_line']]\",\n  '+7:event_with_roles': \"Odoo Application->db Server/Mail Server: [PgsqlRequest:Simple query:UPDATE:['sale_order_line']]\",\n  '+8:event_with_roles': \"Odoo Application->db Server/Mail Server: [PgsqlRequest:Simple query:UPDATE:['sale_order']]\",\n  '+9:event_with_roles': \"Odoo Application->db Server/Mail Server: [PgsqlRequest:Simple query:UPDATE:['sale_order_line']]\",\n  '+10:event_with_roles': \"Odoo Application->db Server/Mail Server: [PgsqlRequest:Simple query:UPDATE:['sale_order_line']]\"},\n {'event_with_roles': \"Odoo Application->db Server/Mail Server: [PgsqlRequest:Simple query:UPDATE:['sale_order_line']]\",\n  '-1:event_with_roles': \"Odoo Application->db Server/Mail Server: [PgsqlRequest:Simple query:UPDATE:['sale_order_line']]\",\n  '-2:event_with_roles': \"Odoo Application->db Server/Mail Server: [PgsqlRequest:Simple query:UPDATE:['sale_order_line']]\",\n  '-3:event_with_roles': \"Odoo Application->db Server/Mail Server: [PgsqlRequest:Simple query:UPDATE:['sale_order_line']]\",\n  '-4:event_with_roles': \"Odoo Application->db Server/Mail Server: [PgsqlRequest:Simple query:UPDATE:['sale_order_line']]\",\n  '-5:event_with_roles': \"Odoo Application->db Server/Mail Server: [PgsqlRequest:Simple query:UPDATE:['sale_order_line']]\",\n  '+1:event_with_roles': \"Odoo Application->db Server/Mail Server: [PgsqlRequest:Simple query:UPDATE:['sale_order_line']]\",\n  '+2:event_with_roles': \"Odoo Application->db Server/Mail Server: [PgsqlRequest:Simple query:UPDATE:['sale_order']]\",\n  '+3:event_with_roles': \"Odoo Application->db Server/Mail Server: [PgsqlRequest:Simple query:UPDATE:['sale_order_line']]\",\n  '+4:event_with_roles': \"Odoo Application->db Server/Mail Server: [PgsqlRequest:Simple query:UPDATE:['sale_order_line']]\",\n  '+5:event_with_roles': \"Odoo Application->db Server/Mail Server: [PgsqlRequest:Simple query:UPDATE:['sale_order_line']]\",\n  '+6:event_with_roles': \"Odoo Application->db Server/Mail Server: [PgsqlRequest:Simple query:UPDATE:['sale_order_line']]\",\n  '+7:event_with_roles': \"Odoo Application->db Server/Mail Server: [PgsqlRequest:Simple query:UPDATE:['sale_order']]\",\n  '+8:event_with_roles': \"Odoo Application->db Server/Mail Server: [PgsqlRequest:Simple query:UPDATE:['sale_order_line']]\",\n  '+9:event_with_roles': \"Odoo Application->db Server/Mail Server: [PgsqlRequest:Simple query:UPDATE:['sale_order_line']]\",\n  '+10:event_with_roles': \"Odoo Application->db Server/Mail Server: [PgsqlRequest:Simple query:UPDATE:['sale_order_line']]\"},\n {'event_with_roles': \"Odoo Application->db Server/Mail Server: [PgsqlRequest:Simple query:UPDATE:['sale_order_line']]\",\n  '-1:event_with_roles': \"Odoo Application->db Server/Mail Server: [PgsqlRequest:Simple query:UPDATE:['sale_order_line']]\",\n  '-2:event_with_roles': \"Odoo Application->db Server/Mail Server: [PgsqlRequest:Simple query:UPDATE:['sale_order_line']]\",\n  '-3:event_with_roles': \"Odoo Application->db Server/Mail Server: [PgsqlRequest:Simple query:UPDATE:['sale_order_line']]\",\n  '-4:event_with_roles': \"Odoo Application->db Server/Mail Server: [PgsqlRequest:Simple query:UPDATE:['sale_order_line']]\",\n  '-5:event_with_roles': \"Odoo Application->db Server/Mail Server: [PgsqlRequest:Simple query:UPDATE:['sale_order_line']]\",\n  '+1:event_with_roles': \"Odoo Application->db Server/Mail Server: [PgsqlRequest:Simple query:UPDATE:['sale_order']]\",\n  '+2:event_with_roles': \"Odoo Application->db Server/Mail Server: [PgsqlRequest:Simple query:UPDATE:['sale_order_line']]\",\n  '+3:event_with_roles': \"Odoo Application->db Server/Mail Server: [PgsqlRequest:Simple query:UPDATE:['sale_order_line']]\",\n  '+4:event_with_roles': \"Odoo Application->db Server/Mail Server: [PgsqlRequest:Simple query:UPDATE:['sale_order_line']]\",\n  '+5:event_with_roles': \"Odoo Application->db Server/Mail Server: [PgsqlRequest:Simple query:UPDATE:['sale_order_line']]\",\n  '+6:event_with_roles': \"Odoo Application->db Server/Mail Server: [PgsqlRequest:Simple query:UPDATE:['sale_order']]\",\n  '+7:event_with_roles': \"Odoo Application->db Server/Mail Server: [PgsqlRequest:Simple query:UPDATE:['sale_order_line']]\",\n  '+8:event_with_roles': \"Odoo Application->db Server/Mail Server: [PgsqlRequest:Simple query:UPDATE:['sale_order_line']]\",\n  '+9:event_with_roles': \"Odoo Application->db Server/Mail Server: [PgsqlRequest:Simple query:UPDATE:['sale_order_line']]\",\n  '+10:event_with_roles': 'Odoo Application->End Point (Employee): [HttpResponse:HTTP/1.0 200 OK\\\\r\\\\n]',\n  '+10:selective_file_data': 'IsNumber',\n  '+10:origin_file_data': 'sale.order.line_create'},\n {'event_with_roles': \"Odoo Application->db Server/Mail Server: [PgsqlRequest:Simple query:UPDATE:['sale_order']]\",\n  '-1:event_with_roles': \"Odoo Application->db Server/Mail Server: [PgsqlRequest:Simple query:UPDATE:['sale_order_line']]\",\n  '-2:event_with_roles': \"Odoo Application->db Server/Mail Server: [PgsqlRequest:Simple query:UPDATE:['sale_order_line']]\",\n  '-3:event_with_roles': \"Odoo Application->db Server/Mail Server: [PgsqlRequest:Simple query:UPDATE:['sale_order_line']]\",\n  '-4:event_with_roles': \"Odoo Application->db Server/Mail Server: [PgsqlRequest:Simple query:UPDATE:['sale_order_line']]\",\n  '-5:event_with_roles': \"Odoo Application->db Server/Mail Server: [PgsqlRequest:Simple query:UPDATE:['sale_order_line']]\",\n  '+1:event_with_roles': \"Odoo Application->db Server/Mail Server: [PgsqlRequest:Simple query:UPDATE:['sale_order_line']]\",\n  '+2:event_with_roles': \"Odoo Application->db Server/Mail Server: [PgsqlRequest:Simple query:UPDATE:['sale_order_line']]\",\n  '+3:event_with_roles': \"Odoo Application->db Server/Mail Server: [PgsqlRequest:Simple query:UPDATE:['sale_order_line']]\",\n  '+4:event_with_roles': \"Odoo Application->db Server/Mail Server: [PgsqlRequest:Simple query:UPDATE:['sale_order_line']]\",\n  '+5:event_with_roles': \"Odoo Application->db Server/Mail Server: [PgsqlRequest:Simple query:UPDATE:['sale_order']]\",\n  '+6:event_with_roles': \"Odoo Application->db Server/Mail Server: [PgsqlRequest:Simple query:UPDATE:['sale_order_line']]\",\n  '+7:event_with_roles': \"Odoo Application->db Server/Mail Server: [PgsqlRequest:Simple query:UPDATE:['sale_order_line']]\",\n  '+8:event_with_roles': \"Odoo Application->db Server/Mail Server: [PgsqlRequest:Simple query:UPDATE:['sale_order_line']]\",\n  '+9:event_with_roles': 'Odoo Application->End Point (Employee): [HttpResponse:HTTP/1.0 200 OK\\\\r\\\\n]',\n  '+9:selective_file_data': 'IsNumber',\n  '+9:origin_file_data': 'sale.order.line_create',\n  '+10:event_with_roles': \"Odoo Application->db Server/Mail Server: [PgsqlRequest:Simple query:UPDATE:['fetchmail_server']]\"},\n {'event_with_roles': \"Odoo Application->db Server/Mail Server: [PgsqlRequest:Simple query:UPDATE:['sale_order_line']]\",\n  '-1:event_with_roles': \"Odoo Application->db Server/Mail Server: [PgsqlRequest:Simple query:UPDATE:['sale_order']]\",\n  '-2:event_with_roles': \"Odoo Application->db Server/Mail Server: [PgsqlRequest:Simple query:UPDATE:['sale_order_line']]\",\n  '-3:event_with_roles': \"Odoo Application->db Server/Mail Server: [PgsqlRequest:Simple query:UPDATE:['sale_order_line']]\",\n  '-4:event_with_roles': \"Odoo Application->db Server/Mail Server: [PgsqlRequest:Simple query:UPDATE:['sale_order_line']]\",\n  '-5:event_with_roles': \"Odoo Application->db Server/Mail Server: [PgsqlRequest:Simple query:UPDATE:['sale_order_line']]\",\n  '+1:event_with_roles': \"Odoo Application->db Server/Mail Server: [PgsqlRequest:Simple query:UPDATE:['sale_order_line']]\",\n  '+2:event_with_roles': \"Odoo Application->db Server/Mail Server: [PgsqlRequest:Simple query:UPDATE:['sale_order_line']]\",\n  '+3:event_with_roles': \"Odoo Application->db Server/Mail Server: [PgsqlRequest:Simple query:UPDATE:['sale_order_line']]\",\n  '+4:event_with_roles': \"Odoo Application->db Server/Mail Server: [PgsqlRequest:Simple query:UPDATE:['sale_order']]\",\n  '+5:event_with_roles': \"Odoo Application->db Server/Mail Server: [PgsqlRequest:Simple query:UPDATE:['sale_order_line']]\",\n  '+6:event_with_roles': \"Odoo Application->db Server/Mail Server: [PgsqlRequest:Simple query:UPDATE:['sale_order_line']]\",\n  '+7:event_with_roles': \"Odoo Application->db Server/Mail Server: [PgsqlRequest:Simple query:UPDATE:['sale_order_line']]\",\n  '+8:event_with_roles': 'Odoo Application->End Point (Employee): [HttpResponse:HTTP/1.0 200 OK\\\\r\\\\n]',\n  '+8:selective_file_data': 'IsNumber',\n  '+8:origin_file_data': 'sale.order.line_create',\n  '+9:event_with_roles': \"Odoo Application->db Server/Mail Server: [PgsqlRequest:Simple query:UPDATE:['fetchmail_server']]\"},\n {'event_with_roles': \"Odoo Application->db Server/Mail Server: [PgsqlRequest:Simple query:UPDATE:['sale_order_line']]\",\n  '-1:event_with_roles': \"Odoo Application->db Server/Mail Server: [PgsqlRequest:Simple query:UPDATE:['sale_order_line']]\",\n  '-2:event_with_roles': \"Odoo Application->db Server/Mail Server: [PgsqlRequest:Simple query:UPDATE:['sale_order']]\",\n  '-3:event_with_roles': \"Odoo Application->db Server/Mail Server: [PgsqlRequest:Simple query:UPDATE:['sale_order_line']]\",\n  '-4:event_with_roles': \"Odoo Application->db Server/Mail Server: [PgsqlRequest:Simple query:UPDATE:['sale_order_line']]\",\n  '-5:event_with_roles': \"Odoo Application->db Server/Mail Server: [PgsqlRequest:Simple query:UPDATE:['sale_order_line']]\",\n  '+1:event_with_roles': \"Odoo Application->db Server/Mail Server: [PgsqlRequest:Simple query:UPDATE:['sale_order_line']]\",\n  '+2:event_with_roles': \"Odoo Application->db Server/Mail Server: [PgsqlRequest:Simple query:UPDATE:['sale_order_line']]\",\n  '+3:event_with_roles': \"Odoo Application->db Server/Mail Server: [PgsqlRequest:Simple query:UPDATE:['sale_order']]\",\n  '+4:event_with_roles': \"Odoo Application->db Server/Mail Server: [PgsqlRequest:Simple query:UPDATE:['sale_order_line']]\",\n  '+5:event_with_roles': \"Odoo Application->db Server/Mail Server: [PgsqlRequest:Simple query:UPDATE:['sale_order_line']]\",\n  '+6:event_with_roles': \"Odoo Application->db Server/Mail Server: [PgsqlRequest:Simple query:UPDATE:['sale_order_line']]\",\n  '+7:event_with_roles': 'Odoo Application->End Point (Employee): [HttpResponse:HTTP/1.0 200 OK\\\\r\\\\n]',\n  '+7:selective_file_data': 'IsNumber',\n  '+7:origin_file_data': 'sale.order.line_create',\n  '+8:event_with_roles': \"Odoo Application->db Server/Mail Server: [PgsqlRequest:Simple query:UPDATE:['fetchmail_server']]\"},\n {'event_with_roles': \"Odoo Application->db Server/Mail Server: [PgsqlRequest:Simple query:UPDATE:['sale_order_line']]\",\n  '-1:event_with_roles': \"Odoo Application->db Server/Mail Server: [PgsqlRequest:Simple query:UPDATE:['sale_order_line']]\",\n  '-2:event_with_roles': \"Odoo Application->db Server/Mail Server: [PgsqlRequest:Simple query:UPDATE:['sale_order_line']]\",\n  '-3:event_with_roles': \"Odoo Application->db Server/Mail Server: [PgsqlRequest:Simple query:UPDATE:['sale_order']]\",\n  '-4:event_with_roles': \"Odoo Application->db Server/Mail Server: [PgsqlRequest:Simple query:UPDATE:['sale_order_line']]\",\n  '-5:event_with_roles': \"Odoo Application->db Server/Mail Server: [PgsqlRequest:Simple query:UPDATE:['sale_order_line']]\",\n  '+1:event_with_roles': \"Odoo Application->db Server/Mail Server: [PgsqlRequest:Simple query:UPDATE:['sale_order_line']]\",\n  '+2:event_with_roles': \"Odoo Application->db Server/Mail Server: [PgsqlRequest:Simple query:UPDATE:['sale_order']]\",\n  '+3:event_with_roles': \"Odoo Application->db Server/Mail Server: [PgsqlRequest:Simple query:UPDATE:['sale_order_line']]\",\n  '+4:event_with_roles': \"Odoo Application->db Server/Mail Server: [PgsqlRequest:Simple query:UPDATE:['sale_order_line']]\",\n  '+5:event_with_roles': \"Odoo Application->db Server/Mail Server: [PgsqlRequest:Simple query:UPDATE:['sale_order_line']]\",\n  '+6:event_with_roles': 'Odoo Application->End Point (Employee): [HttpResponse:HTTP/1.0 200 OK\\\\r\\\\n]',\n  '+6:selective_file_data': 'IsNumber',\n  '+6:origin_file_data': 'sale.order.line_create',\n  '+7:event_with_roles': \"Odoo Application->db Server/Mail Server: [PgsqlRequest:Simple query:UPDATE:['fetchmail_server']]\"},\n {'event_with_roles': \"Odoo Application->db Server/Mail Server: [PgsqlRequest:Simple query:UPDATE:['sale_order_line']]\",\n  '-1:event_with_roles': \"Odoo Application->db Server/Mail Server: [PgsqlRequest:Simple query:UPDATE:['sale_order_line']]\",\n  '-2:event_with_roles': \"Odoo Application->db Server/Mail Server: [PgsqlRequest:Simple query:UPDATE:['sale_order_line']]\",\n  '-3:event_with_roles': \"Odoo Application->db Server/Mail Server: [PgsqlRequest:Simple query:UPDATE:['sale_order_line']]\",\n  '-4:event_with_roles': \"Odoo Application->db Server/Mail Server: [PgsqlRequest:Simple query:UPDATE:['sale_order']]\",\n  '-5:event_with_roles': \"Odoo Application->db Server/Mail Server: [PgsqlRequest:Simple query:UPDATE:['sale_order_line']]\",\n  '+1:event_with_roles': \"Odoo Application->db Server/Mail Server: [PgsqlRequest:Simple query:UPDATE:['sale_order']]\",\n  '+2:event_with_roles': \"Odoo Application->db Server/Mail Server: [PgsqlRequest:Simple query:UPDATE:['sale_order_line']]\",\n  '+3:event_with_roles': \"Odoo Application->db Server/Mail Server: [PgsqlRequest:Simple query:UPDATE:['sale_order_line']]\",\n  '+4:event_with_roles': \"Odoo Application->db Server/Mail Server: [PgsqlRequest:Simple query:UPDATE:['sale_order_line']]\",\n  '+5:event_with_roles': 'Odoo Application->End Point (Employee): [HttpResponse:HTTP/1.0 200 OK\\\\r\\\\n]',\n  '+5:selective_file_data': 'IsNumber',\n  '+5:origin_file_data': 'sale.order.line_create',\n  '+6:event_with_roles': \"Odoo Application->db Server/Mail Server: [PgsqlRequest:Simple query:UPDATE:['fetchmail_server']]\"},\n {'event_with_roles': \"Odoo Application->db Server/Mail Server: [PgsqlRequest:Simple query:UPDATE:['sale_order']]\",\n  '-1:event_with_roles': \"Odoo Application->db Server/Mail Server: [PgsqlRequest:Simple query:UPDATE:['sale_order_line']]\",\n  '-2:event_with_roles': \"Odoo Application->db Server/Mail Server: [PgsqlRequest:Simple query:UPDATE:['sale_order_line']]\",\n  '-3:event_with_roles': \"Odoo Application->db Server/Mail Server: [PgsqlRequest:Simple query:UPDATE:['sale_order_line']]\",\n  '-4:event_with_roles': \"Odoo Application->db Server/Mail Server: [PgsqlRequest:Simple query:UPDATE:['sale_order_line']]\",\n  '-5:event_with_roles': \"Odoo Application->db Server/Mail Server: [PgsqlRequest:Simple query:UPDATE:['sale_order']]\",\n  '+1:event_with_roles': \"Odoo Application->db Server/Mail Server: [PgsqlRequest:Simple query:UPDATE:['sale_order_line']]\",\n  '+2:event_with_roles': \"Odoo Application->db Server/Mail Server: [PgsqlRequest:Simple query:UPDATE:['sale_order_line']]\",\n  '+3:event_with_roles': \"Odoo Application->db Server/Mail Server: [PgsqlRequest:Simple query:UPDATE:['sale_order_line']]\",\n  '+4:event_with_roles': 'Odoo Application->End Point (Employee): [HttpResponse:HTTP/1.0 200 OK\\\\r\\\\n]',\n  '+4:selective_file_data': 'IsNumber',\n  '+4:origin_file_data': 'sale.order.line_create',\n  '+5:event_with_roles': \"Odoo Application->db Server/Mail Server: [PgsqlRequest:Simple query:UPDATE:['fetchmail_server']]\"},\n {'event_with_roles': \"Odoo Application->db Server/Mail Server: [PgsqlRequest:Simple query:UPDATE:['sale_order_line']]\",\n  '-1:event_with_roles': \"Odoo Application->db Server/Mail Server: [PgsqlRequest:Simple query:UPDATE:['sale_order']]\",\n  '-2:event_with_roles': \"Odoo Application->db Server/Mail Server: [PgsqlRequest:Simple query:UPDATE:['sale_order_line']]\",\n  '-3:event_with_roles': \"Odoo Application->db Server/Mail Server: [PgsqlRequest:Simple query:UPDATE:['sale_order_line']]\",\n  '-4:event_with_roles': \"Odoo Application->db Server/Mail Server: [PgsqlRequest:Simple query:UPDATE:['sale_order_line']]\",\n  '-5:event_with_roles': \"Odoo Application->db Server/Mail Server: [PgsqlRequest:Simple query:UPDATE:['sale_order_line']]\",\n  '+1:event_with_roles': \"Odoo Application->db Server/Mail Server: [PgsqlRequest:Simple query:UPDATE:['sale_order_line']]\",\n  '+2:event_with_roles': \"Odoo Application->db Server/Mail Server: [PgsqlRequest:Simple query:UPDATE:['sale_order_line']]\",\n  '+3:event_with_roles': 'Odoo Application->End Point (Employee): [HttpResponse:HTTP/1.0 200 OK\\\\r\\\\n]',\n  '+3:selective_file_data': 'IsNumber',\n  '+3:origin_file_data': 'sale.order.line_create',\n  '+4:event_with_roles': \"Odoo Application->db Server/Mail Server: [PgsqlRequest:Simple query:UPDATE:['fetchmail_server']]\"},\n {'event_with_roles': \"Odoo Application->db Server/Mail Server: [PgsqlRequest:Simple query:UPDATE:['sale_order_line']]\",\n  '-1:event_with_roles': \"Odoo Application->db Server/Mail Server: [PgsqlRequest:Simple query:UPDATE:['sale_order_line']]\",\n  '-2:event_with_roles': \"Odoo Application->db Server/Mail Server: [PgsqlRequest:Simple query:UPDATE:['sale_order']]\",\n  '-3:event_with_roles': \"Odoo Application->db Server/Mail Server: [PgsqlRequest:Simple query:UPDATE:['sale_order_line']]\",\n  '-4:event_with_roles': \"Odoo Application->db Server/Mail Server: [PgsqlRequest:Simple query:UPDATE:['sale_order_line']]\",\n  '-5:event_with_roles': \"Odoo Application->db Server/Mail Server: [PgsqlRequest:Simple query:UPDATE:['sale_order_line']]\",\n  '+1:event_with_roles': \"Odoo Application->db Server/Mail Server: [PgsqlRequest:Simple query:UPDATE:['sale_order_line']]\",\n  '+2:event_with_roles': 'Odoo Application->End Point (Employee): [HttpResponse:HTTP/1.0 200 OK\\\\r\\\\n]',\n  '+2:selective_file_data': 'IsNumber',\n  '+2:origin_file_data': 'sale.order.line_create',\n  '+3:event_with_roles': \"Odoo Application->db Server/Mail Server: [PgsqlRequest:Simple query:UPDATE:['fetchmail_server']]\"},\n {'event_with_roles': \"Odoo Application->db Server/Mail Server: [PgsqlRequest:Simple query:UPDATE:['sale_order_line']]\",\n  '-1:event_with_roles': \"Odoo Application->db Server/Mail Server: [PgsqlRequest:Simple query:UPDATE:['sale_order_line']]\",\n  '-2:event_with_roles': \"Odoo Application->db Server/Mail Server: [PgsqlRequest:Simple query:UPDATE:['sale_order_line']]\",\n  '-3:event_with_roles': \"Odoo Application->db Server/Mail Server: [PgsqlRequest:Simple query:UPDATE:['sale_order']]\",\n  '-4:event_with_roles': \"Odoo Application->db Server/Mail Server: [PgsqlRequest:Simple query:UPDATE:['sale_order_line']]\",\n  '-5:event_with_roles': \"Odoo Application->db Server/Mail Server: [PgsqlRequest:Simple query:UPDATE:['sale_order_line']]\",\n  '+1:event_with_roles': 'Odoo Application->End Point (Employee): [HttpResponse:HTTP/1.0 200 OK\\\\r\\\\n]',\n  '+1:selective_file_data': 'IsNumber',\n  '+1:origin_file_data': 'sale.order.line_create',\n  '+2:event_with_roles': \"Odoo Application->db Server/Mail Server: [PgsqlRequest:Simple query:UPDATE:['fetchmail_server']]\"},\n {'event_with_roles': 'Odoo Application->End Point (Employee): [HttpResponse:HTTP/1.0 200 OK\\\\r\\\\n]',\n  'selective_file_data': 'IsNumber',\n  'origin_file_data': 'sale.order.line_create',\n  '-1:event_with_roles': \"Odoo Application->db Server/Mail Server: [PgsqlRequest:Simple query:UPDATE:['sale_order_line']]\",\n  '-2:event_with_roles': \"Odoo Application->db Server/Mail Server: [PgsqlRequest:Simple query:UPDATE:['sale_order_line']]\",\n  '-3:event_with_roles': \"Odoo Application->db Server/Mail Server: [PgsqlRequest:Simple query:UPDATE:['sale_order_line']]\",\n  '-4:event_with_roles': \"Odoo Application->db Server/Mail Server: [PgsqlRequest:Simple query:UPDATE:['sale_order']]\",\n  '-5:event_with_roles': \"Odoo Application->db Server/Mail Server: [PgsqlRequest:Simple query:UPDATE:['sale_order_line']]\",\n  '+1:event_with_roles': \"Odoo Application->db Server/Mail Server: [PgsqlRequest:Simple query:UPDATE:['fetchmail_server']]\"},\n {'event_with_roles': \"Odoo Application->db Server/Mail Server: [PgsqlRequest:Simple query:UPDATE:['fetchmail_server']]\",\n  '-1:event_with_roles': 'Odoo Application->End Point (Employee): [HttpResponse:HTTP/1.0 200 OK\\\\r\\\\n]',\n  '-1:selective_file_data': 'IsNumber',\n  '-1:origin_file_data': 'sale.order.line_create',\n  '-2:event_with_roles': \"Odoo Application->db Server/Mail Server: [PgsqlRequest:Simple query:UPDATE:['sale_order_line']]\",\n  '-3:event_with_roles': \"Odoo Application->db Server/Mail Server: [PgsqlRequest:Simple query:UPDATE:['sale_order_line']]\",\n  '-4:event_with_roles': \"Odoo Application->db Server/Mail Server: [PgsqlRequest:Simple query:UPDATE:['sale_order_line']]\",\n  '-5:event_with_roles': \"Odoo Application->db Server/Mail Server: [PgsqlRequest:Simple query:UPDATE:['sale_order']]\"}]"
     },
     "execution_count": 534,
     "metadata": {},
     "output_type": "execute_result"
    }
   ],
   "source": [
    "X_train[0]"
   ],
   "metadata": {
    "collapsed": false,
    "ExecuteTime": {
     "end_time": "2024-01-10T10:12:20.325198Z",
     "start_time": "2024-01-10T10:12:20.289438Z"
    }
   },
   "id": "18faad22f70a9a41"
  },
  {
   "cell_type": "code",
   "execution_count": 530,
   "outputs": [
    {
     "name": "stdout",
     "output_type": "stream",
     "text": [
      "CPU times: user 425 ms, sys: 33.5 ms, total: 458 ms\n",
      "Wall time: 647 ms\n"
     ]
    },
    {
     "data": {
      "text/plain": "CRF(algorithm='lbfgs', all_possible_transitions=True, max_iterations=1000)",
      "text/html": "<style>#sk-container-id-32 {color: black;}#sk-container-id-32 pre{padding: 0;}#sk-container-id-32 div.sk-toggleable {background-color: white;}#sk-container-id-32 label.sk-toggleable__label {cursor: pointer;display: block;width: 100%;margin-bottom: 0;padding: 0.3em;box-sizing: border-box;text-align: center;}#sk-container-id-32 label.sk-toggleable__label-arrow:before {content: \"▸\";float: left;margin-right: 0.25em;color: #696969;}#sk-container-id-32 label.sk-toggleable__label-arrow:hover:before {color: black;}#sk-container-id-32 div.sk-estimator:hover label.sk-toggleable__label-arrow:before {color: black;}#sk-container-id-32 div.sk-toggleable__content {max-height: 0;max-width: 0;overflow: hidden;text-align: left;background-color: #f0f8ff;}#sk-container-id-32 div.sk-toggleable__content pre {margin: 0.2em;color: black;border-radius: 0.25em;background-color: #f0f8ff;}#sk-container-id-32 input.sk-toggleable__control:checked~div.sk-toggleable__content {max-height: 200px;max-width: 100%;overflow: auto;}#sk-container-id-32 input.sk-toggleable__control:checked~label.sk-toggleable__label-arrow:before {content: \"▾\";}#sk-container-id-32 div.sk-estimator input.sk-toggleable__control:checked~label.sk-toggleable__label {background-color: #d4ebff;}#sk-container-id-32 div.sk-label input.sk-toggleable__control:checked~label.sk-toggleable__label {background-color: #d4ebff;}#sk-container-id-32 input.sk-hidden--visually {border: 0;clip: rect(1px 1px 1px 1px);clip: rect(1px, 1px, 1px, 1px);height: 1px;margin: -1px;overflow: hidden;padding: 0;position: absolute;width: 1px;}#sk-container-id-32 div.sk-estimator {font-family: monospace;background-color: #f0f8ff;border: 1px dotted black;border-radius: 0.25em;box-sizing: border-box;margin-bottom: 0.5em;}#sk-container-id-32 div.sk-estimator:hover {background-color: #d4ebff;}#sk-container-id-32 div.sk-parallel-item::after {content: \"\";width: 100%;border-bottom: 1px solid gray;flex-grow: 1;}#sk-container-id-32 div.sk-label:hover label.sk-toggleable__label {background-color: #d4ebff;}#sk-container-id-32 div.sk-serial::before {content: \"\";position: absolute;border-left: 1px solid gray;box-sizing: border-box;top: 0;bottom: 0;left: 50%;z-index: 0;}#sk-container-id-32 div.sk-serial {display: flex;flex-direction: column;align-items: center;background-color: white;padding-right: 0.2em;padding-left: 0.2em;position: relative;}#sk-container-id-32 div.sk-item {position: relative;z-index: 1;}#sk-container-id-32 div.sk-parallel {display: flex;align-items: stretch;justify-content: center;background-color: white;position: relative;}#sk-container-id-32 div.sk-item::before, #sk-container-id-32 div.sk-parallel-item::before {content: \"\";position: absolute;border-left: 1px solid gray;box-sizing: border-box;top: 0;bottom: 0;left: 50%;z-index: -1;}#sk-container-id-32 div.sk-parallel-item {display: flex;flex-direction: column;z-index: 1;position: relative;background-color: white;}#sk-container-id-32 div.sk-parallel-item:first-child::after {align-self: flex-end;width: 50%;}#sk-container-id-32 div.sk-parallel-item:last-child::after {align-self: flex-start;width: 50%;}#sk-container-id-32 div.sk-parallel-item:only-child::after {width: 0;}#sk-container-id-32 div.sk-dashed-wrapped {border: 1px dashed gray;margin: 0 0.4em 0.5em 0.4em;box-sizing: border-box;padding-bottom: 0.4em;background-color: white;}#sk-container-id-32 div.sk-label label {font-family: monospace;font-weight: bold;display: inline-block;line-height: 1.2em;}#sk-container-id-32 div.sk-label-container {text-align: center;}#sk-container-id-32 div.sk-container {/* jupyter's `normalize.less` sets `[hidden] { display: none; }` but bootstrap.min.css set `[hidden] { display: none !important; }` so we also need the `!important` here to be able to override the default hidden behavior on the sphinx rendered scikit-learn.org. See: https://github.com/scikit-learn/scikit-learn/issues/21755 */display: inline-block !important;position: relative;}#sk-container-id-32 div.sk-text-repr-fallback {display: none;}</style><div id=\"sk-container-id-32\" class=\"sk-top-container\"><div class=\"sk-text-repr-fallback\"><pre>CRF(algorithm=&#x27;lbfgs&#x27;, all_possible_transitions=True, max_iterations=1000)</pre><b>In a Jupyter environment, please rerun this cell to show the HTML representation or trust the notebook. <br />On GitHub, the HTML representation is unable to render, please try loading this page with nbviewer.org.</b></div><div class=\"sk-container\" hidden><div class=\"sk-item\"><div class=\"sk-estimator sk-toggleable\"><input class=\"sk-toggleable__control sk-hidden--visually\" id=\"sk-estimator-id-48\" type=\"checkbox\" checked><label for=\"sk-estimator-id-48\" class=\"sk-toggleable__label sk-toggleable__label-arrow\">CRF</label><div class=\"sk-toggleable__content\"><pre>CRF(algorithm=&#x27;lbfgs&#x27;, all_possible_transitions=True, max_iterations=1000)</pre></div></div></div></div></div>"
     },
     "execution_count": 530,
     "metadata": {},
     "output_type": "execute_result"
    }
   ],
   "source": [
    "%%time\n",
    "crf = sklearn_crfsuite.CRF(\n",
    "    algorithm='lbfgs', \n",
    "    max_iterations=1000, \n",
    "    all_possible_transitions=True\n",
    ")\n",
    "crf.fit(X_train, y_train)"
   ],
   "metadata": {
    "collapsed": false,
    "ExecuteTime": {
     "end_time": "2024-01-10T09:51:31.341836Z",
     "start_time": "2024-01-10T09:51:30.733825Z"
    }
   },
   "id": "4fe2067798bdd2b3"
  },
  {
   "cell_type": "code",
   "execution_count": 531,
   "outputs": [
    {
     "name": "stdout",
     "output_type": "stream",
     "text": [
      "0.991114109014183\n",
      "                  precision    recall  f1-score   support\n",
      "\n",
      "  position_start       0.97      1.00      0.98       138\n",
      "position_between       1.00      1.00      1.00      6596\n",
      "    position_end       1.00      0.98      0.99       121\n",
      "\n",
      "        accuracy                           1.00      6855\n",
      "       macro avg       0.99      0.99      0.99      6855\n",
      "    weighted avg       1.00      1.00      1.00      6855\n",
      "\n",
      "[[[ 257    2]\n",
      "  [   5 6591]]\n",
      "\n",
      " [[6734    0]\n",
      "  [   2  119]]\n",
      "\n",
      " [[6712    5]\n",
      "  [   0  138]]]\n",
      "0.5161416433155563\n",
      "                  precision    recall  f1-score   support\n",
      "\n",
      "  position_start       0.88      0.24      0.37        63\n",
      "position_between       0.97      0.99      0.98      3580\n",
      "    position_end       0.21      0.18      0.19        62\n",
      "\n",
      "        accuracy                           0.96      3705\n",
      "       macro avg       0.69      0.47      0.52      3705\n",
      "    weighted avg       0.96      0.96      0.96      3705\n",
      "\n",
      "[[[  33   92]\n",
      "  [  37 3543]]\n",
      "\n",
      " [[3601   42]\n",
      "  [  51   11]]\n",
      "\n",
      " [[3640    2]\n",
      "  [  48   15]]]\n"
     ]
    }
   ],
   "source": [
    "def flatten(xss): \n",
    "    return [x for xs in xss for x in xs]\n",
    "\n",
    "def evaluate(model, x, y_true): \n",
    "    y_pred = model.predict(x)\n",
    "    print(metrics.flat_f1_score(y_true, y_pred, average='macro', labels = model.classes_))\n",
    "    print(metrics.flat_classification_report(y_true, y_pred, model.classes_))\n",
    "    print(multilabel_confusion_matrix(flatten(y_true), flatten(y_pred)))\n",
    "    \n",
    "evaluate(crf, X_test, y_test)\n",
    "evaluate(crf, test_features, test_labels) "
   ],
   "metadata": {
    "collapsed": false,
    "ExecuteTime": {
     "end_time": "2024-01-10T09:51:32.260995Z",
     "start_time": "2024-01-10T09:51:32.033636Z"
    }
   },
   "id": "b201d2381906b0ae"
  },
  {
   "cell_type": "markdown",
   "source": [
    "Optimization"
   ],
   "metadata": {
    "collapsed": false
   },
   "id": "30179d5bd5a2f0f8"
  },
  {
   "cell_type": "code",
   "execution_count": 470,
   "outputs": [
    {
     "data": {
      "text/plain": "array(['position_between', 'position_end', 'position_start'], dtype='<U16')"
     },
     "execution_count": 470,
     "metadata": {},
     "output_type": "execute_result"
    }
   ],
   "source": [
    "np.unique(test_labels_sw)"
   ],
   "metadata": {
    "collapsed": false,
    "ExecuteTime": {
     "end_time": "2024-01-10T08:54:26.314807Z",
     "start_time": "2024-01-10T08:54:26.301818Z"
    }
   },
   "id": "2575978caad6cc08"
  },
  {
   "cell_type": "code",
   "execution_count": 471,
   "outputs": [
    {
     "name": "stdout",
     "output_type": "stream",
     "text": [
      "Fitting 3 folds for each of 50 candidates, totalling 150 fits\n"
     ]
    },
    {
     "data": {
      "text/plain": "RandomizedSearchCV(cv=3,\n                   estimator=CRF(algorithm='lbfgs',\n                                 all_possible_transitions=True,\n                                 max_iterations=100),\n                   n_iter=50, n_jobs=-1,\n                   param_distributions={'c1': <scipy.stats._distn_infrastructure.rv_continuous_frozen object at 0x2a957dc10>,\n                                        'c2': <scipy.stats._distn_infrastructure.rv_continuous_frozen object at 0x32a731850>},\n                   scoring=make_scorer(flat_f1_score, average=macro, labels=['position_between' 'position_end' 'position_start']),\n                   verbose=1)",
      "text/html": "<style>#sk-container-id-29 {color: black;}#sk-container-id-29 pre{padding: 0;}#sk-container-id-29 div.sk-toggleable {background-color: white;}#sk-container-id-29 label.sk-toggleable__label {cursor: pointer;display: block;width: 100%;margin-bottom: 0;padding: 0.3em;box-sizing: border-box;text-align: center;}#sk-container-id-29 label.sk-toggleable__label-arrow:before {content: \"▸\";float: left;margin-right: 0.25em;color: #696969;}#sk-container-id-29 label.sk-toggleable__label-arrow:hover:before {color: black;}#sk-container-id-29 div.sk-estimator:hover label.sk-toggleable__label-arrow:before {color: black;}#sk-container-id-29 div.sk-toggleable__content {max-height: 0;max-width: 0;overflow: hidden;text-align: left;background-color: #f0f8ff;}#sk-container-id-29 div.sk-toggleable__content pre {margin: 0.2em;color: black;border-radius: 0.25em;background-color: #f0f8ff;}#sk-container-id-29 input.sk-toggleable__control:checked~div.sk-toggleable__content {max-height: 200px;max-width: 100%;overflow: auto;}#sk-container-id-29 input.sk-toggleable__control:checked~label.sk-toggleable__label-arrow:before {content: \"▾\";}#sk-container-id-29 div.sk-estimator input.sk-toggleable__control:checked~label.sk-toggleable__label {background-color: #d4ebff;}#sk-container-id-29 div.sk-label input.sk-toggleable__control:checked~label.sk-toggleable__label {background-color: #d4ebff;}#sk-container-id-29 input.sk-hidden--visually {border: 0;clip: rect(1px 1px 1px 1px);clip: rect(1px, 1px, 1px, 1px);height: 1px;margin: -1px;overflow: hidden;padding: 0;position: absolute;width: 1px;}#sk-container-id-29 div.sk-estimator {font-family: monospace;background-color: #f0f8ff;border: 1px dotted black;border-radius: 0.25em;box-sizing: border-box;margin-bottom: 0.5em;}#sk-container-id-29 div.sk-estimator:hover {background-color: #d4ebff;}#sk-container-id-29 div.sk-parallel-item::after {content: \"\";width: 100%;border-bottom: 1px solid gray;flex-grow: 1;}#sk-container-id-29 div.sk-label:hover label.sk-toggleable__label {background-color: #d4ebff;}#sk-container-id-29 div.sk-serial::before {content: \"\";position: absolute;border-left: 1px solid gray;box-sizing: border-box;top: 0;bottom: 0;left: 50%;z-index: 0;}#sk-container-id-29 div.sk-serial {display: flex;flex-direction: column;align-items: center;background-color: white;padding-right: 0.2em;padding-left: 0.2em;position: relative;}#sk-container-id-29 div.sk-item {position: relative;z-index: 1;}#sk-container-id-29 div.sk-parallel {display: flex;align-items: stretch;justify-content: center;background-color: white;position: relative;}#sk-container-id-29 div.sk-item::before, #sk-container-id-29 div.sk-parallel-item::before {content: \"\";position: absolute;border-left: 1px solid gray;box-sizing: border-box;top: 0;bottom: 0;left: 50%;z-index: -1;}#sk-container-id-29 div.sk-parallel-item {display: flex;flex-direction: column;z-index: 1;position: relative;background-color: white;}#sk-container-id-29 div.sk-parallel-item:first-child::after {align-self: flex-end;width: 50%;}#sk-container-id-29 div.sk-parallel-item:last-child::after {align-self: flex-start;width: 50%;}#sk-container-id-29 div.sk-parallel-item:only-child::after {width: 0;}#sk-container-id-29 div.sk-dashed-wrapped {border: 1px dashed gray;margin: 0 0.4em 0.5em 0.4em;box-sizing: border-box;padding-bottom: 0.4em;background-color: white;}#sk-container-id-29 div.sk-label label {font-family: monospace;font-weight: bold;display: inline-block;line-height: 1.2em;}#sk-container-id-29 div.sk-label-container {text-align: center;}#sk-container-id-29 div.sk-container {/* jupyter's `normalize.less` sets `[hidden] { display: none; }` but bootstrap.min.css set `[hidden] { display: none !important; }` so we also need the `!important` here to be able to override the default hidden behavior on the sphinx rendered scikit-learn.org. See: https://github.com/scikit-learn/scikit-learn/issues/21755 */display: inline-block !important;position: relative;}#sk-container-id-29 div.sk-text-repr-fallback {display: none;}</style><div id=\"sk-container-id-29\" class=\"sk-top-container\"><div class=\"sk-text-repr-fallback\"><pre>RandomizedSearchCV(cv=3,\n                   estimator=CRF(algorithm=&#x27;lbfgs&#x27;,\n                                 all_possible_transitions=True,\n                                 max_iterations=100),\n                   n_iter=50, n_jobs=-1,\n                   param_distributions={&#x27;c1&#x27;: &lt;scipy.stats._distn_infrastructure.rv_continuous_frozen object at 0x2a957dc10&gt;,\n                                        &#x27;c2&#x27;: &lt;scipy.stats._distn_infrastructure.rv_continuous_frozen object at 0x32a731850&gt;},\n                   scoring=make_scorer(flat_f1_score, average=macro, labels=[&#x27;position_between&#x27; &#x27;position_end&#x27; &#x27;position_start&#x27;]),\n                   verbose=1)</pre><b>In a Jupyter environment, please rerun this cell to show the HTML representation or trust the notebook. <br />On GitHub, the HTML representation is unable to render, please try loading this page with nbviewer.org.</b></div><div class=\"sk-container\" hidden><div class=\"sk-item sk-dashed-wrapped\"><div class=\"sk-label-container\"><div class=\"sk-label sk-toggleable\"><input class=\"sk-toggleable__control sk-hidden--visually\" id=\"sk-estimator-id-43\" type=\"checkbox\" ><label for=\"sk-estimator-id-43\" class=\"sk-toggleable__label sk-toggleable__label-arrow\">RandomizedSearchCV</label><div class=\"sk-toggleable__content\"><pre>RandomizedSearchCV(cv=3,\n                   estimator=CRF(algorithm=&#x27;lbfgs&#x27;,\n                                 all_possible_transitions=True,\n                                 max_iterations=100),\n                   n_iter=50, n_jobs=-1,\n                   param_distributions={&#x27;c1&#x27;: &lt;scipy.stats._distn_infrastructure.rv_continuous_frozen object at 0x2a957dc10&gt;,\n                                        &#x27;c2&#x27;: &lt;scipy.stats._distn_infrastructure.rv_continuous_frozen object at 0x32a731850&gt;},\n                   scoring=make_scorer(flat_f1_score, average=macro, labels=[&#x27;position_between&#x27; &#x27;position_end&#x27; &#x27;position_start&#x27;]),\n                   verbose=1)</pre></div></div></div><div class=\"sk-parallel\"><div class=\"sk-parallel-item\"><div class=\"sk-item\"><div class=\"sk-label-container\"><div class=\"sk-label sk-toggleable\"><input class=\"sk-toggleable__control sk-hidden--visually\" id=\"sk-estimator-id-44\" type=\"checkbox\" ><label for=\"sk-estimator-id-44\" class=\"sk-toggleable__label sk-toggleable__label-arrow\">estimator: CRF</label><div class=\"sk-toggleable__content\"><pre>CRF(algorithm=&#x27;lbfgs&#x27;, all_possible_transitions=True, max_iterations=100)</pre></div></div></div><div class=\"sk-serial\"><div class=\"sk-item\"><div class=\"sk-estimator sk-toggleable\"><input class=\"sk-toggleable__control sk-hidden--visually\" id=\"sk-estimator-id-45\" type=\"checkbox\" ><label for=\"sk-estimator-id-45\" class=\"sk-toggleable__label sk-toggleable__label-arrow\">CRF</label><div class=\"sk-toggleable__content\"><pre>CRF(algorithm=&#x27;lbfgs&#x27;, all_possible_transitions=True, max_iterations=100)</pre></div></div></div></div></div></div></div></div></div></div>"
     },
     "execution_count": 471,
     "metadata": {},
     "output_type": "execute_result"
    }
   ],
   "source": [
    "import scipy\n",
    "from sklearn.model_selection import RandomizedSearchCV\n",
    "from sklearn.metrics import make_scorer\n",
    "\n",
    "# define fixed parameters and parameters to search\n",
    "crf = sklearn_crfsuite.CRF(\n",
    "    algorithm='lbfgs', \n",
    "    max_iterations=100, \n",
    "    all_possible_transitions=True\n",
    ")\n",
    "params_space = {\n",
    "    'c1': scipy.stats.expon(scale=0.5),\n",
    "    'c2': scipy.stats.expon(scale=0.05),\n",
    "}\n",
    "\n",
    "# use the same metric for evaluation\n",
    "f1_scorer = make_scorer(metrics.flat_f1_score, \n",
    "                        average='macro', labels=np.unique(test_labels_sw))\n",
    "\n",
    "# search\n",
    "rs = RandomizedSearchCV(crf, params_space, \n",
    "                        cv=3, \n",
    "                        verbose=1, \n",
    "                        n_jobs=-1, \n",
    "                        n_iter=50, \n",
    "                        scoring=f1_scorer)\n",
    "rs.fit(X_train, y_train)"
   ],
   "metadata": {
    "collapsed": false,
    "ExecuteTime": {
     "end_time": "2024-01-10T08:54:58.064266Z",
     "start_time": "2024-01-10T08:54:27.097489Z"
    }
   },
   "id": "b7b05dd6b1ef49c4"
  },
  {
   "cell_type": "code",
   "execution_count": 472,
   "outputs": [
    {
     "name": "stdout",
     "output_type": "stream",
     "text": [
      "best params: {'c1': 0.23848344457633144, 'c2': 0.012981748133845226}\n",
      "best CV score: 0.9994634410404596\n",
      "model size: 0.01M\n"
     ]
    }
   ],
   "source": [
    "# crf = rs.best_estimator_\n",
    "print('best params:', rs.best_params_)\n",
    "print('best CV score:', rs.best_score_)\n",
    "print('model size: {:0.2f}M'.format(rs.best_estimator_.size_ / 1000000))"
   ],
   "metadata": {
    "collapsed": false,
    "ExecuteTime": {
     "end_time": "2024-01-10T08:54:58.068114Z",
     "start_time": "2024-01-10T08:54:58.065186Z"
    }
   },
   "id": "6b07e4545da4fd82"
  },
  {
   "cell_type": "code",
   "execution_count": 476,
   "outputs": [
    {
     "name": "stdout",
     "output_type": "stream",
     "text": [
      "1.0\n",
      "                  precision    recall  f1-score   support\n",
      "\n",
      "  position_start       1.00      1.00      1.00       138\n",
      "position_between       1.00      1.00      1.00      7148\n",
      "    position_end       1.00      1.00      1.00       119\n",
      "\n",
      "        accuracy                           1.00      7405\n",
      "       macro avg       1.00      1.00      1.00      7405\n",
      "    weighted avg       1.00      1.00      1.00      7405\n",
      "\n",
      "[[[ 257    0]\n",
      "  [   0 7148]]\n",
      "\n",
      " [[7286    0]\n",
      "  [   0  119]]\n",
      "\n",
      " [[7267    0]\n",
      "  [   0  138]]]\n",
      "0.37837589180050174\n",
      "                  precision    recall  f1-score   support\n",
      "\n",
      "  position_start       0.83      0.08      0.14        63\n",
      "position_between       0.97      0.93      0.95      3580\n",
      "    position_end       0.02      0.10      0.04        62\n",
      "\n",
      "        accuracy                           0.91      3705\n",
      "       macro avg       0.61      0.37      0.38      3705\n",
      "    weighted avg       0.95      0.91      0.92      3705\n",
      "\n",
      "[[[  18  107]\n",
      "  [ 235 3345]]\n",
      "\n",
      " [[3402  241]\n",
      "  [  56    6]]\n",
      "\n",
      " [[3641    1]\n",
      "  [  58    5]]]\n"
     ]
    }
   ],
   "source": [
    "crf = rs.best_estimator_\n",
    "evaluate(crf, X_test, y_test)\n",
    "evaluate(crf, test_features, test_labels)"
   ],
   "metadata": {
    "collapsed": false,
    "ExecuteTime": {
     "end_time": "2024-01-10T08:56:42.455060Z",
     "start_time": "2024-01-10T08:56:42.191957Z"
    }
   },
   "id": "62274928c8490844"
  },
  {
   "cell_type": "code",
   "execution_count": 474,
   "outputs": [
    {
     "name": "stdout",
     "output_type": "stream",
     "text": [
      "Top likely transitions:\n",
      "position_between -> position_end 12.827156\n",
      "position_between -> position_between 8.457200\n",
      "position_start -> position_between 5.971737\n",
      "position_between -> position_start -0.665763\n",
      "position_start -> position_start -2.707565\n",
      "position_end -> position_start -4.859459\n",
      "position_end -> position_between -6.631930\n",
      "\n",
      "Top unlikely transitions:\n",
      "position_between -> position_end 12.827156\n",
      "position_between -> position_between 8.457200\n",
      "position_start -> position_between 5.971737\n",
      "position_between -> position_start -0.665763\n",
      "position_start -> position_start -2.707565\n",
      "position_end -> position_start -4.859459\n",
      "position_end -> position_between -6.631930\n"
     ]
    }
   ],
   "source": [
    "from collections import Counter\n",
    "\n",
    "def print_transitions(trans_features):\n",
    "    for (label_from, label_to), weight in trans_features:\n",
    "        print(\"%-6s -> %-7s %0.6f\" % (label_from, label_to, weight))\n",
    "\n",
    "print(\"Top likely transitions:\")\n",
    "print_transitions(Counter(crf.transition_features_).most_common(9))\n",
    "\n",
    "print(\"\\nTop unlikely transitions:\")\n",
    "print_transitions(Counter(crf.transition_features_).most_common()[-9:])"
   ],
   "metadata": {
    "collapsed": false,
    "ExecuteTime": {
     "end_time": "2024-01-10T08:55:44.179900Z",
     "start_time": "2024-01-10T08:55:44.163675Z"
    }
   },
   "id": "4d5293fbdb5afc56"
  },
  {
   "cell_type": "code",
   "execution_count": 475,
   "outputs": [
    {
     "name": "stdout",
     "output_type": "stream",
     "text": [
      "Top positive:\n",
      "4.299834 position_start event_with_roles:Odoo Application->db Server/Mail Server: [PgsqlRequest:Simple query:UPDATE:['fetchmail_server']]\n",
      "1.868129 position_start selective_file_data:version\n",
      "1.868129 position_start +1:origin_file_data:version\n",
      "1.139334 position_between -1:event_with_roles:Odoo Application->db Server/Mail Server: [PgsqlRequest:Simple query:UPDATE:['fetchmail_server']]\n",
      "0.855205 position_start +3:event_with_roles:Odoo Application->db Server/Mail Server: [PgsqlRequest:Simple query:INSERT:['res_users_log']]\n",
      "0.727161 position_start +1:event_with_roles:End Point (Procurement)->Odoo Application: [HttpRequest:POST /xmlrpc/2/common HTTP/1.1\\r\\n]\n",
      "0.357684 position_end -1:event_with_roles:Odoo Application->db Server/Mail Server: [PgsqlRequest:Simple query:UPDATE:['mail_message']]\n",
      "0.301963 position_end selective_file_data:IsNumber\n",
      "0.234932 position_start +2:event_with_roles:Odoo Application->db Server/Mail Server: [PgsqlRequest:Simple query:INSERT:['res_users_log']]\n",
      "0.228720 position_start +9:event_with_roles:Odoo Application->db Server/Mail Server: [PgsqlRequest:Simple query:INSERT:['mail_message']]\n",
      "0.224828 position_start +5:event_with_roles:Odoo Application->db Server/Mail Server: [PgsqlRequest:Simple query:INSERT:['purchase_requisition']]\n",
      "0.191959 position_start +4:selective_file_data:purchase.requisition_create\n",
      "0.191959 position_start +10:origin_file_data:purchase.requisition_create\n",
      "0.156823 position_end event_with_roles:Odoo Application->db Server/Mail Server: [PgsqlRequest:Simple query:UPDATE:['mail_mail']]\n",
      "0.034000 position_start +6:event_with_roles:Odoo Application->db Server/Mail Server: [PgsqlRequest:Simple query:INSERT:['mail_followers']]\n",
      "0.034000 position_start +7:event_with_roles:Odoo Application->db Server/Mail Server: [PgsqlRequest:Simple query:INSERT:['mail_followers_mail_message_subtype_rel']]\n",
      "0.012895 position_start +4:selective_file_data:IsNumber\n",
      "-0.135134 position_between -1:event_with_roles:Odoo Application->db Server/Mail Server: [PgsqlRequest:Simple query:UPDATE:['mail_message']]\n",
      "-0.153838 position_between +4:selective_file_data:purchase.requisition_create\n",
      "-0.153838 position_between +10:origin_file_data:purchase.requisition_create\n",
      "-0.154189 position_between +2:event_with_roles:Odoo Application->db Server/Mail Server: [PgsqlRequest:Simple query:INSERT:['res_users_log']]\n",
      "-0.204089 position_between +5:event_with_roles:Odoo Application->db Server/Mail Server: [PgsqlRequest:Simple query:INSERT:['purchase_requisition']]\n",
      "-0.359605 position_between event_with_roles:Odoo Application->End Point (Procurement): [HttpResponse:HTTP/1.0 200 OK\\r\\n]\n",
      "-0.680110 position_between +1:event_with_roles:End Point (Procurement)->Odoo Application: [HttpRequest:POST /xmlrpc/2/common HTTP/1.1\\r\\n]\n",
      "-0.725230 position_between +3:event_with_roles:Odoo Application->db Server/Mail Server: [PgsqlRequest:Simple query:INSERT:['res_users_log']]\n",
      "-1.678867 position_between selective_file_data:version\n",
      "-1.678867 position_between +1:origin_file_data:version\n",
      "-1.971050 position_between event_with_roles:Odoo Application->db Server/Mail Server: [PgsqlRequest:Simple query:UPDATE:['fetchmail_server']]\n",
      "\n",
      "Top negative:\n",
      "4.299834 position_start event_with_roles:Odoo Application->db Server/Mail Server: [PgsqlRequest:Simple query:UPDATE:['fetchmail_server']]\n",
      "1.868129 position_start selective_file_data:version\n",
      "1.868129 position_start +1:origin_file_data:version\n",
      "1.139334 position_between -1:event_with_roles:Odoo Application->db Server/Mail Server: [PgsqlRequest:Simple query:UPDATE:['fetchmail_server']]\n",
      "0.855205 position_start +3:event_with_roles:Odoo Application->db Server/Mail Server: [PgsqlRequest:Simple query:INSERT:['res_users_log']]\n",
      "0.727161 position_start +1:event_with_roles:End Point (Procurement)->Odoo Application: [HttpRequest:POST /xmlrpc/2/common HTTP/1.1\\r\\n]\n",
      "0.357684 position_end -1:event_with_roles:Odoo Application->db Server/Mail Server: [PgsqlRequest:Simple query:UPDATE:['mail_message']]\n",
      "0.301963 position_end selective_file_data:IsNumber\n",
      "0.234932 position_start +2:event_with_roles:Odoo Application->db Server/Mail Server: [PgsqlRequest:Simple query:INSERT:['res_users_log']]\n",
      "0.228720 position_start +9:event_with_roles:Odoo Application->db Server/Mail Server: [PgsqlRequest:Simple query:INSERT:['mail_message']]\n",
      "0.224828 position_start +5:event_with_roles:Odoo Application->db Server/Mail Server: [PgsqlRequest:Simple query:INSERT:['purchase_requisition']]\n",
      "0.191959 position_start +4:selective_file_data:purchase.requisition_create\n",
      "0.191959 position_start +10:origin_file_data:purchase.requisition_create\n",
      "0.156823 position_end event_with_roles:Odoo Application->db Server/Mail Server: [PgsqlRequest:Simple query:UPDATE:['mail_mail']]\n",
      "0.034000 position_start +6:event_with_roles:Odoo Application->db Server/Mail Server: [PgsqlRequest:Simple query:INSERT:['mail_followers']]\n",
      "0.034000 position_start +7:event_with_roles:Odoo Application->db Server/Mail Server: [PgsqlRequest:Simple query:INSERT:['mail_followers_mail_message_subtype_rel']]\n",
      "0.012895 position_start +4:selective_file_data:IsNumber\n",
      "-0.135134 position_between -1:event_with_roles:Odoo Application->db Server/Mail Server: [PgsqlRequest:Simple query:UPDATE:['mail_message']]\n",
      "-0.153838 position_between +4:selective_file_data:purchase.requisition_create\n",
      "-0.153838 position_between +10:origin_file_data:purchase.requisition_create\n",
      "-0.154189 position_between +2:event_with_roles:Odoo Application->db Server/Mail Server: [PgsqlRequest:Simple query:INSERT:['res_users_log']]\n",
      "-0.204089 position_between +5:event_with_roles:Odoo Application->db Server/Mail Server: [PgsqlRequest:Simple query:INSERT:['purchase_requisition']]\n",
      "-0.359605 position_between event_with_roles:Odoo Application->End Point (Procurement): [HttpResponse:HTTP/1.0 200 OK\\r\\n]\n",
      "-0.680110 position_between +1:event_with_roles:End Point (Procurement)->Odoo Application: [HttpRequest:POST /xmlrpc/2/common HTTP/1.1\\r\\n]\n",
      "-0.725230 position_between +3:event_with_roles:Odoo Application->db Server/Mail Server: [PgsqlRequest:Simple query:INSERT:['res_users_log']]\n",
      "-1.678867 position_between selective_file_data:version\n",
      "-1.678867 position_between +1:origin_file_data:version\n",
      "-1.971050 position_between event_with_roles:Odoo Application->db Server/Mail Server: [PgsqlRequest:Simple query:UPDATE:['fetchmail_server']]\n"
     ]
    }
   ],
   "source": [
    "def print_state_features(state_features):\n",
    "    for (attr, label), weight in state_features:\n",
    "        print(\"%0.6f %-8s %s\" % (weight, label, attr))\n",
    "\n",
    "print(\"Top positive:\")\n",
    "print_state_features(Counter(crf.state_features_).most_common(30))\n",
    "\n",
    "print(\"\\nTop negative:\")\n",
    "print_state_features(Counter(crf.state_features_).most_common()[-30:])"
   ],
   "metadata": {
    "collapsed": false,
    "ExecuteTime": {
     "end_time": "2024-01-10T08:55:59.309035Z",
     "start_time": "2024-01-10T08:55:59.291717Z"
    }
   },
   "id": "f4fb6fccc9bec997"
  },
  {
   "cell_type": "code",
   "execution_count": null,
   "outputs": [],
   "source": [],
   "metadata": {
    "collapsed": false
   },
   "id": "b30763cae1d91e90"
  }
 ],
 "metadata": {
  "kernelspec": {
   "display_name": "Python 3",
   "language": "python",
   "name": "python3"
  },
  "language_info": {
   "codemirror_mode": {
    "name": "ipython",
    "version": 2
   },
   "file_extension": ".py",
   "mimetype": "text/x-python",
   "name": "python",
   "nbconvert_exporter": "python",
   "pygments_lexer": "ipython2",
   "version": "2.7.6"
  }
 },
 "nbformat": 4,
 "nbformat_minor": 5
}
