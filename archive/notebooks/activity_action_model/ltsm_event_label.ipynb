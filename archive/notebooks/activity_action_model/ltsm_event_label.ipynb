{
 "cells": [
  {
   "cell_type": "code",
   "execution_count": 2,
   "id": "initial_id",
   "metadata": {
    "collapsed": true,
    "ExecuteTime": {
     "end_time": "2023-12-05T08:08:23.414698Z",
     "start_time": "2023-12-05T08:08:23.344387Z"
    }
   },
   "outputs": [],
   "source": [
    "import tensorflow as tf\n",
    "import keras\n",
    "from keras.src.layers import Embedding\n",
    "from keras.layers import Dense\n",
    "from keras.src.utils import to_categorical\n",
    "from keras.models import Sequential\n",
    "\n",
    "from sklearn.preprocessing import OneHotEncoder\n",
    "from sklearn.preprocessing import LabelEncoder\n",
    "from sklearn.model_selection import train_test_split\n",
    "from scipy.sparse import csr_matrix\n",
    "import numpy as np\n",
    "import pandas as pd\n",
    "import pandas\n",
    "\n",
    "from sklearn.model_selection import cross_val_score\n",
    "from sklearn.model_selection import KFold\n",
    "from sklearn.preprocessing import LabelEncoder\n",
    "from sklearn.pipeline import Pipeline\n",
    "from scikeras.wrappers import KerasClassifier \n"
   ]
  },
  {
   "cell_type": "markdown",
   "source": [
    "# Load Data"
   ],
   "metadata": {
    "collapsed": false
   },
   "id": "2c2b418f5ba89e43"
  },
  {
   "cell_type": "code",
   "execution_count": 81,
   "outputs": [
    {
     "ename": "FileNotFoundError",
     "evalue": "[Errno 2] No such file or directory: 'data_mod/Train/HR_R1_Train.csv'",
     "output_type": "error",
     "traceback": [
      "\u001B[0;31m---------------------------------------------------------------------------\u001B[0m",
      "\u001B[0;31mFileNotFoundError\u001B[0m                         Traceback (most recent call last)",
      "Cell \u001B[0;32mIn[81], line 1\u001B[0m\n\u001B[0;32m----> 1\u001B[0m train_r1 \u001B[38;5;241m=\u001B[39m \u001B[43mpd\u001B[49m\u001B[38;5;241;43m.\u001B[39;49m\u001B[43mread_csv\u001B[49m\u001B[43m(\u001B[49m\u001B[38;5;124;43m'\u001B[39;49m\u001B[38;5;124;43mdata_mod/Train/HR_R1_Train.csv\u001B[39;49m\u001B[38;5;124;43m'\u001B[39;49m\u001B[43m)\u001B[49m\n\u001B[1;32m      2\u001B[0m test_r1 \u001B[38;5;241m=\u001B[39m pd\u001B[38;5;241m.\u001B[39mread_csv(\u001B[38;5;124m'\u001B[39m\u001B[38;5;124mdata_mod/Test/HR_R1_Test.csv\u001B[39m\u001B[38;5;124m'\u001B[39m)\n\u001B[1;32m      3\u001B[0m interleaved_r1 \u001B[38;5;241m=\u001B[39m pd\u001B[38;5;241m.\u001B[39mread_csv(\u001B[38;5;124m\"\u001B[39m\u001B[38;5;124mdata_mod/Interleaved/HR_IL_R1.csv\u001B[39m\u001B[38;5;124m\"\u001B[39m)\n",
      "File \u001B[0;32m~/git/master_thesis/nw_event_abstraction/venv/lib/python3.9/site-packages/pandas/io/parsers/readers.py:948\u001B[0m, in \u001B[0;36mread_csv\u001B[0;34m(filepath_or_buffer, sep, delimiter, header, names, index_col, usecols, dtype, engine, converters, true_values, false_values, skipinitialspace, skiprows, skipfooter, nrows, na_values, keep_default_na, na_filter, verbose, skip_blank_lines, parse_dates, infer_datetime_format, keep_date_col, date_parser, date_format, dayfirst, cache_dates, iterator, chunksize, compression, thousands, decimal, lineterminator, quotechar, quoting, doublequote, escapechar, comment, encoding, encoding_errors, dialect, on_bad_lines, delim_whitespace, low_memory, memory_map, float_precision, storage_options, dtype_backend)\u001B[0m\n\u001B[1;32m    935\u001B[0m kwds_defaults \u001B[38;5;241m=\u001B[39m _refine_defaults_read(\n\u001B[1;32m    936\u001B[0m     dialect,\n\u001B[1;32m    937\u001B[0m     delimiter,\n\u001B[0;32m   (...)\u001B[0m\n\u001B[1;32m    944\u001B[0m     dtype_backend\u001B[38;5;241m=\u001B[39mdtype_backend,\n\u001B[1;32m    945\u001B[0m )\n\u001B[1;32m    946\u001B[0m kwds\u001B[38;5;241m.\u001B[39mupdate(kwds_defaults)\n\u001B[0;32m--> 948\u001B[0m \u001B[38;5;28;01mreturn\u001B[39;00m \u001B[43m_read\u001B[49m\u001B[43m(\u001B[49m\u001B[43mfilepath_or_buffer\u001B[49m\u001B[43m,\u001B[49m\u001B[43m \u001B[49m\u001B[43mkwds\u001B[49m\u001B[43m)\u001B[49m\n",
      "File \u001B[0;32m~/git/master_thesis/nw_event_abstraction/venv/lib/python3.9/site-packages/pandas/io/parsers/readers.py:611\u001B[0m, in \u001B[0;36m_read\u001B[0;34m(filepath_or_buffer, kwds)\u001B[0m\n\u001B[1;32m    608\u001B[0m _validate_names(kwds\u001B[38;5;241m.\u001B[39mget(\u001B[38;5;124m\"\u001B[39m\u001B[38;5;124mnames\u001B[39m\u001B[38;5;124m\"\u001B[39m, \u001B[38;5;28;01mNone\u001B[39;00m))\n\u001B[1;32m    610\u001B[0m \u001B[38;5;66;03m# Create the parser.\u001B[39;00m\n\u001B[0;32m--> 611\u001B[0m parser \u001B[38;5;241m=\u001B[39m \u001B[43mTextFileReader\u001B[49m\u001B[43m(\u001B[49m\u001B[43mfilepath_or_buffer\u001B[49m\u001B[43m,\u001B[49m\u001B[43m \u001B[49m\u001B[38;5;241;43m*\u001B[39;49m\u001B[38;5;241;43m*\u001B[39;49m\u001B[43mkwds\u001B[49m\u001B[43m)\u001B[49m\n\u001B[1;32m    613\u001B[0m \u001B[38;5;28;01mif\u001B[39;00m chunksize \u001B[38;5;129;01mor\u001B[39;00m iterator:\n\u001B[1;32m    614\u001B[0m     \u001B[38;5;28;01mreturn\u001B[39;00m parser\n",
      "File \u001B[0;32m~/git/master_thesis/nw_event_abstraction/venv/lib/python3.9/site-packages/pandas/io/parsers/readers.py:1448\u001B[0m, in \u001B[0;36mTextFileReader.__init__\u001B[0;34m(self, f, engine, **kwds)\u001B[0m\n\u001B[1;32m   1445\u001B[0m     \u001B[38;5;28mself\u001B[39m\u001B[38;5;241m.\u001B[39moptions[\u001B[38;5;124m\"\u001B[39m\u001B[38;5;124mhas_index_names\u001B[39m\u001B[38;5;124m\"\u001B[39m] \u001B[38;5;241m=\u001B[39m kwds[\u001B[38;5;124m\"\u001B[39m\u001B[38;5;124mhas_index_names\u001B[39m\u001B[38;5;124m\"\u001B[39m]\n\u001B[1;32m   1447\u001B[0m \u001B[38;5;28mself\u001B[39m\u001B[38;5;241m.\u001B[39mhandles: IOHandles \u001B[38;5;241m|\u001B[39m \u001B[38;5;28;01mNone\u001B[39;00m \u001B[38;5;241m=\u001B[39m \u001B[38;5;28;01mNone\u001B[39;00m\n\u001B[0;32m-> 1448\u001B[0m \u001B[38;5;28mself\u001B[39m\u001B[38;5;241m.\u001B[39m_engine \u001B[38;5;241m=\u001B[39m \u001B[38;5;28;43mself\u001B[39;49m\u001B[38;5;241;43m.\u001B[39;49m\u001B[43m_make_engine\u001B[49m\u001B[43m(\u001B[49m\u001B[43mf\u001B[49m\u001B[43m,\u001B[49m\u001B[43m \u001B[49m\u001B[38;5;28;43mself\u001B[39;49m\u001B[38;5;241;43m.\u001B[39;49m\u001B[43mengine\u001B[49m\u001B[43m)\u001B[49m\n",
      "File \u001B[0;32m~/git/master_thesis/nw_event_abstraction/venv/lib/python3.9/site-packages/pandas/io/parsers/readers.py:1705\u001B[0m, in \u001B[0;36mTextFileReader._make_engine\u001B[0;34m(self, f, engine)\u001B[0m\n\u001B[1;32m   1703\u001B[0m     \u001B[38;5;28;01mif\u001B[39;00m \u001B[38;5;124m\"\u001B[39m\u001B[38;5;124mb\u001B[39m\u001B[38;5;124m\"\u001B[39m \u001B[38;5;129;01mnot\u001B[39;00m \u001B[38;5;129;01min\u001B[39;00m mode:\n\u001B[1;32m   1704\u001B[0m         mode \u001B[38;5;241m+\u001B[39m\u001B[38;5;241m=\u001B[39m \u001B[38;5;124m\"\u001B[39m\u001B[38;5;124mb\u001B[39m\u001B[38;5;124m\"\u001B[39m\n\u001B[0;32m-> 1705\u001B[0m \u001B[38;5;28mself\u001B[39m\u001B[38;5;241m.\u001B[39mhandles \u001B[38;5;241m=\u001B[39m \u001B[43mget_handle\u001B[49m\u001B[43m(\u001B[49m\n\u001B[1;32m   1706\u001B[0m \u001B[43m    \u001B[49m\u001B[43mf\u001B[49m\u001B[43m,\u001B[49m\n\u001B[1;32m   1707\u001B[0m \u001B[43m    \u001B[49m\u001B[43mmode\u001B[49m\u001B[43m,\u001B[49m\n\u001B[1;32m   1708\u001B[0m \u001B[43m    \u001B[49m\u001B[43mencoding\u001B[49m\u001B[38;5;241;43m=\u001B[39;49m\u001B[38;5;28;43mself\u001B[39;49m\u001B[38;5;241;43m.\u001B[39;49m\u001B[43moptions\u001B[49m\u001B[38;5;241;43m.\u001B[39;49m\u001B[43mget\u001B[49m\u001B[43m(\u001B[49m\u001B[38;5;124;43m\"\u001B[39;49m\u001B[38;5;124;43mencoding\u001B[39;49m\u001B[38;5;124;43m\"\u001B[39;49m\u001B[43m,\u001B[49m\u001B[43m \u001B[49m\u001B[38;5;28;43;01mNone\u001B[39;49;00m\u001B[43m)\u001B[49m\u001B[43m,\u001B[49m\n\u001B[1;32m   1709\u001B[0m \u001B[43m    \u001B[49m\u001B[43mcompression\u001B[49m\u001B[38;5;241;43m=\u001B[39;49m\u001B[38;5;28;43mself\u001B[39;49m\u001B[38;5;241;43m.\u001B[39;49m\u001B[43moptions\u001B[49m\u001B[38;5;241;43m.\u001B[39;49m\u001B[43mget\u001B[49m\u001B[43m(\u001B[49m\u001B[38;5;124;43m\"\u001B[39;49m\u001B[38;5;124;43mcompression\u001B[39;49m\u001B[38;5;124;43m\"\u001B[39;49m\u001B[43m,\u001B[49m\u001B[43m \u001B[49m\u001B[38;5;28;43;01mNone\u001B[39;49;00m\u001B[43m)\u001B[49m\u001B[43m,\u001B[49m\n\u001B[1;32m   1710\u001B[0m \u001B[43m    \u001B[49m\u001B[43mmemory_map\u001B[49m\u001B[38;5;241;43m=\u001B[39;49m\u001B[38;5;28;43mself\u001B[39;49m\u001B[38;5;241;43m.\u001B[39;49m\u001B[43moptions\u001B[49m\u001B[38;5;241;43m.\u001B[39;49m\u001B[43mget\u001B[49m\u001B[43m(\u001B[49m\u001B[38;5;124;43m\"\u001B[39;49m\u001B[38;5;124;43mmemory_map\u001B[39;49m\u001B[38;5;124;43m\"\u001B[39;49m\u001B[43m,\u001B[49m\u001B[43m \u001B[49m\u001B[38;5;28;43;01mFalse\u001B[39;49;00m\u001B[43m)\u001B[49m\u001B[43m,\u001B[49m\n\u001B[1;32m   1711\u001B[0m \u001B[43m    \u001B[49m\u001B[43mis_text\u001B[49m\u001B[38;5;241;43m=\u001B[39;49m\u001B[43mis_text\u001B[49m\u001B[43m,\u001B[49m\n\u001B[1;32m   1712\u001B[0m \u001B[43m    \u001B[49m\u001B[43merrors\u001B[49m\u001B[38;5;241;43m=\u001B[39;49m\u001B[38;5;28;43mself\u001B[39;49m\u001B[38;5;241;43m.\u001B[39;49m\u001B[43moptions\u001B[49m\u001B[38;5;241;43m.\u001B[39;49m\u001B[43mget\u001B[49m\u001B[43m(\u001B[49m\u001B[38;5;124;43m\"\u001B[39;49m\u001B[38;5;124;43mencoding_errors\u001B[39;49m\u001B[38;5;124;43m\"\u001B[39;49m\u001B[43m,\u001B[49m\u001B[43m \u001B[49m\u001B[38;5;124;43m\"\u001B[39;49m\u001B[38;5;124;43mstrict\u001B[39;49m\u001B[38;5;124;43m\"\u001B[39;49m\u001B[43m)\u001B[49m\u001B[43m,\u001B[49m\n\u001B[1;32m   1713\u001B[0m \u001B[43m    \u001B[49m\u001B[43mstorage_options\u001B[49m\u001B[38;5;241;43m=\u001B[39;49m\u001B[38;5;28;43mself\u001B[39;49m\u001B[38;5;241;43m.\u001B[39;49m\u001B[43moptions\u001B[49m\u001B[38;5;241;43m.\u001B[39;49m\u001B[43mget\u001B[49m\u001B[43m(\u001B[49m\u001B[38;5;124;43m\"\u001B[39;49m\u001B[38;5;124;43mstorage_options\u001B[39;49m\u001B[38;5;124;43m\"\u001B[39;49m\u001B[43m,\u001B[49m\u001B[43m \u001B[49m\u001B[38;5;28;43;01mNone\u001B[39;49;00m\u001B[43m)\u001B[49m\u001B[43m,\u001B[49m\n\u001B[1;32m   1714\u001B[0m \u001B[43m\u001B[49m\u001B[43m)\u001B[49m\n\u001B[1;32m   1715\u001B[0m \u001B[38;5;28;01massert\u001B[39;00m \u001B[38;5;28mself\u001B[39m\u001B[38;5;241m.\u001B[39mhandles \u001B[38;5;129;01mis\u001B[39;00m \u001B[38;5;129;01mnot\u001B[39;00m \u001B[38;5;28;01mNone\u001B[39;00m\n\u001B[1;32m   1716\u001B[0m f \u001B[38;5;241m=\u001B[39m \u001B[38;5;28mself\u001B[39m\u001B[38;5;241m.\u001B[39mhandles\u001B[38;5;241m.\u001B[39mhandle\n",
      "File \u001B[0;32m~/git/master_thesis/nw_event_abstraction/venv/lib/python3.9/site-packages/pandas/io/common.py:863\u001B[0m, in \u001B[0;36mget_handle\u001B[0;34m(path_or_buf, mode, encoding, compression, memory_map, is_text, errors, storage_options)\u001B[0m\n\u001B[1;32m    858\u001B[0m \u001B[38;5;28;01melif\u001B[39;00m \u001B[38;5;28misinstance\u001B[39m(handle, \u001B[38;5;28mstr\u001B[39m):\n\u001B[1;32m    859\u001B[0m     \u001B[38;5;66;03m# Check whether the filename is to be opened in binary mode.\u001B[39;00m\n\u001B[1;32m    860\u001B[0m     \u001B[38;5;66;03m# Binary mode does not support 'encoding' and 'newline'.\u001B[39;00m\n\u001B[1;32m    861\u001B[0m     \u001B[38;5;28;01mif\u001B[39;00m ioargs\u001B[38;5;241m.\u001B[39mencoding \u001B[38;5;129;01mand\u001B[39;00m \u001B[38;5;124m\"\u001B[39m\u001B[38;5;124mb\u001B[39m\u001B[38;5;124m\"\u001B[39m \u001B[38;5;129;01mnot\u001B[39;00m \u001B[38;5;129;01min\u001B[39;00m ioargs\u001B[38;5;241m.\u001B[39mmode:\n\u001B[1;32m    862\u001B[0m         \u001B[38;5;66;03m# Encoding\u001B[39;00m\n\u001B[0;32m--> 863\u001B[0m         handle \u001B[38;5;241m=\u001B[39m \u001B[38;5;28;43mopen\u001B[39;49m\u001B[43m(\u001B[49m\n\u001B[1;32m    864\u001B[0m \u001B[43m            \u001B[49m\u001B[43mhandle\u001B[49m\u001B[43m,\u001B[49m\n\u001B[1;32m    865\u001B[0m \u001B[43m            \u001B[49m\u001B[43mioargs\u001B[49m\u001B[38;5;241;43m.\u001B[39;49m\u001B[43mmode\u001B[49m\u001B[43m,\u001B[49m\n\u001B[1;32m    866\u001B[0m \u001B[43m            \u001B[49m\u001B[43mencoding\u001B[49m\u001B[38;5;241;43m=\u001B[39;49m\u001B[43mioargs\u001B[49m\u001B[38;5;241;43m.\u001B[39;49m\u001B[43mencoding\u001B[49m\u001B[43m,\u001B[49m\n\u001B[1;32m    867\u001B[0m \u001B[43m            \u001B[49m\u001B[43merrors\u001B[49m\u001B[38;5;241;43m=\u001B[39;49m\u001B[43merrors\u001B[49m\u001B[43m,\u001B[49m\n\u001B[1;32m    868\u001B[0m \u001B[43m            \u001B[49m\u001B[43mnewline\u001B[49m\u001B[38;5;241;43m=\u001B[39;49m\u001B[38;5;124;43m\"\u001B[39;49m\u001B[38;5;124;43m\"\u001B[39;49m\u001B[43m,\u001B[49m\n\u001B[1;32m    869\u001B[0m \u001B[43m        \u001B[49m\u001B[43m)\u001B[49m\n\u001B[1;32m    870\u001B[0m     \u001B[38;5;28;01melse\u001B[39;00m:\n\u001B[1;32m    871\u001B[0m         \u001B[38;5;66;03m# Binary mode\u001B[39;00m\n\u001B[1;32m    872\u001B[0m         handle \u001B[38;5;241m=\u001B[39m \u001B[38;5;28mopen\u001B[39m(handle, ioargs\u001B[38;5;241m.\u001B[39mmode)\n",
      "\u001B[0;31mFileNotFoundError\u001B[0m: [Errno 2] No such file or directory: 'data_mod/Train/HR_R1_Train.csv'"
     ]
    }
   ],
   "source": [
    "train_r1 = pd.read_csv('data_mod/Train/HR_R1_Train.csv')\n",
    "test_r1 = pd.read_csv('data_mod/Test/HR_R1_Test.csv')\n",
    "interleaved_r1 = pd.read_csv(\"data_mod/Interleaved/HR_IL_R1.csv\")"
   ],
   "metadata": {
    "collapsed": false,
    "ExecuteTime": {
     "end_time": "2023-12-05T10:50:44.079900Z",
     "start_time": "2023-12-05T10:50:43.958245Z"
    }
   },
   "id": "4defbdbbba661788"
  },
  {
   "cell_type": "code",
   "execution_count": 86,
   "outputs": [],
   "source": [
    "t1_train = pd.read_csv(\"data/TRAIN/R1/R1.csv\")\n",
    "t1_test = pd.read_csv(\"data/TEST/R1/R1.csv\")\n",
    "t1_valid = pd.read_csv(\"data/VALID/R1/R1.csv\")"
   ],
   "metadata": {
    "collapsed": false,
    "ExecuteTime": {
     "end_time": "2023-12-05T10:55:42.606483Z",
     "start_time": "2023-12-05T10:55:18.347718Z"
    }
   },
   "id": "418ad4d17c9933e9"
  },
  {
   "cell_type": "code",
   "execution_count": 75,
   "outputs": [],
   "source": [
    "train_r4 = pd.read_csv('data/TRAIN/R4/R4.csv')\n",
    "test_r4 = pd.read_csv('data/TEST/R4/R4.csv')\n",
    "interleaved_r4 = pd.read_csv(\"data_mod/HR_IL_R4_labeled.csv\")"
   ],
   "metadata": {
    "collapsed": false,
    "ExecuteTime": {
     "end_time": "2023-12-05T10:22:10.146695Z",
     "start_time": "2023-12-05T10:22:08.894080Z"
    }
   },
   "id": "65d29586cc45a1d4"
  },
  {
   "cell_type": "markdown",
   "source": [
    "## Potential Features\n",
    "- *MessageType_WithRole* \n",
    "- *Message Attributes*\n",
    "- *HighestLayerProtocol*"
   ],
   "metadata": {
    "collapsed": false
   },
   "id": "28d3eb882b4d21c1"
  },
  {
   "cell_type": "code",
   "execution_count": 87,
   "outputs": [
    {
     "data": {
      "text/plain": "         Unnamed: 0                      FileName       BusinessActivity  \\\n0                 0  CreatePurchaseRequest_1.pcap  CreatePurchaseRequest   \n1                 1  CreatePurchaseRequest_1.pcap  CreatePurchaseRequest   \n2                 2  CreatePurchaseRequest_1.pcap  CreatePurchaseRequest   \n3                 3  CreatePurchaseRequest_1.pcap  CreatePurchaseRequest   \n4                 4  CreatePurchaseRequest_1.pcap  CreatePurchaseRequest   \n...             ...                           ...                    ...   \n3223978     3223978          SubmitPayment_9.pcap          SubmitPayment   \n3223979     3223979          SubmitPayment_9.pcap          SubmitPayment   \n3223980     3223980          SubmitPayment_9.pcap          SubmitPayment   \n3223981     3223981          SubmitPayment_9.pcap          SubmitPayment   \n3223982     3223982          SubmitPayment_9.pcap          SubmitPayment   \n\n         InstanceNumber                  sniff_time  frame.number  \\\n0                     1  2020-12-21 08:08:39.599660            48   \n1                     1  2020-12-21 08:08:39.600052            49   \n2                     1  2020-12-21 08:08:39.600052            49   \n3                     1  2020-12-21 08:08:39.600052            49   \n4                     1  2020-12-21 08:08:39.600052            49   \n...                 ...                         ...           ...   \n3223978               9  2020-12-21 11:46:49.704720          4993   \n3223979               9  2020-12-21 11:46:49.704720          4993   \n3223980               9  2020-12-21 11:46:49.704810          4994   \n3223981               9  2020-12-21 11:46:49.705430          4995   \n3223982               9  2020-12-21 11:46:49.705430          4995   \n\n               synthetic_sniff_time    synthetic_sniff_time_str  \\\n0        2020-12-21 21:40:04.619660  2020-12-21 21:40:04.619660   \n1        2020-12-21 21:40:08.540052  2020-12-21 21:40:08.540052   \n2        2020-12-21 21:40:08.540052  2020-12-21 21:40:08.540052   \n3        2020-12-21 21:40:08.540052  2020-12-21 21:40:08.540052   \n4        2020-12-21 21:40:08.540052  2020-12-21 21:40:08.540052   \n...                             ...                         ...   \n3223978  2021-01-10 13:47:18.324720  2021-01-10 13:47:18.324720   \n3223979  2021-01-10 13:47:18.324720  2021-01-10 13:47:18.324720   \n3223980  2021-01-10 13:47:19.224810  2021-01-10 13:47:19.224810   \n3223981  2021-01-10 13:47:25.425430  2021-01-10 13:47:25.425430   \n3223982  2021-01-10 13:47:25.425430  2021-01-10 13:47:25.425430   \n\n                   session_generalized HighestLayerProtocol  \\\n0        192.168.11.1-192.168.11.2 (1)                pgsql   \n1        192.168.11.1-192.168.11.2 (1)                pgsql   \n2        192.168.11.1-192.168.11.2 (1)                pgsql   \n3        192.168.11.1-192.168.11.2 (1)                pgsql   \n4        192.168.11.1-192.168.11.2 (1)                pgsql   \n...                                ...                  ...   \n3223978  192.168.11.1-192.168.11.2 (7)                pgsql   \n3223979  192.168.11.1-192.168.11.2 (7)                pgsql   \n3223980  192.168.11.1-192.168.11.2 (3)                pgsql   \n3223981  192.168.11.1-192.168.11.2 (3)                pgsql   \n3223982  192.168.11.1-192.168.11.2 (3)                pgsql   \n\n                                      MessageType_WithRole  \\\n0        Odoo Application->db Server/Mail Server:[Pgsql...   \n1        db Server/Mail Server->Odoo Application:[Pgsql...   \n2        db Server/Mail Server->Odoo Application:[Pgsql...   \n3        db Server/Mail Server->Odoo Application:[Pgsql...   \n4        db Server/Mail Server->Odoo Application:[Pgsql...   \n...                                                    ...   \n3223978  db Server/Mail Server->Odoo Application:[Pgsql...   \n3223979  db Server/Mail Server->Odoo Application:[Pgsql...   \n3223980  Odoo Application->db Server/Mail Server:[Pgsql...   \n3223981  db Server/Mail Server->Odoo Application:[Pgsql...   \n3223982  db Server/Mail Server->Odoo Application:[Pgsql...   \n\n                              MessageType  \\\n0               PgsqlRequest:Simple query   \n1          PgsqlResponse:Parameter status   \n2          PgsqlResponse:Parameter status   \n3        PgsqlResponse:Command completion   \n4           PgsqlResponse:Ready for query   \n...                                   ...   \n3223978     PgsqlResponse:Ready for query   \n3223979  PgsqlResponse:Command completion   \n3223980         PgsqlRequest:Simple query   \n3223981  PgsqlResponse:Command completion   \n3223982     PgsqlResponse:Ready for query   \n\n                                         MessageAttributes  \n0        {'pgsql.type': 'Simple query', 'pgsql.length':...  \n1        {'pgsql.type': 'Parameter status', 'pgsql.leng...  \n2        {'pgsql.type': 'Parameter status', 'pgsql.leng...  \n3        {'pgsql.type': 'Command completion', 'pgsql.le...  \n4        {'pgsql.type': 'Ready for query', 'pgsql.lengt...  \n...                                                    ...  \n3223978  {'pgsql.type': 'Ready for query', 'pgsql.lengt...  \n3223979  {'pgsql.type': 'Command completion', 'pgsql.le...  \n3223980  {'pgsql.type': 'Simple query', 'pgsql.length':...  \n3223981  {'pgsql.type': 'Command completion', 'pgsql.le...  \n3223982  {'pgsql.type': 'Ready for query', 'pgsql.lengt...  \n\n[3223983 rows x 13 columns]",
      "text/html": "<div>\n<style scoped>\n    .dataframe tbody tr th:only-of-type {\n        vertical-align: middle;\n    }\n\n    .dataframe tbody tr th {\n        vertical-align: top;\n    }\n\n    .dataframe thead th {\n        text-align: right;\n    }\n</style>\n<table border=\"1\" class=\"dataframe\">\n  <thead>\n    <tr style=\"text-align: right;\">\n      <th></th>\n      <th>Unnamed: 0</th>\n      <th>FileName</th>\n      <th>BusinessActivity</th>\n      <th>InstanceNumber</th>\n      <th>sniff_time</th>\n      <th>frame.number</th>\n      <th>synthetic_sniff_time</th>\n      <th>synthetic_sniff_time_str</th>\n      <th>session_generalized</th>\n      <th>HighestLayerProtocol</th>\n      <th>MessageType_WithRole</th>\n      <th>MessageType</th>\n      <th>MessageAttributes</th>\n    </tr>\n  </thead>\n  <tbody>\n    <tr>\n      <th>0</th>\n      <td>0</td>\n      <td>CreatePurchaseRequest_1.pcap</td>\n      <td>CreatePurchaseRequest</td>\n      <td>1</td>\n      <td>2020-12-21 08:08:39.599660</td>\n      <td>48</td>\n      <td>2020-12-21 21:40:04.619660</td>\n      <td>2020-12-21 21:40:04.619660</td>\n      <td>192.168.11.1-192.168.11.2 (1)</td>\n      <td>pgsql</td>\n      <td>Odoo Application-&gt;db Server/Mail Server:[Pgsql...</td>\n      <td>PgsqlRequest:Simple query</td>\n      <td>{'pgsql.type': 'Simple query', 'pgsql.length':...</td>\n    </tr>\n    <tr>\n      <th>1</th>\n      <td>1</td>\n      <td>CreatePurchaseRequest_1.pcap</td>\n      <td>CreatePurchaseRequest</td>\n      <td>1</td>\n      <td>2020-12-21 08:08:39.600052</td>\n      <td>49</td>\n      <td>2020-12-21 21:40:08.540052</td>\n      <td>2020-12-21 21:40:08.540052</td>\n      <td>192.168.11.1-192.168.11.2 (1)</td>\n      <td>pgsql</td>\n      <td>db Server/Mail Server-&gt;Odoo Application:[Pgsql...</td>\n      <td>PgsqlResponse:Parameter status</td>\n      <td>{'pgsql.type': 'Parameter status', 'pgsql.leng...</td>\n    </tr>\n    <tr>\n      <th>2</th>\n      <td>2</td>\n      <td>CreatePurchaseRequest_1.pcap</td>\n      <td>CreatePurchaseRequest</td>\n      <td>1</td>\n      <td>2020-12-21 08:08:39.600052</td>\n      <td>49</td>\n      <td>2020-12-21 21:40:08.540052</td>\n      <td>2020-12-21 21:40:08.540052</td>\n      <td>192.168.11.1-192.168.11.2 (1)</td>\n      <td>pgsql</td>\n      <td>db Server/Mail Server-&gt;Odoo Application:[Pgsql...</td>\n      <td>PgsqlResponse:Parameter status</td>\n      <td>{'pgsql.type': 'Parameter status', 'pgsql.leng...</td>\n    </tr>\n    <tr>\n      <th>3</th>\n      <td>3</td>\n      <td>CreatePurchaseRequest_1.pcap</td>\n      <td>CreatePurchaseRequest</td>\n      <td>1</td>\n      <td>2020-12-21 08:08:39.600052</td>\n      <td>49</td>\n      <td>2020-12-21 21:40:08.540052</td>\n      <td>2020-12-21 21:40:08.540052</td>\n      <td>192.168.11.1-192.168.11.2 (1)</td>\n      <td>pgsql</td>\n      <td>db Server/Mail Server-&gt;Odoo Application:[Pgsql...</td>\n      <td>PgsqlResponse:Command completion</td>\n      <td>{'pgsql.type': 'Command completion', 'pgsql.le...</td>\n    </tr>\n    <tr>\n      <th>4</th>\n      <td>4</td>\n      <td>CreatePurchaseRequest_1.pcap</td>\n      <td>CreatePurchaseRequest</td>\n      <td>1</td>\n      <td>2020-12-21 08:08:39.600052</td>\n      <td>49</td>\n      <td>2020-12-21 21:40:08.540052</td>\n      <td>2020-12-21 21:40:08.540052</td>\n      <td>192.168.11.1-192.168.11.2 (1)</td>\n      <td>pgsql</td>\n      <td>db Server/Mail Server-&gt;Odoo Application:[Pgsql...</td>\n      <td>PgsqlResponse:Ready for query</td>\n      <td>{'pgsql.type': 'Ready for query', 'pgsql.lengt...</td>\n    </tr>\n    <tr>\n      <th>...</th>\n      <td>...</td>\n      <td>...</td>\n      <td>...</td>\n      <td>...</td>\n      <td>...</td>\n      <td>...</td>\n      <td>...</td>\n      <td>...</td>\n      <td>...</td>\n      <td>...</td>\n      <td>...</td>\n      <td>...</td>\n      <td>...</td>\n    </tr>\n    <tr>\n      <th>3223978</th>\n      <td>3223978</td>\n      <td>SubmitPayment_9.pcap</td>\n      <td>SubmitPayment</td>\n      <td>9</td>\n      <td>2020-12-21 11:46:49.704720</td>\n      <td>4993</td>\n      <td>2021-01-10 13:47:18.324720</td>\n      <td>2021-01-10 13:47:18.324720</td>\n      <td>192.168.11.1-192.168.11.2 (7)</td>\n      <td>pgsql</td>\n      <td>db Server/Mail Server-&gt;Odoo Application:[Pgsql...</td>\n      <td>PgsqlResponse:Ready for query</td>\n      <td>{'pgsql.type': 'Ready for query', 'pgsql.lengt...</td>\n    </tr>\n    <tr>\n      <th>3223979</th>\n      <td>3223979</td>\n      <td>SubmitPayment_9.pcap</td>\n      <td>SubmitPayment</td>\n      <td>9</td>\n      <td>2020-12-21 11:46:49.704720</td>\n      <td>4993</td>\n      <td>2021-01-10 13:47:18.324720</td>\n      <td>2021-01-10 13:47:18.324720</td>\n      <td>192.168.11.1-192.168.11.2 (7)</td>\n      <td>pgsql</td>\n      <td>db Server/Mail Server-&gt;Odoo Application:[Pgsql...</td>\n      <td>PgsqlResponse:Command completion</td>\n      <td>{'pgsql.type': 'Command completion', 'pgsql.le...</td>\n    </tr>\n    <tr>\n      <th>3223980</th>\n      <td>3223980</td>\n      <td>SubmitPayment_9.pcap</td>\n      <td>SubmitPayment</td>\n      <td>9</td>\n      <td>2020-12-21 11:46:49.704810</td>\n      <td>4994</td>\n      <td>2021-01-10 13:47:19.224810</td>\n      <td>2021-01-10 13:47:19.224810</td>\n      <td>192.168.11.1-192.168.11.2 (3)</td>\n      <td>pgsql</td>\n      <td>Odoo Application-&gt;db Server/Mail Server:[Pgsql...</td>\n      <td>PgsqlRequest:Simple query</td>\n      <td>{'pgsql.type': 'Simple query', 'pgsql.length':...</td>\n    </tr>\n    <tr>\n      <th>3223981</th>\n      <td>3223981</td>\n      <td>SubmitPayment_9.pcap</td>\n      <td>SubmitPayment</td>\n      <td>9</td>\n      <td>2020-12-21 11:46:49.705430</td>\n      <td>4995</td>\n      <td>2021-01-10 13:47:25.425430</td>\n      <td>2021-01-10 13:47:25.425430</td>\n      <td>192.168.11.1-192.168.11.2 (3)</td>\n      <td>pgsql</td>\n      <td>db Server/Mail Server-&gt;Odoo Application:[Pgsql...</td>\n      <td>PgsqlResponse:Command completion</td>\n      <td>{'pgsql.type': 'Command completion', 'pgsql.le...</td>\n    </tr>\n    <tr>\n      <th>3223982</th>\n      <td>3223982</td>\n      <td>SubmitPayment_9.pcap</td>\n      <td>SubmitPayment</td>\n      <td>9</td>\n      <td>2020-12-21 11:46:49.705430</td>\n      <td>4995</td>\n      <td>2021-01-10 13:47:25.425430</td>\n      <td>2021-01-10 13:47:25.425430</td>\n      <td>192.168.11.1-192.168.11.2 (3)</td>\n      <td>pgsql</td>\n      <td>db Server/Mail Server-&gt;Odoo Application:[Pgsql...</td>\n      <td>PgsqlResponse:Ready for query</td>\n      <td>{'pgsql.type': 'Ready for query', 'pgsql.lengt...</td>\n    </tr>\n  </tbody>\n</table>\n<p>3223983 rows × 13 columns</p>\n</div>"
     },
     "execution_count": 87,
     "metadata": {},
     "output_type": "execute_result"
    }
   ],
   "source": [
    "t1_valid"
   ],
   "metadata": {
    "collapsed": false,
    "ExecuteTime": {
     "end_time": "2023-12-05T10:55:42.623827Z",
     "start_time": "2023-12-05T10:55:42.611738Z"
    }
   },
   "id": "d3c276ebbe7ef55c"
  },
  {
   "cell_type": "markdown",
   "source": [
    "# Generate Labels\n",
    "Add activity_start, activity_end and nothing type as labels"
   ],
   "metadata": {
    "collapsed": false
   },
   "id": "55f3b5f5f46574e3"
  },
  {
   "cell_type": "code",
   "execution_count": 18,
   "outputs": [],
   "source": [
    "# Mark start event of each BusinessActivity Instance\n",
    "train_r1[\"activityStart\"] = train_r1.groupby([\"BusinessActivity\",\"InstanceNumber\",]).cumcount()==0\n",
    "# Mark end event of each Business Activity Instance\n",
    "train_r1[\"activityEnd\"] = train_r1.groupby([\"BusinessActivity\",\"InstanceNumber\",]).cumcount(ascending=False)==0\n",
    "# Merge start and end columns to form labels\n",
    "train_r1[\"task_position\"] = train_r1.apply(lambda row: \"position_start\" if row[\"activityStart\"] else (\"position_end\" if row[\"activityEnd\"] else 'position_between'), axis=1)\n",
    "\n",
    "train_r1 = train_r1.drop([\"activityStart\",'activityEnd'], axis=1)"
   ],
   "metadata": {
    "collapsed": false,
    "ExecuteTime": {
     "end_time": "2023-12-05T08:23:06.639514Z",
     "start_time": "2023-12-05T08:22:58.794405Z"
    }
   },
   "id": "f2907747108cfc25"
  },
  {
   "cell_type": "markdown",
   "source": [
    "# Preprocess Features"
   ],
   "metadata": {
    "collapsed": false
   },
   "id": "92b37cb0166b8402"
  },
  {
   "cell_type": "code",
   "execution_count": 19,
   "outputs": [
    {
     "name": "stdout",
     "output_type": "stream",
     "text": [
      "MessageType\n",
      "PgsqlResponse:Data row                            622758\n",
      "PgsqlResponse:Ready for query                     221796\n",
      "PgsqlResponse:Command completion                  216013\n",
      "PgsqlRequest:Simple query                         216002\n",
      "PgsqlResponse:Row description                     123654\n",
      "PgsqlResponse:Parameter status                    104063\n",
      "Connection finish (FIN)                            13107\n",
      "Connection establish acknowledge (SYN+ACK)         11821\n",
      "Connection establish request (SYN)                 11821\n",
      "PgsqlResponse:Authentication request               11567\n",
      "PgsqlRequest:Startup message                        5784\n",
      "PgsqlRequest:SSL request                            5784\n",
      "PgsqlRequest:Password message                       5784\n",
      "PgsqlResponse:Backend key data                      5783\n",
      "PgsqlRequest:Termination                            5753\n",
      "HttpResponse:HTTP/1.0 200 OK\\r\\n                    5346\n",
      "SmtpDataFragment                                    3844\n",
      "HttpRequest:POST /xmlrpc/2/object HTTP/1.1\\r\\n      3479\n",
      "SmtpResponse:250                                    3358\n",
      "HttpRequest:POST /xmlrpc/2/common HTTP/1.1\\r\\n      1859\n",
      "SmtpRequest:rcpt                                    1291\n",
      "SmtpResponse:221                                     689\n",
      "SmtpRequest:quit                                     689\n",
      "SmtpReassembledMessage                               689\n",
      "SmtpRequest:ehlo                                     689\n",
      "SmtpResponse:354                                     689\n",
      "SmtpRequest:data                                     689\n",
      "SmtpResponse:220                                     689\n",
      "SmtpRequest:mail                                     688\n",
      "PgsqlResponse:Error                                    4\n",
      "Name: count, dtype: int64\n",
      "30\n"
     ]
    },
    {
     "data": {
      "text/plain": "MessageType\nConnection establish request (SYN)    653\nConnection finish (FIN)               516\nPgsqlResponse:Ready for query         415\nPgsqlRequest:Simple query             279\nPgsqlResponse:Error                     1\nPgsqlResponse:Row description           1\nPgsqlResponse:Parameter status          1\nName: count, dtype: int64"
     },
     "metadata": {},
     "output_type": "display_data"
    }
   ],
   "source": [
    "print(train_r1[\"MessageType\"].value_counts())\n",
    "print(len(train_r1[\"MessageType\"].value_counts()))\n",
    "display(train_r1[train_r1[\"task_position\"]!=\"position_between\"][\"MessageType\"].value_counts())"
   ],
   "metadata": {
    "collapsed": false,
    "ExecuteTime": {
     "end_time": "2023-12-05T08:23:06.801807Z",
     "start_time": "2023-12-05T08:23:06.791160Z"
    }
   },
   "id": "3e004674ef86c06f"
  },
  {
   "cell_type": "code",
   "execution_count": 27,
   "outputs": [],
   "source": [
    "# Split Columns\n",
    "train_r1[[\"session\",\"session_id\"]] = train_r1[\"session_generalized\"].str.split(\" \", n=1, expand=True)\n",
    "train_r1[\"session_id\"] = train_r1[\"session_id\"].str.replace('(','').str.replace(')','')\n",
    "train_r1.drop(\"session_generalized\",axis=1,inplace=True)"
   ],
   "metadata": {
    "collapsed": false,
    "ExecuteTime": {
     "end_time": "2023-12-05T08:25:57.034104Z",
     "start_time": "2023-12-05T08:25:51.121635Z"
    }
   },
   "id": "e78f611a1881f3d7"
  },
  {
   "cell_type": "markdown",
   "source": [
    "Message types overlap between normal elements and activity end events \n",
    "-> In contrast to UI-Logs where we have Ok, Next, Submit Actions, etc. there is not one clear type.\n",
    "-> Try to train sequences of message type"
   ],
   "metadata": {
    "collapsed": false
   },
   "id": "c92339ef40b3d790"
  },
  {
   "cell_type": "markdown",
   "source": [],
   "metadata": {
    "collapsed": false
   },
   "id": "d36dd60026e3cf73"
  },
  {
   "cell_type": "code",
   "execution_count": 30,
   "outputs": [
    {
     "data": {
      "text/plain": "         Unnamed: 0                               FileName  \\\n0                 0  GenerateJobApplicationActivity_1.pcap   \n1                 1  GenerateJobApplicationActivity_1.pcap   \n2                 2  GenerateJobApplicationActivity_1.pcap   \n3                 3  GenerateJobApplicationActivity_1.pcap   \n4                 4  GenerateJobApplicationActivity_1.pcap   \n...             ...                                    ...   \n1606177     1606177               ContractProposal_94.pcap   \n1606178     1606178               ContractProposal_94.pcap   \n1606179     1606179               ContractProposal_94.pcap   \n1606180     1606180               ContractProposal_94.pcap   \n1606181     1606181               ContractProposal_94.pcap   \n\n                       BusinessActivity  InstanceNumber  \\\n0        GenerateJobApplicationActivity               1   \n1        GenerateJobApplicationActivity               1   \n2        GenerateJobApplicationActivity               1   \n3        GenerateJobApplicationActivity               1   \n4        GenerateJobApplicationActivity               1   \n...                                 ...             ...   \n1606177                ContractProposal              94   \n1606178                ContractProposal              94   \n1606179                ContractProposal              94   \n1606180                ContractProposal              94   \n1606181                ContractProposal              94   \n\n               synthetic_sniff_time    synthetic_sniff_time_str  \\\n0        2020-05-13 10:07:13.772278  2020-05-13 10:07:13.772278   \n1        2020-05-13 10:07:15.732474  2020-05-13 10:07:15.732474   \n2        2020-05-13 10:07:18.092710  2020-05-13 10:07:18.092710   \n3        2020-05-13 16:14:45.937274  2020-05-13 16:14:45.937274   \n4        2020-05-13 16:14:47.787459  2020-05-13 16:14:47.787459   \n...                             ...                         ...   \n1606177  2020-05-14 21:07:18.607078  2020-05-14 21:07:18.607078   \n1606178  2020-05-14 21:07:18.607078  2020-05-14 21:07:18.607078   \n1606179  2020-05-14 21:07:18.607078  2020-05-14 21:07:18.607078   \n1606180  2020-05-14 21:07:26.607878  2020-05-14 21:07:26.607878   \n1606181  2020-05-14 21:07:31.868404  2020-05-14 21:07:31.868404   \n\n        HighestLayerProtocol  \\\n0                        tcp   \n1                        tcp   \n2                       http   \n3                        tcp   \n4                        tcp   \n...                      ...   \n1606177                pgsql   \n1606178                pgsql   \n1606179                pgsql   \n1606180                 http   \n1606181                  tcp   \n\n                                      MessageType_WithRole  \\\n0        End Point (HR Manager)->Odoo Application:[Conn...   \n1        Odoo Application->End Point (HR Manager):[Conn...   \n2        End Point (HR Manager)->Odoo Application:[Http...   \n3        Odoo Application->db Server/Mail Server:[Conne...   \n4        db Server/Mail Server->Odoo Application:[Conne...   \n...                                                    ...   \n1606177  db Server/Mail Server->Odoo Application:[Pgsql...   \n1606178  db Server/Mail Server->Odoo Application:[Pgsql...   \n1606179  db Server/Mail Server->Odoo Application:[Pgsql...   \n1606180  Odoo Application->End Point (HR Manager):[Http...   \n1606181  End Point (HR Manager)->Odoo Application:[Conn...   \n\n                                            MessageType  \\\n0                    Connection establish request (SYN)   \n1            Connection establish acknowledge (SYN+ACK)   \n2        HttpRequest:POST /xmlrpc/2/common HTTP/1.1\\r\\n   \n3                    Connection establish request (SYN)   \n4            Connection establish acknowledge (SYN+ACK)   \n...                                                 ...   \n1606177                PgsqlResponse:Command completion   \n1606178                  PgsqlResponse:Parameter status   \n1606179                   PgsqlResponse:Ready for query   \n1606180                HttpResponse:HTTP/1.0 200 OK\\r\\n   \n1606181                         Connection finish (FIN)   \n\n                                         MessageAttributes     task_position  \\\n0                                                       {}    position_start   \n1                                                       {}  position_between   \n2        {'': 'POST /xmlrpc/2/common HTTP/1.1\\\\r\\\\n', '...  position_between   \n3                                                       {}  position_between   \n4                                                       {}  position_between   \n...                                                    ...               ...   \n1606177  {'pgsql.type': 'Command completion', 'pgsql.le...  position_between   \n1606178  {'pgsql.type': 'Parameter status', 'pgsql.leng...  position_between   \n1606179  {'pgsql.type': 'Ready for query', 'pgsql.lengt...  position_between   \n1606180  {'': 'HTTP/1.0 200 OK\\\\r\\\\n', '_ws.expert': 'E...  position_between   \n1606181                                                 {}      position_end   \n\n                           session session_id  \n0        192.168.11.2-192.168.11.6          1  \n1        192.168.11.2-192.168.11.6          1  \n2        192.168.11.2-192.168.11.6          1  \n3        192.168.11.1-192.168.11.2          1  \n4        192.168.11.1-192.168.11.2          1  \n...                            ...        ...  \n1606177  192.168.11.1-192.168.11.2          5  \n1606178  192.168.11.1-192.168.11.2          5  \n1606179  192.168.11.1-192.168.11.2          5  \n1606180  192.168.11.2-192.168.11.6          9  \n1606181  192.168.11.2-192.168.11.6          9  \n\n[1606182 rows x 13 columns]",
      "text/html": "<div>\n<style scoped>\n    .dataframe tbody tr th:only-of-type {\n        vertical-align: middle;\n    }\n\n    .dataframe tbody tr th {\n        vertical-align: top;\n    }\n\n    .dataframe thead th {\n        text-align: right;\n    }\n</style>\n<table border=\"1\" class=\"dataframe\">\n  <thead>\n    <tr style=\"text-align: right;\">\n      <th></th>\n      <th>Unnamed: 0</th>\n      <th>FileName</th>\n      <th>BusinessActivity</th>\n      <th>InstanceNumber</th>\n      <th>synthetic_sniff_time</th>\n      <th>synthetic_sniff_time_str</th>\n      <th>HighestLayerProtocol</th>\n      <th>MessageType_WithRole</th>\n      <th>MessageType</th>\n      <th>MessageAttributes</th>\n      <th>task_position</th>\n      <th>session</th>\n      <th>session_id</th>\n    </tr>\n  </thead>\n  <tbody>\n    <tr>\n      <th>0</th>\n      <td>0</td>\n      <td>GenerateJobApplicationActivity_1.pcap</td>\n      <td>GenerateJobApplicationActivity</td>\n      <td>1</td>\n      <td>2020-05-13 10:07:13.772278</td>\n      <td>2020-05-13 10:07:13.772278</td>\n      <td>tcp</td>\n      <td>End Point (HR Manager)-&gt;Odoo Application:[Conn...</td>\n      <td>Connection establish request (SYN)</td>\n      <td>{}</td>\n      <td>position_start</td>\n      <td>192.168.11.2-192.168.11.6</td>\n      <td>1</td>\n    </tr>\n    <tr>\n      <th>1</th>\n      <td>1</td>\n      <td>GenerateJobApplicationActivity_1.pcap</td>\n      <td>GenerateJobApplicationActivity</td>\n      <td>1</td>\n      <td>2020-05-13 10:07:15.732474</td>\n      <td>2020-05-13 10:07:15.732474</td>\n      <td>tcp</td>\n      <td>Odoo Application-&gt;End Point (HR Manager):[Conn...</td>\n      <td>Connection establish acknowledge (SYN+ACK)</td>\n      <td>{}</td>\n      <td>position_between</td>\n      <td>192.168.11.2-192.168.11.6</td>\n      <td>1</td>\n    </tr>\n    <tr>\n      <th>2</th>\n      <td>2</td>\n      <td>GenerateJobApplicationActivity_1.pcap</td>\n      <td>GenerateJobApplicationActivity</td>\n      <td>1</td>\n      <td>2020-05-13 10:07:18.092710</td>\n      <td>2020-05-13 10:07:18.092710</td>\n      <td>http</td>\n      <td>End Point (HR Manager)-&gt;Odoo Application:[Http...</td>\n      <td>HttpRequest:POST /xmlrpc/2/common HTTP/1.1\\r\\n</td>\n      <td>{'': 'POST /xmlrpc/2/common HTTP/1.1\\\\r\\\\n', '...</td>\n      <td>position_between</td>\n      <td>192.168.11.2-192.168.11.6</td>\n      <td>1</td>\n    </tr>\n    <tr>\n      <th>3</th>\n      <td>3</td>\n      <td>GenerateJobApplicationActivity_1.pcap</td>\n      <td>GenerateJobApplicationActivity</td>\n      <td>1</td>\n      <td>2020-05-13 16:14:45.937274</td>\n      <td>2020-05-13 16:14:45.937274</td>\n      <td>tcp</td>\n      <td>Odoo Application-&gt;db Server/Mail Server:[Conne...</td>\n      <td>Connection establish request (SYN)</td>\n      <td>{}</td>\n      <td>position_between</td>\n      <td>192.168.11.1-192.168.11.2</td>\n      <td>1</td>\n    </tr>\n    <tr>\n      <th>4</th>\n      <td>4</td>\n      <td>GenerateJobApplicationActivity_1.pcap</td>\n      <td>GenerateJobApplicationActivity</td>\n      <td>1</td>\n      <td>2020-05-13 16:14:47.787459</td>\n      <td>2020-05-13 16:14:47.787459</td>\n      <td>tcp</td>\n      <td>db Server/Mail Server-&gt;Odoo Application:[Conne...</td>\n      <td>Connection establish acknowledge (SYN+ACK)</td>\n      <td>{}</td>\n      <td>position_between</td>\n      <td>192.168.11.1-192.168.11.2</td>\n      <td>1</td>\n    </tr>\n    <tr>\n      <th>...</th>\n      <td>...</td>\n      <td>...</td>\n      <td>...</td>\n      <td>...</td>\n      <td>...</td>\n      <td>...</td>\n      <td>...</td>\n      <td>...</td>\n      <td>...</td>\n      <td>...</td>\n      <td>...</td>\n      <td>...</td>\n      <td>...</td>\n    </tr>\n    <tr>\n      <th>1606177</th>\n      <td>1606177</td>\n      <td>ContractProposal_94.pcap</td>\n      <td>ContractProposal</td>\n      <td>94</td>\n      <td>2020-05-14 21:07:18.607078</td>\n      <td>2020-05-14 21:07:18.607078</td>\n      <td>pgsql</td>\n      <td>db Server/Mail Server-&gt;Odoo Application:[Pgsql...</td>\n      <td>PgsqlResponse:Command completion</td>\n      <td>{'pgsql.type': 'Command completion', 'pgsql.le...</td>\n      <td>position_between</td>\n      <td>192.168.11.1-192.168.11.2</td>\n      <td>5</td>\n    </tr>\n    <tr>\n      <th>1606178</th>\n      <td>1606178</td>\n      <td>ContractProposal_94.pcap</td>\n      <td>ContractProposal</td>\n      <td>94</td>\n      <td>2020-05-14 21:07:18.607078</td>\n      <td>2020-05-14 21:07:18.607078</td>\n      <td>pgsql</td>\n      <td>db Server/Mail Server-&gt;Odoo Application:[Pgsql...</td>\n      <td>PgsqlResponse:Parameter status</td>\n      <td>{'pgsql.type': 'Parameter status', 'pgsql.leng...</td>\n      <td>position_between</td>\n      <td>192.168.11.1-192.168.11.2</td>\n      <td>5</td>\n    </tr>\n    <tr>\n      <th>1606179</th>\n      <td>1606179</td>\n      <td>ContractProposal_94.pcap</td>\n      <td>ContractProposal</td>\n      <td>94</td>\n      <td>2020-05-14 21:07:18.607078</td>\n      <td>2020-05-14 21:07:18.607078</td>\n      <td>pgsql</td>\n      <td>db Server/Mail Server-&gt;Odoo Application:[Pgsql...</td>\n      <td>PgsqlResponse:Ready for query</td>\n      <td>{'pgsql.type': 'Ready for query', 'pgsql.lengt...</td>\n      <td>position_between</td>\n      <td>192.168.11.1-192.168.11.2</td>\n      <td>5</td>\n    </tr>\n    <tr>\n      <th>1606180</th>\n      <td>1606180</td>\n      <td>ContractProposal_94.pcap</td>\n      <td>ContractProposal</td>\n      <td>94</td>\n      <td>2020-05-14 21:07:26.607878</td>\n      <td>2020-05-14 21:07:26.607878</td>\n      <td>http</td>\n      <td>Odoo Application-&gt;End Point (HR Manager):[Http...</td>\n      <td>HttpResponse:HTTP/1.0 200 OK\\r\\n</td>\n      <td>{'': 'HTTP/1.0 200 OK\\\\r\\\\n', '_ws.expert': 'E...</td>\n      <td>position_between</td>\n      <td>192.168.11.2-192.168.11.6</td>\n      <td>9</td>\n    </tr>\n    <tr>\n      <th>1606181</th>\n      <td>1606181</td>\n      <td>ContractProposal_94.pcap</td>\n      <td>ContractProposal</td>\n      <td>94</td>\n      <td>2020-05-14 21:07:31.868404</td>\n      <td>2020-05-14 21:07:31.868404</td>\n      <td>tcp</td>\n      <td>End Point (HR Manager)-&gt;Odoo Application:[Conn...</td>\n      <td>Connection finish (FIN)</td>\n      <td>{}</td>\n      <td>position_end</td>\n      <td>192.168.11.2-192.168.11.6</td>\n      <td>9</td>\n    </tr>\n  </tbody>\n</table>\n<p>1606182 rows × 13 columns</p>\n</div>"
     },
     "execution_count": 30,
     "metadata": {},
     "output_type": "execute_result"
    }
   ],
   "source": [
    "train_r1"
   ],
   "metadata": {
    "collapsed": false,
    "ExecuteTime": {
     "end_time": "2023-12-05T09:10:38.587979Z",
     "start_time": "2023-12-05T09:10:38.583644Z"
    }
   },
   "id": "f1bddd87e02cbd23"
  },
  {
   "cell_type": "markdown",
   "source": [
    "## Approach 1 - \n",
    "- Form Sequences or Length N\n",
    "- Tokenize Messagetype \n",
    "- Train Model\n"
   ],
   "metadata": {
    "collapsed": false
   },
   "id": "8648c4446afa971f"
  },
  {
   "cell_type": "markdown",
   "source": [
    "### Encoding"
   ],
   "metadata": {
    "collapsed": false
   },
   "id": "d85e23baf6fd6b18"
  },
  {
   "cell_type": "code",
   "execution_count": 31,
   "outputs": [],
   "source": [
    "# Label Encode the Message Type\n",
    "messageTypeEncoder = LabelEncoder()\n",
    "messageTypeEncoder.fit(train_r1[\"MessageType\"].values)\n",
    "# Shift the labels by 1 to exclude 0 as label (we use it for padding starting sequences)\n",
    "train_r1[\"MessageType_labels\"] = messageTypeEncoder.transform(train_r1[\"MessageType\"]) + 1"
   ],
   "metadata": {
    "collapsed": false,
    "ExecuteTime": {
     "end_time": "2023-12-05T09:25:55.858654Z",
     "start_time": "2023-12-05T09:25:55.746780Z"
    }
   },
   "id": "509fa6cd71ad4ec4"
  },
  {
   "cell_type": "code",
   "execution_count": 32,
   "outputs": [],
   "source": [
    "sessionEncoder = LabelEncoder()\n",
    "sessionEncoder.fit(train_r1[\"session\"].values)\n",
    "train_r1[\"session_labels\"] = sessionEncoder.transform(train_r1[\"session\"])+1"
   ],
   "metadata": {
    "collapsed": false,
    "ExecuteTime": {
     "end_time": "2023-12-05T09:27:00.258809Z",
     "start_time": "2023-12-05T09:27:00.067853Z"
    }
   },
   "id": "f1ce7a99207081d"
  },
  {
   "cell_type": "code",
   "execution_count": 21,
   "outputs": [],
   "source": [
    "# One hot encode the Labels \n",
    "encoder = LabelEncoder()\n",
    "y = encoder.fit_transform(train_r1[\"task_position\"])\n",
    "dummy_y = to_categorical(y)"
   ],
   "metadata": {
    "collapsed": false,
    "ExecuteTime": {
     "end_time": "2023-11-30T16:58:32.259008Z",
     "start_time": "2023-11-30T16:58:32.188429Z"
    }
   },
   "id": "ddb930f443354938"
  },
  {
   "cell_type": "markdown",
   "source": [
    "### Form Sequences of Length N"
   ],
   "metadata": {
    "collapsed": false
   },
   "id": "e68b27d405953477"
  },
  {
   "cell_type": "code",
   "execution_count": 55,
   "outputs": [],
   "source": [
    "from numpy.lib.stride_tricks import sliding_window_view\n",
    "\n",
    "# Todo build custom sliding window function forward + backward facing w. custom windowsize\n",
    "sequence_length = 20\n",
    "#labels = train_r1[\"MessageType_labels\"].rolling(window=windowsize).agg(list)\n",
    "sequences = sliding_window_view(train_r1[\"MessageType_labels\"], sequence_length)\n",
    "\n",
    "# pad first n-1 elements\n",
    "pad_top = [[0] * (sequence_length - 1 - i) + sequences[0, 0:i + 1].tolist() for i in range(sequence_length - 1)]\n",
    "\n",
    "X = np.insert(sequences,0, pad_top, axis=0).tolist()\n",
    "X = np.asarray(X).astype(np.float32)"
   ],
   "metadata": {
    "collapsed": false,
    "ExecuteTime": {
     "end_time": "2023-12-05T09:38:03.437331Z",
     "start_time": "2023-12-05T09:37:58.984422Z"
    }
   },
   "id": "72e19c79bbad8255"
  },
  {
   "cell_type": "code",
   "execution_count": 61,
   "outputs": [],
   "source": [
    "session_sequences = sliding_window_view(train_r1[\"session_labels\"], sequence_length)\n",
    "# pad first n-1 elements\n",
    "pad_top = [[0] * (sequence_length - 1 - i) + session_sequences[0, 0:i + 1].tolist() for i in range(sequence_length - 1)]\n",
    "\n",
    "X_1 = np.insert(session_sequences,0, pad_top, axis=0).tolist()\n",
    "X_1 = np.asarray(X).astype(np.float32)"
   ],
   "metadata": {
    "collapsed": false,
    "ExecuteTime": {
     "end_time": "2023-12-05T09:40:26.607956Z",
     "start_time": "2023-12-05T09:40:23.774832Z"
    }
   },
   "id": "cbd744528d55662d"
  },
  {
   "cell_type": "code",
   "execution_count": 23,
   "outputs": [],
   "source": [
    "from keras.src.layers import LSTM\n",
    "\n",
    "\n",
    "def baseline_model():\n",
    "   \n",
    "    return model"
   ],
   "metadata": {
    "collapsed": false,
    "ExecuteTime": {
     "end_time": "2023-11-30T16:58:34.759753Z",
     "start_time": "2023-11-30T16:58:34.754709Z"
    }
   },
   "id": "3270edf7e2324f5"
  },
  {
   "cell_type": "code",
   "execution_count": 32,
   "outputs": [],
   "source": [
    "from keras.src.layers import LSTM\n",
    "from keras import Input\n",
    "\n",
    "\n",
    "def baseline_model():\n",
    "    embedding_dim = 150\n",
    "\n",
    "    vocab_size = len(messageTypeEncoder.classes_) + 1\n",
    "    model = Sequential([\n",
    "        Input(shape=(sequence_length,)),\n",
    "        Embedding(input_dim=vocab_size, output_dim=embedding_dim),\n",
    "        LSTM(units=64),\n",
    "        Dense(3, activation='softmax')])\n",
    "    model.compile(loss='categorical_crossentropy', optimizer='adam', metrics=['accuracy'])\n",
    "    return model\n",
    "\n",
    "def stacked_LSTM(): \n",
    "    embedding_dim = 150\n",
    "    vocab_size = len(messageTypeEncoder.classes_) +1\n",
    "    model = Sequential([\n",
    "        Input(shape= (sequence_length,)),\n",
    "        Embedding(input_dim=vocab_size, output_dim=embedding_dim),\n",
    "        LSTM(64, activation='relu', return_sequences=True),\n",
    "        LSTM(64, activation='relu'),\n",
    "        Dense(3, activation='softmax')])\n",
    "    model.compile(loss='categorical_crossentropy', optimizer='adam', metrics=['f1_score']) \n",
    "    return model\n",
    "\n",
    "def stacked_LSTM_weighted():\n",
    "    embedding_dim = 150\n",
    "    vocab_size = len(messageTypeEncoder.classes_) +1\n",
    "    model = Sequential([\n",
    "        Input(shape= (sequence_length,)),\n",
    "        Embedding(input_dim=vocab_size, output_dim=embedding_dim),\n",
    "        LSTM(64, activation='relu', return_sequences=True),\n",
    "        LSTM(64, activation='relu'),\n",
    "        Dense(3, activation='softmax')])\n",
    "    model.compile(loss='categorical_crossentropy', optimizer='adam', metrics=['f1_score']) \n",
    "    return model\n",
    "\n",
    "\n",
    "    \n",
    "\n"
   ],
   "metadata": {
    "collapsed": false,
    "ExecuteTime": {
     "end_time": "2023-12-01T14:06:25.109601Z",
     "start_time": "2023-12-01T14:06:25.102425Z"
    }
   },
   "id": "eb3db44f22e2fbb7"
  },
  {
   "cell_type": "code",
   "execution_count": 29,
   "outputs": [],
   "source": [
    "x_train,x_test, y_train, y_test = train_test_split(X, dummy_y, test_size=0.2, shuffle=True, random_state=42)"
   ],
   "metadata": {
    "collapsed": false,
    "ExecuteTime": {
     "end_time": "2023-12-01T14:04:57.855307Z",
     "start_time": "2023-12-01T14:04:57.199174Z"
    }
   },
   "id": "fc60910d34d637d"
  },
  {
   "cell_type": "code",
   "execution_count": 33,
   "outputs": [
    {
     "name": "stdout",
     "output_type": "stream",
     "text": [
      "Epoch 1/5\n",
      "\u001B[1m  25/1285\u001B[0m \u001B[37m━━━━━━━━━━━━━━━━━━━━\u001B[0m \u001B[1m20:12\u001B[0m 962ms/step - f1_score: 0.3115 - loss: 0.8088"
     ]
    },
    {
     "ename": "KeyboardInterrupt",
     "evalue": "",
     "output_type": "error",
     "traceback": [
      "\u001B[0;31m---------------------------------------------------------------------------\u001B[0m",
      "\u001B[0;31mKeyboardInterrupt\u001B[0m                         Traceback (most recent call last)",
      "Cell \u001B[0;32mIn[33], line 2\u001B[0m\n\u001B[1;32m      1\u001B[0m estimator \u001B[38;5;241m=\u001B[39m KerasClassifier(model\u001B[38;5;241m=\u001B[39mstacked_LSTM_weighted(), epochs\u001B[38;5;241m=\u001B[39m\u001B[38;5;241m5\u001B[39m, batch_size\u001B[38;5;241m=\u001B[39m\u001B[38;5;241m1000\u001B[39m, verbose\u001B[38;5;241m=\u001B[39m\u001B[38;5;241m1\u001B[39m)\n\u001B[0;32m----> 2\u001B[0m \u001B[43mestimator\u001B[49m\u001B[38;5;241;43m.\u001B[39;49m\u001B[43mfit\u001B[49m\u001B[43m(\u001B[49m\u001B[43mx_train\u001B[49m\u001B[43m,\u001B[49m\u001B[43m \u001B[49m\u001B[43my_train\u001B[49m\u001B[43m)\u001B[49m\n\u001B[1;32m      3\u001B[0m \u001B[38;5;66;03m#kfold = KFold(n_splits=1, shuffle=True)\u001B[39;00m\n\u001B[1;32m      4\u001B[0m \u001B[38;5;66;03m#results = cross_val_score(estimator, X, dummy_y, cv=kfold)\u001B[39;00m\n\u001B[1;32m      5\u001B[0m \u001B[38;5;66;03m#print(\"Baseline: %.2f%% (%.2f%%)\" % (results.mean()*100, results.std()*100))\u001B[39;00m\n",
      "File \u001B[0;32m~/git/master_thesis/nw_event_abstraction/venv/lib/python3.9/site-packages/scikeras/wrappers.py:1491\u001B[0m, in \u001B[0;36mKerasClassifier.fit\u001B[0;34m(self, X, y, sample_weight, **kwargs)\u001B[0m\n\u001B[1;32m   1489\u001B[0m     sample_weight \u001B[38;5;241m=\u001B[39m \u001B[38;5;241m1\u001B[39m \u001B[38;5;28;01mif\u001B[39;00m sample_weight \u001B[38;5;129;01mis\u001B[39;00m \u001B[38;5;28;01mNone\u001B[39;00m \u001B[38;5;28;01melse\u001B[39;00m sample_weight\n\u001B[1;32m   1490\u001B[0m     sample_weight \u001B[38;5;241m*\u001B[39m\u001B[38;5;241m=\u001B[39m compute_sample_weight(class_weight\u001B[38;5;241m=\u001B[39m\u001B[38;5;28mself\u001B[39m\u001B[38;5;241m.\u001B[39mclass_weight, y\u001B[38;5;241m=\u001B[39my)\n\u001B[0;32m-> 1491\u001B[0m \u001B[38;5;28;43msuper\u001B[39;49m\u001B[43m(\u001B[49m\u001B[43m)\u001B[49m\u001B[38;5;241;43m.\u001B[39;49m\u001B[43mfit\u001B[49m\u001B[43m(\u001B[49m\u001B[43mX\u001B[49m\u001B[38;5;241;43m=\u001B[39;49m\u001B[43mX\u001B[49m\u001B[43m,\u001B[49m\u001B[43m \u001B[49m\u001B[43my\u001B[49m\u001B[38;5;241;43m=\u001B[39;49m\u001B[43my\u001B[49m\u001B[43m,\u001B[49m\u001B[43m \u001B[49m\u001B[43msample_weight\u001B[49m\u001B[38;5;241;43m=\u001B[39;49m\u001B[43msample_weight\u001B[49m\u001B[43m,\u001B[49m\u001B[43m \u001B[49m\u001B[38;5;241;43m*\u001B[39;49m\u001B[38;5;241;43m*\u001B[39;49m\u001B[43mkwargs\u001B[49m\u001B[43m)\u001B[49m\n\u001B[1;32m   1492\u001B[0m \u001B[38;5;28;01mreturn\u001B[39;00m \u001B[38;5;28mself\u001B[39m\n",
      "File \u001B[0;32m~/git/master_thesis/nw_event_abstraction/venv/lib/python3.9/site-packages/scikeras/wrappers.py:760\u001B[0m, in \u001B[0;36mBaseWrapper.fit\u001B[0;34m(self, X, y, sample_weight, **kwargs)\u001B[0m\n\u001B[1;32m    755\u001B[0m kwargs[\u001B[38;5;124m\"\u001B[39m\u001B[38;5;124mepochs\u001B[39m\u001B[38;5;124m\"\u001B[39m] \u001B[38;5;241m=\u001B[39m kwargs\u001B[38;5;241m.\u001B[39mget(\n\u001B[1;32m    756\u001B[0m     \u001B[38;5;124m\"\u001B[39m\u001B[38;5;124mepochs\u001B[39m\u001B[38;5;124m\"\u001B[39m, \u001B[38;5;28mgetattr\u001B[39m(\u001B[38;5;28mself\u001B[39m, \u001B[38;5;124m\"\u001B[39m\u001B[38;5;124mfit__epochs\u001B[39m\u001B[38;5;124m\"\u001B[39m, \u001B[38;5;28mself\u001B[39m\u001B[38;5;241m.\u001B[39mepochs)\n\u001B[1;32m    757\u001B[0m )\n\u001B[1;32m    758\u001B[0m kwargs[\u001B[38;5;124m\"\u001B[39m\u001B[38;5;124minitial_epoch\u001B[39m\u001B[38;5;124m\"\u001B[39m] \u001B[38;5;241m=\u001B[39m kwargs\u001B[38;5;241m.\u001B[39mget(\u001B[38;5;124m\"\u001B[39m\u001B[38;5;124minitial_epoch\u001B[39m\u001B[38;5;124m\"\u001B[39m, \u001B[38;5;241m0\u001B[39m)\n\u001B[0;32m--> 760\u001B[0m \u001B[38;5;28;43mself\u001B[39;49m\u001B[38;5;241;43m.\u001B[39;49m\u001B[43m_fit\u001B[49m\u001B[43m(\u001B[49m\n\u001B[1;32m    761\u001B[0m \u001B[43m    \u001B[49m\u001B[43mX\u001B[49m\u001B[38;5;241;43m=\u001B[39;49m\u001B[43mX\u001B[49m\u001B[43m,\u001B[49m\n\u001B[1;32m    762\u001B[0m \u001B[43m    \u001B[49m\u001B[43my\u001B[49m\u001B[38;5;241;43m=\u001B[39;49m\u001B[43my\u001B[49m\u001B[43m,\u001B[49m\n\u001B[1;32m    763\u001B[0m \u001B[43m    \u001B[49m\u001B[43msample_weight\u001B[49m\u001B[38;5;241;43m=\u001B[39;49m\u001B[43msample_weight\u001B[49m\u001B[43m,\u001B[49m\n\u001B[1;32m    764\u001B[0m \u001B[43m    \u001B[49m\u001B[43mwarm_start\u001B[49m\u001B[38;5;241;43m=\u001B[39;49m\u001B[38;5;28;43mself\u001B[39;49m\u001B[38;5;241;43m.\u001B[39;49m\u001B[43mwarm_start\u001B[49m\u001B[43m,\u001B[49m\n\u001B[1;32m    765\u001B[0m \u001B[43m    \u001B[49m\u001B[38;5;241;43m*\u001B[39;49m\u001B[38;5;241;43m*\u001B[39;49m\u001B[43mkwargs\u001B[49m\u001B[43m,\u001B[49m\n\u001B[1;32m    766\u001B[0m \u001B[43m\u001B[49m\u001B[43m)\u001B[49m\n\u001B[1;32m    768\u001B[0m \u001B[38;5;28;01mreturn\u001B[39;00m \u001B[38;5;28mself\u001B[39m\n",
      "File \u001B[0;32m~/git/master_thesis/nw_event_abstraction/venv/lib/python3.9/site-packages/scikeras/wrappers.py:928\u001B[0m, in \u001B[0;36mBaseWrapper._fit\u001B[0;34m(self, X, y, sample_weight, warm_start, epochs, initial_epoch, **kwargs)\u001B[0m\n\u001B[1;32m    924\u001B[0m X \u001B[38;5;241m=\u001B[39m \u001B[38;5;28mself\u001B[39m\u001B[38;5;241m.\u001B[39mfeature_encoder_\u001B[38;5;241m.\u001B[39mtransform(X)\n\u001B[1;32m    926\u001B[0m \u001B[38;5;28mself\u001B[39m\u001B[38;5;241m.\u001B[39m_check_model_compatibility(y)\n\u001B[0;32m--> 928\u001B[0m \u001B[38;5;28;43mself\u001B[39;49m\u001B[38;5;241;43m.\u001B[39;49m\u001B[43m_fit_keras_model\u001B[49m\u001B[43m(\u001B[49m\n\u001B[1;32m    929\u001B[0m \u001B[43m    \u001B[49m\u001B[43mX\u001B[49m\u001B[43m,\u001B[49m\n\u001B[1;32m    930\u001B[0m \u001B[43m    \u001B[49m\u001B[43my\u001B[49m\u001B[43m,\u001B[49m\n\u001B[1;32m    931\u001B[0m \u001B[43m    \u001B[49m\u001B[43msample_weight\u001B[49m\u001B[38;5;241;43m=\u001B[39;49m\u001B[43msample_weight\u001B[49m\u001B[43m,\u001B[49m\n\u001B[1;32m    932\u001B[0m \u001B[43m    \u001B[49m\u001B[43mwarm_start\u001B[49m\u001B[38;5;241;43m=\u001B[39;49m\u001B[43mwarm_start\u001B[49m\u001B[43m,\u001B[49m\n\u001B[1;32m    933\u001B[0m \u001B[43m    \u001B[49m\u001B[43mepochs\u001B[49m\u001B[38;5;241;43m=\u001B[39;49m\u001B[43mepochs\u001B[49m\u001B[43m,\u001B[49m\n\u001B[1;32m    934\u001B[0m \u001B[43m    \u001B[49m\u001B[43minitial_epoch\u001B[49m\u001B[38;5;241;43m=\u001B[39;49m\u001B[43minitial_epoch\u001B[49m\u001B[43m,\u001B[49m\n\u001B[1;32m    935\u001B[0m \u001B[43m    \u001B[49m\u001B[38;5;241;43m*\u001B[39;49m\u001B[38;5;241;43m*\u001B[39;49m\u001B[43mkwargs\u001B[49m\u001B[43m,\u001B[49m\n\u001B[1;32m    936\u001B[0m \u001B[43m\u001B[49m\u001B[43m)\u001B[49m\n",
      "File \u001B[0;32m~/git/master_thesis/nw_event_abstraction/venv/lib/python3.9/site-packages/scikeras/wrappers.py:524\u001B[0m, in \u001B[0;36mBaseWrapper._fit_keras_model\u001B[0;34m(self, X, y, sample_weight, warm_start, epochs, initial_epoch, **kwargs)\u001B[0m\n\u001B[1;32m    522\u001B[0m         hist \u001B[38;5;241m=\u001B[39m \u001B[38;5;28mself\u001B[39m\u001B[38;5;241m.\u001B[39mmodel_\u001B[38;5;241m.\u001B[39mfit(x\u001B[38;5;241m=\u001B[39mX, y\u001B[38;5;241m=\u001B[39my, \u001B[38;5;241m*\u001B[39m\u001B[38;5;241m*\u001B[39mfit_args)\n\u001B[1;32m    523\u001B[0m \u001B[38;5;28;01melse\u001B[39;00m:\n\u001B[0;32m--> 524\u001B[0m     hist \u001B[38;5;241m=\u001B[39m \u001B[38;5;28;43mself\u001B[39;49m\u001B[38;5;241;43m.\u001B[39;49m\u001B[43mmodel_\u001B[49m\u001B[38;5;241;43m.\u001B[39;49m\u001B[43mfit\u001B[49m\u001B[43m(\u001B[49m\u001B[43mx\u001B[49m\u001B[38;5;241;43m=\u001B[39;49m\u001B[43mX\u001B[49m\u001B[43m,\u001B[49m\u001B[43m \u001B[49m\u001B[43my\u001B[49m\u001B[38;5;241;43m=\u001B[39;49m\u001B[43my\u001B[49m\u001B[43m,\u001B[49m\u001B[43m \u001B[49m\u001B[38;5;241;43m*\u001B[39;49m\u001B[38;5;241;43m*\u001B[39;49m\u001B[43mfit_args\u001B[49m\u001B[43m)\u001B[49m\n\u001B[1;32m    526\u001B[0m \u001B[38;5;28;01mif\u001B[39;00m \u001B[38;5;129;01mnot\u001B[39;00m warm_start \u001B[38;5;129;01mor\u001B[39;00m \u001B[38;5;129;01mnot\u001B[39;00m \u001B[38;5;28mhasattr\u001B[39m(\u001B[38;5;28mself\u001B[39m, \u001B[38;5;124m\"\u001B[39m\u001B[38;5;124mhistory_\u001B[39m\u001B[38;5;124m\"\u001B[39m) \u001B[38;5;129;01mor\u001B[39;00m initial_epoch \u001B[38;5;241m==\u001B[39m \u001B[38;5;241m0\u001B[39m:\n\u001B[1;32m    527\u001B[0m     \u001B[38;5;28mself\u001B[39m\u001B[38;5;241m.\u001B[39mhistory_ \u001B[38;5;241m=\u001B[39m defaultdict(\u001B[38;5;28mlist\u001B[39m)\n",
      "File \u001B[0;32m~/git/master_thesis/nw_event_abstraction/venv/lib/python3.9/site-packages/keras/src/utils/traceback_utils.py:118\u001B[0m, in \u001B[0;36mfilter_traceback.<locals>.error_handler\u001B[0;34m(*args, **kwargs)\u001B[0m\n\u001B[1;32m    116\u001B[0m filtered_tb \u001B[38;5;241m=\u001B[39m \u001B[38;5;28;01mNone\u001B[39;00m\n\u001B[1;32m    117\u001B[0m \u001B[38;5;28;01mtry\u001B[39;00m:\n\u001B[0;32m--> 118\u001B[0m     \u001B[38;5;28;01mreturn\u001B[39;00m \u001B[43mfn\u001B[49m\u001B[43m(\u001B[49m\u001B[38;5;241;43m*\u001B[39;49m\u001B[43margs\u001B[49m\u001B[43m,\u001B[49m\u001B[43m \u001B[49m\u001B[38;5;241;43m*\u001B[39;49m\u001B[38;5;241;43m*\u001B[39;49m\u001B[43mkwargs\u001B[49m\u001B[43m)\u001B[49m\n\u001B[1;32m    119\u001B[0m \u001B[38;5;28;01mexcept\u001B[39;00m \u001B[38;5;167;01mException\u001B[39;00m \u001B[38;5;28;01mas\u001B[39;00m e:\n\u001B[1;32m    120\u001B[0m     filtered_tb \u001B[38;5;241m=\u001B[39m _process_traceback_frames(e\u001B[38;5;241m.\u001B[39m__traceback__)\n",
      "File \u001B[0;32m~/git/master_thesis/nw_event_abstraction/venv/lib/python3.9/site-packages/keras/src/backend/tensorflow/trainer.py:323\u001B[0m, in \u001B[0;36mTensorFlowTrainer.fit\u001B[0;34m(self, x, y, batch_size, epochs, verbose, callbacks, validation_split, validation_data, shuffle, class_weight, sample_weight, initial_epoch, steps_per_epoch, validation_steps, validation_batch_size, validation_freq)\u001B[0m\n\u001B[1;32m    321\u001B[0m \u001B[38;5;28;01mfor\u001B[39;00m step, iterator \u001B[38;5;129;01min\u001B[39;00m epoch_iterator\u001B[38;5;241m.\u001B[39menumerate_epoch():\n\u001B[1;32m    322\u001B[0m     callbacks\u001B[38;5;241m.\u001B[39mon_train_batch_begin(step)\n\u001B[0;32m--> 323\u001B[0m     logs \u001B[38;5;241m=\u001B[39m \u001B[38;5;28;43mself\u001B[39;49m\u001B[38;5;241;43m.\u001B[39;49m\u001B[43mtrain_function\u001B[49m\u001B[43m(\u001B[49m\u001B[43miterator\u001B[49m\u001B[43m)\u001B[49m\n\u001B[1;32m    324\u001B[0m     callbacks\u001B[38;5;241m.\u001B[39mon_train_batch_end(\n\u001B[1;32m    325\u001B[0m         step, \u001B[38;5;28mself\u001B[39m\u001B[38;5;241m.\u001B[39m_pythonify_logs(logs)\n\u001B[1;32m    326\u001B[0m     )\n\u001B[1;32m    327\u001B[0m     \u001B[38;5;28;01mif\u001B[39;00m \u001B[38;5;28mself\u001B[39m\u001B[38;5;241m.\u001B[39mstop_training:\n",
      "File \u001B[0;32m~/git/master_thesis/nw_event_abstraction/venv/lib/python3.9/site-packages/tensorflow/python/util/traceback_utils.py:150\u001B[0m, in \u001B[0;36mfilter_traceback.<locals>.error_handler\u001B[0;34m(*args, **kwargs)\u001B[0m\n\u001B[1;32m    148\u001B[0m filtered_tb \u001B[38;5;241m=\u001B[39m \u001B[38;5;28;01mNone\u001B[39;00m\n\u001B[1;32m    149\u001B[0m \u001B[38;5;28;01mtry\u001B[39;00m:\n\u001B[0;32m--> 150\u001B[0m   \u001B[38;5;28;01mreturn\u001B[39;00m \u001B[43mfn\u001B[49m\u001B[43m(\u001B[49m\u001B[38;5;241;43m*\u001B[39;49m\u001B[43margs\u001B[49m\u001B[43m,\u001B[49m\u001B[43m \u001B[49m\u001B[38;5;241;43m*\u001B[39;49m\u001B[38;5;241;43m*\u001B[39;49m\u001B[43mkwargs\u001B[49m\u001B[43m)\u001B[49m\n\u001B[1;32m    151\u001B[0m \u001B[38;5;28;01mexcept\u001B[39;00m \u001B[38;5;167;01mException\u001B[39;00m \u001B[38;5;28;01mas\u001B[39;00m e:\n\u001B[1;32m    152\u001B[0m   filtered_tb \u001B[38;5;241m=\u001B[39m _process_traceback_frames(e\u001B[38;5;241m.\u001B[39m__traceback__)\n",
      "File \u001B[0;32m~/git/master_thesis/nw_event_abstraction/venv/lib/python3.9/site-packages/tensorflow/python/eager/polymorphic_function/polymorphic_function.py:832\u001B[0m, in \u001B[0;36mFunction.__call__\u001B[0;34m(self, *args, **kwds)\u001B[0m\n\u001B[1;32m    829\u001B[0m compiler \u001B[38;5;241m=\u001B[39m \u001B[38;5;124m\"\u001B[39m\u001B[38;5;124mxla\u001B[39m\u001B[38;5;124m\"\u001B[39m \u001B[38;5;28;01mif\u001B[39;00m \u001B[38;5;28mself\u001B[39m\u001B[38;5;241m.\u001B[39m_jit_compile \u001B[38;5;28;01melse\u001B[39;00m \u001B[38;5;124m\"\u001B[39m\u001B[38;5;124mnonXla\u001B[39m\u001B[38;5;124m\"\u001B[39m\n\u001B[1;32m    831\u001B[0m \u001B[38;5;28;01mwith\u001B[39;00m OptionalXlaContext(\u001B[38;5;28mself\u001B[39m\u001B[38;5;241m.\u001B[39m_jit_compile):\n\u001B[0;32m--> 832\u001B[0m   result \u001B[38;5;241m=\u001B[39m \u001B[38;5;28;43mself\u001B[39;49m\u001B[38;5;241;43m.\u001B[39;49m\u001B[43m_call\u001B[49m\u001B[43m(\u001B[49m\u001B[38;5;241;43m*\u001B[39;49m\u001B[43margs\u001B[49m\u001B[43m,\u001B[49m\u001B[43m \u001B[49m\u001B[38;5;241;43m*\u001B[39;49m\u001B[38;5;241;43m*\u001B[39;49m\u001B[43mkwds\u001B[49m\u001B[43m)\u001B[49m\n\u001B[1;32m    834\u001B[0m new_tracing_count \u001B[38;5;241m=\u001B[39m \u001B[38;5;28mself\u001B[39m\u001B[38;5;241m.\u001B[39mexperimental_get_tracing_count()\n\u001B[1;32m    835\u001B[0m without_tracing \u001B[38;5;241m=\u001B[39m (tracing_count \u001B[38;5;241m==\u001B[39m new_tracing_count)\n",
      "File \u001B[0;32m~/git/master_thesis/nw_event_abstraction/venv/lib/python3.9/site-packages/tensorflow/python/eager/polymorphic_function/polymorphic_function.py:877\u001B[0m, in \u001B[0;36mFunction._call\u001B[0;34m(self, *args, **kwds)\u001B[0m\n\u001B[1;32m    874\u001B[0m \u001B[38;5;28mself\u001B[39m\u001B[38;5;241m.\u001B[39m_lock\u001B[38;5;241m.\u001B[39mrelease()\n\u001B[1;32m    875\u001B[0m \u001B[38;5;66;03m# In this case we have not created variables on the first call. So we can\u001B[39;00m\n\u001B[1;32m    876\u001B[0m \u001B[38;5;66;03m# run the first trace but we should fail if variables are created.\u001B[39;00m\n\u001B[0;32m--> 877\u001B[0m results \u001B[38;5;241m=\u001B[39m \u001B[43mtracing_compilation\u001B[49m\u001B[38;5;241;43m.\u001B[39;49m\u001B[43mcall_function\u001B[49m\u001B[43m(\u001B[49m\n\u001B[1;32m    878\u001B[0m \u001B[43m    \u001B[49m\u001B[43margs\u001B[49m\u001B[43m,\u001B[49m\u001B[43m \u001B[49m\u001B[43mkwds\u001B[49m\u001B[43m,\u001B[49m\u001B[43m \u001B[49m\u001B[38;5;28;43mself\u001B[39;49m\u001B[38;5;241;43m.\u001B[39;49m\u001B[43m_variable_creation_config\u001B[49m\n\u001B[1;32m    879\u001B[0m \u001B[43m\u001B[49m\u001B[43m)\u001B[49m\n\u001B[1;32m    880\u001B[0m \u001B[38;5;28;01mif\u001B[39;00m \u001B[38;5;28mself\u001B[39m\u001B[38;5;241m.\u001B[39m_created_variables:\n\u001B[1;32m    881\u001B[0m   \u001B[38;5;28;01mraise\u001B[39;00m \u001B[38;5;167;01mValueError\u001B[39;00m(\u001B[38;5;124m\"\u001B[39m\u001B[38;5;124mCreating variables on a non-first call to a function\u001B[39m\u001B[38;5;124m\"\u001B[39m\n\u001B[1;32m    882\u001B[0m                    \u001B[38;5;124m\"\u001B[39m\u001B[38;5;124m decorated with tf.function.\u001B[39m\u001B[38;5;124m\"\u001B[39m)\n",
      "File \u001B[0;32m~/git/master_thesis/nw_event_abstraction/venv/lib/python3.9/site-packages/tensorflow/python/eager/polymorphic_function/tracing_compilation.py:139\u001B[0m, in \u001B[0;36mcall_function\u001B[0;34m(args, kwargs, tracing_options)\u001B[0m\n\u001B[1;32m    137\u001B[0m bound_args \u001B[38;5;241m=\u001B[39m function\u001B[38;5;241m.\u001B[39mfunction_type\u001B[38;5;241m.\u001B[39mbind(\u001B[38;5;241m*\u001B[39margs, \u001B[38;5;241m*\u001B[39m\u001B[38;5;241m*\u001B[39mkwargs)\n\u001B[1;32m    138\u001B[0m flat_inputs \u001B[38;5;241m=\u001B[39m function\u001B[38;5;241m.\u001B[39mfunction_type\u001B[38;5;241m.\u001B[39munpack_inputs(bound_args)\n\u001B[0;32m--> 139\u001B[0m \u001B[38;5;28;01mreturn\u001B[39;00m \u001B[43mfunction\u001B[49m\u001B[38;5;241;43m.\u001B[39;49m\u001B[43m_call_flat\u001B[49m\u001B[43m(\u001B[49m\u001B[43m  \u001B[49m\u001B[38;5;66;43;03m# pylint: disable=protected-access\u001B[39;49;00m\n\u001B[1;32m    140\u001B[0m \u001B[43m    \u001B[49m\u001B[43mflat_inputs\u001B[49m\u001B[43m,\u001B[49m\u001B[43m \u001B[49m\u001B[43mcaptured_inputs\u001B[49m\u001B[38;5;241;43m=\u001B[39;49m\u001B[43mfunction\u001B[49m\u001B[38;5;241;43m.\u001B[39;49m\u001B[43mcaptured_inputs\u001B[49m\n\u001B[1;32m    141\u001B[0m \u001B[43m\u001B[49m\u001B[43m)\u001B[49m\n",
      "File \u001B[0;32m~/git/master_thesis/nw_event_abstraction/venv/lib/python3.9/site-packages/tensorflow/python/eager/polymorphic_function/concrete_function.py:1323\u001B[0m, in \u001B[0;36mConcreteFunction._call_flat\u001B[0;34m(self, tensor_inputs, captured_inputs)\u001B[0m\n\u001B[1;32m   1319\u001B[0m possible_gradient_type \u001B[38;5;241m=\u001B[39m gradients_util\u001B[38;5;241m.\u001B[39mPossibleTapeGradientTypes(args)\n\u001B[1;32m   1320\u001B[0m \u001B[38;5;28;01mif\u001B[39;00m (possible_gradient_type \u001B[38;5;241m==\u001B[39m gradients_util\u001B[38;5;241m.\u001B[39mPOSSIBLE_GRADIENT_TYPES_NONE\n\u001B[1;32m   1321\u001B[0m     \u001B[38;5;129;01mand\u001B[39;00m executing_eagerly):\n\u001B[1;32m   1322\u001B[0m   \u001B[38;5;66;03m# No tape is watching; skip to running the function.\u001B[39;00m\n\u001B[0;32m-> 1323\u001B[0m   \u001B[38;5;28;01mreturn\u001B[39;00m \u001B[38;5;28;43mself\u001B[39;49m\u001B[38;5;241;43m.\u001B[39;49m\u001B[43m_inference_function\u001B[49m\u001B[38;5;241;43m.\u001B[39;49m\u001B[43mcall_preflattened\u001B[49m\u001B[43m(\u001B[49m\u001B[43margs\u001B[49m\u001B[43m)\u001B[49m\n\u001B[1;32m   1324\u001B[0m forward_backward \u001B[38;5;241m=\u001B[39m \u001B[38;5;28mself\u001B[39m\u001B[38;5;241m.\u001B[39m_select_forward_and_backward_functions(\n\u001B[1;32m   1325\u001B[0m     args,\n\u001B[1;32m   1326\u001B[0m     possible_gradient_type,\n\u001B[1;32m   1327\u001B[0m     executing_eagerly)\n\u001B[1;32m   1328\u001B[0m forward_function, args_with_tangents \u001B[38;5;241m=\u001B[39m forward_backward\u001B[38;5;241m.\u001B[39mforward()\n",
      "File \u001B[0;32m~/git/master_thesis/nw_event_abstraction/venv/lib/python3.9/site-packages/tensorflow/python/eager/polymorphic_function/atomic_function.py:216\u001B[0m, in \u001B[0;36mAtomicFunction.call_preflattened\u001B[0;34m(self, args)\u001B[0m\n\u001B[1;32m    214\u001B[0m \u001B[38;5;28;01mdef\u001B[39;00m \u001B[38;5;21mcall_preflattened\u001B[39m(\u001B[38;5;28mself\u001B[39m, args: Sequence[core\u001B[38;5;241m.\u001B[39mTensor]) \u001B[38;5;241m-\u001B[39m\u001B[38;5;241m>\u001B[39m Any:\n\u001B[1;32m    215\u001B[0m \u001B[38;5;250m  \u001B[39m\u001B[38;5;124;03m\"\"\"Calls with flattened tensor inputs and returns the structured output.\"\"\"\u001B[39;00m\n\u001B[0;32m--> 216\u001B[0m   flat_outputs \u001B[38;5;241m=\u001B[39m \u001B[38;5;28;43mself\u001B[39;49m\u001B[38;5;241;43m.\u001B[39;49m\u001B[43mcall_flat\u001B[49m\u001B[43m(\u001B[49m\u001B[38;5;241;43m*\u001B[39;49m\u001B[43margs\u001B[49m\u001B[43m)\u001B[49m\n\u001B[1;32m    217\u001B[0m   \u001B[38;5;28;01mreturn\u001B[39;00m \u001B[38;5;28mself\u001B[39m\u001B[38;5;241m.\u001B[39mfunction_type\u001B[38;5;241m.\u001B[39mpack_output(flat_outputs)\n",
      "File \u001B[0;32m~/git/master_thesis/nw_event_abstraction/venv/lib/python3.9/site-packages/tensorflow/python/eager/polymorphic_function/atomic_function.py:251\u001B[0m, in \u001B[0;36mAtomicFunction.call_flat\u001B[0;34m(self, *args)\u001B[0m\n\u001B[1;32m    249\u001B[0m \u001B[38;5;28;01mwith\u001B[39;00m record\u001B[38;5;241m.\u001B[39mstop_recording():\n\u001B[1;32m    250\u001B[0m   \u001B[38;5;28;01mif\u001B[39;00m \u001B[38;5;28mself\u001B[39m\u001B[38;5;241m.\u001B[39m_bound_context\u001B[38;5;241m.\u001B[39mexecuting_eagerly():\n\u001B[0;32m--> 251\u001B[0m     outputs \u001B[38;5;241m=\u001B[39m \u001B[38;5;28;43mself\u001B[39;49m\u001B[38;5;241;43m.\u001B[39;49m\u001B[43m_bound_context\u001B[49m\u001B[38;5;241;43m.\u001B[39;49m\u001B[43mcall_function\u001B[49m\u001B[43m(\u001B[49m\n\u001B[1;32m    252\u001B[0m \u001B[43m        \u001B[49m\u001B[38;5;28;43mself\u001B[39;49m\u001B[38;5;241;43m.\u001B[39;49m\u001B[43mname\u001B[49m\u001B[43m,\u001B[49m\n\u001B[1;32m    253\u001B[0m \u001B[43m        \u001B[49m\u001B[38;5;28;43mlist\u001B[39;49m\u001B[43m(\u001B[49m\u001B[43margs\u001B[49m\u001B[43m)\u001B[49m\u001B[43m,\u001B[49m\n\u001B[1;32m    254\u001B[0m \u001B[43m        \u001B[49m\u001B[38;5;28;43mlen\u001B[39;49m\u001B[43m(\u001B[49m\u001B[38;5;28;43mself\u001B[39;49m\u001B[38;5;241;43m.\u001B[39;49m\u001B[43mfunction_type\u001B[49m\u001B[38;5;241;43m.\u001B[39;49m\u001B[43mflat_outputs\u001B[49m\u001B[43m)\u001B[49m\u001B[43m,\u001B[49m\n\u001B[1;32m    255\u001B[0m \u001B[43m    \u001B[49m\u001B[43m)\u001B[49m\n\u001B[1;32m    256\u001B[0m   \u001B[38;5;28;01melse\u001B[39;00m:\n\u001B[1;32m    257\u001B[0m     outputs \u001B[38;5;241m=\u001B[39m make_call_op_in_graph(\n\u001B[1;32m    258\u001B[0m         \u001B[38;5;28mself\u001B[39m,\n\u001B[1;32m    259\u001B[0m         \u001B[38;5;28mlist\u001B[39m(args),\n\u001B[1;32m    260\u001B[0m         \u001B[38;5;28mself\u001B[39m\u001B[38;5;241m.\u001B[39m_bound_context\u001B[38;5;241m.\u001B[39mfunction_call_options\u001B[38;5;241m.\u001B[39mas_attrs(),\n\u001B[1;32m    261\u001B[0m     )\n",
      "File \u001B[0;32m~/git/master_thesis/nw_event_abstraction/venv/lib/python3.9/site-packages/tensorflow/python/eager/context.py:1486\u001B[0m, in \u001B[0;36mContext.call_function\u001B[0;34m(self, name, tensor_inputs, num_outputs)\u001B[0m\n\u001B[1;32m   1484\u001B[0m cancellation_context \u001B[38;5;241m=\u001B[39m cancellation\u001B[38;5;241m.\u001B[39mcontext()\n\u001B[1;32m   1485\u001B[0m \u001B[38;5;28;01mif\u001B[39;00m cancellation_context \u001B[38;5;129;01mis\u001B[39;00m \u001B[38;5;28;01mNone\u001B[39;00m:\n\u001B[0;32m-> 1486\u001B[0m   outputs \u001B[38;5;241m=\u001B[39m \u001B[43mexecute\u001B[49m\u001B[38;5;241;43m.\u001B[39;49m\u001B[43mexecute\u001B[49m\u001B[43m(\u001B[49m\n\u001B[1;32m   1487\u001B[0m \u001B[43m      \u001B[49m\u001B[43mname\u001B[49m\u001B[38;5;241;43m.\u001B[39;49m\u001B[43mdecode\u001B[49m\u001B[43m(\u001B[49m\u001B[38;5;124;43m\"\u001B[39;49m\u001B[38;5;124;43mutf-8\u001B[39;49m\u001B[38;5;124;43m\"\u001B[39;49m\u001B[43m)\u001B[49m\u001B[43m,\u001B[49m\n\u001B[1;32m   1488\u001B[0m \u001B[43m      \u001B[49m\u001B[43mnum_outputs\u001B[49m\u001B[38;5;241;43m=\u001B[39;49m\u001B[43mnum_outputs\u001B[49m\u001B[43m,\u001B[49m\n\u001B[1;32m   1489\u001B[0m \u001B[43m      \u001B[49m\u001B[43minputs\u001B[49m\u001B[38;5;241;43m=\u001B[39;49m\u001B[43mtensor_inputs\u001B[49m\u001B[43m,\u001B[49m\n\u001B[1;32m   1490\u001B[0m \u001B[43m      \u001B[49m\u001B[43mattrs\u001B[49m\u001B[38;5;241;43m=\u001B[39;49m\u001B[43mattrs\u001B[49m\u001B[43m,\u001B[49m\n\u001B[1;32m   1491\u001B[0m \u001B[43m      \u001B[49m\u001B[43mctx\u001B[49m\u001B[38;5;241;43m=\u001B[39;49m\u001B[38;5;28;43mself\u001B[39;49m\u001B[43m,\u001B[49m\n\u001B[1;32m   1492\u001B[0m \u001B[43m  \u001B[49m\u001B[43m)\u001B[49m\n\u001B[1;32m   1493\u001B[0m \u001B[38;5;28;01melse\u001B[39;00m:\n\u001B[1;32m   1494\u001B[0m   outputs \u001B[38;5;241m=\u001B[39m execute\u001B[38;5;241m.\u001B[39mexecute_with_cancellation(\n\u001B[1;32m   1495\u001B[0m       name\u001B[38;5;241m.\u001B[39mdecode(\u001B[38;5;124m\"\u001B[39m\u001B[38;5;124mutf-8\u001B[39m\u001B[38;5;124m\"\u001B[39m),\n\u001B[1;32m   1496\u001B[0m       num_outputs\u001B[38;5;241m=\u001B[39mnum_outputs,\n\u001B[0;32m   (...)\u001B[0m\n\u001B[1;32m   1500\u001B[0m       cancellation_manager\u001B[38;5;241m=\u001B[39mcancellation_context,\n\u001B[1;32m   1501\u001B[0m   )\n",
      "File \u001B[0;32m~/git/master_thesis/nw_event_abstraction/venv/lib/python3.9/site-packages/tensorflow/python/eager/execute.py:53\u001B[0m, in \u001B[0;36mquick_execute\u001B[0;34m(op_name, num_outputs, inputs, attrs, ctx, name)\u001B[0m\n\u001B[1;32m     51\u001B[0m \u001B[38;5;28;01mtry\u001B[39;00m:\n\u001B[1;32m     52\u001B[0m   ctx\u001B[38;5;241m.\u001B[39mensure_initialized()\n\u001B[0;32m---> 53\u001B[0m   tensors \u001B[38;5;241m=\u001B[39m \u001B[43mpywrap_tfe\u001B[49m\u001B[38;5;241;43m.\u001B[39;49m\u001B[43mTFE_Py_Execute\u001B[49m\u001B[43m(\u001B[49m\u001B[43mctx\u001B[49m\u001B[38;5;241;43m.\u001B[39;49m\u001B[43m_handle\u001B[49m\u001B[43m,\u001B[49m\u001B[43m \u001B[49m\u001B[43mdevice_name\u001B[49m\u001B[43m,\u001B[49m\u001B[43m \u001B[49m\u001B[43mop_name\u001B[49m\u001B[43m,\u001B[49m\n\u001B[1;32m     54\u001B[0m \u001B[43m                                      \u001B[49m\u001B[43minputs\u001B[49m\u001B[43m,\u001B[49m\u001B[43m \u001B[49m\u001B[43mattrs\u001B[49m\u001B[43m,\u001B[49m\u001B[43m \u001B[49m\u001B[43mnum_outputs\u001B[49m\u001B[43m)\u001B[49m\n\u001B[1;32m     55\u001B[0m \u001B[38;5;28;01mexcept\u001B[39;00m core\u001B[38;5;241m.\u001B[39m_NotOkStatusException \u001B[38;5;28;01mas\u001B[39;00m e:\n\u001B[1;32m     56\u001B[0m   \u001B[38;5;28;01mif\u001B[39;00m name \u001B[38;5;129;01mis\u001B[39;00m \u001B[38;5;129;01mnot\u001B[39;00m \u001B[38;5;28;01mNone\u001B[39;00m:\n",
      "\u001B[0;31mKeyboardInterrupt\u001B[0m: "
     ]
    }
   ],
   "source": [
    "estimator = KerasClassifier(model=stacked_LSTM_weighted(), epochs=5, batch_size=1000, verbose=1)\n",
    "estimator.fit(x_train, y_train)\n",
    "#kfold = KFold(n_splits=1, shuffle=True)\n",
    "#results = cross_val_score(estimator, X, dummy_y, cv=kfold)\n",
    "#print(\"Baseline: %.2f%% (%.2f%%)\" % (results.mean()*100, results.std()*100))"
   ],
   "metadata": {
    "collapsed": false,
    "ExecuteTime": {
     "end_time": "2023-12-01T14:06:53.704803Z",
     "start_time": "2023-12-01T14:06:26.049270Z"
    }
   },
   "id": "66913522f6b61b67"
  },
  {
   "cell_type": "code",
   "execution_count": null,
   "outputs": [],
   "source": [],
   "metadata": {
    "collapsed": false,
    "ExecuteTime": {
     "start_time": "2023-11-30T16:59:37.659475Z"
    }
   },
   "id": "75b19de6a164deee"
  }
 ],
 "metadata": {
  "kernelspec": {
   "display_name": "Python 3",
   "language": "python",
   "name": "python3"
  },
  "language_info": {
   "codemirror_mode": {
    "name": "ipython",
    "version": 2
   },
   "file_extension": ".py",
   "mimetype": "text/x-python",
   "name": "python",
   "nbconvert_exporter": "python",
   "pygments_lexer": "ipython2",
   "version": "2.7.6"
  }
 },
 "nbformat": 4,
 "nbformat_minor": 5
}
