{
 "cells": [
  {
   "cell_type": "code",
   "execution_count": 1,
   "id": "initial_id",
   "metadata": {
    "collapsed": true,
    "ExecuteTime": {
     "end_time": "2024-04-09T12:08:33.374288Z",
     "start_time": "2024-04-09T12:08:33.091058Z"
    }
   },
   "outputs": [],
   "source": [
    "import pandas as pd\n",
    "import ast"
   ]
  },
  {
   "cell_type": "code",
   "execution_count": 2,
   "outputs": [],
   "source": [
    "\n",
    "# HR data in data/Train/R1 is missing frame.number. We take another (already filtered) dataset and apply our feature extraction to this one\n",
    "df_train_in = pd.read_csv('../../data_v3/hr_extended_features.csv', converters={\"MessageAttributes\": ast.literal_eval})"
   ],
   "metadata": {
    "collapsed": false,
    "ExecuteTime": {
     "end_time": "2024-04-09T12:08:34.837112Z",
     "start_time": "2024-04-09T12:08:33.377945Z"
    }
   },
   "id": "748e4cf20a2fb4fa"
  },
  {
   "cell_type": "code",
   "execution_count": 3,
   "outputs": [],
   "source": [
    "from event_loop.preprocessing.dataframe import pre_process\n",
    "df_train_pp = pre_process(df_train_in)"
   ],
   "metadata": {
    "collapsed": false,
    "ExecuteTime": {
     "end_time": "2024-04-09T12:08:45.675880Z",
     "start_time": "2024-04-09T12:08:36.830423Z"
    }
   },
   "id": "4db90beccd86177b"
  },
  {
   "cell_type": "code",
   "execution_count": null,
   "outputs": [],
   "source": [
    "df_train_in"
   ],
   "metadata": {
    "collapsed": false
   },
   "id": "fbc6289565c30acb"
  },
  {
   "cell_type": "code",
   "execution_count": null,
   "outputs": [],
   "source": [
    "df_train_pp"
   ],
   "metadata": {
    "collapsed": false
   },
   "id": "cb54db38a7b32680"
  },
  {
   "cell_type": "code",
   "execution_count": null,
   "outputs": [],
   "source": [],
   "metadata": {
    "collapsed": false
   },
   "id": "959a86eb9fe700a5"
  }
 ],
 "metadata": {
  "kernelspec": {
   "display_name": "Python 3",
   "language": "python",
   "name": "python3"
  },
  "language_info": {
   "codemirror_mode": {
    "name": "ipython",
    "version": 2
   },
   "file_extension": ".py",
   "mimetype": "text/x-python",
   "name": "python",
   "nbconvert_exporter": "python",
   "pygments_lexer": "ipython2",
   "version": "2.7.6"
  }
 },
 "nbformat": 4,
 "nbformat_minor": 5
}
