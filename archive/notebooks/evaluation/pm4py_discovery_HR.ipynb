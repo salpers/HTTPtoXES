{
 "cells": [
  {
   "cell_type": "code",
   "execution_count": 1,
   "outputs": [],
   "source": [
    "import ast\n",
    "import re\n",
    "from event_loop.preprocessing.dataframe import *\n",
    "\n",
    "import metrics\n",
    "import numpy as np\n",
    "import pandas as pd\n",
    "import pm4py "
   ],
   "metadata": {
    "collapsed": false,
    "ExecuteTime": {
     "end_time": "2024-04-09T12:27:43.363378Z",
     "start_time": "2024-04-09T12:27:42.888621Z"
    }
   },
   "id": "8d9db1b10ec6cc6e"
  },
  {
   "cell_type": "code",
   "execution_count": 2,
   "outputs": [],
   "source": [
    "def numeric_to_string(x):\n",
    "    return str(x)\n",
    "\n",
    "# HR data in data/Train/R1 is missing frame.number. We take another (already filtered) dataset and apply our feature extraction to this one\n",
    "df_train_in = pd.read_csv('../../data_v3/hr_extended_features.csv', converters={\"MessageAttributes\": ast.literal_eval, \"InstanceNumber\": numeric_to_string},parse_dates=[\"synthetic_sniff_time\"])"
   ],
   "metadata": {
    "collapsed": false,
    "ExecuteTime": {
     "end_time": "2024-04-09T12:27:44.801834Z",
     "start_time": "2024-04-09T12:27:43.363810Z"
    }
   },
   "id": "initial_id"
  },
  {
   "cell_type": "code",
   "execution_count": 13,
   "outputs": [],
   "source": [
    "df_train_r1 = pd.read_csv('../../data/TRAIN/R1/R1.csv', converters={\"MessageAttributes\": ast.literal_eval})"
   ],
   "metadata": {
    "collapsed": false,
    "ExecuteTime": {
     "end_time": "2024-04-09T12:34:17.427075Z",
     "start_time": "2024-04-09T12:33:46.979355Z"
    }
   },
   "id": "aec5afeb82170f2e"
  },
  {
   "cell_type": "code",
   "execution_count": 3,
   "outputs": [],
   "source": [
    "df_gt = pd.read_csv(\"../../data_v3/hr_ground_truth.csv\",dtype={\"bp_id\": str})\n",
    "df_times = pd.read_csv(\"../../data_v3/hr_il_tagged.csv\", usecols=[\"frame.number\",\"synthetic_sniff_time\"],\n",
    "                       parse_dates=[\"synthetic_sniff_time\"])\n",
    "df_gt = df_gt.merge(df_times, how=\"left\", left_on=\"start\", right_on=\"frame.number\")"
   ],
   "metadata": {
    "collapsed": false,
    "ExecuteTime": {
     "end_time": "2024-04-09T12:27:44.821935Z",
     "start_time": "2024-04-09T12:27:44.803930Z"
    }
   },
   "id": "2956ede2126bfdfb"
  },
  {
   "cell_type": "code",
   "execution_count": 4,
   "outputs": [],
   "source": [
    "df_train = pre_process(df_train_in)"
   ],
   "metadata": {
    "collapsed": false,
    "ExecuteTime": {
     "end_time": "2024-04-09T12:27:58.923462Z",
     "start_time": "2024-04-09T12:27:44.822969Z"
    }
   },
   "id": "61220ee46f3f4380"
  },
  {
   "cell_type": "code",
   "execution_count": 89,
   "outputs": [
    {
     "data": {
      "text/plain": "                     BusinessActivity InstanceNumber  frame.number  \\\n0      GenerateJobApplicationActivity              1            26   \n1      GenerateJobApplicationActivity              1           127   \n2      GenerateJobApplicationActivity              1           135   \n3      GenerateJobApplicationActivity              1           192   \n4      GenerateJobApplicationActivity              1           216   \n...                               ...            ...           ...   \n33068            ResumeReviewActivity            250           729   \n33069            ResumeReviewActivity            250           766   \n33070            ResumeReviewActivity            250           774   \n33071            ResumeReviewActivity            250           840   \n33072            ResumeReviewActivity            250           847   \n\n                            sniff_time             synthetic_sniff_time  \\\n0     2020-05-12 09:57:23.762710+00:00 2020-05-13 10:07:18.092710+00:00   \n1     2020-05-12 09:57:28.092427+00:00 2020-05-13 22:08:59.592427+00:00   \n2     2020-05-12 09:57:28.094494+00:00 2020-05-13 22:09:20.264494+00:00   \n3     2020-05-12 09:57:28.580005+00:00 2020-05-13 23:30:15.860005+00:00   \n4     2020-05-12 09:57:28.729685+00:00 2020-05-13 23:55:12.809685+00:00   \n...                                ...                              ...   \n33068 2020-05-14 00:17:45.346366+00:00 2020-05-14 04:15:16.416366+00:00   \n33069 2020-05-14 00:17:45.361497+00:00 2020-05-14 04:17:47.741497+00:00   \n33070 2020-05-14 00:17:45.363203+00:00 2020-05-14 04:18:04.803203+00:00   \n33071 2020-05-14 00:17:45.427437+00:00 2020-05-14 04:28:47.207437+00:00   \n33072 2020-05-14 00:17:45.430315+00:00 2020-05-14 04:29:15.990315+00:00   \n\n                                        event_with_roles request_method_call  \\\n0      End Point (HR Manager)->Odoo Application:[Http...             version   \n1      Odoo Application->End Point (HR Manager):[Http...      server_version   \n2      End Point (HR Manager)->Odoo Application:[Http...        authenticate   \n3      Odoo Application->db Server/Mail Server:[Pgsql...                       \n4      Odoo Application->End Point (HR Manager):[Http...            IsNumber   \n...                                                  ...                 ...   \n33068  Odoo Application->db Server/Mail Server:[Pgsql...                       \n33069  Odoo Application->End Point (HR Manager):[Http...            IsNumber   \n33070  End Point (HR Manager)->Odoo Application:[Http...          execute_kw   \n33071  Odoo Application->db Server/Mail Server:[Pgsql...                       \n33072  Odoo Application->End Point (HR Manager):[Http...           faultCode   \n\n                                               file_data  \\\n0                                                     []   \n1      [server_version, 12.0-20190820, server_version...   \n2           [odoo01, dana.wireless@gmail.com, 123456789]   \n3                                                          \n4                                                    [6]   \n...                                                  ...   \n33068                                                      \n33069                                                [1]   \n33070  [odoo01, 6, 123456789, hr.applicant, archive_a...   \n33071                                                      \n33072                                                 []   \n\n                                             pgsql.query  \\\n0                                                          \n1                                                          \n2                                                          \n3      INSERT INTO \"res_users_log\" (\"id\", \"create_uid...   \n4                                                          \n...                                                  ...   \n33068  UPDATE \"mail_message_res_partner_needaction_re...   \n33069                                                      \n33070                                                      \n33071  UPDATE \"hr_applicant\" SET \"active\"=false,\"writ...   \n33072                                                      \n\n                                  pgsql.target  \\\n0                                                \n1                                                \n2                                                \n3                                res_users_log   \n4                                                \n...                                        ...   \n33068  mail_message_res_partner_needaction_rel   \n33069                                            \n33070                                            \n33071                             hr_applicant   \n33072                                            \n\n                  selective_file_data origin_method  \\\n0                             version                 \n1                      server_version       version   \n2                                                     \n3                                                     \n4                            IsNumber  authenticate   \n...                               ...           ...   \n33068                                                 \n33069                        IsNumber    execute_kw   \n33070  hr.applicant_archive_applicant                 \n33071                                                 \n33072                       faultCode    execute_kw   \n\n                     origin_file_data  \\\n0                                       \n1                             version   \n2                                       \n3                                       \n4                                       \n...                               ...   \n33068                                   \n33069   hr.applicant_write_stage_id_2   \n33070                                   \n33071                                   \n33072  hr.applicant_archive_applicant   \n\n                                            activity_cat case:concept:name  \\\n0      End Point (HR Manager)->Odoo Application:[Http...                 1   \n1      Odoo Application->End Point (HR Manager):[Http...                 1   \n2      End Point (HR Manager)->Odoo Application:[Http...                 1   \n3      Odoo Application->db Server/Mail Server:[Pgsql...                 1   \n4      Odoo Application->End Point (HR Manager):[Http...                 1   \n...                                                  ...               ...   \n33068  Odoo Application->db Server/Mail Server:[Pgsql...               250   \n33069  Odoo Application->End Point (HR Manager):[Http...               250   \n33070  End Point (HR Manager)->Odoo Application:[Http...               250   \n33071  Odoo Application->db Server/Mail Server:[Pgsql...               250   \n33072  Odoo Application->End Point (HR Manager):[Http...               250   \n\n                                            concept:name  \\\n0      End Point (HR Manager)->Odoo Application:[Http...   \n1      Odoo Application->End Point (HR Manager):[Http...   \n2      End Point (HR Manager)->Odoo Application:[Http...   \n3      Odoo Application->db Server/Mail Server:[Pgsql...   \n4      Odoo Application->End Point (HR Manager):[Http...   \n...                                                  ...   \n33068  Odoo Application->db Server/Mail Server:[Pgsql...   \n33069  Odoo Application->End Point (HR Manager):[Http...   \n33070  End Point (HR Manager)->Odoo Application:[Http...   \n33071  Odoo Application->db Server/Mail Server:[Pgsql...   \n33072  Odoo Application->End Point (HR Manager):[Http...   \n\n                        time:timestamp  \n0     2020-05-13 10:07:18.092710+00:00  \n1     2020-05-13 22:08:59.592427+00:00  \n2     2020-05-13 22:09:20.264494+00:00  \n3     2020-05-13 23:30:15.860005+00:00  \n4     2020-05-13 23:55:12.809685+00:00  \n...                                ...  \n33068 2020-05-14 04:15:16.416366+00:00  \n33069 2020-05-14 04:17:47.741497+00:00  \n33070 2020-05-14 04:18:04.803203+00:00  \n33071 2020-05-14 04:28:47.207437+00:00  \n33072 2020-05-14 04:29:15.990315+00:00  \n\n[33073 rows x 17 columns]",
      "text/html": "<div>\n<style scoped>\n    .dataframe tbody tr th:only-of-type {\n        vertical-align: middle;\n    }\n\n    .dataframe tbody tr th {\n        vertical-align: top;\n    }\n\n    .dataframe thead th {\n        text-align: right;\n    }\n</style>\n<table border=\"1\" class=\"dataframe\">\n  <thead>\n    <tr style=\"text-align: right;\">\n      <th></th>\n      <th>BusinessActivity</th>\n      <th>InstanceNumber</th>\n      <th>frame.number</th>\n      <th>sniff_time</th>\n      <th>synthetic_sniff_time</th>\n      <th>event_with_roles</th>\n      <th>request_method_call</th>\n      <th>file_data</th>\n      <th>pgsql.query</th>\n      <th>pgsql.target</th>\n      <th>selective_file_data</th>\n      <th>origin_method</th>\n      <th>origin_file_data</th>\n      <th>activity_cat</th>\n      <th>case:concept:name</th>\n      <th>concept:name</th>\n      <th>time:timestamp</th>\n    </tr>\n  </thead>\n  <tbody>\n    <tr>\n      <th>0</th>\n      <td>GenerateJobApplicationActivity</td>\n      <td>1</td>\n      <td>26</td>\n      <td>2020-05-12 09:57:23.762710+00:00</td>\n      <td>2020-05-13 10:07:18.092710+00:00</td>\n      <td>End Point (HR Manager)-&gt;Odoo Application:[Http...</td>\n      <td>version</td>\n      <td>[]</td>\n      <td></td>\n      <td></td>\n      <td>version</td>\n      <td></td>\n      <td></td>\n      <td>End Point (HR Manager)-&gt;Odoo Application:[Http...</td>\n      <td>1</td>\n      <td>End Point (HR Manager)-&gt;Odoo Application:[Http...</td>\n      <td>2020-05-13 10:07:18.092710+00:00</td>\n    </tr>\n    <tr>\n      <th>1</th>\n      <td>GenerateJobApplicationActivity</td>\n      <td>1</td>\n      <td>127</td>\n      <td>2020-05-12 09:57:28.092427+00:00</td>\n      <td>2020-05-13 22:08:59.592427+00:00</td>\n      <td>Odoo Application-&gt;End Point (HR Manager):[Http...</td>\n      <td>server_version</td>\n      <td>[server_version, 12.0-20190820, server_version...</td>\n      <td></td>\n      <td></td>\n      <td>server_version</td>\n      <td>version</td>\n      <td>version</td>\n      <td>Odoo Application-&gt;End Point (HR Manager):[Http...</td>\n      <td>1</td>\n      <td>Odoo Application-&gt;End Point (HR Manager):[Http...</td>\n      <td>2020-05-13 22:08:59.592427+00:00</td>\n    </tr>\n    <tr>\n      <th>2</th>\n      <td>GenerateJobApplicationActivity</td>\n      <td>1</td>\n      <td>135</td>\n      <td>2020-05-12 09:57:28.094494+00:00</td>\n      <td>2020-05-13 22:09:20.264494+00:00</td>\n      <td>End Point (HR Manager)-&gt;Odoo Application:[Http...</td>\n      <td>authenticate</td>\n      <td>[odoo01, dana.wireless@gmail.com, 123456789]</td>\n      <td></td>\n      <td></td>\n      <td></td>\n      <td></td>\n      <td></td>\n      <td>End Point (HR Manager)-&gt;Odoo Application:[Http...</td>\n      <td>1</td>\n      <td>End Point (HR Manager)-&gt;Odoo Application:[Http...</td>\n      <td>2020-05-13 22:09:20.264494+00:00</td>\n    </tr>\n    <tr>\n      <th>3</th>\n      <td>GenerateJobApplicationActivity</td>\n      <td>1</td>\n      <td>192</td>\n      <td>2020-05-12 09:57:28.580005+00:00</td>\n      <td>2020-05-13 23:30:15.860005+00:00</td>\n      <td>Odoo Application-&gt;db Server/Mail Server:[Pgsql...</td>\n      <td></td>\n      <td></td>\n      <td>INSERT INTO \"res_users_log\" (\"id\", \"create_uid...</td>\n      <td>res_users_log</td>\n      <td></td>\n      <td></td>\n      <td></td>\n      <td>Odoo Application-&gt;db Server/Mail Server:[Pgsql...</td>\n      <td>1</td>\n      <td>Odoo Application-&gt;db Server/Mail Server:[Pgsql...</td>\n      <td>2020-05-13 23:30:15.860005+00:00</td>\n    </tr>\n    <tr>\n      <th>4</th>\n      <td>GenerateJobApplicationActivity</td>\n      <td>1</td>\n      <td>216</td>\n      <td>2020-05-12 09:57:28.729685+00:00</td>\n      <td>2020-05-13 23:55:12.809685+00:00</td>\n      <td>Odoo Application-&gt;End Point (HR Manager):[Http...</td>\n      <td>IsNumber</td>\n      <td>[6]</td>\n      <td></td>\n      <td></td>\n      <td>IsNumber</td>\n      <td>authenticate</td>\n      <td></td>\n      <td>Odoo Application-&gt;End Point (HR Manager):[Http...</td>\n      <td>1</td>\n      <td>Odoo Application-&gt;End Point (HR Manager):[Http...</td>\n      <td>2020-05-13 23:55:12.809685+00:00</td>\n    </tr>\n    <tr>\n      <th>...</th>\n      <td>...</td>\n      <td>...</td>\n      <td>...</td>\n      <td>...</td>\n      <td>...</td>\n      <td>...</td>\n      <td>...</td>\n      <td>...</td>\n      <td>...</td>\n      <td>...</td>\n      <td>...</td>\n      <td>...</td>\n      <td>...</td>\n      <td>...</td>\n      <td>...</td>\n      <td>...</td>\n      <td>...</td>\n    </tr>\n    <tr>\n      <th>33068</th>\n      <td>ResumeReviewActivity</td>\n      <td>250</td>\n      <td>729</td>\n      <td>2020-05-14 00:17:45.346366+00:00</td>\n      <td>2020-05-14 04:15:16.416366+00:00</td>\n      <td>Odoo Application-&gt;db Server/Mail Server:[Pgsql...</td>\n      <td></td>\n      <td></td>\n      <td>UPDATE \"mail_message_res_partner_needaction_re...</td>\n      <td>mail_message_res_partner_needaction_rel</td>\n      <td></td>\n      <td></td>\n      <td></td>\n      <td>Odoo Application-&gt;db Server/Mail Server:[Pgsql...</td>\n      <td>250</td>\n      <td>Odoo Application-&gt;db Server/Mail Server:[Pgsql...</td>\n      <td>2020-05-14 04:15:16.416366+00:00</td>\n    </tr>\n    <tr>\n      <th>33069</th>\n      <td>ResumeReviewActivity</td>\n      <td>250</td>\n      <td>766</td>\n      <td>2020-05-14 00:17:45.361497+00:00</td>\n      <td>2020-05-14 04:17:47.741497+00:00</td>\n      <td>Odoo Application-&gt;End Point (HR Manager):[Http...</td>\n      <td>IsNumber</td>\n      <td>[1]</td>\n      <td></td>\n      <td></td>\n      <td>IsNumber</td>\n      <td>execute_kw</td>\n      <td>hr.applicant_write_stage_id_2</td>\n      <td>Odoo Application-&gt;End Point (HR Manager):[Http...</td>\n      <td>250</td>\n      <td>Odoo Application-&gt;End Point (HR Manager):[Http...</td>\n      <td>2020-05-14 04:17:47.741497+00:00</td>\n    </tr>\n    <tr>\n      <th>33070</th>\n      <td>ResumeReviewActivity</td>\n      <td>250</td>\n      <td>774</td>\n      <td>2020-05-14 00:17:45.363203+00:00</td>\n      <td>2020-05-14 04:18:04.803203+00:00</td>\n      <td>End Point (HR Manager)-&gt;Odoo Application:[Http...</td>\n      <td>execute_kw</td>\n      <td>[odoo01, 6, 123456789, hr.applicant, archive_a...</td>\n      <td></td>\n      <td></td>\n      <td>hr.applicant_archive_applicant</td>\n      <td></td>\n      <td></td>\n      <td>End Point (HR Manager)-&gt;Odoo Application:[Http...</td>\n      <td>250</td>\n      <td>End Point (HR Manager)-&gt;Odoo Application:[Http...</td>\n      <td>2020-05-14 04:18:04.803203+00:00</td>\n    </tr>\n    <tr>\n      <th>33071</th>\n      <td>ResumeReviewActivity</td>\n      <td>250</td>\n      <td>840</td>\n      <td>2020-05-14 00:17:45.427437+00:00</td>\n      <td>2020-05-14 04:28:47.207437+00:00</td>\n      <td>Odoo Application-&gt;db Server/Mail Server:[Pgsql...</td>\n      <td></td>\n      <td></td>\n      <td>UPDATE \"hr_applicant\" SET \"active\"=false,\"writ...</td>\n      <td>hr_applicant</td>\n      <td></td>\n      <td></td>\n      <td></td>\n      <td>Odoo Application-&gt;db Server/Mail Server:[Pgsql...</td>\n      <td>250</td>\n      <td>Odoo Application-&gt;db Server/Mail Server:[Pgsql...</td>\n      <td>2020-05-14 04:28:47.207437+00:00</td>\n    </tr>\n    <tr>\n      <th>33072</th>\n      <td>ResumeReviewActivity</td>\n      <td>250</td>\n      <td>847</td>\n      <td>2020-05-14 00:17:45.430315+00:00</td>\n      <td>2020-05-14 04:29:15.990315+00:00</td>\n      <td>Odoo Application-&gt;End Point (HR Manager):[Http...</td>\n      <td>faultCode</td>\n      <td>[]</td>\n      <td></td>\n      <td></td>\n      <td>faultCode</td>\n      <td>execute_kw</td>\n      <td>hr.applicant_archive_applicant</td>\n      <td>Odoo Application-&gt;End Point (HR Manager):[Http...</td>\n      <td>250</td>\n      <td>Odoo Application-&gt;End Point (HR Manager):[Http...</td>\n      <td>2020-05-14 04:29:15.990315+00:00</td>\n    </tr>\n  </tbody>\n</table>\n<p>33073 rows × 17 columns</p>\n</div>"
     },
     "execution_count": 89,
     "metadata": {},
     "output_type": "execute_result"
    }
   ],
   "source": [
    "df_train"
   ],
   "metadata": {
    "collapsed": false,
    "ExecuteTime": {
     "end_time": "2024-04-08T13:08:46.780405Z",
     "start_time": "2024-04-08T13:08:46.420162Z"
    }
   },
   "id": "a4830bed3092b9da"
  },
  {
   "cell_type": "code",
   "execution_count": 8,
   "outputs": [],
   "source": [
    "df_train[\"activity_cat\"] = df_train[\"event_with_roles\"] + df_train[\"file_data\"].astype(str) + df_train[\"pgsql.query\"]"
   ],
   "metadata": {
    "collapsed": false,
    "ExecuteTime": {
     "end_time": "2024-04-09T12:13:29.387957Z",
     "start_time": "2024-04-09T12:13:29.298789Z"
    }
   },
   "id": "4c174657788b1fb8"
  },
  {
   "cell_type": "code",
   "execution_count": 91,
   "outputs": [],
   "source": [
    "df_train.to_csv(\"low_level_data_HR.csv\")"
   ],
   "metadata": {
    "collapsed": false
   },
   "id": "d305a6b222c7844a"
  },
  {
   "cell_type": "code",
   "execution_count": 62,
   "outputs": [],
   "source": [
    "petri_net_ref, im_ref, fm_ref = pm4py.discover_petri_net_inductive(df_train[df_train[\"InstanceNumber\"] == \"1\"], case_id_key=\"InstanceNumber\", activity_key=\"activity_cat\",timestamp_key=\"synthetic_sniff_time\")"
   ],
   "metadata": {
    "collapsed": false,
    "ExecuteTime": {
     "end_time": "2024-04-08T10:21:58.401897Z",
     "start_time": "2024-04-08T10:21:50.643251Z"
    }
   },
   "id": "db43366a2710f903"
  },
  {
   "cell_type": "code",
   "execution_count": 98,
   "outputs": [
    {
     "name": "stderr",
     "output_type": "stream",
     "text": [
      "/Users/seb/git/master_thesis/nw_event_abstraction/venv/lib/python3.9/site-packages/pm4py/utils.py:77: SettingWithCopyWarning: \n",
      "A value is trying to be set on a copy of a slice from a DataFrame.\n",
      "Try using .loc[row_indexer,col_indexer] = value instead\n",
      "\n",
      "See the caveats in the documentation: https://pandas.pydata.org/pandas-docs/stable/user_guide/indexing.html#returning-a-view-versus-a-copy\n",
      "  df[constants.CASE_CONCEPT_NAME] = df[case_id]\n",
      "/Users/seb/git/master_thesis/nw_event_abstraction/venv/lib/python3.9/site-packages/pm4py/utils.py:81: SettingWithCopyWarning: \n",
      "A value is trying to be set on a copy of a slice from a DataFrame.\n",
      "Try using .loc[row_indexer,col_indexer] = value instead\n",
      "\n",
      "See the caveats in the documentation: https://pandas.pydata.org/pandas-docs/stable/user_guide/indexing.html#returning-a-view-versus-a-copy\n",
      "  df[xes_constants.DEFAULT_NAME_KEY] = df[activity_key]\n",
      "/Users/seb/git/master_thesis/nw_event_abstraction/venv/lib/python3.9/site-packages/pm4py/utils.py:85: SettingWithCopyWarning: \n",
      "A value is trying to be set on a copy of a slice from a DataFrame.\n",
      "Try using .loc[row_indexer,col_indexer] = value instead\n",
      "\n",
      "See the caveats in the documentation: https://pandas.pydata.org/pandas-docs/stable/user_guide/indexing.html#returning-a-view-versus-a-copy\n",
      "  df[xes_constants.DEFAULT_TIMESTAMP_KEY] = df[timestamp_key]\n",
      "/Users/seb/git/master_thesis/nw_event_abstraction/venv/lib/python3.9/site-packages/pm4py/objects/log/util/dataframe_utils.py:195: SettingWithCopyWarning: \n",
      "A value is trying to be set on a copy of a slice from a DataFrame.\n",
      "Try using .loc[row_indexer,col_indexer] = value instead\n",
      "\n",
      "See the caveats in the documentation: https://pandas.pydata.org/pandas-docs/stable/user_guide/indexing.html#returning-a-view-versus-a-copy\n",
      "  df[col] = strpfromiso.fix_dataframe_column(df[col])\n",
      "/Users/seb/git/master_thesis/nw_event_abstraction/venv/lib/python3.9/site-packages/pm4py/utils.py:536: UserWarning: the EventLog class has been deprecated and will be removed in a future release.\n",
      "  warnings.warn(\"the EventLog class has been deprecated and will be removed in a future release.\")\n"
     ]
    },
    {
     "data": {
      "text/plain": "exporting log, completed traces ::   0%|          | 0/250 [00:00<?, ?it/s]",
      "application/vnd.jupyter.widget-view+json": {
       "version_major": 2,
       "version_minor": 0,
       "model_id": "e45a3d597454420790f01f7d6e78c90d"
      }
     },
     "metadata": {},
     "output_type": "display_data"
    }
   ],
   "source": [
    "df = pm4py.format_dataframe(df_train[[\"InstanceNumber\", \"activity_cat\", \"synthetic_sniff_time\"]], case_id=\"InstanceNumber\", activity_key=\"activity_cat\",timestamp_key=\"synthetic_sniff_time\")\n",
    "log = pm4py.convert_to_event_log(df)\n",
    "pm4py.write_xes(log, \"exported.xes\")"
   ],
   "metadata": {
    "collapsed": false
   },
   "id": "c9a269dcd96799ad"
  },
  {
   "cell_type": "code",
   "execution_count": 97,
   "outputs": [
    {
     "name": "stderr",
     "output_type": "stream",
     "text": [
      "/Users/seb/git/master_thesis/nw_event_abstraction/venv/lib/python3.9/site-packages/pm4py/utils.py:77: SettingWithCopyWarning: \n",
      "A value is trying to be set on a copy of a slice from a DataFrame.\n",
      "Try using .loc[row_indexer,col_indexer] = value instead\n",
      "\n",
      "See the caveats in the documentation: https://pandas.pydata.org/pandas-docs/stable/user_guide/indexing.html#returning-a-view-versus-a-copy\n",
      "  df[constants.CASE_CONCEPT_NAME] = df[case_id]\n",
      "/Users/seb/git/master_thesis/nw_event_abstraction/venv/lib/python3.9/site-packages/pm4py/utils.py:81: SettingWithCopyWarning: \n",
      "A value is trying to be set on a copy of a slice from a DataFrame.\n",
      "Try using .loc[row_indexer,col_indexer] = value instead\n",
      "\n",
      "See the caveats in the documentation: https://pandas.pydata.org/pandas-docs/stable/user_guide/indexing.html#returning-a-view-versus-a-copy\n",
      "  df[xes_constants.DEFAULT_NAME_KEY] = df[activity_key]\n",
      "/Users/seb/git/master_thesis/nw_event_abstraction/venv/lib/python3.9/site-packages/pm4py/utils.py:85: SettingWithCopyWarning: \n",
      "A value is trying to be set on a copy of a slice from a DataFrame.\n",
      "Try using .loc[row_indexer,col_indexer] = value instead\n",
      "\n",
      "See the caveats in the documentation: https://pandas.pydata.org/pandas-docs/stable/user_guide/indexing.html#returning-a-view-versus-a-copy\n",
      "  df[xes_constants.DEFAULT_TIMESTAMP_KEY] = df[timestamp_key]\n",
      "/Users/seb/git/master_thesis/nw_event_abstraction/venv/lib/python3.9/site-packages/pm4py/objects/log/util/dataframe_utils.py:195: SettingWithCopyWarning: \n",
      "A value is trying to be set on a copy of a slice from a DataFrame.\n",
      "Try using .loc[row_indexer,col_indexer] = value instead\n",
      "\n",
      "See the caveats in the documentation: https://pandas.pydata.org/pandas-docs/stable/user_guide/indexing.html#returning-a-view-versus-a-copy\n",
      "  df[col] = strpfromiso.fix_dataframe_column(df[col])\n",
      "/Users/seb/git/master_thesis/nw_event_abstraction/venv/lib/python3.9/site-packages/pm4py/utils.py:536: UserWarning: the EventLog class has been deprecated and will be removed in a future release.\n",
      "  warnings.warn(\"the EventLog class has been deprecated and will be removed in a future release.\")\n"
     ]
    },
    {
     "data": {
      "text/plain": "exporting log, completed traces ::   0%|          | 0/10 [00:00<?, ?it/s]",
      "application/vnd.jupyter.widget-view+json": {
       "version_major": 2,
       "version_minor": 0,
       "model_id": "762b9db2de2f4a97a64c617b571d3dc7"
      }
     },
     "metadata": {},
     "output_type": "display_data"
    }
   ],
   "source": [
    "df = pm4py.format_dataframe(df_gt[[\"bp_id\", \"activity_name\", \"synthetic_sniff_time\"]], case_id=\"bp_id\", activity_key=\"activity_name\",timestamp_key=\"synthetic_sniff_time\")\n",
    "log = pm4py.convert_to_event_log(df)\n",
    "pm4py.write_xes(log, \"exported_gt.xes\")"
   ],
   "metadata": {
    "collapsed": false
   },
   "id": "632c4f81f7e1211e"
  },
  {
   "cell_type": "code",
   "execution_count": 11,
   "outputs": [
    {
     "data": {
      "text/plain": "       Unnamed: 0.2  Unnamed: 0.1  Unnamed: 0  \\\n0                 0             0           0   \n1                 1             1           1   \n2                 2             2           2   \n3                 3             3           3   \n4                 4             4           4   \n...             ...           ...         ...   \n33068         33068         11958       11958   \n33069         33069         11959       11959   \n33070         33070         11960       11960   \n33071         33071         11961       11961   \n33072         33072         11962       11962   \n\n                                    FileName                BusinessActivity  \\\n0      GenerateJobApplicationActivity_1.pcap  GenerateJobApplicationActivity   \n1      GenerateJobApplicationActivity_1.pcap  GenerateJobApplicationActivity   \n2      GenerateJobApplicationActivity_1.pcap  GenerateJobApplicationActivity   \n3      GenerateJobApplicationActivity_1.pcap  GenerateJobApplicationActivity   \n4      GenerateJobApplicationActivity_1.pcap  GenerateJobApplicationActivity   \n...                                      ...                             ...   \n33068          ResumeReviewActivity_250.pcap            ResumeReviewActivity   \n33069          ResumeReviewActivity_250.pcap            ResumeReviewActivity   \n33070          ResumeReviewActivity_250.pcap            ResumeReviewActivity   \n33071          ResumeReviewActivity_250.pcap            ResumeReviewActivity   \n33072          ResumeReviewActivity_250.pcap            ResumeReviewActivity   \n\n       frame.number              sniff_time_str                  sniff_time  \\\n0                26  2020-05-12 09:57:23.762710  2020-05-12 09:57:23.762710   \n1               127  2020-05-12 09:57:28.092427  2020-05-12 09:57:28.092427   \n2               135  2020-05-12 09:57:28.094494  2020-05-12 09:57:28.094494   \n3               192  2020-05-12 09:57:28.580005  2020-05-12 09:57:28.580005   \n4               216  2020-05-12 09:57:28.729685  2020-05-12 09:57:28.729685   \n...             ...                         ...                         ...   \n33068           729  2020-05-14 00:17:45.346366  2020-05-14 00:17:45.346366   \n33069           766  2020-05-14 00:17:45.361497  2020-05-14 00:17:45.361497   \n33070           774  2020-05-14 00:17:45.363203  2020-05-14 00:17:45.363203   \n33071           840  2020-05-14 00:17:45.427437  2020-05-14 00:17:45.427437   \n33072           847  2020-05-14 00:17:45.430315  2020-05-14 00:17:45.430315   \n\n      InstanceNumber       synthetic_sniff_time  ... IsEndActivity  \\\n0                  1 2020-05-13 10:07:18.092710  ...           0.0   \n1                  1 2020-05-13 22:08:59.592427  ...           0.0   \n2                  1 2020-05-13 22:09:20.264494  ...           0.0   \n3                  1 2020-05-13 23:30:15.860005  ...           0.0   \n4                  1 2020-05-13 23:55:12.809685  ...           0.0   \n...              ...                        ...  ...           ...   \n33068            250 2020-05-14 04:15:16.416366  ...           0.0   \n33069            250 2020-05-14 04:17:47.741497  ...           0.0   \n33070            250 2020-05-14 04:18:04.803203  ...           0.0   \n33071            250 2020-05-14 04:28:47.207437  ...           0.0   \n33072            250 2020-05-14 04:29:15.990315  ...        -224.0   \n\n       ActivityAction IsEndBP IsStartBP           selective_filter_data  \\\n0      Activity Start   False      True                         version   \n1            NoAction   False     False                             NaN   \n2            NoAction   False     False                             NaN   \n3            NoAction   False     False                             NaN   \n4            NoAction   False     False                        IsNumber   \n...               ...     ...       ...                             ...   \n33068        NoAction   False     False                             NaN   \n33069        NoAction   False     False                        IsNumber   \n33070        NoAction   False     False  hr.applicant_archive_applicant   \n33071        NoAction   False     False                             NaN   \n33072    Activity End    True     False                       faultCode   \n\n      origin_request_method   origin_selective_filter_data  \\\n0                       NaN                            NaN   \n1                   version                        version   \n2                       NaN                            NaN   \n3                       NaN                            NaN   \n4              authenticate                            NaN   \n...                     ...                            ...   \n33068                   NaN                            NaN   \n33069            execute_kw  hr.applicant_write_stage_id_2   \n33070                   NaN                            NaN   \n33071                   NaN                            NaN   \n33072                   NaN                            NaN   \n\n      is_archive_applicant                                        pgsql.query  \\\n0                    False                                               None   \n1                    False                                               None   \n2                    False                                               None   \n3                    False  INSERT INTO \"res_users_log\" (\"id\", \"create_uid...   \n4                    False                                               None   \n...                    ...                                                ...   \n33068                False  UPDATE \"mail_message_res_partner_needaction_re...   \n33069                 True                                               None   \n33070                False                                               None   \n33071                False  UPDATE \"hr_applicant\" SET \"active\"=false,\"writ...   \n33072                False                                               None   \n\n                                  pgsql.target  \n0                                         None  \n1                                         None  \n2                                         None  \n3                                res_users_log  \n4                                         None  \n...                                        ...  \n33068  mail_message_res_partner_needaction_rel  \n33069                                     None  \n33070                                     None  \n33071                             hr_applicant  \n33072                                     None  \n\n[33073 rows x 38 columns]",
      "text/html": "<div>\n<style scoped>\n    .dataframe tbody tr th:only-of-type {\n        vertical-align: middle;\n    }\n\n    .dataframe tbody tr th {\n        vertical-align: top;\n    }\n\n    .dataframe thead th {\n        text-align: right;\n    }\n</style>\n<table border=\"1\" class=\"dataframe\">\n  <thead>\n    <tr style=\"text-align: right;\">\n      <th></th>\n      <th>Unnamed: 0.2</th>\n      <th>Unnamed: 0.1</th>\n      <th>Unnamed: 0</th>\n      <th>FileName</th>\n      <th>BusinessActivity</th>\n      <th>frame.number</th>\n      <th>sniff_time_str</th>\n      <th>sniff_time</th>\n      <th>InstanceNumber</th>\n      <th>synthetic_sniff_time</th>\n      <th>...</th>\n      <th>IsEndActivity</th>\n      <th>ActivityAction</th>\n      <th>IsEndBP</th>\n      <th>IsStartBP</th>\n      <th>selective_filter_data</th>\n      <th>origin_request_method</th>\n      <th>origin_selective_filter_data</th>\n      <th>is_archive_applicant</th>\n      <th>pgsql.query</th>\n      <th>pgsql.target</th>\n    </tr>\n  </thead>\n  <tbody>\n    <tr>\n      <th>0</th>\n      <td>0</td>\n      <td>0</td>\n      <td>0</td>\n      <td>GenerateJobApplicationActivity_1.pcap</td>\n      <td>GenerateJobApplicationActivity</td>\n      <td>26</td>\n      <td>2020-05-12 09:57:23.762710</td>\n      <td>2020-05-12 09:57:23.762710</td>\n      <td>1</td>\n      <td>2020-05-13 10:07:18.092710</td>\n      <td>...</td>\n      <td>0.0</td>\n      <td>Activity Start</td>\n      <td>False</td>\n      <td>True</td>\n      <td>version</td>\n      <td>NaN</td>\n      <td>NaN</td>\n      <td>False</td>\n      <td>None</td>\n      <td>None</td>\n    </tr>\n    <tr>\n      <th>1</th>\n      <td>1</td>\n      <td>1</td>\n      <td>1</td>\n      <td>GenerateJobApplicationActivity_1.pcap</td>\n      <td>GenerateJobApplicationActivity</td>\n      <td>127</td>\n      <td>2020-05-12 09:57:28.092427</td>\n      <td>2020-05-12 09:57:28.092427</td>\n      <td>1</td>\n      <td>2020-05-13 22:08:59.592427</td>\n      <td>...</td>\n      <td>0.0</td>\n      <td>NoAction</td>\n      <td>False</td>\n      <td>False</td>\n      <td>NaN</td>\n      <td>version</td>\n      <td>version</td>\n      <td>False</td>\n      <td>None</td>\n      <td>None</td>\n    </tr>\n    <tr>\n      <th>2</th>\n      <td>2</td>\n      <td>2</td>\n      <td>2</td>\n      <td>GenerateJobApplicationActivity_1.pcap</td>\n      <td>GenerateJobApplicationActivity</td>\n      <td>135</td>\n      <td>2020-05-12 09:57:28.094494</td>\n      <td>2020-05-12 09:57:28.094494</td>\n      <td>1</td>\n      <td>2020-05-13 22:09:20.264494</td>\n      <td>...</td>\n      <td>0.0</td>\n      <td>NoAction</td>\n      <td>False</td>\n      <td>False</td>\n      <td>NaN</td>\n      <td>NaN</td>\n      <td>NaN</td>\n      <td>False</td>\n      <td>None</td>\n      <td>None</td>\n    </tr>\n    <tr>\n      <th>3</th>\n      <td>3</td>\n      <td>3</td>\n      <td>3</td>\n      <td>GenerateJobApplicationActivity_1.pcap</td>\n      <td>GenerateJobApplicationActivity</td>\n      <td>192</td>\n      <td>2020-05-12 09:57:28.580005</td>\n      <td>2020-05-12 09:57:28.580005</td>\n      <td>1</td>\n      <td>2020-05-13 23:30:15.860005</td>\n      <td>...</td>\n      <td>0.0</td>\n      <td>NoAction</td>\n      <td>False</td>\n      <td>False</td>\n      <td>NaN</td>\n      <td>NaN</td>\n      <td>NaN</td>\n      <td>False</td>\n      <td>INSERT INTO \"res_users_log\" (\"id\", \"create_uid...</td>\n      <td>res_users_log</td>\n    </tr>\n    <tr>\n      <th>4</th>\n      <td>4</td>\n      <td>4</td>\n      <td>4</td>\n      <td>GenerateJobApplicationActivity_1.pcap</td>\n      <td>GenerateJobApplicationActivity</td>\n      <td>216</td>\n      <td>2020-05-12 09:57:28.729685</td>\n      <td>2020-05-12 09:57:28.729685</td>\n      <td>1</td>\n      <td>2020-05-13 23:55:12.809685</td>\n      <td>...</td>\n      <td>0.0</td>\n      <td>NoAction</td>\n      <td>False</td>\n      <td>False</td>\n      <td>IsNumber</td>\n      <td>authenticate</td>\n      <td>NaN</td>\n      <td>False</td>\n      <td>None</td>\n      <td>None</td>\n    </tr>\n    <tr>\n      <th>...</th>\n      <td>...</td>\n      <td>...</td>\n      <td>...</td>\n      <td>...</td>\n      <td>...</td>\n      <td>...</td>\n      <td>...</td>\n      <td>...</td>\n      <td>...</td>\n      <td>...</td>\n      <td>...</td>\n      <td>...</td>\n      <td>...</td>\n      <td>...</td>\n      <td>...</td>\n      <td>...</td>\n      <td>...</td>\n      <td>...</td>\n      <td>...</td>\n      <td>...</td>\n      <td>...</td>\n    </tr>\n    <tr>\n      <th>33068</th>\n      <td>33068</td>\n      <td>11958</td>\n      <td>11958</td>\n      <td>ResumeReviewActivity_250.pcap</td>\n      <td>ResumeReviewActivity</td>\n      <td>729</td>\n      <td>2020-05-14 00:17:45.346366</td>\n      <td>2020-05-14 00:17:45.346366</td>\n      <td>250</td>\n      <td>2020-05-14 04:15:16.416366</td>\n      <td>...</td>\n      <td>0.0</td>\n      <td>NoAction</td>\n      <td>False</td>\n      <td>False</td>\n      <td>NaN</td>\n      <td>NaN</td>\n      <td>NaN</td>\n      <td>False</td>\n      <td>UPDATE \"mail_message_res_partner_needaction_re...</td>\n      <td>mail_message_res_partner_needaction_rel</td>\n    </tr>\n    <tr>\n      <th>33069</th>\n      <td>33069</td>\n      <td>11959</td>\n      <td>11959</td>\n      <td>ResumeReviewActivity_250.pcap</td>\n      <td>ResumeReviewActivity</td>\n      <td>766</td>\n      <td>2020-05-14 00:17:45.361497</td>\n      <td>2020-05-14 00:17:45.361497</td>\n      <td>250</td>\n      <td>2020-05-14 04:17:47.741497</td>\n      <td>...</td>\n      <td>0.0</td>\n      <td>NoAction</td>\n      <td>False</td>\n      <td>False</td>\n      <td>IsNumber</td>\n      <td>execute_kw</td>\n      <td>hr.applicant_write_stage_id_2</td>\n      <td>True</td>\n      <td>None</td>\n      <td>None</td>\n    </tr>\n    <tr>\n      <th>33070</th>\n      <td>33070</td>\n      <td>11960</td>\n      <td>11960</td>\n      <td>ResumeReviewActivity_250.pcap</td>\n      <td>ResumeReviewActivity</td>\n      <td>774</td>\n      <td>2020-05-14 00:17:45.363203</td>\n      <td>2020-05-14 00:17:45.363203</td>\n      <td>250</td>\n      <td>2020-05-14 04:18:04.803203</td>\n      <td>...</td>\n      <td>0.0</td>\n      <td>NoAction</td>\n      <td>False</td>\n      <td>False</td>\n      <td>hr.applicant_archive_applicant</td>\n      <td>NaN</td>\n      <td>NaN</td>\n      <td>False</td>\n      <td>None</td>\n      <td>None</td>\n    </tr>\n    <tr>\n      <th>33071</th>\n      <td>33071</td>\n      <td>11961</td>\n      <td>11961</td>\n      <td>ResumeReviewActivity_250.pcap</td>\n      <td>ResumeReviewActivity</td>\n      <td>840</td>\n      <td>2020-05-14 00:17:45.427437</td>\n      <td>2020-05-14 00:17:45.427437</td>\n      <td>250</td>\n      <td>2020-05-14 04:28:47.207437</td>\n      <td>...</td>\n      <td>0.0</td>\n      <td>NoAction</td>\n      <td>False</td>\n      <td>False</td>\n      <td>NaN</td>\n      <td>NaN</td>\n      <td>NaN</td>\n      <td>False</td>\n      <td>UPDATE \"hr_applicant\" SET \"active\"=false,\"writ...</td>\n      <td>hr_applicant</td>\n    </tr>\n    <tr>\n      <th>33072</th>\n      <td>33072</td>\n      <td>11962</td>\n      <td>11962</td>\n      <td>ResumeReviewActivity_250.pcap</td>\n      <td>ResumeReviewActivity</td>\n      <td>847</td>\n      <td>2020-05-14 00:17:45.430315</td>\n      <td>2020-05-14 00:17:45.430315</td>\n      <td>250</td>\n      <td>2020-05-14 04:29:15.990315</td>\n      <td>...</td>\n      <td>-224.0</td>\n      <td>Activity End</td>\n      <td>True</td>\n      <td>False</td>\n      <td>faultCode</td>\n      <td>NaN</td>\n      <td>NaN</td>\n      <td>False</td>\n      <td>None</td>\n      <td>None</td>\n    </tr>\n  </tbody>\n</table>\n<p>33073 rows × 38 columns</p>\n</div>"
     },
     "execution_count": 11,
     "metadata": {},
     "output_type": "execute_result"
    }
   ],
   "source": [
    "df_train_in"
   ],
   "metadata": {
    "collapsed": false,
    "ExecuteTime": {
     "end_time": "2024-04-09T12:25:21.853077Z",
     "start_time": "2024-04-09T12:25:21.823926Z"
    }
   },
   "id": "fa2c160726469127"
  },
  {
   "cell_type": "code",
   "execution_count": 5,
   "outputs": [],
   "source": [
    "df_train[\"feat_cat\"] = df_train[\"event_with_roles\"] + df_train[\"selective_file_data\"] + df_train[\"request_method_call\"]"
   ],
   "metadata": {
    "collapsed": false,
    "ExecuteTime": {
     "end_time": "2024-04-09T12:27:58.937897Z",
     "start_time": "2024-04-09T12:27:58.925989Z"
    }
   },
   "id": "fecd07bd7d863b6b"
  },
  {
   "cell_type": "code",
   "execution_count": 7,
   "outputs": [
    {
     "data": {
      "text/plain": "feat_cat\nOdoo Application->db Server/Mail Server:[PgsqlRequest:Simple query]: UPDATE: hr_applicant                                           2233\nOdoo Application->End Point (HR Manager):[HttpResponse:HTTP/1.0 200 OK\\r\\n]IsNumberIsNumber                                         2135\nOdoo Application->db Server/Mail Server:[PgsqlRequest:Simple query]: UPDATE: mail_message                                           2067\nOdoo Application->db Server/Mail Server:[PgsqlRequest:Simple query]: UPDATE: mail_message_res_partner_needaction_rel                2067\nOdoo Application->db Server/Mail Server:[PgsqlRequest:Simple query]: INSERT: mail_message                                           1908\n                                                                                                                                    ... \nEnd Point (HR Manager)->Odoo Application:[HttpRequest:POST /xmlrpc/2/object HTTP/1.1\\r\\n]hr.applicant_write_stage_id_4execute_kw      39\nEnd Point (HR Manager)->Odoo Application:[HttpRequest:POST /xmlrpc/2/object HTTP/1.1\\r\\n]hr.applicant_search_readexecute_kw           25\nOdoo Application->End Point (HR Manager):[HttpResponse:HTTP/1.0 200 OK\\r\\n]salary_expectedid                                          25\nEnd Point (HR Manager)->Odoo Application:[HttpRequest:POST /xmlrpc/2/object HTTP/1.1\\r\\n]hr.applicant_write_stage_id_7execute_kw      14\nEnd Point (HR Manager)->Odoo Application:[HttpRequest:POST /xmlrpc/2/object HTTP/1.1\\r\\n]hr.applicant_write_stage_id_5execute_kw       8\nName: count, Length: 67, dtype: int64"
     },
     "execution_count": 7,
     "metadata": {},
     "output_type": "execute_result"
    }
   ],
   "source": [
    "df_train[\"feat_cat\"].value_counts()"
   ],
   "metadata": {
    "collapsed": false,
    "ExecuteTime": {
     "end_time": "2024-04-09T12:28:22.503257Z",
     "start_time": "2024-04-09T12:28:22.471260Z"
    }
   },
   "id": "af6212b9b9e3e737"
  },
  {
   "cell_type": "code",
   "execution_count": 8,
   "outputs": [
    {
     "data": {
      "text/plain": "event_with_roles                                                                                                      selective_file_data            request_method_call\nOdoo Application->db Server/Mail Server:[PgsqlRequest:Simple query]: UPDATE: hr_applicant                                                                                   2233\nOdoo Application->End Point (HR Manager):[HttpResponse:HTTP/1.0 200 OK\\r\\n]                                           IsNumber                       IsNumber               2135\nOdoo Application->db Server/Mail Server:[PgsqlRequest:Simple query]: UPDATE: mail_message_res_partner_needaction_rel                                                        2067\nOdoo Application->db Server/Mail Server:[PgsqlRequest:Simple query]: UPDATE: mail_message                                                                                   2067\nOdoo Application->db Server/Mail Server:[PgsqlRequest:Simple query]: INSERT: mail_message                                                                                   1908\n                                                                                                                                                                            ... \nEnd Point (HR Manager)->Odoo Application:[HttpRequest:POST /xmlrpc/2/object HTTP/1.1\\r\\n]                             hr.applicant_write_stage_id_4  execute_kw               39\n                                                                                                                      hr.applicant_search_read       execute_kw               25\nOdoo Application->End Point (HR Manager):[HttpResponse:HTTP/1.0 200 OK\\r\\n]                                           salary_expected                id                       25\nEnd Point (HR Manager)->Odoo Application:[HttpRequest:POST /xmlrpc/2/object HTTP/1.1\\r\\n]                             hr.applicant_write_stage_id_7  execute_kw               14\n                                                                                                                      hr.applicant_write_stage_id_5  execute_kw                8\nName: count, Length: 67, dtype: int64"
     },
     "execution_count": 8,
     "metadata": {},
     "output_type": "execute_result"
    }
   ],
   "source": [
    "df_train[[\"event_with_roles\",\"selective_file_data\",\"request_method_call\"]].value_counts()"
   ],
   "metadata": {
    "collapsed": false,
    "ExecuteTime": {
     "end_time": "2024-04-09T12:28:40.226849Z",
     "start_time": "2024-04-09T12:28:40.210538Z"
    }
   },
   "id": "4ccd2ccec445b50c"
  },
  {
   "cell_type": "code",
   "execution_count": 14,
   "outputs": [],
   "source": [
    "df_train_r1[\"http_file_data\"] = df_train_r1[\"MessageAttributes\"].apply(lambda x: x.get(\"http.file_data\", None))"
   ],
   "metadata": {
    "collapsed": false,
    "ExecuteTime": {
     "end_time": "2024-04-09T12:34:17.728709Z",
     "start_time": "2024-04-09T12:34:17.406943Z"
    }
   },
   "id": "f24fde553c86f437"
  },
  {
   "cell_type": "code",
   "execution_count": 15,
   "outputs": [
    {
     "data": {
      "text/plain": "MessageType_WithRole                                                                       http_file_data                                                                                                                                                                                                                                                                                                                                                                                                                                                                                                                                                                                                                                                                                                                                                                                                                                                                                                                                                                                                                                                                                                                                                                          \nOdoo Application->End Point (HR Manager):[HttpResponse:HTTP/1.0 200 OK\\r\\n]                <?xml version='1.0'?>\\xa<methodResponse>\\xa<params>\\xa<param>\\xa<value><int>6</int></value>\\xa</param>\\xa</params>\\xa</methodResponse>\\xa                                                                                                                                                                                                                                                                                                                                                                                                                                                                                                                                                                                                                                                                                                                                                                                                                                                                                                                                                                                                                                                   846\nEnd Point (HR Manager)->Odoo Application:[HttpRequest:POST /xmlrpc/2/common HTTP/1.1\\r\\n]  <?xml version='1.0'?>\\xa<methodCall>\\xa<methodName>authenticate</methodName>\\xa<params>\\xa<param>\\xa<value><string>odoo01</string></value>\\xa</param>\\xa<param>\\xa<value><string>dana.wireless@gmail.com</string></value>\\xa</param>\\xa<param>\\xa<value><string>123456789</string></value>\\xa</param>\\xa<param>\\xa<value><struct>\\xa</struct></value>\\xa</param>\\xa</params>\\xa</methodCall>\\xa                                                                                                                                                                                                                                                                                                                                                                                                                                                                                                                                                                                                                                                                                                                                                                                             845\nOdoo Application->End Point (HR Manager):[HttpResponse:HTTP/1.0 200 OK\\r\\n]                <?xml version='1.0'?>\\xa<methodResponse>\\xa<params>\\xa<param>\\xa<value><struct>\\xa<member>\\xa<name>server_version</name>\\xa<value><string>12.0-20190820</string></value>\\xa</member>\\xa<member>\\xa<name>server_version_info</name>\\xa<value><array><data>\\xa<value><int>12</int></value>\\xa<value><int>0</int></value>\\xa<value><int>0</int></value>\\xa<value><string>final</string></value>\\xa<value><int>0</int></value>\\xa<value><string></string></value>\\xa</data></array></value>\\xa</member>\\xa<member>\\xa<name>server_serie</name>\\xa<value><string>12.0</string></value>\\xa</member>\\xa<member>\\xa<name>protocol_version</name>\\xa<value><int>1</int></value>\\xa</member>\\xa</struct></value>\\xa</param>\\xa</params>\\xa</methodResponse>\\xa                                                                                                                                                                                                                                                                                                                                                                                                                                        845\nEnd Point (HR Manager)->Odoo Application:[HttpRequest:POST /xmlrpc/2/common HTTP/1.1\\r\\n]  <?xml version='1.0'?>\\xa<methodCall>\\xa<methodName>version</methodName>\\xa<params>\\xa</params>\\xa</methodCall>\\xa                                                                                                                                                                                                                                                                                                                                                                                                                                                                                                                                                                                                                                                                                                                                                                                                                                                                                                                                                                                                                                                                           840\nOdoo Application->End Point (HR Manager):[HttpResponse:HTTP/1.0 200 OK\\r\\n]                <?xml version='1.0'?>\\xa<methodResponse>\\xa<params>\\xa<param>\\xa<value><boolean>1</boolean></value>\\xa</param>\\xa</params>\\xa</methodResponse>\\xa                                                                                                                                                                                                                                                                                                                                                                                                                                                                                                                                                                                                                                                                                                                                                                                                                                                                                                                                                                                                                                           718\n                                                                                                                                                                                                                                                                                                                                                                                                                                                                                                                                                                                                                                                                                                                                                                                                                                                                                                                                                                                                                                                                                                                                                                                                                                                                                      ... \nEnd Point (HR Manager)->Odoo Application:[HttpRequest:POST /xmlrpc/2/object HTTP/1.1\\r\\n]  <?xml version='1.0'?>\\xa<methodCall>\\xa<methodName>execute_kw</methodName>\\xa<params>\\xa<param>\\xa<value><string>odoo01</string></value>\\xa</param>\\xa<param>\\xa<value><int>6</int></value>\\xa</param>\\xa<param>\\xa<value><string>123456789</string></value>\\xa</param>\\xa<param>\\xa<value><string>hr.applicant</string></value>\\xa</param>\\xa<param>\\xa<value><string>write</string></value>\\xa</param>\\xa<param>\\xa<value><array><data>\\xa<value><int>930</int></value>\\xa<value><struct>\\xa<member>\\xa<name>stage_id</name>\\xa<value><int>2</int></value>\\xa</member>\\xa</struct></value>\\xa</data></array></value>\\xa</param>\\xa</params>\\xa</methodCall>\\xa                                                                                                                                                                                                                                                                                                                                                                                                                                                                                                                              1\n                                                                                           <?xml version='1.0'?>\\xa<methodCall>\\xa<methodName>execute_kw</methodName>\\xa<params>\\xa<param>\\xa<value><string>odoo01</string></value>\\xa</param>\\xa<param>\\xa<value><int>6</int></value>\\xa</param>\\xa<param>\\xa<value><string>123456789</string></value>\\xa</param>\\xa<param>\\xa<value><string>hr.applicant</string></value>\\xa</param>\\xa<param>\\xa<value><string>write</string></value>\\xa</param>\\xa<param>\\xa<value><array><data>\\xa<value><int>931</int></value>\\xa<value><struct>\\xa<member>\\xa<name>salary_expected</name>\\xa<value><int>9000</int></value>\\xa</member>\\xa<member>\\xa<name>priority</name>\\xa<value><string>2</string></value>\\xa</member>\\xa</struct></value>\\xa</data></array></value>\\xa</param>\\xa</params>\\xa</methodCall>\\xa                                                                                                                                                                                                                                                                                                                                                                                                                                 1\n                                                                                           <?xml version='1.0'?>\\xa<methodCall>\\xa<methodName>execute_kw</methodName>\\xa<params>\\xa<param>\\xa<value><string>odoo01</string></value>\\xa</param>\\xa<param>\\xa<value><int>6</int></value>\\xa</param>\\xa<param>\\xa<value><string>123456789</string></value>\\xa</param>\\xa<param>\\xa<value><string>hr.applicant</string></value>\\xa</param>\\xa<param>\\xa<value><string>write</string></value>\\xa</param>\\xa<param>\\xa<value><array><data>\\xa<value><int>931</int></value>\\xa<value><struct>\\xa<member>\\xa<name>stage_id</name>\\xa<value><int>2</int></value>\\xa</member>\\xa</struct></value>\\xa</data></array></value>\\xa</param>\\xa</params>\\xa</methodCall>\\xa                                                                                                                                                                                                                                                                                                                                                                                                                                                                                                                              1\n                                                                                           <?xml version='1.0'?>\\xa<methodCall>\\xa<methodName>execute_kw</methodName>\\xa<params>\\xa<param>\\xa<value><string>odoo01</string></value>\\xa</param>\\xa<param>\\xa<value><int>6</int></value>\\xa</param>\\xa<param>\\xa<value><string>123456789</string></value>\\xa</param>\\xa<param>\\xa<value><string>hr.applicant</string></value>\\xa</param>\\xa<param>\\xa<value><string>write</string></value>\\xa</param>\\xa<param>\\xa<value><array><data>\\xa<value><int>931</int></value>\\xa<value><struct>\\xa<member>\\xa<name>stage_id</name>\\xa<value><int>3</int></value>\\xa</member>\\xa</struct></value>\\xa</data></array></value>\\xa</param>\\xa</params>\\xa</methodCall>\\xa                                                                                                                                                                                                                                                                                                                                                                                                                                                                                                                              1\n                                                                                           <?xml version='1.0'?>\\xa<methodCall>\\xa<methodName>execute_kw</methodName>\\xa<params>\\xa<param>\\xa<value><string>odoo01</string></value>\\xa</param>\\xa<param>\\xa<value><int>6</int></value>\\xa</param>\\xa<param>\\xa<value><string>123456789</string></value>\\xa</param>\\xa<param>\\xa<value><string>mail.activity</string></value>\\xa</param>\\xa<param>\\xa<value><string>create</string></value>\\xa</param>\\xa<param>\\xa<value><array><data>\\xa<value><struct>\\xa<member>\\xa<name>res_model_id</name>\\xa<value><int>184</int></value>\\xa</member>\\xa<member>\\xa<name>user_id</name>\\xa<value><int>7</int></value>\\xa</member>\\xa<member>\\xa<name>res_id</name>\\xa<value><int>890</int></value>\\xa</member>\\xa<member>\\xa<name>activity_type_id</name>\\xa<value><int>3</int></value>\\xa</member>\\xa<member>\\xa<name>date_deadline</name>\\xa<value><string>2020-05-12</string></value>\\xa</member>\\xa<member>\\xa<name>summary</name>\\xa<value><string>On-site Interview</string></value>\\xa</member>\\xa<member>\\xa<name>note</name>\\xa<value><string>On-site Interview</string></value>\\xa</member>\\xa</struct></value>\\xa</data></array></value>\\xa</param>\\xa</params>\\xa</methodCall>\\xa      1\nName: count, Length: 2889, dtype: int64"
     },
     "execution_count": 15,
     "metadata": {},
     "output_type": "execute_result"
    }
   ],
   "source": [
    "df_train_r1[[\"MessageType_WithRole\",\"http_file_data\"]].value_counts()"
   ],
   "metadata": {
    "collapsed": false,
    "ExecuteTime": {
     "end_time": "2024-04-09T12:34:17.954069Z",
     "start_time": "2024-04-09T12:34:17.722968Z"
    }
   },
   "id": "4a723bbc3ed2ed81"
  },
  {
   "cell_type": "code",
   "execution_count": null,
   "outputs": [],
   "source": [],
   "metadata": {
    "collapsed": false
   },
   "id": "d4b3cda8775cb460"
  }
 ],
 "metadata": {
  "kernelspec": {
   "display_name": "Python 3",
   "language": "python",
   "name": "python3"
  },
  "language_info": {
   "codemirror_mode": {
    "name": "ipython",
    "version": 2
   },
   "file_extension": ".py",
   "mimetype": "text/x-python",
   "name": "python",
   "nbconvert_exporter": "python",
   "pygments_lexer": "ipython2",
   "version": "2.7.6"
  }
 },
 "nbformat": 4,
 "nbformat_minor": 5
}
