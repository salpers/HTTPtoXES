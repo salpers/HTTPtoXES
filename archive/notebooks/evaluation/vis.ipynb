{
 "cells": [
  {
   "cell_type": "code",
   "execution_count": 1,
   "outputs": [],
   "source": [
    "import pandas as pd\n",
    "import matplotlib.pyplot as plt\n",
    "import seaborn as sns"
   ],
   "metadata": {
    "collapsed": false,
    "ExecuteTime": {
     "end_time": "2024-04-22T10:51:39.060618Z",
     "start_time": "2024-04-22T10:51:39.057614Z"
    }
   },
   "id": "6260df7f8b7dfb5f"
  },
  {
   "cell_type": "code",
   "execution_count": 2,
   "id": "initial_id",
   "metadata": {
    "collapsed": true,
    "ExecuteTime": {
     "end_time": "2024-04-22T10:51:39.073400Z",
     "start_time": "2024-04-22T10:51:39.062757Z"
    }
   },
   "outputs": [],
   "source": [
    "df_gt_HR = pd.read_csv(\"../../data_v3/hr_ground_truth.csv\")\n",
    "df_gt_PTP = pd.read_csv(\"../../data_v3/ptp_ground_truth.csv\")"
   ]
  },
  {
   "cell_type": "code",
   "execution_count": 3,
   "outputs": [
    {
     "data": {
      "text/plain": "                      activity_name  start    end  actual_end  \\\n0    GenerateJobApplicationActivity     17    356         325   \n1              ResumeReviewActivity    356   1212        1192   \n2    GenerateJobApplicationActivity   1212   1582        1520   \n3              ResumeReviewActivity   1582   2354        2336   \n4    GenerateJobApplicationActivity   2354   2708        2664   \n5              ResumeReviewActivity   2708   4467        4461   \n6   ScheduleAnInterviewActivityCall   3057   4881        4871   \n7    GenerateJobApplicationActivity   4467   4939        4881   \n8              ResumeReviewActivity   4939   6205        6164   \n9            PerformAnInterviewCall   5606   6879        6859   \n10   GenerateJobApplicationActivity   6879   7261        7190   \n11             ResumeReviewActivity   7261   8060        8044   \n12   GenerateJobApplicationActivity   8060   8421        8374   \n13             ResumeReviewActivity   8421   9412        9329   \n14  ScheduleAnInterviewActivityCall   9105  10272       10237   \n15   GenerateJobApplicationActivity  10272  10843       10786   \n16           PerformAnInterviewCall  10384  11099       11067   \n17             ResumeReviewActivity  11099  11974       11941   \n18  ScheduleAnInterviewActivityCall  11974  14067       14049   \n19       ScheduleAnInterviewMeeting  12074  14576       14533   \n20   GenerateJobApplicationActivity  13457  14333       14328   \n21             ResumeReviewActivity  14576  15377       15350   \n22        PerformAnInterviewMeeting  15377  17273       17235   \n23   GenerateJobApplicationActivity  15720  16644       16615   \n24           PerformAnInterviewCall  16049  17078       17037   \n25  ScheduleAnInterviewActivityCall  17273  18903       18876   \n26       ScheduleAnInterviewMeeting  17801  19585       19551   \n27             ResumeReviewActivity  19585  20696       20665   \n28   GenerateJobApplicationActivity  20245  20588       20557   \n29           PerformAnInterviewCall  20696  21413       21362   \n30        PerformAnInterviewMeeting  20928  21674       21651   \n31  ScheduleAnInterviewActivityCall  21674  22687       22664   \n32       ScheduleAnInterviewMeeting  22687  26508       26505   \n33             ResumeReviewActivity  22851  25201       25173   \n34                 ContractProposal  23848  27226       27222   \n35           PerformAnInterviewCall  25366  27306       27235   \n36        PerformAnInterviewMeeting  27306  28384       28384   \n\n                               overlapping_activities  bp_id  \\\n0                                                  []   1224   \n1                                                  []   1224   \n2                                                  []   1225   \n3                                                  []   1225   \n4                                                  []   1226   \n5                 ['ScheduleAnInterviewActivityCall']   1226   \n6   ['ResumeReviewActivity', 'GenerateJobApplicati...   1225   \n7                 ['ScheduleAnInterviewActivityCall']   1227   \n8                          ['PerformAnInterviewCall']   1227   \n9                            ['ResumeReviewActivity']   1225   \n10                                                 []   1228   \n11                                                 []   1228   \n12                                                 []   1229   \n13                ['ScheduleAnInterviewActivityCall']   1229   \n14                           ['ResumeReviewActivity']   1228   \n15                         ['PerformAnInterviewCall']   1230   \n16                 ['GenerateJobApplicationActivity']   1228   \n17                                                 []   1230   \n18  ['ScheduleAnInterviewMeeting','GenerateJobAppl...   1229   \n19  ['ScheduleAnInterviewActivityCall','GenerateJo...   1228   \n20  ['ScheduleAnInterviewActivityCall','ScheduleAn...   1231   \n21                                                 []   1231   \n22  ['GenerateJobApplicationActivity','PerformAnIn...   1228   \n23  ['PerformAnInterviewMeeting','PerformAnIntervi...   1232   \n24  ['PerformAnInterviewMeeting', 'GenerateJobAppl...   1229   \n25                     ['ScheduleAnInterviewMeeting']   1231   \n26                ['ScheduleAnInterviewActivityCall']   1229   \n27                 ['GenerateJobApplicationActivity']   1232   \n28                           ['ResumeReviewActivity']   1233   \n29                      ['PerformAnInterviewMeeting']   1231   \n30                         ['PerformAnInterviewCall']   1229   \n31                                                 []   1232   \n32  ['ResumeReviewActivity','ContractProposal','Pe...   1231   \n33  ['ScheduleAnInterviewMeeting','ContractProposal']   1233   \n34  ['ScheduleAnInterviewMeeting','ResumeReviewAct...   1229   \n35  ['ScheduleAnInterviewMeeting','ContractProposal']   1232   \n36                                                 []   1231   \n\n     overlapping_bps                                     classification  \\\n0                 []                     GenerateJobApplicationActivity   \n1                 []                               ResumeReviewActivity   \n2                 []                     GenerateJobApplicationActivity   \n3                 []                               ResumeReviewActivity   \n4                 []                     GenerateJobApplicationActivity   \n5             [1255]  ResumeReviewActivity, ScheduleAnInterviewActiv...   \n6        [1226,1227]  ResumeReviewActivity, ScheduleAnInterviewActiv...   \n7             [1226]                     GenerateJobApplicationActivity   \n8             [1225]                               ResumeReviewActivity   \n9             [1227]                             PerformAnInterviewCall   \n10                []                     GenerateJobApplicationActivity   \n11                []                               ResumeReviewActivity   \n12                []                     GenerateJobApplicationActivity   \n13            [1228]                               ResumeReviewActivity   \n14            [1229]                    ScheduleAnInterviewActivityCall   \n15            [1228]                     GenerateJobApplicationActivity   \n16            [1230]                     GenerateJobApplicationActivity   \n17                []                               ResumeReviewActivity   \n18       [1228,1231]                    ScheduleAnInterviewActivityCall   \n19       [1229,1231]                         ScheduleAnInterviewMeeting   \n20       [1229,1228]                     GenerateJobApplicationActivity   \n21                []                               ResumeReviewActivity   \n22       [1232,1229]  PerformAnInterviewMeeting , GenerateJobApplica...   \n23       [1228,1229]                     GenerateJobApplicationActivity   \n24       [1228,1232]                     GenerateJobApplicationActivity   \n25            [1229]                    ScheduleAnInterviewActivityCall   \n26            [1231]                         ScheduleAnInterviewMeeting   \n27            [1233]                               ResumeReviewActivity   \n28            [1232]                     GenerateJobApplicationActivity   \n29            [1229]                          PerformAnInterviewMeeting   \n30            [1231]                          PerformAnInterviewMeeting   \n31                []                    ScheduleAnInterviewActivityCall   \n32  [1233,1229,1232]      ResumeReviewActivity , PerformAnInterviewCall   \n33       [1231,1229]                               ResumeReviewActivity   \n34  [1231,1233,1232]                                   ContractProposal   \n35       [1231,1229]                             PerformAnInterviewCall   \n36                []                          PerformAnInterviewMeeting   \n\n   Multi Class Classification  Single Class Classification  probability  \n0                        TRUE                         True     0.994192  \n1                        TRUE                         True     0.993149  \n2                        TRUE                         True     0.994192  \n3                        TRUE                         True     0.993329  \n4                        TRUE                         True     0.994192  \n5                        TRUE                         True     0.211112  \n6                        TRUE                         True     0.021792  \n7                       FALSE                         True     0.986619  \n8                       FALSE                         True     0.839890  \n9                       FALSE                         True     0.962106  \n10                       TRUE                         True     0.994192  \n11                       TRUE                         True     0.993329  \n12                       TRUE                         True     0.994192  \n13                      FALSE                         True     0.992941  \n14                      FALSE                         True     0.960603  \n15                       TRUE                         True     0.991560  \n16                      FALSE                        False     0.452660  \n17                       TRUE                         True     0.993149  \n18                      FALSE                         True     0.873542  \n19                      FALSE                         True     0.475987  \n20                      FALSE                         True     0.835693  \n21                       TRUE                         True     0.993329  \n22                      FALSE                         True     0.007557  \n23                      FALSE                         True     0.711298  \n24                      FALSE                        False     0.119634  \n25                      FALSE                         True     0.679157  \n26                    Unknown                         True     0.749887  \n27                      FALSE                         True     0.194285  \n28                      FALSE                         True     0.994192  \n29                      FALSE                        False     0.455015  \n30                      FALSE                         True     0.972130  \n31                       TRUE                         True     0.978524  \n32                      FALSE                        False     0.033681  \n33                      FALSE                         True     0.189530  \n34                      FALSE                         True     0.899964  \n35                      FALSE                         True     0.685331  \n36                       TRUE                         True     0.958282  ",
      "text/html": "<div>\n<style scoped>\n    .dataframe tbody tr th:only-of-type {\n        vertical-align: middle;\n    }\n\n    .dataframe tbody tr th {\n        vertical-align: top;\n    }\n\n    .dataframe thead th {\n        text-align: right;\n    }\n</style>\n<table border=\"1\" class=\"dataframe\">\n  <thead>\n    <tr style=\"text-align: right;\">\n      <th></th>\n      <th>activity_name</th>\n      <th>start</th>\n      <th>end</th>\n      <th>actual_end</th>\n      <th>overlapping_activities</th>\n      <th>bp_id</th>\n      <th>overlapping_bps</th>\n      <th>classification</th>\n      <th>Multi Class Classification</th>\n      <th>Single Class Classification</th>\n      <th>probability</th>\n    </tr>\n  </thead>\n  <tbody>\n    <tr>\n      <th>0</th>\n      <td>GenerateJobApplicationActivity</td>\n      <td>17</td>\n      <td>356</td>\n      <td>325</td>\n      <td>[]</td>\n      <td>1224</td>\n      <td>[]</td>\n      <td>GenerateJobApplicationActivity</td>\n      <td>TRUE</td>\n      <td>True</td>\n      <td>0.994192</td>\n    </tr>\n    <tr>\n      <th>1</th>\n      <td>ResumeReviewActivity</td>\n      <td>356</td>\n      <td>1212</td>\n      <td>1192</td>\n      <td>[]</td>\n      <td>1224</td>\n      <td>[]</td>\n      <td>ResumeReviewActivity</td>\n      <td>TRUE</td>\n      <td>True</td>\n      <td>0.993149</td>\n    </tr>\n    <tr>\n      <th>2</th>\n      <td>GenerateJobApplicationActivity</td>\n      <td>1212</td>\n      <td>1582</td>\n      <td>1520</td>\n      <td>[]</td>\n      <td>1225</td>\n      <td>[]</td>\n      <td>GenerateJobApplicationActivity</td>\n      <td>TRUE</td>\n      <td>True</td>\n      <td>0.994192</td>\n    </tr>\n    <tr>\n      <th>3</th>\n      <td>ResumeReviewActivity</td>\n      <td>1582</td>\n      <td>2354</td>\n      <td>2336</td>\n      <td>[]</td>\n      <td>1225</td>\n      <td>[]</td>\n      <td>ResumeReviewActivity</td>\n      <td>TRUE</td>\n      <td>True</td>\n      <td>0.993329</td>\n    </tr>\n    <tr>\n      <th>4</th>\n      <td>GenerateJobApplicationActivity</td>\n      <td>2354</td>\n      <td>2708</td>\n      <td>2664</td>\n      <td>[]</td>\n      <td>1226</td>\n      <td>[]</td>\n      <td>GenerateJobApplicationActivity</td>\n      <td>TRUE</td>\n      <td>True</td>\n      <td>0.994192</td>\n    </tr>\n    <tr>\n      <th>5</th>\n      <td>ResumeReviewActivity</td>\n      <td>2708</td>\n      <td>4467</td>\n      <td>4461</td>\n      <td>['ScheduleAnInterviewActivityCall']</td>\n      <td>1226</td>\n      <td>[1255]</td>\n      <td>ResumeReviewActivity, ScheduleAnInterviewActiv...</td>\n      <td>TRUE</td>\n      <td>True</td>\n      <td>0.211112</td>\n    </tr>\n    <tr>\n      <th>6</th>\n      <td>ScheduleAnInterviewActivityCall</td>\n      <td>3057</td>\n      <td>4881</td>\n      <td>4871</td>\n      <td>['ResumeReviewActivity', 'GenerateJobApplicati...</td>\n      <td>1225</td>\n      <td>[1226,1227]</td>\n      <td>ResumeReviewActivity, ScheduleAnInterviewActiv...</td>\n      <td>TRUE</td>\n      <td>True</td>\n      <td>0.021792</td>\n    </tr>\n    <tr>\n      <th>7</th>\n      <td>GenerateJobApplicationActivity</td>\n      <td>4467</td>\n      <td>4939</td>\n      <td>4881</td>\n      <td>['ScheduleAnInterviewActivityCall']</td>\n      <td>1227</td>\n      <td>[1226]</td>\n      <td>GenerateJobApplicationActivity</td>\n      <td>FALSE</td>\n      <td>True</td>\n      <td>0.986619</td>\n    </tr>\n    <tr>\n      <th>8</th>\n      <td>ResumeReviewActivity</td>\n      <td>4939</td>\n      <td>6205</td>\n      <td>6164</td>\n      <td>['PerformAnInterviewCall']</td>\n      <td>1227</td>\n      <td>[1225]</td>\n      <td>ResumeReviewActivity</td>\n      <td>FALSE</td>\n      <td>True</td>\n      <td>0.839890</td>\n    </tr>\n    <tr>\n      <th>9</th>\n      <td>PerformAnInterviewCall</td>\n      <td>5606</td>\n      <td>6879</td>\n      <td>6859</td>\n      <td>['ResumeReviewActivity']</td>\n      <td>1225</td>\n      <td>[1227]</td>\n      <td>PerformAnInterviewCall</td>\n      <td>FALSE</td>\n      <td>True</td>\n      <td>0.962106</td>\n    </tr>\n    <tr>\n      <th>10</th>\n      <td>GenerateJobApplicationActivity</td>\n      <td>6879</td>\n      <td>7261</td>\n      <td>7190</td>\n      <td>[]</td>\n      <td>1228</td>\n      <td>[]</td>\n      <td>GenerateJobApplicationActivity</td>\n      <td>TRUE</td>\n      <td>True</td>\n      <td>0.994192</td>\n    </tr>\n    <tr>\n      <th>11</th>\n      <td>ResumeReviewActivity</td>\n      <td>7261</td>\n      <td>8060</td>\n      <td>8044</td>\n      <td>[]</td>\n      <td>1228</td>\n      <td>[]</td>\n      <td>ResumeReviewActivity</td>\n      <td>TRUE</td>\n      <td>True</td>\n      <td>0.993329</td>\n    </tr>\n    <tr>\n      <th>12</th>\n      <td>GenerateJobApplicationActivity</td>\n      <td>8060</td>\n      <td>8421</td>\n      <td>8374</td>\n      <td>[]</td>\n      <td>1229</td>\n      <td>[]</td>\n      <td>GenerateJobApplicationActivity</td>\n      <td>TRUE</td>\n      <td>True</td>\n      <td>0.994192</td>\n    </tr>\n    <tr>\n      <th>13</th>\n      <td>ResumeReviewActivity</td>\n      <td>8421</td>\n      <td>9412</td>\n      <td>9329</td>\n      <td>['ScheduleAnInterviewActivityCall']</td>\n      <td>1229</td>\n      <td>[1228]</td>\n      <td>ResumeReviewActivity</td>\n      <td>FALSE</td>\n      <td>True</td>\n      <td>0.992941</td>\n    </tr>\n    <tr>\n      <th>14</th>\n      <td>ScheduleAnInterviewActivityCall</td>\n      <td>9105</td>\n      <td>10272</td>\n      <td>10237</td>\n      <td>['ResumeReviewActivity']</td>\n      <td>1228</td>\n      <td>[1229]</td>\n      <td>ScheduleAnInterviewActivityCall</td>\n      <td>FALSE</td>\n      <td>True</td>\n      <td>0.960603</td>\n    </tr>\n    <tr>\n      <th>15</th>\n      <td>GenerateJobApplicationActivity</td>\n      <td>10272</td>\n      <td>10843</td>\n      <td>10786</td>\n      <td>['PerformAnInterviewCall']</td>\n      <td>1230</td>\n      <td>[1228]</td>\n      <td>GenerateJobApplicationActivity</td>\n      <td>TRUE</td>\n      <td>True</td>\n      <td>0.991560</td>\n    </tr>\n    <tr>\n      <th>16</th>\n      <td>PerformAnInterviewCall</td>\n      <td>10384</td>\n      <td>11099</td>\n      <td>11067</td>\n      <td>['GenerateJobApplicationActivity']</td>\n      <td>1228</td>\n      <td>[1230]</td>\n      <td>GenerateJobApplicationActivity</td>\n      <td>FALSE</td>\n      <td>False</td>\n      <td>0.452660</td>\n    </tr>\n    <tr>\n      <th>17</th>\n      <td>ResumeReviewActivity</td>\n      <td>11099</td>\n      <td>11974</td>\n      <td>11941</td>\n      <td>[]</td>\n      <td>1230</td>\n      <td>[]</td>\n      <td>ResumeReviewActivity</td>\n      <td>TRUE</td>\n      <td>True</td>\n      <td>0.993149</td>\n    </tr>\n    <tr>\n      <th>18</th>\n      <td>ScheduleAnInterviewActivityCall</td>\n      <td>11974</td>\n      <td>14067</td>\n      <td>14049</td>\n      <td>['ScheduleAnInterviewMeeting','GenerateJobAppl...</td>\n      <td>1229</td>\n      <td>[1228,1231]</td>\n      <td>ScheduleAnInterviewActivityCall</td>\n      <td>FALSE</td>\n      <td>True</td>\n      <td>0.873542</td>\n    </tr>\n    <tr>\n      <th>19</th>\n      <td>ScheduleAnInterviewMeeting</td>\n      <td>12074</td>\n      <td>14576</td>\n      <td>14533</td>\n      <td>['ScheduleAnInterviewActivityCall','GenerateJo...</td>\n      <td>1228</td>\n      <td>[1229,1231]</td>\n      <td>ScheduleAnInterviewMeeting</td>\n      <td>FALSE</td>\n      <td>True</td>\n      <td>0.475987</td>\n    </tr>\n    <tr>\n      <th>20</th>\n      <td>GenerateJobApplicationActivity</td>\n      <td>13457</td>\n      <td>14333</td>\n      <td>14328</td>\n      <td>['ScheduleAnInterviewActivityCall','ScheduleAn...</td>\n      <td>1231</td>\n      <td>[1229,1228]</td>\n      <td>GenerateJobApplicationActivity</td>\n      <td>FALSE</td>\n      <td>True</td>\n      <td>0.835693</td>\n    </tr>\n    <tr>\n      <th>21</th>\n      <td>ResumeReviewActivity</td>\n      <td>14576</td>\n      <td>15377</td>\n      <td>15350</td>\n      <td>[]</td>\n      <td>1231</td>\n      <td>[]</td>\n      <td>ResumeReviewActivity</td>\n      <td>TRUE</td>\n      <td>True</td>\n      <td>0.993329</td>\n    </tr>\n    <tr>\n      <th>22</th>\n      <td>PerformAnInterviewMeeting</td>\n      <td>15377</td>\n      <td>17273</td>\n      <td>17235</td>\n      <td>['GenerateJobApplicationActivity','PerformAnIn...</td>\n      <td>1228</td>\n      <td>[1232,1229]</td>\n      <td>PerformAnInterviewMeeting , GenerateJobApplica...</td>\n      <td>FALSE</td>\n      <td>True</td>\n      <td>0.007557</td>\n    </tr>\n    <tr>\n      <th>23</th>\n      <td>GenerateJobApplicationActivity</td>\n      <td>15720</td>\n      <td>16644</td>\n      <td>16615</td>\n      <td>['PerformAnInterviewMeeting','PerformAnIntervi...</td>\n      <td>1232</td>\n      <td>[1228,1229]</td>\n      <td>GenerateJobApplicationActivity</td>\n      <td>FALSE</td>\n      <td>True</td>\n      <td>0.711298</td>\n    </tr>\n    <tr>\n      <th>24</th>\n      <td>PerformAnInterviewCall</td>\n      <td>16049</td>\n      <td>17078</td>\n      <td>17037</td>\n      <td>['PerformAnInterviewMeeting', 'GenerateJobAppl...</td>\n      <td>1229</td>\n      <td>[1228,1232]</td>\n      <td>GenerateJobApplicationActivity</td>\n      <td>FALSE</td>\n      <td>False</td>\n      <td>0.119634</td>\n    </tr>\n    <tr>\n      <th>25</th>\n      <td>ScheduleAnInterviewActivityCall</td>\n      <td>17273</td>\n      <td>18903</td>\n      <td>18876</td>\n      <td>['ScheduleAnInterviewMeeting']</td>\n      <td>1231</td>\n      <td>[1229]</td>\n      <td>ScheduleAnInterviewActivityCall</td>\n      <td>FALSE</td>\n      <td>True</td>\n      <td>0.679157</td>\n    </tr>\n    <tr>\n      <th>26</th>\n      <td>ScheduleAnInterviewMeeting</td>\n      <td>17801</td>\n      <td>19585</td>\n      <td>19551</td>\n      <td>['ScheduleAnInterviewActivityCall']</td>\n      <td>1229</td>\n      <td>[1231]</td>\n      <td>ScheduleAnInterviewMeeting</td>\n      <td>Unknown</td>\n      <td>True</td>\n      <td>0.749887</td>\n    </tr>\n    <tr>\n      <th>27</th>\n      <td>ResumeReviewActivity</td>\n      <td>19585</td>\n      <td>20696</td>\n      <td>20665</td>\n      <td>['GenerateJobApplicationActivity']</td>\n      <td>1232</td>\n      <td>[1233]</td>\n      <td>ResumeReviewActivity</td>\n      <td>FALSE</td>\n      <td>True</td>\n      <td>0.194285</td>\n    </tr>\n    <tr>\n      <th>28</th>\n      <td>GenerateJobApplicationActivity</td>\n      <td>20245</td>\n      <td>20588</td>\n      <td>20557</td>\n      <td>['ResumeReviewActivity']</td>\n      <td>1233</td>\n      <td>[1232]</td>\n      <td>GenerateJobApplicationActivity</td>\n      <td>FALSE</td>\n      <td>True</td>\n      <td>0.994192</td>\n    </tr>\n    <tr>\n      <th>29</th>\n      <td>PerformAnInterviewCall</td>\n      <td>20696</td>\n      <td>21413</td>\n      <td>21362</td>\n      <td>['PerformAnInterviewMeeting']</td>\n      <td>1231</td>\n      <td>[1229]</td>\n      <td>PerformAnInterviewMeeting</td>\n      <td>FALSE</td>\n      <td>False</td>\n      <td>0.455015</td>\n    </tr>\n    <tr>\n      <th>30</th>\n      <td>PerformAnInterviewMeeting</td>\n      <td>20928</td>\n      <td>21674</td>\n      <td>21651</td>\n      <td>['PerformAnInterviewCall']</td>\n      <td>1229</td>\n      <td>[1231]</td>\n      <td>PerformAnInterviewMeeting</td>\n      <td>FALSE</td>\n      <td>True</td>\n      <td>0.972130</td>\n    </tr>\n    <tr>\n      <th>31</th>\n      <td>ScheduleAnInterviewActivityCall</td>\n      <td>21674</td>\n      <td>22687</td>\n      <td>22664</td>\n      <td>[]</td>\n      <td>1232</td>\n      <td>[]</td>\n      <td>ScheduleAnInterviewActivityCall</td>\n      <td>TRUE</td>\n      <td>True</td>\n      <td>0.978524</td>\n    </tr>\n    <tr>\n      <th>32</th>\n      <td>ScheduleAnInterviewMeeting</td>\n      <td>22687</td>\n      <td>26508</td>\n      <td>26505</td>\n      <td>['ResumeReviewActivity','ContractProposal','Pe...</td>\n      <td>1231</td>\n      <td>[1233,1229,1232]</td>\n      <td>ResumeReviewActivity , PerformAnInterviewCall</td>\n      <td>FALSE</td>\n      <td>False</td>\n      <td>0.033681</td>\n    </tr>\n    <tr>\n      <th>33</th>\n      <td>ResumeReviewActivity</td>\n      <td>22851</td>\n      <td>25201</td>\n      <td>25173</td>\n      <td>['ScheduleAnInterviewMeeting','ContractProposal']</td>\n      <td>1233</td>\n      <td>[1231,1229]</td>\n      <td>ResumeReviewActivity</td>\n      <td>FALSE</td>\n      <td>True</td>\n      <td>0.189530</td>\n    </tr>\n    <tr>\n      <th>34</th>\n      <td>ContractProposal</td>\n      <td>23848</td>\n      <td>27226</td>\n      <td>27222</td>\n      <td>['ScheduleAnInterviewMeeting','ResumeReviewAct...</td>\n      <td>1229</td>\n      <td>[1231,1233,1232]</td>\n      <td>ContractProposal</td>\n      <td>FALSE</td>\n      <td>True</td>\n      <td>0.899964</td>\n    </tr>\n    <tr>\n      <th>35</th>\n      <td>PerformAnInterviewCall</td>\n      <td>25366</td>\n      <td>27306</td>\n      <td>27235</td>\n      <td>['ScheduleAnInterviewMeeting','ContractProposal']</td>\n      <td>1232</td>\n      <td>[1231,1229]</td>\n      <td>PerformAnInterviewCall</td>\n      <td>FALSE</td>\n      <td>True</td>\n      <td>0.685331</td>\n    </tr>\n    <tr>\n      <th>36</th>\n      <td>PerformAnInterviewMeeting</td>\n      <td>27306</td>\n      <td>28384</td>\n      <td>28384</td>\n      <td>[]</td>\n      <td>1231</td>\n      <td>[]</td>\n      <td>PerformAnInterviewMeeting</td>\n      <td>TRUE</td>\n      <td>True</td>\n      <td>0.958282</td>\n    </tr>\n  </tbody>\n</table>\n</div>"
     },
     "execution_count": 3,
     "metadata": {},
     "output_type": "execute_result"
    }
   ],
   "source": [
    "df_gt_HR"
   ],
   "metadata": {
    "collapsed": false,
    "ExecuteTime": {
     "end_time": "2024-04-22T10:51:39.090266Z",
     "start_time": "2024-04-22T10:51:39.075207Z"
    }
   },
   "id": "897853934ffc6c31"
  },
  {
   "cell_type": "code",
   "execution_count": 4,
   "outputs": [
    {
     "data": {
      "text/plain": "            activity_name   start     end  actual_end overlapping_activities  \\\n0   CreatePurchaseRequest      96    1367        1322                     []   \n1     CreateCallForTender    1367    1940        1887                     []   \n2   CreatePurchaseRequest    1940    2818        2793                     []   \n3               CreateRfq    2818    6289       15871                     []   \n4     CreateCallForTender    5563    6178        5965                     []   \n..                    ...     ...     ...         ...                    ...   \n58          SubmitPayment  100724  104625      104454                     []   \n59    CreatePurchaseOrder  101210  105998      105925                     []   \n60          SubmitPayment  106266  108727      108703                     []   \n61           ReceiveGoods  108727  109758      109696                     []   \n62          SubmitPayment  109758  112188      112188                     []   \n\n    bp_id overlapping_bps  classification  Multi Class Classification  \\\n0     399              []             NaN                         NaN   \n1     399              []             NaN                         NaN   \n2     400              []             NaN                         NaN   \n3     399              []             NaN                         NaN   \n4     400              []             NaN                         NaN   \n..    ...             ...             ...                         ...   \n58    406              []             NaN                         NaN   \n59    408              []             NaN                         NaN   \n60    407              []             NaN                         NaN   \n61    408              []             NaN                         NaN   \n62    408              []             NaN                         NaN   \n\n    Single Class Classification  probability  \n0                           NaN          NaN  \n1                           NaN          NaN  \n2                           NaN          NaN  \n3                           NaN          NaN  \n4                           NaN          NaN  \n..                          ...          ...  \n58                          NaN          NaN  \n59                          NaN          NaN  \n60                          NaN          NaN  \n61                          NaN          NaN  \n62                          NaN          NaN  \n\n[63 rows x 11 columns]",
      "text/html": "<div>\n<style scoped>\n    .dataframe tbody tr th:only-of-type {\n        vertical-align: middle;\n    }\n\n    .dataframe tbody tr th {\n        vertical-align: top;\n    }\n\n    .dataframe thead th {\n        text-align: right;\n    }\n</style>\n<table border=\"1\" class=\"dataframe\">\n  <thead>\n    <tr style=\"text-align: right;\">\n      <th></th>\n      <th>activity_name</th>\n      <th>start</th>\n      <th>end</th>\n      <th>actual_end</th>\n      <th>overlapping_activities</th>\n      <th>bp_id</th>\n      <th>overlapping_bps</th>\n      <th>classification</th>\n      <th>Multi Class Classification</th>\n      <th>Single Class Classification</th>\n      <th>probability</th>\n    </tr>\n  </thead>\n  <tbody>\n    <tr>\n      <th>0</th>\n      <td>CreatePurchaseRequest</td>\n      <td>96</td>\n      <td>1367</td>\n      <td>1322</td>\n      <td>[]</td>\n      <td>399</td>\n      <td>[]</td>\n      <td>NaN</td>\n      <td>NaN</td>\n      <td>NaN</td>\n      <td>NaN</td>\n    </tr>\n    <tr>\n      <th>1</th>\n      <td>CreateCallForTender</td>\n      <td>1367</td>\n      <td>1940</td>\n      <td>1887</td>\n      <td>[]</td>\n      <td>399</td>\n      <td>[]</td>\n      <td>NaN</td>\n      <td>NaN</td>\n      <td>NaN</td>\n      <td>NaN</td>\n    </tr>\n    <tr>\n      <th>2</th>\n      <td>CreatePurchaseRequest</td>\n      <td>1940</td>\n      <td>2818</td>\n      <td>2793</td>\n      <td>[]</td>\n      <td>400</td>\n      <td>[]</td>\n      <td>NaN</td>\n      <td>NaN</td>\n      <td>NaN</td>\n      <td>NaN</td>\n    </tr>\n    <tr>\n      <th>3</th>\n      <td>CreateRfq</td>\n      <td>2818</td>\n      <td>6289</td>\n      <td>15871</td>\n      <td>[]</td>\n      <td>399</td>\n      <td>[]</td>\n      <td>NaN</td>\n      <td>NaN</td>\n      <td>NaN</td>\n      <td>NaN</td>\n    </tr>\n    <tr>\n      <th>4</th>\n      <td>CreateCallForTender</td>\n      <td>5563</td>\n      <td>6178</td>\n      <td>5965</td>\n      <td>[]</td>\n      <td>400</td>\n      <td>[]</td>\n      <td>NaN</td>\n      <td>NaN</td>\n      <td>NaN</td>\n      <td>NaN</td>\n    </tr>\n    <tr>\n      <th>...</th>\n      <td>...</td>\n      <td>...</td>\n      <td>...</td>\n      <td>...</td>\n      <td>...</td>\n      <td>...</td>\n      <td>...</td>\n      <td>...</td>\n      <td>...</td>\n      <td>...</td>\n      <td>...</td>\n    </tr>\n    <tr>\n      <th>58</th>\n      <td>SubmitPayment</td>\n      <td>100724</td>\n      <td>104625</td>\n      <td>104454</td>\n      <td>[]</td>\n      <td>406</td>\n      <td>[]</td>\n      <td>NaN</td>\n      <td>NaN</td>\n      <td>NaN</td>\n      <td>NaN</td>\n    </tr>\n    <tr>\n      <th>59</th>\n      <td>CreatePurchaseOrder</td>\n      <td>101210</td>\n      <td>105998</td>\n      <td>105925</td>\n      <td>[]</td>\n      <td>408</td>\n      <td>[]</td>\n      <td>NaN</td>\n      <td>NaN</td>\n      <td>NaN</td>\n      <td>NaN</td>\n    </tr>\n    <tr>\n      <th>60</th>\n      <td>SubmitPayment</td>\n      <td>106266</td>\n      <td>108727</td>\n      <td>108703</td>\n      <td>[]</td>\n      <td>407</td>\n      <td>[]</td>\n      <td>NaN</td>\n      <td>NaN</td>\n      <td>NaN</td>\n      <td>NaN</td>\n    </tr>\n    <tr>\n      <th>61</th>\n      <td>ReceiveGoods</td>\n      <td>108727</td>\n      <td>109758</td>\n      <td>109696</td>\n      <td>[]</td>\n      <td>408</td>\n      <td>[]</td>\n      <td>NaN</td>\n      <td>NaN</td>\n      <td>NaN</td>\n      <td>NaN</td>\n    </tr>\n    <tr>\n      <th>62</th>\n      <td>SubmitPayment</td>\n      <td>109758</td>\n      <td>112188</td>\n      <td>112188</td>\n      <td>[]</td>\n      <td>408</td>\n      <td>[]</td>\n      <td>NaN</td>\n      <td>NaN</td>\n      <td>NaN</td>\n      <td>NaN</td>\n    </tr>\n  </tbody>\n</table>\n<p>63 rows × 11 columns</p>\n</div>"
     },
     "execution_count": 4,
     "metadata": {},
     "output_type": "execute_result"
    }
   ],
   "source": [
    "df_gt_PTP"
   ],
   "metadata": {
    "collapsed": false,
    "ExecuteTime": {
     "end_time": "2024-04-22T10:51:39.094692Z",
     "start_time": "2024-04-22T10:51:39.086330Z"
    }
   },
   "id": "bfd92ba52a118944"
  },
  {
   "cell_type": "code",
   "execution_count": 5,
   "outputs": [],
   "source": [
    "df_gt_HR[\"bp_id_norm\"] = df_gt_HR.groupby(\"bp_id\").ngroup() +1"
   ],
   "metadata": {
    "collapsed": false,
    "ExecuteTime": {
     "end_time": "2024-04-22T10:51:39.105814Z",
     "start_time": "2024-04-22T10:51:39.093842Z"
    }
   },
   "id": "bdc491aa923a8fb3"
  },
  {
   "cell_type": "code",
   "execution_count": 6,
   "outputs": [
    {
     "name": "stderr",
     "output_type": "stream",
     "text": [
      "/var/folders/qt/gt7q1tn978x_02pv47b2lrvm0000gn/T/ipykernel_4320/694249437.py:1: FutureWarning: The provided callable <built-in function max> is currently using SeriesGroupBy.max. In a future version of pandas, the provided callable will be used directly. To keep current behavior pass the string \"max\" instead.\n",
      "  df_gt_HR.groupby(\"bp_id_norm\").agg({\"start\": \"min\", \"end\": max})\n"
     ]
    },
    {
     "data": {
      "text/plain": "            start    end\nbp_id_norm              \n1              17   1212\n2            1212   6879\n3            2354   4467\n4            4467   6205\n5            6879  17273\n6            8060  27226\n7           10272  11974\n8           13457  28384\n9           15720  27306\n10          20245  25201",
      "text/html": "<div>\n<style scoped>\n    .dataframe tbody tr th:only-of-type {\n        vertical-align: middle;\n    }\n\n    .dataframe tbody tr th {\n        vertical-align: top;\n    }\n\n    .dataframe thead th {\n        text-align: right;\n    }\n</style>\n<table border=\"1\" class=\"dataframe\">\n  <thead>\n    <tr style=\"text-align: right;\">\n      <th></th>\n      <th>start</th>\n      <th>end</th>\n    </tr>\n    <tr>\n      <th>bp_id_norm</th>\n      <th></th>\n      <th></th>\n    </tr>\n  </thead>\n  <tbody>\n    <tr>\n      <th>1</th>\n      <td>17</td>\n      <td>1212</td>\n    </tr>\n    <tr>\n      <th>2</th>\n      <td>1212</td>\n      <td>6879</td>\n    </tr>\n    <tr>\n      <th>3</th>\n      <td>2354</td>\n      <td>4467</td>\n    </tr>\n    <tr>\n      <th>4</th>\n      <td>4467</td>\n      <td>6205</td>\n    </tr>\n    <tr>\n      <th>5</th>\n      <td>6879</td>\n      <td>17273</td>\n    </tr>\n    <tr>\n      <th>6</th>\n      <td>8060</td>\n      <td>27226</td>\n    </tr>\n    <tr>\n      <th>7</th>\n      <td>10272</td>\n      <td>11974</td>\n    </tr>\n    <tr>\n      <th>8</th>\n      <td>13457</td>\n      <td>28384</td>\n    </tr>\n    <tr>\n      <th>9</th>\n      <td>15720</td>\n      <td>27306</td>\n    </tr>\n    <tr>\n      <th>10</th>\n      <td>20245</td>\n      <td>25201</td>\n    </tr>\n  </tbody>\n</table>\n</div>"
     },
     "execution_count": 6,
     "metadata": {},
     "output_type": "execute_result"
    }
   ],
   "source": [
    "df_gt_HR.groupby(\"bp_id_norm\").agg({\"start\": \"min\", \"end\": max})\n"
   ],
   "metadata": {
    "collapsed": false,
    "ExecuteTime": {
     "end_time": "2024-04-22T10:51:39.107846Z",
     "start_time": "2024-04-22T10:51:39.099617Z"
    }
   },
   "id": "d1488d70bbbe6ef1"
  },
  {
   "cell_type": "code",
   "execution_count": 7,
   "outputs": [
    {
     "name": "stderr",
     "output_type": "stream",
     "text": [
      "/var/folders/qt/gt7q1tn978x_02pv47b2lrvm0000gn/T/ipykernel_4320/1436009193.py:7: FutureWarning: The provided callable <built-in function max> is currently using SeriesGroupBy.max. In a future version of pandas, the provided callable will be used directly. To keep current behavior pass the string \"max\" instead.\n",
      "  res = df.groupby(\"bp_id_norm\").agg({\"start\": \"min\", \"end\": max}).reset_index()\n",
      "/var/folders/qt/gt7q1tn978x_02pv47b2lrvm0000gn/T/ipykernel_4320/1436009193.py:44: FutureWarning: The provided callable <built-in function max> is currently using SeriesGroupBy.max. In a future version of pandas, the provided callable will be used directly. To keep current behavior pass the string \"max\" instead.\n",
      "  res = df.groupby(\"bp_id_norm\").agg({\"start\": \"min\", \"end\": max}).reset_index()\n"
     ]
    },
    {
     "data": {
      "text/plain": "<Figure size 800x400 with 2 Axes>",
      "image/png": "[encoded data removed]"
     },
     "metadata": {},
     "output_type": "display_data"
    }
   ],
   "source": [
    "from matplotlib.cm import ScalarMappable\n",
    "from matplotlib.colors import Normalize\n",
    "\n",
    "df = df_gt_HR\n",
    "\n",
    "df[\"bp_id_norm\"] = df.groupby(\"bp_id\").ngroup() +1\n",
    "res = df.groupby(\"bp_id_norm\").agg({\"start\": \"min\", \"end\": max}).reset_index()\n",
    "\n",
    "# Plotting\n",
    "fig, axs = plt.subplots(2,1, figsize=(8,4),gridspec_kw={'hspace': 0.5})\n",
    "\n",
    "\n",
    "cmap = plt.get_cmap('viridis')\n",
    "norm= Normalize(vmin=res['bp_id_norm'].min(), vmax=res['bp_id_norm'].max())\n",
    "\n",
    "# Plot horizontal lines for each ID\n",
    "for index, row in res.iterrows():\n",
    "    color = cmap(norm(row[\"bp_id_norm\"]))\n",
    "    axs[0].plot([row['start'], row['end']], [row['bp_id_norm'], row['bp_id_norm']], color=color, linewidth=4)\n",
    "\n",
    "# Set labels and title\n",
    "axs[0].set_xlabel('Time')\n",
    "axs[0].set_ylabel('Case')\n",
    "axs[0].set_title('HR Process', fontweight='bold')\n",
    "\n",
    "# Set ticks on y-axis to match IDs\n",
    "axs[0].set_yticks(res['bp_id_norm'])\n",
    "axs[0].set_xticks([])\n",
    "axs[0].set_yticks([])\n",
    "axs[0].grid(False)\n",
    "\n",
    "\n",
    "axs[0].invert_yaxis()\n",
    "# Show plot\n",
    "\n",
    "\n",
    "from matplotlib.cm import ScalarMappable\n",
    "from matplotlib.colors import Normalize\n",
    "\n",
    "\n",
    "df = df_gt_PTP\n",
    "\n",
    "df[\"bp_id_norm\"] = df.groupby(\"bp_id\").ngroup() +1\n",
    "res = df.groupby(\"bp_id_norm\").agg({\"start\": \"min\", \"end\": max}).reset_index()\n",
    "\n",
    "\n",
    "cmap = plt.get_cmap('viridis')\n",
    "norm = Normalize(vmin=res['bp_id_norm'].min(), vmax=res['bp_id_norm'].max())\n",
    "\n",
    "# Plot horizontal lines for each ID\n",
    "for index, row in res.iterrows():\n",
    "    color = cmap(norm(row[\"bp_id_norm\"]))\n",
    "    axs[1].plot([row['start'], row['end']], [row['bp_id_norm'], row['bp_id_norm']], color=color, linewidth=4)\n",
    "\n",
    "# Set labels and title\n",
    "axs[1].set_xlabel('Time')\n",
    "axs[1].set_ylabel('Case')\n",
    "axs[1].set_title('PTP Process', fontweight='bold')\n",
    "\n",
    "# Set ticks on y-axis to match IDs\n",
    "axs[1].set_yticks(res['bp_id_norm'])\n",
    "axs[1].set_xticks([])\n",
    "axs[1].set_yticks([])\n",
    "axs[1].grid(False)\n",
    "\n",
    "\n",
    "axs[1].invert_yaxis()\n",
    "\n",
    "plt.savefig(\"../../output/interleaved.png\", dpi = 300,bbox_inches='tight')\n",
    "# Show plot\n",
    "plt.show()"
   ],
   "metadata": {
    "collapsed": false,
    "ExecuteTime": {
     "end_time": "2024-04-22T10:51:39.511393Z",
     "start_time": "2024-04-22T10:51:39.113819Z"
    }
   },
   "id": "41ed492a9154e07f"
  },
  {
   "cell_type": "code",
   "execution_count": 8,
   "outputs": [],
   "source": [
    "cmap = plt.get_cmap('viridis')\n",
    "norm = Normalize(vmin=0, vmax=7)"
   ],
   "metadata": {
    "collapsed": false,
    "ExecuteTime": {
     "end_time": "2024-04-22T10:51:39.513638Z",
     "start_time": "2024-04-22T10:51:39.509858Z"
    }
   },
   "id": "5ee215b8d09e532b"
  },
  {
   "cell_type": "code",
   "execution_count": 9,
   "outputs": [
    {
     "name": "stdout",
     "output_type": "stream",
     "text": [
      "\\definecolor{vir0}{rgb}{0.267004,0.004874,0.329415}\n",
      "\\definecolor{vir1}{rgb}{0.275191,0.194905,0.496005}\n",
      "\\definecolor{vir2}{rgb}{0.212395,0.359683,0.55171}\n",
      "\\definecolor{vir3}{rgb}{0.153364,0.497,0.557724}\n",
      "\\definecolor{vir4}{rgb}{0.122312,0.633153,0.530398}\n",
      "\\definecolor{vir5}{rgb}{0.288921,0.758394,0.428426}\n",
      "\\definecolor{vir6}{rgb}{0.626579,0.854645,0.223353}\n",
      "\\definecolor{vir7}{rgb}{0.993248,0.906157,0.143936}\n"
     ]
    }
   ],
   "source": [
    "for i in range(8):\n",
    "    print(f\"\\definecolor{{vir{i}}}{{rgb}}{{{cmap(norm(i))[0]},{cmap(norm(i))[1]},{cmap(norm(i))[2]}}}\")"
   ],
   "metadata": {
    "collapsed": false,
    "ExecuteTime": {
     "end_time": "2024-04-22T10:51:39.518218Z",
     "start_time": "2024-04-22T10:51:39.512655Z"
    }
   },
   "id": "bafa05f60b87e27b"
  },
  {
   "cell_type": "code",
   "execution_count": 9,
   "outputs": [],
   "source": [],
   "metadata": {
    "collapsed": false,
    "ExecuteTime": {
     "end_time": "2024-04-22T10:51:39.532250Z",
     "start_time": "2024-04-22T10:51:39.518358Z"
    }
   },
   "id": "a64c9440c446afc0"
  },
  {
   "cell_type": "code",
   "execution_count": 10,
   "outputs": [
    {
     "data": {
      "text/plain": "(0.282623, 0.140926, 0.457517, 1.0)"
     },
     "execution_count": 10,
     "metadata": {},
     "output_type": "execute_result"
    }
   ],
   "source": [
    "cmap(norm(0.7))"
   ],
   "metadata": {
    "collapsed": false,
    "ExecuteTime": {
     "end_time": "2024-04-22T10:51:39.608745Z",
     "start_time": "2024-04-22T10:51:39.527862Z"
    }
   },
   "id": "9d92615062ba9a4c"
  },
  {
   "cell_type": "code",
   "execution_count": 11,
   "outputs": [],
   "source": [
    "import ast\n",
    "from event_loop.preprocessing.dataframe import pre_process\n",
    "\n",
    "df_train_in_HR = pd.read_csv('../../data_v3/hr_extended_features.csv', converters={\"MessageAttributes\": ast.literal_eval})\n",
    "df_train_in_PTP = pd.read_csv('../../data/VALID/R1/R1.csv', converters={\"MessageAttributes\": ast.literal_eval})\n",
    "df_train_HR = pre_process(df_train_in_HR)\n",
    "df_train_PTP = pre_process(df_train_in_PTP)"
   ],
   "metadata": {
    "collapsed": false,
    "ExecuteTime": {
     "end_time": "2024-04-22T10:52:58.398262Z",
     "start_time": "2024-04-22T10:51:39.531890Z"
    }
   },
   "id": "d73cfc3c98968528"
  },
  {
   "cell_type": "code",
   "execution_count": 12,
   "outputs": [],
   "source": [
    "hr_raw = pd.read_csv(\"../../data/TRAIN/R1/R1.csv\")"
   ],
   "metadata": {
    "collapsed": false,
    "ExecuteTime": {
     "end_time": "2024-04-22T10:53:03.242492Z",
     "start_time": "2024-04-22T10:52:58.397773Z"
    }
   },
   "id": "33f15ba6e508c1a1"
  },
  {
   "cell_type": "markdown",
   "source": [
    "# Descriptive Data Analysis"
   ],
   "metadata": {
    "collapsed": false
   },
   "id": "610e06886885f88b"
  },
  {
   "cell_type": "code",
   "execution_count": 13,
   "outputs": [
    {
     "data": {
      "text/plain": "132.292"
     },
     "execution_count": 13,
     "metadata": {},
     "output_type": "execute_result"
    }
   ],
   "source": [
    "# Events per Instance\n",
    "df_train_HR.groupby(\"InstanceNumber\").size().mean()"
   ],
   "metadata": {
    "collapsed": false,
    "ExecuteTime": {
     "end_time": "2024-04-22T10:53:03.254554Z",
     "start_time": "2024-04-22T10:53:03.243109Z"
    }
   },
   "id": "cc6a6b6af24896d0"
  },
  {
   "cell_type": "markdown",
   "source": [
    "Events per Instance"
   ],
   "metadata": {
    "collapsed": false
   },
   "id": "a3bbb7064d5ae51b"
  },
  {
   "cell_type": "code",
   "execution_count": 14,
   "outputs": [
    {
     "data": {
      "text/plain": "48119.149253731346"
     },
     "execution_count": 14,
     "metadata": {},
     "output_type": "execute_result"
    }
   ],
   "source": [
    "df_train_in_PTP.groupby(\"InstanceNumber\").size().mean()"
   ],
   "metadata": {
    "collapsed": false,
    "ExecuteTime": {
     "end_time": "2024-04-22T10:53:03.309452Z",
     "start_time": "2024-04-22T10:53:03.249073Z"
    }
   },
   "id": "104dae180a5a76ad"
  },
  {
   "cell_type": "code",
   "execution_count": 15,
   "outputs": [
    {
     "data": {
      "text/plain": "10644.204902560305"
     },
     "execution_count": 15,
     "metadata": {},
     "output_type": "execute_result"
    }
   ],
   "source": [
    "df_train_in_PTP.groupby(\"InstanceNumber\").size().std()"
   ],
   "metadata": {
    "collapsed": false,
    "ExecuteTime": {
     "end_time": "2024-04-22T10:53:03.364304Z",
     "start_time": "2024-04-22T10:53:03.294703Z"
    }
   },
   "id": "a2d8f551694c24fe"
  },
  {
   "cell_type": "code",
   "execution_count": 16,
   "outputs": [
    {
     "data": {
      "text/plain": "6424.728"
     },
     "execution_count": 16,
     "metadata": {},
     "output_type": "execute_result"
    }
   ],
   "source": [
    "hr_raw.groupby(\"InstanceNumber\").size().mean()"
   ],
   "metadata": {
    "collapsed": false,
    "ExecuteTime": {
     "end_time": "2024-04-22T10:53:03.376922Z",
     "start_time": "2024-04-22T10:53:03.330955Z"
    }
   },
   "id": "bb008cbed7e602f"
  },
  {
   "cell_type": "code",
   "execution_count": 17,
   "outputs": [
    {
     "data": {
      "text/plain": "4578.813346344076"
     },
     "execution_count": 17,
     "metadata": {},
     "output_type": "execute_result"
    }
   ],
   "source": [
    "hr_raw.groupby(\"InstanceNumber\").size().std()"
   ],
   "metadata": {
    "collapsed": false,
    "ExecuteTime": {
     "end_time": "2024-04-22T10:53:03.389588Z",
     "start_time": "2024-04-22T10:53:03.351480Z"
    }
   },
   "id": "d39e1324be7b6533"
  },
  {
   "cell_type": "markdown",
   "source": [
    "Events per Activity"
   ],
   "metadata": {
    "collapsed": false
   },
   "id": "5e912eb4fdb2e730"
  },
  {
   "cell_type": "code",
   "execution_count": 18,
   "outputs": [
    {
     "name": "stdout",
     "output_type": "stream",
     "text": [
      "PTP_Raw Case Level 48119.149253731346 +- 10644.204902560305\n"
     ]
    }
   ],
   "source": [
    "print(\"PTP_Raw Case Level\",df_train_in_PTP.groupby([\"InstanceNumber\"]).size().mean(),\"+-\",df_train_in_PTP.groupby([\"InstanceNumber\"]).size().std())"
   ],
   "metadata": {
    "collapsed": false,
    "ExecuteTime": {
     "end_time": "2024-04-22T10:53:03.446210Z",
     "start_time": "2024-04-22T10:53:03.371716Z"
    }
   },
   "id": "108fa71ee76c2a40"
  },
  {
   "cell_type": "code",
   "execution_count": 19,
   "outputs": [
    {
     "name": "stdout",
     "output_type": "stream",
     "text": [
      "PTP_Raw Activity Level 6773.073529411765 +- 9005.485252471228\n"
     ]
    }
   ],
   "source": [
    "print(\"PTP_Raw Activity Level\",df_train_in_PTP.groupby([\"InstanceNumber\",\"BusinessActivity\"]).size().mean(),\"+-\",df_train_in_PTP.groupby([\"InstanceNumber\",\"BusinessActivity\"]).size().std())"
   ],
   "metadata": {
    "collapsed": false,
    "ExecuteTime": {
     "end_time": "2024-04-22T10:53:03.772600Z",
     "start_time": "2024-04-22T10:53:03.441628Z"
    }
   },
   "id": "730388526ef1d27a"
  },
  {
   "cell_type": "code",
   "execution_count": 20,
   "outputs": [
    {
     "name": "stdout",
     "output_type": "stream",
     "text": [
      "HR_Raw Case Level 6424.728 +- 4578.813346344076\n"
     ]
    }
   ],
   "source": [
    "print(\"HR_Raw Case Level\",hr_raw.groupby([\"InstanceNumber\"]).size().mean(),\"+-\",hr_raw.groupby([\"InstanceNumber\",]).size().std())"
   ],
   "metadata": {
    "collapsed": false,
    "ExecuteTime": {
     "end_time": "2024-04-22T10:53:03.812635Z",
     "start_time": "2024-04-22T10:53:03.772761Z"
    }
   },
   "id": "606ec5408e910de9"
  },
  {
   "cell_type": "code",
   "execution_count": 21,
   "outputs": [
    {
     "name": "stdout",
     "output_type": "stream",
     "text": [
      "HR_Raw Activity Level 1721.524115755627 +- 921.1206453273526\n"
     ]
    }
   ],
   "source": [
    "print(\"HR_Raw Activity Level\",hr_raw.groupby([\"InstanceNumber\",\"BusinessActivity\"]).size().mean(),\"+-\",hr_raw.groupby([\"InstanceNumber\",\"BusinessActivity\"]).size().std())"
   ],
   "metadata": {
    "collapsed": false,
    "ExecuteTime": {
     "end_time": "2024-04-22T10:53:04.012042Z",
     "start_time": "2024-04-22T10:53:03.816376Z"
    }
   },
   "id": "cf0cd939e52ad3cd"
  },
  {
   "cell_type": "code",
   "execution_count": 22,
   "outputs": [
    {
     "data": {
      "text/plain": "1721.524115755627"
     },
     "execution_count": 22,
     "metadata": {},
     "output_type": "execute_result"
    }
   ],
   "source": [
    "hr_raw.groupby([\"InstanceNumber\",\"BusinessActivity\"]).size().mean()"
   ],
   "metadata": {
    "collapsed": false,
    "ExecuteTime": {
     "end_time": "2024-04-22T10:53:04.107469Z",
     "start_time": "2024-04-22T10:53:04.010761Z"
    }
   },
   "id": "d17e8eb86b86c3"
  },
  {
   "cell_type": "code",
   "execution_count": 23,
   "outputs": [
    {
     "data": {
      "text/plain": "921.1206453273526"
     },
     "execution_count": 23,
     "metadata": {},
     "output_type": "execute_result"
    }
   ],
   "source": [
    "hr_raw.groupby([\"InstanceNumber\",\"BusinessActivity\"]).size().std()"
   ],
   "metadata": {
    "collapsed": false,
    "ExecuteTime": {
     "end_time": "2024-04-22T10:53:04.207069Z",
     "start_time": "2024-04-22T10:53:04.107153Z"
    }
   },
   "id": "44892ee2a2ba0f61"
  },
  {
   "cell_type": "code",
   "execution_count": 24,
   "outputs": [
    {
     "data": {
      "text/plain": "402.3134328358209"
     },
     "execution_count": 24,
     "metadata": {},
     "output_type": "execute_result"
    }
   ],
   "source": [
    "df_train_PTP.groupby([\"InstanceNumber\"]).size().mean()"
   ],
   "metadata": {
    "collapsed": false,
    "ExecuteTime": {
     "end_time": "2024-04-22T10:53:04.212861Z",
     "start_time": "2024-04-22T10:53:04.206864Z"
    }
   },
   "id": "efebc80e4148687b"
  },
  {
   "cell_type": "code",
   "execution_count": 25,
   "outputs": [
    {
     "data": {
      "text/plain": "65.90464547677261"
     },
     "execution_count": 25,
     "metadata": {},
     "output_type": "execute_result"
    }
   ],
   "source": [
    "df_train_PTP.groupby([\"InstanceNumber\",\"BusinessActivity\"]).size().mean()"
   ],
   "metadata": {
    "collapsed": false,
    "ExecuteTime": {
     "end_time": "2024-04-22T10:53:04.226901Z",
     "start_time": "2024-04-22T10:53:04.211239Z"
    }
   },
   "id": "50edb500ffe7f19d"
  },
  {
   "cell_type": "code",
   "execution_count": 26,
   "outputs": [
    {
     "data": {
      "text/plain": "132.292"
     },
     "execution_count": 26,
     "metadata": {},
     "output_type": "execute_result"
    }
   ],
   "source": [
    "df_train_HR.groupby([\"InstanceNumber\"]).size().mean()"
   ],
   "metadata": {
    "collapsed": false,
    "ExecuteTime": {
     "end_time": "2024-04-22T10:53:04.227251Z",
     "start_time": "2024-04-22T10:53:04.217897Z"
    }
   },
   "id": "c1179447600930b5"
  },
  {
   "cell_type": "code",
   "execution_count": 27,
   "outputs": [
    {
     "data": {
      "text/plain": "35.448017148981776"
     },
     "execution_count": 27,
     "metadata": {},
     "output_type": "execute_result"
    }
   ],
   "source": [
    "df_train_HR.groupby([\"InstanceNumber\",\"BusinessActivity\"]).size().mean()"
   ],
   "metadata": {
    "collapsed": false,
    "ExecuteTime": {
     "end_time": "2024-04-22T10:53:04.286737Z",
     "start_time": "2024-04-22T10:53:04.222297Z"
    }
   },
   "id": "1f95d1e65ffc544c"
  },
  {
   "cell_type": "code",
   "execution_count": 28,
   "outputs": [
    {
     "data": {
      "text/plain": "BusinessActivity\nResumeReviewActivity               458690\nScheduleAnInterviewMeeting         264982\nScheduleAnInterviewActivityCall    255832\nPerformAnInterviewMeeting          205968\nPerformAnInterviewCall             188943\nGenerateJobApplicationActivity     140032\nContractProposal                    91735\nName: count, dtype: int64"
     },
     "execution_count": 28,
     "metadata": {},
     "output_type": "execute_result"
    }
   ],
   "source": [
    "hr_raw[\"BusinessActivity\"].value_counts()"
   ],
   "metadata": {
    "collapsed": false,
    "ExecuteTime": {
     "end_time": "2024-04-22T10:53:04.324866Z",
     "start_time": "2024-04-22T10:53:04.279508Z"
    }
   },
   "id": "edc331a29274c0a1"
  },
  {
   "cell_type": "code",
   "execution_count": 29,
   "outputs": [
    {
     "data": {
      "text/plain": "BusinessActivity\nCreateRfq                1805307\nCreatePurchaseOrder       540783\nSubmitPayment             304507\nCreatePurchaseRequest     181031\nReceiveGoods              122491\nBidSelection              110564\nCreateCallForTender       110204\nVendorResponse             49096\nName: count, dtype: int64"
     },
     "execution_count": 29,
     "metadata": {},
     "output_type": "execute_result"
    }
   ],
   "source": [
    "df_train_in_PTP[\"BusinessActivity\"].value_counts()"
   ],
   "metadata": {
    "collapsed": false,
    "ExecuteTime": {
     "end_time": "2024-04-22T10:53:04.380961Z",
     "start_time": "2024-04-22T10:53:04.380509Z"
    }
   },
   "id": "248d747d35476777"
  },
  {
   "cell_type": "code",
   "execution_count": 30,
   "outputs": [
    {
     "data": {
      "text/plain": "        Unnamed: 0                                FileName  \\\n1255          1255  GenerateJobApplicationActivity_10.pcap   \n1256          1256  GenerateJobApplicationActivity_10.pcap   \n1257          1257  GenerateJobApplicationActivity_10.pcap   \n1258          1258  GenerateJobApplicationActivity_10.pcap   \n1259          1259  GenerateJobApplicationActivity_10.pcap   \n...            ...                                     ...   \n144110      144110            ResumeReviewActivity_10.pcap   \n144111      144111            ResumeReviewActivity_10.pcap   \n144112      144112            ResumeReviewActivity_10.pcap   \n144113      144113            ResumeReviewActivity_10.pcap   \n144114      144114            ResumeReviewActivity_10.pcap   \n\n                      BusinessActivity  InstanceNumber  \\\n1255    GenerateJobApplicationActivity              10   \n1256    GenerateJobApplicationActivity              10   \n1257    GenerateJobApplicationActivity              10   \n1258    GenerateJobApplicationActivity              10   \n1259    GenerateJobApplicationActivity              10   \n...                                ...             ...   \n144110            ResumeReviewActivity              10   \n144111            ResumeReviewActivity              10   \n144112            ResumeReviewActivity              10   \n144113            ResumeReviewActivity              10   \n144114            ResumeReviewActivity              10   \n\n              synthetic_sniff_time    synthetic_sniff_time_str  \\\n1255    2020-05-12 23:28:06.769654  2020-05-12 23:28:06.769654   \n1256    2020-05-12 23:28:09.559933  2020-05-12 23:28:09.559933   \n1257    2020-05-12 23:28:09.559933  2020-05-12 23:28:09.559933   \n1258    2020-05-12 23:28:09.559933  2020-05-12 23:28:09.559933   \n1259    2020-05-12 23:28:09.559933  2020-05-12 23:28:09.559933   \n...                            ...                         ...   \n144110  2020-05-13 16:34:01.934501  2020-05-13 16:34:01.934501   \n144111  2020-05-13 16:34:01.934501  2020-05-13 16:34:01.934501   \n144112  2020-05-13 16:34:01.934501  2020-05-13 16:34:01.934501   \n144113  2020-05-13 16:34:09.285236  2020-05-13 16:34:09.285236   \n144114  2020-05-13 16:34:15.725880  2020-05-13 16:34:15.725880   \n\n                  session_generalized HighestLayerProtocol  \\\n1255    192.168.11.1-192.168.11.2 (1)                pgsql   \n1256    192.168.11.1-192.168.11.2 (1)                pgsql   \n1257    192.168.11.1-192.168.11.2 (1)                pgsql   \n1258    192.168.11.1-192.168.11.2 (1)                pgsql   \n1259    192.168.11.1-192.168.11.2 (1)                pgsql   \n...                               ...                  ...   \n144110  192.168.11.1-192.168.11.2 (4)                pgsql   \n144111  192.168.11.1-192.168.11.2 (4)                pgsql   \n144112  192.168.11.1-192.168.11.2 (4)                pgsql   \n144113  192.168.11.2-192.168.11.6 (5)                 http   \n144114  192.168.11.2-192.168.11.6 (5)                  tcp   \n\n                                     MessageType_WithRole  \\\n1255    Odoo Application->db Server/Mail Server:[Pgsql...   \n1256    db Server/Mail Server->Odoo Application:[Pgsql...   \n1257    db Server/Mail Server->Odoo Application:[Pgsql...   \n1258    db Server/Mail Server->Odoo Application:[Pgsql...   \n1259    db Server/Mail Server->Odoo Application:[Pgsql...   \n...                                                   ...   \n144110  db Server/Mail Server->Odoo Application:[Pgsql...   \n144111  db Server/Mail Server->Odoo Application:[Pgsql...   \n144112  db Server/Mail Server->Odoo Application:[Pgsql...   \n144113  Odoo Application->End Point (HR Manager):[Http...   \n144114  End Point (HR Manager)->Odoo Application:[Conn...   \n\n                             MessageType  \\\n1255           PgsqlRequest:Simple query   \n1256      PgsqlResponse:Parameter status   \n1257      PgsqlResponse:Parameter status   \n1258    PgsqlResponse:Command completion   \n1259       PgsqlResponse:Ready for query   \n...                                  ...   \n144110  PgsqlResponse:Command completion   \n144111    PgsqlResponse:Parameter status   \n144112     PgsqlResponse:Ready for query   \n144113  HttpResponse:HTTP/1.0 200 OK\\r\\n   \n144114           Connection finish (FIN)   \n\n                                        MessageAttributes  \n1255    {'pgsql.type': 'Simple query', 'pgsql.length':...  \n1256    {'pgsql.type': 'Parameter status', 'pgsql.leng...  \n1257    {'pgsql.type': 'Parameter status', 'pgsql.leng...  \n1258    {'pgsql.type': 'Command completion', 'pgsql.le...  \n1259    {'pgsql.type': 'Ready for query', 'pgsql.lengt...  \n...                                                   ...  \n144110  {'pgsql.type': 'Command completion', 'pgsql.le...  \n144111  {'pgsql.type': 'Parameter status', 'pgsql.leng...  \n144112  {'pgsql.type': 'Ready for query', 'pgsql.lengt...  \n144113  {'': 'HTTP/1.0 200 OK\\\\r\\\\n', '_ws.expert': 'E...  \n144114                                                 {}  \n\n[2560 rows x 11 columns]",
      "text/html": "<div>\n<style scoped>\n    .dataframe tbody tr th:only-of-type {\n        vertical-align: middle;\n    }\n\n    .dataframe tbody tr th {\n        vertical-align: top;\n    }\n\n    .dataframe thead th {\n        text-align: right;\n    }\n</style>\n<table border=\"1\" class=\"dataframe\">\n  <thead>\n    <tr style=\"text-align: right;\">\n      <th></th>\n      <th>Unnamed: 0</th>\n      <th>FileName</th>\n      <th>BusinessActivity</th>\n      <th>InstanceNumber</th>\n      <th>synthetic_sniff_time</th>\n      <th>synthetic_sniff_time_str</th>\n      <th>session_generalized</th>\n      <th>HighestLayerProtocol</th>\n      <th>MessageType_WithRole</th>\n      <th>MessageType</th>\n      <th>MessageAttributes</th>\n    </tr>\n  </thead>\n  <tbody>\n    <tr>\n      <th>1255</th>\n      <td>1255</td>\n      <td>GenerateJobApplicationActivity_10.pcap</td>\n      <td>GenerateJobApplicationActivity</td>\n      <td>10</td>\n      <td>2020-05-12 23:28:06.769654</td>\n      <td>2020-05-12 23:28:06.769654</td>\n      <td>192.168.11.1-192.168.11.2 (1)</td>\n      <td>pgsql</td>\n      <td>Odoo Application-&gt;db Server/Mail Server:[Pgsql...</td>\n      <td>PgsqlRequest:Simple query</td>\n      <td>{'pgsql.type': 'Simple query', 'pgsql.length':...</td>\n    </tr>\n    <tr>\n      <th>1256</th>\n      <td>1256</td>\n      <td>GenerateJobApplicationActivity_10.pcap</td>\n      <td>GenerateJobApplicationActivity</td>\n      <td>10</td>\n      <td>2020-05-12 23:28:09.559933</td>\n      <td>2020-05-12 23:28:09.559933</td>\n      <td>192.168.11.1-192.168.11.2 (1)</td>\n      <td>pgsql</td>\n      <td>db Server/Mail Server-&gt;Odoo Application:[Pgsql...</td>\n      <td>PgsqlResponse:Parameter status</td>\n      <td>{'pgsql.type': 'Parameter status', 'pgsql.leng...</td>\n    </tr>\n    <tr>\n      <th>1257</th>\n      <td>1257</td>\n      <td>GenerateJobApplicationActivity_10.pcap</td>\n      <td>GenerateJobApplicationActivity</td>\n      <td>10</td>\n      <td>2020-05-12 23:28:09.559933</td>\n      <td>2020-05-12 23:28:09.559933</td>\n      <td>192.168.11.1-192.168.11.2 (1)</td>\n      <td>pgsql</td>\n      <td>db Server/Mail Server-&gt;Odoo Application:[Pgsql...</td>\n      <td>PgsqlResponse:Parameter status</td>\n      <td>{'pgsql.type': 'Parameter status', 'pgsql.leng...</td>\n    </tr>\n    <tr>\n      <th>1258</th>\n      <td>1258</td>\n      <td>GenerateJobApplicationActivity_10.pcap</td>\n      <td>GenerateJobApplicationActivity</td>\n      <td>10</td>\n      <td>2020-05-12 23:28:09.559933</td>\n      <td>2020-05-12 23:28:09.559933</td>\n      <td>192.168.11.1-192.168.11.2 (1)</td>\n      <td>pgsql</td>\n      <td>db Server/Mail Server-&gt;Odoo Application:[Pgsql...</td>\n      <td>PgsqlResponse:Command completion</td>\n      <td>{'pgsql.type': 'Command completion', 'pgsql.le...</td>\n    </tr>\n    <tr>\n      <th>1259</th>\n      <td>1259</td>\n      <td>GenerateJobApplicationActivity_10.pcap</td>\n      <td>GenerateJobApplicationActivity</td>\n      <td>10</td>\n      <td>2020-05-12 23:28:09.559933</td>\n      <td>2020-05-12 23:28:09.559933</td>\n      <td>192.168.11.1-192.168.11.2 (1)</td>\n      <td>pgsql</td>\n      <td>db Server/Mail Server-&gt;Odoo Application:[Pgsql...</td>\n      <td>PgsqlResponse:Ready for query</td>\n      <td>{'pgsql.type': 'Ready for query', 'pgsql.lengt...</td>\n    </tr>\n    <tr>\n      <th>...</th>\n      <td>...</td>\n      <td>...</td>\n      <td>...</td>\n      <td>...</td>\n      <td>...</td>\n      <td>...</td>\n      <td>...</td>\n      <td>...</td>\n      <td>...</td>\n      <td>...</td>\n      <td>...</td>\n    </tr>\n    <tr>\n      <th>144110</th>\n      <td>144110</td>\n      <td>ResumeReviewActivity_10.pcap</td>\n      <td>ResumeReviewActivity</td>\n      <td>10</td>\n      <td>2020-05-13 16:34:01.934501</td>\n      <td>2020-05-13 16:34:01.934501</td>\n      <td>192.168.11.1-192.168.11.2 (4)</td>\n      <td>pgsql</td>\n      <td>db Server/Mail Server-&gt;Odoo Application:[Pgsql...</td>\n      <td>PgsqlResponse:Command completion</td>\n      <td>{'pgsql.type': 'Command completion', 'pgsql.le...</td>\n    </tr>\n    <tr>\n      <th>144111</th>\n      <td>144111</td>\n      <td>ResumeReviewActivity_10.pcap</td>\n      <td>ResumeReviewActivity</td>\n      <td>10</td>\n      <td>2020-05-13 16:34:01.934501</td>\n      <td>2020-05-13 16:34:01.934501</td>\n      <td>192.168.11.1-192.168.11.2 (4)</td>\n      <td>pgsql</td>\n      <td>db Server/Mail Server-&gt;Odoo Application:[Pgsql...</td>\n      <td>PgsqlResponse:Parameter status</td>\n      <td>{'pgsql.type': 'Parameter status', 'pgsql.leng...</td>\n    </tr>\n    <tr>\n      <th>144112</th>\n      <td>144112</td>\n      <td>ResumeReviewActivity_10.pcap</td>\n      <td>ResumeReviewActivity</td>\n      <td>10</td>\n      <td>2020-05-13 16:34:01.934501</td>\n      <td>2020-05-13 16:34:01.934501</td>\n      <td>192.168.11.1-192.168.11.2 (4)</td>\n      <td>pgsql</td>\n      <td>db Server/Mail Server-&gt;Odoo Application:[Pgsql...</td>\n      <td>PgsqlResponse:Ready for query</td>\n      <td>{'pgsql.type': 'Ready for query', 'pgsql.lengt...</td>\n    </tr>\n    <tr>\n      <th>144113</th>\n      <td>144113</td>\n      <td>ResumeReviewActivity_10.pcap</td>\n      <td>ResumeReviewActivity</td>\n      <td>10</td>\n      <td>2020-05-13 16:34:09.285236</td>\n      <td>2020-05-13 16:34:09.285236</td>\n      <td>192.168.11.2-192.168.11.6 (5)</td>\n      <td>http</td>\n      <td>Odoo Application-&gt;End Point (HR Manager):[Http...</td>\n      <td>HttpResponse:HTTP/1.0 200 OK\\r\\n</td>\n      <td>{'': 'HTTP/1.0 200 OK\\\\r\\\\n', '_ws.expert': 'E...</td>\n    </tr>\n    <tr>\n      <th>144114</th>\n      <td>144114</td>\n      <td>ResumeReviewActivity_10.pcap</td>\n      <td>ResumeReviewActivity</td>\n      <td>10</td>\n      <td>2020-05-13 16:34:15.725880</td>\n      <td>2020-05-13 16:34:15.725880</td>\n      <td>192.168.11.2-192.168.11.6 (5)</td>\n      <td>tcp</td>\n      <td>End Point (HR Manager)-&gt;Odoo Application:[Conn...</td>\n      <td>Connection finish (FIN)</td>\n      <td>{}</td>\n    </tr>\n  </tbody>\n</table>\n<p>2560 rows × 11 columns</p>\n</div>"
     },
     "execution_count": 30,
     "metadata": {},
     "output_type": "execute_result"
    }
   ],
   "source": [
    "hr_raw[(hr_raw[\"InstanceNumber\"]==10 )]"
   ],
   "metadata": {
    "collapsed": false,
    "ExecuteTime": {
     "end_time": "2024-04-22T10:53:04.397922Z",
     "start_time": "2024-04-22T10:53:04.383123Z"
    }
   },
   "id": "df55c4e77885feae"
  },
  {
   "cell_type": "code",
   "execution_count": 31,
   "outputs": [
    {
     "data": {
      "text/plain": "         Unnamed: 0                     FileName      BusinessActivity  \\\n141516       141516  ResumeReviewActivity_1.pcap  ResumeReviewActivity   \n141523       141523  ResumeReviewActivity_1.pcap  ResumeReviewActivity   \n141524       141524  ResumeReviewActivity_1.pcap  ResumeReviewActivity   \n141525       141525  ResumeReviewActivity_1.pcap  ResumeReviewActivity   \n141586       141586  ResumeReviewActivity_1.pcap  ResumeReviewActivity   \n...             ...                          ...                   ...   \n1605501     1605501     ContractProposal_94.pcap      ContractProposal   \n1605507     1605507     ContractProposal_94.pcap      ContractProposal   \n1605508     1605508     ContractProposal_94.pcap      ContractProposal   \n1606054     1606054     ContractProposal_94.pcap      ContractProposal   \n1606055     1606055     ContractProposal_94.pcap      ContractProposal   \n\n         InstanceNumber        synthetic_sniff_time  \\\n141516                1  2020-05-13 17:19:55.685358   \n141523                1  2020-05-13 17:22:33.651153   \n141524                1  2020-05-13 19:55:25.538250   \n141525                1  2020-05-13 20:02:44.332125   \n141586                1  2020-05-13 20:31:54.187093   \n...                 ...                         ...   \n1605501              94  2020-05-14 20:53:16.872913   \n1605507              94  2020-05-14 20:53:20.143240   \n1605508              94  2020-05-14 20:53:50.176243   \n1606054              94  2020-05-14 20:56:42.473471   \n1606055              94  2020-05-14 20:56:43.713595   \n\n           synthetic_sniff_time_str             session_generalized  \\\n141516   2020-05-13 17:19:55.685358   192.168.11.1-192.168.11.2 (7)   \n141523   2020-05-13 17:22:33.651153   192.168.11.1-192.168.11.2 (8)   \n141524   2020-05-13 19:55:25.538250   192.168.11.1-192.168.11.2 (8)   \n141525   2020-05-13 20:02:44.332125   192.168.11.1-192.168.11.2 (8)   \n141586   2020-05-13 20:31:54.187093   192.168.11.1-192.168.11.2 (8)   \n...                             ...                             ...   \n1605501  2020-05-14 20:53:16.872913  192.168.11.1-192.168.11.2 (13)   \n1605507  2020-05-14 20:53:20.143240  192.168.11.1-192.168.11.2 (13)   \n1605508  2020-05-14 20:53:50.176243  192.168.11.1-192.168.11.2 (13)   \n1606054  2020-05-14 20:56:42.473471  192.168.11.1-192.168.11.2 (13)   \n1606055  2020-05-14 20:56:43.713595  192.168.11.1-192.168.11.2 (13)   \n\n        HighestLayerProtocol  \\\n141516                 pgsql   \n141523                  smtp   \n141524                  smtp   \n141525                  smtp   \n141586                  smtp   \n...                      ...   \n1605501                 smtp   \n1605507                 smtp   \n1605508                 smtp   \n1606054                 smtp   \n1606055                 smtp   \n\n                                      MessageType_WithRole  \\\n141516   Odoo Application->db Server/Mail Server:[Pgsql...   \n141523   db Server/Mail Server->Odoo Application:[SmtpR...   \n141524   Odoo Application->db Server/Mail Server:[SmtpR...   \n141525   db Server/Mail Server->Odoo Application:[SmtpR...   \n141586   Odoo Application->db Server/Mail Server:[SmtpR...   \n...                                                    ...   \n1605501  db Server/Mail Server->Odoo Application:[SmtpR...   \n1605507  Odoo Application->db Server/Mail Server:[SmtpR...   \n1605508  db Server/Mail Server->Odoo Application:[SmtpR...   \n1606054  Odoo Application->db Server/Mail Server:[SmtpR...   \n1606055  db Server/Mail Server->Odoo Application:[SmtpR...   \n\n                       MessageType  \\\n141516   PgsqlRequest:Simple query   \n141523            SmtpResponse:220   \n141524            SmtpRequest:ehlo   \n141525            SmtpResponse:250   \n141586            SmtpRequest:mail   \n...                            ...   \n1605501           SmtpResponse:354   \n1605507     SmtpReassembledMessage   \n1605508           SmtpResponse:250   \n1606054           SmtpRequest:quit   \n1606055           SmtpResponse:221   \n\n                                         MessageAttributes  \n141516   {'pgsql.type': 'Simple query', 'pgsql.length':...  \n141523   {'smtp.rsp': '1', 'smtp.response': '220 DC1.bp...  \n141524   {'smtp.req': '1', 'smtp.command_line': 'ehlo B...  \n141525   {'smtp.rsp': '1', 'smtp.response': '250-DC1.bp...  \n141586   {'smtp.req': '1', 'smtp.command_line': 'mail F...  \n...                                                    ...  \n1605501  {'smtp.rsp': '1', 'smtp.response': '354 Start ...  \n1605507  {'smtp.eom': 'C: .', 'smtp.data.fragments': '6...  \n1605508  {'smtp.rsp': '1', 'smtp.response': '250 2.6.0 ...  \n1606054  {'smtp.req': '1', 'smtp.command_line': 'quit\\\\...  \n1606055  {'smtp.rsp': '1', 'smtp.response': '221 2.0.0 ...  \n\n[10849 rows x 11 columns]",
      "text/html": "<div>\n<style scoped>\n    .dataframe tbody tr th:only-of-type {\n        vertical-align: middle;\n    }\n\n    .dataframe tbody tr th {\n        vertical-align: top;\n    }\n\n    .dataframe thead th {\n        text-align: right;\n    }\n</style>\n<table border=\"1\" class=\"dataframe\">\n  <thead>\n    <tr style=\"text-align: right;\">\n      <th></th>\n      <th>Unnamed: 0</th>\n      <th>FileName</th>\n      <th>BusinessActivity</th>\n      <th>InstanceNumber</th>\n      <th>synthetic_sniff_time</th>\n      <th>synthetic_sniff_time_str</th>\n      <th>session_generalized</th>\n      <th>HighestLayerProtocol</th>\n      <th>MessageType_WithRole</th>\n      <th>MessageType</th>\n      <th>MessageAttributes</th>\n    </tr>\n  </thead>\n  <tbody>\n    <tr>\n      <th>141516</th>\n      <td>141516</td>\n      <td>ResumeReviewActivity_1.pcap</td>\n      <td>ResumeReviewActivity</td>\n      <td>1</td>\n      <td>2020-05-13 17:19:55.685358</td>\n      <td>2020-05-13 17:19:55.685358</td>\n      <td>192.168.11.1-192.168.11.2 (7)</td>\n      <td>pgsql</td>\n      <td>Odoo Application-&gt;db Server/Mail Server:[Pgsql...</td>\n      <td>PgsqlRequest:Simple query</td>\n      <td>{'pgsql.type': 'Simple query', 'pgsql.length':...</td>\n    </tr>\n    <tr>\n      <th>141523</th>\n      <td>141523</td>\n      <td>ResumeReviewActivity_1.pcap</td>\n      <td>ResumeReviewActivity</td>\n      <td>1</td>\n      <td>2020-05-13 17:22:33.651153</td>\n      <td>2020-05-13 17:22:33.651153</td>\n      <td>192.168.11.1-192.168.11.2 (8)</td>\n      <td>smtp</td>\n      <td>db Server/Mail Server-&gt;Odoo Application:[SmtpR...</td>\n      <td>SmtpResponse:220</td>\n      <td>{'smtp.rsp': '1', 'smtp.response': '220 DC1.bp...</td>\n    </tr>\n    <tr>\n      <th>141524</th>\n      <td>141524</td>\n      <td>ResumeReviewActivity_1.pcap</td>\n      <td>ResumeReviewActivity</td>\n      <td>1</td>\n      <td>2020-05-13 19:55:25.538250</td>\n      <td>2020-05-13 19:55:25.538250</td>\n      <td>192.168.11.1-192.168.11.2 (8)</td>\n      <td>smtp</td>\n      <td>Odoo Application-&gt;db Server/Mail Server:[SmtpR...</td>\n      <td>SmtpRequest:ehlo</td>\n      <td>{'smtp.req': '1', 'smtp.command_line': 'ehlo B...</td>\n    </tr>\n    <tr>\n      <th>141525</th>\n      <td>141525</td>\n      <td>ResumeReviewActivity_1.pcap</td>\n      <td>ResumeReviewActivity</td>\n      <td>1</td>\n      <td>2020-05-13 20:02:44.332125</td>\n      <td>2020-05-13 20:02:44.332125</td>\n      <td>192.168.11.1-192.168.11.2 (8)</td>\n      <td>smtp</td>\n      <td>db Server/Mail Server-&gt;Odoo Application:[SmtpR...</td>\n      <td>SmtpResponse:250</td>\n      <td>{'smtp.rsp': '1', 'smtp.response': '250-DC1.bp...</td>\n    </tr>\n    <tr>\n      <th>141586</th>\n      <td>141586</td>\n      <td>ResumeReviewActivity_1.pcap</td>\n      <td>ResumeReviewActivity</td>\n      <td>1</td>\n      <td>2020-05-13 20:31:54.187093</td>\n      <td>2020-05-13 20:31:54.187093</td>\n      <td>192.168.11.1-192.168.11.2 (8)</td>\n      <td>smtp</td>\n      <td>Odoo Application-&gt;db Server/Mail Server:[SmtpR...</td>\n      <td>SmtpRequest:mail</td>\n      <td>{'smtp.req': '1', 'smtp.command_line': 'mail F...</td>\n    </tr>\n    <tr>\n      <th>...</th>\n      <td>...</td>\n      <td>...</td>\n      <td>...</td>\n      <td>...</td>\n      <td>...</td>\n      <td>...</td>\n      <td>...</td>\n      <td>...</td>\n      <td>...</td>\n      <td>...</td>\n      <td>...</td>\n    </tr>\n    <tr>\n      <th>1605501</th>\n      <td>1605501</td>\n      <td>ContractProposal_94.pcap</td>\n      <td>ContractProposal</td>\n      <td>94</td>\n      <td>2020-05-14 20:53:16.872913</td>\n      <td>2020-05-14 20:53:16.872913</td>\n      <td>192.168.11.1-192.168.11.2 (13)</td>\n      <td>smtp</td>\n      <td>db Server/Mail Server-&gt;Odoo Application:[SmtpR...</td>\n      <td>SmtpResponse:354</td>\n      <td>{'smtp.rsp': '1', 'smtp.response': '354 Start ...</td>\n    </tr>\n    <tr>\n      <th>1605507</th>\n      <td>1605507</td>\n      <td>ContractProposal_94.pcap</td>\n      <td>ContractProposal</td>\n      <td>94</td>\n      <td>2020-05-14 20:53:20.143240</td>\n      <td>2020-05-14 20:53:20.143240</td>\n      <td>192.168.11.1-192.168.11.2 (13)</td>\n      <td>smtp</td>\n      <td>Odoo Application-&gt;db Server/Mail Server:[SmtpR...</td>\n      <td>SmtpReassembledMessage</td>\n      <td>{'smtp.eom': 'C: .', 'smtp.data.fragments': '6...</td>\n    </tr>\n    <tr>\n      <th>1605508</th>\n      <td>1605508</td>\n      <td>ContractProposal_94.pcap</td>\n      <td>ContractProposal</td>\n      <td>94</td>\n      <td>2020-05-14 20:53:50.176243</td>\n      <td>2020-05-14 20:53:50.176243</td>\n      <td>192.168.11.1-192.168.11.2 (13)</td>\n      <td>smtp</td>\n      <td>db Server/Mail Server-&gt;Odoo Application:[SmtpR...</td>\n      <td>SmtpResponse:250</td>\n      <td>{'smtp.rsp': '1', 'smtp.response': '250 2.6.0 ...</td>\n    </tr>\n    <tr>\n      <th>1606054</th>\n      <td>1606054</td>\n      <td>ContractProposal_94.pcap</td>\n      <td>ContractProposal</td>\n      <td>94</td>\n      <td>2020-05-14 20:56:42.473471</td>\n      <td>2020-05-14 20:56:42.473471</td>\n      <td>192.168.11.1-192.168.11.2 (13)</td>\n      <td>smtp</td>\n      <td>Odoo Application-&gt;db Server/Mail Server:[SmtpR...</td>\n      <td>SmtpRequest:quit</td>\n      <td>{'smtp.req': '1', 'smtp.command_line': 'quit\\\\...</td>\n    </tr>\n    <tr>\n      <th>1606055</th>\n      <td>1606055</td>\n      <td>ContractProposal_94.pcap</td>\n      <td>ContractProposal</td>\n      <td>94</td>\n      <td>2020-05-14 20:56:43.713595</td>\n      <td>2020-05-14 20:56:43.713595</td>\n      <td>192.168.11.1-192.168.11.2 (13)</td>\n      <td>smtp</td>\n      <td>db Server/Mail Server-&gt;Odoo Application:[SmtpR...</td>\n      <td>SmtpResponse:221</td>\n      <td>{'smtp.rsp': '1', 'smtp.response': '221 2.0.0 ...</td>\n    </tr>\n  </tbody>\n</table>\n<p>10849 rows × 11 columns</p>\n</div>"
     },
     "execution_count": 31,
     "metadata": {},
     "output_type": "execute_result"
    }
   ],
   "source": [
    "hr_raw[hr_raw[\"MessageAttributes\"].astype(\"str\").str.contains(\"smtp\")]"
   ],
   "metadata": {
    "collapsed": false,
    "ExecuteTime": {
     "end_time": "2024-04-22T10:53:04.997962Z",
     "start_time": "2024-04-22T10:53:04.397348Z"
    }
   },
   "id": "b6ff34982e11a9ba"
  },
  {
   "cell_type": "code",
   "execution_count": 32,
   "outputs": [
    {
     "data": {
      "text/plain": "        Unnamed: 0                                FileName  \\\n599460      599460  ScheduleAnInterviewActivityCall_1.pcap   \n\n                       BusinessActivity  InstanceNumber  \\\n599460  ScheduleAnInterviewActivityCall               1   \n\n              synthetic_sniff_time    synthetic_sniff_time_str  \\\n599460  2020-05-13 15:05:14.384424  2020-05-13 15:05:14.384424   \n\n                  session_generalized HighestLayerProtocol  \\\n599460  192.168.11.2-192.168.11.6 (6)                 http   \n\n                                     MessageType_WithRole  \\\n599460  End Point (HR Manager)->Odoo Application:[Http...   \n\n                                           MessageType  \\\n599460  HttpRequest:POST /xmlrpc/2/object HTTP/1.1\\r\\n   \n\n                                        MessageAttributes  \n599460  {'': 'POST /xmlrpc/2/object HTTP/1.1\\\\r\\\\n', '...  ",
      "text/html": "<div>\n<style scoped>\n    .dataframe tbody tr th:only-of-type {\n        vertical-align: middle;\n    }\n\n    .dataframe tbody tr th {\n        vertical-align: top;\n    }\n\n    .dataframe thead th {\n        text-align: right;\n    }\n</style>\n<table border=\"1\" class=\"dataframe\">\n  <thead>\n    <tr style=\"text-align: right;\">\n      <th></th>\n      <th>Unnamed: 0</th>\n      <th>FileName</th>\n      <th>BusinessActivity</th>\n      <th>InstanceNumber</th>\n      <th>synthetic_sniff_time</th>\n      <th>synthetic_sniff_time_str</th>\n      <th>session_generalized</th>\n      <th>HighestLayerProtocol</th>\n      <th>MessageType_WithRole</th>\n      <th>MessageType</th>\n      <th>MessageAttributes</th>\n    </tr>\n  </thead>\n  <tbody>\n    <tr>\n      <th>599460</th>\n      <td>599460</td>\n      <td>ScheduleAnInterviewActivityCall_1.pcap</td>\n      <td>ScheduleAnInterviewActivityCall</td>\n      <td>1</td>\n      <td>2020-05-13 15:05:14.384424</td>\n      <td>2020-05-13 15:05:14.384424</td>\n      <td>192.168.11.2-192.168.11.6 (6)</td>\n      <td>http</td>\n      <td>End Point (HR Manager)-&gt;Odoo Application:[Http...</td>\n      <td>HttpRequest:POST /xmlrpc/2/object HTTP/1.1\\r\\n</td>\n      <td>{'': 'POST /xmlrpc/2/object HTTP/1.1\\\\r\\\\n', '...</td>\n    </tr>\n  </tbody>\n</table>\n</div>"
     },
     "execution_count": 32,
     "metadata": {},
     "output_type": "execute_result"
    }
   ],
   "source": [
    "hr_raw[hr_raw[\"synthetic_sniff_time\"] == \"2020-05-13 15:05:14.384424\"]"
   ],
   "metadata": {
    "collapsed": false,
    "ExecuteTime": {
     "end_time": "2024-04-22T10:53:05.073707Z",
     "start_time": "2024-04-22T10:53:05.048398Z"
    }
   },
   "id": "3a54bbf68de3873c"
  },
  {
   "cell_type": "code",
   "execution_count": 33,
   "outputs": [
    {
     "data": {
      "text/plain": "'{\\'\\': \\'POST /xmlrpc/2/object HTTP/1.1\\\\\\\\r\\\\\\\\n\\', \\'_ws.expert\\': \\'Expert Info (Chat/Sequence): POST /xmlrpc/2/object HTTP/1.1\\\\\\\\r\\\\\\\\n\\', \\'http.chat\\': \\'POST /xmlrpc/2/object HTTP/1.1\\\\\\\\r\\\\\\\\n\\', \\'_ws.expert.message\\': \\'POST /xmlrpc/2/object HTTP/1.1\\\\\\\\r\\\\\\\\n\\', \\'_ws.expert.severity\\': \\'2097152\\', \\'_ws.expert.group\\': \\'33554432\\', \\'http.request.method\\': \\'POST\\', \\'http.request.uri\\': \\'/xmlrpc/2/object\\', \\'http.request.version\\': \\'HTTP/1.1\\', \\'http.host\\': \\'192.168.11.2:8069\\', \\'http.request.line\\': \\'Host: 192.168.11.2:8069\\\\\\\\xd\\\\\\\\xa\\', \\'http.accept_encoding\\': \\'gzip\\', \\'http.content_type\\': \\'text/xml\\', \\'http.user_agent\\': \\'Python-xmlrpc/3.7\\', \\'http.content_length_header\\': \\'1030\\', \\'http.content_length\\': \\'1030\\', \\'http.request.full_uri\\': \\'http://192.168.11.2:8069/xmlrpc/2/object\\', \\'http.request\\': \\'1\\', \\'http.request_number\\': \\'1\\', \\'http.file_data\\': \"<?xml version=\\'1.0\\'?>\\\\\\\\xa<methodCall>\\\\\\\\xa<methodName>execute_kw</methodName>\\\\\\\\xa<params>\\\\\\\\xa<param>\\\\\\\\xa<value><string>odoo01</string></value>\\\\\\\\xa</param>\\\\\\\\xa<param>\\\\\\\\xa<value><int>6</int></value>\\\\\\\\xa</param>\\\\\\\\xa<param>\\\\\\\\xa<value><string>123456789</string></value>\\\\\\\\xa</param>\\\\\\\\xa<param>\\\\\\\\xa<value><string>mail.activity</string></value>\\\\\\\\xa</param>\\\\\\\\xa<param>\\\\\\\\xa<value><string>create</string></value>\\\\\\\\xa</param>\\\\\\\\xa<param>\\\\\\\\xa<value><array><data>\\\\\\\\xa<value><struct>\\\\\\\\xa<member>\\\\\\\\xa<name>res_model_id</name>\\\\\\\\xa<value><int>184</int></value>\\\\\\\\xa</member>\\\\\\\\xa<member>\\\\\\\\xa<name>user_id</name>\\\\\\\\xa<value><int>6</int></value>\\\\\\\\xa</member>\\\\\\\\xa<member>\\\\\\\\xa<name>res_id</name>\\\\\\\\xa<value><int>816</int></value>\\\\\\\\xa</member>\\\\\\\\xa<member>\\\\\\\\xa<name>activity_type_id</name>\\\\\\\\xa<value><int>2</int></value>\\\\\\\\xa</member>\\\\\\\\xa<member>\\\\\\\\xa<name>date_deadline</name>\\\\\\\\xa<value><string>2020-05-11</string></value>\\\\\\\\xa</member>\\\\\\\\xa<member>\\\\\\\\xa<name>summary</name>\\\\\\\\xa<value><string>Phone interview</string></value>\\\\\\\\xa</member>\\\\\\\\xa<member>\\\\\\\\xa<name>note</name>\\\\\\\\xa<value><string>Phone interview</string></value>\\\\\\\\xa</member>\\\\\\\\xa</struct></value>\\\\\\\\xa</data></array></value>\\\\\\\\xa</param>\\\\\\\\xa</params>\\\\\\\\xa</methodCall>\\\\\\\\xa\"}'"
     },
     "execution_count": 33,
     "metadata": {},
     "output_type": "execute_result"
    }
   ],
   "source": [
    "hr_raw.loc[599460][\"MessageAttributes\"]"
   ],
   "metadata": {
    "collapsed": false,
    "ExecuteTime": {
     "end_time": "2024-04-22T10:53:05.074063Z",
     "start_time": "2024-04-22T10:53:05.054985Z"
    }
   },
   "id": "98b6284cbbc3c2df"
  },
  {
   "cell_type": "code",
   "execution_count": 34,
   "outputs": [
    {
     "data": {
      "text/plain": "                   BusinessActivity  InstanceNumber  frame.number  \\\n0    GenerateJobApplicationActivity               1            26   \n1    GenerateJobApplicationActivity               1           127   \n2    GenerateJobApplicationActivity               1           135   \n3    GenerateJobApplicationActivity               1           192   \n4    GenerateJobApplicationActivity               1           216   \n..                              ...             ...           ...   \n212       PerformAnInterviewMeeting               1          1155   \n213       PerformAnInterviewMeeting               1          1192   \n214       PerformAnInterviewMeeting               1          1200   \n215       PerformAnInterviewMeeting               1          1266   \n216       PerformAnInterviewMeeting               1          1279   \n\n                     sniff_time        synthetic_sniff_time  \\\n0    2020-05-12 09:57:23.762710  2020-05-13 10:07:18.092710   \n1    2020-05-12 09:57:28.092427  2020-05-13 22:08:59.592427   \n2    2020-05-12 09:57:28.094494  2020-05-13 22:09:20.264494   \n3    2020-05-12 09:57:28.580005  2020-05-13 23:30:15.860005   \n4    2020-05-12 09:57:28.729685  2020-05-13 23:55:12.809685   \n..                          ...                         ...   \n212  2020-05-12 09:59:44.998939  2020-05-13 16:00:02.168939   \n213  2020-05-12 09:59:45.013079  2020-05-13 16:02:23.583079   \n214  2020-05-12 09:59:45.014595  2020-05-13 16:02:38.744595   \n215  2020-05-12 09:59:45.068763  2020-05-13 16:11:40.478763   \n216  2020-05-12 09:59:45.173884  2020-05-13 16:29:11.793884   \n\n                                      event_with_roles request_method_call  \\\n0    End Point (HR Manager)->Odoo Application:[Http...             version   \n1    Odoo Application->End Point (HR Manager):[Http...      server_version   \n2    End Point (HR Manager)->Odoo Application:[Http...        authenticate   \n3    Odoo Application->db Server/Mail Server:[Pgsql...                       \n4    Odoo Application->End Point (HR Manager):[Http...            IsNumber   \n..                                                 ...                 ...   \n212  Odoo Application->db Server/Mail Server:[Pgsql...                       \n213  Odoo Application->End Point (Recruiting manage...            IsNumber   \n214  End Point (Recruiting manager)->Odoo Applicati...          execute_kw   \n215  Odoo Application->db Server/Mail Server:[Pgsql...                       \n216  Odoo Application->End Point (Recruiting manage...           faultCode   \n\n                                             file_data  \\\n0                                                   []   \n1    [server_version, 12.0-20190820, server_version...   \n2         [odoo01, dana.wireless@gmail.com, 123456789]   \n3                                                        \n4                                                  [6]   \n..                                                 ...   \n212                                                      \n213                                                [1]   \n214  [odoo01, 7, 123456789, hr.applicant, archive_a...   \n215                                                      \n216                                                 []   \n\n                                           pgsql.query  \\\n0                                                        \n1                                                        \n2                                                        \n3    INSERT INTO \"res_users_log\" (\"id\", \"create_uid...   \n4                                                        \n..                                                 ...   \n212  UPDATE \"mail_message_res_partner_needaction_re...   \n213                                                      \n214                                                      \n215  UPDATE \"hr_applicant\" SET \"active\"=false,\"writ...   \n216                                                      \n\n                                pgsql.target             selective_file_data  \\\n0                                                                    version   \n1                                                             server_version   \n2                                                                              \n3                              res_users_log                                   \n4                                                                   IsNumber   \n..                                       ...                             ...   \n212  mail_message_res_partner_needaction_rel                                   \n213                                                                 IsNumber   \n214                                           hr.applicant_archive_applicant   \n215                             hr_applicant                                   \n216                                                                faultCode   \n\n    origin_method                origin_file_data  \n0                                                  \n1         version                         version  \n2                                                  \n3                                                  \n4    authenticate                                  \n..            ...                             ...  \n212                                                \n213    execute_kw   hr.applicant_write_stage_id_8  \n214                                                \n215                                                \n216    execute_kw  hr.applicant_archive_applicant  \n\n[217 rows x 13 columns]",
      "text/html": "<div>\n<style scoped>\n    .dataframe tbody tr th:only-of-type {\n        vertical-align: middle;\n    }\n\n    .dataframe tbody tr th {\n        vertical-align: top;\n    }\n\n    .dataframe thead th {\n        text-align: right;\n    }\n</style>\n<table border=\"1\" class=\"dataframe\">\n  <thead>\n    <tr style=\"text-align: right;\">\n      <th></th>\n      <th>BusinessActivity</th>\n      <th>InstanceNumber</th>\n      <th>frame.number</th>\n      <th>sniff_time</th>\n      <th>synthetic_sniff_time</th>\n      <th>event_with_roles</th>\n      <th>request_method_call</th>\n      <th>file_data</th>\n      <th>pgsql.query</th>\n      <th>pgsql.target</th>\n      <th>selective_file_data</th>\n      <th>origin_method</th>\n      <th>origin_file_data</th>\n    </tr>\n  </thead>\n  <tbody>\n    <tr>\n      <th>0</th>\n      <td>GenerateJobApplicationActivity</td>\n      <td>1</td>\n      <td>26</td>\n      <td>2020-05-12 09:57:23.762710</td>\n      <td>2020-05-13 10:07:18.092710</td>\n      <td>End Point (HR Manager)-&gt;Odoo Application:[Http...</td>\n      <td>version</td>\n      <td>[]</td>\n      <td></td>\n      <td></td>\n      <td>version</td>\n      <td></td>\n      <td></td>\n    </tr>\n    <tr>\n      <th>1</th>\n      <td>GenerateJobApplicationActivity</td>\n      <td>1</td>\n      <td>127</td>\n      <td>2020-05-12 09:57:28.092427</td>\n      <td>2020-05-13 22:08:59.592427</td>\n      <td>Odoo Application-&gt;End Point (HR Manager):[Http...</td>\n      <td>server_version</td>\n      <td>[server_version, 12.0-20190820, server_version...</td>\n      <td></td>\n      <td></td>\n      <td>server_version</td>\n      <td>version</td>\n      <td>version</td>\n    </tr>\n    <tr>\n      <th>2</th>\n      <td>GenerateJobApplicationActivity</td>\n      <td>1</td>\n      <td>135</td>\n      <td>2020-05-12 09:57:28.094494</td>\n      <td>2020-05-13 22:09:20.264494</td>\n      <td>End Point (HR Manager)-&gt;Odoo Application:[Http...</td>\n      <td>authenticate</td>\n      <td>[odoo01, dana.wireless@gmail.com, 123456789]</td>\n      <td></td>\n      <td></td>\n      <td></td>\n      <td></td>\n      <td></td>\n    </tr>\n    <tr>\n      <th>3</th>\n      <td>GenerateJobApplicationActivity</td>\n      <td>1</td>\n      <td>192</td>\n      <td>2020-05-12 09:57:28.580005</td>\n      <td>2020-05-13 23:30:15.860005</td>\n      <td>Odoo Application-&gt;db Server/Mail Server:[Pgsql...</td>\n      <td></td>\n      <td></td>\n      <td>INSERT INTO \"res_users_log\" (\"id\", \"create_uid...</td>\n      <td>res_users_log</td>\n      <td></td>\n      <td></td>\n      <td></td>\n    </tr>\n    <tr>\n      <th>4</th>\n      <td>GenerateJobApplicationActivity</td>\n      <td>1</td>\n      <td>216</td>\n      <td>2020-05-12 09:57:28.729685</td>\n      <td>2020-05-13 23:55:12.809685</td>\n      <td>Odoo Application-&gt;End Point (HR Manager):[Http...</td>\n      <td>IsNumber</td>\n      <td>[6]</td>\n      <td></td>\n      <td></td>\n      <td>IsNumber</td>\n      <td>authenticate</td>\n      <td></td>\n    </tr>\n    <tr>\n      <th>...</th>\n      <td>...</td>\n      <td>...</td>\n      <td>...</td>\n      <td>...</td>\n      <td>...</td>\n      <td>...</td>\n      <td>...</td>\n      <td>...</td>\n      <td>...</td>\n      <td>...</td>\n      <td>...</td>\n      <td>...</td>\n      <td>...</td>\n    </tr>\n    <tr>\n      <th>212</th>\n      <td>PerformAnInterviewMeeting</td>\n      <td>1</td>\n      <td>1155</td>\n      <td>2020-05-12 09:59:44.998939</td>\n      <td>2020-05-13 16:00:02.168939</td>\n      <td>Odoo Application-&gt;db Server/Mail Server:[Pgsql...</td>\n      <td></td>\n      <td></td>\n      <td>UPDATE \"mail_message_res_partner_needaction_re...</td>\n      <td>mail_message_res_partner_needaction_rel</td>\n      <td></td>\n      <td></td>\n      <td></td>\n    </tr>\n    <tr>\n      <th>213</th>\n      <td>PerformAnInterviewMeeting</td>\n      <td>1</td>\n      <td>1192</td>\n      <td>2020-05-12 09:59:45.013079</td>\n      <td>2020-05-13 16:02:23.583079</td>\n      <td>Odoo Application-&gt;End Point (Recruiting manage...</td>\n      <td>IsNumber</td>\n      <td>[1]</td>\n      <td></td>\n      <td></td>\n      <td>IsNumber</td>\n      <td>execute_kw</td>\n      <td>hr.applicant_write_stage_id_8</td>\n    </tr>\n    <tr>\n      <th>214</th>\n      <td>PerformAnInterviewMeeting</td>\n      <td>1</td>\n      <td>1200</td>\n      <td>2020-05-12 09:59:45.014595</td>\n      <td>2020-05-13 16:02:38.744595</td>\n      <td>End Point (Recruiting manager)-&gt;Odoo Applicati...</td>\n      <td>execute_kw</td>\n      <td>[odoo01, 7, 123456789, hr.applicant, archive_a...</td>\n      <td></td>\n      <td></td>\n      <td>hr.applicant_archive_applicant</td>\n      <td></td>\n      <td></td>\n    </tr>\n    <tr>\n      <th>215</th>\n      <td>PerformAnInterviewMeeting</td>\n      <td>1</td>\n      <td>1266</td>\n      <td>2020-05-12 09:59:45.068763</td>\n      <td>2020-05-13 16:11:40.478763</td>\n      <td>Odoo Application-&gt;db Server/Mail Server:[Pgsql...</td>\n      <td></td>\n      <td></td>\n      <td>UPDATE \"hr_applicant\" SET \"active\"=false,\"writ...</td>\n      <td>hr_applicant</td>\n      <td></td>\n      <td></td>\n      <td></td>\n    </tr>\n    <tr>\n      <th>216</th>\n      <td>PerformAnInterviewMeeting</td>\n      <td>1</td>\n      <td>1279</td>\n      <td>2020-05-12 09:59:45.173884</td>\n      <td>2020-05-13 16:29:11.793884</td>\n      <td>Odoo Application-&gt;End Point (Recruiting manage...</td>\n      <td>faultCode</td>\n      <td>[]</td>\n      <td></td>\n      <td></td>\n      <td>faultCode</td>\n      <td>execute_kw</td>\n      <td>hr.applicant_archive_applicant</td>\n    </tr>\n  </tbody>\n</table>\n<p>217 rows × 13 columns</p>\n</div>"
     },
     "execution_count": 34,
     "metadata": {},
     "output_type": "execute_result"
    }
   ],
   "source": [
    "df_train_HR[df_train_HR[\"InstanceNumber\"] == 1]"
   ],
   "metadata": {
    "collapsed": false,
    "ExecuteTime": {
     "end_time": "2024-04-22T10:53:05.133375Z",
     "start_time": "2024-04-22T10:53:05.058624Z"
    }
   },
   "id": "280fa64564bfd42f"
  },
  {
   "cell_type": "code",
   "execution_count": 35,
   "outputs": [
    {
     "data": {
      "text/plain": "''"
     },
     "execution_count": 35,
     "metadata": {},
     "output_type": "execute_result"
    }
   ],
   "source": [
    "df_train_HR.loc[74][\"file_data\"]"
   ],
   "metadata": {
    "collapsed": false,
    "ExecuteTime": {
     "end_time": "2024-04-22T10:53:05.161974Z",
     "start_time": "2024-04-22T10:53:05.076703Z"
    }
   },
   "id": "a8a749fa3a45490c"
  },
  {
   "cell_type": "code",
   "execution_count": 36,
   "outputs": [
    {
     "data": {
      "text/plain": "'UPDATE \"mail_activity\" SET \"res_name\"=\\'Software Engineer\\',\"write_uid\"=1,\"write_date\"=(now() at time zone \\'UTC\\') WHERE id IN (410)'"
     },
     "execution_count": 36,
     "metadata": {},
     "output_type": "execute_result"
    }
   ],
   "source": [
    "df_train_HR.loc[76][\"pgsql.query\"]"
   ],
   "metadata": {
    "collapsed": false,
    "ExecuteTime": {
     "end_time": "2024-04-22T10:53:05.162209Z",
     "start_time": "2024-04-22T10:53:05.108848Z"
    }
   },
   "id": "f86cd84f7e231120"
  },
  {
   "cell_type": "code",
   "execution_count": 38,
   "outputs": [
    {
     "data": {
      "text/plain": "event_with_roles\nOdoo Application->db Server/Mail Server:[PgsqlRequest:Simple query]: UPDATE: purchase_order          2825\nOdoo Application->db Server/Mail Server:[PgsqlRequest:Simple query]: INSERT: mail_message            2117\nOdoo Application->db Server/Mail Server:[PgsqlRequest:Simple query]: UPDATE: purchase_order_line     2069\nOdoo Application->db Server/Mail Server:[PgsqlRequest:Simple query]: INSERT: mail_tracking_value     2050\nOdoo Application->End Point (Procurement):[HttpResponse:HTTP/1.0 200 OK\\r\\n]                         1625\n                                                                                                     ... \nOdoo Application->db Server/Mail Server:[PgsqlRequest:Simple query]: INSERT: account_payment           47\nOdoo Application->db Server/Mail Server:[PgsqlRequest:Simple query]: UPDATE: product_product           26\nOdoo Application->db Server/Mail Server:[PgsqlRequest:Simple query]: INSERT: product_supplierinfo      26\nOdoo Application->db Server/Mail Server:[PgsqlRequest:Simple query]: UPDATE: product_template          26\nOdoo Application->db Server/Mail Server:[PgsqlRequest:Simple query]: INSERT: stock_quant                8\nName: count, Length: 63, dtype: int64"
     },
     "execution_count": 38,
     "metadata": {},
     "output_type": "execute_result"
    }
   ],
   "source": [
    "df_train_PTP[\"event_with_roles\"].value_counts()"
   ],
   "metadata": {
    "collapsed": false,
    "ExecuteTime": {
     "end_time": "2024-04-22T10:55:20.953677Z",
     "start_time": "2024-04-22T10:55:20.937163Z"
    }
   },
   "id": "cd8abcfd1f594dc5"
  },
  {
   "cell_type": "code",
   "execution_count": null,
   "outputs": [],
   "source": [],
   "metadata": {
    "collapsed": false
   },
   "id": "c1493e0fb9e9faa7"
  }
 ],
 "metadata": {
  "kernelspec": {
   "display_name": "Python 3",
   "language": "python",
   "name": "python3"
  },
  "language_info": {
   "codemirror_mode": {
    "name": "ipython",
    "version": 2
   },
   "file_extension": ".py",
   "mimetype": "text/x-python",
   "name": "python",
   "nbconvert_exporter": "python",
   "pygments_lexer": "ipython2",
   "version": "2.7.6"
  }
 },
 "nbformat": 4,
 "nbformat_minor": 5
}
