{
 "cells": [
  {
   "cell_type": "code",
   "execution_count": 1,
   "id": "initial_id",
   "metadata": {
    "collapsed": true,
    "ExecuteTime": {
     "end_time": "2024-02-02T09:58:08.767692Z",
     "start_time": "2024-02-02T09:58:08.746648Z"
    }
   },
   "outputs": [],
   "source": [
    "# Predict Activity from No Action Elements\n",
    "# - are there attributes that are unique for each activity?"
   ]
  },
  {
   "cell_type": "code",
   "execution_count": 2,
   "outputs": [],
   "source": [
    "import numpy as np\n",
    "import pandas as pd"
   ],
   "metadata": {
    "collapsed": false,
    "ExecuteTime": {
     "end_time": "2024-02-02T09:58:09.512324Z",
     "start_time": "2024-02-02T09:58:09.228629Z"
    }
   },
   "id": "d8986d545c138c8f"
  },
  {
   "cell_type": "code",
   "execution_count": 3,
   "outputs": [],
   "source": [
    "df = pd.read_csv('../../data_v3/hr_extended_features.csv')"
   ],
   "metadata": {
    "collapsed": false
   },
   "id": "73bcc47574b90572"
  },
  {
   "cell_type": "code",
   "execution_count": 4,
   "outputs": [],
   "source": [
    "labels = df[\"BusinessActivity\"].values"
   ],
   "metadata": {
    "collapsed": false
   },
   "id": "bd2094f54c6bd10"
  },
  {
   "cell_type": "code",
   "execution_count": 5,
   "outputs": [],
   "source": [
    "features = df[[\"event_with_roles\",\"request_method_call\", \"selective_filter_data\"]].fillna(\"\")"
   ],
   "metadata": {
    "collapsed": false
   },
   "id": "451785100444404f"
  },
  {
   "cell_type": "code",
   "execution_count": 3,
   "outputs": [],
   "source": [
    "df_gt = pd.read_csv('../../data_v3/hr_ground_truth.csv')"
   ],
   "metadata": {
    "collapsed": false,
    "ExecuteTime": {
     "end_time": "2024-02-02T09:58:32.434045Z",
     "start_time": "2024-02-02T09:58:32.406586Z"
    }
   },
   "id": "71fdfb533db408e8"
  },
  {
   "cell_type": "code",
   "execution_count": 4,
   "outputs": [],
   "source": [
    "# Chain Features 5 Events backward \n",
    "df_train = pd.read_csv('../../data_v3/hr_extended_features.csv')\n",
    "\n",
    "# Form Sequences by Grouping\n",
    "df_train = df_train.sort_values(by=[\"InstanceNumber\", \"BusinessActivity\", \"frame.number\"])\n",
    "df_train[\"SequenceNumber\"] = df_train.groupby([\"BusinessActivity\", \"InstanceNumber\"]).ngroup()\n",
    "df_train[\"SequenceNumber\"] -= df_train['SequenceNumber'].min()"
   ],
   "metadata": {
    "collapsed": false,
    "ExecuteTime": {
     "end_time": "2024-02-02T09:58:33.750408Z",
     "start_time": "2024-02-02T09:58:32.854690Z"
    }
   },
   "id": "734ba18602fe4e1d"
  },
  {
   "cell_type": "markdown",
   "source": [
    "# Random Forest"
   ],
   "metadata": {
    "collapsed": false
   },
   "id": "b39b503e3cb421bc"
  },
  {
   "cell_type": "code",
   "execution_count": 5,
   "outputs": [
    {
     "name": "stdout",
     "output_type": "stream",
     "text": [
      "Unexpected exception formatting exception. Falling back to standard exception\n"
     ]
    },
    {
     "name": "stderr",
     "output_type": "stream",
     "text": [
      "Traceback (most recent call last):\n",
      "  File \"/Users/seb/git/master_thesis/nw_event_abstraction/venv/lib/python3.9/site-packages/IPython/core/interactiveshell.py\", line 3526, in run_code\n",
      "    exec(code_obj, self.user_global_ns, self.user_ns)\n",
      "  File \"/var/folders/qt/gt7q1tn978x_02pv47b2lrvm0000gn/T/ipykernel_9273/3279782877.py\", line 3, in <module>\n",
      "    X_train, X_test, y_train, y_test = train_test_split(pd.get_dummies(features), labels, test_size=0.3, random_state=42)\n",
      "NameError: name 'features' is not defined\n",
      "\n",
      "During handling of the above exception, another exception occurred:\n",
      "\n",
      "Traceback (most recent call last):\n",
      "  File \"/Users/seb/git/master_thesis/nw_event_abstraction/venv/lib/python3.9/site-packages/IPython/core/interactiveshell.py\", line 2120, in showtraceback\n",
      "    stb = self.InteractiveTB.structured_traceback(\n",
      "  File \"/Users/seb/git/master_thesis/nw_event_abstraction/venv/lib/python3.9/site-packages/IPython/core/ultratb.py\", line 1435, in structured_traceback\n",
      "    return FormattedTB.structured_traceback(\n",
      "  File \"/Users/seb/git/master_thesis/nw_event_abstraction/venv/lib/python3.9/site-packages/IPython/core/ultratb.py\", line 1326, in structured_traceback\n",
      "    return VerboseTB.structured_traceback(\n",
      "  File \"/Users/seb/git/master_thesis/nw_event_abstraction/venv/lib/python3.9/site-packages/IPython/core/ultratb.py\", line 1173, in structured_traceback\n",
      "    formatted_exception = self.format_exception_as_a_whole(etype, evalue, etb, number_of_lines_of_context,\n",
      "  File \"/Users/seb/git/master_thesis/nw_event_abstraction/venv/lib/python3.9/site-packages/IPython/core/ultratb.py\", line 1063, in format_exception_as_a_whole\n",
      "    self.get_records(etb, number_of_lines_of_context, tb_offset) if etb else []\n",
      "  File \"/Users/seb/git/master_thesis/nw_event_abstraction/venv/lib/python3.9/site-packages/IPython/core/ultratb.py\", line 1115, in get_records\n",
      "    style = stack_data.style_with_executing_node(style, self._tb_highlight)\n",
      "  File \"/Users/seb/git/master_thesis/nw_event_abstraction/venv/lib/python3.9/site-packages/stack_data/core.py\", line 455, in style_with_executing_node\n",
      "    class NewStyle(style):\n",
      "  File \"/Users/seb/git/master_thesis/nw_event_abstraction/venv/lib/python3.9/site-packages/pygments/style.py\", line 91, in __new__\n",
      "    ndef[4] = colorformat(styledef[3:])\n",
      "  File \"/Users/seb/git/master_thesis/nw_event_abstraction/venv/lib/python3.9/site-packages/pygments/style.py\", line 58, in colorformat\n",
      "    assert False, \"wrong color format %r\" % text\n",
      "AssertionError: wrong color format 'ansiyellow'\n"
     ]
    }
   ],
   "source": [
    "from sklearn.model_selection import train_test_split\n",
    "\n",
    "X_train, X_test, y_train, y_test = train_test_split(pd.get_dummies(features), labels, test_size=0.3, random_state=42)"
   ],
   "metadata": {
    "collapsed": false,
    "ExecuteTime": {
     "end_time": "2024-02-02T09:58:34.914438Z",
     "start_time": "2024-02-02T09:58:34.394064Z"
    }
   },
   "id": "4bf353e1a16253d5"
  },
  {
   "cell_type": "code",
   "execution_count": 6,
   "outputs": [],
   "source": [
    "from sklearn.ensemble import RandomForestClassifier"
   ],
   "metadata": {
    "collapsed": false,
    "ExecuteTime": {
     "end_time": "2024-02-02T09:58:36.579085Z",
     "start_time": "2024-02-02T09:58:35.775412Z"
    }
   },
   "id": "8539c93d8aac975"
  },
  {
   "cell_type": "code",
   "execution_count": 9,
   "outputs": [],
   "source": [
    "clf = RandomForestClassifier(random_state=42)"
   ],
   "metadata": {
    "collapsed": false,
    "ExecuteTime": {
     "end_time": "2024-01-24T14:25:16.998852Z",
     "start_time": "2024-01-24T14:25:16.996675Z"
    }
   },
   "id": "f0c5de1e5f2796ba"
  },
  {
   "cell_type": "code",
   "execution_count": 7,
   "outputs": [
    {
     "name": "stdout",
     "output_type": "stream",
     "text": [
      "Unexpected exception formatting exception. Falling back to standard exception\n"
     ]
    },
    {
     "name": "stderr",
     "output_type": "stream",
     "text": [
      "Traceback (most recent call last):\n",
      "  File \"/Users/seb/git/master_thesis/nw_event_abstraction/venv/lib/python3.9/site-packages/IPython/core/interactiveshell.py\", line 3526, in run_code\n",
      "    exec(code_obj, self.user_global_ns, self.user_ns)\n",
      "  File \"/var/folders/qt/gt7q1tn978x_02pv47b2lrvm0000gn/T/ipykernel_9273/533357445.py\", line 1, in <module>\n",
      "    clf.fit(X_train, y_train)\n",
      "NameError: name 'clf' is not defined\n",
      "\n",
      "During handling of the above exception, another exception occurred:\n",
      "\n",
      "Traceback (most recent call last):\n",
      "  File \"/Users/seb/git/master_thesis/nw_event_abstraction/venv/lib/python3.9/site-packages/IPython/core/interactiveshell.py\", line 2120, in showtraceback\n",
      "    stb = self.InteractiveTB.structured_traceback(\n",
      "  File \"/Users/seb/git/master_thesis/nw_event_abstraction/venv/lib/python3.9/site-packages/IPython/core/ultratb.py\", line 1435, in structured_traceback\n",
      "    return FormattedTB.structured_traceback(\n",
      "  File \"/Users/seb/git/master_thesis/nw_event_abstraction/venv/lib/python3.9/site-packages/IPython/core/ultratb.py\", line 1326, in structured_traceback\n",
      "    return VerboseTB.structured_traceback(\n",
      "  File \"/Users/seb/git/master_thesis/nw_event_abstraction/venv/lib/python3.9/site-packages/IPython/core/ultratb.py\", line 1173, in structured_traceback\n",
      "    formatted_exception = self.format_exception_as_a_whole(etype, evalue, etb, number_of_lines_of_context,\n",
      "  File \"/Users/seb/git/master_thesis/nw_event_abstraction/venv/lib/python3.9/site-packages/IPython/core/ultratb.py\", line 1063, in format_exception_as_a_whole\n",
      "    self.get_records(etb, number_of_lines_of_context, tb_offset) if etb else []\n",
      "  File \"/Users/seb/git/master_thesis/nw_event_abstraction/venv/lib/python3.9/site-packages/IPython/core/ultratb.py\", line 1115, in get_records\n",
      "    style = stack_data.style_with_executing_node(style, self._tb_highlight)\n",
      "  File \"/Users/seb/git/master_thesis/nw_event_abstraction/venv/lib/python3.9/site-packages/stack_data/core.py\", line 455, in style_with_executing_node\n",
      "    class NewStyle(style):\n",
      "  File \"/Users/seb/git/master_thesis/nw_event_abstraction/venv/lib/python3.9/site-packages/pygments/style.py\", line 91, in __new__\n",
      "    ndef[4] = colorformat(styledef[3:])\n",
      "  File \"/Users/seb/git/master_thesis/nw_event_abstraction/venv/lib/python3.9/site-packages/pygments/style.py\", line 58, in colorformat\n",
      "    assert False, \"wrong color format %r\" % text\n",
      "AssertionError: wrong color format 'ansiyellow'\n"
     ]
    }
   ],
   "source": [
    "clf.fit(X_train, y_train)"
   ],
   "metadata": {
    "collapsed": false,
    "ExecuteTime": {
     "end_time": "2024-02-02T09:58:48.743982Z",
     "start_time": "2024-02-02T09:58:48.708105Z"
    }
   },
   "id": "b5edf1006c5259e6"
  },
  {
   "cell_type": "code",
   "execution_count": 8,
   "outputs": [
    {
     "name": "stdout",
     "output_type": "stream",
     "text": [
      "Unexpected exception formatting exception. Falling back to standard exception\n"
     ]
    },
    {
     "name": "stderr",
     "output_type": "stream",
     "text": [
      "Traceback (most recent call last):\n",
      "  File \"/Users/seb/git/master_thesis/nw_event_abstraction/venv/lib/python3.9/site-packages/IPython/core/interactiveshell.py\", line 3526, in run_code\n",
      "    exec(code_obj, self.user_global_ns, self.user_ns)\n",
      "  File \"/var/folders/qt/gt7q1tn978x_02pv47b2lrvm0000gn/T/ipykernel_9273/1983594605.py\", line 2, in <module>\n",
      "    pred = clf.predict(X_test)\n",
      "NameError: name 'clf' is not defined\n",
      "\n",
      "During handling of the above exception, another exception occurred:\n",
      "\n",
      "Traceback (most recent call last):\n",
      "  File \"/Users/seb/git/master_thesis/nw_event_abstraction/venv/lib/python3.9/site-packages/IPython/core/interactiveshell.py\", line 2120, in showtraceback\n",
      "    stb = self.InteractiveTB.structured_traceback(\n",
      "  File \"/Users/seb/git/master_thesis/nw_event_abstraction/venv/lib/python3.9/site-packages/IPython/core/ultratb.py\", line 1435, in structured_traceback\n",
      "    return FormattedTB.structured_traceback(\n",
      "  File \"/Users/seb/git/master_thesis/nw_event_abstraction/venv/lib/python3.9/site-packages/IPython/core/ultratb.py\", line 1326, in structured_traceback\n",
      "    return VerboseTB.structured_traceback(\n",
      "  File \"/Users/seb/git/master_thesis/nw_event_abstraction/venv/lib/python3.9/site-packages/IPython/core/ultratb.py\", line 1173, in structured_traceback\n",
      "    formatted_exception = self.format_exception_as_a_whole(etype, evalue, etb, number_of_lines_of_context,\n",
      "  File \"/Users/seb/git/master_thesis/nw_event_abstraction/venv/lib/python3.9/site-packages/IPython/core/ultratb.py\", line 1063, in format_exception_as_a_whole\n",
      "    self.get_records(etb, number_of_lines_of_context, tb_offset) if etb else []\n",
      "  File \"/Users/seb/git/master_thesis/nw_event_abstraction/venv/lib/python3.9/site-packages/IPython/core/ultratb.py\", line 1115, in get_records\n",
      "    style = stack_data.style_with_executing_node(style, self._tb_highlight)\n",
      "  File \"/Users/seb/git/master_thesis/nw_event_abstraction/venv/lib/python3.9/site-packages/stack_data/core.py\", line 455, in style_with_executing_node\n",
      "    class NewStyle(style):\n",
      "  File \"/Users/seb/git/master_thesis/nw_event_abstraction/venv/lib/python3.9/site-packages/pygments/style.py\", line 91, in __new__\n",
      "    ndef[4] = colorformat(styledef[3:])\n",
      "  File \"/Users/seb/git/master_thesis/nw_event_abstraction/venv/lib/python3.9/site-packages/pygments/style.py\", line 58, in colorformat\n",
      "    assert False, \"wrong color format %r\" % text\n",
      "AssertionError: wrong color format 'ansiyellow'\n"
     ]
    }
   ],
   "source": [
    "from sklearn.metrics import classification_report\n",
    "pred = clf.predict(X_test)\n",
    "print(classification_report(y_test, pred))"
   ],
   "metadata": {
    "collapsed": false,
    "ExecuteTime": {
     "end_time": "2024-02-02T09:58:49.476643Z",
     "start_time": "2024-02-02T09:58:49.450858Z"
    }
   },
   "id": "64a57cb43140aee1"
  },
  {
   "cell_type": "markdown",
   "source": [
    "# Sequence Classification Using CRF"
   ],
   "metadata": {
    "collapsed": false
   },
   "id": "3fd0157899cf1767"
  },
  {
   "cell_type": "code",
   "execution_count": 9,
   "outputs": [],
   "source": [
    "# Divides dataframe into arrays according to to Sequence Data Indicator\n",
    "def sequence_by_activities(data, seq_data): \n",
    "    return [data[seq_data == i].values for i in range(seq_data.max())]\n",
    "\n",
    "\n",
    "cols = [\"event_with_roles\",\"request_method_call\",\"selective_filter_data\",\"origin_selective_filter_data\",\"BusinessActivity\"]\n",
    "\n",
    "train_data = sequence_by_activities(df_train[cols], df_train[\"SequenceNumber\"])\n",
    "train_labels = [seq[:,-1].tolist() for seq in train_data]"
   ],
   "metadata": {
    "collapsed": false,
    "ExecuteTime": {
     "end_time": "2024-02-02T09:58:52.135619Z",
     "start_time": "2024-02-02T09:58:52.050795Z"
    }
   },
   "id": "9c2cda8e72ba1638"
  },
  {
   "cell_type": "code",
   "execution_count": 10,
   "outputs": [],
   "source": [
    "def seq2features(seq, bw, fw ,feature_list): \n",
    "    # seq [0] = Position in Sequence\n",
    "    # seq [0,4] = Feature 4 an Position 0 \n",
    "    return [event2features(seq,i, bw, fw, feature_list) for i in range(len(seq))]\n",
    "\n",
    "\n",
    "def event2features(seq, i,bw, fw, feature_list): \n",
    "    \n",
    "    features = {\"bias\": 1.0}\n",
    "    # event features \n",
    "    features.update( {\n",
    "        f\"0:{feature_list[j]}\": seq[i,j] for j in range(len(feature_list))        \n",
    "    })\n",
    "    \n",
    "    # backward features 1...bw\n",
    "    for k in range(1,bw+1): \n",
    "        index = i - k\n",
    "        if index >= 0: \n",
    "            features.update({\n",
    "                f\"-{k}:{feature_list[j]}\" : seq[index,j] for j in range(len(feature_list))\n",
    "            })\n",
    "        else: \n",
    "             features.update({\n",
    "                f\"-{k}:{feature_list[j]}\" : \"NoMessage\" for j in range(len(feature_list))\n",
    "            })\n",
    "              \n",
    "    # forward features 1...fw\n",
    "    for k in range(1, fw+1): \n",
    "        index = i + k\n",
    "        if index < len(seq): \n",
    "            features.update({\n",
    "                f\"+{k}:{feature_list[j]}\" : seq[index, j] for j in range(len(feature_list))\n",
    "            })\n",
    "        else: \n",
    "            features.update({\n",
    "                f\"+{k}:{feature_list[j]}\": \"NoMessage\" for j in range(len(feature_list))\n",
    "            })\n",
    "            \n",
    "    # remove all empty String features        \n",
    "    #features = {key: value for key, value in features.items() if value != ''}\n",
    "    return features"
   ],
   "metadata": {
    "collapsed": false,
    "ExecuteTime": {
     "end_time": "2024-02-02T09:58:52.671569Z",
     "start_time": "2024-02-02T09:58:52.644721Z"
    }
   },
   "id": "25ed991747897abb"
  },
  {
   "cell_type": "code",
   "execution_count": 11,
   "outputs": [],
   "source": [
    "features = [\"event_with_roles\",\"request_method_call\",\"selective_filter_data\",\"origin_selective_filter_data\"]\n",
    "bw = 5\n",
    "fw = 0\n",
    "train_features = [seq2features(s, bw,fw, features) for s in train_data]\n",
    "#test_features = [seq2features(s, bw,fw,features) for s in test_data]"
   ],
   "metadata": {
    "collapsed": false,
    "ExecuteTime": {
     "end_time": "2024-02-02T09:58:53.880083Z",
     "start_time": "2024-02-02T09:58:53.641120Z"
    }
   },
   "id": "607df0fe9a361918"
  },
  {
   "cell_type": "code",
   "execution_count": 12,
   "outputs": [],
   "source": [
    "X_train, X_test, y_train, y_test = train_test_split(train_features, train_labels, test_size=0.5, random_state=42, shuffle=True)"
   ],
   "metadata": {
    "collapsed": false,
    "ExecuteTime": {
     "end_time": "2024-02-02T09:58:54.782774Z",
     "start_time": "2024-02-02T09:58:54.754638Z"
    }
   },
   "id": "7db5c992eedb290a"
  },
  {
   "cell_type": "code",
   "execution_count": 13,
   "outputs": [
    {
     "name": "stdout",
     "output_type": "stream",
     "text": [
      "CPU times: user 1.44 s, sys: 36.5 ms, total: 1.48 s\n",
      "Wall time: 1.75 s\n"
     ]
    },
    {
     "data": {
      "text/plain": "CRF(algorithm='lbfgs', max_iterations=200)",
      "text/html": "<style>#sk-container-id-1 {color: black;}#sk-container-id-1 pre{padding: 0;}#sk-container-id-1 div.sk-toggleable {background-color: white;}#sk-container-id-1 label.sk-toggleable__label {cursor: pointer;display: block;width: 100%;margin-bottom: 0;padding: 0.3em;box-sizing: border-box;text-align: center;}#sk-container-id-1 label.sk-toggleable__label-arrow:before {content: \"▸\";float: left;margin-right: 0.25em;color: #696969;}#sk-container-id-1 label.sk-toggleable__label-arrow:hover:before {color: black;}#sk-container-id-1 div.sk-estimator:hover label.sk-toggleable__label-arrow:before {color: black;}#sk-container-id-1 div.sk-toggleable__content {max-height: 0;max-width: 0;overflow: hidden;text-align: left;background-color: #f0f8ff;}#sk-container-id-1 div.sk-toggleable__content pre {margin: 0.2em;color: black;border-radius: 0.25em;background-color: #f0f8ff;}#sk-container-id-1 input.sk-toggleable__control:checked~div.sk-toggleable__content {max-height: 200px;max-width: 100%;overflow: auto;}#sk-container-id-1 input.sk-toggleable__control:checked~label.sk-toggleable__label-arrow:before {content: \"▾\";}#sk-container-id-1 div.sk-estimator input.sk-toggleable__control:checked~label.sk-toggleable__label {background-color: #d4ebff;}#sk-container-id-1 div.sk-label input.sk-toggleable__control:checked~label.sk-toggleable__label {background-color: #d4ebff;}#sk-container-id-1 input.sk-hidden--visually {border: 0;clip: rect(1px 1px 1px 1px);clip: rect(1px, 1px, 1px, 1px);height: 1px;margin: -1px;overflow: hidden;padding: 0;position: absolute;width: 1px;}#sk-container-id-1 div.sk-estimator {font-family: monospace;background-color: #f0f8ff;border: 1px dotted black;border-radius: 0.25em;box-sizing: border-box;margin-bottom: 0.5em;}#sk-container-id-1 div.sk-estimator:hover {background-color: #d4ebff;}#sk-container-id-1 div.sk-parallel-item::after {content: \"\";width: 100%;border-bottom: 1px solid gray;flex-grow: 1;}#sk-container-id-1 div.sk-label:hover label.sk-toggleable__label {background-color: #d4ebff;}#sk-container-id-1 div.sk-serial::before {content: \"\";position: absolute;border-left: 1px solid gray;box-sizing: border-box;top: 0;bottom: 0;left: 50%;z-index: 0;}#sk-container-id-1 div.sk-serial {display: flex;flex-direction: column;align-items: center;background-color: white;padding-right: 0.2em;padding-left: 0.2em;position: relative;}#sk-container-id-1 div.sk-item {position: relative;z-index: 1;}#sk-container-id-1 div.sk-parallel {display: flex;align-items: stretch;justify-content: center;background-color: white;position: relative;}#sk-container-id-1 div.sk-item::before, #sk-container-id-1 div.sk-parallel-item::before {content: \"\";position: absolute;border-left: 1px solid gray;box-sizing: border-box;top: 0;bottom: 0;left: 50%;z-index: -1;}#sk-container-id-1 div.sk-parallel-item {display: flex;flex-direction: column;z-index: 1;position: relative;background-color: white;}#sk-container-id-1 div.sk-parallel-item:first-child::after {align-self: flex-end;width: 50%;}#sk-container-id-1 div.sk-parallel-item:last-child::after {align-self: flex-start;width: 50%;}#sk-container-id-1 div.sk-parallel-item:only-child::after {width: 0;}#sk-container-id-1 div.sk-dashed-wrapped {border: 1px dashed gray;margin: 0 0.4em 0.5em 0.4em;box-sizing: border-box;padding-bottom: 0.4em;background-color: white;}#sk-container-id-1 div.sk-label label {font-family: monospace;font-weight: bold;display: inline-block;line-height: 1.2em;}#sk-container-id-1 div.sk-label-container {text-align: center;}#sk-container-id-1 div.sk-container {/* jupyter's `normalize.less` sets `[hidden] { display: none; }` but bootstrap.min.css set `[hidden] { display: none !important; }` so we also need the `!important` here to be able to override the default hidden behavior on the sphinx rendered scikit-learn.org. See: https://github.com/scikit-learn/scikit-learn/issues/21755 */display: inline-block !important;position: relative;}#sk-container-id-1 div.sk-text-repr-fallback {display: none;}</style><div id=\"sk-container-id-1\" class=\"sk-top-container\"><div class=\"sk-text-repr-fallback\"><pre>CRF(algorithm=&#x27;lbfgs&#x27;, max_iterations=200)</pre><b>In a Jupyter environment, please rerun this cell to show the HTML representation or trust the notebook. <br />On GitHub, the HTML representation is unable to render, please try loading this page with nbviewer.org.</b></div><div class=\"sk-container\" hidden><div class=\"sk-item\"><div class=\"sk-estimator sk-toggleable\"><input class=\"sk-toggleable__control sk-hidden--visually\" id=\"sk-estimator-id-1\" type=\"checkbox\" checked><label for=\"sk-estimator-id-1\" class=\"sk-toggleable__label sk-toggleable__label-arrow\">CRF</label><div class=\"sk-toggleable__content\"><pre>CRF(algorithm=&#x27;lbfgs&#x27;, max_iterations=200)</pre></div></div></div></div></div>"
     },
     "execution_count": 13,
     "metadata": {},
     "output_type": "execute_result"
    }
   ],
   "source": [
    "%%time\n",
    "import sklearn_crfsuite\n",
    "\n",
    "crf = sklearn_crfsuite.CRF(\n",
    "    algorithm='lbfgs', \n",
    "    max_iterations=200, \n",
    "    #all_possible_transitions=True\n",
    ")\n",
    "crf.fit(X_train, y_train)"
   ],
   "metadata": {
    "collapsed": false,
    "ExecuteTime": {
     "end_time": "2024-02-02T09:58:57.506952Z",
     "start_time": "2024-02-02T09:58:55.608799Z"
    }
   },
   "id": "f5637cfe1ba4b980"
  },
  {
   "cell_type": "code",
   "execution_count": 14,
   "outputs": [],
   "source": [
    "from sklearn_crfsuite import metrics\n",
    "from sklearn.metrics import multilabel_confusion_matrix\n",
    "def flatten(xss): \n",
    "    return [x for xs in xss for x in xs]\n",
    "\n",
    "def evaluate(model, x, y_true): \n",
    "    y_pred = model.predict(x)\n",
    "    print(metrics.flat_f1_score(y_true, y_pred, average='macro', labels = model.classes_))\n",
    "    print(metrics.flat_classification_report(y_true, y_pred, model.classes_))\n",
    "    print(multilabel_confusion_matrix(flatten(y_true), flatten(y_pred)))\n",
    "    \n",
    "#evaluate(crf, X_test, y_test)"
   ],
   "metadata": {
    "collapsed": false,
    "ExecuteTime": {
     "end_time": "2024-02-02T09:58:57.507246Z",
     "start_time": "2024-02-02T09:58:57.505231Z"
    }
   },
   "id": "30b2783ebd44b220"
  },
  {
   "cell_type": "code",
   "execution_count": 15,
   "outputs": [
    {
     "name": "stdout",
     "output_type": "stream",
     "text": [
      "                                 precision    recall  f1-score   support\n",
      "\n",
      "               ContractProposal       1.00      0.86      0.93       897\n",
      " GenerateJobApplicationActivity       0.89      0.89      0.89      1890\n",
      "         PerformAnInterviewCall       0.93      0.75      0.83      1344\n",
      "      PerformAnInterviewMeeting       1.00      0.98      0.99      1385\n",
      "           ResumeReviewActivity       0.91      1.00      0.95      5925\n",
      "ScheduleAnInterviewActivityCall       0.83      0.88      0.86      2056\n",
      "     ScheduleAnInterviewMeeting       0.92      0.83      0.87      2492\n",
      "\n",
      "                       accuracy                           0.91     15989\n",
      "                      macro avg       0.93      0.88      0.90     15989\n",
      "                   weighted avg       0.92      0.91      0.91     15989\n"
     ]
    }
   ],
   "source": [
    "y_pred = crf.predict_single(flatten(X_test))\n",
    "print(classification_report(flatten(y_test), y_pred))"
   ],
   "metadata": {
    "collapsed": false,
    "ExecuteTime": {
     "end_time": "2024-02-02T09:58:58.019497Z",
     "start_time": "2024-02-02T09:58:57.505488Z"
    }
   },
   "id": "82725cdd52e5d3de"
  },
  {
   "cell_type": "code",
   "execution_count": 30,
   "outputs": [
    {
     "data": {
      "text/plain": "['activity_model_v1.joblib']"
     },
     "execution_count": 30,
     "metadata": {},
     "output_type": "execute_result"
    }
   ],
   "source": [
    "# Model that classifies the Activity for single events in a sequence\n",
    "from joblib import dump, load\n",
    "dump(crf, \"activity_model_v1.joblib\")"
   ],
   "metadata": {
    "collapsed": false,
    "ExecuteTime": {
     "end_time": "2024-01-23T08:44:30.123354Z",
     "start_time": "2024-01-23T08:44:30.108999Z"
    }
   },
   "id": "b44d65bf420ecaa6"
  },
  {
   "cell_type": "code",
   "execution_count": 31,
   "outputs": [],
   "source": [
    "# TODO Test with Random Forest or sth. "
   ],
   "metadata": {
    "collapsed": false,
    "ExecuteTime": {
     "end_time": "2024-01-23T08:44:30.128853Z",
     "start_time": "2024-01-23T08:44:30.124516Z"
    }
   },
   "id": "f9ffb70521513118"
  },
  {
   "cell_type": "code",
   "execution_count": 32,
   "outputs": [
    {
     "name": "stdout",
     "output_type": "stream",
     "text": [
      "CPU times: user 1.57 s, sys: 25.8 ms, total: 1.6 s\n",
      "Wall time: 1.81 s\n"
     ]
    },
    {
     "data": {
      "text/plain": "CRF(algorithm='lbfgs', max_iterations=200)",
      "text/html": "<style>#sk-container-id-3 {color: black;}#sk-container-id-3 pre{padding: 0;}#sk-container-id-3 div.sk-toggleable {background-color: white;}#sk-container-id-3 label.sk-toggleable__label {cursor: pointer;display: block;width: 100%;margin-bottom: 0;padding: 0.3em;box-sizing: border-box;text-align: center;}#sk-container-id-3 label.sk-toggleable__label-arrow:before {content: \"▸\";float: left;margin-right: 0.25em;color: #696969;}#sk-container-id-3 label.sk-toggleable__label-arrow:hover:before {color: black;}#sk-container-id-3 div.sk-estimator:hover label.sk-toggleable__label-arrow:before {color: black;}#sk-container-id-3 div.sk-toggleable__content {max-height: 0;max-width: 0;overflow: hidden;text-align: left;background-color: #f0f8ff;}#sk-container-id-3 div.sk-toggleable__content pre {margin: 0.2em;color: black;border-radius: 0.25em;background-color: #f0f8ff;}#sk-container-id-3 input.sk-toggleable__control:checked~div.sk-toggleable__content {max-height: 200px;max-width: 100%;overflow: auto;}#sk-container-id-3 input.sk-toggleable__control:checked~label.sk-toggleable__label-arrow:before {content: \"▾\";}#sk-container-id-3 div.sk-estimator input.sk-toggleable__control:checked~label.sk-toggleable__label {background-color: #d4ebff;}#sk-container-id-3 div.sk-label input.sk-toggleable__control:checked~label.sk-toggleable__label {background-color: #d4ebff;}#sk-container-id-3 input.sk-hidden--visually {border: 0;clip: rect(1px 1px 1px 1px);clip: rect(1px, 1px, 1px, 1px);height: 1px;margin: -1px;overflow: hidden;padding: 0;position: absolute;width: 1px;}#sk-container-id-3 div.sk-estimator {font-family: monospace;background-color: #f0f8ff;border: 1px dotted black;border-radius: 0.25em;box-sizing: border-box;margin-bottom: 0.5em;}#sk-container-id-3 div.sk-estimator:hover {background-color: #d4ebff;}#sk-container-id-3 div.sk-parallel-item::after {content: \"\";width: 100%;border-bottom: 1px solid gray;flex-grow: 1;}#sk-container-id-3 div.sk-label:hover label.sk-toggleable__label {background-color: #d4ebff;}#sk-container-id-3 div.sk-serial::before {content: \"\";position: absolute;border-left: 1px solid gray;box-sizing: border-box;top: 0;bottom: 0;left: 50%;z-index: 0;}#sk-container-id-3 div.sk-serial {display: flex;flex-direction: column;align-items: center;background-color: white;padding-right: 0.2em;padding-left: 0.2em;position: relative;}#sk-container-id-3 div.sk-item {position: relative;z-index: 1;}#sk-container-id-3 div.sk-parallel {display: flex;align-items: stretch;justify-content: center;background-color: white;position: relative;}#sk-container-id-3 div.sk-item::before, #sk-container-id-3 div.sk-parallel-item::before {content: \"\";position: absolute;border-left: 1px solid gray;box-sizing: border-box;top: 0;bottom: 0;left: 50%;z-index: -1;}#sk-container-id-3 div.sk-parallel-item {display: flex;flex-direction: column;z-index: 1;position: relative;background-color: white;}#sk-container-id-3 div.sk-parallel-item:first-child::after {align-self: flex-end;width: 50%;}#sk-container-id-3 div.sk-parallel-item:last-child::after {align-self: flex-start;width: 50%;}#sk-container-id-3 div.sk-parallel-item:only-child::after {width: 0;}#sk-container-id-3 div.sk-dashed-wrapped {border: 1px dashed gray;margin: 0 0.4em 0.5em 0.4em;box-sizing: border-box;padding-bottom: 0.4em;background-color: white;}#sk-container-id-3 div.sk-label label {font-family: monospace;font-weight: bold;display: inline-block;line-height: 1.2em;}#sk-container-id-3 div.sk-label-container {text-align: center;}#sk-container-id-3 div.sk-container {/* jupyter's `normalize.less` sets `[hidden] { display: none; }` but bootstrap.min.css set `[hidden] { display: none !important; }` so we also need the `!important` here to be able to override the default hidden behavior on the sphinx rendered scikit-learn.org. See: https://github.com/scikit-learn/scikit-learn/issues/21755 */display: inline-block !important;position: relative;}#sk-container-id-3 div.sk-text-repr-fallback {display: none;}</style><div id=\"sk-container-id-3\" class=\"sk-top-container\"><div class=\"sk-text-repr-fallback\"><pre>CRF(algorithm=&#x27;lbfgs&#x27;, max_iterations=200)</pre><b>In a Jupyter environment, please rerun this cell to show the HTML representation or trust the notebook. <br />On GitHub, the HTML representation is unable to render, please try loading this page with nbviewer.org.</b></div><div class=\"sk-container\" hidden><div class=\"sk-item\"><div class=\"sk-estimator sk-toggleable\"><input class=\"sk-toggleable__control sk-hidden--visually\" id=\"sk-estimator-id-3\" type=\"checkbox\" checked><label for=\"sk-estimator-id-3\" class=\"sk-toggleable__label sk-toggleable__label-arrow\">CRF</label><div class=\"sk-toggleable__content\"><pre>CRF(algorithm=&#x27;lbfgs&#x27;, max_iterations=200)</pre></div></div></div></div></div>"
     },
     "execution_count": 32,
     "metadata": {},
     "output_type": "execute_result"
    }
   ],
   "source": [
    "%%time\n",
    "import sklearn_crfsuite\n",
    "\n",
    "crf = sklearn_crfsuite.CRF(\n",
    "    algorithm='lbfgs', \n",
    "    max_iterations=200, \n",
    "    #all_possible_transitions=True\n",
    ")\n",
    "crf.fit([flatten(X_train)], [flatten(y_train)])"
   ],
   "metadata": {
    "collapsed": false,
    "ExecuteTime": {
     "end_time": "2024-01-23T08:44:31.945999Z",
     "start_time": "2024-01-23T08:44:30.127837Z"
    }
   },
   "id": "5a7744940a9afee6"
  },
  {
   "cell_type": "code",
   "execution_count": 33,
   "outputs": [
    {
     "name": "stdout",
     "output_type": "stream",
     "text": [
      "                                 precision    recall  f1-score   support\n",
      "\n",
      "               ContractProposal       0.95      0.94      0.95       897\n",
      " GenerateJobApplicationActivity       0.88      1.00      0.94      1890\n",
      "         PerformAnInterviewCall       0.94      0.89      0.92      1344\n",
      "      PerformAnInterviewMeeting       1.00      1.00      1.00      1385\n",
      "           ResumeReviewActivity       0.99      0.97      0.98      5925\n",
      "ScheduleAnInterviewActivityCall       0.85      0.99      0.92      2056\n",
      "     ScheduleAnInterviewMeeting       1.00      0.83      0.91      2492\n",
      "\n",
      "                       accuracy                           0.95     15989\n",
      "                      macro avg       0.95      0.95      0.94     15989\n",
      "                   weighted avg       0.95      0.95      0.95     15989\n"
     ]
    }
   ],
   "source": [
    "y_pred = crf.predict_single([x for xs in X_test for x in xs])\n",
    "print(classification_report([x for xs in y_test for x in xs], y_pred))"
   ],
   "metadata": {
    "collapsed": false,
    "ExecuteTime": {
     "end_time": "2024-01-23T08:44:32.349090Z",
     "start_time": "2024-01-23T08:44:32.171410Z"
    }
   },
   "id": "b0aa290a0079f12f"
  },
  {
   "cell_type": "code",
   "execution_count": 34,
   "outputs": [
    {
     "data": {
      "text/plain": "['activity_model_v2.joblib']"
     },
     "execution_count": 34,
     "metadata": {},
     "output_type": "execute_result"
    }
   ],
   "source": [
    "# Trained on single activities\n",
    "from joblib import dump, load\n",
    "dump(crf, \"activity_model_v2.joblib\")"
   ],
   "metadata": {
    "collapsed": false,
    "ExecuteTime": {
     "end_time": "2024-01-23T08:44:32.362269Z",
     "start_time": "2024-01-23T08:44:32.348095Z"
    }
   },
   "id": "1a7d52e844f87ac8"
  },
  {
   "cell_type": "markdown",
   "source": [],
   "metadata": {
    "collapsed": false
   },
   "id": "4dfc4f3d7a29f820"
  },
  {
   "cell_type": "markdown",
   "source": [
    "# Next Event Estimation using Markov Chains"
   ],
   "metadata": {
    "collapsed": false
   },
   "id": "7a89b0bf4baecf3"
  },
  {
   "cell_type": "code",
   "execution_count": 10,
   "outputs": [],
   "source": [
    "#from pomegranate.markov_chain import MarkovChain\n",
    "import torch"
   ],
   "metadata": {
    "collapsed": false,
    "ExecuteTime": {
     "end_time": "2024-01-24T13:37:35.042555Z",
     "start_time": "2024-01-24T13:37:33.782408Z"
    }
   },
   "id": "21fd76f796df6b2c"
  },
  {
   "cell_type": "code",
   "execution_count": 13,
   "outputs": [],
   "source": [
    "cols = [\"event_with_roles\",\"selective_filter_data\",\"origin_selective_filter_data\"]\n",
    "seq_numbers = df_train[\"SequenceNumber\"]\n",
    "df = df_train[cols].fillna(\"\")"
   ],
   "metadata": {
    "collapsed": false,
    "ExecuteTime": {
     "end_time": "2024-01-24T14:26:15.844741Z",
     "start_time": "2024-01-24T14:26:15.834417Z"
    }
   },
   "id": "2ecbcc168c918bc"
  },
  {
   "cell_type": "code",
   "execution_count": 14,
   "outputs": [],
   "source": [
    "df[\"joined\"] = pd.DataFrame({\"col\":df[\"event_with_roles\"] + df[\"selective_filter_data\"]})"
   ],
   "metadata": {
    "collapsed": false,
    "ExecuteTime": {
     "end_time": "2024-01-24T14:26:16.094459Z",
     "start_time": "2024-01-24T14:26:16.092410Z"
    }
   },
   "id": "179bc0203429054c"
  },
  {
   "cell_type": "code",
   "execution_count": 15,
   "outputs": [],
   "source": [
    "from sklearn.preprocessing import LabelEncoder\n",
    "\n",
    "# Label Encode DF \n",
    "le1 = LabelEncoder()\n",
    "le2 = LabelEncoder()\n",
    "df[\"event_with_roles_LE\"] = le1.fit_transform(df[\"event_with_roles\"])\n",
    "df[\"selective_filter_data_LE\"] = le2.fit_transform(df[\"selective_filter_data\"])\n",
    "df[\"origin_selective_filter_data_LE\"] = le2.transform(df[\"origin_selective_filter_data\"])"
   ],
   "metadata": {
    "collapsed": false,
    "ExecuteTime": {
     "end_time": "2024-01-24T14:26:17.630141Z",
     "start_time": "2024-01-24T14:26:16.962540Z"
    }
   },
   "id": "865b95a16c5b0f5c"
  },
  {
   "cell_type": "code",
   "execution_count": 16,
   "outputs": [],
   "source": [
    "le3 = LabelEncoder()\n",
    "df[\"joined_LE\"] = le3.fit_transform(df[\"joined\"])"
   ],
   "metadata": {
    "collapsed": false,
    "ExecuteTime": {
     "end_time": "2024-01-24T14:26:18.572555Z",
     "start_time": "2024-01-24T14:26:18.561218Z"
    }
   },
   "id": "e91939e38592d0f5"
  },
  {
   "cell_type": "code",
   "execution_count": 17,
   "outputs": [],
   "source": [
    "# Divides dataframe into arrays according to to Sequence Data Indicator\n",
    "def sequence_by_activities(data, seq_data): \n",
    "    return [data[seq_data == i].values for i in range(seq_data.max())]\n",
    "\n",
    "cols_LE = [\"event_with_roles_LE\",\"selective_filter_data_LE\",\"origin_selective_filter_data_LE\"]\n",
    "cols = [\"event_with_roles\",\"selective_filter_data\",\"origin_selective_filter_data\"]\n",
    "\n",
    "data_LE = sequence_by_activities(df[cols_LE], df_train[\"SequenceNumber\"])\n",
    "\n",
    "data_joined_LE = sequence_by_activities(df[\"joined_LE\"], df_train[\"SequenceNumber\"])\n",
    "\n",
    "data_joined = sequence_by_activities(df[\"joined\"], df_train[\"SequenceNumber\"])"
   ],
   "metadata": {
    "collapsed": false,
    "ExecuteTime": {
     "end_time": "2024-01-24T14:26:19.822299Z",
     "start_time": "2024-01-24T14:26:19.619991Z"
    }
   },
   "id": "a9d70fc6687bf5d3"
  },
  {
   "cell_type": "code",
   "execution_count": 55,
   "outputs": [],
   "source": [
    "from torch.nn.utils.rnn import pad_sequence\n",
    "\n",
    "tensor = pad_sequence([torch.tensor(x) for x in data], batch_first=True, padding_value=False)\n",
    "tensor = tensor.int()\n",
    "tensor = tensor.unsqueeze(2)\n",
    "tensor = torch.unique(tensor, dim = 0)"
   ],
   "metadata": {
    "collapsed": false,
    "ExecuteTime": {
     "end_time": "2024-01-23T10:43:31.633669Z",
     "start_time": "2024-01-23T10:43:31.586760Z"
    }
   },
   "id": "1cac3ec53ad6fdd5"
  },
  {
   "cell_type": "code",
   "execution_count": 31,
   "outputs": [
    {
     "data": {
      "text/plain": "MarkovChain()"
     },
     "execution_count": 31,
     "metadata": {},
     "output_type": "execute_result"
    }
   ],
   "source": [
    "from pomegranate.markov_chain import MarkovChain\n",
    "\n",
    "model = MarkovChain(k=3)\n",
    "\n",
    "X = torch.tensor([[[1], [0], [0], [1]],\n",
    "                  [[0], [1], [0], [0]],\n",
    "                  [[0], [0], [0], [0]],\n",
    "                  [[0], [0], [0], [1]],\n",
    "                  [[0], [1], [1], [0]]])\n",
    "\n",
    "model.fit(X)"
   ],
   "metadata": {
    "collapsed": false,
    "ExecuteTime": {
     "end_time": "2024-01-23T10:18:54.503246Z",
     "start_time": "2024-01-23T10:18:54.458957Z"
    }
   },
   "id": "597ce0f59f2a78ed"
  },
  {
   "cell_type": "markdown",
   "source": [
    "# Pomegranate 0.14.8"
   ],
   "metadata": {
    "collapsed": false
   },
   "id": "c75d46f793492f0d"
  },
  {
   "cell_type": "code",
   "execution_count": 26,
   "outputs": [],
   "source": [
    "from pomegranate import *"
   ],
   "metadata": {
    "collapsed": false,
    "ExecuteTime": {
     "end_time": "2024-01-25T08:53:08.647636Z",
     "start_time": "2024-01-25T08:53:08.629927Z"
    }
   },
   "id": "434ff85e0ee6b4d7"
  },
  {
   "cell_type": "code",
   "execution_count": 22,
   "outputs": [
    {
     "data": {
      "text/plain": "26"
     },
     "execution_count": 22,
     "metadata": {},
     "output_type": "execute_result"
    }
   ],
   "source": [
    "import numpy as np\n",
    "\n",
    "# Convert each array to a tuple and create a set of tuples\n",
    "array_set = set(tuple(arr) for arr in data_joined)\n",
    "\n",
    "# Convert the set of tuples back to a list of NumPy arrays\n",
    "unique_array_list = [np.array(arr) for arr in array_set]\n",
    "\n",
    "len(unique_array_list)"
   ],
   "metadata": {
    "collapsed": false,
    "ExecuteTime": {
     "end_time": "2024-01-24T14:27:00.947669Z",
     "start_time": "2024-01-24T14:27:00.934967Z"
    }
   },
   "id": "14de1dbe491da611"
  },
  {
   "cell_type": "code",
   "execution_count": 23,
   "outputs": [],
   "source": [
    "mc = MarkovChain.from_samples(unique_array_list, k=3)"
   ],
   "metadata": {
    "collapsed": false,
    "ExecuteTime": {
     "end_time": "2024-01-24T14:31:01.941902Z",
     "start_time": "2024-01-24T14:27:02.144295Z"
    }
   },
   "id": "15ed46919d6f03aa"
  },
  {
   "cell_type": "code",
   "execution_count": 24,
   "outputs": [],
   "source": [
    "with open(\"markov_v2.json\", \"w\") as outfile:\n",
    "    json.dump(mc.to_json(), outfile)"
   ],
   "metadata": {
    "collapsed": false,
    "ExecuteTime": {
     "end_time": "2024-01-24T14:45:03.268591Z",
     "start_time": "2024-01-24T14:31:01.930899Z"
    }
   },
   "id": "8f68dcd3e1eecb51"
  },
  {
   "cell_type": "code",
   "execution_count": 25,
   "outputs": [
    {
     "data": {
      "text/plain": "array(['End Point (HR Manager)->Odoo Application: [HttpRequest:POST /xmlrpc/2/common HTTP/1.1\\\\r\\\\n]version',\n       'Odoo Application->End Point (HR Manager): [HttpResponse:HTTP/1.0 200 OK\\\\r\\\\n]',\n       'End Point (HR Manager)->Odoo Application: [HttpRequest:POST /xmlrpc/2/common HTTP/1.1\\\\r\\\\n]',\n       \"Odoo Application->db Server/Mail Server: [PgsqlRequest:Simple query:INSERT:['res_users_log']]\",\n       'Odoo Application->End Point (HR Manager): [HttpResponse:HTTP/1.0 200 OK\\\\r\\\\n]IsNumber'],\n      dtype=object)"
     },
     "execution_count": 25,
     "metadata": {},
     "output_type": "execute_result"
    }
   ],
   "source": [
    "data_joined[0][:5]"
   ],
   "metadata": {
    "collapsed": false,
    "ExecuteTime": {
     "end_time": "2024-01-24T14:45:03.359704Z",
     "start_time": "2024-01-24T14:45:03.249082Z"
    }
   },
   "id": "e822f727ae856866"
  },
  {
   "cell_type": "code",
   "execution_count": 66,
   "outputs": [
    {
     "ename": "ValueError",
     "evalue": "all the input arrays must have same number of dimensions, but the array at index 0 has 1 dimension(s) and the array at index 1 has 0 dimension(s)",
     "output_type": "error",
     "traceback": [
      "\u001B[0;31m---------------------------------------------------------------------------\u001B[0m",
      "\u001B[0;31mValueError\u001B[0m                                Traceback (most recent call last)",
      "Cell \u001B[0;32mIn[66], line 1\u001B[0m\n\u001B[0;32m----> 1\u001B[0m \u001B[43mnp\u001B[49m\u001B[38;5;241;43m.\u001B[39;49m\u001B[43mconcatenate\u001B[49m\u001B[43m(\u001B[49m\u001B[43m[\u001B[49m\u001B[43mdata_joined\u001B[49m\u001B[43m[\u001B[49m\u001B[38;5;241;43m0\u001B[39;49m\u001B[43m]\u001B[49m\u001B[43m[\u001B[49m\u001B[43m:\u001B[49m\u001B[38;5;241;43m5\u001B[39;49m\u001B[43m]\u001B[49m\u001B[43m,\u001B[49m\u001B[43m \u001B[49m\u001B[43mdata_joined\u001B[49m\u001B[43m[\u001B[49m\u001B[38;5;241;43m20\u001B[39;49m\u001B[43m]\u001B[49m\u001B[43m[\u001B[49m\u001B[38;5;241;43m0\u001B[39;49m\u001B[43m]\u001B[49m\u001B[43m]\u001B[49m\u001B[43m,\u001B[49m\u001B[43m \u001B[49m\u001B[43maxis\u001B[49m\u001B[43m \u001B[49m\u001B[38;5;241;43m=\u001B[39;49m\u001B[43m \u001B[49m\u001B[38;5;241;43m0\u001B[39;49m\u001B[43m)\u001B[49m\n",
      "\u001B[0;31mValueError\u001B[0m: all the input arrays must have same number of dimensions, but the array at index 0 has 1 dimension(s) and the array at index 1 has 0 dimension(s)"
     ]
    }
   ],
   "source": [],
   "metadata": {
    "collapsed": false,
    "ExecuteTime": {
     "end_time": "2024-01-24T08:43:00.328032Z",
     "start_time": "2024-01-24T08:43:00.294917Z"
    }
   },
   "id": "c9de686990785716"
  },
  {
   "cell_type": "code",
   "execution_count": null,
   "outputs": [],
   "source": [],
   "metadata": {
    "collapsed": false
   },
   "id": "d31e5961a3e12a5f"
  }
 ],
 "metadata": {
  "kernelspec": {
   "display_name": "Python 3",
   "language": "python",
   "name": "python3"
  },
  "language_info": {
   "codemirror_mode": {
    "name": "ipython",
    "version": 2
   },
   "file_extension": ".py",
   "mimetype": "text/x-python",
   "name": "python",
   "nbconvert_exporter": "python",
   "pygments_lexer": "ipython2",
   "version": "2.7.6"
  }
 },
 "nbformat": 4,
 "nbformat_minor": 5
}
