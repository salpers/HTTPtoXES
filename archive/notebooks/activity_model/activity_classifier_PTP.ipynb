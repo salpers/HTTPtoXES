{
 "cells": [
  {
   "cell_type": "markdown",
   "source": [
    "# Activity Classifier\n",
    "\n",
    "Goal\n",
    ": Predict the activity action of a sequence of events\n",
    "\n"
   ],
   "metadata": {
    "collapsed": false
   },
   "id": "c8803aa636053a12"
  },
  {
   "cell_type": "code",
   "execution_count": 1,
   "outputs": [],
   "source": [
    "import pandas as pd\n",
    "import ast"
   ],
   "metadata": {
    "collapsed": false,
    "ExecuteTime": {
     "end_time": "2024-03-18T08:07:12.216388Z",
     "start_time": "2024-03-18T08:07:11.748654Z"
    }
   },
   "id": "c3dddd942fa2e8fb"
  },
  {
   "cell_type": "code",
   "execution_count": 2,
   "outputs": [],
   "source": [
    "df_train_in = pd.read_csv('../../data/VALID/R1/R1.csv', converters={\"MessageAttributes\": ast.literal_eval})\n",
    "df_test =pd.read_csv('../../data_v3/ptp_emitted_events_test.csv')"
   ],
   "metadata": {
    "collapsed": false,
    "ExecuteTime": {
     "end_time": "2024-03-18T08:08:16.268791Z",
     "start_time": "2024-03-18T08:07:12.210390Z"
    }
   },
   "id": "a75693a053bb5c4b"
  },
  {
   "cell_type": "code",
   "execution_count": 3,
   "outputs": [],
   "source": [
    "from event_loop.preprocessing.dataframe import pre_process\n",
    "\n",
    "df_train = pre_process(df_train_in)"
   ],
   "metadata": {
    "collapsed": false,
    "ExecuteTime": {
     "end_time": "2024-03-18T08:08:23.276004Z",
     "start_time": "2024-03-18T08:08:16.264183Z"
    }
   },
   "id": "a3d8e35ce1918f60"
  },
  {
   "cell_type": "markdown",
   "source": [
    "## Preprocessing"
   ],
   "metadata": {
    "collapsed": false
   },
   "id": "58c1f33a1fd7c23"
  },
  {
   "cell_type": "code",
   "execution_count": 4,
   "outputs": [],
   "source": [
    "# Mark groups of Instance Number and BusinessActivity with sequence numbers\n",
    "df_train = df_train.sort_values(by=[\"InstanceNumber\", \"BusinessActivity\", \"frame.number\"])\n",
    "df_train[\"SequenceNumber\"] = df_train.groupby([\"BusinessActivity\", \"InstanceNumber\"]).ngroup()\n",
    "# Align Sequence Numbers so that they start at 0\n",
    "df_train[\"SequenceNumber\"] -= df_train['SequenceNumber'].min()"
   ],
   "metadata": {
    "collapsed": false,
    "ExecuteTime": {
     "end_time": "2024-03-18T08:08:23.311460Z",
     "start_time": "2024-03-18T08:08:23.277962Z"
    }
   },
   "id": "847c440b8aac814a"
  },
  {
   "cell_type": "code",
   "execution_count": 5,
   "outputs": [],
   "source": [
    "def sequence_by_activities(data, seq_data):\n",
    "    return [data[seq_data == i] for i in range(seq_data.max())]"
   ],
   "metadata": {
    "collapsed": false,
    "ExecuteTime": {
     "end_time": "2024-03-18T08:08:23.311747Z",
     "start_time": "2024-03-18T08:08:23.293275Z"
    }
   },
   "id": "4475d13caa221249"
  },
  {
   "cell_type": "code",
   "execution_count": 6,
   "outputs": [],
   "source": [
    "feature_cols = [\"event_with_roles\", \"request_method_call\", \"selective_file_data\", \n",
    "        \"origin_method\",\"origin_file_data\"]\n"
   ],
   "metadata": {
    "collapsed": false,
    "ExecuteTime": {
     "end_time": "2024-03-18T08:08:23.311803Z",
     "start_time": "2024-03-18T08:08:23.295486Z"
    }
   },
   "id": "68d233bcbe51a372"
  },
  {
   "cell_type": "code",
   "execution_count": 7,
   "outputs": [],
   "source": [
    "# List of dataframes each containing one activity sequence\n",
    "train_activity_sequences = sequence_by_activities(df_train, df_train[\"SequenceNumber\"])\n",
    "\n",
    "test_activity_sequences = sequence_by_activities(df_test, df_test[\"stack_idx\"])"
   ],
   "metadata": {
    "collapsed": false,
    "ExecuteTime": {
     "end_time": "2024-03-18T08:08:23.369353Z",
     "start_time": "2024-03-18T08:08:23.299556Z"
    }
   },
   "id": "5cf90912889eb7db"
  },
  {
   "cell_type": "code",
   "execution_count": 8,
   "outputs": [
    {
     "data": {
      "text/plain": "      Unnamed: 0                   BusinessActivity  InstanceNumber  \\\n0              0  order_to_cash_interleaved_10cases            2022   \n1              1  order_to_cash_interleaved_10cases            2022   \n2              2  order_to_cash_interleaved_10cases            2022   \n3              3  order_to_cash_interleaved_10cases            2022   \n4              4  order_to_cash_interleaved_10cases            2022   \n...          ...                                ...             ...   \n3904        3904  order_to_cash_interleaved_10cases            2022   \n3905        3905  order_to_cash_interleaved_10cases            2022   \n3906        3906  order_to_cash_interleaved_10cases            2022   \n3907        3907  order_to_cash_interleaved_10cases            2022   \n3908        3908  order_to_cash_interleaved_10cases            2022   \n\n      frame.number        synthetic_sniff_time  \\\n0               96  2022-08-04 21:07:16.297676   \n1              137  2022-08-04 21:52:26.138633   \n2              145  2022-08-04 21:52:45.170536   \n3              209  2022-08-04 22:49:06.248610   \n4              232  2022-08-04 23:08:15.473521   \n...            ...                         ...   \n3904        112133  2022-08-21 23:39:41.657434   \n3905        112135  2022-08-21 23:40:17.501018   \n3906        112137  2022-08-21 23:40:24.921760   \n3907        112175  2022-08-21 23:43:05.357802   \n3908        112188  2022-08-21 23:44:42.027468   \n\n                                       event_with_roles request_method_call  \\\n0     End Point (Employee)->Odoo Application:[HttpRe...             version   \n1     Odoo Application->End Point (Employee):[HttpRe...      server_version   \n2     End Point (Employee)->Odoo Application:[HttpRe...        authenticate   \n3     Odoo Application->db Server/Mail Server:[Pgsql...                 NaN   \n4     Odoo Application->End Point (Employee):[HttpRe...            IsNumber   \n...                                                 ...                 ...   \n3904  Odoo Application->db Server/Mail Server:[Pgsql...                 NaN   \n3905  Odoo Application->db Server/Mail Server:[Pgsql...                 NaN   \n3906  Odoo Application->db Server/Mail Server:[Pgsql...                 NaN   \n3907  Odoo Application->db Server/Mail Server:[Pgsql...                 NaN   \n3908  Odoo Application->End Point (Finance):[HttpRes...            IsNumber   \n\n                                              file_data  \\\n0                                                    []   \n1     ['server_version', '12.0-20190820', 'server_ve...   \n2     ['odoo01', 'user.suername@company.com', 'PWD12...   \n3                                                   NaN   \n4                                                 ['2']   \n...                                                 ...   \n3904                                                NaN   \n3905                                                NaN   \n3906                                                NaN   \n3907                                                NaN   \n3908                                            ['246']   \n\n                                            pgsql.query  \\\n0                                                   NaN   \n1                                                   NaN   \n2                                                   NaN   \n3     INSERT INTO \"res_users_log\" (\"id\", \"create_uid...   \n4                                                   NaN   \n...                                                 ...   \n3904  INSERT INTO \"account_payment\" (\"id\", \"create_u...   \n3905  INSERT INTO \"mail_followers\" (\"id\", \"partner_i...   \n3906  INSERT INTO mail_followers_mail_message_subtyp...   \n3907  INSERT INTO \"mail_message\" (\"id\", \"create_uid\"...   \n3908                                                NaN   \n\n                                 pgsql.target  ...  ActivityAction stack_idx  \\\n0                                         NaN  ...  Activity Start         0   \n1                                         NaN  ...        NoAction         0   \n2                                         NaN  ...        NoAction         0   \n3                               res_users_log  ...        NoAction         0   \n4                                         NaN  ...        NoAction         0   \n...                                       ...  ...             ...       ...   \n3904                          account_payment  ...        NoAction        59   \n3905                           mail_followers  ...        NoAction        59   \n3906  mail_followers_mail_message_subtype_rel  ...        NoAction        59   \n3907                             mail_message  ...        NoAction        59   \n3908                                      NaN  ...    Activity End        59   \n\n     sale_order_id sale_order_line_id  purchase_requisition_id  \\\n0              NaN                NaN                      NaN   \n1              NaN                NaN                      NaN   \n2              NaN                NaN                      NaN   \n3              NaN                NaN                      NaN   \n4              NaN                NaN                      NaN   \n...            ...                ...                      ...   \n3904           NaN                NaN                      NaN   \n3905           NaN                NaN                      NaN   \n3906           NaN                NaN                      NaN   \n3907           NaN                NaN                      NaN   \n3908           NaN                NaN                      NaN   \n\n      purchase_requisition_line_id  purchase_order_id  case_id  \\\n0                              NaN                NaN        0   \n1                              NaN                NaN        0   \n2                              NaN                NaN        0   \n3                              NaN                NaN        0   \n4                              NaN                NaN        0   \n...                            ...                ...      ...   \n3904                           NaN                NaN        8   \n3905                           NaN                NaN        8   \n3906                           NaN                NaN        8   \n3907                           NaN                NaN        8   \n3908                           NaN                NaN        8   \n\n              activity_name  bp_id  \n0     CreatePurchaseRequest  399.0  \n1     CreatePurchaseRequest  399.0  \n2     CreatePurchaseRequest  399.0  \n3     CreatePurchaseRequest  399.0  \n4     CreatePurchaseRequest  399.0  \n...                     ...    ...  \n3904          SubmitPayment  407.0  \n3905          SubmitPayment  407.0  \n3906          SubmitPayment  407.0  \n3907          SubmitPayment  407.0  \n3908          SubmitPayment  407.0  \n\n[3909 rows x 23 columns]",
      "text/html": "<div>\n<style scoped>\n    .dataframe tbody tr th:only-of-type {\n        vertical-align: middle;\n    }\n\n    .dataframe tbody tr th {\n        vertical-align: top;\n    }\n\n    .dataframe thead th {\n        text-align: right;\n    }\n</style>\n<table border=\"1\" class=\"dataframe\">\n  <thead>\n    <tr style=\"text-align: right;\">\n      <th></th>\n      <th>Unnamed: 0</th>\n      <th>BusinessActivity</th>\n      <th>InstanceNumber</th>\n      <th>frame.number</th>\n      <th>synthetic_sniff_time</th>\n      <th>event_with_roles</th>\n      <th>request_method_call</th>\n      <th>file_data</th>\n      <th>pgsql.query</th>\n      <th>pgsql.target</th>\n      <th>...</th>\n      <th>ActivityAction</th>\n      <th>stack_idx</th>\n      <th>sale_order_id</th>\n      <th>sale_order_line_id</th>\n      <th>purchase_requisition_id</th>\n      <th>purchase_requisition_line_id</th>\n      <th>purchase_order_id</th>\n      <th>case_id</th>\n      <th>activity_name</th>\n      <th>bp_id</th>\n    </tr>\n  </thead>\n  <tbody>\n    <tr>\n      <th>0</th>\n      <td>0</td>\n      <td>order_to_cash_interleaved_10cases</td>\n      <td>2022</td>\n      <td>96</td>\n      <td>2022-08-04 21:07:16.297676</td>\n      <td>End Point (Employee)-&gt;Odoo Application:[HttpRe...</td>\n      <td>version</td>\n      <td>[]</td>\n      <td>NaN</td>\n      <td>NaN</td>\n      <td>...</td>\n      <td>Activity Start</td>\n      <td>0</td>\n      <td>NaN</td>\n      <td>NaN</td>\n      <td>NaN</td>\n      <td>NaN</td>\n      <td>NaN</td>\n      <td>0</td>\n      <td>CreatePurchaseRequest</td>\n      <td>399.0</td>\n    </tr>\n    <tr>\n      <th>1</th>\n      <td>1</td>\n      <td>order_to_cash_interleaved_10cases</td>\n      <td>2022</td>\n      <td>137</td>\n      <td>2022-08-04 21:52:26.138633</td>\n      <td>Odoo Application-&gt;End Point (Employee):[HttpRe...</td>\n      <td>server_version</td>\n      <td>['server_version', '12.0-20190820', 'server_ve...</td>\n      <td>NaN</td>\n      <td>NaN</td>\n      <td>...</td>\n      <td>NoAction</td>\n      <td>0</td>\n      <td>NaN</td>\n      <td>NaN</td>\n      <td>NaN</td>\n      <td>NaN</td>\n      <td>NaN</td>\n      <td>0</td>\n      <td>CreatePurchaseRequest</td>\n      <td>399.0</td>\n    </tr>\n    <tr>\n      <th>2</th>\n      <td>2</td>\n      <td>order_to_cash_interleaved_10cases</td>\n      <td>2022</td>\n      <td>145</td>\n      <td>2022-08-04 21:52:45.170536</td>\n      <td>End Point (Employee)-&gt;Odoo Application:[HttpRe...</td>\n      <td>authenticate</td>\n      <td>['odoo01', 'user.suername@company.com', 'PWD12...</td>\n      <td>NaN</td>\n      <td>NaN</td>\n      <td>...</td>\n      <td>NoAction</td>\n      <td>0</td>\n      <td>NaN</td>\n      <td>NaN</td>\n      <td>NaN</td>\n      <td>NaN</td>\n      <td>NaN</td>\n      <td>0</td>\n      <td>CreatePurchaseRequest</td>\n      <td>399.0</td>\n    </tr>\n    <tr>\n      <th>3</th>\n      <td>3</td>\n      <td>order_to_cash_interleaved_10cases</td>\n      <td>2022</td>\n      <td>209</td>\n      <td>2022-08-04 22:49:06.248610</td>\n      <td>Odoo Application-&gt;db Server/Mail Server:[Pgsql...</td>\n      <td>NaN</td>\n      <td>NaN</td>\n      <td>INSERT INTO \"res_users_log\" (\"id\", \"create_uid...</td>\n      <td>res_users_log</td>\n      <td>...</td>\n      <td>NoAction</td>\n      <td>0</td>\n      <td>NaN</td>\n      <td>NaN</td>\n      <td>NaN</td>\n      <td>NaN</td>\n      <td>NaN</td>\n      <td>0</td>\n      <td>CreatePurchaseRequest</td>\n      <td>399.0</td>\n    </tr>\n    <tr>\n      <th>4</th>\n      <td>4</td>\n      <td>order_to_cash_interleaved_10cases</td>\n      <td>2022</td>\n      <td>232</td>\n      <td>2022-08-04 23:08:15.473521</td>\n      <td>Odoo Application-&gt;End Point (Employee):[HttpRe...</td>\n      <td>IsNumber</td>\n      <td>['2']</td>\n      <td>NaN</td>\n      <td>NaN</td>\n      <td>...</td>\n      <td>NoAction</td>\n      <td>0</td>\n      <td>NaN</td>\n      <td>NaN</td>\n      <td>NaN</td>\n      <td>NaN</td>\n      <td>NaN</td>\n      <td>0</td>\n      <td>CreatePurchaseRequest</td>\n      <td>399.0</td>\n    </tr>\n    <tr>\n      <th>...</th>\n      <td>...</td>\n      <td>...</td>\n      <td>...</td>\n      <td>...</td>\n      <td>...</td>\n      <td>...</td>\n      <td>...</td>\n      <td>...</td>\n      <td>...</td>\n      <td>...</td>\n      <td>...</td>\n      <td>...</td>\n      <td>...</td>\n      <td>...</td>\n      <td>...</td>\n      <td>...</td>\n      <td>...</td>\n      <td>...</td>\n      <td>...</td>\n      <td>...</td>\n      <td>...</td>\n    </tr>\n    <tr>\n      <th>3904</th>\n      <td>3904</td>\n      <td>order_to_cash_interleaved_10cases</td>\n      <td>2022</td>\n      <td>112133</td>\n      <td>2022-08-21 23:39:41.657434</td>\n      <td>Odoo Application-&gt;db Server/Mail Server:[Pgsql...</td>\n      <td>NaN</td>\n      <td>NaN</td>\n      <td>INSERT INTO \"account_payment\" (\"id\", \"create_u...</td>\n      <td>account_payment</td>\n      <td>...</td>\n      <td>NoAction</td>\n      <td>59</td>\n      <td>NaN</td>\n      <td>NaN</td>\n      <td>NaN</td>\n      <td>NaN</td>\n      <td>NaN</td>\n      <td>8</td>\n      <td>SubmitPayment</td>\n      <td>407.0</td>\n    </tr>\n    <tr>\n      <th>3905</th>\n      <td>3905</td>\n      <td>order_to_cash_interleaved_10cases</td>\n      <td>2022</td>\n      <td>112135</td>\n      <td>2022-08-21 23:40:17.501018</td>\n      <td>Odoo Application-&gt;db Server/Mail Server:[Pgsql...</td>\n      <td>NaN</td>\n      <td>NaN</td>\n      <td>INSERT INTO \"mail_followers\" (\"id\", \"partner_i...</td>\n      <td>mail_followers</td>\n      <td>...</td>\n      <td>NoAction</td>\n      <td>59</td>\n      <td>NaN</td>\n      <td>NaN</td>\n      <td>NaN</td>\n      <td>NaN</td>\n      <td>NaN</td>\n      <td>8</td>\n      <td>SubmitPayment</td>\n      <td>407.0</td>\n    </tr>\n    <tr>\n      <th>3906</th>\n      <td>3906</td>\n      <td>order_to_cash_interleaved_10cases</td>\n      <td>2022</td>\n      <td>112137</td>\n      <td>2022-08-21 23:40:24.921760</td>\n      <td>Odoo Application-&gt;db Server/Mail Server:[Pgsql...</td>\n      <td>NaN</td>\n      <td>NaN</td>\n      <td>INSERT INTO mail_followers_mail_message_subtyp...</td>\n      <td>mail_followers_mail_message_subtype_rel</td>\n      <td>...</td>\n      <td>NoAction</td>\n      <td>59</td>\n      <td>NaN</td>\n      <td>NaN</td>\n      <td>NaN</td>\n      <td>NaN</td>\n      <td>NaN</td>\n      <td>8</td>\n      <td>SubmitPayment</td>\n      <td>407.0</td>\n    </tr>\n    <tr>\n      <th>3907</th>\n      <td>3907</td>\n      <td>order_to_cash_interleaved_10cases</td>\n      <td>2022</td>\n      <td>112175</td>\n      <td>2022-08-21 23:43:05.357802</td>\n      <td>Odoo Application-&gt;db Server/Mail Server:[Pgsql...</td>\n      <td>NaN</td>\n      <td>NaN</td>\n      <td>INSERT INTO \"mail_message\" (\"id\", \"create_uid\"...</td>\n      <td>mail_message</td>\n      <td>...</td>\n      <td>NoAction</td>\n      <td>59</td>\n      <td>NaN</td>\n      <td>NaN</td>\n      <td>NaN</td>\n      <td>NaN</td>\n      <td>NaN</td>\n      <td>8</td>\n      <td>SubmitPayment</td>\n      <td>407.0</td>\n    </tr>\n    <tr>\n      <th>3908</th>\n      <td>3908</td>\n      <td>order_to_cash_interleaved_10cases</td>\n      <td>2022</td>\n      <td>112188</td>\n      <td>2022-08-21 23:44:42.027468</td>\n      <td>Odoo Application-&gt;End Point (Finance):[HttpRes...</td>\n      <td>IsNumber</td>\n      <td>['246']</td>\n      <td>NaN</td>\n      <td>NaN</td>\n      <td>...</td>\n      <td>Activity End</td>\n      <td>59</td>\n      <td>NaN</td>\n      <td>NaN</td>\n      <td>NaN</td>\n      <td>NaN</td>\n      <td>NaN</td>\n      <td>8</td>\n      <td>SubmitPayment</td>\n      <td>407.0</td>\n    </tr>\n  </tbody>\n</table>\n<p>3909 rows × 23 columns</p>\n</div>"
     },
     "execution_count": 8,
     "metadata": {},
     "output_type": "execute_result"
    }
   ],
   "source": [
    "df_test"
   ],
   "metadata": {
    "collapsed": false,
    "ExecuteTime": {
     "end_time": "2024-03-18T08:08:23.387729Z",
     "start_time": "2024-03-18T08:08:23.370061Z"
    }
   },
   "id": "f190ee93222638db"
  },
  {
   "cell_type": "code",
   "execution_count": 9,
   "outputs": [],
   "source": [
    "# We train a crf with linked / not linked features on the sequential data and evaluate on the test data"
   ],
   "metadata": {
    "collapsed": false,
    "ExecuteTime": {
     "end_time": "2024-03-18T08:08:23.391021Z",
     "start_time": "2024-03-18T08:08:23.385381Z"
    }
   },
   "id": "21092e2e57267fb0"
  },
  {
   "cell_type": "code",
   "execution_count": 10,
   "outputs": [],
   "source": [
    "# Sequences without window features\n",
    "\n",
    "def dict_to_feature_sequence(dict):\n",
    "    return [{**d, \"bias\": 1.0} for d in dict]\n",
    "\n",
    "def df_to_features(df):\n",
    "    return dict_to_feature_sequence(df.to_dict(\"records\"))\n",
    "\n",
    "train_features_seq = [df_to_features(df[feature_cols]) for df in train_activity_sequences]\n",
    "train_labels_seq = [df[\"BusinessActivity\"].values for df in train_activity_sequences]\n",
    "\n",
    "\n",
    "test_features_seq = [df_to_features(df[feature_cols]) for df in test_activity_sequences]\n",
    "test_labels_seq = [df[\"activity_name\"].values for df in test_activity_sequences]"
   ],
   "metadata": {
    "collapsed": false,
    "ExecuteTime": {
     "end_time": "2024-03-18T08:08:23.653826Z",
     "start_time": "2024-03-18T08:08:23.390960Z"
    }
   },
   "id": "9d978b4f5728f1ad"
  },
  {
   "cell_type": "code",
   "execution_count": 11,
   "outputs": [],
   "source": [
    "# Single Events no window features \n",
    "\n",
    "def dict_to_feature(dict):\n",
    "    return [[{**d, \"bias\": 1.0}] for d in dict]\n",
    "\n",
    "def extract_labels(labels):\n",
    "    return [[y] for y in labels]\n",
    "\n",
    "train_features = dict_to_feature(df_train[feature_cols].to_dict(\"records\"))\n",
    "train_labels = extract_labels(df_train[\"BusinessActivity\"])\n",
    "\n",
    "test_features = dict_to_feature(df_test[feature_cols].to_dict(\"records\"))\n",
    "test_labels = extract_labels(df_test[\"activity_name\"])"
   ],
   "metadata": {
    "collapsed": false,
    "ExecuteTime": {
     "end_time": "2024-03-18T08:08:23.809066Z",
     "start_time": "2024-03-18T08:08:23.703178Z"
    }
   },
   "id": "6f2a7f40892e3d40"
  },
  {
   "cell_type": "code",
   "execution_count": 12,
   "outputs": [
    {
     "data": {
      "text/plain": "[{'bias': 1.0,\n  '0:event_with_roles': 'End Point (Procurement)->Odoo Application:[HttpRequest:POST /xmlrpc/2/common HTTP/1.1\\\\r\\\\n]',\n  '0:request_method_call': 'version',\n  '0:selective_file_data': 'version',\n  '0:origin_method': '',\n  '0:origin_file_data': '',\n  '-1:event_with_roles': 'NoMessage',\n  '-1:request_method_call': 'NoMessage',\n  '-1:selective_file_data': 'NoMessage',\n  '-1:origin_method': 'NoMessage',\n  '-1:origin_file_data': 'NoMessage',\n  '-2:event_with_roles': 'NoMessage',\n  '-2:request_method_call': 'NoMessage',\n  '-2:selective_file_data': 'NoMessage',\n  '-2:origin_method': 'NoMessage',\n  '-2:origin_file_data': 'NoMessage',\n  '-3:event_with_roles': 'NoMessage',\n  '-3:request_method_call': 'NoMessage',\n  '-3:selective_file_data': 'NoMessage',\n  '-3:origin_method': 'NoMessage',\n  '-3:origin_file_data': 'NoMessage',\n  '-4:event_with_roles': 'NoMessage',\n  '-4:request_method_call': 'NoMessage',\n  '-4:selective_file_data': 'NoMessage',\n  '-4:origin_method': 'NoMessage',\n  '-4:origin_file_data': 'NoMessage',\n  '-5:event_with_roles': 'NoMessage',\n  '-5:request_method_call': 'NoMessage',\n  '-5:selective_file_data': 'NoMessage',\n  '-5:origin_method': 'NoMessage',\n  '-5:origin_file_data': 'NoMessage',\n  '+1:event_with_roles': 'Odoo Application->End Point (Procurement):[HttpResponse:HTTP/1.0 200 OK\\\\r\\\\n]',\n  '+1:request_method_call': 'server_version',\n  '+1:selective_file_data': 'server_version',\n  '+1:origin_method': 'version',\n  '+1:origin_file_data': 'version',\n  '+2:event_with_roles': 'End Point (Procurement)->Odoo Application:[HttpRequest:POST /xmlrpc/2/common HTTP/1.1\\\\r\\\\n]',\n  '+2:request_method_call': 'authenticate',\n  '+2:selective_file_data': '',\n  '+2:origin_method': '',\n  '+2:origin_file_data': '',\n  '+3:event_with_roles': 'Odoo Application->db Server/Mail Server:[PgsqlRequest:Simple query]: INSERT: res_users_log',\n  '+3:request_method_call': '',\n  '+3:selective_file_data': '',\n  '+3:origin_method': '',\n  '+3:origin_file_data': '',\n  '+4:event_with_roles': 'Odoo Application->End Point (Procurement):[HttpResponse:HTTP/1.0 200 OK\\\\r\\\\n]',\n  '+4:request_method_call': 'IsNumber',\n  '+4:selective_file_data': 'IsNumber',\n  '+4:origin_method': 'authenticate',\n  '+4:origin_file_data': '',\n  '+5:event_with_roles': 'End Point (Procurement)->Odoo Application:[HttpRequest:POST /xmlrpc/2/object HTTP/1.1\\\\r\\\\n]',\n  '+5:request_method_call': 'execute_kw',\n  '+5:selective_file_data': 'purchase.requisition_write',\n  '+5:origin_method': '',\n  '+5:origin_file_data': ''},\n {'bias': 1.0,\n  '0:event_with_roles': 'Odoo Application->End Point (Procurement):[HttpResponse:HTTP/1.0 200 OK\\\\r\\\\n]',\n  '0:request_method_call': 'server_version',\n  '0:selective_file_data': 'server_version',\n  '0:origin_method': 'version',\n  '0:origin_file_data': 'version',\n  '-1:event_with_roles': 'End Point (Procurement)->Odoo Application:[HttpRequest:POST /xmlrpc/2/common HTTP/1.1\\\\r\\\\n]',\n  '-1:request_method_call': 'version',\n  '-1:selective_file_data': 'version',\n  '-1:origin_method': '',\n  '-1:origin_file_data': '',\n  '-2:event_with_roles': 'NoMessage',\n  '-2:request_method_call': 'NoMessage',\n  '-2:selective_file_data': 'NoMessage',\n  '-2:origin_method': 'NoMessage',\n  '-2:origin_file_data': 'NoMessage',\n  '-3:event_with_roles': 'NoMessage',\n  '-3:request_method_call': 'NoMessage',\n  '-3:selective_file_data': 'NoMessage',\n  '-3:origin_method': 'NoMessage',\n  '-3:origin_file_data': 'NoMessage',\n  '-4:event_with_roles': 'NoMessage',\n  '-4:request_method_call': 'NoMessage',\n  '-4:selective_file_data': 'NoMessage',\n  '-4:origin_method': 'NoMessage',\n  '-4:origin_file_data': 'NoMessage',\n  '-5:event_with_roles': 'NoMessage',\n  '-5:request_method_call': 'NoMessage',\n  '-5:selective_file_data': 'NoMessage',\n  '-5:origin_method': 'NoMessage',\n  '-5:origin_file_data': 'NoMessage',\n  '+1:event_with_roles': 'End Point (Procurement)->Odoo Application:[HttpRequest:POST /xmlrpc/2/common HTTP/1.1\\\\r\\\\n]',\n  '+1:request_method_call': 'authenticate',\n  '+1:selective_file_data': '',\n  '+1:origin_method': '',\n  '+1:origin_file_data': '',\n  '+2:event_with_roles': 'Odoo Application->db Server/Mail Server:[PgsqlRequest:Simple query]: INSERT: res_users_log',\n  '+2:request_method_call': '',\n  '+2:selective_file_data': '',\n  '+2:origin_method': '',\n  '+2:origin_file_data': '',\n  '+3:event_with_roles': 'Odoo Application->End Point (Procurement):[HttpResponse:HTTP/1.0 200 OK\\\\r\\\\n]',\n  '+3:request_method_call': 'IsNumber',\n  '+3:selective_file_data': 'IsNumber',\n  '+3:origin_method': 'authenticate',\n  '+3:origin_file_data': '',\n  '+4:event_with_roles': 'End Point (Procurement)->Odoo Application:[HttpRequest:POST /xmlrpc/2/object HTTP/1.1\\\\r\\\\n]',\n  '+4:request_method_call': 'execute_kw',\n  '+4:selective_file_data': 'purchase.requisition_write',\n  '+4:origin_method': '',\n  '+4:origin_file_data': '',\n  '+5:event_with_roles': 'Odoo Application->db Server/Mail Server:[PgsqlRequest:Simple query]: UPDATE: purchase_requisition',\n  '+5:request_method_call': '',\n  '+5:selective_file_data': '',\n  '+5:origin_method': '',\n  '+5:origin_file_data': ''},\n {'bias': 1.0,\n  '0:event_with_roles': 'End Point (Procurement)->Odoo Application:[HttpRequest:POST /xmlrpc/2/common HTTP/1.1\\\\r\\\\n]',\n  '0:request_method_call': 'authenticate',\n  '0:selective_file_data': '',\n  '0:origin_method': '',\n  '0:origin_file_data': '',\n  '-1:event_with_roles': 'Odoo Application->End Point (Procurement):[HttpResponse:HTTP/1.0 200 OK\\\\r\\\\n]',\n  '-1:request_method_call': 'server_version',\n  '-1:selective_file_data': 'server_version',\n  '-1:origin_method': 'version',\n  '-1:origin_file_data': 'version',\n  '-2:event_with_roles': 'End Point (Procurement)->Odoo Application:[HttpRequest:POST /xmlrpc/2/common HTTP/1.1\\\\r\\\\n]',\n  '-2:request_method_call': 'version',\n  '-2:selective_file_data': 'version',\n  '-2:origin_method': '',\n  '-2:origin_file_data': '',\n  '-3:event_with_roles': 'NoMessage',\n  '-3:request_method_call': 'NoMessage',\n  '-3:selective_file_data': 'NoMessage',\n  '-3:origin_method': 'NoMessage',\n  '-3:origin_file_data': 'NoMessage',\n  '-4:event_with_roles': 'NoMessage',\n  '-4:request_method_call': 'NoMessage',\n  '-4:selective_file_data': 'NoMessage',\n  '-4:origin_method': 'NoMessage',\n  '-4:origin_file_data': 'NoMessage',\n  '-5:event_with_roles': 'NoMessage',\n  '-5:request_method_call': 'NoMessage',\n  '-5:selective_file_data': 'NoMessage',\n  '-5:origin_method': 'NoMessage',\n  '-5:origin_file_data': 'NoMessage',\n  '+1:event_with_roles': 'Odoo Application->db Server/Mail Server:[PgsqlRequest:Simple query]: INSERT: res_users_log',\n  '+1:request_method_call': '',\n  '+1:selective_file_data': '',\n  '+1:origin_method': '',\n  '+1:origin_file_data': '',\n  '+2:event_with_roles': 'Odoo Application->End Point (Procurement):[HttpResponse:HTTP/1.0 200 OK\\\\r\\\\n]',\n  '+2:request_method_call': 'IsNumber',\n  '+2:selective_file_data': 'IsNumber',\n  '+2:origin_method': 'authenticate',\n  '+2:origin_file_data': '',\n  '+3:event_with_roles': 'End Point (Procurement)->Odoo Application:[HttpRequest:POST /xmlrpc/2/object HTTP/1.1\\\\r\\\\n]',\n  '+3:request_method_call': 'execute_kw',\n  '+3:selective_file_data': 'purchase.requisition_write',\n  '+3:origin_method': '',\n  '+3:origin_file_data': '',\n  '+4:event_with_roles': 'Odoo Application->db Server/Mail Server:[PgsqlRequest:Simple query]: UPDATE: purchase_requisition',\n  '+4:request_method_call': '',\n  '+4:selective_file_data': '',\n  '+4:origin_method': '',\n  '+4:origin_file_data': '',\n  '+5:event_with_roles': 'Odoo Application->db Server/Mail Server:[PgsqlRequest:Simple query]: INSERT: mail_message',\n  '+5:request_method_call': '',\n  '+5:selective_file_data': '',\n  '+5:origin_method': '',\n  '+5:origin_file_data': ''},\n {'bias': 1.0,\n  '0:event_with_roles': 'Odoo Application->db Server/Mail Server:[PgsqlRequest:Simple query]: INSERT: res_users_log',\n  '0:request_method_call': '',\n  '0:selective_file_data': '',\n  '0:origin_method': '',\n  '0:origin_file_data': '',\n  '-1:event_with_roles': 'End Point (Procurement)->Odoo Application:[HttpRequest:POST /xmlrpc/2/common HTTP/1.1\\\\r\\\\n]',\n  '-1:request_method_call': 'authenticate',\n  '-1:selective_file_data': '',\n  '-1:origin_method': '',\n  '-1:origin_file_data': '',\n  '-2:event_with_roles': 'Odoo Application->End Point (Procurement):[HttpResponse:HTTP/1.0 200 OK\\\\r\\\\n]',\n  '-2:request_method_call': 'server_version',\n  '-2:selective_file_data': 'server_version',\n  '-2:origin_method': 'version',\n  '-2:origin_file_data': 'version',\n  '-3:event_with_roles': 'End Point (Procurement)->Odoo Application:[HttpRequest:POST /xmlrpc/2/common HTTP/1.1\\\\r\\\\n]',\n  '-3:request_method_call': 'version',\n  '-3:selective_file_data': 'version',\n  '-3:origin_method': '',\n  '-3:origin_file_data': '',\n  '-4:event_with_roles': 'NoMessage',\n  '-4:request_method_call': 'NoMessage',\n  '-4:selective_file_data': 'NoMessage',\n  '-4:origin_method': 'NoMessage',\n  '-4:origin_file_data': 'NoMessage',\n  '-5:event_with_roles': 'NoMessage',\n  '-5:request_method_call': 'NoMessage',\n  '-5:selective_file_data': 'NoMessage',\n  '-5:origin_method': 'NoMessage',\n  '-5:origin_file_data': 'NoMessage',\n  '+1:event_with_roles': 'Odoo Application->End Point (Procurement):[HttpResponse:HTTP/1.0 200 OK\\\\r\\\\n]',\n  '+1:request_method_call': 'IsNumber',\n  '+1:selective_file_data': 'IsNumber',\n  '+1:origin_method': 'authenticate',\n  '+1:origin_file_data': '',\n  '+2:event_with_roles': 'End Point (Procurement)->Odoo Application:[HttpRequest:POST /xmlrpc/2/object HTTP/1.1\\\\r\\\\n]',\n  '+2:request_method_call': 'execute_kw',\n  '+2:selective_file_data': 'purchase.requisition_write',\n  '+2:origin_method': '',\n  '+2:origin_file_data': '',\n  '+3:event_with_roles': 'Odoo Application->db Server/Mail Server:[PgsqlRequest:Simple query]: UPDATE: purchase_requisition',\n  '+3:request_method_call': '',\n  '+3:selective_file_data': '',\n  '+3:origin_method': '',\n  '+3:origin_file_data': '',\n  '+4:event_with_roles': 'Odoo Application->db Server/Mail Server:[PgsqlRequest:Simple query]: INSERT: mail_message',\n  '+4:request_method_call': '',\n  '+4:selective_file_data': '',\n  '+4:origin_method': '',\n  '+4:origin_file_data': '',\n  '+5:event_with_roles': 'Odoo Application->db Server/Mail Server:[PgsqlRequest:Simple query]: INSERT: mail_tracking_value',\n  '+5:request_method_call': '',\n  '+5:selective_file_data': '',\n  '+5:origin_method': '',\n  '+5:origin_file_data': ''},\n {'bias': 1.0,\n  '0:event_with_roles': 'Odoo Application->End Point (Procurement):[HttpResponse:HTTP/1.0 200 OK\\\\r\\\\n]',\n  '0:request_method_call': 'IsNumber',\n  '0:selective_file_data': 'IsNumber',\n  '0:origin_method': 'authenticate',\n  '0:origin_file_data': '',\n  '-1:event_with_roles': 'Odoo Application->db Server/Mail Server:[PgsqlRequest:Simple query]: INSERT: res_users_log',\n  '-1:request_method_call': '',\n  '-1:selective_file_data': '',\n  '-1:origin_method': '',\n  '-1:origin_file_data': '',\n  '-2:event_with_roles': 'End Point (Procurement)->Odoo Application:[HttpRequest:POST /xmlrpc/2/common HTTP/1.1\\\\r\\\\n]',\n  '-2:request_method_call': 'authenticate',\n  '-2:selective_file_data': '',\n  '-2:origin_method': '',\n  '-2:origin_file_data': '',\n  '-3:event_with_roles': 'Odoo Application->End Point (Procurement):[HttpResponse:HTTP/1.0 200 OK\\\\r\\\\n]',\n  '-3:request_method_call': 'server_version',\n  '-3:selective_file_data': 'server_version',\n  '-3:origin_method': 'version',\n  '-3:origin_file_data': 'version',\n  '-4:event_with_roles': 'End Point (Procurement)->Odoo Application:[HttpRequest:POST /xmlrpc/2/common HTTP/1.1\\\\r\\\\n]',\n  '-4:request_method_call': 'version',\n  '-4:selective_file_data': 'version',\n  '-4:origin_method': '',\n  '-4:origin_file_data': '',\n  '-5:event_with_roles': 'NoMessage',\n  '-5:request_method_call': 'NoMessage',\n  '-5:selective_file_data': 'NoMessage',\n  '-5:origin_method': 'NoMessage',\n  '-5:origin_file_data': 'NoMessage',\n  '+1:event_with_roles': 'End Point (Procurement)->Odoo Application:[HttpRequest:POST /xmlrpc/2/object HTTP/1.1\\\\r\\\\n]',\n  '+1:request_method_call': 'execute_kw',\n  '+1:selective_file_data': 'purchase.requisition_write',\n  '+1:origin_method': '',\n  '+1:origin_file_data': '',\n  '+2:event_with_roles': 'Odoo Application->db Server/Mail Server:[PgsqlRequest:Simple query]: UPDATE: purchase_requisition',\n  '+2:request_method_call': '',\n  '+2:selective_file_data': '',\n  '+2:origin_method': '',\n  '+2:origin_file_data': '',\n  '+3:event_with_roles': 'Odoo Application->db Server/Mail Server:[PgsqlRequest:Simple query]: INSERT: mail_message',\n  '+3:request_method_call': '',\n  '+3:selective_file_data': '',\n  '+3:origin_method': '',\n  '+3:origin_file_data': '',\n  '+4:event_with_roles': 'Odoo Application->db Server/Mail Server:[PgsqlRequest:Simple query]: INSERT: mail_tracking_value',\n  '+4:request_method_call': '',\n  '+4:selective_file_data': '',\n  '+4:origin_method': '',\n  '+4:origin_file_data': '',\n  '+5:event_with_roles': 'Odoo Application->End Point (Procurement):[HttpResponse:HTTP/1.0 200 OK\\\\r\\\\n]',\n  '+5:request_method_call': 'IsNumber',\n  '+5:selective_file_data': 'IsNumber',\n  '+5:origin_method': 'execute_kw',\n  '+5:origin_file_data': 'purchase.requisition_write'},\n {'bias': 1.0,\n  '0:event_with_roles': 'End Point (Procurement)->Odoo Application:[HttpRequest:POST /xmlrpc/2/object HTTP/1.1\\\\r\\\\n]',\n  '0:request_method_call': 'execute_kw',\n  '0:selective_file_data': 'purchase.requisition_write',\n  '0:origin_method': '',\n  '0:origin_file_data': '',\n  '-1:event_with_roles': 'Odoo Application->End Point (Procurement):[HttpResponse:HTTP/1.0 200 OK\\\\r\\\\n]',\n  '-1:request_method_call': 'IsNumber',\n  '-1:selective_file_data': 'IsNumber',\n  '-1:origin_method': 'authenticate',\n  '-1:origin_file_data': '',\n  '-2:event_with_roles': 'Odoo Application->db Server/Mail Server:[PgsqlRequest:Simple query]: INSERT: res_users_log',\n  '-2:request_method_call': '',\n  '-2:selective_file_data': '',\n  '-2:origin_method': '',\n  '-2:origin_file_data': '',\n  '-3:event_with_roles': 'End Point (Procurement)->Odoo Application:[HttpRequest:POST /xmlrpc/2/common HTTP/1.1\\\\r\\\\n]',\n  '-3:request_method_call': 'authenticate',\n  '-3:selective_file_data': '',\n  '-3:origin_method': '',\n  '-3:origin_file_data': '',\n  '-4:event_with_roles': 'Odoo Application->End Point (Procurement):[HttpResponse:HTTP/1.0 200 OK\\\\r\\\\n]',\n  '-4:request_method_call': 'server_version',\n  '-4:selective_file_data': 'server_version',\n  '-4:origin_method': 'version',\n  '-4:origin_file_data': 'version',\n  '-5:event_with_roles': 'End Point (Procurement)->Odoo Application:[HttpRequest:POST /xmlrpc/2/common HTTP/1.1\\\\r\\\\n]',\n  '-5:request_method_call': 'version',\n  '-5:selective_file_data': 'version',\n  '-5:origin_method': '',\n  '-5:origin_file_data': '',\n  '+1:event_with_roles': 'Odoo Application->db Server/Mail Server:[PgsqlRequest:Simple query]: UPDATE: purchase_requisition',\n  '+1:request_method_call': '',\n  '+1:selective_file_data': '',\n  '+1:origin_method': '',\n  '+1:origin_file_data': '',\n  '+2:event_with_roles': 'Odoo Application->db Server/Mail Server:[PgsqlRequest:Simple query]: INSERT: mail_message',\n  '+2:request_method_call': '',\n  '+2:selective_file_data': '',\n  '+2:origin_method': '',\n  '+2:origin_file_data': '',\n  '+3:event_with_roles': 'Odoo Application->db Server/Mail Server:[PgsqlRequest:Simple query]: INSERT: mail_tracking_value',\n  '+3:request_method_call': '',\n  '+3:selective_file_data': '',\n  '+3:origin_method': '',\n  '+3:origin_file_data': '',\n  '+4:event_with_roles': 'Odoo Application->End Point (Procurement):[HttpResponse:HTTP/1.0 200 OK\\\\r\\\\n]',\n  '+4:request_method_call': 'IsNumber',\n  '+4:selective_file_data': 'IsNumber',\n  '+4:origin_method': 'execute_kw',\n  '+4:origin_file_data': 'purchase.requisition_write',\n  '+5:event_with_roles': 'NoMessage',\n  '+5:request_method_call': 'NoMessage',\n  '+5:selective_file_data': 'NoMessage',\n  '+5:origin_method': 'NoMessage',\n  '+5:origin_file_data': 'NoMessage'},\n {'bias': 1.0,\n  '0:event_with_roles': 'Odoo Application->db Server/Mail Server:[PgsqlRequest:Simple query]: UPDATE: purchase_requisition',\n  '0:request_method_call': '',\n  '0:selective_file_data': '',\n  '0:origin_method': '',\n  '0:origin_file_data': '',\n  '-1:event_with_roles': 'End Point (Procurement)->Odoo Application:[HttpRequest:POST /xmlrpc/2/object HTTP/1.1\\\\r\\\\n]',\n  '-1:request_method_call': 'execute_kw',\n  '-1:selective_file_data': 'purchase.requisition_write',\n  '-1:origin_method': '',\n  '-1:origin_file_data': '',\n  '-2:event_with_roles': 'Odoo Application->End Point (Procurement):[HttpResponse:HTTP/1.0 200 OK\\\\r\\\\n]',\n  '-2:request_method_call': 'IsNumber',\n  '-2:selective_file_data': 'IsNumber',\n  '-2:origin_method': 'authenticate',\n  '-2:origin_file_data': '',\n  '-3:event_with_roles': 'Odoo Application->db Server/Mail Server:[PgsqlRequest:Simple query]: INSERT: res_users_log',\n  '-3:request_method_call': '',\n  '-3:selective_file_data': '',\n  '-3:origin_method': '',\n  '-3:origin_file_data': '',\n  '-4:event_with_roles': 'End Point (Procurement)->Odoo Application:[HttpRequest:POST /xmlrpc/2/common HTTP/1.1\\\\r\\\\n]',\n  '-4:request_method_call': 'authenticate',\n  '-4:selective_file_data': '',\n  '-4:origin_method': '',\n  '-4:origin_file_data': '',\n  '-5:event_with_roles': 'Odoo Application->End Point (Procurement):[HttpResponse:HTTP/1.0 200 OK\\\\r\\\\n]',\n  '-5:request_method_call': 'server_version',\n  '-5:selective_file_data': 'server_version',\n  '-5:origin_method': 'version',\n  '-5:origin_file_data': 'version',\n  '+1:event_with_roles': 'Odoo Application->db Server/Mail Server:[PgsqlRequest:Simple query]: INSERT: mail_message',\n  '+1:request_method_call': '',\n  '+1:selective_file_data': '',\n  '+1:origin_method': '',\n  '+1:origin_file_data': '',\n  '+2:event_with_roles': 'Odoo Application->db Server/Mail Server:[PgsqlRequest:Simple query]: INSERT: mail_tracking_value',\n  '+2:request_method_call': '',\n  '+2:selective_file_data': '',\n  '+2:origin_method': '',\n  '+2:origin_file_data': '',\n  '+3:event_with_roles': 'Odoo Application->End Point (Procurement):[HttpResponse:HTTP/1.0 200 OK\\\\r\\\\n]',\n  '+3:request_method_call': 'IsNumber',\n  '+3:selective_file_data': 'IsNumber',\n  '+3:origin_method': 'execute_kw',\n  '+3:origin_file_data': 'purchase.requisition_write',\n  '+4:event_with_roles': 'NoMessage',\n  '+4:request_method_call': 'NoMessage',\n  '+4:selective_file_data': 'NoMessage',\n  '+4:origin_method': 'NoMessage',\n  '+4:origin_file_data': 'NoMessage',\n  '+5:event_with_roles': 'NoMessage',\n  '+5:request_method_call': 'NoMessage',\n  '+5:selective_file_data': 'NoMessage',\n  '+5:origin_method': 'NoMessage',\n  '+5:origin_file_data': 'NoMessage'},\n {'bias': 1.0,\n  '0:event_with_roles': 'Odoo Application->db Server/Mail Server:[PgsqlRequest:Simple query]: INSERT: mail_message',\n  '0:request_method_call': '',\n  '0:selective_file_data': '',\n  '0:origin_method': '',\n  '0:origin_file_data': '',\n  '-1:event_with_roles': 'Odoo Application->db Server/Mail Server:[PgsqlRequest:Simple query]: UPDATE: purchase_requisition',\n  '-1:request_method_call': '',\n  '-1:selective_file_data': '',\n  '-1:origin_method': '',\n  '-1:origin_file_data': '',\n  '-2:event_with_roles': 'End Point (Procurement)->Odoo Application:[HttpRequest:POST /xmlrpc/2/object HTTP/1.1\\\\r\\\\n]',\n  '-2:request_method_call': 'execute_kw',\n  '-2:selective_file_data': 'purchase.requisition_write',\n  '-2:origin_method': '',\n  '-2:origin_file_data': '',\n  '-3:event_with_roles': 'Odoo Application->End Point (Procurement):[HttpResponse:HTTP/1.0 200 OK\\\\r\\\\n]',\n  '-3:request_method_call': 'IsNumber',\n  '-3:selective_file_data': 'IsNumber',\n  '-3:origin_method': 'authenticate',\n  '-3:origin_file_data': '',\n  '-4:event_with_roles': 'Odoo Application->db Server/Mail Server:[PgsqlRequest:Simple query]: INSERT: res_users_log',\n  '-4:request_method_call': '',\n  '-4:selective_file_data': '',\n  '-4:origin_method': '',\n  '-4:origin_file_data': '',\n  '-5:event_with_roles': 'End Point (Procurement)->Odoo Application:[HttpRequest:POST /xmlrpc/2/common HTTP/1.1\\\\r\\\\n]',\n  '-5:request_method_call': 'authenticate',\n  '-5:selective_file_data': '',\n  '-5:origin_method': '',\n  '-5:origin_file_data': '',\n  '+1:event_with_roles': 'Odoo Application->db Server/Mail Server:[PgsqlRequest:Simple query]: INSERT: mail_tracking_value',\n  '+1:request_method_call': '',\n  '+1:selective_file_data': '',\n  '+1:origin_method': '',\n  '+1:origin_file_data': '',\n  '+2:event_with_roles': 'Odoo Application->End Point (Procurement):[HttpResponse:HTTP/1.0 200 OK\\\\r\\\\n]',\n  '+2:request_method_call': 'IsNumber',\n  '+2:selective_file_data': 'IsNumber',\n  '+2:origin_method': 'execute_kw',\n  '+2:origin_file_data': 'purchase.requisition_write',\n  '+3:event_with_roles': 'NoMessage',\n  '+3:request_method_call': 'NoMessage',\n  '+3:selective_file_data': 'NoMessage',\n  '+3:origin_method': 'NoMessage',\n  '+3:origin_file_data': 'NoMessage',\n  '+4:event_with_roles': 'NoMessage',\n  '+4:request_method_call': 'NoMessage',\n  '+4:selective_file_data': 'NoMessage',\n  '+4:origin_method': 'NoMessage',\n  '+4:origin_file_data': 'NoMessage',\n  '+5:event_with_roles': 'NoMessage',\n  '+5:request_method_call': 'NoMessage',\n  '+5:selective_file_data': 'NoMessage',\n  '+5:origin_method': 'NoMessage',\n  '+5:origin_file_data': 'NoMessage'},\n {'bias': 1.0,\n  '0:event_with_roles': 'Odoo Application->db Server/Mail Server:[PgsqlRequest:Simple query]: INSERT: mail_tracking_value',\n  '0:request_method_call': '',\n  '0:selective_file_data': '',\n  '0:origin_method': '',\n  '0:origin_file_data': '',\n  '-1:event_with_roles': 'Odoo Application->db Server/Mail Server:[PgsqlRequest:Simple query]: INSERT: mail_message',\n  '-1:request_method_call': '',\n  '-1:selective_file_data': '',\n  '-1:origin_method': '',\n  '-1:origin_file_data': '',\n  '-2:event_with_roles': 'Odoo Application->db Server/Mail Server:[PgsqlRequest:Simple query]: UPDATE: purchase_requisition',\n  '-2:request_method_call': '',\n  '-2:selective_file_data': '',\n  '-2:origin_method': '',\n  '-2:origin_file_data': '',\n  '-3:event_with_roles': 'End Point (Procurement)->Odoo Application:[HttpRequest:POST /xmlrpc/2/object HTTP/1.1\\\\r\\\\n]',\n  '-3:request_method_call': 'execute_kw',\n  '-3:selective_file_data': 'purchase.requisition_write',\n  '-3:origin_method': '',\n  '-3:origin_file_data': '',\n  '-4:event_with_roles': 'Odoo Application->End Point (Procurement):[HttpResponse:HTTP/1.0 200 OK\\\\r\\\\n]',\n  '-4:request_method_call': 'IsNumber',\n  '-4:selective_file_data': 'IsNumber',\n  '-4:origin_method': 'authenticate',\n  '-4:origin_file_data': '',\n  '-5:event_with_roles': 'Odoo Application->db Server/Mail Server:[PgsqlRequest:Simple query]: INSERT: res_users_log',\n  '-5:request_method_call': '',\n  '-5:selective_file_data': '',\n  '-5:origin_method': '',\n  '-5:origin_file_data': '',\n  '+1:event_with_roles': 'Odoo Application->End Point (Procurement):[HttpResponse:HTTP/1.0 200 OK\\\\r\\\\n]',\n  '+1:request_method_call': 'IsNumber',\n  '+1:selective_file_data': 'IsNumber',\n  '+1:origin_method': 'execute_kw',\n  '+1:origin_file_data': 'purchase.requisition_write',\n  '+2:event_with_roles': 'NoMessage',\n  '+2:request_method_call': 'NoMessage',\n  '+2:selective_file_data': 'NoMessage',\n  '+2:origin_method': 'NoMessage',\n  '+2:origin_file_data': 'NoMessage',\n  '+3:event_with_roles': 'NoMessage',\n  '+3:request_method_call': 'NoMessage',\n  '+3:selective_file_data': 'NoMessage',\n  '+3:origin_method': 'NoMessage',\n  '+3:origin_file_data': 'NoMessage',\n  '+4:event_with_roles': 'NoMessage',\n  '+4:request_method_call': 'NoMessage',\n  '+4:selective_file_data': 'NoMessage',\n  '+4:origin_method': 'NoMessage',\n  '+4:origin_file_data': 'NoMessage',\n  '+5:event_with_roles': 'NoMessage',\n  '+5:request_method_call': 'NoMessage',\n  '+5:selective_file_data': 'NoMessage',\n  '+5:origin_method': 'NoMessage',\n  '+5:origin_file_data': 'NoMessage'},\n {'bias': 1.0,\n  '0:event_with_roles': 'Odoo Application->End Point (Procurement):[HttpResponse:HTTP/1.0 200 OK\\\\r\\\\n]',\n  '0:request_method_call': 'IsNumber',\n  '0:selective_file_data': 'IsNumber',\n  '0:origin_method': 'execute_kw',\n  '0:origin_file_data': 'purchase.requisition_write',\n  '-1:event_with_roles': 'Odoo Application->db Server/Mail Server:[PgsqlRequest:Simple query]: INSERT: mail_tracking_value',\n  '-1:request_method_call': '',\n  '-1:selective_file_data': '',\n  '-1:origin_method': '',\n  '-1:origin_file_data': '',\n  '-2:event_with_roles': 'Odoo Application->db Server/Mail Server:[PgsqlRequest:Simple query]: INSERT: mail_message',\n  '-2:request_method_call': '',\n  '-2:selective_file_data': '',\n  '-2:origin_method': '',\n  '-2:origin_file_data': '',\n  '-3:event_with_roles': 'Odoo Application->db Server/Mail Server:[PgsqlRequest:Simple query]: UPDATE: purchase_requisition',\n  '-3:request_method_call': '',\n  '-3:selective_file_data': '',\n  '-3:origin_method': '',\n  '-3:origin_file_data': '',\n  '-4:event_with_roles': 'End Point (Procurement)->Odoo Application:[HttpRequest:POST /xmlrpc/2/object HTTP/1.1\\\\r\\\\n]',\n  '-4:request_method_call': 'execute_kw',\n  '-4:selective_file_data': 'purchase.requisition_write',\n  '-4:origin_method': '',\n  '-4:origin_file_data': '',\n  '-5:event_with_roles': 'Odoo Application->End Point (Procurement):[HttpResponse:HTTP/1.0 200 OK\\\\r\\\\n]',\n  '-5:request_method_call': 'IsNumber',\n  '-5:selective_file_data': 'IsNumber',\n  '-5:origin_method': 'authenticate',\n  '-5:origin_file_data': '',\n  '+1:event_with_roles': 'NoMessage',\n  '+1:request_method_call': 'NoMessage',\n  '+1:selective_file_data': 'NoMessage',\n  '+1:origin_method': 'NoMessage',\n  '+1:origin_file_data': 'NoMessage',\n  '+2:event_with_roles': 'NoMessage',\n  '+2:request_method_call': 'NoMessage',\n  '+2:selective_file_data': 'NoMessage',\n  '+2:origin_method': 'NoMessage',\n  '+2:origin_file_data': 'NoMessage',\n  '+3:event_with_roles': 'NoMessage',\n  '+3:request_method_call': 'NoMessage',\n  '+3:selective_file_data': 'NoMessage',\n  '+3:origin_method': 'NoMessage',\n  '+3:origin_file_data': 'NoMessage',\n  '+4:event_with_roles': 'NoMessage',\n  '+4:request_method_call': 'NoMessage',\n  '+4:selective_file_data': 'NoMessage',\n  '+4:origin_method': 'NoMessage',\n  '+4:origin_file_data': 'NoMessage',\n  '+5:event_with_roles': 'NoMessage',\n  '+5:request_method_call': 'NoMessage',\n  '+5:selective_file_data': 'NoMessage',\n  '+5:origin_method': 'NoMessage',\n  '+5:origin_file_data': 'NoMessage'}]"
     },
     "execution_count": 12,
     "metadata": {},
     "output_type": "execute_result"
    }
   ],
   "source": [
    "# Single Events w. window features\n",
    "\n",
    "# Apply sequencing - flatten later\n",
    "\n",
    "def seq2features(seq, bw, fw): \n",
    "    return [event2features(seq, i, bw, fw) for i in range(len(seq))]\n",
    "\n",
    "def event2features(seq, i, bw, fw):\n",
    "    features = {\"bias\": 1.0}\n",
    "    \n",
    "    features.update({\n",
    "        f\"0:{k}\": v for k,v in seq[i].items()\n",
    "    })\n",
    "    \n",
    "    for j in range(1, bw+1): \n",
    "        index = i-j\n",
    "        if index >= 0: \n",
    "            features.update({\n",
    "                f\"-{j}:{k}\": v for k,v in seq[index].items()\n",
    "            })\n",
    "        else: \n",
    "            features.update({\n",
    "                 f\"-{j}:{k}\": \"NoMessage\" for k,_ in seq[i].items()\n",
    "            })\n",
    "        \n",
    "    for j in range(1,fw+1): \n",
    "        index = i + j\n",
    "        if index < len(seq): \n",
    "             features.update({\n",
    "                f\"+{j}:{k}\": v for k,v in seq[index].items()\n",
    "            })\n",
    "        else: \n",
    "            features.update({\n",
    "                 f\"+{j}:{k}\": \"NoMessage\" for k,_ in seq[i].items()\n",
    "            })\n",
    "            \n",
    "    return features\n",
    "\n",
    "seq2features(train_activity_sequences[0][feature_cols].to_dict(\"records\"), 5, 5)"
   ],
   "metadata": {
    "collapsed": false,
    "ExecuteTime": {
     "end_time": "2024-03-18T08:08:23.826306Z",
     "start_time": "2024-03-18T08:08:23.818406Z"
    }
   },
   "id": "d339bfcb02536e08"
  },
  {
   "cell_type": "code",
   "execution_count": 13,
   "outputs": [],
   "source": [
    "train_features_seq_window = [seq2features(seq[feature_cols].to_dict(\"records\"), 10,10) for seq in train_activity_sequences]\n",
    "train_labels_seq_window = [seq[\"BusinessActivity\"] for seq in train_activity_sequences]"
   ],
   "metadata": {
    "collapsed": false,
    "ExecuteTime": {
     "end_time": "2024-03-18T08:08:25.340985Z",
     "start_time": "2024-03-18T08:08:23.823190Z"
    }
   },
   "id": "b8dc752ce27ee092"
  },
  {
   "cell_type": "code",
   "execution_count": 14,
   "outputs": [],
   "source": [
    "test_features_seq_window = [seq2features(seq[feature_cols].to_dict(\"records\"), 10,5) for seq in test_activity_sequences]\n",
    "test_labels_seq_window = [seq[\"activity_name\"].tolist() for seq in test_activity_sequences]"
   ],
   "metadata": {
    "collapsed": false,
    "ExecuteTime": {
     "end_time": "2024-03-18T08:08:25.451770Z",
     "start_time": "2024-03-18T08:08:25.340005Z"
    }
   },
   "id": "707b372be51954a6"
  },
  {
   "cell_type": "code",
   "execution_count": 15,
   "outputs": [],
   "source": [
    "from sklearn.model_selection import train_test_split\n",
    "\n",
    "APPLY_SEQUENCES = False\n",
    "EVAL_ON_IL = False\n",
    "\n",
    "if APPLY_SEQUENCES: \n",
    "    train_features = train_features_seq\n",
    "    test_features = test_features_seq\n",
    "    train_labels = train_labels_seq\n",
    "    test_labels = test_labels_seq\n",
    "\n",
    "    \n",
    "else: \n",
    "    X_train, X_test, y_train, y_test = train_test_split(train_features, train_labels, test_size=0.3, random_state=42)"
   ],
   "metadata": {
    "collapsed": false,
    "ExecuteTime": {
     "end_time": "2024-03-18T08:08:26.124811Z",
     "start_time": "2024-03-18T08:08:25.452556Z"
    }
   },
   "id": "5dfdd1e89d8784aa"
  },
  {
   "cell_type": "code",
   "execution_count": 16,
   "outputs": [],
   "source": [
    "X_train = train_features_seq_window\n",
    "X_test = test_features_seq_window\n",
    "y_train = train_labels_seq_window\n",
    "y_test = test_labels_seq_window"
   ],
   "metadata": {
    "collapsed": false,
    "ExecuteTime": {
     "end_time": "2024-03-18T08:08:26.130005Z",
     "start_time": "2024-03-18T08:08:26.126168Z"
    }
   },
   "id": "3ea4b34db7dd2b3f"
  },
  {
   "cell_type": "code",
   "execution_count": 17,
   "outputs": [],
   "source": [
    "def flatten(list_of_list): \n",
    "    return [item for sublist in list_of_list for item in sublist]\n",
    "\n",
    "def flatten_and_encapsulate(list_of_list):\n",
    "    return [[item] for sublist in list_of_list for item in sublist]\n",
    "\n",
    "\n",
    "X_train = flatten_and_encapsulate(train_features_seq_window)\n",
    "X_test_seq = test_features_seq_window\n",
    "X_test = flatten_and_encapsulate(test_features_seq_window)\n",
    "y_train = flatten_and_encapsulate(train_labels_seq_window)\n",
    "y_test_seq = test_labels_seq_window\n",
    "y_test = flatten_and_encapsulate(test_labels_seq_window)"
   ],
   "metadata": {
    "collapsed": false,
    "ExecuteTime": {
     "end_time": "2024-03-18T08:08:26.146748Z",
     "start_time": "2024-03-18T08:08:26.136549Z"
    }
   },
   "id": "48528ba2dfce66a0"
  },
  {
   "cell_type": "markdown",
   "source": [
    "# Model Training"
   ],
   "metadata": {
    "collapsed": false
   },
   "id": "69ebe912bbe7bfed"
  },
  {
   "cell_type": "code",
   "execution_count": 18,
   "outputs": [
    {
     "name": "stdout",
     "output_type": "stream",
     "text": [
      "CPU times: user 10.2 s, sys: 112 ms, total: 10.3 s\n",
      "Wall time: 10.5 s\n"
     ]
    },
    {
     "data": {
      "text/plain": "CRF(all_possible_transitions=True, c1=0.1, c2=0.01, max_iterations=200)",
      "text/html": "<style>#sk-container-id-1 {color: black;}#sk-container-id-1 pre{padding: 0;}#sk-container-id-1 div.sk-toggleable {background-color: white;}#sk-container-id-1 label.sk-toggleable__label {cursor: pointer;display: block;width: 100%;margin-bottom: 0;padding: 0.3em;box-sizing: border-box;text-align: center;}#sk-container-id-1 label.sk-toggleable__label-arrow:before {content: \"▸\";float: left;margin-right: 0.25em;color: #696969;}#sk-container-id-1 label.sk-toggleable__label-arrow:hover:before {color: black;}#sk-container-id-1 div.sk-estimator:hover label.sk-toggleable__label-arrow:before {color: black;}#sk-container-id-1 div.sk-toggleable__content {max-height: 0;max-width: 0;overflow: hidden;text-align: left;background-color: #f0f8ff;}#sk-container-id-1 div.sk-toggleable__content pre {margin: 0.2em;color: black;border-radius: 0.25em;background-color: #f0f8ff;}#sk-container-id-1 input.sk-toggleable__control:checked~div.sk-toggleable__content {max-height: 200px;max-width: 100%;overflow: auto;}#sk-container-id-1 input.sk-toggleable__control:checked~label.sk-toggleable__label-arrow:before {content: \"▾\";}#sk-container-id-1 div.sk-estimator input.sk-toggleable__control:checked~label.sk-toggleable__label {background-color: #d4ebff;}#sk-container-id-1 div.sk-label input.sk-toggleable__control:checked~label.sk-toggleable__label {background-color: #d4ebff;}#sk-container-id-1 input.sk-hidden--visually {border: 0;clip: rect(1px 1px 1px 1px);clip: rect(1px, 1px, 1px, 1px);height: 1px;margin: -1px;overflow: hidden;padding: 0;position: absolute;width: 1px;}#sk-container-id-1 div.sk-estimator {font-family: monospace;background-color: #f0f8ff;border: 1px dotted black;border-radius: 0.25em;box-sizing: border-box;margin-bottom: 0.5em;}#sk-container-id-1 div.sk-estimator:hover {background-color: #d4ebff;}#sk-container-id-1 div.sk-parallel-item::after {content: \"\";width: 100%;border-bottom: 1px solid gray;flex-grow: 1;}#sk-container-id-1 div.sk-label:hover label.sk-toggleable__label {background-color: #d4ebff;}#sk-container-id-1 div.sk-serial::before {content: \"\";position: absolute;border-left: 1px solid gray;box-sizing: border-box;top: 0;bottom: 0;left: 50%;z-index: 0;}#sk-container-id-1 div.sk-serial {display: flex;flex-direction: column;align-items: center;background-color: white;padding-right: 0.2em;padding-left: 0.2em;position: relative;}#sk-container-id-1 div.sk-item {position: relative;z-index: 1;}#sk-container-id-1 div.sk-parallel {display: flex;align-items: stretch;justify-content: center;background-color: white;position: relative;}#sk-container-id-1 div.sk-item::before, #sk-container-id-1 div.sk-parallel-item::before {content: \"\";position: absolute;border-left: 1px solid gray;box-sizing: border-box;top: 0;bottom: 0;left: 50%;z-index: -1;}#sk-container-id-1 div.sk-parallel-item {display: flex;flex-direction: column;z-index: 1;position: relative;background-color: white;}#sk-container-id-1 div.sk-parallel-item:first-child::after {align-self: flex-end;width: 50%;}#sk-container-id-1 div.sk-parallel-item:last-child::after {align-self: flex-start;width: 50%;}#sk-container-id-1 div.sk-parallel-item:only-child::after {width: 0;}#sk-container-id-1 div.sk-dashed-wrapped {border: 1px dashed gray;margin: 0 0.4em 0.5em 0.4em;box-sizing: border-box;padding-bottom: 0.4em;background-color: white;}#sk-container-id-1 div.sk-label label {font-family: monospace;font-weight: bold;display: inline-block;line-height: 1.2em;}#sk-container-id-1 div.sk-label-container {text-align: center;}#sk-container-id-1 div.sk-container {/* jupyter's `normalize.less` sets `[hidden] { display: none; }` but bootstrap.min.css set `[hidden] { display: none !important; }` so we also need the `!important` here to be able to override the default hidden behavior on the sphinx rendered scikit-learn.org. See: https://github.com/scikit-learn/scikit-learn/issues/21755 */display: inline-block !important;position: relative;}#sk-container-id-1 div.sk-text-repr-fallback {display: none;}</style><div id=\"sk-container-id-1\" class=\"sk-top-container\"><div class=\"sk-text-repr-fallback\"><pre>CRF(all_possible_transitions=True, c1=0.1, c2=0.01, max_iterations=200)</pre><b>In a Jupyter environment, please rerun this cell to show the HTML representation or trust the notebook. <br />On GitHub, the HTML representation is unable to render, please try loading this page with nbviewer.org.</b></div><div class=\"sk-container\" hidden><div class=\"sk-item\"><div class=\"sk-estimator sk-toggleable\"><input class=\"sk-toggleable__control sk-hidden--visually\" id=\"sk-estimator-id-1\" type=\"checkbox\" checked><label for=\"sk-estimator-id-1\" class=\"sk-toggleable__label sk-toggleable__label-arrow\">CRF</label><div class=\"sk-toggleable__content\"><pre>CRF(all_possible_transitions=True, c1=0.1, c2=0.01, max_iterations=200)</pre></div></div></div></div></div>"
     },
     "execution_count": 18,
     "metadata": {},
     "output_type": "execute_result"
    }
   ],
   "source": [
    "%%time\n",
    "import sklearn_crfsuite\n",
    "\n",
    "crf = sklearn_crfsuite.CRF(\n",
    "    max_iterations=200,\n",
    "    c1=0.1,\n",
    "    c2=0.01,\n",
    "    all_possible_transitions=True\n",
    "    #all_possible_transitions=True\n",
    ")\n",
    "crf.fit(X_train, y_train)"
   ],
   "metadata": {
    "collapsed": false,
    "ExecuteTime": {
     "end_time": "2024-03-18T08:08:36.693268Z",
     "start_time": "2024-03-18T08:08:26.139942Z"
    }
   },
   "id": "2222d8342a8244c9"
  },
  {
   "cell_type": "code",
   "execution_count": 19,
   "outputs": [],
   "source": [
    "from sklearn.metrics import make_scorer\n",
    "import scipy\n",
    "from sklearn.model_selection import RandomizedSearchCV\n",
    "from sklearn_crfsuite import metrics\n",
    "import numpy as np\n",
    "\n",
    "# define fixed parameters and parameters to search\n",
    "crf2 = sklearn_crfsuite.CRF(\n",
    "    algorithm='lbfgs', \n",
    "    max_iterations=100, \n",
    "    all_possible_transitions=True\n",
    ")\n",
    "params_space = {\n",
    "    'c1': scipy.stats.expon(scale=0.5),\n",
    "    'c2': scipy.stats.expon(scale=0.05),\n",
    "}\n",
    "\n",
    "# use the same metric for evaluation\n",
    "f1_scorer = make_scorer(metrics.flat_f1_score, \n",
    "                        average='macro', labels=np.unique(test_labels))\n",
    "\n",
    "# search\n",
    "rs = RandomizedSearchCV(crf, params_space, \n",
    "                        cv=5, \n",
    "                        verbose=1, \n",
    "                        n_jobs=-1, \n",
    "                        n_iter=50, \n",
    "                        scoring=f1_scorer)\n",
    "#rs.fit(X_train, y_train)\n",
    "\n",
    "#crf = rs.best_estimator_"
   ],
   "metadata": {
    "collapsed": false,
    "ExecuteTime": {
     "end_time": "2024-03-18T08:08:36.732943Z",
     "start_time": "2024-03-18T08:08:36.692049Z"
    }
   },
   "id": "f4ead5e4a6997ccf"
  },
  {
   "cell_type": "code",
   "execution_count": 20,
   "outputs": [],
   "source": [
    "from sklearn.metrics import multilabel_confusion_matrix\n",
    "from sklearn_crfsuite import metrics\n",
    "\n",
    "\n",
    "def flatten(xss):\n",
    "    return [x for xs in xss for x in xs]\n",
    "\n",
    "\n",
    "def evaluate(model, x, y_true):\n",
    "    y_pred = model.predict(x)\n",
    "    print(metrics.flat_f1_score(y_true, y_pred, average='macro', labels=model.classes_))\n",
    "    print(metrics.flat_classification_report(y_true, y_pred, model.classes_))\n",
    "    [print(label, \"\\n\", matrix) for matrix, label in\n",
    "     zip(multilabel_confusion_matrix(flatten(y_true), flatten(y_pred), labels=model.classes_), model.classes_)]\n"
   ],
   "metadata": {
    "collapsed": false,
    "ExecuteTime": {
     "end_time": "2024-03-18T08:08:36.733135Z",
     "start_time": "2024-03-18T08:08:36.700019Z"
    }
   },
   "id": "62f176a8952a834a"
  },
  {
   "cell_type": "code",
   "execution_count": null,
   "outputs": [],
   "source": [],
   "metadata": {
    "collapsed": false
   },
   "id": "6c64b90ce0720d70"
  },
  {
   "cell_type": "code",
   "execution_count": 33,
   "outputs": [],
   "source": [
    "y_pred = crf.predict(X_test)"
   ],
   "metadata": {
    "collapsed": false,
    "ExecuteTime": {
     "end_time": "2024-03-18T08:13:07.545960Z",
     "start_time": "2024-03-18T08:13:07.431158Z"
    }
   },
   "id": "367af7a911726a1d"
  },
  {
   "cell_type": "code",
   "execution_count": null,
   "outputs": [],
   "source": [],
   "metadata": {
    "collapsed": false
   },
   "id": "d2925e9a58da8a59"
  },
  {
   "cell_type": "code",
   "execution_count": 22,
   "outputs": [
    {
     "data": {
      "text/plain": "[{'bias': 1.0,\n  '0:event_with_roles': 'End Point (Employee)->Odoo Application:[HttpRequest:POST /xmlrpc/2/common HTTP/1.1\\\\r\\\\n]',\n  '0:request_method_call': 'version',\n  '0:selective_file_data': 'version',\n  '0:origin_method': nan,\n  '0:origin_file_data': nan,\n  '-1:event_with_roles': 'NoMessage',\n  '-1:request_method_call': 'NoMessage',\n  '-1:selective_file_data': 'NoMessage',\n  '-1:origin_method': 'NoMessage',\n  '-1:origin_file_data': 'NoMessage',\n  '-2:event_with_roles': 'NoMessage',\n  '-2:request_method_call': 'NoMessage',\n  '-2:selective_file_data': 'NoMessage',\n  '-2:origin_method': 'NoMessage',\n  '-2:origin_file_data': 'NoMessage',\n  '-3:event_with_roles': 'NoMessage',\n  '-3:request_method_call': 'NoMessage',\n  '-3:selective_file_data': 'NoMessage',\n  '-3:origin_method': 'NoMessage',\n  '-3:origin_file_data': 'NoMessage',\n  '-4:event_with_roles': 'NoMessage',\n  '-4:request_method_call': 'NoMessage',\n  '-4:selective_file_data': 'NoMessage',\n  '-4:origin_method': 'NoMessage',\n  '-4:origin_file_data': 'NoMessage',\n  '-5:event_with_roles': 'NoMessage',\n  '-5:request_method_call': 'NoMessage',\n  '-5:selective_file_data': 'NoMessage',\n  '-5:origin_method': 'NoMessage',\n  '-5:origin_file_data': 'NoMessage',\n  '-6:event_with_roles': 'NoMessage',\n  '-6:request_method_call': 'NoMessage',\n  '-6:selective_file_data': 'NoMessage',\n  '-6:origin_method': 'NoMessage',\n  '-6:origin_file_data': 'NoMessage',\n  '-7:event_with_roles': 'NoMessage',\n  '-7:request_method_call': 'NoMessage',\n  '-7:selective_file_data': 'NoMessage',\n  '-7:origin_method': 'NoMessage',\n  '-7:origin_file_data': 'NoMessage',\n  '-8:event_with_roles': 'NoMessage',\n  '-8:request_method_call': 'NoMessage',\n  '-8:selective_file_data': 'NoMessage',\n  '-8:origin_method': 'NoMessage',\n  '-8:origin_file_data': 'NoMessage',\n  '-9:event_with_roles': 'NoMessage',\n  '-9:request_method_call': 'NoMessage',\n  '-9:selective_file_data': 'NoMessage',\n  '-9:origin_method': 'NoMessage',\n  '-9:origin_file_data': 'NoMessage',\n  '-10:event_with_roles': 'NoMessage',\n  '-10:request_method_call': 'NoMessage',\n  '-10:selective_file_data': 'NoMessage',\n  '-10:origin_method': 'NoMessage',\n  '-10:origin_file_data': 'NoMessage',\n  '+1:event_with_roles': 'Odoo Application->End Point (Employee):[HttpResponse:HTTP/1.0 200 OK\\\\r\\\\n]',\n  '+1:request_method_call': 'server_version',\n  '+1:selective_file_data': 'server_version',\n  '+1:origin_method': 'version',\n  '+1:origin_file_data': 'version',\n  '+2:event_with_roles': 'End Point (Employee)->Odoo Application:[HttpRequest:POST /xmlrpc/2/common HTTP/1.1\\\\r\\\\n]',\n  '+2:request_method_call': 'authenticate',\n  '+2:selective_file_data': nan,\n  '+2:origin_method': nan,\n  '+2:origin_file_data': nan,\n  '+3:event_with_roles': 'Odoo Application->db Server/Mail Server:[PgsqlRequest:Simple query]: INSERT: res_users_log',\n  '+3:request_method_call': nan,\n  '+3:selective_file_data': nan,\n  '+3:origin_method': nan,\n  '+3:origin_file_data': nan,\n  '+4:event_with_roles': 'Odoo Application->End Point (Employee):[HttpResponse:HTTP/1.0 200 OK\\\\r\\\\n]',\n  '+4:request_method_call': 'IsNumber',\n  '+4:selective_file_data': 'IsNumber',\n  '+4:origin_method': 'authenticate',\n  '+4:origin_file_data': nan,\n  '+5:event_with_roles': 'End Point (Employee)->Odoo Application:[HttpRequest:POST /xmlrpc/2/object HTTP/1.1\\\\r\\\\n]',\n  '+5:request_method_call': 'execute_kw',\n  '+5:selective_file_data': 'product.product_search_read',\n  '+5:origin_method': nan,\n  '+5:origin_file_data': nan}]"
     },
     "execution_count": 22,
     "metadata": {},
     "output_type": "execute_result"
    }
   ],
   "source": [
    "X_test[0]"
   ],
   "metadata": {
    "collapsed": false,
    "ExecuteTime": {
     "end_time": "2024-03-18T08:08:36.846404Z",
     "start_time": "2024-03-18T08:08:36.841875Z"
    }
   },
   "id": "3e15eb2bbcc527b6"
  },
  {
   "cell_type": "code",
   "execution_count": 23,
   "outputs": [
    {
     "data": {
      "text/plain": "[['CreatePurchaseRequest']]"
     },
     "execution_count": 23,
     "metadata": {},
     "output_type": "execute_result"
    }
   ],
   "source": [
    "crf.predict([X_test[0]])"
   ],
   "metadata": {
    "collapsed": false,
    "ExecuteTime": {
     "end_time": "2024-03-18T08:08:36.878196Z",
     "start_time": "2024-03-18T08:08:36.845056Z"
    }
   },
   "id": "7059e1daccbfe3b2"
  },
  {
   "cell_type": "code",
   "execution_count": 24,
   "outputs": [],
   "source": [
    "# Try Majority Voting"
   ],
   "metadata": {
    "collapsed": false,
    "ExecuteTime": {
     "end_time": "2024-03-18T08:08:36.879804Z",
     "start_time": "2024-03-18T08:08:36.848561Z"
    }
   },
   "id": "7a6c303c4ca5d493"
  },
  {
   "cell_type": "code",
   "execution_count": 25,
   "outputs": [],
   "source": [
    "pred_margs = crf.predict_marginals(X_test_seq)\n",
    "pred = crf.predict(X_test_seq)"
   ],
   "metadata": {
    "collapsed": false,
    "ExecuteTime": {
     "end_time": "2024-03-18T08:08:37.087960Z",
     "start_time": "2024-03-18T08:08:36.915463Z"
    }
   },
   "id": "6ffcd9c4d2bc4fba"
  },
  {
   "cell_type": "code",
   "execution_count": 26,
   "outputs": [],
   "source": [
    "def confidence_weighted_majority_voting(predictions):\n",
    "    \"\"\"\n",
    "    Perform confidence-weighted majority voting on each sublist of predictions.\n",
    "\n",
    "    :param predictions: A list of dictionaries where each dictionary contains predictions and their confidences.\n",
    "    :return: A list of majority voted predictions for each sublist.\n",
    "    \"\"\"\n",
    "    majority_voted_predictions = []\n",
    "    for sublist in predictions:\n",
    "        if not sublist:\n",
    "            # If the sublist is empty, append None to the majority voted predictions\n",
    "            majority_voted_predictions.append(None)\n",
    "        else:\n",
    "            # Initialize variables to store cumulative confidences for each prediction\n",
    "            cumulative_confidences = {label: 0.0 for label in sublist[0].keys()}\n",
    "            \n",
    "            # Calculate cumulative confidences for each prediction across all dictionaries in the sublist\n",
    "            for prediction_dict in sublist:\n",
    "                for label, confidence in prediction_dict.items():\n",
    "                    cumulative_confidences[label] += confidence\n",
    "            \n",
    "            # Find the prediction with the maximum cumulative confidence\n",
    "            majority_voted_prediction = max(cumulative_confidences, key=cumulative_confidences.get)\n",
    "            majority_voted_predictions.append(majority_voted_prediction)\n",
    "\n",
    "    return majority_voted_predictions\n",
    "\n",
    "cwmv_pred = confidence_weighted_majority_voting(pred_margs)"
   ],
   "metadata": {
    "collapsed": false,
    "ExecuteTime": {
     "end_time": "2024-03-18T08:08:37.093731Z",
     "start_time": "2024-03-18T08:08:37.091153Z"
    }
   },
   "id": "aeedd275218f89ff"
  },
  {
   "cell_type": "code",
   "execution_count": 27,
   "outputs": [],
   "source": [
    "def majority_voting(predictions):\n",
    "    \"\"\"\n",
    "    Perform majority voting on each sublist of predictions.\n",
    "\n",
    "    :param predictions: A list of lists where each sublist contains predictions.\n",
    "    :return: A list of majority voted predictions for each sublist.\n",
    "    \"\"\"\n",
    "    majority_voted_predictions = []\n",
    "    for sublist in predictions:\n",
    "        if not sublist:\n",
    "            # If the sublist is empty, append None to the majority voted predictions\n",
    "            majority_voted_predictions.append(None)\n",
    "        else:\n",
    "            # Count the occurrences of each prediction in the sublist\n",
    "            counts = {}\n",
    "            for prediction in sublist:\n",
    "                if prediction in counts:\n",
    "                    counts[prediction] += 1\n",
    "                else:\n",
    "                    counts[prediction] = 1\n",
    "            \n",
    "            # Find the prediction with the maximum count (mode)\n",
    "            majority_voted_prediction = max(counts, key=counts.get)\n",
    "            majority_voted_predictions.append(majority_voted_prediction)\n",
    "\n",
    "    return majority_voted_predictions\n",
    "\n",
    "mv_pred = majority_voting(pred)\n",
    "mv_true = majority_voting(test_labels_seq_window)"
   ],
   "metadata": {
    "collapsed": false,
    "ExecuteTime": {
     "end_time": "2024-03-18T08:08:37.098960Z",
     "start_time": "2024-03-18T08:08:37.095084Z"
    }
   },
   "id": "3f533691ca78f5c5"
  },
  {
   "cell_type": "code",
   "execution_count": 28,
   "outputs": [
    {
     "name": "stdout",
     "output_type": "stream",
     "text": [
      "                       precision    recall  f1-score   support\n",
      "\n",
      "         BidSelection       0.62      0.80      0.70        10\n",
      "  CreateCallForTender       1.00      0.80      0.89        10\n",
      "  CreatePurchaseOrder       0.00      0.00      0.00         8\n",
      "CreatePurchaseRequest       1.00      1.00      1.00         9\n",
      "            CreateRfq       0.47      0.80      0.59        10\n",
      "         ReceiveGoods       1.00      0.88      0.93         8\n",
      "        SubmitPayment       0.62      0.71      0.67         7\n",
      "\n",
      "             accuracy                           0.73        62\n",
      "            macro avg       0.67      0.71      0.68        62\n",
      "         weighted avg       0.68      0.73      0.69        62\n"
     ]
    }
   ],
   "source": [
    "from sklearn.metrics import classification_report\n",
    "import numpy as np\n",
    "\n",
    "print(classification_report(mv_true, mv_pred, zero_division=0.0))"
   ],
   "metadata": {
    "collapsed": false,
    "ExecuteTime": {
     "end_time": "2024-03-18T08:08:37.130634Z",
     "start_time": "2024-03-18T08:08:37.106145Z"
    }
   },
   "id": "580667272e465b83"
  },
  {
   "cell_type": "code",
   "execution_count": 29,
   "outputs": [
    {
     "name": "stdout",
     "output_type": "stream",
     "text": [
      "                       precision    recall  f1-score   support\n",
      "\n",
      "         BidSelection       0.62      0.80      0.70        10\n",
      "  CreateCallForTender       1.00      0.80      0.89        10\n",
      "  CreatePurchaseOrder       1.00      0.12      0.22         8\n",
      "CreatePurchaseRequest       1.00      1.00      1.00         9\n",
      "            CreateRfq       0.50      0.80      0.62        10\n",
      "         ReceiveGoods       1.00      0.88      0.93         8\n",
      "        SubmitPayment       0.62      0.71      0.67         7\n",
      "\n",
      "             accuracy                           0.74        62\n",
      "            macro avg       0.82      0.73      0.72        62\n",
      "         weighted avg       0.81      0.74      0.72        62\n"
     ]
    }
   ],
   "source": [
    "print(classification_report(mv_true, cwmv_pred, zero_division=0.0))"
   ],
   "metadata": {
    "collapsed": false,
    "ExecuteTime": {
     "end_time": "2024-03-18T08:08:37.132543Z",
     "start_time": "2024-03-18T08:08:37.119168Z"
    }
   },
   "id": "429aeec014bb2d11"
  },
  {
   "cell_type": "code",
   "execution_count": 30,
   "outputs": [
    {
     "name": "stdout",
     "output_type": "stream",
     "text": [
      "BidSelection \n",
      " [[47  5]\n",
      " [ 2  8]]\n",
      "CreateCallForTender \n",
      " [[52  0]\n",
      " [ 2  8]]\n",
      "CreatePurchaseOrder \n",
      " [[54  0]\n",
      " [ 7  1]]\n",
      "CreatePurchaseRequest \n",
      " [[53  0]\n",
      " [ 0  9]]\n",
      "CreateRfq \n",
      " [[44  8]\n",
      " [ 2  8]]\n",
      "ReceiveGoods \n",
      " [[54  0]\n",
      " [ 1  7]]\n",
      "SubmitPayment \n",
      " [[52  3]\n",
      " [ 2  5]]\n"
     ]
    },
    {
     "data": {
      "text/plain": "[None, None, None, None, None, None, None]"
     },
     "execution_count": 30,
     "metadata": {},
     "output_type": "execute_result"
    }
   ],
   "source": [
    "[print(label, \"\\n\", matrix) for matrix, label in\n",
    "     zip(multilabel_confusion_matrix(mv_true, cwmv_pred, labels=crf.classes_), crf.classes_)]"
   ],
   "metadata": {
    "collapsed": false,
    "ExecuteTime": {
     "end_time": "2024-03-18T08:08:37.150246Z",
     "start_time": "2024-03-18T08:08:37.126798Z"
    }
   },
   "id": "269a4842bd0a2845"
  },
  {
   "cell_type": "code",
   "execution_count": 31,
   "outputs": [],
   "source": [
    "df_eval = pd.DataFrame({\"true\": mv_true, \"pred\": cwmv_pred})\n",
    "df_eval[\"pred_true\"] = df_eval[\"true\"] == df_eval[\"pred\"] "
   ],
   "metadata": {
    "collapsed": false,
    "ExecuteTime": {
     "end_time": "2024-03-18T08:08:37.182648Z",
     "start_time": "2024-03-18T08:08:37.133982Z"
    }
   },
   "id": "23fa844075e32252"
  },
  {
   "cell_type": "code",
   "execution_count": 31,
   "outputs": [],
   "source": [],
   "metadata": {
    "collapsed": false,
    "ExecuteTime": {
     "end_time": "2024-03-18T08:08:37.182824Z",
     "start_time": "2024-03-18T08:08:37.136121Z"
    }
   },
   "id": "f03eb78d5fd29e96"
  }
 ],
 "metadata": {
  "kernelspec": {
   "display_name": "Python 3",
   "language": "python",
   "name": "python3"
  },
  "language_info": {
   "codemirror_mode": {
    "name": "ipython",
    "version": 2
   },
   "file_extension": ".py",
   "mimetype": "text/x-python",
   "name": "python",
   "nbconvert_exporter": "python",
   "pygments_lexer": "ipython2",
   "version": "2.7.6"
  }
 },
 "nbformat": 4,
 "nbformat_minor": 5
}
