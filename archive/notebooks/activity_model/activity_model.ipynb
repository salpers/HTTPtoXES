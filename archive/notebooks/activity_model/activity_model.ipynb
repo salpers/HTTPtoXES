{
 "cells": [
  {
   "cell_type": "code",
   "execution_count": 1,
   "id": "initial_id",
   "metadata": {
    "collapsed": true,
    "ExecuteTime": {
     "end_time": "2024-01-17T09:28:58.597544Z",
     "start_time": "2024-01-17T09:28:56.603300Z"
    }
   },
   "outputs": [],
   "source": [
    "import pandas as pd"
   ]
  },
  {
   "cell_type": "code",
   "execution_count": 83,
   "outputs": [],
   "source": [
    "df_in = pd.read_csv('../../data_v3/hr_il_tagged.csv')\n",
    "df_gt = pd.read_csv('../../data_v3/hr_ground_truth.csv')"
   ],
   "metadata": {
    "collapsed": false,
    "ExecuteTime": {
     "end_time": "2024-01-17T10:47:24.017306Z",
     "start_time": "2024-01-17T10:47:23.986858Z"
    }
   },
   "id": "e4ab2a7609997fbb"
  },
  {
   "cell_type": "code",
   "execution_count": 99,
   "outputs": [],
   "source": [
    "df = df_in[[\"event_with_roles\",\"request_method_call\",\"starting_frame_number\",\"selective_filter_data\",\"origin_selective_filter_data\", \"stream_index\", \"real_activity_action\",]]\n"
   ],
   "metadata": {
    "collapsed": false,
    "ExecuteTime": {
     "end_time": "2024-01-17T11:49:47.705705Z",
     "start_time": "2024-01-17T11:49:47.689881Z"
    }
   },
   "id": "8753a7a443082d1"
  },
  {
   "cell_type": "code",
   "execution_count": 101,
   "outputs": [
    {
     "data": {
      "text/plain": "                                       event_with_roles request_method_call  \\\n14    Odoo Application->End Point (HR Manager): [Htt...                1224   \n64    Odoo Application->End Point (HR Manager): [Htt...           faultCode   \n79    Odoo Application->End Point (HR Manager): [Htt...                1225   \n126   Odoo Application->End Point (HR Manager): [Htt...                   1   \n141   Odoo Application->End Point (HR Manager): [Htt...                1226   \n226   Odoo Application->End Point (HR Manager): [Htt...           faultCode   \n247   Odoo Application->End Point (HR Manager): [Htt...                   1   \n248   Odoo Application->End Point (HR Manager): [Htt...                1227   \n311   Odoo Application->End Point (HR Manager): [Htt...           faultCode   \n338   Odoo Application->End Point (HR Manager): [Htt...           faultCode   \n353   Odoo Application->End Point (HR Manager): [Htt...                1228   \n400   Odoo Application->End Point (HR Manager): [Htt...                   1   \n415   Odoo Application->End Point (HR Manager): [Htt...                1229   \n468   Odoo Application->End Point (HR Manager): [Htt...                   1   \n504   Odoo Application->End Point (HR Manager): [Htt...                   1   \n527   Odoo Application->End Point (HR Manager): [Htt...                1230   \n534   Odoo Application->End Point (HR Manager): [Htt...                7979   \n584   Odoo Application->End Point (HR Manager): [Htt...           faultCode   \n674   Odoo Application->End Point (HR Manager): [Htt...                   1   \n686   Odoo Application->End Point (HR Manager): [Htt...                1231   \n699   Odoo Application->End Point (HR Manager): [Htt...                   1   \n746   Odoo Application->End Point (HR Manager): [Htt...                   1   \n791   Odoo Application->End Point (HR Manager): [Htt...                1232   \n805   Odoo Application->End Point (HR Manager): [Htt...                7996   \n815   Odoo Application->End Point (Recruiting manage...           faultCode   \n883   Odoo Application->End Point (HR Manager): [Htt...                   1   \n915   Odoo Application->End Point (HR Manager): [Htt...                   1   \n970   Odoo Application->End Point (HR Manager): [Htt...                1233   \n977   Odoo Application->End Point (HR Manager): [Htt...                   1   \n1000  Odoo Application->End Point (HR Manager): [Htt...                8006   \n1007  Odoo Application->End Point (Recruiting manage...                8007   \n1049  Odoo Application->End Point (HR Manager): [Htt...                   1   \n1168  Odoo Application->End Point (HR Manager): [Htt...           faultCode   \n1224  Odoo Application->End Point (HR Manager): [Htt...                   1   \n1255  Odoo Application->End Point (HR Manager): [Htt...           faultCode   \n1257  Odoo Application->End Point (HR Manager): [Htt...           faultCode   \n1297  Odoo Application->End Point (Recruiting manage...           faultCode   \n\n      starting_frame_number selective_filter_data  \\\n14                    183.0              IsNumber   \n64                   1121.0             faultCode   \n79                   1378.0              IsNumber   \n126                  1747.0              IsNumber   \n141                  2522.0              IsNumber   \n226                  4379.0             faultCode   \n247                  3921.0              IsNumber   \n248                  4636.0              IsNumber   \n311                  6059.0             faultCode   \n338                  6786.0             faultCode   \n353                  7047.0              IsNumber   \n400                  7438.0              IsNumber   \n415                  8230.0              IsNumber   \n468                  8589.0              IsNumber   \n504                  9755.0              IsNumber   \n527                 10556.0              IsNumber   \n534                 10858.0              IsNumber   \n584                 11868.0             faultCode   \n674                 13055.0              IsNumber   \n686                 14067.0              IsNumber   \n699                 13724.0              IsNumber   \n746                 14757.0              IsNumber   \n791                 16313.0              IsNumber   \n805                 16831.0              IsNumber   \n815                 17162.0             faultCode   \n883                 17865.0              IsNumber   \n915                 19071.0              IsNumber   \n970                 20415.0              IsNumber   \n977                 19752.0              IsNumber   \n1000                20981.0              IsNumber   \n1007                21428.0              IsNumber   \n1049                22204.0              IsNumber   \n1168                24993.0             faultCode   \n1224                24797.0              IsNumber   \n1255                26974.0             faultCode   \n1257                27104.0             faultCode   \n1297                28312.0             faultCode   \n\n        origin_selective_filter_data  stream_index real_activity_action  \n14               hr.applicant_create            13         Activity End  \n64    hr.applicant_archive_applicant            25         Activity End  \n79               hr.applicant_create            34         Activity End  \n126    hr.applicant_write_stage_id_2            44         Activity End  \n141              hr.applicant_create            54         Activity End  \n226   hr.applicant_archive_applicant            89         Activity End  \n247    hr.applicant_write_stage_id_3            86         Activity End  \n248              hr.applicant_create            98         Activity End  \n311   hr.applicant_archive_applicant           123         Activity End  \n338   hr.applicant_archive_applicant           132         Activity End  \n353              hr.applicant_create           141         Activity End  \n400    hr.applicant_write_stage_id_2           154         Activity End  \n415              hr.applicant_create           166         Activity End  \n468    hr.applicant_write_stage_id_2           177         Activity End  \n504    hr.applicant_write_stage_id_3           197         Activity End  \n527              hr.applicant_create           215         Activity End  \n534        mail.activity_action_done           221         Activity End  \n584   hr.applicant_archive_applicant           235         Activity End  \n674    hr.applicant_write_stage_id_3           266         Activity End  \n686              hr.applicant_create           284         Activity End  \n699    hr.applicant_write_stage_id_6           280         Activity End  \n746    hr.applicant_write_stage_id_2           296         Activity End  \n791              hr.applicant_create           327         Activity End  \n805        mail.activity_action_done           334         Activity End  \n815   hr.applicant_archive_applicant           338         Activity End  \n883    hr.applicant_write_stage_id_3           360         Activity End  \n915    hr.applicant_write_stage_id_6           378         Activity End  \n970              hr.applicant_create           399         Activity End  \n977    hr.applicant_write_stage_id_2           389         Activity End  \n1000       mail.activity_action_done           413         Activity End  \n1007       mail.activity_action_done           422         Activity End  \n1049   hr.applicant_write_stage_id_3           442         Activity End  \n1168  hr.applicant_archive_applicant           490         Activity End  \n1224   hr.applicant_write_stage_id_6           488         Activity End  \n1255  hr.applicant_archive_applicant           515         Activity End  \n1257  hr.applicant_archive_applicant           517         Activity End  \n1297  hr.applicant_archive_applicant           538         Activity End  ",
      "text/html": "<div>\n<style scoped>\n    .dataframe tbody tr th:only-of-type {\n        vertical-align: middle;\n    }\n\n    .dataframe tbody tr th {\n        vertical-align: top;\n    }\n\n    .dataframe thead th {\n        text-align: right;\n    }\n</style>\n<table border=\"1\" class=\"dataframe\">\n  <thead>\n    <tr style=\"text-align: right;\">\n      <th></th>\n      <th>event_with_roles</th>\n      <th>request_method_call</th>\n      <th>starting_frame_number</th>\n      <th>selective_filter_data</th>\n      <th>origin_selective_filter_data</th>\n      <th>stream_index</th>\n      <th>real_activity_action</th>\n    </tr>\n  </thead>\n  <tbody>\n    <tr>\n      <th>14</th>\n      <td>Odoo Application-&gt;End Point (HR Manager): [Htt...</td>\n      <td>1224</td>\n      <td>183.0</td>\n      <td>IsNumber</td>\n      <td>hr.applicant_create</td>\n      <td>13</td>\n      <td>Activity End</td>\n    </tr>\n    <tr>\n      <th>64</th>\n      <td>Odoo Application-&gt;End Point (HR Manager): [Htt...</td>\n      <td>faultCode</td>\n      <td>1121.0</td>\n      <td>faultCode</td>\n      <td>hr.applicant_archive_applicant</td>\n      <td>25</td>\n      <td>Activity End</td>\n    </tr>\n    <tr>\n      <th>79</th>\n      <td>Odoo Application-&gt;End Point (HR Manager): [Htt...</td>\n      <td>1225</td>\n      <td>1378.0</td>\n      <td>IsNumber</td>\n      <td>hr.applicant_create</td>\n      <td>34</td>\n      <td>Activity End</td>\n    </tr>\n    <tr>\n      <th>126</th>\n      <td>Odoo Application-&gt;End Point (HR Manager): [Htt...</td>\n      <td>1</td>\n      <td>1747.0</td>\n      <td>IsNumber</td>\n      <td>hr.applicant_write_stage_id_2</td>\n      <td>44</td>\n      <td>Activity End</td>\n    </tr>\n    <tr>\n      <th>141</th>\n      <td>Odoo Application-&gt;End Point (HR Manager): [Htt...</td>\n      <td>1226</td>\n      <td>2522.0</td>\n      <td>IsNumber</td>\n      <td>hr.applicant_create</td>\n      <td>54</td>\n      <td>Activity End</td>\n    </tr>\n    <tr>\n      <th>226</th>\n      <td>Odoo Application-&gt;End Point (HR Manager): [Htt...</td>\n      <td>faultCode</td>\n      <td>4379.0</td>\n      <td>faultCode</td>\n      <td>hr.applicant_archive_applicant</td>\n      <td>89</td>\n      <td>Activity End</td>\n    </tr>\n    <tr>\n      <th>247</th>\n      <td>Odoo Application-&gt;End Point (HR Manager): [Htt...</td>\n      <td>1</td>\n      <td>3921.0</td>\n      <td>IsNumber</td>\n      <td>hr.applicant_write_stage_id_3</td>\n      <td>86</td>\n      <td>Activity End</td>\n    </tr>\n    <tr>\n      <th>248</th>\n      <td>Odoo Application-&gt;End Point (HR Manager): [Htt...</td>\n      <td>1227</td>\n      <td>4636.0</td>\n      <td>IsNumber</td>\n      <td>hr.applicant_create</td>\n      <td>98</td>\n      <td>Activity End</td>\n    </tr>\n    <tr>\n      <th>311</th>\n      <td>Odoo Application-&gt;End Point (HR Manager): [Htt...</td>\n      <td>faultCode</td>\n      <td>6059.0</td>\n      <td>faultCode</td>\n      <td>hr.applicant_archive_applicant</td>\n      <td>123</td>\n      <td>Activity End</td>\n    </tr>\n    <tr>\n      <th>338</th>\n      <td>Odoo Application-&gt;End Point (HR Manager): [Htt...</td>\n      <td>faultCode</td>\n      <td>6786.0</td>\n      <td>faultCode</td>\n      <td>hr.applicant_archive_applicant</td>\n      <td>132</td>\n      <td>Activity End</td>\n    </tr>\n    <tr>\n      <th>353</th>\n      <td>Odoo Application-&gt;End Point (HR Manager): [Htt...</td>\n      <td>1228</td>\n      <td>7047.0</td>\n      <td>IsNumber</td>\n      <td>hr.applicant_create</td>\n      <td>141</td>\n      <td>Activity End</td>\n    </tr>\n    <tr>\n      <th>400</th>\n      <td>Odoo Application-&gt;End Point (HR Manager): [Htt...</td>\n      <td>1</td>\n      <td>7438.0</td>\n      <td>IsNumber</td>\n      <td>hr.applicant_write_stage_id_2</td>\n      <td>154</td>\n      <td>Activity End</td>\n    </tr>\n    <tr>\n      <th>415</th>\n      <td>Odoo Application-&gt;End Point (HR Manager): [Htt...</td>\n      <td>1229</td>\n      <td>8230.0</td>\n      <td>IsNumber</td>\n      <td>hr.applicant_create</td>\n      <td>166</td>\n      <td>Activity End</td>\n    </tr>\n    <tr>\n      <th>468</th>\n      <td>Odoo Application-&gt;End Point (HR Manager): [Htt...</td>\n      <td>1</td>\n      <td>8589.0</td>\n      <td>IsNumber</td>\n      <td>hr.applicant_write_stage_id_2</td>\n      <td>177</td>\n      <td>Activity End</td>\n    </tr>\n    <tr>\n      <th>504</th>\n      <td>Odoo Application-&gt;End Point (HR Manager): [Htt...</td>\n      <td>1</td>\n      <td>9755.0</td>\n      <td>IsNumber</td>\n      <td>hr.applicant_write_stage_id_3</td>\n      <td>197</td>\n      <td>Activity End</td>\n    </tr>\n    <tr>\n      <th>527</th>\n      <td>Odoo Application-&gt;End Point (HR Manager): [Htt...</td>\n      <td>1230</td>\n      <td>10556.0</td>\n      <td>IsNumber</td>\n      <td>hr.applicant_create</td>\n      <td>215</td>\n      <td>Activity End</td>\n    </tr>\n    <tr>\n      <th>534</th>\n      <td>Odoo Application-&gt;End Point (HR Manager): [Htt...</td>\n      <td>7979</td>\n      <td>10858.0</td>\n      <td>IsNumber</td>\n      <td>mail.activity_action_done</td>\n      <td>221</td>\n      <td>Activity End</td>\n    </tr>\n    <tr>\n      <th>584</th>\n      <td>Odoo Application-&gt;End Point (HR Manager): [Htt...</td>\n      <td>faultCode</td>\n      <td>11868.0</td>\n      <td>faultCode</td>\n      <td>hr.applicant_archive_applicant</td>\n      <td>235</td>\n      <td>Activity End</td>\n    </tr>\n    <tr>\n      <th>674</th>\n      <td>Odoo Application-&gt;End Point (HR Manager): [Htt...</td>\n      <td>1</td>\n      <td>13055.0</td>\n      <td>IsNumber</td>\n      <td>hr.applicant_write_stage_id_3</td>\n      <td>266</td>\n      <td>Activity End</td>\n    </tr>\n    <tr>\n      <th>686</th>\n      <td>Odoo Application-&gt;End Point (HR Manager): [Htt...</td>\n      <td>1231</td>\n      <td>14067.0</td>\n      <td>IsNumber</td>\n      <td>hr.applicant_create</td>\n      <td>284</td>\n      <td>Activity End</td>\n    </tr>\n    <tr>\n      <th>699</th>\n      <td>Odoo Application-&gt;End Point (HR Manager): [Htt...</td>\n      <td>1</td>\n      <td>13724.0</td>\n      <td>IsNumber</td>\n      <td>hr.applicant_write_stage_id_6</td>\n      <td>280</td>\n      <td>Activity End</td>\n    </tr>\n    <tr>\n      <th>746</th>\n      <td>Odoo Application-&gt;End Point (HR Manager): [Htt...</td>\n      <td>1</td>\n      <td>14757.0</td>\n      <td>IsNumber</td>\n      <td>hr.applicant_write_stage_id_2</td>\n      <td>296</td>\n      <td>Activity End</td>\n    </tr>\n    <tr>\n      <th>791</th>\n      <td>Odoo Application-&gt;End Point (HR Manager): [Htt...</td>\n      <td>1232</td>\n      <td>16313.0</td>\n      <td>IsNumber</td>\n      <td>hr.applicant_create</td>\n      <td>327</td>\n      <td>Activity End</td>\n    </tr>\n    <tr>\n      <th>805</th>\n      <td>Odoo Application-&gt;End Point (HR Manager): [Htt...</td>\n      <td>7996</td>\n      <td>16831.0</td>\n      <td>IsNumber</td>\n      <td>mail.activity_action_done</td>\n      <td>334</td>\n      <td>Activity End</td>\n    </tr>\n    <tr>\n      <th>815</th>\n      <td>Odoo Application-&gt;End Point (Recruiting manage...</td>\n      <td>faultCode</td>\n      <td>17162.0</td>\n      <td>faultCode</td>\n      <td>hr.applicant_archive_applicant</td>\n      <td>338</td>\n      <td>Activity End</td>\n    </tr>\n    <tr>\n      <th>883</th>\n      <td>Odoo Application-&gt;End Point (HR Manager): [Htt...</td>\n      <td>1</td>\n      <td>17865.0</td>\n      <td>IsNumber</td>\n      <td>hr.applicant_write_stage_id_3</td>\n      <td>360</td>\n      <td>Activity End</td>\n    </tr>\n    <tr>\n      <th>915</th>\n      <td>Odoo Application-&gt;End Point (HR Manager): [Htt...</td>\n      <td>1</td>\n      <td>19071.0</td>\n      <td>IsNumber</td>\n      <td>hr.applicant_write_stage_id_6</td>\n      <td>378</td>\n      <td>Activity End</td>\n    </tr>\n    <tr>\n      <th>970</th>\n      <td>Odoo Application-&gt;End Point (HR Manager): [Htt...</td>\n      <td>1233</td>\n      <td>20415.0</td>\n      <td>IsNumber</td>\n      <td>hr.applicant_create</td>\n      <td>399</td>\n      <td>Activity End</td>\n    </tr>\n    <tr>\n      <th>977</th>\n      <td>Odoo Application-&gt;End Point (HR Manager): [Htt...</td>\n      <td>1</td>\n      <td>19752.0</td>\n      <td>IsNumber</td>\n      <td>hr.applicant_write_stage_id_2</td>\n      <td>389</td>\n      <td>Activity End</td>\n    </tr>\n    <tr>\n      <th>1000</th>\n      <td>Odoo Application-&gt;End Point (HR Manager): [Htt...</td>\n      <td>8006</td>\n      <td>20981.0</td>\n      <td>IsNumber</td>\n      <td>mail.activity_action_done</td>\n      <td>413</td>\n      <td>Activity End</td>\n    </tr>\n    <tr>\n      <th>1007</th>\n      <td>Odoo Application-&gt;End Point (Recruiting manage...</td>\n      <td>8007</td>\n      <td>21428.0</td>\n      <td>IsNumber</td>\n      <td>mail.activity_action_done</td>\n      <td>422</td>\n      <td>Activity End</td>\n    </tr>\n    <tr>\n      <th>1049</th>\n      <td>Odoo Application-&gt;End Point (HR Manager): [Htt...</td>\n      <td>1</td>\n      <td>22204.0</td>\n      <td>IsNumber</td>\n      <td>hr.applicant_write_stage_id_3</td>\n      <td>442</td>\n      <td>Activity End</td>\n    </tr>\n    <tr>\n      <th>1168</th>\n      <td>Odoo Application-&gt;End Point (HR Manager): [Htt...</td>\n      <td>faultCode</td>\n      <td>24993.0</td>\n      <td>faultCode</td>\n      <td>hr.applicant_archive_applicant</td>\n      <td>490</td>\n      <td>Activity End</td>\n    </tr>\n    <tr>\n      <th>1224</th>\n      <td>Odoo Application-&gt;End Point (HR Manager): [Htt...</td>\n      <td>1</td>\n      <td>24797.0</td>\n      <td>IsNumber</td>\n      <td>hr.applicant_write_stage_id_6</td>\n      <td>488</td>\n      <td>Activity End</td>\n    </tr>\n    <tr>\n      <th>1255</th>\n      <td>Odoo Application-&gt;End Point (HR Manager): [Htt...</td>\n      <td>faultCode</td>\n      <td>26974.0</td>\n      <td>faultCode</td>\n      <td>hr.applicant_archive_applicant</td>\n      <td>515</td>\n      <td>Activity End</td>\n    </tr>\n    <tr>\n      <th>1257</th>\n      <td>Odoo Application-&gt;End Point (HR Manager): [Htt...</td>\n      <td>faultCode</td>\n      <td>27104.0</td>\n      <td>faultCode</td>\n      <td>hr.applicant_archive_applicant</td>\n      <td>517</td>\n      <td>Activity End</td>\n    </tr>\n    <tr>\n      <th>1297</th>\n      <td>Odoo Application-&gt;End Point (Recruiting manage...</td>\n      <td>faultCode</td>\n      <td>28312.0</td>\n      <td>faultCode</td>\n      <td>hr.applicant_archive_applicant</td>\n      <td>538</td>\n      <td>Activity End</td>\n    </tr>\n  </tbody>\n</table>\n</div>"
     },
     "execution_count": 101,
     "metadata": {},
     "output_type": "execute_result"
    }
   ],
   "source": [
    "df[df[\"real_activity_action\"]==\"Activity End\"]"
   ],
   "metadata": {
    "collapsed": false,
    "ExecuteTime": {
     "end_time": "2024-01-17T11:50:07.798138Z",
     "start_time": "2024-01-17T11:50:07.748133Z"
    }
   },
   "id": "c23773706bc7e5d8"
  },
  {
   "cell_type": "code",
   "execution_count": 103,
   "outputs": [
    {
     "data": {
      "text/plain": "event_with_roles                                                                                                         resolved_activities                 \nOdoo Application->db Server/Mail Server: [PgsqlRequest:Simple query:UPDATE:['mail_message_res_partner_needaction_rel']]  ('ResumeReviewActivity',)               64\nOdoo Application->db Server/Mail Server: [PgsqlRequest:Simple query:UPDATE:['mail_message']]                             ('ResumeReviewActivity',)               62\nOdoo Application->db Server/Mail Server: [PgsqlRequest:Simple query:UPDATE:['hr_applicant']]                             ('ResumeReviewActivity',)               56\nOdoo Application->End Point (HR Manager): [HttpResponse:HTTP/1.0 200 OK\\r\\n]                                             ('GenerateJobApplicationActivity',)     51\nOdoo Application->db Server/Mail Server: [PgsqlRequest:Simple query:UPDATE:['ir_attachment']]                            ('ResumeReviewActivity',)               50\n                                                                                                                                                                 ..\nOdoo Application->db Server/Mail Server: [PgsqlRequest:Simple query:INSERT:['mail_message_res_partner_needaction_rel']]  ('PerformAnInterviewMeeting',)           1\n                                                                                                                         ('ScheduleAnInterviewActivityCall',)     1\nOdoo Application->db Server/Mail Server: [PgsqlRequest:Simple query:INSERT:['mail_compose_message']]                     ('ScheduleAnInterviewActivityCall',)     1\nOdoo Application->db Server/Mail Server: [PgsqlRequest:Simple query:INSERT:['mail_message_res_partner_rel']]             ('ScheduleAnInterviewActivityCall',)     1\n                                                                                                                         ('PerformAnInterviewMeeting',)           1\nName: count, Length: 101, dtype: int64"
     },
     "execution_count": 103,
     "metadata": {},
     "output_type": "execute_result"
    }
   ],
   "source": [
    "df_in[df_in[\"real_activity_action\"] == \"NoAction\"][[\"event_with_roles\",\"resolved_activities\"]].value_counts()"
   ],
   "metadata": {
    "collapsed": false,
    "ExecuteTime": {
     "end_time": "2024-01-17T13:30:52.161204Z",
     "start_time": "2024-01-17T13:30:52.132159Z"
    }
   },
   "id": "2ef0322d70e4151c"
  },
  {
   "cell_type": "markdown",
   "source": [
    "The end events do not differ between different activities. -> Different resolving needed "
   ],
   "metadata": {
    "collapsed": false
   },
   "id": "e402d81448c7db39"
  },
  {
   "cell_type": "code",
   "execution_count": 113,
   "outputs": [
    {
     "name": "stderr",
     "output_type": "stream",
     "text": [
      "/var/folders/qt/gt7q1tn978x_02pv47b2lrvm0000gn/T/ipykernel_66560/2140098044.py:1: SettingWithCopyWarning: \n",
      "A value is trying to be set on a copy of a slice from a DataFrame.\n",
      "Try using .loc[row_indexer,col_indexer] = value instead\n",
      "\n",
      "See the caveats in the documentation: https://pandas.pydata.org/pandas-docs/stable/user_guide/indexing.html#returning-a-view-versus-a-copy\n",
      "  df[\"ele_counts\"] = df.groupby(\"real_activity_action\").cumcount()+1\n",
      "/var/folders/qt/gt7q1tn978x_02pv47b2lrvm0000gn/T/ipykernel_66560/2140098044.py:2: SettingWithCopyWarning: \n",
      "A value is trying to be set on a copy of a slice from a DataFrame.\n",
      "Try using .loc[row_indexer,col_indexer] = value instead\n",
      "\n",
      "See the caveats in the documentation: https://pandas.pydata.org/pandas-docs/stable/user_guide/indexing.html#returning-a-view-versus-a-copy\n",
      "  df[\"start_counts\"] = df.apply(lambda row: row[\"ele_counts\"] if row[\"real_activity_action\"]== \"Activity Start\" else 0 , axis = 1).replace(0,None).ffill()\n",
      "/var/folders/qt/gt7q1tn978x_02pv47b2lrvm0000gn/T/ipykernel_66560/2140098044.py:3: SettingWithCopyWarning: \n",
      "A value is trying to be set on a copy of a slice from a DataFrame.\n",
      "Try using .loc[row_indexer,col_indexer] = value instead\n",
      "\n",
      "See the caveats in the documentation: https://pandas.pydata.org/pandas-docs/stable/user_guide/indexing.html#returning-a-view-versus-a-copy\n",
      "  df[\"end_counts\"] = df.apply(lambda row: row[\"ele_counts\"] if row[\"real_activity_action\"] == \"Activity End\" else 0 , axis = 1).replace(0,None).ffill().fillna(0).astype(int)\n",
      "/var/folders/qt/gt7q1tn978x_02pv47b2lrvm0000gn/T/ipykernel_66560/2140098044.py:4: SettingWithCopyWarning: \n",
      "A value is trying to be set on a copy of a slice from a DataFrame.\n",
      "Try using .loc[row_indexer,col_indexer] = value instead\n",
      "\n",
      "See the caveats in the documentation: https://pandas.pydata.org/pandas-docs/stable/user_guide/indexing.html#returning-a-view-versus-a-copy\n",
      "  df[\"open_activities\"] = df[\"start_counts\"] - df[\"end_counts\"]\n"
     ]
    }
   ],
   "source": [
    "df[\"ele_counts\"] = df.groupby(\"real_activity_action\").cumcount()+1\n",
    "df[\"start_counts\"] = df.apply(lambda row: row[\"ele_counts\"] if row[\"real_activity_action\"]== \"Activity Start\" else 0 , axis = 1).replace(0,None).ffill()\n",
    "df[\"end_counts\"] = df.apply(lambda row: row[\"ele_counts\"] if row[\"real_activity_action\"] == \"Activity End\" else 0 , axis = 1).replace(0,None).ffill().fillna(0).astype(int)\n",
    "df[\"open_activities\"] = df[\"start_counts\"] - df[\"end_counts\"]"
   ],
   "metadata": {
    "collapsed": false,
    "ExecuteTime": {
     "end_time": "2024-01-18T09:36:45.843616Z",
     "start_time": "2024-01-18T09:36:45.795579Z"
    }
   },
   "id": "70e6469adbbd31c8"
  },
  {
   "cell_type": "markdown",
   "source": [
    " Based on the amount of start / end events we can assign sequences directly.\n",
    " When a new event is registered we have the following options\n",
    "- Response package: Map it by packet it is referring to (via starting frame index) \n",
    "- Other packets: Check likelihood that is belongs to each currently open stacks.  (Based on clustering? ) "
   ],
   "metadata": {
    "collapsed": false
   },
   "id": "12d7bc1f308920ba"
  },
  {
   "cell_type": "markdown",
   "source": [
    "For each arriving packet do: \n",
    "\n",
    "1. Classify Activity Action\n",
    "2. Based on activity action do the following\n",
    "    - Activity Start\n",
    "    Open new Stack\n",
    "    - Activity End\n",
    "    Assign to a stack, *Close and emit the stack*\n",
    "    - No Action\n",
    "    Assign to a stack\n",
    "3. Assigning to stacks\n",
    "- Response packets have a starting frame number, where the request originated. We can assign to the same stack as the origin event\n",
    "- Each end event is a response. -> No need to assign end events \n",
    "\n",
    "**We are only left with assigning No Action events**\n",
    "- Most of the time we will have one sequence running for a bit. The other one fresh\n",
    "- Ideas: Check positioning of events in sequences\n",
    "- Classifier whether one event continues a sequence\n",
    "- Stream index? \n"
   ],
   "metadata": {
    "collapsed": false
   },
   "id": "4aea37836bf44865"
  },
  {
   "cell_type": "code",
   "execution_count": 114,
   "outputs": [
    {
     "data": {
      "text/plain": "                                       event_with_roles request_method_call  \\\n0     End Point (HR Manager)->Odoo Application: [Htt...             version   \n1     Odoo Application->End Point (HR Manager): [Htt...      server_version   \n2     End Point (HR Manager)->Odoo Application: [Htt...        authenticate   \n3     Odoo Application->db Server/Mail Server: [Pgsq...                 NaN   \n4     Odoo Application->End Point (HR Manager): [Htt...                   6   \n...                                                 ...                 ...   \n1293  Odoo Application->db Server/Mail Server: [Pgsq...                 NaN   \n1294  Odoo Application->End Point (Recruiting manage...                   1   \n1295  End Point (Recruiting manager)->Odoo Applicati...          execute_kw   \n1296  Odoo Application->db Server/Mail Server: [Pgsq...                 NaN   \n1297  Odoo Application->End Point (Recruiting manage...           faultCode   \n\n      starting_frame_number           selective_filter_data  \\\n0                       NaN                         version   \n1                      17.0                             NaN   \n2                       NaN                             NaN   \n3                       NaN                             NaN   \n4                      57.0                        IsNumber   \n...                     ...                             ...   \n1293                    NaN                             NaN   \n1294                27852.0                        IsNumber   \n1295                    NaN  hr.applicant_archive_applicant   \n1296                    NaN                             NaN   \n1297                28312.0                       faultCode   \n\n        origin_selective_filter_data  stream_index real_activity_action  \\\n0                                NaN             1       Activity Start   \n1                            version             1             NoAction   \n2                                NaN             5             NoAction   \n3                                NaN             8             NoAction   \n4                                NaN             5             NoAction   \n...                              ...           ...                  ...   \n1293                             NaN            12             NoAction   \n1294   hr.applicant_write_stage_id_8           535             NoAction   \n1295                             NaN           538             NoAction   \n1296                             NaN             8             NoAction   \n1297  hr.applicant_archive_applicant           538         Activity End   \n\n      ele_counts  start_counts  end_counts  open_activities  \n0              1             1           0                1  \n1              1             1           0                1  \n2              2             1           0                1  \n3              3             1           0                1  \n4              4             1           0                1  \n...          ...           ...         ...              ...  \n1293        1221            37          36                1  \n1294        1222            37          36                1  \n1295        1223            37          36                1  \n1296        1224            37          36                1  \n1297          37            37          37                0  \n\n[1298 rows x 11 columns]",
      "text/html": "<div>\n<style scoped>\n    .dataframe tbody tr th:only-of-type {\n        vertical-align: middle;\n    }\n\n    .dataframe tbody tr th {\n        vertical-align: top;\n    }\n\n    .dataframe thead th {\n        text-align: right;\n    }\n</style>\n<table border=\"1\" class=\"dataframe\">\n  <thead>\n    <tr style=\"text-align: right;\">\n      <th></th>\n      <th>event_with_roles</th>\n      <th>request_method_call</th>\n      <th>starting_frame_number</th>\n      <th>selective_filter_data</th>\n      <th>origin_selective_filter_data</th>\n      <th>stream_index</th>\n      <th>real_activity_action</th>\n      <th>ele_counts</th>\n      <th>start_counts</th>\n      <th>end_counts</th>\n      <th>open_activities</th>\n    </tr>\n  </thead>\n  <tbody>\n    <tr>\n      <th>0</th>\n      <td>End Point (HR Manager)-&gt;Odoo Application: [Htt...</td>\n      <td>version</td>\n      <td>NaN</td>\n      <td>version</td>\n      <td>NaN</td>\n      <td>1</td>\n      <td>Activity Start</td>\n      <td>1</td>\n      <td>1</td>\n      <td>0</td>\n      <td>1</td>\n    </tr>\n    <tr>\n      <th>1</th>\n      <td>Odoo Application-&gt;End Point (HR Manager): [Htt...</td>\n      <td>server_version</td>\n      <td>17.0</td>\n      <td>NaN</td>\n      <td>version</td>\n      <td>1</td>\n      <td>NoAction</td>\n      <td>1</td>\n      <td>1</td>\n      <td>0</td>\n      <td>1</td>\n    </tr>\n    <tr>\n      <th>2</th>\n      <td>End Point (HR Manager)-&gt;Odoo Application: [Htt...</td>\n      <td>authenticate</td>\n      <td>NaN</td>\n      <td>NaN</td>\n      <td>NaN</td>\n      <td>5</td>\n      <td>NoAction</td>\n      <td>2</td>\n      <td>1</td>\n      <td>0</td>\n      <td>1</td>\n    </tr>\n    <tr>\n      <th>3</th>\n      <td>Odoo Application-&gt;db Server/Mail Server: [Pgsq...</td>\n      <td>NaN</td>\n      <td>NaN</td>\n      <td>NaN</td>\n      <td>NaN</td>\n      <td>8</td>\n      <td>NoAction</td>\n      <td>3</td>\n      <td>1</td>\n      <td>0</td>\n      <td>1</td>\n    </tr>\n    <tr>\n      <th>4</th>\n      <td>Odoo Application-&gt;End Point (HR Manager): [Htt...</td>\n      <td>6</td>\n      <td>57.0</td>\n      <td>IsNumber</td>\n      <td>NaN</td>\n      <td>5</td>\n      <td>NoAction</td>\n      <td>4</td>\n      <td>1</td>\n      <td>0</td>\n      <td>1</td>\n    </tr>\n    <tr>\n      <th>...</th>\n      <td>...</td>\n      <td>...</td>\n      <td>...</td>\n      <td>...</td>\n      <td>...</td>\n      <td>...</td>\n      <td>...</td>\n      <td>...</td>\n      <td>...</td>\n      <td>...</td>\n      <td>...</td>\n    </tr>\n    <tr>\n      <th>1293</th>\n      <td>Odoo Application-&gt;db Server/Mail Server: [Pgsq...</td>\n      <td>NaN</td>\n      <td>NaN</td>\n      <td>NaN</td>\n      <td>NaN</td>\n      <td>12</td>\n      <td>NoAction</td>\n      <td>1221</td>\n      <td>37</td>\n      <td>36</td>\n      <td>1</td>\n    </tr>\n    <tr>\n      <th>1294</th>\n      <td>Odoo Application-&gt;End Point (Recruiting manage...</td>\n      <td>1</td>\n      <td>27852.0</td>\n      <td>IsNumber</td>\n      <td>hr.applicant_write_stage_id_8</td>\n      <td>535</td>\n      <td>NoAction</td>\n      <td>1222</td>\n      <td>37</td>\n      <td>36</td>\n      <td>1</td>\n    </tr>\n    <tr>\n      <th>1295</th>\n      <td>End Point (Recruiting manager)-&gt;Odoo Applicati...</td>\n      <td>execute_kw</td>\n      <td>NaN</td>\n      <td>hr.applicant_archive_applicant</td>\n      <td>NaN</td>\n      <td>538</td>\n      <td>NoAction</td>\n      <td>1223</td>\n      <td>37</td>\n      <td>36</td>\n      <td>1</td>\n    </tr>\n    <tr>\n      <th>1296</th>\n      <td>Odoo Application-&gt;db Server/Mail Server: [Pgsq...</td>\n      <td>NaN</td>\n      <td>NaN</td>\n      <td>NaN</td>\n      <td>NaN</td>\n      <td>8</td>\n      <td>NoAction</td>\n      <td>1224</td>\n      <td>37</td>\n      <td>36</td>\n      <td>1</td>\n    </tr>\n    <tr>\n      <th>1297</th>\n      <td>Odoo Application-&gt;End Point (Recruiting manage...</td>\n      <td>faultCode</td>\n      <td>28312.0</td>\n      <td>faultCode</td>\n      <td>hr.applicant_archive_applicant</td>\n      <td>538</td>\n      <td>Activity End</td>\n      <td>37</td>\n      <td>37</td>\n      <td>37</td>\n      <td>0</td>\n    </tr>\n  </tbody>\n</table>\n<p>1298 rows × 11 columns</p>\n</div>"
     },
     "execution_count": 114,
     "metadata": {},
     "output_type": "execute_result"
    }
   ],
   "source": [
    "df"
   ],
   "metadata": {
    "collapsed": false,
    "ExecuteTime": {
     "end_time": "2024-01-18T09:36:50.487548Z",
     "start_time": "2024-01-18T09:36:50.436939Z"
    }
   },
   "id": "fd3a880bb50be173"
  },
  {
   "cell_type": "code",
   "execution_count": 115,
   "outputs": [],
   "source": [
    "# Stream Index Approach"
   ],
   "metadata": {
    "collapsed": false,
    "ExecuteTime": {
     "end_time": "2024-01-18T09:36:56.758407Z",
     "start_time": "2024-01-18T09:36:56.399759Z"
    }
   },
   "id": "809dada94a41b16c"
  },
  {
   "cell_type": "code",
   "execution_count": 116,
   "outputs": [],
   "source": [
    "class_test = df.iloc[142:248]"
   ],
   "metadata": {
    "collapsed": false,
    "ExecuteTime": {
     "end_time": "2024-01-18T09:36:57.627351Z",
     "start_time": "2024-01-18T09:36:57.607535Z"
    }
   },
   "id": "ec27059e89a5544c"
  },
  {
   "cell_type": "code",
   "execution_count": 110,
   "outputs": [],
   "source": [
    "class_test.to_csv(\"../../data_v3/classtest.csv\")"
   ],
   "metadata": {
    "collapsed": false,
    "ExecuteTime": {
     "end_time": "2024-01-17T14:58:55.027867Z",
     "start_time": "2024-01-17T14:58:54.993656Z"
    }
   },
   "id": "6bcfc4a799415f06"
  },
  {
   "cell_type": "code",
   "execution_count": null,
   "outputs": [],
   "source": [],
   "metadata": {
    "collapsed": false
   },
   "id": "8bbf9e9ca9b69291"
  }
 ],
 "metadata": {
  "kernelspec": {
   "display_name": "Python 3",
   "language": "python",
   "name": "python3"
  },
  "language_info": {
   "codemirror_mode": {
    "name": "ipython",
    "version": 2
   },
   "file_extension": ".py",
   "mimetype": "text/x-python",
   "name": "python",
   "nbconvert_exporter": "python",
   "pygments_lexer": "ipython2",
   "version": "2.7.6"
  }
 },
 "nbformat": 4,
 "nbformat_minor": 5
}
